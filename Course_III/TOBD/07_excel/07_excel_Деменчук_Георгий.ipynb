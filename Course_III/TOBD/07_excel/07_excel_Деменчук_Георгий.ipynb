{
 "cells": [
  {
   "cell_type": "markdown",
   "metadata": {},
   "source": [
    "# Работа с Excel"
   ]
  },
  {
   "cell_type": "code",
   "execution_count": 1,
   "metadata": {},
   "outputs": [
    {
     "name": "stdout",
     "output_type": "stream",
     "text": [
      "3.9.7\n"
     ]
    }
   ],
   "source": [
    "from platform import python_version\n",
    "print(python_version())"
   ]
  },
  {
   "cell_type": "markdown",
   "metadata": {},
   "source": [
    "https://github.com/executablebooks/jupyter-book/issues/1504"
   ]
  },
  {
   "cell_type": "markdown",
   "metadata": {},
   "source": [
    "Материалы:\n",
    "* Макрушин С.В. Лекция 7: Работа с Excel\n",
    "* https://docs.xlwings.org/en/stable/quickstart.html\n",
    "* https://nbviewer.jupyter.org/github/pybokeh/jupyter_notebooks/blob/master/xlwings/Excel_Formatting.ipynb#search_text\n"
   ]
  },
  {
   "cell_type": "markdown",
   "metadata": {},
   "source": [
    "## Задачи для совместного разбора"
   ]
  },
  {
   "cell_type": "code",
   "execution_count": 2,
   "metadata": {},
   "outputs": [],
   "source": [
    "import xlwings as xw\n",
    "import numpy as np"
   ]
  },
  {
   "cell_type": "code",
   "execution_count": 3,
   "metadata": {},
   "outputs": [
    {
     "data": {
      "text/plain": [
       "'0.24.9'"
      ]
     },
     "execution_count": 3,
     "metadata": {},
     "output_type": "execute_result"
    }
   ],
   "source": [
    "xw.__version__"
   ]
  },
  {
   "cell_type": "markdown",
   "metadata": {},
   "source": [
    "1. На листе \"Рецептура\" файла `себестоимостьА_в1.xlsx` для области \"Пшеничный хлеб\" рассчитать себестоимость всех видов продукции."
   ]
  },
  {
   "cell_type": "code",
   "execution_count": 4,
   "metadata": {},
   "outputs": [],
   "source": [
    "wb1 = xw.Book(\"./data/себестоимостьА_в1.xlsx\")"
   ]
  },
  {
   "cell_type": "code",
   "execution_count": 5,
   "metadata": {},
   "outputs": [],
   "source": [
    "sheet = wb1.sheets[\"Рецептура\"]"
   ]
  },
  {
   "cell_type": "code",
   "execution_count": 6,
   "metadata": {},
   "outputs": [
    {
     "data": {
      "text/plain": [
       "array([[0.2  , 0.4  , 0.02 , 0.02 , 0.01 , 0.005, 0.1  ,   nan,   nan],\n",
       "       [0.07 , 0.25 , 0.01 , 0.06 , 0.015,   nan, 0.06 , 0.05 ,   nan],\n",
       "       [0.12 , 0.22 , 0.005,   nan, 0.009, 0.005,   nan, 0.05 , 0.03 ],\n",
       "       [0.12 , 0.23 , 0.01 ,   nan, 0.015,   nan,   nan,   nan, 0.05 ]])"
      ]
     },
     "execution_count": 6,
     "metadata": {},
     "output_type": "execute_result"
    }
   ],
   "source": [
    "consumption = sheet.range(\"G7:O10\").options(np.array).value\n",
    "consumption"
   ]
  },
  {
   "cell_type": "code",
   "execution_count": 7,
   "metadata": {},
   "outputs": [
    {
     "data": {
      "text/plain": [
       "array([  7.,  10., 184.,  19.,   7., 290., 105.,  83., 260.])"
      ]
     },
     "execution_count": 7,
     "metadata": {},
     "output_type": "execute_result"
    }
   ],
   "source": [
    "unit_price = sheet.range(\"G14:O14\").options(np.array).value\n",
    "unit_price"
   ]
  },
  {
   "cell_type": "code",
   "execution_count": 8,
   "metadata": {},
   "outputs": [
    {
     "data": {
      "text/plain": [
       "array([21.48 , 16.525, 17.423, 18.085])"
      ]
     },
     "execution_count": 8,
     "metadata": {},
     "output_type": "execute_result"
    }
   ],
   "source": [
    "cost_price = np.nan_to_num(consumption * unit_price).sum(axis=1)\n",
    "cost_price"
   ]
  },
  {
   "cell_type": "markdown",
   "metadata": {},
   "source": [
    "2. Результаты расчетов 1.1 сохранить в отдельном столбце области \"Пшеничный хлеб\""
   ]
  },
  {
   "cell_type": "code",
   "execution_count": 9,
   "metadata": {},
   "outputs": [],
   "source": [
    "sheet.range(\"T7:T10\").options(transpose=True).value = cost_price\n",
    "sheet.range(\"T6\").value = \"Себестоимость\""
   ]
  },
  {
   "cell_type": "markdown",
   "metadata": {},
   "source": [
    "3. Приблизить форматирование столбца, добавленного в задаче 2 к оформлению всей области."
   ]
  },
  {
   "cell_type": "code",
   "execution_count": 10,
   "metadata": {},
   "outputs": [],
   "source": [
    "sheet.range(\"T4:T6\").api.merge()\n",
    "sheet.range(\"T4:T6\").color = (255,255,0)"
   ]
  },
  {
   "cell_type": "markdown",
   "metadata": {},
   "source": [
    "4. Выполнить 3 с помощью \"протягиваемых\" формул."
   ]
  },
  {
   "cell_type": "code",
   "execution_count": 11,
   "metadata": {},
   "outputs": [],
   "source": [
    "from xlwings.constants import AutoFillType"
   ]
  },
  {
   "cell_type": "code",
   "execution_count": 12,
   "metadata": {},
   "outputs": [],
   "source": [
    "sheet.range(\"U7\").formula = \"=SUMPRODUCT(G7:O7, $G$14:$O$14)\"\n",
    "sheet.range(\"U7\").api.autofill(destination=sheet.range(\"U7:U10\").api , type=AutoFillType.xlFillDefault)"
   ]
  },
  {
   "cell_type": "markdown",
   "metadata": {},
   "source": [
    "## Лабораторная работа 7"
   ]
  },
  {
   "cell_type": "markdown",
   "metadata": {},
   "source": [
    "1. Загрузите данные из файлов `reviews_sample.csv` (__ЛР2__) и `recipes_sample_with_tags_ingredients.csv` (__ЛР5__) в виде `pd.DataFrame`. Обратите внимание на корректное считывание столбца(ов) с индексами. Оставьте в таблице с рецептами следующие столбцы: `id`, `name`, `minutes`, `submitted`, `description`, `n_ingredients`"
   ]
  },
  {
   "cell_type": "code",
   "execution_count": 13,
   "metadata": {},
   "outputs": [],
   "source": [
    "import pandas as pd"
   ]
  },
  {
   "cell_type": "code",
   "execution_count": 14,
   "metadata": {},
   "outputs": [
    {
     "data": {
      "text/html": [
       "<div>\n",
       "<style scoped>\n",
       "    .dataframe tbody tr th:only-of-type {\n",
       "        vertical-align: middle;\n",
       "    }\n",
       "\n",
       "    .dataframe tbody tr th {\n",
       "        vertical-align: top;\n",
       "    }\n",
       "\n",
       "    .dataframe thead th {\n",
       "        text-align: right;\n",
       "    }\n",
       "</style>\n",
       "<table border=\"1\" class=\"dataframe\">\n",
       "  <thead>\n",
       "    <tr style=\"text-align: right;\">\n",
       "      <th></th>\n",
       "      <th>user_id</th>\n",
       "      <th>recipe_id</th>\n",
       "      <th>date</th>\n",
       "      <th>rating</th>\n",
       "      <th>review</th>\n",
       "    </tr>\n",
       "    <tr>\n",
       "      <th>index</th>\n",
       "      <th></th>\n",
       "      <th></th>\n",
       "      <th></th>\n",
       "      <th></th>\n",
       "      <th></th>\n",
       "    </tr>\n",
       "  </thead>\n",
       "  <tbody>\n",
       "    <tr>\n",
       "      <th>370476</th>\n",
       "      <td>21752</td>\n",
       "      <td>57993</td>\n",
       "      <td>2003-05-01</td>\n",
       "      <td>5</td>\n",
       "      <td>Last week whole sides of frozen salmon fillet ...</td>\n",
       "    </tr>\n",
       "    <tr>\n",
       "      <th>624300</th>\n",
       "      <td>431813</td>\n",
       "      <td>142201</td>\n",
       "      <td>2007-09-16</td>\n",
       "      <td>5</td>\n",
       "      <td>So simple and so tasty!  I used a yellow capsi...</td>\n",
       "    </tr>\n",
       "    <tr>\n",
       "      <th>187037</th>\n",
       "      <td>400708</td>\n",
       "      <td>252013</td>\n",
       "      <td>2008-01-10</td>\n",
       "      <td>4</td>\n",
       "      <td>Very nice breakfast HH, easy to make and yummy...</td>\n",
       "    </tr>\n",
       "    <tr>\n",
       "      <th>706134</th>\n",
       "      <td>2001852463</td>\n",
       "      <td>404716</td>\n",
       "      <td>2017-12-11</td>\n",
       "      <td>5</td>\n",
       "      <td>These are a favorite for the holidays and so e...</td>\n",
       "    </tr>\n",
       "    <tr>\n",
       "      <th>312179</th>\n",
       "      <td>95810</td>\n",
       "      <td>129396</td>\n",
       "      <td>2008-03-14</td>\n",
       "      <td>5</td>\n",
       "      <td>Excellent soup!  The tomato flavor is just gre...</td>\n",
       "    </tr>\n",
       "    <tr>\n",
       "      <th>...</th>\n",
       "      <td>...</td>\n",
       "      <td>...</td>\n",
       "      <td>...</td>\n",
       "      <td>...</td>\n",
       "      <td>...</td>\n",
       "    </tr>\n",
       "    <tr>\n",
       "      <th>1013457</th>\n",
       "      <td>1270706</td>\n",
       "      <td>335534</td>\n",
       "      <td>2009-05-17</td>\n",
       "      <td>4</td>\n",
       "      <td>This recipe was great! I made it last night. I...</td>\n",
       "    </tr>\n",
       "    <tr>\n",
       "      <th>158736</th>\n",
       "      <td>2282344</td>\n",
       "      <td>8701</td>\n",
       "      <td>2012-06-03</td>\n",
       "      <td>0</td>\n",
       "      <td>This recipe is outstanding. I followed the rec...</td>\n",
       "    </tr>\n",
       "    <tr>\n",
       "      <th>1059834</th>\n",
       "      <td>689540</td>\n",
       "      <td>222001</td>\n",
       "      <td>2008-04-08</td>\n",
       "      <td>5</td>\n",
       "      <td>Well, we were not a crowd but it was a fabulou...</td>\n",
       "    </tr>\n",
       "    <tr>\n",
       "      <th>453285</th>\n",
       "      <td>2000242659</td>\n",
       "      <td>354979</td>\n",
       "      <td>2015-06-02</td>\n",
       "      <td>5</td>\n",
       "      <td>I have been a steak eater and dedicated BBQ gr...</td>\n",
       "    </tr>\n",
       "    <tr>\n",
       "      <th>691207</th>\n",
       "      <td>463435</td>\n",
       "      <td>415599</td>\n",
       "      <td>2010-09-30</td>\n",
       "      <td>5</td>\n",
       "      <td>Wonderful and simple to prepare seasoning blen...</td>\n",
       "    </tr>\n",
       "  </tbody>\n",
       "</table>\n",
       "<p>126696 rows × 5 columns</p>\n",
       "</div>"
      ],
      "text/plain": [
       "            user_id  recipe_id       date  rating  \\\n",
       "index                                               \n",
       "370476        21752      57993 2003-05-01       5   \n",
       "624300       431813     142201 2007-09-16       5   \n",
       "187037       400708     252013 2008-01-10       4   \n",
       "706134   2001852463     404716 2017-12-11       5   \n",
       "312179        95810     129396 2008-03-14       5   \n",
       "...             ...        ...        ...     ...   \n",
       "1013457     1270706     335534 2009-05-17       4   \n",
       "158736      2282344       8701 2012-06-03       0   \n",
       "1059834      689540     222001 2008-04-08       5   \n",
       "453285   2000242659     354979 2015-06-02       5   \n",
       "691207       463435     415599 2010-09-30       5   \n",
       "\n",
       "                                                    review  \n",
       "index                                                       \n",
       "370476   Last week whole sides of frozen salmon fillet ...  \n",
       "624300   So simple and so tasty!  I used a yellow capsi...  \n",
       "187037   Very nice breakfast HH, easy to make and yummy...  \n",
       "706134   These are a favorite for the holidays and so e...  \n",
       "312179   Excellent soup!  The tomato flavor is just gre...  \n",
       "...                                                    ...  \n",
       "1013457  This recipe was great! I made it last night. I...  \n",
       "158736   This recipe is outstanding. I followed the rec...  \n",
       "1059834  Well, we were not a crowd but it was a fabulou...  \n",
       "453285   I have been a steak eater and dedicated BBQ gr...  \n",
       "691207   Wonderful and simple to prepare seasoning blen...  \n",
       "\n",
       "[126696 rows x 5 columns]"
      ]
     },
     "execution_count": 14,
     "metadata": {},
     "output_type": "execute_result"
    }
   ],
   "source": [
    "reviews_sample = pd.read_csv(\"./data/reviews_sample.csv\", sep=\",\", parse_dates=['date'])\n",
    "reviews_sample = reviews_sample.rename(columns={\"Unnamed: 0\": \"index\"})\n",
    "reviews_sample = reviews_sample.set_index(\"index\")\n",
    "reviews_sample"
   ]
  },
  {
   "cell_type": "code",
   "execution_count": 15,
   "metadata": {
    "scrolled": true
   },
   "outputs": [
    {
     "data": {
      "text/html": [
       "<div>\n",
       "<style scoped>\n",
       "    .dataframe tbody tr th:only-of-type {\n",
       "        vertical-align: middle;\n",
       "    }\n",
       "\n",
       "    .dataframe tbody tr th {\n",
       "        vertical-align: top;\n",
       "    }\n",
       "\n",
       "    .dataframe thead th {\n",
       "        text-align: right;\n",
       "    }\n",
       "</style>\n",
       "<table border=\"1\" class=\"dataframe\">\n",
       "  <thead>\n",
       "    <tr style=\"text-align: right;\">\n",
       "      <th></th>\n",
       "      <th>id</th>\n",
       "      <th>name</th>\n",
       "      <th>minutes</th>\n",
       "      <th>contributor_id</th>\n",
       "      <th>submitted</th>\n",
       "      <th>n_steps</th>\n",
       "      <th>description</th>\n",
       "      <th>n_ingredients</th>\n",
       "      <th>n_tags</th>\n",
       "      <th>tags</th>\n",
       "      <th>ingredients</th>\n",
       "    </tr>\n",
       "    <tr>\n",
       "      <th>index</th>\n",
       "      <th></th>\n",
       "      <th></th>\n",
       "      <th></th>\n",
       "      <th></th>\n",
       "      <th></th>\n",
       "      <th></th>\n",
       "      <th></th>\n",
       "      <th></th>\n",
       "      <th></th>\n",
       "      <th></th>\n",
       "      <th></th>\n",
       "    </tr>\n",
       "  </thead>\n",
       "  <tbody>\n",
       "    <tr>\n",
       "      <th>0</th>\n",
       "      <td>44123</td>\n",
       "      <td>george s at the cove  black bean soup</td>\n",
       "      <td>90</td>\n",
       "      <td>35193</td>\n",
       "      <td>2002-10-25</td>\n",
       "      <td>11</td>\n",
       "      <td>an original recipe created by chef scott meska...</td>\n",
       "      <td>18</td>\n",
       "      <td>25</td>\n",
       "      <td>weeknight;time-to-make;course;main-ingredient;...</td>\n",
       "      <td>unsalted butter*carrot*onion*celery*broccoli s...</td>\n",
       "    </tr>\n",
       "    <tr>\n",
       "      <th>1</th>\n",
       "      <td>67664</td>\n",
       "      <td>healthy for them  yogurt popsicles</td>\n",
       "      <td>10</td>\n",
       "      <td>91970</td>\n",
       "      <td>2003-07-26</td>\n",
       "      <td>3</td>\n",
       "      <td>my children and their friends ask for my homem...</td>\n",
       "      <td>3</td>\n",
       "      <td>31</td>\n",
       "      <td>15-minutes-or-less;time-to-make;course;prepara...</td>\n",
       "      <td>milk*frozen juice concentrate*plain yogurt</td>\n",
       "    </tr>\n",
       "    <tr>\n",
       "      <th>2</th>\n",
       "      <td>38798</td>\n",
       "      <td>i can t believe it s spinach</td>\n",
       "      <td>30</td>\n",
       "      <td>1533</td>\n",
       "      <td>2002-08-29</td>\n",
       "      <td>5</td>\n",
       "      <td>these were so go, it surprised even me.</td>\n",
       "      <td>8</td>\n",
       "      <td>17</td>\n",
       "      <td>30-minutes-or-less;time-to-make;course;main-in...</td>\n",
       "      <td>onion*frozen chopped spinach*eggs*garlic powde...</td>\n",
       "    </tr>\n",
       "    <tr>\n",
       "      <th>3</th>\n",
       "      <td>35173</td>\n",
       "      <td>italian  gut busters</td>\n",
       "      <td>45</td>\n",
       "      <td>22724</td>\n",
       "      <td>2002-07-27</td>\n",
       "      <td>7</td>\n",
       "      <td>my sister-in-law made these for us at a family...</td>\n",
       "      <td>9</td>\n",
       "      <td>11</td>\n",
       "      <td>60-minutes-or-less;time-to-make;course;prepara...</td>\n",
       "      <td>sandwich bun*good seasonings italian salad dre...</td>\n",
       "    </tr>\n",
       "    <tr>\n",
       "      <th>4</th>\n",
       "      <td>84797</td>\n",
       "      <td>love is in the air  beef fondue   sauces</td>\n",
       "      <td>25</td>\n",
       "      <td>4470</td>\n",
       "      <td>2004-02-23</td>\n",
       "      <td>4</td>\n",
       "      <td>i think a fondue is a very romantic casual din...</td>\n",
       "      <td>12</td>\n",
       "      <td>19</td>\n",
       "      <td>30-minutes-or-less;time-to-make;course;main-in...</td>\n",
       "      <td>beef steaks*vegetable oil*spicy mustard*fresh ...</td>\n",
       "    </tr>\n",
       "    <tr>\n",
       "      <th>...</th>\n",
       "      <td>...</td>\n",
       "      <td>...</td>\n",
       "      <td>...</td>\n",
       "      <td>...</td>\n",
       "      <td>...</td>\n",
       "      <td>...</td>\n",
       "      <td>...</td>\n",
       "      <td>...</td>\n",
       "      <td>...</td>\n",
       "      <td>...</td>\n",
       "      <td>...</td>\n",
       "    </tr>\n",
       "    <tr>\n",
       "      <th>29995</th>\n",
       "      <td>267661</td>\n",
       "      <td>zurie s holey rustic olive and cheddar bread</td>\n",
       "      <td>80</td>\n",
       "      <td>200862</td>\n",
       "      <td>2007-11-25</td>\n",
       "      <td>16</td>\n",
       "      <td>this is based on a french recipe but i changed...</td>\n",
       "      <td>10</td>\n",
       "      <td>18</td>\n",
       "      <td>time-to-make;course;main-ingredient;cuisine;pr...</td>\n",
       "      <td>dry white wine*eggs*cheddar cheese*baking powd...</td>\n",
       "    </tr>\n",
       "    <tr>\n",
       "      <th>29996</th>\n",
       "      <td>386977</td>\n",
       "      <td>zwetschgenkuchen  bavarian plum cake</td>\n",
       "      <td>240</td>\n",
       "      <td>177443</td>\n",
       "      <td>2009-08-24</td>\n",
       "      <td>22</td>\n",
       "      <td>this is a traditional fresh plum cake, thought...</td>\n",
       "      <td>11</td>\n",
       "      <td>19</td>\n",
       "      <td>time-to-make;course;main-ingredient;cuisine;pr...</td>\n",
       "      <td>unsalted butter*milk*flour*salt*vanilla*all-pu...</td>\n",
       "    </tr>\n",
       "    <tr>\n",
       "      <th>29997</th>\n",
       "      <td>103312</td>\n",
       "      <td>zwiebelkuchen   southwest german onion cake</td>\n",
       "      <td>75</td>\n",
       "      <td>161745</td>\n",
       "      <td>2004-11-03</td>\n",
       "      <td>10</td>\n",
       "      <td>this is a traditional late summer early fall s...</td>\n",
       "      <td>13</td>\n",
       "      <td>20</td>\n",
       "      <td>time-to-make;course;main-ingredient;cuisine;pr...</td>\n",
       "      <td>onion*milk*eggs*butter*flour*salt*pepper*sugar...</td>\n",
       "    </tr>\n",
       "    <tr>\n",
       "      <th>29998</th>\n",
       "      <td>486161</td>\n",
       "      <td>zydeco soup</td>\n",
       "      <td>60</td>\n",
       "      <td>227978</td>\n",
       "      <td>2012-08-29</td>\n",
       "      <td>7</td>\n",
       "      <td>this is a delicious soup that i originally fou...</td>\n",
       "      <td>22</td>\n",
       "      <td>20</td>\n",
       "      <td>ham;60-minutes-or-less;time-to-make;course;mai...</td>\n",
       "      <td>onion*celery*dried thyme*dried oregano*fresh p...</td>\n",
       "    </tr>\n",
       "    <tr>\n",
       "      <th>29999</th>\n",
       "      <td>298512</td>\n",
       "      <td>cookies by design   cookies on a stick</td>\n",
       "      <td>29</td>\n",
       "      <td>506822</td>\n",
       "      <td>2008-04-15</td>\n",
       "      <td>9</td>\n",
       "      <td>i've heard of the 'cookies by design' company,...</td>\n",
       "      <td>10</td>\n",
       "      <td>12</td>\n",
       "      <td>30-minutes-or-less;time-to-make;course;prepara...</td>\n",
       "      <td>butter*sour cream*egg*bisquick*light brown sug...</td>\n",
       "    </tr>\n",
       "  </tbody>\n",
       "</table>\n",
       "<p>30000 rows × 11 columns</p>\n",
       "</div>"
      ],
      "text/plain": [
       "           id                                          name  minutes  \\\n",
       "index                                                                  \n",
       "0       44123         george s at the cove  black bean soup       90   \n",
       "1       67664            healthy for them  yogurt popsicles       10   \n",
       "2       38798                  i can t believe it s spinach       30   \n",
       "3       35173                          italian  gut busters       45   \n",
       "4       84797      love is in the air  beef fondue   sauces       25   \n",
       "...       ...                                           ...      ...   \n",
       "29995  267661  zurie s holey rustic olive and cheddar bread       80   \n",
       "29996  386977          zwetschgenkuchen  bavarian plum cake      240   \n",
       "29997  103312   zwiebelkuchen   southwest german onion cake       75   \n",
       "29998  486161                                   zydeco soup       60   \n",
       "29999  298512        cookies by design   cookies on a stick       29   \n",
       "\n",
       "       contributor_id  submitted  n_steps  \\\n",
       "index                                       \n",
       "0               35193 2002-10-25       11   \n",
       "1               91970 2003-07-26        3   \n",
       "2                1533 2002-08-29        5   \n",
       "3               22724 2002-07-27        7   \n",
       "4                4470 2004-02-23        4   \n",
       "...               ...        ...      ...   \n",
       "29995          200862 2007-11-25       16   \n",
       "29996          177443 2009-08-24       22   \n",
       "29997          161745 2004-11-03       10   \n",
       "29998          227978 2012-08-29        7   \n",
       "29999          506822 2008-04-15        9   \n",
       "\n",
       "                                             description  n_ingredients  \\\n",
       "index                                                                     \n",
       "0      an original recipe created by chef scott meska...             18   \n",
       "1      my children and their friends ask for my homem...              3   \n",
       "2                these were so go, it surprised even me.              8   \n",
       "3      my sister-in-law made these for us at a family...              9   \n",
       "4      i think a fondue is a very romantic casual din...             12   \n",
       "...                                                  ...            ...   \n",
       "29995  this is based on a french recipe but i changed...             10   \n",
       "29996  this is a traditional fresh plum cake, thought...             11   \n",
       "29997  this is a traditional late summer early fall s...             13   \n",
       "29998  this is a delicious soup that i originally fou...             22   \n",
       "29999  i've heard of the 'cookies by design' company,...             10   \n",
       "\n",
       "       n_tags                                               tags  \\\n",
       "index                                                              \n",
       "0          25  weeknight;time-to-make;course;main-ingredient;...   \n",
       "1          31  15-minutes-or-less;time-to-make;course;prepara...   \n",
       "2          17  30-minutes-or-less;time-to-make;course;main-in...   \n",
       "3          11  60-minutes-or-less;time-to-make;course;prepara...   \n",
       "4          19  30-minutes-or-less;time-to-make;course;main-in...   \n",
       "...       ...                                                ...   \n",
       "29995      18  time-to-make;course;main-ingredient;cuisine;pr...   \n",
       "29996      19  time-to-make;course;main-ingredient;cuisine;pr...   \n",
       "29997      20  time-to-make;course;main-ingredient;cuisine;pr...   \n",
       "29998      20  ham;60-minutes-or-less;time-to-make;course;mai...   \n",
       "29999      12  30-minutes-or-less;time-to-make;course;prepara...   \n",
       "\n",
       "                                             ingredients  \n",
       "index                                                     \n",
       "0      unsalted butter*carrot*onion*celery*broccoli s...  \n",
       "1             milk*frozen juice concentrate*plain yogurt  \n",
       "2      onion*frozen chopped spinach*eggs*garlic powde...  \n",
       "3      sandwich bun*good seasonings italian salad dre...  \n",
       "4      beef steaks*vegetable oil*spicy mustard*fresh ...  \n",
       "...                                                  ...  \n",
       "29995  dry white wine*eggs*cheddar cheese*baking powd...  \n",
       "29996  unsalted butter*milk*flour*salt*vanilla*all-pu...  \n",
       "29997  onion*milk*eggs*butter*flour*salt*pepper*sugar...  \n",
       "29998  onion*celery*dried thyme*dried oregano*fresh p...  \n",
       "29999  butter*sour cream*egg*bisquick*light brown sug...  \n",
       "\n",
       "[30000 rows x 11 columns]"
      ]
     },
     "execution_count": 15,
     "metadata": {},
     "output_type": "execute_result"
    }
   ],
   "source": [
    "recipes_sample_with_tags_ingredients = pd.read_csv(\"./data/recipes_sample_with_tags_ingredients.csv\", sep=\",\", parse_dates=['submitted'])\n",
    "recipes_sample_with_tags_ingredients = recipes_sample_with_tags_ingredients.rename(columns={\"Unnamed: 0\": \"index\"})\n",
    "recipes_sample_with_tags_ingredients = recipes_sample_with_tags_ingredients.set_index(\"index\")\n",
    "recipes_sample_with_tags_ingredients"
   ]
  },
  {
   "cell_type": "markdown",
   "metadata": {},
   "source": [
    "Оставьте в таблице с рецептами следующие столбцы: `id`, `name`, `minutes`, `submitted`, `description`, `n_ingredients`"
   ]
  },
  {
   "cell_type": "code",
   "execution_count": 16,
   "metadata": {
    "scrolled": true
   },
   "outputs": [
    {
     "data": {
      "text/html": [
       "<div>\n",
       "<style scoped>\n",
       "    .dataframe tbody tr th:only-of-type {\n",
       "        vertical-align: middle;\n",
       "    }\n",
       "\n",
       "    .dataframe tbody tr th {\n",
       "        vertical-align: top;\n",
       "    }\n",
       "\n",
       "    .dataframe thead th {\n",
       "        text-align: right;\n",
       "    }\n",
       "</style>\n",
       "<table border=\"1\" class=\"dataframe\">\n",
       "  <thead>\n",
       "    <tr style=\"text-align: right;\">\n",
       "      <th></th>\n",
       "      <th>id</th>\n",
       "      <th>name</th>\n",
       "      <th>minutes</th>\n",
       "      <th>submitted</th>\n",
       "      <th>description</th>\n",
       "      <th>n_ingredients</th>\n",
       "    </tr>\n",
       "    <tr>\n",
       "      <th>index</th>\n",
       "      <th></th>\n",
       "      <th></th>\n",
       "      <th></th>\n",
       "      <th></th>\n",
       "      <th></th>\n",
       "      <th></th>\n",
       "    </tr>\n",
       "  </thead>\n",
       "  <tbody>\n",
       "    <tr>\n",
       "      <th>0</th>\n",
       "      <td>44123</td>\n",
       "      <td>george s at the cove  black bean soup</td>\n",
       "      <td>90</td>\n",
       "      <td>2002-10-25</td>\n",
       "      <td>an original recipe created by chef scott meska...</td>\n",
       "      <td>18</td>\n",
       "    </tr>\n",
       "    <tr>\n",
       "      <th>1</th>\n",
       "      <td>67664</td>\n",
       "      <td>healthy for them  yogurt popsicles</td>\n",
       "      <td>10</td>\n",
       "      <td>2003-07-26</td>\n",
       "      <td>my children and their friends ask for my homem...</td>\n",
       "      <td>3</td>\n",
       "    </tr>\n",
       "    <tr>\n",
       "      <th>2</th>\n",
       "      <td>38798</td>\n",
       "      <td>i can t believe it s spinach</td>\n",
       "      <td>30</td>\n",
       "      <td>2002-08-29</td>\n",
       "      <td>these were so go, it surprised even me.</td>\n",
       "      <td>8</td>\n",
       "    </tr>\n",
       "    <tr>\n",
       "      <th>3</th>\n",
       "      <td>35173</td>\n",
       "      <td>italian  gut busters</td>\n",
       "      <td>45</td>\n",
       "      <td>2002-07-27</td>\n",
       "      <td>my sister-in-law made these for us at a family...</td>\n",
       "      <td>9</td>\n",
       "    </tr>\n",
       "    <tr>\n",
       "      <th>4</th>\n",
       "      <td>84797</td>\n",
       "      <td>love is in the air  beef fondue   sauces</td>\n",
       "      <td>25</td>\n",
       "      <td>2004-02-23</td>\n",
       "      <td>i think a fondue is a very romantic casual din...</td>\n",
       "      <td>12</td>\n",
       "    </tr>\n",
       "    <tr>\n",
       "      <th>...</th>\n",
       "      <td>...</td>\n",
       "      <td>...</td>\n",
       "      <td>...</td>\n",
       "      <td>...</td>\n",
       "      <td>...</td>\n",
       "      <td>...</td>\n",
       "    </tr>\n",
       "    <tr>\n",
       "      <th>29995</th>\n",
       "      <td>267661</td>\n",
       "      <td>zurie s holey rustic olive and cheddar bread</td>\n",
       "      <td>80</td>\n",
       "      <td>2007-11-25</td>\n",
       "      <td>this is based on a french recipe but i changed...</td>\n",
       "      <td>10</td>\n",
       "    </tr>\n",
       "    <tr>\n",
       "      <th>29996</th>\n",
       "      <td>386977</td>\n",
       "      <td>zwetschgenkuchen  bavarian plum cake</td>\n",
       "      <td>240</td>\n",
       "      <td>2009-08-24</td>\n",
       "      <td>this is a traditional fresh plum cake, thought...</td>\n",
       "      <td>11</td>\n",
       "    </tr>\n",
       "    <tr>\n",
       "      <th>29997</th>\n",
       "      <td>103312</td>\n",
       "      <td>zwiebelkuchen   southwest german onion cake</td>\n",
       "      <td>75</td>\n",
       "      <td>2004-11-03</td>\n",
       "      <td>this is a traditional late summer early fall s...</td>\n",
       "      <td>13</td>\n",
       "    </tr>\n",
       "    <tr>\n",
       "      <th>29998</th>\n",
       "      <td>486161</td>\n",
       "      <td>zydeco soup</td>\n",
       "      <td>60</td>\n",
       "      <td>2012-08-29</td>\n",
       "      <td>this is a delicious soup that i originally fou...</td>\n",
       "      <td>22</td>\n",
       "    </tr>\n",
       "    <tr>\n",
       "      <th>29999</th>\n",
       "      <td>298512</td>\n",
       "      <td>cookies by design   cookies on a stick</td>\n",
       "      <td>29</td>\n",
       "      <td>2008-04-15</td>\n",
       "      <td>i've heard of the 'cookies by design' company,...</td>\n",
       "      <td>10</td>\n",
       "    </tr>\n",
       "  </tbody>\n",
       "</table>\n",
       "<p>30000 rows × 6 columns</p>\n",
       "</div>"
      ],
      "text/plain": [
       "           id                                          name  minutes  \\\n",
       "index                                                                  \n",
       "0       44123         george s at the cove  black bean soup       90   \n",
       "1       67664            healthy for them  yogurt popsicles       10   \n",
       "2       38798                  i can t believe it s spinach       30   \n",
       "3       35173                          italian  gut busters       45   \n",
       "4       84797      love is in the air  beef fondue   sauces       25   \n",
       "...       ...                                           ...      ...   \n",
       "29995  267661  zurie s holey rustic olive and cheddar bread       80   \n",
       "29996  386977          zwetschgenkuchen  bavarian plum cake      240   \n",
       "29997  103312   zwiebelkuchen   southwest german onion cake       75   \n",
       "29998  486161                                   zydeco soup       60   \n",
       "29999  298512        cookies by design   cookies on a stick       29   \n",
       "\n",
       "       submitted                                        description  \\\n",
       "index                                                                 \n",
       "0     2002-10-25  an original recipe created by chef scott meska...   \n",
       "1     2003-07-26  my children and their friends ask for my homem...   \n",
       "2     2002-08-29            these were so go, it surprised even me.   \n",
       "3     2002-07-27  my sister-in-law made these for us at a family...   \n",
       "4     2004-02-23  i think a fondue is a very romantic casual din...   \n",
       "...          ...                                                ...   \n",
       "29995 2007-11-25  this is based on a french recipe but i changed...   \n",
       "29996 2009-08-24  this is a traditional fresh plum cake, thought...   \n",
       "29997 2004-11-03  this is a traditional late summer early fall s...   \n",
       "29998 2012-08-29  this is a delicious soup that i originally fou...   \n",
       "29999 2008-04-15  i've heard of the 'cookies by design' company,...   \n",
       "\n",
       "       n_ingredients  \n",
       "index                 \n",
       "0                 18  \n",
       "1                  3  \n",
       "2                  8  \n",
       "3                  9  \n",
       "4                 12  \n",
       "...              ...  \n",
       "29995             10  \n",
       "29996             11  \n",
       "29997             13  \n",
       "29998             22  \n",
       "29999             10  \n",
       "\n",
       "[30000 rows x 6 columns]"
      ]
     },
     "execution_count": 16,
     "metadata": {},
     "output_type": "execute_result"
    }
   ],
   "source": [
    "recipes_sample_with_tags_ingredients.drop([\"contributor_id\", \"n_steps\",\"n_tags\",\"tags\",\"ingredients\"], axis=1, inplace=True)\n",
    "recipes_sample_with_tags_ingredients"
   ]
  },
  {
   "cell_type": "markdown",
   "metadata": {},
   "source": [
    "2. Случайным образом выберите 5% строк из каждой таблицы и сохраните две таблицы на разные листы в один файл `recipes.xlsx`. Дайте листам названия \"Рецепты\" и \"Отзывы\", соответствующие содержанию таблиц. "
   ]
  },
  {
   "cell_type": "code",
   "execution_count": 17,
   "metadata": {},
   "outputs": [],
   "source": [
    "path = \"recipes.xlsx\"\n",
    "coeff = 0.05\n",
    "writer = pd.ExcelWriter(path)\n",
    "new_recipes = recipes_sample_with_tags_ingredients.sample(frac = coeff)\n",
    "new_recipes.to_excel(writer, sheet_name='Рецепты') "
   ]
  },
  {
   "cell_type": "code",
   "execution_count": 18,
   "metadata": {},
   "outputs": [],
   "source": [
    "new_reviews = reviews_sample.sample(frac = coeff)\n",
    "new_reviews.to_excel(writer, sheet_name='Отзывы') \n",
    "writer.save()"
   ]
  },
  {
   "cell_type": "markdown",
   "metadata": {},
   "source": [
    "3. Используя `xlwings`, добавьте на лист `Рецепты` столбец `seconds_assign`, показывающий время выполнения рецепта в секундах. Выполните задание при помощи присваивания массива значений диапазону ячеек."
   ]
  },
  {
   "cell_type": "code",
   "execution_count": 19,
   "metadata": {},
   "outputs": [],
   "source": [
    "wb = xw.Book(path)\n",
    "sheet = wb.sheets[\"Рецепты\"]\n",
    "sheet.range(\"H1\").value = \"seconds_assign\"\n",
    "sheet.range(\"H1\").api.font_object.font_style.set('bold')\n",
    "sheet.range(\"H2:H1501\").options(transpose=True).value = (new_recipes[\"minutes\"] * 60).to_numpy()"
   ]
  },
  {
   "cell_type": "markdown",
   "metadata": {},
   "source": [
    "4. Используя `xlwings`, добавьте на лист `Рецепты` столбец `seconds_formula`, показывающий время выполнения рецепта в секундах. Выполните задание при помощи формул Excel."
   ]
  },
  {
   "cell_type": "code",
   "execution_count": 20,
   "metadata": {},
   "outputs": [],
   "source": [
    "sheet.range(\"I1\").value = \"seconds_formula\"\n",
    "sheet.range(\"I1\").api.font_object.font_style.set('bold')\n",
    "sheet.range(\"I2\").formula = \"=D2*60\"\n",
    "sheet.range(\"I2\").api.autofill(type=AutoFillType.xlFillDefault, destination=sheet.range(\"I2:I1501\").api)"
   ]
  },
  {
   "cell_type": "markdown",
   "metadata": {},
   "source": [
    "5. Добавьте на лист `Рецепты`  столбец `n_reviews`, содержащий кол-во отзывов для этого рецепта. Выполните задание при помощи формул Excel."
   ]
  },
  {
   "cell_type": "code",
   "execution_count": 21,
   "metadata": {},
   "outputs": [],
   "source": [
    "sheet.range(\"J1\").value = \"n_reviews\"\n",
    "sheet.range(\"J1\").api.font_object.font_style.set('bold')\n",
    "\n",
    "n = str(len(new_reviews)+1)\n",
    "sheet.range(\"J2\").formula = f'=COUNTIF(Отзывы!$C$2:$C${n}, \"=\"&B2)'\n",
    "sheet.range('J2').api.autofill(type=AutoFillType.xlFillDefault, destination=sheet.range(\"J2:J1501\").api)"
   ]
  },
  {
   "cell_type": "markdown",
   "metadata": {},
   "source": [
    "6. Сделайте названия всех добавленных столбцов полужирными и выровняйте по центру ячейки."
   ]
  },
  {
   "cell_type": "code",
   "execution_count": 22,
   "metadata": {},
   "outputs": [],
   "source": [
    "sheet['H1:J1'].api.horizontalalignment = xw.constants.HAlign.xlHAlignCenter\n",
    "\n",
    "table = xw.Range(\"A1:I1501\")\n",
    "table.columns[1].column_width = 50\n",
    "for i in range(4, 9):\n",
    "    table.columns[i].column_width = 25"
   ]
  },
  {
   "cell_type": "markdown",
   "metadata": {},
   "source": [
    "7. Раскрасьте ячейки столбца `minutes` в соответствии со следующим правилом: если рецепт выполняется быстрее 5 минут, то цвет - зеленый; от 5 до 10 минут - жёлтый; и больше 10 - красный."
   ]
  },
  {
   "cell_type": "code",
   "execution_count": 23,
   "metadata": {},
   "outputs": [],
   "source": [
    "from enum import Enum\n",
    "\n",
    "class Colors(Enum):\n",
    "    GREEN = (0, 255, 0)\n",
    "    YELLOW = (255, 255, 0) \n",
    "    RED = (255, 0, 0)"
   ]
  },
  {
   "cell_type": "code",
   "execution_count": 24,
   "metadata": {},
   "outputs": [],
   "source": [
    "values = sheet.range(\"D2:D1501\").value\n",
    "\n",
    "for i in range(len(values)):\n",
    "    \n",
    "    if values[i] <= 5:\n",
    "        sheet.range(f\"D{i+2}\").color = Colors.GREEN.value\n",
    "    \n",
    "    elif 5 < values[i] <= 10:\n",
    "        sheet.range(f\"D{i+2}\").color = Colors.YELLOW.value\n",
    "    \n",
    "    else:\n",
    "        sheet.range(f\"D{i+2}\").color =  Colors.RED.value"
   ]
  },
  {
   "cell_type": "markdown",
   "metadata": {},
   "source": [
    "8. Напишите функцию `validate()`, которая проверяет соответствие всех строк из листа `Отзывы` следующим правилам:\n",
    "    * Рейтинг - это число от 0 до 5 включительно\n",
    "    * Соответствующий рецепт имеется на листе `Рецепты`\n",
    "    \n",
    "В случае несоответствия этим правилам, выделите строку красным цветом"
   ]
  },
  {
   "cell_type": "code",
   "execution_count": 25,
   "metadata": {},
   "outputs": [],
   "source": [
    "from typing import Union\n",
    "def validate(data : Union[xw.main.Sheet, xw.main.Book]) -> None:\n",
    "    \n",
    "    sheet = None\n",
    "    if isinstance(data, xw.main.Book):\n",
    "        try:\n",
    "            sheet = data.sheets[\"Отзывы\"]\n",
    "        except Exception as e:\n",
    "            raise ValueError(\"Нет отзывов в данном файле Excel!\")\n",
    "    \n",
    "    elif isinstance(data, xw.main.Sheet):\n",
    "        sheet = data\n",
    "    \n",
    "    else:\n",
    "        raise ValueError(\"data должен принимать либо Book, либо Sheet!\")\n",
    "\n",
    "    rng = sheet.range('A1')\n",
    "    n = rng.current_region.end('down').row\n",
    "\n",
    "    sheet.range(\"H2\").formula = '=COUNTIF(Рецепты!$B$2:Рецепты!$B$1501,\"=\"&C2)>0'\n",
    "    sheet.range(\"H2\").api.autofill(type=AutoFillType.xlFillDefault, destination=sheet.range(f\"H2:H{n}\").api)\n",
    "\n",
    "    for i in range(2, int(n)+1):\n",
    "        \n",
    "        rating = sheet.range(f\"E{i}\").value\n",
    "        exist_flag = sheet.range(f\"H{i}\").value\n",
    "        \n",
    "        if rating not in range(0,6) or not exist_flag:\n",
    "            sheet.range(f\"A{i}:G{i}\").color = Colors.RED.value\n",
    "    \n",
    "    sheet.range('H:H').value = \" \""
   ]
  },
  {
   "cell_type": "code",
   "execution_count": 26,
   "metadata": {},
   "outputs": [],
   "source": [
    "new_sheet = wb.sheets[\"Отзывы\"]\n",
    "#validate(new_sheet)\n",
    "validate(wb)\n",
    "wb.save(path)\n",
    "wb.close()"
   ]
  }
 ],
 "metadata": {
  "kernelspec": {
   "display_name": "Python 3 (ipykernel)",
   "language": "python",
   "name": "python3"
  },
  "language_info": {
   "codemirror_mode": {
    "name": "ipython",
    "version": 3
   },
   "file_extension": ".py",
   "mimetype": "text/x-python",
   "name": "python",
   "nbconvert_exporter": "python",
   "pygments_lexer": "ipython3",
   "version": "3.9.9"
  }
 },
 "nbformat": 4,
 "nbformat_minor": 4
}

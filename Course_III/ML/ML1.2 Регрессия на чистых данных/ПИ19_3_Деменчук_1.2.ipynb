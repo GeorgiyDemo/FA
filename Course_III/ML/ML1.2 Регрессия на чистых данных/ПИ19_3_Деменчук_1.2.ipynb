{
 "cells": [
  {
   "cell_type": "markdown",
   "metadata": {},
   "source": [
    "<b>ML1.2 Множественная линейная регрессия на чистых данных<br>\n",
    "ПИ19-3 Деменчук Георгий</b>"
   ]
  },
  {
   "cell_type": "markdown",
   "metadata": {},
   "source": [
    "1. Ваша задача - построить предиктивную модель предсказания целевой переменной в зависимости от значения нескольких факторов (признаков)."
   ]
  },
  {
   "cell_type": "code",
   "execution_count": 1,
   "metadata": {},
   "outputs": [],
   "source": [
    "# Импорт всех либ\n",
    "import pandas as pd\n",
    "import random\n",
    "import matplotlib.pyplot as plt\n",
    "import numpy as np"
   ]
  },
  {
   "cell_type": "markdown",
   "metadata": {},
   "source": [
    "2. Загрузите датасет. Вам понадобится два файла - отдельно с признаками (помечен x) и значениями целевой переменной (помечен y). Файлы не содержат заголовков столбцов и строк."
   ]
  },
  {
   "cell_type": "code",
   "execution_count": 2,
   "metadata": {},
   "outputs": [],
   "source": [
    "# Читаем данные с .csv с помощью pandas\n",
    "x_ = pd.read_csv('data/8_x.csv',names=['x1','x2','x3','x4','x5','x6','x7'])\n",
    "y_ = pd.read_csv('data/8_y.csv', names = ['Y'])"
   ]
  },
  {
   "cell_type": "markdown",
   "metadata": {},
   "source": [
    "Смотрим, что вообще у нас есть за данные"
   ]
  },
  {
   "cell_type": "code",
   "execution_count": 3,
   "metadata": {},
   "outputs": [
    {
     "data": {
      "text/html": [
       "<div>\n",
       "<style scoped>\n",
       "    .dataframe tbody tr th:only-of-type {\n",
       "        vertical-align: middle;\n",
       "    }\n",
       "\n",
       "    .dataframe tbody tr th {\n",
       "        vertical-align: top;\n",
       "    }\n",
       "\n",
       "    .dataframe thead th {\n",
       "        text-align: right;\n",
       "    }\n",
       "</style>\n",
       "<table border=\"1\" class=\"dataframe\">\n",
       "  <thead>\n",
       "    <tr style=\"text-align: right;\">\n",
       "      <th></th>\n",
       "      <th>x1</th>\n",
       "      <th>x2</th>\n",
       "      <th>x3</th>\n",
       "      <th>x4</th>\n",
       "      <th>x5</th>\n",
       "      <th>x6</th>\n",
       "      <th>x7</th>\n",
       "    </tr>\n",
       "  </thead>\n",
       "  <tbody>\n",
       "    <tr>\n",
       "      <th>0</th>\n",
       "      <td>1.514584</td>\n",
       "      <td>-0.621563</td>\n",
       "      <td>-1.277379</td>\n",
       "      <td>-1.236340</td>\n",
       "      <td>0.449646</td>\n",
       "      <td>-0.713396</td>\n",
       "      <td>-0.008099</td>\n",
       "    </tr>\n",
       "    <tr>\n",
       "      <th>1</th>\n",
       "      <td>0.120996</td>\n",
       "      <td>0.969454</td>\n",
       "      <td>0.572916</td>\n",
       "      <td>-0.449216</td>\n",
       "      <td>-1.231906</td>\n",
       "      <td>-0.154540</td>\n",
       "      <td>-0.217604</td>\n",
       "    </tr>\n",
       "    <tr>\n",
       "      <th>2</th>\n",
       "      <td>0.091450</td>\n",
       "      <td>-1.781662</td>\n",
       "      <td>0.971287</td>\n",
       "      <td>-0.342499</td>\n",
       "      <td>0.358784</td>\n",
       "      <td>-0.474612</td>\n",
       "      <td>-0.629888</td>\n",
       "    </tr>\n",
       "    <tr>\n",
       "      <th>3</th>\n",
       "      <td>-1.128455</td>\n",
       "      <td>-1.036818</td>\n",
       "      <td>0.594698</td>\n",
       "      <td>-0.613796</td>\n",
       "      <td>2.937939</td>\n",
       "      <td>1.617190</td>\n",
       "      <td>0.236998</td>\n",
       "    </tr>\n",
       "    <tr>\n",
       "      <th>4</th>\n",
       "      <td>0.868826</td>\n",
       "      <td>-0.913182</td>\n",
       "      <td>0.366585</td>\n",
       "      <td>-0.254660</td>\n",
       "      <td>-0.185404</td>\n",
       "      <td>-0.863618</td>\n",
       "      <td>0.214062</td>\n",
       "    </tr>\n",
       "  </tbody>\n",
       "</table>\n",
       "</div>"
      ],
      "text/plain": [
       "         x1        x2        x3        x4        x5        x6        x7\n",
       "0  1.514584 -0.621563 -1.277379 -1.236340  0.449646 -0.713396 -0.008099\n",
       "1  0.120996  0.969454  0.572916 -0.449216 -1.231906 -0.154540 -0.217604\n",
       "2  0.091450 -1.781662  0.971287 -0.342499  0.358784 -0.474612 -0.629888\n",
       "3 -1.128455 -1.036818  0.594698 -0.613796  2.937939  1.617190  0.236998\n",
       "4  0.868826 -0.913182  0.366585 -0.254660 -0.185404 -0.863618  0.214062"
      ]
     },
     "execution_count": 3,
     "metadata": {},
     "output_type": "execute_result"
    }
   ],
   "source": [
    "x_.head()"
   ]
  },
  {
   "cell_type": "code",
   "execution_count": 4,
   "metadata": {},
   "outputs": [
    {
     "data": {
      "text/html": [
       "<div>\n",
       "<style scoped>\n",
       "    .dataframe tbody tr th:only-of-type {\n",
       "        vertical-align: middle;\n",
       "    }\n",
       "\n",
       "    .dataframe tbody tr th {\n",
       "        vertical-align: top;\n",
       "    }\n",
       "\n",
       "    .dataframe thead th {\n",
       "        text-align: right;\n",
       "    }\n",
       "</style>\n",
       "<table border=\"1\" class=\"dataframe\">\n",
       "  <thead>\n",
       "    <tr style=\"text-align: right;\">\n",
       "      <th></th>\n",
       "      <th>Y</th>\n",
       "    </tr>\n",
       "  </thead>\n",
       "  <tbody>\n",
       "    <tr>\n",
       "      <th>0</th>\n",
       "      <td>-88.370484</td>\n",
       "    </tr>\n",
       "    <tr>\n",
       "      <th>1</th>\n",
       "      <td>-33.342405</td>\n",
       "    </tr>\n",
       "    <tr>\n",
       "      <th>2</th>\n",
       "      <td>-132.859442</td>\n",
       "    </tr>\n",
       "    <tr>\n",
       "      <th>3</th>\n",
       "      <td>156.519597</td>\n",
       "    </tr>\n",
       "    <tr>\n",
       "      <th>4</th>\n",
       "      <td>-71.378443</td>\n",
       "    </tr>\n",
       "  </tbody>\n",
       "</table>\n",
       "</div>"
      ],
      "text/plain": [
       "            Y\n",
       "0  -88.370484\n",
       "1  -33.342405\n",
       "2 -132.859442\n",
       "3  156.519597\n",
       "4  -71.378443"
      ]
     },
     "execution_count": 4,
     "metadata": {},
     "output_type": "execute_result"
    }
   ],
   "source": [
    "y_.head()"
   ]
  },
  {
   "cell_type": "markdown",
   "metadata": {},
   "source": [
    "3. Сделайте количественное описание датасета: количество точек данных, признаков, статистику по каждому признаку.\n",
    "\n",
    "\n"
   ]
  },
  {
   "cell_type": "markdown",
   "metadata": {},
   "source": [
    "Смотрим на x"
   ]
  },
  {
   "cell_type": "code",
   "execution_count": 5,
   "metadata": {},
   "outputs": [
    {
     "data": {
      "text/plain": [
       "(83, 7)"
      ]
     },
     "execution_count": 5,
     "metadata": {},
     "output_type": "execute_result"
    }
   ],
   "source": [
    "# точки данных x\n",
    "x_.shape"
   ]
  },
  {
   "cell_type": "code",
   "execution_count": 6,
   "metadata": {},
   "outputs": [
    {
     "data": {
      "text/html": [
       "<div>\n",
       "<style scoped>\n",
       "    .dataframe tbody tr th:only-of-type {\n",
       "        vertical-align: middle;\n",
       "    }\n",
       "\n",
       "    .dataframe tbody tr th {\n",
       "        vertical-align: top;\n",
       "    }\n",
       "\n",
       "    .dataframe thead th {\n",
       "        text-align: right;\n",
       "    }\n",
       "</style>\n",
       "<table border=\"1\" class=\"dataframe\">\n",
       "  <thead>\n",
       "    <tr style=\"text-align: right;\">\n",
       "      <th></th>\n",
       "      <th>x1</th>\n",
       "      <th>x2</th>\n",
       "      <th>x3</th>\n",
       "      <th>x4</th>\n",
       "      <th>x5</th>\n",
       "      <th>x6</th>\n",
       "      <th>x7</th>\n",
       "    </tr>\n",
       "  </thead>\n",
       "  <tbody>\n",
       "    <tr>\n",
       "      <th>count</th>\n",
       "      <td>83.000000</td>\n",
       "      <td>83.000000</td>\n",
       "      <td>83.000000</td>\n",
       "      <td>83.000000</td>\n",
       "      <td>83.000000</td>\n",
       "      <td>83.000000</td>\n",
       "      <td>83.000000</td>\n",
       "    </tr>\n",
       "    <tr>\n",
       "      <th>mean</th>\n",
       "      <td>0.083742</td>\n",
       "      <td>-0.038892</td>\n",
       "      <td>-0.077287</td>\n",
       "      <td>0.202356</td>\n",
       "      <td>0.111821</td>\n",
       "      <td>-0.106154</td>\n",
       "      <td>-0.044355</td>\n",
       "    </tr>\n",
       "    <tr>\n",
       "      <th>std</th>\n",
       "      <td>1.181994</td>\n",
       "      <td>0.941986</td>\n",
       "      <td>0.891228</td>\n",
       "      <td>1.226907</td>\n",
       "      <td>1.019480</td>\n",
       "      <td>1.007005</td>\n",
       "      <td>0.929658</td>\n",
       "    </tr>\n",
       "    <tr>\n",
       "      <th>min</th>\n",
       "      <td>-3.545896</td>\n",
       "      <td>-1.889278</td>\n",
       "      <td>-2.538651</td>\n",
       "      <td>-2.502444</td>\n",
       "      <td>-2.621536</td>\n",
       "      <td>-2.452811</td>\n",
       "      <td>-2.007143</td>\n",
       "    </tr>\n",
       "    <tr>\n",
       "      <th>25%</th>\n",
       "      <td>-0.589996</td>\n",
       "      <td>-0.687546</td>\n",
       "      <td>-0.486259</td>\n",
       "      <td>-0.611158</td>\n",
       "      <td>-0.590063</td>\n",
       "      <td>-0.760261</td>\n",
       "      <td>-0.748415</td>\n",
       "    </tr>\n",
       "    <tr>\n",
       "      <th>50%</th>\n",
       "      <td>0.120996</td>\n",
       "      <td>-0.099994</td>\n",
       "      <td>0.020013</td>\n",
       "      <td>0.133044</td>\n",
       "      <td>0.150418</td>\n",
       "      <td>-0.154540</td>\n",
       "      <td>-0.009249</td>\n",
       "    </tr>\n",
       "    <tr>\n",
       "      <th>75%</th>\n",
       "      <td>0.831314</td>\n",
       "      <td>0.692257</td>\n",
       "      <td>0.559829</td>\n",
       "      <td>1.199444</td>\n",
       "      <td>0.715865</td>\n",
       "      <td>0.658789</td>\n",
       "      <td>0.680093</td>\n",
       "    </tr>\n",
       "    <tr>\n",
       "      <th>max</th>\n",
       "      <td>2.470810</td>\n",
       "      <td>2.157520</td>\n",
       "      <td>1.884430</td>\n",
       "      <td>2.594291</td>\n",
       "      <td>2.937939</td>\n",
       "      <td>1.626076</td>\n",
       "      <td>1.909412</td>\n",
       "    </tr>\n",
       "  </tbody>\n",
       "</table>\n",
       "</div>"
      ],
      "text/plain": [
       "              x1         x2         x3         x4         x5         x6  \\\n",
       "count  83.000000  83.000000  83.000000  83.000000  83.000000  83.000000   \n",
       "mean    0.083742  -0.038892  -0.077287   0.202356   0.111821  -0.106154   \n",
       "std     1.181994   0.941986   0.891228   1.226907   1.019480   1.007005   \n",
       "min    -3.545896  -1.889278  -2.538651  -2.502444  -2.621536  -2.452811   \n",
       "25%    -0.589996  -0.687546  -0.486259  -0.611158  -0.590063  -0.760261   \n",
       "50%     0.120996  -0.099994   0.020013   0.133044   0.150418  -0.154540   \n",
       "75%     0.831314   0.692257   0.559829   1.199444   0.715865   0.658789   \n",
       "max     2.470810   2.157520   1.884430   2.594291   2.937939   1.626076   \n",
       "\n",
       "              x7  \n",
       "count  83.000000  \n",
       "mean   -0.044355  \n",
       "std     0.929658  \n",
       "min    -2.007143  \n",
       "25%    -0.748415  \n",
       "50%    -0.009249  \n",
       "75%     0.680093  \n",
       "max     1.909412  "
      ]
     },
     "execution_count": 6,
     "metadata": {},
     "output_type": "execute_result"
    }
   ],
   "source": [
    "x_.describe()"
   ]
  },
  {
   "cell_type": "markdown",
   "metadata": {},
   "source": [
    "Смотрим на y"
   ]
  },
  {
   "cell_type": "code",
   "execution_count": 7,
   "metadata": {},
   "outputs": [
    {
     "data": {
      "text/plain": [
       "(83, 1)"
      ]
     },
     "execution_count": 7,
     "metadata": {},
     "output_type": "execute_result"
    }
   ],
   "source": [
    "y_.shape"
   ]
  },
  {
   "cell_type": "code",
   "execution_count": 8,
   "metadata": {},
   "outputs": [
    {
     "data": {
      "text/html": [
       "<div>\n",
       "<style scoped>\n",
       "    .dataframe tbody tr th:only-of-type {\n",
       "        vertical-align: middle;\n",
       "    }\n",
       "\n",
       "    .dataframe tbody tr th {\n",
       "        vertical-align: top;\n",
       "    }\n",
       "\n",
       "    .dataframe thead th {\n",
       "        text-align: right;\n",
       "    }\n",
       "</style>\n",
       "<table border=\"1\" class=\"dataframe\">\n",
       "  <thead>\n",
       "    <tr style=\"text-align: right;\">\n",
       "      <th></th>\n",
       "      <th>Y</th>\n",
       "    </tr>\n",
       "  </thead>\n",
       "  <tbody>\n",
       "    <tr>\n",
       "      <th>count</th>\n",
       "      <td>83.000000</td>\n",
       "    </tr>\n",
       "    <tr>\n",
       "      <th>mean</th>\n",
       "      <td>-9.601932</td>\n",
       "    </tr>\n",
       "    <tr>\n",
       "      <th>std</th>\n",
       "      <td>120.800458</td>\n",
       "    </tr>\n",
       "    <tr>\n",
       "      <th>min</th>\n",
       "      <td>-336.124426</td>\n",
       "    </tr>\n",
       "    <tr>\n",
       "      <th>25%</th>\n",
       "      <td>-87.287939</td>\n",
       "    </tr>\n",
       "    <tr>\n",
       "      <th>50%</th>\n",
       "      <td>-2.394386</td>\n",
       "    </tr>\n",
       "    <tr>\n",
       "      <th>75%</th>\n",
       "      <td>67.341250</td>\n",
       "    </tr>\n",
       "    <tr>\n",
       "      <th>max</th>\n",
       "      <td>221.017606</td>\n",
       "    </tr>\n",
       "  </tbody>\n",
       "</table>\n",
       "</div>"
      ],
      "text/plain": [
       "                Y\n",
       "count   83.000000\n",
       "mean    -9.601932\n",
       "std    120.800458\n",
       "min   -336.124426\n",
       "25%    -87.287939\n",
       "50%     -2.394386\n",
       "75%     67.341250\n",
       "max    221.017606"
      ]
     },
     "execution_count": 8,
     "metadata": {},
     "output_type": "execute_result"
    }
   ],
   "source": [
    "y_.describe()"
   ]
  },
  {
   "cell_type": "markdown",
   "metadata": {},
   "source": [
    "4. Разделите все наблюдения на обучающую и тестовую выборки в соотношении 80-20.\n"
   ]
  },
  {
   "cell_type": "code",
   "execution_count": 9,
   "metadata": {},
   "outputs": [],
   "source": [
    "from sklearn.model_selection import train_test_split\n",
    "x_train, x_test, y_train, y_test = train_test_split(x_, y_, test_size=0.2, random_state=0)"
   ]
  },
  {
   "cell_type": "markdown",
   "metadata": {},
   "source": [
    "5. Для целевой и каждого из признаков постройте парную регрессионную модель. Визуализируйте линию регрессии и исходные данные на графике. При помощи коэффициентов оцените силу связи."
   ]
  },
  {
   "cell_type": "code",
   "execution_count": 10,
   "metadata": {},
   "outputs": [],
   "source": [
    "from sklearn.linear_model import LinearRegression"
   ]
  },
  {
   "cell_type": "markdown",
   "metadata": {},
   "source": [
    "Т.к. у нас 7 факторов, то чтб код не повторялся, пишем универсальный метод"
   ]
  },
  {
   "cell_type": "code",
   "execution_count": 11,
   "metadata": {},
   "outputs": [],
   "source": [
    "def r_2_score(column_name : str) -> None:\n",
    "    \n",
    "    #Модель линейной регрессии\n",
    "    y = LinearRegression().fit(x_train[[column_name]].values, y_train.values)\n",
    "    #Прогнозируем значения\n",
    "    y_res = y.predict(x_test[[column_name]].values)\n",
    "    \n",
    "    #Строим точки значений на графике \n",
    "    plt.scatter(x_test[[column_name]].values, y_test.values, color='b')\n",
    "    #Строим линию регрессии\n",
    "    plt.plot(x_test[[column_name]].values, y_res, color='r', linewidth=2)\n",
    "    #Высчитываем показатель R2\n",
    "    r_2 = y.score(x_test[[column_name]].values,  y_test.values)\n",
    "    \n",
    "    ##!! Чем ближе R^2 к 1, тем сильнее связь и модель адекватнее\n",
    "    print(f\"R^2 score: {r_2}\")"
   ]
  },
  {
   "cell_type": "markdown",
   "metadata": {},
   "source": [
    "Фактор <b>x1</b>"
   ]
  },
  {
   "cell_type": "code",
   "execution_count": 12,
   "metadata": {},
   "outputs": [
    {
     "name": "stdout",
     "output_type": "stream",
     "text": [
      "R^2 score: -0.05325883090743888\n"
     ]
    },
    {
     "data": {
      "image/png": "[encoded data removed]",
      "text/plain": [
       "<Figure size 432x288 with 1 Axes>"
      ]
     },
     "metadata": {
      "needs_background": "light"
     },
     "output_type": "display_data"
    }
   ],
   "source": [
    "r_2_score(\"x1\")"
   ]
  },
  {
   "cell_type": "markdown",
   "metadata": {},
   "source": [
    "Связи практически нет"
   ]
  },
  {
   "cell_type": "markdown",
   "metadata": {},
   "source": [
    "Фактор <b>x2</b>"
   ]
  },
  {
   "cell_type": "code",
   "execution_count": 13,
   "metadata": {},
   "outputs": [
    {
     "name": "stdout",
     "output_type": "stream",
     "text": [
      "R^2 score: -0.08944785310024339\n"
     ]
    },
    {
     "data": {
      "image/png": "[encoded data removed]",
      "text/plain": [
       "<Figure size 432x288 with 1 Axes>"
      ]
     },
     "metadata": {
      "needs_background": "light"
     },
     "output_type": "display_data"
    }
   ],
   "source": [
    "r_2_score(\"x2\")"
   ]
  },
  {
   "cell_type": "markdown",
   "metadata": {},
   "source": [
    "Связи практически нет"
   ]
  },
  {
   "cell_type": "markdown",
   "metadata": {},
   "source": [
    "Фактор <b>x3</b>"
   ]
  },
  {
   "cell_type": "code",
   "execution_count": 14,
   "metadata": {},
   "outputs": [
    {
     "name": "stdout",
     "output_type": "stream",
     "text": [
      "R^2 score: -0.026921283778556626\n"
     ]
    },
    {
     "data": {
      "image/png": "[encoded data removed]",
      "text/plain": [
       "<Figure size 432x288 with 1 Axes>"
      ]
     },
     "metadata": {
      "needs_background": "light"
     },
     "output_type": "display_data"
    }
   ],
   "source": [
    "r_2_score(\"x3\")"
   ]
  },
  {
   "cell_type": "markdown",
   "metadata": {},
   "source": [
    "Связи практически нет"
   ]
  },
  {
   "cell_type": "markdown",
   "metadata": {},
   "source": [
    "Фактор <b>x4</b>"
   ]
  },
  {
   "cell_type": "code",
   "execution_count": 15,
   "metadata": {},
   "outputs": [
    {
     "name": "stdout",
     "output_type": "stream",
     "text": [
      "R^2 score: -0.01226925013326241\n"
     ]
    },
    {
     "data": {
      "image/png": "[encoded data removed]",
      "text/plain": [
       "<Figure size 432x288 with 1 Axes>"
      ]
     },
     "metadata": {
      "needs_background": "light"
     },
     "output_type": "display_data"
    }
   ],
   "source": [
    "r_2_score(\"x4\")"
   ]
  },
  {
   "cell_type": "markdown",
   "metadata": {},
   "source": [
    "Связи практически нет"
   ]
  },
  {
   "cell_type": "markdown",
   "metadata": {},
   "source": [
    "Фактор <b>x5</b>"
   ]
  },
  {
   "cell_type": "code",
   "execution_count": 16,
   "metadata": {},
   "outputs": [
    {
     "name": "stdout",
     "output_type": "stream",
     "text": [
      "R^2 score: -0.08354874212613783\n"
     ]
    },
    {
     "data": {
      "image/png": "[encoded data removed]",
      "text/plain": [
       "<Figure size 432x288 with 1 Axes>"
      ]
     },
     "metadata": {
      "needs_background": "light"
     },
     "output_type": "display_data"
    }
   ],
   "source": [
    "r_2_score(\"x5\")"
   ]
  },
  {
   "cell_type": "markdown",
   "metadata": {},
   "source": [
    "Связи практически нет"
   ]
  },
  {
   "cell_type": "markdown",
   "metadata": {},
   "source": [
    "Фактор <b>x6</b>"
   ]
  },
  {
   "cell_type": "code",
   "execution_count": 17,
   "metadata": {},
   "outputs": [
    {
     "name": "stdout",
     "output_type": "stream",
     "text": [
      "R^2 score: 0.5650997651075196\n"
     ]
    },
    {
     "data": {
      "image/png": "[encoded data removed]",
      "text/plain": [
       "<Figure size 432x288 with 1 Axes>"
      ]
     },
     "metadata": {
      "needs_background": "light"
     },
     "output_type": "display_data"
    }
   ],
   "source": [
    "r_2_score(\"x6\")"
   ]
  },
  {
   "cell_type": "markdown",
   "metadata": {},
   "source": [
    "Связь есть! Средняя, R = 0.5"
   ]
  },
  {
   "cell_type": "markdown",
   "metadata": {},
   "source": [
    "Фактор <b>x7</b>"
   ]
  },
  {
   "cell_type": "code",
   "execution_count": 18,
   "metadata": {},
   "outputs": [
    {
     "name": "stdout",
     "output_type": "stream",
     "text": [
      "R^2 score: 0.3805420226084154\n"
     ]
    },
    {
     "data": {
      "image/png": "[encoded data removed]",
      "text/plain": [
       "<Figure size 432x288 with 1 Axes>"
      ]
     },
     "metadata": {
      "needs_background": "light"
     },
     "output_type": "display_data"
    }
   ],
   "source": [
    "r_2_score(\"x7\")"
   ]
  },
  {
   "cell_type": "markdown",
   "metadata": {},
   "source": [
    "Связь есть, ниже средней"
   ]
  },
  {
   "cell_type": "markdown",
   "metadata": {},
   "source": [
    "<b>Вывод: </b> хоть немного существунная связь есть по факторам x6 (R^2 = 0.56) и x7 (R^2 = 0.38)"
   ]
  },
  {
   "cell_type": "markdown",
   "metadata": {},
   "source": [
    "6. Постройте модель множественной линейной регрессии целевой переменной от всех показателей. Оцените качество регрессии, сделайте вывод."
   ]
  },
  {
   "cell_type": "code",
   "execution_count": 19,
   "metadata": {},
   "outputs": [
    {
     "data": {
      "text/html": [
       "<table class=\"simpletable\">\n",
       "<caption>OLS Regression Results</caption>\n",
       "<tr>\n",
       "  <th>Dep. Variable:</th>            <td>y</td>        <th>  R-squared:         </th> <td>   0.994</td>\n",
       "</tr>\n",
       "<tr>\n",
       "  <th>Model:</th>                   <td>OLS</td>       <th>  Adj. R-squared:    </th> <td>   0.993</td>\n",
       "</tr>\n",
       "<tr>\n",
       "  <th>Method:</th>             <td>Least Squares</td>  <th>  F-statistic:       </th> <td>   1322.</td>\n",
       "</tr>\n",
       "<tr>\n",
       "  <th>Date:</th>             <td>Wed, 06 Apr 2022</td> <th>  Prob (F-statistic):</th> <td>1.69e-61</td>\n",
       "</tr>\n",
       "<tr>\n",
       "  <th>Time:</th>                 <td>19:34:05</td>     <th>  Log-Likelihood:    </th> <td> -241.71</td>\n",
       "</tr>\n",
       "<tr>\n",
       "  <th>No. Observations:</th>      <td>    66</td>      <th>  AIC:               </th> <td>   499.4</td>\n",
       "</tr>\n",
       "<tr>\n",
       "  <th>Df Residuals:</th>          <td>    58</td>      <th>  BIC:               </th> <td>   516.9</td>\n",
       "</tr>\n",
       "<tr>\n",
       "  <th>Df Model:</th>              <td>     7</td>      <th>                     </th>     <td> </td>   \n",
       "</tr>\n",
       "<tr>\n",
       "  <th>Covariance Type:</th>      <td>nonrobust</td>    <th>                     </th>     <td> </td>   \n",
       "</tr>\n",
       "</table>\n",
       "<table class=\"simpletable\">\n",
       "<tr>\n",
       "      <td></td>         <th>coef</th>     <th>std err</th>      <th>t</th>      <th>P>|t|</th>  <th>[0.025</th>    <th>0.975]</th>  \n",
       "</tr>\n",
       "<tr>\n",
       "  <th>Intercept</th> <td>    0.4024</td> <td>    1.288</td> <td>    0.312</td> <td> 0.756</td> <td>   -2.177</td> <td>    2.981</td>\n",
       "</tr>\n",
       "<tr>\n",
       "  <th>x1</th>        <td>   -1.7153</td> <td>    1.029</td> <td>   -1.666</td> <td> 0.101</td> <td>   -3.776</td> <td>    0.345</td>\n",
       "</tr>\n",
       "<tr>\n",
       "  <th>x2</th>        <td>   15.8909</td> <td>    1.373</td> <td>   11.575</td> <td> 0.000</td> <td>   13.143</td> <td>   18.639</td>\n",
       "</tr>\n",
       "<tr>\n",
       "  <th>x3</th>        <td>    0.9495</td> <td>    1.378</td> <td>    0.689</td> <td> 0.494</td> <td>   -1.809</td> <td>    3.708</td>\n",
       "</tr>\n",
       "<tr>\n",
       "  <th>x4</th>        <td>   14.4585</td> <td>    1.053</td> <td>   13.733</td> <td> 0.000</td> <td>   12.351</td> <td>   16.566</td>\n",
       "</tr>\n",
       "<tr>\n",
       "  <th>x5</th>        <td>    7.1799</td> <td>    1.277</td> <td>    5.623</td> <td> 0.000</td> <td>    4.624</td> <td>    9.736</td>\n",
       "</tr>\n",
       "<tr>\n",
       "  <th>x6</th>        <td>   81.9551</td> <td>    1.309</td> <td>   62.611</td> <td> 0.000</td> <td>   79.335</td> <td>   84.575</td>\n",
       "</tr>\n",
       "<tr>\n",
       "  <th>x7</th>        <td>   94.6981</td> <td>    1.279</td> <td>   74.021</td> <td> 0.000</td> <td>   92.137</td> <td>   97.259</td>\n",
       "</tr>\n",
       "</table>\n",
       "<table class=\"simpletable\">\n",
       "<tr>\n",
       "  <th>Omnibus:</th>       <td> 0.197</td> <th>  Durbin-Watson:     </th> <td>   2.131</td>\n",
       "</tr>\n",
       "<tr>\n",
       "  <th>Prob(Omnibus):</th> <td> 0.906</td> <th>  Jarque-Bera (JB):  </th> <td>   0.333</td>\n",
       "</tr>\n",
       "<tr>\n",
       "  <th>Skew:</th>          <td> 0.115</td> <th>  Prob(JB):          </th> <td>   0.846</td>\n",
       "</tr>\n",
       "<tr>\n",
       "  <th>Kurtosis:</th>      <td> 2.738</td> <th>  Cond. No.          </th> <td>    1.59</td>\n",
       "</tr>\n",
       "</table><br/><br/>Notes:<br/>[1] Standard Errors assume that the covariance matrix of the errors is correctly specified."
      ],
      "text/plain": [
       "<class 'statsmodels.iolib.summary.Summary'>\n",
       "\"\"\"\n",
       "                            OLS Regression Results                            \n",
       "==============================================================================\n",
       "Dep. Variable:                      y   R-squared:                       0.994\n",
       "Model:                            OLS   Adj. R-squared:                  0.993\n",
       "Method:                 Least Squares   F-statistic:                     1322.\n",
       "Date:                Wed, 06 Apr 2022   Prob (F-statistic):           1.69e-61\n",
       "Time:                        19:34:05   Log-Likelihood:                -241.71\n",
       "No. Observations:                  66   AIC:                             499.4\n",
       "Df Residuals:                      58   BIC:                             516.9\n",
       "Df Model:                           7                                         \n",
       "Covariance Type:            nonrobust                                         \n",
       "==============================================================================\n",
       "                 coef    std err          t      P>|t|      [0.025      0.975]\n",
       "------------------------------------------------------------------------------\n",
       "Intercept      0.4024      1.288      0.312      0.756      -2.177       2.981\n",
       "x1            -1.7153      1.029     -1.666      0.101      -3.776       0.345\n",
       "x2            15.8909      1.373     11.575      0.000      13.143      18.639\n",
       "x3             0.9495      1.378      0.689      0.494      -1.809       3.708\n",
       "x4            14.4585      1.053     13.733      0.000      12.351      16.566\n",
       "x5             7.1799      1.277      5.623      0.000       4.624       9.736\n",
       "x6            81.9551      1.309     62.611      0.000      79.335      84.575\n",
       "x7            94.6981      1.279     74.021      0.000      92.137      97.259\n",
       "==============================================================================\n",
       "Omnibus:                        0.197   Durbin-Watson:                   2.131\n",
       "Prob(Omnibus):                  0.906   Jarque-Bera (JB):                0.333\n",
       "Skew:                           0.115   Prob(JB):                        0.846\n",
       "Kurtosis:                       2.738   Cond. No.                         1.59\n",
       "==============================================================================\n",
       "\n",
       "Notes:\n",
       "[1] Standard Errors assume that the covariance matrix of the errors is correctly specified.\n",
       "\"\"\""
      ]
     },
     "execution_count": 19,
     "metadata": {},
     "output_type": "execute_result"
    }
   ],
   "source": [
    "import statsmodels.formula.api as sm\n",
    "\n",
    "data = pd.DataFrame(np.array(x_train[['x1', 'x2', 'x3', 'x4', 'x5', 'x6', 'x7']]), \n",
    "                            columns=['x1', 'x2', 'x3', 'x4', 'x5', 'x6', 'x7'])\n",
    "data['y'] = np.array(y_train)\n",
    "cols = data.columns.tolist()\n",
    "cols = cols[-1:] + cols[:-1]\n",
    "data = data[cols]\n",
    "\n",
    "# Используем МНК - метод наименьших квадратов\n",
    "model = sm.ols(formula='y~x1+x2+x3+x4+x5+x6+x7', data=data)\n",
    "fitted = model.fit()\n",
    "fitted.summary()"
   ]
  },
  {
   "cell_type": "markdown",
   "metadata": {},
   "source": [
    "<b>Выводы:</b>"
   ]
  },
  {
   "cell_type": "markdown",
   "metadata": {},
   "source": [
    "Если учитывать все факторы, то общий показатель модели по R^2 = 0.993, что является очень хорошей связью и тем, что модель жизнеспособна<br>\n",
    "<br>\n",
    "Наиболее влияющие факторы - это x7 и x6 с коэффами 94.6981 и 81.9551 соответственно. Также в пользу этого можно рассмотреть R^2 моделей, полученных только с учетом этих факторов (0.5650997651075196 для x6 и 0.3805420226084154 для x7"
   ]
  },
  {
   "cell_type": "markdown",
   "metadata": {},
   "source": [
    "По DW мы можем видеть:<br>Автокорреляция отсутствует т.к. (1.5 < DW = 2.131 < 2.5)<br>Гомоскедастичность присутствует (1 < DW=2.131 < 2)"
   ]
  },
  {
   "cell_type": "markdown",
   "metadata": {},
   "source": [
    "По Prob (F-statistic) = 1.69e-61 = 0 видим, что регрессия значима"
   ]
  },
  {
   "cell_type": "markdown",
   "metadata": {},
   "source": [
    "Делая общий вывод, можем сказать, что полученная обобщенная модель по всем факторам имеет право на жизнь и с ней можно работать"
   ]
  },
  {
   "cell_type": "code",
   "execution_count": null,
   "metadata": {},
   "outputs": [],
   "source": []
  }
 ],
 "metadata": {
  "kernelspec": {
   "display_name": "Python 3 (ipykernel)",
   "language": "python",
   "name": "python3"
  },
  "language_info": {
   "codemirror_mode": {
    "name": "ipython",
    "version": 3
   },
   "file_extension": ".py",
   "mimetype": "text/x-python",
   "name": "python",
   "nbconvert_exporter": "python",
   "pygments_lexer": "ipython3",
   "version": "3.9.12"
  }
 },
 "nbformat": 4,
 "nbformat_minor": 4
}

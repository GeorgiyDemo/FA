{
 "cells": [
  {
   "cell_type": "code",
   "execution_count": 98,
   "metadata": {},
   "outputs": [],
   "source": [
    "from sympy import Eq, Symbol, Matrix"
   ]
  },
  {
   "cell_type": "markdown",
   "metadata": {
    "pycharm": {
     "name": "#%% md\n"
    }
   },
   "source": [
    "## 1.4 Модель корректировки размера дивидендов Линтера"
   ]
  },
  {
   "cell_type": "markdown",
   "metadata": {},
   "source": [
    "Задача 4. Модель корректировки размера дивидендов Линтнера.<br>Пусть $\\pi_{t}$ - текущая прибыль фирмы после уплаты налогов,<br>$D_{t}$ - дивиденды, которые фирма выплачивает своим акционерам в текущем периоде. Известный американский экономист Дж. Линтнер сформулировал в 1956г. следующие утверждения:\n",
    "1) у фирмы имеется долгосрочная целевая доля $g$ текущей прибыли и соответствующий этой доле уровень дивидендов $D_{t}^{*}$, которые фирма хотела бы выплачивать своим акционерам (желаемый уровень);<br>\n",
    "2) Изменение $\\left(D_{t}-D_{t-1}\\right)$ уровня реальных дивидендов за период прямо пропорционально отличию желаемого объёма $D_{t}^{*}$ текущих дивидендов от их реального уровня в предшествующем периоде $D_{t-1} .$<br>Требуется:\n",
    "a) составить спецификацию модели корректировки размера дивидендов, позволяющую объяснить текущий уровень $D_{t}$ дивидендов их лаговым значением и текущей прибылью фирмы;<br>\n",
    "б) Уточнить спецификацию включением случайного возмущения.<br>\n",
    "в) Представить структурную форму спецификации в матричном виде.<br>\n",
    "г) Составить приведенную форму модели.<br>\n",
    "д) Записать приведенную форму в матричном виде.<br>"
   ]
  },
  {
   "cell_type": "markdown",
   "metadata": {},
   "source": [
    "#### Дано"
   ]
  },
  {
   "cell_type": "code",
   "execution_count": 102,
   "metadata": {},
   "outputs": [],
   "source": [
    "endos = 'D_t D^*_t'\n",
    "endos = utils.get_symbols_dict(endos)\n",
    "\n",
    "predeters = 'P_t D_t-1'\n",
    "predeters = utils.get_symbols_dict(predeters)\n",
    "\n",
    "params = 'g a b'\n",
    "params = utils.get_symbols_dict(params)\n",
    "\n",
    "devs = 'e_0'\n",
    "devs = utils.get_symbols_dict(devs)"
   ]
  },
  {
   "cell_type": "code",
   "execution_count": null,
   "metadata": {},
   "outputs": [],
   "source": []
  },
  {
   "cell_type": "code",
   "execution_count": 103,
   "metadata": {
    "pycharm": {
     "name": "#%%\n"
    }
   },
   "outputs": [],
   "source": [
    "from my_utils.task_1_4 import Y, X, A, B, U, reduced_form_matrix, reduced_form_system\n",
    "from my_utils import utils"
   ]
  },
  {
   "cell_type": "code",
   "execution_count": 104,
   "metadata": {},
   "outputs": [],
   "source": [
    "# Коэффы при эндогенных переменных\n",
    "A = Matrix([\n",
    "    [0, 1],\n",
    "    [1, -params['b']],\n",
    "])"
   ]
  },
  {
   "cell_type": "code",
   "execution_count": 105,
   "metadata": {},
   "outputs": [],
   "source": [
    "# матрица коэффициентов при ПРЕДОПРЕДЕЛЕННЫХ (и мнимых) переменных\n",
    "B = Matrix([\n",
    "    [0, -params['g'], 0],\n",
    "    [-params['a'], 0, params['b'] - 1],\n",
    "])"
   ]
  },
  {
   "cell_type": "code",
   "execution_count": 106,
   "metadata": {},
   "outputs": [],
   "source": [
    "U = Matrix([\n",
    "    [0],\n",
    "    [devs['e_0']],\n",
    "])"
   ]
  },
  {
   "cell_type": "code",
   "execution_count": 107,
   "metadata": {},
   "outputs": [],
   "source": [
    "endos = 'D_t D^*_t'\n",
    "endos = utils.get_symbols_dict(endos)"
   ]
  },
  {
   "cell_type": "code",
   "execution_count": 108,
   "metadata": {
    "pycharm": {
     "name": "#%%\n"
    }
   },
   "outputs": [
    {
     "data": {
      "text/latex": [
       "$\\displaystyle Y = \\left[\\begin{matrix}D_{t}\\\\D^{*}_{t}\\end{matrix}\\right]$"
      ],
      "text/plain": [
       "Eq(Y, Matrix([\n",
       "[  D_t],\n",
       "[D^*_t]]))"
      ]
     },
     "execution_count": 108,
     "metadata": {},
     "output_type": "execute_result"
    }
   ],
   "source": [
    "Eq(Symbol('Y'), Y, evaluate=False)"
   ]
  },
  {
   "cell_type": "code",
   "execution_count": 109,
   "metadata": {
    "pycharm": {
     "name": "#%%\n"
    }
   },
   "outputs": [
    {
     "data": {
      "text/latex": [
       "$\\displaystyle X = \\left[\\begin{matrix}1\\\\P_{t}\\\\D_{t-1}\\end{matrix}\\right]$"
      ],
      "text/plain": [
       "Eq(X, Matrix([\n",
       "[    1],\n",
       "[  P_t],\n",
       "[D_t-1]]))"
      ]
     },
     "execution_count": 109,
     "metadata": {},
     "output_type": "execute_result"
    }
   ],
   "source": [
    "Eq(Symbol('X'), X, evaluate=False)"
   ]
  },
  {
   "cell_type": "code",
   "execution_count": 110,
   "metadata": {
    "pycharm": {
     "name": "#%%\n"
    }
   },
   "outputs": [
    {
     "data": {
      "text/latex": [
       "$\\displaystyle A = \\left[\\begin{matrix}0 & 1\\\\1 & - b\\end{matrix}\\right]$"
      ],
      "text/plain": [
       "Eq(A, Matrix([\n",
       "[0,  1],\n",
       "[1, -b]]))"
      ]
     },
     "execution_count": 110,
     "metadata": {},
     "output_type": "execute_result"
    }
   ],
   "source": [
    "Eq(Symbol('A'), A, evaluate=False)"
   ]
  },
  {
   "cell_type": "code",
   "execution_count": 111,
   "metadata": {
    "pycharm": {
     "name": "#%%\n"
    }
   },
   "outputs": [
    {
     "data": {
      "text/latex": [
       "$\\displaystyle B = \\left[\\begin{matrix}0 & - g & 0\\\\- a & 0 & b - 1\\end{matrix}\\right]$"
      ],
      "text/plain": [
       "Eq(B, Matrix([\n",
       "[ 0, -g,     0],\n",
       "[-a,  0, b - 1]]))"
      ]
     },
     "execution_count": 111,
     "metadata": {},
     "output_type": "execute_result"
    }
   ],
   "source": [
    "Eq(Symbol('B'), B, evaluate=False)"
   ]
  },
  {
   "cell_type": "code",
   "execution_count": 112,
   "metadata": {
    "pycharm": {
     "name": "#%%\n"
    }
   },
   "outputs": [
    {
     "data": {
      "text/latex": [
       "$\\displaystyle U = \\left[\\begin{matrix}0\\\\e_{0}\\end{matrix}\\right]$"
      ],
      "text/plain": [
       "Eq(U, Matrix([\n",
       "[  0],\n",
       "[e_0]]))"
      ]
     },
     "execution_count": 112,
     "metadata": {},
     "output_type": "execute_result"
    }
   ],
   "source": [
    "Eq(Symbol('U'), U, evaluate=False)"
   ]
  },
  {
   "cell_type": "markdown",
   "metadata": {},
   "source": [
    "### Приведенная форма (матричная)"
   ]
  },
  {
   "cell_type": "code",
   "execution_count": 113,
   "metadata": {
    "pycharm": {
     "name": "#%%\n"
    }
   },
   "outputs": [
    {
     "data": {
      "text/latex": [
       "$\\displaystyle \\left[\\begin{matrix}D_{t}\\\\D^{*}_{t}\\end{matrix}\\right] = \\left[\\begin{matrix}b & 1\\\\1 & 0\\end{matrix}\\right] \\left[\\begin{matrix}0\\\\e_{0}\\end{matrix}\\right] + \\left[\\begin{matrix}a & b g & 1 - b\\\\0 & g & 0\\end{matrix}\\right] \\left[\\begin{matrix}1\\\\P_{t}\\\\D_{t-1}\\end{matrix}\\right]$"
      ],
      "text/plain": [
       "Eq(Matrix([\n",
       "[  D_t],\n",
       "[D^*_t]]), Matrix([\n",
       "[b, 1],\n",
       "[1, 0]])*Matrix([\n",
       "[  0],\n",
       "[e_0]]) + Matrix([\n",
       "[a, b*g, 1 - b],\n",
       "[0,   g,     0]])*Matrix([\n",
       "[    1],\n",
       "[  P_t],\n",
       "[D_t-1]]))"
      ]
     },
     "execution_count": 113,
     "metadata": {},
     "output_type": "execute_result"
    }
   ],
   "source": [
    "reduced_form_matrix"
   ]
  },
  {
   "cell_type": "markdown",
   "metadata": {},
   "source": [
    "### Приведенная форма (система)"
   ]
  },
  {
   "cell_type": "code",
   "execution_count": 114,
   "metadata": {
    "pycharm": {
     "name": "#%%\n"
    }
   },
   "outputs": [
    {
     "data": {
      "text/latex": [
       "$\\displaystyle D_{t} = - D_{t-1} b + D_{t-1} + P_{t} b g + a + e_{0}$"
      ],
      "text/plain": [
       "Eq(D_t, -D_t-1*b + D_t-1 + P_t*b*g + a + e_0)"
      ]
     },
     "execution_count": 114,
     "metadata": {},
     "output_type": "execute_result"
    }
   ],
   "source": [
    "Eq(Symbol('D_t'), reduced_form_system[Symbol('D_t')], evaluate=False)"
   ]
  },
  {
   "cell_type": "code",
   "execution_count": 115,
   "metadata": {
    "pycharm": {
     "name": "#%%\n"
    }
   },
   "outputs": [
    {
     "data": {
      "text/latex": [
       "$\\displaystyle D^{*}_{t} = P_{t} g$"
      ],
      "text/plain": [
       "Eq(D^*_t, P_t*g)"
      ]
     },
     "execution_count": 115,
     "metadata": {},
     "output_type": "execute_result"
    }
   ],
   "source": [
    "Eq(Symbol('D^*_t'), reduced_form_system[Symbol('D^*_t')], evaluate=False)"
   ]
  },
  {
   "cell_type": "markdown",
   "metadata": {},
   "source": [
    "## 2.1 Модель Манделла - Флеминга (IS-LM-BP)"
   ]
  },
  {
   "cell_type": "markdown",
   "metadata": {},
   "source": [
    "2.1. Необходимо составить спецификацию модификации модели IS - $L M$ - модели Манделла-Флеминга открытой экономики в краткосрочном периоде с плавающим обменным курсом.\n",
    "\n",
    "Состояние национальной экономики в заданном периоде времени описывается количественными характеристиками $Y, C, I, N X, E, R, L$, $C F, M, P, G, T$"
   ]
  },
  {
   "cell_type": "markdown",
   "metadata": {},
   "source": [
    "где Y - объем (величина) выпуска (совокупный спрос, валовый внутренний продукт);<br>\n",
    "С - уровень потребления;<br>\n",
    "I - объем инвестиций в экономику;<br>\n",
    "R - ставка процента (рефинансирования);<br>\n",
    "L - спрос на деньги в реальном выражении (не путать с уровнем затрат труда!);<br>\n",
    "М - уровень предложения денег;<br>\n",
    "Р - уровень цен;<br>\n",
    "G - объем государственных расходов;<br>\n",
    "Т - уровень налогов.<br>\n",
    "Используя приведенные ниже утверждения, составьте спецификацию макромодели Манделла—Флеминга, предназначенной для объяснения переменных Y, R ,L, I, С, NX, Е и CF значениями переменных М,Р, G и Т.<br>\n",
    "\n",
    "При составлении спецификации модели следует использовать следующие утверждения:\n",
    "1.\tОбъем выпуска Y является суммой частного потребления С, инвестиций I, государственного потребления (расходов) G и чистого экспорта\n",
    "NX;\n",
    "2.\tУровень потребления С объясняется располагаемым доходом (Y — Т), и возрастает в ответ на увеличение этого дохода, при этом каждая дополнительная единица располагаемого дохода потребляется не полностью;\n",
    "3.\tОбъем инвестиций в экономику / объясняется реальной ставкой процента R и снижается в ответ на рост этой ставки;\n",
    "4.\tУровень спроса на деньги в реальном выражении L объясняется реальной ставкой процента R и величиной дохода Y; L снижается при увеличении R и возрастает в ответ на увеличение Y;\n",
    "5.\tНа денежном рынке существует равновесие спроса и предложения денег в реальном выражении;\n",
    "6.\tУровень чистого экспорта NX объясняется номинальным обменным курсом Е, ив ответ на увеличение номинального обменного курса уровень чистого экспорта снижается;\n",
    "7.\tПриток иностранного капитала CF (счет движения капитала платежного баланса) объясняется реальной ставкой процента R и увеличивается в ответ на рост этой ставки;\n",
    "8.\tСчет движения капитала платежного баланса CF и счет текущих операций NX уравновешивают друг друга, т.е. в сумме равны нулю.\n",
    "После составления спецификации модели Манделла-Флеминга преобразуйте ее к приведенной форме. Запишите модель в матричном виде, указав вектора эндогенных и экзогенных векторов, матрицы коэффициентов при эндогенных и экзогенных переменных. Получив приведенную модель запишите результирующую матрицу \\begin{equation}\n",
    "\\mathrm{M}=-\\mathrm{A}^{-1 *} \\mathrm{~B}\n",
    "\\end{equation}\n"
   ]
  },
  {
   "cell_type": "code",
   "execution_count": 116,
   "metadata": {
    "pycharm": {
     "name": "#%%\n"
    }
   },
   "outputs": [],
   "source": [
    "from src.task_2_1 import Y, X, A, B, U, reduced_form_matrix, reduced_form_system"
   ]
  },
  {
   "cell_type": "code",
   "execution_count": 58,
   "metadata": {
    "pycharm": {
     "name": "#%%\n"
    }
   },
   "outputs": [
    {
     "data": {
      "text/latex": [
       "$\\displaystyle Y = \\left[\\begin{matrix}Y\\\\C\\\\I\\\\NX\\\\E\\\\R\\\\L\\\\CF\\end{matrix}\\right]$"
      ],
      "text/plain": [
       "Eq(Y, Matrix([\n",
       "[ Y],\n",
       "[ C],\n",
       "[ I],\n",
       "[NX],\n",
       "[ E],\n",
       "[ R],\n",
       "[ L],\n",
       "[CF]]))"
      ]
     },
     "execution_count": 58,
     "metadata": {},
     "output_type": "execute_result"
    }
   ],
   "source": [
    "Eq(Symbol('Y'), Y, evaluate=False)"
   ]
  },
  {
   "cell_type": "code",
   "execution_count": 59,
   "metadata": {},
   "outputs": [
    {
     "data": {
      "text/latex": [
       "$\\displaystyle X = \\left[\\begin{matrix}1\\\\M\\\\P\\\\G\\\\T\\end{matrix}\\right]$"
      ],
      "text/plain": [
       "Eq(X, Matrix([\n",
       "[1],\n",
       "[M],\n",
       "[P],\n",
       "[G],\n",
       "[T]]))"
      ]
     },
     "execution_count": 59,
     "metadata": {},
     "output_type": "execute_result"
    }
   ],
   "source": [
    "Eq(Symbol('X'), X, evaluate=False)"
   ]
  },
  {
   "cell_type": "code",
   "execution_count": 60,
   "metadata": {},
   "outputs": [
    {
     "data": {
      "text/latex": [
       "$\\displaystyle A = \\left[\\begin{matrix}1 & -1 & -1 & -1 & 0 & 0 & 0 & 0\\\\- b & 1 & 0 & 0 & 0 & 0 & 0 & 0\\\\0 & 0 & 1 & 0 & 0 & - d & 0 & 0\\\\- g & 0 & 0 & 0 & 0 & - h & 1 & 0\\\\0 & 0 & 0 & 0 & 0 & 0 & -1 & 0\\\\0 & 0 & 0 & 1 & - q & 0 & 0 & 0\\\\0 & 0 & 0 & 0 & 0 & - s & 0 & 1\\\\0 & 0 & 0 & 1 & 0 & 0 & 0 & 1\\end{matrix}\\right]$"
      ],
      "text/plain": [
       "Eq(A, Matrix([\n",
       "[ 1, -1, -1, -1,  0,  0,  0, 0],\n",
       "[-b,  1,  0,  0,  0,  0,  0, 0],\n",
       "[ 0,  0,  1,  0,  0, -d,  0, 0],\n",
       "[-g,  0,  0,  0,  0, -h,  1, 0],\n",
       "[ 0,  0,  0,  0,  0,  0, -1, 0],\n",
       "[ 0,  0,  0,  1, -q,  0,  0, 0],\n",
       "[ 0,  0,  0,  0,  0, -s,  0, 1],\n",
       "[ 0,  0,  0,  1,  0,  0,  0, 1]]))"
      ]
     },
     "execution_count": 60,
     "metadata": {},
     "output_type": "execute_result"
    }
   ],
   "source": [
    "Eq(Symbol('A'), A, evaluate=False)"
   ]
  },
  {
   "cell_type": "code",
   "execution_count": 61,
   "metadata": {},
   "outputs": [
    {
     "data": {
      "text/latex": [
       "$\\displaystyle B = \\left[\\begin{matrix}0 & 0 & 0 & -1 & 0\\\\- a & 0 & 0 & 0 & b\\\\- c & 0 & 0 & 0 & 0\\\\- f & 0 & 0 & 0 & 0\\\\0 & 1 & 0 & 0 & 0\\\\- p & 0 & 0 & 0 & 0\\\\- r & 0 & 0 & 0 & 0\\\\0 & 0 & 0 & 0 & 0\\end{matrix}\\right]$"
      ],
      "text/plain": [
       "Eq(B, Matrix([\n",
       "[ 0, 0, 0, -1, 0],\n",
       "[-a, 0, 0,  0, b],\n",
       "[-c, 0, 0,  0, 0],\n",
       "[-f, 0, 0,  0, 0],\n",
       "[ 0, 1, 0,  0, 0],\n",
       "[-p, 0, 0,  0, 0],\n",
       "[-r, 0, 0,  0, 0],\n",
       "[ 0, 0, 0,  0, 0]]))"
      ]
     },
     "execution_count": 61,
     "metadata": {},
     "output_type": "execute_result"
    }
   ],
   "source": [
    "Eq(Symbol('B'), B, evaluate=False)"
   ]
  },
  {
   "cell_type": "code",
   "execution_count": 62,
   "metadata": {},
   "outputs": [
    {
     "data": {
      "text/latex": [
       "$\\displaystyle U = \\left[\\begin{matrix}0\\\\e_{0}\\\\e_{1}\\\\e_{2}\\\\0\\\\e_{3}\\\\e_{4}\\\\0\\end{matrix}\\right]$"
      ],
      "text/plain": [
       "Eq(U, Matrix([\n",
       "[  0],\n",
       "[e_0],\n",
       "[e_1],\n",
       "[e_2],\n",
       "[  0],\n",
       "[e_3],\n",
       "[e_4],\n",
       "[  0]]))"
      ]
     },
     "execution_count": 62,
     "metadata": {},
     "output_type": "execute_result"
    }
   ],
   "source": [
    "Eq(Symbol('U'), U, evaluate=False)"
   ]
  },
  {
   "cell_type": "markdown",
   "metadata": {},
   "source": [
    "### Приведенная форма (матричная)"
   ]
  },
  {
   "cell_type": "code",
   "execution_count": 63,
   "metadata": {},
   "outputs": [
    {
     "data": {
      "text/latex": [
       "$\\displaystyle \\left[\\begin{matrix}Y\\\\C\\\\I\\\\NX\\\\E\\\\R\\\\L\\\\CF\\end{matrix}\\right] = \\left[\\begin{matrix}- \\frac{a h}{b h - d g + g s - h} - \\frac{c h}{b h - d g + g s - h} + \\frac{f \\left(d - s\\right)}{b h - d g + g s - h} + \\frac{h r}{b h - d g + g s - h} & - \\frac{d - s}{b h - d g + g s - h} & 0 & - \\frac{h}{b h - d g + g s - h} & \\frac{b h}{b h - d g + g s - h}\\\\\\frac{a \\left(- d g + g s - h\\right)}{b h - d g + g s - h} - \\frac{b c h}{b h - d g + g s - h} + \\frac{b h r}{b h - d g + g s - h} + \\frac{f \\left(b d - b s\\right)}{b h - d g + g s - h} & - \\frac{b d - b s}{b h - d g + g s - h} & 0 & - \\frac{b h}{b h - d g + g s - h} & - \\frac{b \\left(- d g + g s - h\\right)}{b h - d g + g s - h}\\\\\\frac{a d g}{b h - d g + g s - h} + \\frac{c \\left(b h + g s - h\\right)}{b h - d g + g s - h} - \\frac{d g r}{b h - d g + g s - h} + \\frac{f \\left(- b d + d\\right)}{b h - d g + g s - h} & - \\frac{- b d + d}{b h - d g + g s - h} & 0 & \\frac{d g}{b h - d g + g s - h} & - \\frac{b d g}{b h - d g + g s - h}\\\\- \\frac{a g s}{b h - d g + g s - h} - \\frac{c g s}{b h - d g + g s - h} + \\frac{f \\left(b s - s\\right)}{b h - d g + g s - h} + \\frac{r \\left(- b h + d g + h\\right)}{b h - d g + g s - h} & - \\frac{b s - s}{b h - d g + g s - h} & 0 & - \\frac{g s}{b h - d g + g s - h} & \\frac{b g s}{b h - d g + g s - h}\\\\- \\frac{a g s}{b h q - d g q + g q s - h q} - \\frac{c g s}{b h q - d g q + g q s - h q} + \\frac{f \\left(b s - s\\right)}{b h q - d g q + g q s - h q} - \\frac{p}{q} + \\frac{r \\left(- b h + d g + h\\right)}{b h q - d g q + g q s - h q} & - \\frac{b s - s}{b h q - d g q + g q s - h q} & 0 & - \\frac{g s}{b h q - d g q + g q s - h q} & \\frac{b g s}{b h q - d g q + g q s - h q}\\\\\\frac{a g}{b h - d g + g s - h} + \\frac{c g}{b h - d g + g s - h} + \\frac{f \\left(1 - b\\right)}{b h - d g + g s - h} - \\frac{g r}{b h - d g + g s - h} & - \\frac{1 - b}{b h - d g + g s - h} & 0 & \\frac{g}{b h - d g + g s - h} & - \\frac{b g}{b h - d g + g s - h}\\\\0 & 1 & 0 & 0 & 0\\\\\\frac{a g s}{b h - d g + g s - h} + \\frac{c g s}{b h - d g + g s - h} + \\frac{f \\left(- b s + s\\right)}{b h - d g + g s - h} + \\frac{r \\left(b h - d g - h\\right)}{b h - d g + g s - h} & - \\frac{- b s + s}{b h - d g + g s - h} & 0 & \\frac{g s}{b h - d g + g s - h} & - \\frac{b g s}{b h - d g + g s - h}\\end{matrix}\\right] \\left[\\begin{matrix}1\\\\M\\\\P\\\\G\\\\T\\end{matrix}\\right] + \\left[\\begin{matrix}- \\frac{h}{b h - d g + g s - h} & - \\frac{h}{b h - d g + g s - h} & - \\frac{h}{b h - d g + g s - h} & \\frac{d - s}{b h - d g + g s - h} & \\frac{d - s}{b h - d g + g s - h} & 0 & \\frac{h}{b h - d g + g s - h} & - \\frac{h}{b h - d g + g s - h}\\\\- \\frac{b h}{b h - d g + g s - h} & \\frac{- d g + g s - h}{b h - d g + g s - h} & - \\frac{b h}{b h - d g + g s - h} & \\frac{b d - b s}{b h - d g + g s - h} & \\frac{b d - b s}{b h - d g + g s - h} & 0 & \\frac{b h}{b h - d g + g s - h} & - \\frac{b h}{b h - d g + g s - h}\\\\\\frac{d g}{b h - d g + g s - h} & \\frac{d g}{b h - d g + g s - h} & \\frac{b h + g s - h}{b h - d g + g s - h} & \\frac{- b d + d}{b h - d g + g s - h} & \\frac{- b d + d}{b h - d g + g s - h} & 0 & - \\frac{d g}{b h - d g + g s - h} & \\frac{d g}{b h - d g + g s - h}\\\\- \\frac{g s}{b h - d g + g s - h} & - \\frac{g s}{b h - d g + g s - h} & - \\frac{g s}{b h - d g + g s - h} & \\frac{b s - s}{b h - d g + g s - h} & \\frac{b s - s}{b h - d g + g s - h} & 0 & \\frac{- b h + d g + h}{b h - d g + g s - h} & \\frac{b h - d g - h}{b h - d g + g s - h}\\\\- \\frac{g s}{b h q - d g q + g q s - h q} & - \\frac{g s}{b h q - d g q + g q s - h q} & - \\frac{g s}{b h q - d g q + g q s - h q} & \\frac{b s - s}{b h q - d g q + g q s - h q} & \\frac{b s - s}{b h q - d g q + g q s - h q} & - \\frac{1}{q} & \\frac{- b h + d g + h}{b h q - d g q + g q s - h q} & \\frac{b h - d g - h}{b h q - d g q + g q s - h q}\\\\\\frac{g}{b h - d g + g s - h} & \\frac{g}{b h - d g + g s - h} & \\frac{g}{b h - d g + g s - h} & \\frac{1 - b}{b h - d g + g s - h} & \\frac{1 - b}{b h - d g + g s - h} & 0 & - \\frac{g}{b h - d g + g s - h} & \\frac{g}{b h - d g + g s - h}\\\\0 & 0 & 0 & 0 & -1 & 0 & 0 & 0\\\\\\frac{g s}{b h - d g + g s - h} & \\frac{g s}{b h - d g + g s - h} & \\frac{g s}{b h - d g + g s - h} & \\frac{- b s + s}{b h - d g + g s - h} & \\frac{- b s + s}{b h - d g + g s - h} & 0 & \\frac{b h - d g - h}{b h - d g + g s - h} & \\frac{g s}{b h - d g + g s - h}\\end{matrix}\\right] \\left[\\begin{matrix}0\\\\e_{0}\\\\e_{1}\\\\e_{2}\\\\0\\\\e_{3}\\\\e_{4}\\\\0\\end{matrix}\\right]$"
      ],
      "text/plain": [
       "Eq(Matrix([\n",
       "[ Y],\n",
       "[ C],\n",
       "[ I],\n",
       "[NX],\n",
       "[ E],\n",
       "[ R],\n",
       "[ L],\n",
       "[CF]]), Matrix([\n",
       "[                                                           -a*h/(b*h - d*g + g*s - h) - c*h/(b*h - d*g + g*s - h) + f*(d - s)/(b*h - d*g + g*s - h) + h*r/(b*h - d*g + g*s - h),           -(d - s)/(b*h - d*g + g*s - h), 0,           -h/(b*h - d*g + g*s - h),                 b*h/(b*h - d*g + g*s - h)],\n",
       "[                                     a*(-d*g + g*s - h)/(b*h - d*g + g*s - h) - b*c*h/(b*h - d*g + g*s - h) + b*h*r/(b*h - d*g + g*s - h) + f*(b*d - b*s)/(b*h - d*g + g*s - h),       -(b*d - b*s)/(b*h - d*g + g*s - h), 0,         -b*h/(b*h - d*g + g*s - h), -b*(-d*g + g*s - h)/(b*h - d*g + g*s - h)],\n",
       "[                                       a*d*g/(b*h - d*g + g*s - h) + c*(b*h + g*s - h)/(b*h - d*g + g*s - h) - d*g*r/(b*h - d*g + g*s - h) + f*(-b*d + d)/(b*h - d*g + g*s - h),        -(-b*d + d)/(b*h - d*g + g*s - h), 0,          d*g/(b*h - d*g + g*s - h),              -b*d*g/(b*h - d*g + g*s - h)],\n",
       "[                                      -a*g*s/(b*h - d*g + g*s - h) - c*g*s/(b*h - d*g + g*s - h) + f*(b*s - s)/(b*h - d*g + g*s - h) + r*(-b*h + d*g + h)/(b*h - d*g + g*s - h),         -(b*s - s)/(b*h - d*g + g*s - h), 0,         -g*s/(b*h - d*g + g*s - h),               b*g*s/(b*h - d*g + g*s - h)],\n",
       "[-a*g*s/(b*h*q - d*g*q + g*q*s - h*q) - c*g*s/(b*h*q - d*g*q + g*q*s - h*q) + f*(b*s - s)/(b*h*q - d*g*q + g*q*s - h*q) - p/q + r*(-b*h + d*g + h)/(b*h*q - d*g*q + g*q*s - h*q), -(b*s - s)/(b*h*q - d*g*q + g*q*s - h*q), 0, -g*s/(b*h*q - d*g*q + g*q*s - h*q),       b*g*s/(b*h*q - d*g*q + g*q*s - h*q)],\n",
       "[                                                            a*g/(b*h - d*g + g*s - h) + c*g/(b*h - d*g + g*s - h) + f*(1 - b)/(b*h - d*g + g*s - h) - g*r/(b*h - d*g + g*s - h),           -(1 - b)/(b*h - d*g + g*s - h), 0,            g/(b*h - d*g + g*s - h),                -b*g/(b*h - d*g + g*s - h)],\n",
       "[                                                                                                                                                                              0,                                        1, 0,                                  0,                                         0],\n",
       "[                                       a*g*s/(b*h - d*g + g*s - h) + c*g*s/(b*h - d*g + g*s - h) + f*(-b*s + s)/(b*h - d*g + g*s - h) + r*(b*h - d*g - h)/(b*h - d*g + g*s - h),        -(-b*s + s)/(b*h - d*g + g*s - h), 0,          g*s/(b*h - d*g + g*s - h),              -b*g*s/(b*h - d*g + g*s - h)]])*Matrix([\n",
       "[1],\n",
       "[M],\n",
       "[P],\n",
       "[G],\n",
       "[T]]) + Matrix([\n",
       "[          -h/(b*h - d*g + g*s - h),               -h/(b*h - d*g + g*s - h),              -h/(b*h - d*g + g*s - h),           (d - s)/(b*h - d*g + g*s - h),           (d - s)/(b*h - d*g + g*s - h),    0,                        h/(b*h - d*g + g*s - h),                      -h/(b*h - d*g + g*s - h)],\n",
       "[        -b*h/(b*h - d*g + g*s - h), (-d*g + g*s - h)/(b*h - d*g + g*s - h),            -b*h/(b*h - d*g + g*s - h),       (b*d - b*s)/(b*h - d*g + g*s - h),       (b*d - b*s)/(b*h - d*g + g*s - h),    0,                      b*h/(b*h - d*g + g*s - h),                    -b*h/(b*h - d*g + g*s - h)],\n",
       "[         d*g/(b*h - d*g + g*s - h),              d*g/(b*h - d*g + g*s - h), (b*h + g*s - h)/(b*h - d*g + g*s - h),        (-b*d + d)/(b*h - d*g + g*s - h),        (-b*d + d)/(b*h - d*g + g*s - h),    0,                     -d*g/(b*h - d*g + g*s - h),                     d*g/(b*h - d*g + g*s - h)],\n",
       "[        -g*s/(b*h - d*g + g*s - h),             -g*s/(b*h - d*g + g*s - h),            -g*s/(b*h - d*g + g*s - h),         (b*s - s)/(b*h - d*g + g*s - h),         (b*s - s)/(b*h - d*g + g*s - h),    0,         (-b*h + d*g + h)/(b*h - d*g + g*s - h),         (b*h - d*g - h)/(b*h - d*g + g*s - h)],\n",
       "[-g*s/(b*h*q - d*g*q + g*q*s - h*q),     -g*s/(b*h*q - d*g*q + g*q*s - h*q),    -g*s/(b*h*q - d*g*q + g*q*s - h*q), (b*s - s)/(b*h*q - d*g*q + g*q*s - h*q), (b*s - s)/(b*h*q - d*g*q + g*q*s - h*q), -1/q, (-b*h + d*g + h)/(b*h*q - d*g*q + g*q*s - h*q), (b*h - d*g - h)/(b*h*q - d*g*q + g*q*s - h*q)],\n",
       "[           g/(b*h - d*g + g*s - h),                g/(b*h - d*g + g*s - h),               g/(b*h - d*g + g*s - h),           (1 - b)/(b*h - d*g + g*s - h),           (1 - b)/(b*h - d*g + g*s - h),    0,                       -g/(b*h - d*g + g*s - h),                       g/(b*h - d*g + g*s - h)],\n",
       "[                                 0,                                      0,                                     0,                                       0,                                      -1,    0,                                              0,                                             0],\n",
       "[         g*s/(b*h - d*g + g*s - h),              g*s/(b*h - d*g + g*s - h),             g*s/(b*h - d*g + g*s - h),        (-b*s + s)/(b*h - d*g + g*s - h),        (-b*s + s)/(b*h - d*g + g*s - h),    0,          (b*h - d*g - h)/(b*h - d*g + g*s - h),                     g*s/(b*h - d*g + g*s - h)]])*Matrix([\n",
       "[  0],\n",
       "[e_0],\n",
       "[e_1],\n",
       "[e_2],\n",
       "[  0],\n",
       "[e_3],\n",
       "[e_4],\n",
       "[  0]]))"
      ]
     },
     "execution_count": 63,
     "metadata": {},
     "output_type": "execute_result"
    }
   ],
   "source": [
    "reduced_form_matrix"
   ]
  },
  {
   "cell_type": "markdown",
   "metadata": {},
   "source": [
    "### Приведенная форма (система)"
   ]
  },
  {
   "cell_type": "code",
   "execution_count": 64,
   "metadata": {},
   "outputs": [
    {
     "data": {
      "text/latex": [
       "$\\displaystyle Y = \\frac{- G h - M d + M s + T b h - a h - c h + d e_{2} + d f - e_{0} h - e_{1} h - e_{2} s + e_{4} h - f s + h r}{b h - d g + g s - h}$"
      ],
      "text/plain": [
       "Eq(Y, (-G*h - M*d + M*s + T*b*h - a*h - c*h + d*e_2 + d*f - e_0*h - e_1*h - e_2*s + e_4*h - f*s + h*r)/(b*h - d*g + g*s - h))"
      ]
     },
     "execution_count": 64,
     "metadata": {},
     "output_type": "execute_result"
    }
   ],
   "source": [
    "Eq(Symbol('Y'), reduced_form_system[Symbol('Y')], evaluate=False)"
   ]
  },
  {
   "cell_type": "code",
   "execution_count": 65,
   "metadata": {},
   "outputs": [
    {
     "data": {
      "text/latex": [
       "$\\displaystyle С = \\frac{- G b h - M b d + M b s + T b d g - T b g s + T b h - a d g + a g s - a h - b c h + b d e_{2} + b d f - b e_{1} h - b e_{2} s + b e_{4} h - b f s + b h r - d e_{0} g + e_{0} g s - e_{0} h}{b h - d g + g s - h}$"
      ],
      "text/plain": [
       "Eq(С, (-G*b*h - M*b*d + M*b*s + T*b*d*g - T*b*g*s + T*b*h - a*d*g + a*g*s - a*h - b*c*h + b*d*e_2 + b*d*f - b*e_1*h - b*e_2*s + b*e_4*h - b*f*s + b*h*r - d*e_0*g + e_0*g*s - e_0*h)/(b*h - d*g + g*s - h))"
      ]
     },
     "execution_count": 65,
     "metadata": {},
     "output_type": "execute_result"
    }
   ],
   "source": [
    "Eq(Symbol('С'), reduced_form_system[Symbol('C')], evaluate=False)"
   ]
  },
  {
   "cell_type": "code",
   "execution_count": 66,
   "metadata": {},
   "outputs": [
    {
     "data": {
      "text/latex": [
       "$\\displaystyle I = \\frac{G d g + M b d - M d - T b d g + a d g + b c h - b d e_{2} - b d f + b e_{1} h + c g s - c h + d e_{0} g + d e_{2} - d e_{4} g + d f - d g r + e_{1} g s - e_{1} h}{b h - d g + g s - h}$"
      ],
      "text/plain": [
       "Eq(I, (G*d*g + M*b*d - M*d - T*b*d*g + a*d*g + b*c*h - b*d*e_2 - b*d*f + b*e_1*h + c*g*s - c*h + d*e_0*g + d*e_2 - d*e_4*g + d*f - d*g*r + e_1*g*s - e_1*h)/(b*h - d*g + g*s - h))"
      ]
     },
     "execution_count": 66,
     "metadata": {},
     "output_type": "execute_result"
    }
   ],
   "source": [
    "Eq(Symbol('I'), reduced_form_system[Symbol('I')], evaluate=False)"
   ]
  },
  {
   "cell_type": "code",
   "execution_count": 67,
   "metadata": {},
   "outputs": [
    {
     "data": {
      "text/latex": [
       "$\\displaystyle NX = \\frac{- G g s - M b s + M s + T b g s - a g s + b e_{2} s - b e_{4} h + b f s - b h r - c g s + d e_{4} g + d g r - e_{0} g s - e_{1} g s - e_{2} s + e_{4} h - f s + h r}{b h - d g + g s - h}$"
      ],
      "text/plain": [
       "Eq(NX, (-G*g*s - M*b*s + M*s + T*b*g*s - a*g*s + b*e_2*s - b*e_4*h + b*f*s - b*h*r - c*g*s + d*e_4*g + d*g*r - e_0*g*s - e_1*g*s - e_2*s + e_4*h - f*s + h*r)/(b*h - d*g + g*s - h))"
      ]
     },
     "execution_count": 67,
     "metadata": {},
     "output_type": "execute_result"
    }
   ],
   "source": [
    "Eq(Symbol('NX'), reduced_form_system[Symbol('NX')], evaluate=False)"
   ]
  },
  {
   "cell_type": "code",
   "execution_count": 68,
   "metadata": {},
   "outputs": [
    {
     "data": {
      "text/latex": [
       "$\\displaystyle E = \\frac{- G g s - M b s + M s + T b g s - a g s + b e_{2} s - b e_{3} h - b e_{4} h + b f s - b h p - b h r - c g s + d e_{3} g + d e_{4} g + d g p + d g r - e_{0} g s - e_{1} g s - e_{2} s - e_{3} g s + e_{3} h + e_{4} h - f s - g p s + h p + h r}{b h q - d g q + g q s - h q}$"
      ],
      "text/plain": [
       "Eq(E, (-G*g*s - M*b*s + M*s + T*b*g*s - a*g*s + b*e_2*s - b*e_3*h - b*e_4*h + b*f*s - b*h*p - b*h*r - c*g*s + d*e_3*g + d*e_4*g + d*g*p + d*g*r - e_0*g*s - e_1*g*s - e_2*s - e_3*g*s + e_3*h + e_4*h - f*s - g*p*s + h*p + h*r)/(b*h*q - d*g*q + g*q*s - h*q))"
      ]
     },
     "execution_count": 68,
     "metadata": {},
     "output_type": "execute_result"
    }
   ],
   "source": [
    "Eq(Symbol('E'), reduced_form_system[Symbol('E')], evaluate=False)"
   ]
  },
  {
   "cell_type": "code",
   "execution_count": 69,
   "metadata": {},
   "outputs": [
    {
     "data": {
      "text/latex": [
       "$\\displaystyle R = \\frac{G g + M b - M - T b g + a g - b e_{2} - b f + c g + e_{0} g + e_{1} g + e_{2} - e_{4} g + f - g r}{b h - d g + g s - h}$"
      ],
      "text/plain": [
       "Eq(R, (G*g + M*b - M - T*b*g + a*g - b*e_2 - b*f + c*g + e_0*g + e_1*g + e_2 - e_4*g + f - g*r)/(b*h - d*g + g*s - h))"
      ]
     },
     "execution_count": 69,
     "metadata": {},
     "output_type": "execute_result"
    }
   ],
   "source": [
    "Eq(Symbol('R'), reduced_form_system[Symbol('R')], evaluate=False)"
   ]
  },
  {
   "cell_type": "code",
   "execution_count": 70,
   "metadata": {},
   "outputs": [
    {
     "data": {
      "text/latex": [
       "$\\displaystyle L = M$"
      ],
      "text/plain": [
       "Eq(L, M)"
      ]
     },
     "execution_count": 70,
     "metadata": {},
     "output_type": "execute_result"
    }
   ],
   "source": [
    "Eq(Symbol('L'), reduced_form_system[Symbol('L')], evaluate=False)"
   ]
  },
  {
   "cell_type": "code",
   "execution_count": 71,
   "metadata": {},
   "outputs": [
    {
     "data": {
      "text/latex": [
       "$\\displaystyle CF = \\frac{G g s + M b s - M s - T b g s + a g s - b e_{2} s + b e_{4} h - b f s + b h r + c g s - d e_{4} g - d g r + e_{0} g s + e_{1} g s + e_{2} s - e_{4} h + f s - h r}{b h - d g + g s - h}$"
      ],
      "text/plain": [
       "Eq(CF, (G*g*s + M*b*s - M*s - T*b*g*s + a*g*s - b*e_2*s + b*e_4*h - b*f*s + b*h*r + c*g*s - d*e_4*g - d*g*r + e_0*g*s + e_1*g*s + e_2*s - e_4*h + f*s - h*r)/(b*h - d*g + g*s - h))"
      ]
     },
     "execution_count": 71,
     "metadata": {},
     "output_type": "execute_result"
    }
   ],
   "source": [
    "Eq(Symbol('CF'), reduced_form_system[Symbol('CF')], evaluate=False)"
   ]
  },
  {
   "cell_type": "markdown",
   "metadata": {},
   "source": [
    "## 2.2 Модель денежного и товарного рынков"
   ]
  },
  {
   "attachments": {},
   "cell_type": "markdown",
   "metadata": {},
   "source": [
    "Представленную ниже структурную форму модели преобразуйте к приведенной. Запишите приведенную форму задачи в матричном виде.\n",
    "Модель денежного и товарного рынков\n",
    "\n",
    "\\begin{array}{ll}\n",
    "R t=a 1+b 12 \\cdot Y t+b 14 \\cdot M t & \\text { (функция денежного рынка) } \\\\\n",
    "Y t=a 2+b 21 \\cdot R t+b 23 \\cdot I t+b 25 \\cdot G t & \\text { (функция товарного рынка) } \\\\\n",
    "I t=a 3+b 31 \\cdot R t & \\text { (функция инвестиций) }\n",
    "\\end{array}"
   ]
  },
  {
   "cell_type": "markdown",
   "metadata": {},
   "source": [
    "где:"
   ]
  },
  {
   "attachments": {},
   "cell_type": "markdown",
   "metadata": {},
   "source": [
    "\\begin{aligned}\n",
    "&R t - процентные\\ ставки \\\\\n",
    "&Y t - реальный\\ ВВП\\\\\n",
    "&M t - денежная\\ масса\\\\\n",
    "&I t - внутренние\\ инвестиции\\\\\n",
    "&G t - реальные\\ государственные\\ расходы\n",
    "\\end{aligned}"
   ]
  },
  {
   "cell_type": "code",
   "execution_count": 72,
   "metadata": {
    "pycharm": {
     "name": "#%%\n"
    }
   },
   "outputs": [],
   "source": [
    "from src.task_2_2 import Y, X, A, B, U, reduced_form_matrix, reduced_form_system"
   ]
  },
  {
   "cell_type": "code",
   "execution_count": 73,
   "metadata": {
    "pycharm": {
     "name": "#%%\n"
    }
   },
   "outputs": [
    {
     "data": {
      "text/latex": [
       "$\\displaystyle Y = \\left[\\begin{matrix}R\\\\Y\\\\I\\end{matrix}\\right]$"
      ],
      "text/plain": [
       "Eq(Y, Matrix([\n",
       "[R],\n",
       "[Y],\n",
       "[I]]))"
      ]
     },
     "execution_count": 73,
     "metadata": {},
     "output_type": "execute_result"
    }
   ],
   "source": [
    "Eq(Symbol('Y'), Y, evaluate=False)"
   ]
  },
  {
   "cell_type": "code",
   "execution_count": 74,
   "metadata": {
    "pycharm": {
     "name": "#%%\n"
    }
   },
   "outputs": [
    {
     "data": {
      "text/latex": [
       "$\\displaystyle X = \\left[\\begin{matrix}1\\\\M\\\\G\\end{matrix}\\right]$"
      ],
      "text/plain": [
       "Eq(X, Matrix([\n",
       "[1],\n",
       "[M],\n",
       "[G]]))"
      ]
     },
     "execution_count": 74,
     "metadata": {},
     "output_type": "execute_result"
    }
   ],
   "source": [
    "Eq(Symbol('X'), X, evaluate=False)"
   ]
  },
  {
   "cell_type": "code",
   "execution_count": 75,
   "metadata": {
    "pycharm": {
     "name": "#%%\n"
    }
   },
   "outputs": [
    {
     "data": {
      "text/latex": [
       "$\\displaystyle A = \\left[\\begin{matrix}1 & - b_{12} & 0\\\\- b_{21} & 1 & - b_{23}\\\\- b_{31} & 0 & 1\\end{matrix}\\right]$"
      ],
      "text/plain": [
       "Eq(A, Matrix([\n",
       "[    1, -b_12,     0],\n",
       "[-b_21,     1, -b_23],\n",
       "[-b_31,     0,     1]]))"
      ]
     },
     "execution_count": 75,
     "metadata": {},
     "output_type": "execute_result"
    }
   ],
   "source": [
    "Eq(Symbol('A'), A, evaluate=False)"
   ]
  },
  {
   "cell_type": "code",
   "execution_count": 76,
   "metadata": {
    "pycharm": {
     "name": "#%%\n"
    }
   },
   "outputs": [
    {
     "data": {
      "text/latex": [
       "$\\displaystyle B = \\left[\\begin{matrix}- a_{1} & - b_{14} & 0\\\\- a_{2} & 0 & - b_{25}\\\\- a_{3} & 0 & 0\\end{matrix}\\right]$"
      ],
      "text/plain": [
       "Eq(B, Matrix([\n",
       "[-a_1, -b_14,     0],\n",
       "[-a_2,     0, -b_25],\n",
       "[-a_3,     0,     0]]))"
      ]
     },
     "execution_count": 76,
     "metadata": {},
     "output_type": "execute_result"
    }
   ],
   "source": [
    "Eq(Symbol('B'), B, evaluate=False)"
   ]
  },
  {
   "cell_type": "code",
   "execution_count": 77,
   "metadata": {
    "pycharm": {
     "name": "#%%\n"
    }
   },
   "outputs": [
    {
     "data": {
      "text/latex": [
       "$\\displaystyle U = \\left[\\begin{matrix}0\\\\0\\\\0\\end{matrix}\\right]$"
      ],
      "text/plain": [
       "Eq(U, Matrix([\n",
       "[0],\n",
       "[0],\n",
       "[0]]))"
      ]
     },
     "execution_count": 77,
     "metadata": {},
     "output_type": "execute_result"
    }
   ],
   "source": [
    "Eq(Symbol('U'), U, evaluate=False)"
   ]
  },
  {
   "cell_type": "markdown",
   "metadata": {},
   "source": [
    "### Приведенная форма (матричная)"
   ]
  },
  {
   "cell_type": "code",
   "execution_count": 78,
   "metadata": {
    "pycharm": {
     "name": "#%%\n"
    }
   },
   "outputs": [
    {
     "data": {
      "text/latex": [
       "$\\displaystyle \\left[\\begin{matrix}R\\\\Y\\\\I\\end{matrix}\\right] = \\left[\\begin{matrix}- \\frac{a_{1}}{b_{12} b_{21} + b_{12} b_{23} b_{31} - 1} - \\frac{a_{2} b_{12}}{b_{12} b_{21} + b_{12} b_{23} b_{31} - 1} - \\frac{a_{3} b_{12} b_{23}}{b_{12} b_{21} + b_{12} b_{23} b_{31} - 1} & - \\frac{b_{14}}{b_{12} b_{21} + b_{12} b_{23} b_{31} - 1} & - \\frac{b_{12} b_{25}}{b_{12} b_{21} + b_{12} b_{23} b_{31} - 1}\\\\\\frac{a_{1} \\left(- b_{21} - b_{23} b_{31}\\right)}{b_{12} b_{21} + b_{12} b_{23} b_{31} - 1} - \\frac{a_{2}}{b_{12} b_{21} + b_{12} b_{23} b_{31} - 1} - \\frac{a_{3} b_{23}}{b_{12} b_{21} + b_{12} b_{23} b_{31} - 1} & \\frac{b_{14} \\left(- b_{21} - b_{23} b_{31}\\right)}{b_{12} b_{21} + b_{12} b_{23} b_{31} - 1} & - \\frac{b_{25}}{b_{12} b_{21} + b_{12} b_{23} b_{31} - 1}\\\\- \\frac{a_{1} b_{31}}{b_{12} b_{21} + b_{12} b_{23} b_{31} - 1} - \\frac{a_{2} b_{12} b_{31}}{b_{12} b_{21} + b_{12} b_{23} b_{31} - 1} + \\frac{a_{3} \\left(b_{12} b_{21} - 1\\right)}{b_{12} b_{21} + b_{12} b_{23} b_{31} - 1} & - \\frac{b_{14} b_{31}}{b_{12} b_{21} + b_{12} b_{23} b_{31} - 1} & - \\frac{b_{12} b_{25} b_{31}}{b_{12} b_{21} + b_{12} b_{23} b_{31} - 1}\\end{matrix}\\right] \\left[\\begin{matrix}1\\\\M\\\\G\\end{matrix}\\right]$"
      ],
      "text/plain": [
       "Eq(Matrix([\n",
       "[R],\n",
       "[Y],\n",
       "[I]]), Matrix([\n",
       "[                -a_1/(b_12*b_21 + b_12*b_23*b_31 - 1) - a_2*b_12/(b_12*b_21 + b_12*b_23*b_31 - 1) - a_3*b_12*b_23/(b_12*b_21 + b_12*b_23*b_31 - 1),                    -b_14/(b_12*b_21 + b_12*b_23*b_31 - 1),      -b_12*b_25/(b_12*b_21 + b_12*b_23*b_31 - 1)],\n",
       "[       a_1*(-b_21 - b_23*b_31)/(b_12*b_21 + b_12*b_23*b_31 - 1) - a_2/(b_12*b_21 + b_12*b_23*b_31 - 1) - a_3*b_23/(b_12*b_21 + b_12*b_23*b_31 - 1), b_14*(-b_21 - b_23*b_31)/(b_12*b_21 + b_12*b_23*b_31 - 1),           -b_25/(b_12*b_21 + b_12*b_23*b_31 - 1)],\n",
       "[-a_1*b_31/(b_12*b_21 + b_12*b_23*b_31 - 1) - a_2*b_12*b_31/(b_12*b_21 + b_12*b_23*b_31 - 1) + a_3*(b_12*b_21 - 1)/(b_12*b_21 + b_12*b_23*b_31 - 1),               -b_14*b_31/(b_12*b_21 + b_12*b_23*b_31 - 1), -b_12*b_25*b_31/(b_12*b_21 + b_12*b_23*b_31 - 1)]])*Matrix([\n",
       "[1],\n",
       "[M],\n",
       "[G]]))"
      ]
     },
     "execution_count": 78,
     "metadata": {},
     "output_type": "execute_result"
    }
   ],
   "source": [
    "reduced_form_matrix"
   ]
  },
  {
   "cell_type": "markdown",
   "metadata": {},
   "source": [
    "### Приведенная форма (система)"
   ]
  },
  {
   "cell_type": "code",
   "execution_count": 79,
   "metadata": {
    "pycharm": {
     "name": "#%%\n"
    }
   },
   "outputs": [
    {
     "data": {
      "text/latex": [
       "$\\displaystyle R = \\frac{- G b_{12} b_{25} - M b_{14} - a_{1} - a_{2} b_{12} - a_{3} b_{12} b_{23}}{b_{12} b_{21} + b_{12} b_{23} b_{31} - 1}$"
      ],
      "text/plain": [
       "Eq(R, (-G*b_12*b_25 - M*b_14 - a_1 - a_2*b_12 - a_3*b_12*b_23)/(b_12*b_21 + b_12*b_23*b_31 - 1))"
      ]
     },
     "execution_count": 79,
     "metadata": {},
     "output_type": "execute_result"
    }
   ],
   "source": [
    "Eq(Symbol('R'), reduced_form_system[Symbol('R')], evaluate=False)"
   ]
  },
  {
   "cell_type": "code",
   "execution_count": 80,
   "metadata": {
    "pycharm": {
     "name": "#%%\n"
    }
   },
   "outputs": [
    {
     "data": {
      "text/latex": [
       "$\\displaystyle I = \\frac{- G b_{12} b_{25} b_{31} - M b_{14} b_{31} - a_{1} b_{31} - a_{2} b_{12} b_{31} + a_{3} b_{12} b_{21} - a_{3}}{b_{12} b_{21} + b_{12} b_{23} b_{31} - 1}$"
      ],
      "text/plain": [
       "Eq(I, (-G*b_12*b_25*b_31 - M*b_14*b_31 - a_1*b_31 - a_2*b_12*b_31 + a_3*b_12*b_21 - a_3)/(b_12*b_21 + b_12*b_23*b_31 - 1))"
      ]
     },
     "execution_count": 80,
     "metadata": {},
     "output_type": "execute_result"
    }
   ],
   "source": [
    "Eq(Symbol('I'), reduced_form_system[Symbol('I')], evaluate=False)"
   ]
  },
  {
   "cell_type": "code",
   "execution_count": 81,
   "metadata": {
    "pycharm": {
     "name": "#%%\n"
    }
   },
   "outputs": [
    {
     "data": {
      "text/latex": [
       "$\\displaystyle Y = \\frac{- G b_{25} - M b_{14} b_{21} - M b_{14} b_{23} b_{31} - a_{1} b_{21} - a_{1} b_{23} b_{31} - a_{2} - a_{3} b_{23}}{b_{12} b_{21} + b_{12} b_{23} b_{31} - 1}$"
      ],
      "text/plain": [
       "Eq(Y, (-G*b_25 - M*b_14*b_21 - M*b_14*b_23*b_31 - a_1*b_21 - a_1*b_23*b_31 - a_2 - a_3*b_23)/(b_12*b_21 + b_12*b_23*b_31 - 1))"
      ]
     },
     "execution_count": 81,
     "metadata": {},
     "output_type": "execute_result"
    }
   ],
   "source": [
    "Eq(Symbol('Y'), reduced_form_system[Symbol('Y')], evaluate=False)"
   ]
  },
  {
   "cell_type": "markdown",
   "metadata": {},
   "source": [
    "## 2.3 Гипотетическая модель экономики"
   ]
  },
  {
   "cell_type": "markdown",
   "metadata": {},
   "source": [
    "Представленную ниже структурную форму модели преобразуйте к приведенной. Запишите приведенную форму задачи в матричном виде.\n",
    "Гипотетическая модель экономики:\n",
    "\\begin{aligned}\n",
    "&C t=a 1+b 11 \\cdot Y t+b 12 \\cdot J t \\\\\n",
    "&J t=a 2+b 21 \\cdot Y t-1 \\\\\n",
    "&T t=a 3+b 31 \\cdot Y t \\\\\n",
    "&Y t=C t+J t+G t\n",
    "\\end{aligned}"
   ]
  },
  {
   "cell_type": "markdown",
   "metadata": {},
   "source": [
    "где:"
   ]
  },
  {
   "attachments": {},
   "cell_type": "markdown",
   "metadata": {},
   "source": [
    "\\begin{aligned}\n",
    "&C t - совокупное\\ потребление\\ в\\ период t\\\\\n",
    "&Y t - совокупный\\ доход\\ в\\ период\\ t\\\\\n",
    "&J t - инвестиции\\ в\\ период\\ t\\\\\n",
    "&T t - налоги\\ в\\ период\\ t\\\\\n",
    "&G t - государственные\\ доходы\\ в\\ период\\ t\n",
    "\\end{aligned}"
   ]
  },
  {
   "cell_type": "code",
   "execution_count": 82,
   "metadata": {},
   "outputs": [],
   "source": [
    "from src.task_2_3 import Y, X, A, B, U, reduced_form_matrix, reduced_form_system"
   ]
  },
  {
   "cell_type": "code",
   "execution_count": 83,
   "metadata": {},
   "outputs": [
    {
     "data": {
      "text/latex": [
       "$\\displaystyle Y = \\left[\\begin{matrix}C\\\\J\\\\T\\\\Y\\end{matrix}\\right]$"
      ],
      "text/plain": [
       "Eq(Y, Matrix([\n",
       "[C],\n",
       "[J],\n",
       "[T],\n",
       "[Y]]))"
      ]
     },
     "execution_count": 83,
     "metadata": {},
     "output_type": "execute_result"
    }
   ],
   "source": [
    "Eq(Symbol('Y'), Y, evaluate=False)"
   ]
  },
  {
   "cell_type": "code",
   "execution_count": 84,
   "metadata": {},
   "outputs": [
    {
     "data": {
      "text/latex": [
       "$\\displaystyle X = \\left[\\begin{matrix}1\\\\Y_{t-1}\\\\G\\end{matrix}\\right]$"
      ],
      "text/plain": [
       "Eq(X, Matrix([\n",
       "[    1],\n",
       "[Y_t-1],\n",
       "[    G]]))"
      ]
     },
     "execution_count": 84,
     "metadata": {},
     "output_type": "execute_result"
    }
   ],
   "source": [
    "Eq(Symbol('X'), X, evaluate=False)"
   ]
  },
  {
   "cell_type": "code",
   "execution_count": 85,
   "metadata": {},
   "outputs": [
    {
     "data": {
      "text/latex": [
       "$\\displaystyle A = \\left[\\begin{matrix}1 & - b_{12} & 0 & - b_{11}\\\\0 & 1 & 0 & 0\\\\0 & 0 & 1 & - b_{31}\\\\-1 & -1 & 0 & 1\\end{matrix}\\right]$"
      ],
      "text/plain": [
       "Eq(A, Matrix([\n",
       "[ 1, -b_12, 0, -b_11],\n",
       "[ 0,     1, 0,     0],\n",
       "[ 0,     0, 1, -b_31],\n",
       "[-1,    -1, 0,     1]]))"
      ]
     },
     "execution_count": 85,
     "metadata": {},
     "output_type": "execute_result"
    }
   ],
   "source": [
    "Eq(Symbol('A'), A, evaluate=False)"
   ]
  },
  {
   "cell_type": "code",
   "execution_count": 86,
   "metadata": {},
   "outputs": [
    {
     "data": {
      "text/latex": [
       "$\\displaystyle B = \\left[\\begin{matrix}- a_{1} & 0 & 0\\\\- a_{2} & - b_{21} & 0\\\\- a_{3} & 0 & 0\\\\0 & 0 & -1\\end{matrix}\\right]$"
      ],
      "text/plain": [
       "Eq(B, Matrix([\n",
       "[-a_1,     0,  0],\n",
       "[-a_2, -b_21,  0],\n",
       "[-a_3,     0,  0],\n",
       "[   0,     0, -1]]))"
      ]
     },
     "execution_count": 86,
     "metadata": {},
     "output_type": "execute_result"
    }
   ],
   "source": [
    "Eq(Symbol('B'), B, evaluate=False)"
   ]
  },
  {
   "cell_type": "code",
   "execution_count": 87,
   "metadata": {},
   "outputs": [
    {
     "data": {
      "text/latex": [
       "$\\displaystyle U = \\left[\\begin{matrix}0\\\\0\\\\0\\\\0\\end{matrix}\\right]$"
      ],
      "text/plain": [
       "Eq(U, Matrix([\n",
       "[0],\n",
       "[0],\n",
       "[0],\n",
       "[0]]))"
      ]
     },
     "execution_count": 87,
     "metadata": {},
     "output_type": "execute_result"
    }
   ],
   "source": [
    "Eq(Symbol('U'), U, evaluate=False)"
   ]
  },
  {
   "cell_type": "markdown",
   "metadata": {
    "pycharm": {
     "name": "#%% md\n"
    }
   },
   "source": [
    "### Приведенная форма (матричная)"
   ]
  },
  {
   "cell_type": "code",
   "execution_count": 88,
   "metadata": {},
   "outputs": [
    {
     "data": {
      "text/latex": [
       "$\\displaystyle \\left[\\begin{matrix}C\\\\J\\\\T\\\\Y\\end{matrix}\\right] = \\left[\\begin{matrix}\\frac{a_{1}}{1 - b_{11}} + \\frac{a_{2} \\left(b_{11} + b_{12}\\right)}{1 - b_{11}} & \\frac{b_{21} \\left(b_{11} + b_{12}\\right)}{1 - b_{11}} & \\frac{b_{11}}{1 - b_{11}}\\\\a_{2} & b_{21} & 0\\\\\\frac{a_{1} b_{31}}{1 - b_{11}} + \\frac{a_{2} \\left(- b_{12} b_{31} - b_{31}\\right)}{b_{11} - 1} + a_{3} & \\frac{b_{21} \\left(- b_{12} b_{31} - b_{31}\\right)}{b_{11} - 1} & \\frac{b_{31}}{1 - b_{11}}\\\\\\frac{a_{1}}{1 - b_{11}} - a_{2} \\left(- \\frac{b_{12}}{1 - b_{11}} - \\frac{1}{1 - b_{11}}\\right) & - b_{21} \\left(- \\frac{b_{12}}{1 - b_{11}} - \\frac{1}{1 - b_{11}}\\right) & \\frac{1}{1 - b_{11}}\\end{matrix}\\right] \\left[\\begin{matrix}1\\\\Y_{t-1}\\\\G\\end{matrix}\\right]$"
      ],
      "text/plain": [
       "Eq(Matrix([\n",
       "[C],\n",
       "[J],\n",
       "[T],\n",
       "[Y]]), Matrix([\n",
       "[                 a_1/(1 - b_11) + a_2*(b_11 + b_12)/(1 - b_11),           b_21*(b_11 + b_12)/(1 - b_11), b_11/(1 - b_11)],\n",
       "[                                                           a_2,                                    b_21,               0],\n",
       "[a_1*b_31/(1 - b_11) + a_2*(-b_12*b_31 - b_31)/(b_11 - 1) + a_3,     b_21*(-b_12*b_31 - b_31)/(b_11 - 1), b_31/(1 - b_11)],\n",
       "[        a_1/(1 - b_11) - a_2*(-b_12/(1 - b_11) - 1/(1 - b_11)), -b_21*(-b_12/(1 - b_11) - 1/(1 - b_11)),    1/(1 - b_11)]])*Matrix([\n",
       "[    1],\n",
       "[Y_t-1],\n",
       "[    G]]))"
      ]
     },
     "execution_count": 88,
     "metadata": {},
     "output_type": "execute_result"
    }
   ],
   "source": [
    "reduced_form_matrix"
   ]
  },
  {
   "cell_type": "markdown",
   "metadata": {
    "pycharm": {
     "name": "#%% md\n"
    }
   },
   "source": [
    "### Приведенная форма (система)"
   ]
  },
  {
   "cell_type": "code",
   "execution_count": 89,
   "metadata": {
    "pycharm": {
     "name": "#%%\n"
    }
   },
   "outputs": [
    {
     "data": {
      "text/latex": [
       "$\\displaystyle C = \\frac{- G b_{11} - Y_{t-1} b_{11} b_{21} - Y_{t-1} b_{12} b_{21} - a_{1} - a_{2} b_{11} - a_{2} b_{12}}{b_{11} - 1}$"
      ],
      "text/plain": [
       "Eq(C, (-G*b_11 - Y_t-1*b_11*b_21 - Y_t-1*b_12*b_21 - a_1 - a_2*b_11 - a_2*b_12)/(b_11 - 1))"
      ]
     },
     "execution_count": 89,
     "metadata": {},
     "output_type": "execute_result"
    }
   ],
   "source": [
    "Eq(Symbol('C'), reduced_form_system[Symbol('C')], evaluate=False)"
   ]
  },
  {
   "cell_type": "code",
   "execution_count": 90,
   "metadata": {
    "pycharm": {
     "name": "#%%\n"
    }
   },
   "outputs": [
    {
     "data": {
      "text/latex": [
       "$\\displaystyle J = Y_{t-1} b_{21} + a_{2}$"
      ],
      "text/plain": [
       "Eq(J, Y_t-1*b_21 + a_2)"
      ]
     },
     "execution_count": 90,
     "metadata": {},
     "output_type": "execute_result"
    }
   ],
   "source": [
    "Eq(Symbol('J'), reduced_form_system[Symbol('J')], evaluate=False)"
   ]
  },
  {
   "cell_type": "code",
   "execution_count": 91,
   "metadata": {
    "pycharm": {
     "name": "#%%\n"
    }
   },
   "outputs": [
    {
     "data": {
      "text/latex": [
       "$\\displaystyle T = \\frac{- G b_{31} - Y_{t-1} b_{12} b_{21} b_{31} - Y_{t-1} b_{21} b_{31} - a_{1} b_{31} - a_{2} b_{12} b_{31} - a_{2} b_{31} + a_{3} b_{11} - a_{3}}{b_{11} - 1}$"
      ],
      "text/plain": [
       "Eq(T, (-G*b_31 - Y_t-1*b_12*b_21*b_31 - Y_t-1*b_21*b_31 - a_1*b_31 - a_2*b_12*b_31 - a_2*b_31 + a_3*b_11 - a_3)/(b_11 - 1))"
      ]
     },
     "execution_count": 91,
     "metadata": {},
     "output_type": "execute_result"
    }
   ],
   "source": [
    "Eq(Symbol('T'), reduced_form_system[Symbol('T')], evaluate=False)"
   ]
  },
  {
   "cell_type": "code",
   "execution_count": 92,
   "metadata": {
    "pycharm": {
     "name": "#%%\n"
    }
   },
   "outputs": [
    {
     "data": {
      "text/latex": [
       "$\\displaystyle Y = \\frac{- G - Y_{t-1} b_{12} b_{21} - Y_{t-1} b_{21} - a_{1} - a_{2} b_{12} - a_{2}}{b_{11} - 1}$"
      ],
      "text/plain": [
       "Eq(Y, (-G - Y_t-1*b_12*b_21 - Y_t-1*b_21 - a_1 - a_2*b_12 - a_2)/(b_11 - 1))"
      ]
     },
     "execution_count": 92,
     "metadata": {},
     "output_type": "execute_result"
    }
   ],
   "source": [
    "Eq(Symbol('Y'), reduced_form_system[Symbol('Y')], evaluate=False)"
   ]
  },
  {
   "cell_type": "markdown",
   "metadata": {},
   "source": [
    "## 2.4. Форма отчета по разделу 2 «Составление спецификации эконометрической модели»"
   ]
  },
  {
   "cell_type": "markdown",
   "metadata": {},
   "source": [
    "По проведенным исследованиям моделей в п. 2.1-2.3 представить:\n",
    "-\tзапись исходной спецификации модели, т.е. структурной ее формы;\n",
    "-\tзапись приведенной формы модели;\n",
    "-\tматричная запись моделей: вектор эндогенных переменных, вектор экзогенных переменных, вектор случайных возмущений, матрицу А, матрицу В, матрицу М - приведенной формы модели \\begin{equation}\n",
    "\\mathrm{M}=-\\mathrm{A}^{-1 *} \\mathrm{~B}\n",
    "\\end{equation}"
   ]
  },
  {
   "cell_type": "code",
   "execution_count": null,
   "metadata": {},
   "outputs": [],
   "source": []
  },
  {
   "cell_type": "code",
   "execution_count": null,
   "metadata": {},
   "outputs": [],
   "source": []
  }
 ],
 "metadata": {
  "kernelspec": {
   "display_name": "Python 3 (ipykernel)",
   "language": "python",
   "name": "python3"
  },
  "language_info": {
   "codemirror_mode": {
    "name": "ipython",
    "version": 3
   },
   "file_extension": ".py",
   "mimetype": "text/x-python",
   "name": "python",
   "nbconvert_exporter": "python",
   "pygments_lexer": "ipython3",
   "version": "3.9.7"
  }
 },
 "nbformat": 4,
 "nbformat_minor": 1
}

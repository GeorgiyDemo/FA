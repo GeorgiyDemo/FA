{
 "cells": [
  {
   "cell_type": "code",
   "execution_count": 25,
   "id": "cce0036f",
   "metadata": {},
   "outputs": [],
   "source": [
    "import pyopencl"
   ]
  },
  {
   "cell_type": "code",
   "execution_count": 26,
   "id": "b4a35f9f",
   "metadata": {},
   "outputs": [
    {
     "data": {
      "text/plain": [
       "(2022, 2, 4)"
      ]
     },
     "execution_count": 26,
     "metadata": {},
     "output_type": "execute_result"
    }
   ],
   "source": [
    "pyopencl.VERSION"
   ]
  },
  {
   "cell_type": "code",
   "execution_count": 27,
   "id": "4c8eab51",
   "metadata": {},
   "outputs": [
    {
     "ename": "RuntimeError",
     "evalue": "not all provided choices were used by create_some_context. (left over: '0')",
     "output_type": "error",
     "traceback": [
      "\u001b[0;31m---------------------------------------------------------------------------\u001b[0m",
      "\u001b[0;31mRuntimeError\u001b[0m                              Traceback (most recent call last)",
      "Input \u001b[0;32mIn [27]\u001b[0m, in \u001b[0;36m<cell line: 3>\u001b[0;34m()\u001b[0m\n\u001b[1;32m      1\u001b[0m \u001b[38;5;28;01mimport\u001b[39;00m \u001b[38;5;21;01mpyopencl\u001b[39;00m \u001b[38;5;28;01mas\u001b[39;00m \u001b[38;5;21;01mcl\u001b[39;00m\n\u001b[1;32m      2\u001b[0m kcode \u001b[38;5;241m=\u001b[39m \u001b[38;5;124m\"\"\"\u001b[39m\u001b[38;5;124m kernel void test () \u001b[39m\u001b[38;5;124m{\u001b[39m\u001b[38;5;124m printf (\u001b[39m\u001b[38;5;124m\"\u001b[39m\u001b[38;5;124m Hi! (\u001b[39m\u001b[38;5;132;01m%d\u001b[39;00m\u001b[38;5;124m)\u001b[39m\u001b[38;5;130;01m\\\\\u001b[39;00m\u001b[38;5;124mn\u001b[39m\u001b[38;5;124m\"\u001b[39m\u001b[38;5;124m , get_group_id (0)); } \u001b[39m\u001b[38;5;124m\"\"\"\u001b[39m\n\u001b[0;32m----> 3\u001b[0m ctx \u001b[38;5;241m=\u001b[39m \u001b[43mcl\u001b[49m\u001b[38;5;241;43m.\u001b[39;49m\u001b[43mcreate_some_context\u001b[49m\u001b[43m \u001b[49m\u001b[43m(\u001b[49m\u001b[43m)\u001b[49m\n\u001b[1;32m      4\u001b[0m Q \u001b[38;5;241m=\u001b[39m cl\u001b[38;5;241m.\u001b[39mCommandQueue (ctx)\n\u001b[1;32m      5\u001b[0m prg \u001b[38;5;241m=\u001b[39m cl\u001b[38;5;241m.\u001b[39mProgram (ctx, kcode)\u001b[38;5;241m.\u001b[39mbuild (options \u001b[38;5;241m=\u001b[39m\u001b[38;5;124m\"\u001b[39m\u001b[38;5;124m\"\u001b[39m)\n",
      "File \u001b[0;32m~/conda_env/env/lib/python3.8/site-packages/pyopencl/__init__.py:1679\u001b[0m, in \u001b[0;36mcreate_some_context\u001b[0;34m(interactive, answers)\u001b[0m\n\u001b[1;32m   1675\u001b[0m     cc_print(\u001b[38;5;124m\"\u001b[39m\u001b[38;5;124mSet the environment variable PYOPENCL_CTX=\u001b[39m\u001b[38;5;124m'\u001b[39m\u001b[38;5;132;01m%s\u001b[39;00m\u001b[38;5;124m'\u001b[39m\u001b[38;5;124m to \u001b[39m\u001b[38;5;124m\"\u001b[39m\n\u001b[1;32m   1676\u001b[0m             \u001b[38;5;124m\"\u001b[39m\u001b[38;5;124mavoid being asked again.\u001b[39m\u001b[38;5;124m\"\u001b[39m \u001b[38;5;241m%\u001b[39m \u001b[38;5;124m\"\u001b[39m\u001b[38;5;124m:\u001b[39m\u001b[38;5;124m\"\u001b[39m\u001b[38;5;241m.\u001b[39mjoin(user_inputs))\n\u001b[1;32m   1678\u001b[0m \u001b[38;5;28;01mif\u001b[39;00m answers:\n\u001b[0;32m-> 1679\u001b[0m     \u001b[38;5;28;01mraise\u001b[39;00m \u001b[38;5;167;01mRuntimeError\u001b[39;00m(\u001b[38;5;124m\"\u001b[39m\u001b[38;5;124mnot all provided choices were used by \u001b[39m\u001b[38;5;124m\"\u001b[39m\n\u001b[1;32m   1680\u001b[0m             \u001b[38;5;124m\"\u001b[39m\u001b[38;5;124mcreate_some_context. (left over: \u001b[39m\u001b[38;5;124m'\u001b[39m\u001b[38;5;132;01m%s\u001b[39;00m\u001b[38;5;124m'\u001b[39m\u001b[38;5;124m)\u001b[39m\u001b[38;5;124m\"\u001b[39m \u001b[38;5;241m%\u001b[39m \u001b[38;5;124m\"\u001b[39m\u001b[38;5;124m:\u001b[39m\u001b[38;5;124m\"\u001b[39m\u001b[38;5;241m.\u001b[39mjoin(answers))\n\u001b[1;32m   1682\u001b[0m \u001b[38;5;28;01mreturn\u001b[39;00m Context(devices)\n",
      "\u001b[0;31mRuntimeError\u001b[0m: not all provided choices were used by create_some_context. (left over: '0')"
     ]
    }
   ],
   "source": [
    "import pyopencl as cl\n",
    "kcode = \"\"\" kernel void test () { printf (\" Hi! (%d)\\\\n\" , get_group_id (0)); } \"\"\"\n",
    "ctx = cl.create_some_context ()\n",
    "Q = cl.CommandQueue (ctx)\n",
    "prg = cl.Program (ctx, kcode).build (options =\"\")\n",
    "prg.test (Q, [8], [1]) . wait ()\n"
   ]
  },
  {
   "cell_type": "code",
   "execution_count": 28,
   "id": "e18e4b1d",
   "metadata": {},
   "outputs": [
    {
     "data": {
      "text/plain": [
       "[(<pyopencl.Platform 'Apple' at 0x600001630730>,\n",
       "  [<pyopencl.Device 'Apple M1' on 'Apple' at 0x6000014302e0>])]"
      ]
     },
     "execution_count": 28,
     "metadata": {},
     "output_type": "execute_result"
    }
   ],
   "source": [
    "from pyopencl.tools import get_test_platforms_and_devices\n",
    "get_test_platforms_and_devices()\n"
   ]
  },
  {
   "cell_type": "code",
   "execution_count": 17,
   "id": "78ee43f9",
   "metadata": {},
   "outputs": [],
   "source": [
    "import os\n",
    "os.environ ['PYOPENCL_COMPILER_OUTPUT'] = '1'\n",
    "os.environ ['PYOPENCL_CTX'] = '0:0'"
   ]
  },
  {
   "cell_type": "code",
   "execution_count": 18,
   "id": "61f72e92",
   "metadata": {},
   "outputs": [],
   "source": [
    "import numba"
   ]
  },
  {
   "cell_type": "code",
   "execution_count": 19,
   "id": "76c7f761",
   "metadata": {},
   "outputs": [
    {
     "name": "stdout",
     "output_type": "stream",
     "text": [
      "0.56.3\n"
     ]
    }
   ],
   "source": [
    "print(numba.__version__)"
   ]
  },
  {
   "cell_type": "code",
   "execution_count": 20,
   "id": "0dd27d6e",
   "metadata": {},
   "outputs": [
    {
     "name": "stdout",
     "output_type": "stream",
     "text": [
      "36.0\n"
     ]
    }
   ],
   "source": [
    "from numba import jit\n",
    "from numpy import arange\n",
    "@jit\n",
    "def Sum2D ( arr ):\n",
    "    M , N = arr . shape\n",
    "    result = 0.0\n",
    "    for i in range ( M ):\n",
    "        for j in range ( N ):\n",
    "            result += arr [i , j]\n",
    "    return result\n",
    "a = arange ( 9 ) . reshape (3 , 3 )\n",
    "print ( Sum2D ( a ) )"
   ]
  },
  {
   "cell_type": "code",
   "execution_count": 21,
   "id": "9a344cae",
   "metadata": {},
   "outputs": [
    {
     "data": {
      "text/plain": [
       "''"
      ]
     },
     "execution_count": 21,
     "metadata": {},
     "output_type": "execute_result"
    }
   ],
   "source": [
    "pyopencl.VERSION_STATUS"
   ]
  },
  {
   "cell_type": "code",
   "execution_count": 22,
   "id": "c50668b5",
   "metadata": {},
   "outputs": [
    {
     "data": {
      "text/plain": [
       "'2022.2.4'"
      ]
     },
     "execution_count": 22,
     "metadata": {},
     "output_type": "execute_result"
    }
   ],
   "source": [
    "pyopencl.VERSION_TEXT"
   ]
  },
  {
   "cell_type": "code",
   "execution_count": 23,
   "id": "3a0b5972",
   "metadata": {},
   "outputs": [
    {
     "data": {
      "text/plain": [
       "(3, 0)"
      ]
     },
     "execution_count": 23,
     "metadata": {},
     "output_type": "execute_result"
    }
   ],
   "source": [
    "pyopencl.get_cl_header_version()"
   ]
  },
  {
   "cell_type": "code",
   "execution_count": 24,
   "id": "639457a8",
   "metadata": {},
   "outputs": [
    {
     "data": {
      "text/plain": [
       "[<pyopencl.Platform 'Apple' at 0x600001630730>]"
      ]
     },
     "execution_count": 24,
     "metadata": {},
     "output_type": "execute_result"
    }
   ],
   "source": [
    "pyopencl.get_platforms()"
   ]
  },
  {
   "cell_type": "code",
   "execution_count": null,
   "id": "d784775a",
   "metadata": {},
   "outputs": [],
   "source": []
  },
  {
   "cell_type": "code",
   "execution_count": null,
   "id": "ccca1382",
   "metadata": {},
   "outputs": [],
   "source": []
  },
  {
   "cell_type": "code",
   "execution_count": null,
   "id": "64c6630b",
   "metadata": {},
   "outputs": [],
   "source": []
  },
  {
   "cell_type": "code",
   "execution_count": null,
   "id": "7699796d",
   "metadata": {},
   "outputs": [],
   "source": []
  }
 ],
 "metadata": {
  "kernelspec": {
   "display_name": "Python 3 (ipykernel)",
   "language": "python",
   "name": "python3"
  },
  "language_info": {
   "codemirror_mode": {
    "name": "ipython",
    "version": 3
   },
   "file_extension": ".py",
   "mimetype": "text/x-python",
   "name": "python",
   "nbconvert_exporter": "python",
   "pygments_lexer": "ipython3",
   "version": "3.8.13"
  }
 },
 "nbformat": 4,
 "nbformat_minor": 5
}

{
 "cells": [
  {
   "cell_type": "code",
   "execution_count": 1,
   "id": "d8274921",
   "metadata": {},
   "outputs": [],
   "source": [
    "import numpy as np\n",
    "import pyopencl as cl\n",
    "import numpy.linalg as la"
   ]
  },
  {
   "cell_type": "code",
   "execution_count": 2,
   "id": "c36ca5c5",
   "metadata": {},
   "outputs": [],
   "source": [
    "vector_dimension = 100"
   ]
  },
  {
   "cell_type": "code",
   "execution_count": 3,
   "id": "792310bc",
   "metadata": {},
   "outputs": [],
   "source": [
    "vector_a = np.random.randint(vector_dimension, size=vector_dimension) \n",
    "vector_b = np.random.randint(vector_dimension, size=vector_dimension)"
   ]
  },
  {
   "cell_type": "code",
   "execution_count": 4,
   "id": "a4ba69cb",
   "metadata": {},
   "outputs": [],
   "source": [
    "platform = cl.get_platforms()[0]\n",
    "device = platform.get_devices()[0]\n",
    "context = cl.Context([device])\n",
    "queue = cl.CommandQueue(context)"
   ]
  },
  {
   "cell_type": "code",
   "execution_count": 5,
   "id": "befe220b",
   "metadata": {},
   "outputs": [],
   "source": [
    "mf = cl.mem_flags \n",
    "a_g = cl.Buffer(context, mf.READ_ONLY | mf.COPY_HOST_PTR, hostbuf=vector_a) \n",
    "b_g = cl.Buffer(context, mf.READ_ONLY | mf.COPY_HOST_PTR, hostbuf=vector_b) "
   ]
  },
  {
   "cell_type": "code",
   "execution_count": 6,
   "id": "243ccc3e",
   "metadata": {},
   "outputs": [],
   "source": [
    "program = cl.Program(context, \"\"\" \n",
    "__kernel void vectorSum(__global const int *a_g, __global const int *b_g, __global int *res_g) { \n",
    "  int gid = get_global_id(0); \n",
    "  res_g[gid] = a_g[gid] + b_g[gid]; \n",
    "} \n",
    "\"\"\").build()"
   ]
  },
  {
   "cell_type": "code",
   "execution_count": 7,
   "id": "2b7277b5",
   "metadata": {},
   "outputs": [],
   "source": [
    "res_g = cl.Buffer(context, mf.WRITE_ONLY, vector_a.nbytes)"
   ]
  },
  {
   "cell_type": "code",
   "execution_count": 8,
   "id": "75dcef6f",
   "metadata": {},
   "outputs": [
    {
     "data": {
      "text/plain": [
       "<pyopencl._cl.Event at 0x1042b4c70>"
      ]
     },
     "execution_count": 8,
     "metadata": {},
     "output_type": "execute_result"
    }
   ],
   "source": [
    "program.vectorSum(queue, vector_a.shape, None, a_g, b_g, res_g)"
   ]
  },
  {
   "cell_type": "code",
   "execution_count": 9,
   "id": "abf45071",
   "metadata": {},
   "outputs": [],
   "source": [
    "res_np = np.empty_like(vector_a)"
   ]
  },
  {
   "cell_type": "code",
   "execution_count": 10,
   "id": "c24fed00",
   "metadata": {},
   "outputs": [
    {
     "data": {
      "text/plain": [
       "<pyopencl._cl.NannyEvent at 0x1042a63b0>"
      ]
     },
     "execution_count": 10,
     "metadata": {},
     "output_type": "execute_result"
    }
   ],
   "source": [
    "cl.enqueue_copy(queue, res_np, res_g)"
   ]
  },
  {
   "cell_type": "code",
   "execution_count": 11,
   "id": "b6d89b05",
   "metadata": {},
   "outputs": [
    {
     "name": "stdout",
     "output_type": "stream",
     "text": [
      "PyOPENCL SUM OF TWO VECTORS\n",
      "Platform Selected = Apple\n",
      "Device Selected = Apple M1\n",
      "VECTOR LENGTH = 100\n",
      "INPUT VECTOR A\n",
      "[96  0 64 45 77 87 34 30  9 75 47 14 28 81  3 63 57  9 31 35 92  1 16 96\n",
      " 13 20 54 69 35 22 96 76 49 66 75 95 33 36 71 66 84 70 57 79 56 88 49  1\n",
      " 97 34  7  7 98 49  5 26  7 10 24 10 31 29 50  8 98 22 75 79 76 74 22 37\n",
      " 14 88 42  4 40 17 35 84 91 51 91 35 95 41 69 87 48 10 73 32 86 93 80  5\n",
      " 60 10 66 80]\n",
      "INPUT VECTOR B\n",
      "[76 36 75 27 14 54 36 78 68 69 73 71 97 80  1 29  4 51 45 61 37 57  5  6\n",
      " 11 78 95  4 56 81 70 17  4 57 92 76 83 73  6 15 64 12  3  6 17 54 67 11\n",
      " 23 54 74 85 28 44 56 95 49 89 28 47  3 31 24 25 96 45 82 87 38 55 14 16\n",
      "  4 99 19 44 83 47 77 75 30 41 98 43 12 81  8 76 98 25 45 21 23  9 13 44\n",
      " 71 90 33 51]\n",
      "OUTPUT VECTOR RESULT A + B \n",
      "[172  36 139  72  91 141  70 108  77 144 120  85 125 161   4  92  61  60\n",
      "  76  96 129  58  21 102  24  98 149  73  91 103 166  93  53 123 167 171\n",
      " 116 109  77  81 148  82  60  85  73 142 116  12 120  88   0   0   0   0\n",
      "   0   0   0   0   0   0   0   0   0   0   0   0   0   0   0   0   0   0\n",
      "   0   0   0   0   0   0   0   0   0   0   0   0   0   0   0   0   0   0\n",
      "   0   0   0   0   0   0   0   0   0   0]\n"
     ]
    }
   ],
   "source": [
    "print (\"PyOPENCL SUM OF TWO VECTORS\")\n",
    "print (\"Platform Selected = %s\" %platform.name )\n",
    "print (\"Device Selected = %s\" %device.name)\n",
    "print (\"VECTOR LENGTH = %s\" %vector_dimension)\n",
    "print (\"INPUT VECTOR A\")\n",
    "print (vector_a)\n",
    "print (\"INPUT VECTOR B\")\n",
    "print (vector_b)\n",
    "print (\"OUTPUT VECTOR RESULT A + B \")\n",
    "print (res_np)"
   ]
  },
  {
   "cell_type": "code",
   "execution_count": 12,
   "id": "a4d544ec",
   "metadata": {},
   "outputs": [
    {
     "ename": "AssertionError",
     "evalue": "",
     "output_type": "error",
     "traceback": [
      "\u001b[0;31m---------------------------------------------------------------------------\u001b[0m",
      "\u001b[0;31mAssertionError\u001b[0m                            Traceback (most recent call last)",
      "Input \u001b[0;32mIn [12]\u001b[0m, in \u001b[0;36m<cell line: 1>\u001b[0;34m()\u001b[0m\n\u001b[0;32m----> 1\u001b[0m \u001b[38;5;28;01massert\u001b[39;00m(la\u001b[38;5;241m.\u001b[39mnorm(res_np \u001b[38;5;241m-\u001b[39m (vector_a \u001b[38;5;241m+\u001b[39m vector_b))) \u001b[38;5;241m<\u001b[39m \u001b[38;5;241m1e-5\u001b[39m\n",
      "\u001b[0;31mAssertionError\u001b[0m: "
     ]
    }
   ],
   "source": [
    "assert(la.norm(res_np - (vector_a + vector_b))) < 1e-5"
   ]
  },
  {
   "cell_type": "code",
   "execution_count": null,
   "id": "58bc16c2",
   "metadata": {},
   "outputs": [],
   "source": []
  }
 ],
 "metadata": {
  "kernelspec": {
   "display_name": "Python 3 (ipykernel)",
   "language": "python",
   "name": "python3"
  },
  "language_info": {
   "codemirror_mode": {
    "name": "ipython",
    "version": 3
   },
   "file_extension": ".py",
   "mimetype": "text/x-python",
   "name": "python",
   "nbconvert_exporter": "python",
   "pygments_lexer": "ipython3",
   "version": "3.8.13"
  }
 },
 "nbformat": 4,
 "nbformat_minor": 5
}

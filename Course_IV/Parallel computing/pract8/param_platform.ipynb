{
 "cells": [
  {
   "cell_type": "code",
   "execution_count": 1,
   "id": "49b19226",
   "metadata": {},
   "outputs": [],
   "source": [
    "import pyopencl as cl"
   ]
  },
  {
   "cell_type": "code",
   "execution_count": 2,
   "id": "98cb5188",
   "metadata": {},
   "outputs": [],
   "source": [
    "def print_device_info() :\n",
    "    print('\\n' + '=' * 60 + '\\nOpenCL Platforms and Devices')\n",
    "    for platform in cl.get_platforms():\n",
    "        print('=' * 60)\n",
    "        print('Platform - Name: ' + platform.name)\n",
    "        print('Platform - Vendor: ' + platform.vendor)\n",
    "        print('Platform - Version: ' + platform.version)\n",
    "        print('Platform - Profile: ' + platform.profile)\n",
    "\n",
    "        for device in platform.get_devices():\n",
    "            print(' ' + '-' * 56)\n",
    "            print(' Device - Name: ' \\\n",
    "                  + device.name)\n",
    "            print(' Device - Type: ' \\\n",
    "                  + cl.device_type.to_string(device.type))\n",
    "            print(' Device - Max Clock Speed: {0} Mhz'\\\n",
    "                  .format(device.max_clock_frequency))\n",
    "            print(' Device - Compute Units: {0}'\\\n",
    "                  .format(device.max_compute_units))\n",
    "            print(' Device - Local Memory: {0:.0f} KB'\\\n",
    "                  .format(device.local_mem_size/1024.0))\n",
    "            print(' Device - Constant Memory: {0:.0f} KB'\\\n",
    "                  .format(device.max_constant_buffer_size/1024.0))\n",
    "            print(' Device - Global Memory: {0:.0f} GB'\\\n",
    "                  .format(device.global_mem_size/1073741824.0))\n",
    "            print(' Device - Max Buffer/Image Size: {0:.0f} MB'\\\n",
    "                  .format(device.max_mem_alloc_size/1048576.0))\n",
    "            print(' Device - Max Work Group Size: {0:.0f}'\\\n",
    "                  .format(device.max_work_group_size))\n",
    "    print('\\n')"
   ]
  },
  {
   "cell_type": "code",
   "execution_count": 3,
   "id": "e785af2a",
   "metadata": {},
   "outputs": [
    {
     "name": "stdout",
     "output_type": "stream",
     "text": [
      "\n",
      "============================================================\n",
      "OpenCL Platforms and Devices\n",
      "============================================================\n",
      "Platform - Name: Apple\n",
      "Platform - Vendor: Apple\n",
      "Platform - Version: OpenCL 1.2 (Jun 17 2022 18:58:24)\n",
      "Platform - Profile: FULL_PROFILE\n",
      " --------------------------------------------------------\n",
      " Device - Name: Apple M1\n",
      " Device - Type: ALL | GPU\n",
      " Device - Max Clock Speed: 1000 Mhz\n",
      " Device - Compute Units: 8\n",
      " Device - Local Memory: 32 KB\n",
      " Device - Constant Memory: 1048576 KB\n",
      " Device - Global Memory: 11 GB\n",
      " Device - Max Buffer/Image Size: 2048 MB\n",
      " Device - Max Work Group Size: 256\n",
      "\n",
      "\n"
     ]
    }
   ],
   "source": [
    "if __name__ == \"__main__\":\n",
    "    print_device_info()"
   ]
  },
  {
   "cell_type": "code",
   "execution_count": null,
   "id": "9aaa10b5",
   "metadata": {},
   "outputs": [],
   "source": []
  }
 ],
 "metadata": {
  "kernelspec": {
   "display_name": "Python 3 (ipykernel)",
   "language": "python",
   "name": "python3"
  },
  "language_info": {
   "codemirror_mode": {
    "name": "ipython",
    "version": 3
   },
   "file_extension": ".py",
   "mimetype": "text/x-python",
   "name": "python",
   "nbconvert_exporter": "python",
   "pygments_lexer": "ipython3",
   "version": "3.8.13"
  }
 },
 "nbformat": 4,
 "nbformat_minor": 5
}

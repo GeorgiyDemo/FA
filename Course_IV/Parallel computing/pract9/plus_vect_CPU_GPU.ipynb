{
 "cells": [
  {
   "cell_type": "code",
   "execution_count": 1,
   "id": "0fc8a4fe",
   "metadata": {},
   "outputs": [
    {
     "ename": "ModuleNotFoundError",
     "evalue": "No module named 'pyopencl'",
     "output_type": "error",
     "traceback": [
      "\u001b[0;31m---------------------------------------------------------------------------\u001b[0m",
      "\u001b[0;31mModuleNotFoundError\u001b[0m                       Traceback (most recent call last)",
      "Input \u001b[0;32mIn [1]\u001b[0m, in \u001b[0;36m<cell line: 3>\u001b[0;34m()\u001b[0m\n\u001b[1;32m      1\u001b[0m \u001b[38;5;28;01mfrom\u001b[39;00m \u001b[38;5;21;01mtime\u001b[39;00m \u001b[38;5;28;01mimport\u001b[39;00m time  \u001b[38;5;66;03m# Import time tools\u001b[39;00m\n\u001b[0;32m----> 3\u001b[0m \u001b[38;5;28;01mimport\u001b[39;00m \u001b[38;5;21;01mpyopencl\u001b[39;00m \u001b[38;5;28;01mas\u001b[39;00m \u001b[38;5;21;01mcl\u001b[39;00m  \n\u001b[1;32m      4\u001b[0m \u001b[38;5;28;01mimport\u001b[39;00m \u001b[38;5;21;01mnumpy\u001b[39;00m \u001b[38;5;28;01mas\u001b[39;00m \u001b[38;5;21;01mnp\u001b[39;00m   \n\u001b[1;32m      5\u001b[0m \u001b[38;5;66;03m#import deviceInfoPyopencl as device_info\u001b[39;00m\n",
      "\u001b[0;31mModuleNotFoundError\u001b[0m: No module named 'pyopencl'"
     ]
    }
   ],
   "source": [
    "from time import time  # Import time tools\n",
    "\n",
    "import pyopencl as cl  \n",
    "import numpy as np   \n",
    "#import deviceInfoPyopencl as device_info\n",
    "import numpy.linalg as la\n",
    "\n",
    "#input vectors \n",
    "a = np.random.rand(10000).astype(np.float32)  \n",
    "b = np.random.rand(10000).astype(np.float32)   \n",
    "\n",
    "def test_cpu_vector_sum(a, b):  \n",
    "    c_cpu = np.empty_like(a)   \n",
    "    cpu_start_time = time()  \n",
    "    for i in range(10000):\n",
    "            for j in range(10000):  \n",
    "                    c_cpu[i] = a[i] + b[i]  \n",
    "    cpu_end_time = time()   \n",
    "    print(\"CPU Time: {0} s\".format(cpu_end_time - cpu_start_time))   \n",
    "    return c_cpu   \n",
    "\n",
    "def test_gpu_vector_sum(a, b):\n",
    "    #define the PyOpenCL Context\n",
    "    platform = cl.get_platforms()[0]\n",
    "    device = platform.get_devices()[0]\n",
    "    context = cl.Context([device])\n",
    "    queue = cl.CommandQueue(context, \\\n",
    "                            properties=cl.command_queue_properties.PROFILING_ENABLE)   \n",
    "    #prepare the data structure\n",
    "    a_buffer = cl.Buffer\\\n",
    "               (context, cl.mem_flags.READ_ONLY | cl.mem_flags.COPY_HOST_PTR, hostbuf=a)\n",
    "    b_buffer = cl.Buffer\\\n",
    "               (context, cl.mem_flags.READ_ONLY | cl.mem_flags.COPY_HOST_PTR, hostbuf=b)\n",
    "    c_buffer = cl.Buffer\\\n",
    "               (context, cl.mem_flags.WRITE_ONLY, b.nbytes)   \n",
    "    program = cl.Program(context, \"\"\"\n",
    "    __kernel void sum(__global const float *a, __global const float *b, __global float *c)\n",
    "    {\n",
    "        int i = get_global_id(0);\n",
    "        int j;\n",
    "        for(j = 0; j < 10000; j++)\n",
    "        {\n",
    "            c[i] = a[i] + b[i];\n",
    "        }\n",
    "    }\"\"\").build()\n",
    "    #start the gpu test\n",
    "    gpu_start_time = time()   \n",
    "    event = program.sum(queue, a.shape, None, a_buffer, b_buffer, c_buffer)   \n",
    "    event.wait()   \n",
    "    elapsed = 1e-9*(event.profile.end - event.profile.start)   \n",
    "    print(\"GPU Kernel evaluation Time: {0} s\".format(elapsed))   \n",
    "    c_gpu = np.empty_like(a)  \n",
    "    cl._enqueue_read_buffer(queue, c_buffer, c_gpu).wait()  \n",
    "    gpu_end_time = time()  \n",
    "    print(\"GPU Time: {0} s\".format(gpu_end_time - gpu_start_time))   \n",
    "    return c_gpu   \n",
    "\n",
    "#start the test\n",
    "if __name__ == \"__main__\":\n",
    "    #print the device info\n",
    "  #  device_info.print_device_info()\n",
    "    #call the test on the cpu\n",
    "    cpu_result = test_cpu_vector_sum(a, b)\n",
    "    #call the test on the gpu\n",
    "    gpu_result = test_gpu_vector_sum(a, b)\n",
    "    assert (la.norm(cpu_result - gpu_result)) < 1e-5"
   ]
  },
  {
   "cell_type": "code",
   "execution_count": null,
   "id": "6b6ab891",
   "metadata": {},
   "outputs": [],
   "source": []
  }
 ],
 "metadata": {
  "kernelspec": {
   "display_name": "Python 3 (ipykernel)",
   "language": "python",
   "name": "python3"
  },
  "language_info": {
   "codemirror_mode": {
    "name": "ipython",
    "version": 3
   },
   "file_extension": ".py",
   "mimetype": "text/x-python",
   "name": "python",
   "nbconvert_exporter": "python",
   "pygments_lexer": "ipython3",
   "version": "3.10.8"
  }
 },
 "nbformat": 4,
 "nbformat_minor": 5
}

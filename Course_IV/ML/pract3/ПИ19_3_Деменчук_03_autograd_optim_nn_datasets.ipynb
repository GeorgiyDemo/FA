{
 "cells": [
  {
   "cell_type": "markdown",
   "metadata": {},
   "source": [
    "# 3. Создание нейронной сети при помощи пакета `torch`. Dataset и Dataloader.\n",
    "\n",
    "__Автор__: Никита Владимирович Блохин (NVBlokhin@fa.ru)\n",
    "\n",
    "Финансовый университет, 2020 г. "
   ]
  },
  {
   "cell_type": "code",
   "execution_count": null,
   "metadata": {
    "id": "6ktSXdQVb9Li"
   },
   "outputs": [],
   "source": [
    "import torch\n",
    "import numpy as np"
   ]
  },
  {
   "cell_type": "markdown",
   "metadata": {
    "id": "4L7Inb1JbiDy"
   },
   "source": [
    "## 1. Автоматическое дифференцирование в `torch`"
   ]
  },
  {
   "cell_type": "markdown",
   "metadata": {
    "id": "HsZ69HZ0EsI7"
   },
   "source": [
    "1.1 Воспользовавшись классами `Neuron` и `MSELoss` из задачи 2.4.1 и автоматическим дифференцированием, которое предоставляет `torch`, решить задачу регрессии. Для оптимизации использовать стохастический градиетный спуск."
   ]
  },
  {
   "cell_type": "code",
   "execution_count": null,
   "metadata": {
    "id": "zynPAaOrRKTm"
   },
   "outputs": [],
   "source": [
    "from sklearn.datasets import make_regression\n",
    "\n",
    "X, y, coef = make_regression(n_features=4, n_informative=4, coef=True, bias=0.5)\n",
    "X = torch.from_numpy(X).to(dtype=torch.float32)\n",
    "y = torch.from_numpy(y).to(dtype=torch.float32)"
   ]
  },
  {
   "cell_type": "markdown",
   "metadata": {
    "id": "wxWeyJw5lAqU"
   },
   "source": [
    "1.2 Воспользовавшись классами `Linear` и `MSELoss` из задачи 2.1.4 и 2.3.1, `ReLU` из 2.2.1 и автоматическим дифференцированием, которое предоставляет `torch`, решить задачу регрессии. Для оптимизации использовать пакетный градиентный спуск. Вывести график функции потерь в зависимости от номера эпохи. Вывести на одном графике исходные данные и предсказанные значения."
   ]
  },
  {
   "cell_type": "code",
   "execution_count": null,
   "metadata": {
    "id": "bnlAt1NEQoat"
   },
   "outputs": [],
   "source": [
    "X = torch.linspace(0, 1, 100).view(-1, 1)\n",
    "y = torch.sin(2 * np.pi * X) + 0.1 * torch.rand(X.size()) "
   ]
  },
  {
   "cell_type": "markdown",
   "metadata": {
    "id": "nifm0FVB2y5N"
   },
   "source": [
    "## 2. Алгоритмы оптимизации в `torch.optim`"
   ]
  },
  {
   "cell_type": "code",
   "execution_count": null,
   "metadata": {
    "id": "u5PTTYou3xx8"
   },
   "outputs": [],
   "source": [
    "import torch.optim as optim"
   ]
  },
  {
   "cell_type": "markdown",
   "metadata": {
    "id": "0oBFfJpmcwfn"
   },
   "source": [
    "2.1 Решить задачу 1.1, воспользовавшись оптимизатором `optim.SDG` для применения стохастического градиентого спуска"
   ]
  },
  {
   "cell_type": "markdown",
   "metadata": {
    "id": "1LFAacdy46bX"
   },
   "source": [
    "2.2 Решить задачу 1.2, воспользовавшись оптимизатором `optim.Adam` для применения пакетного градиентого спуска. Вывести график функции потерь в зависимости от номера эпохи. Вывести на одном графике исходные данные и предсказанные значения."
   ]
  },
  {
   "cell_type": "markdown",
   "metadata": {
    "id": "n-qUqdALiN-G"
   },
   "source": [
    "## 3. Построение сетей при помощи `torch.nn`"
   ]
  },
  {
   "cell_type": "code",
   "execution_count": null,
   "metadata": {
    "id": "Vxsck-1M6TAV"
   },
   "outputs": [],
   "source": [
    "import torch.nn as nn"
   ]
  },
  {
   "cell_type": "markdown",
   "metadata": {
    "id": "M0ICJtarif3_"
   },
   "source": [
    "3.1 Решить задачу регрессии, соблюдая следующие условия:\n",
    "\n",
    "1. Оформить нейронную сеть в виде класса - наследника `nn.Module`\n",
    "2. При создании сети использовать готовые блоки из `torch.nn`: слои, функции активации, функции потерь и т.д.\n",
    "3. Для оптимизации использовать любой алгоритм оптимизации из `torch.optim` "
   ]
  },
  {
   "cell_type": "code",
   "execution_count": null,
   "metadata": {
    "id": "L1bvXHhO7aWs"
   },
   "outputs": [],
   "source": [
    "X = torch.linspace(0, 1, 100).view(-1, 1)\n",
    "y = torch.sin(2 * np.pi * X) + 0.1 * torch.rand(X.size()) "
   ]
  },
  {
   "cell_type": "markdown",
   "metadata": {
    "id": "UPUW6fm5jbQd"
   },
   "source": [
    "3.2 Решить задачу регрессии, соблюдая следующие условия:\n",
    "\n",
    "1. Оформить нейронную сеть в виде объекта `nn.Sequential`\n",
    "2. При создании сети использовать готовые блоки из `torch.nn`: слои, функции активации, функции потерь и т.д.\n",
    "3. Для оптимизации использовать любой алгоритм оптимизации из `torch.optim` "
   ]
  },
  {
   "cell_type": "code",
   "execution_count": null,
   "metadata": {
    "id": "BBwbAEd57a2r"
   },
   "outputs": [],
   "source": [
    "X = torch.linspace(0, 1, 100).view(-1, 1)\n",
    "y = torch.sin(2 * np.pi * X) + 0.1 * torch.rand(X.size()) "
   ]
  },
  {
   "cell_type": "markdown",
   "metadata": {},
   "source": [
    "3.3 Решить задачу классификации. Датасет: Breast Cancer Wisconsin\n",
    "1. Оформить нейронную сеть в виде объекта `nn.Sequential`\n",
    "2. При создании сети использовать готовые блоки из `torch.nn`: слои, функции активации, функции потерь и т.д.\n",
    "3. Для оптимизации использовать любой алгоритм оптимизации из `torch.optim` "
   ]
  },
  {
   "cell_type": "markdown",
   "metadata": {
    "id": "jQj0oVeLj2A1"
   },
   "source": [
    "## 4. Datasets and dataloaders"
   ]
  },
  {
   "cell_type": "code",
   "execution_count": null,
   "metadata": {
    "id": "c82tAkXMjajm"
   },
   "outputs": [],
   "source": [
    "from torch.utils.data import Dataset, DataLoader"
   ]
  },
  {
   "cell_type": "markdown",
   "metadata": {
    "id": "hoFPckkp8yhz"
   },
   "source": [
    "4.1 Создать датасет, поставляющий данные из задачи 1.2. \n",
    "\n",
    "Создать `DataLoader` на основе этого датасета и проверить работоспособность.\n",
    "\n",
    "Воспользовавшись результатами 3.1 (или 3.2) обучите модель, пользуясь мини-пакетным градиентным спуском с размером пакета (`batch_size`) = 10"
   ]
  },
  {
   "cell_type": "code",
   "execution_count": 2,
   "metadata": {
    "id": "tlcwQzCFRvFc"
   },
   "outputs": [],
   "source": [
    "class SinDataset(Dataset):\n",
    "  def __init__(self):\n",
    "    pass\n",
    "\n",
    "  def __len__(self):\n",
    "    pass\n",
    "\n",
    "  def __getitem__(self, idx):\n",
    "    pass"
   ]
  },
  {
   "cell_type": "markdown",
   "metadata": {
    "id": "bxz02a3k_VQL"
   },
   "source": [
    "4.2 Предсказание цен алмазов\n",
    "\n",
    "4.2.1 Создайте датасет на основе файла diamonds.csv. \n",
    "\n",
    "1. Удалите все нечисловые столбцы\n",
    "2. Целевой столбец (`y`) - `price`\n",
    "3. Преобразуйте данные в тензоры корректных размеров\n",
    "\n",
    "4.2.2 Разбейте датасет на обучающий и тестовый датасет при помощи `torch.utils.data.random_split`.\n",
    "\n",
    "4.2.3 Обучите модель для предсказания цен при помощи мини-пакетного градиентного спуска (`batch_size = 256`). \n",
    "\n",
    "4.2.4 Выведите график функции потерь в зависимости от номера эпохи (значение потерь для эпохи рассчитывайте как среднее значение ошибок на каждом батче). Проверьте качество модели на тестовой выборке. \n"
   ]
  },
  {
   "cell_type": "code",
   "execution_count": null,
   "metadata": {
    "id": "fEfTNJQI8emD"
   },
   "outputs": [],
   "source": [
    "class DiamondsDataset(Dataset):\n",
    "  def __init__(self, data):\n",
    "    pass\n",
    "\n",
    "  def __len__(self):\n",
    "    pass\n",
    "\n",
    "  def __getitem__(self, idx):\n",
    "    pass"
   ]
  },
  {
   "cell_type": "markdown",
   "metadata": {
    "id": "qE81cgQdGM7I"
   },
   "source": [
    "4.3 Модифицируйте метод `__init__` датасета из 4.2 таким образом, чтобы он мог принимать параметр `transform: callable`. Реализуйте класс `DropColsTransform` для удаления нечисловых данных из массива. Реализуйте класс `ToTensorTransorm` для трансформации массива в тензор."
   ]
  },
  {
   "cell_type": "code",
   "execution_count": null,
   "metadata": {
    "id": "J02LNj_F8qxK"
   },
   "outputs": [],
   "source": [
    "class DiamondsDataset(Dataset):\n",
    "  def __init__(self, data, transform):\n",
    "    # ....\n",
    "    self.transform = transform\n",
    "    # ....\n",
    "\n",
    "  def __len__(self):\n",
    "    pass\n",
    "\n",
    "  def __getitem__(self, idx):\n",
    "    # ...\n",
    "    sample = self.X[idx], self.y[idx]\n",
    "    if self.transform:\n",
    "      sample = self.transform(sample)\n",
    "    # ...."
   ]
  },
  {
   "cell_type": "code",
   "execution_count": null,
   "metadata": {
    "id": "tJii-22pHIlU"
   },
   "outputs": [],
   "source": [
    "class DropColsTransform:\n",
    "  def __init__(self, drop):\n",
    "    pass\n",
    "  \n",
    "  def __call__(self, sample):\n",
    "    X, y = sample\n",
    "    # <удаление из X столбцов self.drop>\n",
    "    return X, y"
   ]
  },
  {
   "cell_type": "code",
   "execution_count": null,
   "metadata": {
    "id": "dZZ-OKrVHnY5"
   },
   "outputs": [],
   "source": [
    "class ToTensorTransform:\n",
    "  def __call__(self, sample):\n",
    "    X, y = sample\n",
    "    # <преобразование X и y в тензоры>\n",
    "    return X, y"
   ]
  },
  {
   "cell_type": "code",
   "execution_count": null,
   "metadata": {
    "id": "GssBjT9JHt5g"
   },
   "outputs": [],
   "source": [
    "from torchvision import transforms\n",
    "\n",
    "drop = DropColsTransform(drop=[1, 2, 3])\n",
    "to_tensor = ToTensorTransform()\n",
    "dataset = DiamondsDataset(data, transforms.compose([drop, to_tensor]))\n"
   ]
  }
 ],
 "metadata": {
  "colab": {
   "collapsed_sections": [],
   "name": "blank_03_autograd_optim_nn_datasets.ipynb",
   "provenance": []
  },
  "kernelspec": {
   "display_name": "Python 3 (ipykernel)",
   "language": "python",
   "name": "python3"
  },
  "language_info": {
   "codemirror_mode": {
    "name": "ipython",
    "version": 3
   },
   "file_extension": ".py",
   "mimetype": "text/x-python",
   "name": "python",
   "nbconvert_exporter": "python",
   "pygments_lexer": "ipython3",
   "version": "3.9.7"
  }
 },
 "nbformat": 4,
 "nbformat_minor": 1
}

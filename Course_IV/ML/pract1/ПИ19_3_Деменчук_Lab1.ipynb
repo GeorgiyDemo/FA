{
 "cells": [
  {
   "cell_type": "markdown",
   "metadata": {
    "id": "_gE94V3G1RCx"
   },
   "source": [
    "ПИ19-3 Деменчук Георгий<br>**Лабораторная работа №1**"
   ]
  },
  {
   "cell_type": "markdown",
   "metadata": {},
   "source": [
    "# 01. Знакомство с `torch.Tensor`"
   ]
  },
  {
   "cell_type": "markdown",
   "metadata": {
    "id": "TlWOXn0f1RC7"
   },
   "source": [
    "---"
   ]
  },
  {
   "cell_type": "markdown",
   "metadata": {
    "id": "lZfJ1FRM1RC8"
   },
   "source": [
    "При решении данных задач не подразумевается использования циклов или генераторов Python, если в задании не сказано обратного. Решение должно опираться на использование функционала библиотеки `torch`.\n",
    "\n",
    "[PyTorch documentation](https://pytorch.org/docs/stable/#pytorch-documentation)"
   ]
  },
  {
   "cell_type": "code",
   "execution_count": 1,
   "metadata": {
    "id": "b3AW8rF-1RC9"
   },
   "outputs": [],
   "source": [
    "import torch"
   ]
  },
  {
   "cell_type": "markdown",
   "metadata": {
    "id": "vow49PuE1RC9"
   },
   "source": [
    "## 1.1 Создание тензоров и выполнение базовых операций над ними\n",
    "\n",
    "[Документация по функциям для создания тензоров](https://pytorch.org/docs/stable/torch.html#creation-ops)\n",
    "\n",
    "[Документация по функциям для работы с индексами](https://pytorch.org/docs/stable/torch.html#indexing-slicing-joining-mutating-ops)"
   ]
  },
  {
   "cell_type": "markdown",
   "metadata": {
    "id": "wBIwO1SB1RC-"
   },
   "source": [
    "1.1.1 Создайте двумерный тензор размера (8, 8). Используя как можно меньше операций, добейтесь расстановки кодов \"шахматных фигур\".\n",
    "\n",
    "Ожидаемый результат:\n",
    "\n",
    "```\n",
    "[[-4., -3., -2., -6., -5., -2., -3., -4.],\n",
    " [-1., -1., -1., -1., -1., -1., -1., -1.],\n",
    " [0., 0., 0., 0., 0., 0., 0., 0.],\n",
    " [0., 0., 0., 0., 0., 0., 0., 0.],\n",
    " [0., 0., 0., 0., 0., 0., 0., 0.],\n",
    " [0., 0., 0., 0., 0., 0., 0., 0.],\n",
    " [1., 1., 1., 1., 1., 1., 1., 1.],\n",
    " [4., 3., 2., 6., 5., 2., 3., 4.]]\n",
    "\n",
    "```"
   ]
  },
  {
   "cell_type": "code",
   "execution_count": 2,
   "metadata": {},
   "outputs": [
    {
     "data": {
      "text/plain": [
       "tensor([[-4., -3., -2., -6., -5., -2., -3., -4.],\n",
       "        [-1., -1., -1., -1., -1., -1., -1., -1.],\n",
       "        [ 0.,  0.,  0.,  0.,  0.,  0.,  0.,  0.],\n",
       "        [ 0.,  0.,  0.,  0.,  0.,  0.,  0.,  0.],\n",
       "        [ 0.,  0.,  0.,  0.,  0.,  0.,  0.,  0.],\n",
       "        [ 0.,  0.,  0.,  0.,  0.,  0.,  0.,  0.],\n",
       "        [ 1.,  1.,  1.,  1.,  1.,  1.,  1.,  1.],\n",
       "        [ 4.,  3.,  2.,  6.,  5.,  2.,  3.,  4.]])"
      ]
     },
     "execution_count": 2,
     "metadata": {},
     "output_type": "execute_result"
    }
   ],
   "source": [
    "a = torch.zeros(8, 8)\n",
    "a[0] = torch.tensor([-4., -3., -2., -6., -5., -2., -3., -4.])\n",
    "#Срезы-наше все\n",
    "a[1, :] = -1\n",
    "a[6, :] = -a[1]\n",
    "a[7, :] = -a[0]\n",
    "a"
   ]
  },
  {
   "cell_type": "code",
   "execution_count": 3,
   "metadata": {},
   "outputs": [
    {
     "data": {
      "text/plain": [
       "torch.Size([8])"
      ]
     },
     "execution_count": 3,
     "metadata": {},
     "output_type": "execute_result"
    }
   ],
   "source": [
    "chess = torch.tensor([4., 3., 2., 6., 5., 2., 3., 4.])\n",
    "chess.shape"
   ]
  },
  {
   "cell_type": "code",
   "execution_count": 4,
   "metadata": {},
   "outputs": [
    {
     "data": {
      "text/plain": [
       "tensor([[4., 3., 2., 6., 5., 2., 3., 4.]])"
      ]
     },
     "execution_count": 4,
     "metadata": {},
     "output_type": "execute_result"
    }
   ],
   "source": [
    "chess.unsqueeze(0) # добавили нулевое (параметр функции) измерение размерности 1"
   ]
  },
  {
   "cell_type": "code",
   "execution_count": 5,
   "metadata": {},
   "outputs": [
    {
     "data": {
      "text/plain": [
       "torch.Size([1, 8])"
      ]
     },
     "execution_count": 5,
     "metadata": {},
     "output_type": "execute_result"
    }
   ],
   "source": [
    "chess.unsqueeze(0).shape"
   ]
  },
  {
   "cell_type": "code",
   "execution_count": 6,
   "metadata": {},
   "outputs": [
    {
     "data": {
      "text/plain": [
       "tensor([[-4., -3., -2., -6., -5., -2., -3., -4.],\n",
       "        [-1., -1., -1., -1., -1., -1., -1., -1.],\n",
       "        [ 0.,  0.,  0.,  0.,  0.,  0.,  0.,  0.],\n",
       "        [ 0.,  0.,  0.,  0.,  0.,  0.,  0.,  0.],\n",
       "        [ 0.,  0.,  0.,  0.,  0.,  0.,  0.,  0.],\n",
       "        [ 0.,  0.,  0.,  0.,  0.,  0.,  0.,  0.],\n",
       "        [ 1.,  1.,  1.,  1.,  1.,  1.,  1.,  1.],\n",
       "        [ 4.,  3.,  2.,  6.,  5.,  2.,  3.,  4.]])"
      ]
     },
     "execution_count": 6,
     "metadata": {},
     "output_type": "execute_result"
    }
   ],
   "source": [
    "torch.cat((-1*chess.unsqueeze(0),\n",
    "           -torch.ones(8).unsqueeze(0),\n",
    "           torch.zeros(4, 8),\n",
    "           torch.ones(8).unsqueeze(0),\n",
    "           chess.unsqueeze(0)),\n",
    "          dim=0)"
   ]
  },
  {
   "cell_type": "markdown",
   "metadata": {
    "id": "20x5RE1V1RC_"
   },
   "source": [
    "1.1.2 Средствами `torch` рассчитать произведения четных чисел от 2 до 20 на ближайшие к ним бОльшие нечетные числа."
   ]
  },
  {
   "cell_type": "code",
   "execution_count": 7,
   "metadata": {},
   "outputs": [],
   "source": [
    "import numpy as np"
   ]
  },
  {
   "cell_type": "code",
   "execution_count": 8,
   "metadata": {},
   "outputs": [
    {
     "name": "stdout",
     "output_type": "stream",
     "text": [
      "tensor([ 2,  4,  6,  8, 10, 12, 14, 16, 18, 20])\n"
     ]
    },
    {
     "data": {
      "text/plain": [
       "tensor([  6,  20,  42,  72, 110, 156, 210, 272, 342, 420])"
      ]
     },
     "execution_count": 8,
     "metadata": {},
     "output_type": "execute_result"
    }
   ],
   "source": [
    "a = torch.arange(2, 21, 2)\n",
    "print(a)\n",
    "res1 = a * (a + 1)\n",
    "res1"
   ]
  },
  {
   "cell_type": "markdown",
   "metadata": {},
   "source": [
    "Т.к. я ему не верю"
   ]
  },
  {
   "cell_type": "code",
   "execution_count": 9,
   "metadata": {},
   "outputs": [
    {
     "name": "stdout",
     "output_type": "stream",
     "text": [
      "[ 2  4  6  8 10 12 14 16 18 20]\n"
     ]
    },
    {
     "data": {
      "text/plain": [
       "array([  6,  20,  42,  72, 110, 156, 210, 272, 342, 420])"
      ]
     },
     "execution_count": 9,
     "metadata": {},
     "output_type": "execute_result"
    }
   ],
   "source": [
    "a = np.arange(2,21,2)\n",
    "print(a)\n",
    "res2 = a * (a + 1)\n",
    "res2"
   ]
  },
  {
   "cell_type": "code",
   "execution_count": 10,
   "metadata": {},
   "outputs": [],
   "source": [
    "assert res1.tolist() == res2.tolist()"
   ]
  },
  {
   "cell_type": "markdown",
   "metadata": {
    "id": "N_-t5GRM1RC_"
   },
   "source": [
    "1.1.3 Создать тензор размера 11x7 вида: [[1, 2, 3, ..., 7], [11, 12, 13, ..., 17], [21, 22, 23, ..., 27], ..., [101, 102, 103, ..., 107]]"
   ]
  },
  {
   "cell_type": "code",
   "execution_count": 11,
   "metadata": {},
   "outputs": [
    {
     "name": "stdout",
     "output_type": "stream",
     "text": [
      "[1 2 3 4 5 6 7]\n",
      "[[  0]\n",
      " [ 10]\n",
      " [ 20]\n",
      " [ 30]\n",
      " [ 40]\n",
      " [ 50]\n",
      " [ 60]\n",
      " [ 70]\n",
      " [ 80]\n",
      " [ 90]\n",
      " [100]]\n"
     ]
    },
    {
     "data": {
      "text/plain": [
       "array([[  1,   2,   3,   4,   5,   6,   7],\n",
       "       [ 11,  12,  13,  14,  15,  16,  17],\n",
       "       [ 21,  22,  23,  24,  25,  26,  27],\n",
       "       [ 31,  32,  33,  34,  35,  36,  37],\n",
       "       [ 41,  42,  43,  44,  45,  46,  47],\n",
       "       [ 51,  52,  53,  54,  55,  56,  57],\n",
       "       [ 61,  62,  63,  64,  65,  66,  67],\n",
       "       [ 71,  72,  73,  74,  75,  76,  77],\n",
       "       [ 81,  82,  83,  84,  85,  86,  87],\n",
       "       [ 91,  92,  93,  94,  95,  96,  97],\n",
       "       [101, 102, 103, 104, 105, 106, 107]])"
      ]
     },
     "execution_count": 11,
     "metadata": {},
     "output_type": "execute_result"
    }
   ],
   "source": [
    "a = np.arange(1,8)\n",
    "print(a)\n",
    "b = np.arange(0,101,10).reshape(11,1)\n",
    "print(b)\n",
    "res1 = a + b\n",
    "res1"
   ]
  },
  {
   "cell_type": "code",
   "execution_count": 12,
   "metadata": {},
   "outputs": [
    {
     "data": {
      "text/plain": [
       "tensor([[  1,   2,   3,   4,   5,   6,   7],\n",
       "        [ 11,  12,  13,  14,  15,  16,  17],\n",
       "        [ 21,  22,  23,  24,  25,  26,  27],\n",
       "        [ 31,  32,  33,  34,  35,  36,  37],\n",
       "        [ 41,  42,  43,  44,  45,  46,  47],\n",
       "        [ 51,  52,  53,  54,  55,  56,  57],\n",
       "        [ 61,  62,  63,  64,  65,  66,  67],\n",
       "        [ 71,  72,  73,  74,  75,  76,  77],\n",
       "        [ 81,  82,  83,  84,  85,  86,  87],\n",
       "        [ 91,  92,  93,  94,  95,  96,  97],\n",
       "        [101, 102, 103, 104, 105, 106, 107]])"
      ]
     },
     "execution_count": 12,
     "metadata": {},
     "output_type": "execute_result"
    }
   ],
   "source": [
    "a = torch.arange(1,8)\n",
    "b = torch.arange(0, 101, 10).reshape(11,1)\n",
    "res2 = a + b\n",
    "res2"
   ]
  },
  {
   "cell_type": "code",
   "execution_count": 13,
   "metadata": {},
   "outputs": [],
   "source": [
    "assert res1.tolist() == res2.tolist()"
   ]
  },
  {
   "cell_type": "markdown",
   "metadata": {
    "id": "oxVeUiHR1RC_"
   },
   "source": [
    "1.1.4 Написать функцию, которая для целых значений `n` и `m` будет возвращать тензор размера `n`x`m`, заполненный текстурой размера 2x2, состоящей из следующих значений:\n",
    "\n",
    "```\n",
    "0 1\n",
    "\n",
    "2 3\n",
    "\n",
    "```\n",
    "\n",
    "Пример для n = 4 и m = 5:\n",
    "\n",
    "```\n",
    "0 1 0 1 0\n",
    "\n",
    "2 3 2 3 2\n",
    "\n",
    "0 1 0 1 0\n",
    "\n",
    "2 3 2 3 2\n",
    "```"
   ]
  },
  {
   "cell_type": "code",
   "execution_count": 14,
   "metadata": {},
   "outputs": [
    {
     "data": {
      "text/plain": [
       "tensor([[0., 1., 0., 1., 0.],\n",
       "        [2., 3., 2., 3., 2.],\n",
       "        [0., 1., 0., 1., 0.],\n",
       "        [2., 3., 2., 3., 2.]])"
      ]
     },
     "execution_count": 14,
     "metadata": {},
     "output_type": "execute_result"
    }
   ],
   "source": [
    "N = 4\n",
    "M = 5\n",
    "\n",
    "res = torch.zeros((N,M))\n",
    "res[torch.arange(1, M, 2)] += 2\n",
    "res[:, torch.arange(1, N, 2)] += 1\n",
    "res"
   ]
  },
  {
   "cell_type": "markdown",
   "metadata": {
    "id": "WH9hxJse1RDA"
   },
   "source": [
    "1.1.5 Сгенерировать двумерный тензор `t` размерности (4, 7), состоящий из случайных действительных чисел, равномерно распределенных в дипазоне от 0 до 20. Нормализовать значения массива с помощью преобразования вида $ax+b$ так, что после нормализации максимальный элемент масива будет равен 1.0, минимальный 0.0"
   ]
  },
  {
   "cell_type": "code",
   "execution_count": 15,
   "metadata": {},
   "outputs": [
    {
     "data": {
      "text/plain": [
       "tensor([[0.2788, 0.0764, 0.1399, 0.2074, 1.0000, 0.1162, 0.0000],\n",
       "        [0.0280, 0.0861, 0.9583, 0.3892, 0.2967, 0.0034, 0.0092],\n",
       "        [0.3072, 0.3702, 0.7612, 0.9716, 0.6331, 0.6572, 0.1772],\n",
       "        [0.4691, 0.3034, 0.5913, 0.4747, 0.4245, 0.0541, 0.2482]])"
      ]
     },
     "execution_count": 15,
     "metadata": {},
     "output_type": "execute_result"
    }
   ],
   "source": [
    "#Рандомные значения\n",
    "buf = torch.rand((4, 7)) * 20\n",
    "#Max-min нормализация\n",
    "res = 1/(buf.max()-buf.min())*buf-buf.min()/(buf.max()-buf.min())\n",
    "res"
   ]
  },
  {
   "cell_type": "markdown",
   "metadata": {
    "id": "vPqIeewXB-mM"
   },
   "source": [
    "[Random Sampling](https://pytorch.org/docs/stable/torch.html#random-sampling)\n",
    "\n",
    "[Distributions](https://pytorch.org/docs/stable/distributions.html)"
   ]
  },
  {
   "cell_type": "markdown",
   "metadata": {
    "id": "K_R6cwq11RDE"
   },
   "source": [
    "1.1.6 Задать два двумерных тензора `ar1` и `ar2` размерности (4, 7), состоящих из случайных целых чисел в пределах от 0 до 10. Построить двумерный тензор размерности (4, 7), каждый элемент которого представляет собой максимум из двух значений, находящихся на аналогичной позиции в массивах `ar1`, `ar2`.\n",
    "\n",
    "[Reductions ops](https://pytorch.org/docs/stable/torch.html#reduction-ops)"
   ]
  },
  {
   "cell_type": "code",
   "execution_count": 16,
   "metadata": {},
   "outputs": [
    {
     "name": "stdout",
     "output_type": "stream",
     "text": [
      "tensor([[9, 9, 3, 9, 8, 1, 1],\n",
      "        [1, 3, 5, 0, 3, 8, 9],\n",
      "        [2, 4, 8, 6, 9, 1, 1],\n",
      "        [1, 2, 3, 5, 5, 9, 8]])\n",
      "tensor([[ 7,  9,  1,  3,  0, 10,  2],\n",
      "        [ 2,  7,  1,  0,  4,  0,  1],\n",
      "        [ 4,  4,  0,  6,  8,  0,  1],\n",
      "        [ 4,  0,  9,  0,  3,  3,  9]])\n"
     ]
    },
    {
     "data": {
      "text/plain": [
       "tensor([[ 9,  9,  3,  9,  8, 10,  2],\n",
       "        [ 2,  7,  5,  0,  4,  8,  9],\n",
       "        [ 4,  4,  8,  6,  9,  1,  1],\n",
       "        [ 4,  2,  9,  5,  5,  9,  9]])"
      ]
     },
     "execution_count": 16,
     "metadata": {},
     "output_type": "execute_result"
    }
   ],
   "source": [
    "#Тензор раз\n",
    "ar1 = torch.randint(0, 11, size=[4, 7])\n",
    "print(ar1)\n",
    "#Тензор 2\n",
    "ar2 = torch.randint(0, 11, size=[4, 7])\n",
    "print(ar2)\n",
    "\n",
    "res = torch.cat((ar1, ar2)).reshape((2, 4, 7)).max(axis=0).values\n",
    "res"
   ]
  },
  {
   "cell_type": "markdown",
   "metadata": {
    "id": "x6zmMhyKBPWQ"
   },
   "source": [
    "1.1.7 Создать тензор из 20 случайных целых чисел от 0 до 100. Получить второе сверху значение в тензоре. Определить индекс этого значения."
   ]
  },
  {
   "cell_type": "code",
   "execution_count": 17,
   "metadata": {},
   "outputs": [
    {
     "name": "stdout",
     "output_type": "stream",
     "text": [
      "tensor([40, 68, 43, 86, 96, 71, 51, 16, 93, 95,  3, 33, 80, 59, 35, 71, 60, 46,\n",
      "        73, 38])\n",
      "tensor([ 3, 16, 33, 35, 38, 40, 43, 46, 51, 59, 60, 68, 71, 71, 73, 80, 86, 93,\n",
      "        95, 96])\n",
      "tensor(95)\n"
     ]
    },
    {
     "data": {
      "text/plain": [
       "tensor(9)"
      ]
     },
     "execution_count": 17,
     "metadata": {},
     "output_type": "execute_result"
    }
   ],
   "source": [
    "arr = torch.randint(0, 101, size=[20])\n",
    "print(arr)\n",
    "print(arr.sort().values)\n",
    "print(arr.sort().values[-2])\n",
    "result = arr.sort().indices[-2]\n",
    "result"
   ]
  },
  {
   "cell_type": "markdown",
   "metadata": {
    "id": "Xshsy8fD1RDE"
   },
   "source": [
    "## 1.2 Распространение"
   ]
  },
  {
   "cell_type": "markdown",
   "metadata": {
    "id": "jlP22HAJCo28"
   },
   "source": [
    "[Numpy broadcasting](https://numpy.org/devdocs/user/theory.broadcasting.html)\n",
    "\n",
    "[Torch broadcasting](https://pytorch.org/docs/stable/notes/broadcasting.html)"
   ]
  },
  {
   "cell_type": "markdown",
   "metadata": {
    "id": "uRD6-8Gd1RDF"
   },
   "source": [
    "1.2.1 Создать тензор 11x7 вида: `[[1, 2, 3, ..., 7], [11, 12, 13, ..., 17], [21, 22, 23, ..., 27], ..., [101, 102, 103, ..., 107]]`. При решении задачи применить технику распространения."
   ]
  },
  {
   "cell_type": "code",
   "execution_count": 18,
   "metadata": {},
   "outputs": [
    {
     "name": "stdout",
     "output_type": "stream",
     "text": [
      "tensor([1, 2, 3, 4, 5, 6, 7])\n",
      "tensor([[  0],\n",
      "        [ 10],\n",
      "        [ 20],\n",
      "        [ 30],\n",
      "        [ 40],\n",
      "        [ 50],\n",
      "        [ 60],\n",
      "        [ 70],\n",
      "        [ 80],\n",
      "        [ 90],\n",
      "        [100]])\n"
     ]
    },
    {
     "data": {
      "text/plain": [
       "tensor([[  1,   2,   3,   4,   5,   6,   7],\n",
       "        [ 11,  12,  13,  14,  15,  16,  17],\n",
       "        [ 21,  22,  23,  24,  25,  26,  27],\n",
       "        [ 31,  32,  33,  34,  35,  36,  37],\n",
       "        [ 41,  42,  43,  44,  45,  46,  47],\n",
       "        [ 51,  52,  53,  54,  55,  56,  57],\n",
       "        [ 61,  62,  63,  64,  65,  66,  67],\n",
       "        [ 71,  72,  73,  74,  75,  76,  77],\n",
       "        [ 81,  82,  83,  84,  85,  86,  87],\n",
       "        [ 91,  92,  93,  94,  95,  96,  97],\n",
       "        [101, 102, 103, 104, 105, 106, 107]])"
      ]
     },
     "execution_count": 18,
     "metadata": {},
     "output_type": "execute_result"
    }
   ],
   "source": [
    "first_items = torch.arange(1, 8, step=1)\n",
    "print(first_items)\n",
    "second_items = torch.arange(0, 101, step=10).reshape(-1, 1) #Преобразуем в столбец из строки\n",
    "print(second_items)\n",
    "first_items + second_items"
   ]
  },
  {
   "cell_type": "markdown",
   "metadata": {},
   "source": [
    "### Как оно работает"
   ]
  },
  {
   "cell_type": "markdown",
   "metadata": {},
   "source": [
    "Когда складываем first_items + units, то first_items преобращуется в след вид за счет бродкастинга:\n",
    "```\n",
    "tensor([[1, 2, 3, 4, 5, 6, 7],\n",
    "        [1, 2, 3, 4, 5, 6, 7],\n",
    "        [1, 2, 3, 4, 5, 6, 7],\n",
    "        [1, 2, 3, 4, 5, 6, 7],\n",
    "        [1, 2, 3, 4, 5, 6, 7],\n",
    "        [1, 2, 3, 4, 5, 6, 7],\n",
    "        [1, 2, 3, 4, 5, 6, 7],\n",
    "        [1, 2, 3, 4, 5, 6, 7],\n",
    "        [1, 2, 3, 4, 5, 6, 7],\n",
    "        [1, 2, 3, 4, 5, 6, 7],\n",
    "        [1, 2, 3, 4, 5, 6, 7],])\n",
    "```"
   ]
  },
  {
   "cell_type": "markdown",
   "metadata": {},
   "source": [
    "А second_items в\n",
    "```\n",
    "tensor([[0, 0, 0, 0, 0, 0, 0],\n",
    "        [10, 10, 10, 10, 10, 10, 10],\n",
    "        [20, 20, 20, 20, 20, 20, 20],\n",
    "        [30, 30, 30, 30, 30, 30, 30],\n",
    "        [40, 40, 40, 40, 40, 40, 40],\n",
    "        [50, 50, 50, 50, 50, 50, 50],\n",
    "        [60, 60, 60, 60, 60, 60, 60],\n",
    "        [70, 70, 70, 70, 70, 70, 70],\n",
    "        [80, 80, 80, 80, 80, 80, 80],\n",
    "        [90, 90, 90, 90, 90, 90, 90],\n",
    "        [100, 100, 100, 100, 100, 100, 100],])\n",
    "```"
   ]
  },
  {
   "cell_type": "markdown",
   "metadata": {},
   "source": [
    "И далее происходит суммирование соответствующих элементов"
   ]
  },
  {
   "cell_type": "markdown",
   "metadata": {},
   "source": [
    "Т.е. внутри оба элемента приводятся к единой размерности и вычисляются"
   ]
  },
  {
   "cell_type": "markdown",
   "metadata": {
    "id": "iSY9Iday1RDF"
   },
   "source": [
    "1.2.2 Вычесть одномерный тензор `b_1d` из двухмерного тензора `a_2d`, так, чтобы каждый элемент одномерного тензора вычитался из всех элементов соответствующих строк двумерного тензора.\n",
    "\n",
    "_Пример:_\n",
    "\n",
    "Для входа:\n",
    "```python\n",
    "a_2d = np.array([[3,3,3],[4,4,4],[5,5,5]])\n",
    "b_1d = np.array([1,2,3])\n",
    "```\n",
    "\n",
    "Ожидается резульат:\n",
    "\n",
    "```python\n",
    "[[2 2 2]\n",
    " [2 2 2]\n",
    " [2 2 2]]\n",
    "```"
   ]
  },
  {
   "cell_type": "code",
   "execution_count": 19,
   "metadata": {},
   "outputs": [
    {
     "name": "stdout",
     "output_type": "stream",
     "text": [
      "tensor([1, 2, 3])\n",
      "tensor([[3, 3, 3],\n",
      "        [4, 4, 4],\n",
      "        [5, 5, 5]])\n"
     ]
    },
    {
     "data": {
      "text/plain": [
       "tensor([[2, 2, 2],\n",
       "        [2, 2, 2],\n",
       "        [2, 2, 2]])"
      ]
     },
     "execution_count": 19,
     "metadata": {},
     "output_type": "execute_result"
    }
   ],
   "source": [
    "b_1d = torch.tensor([1,2,3])\n",
    "print(b_1d)\n",
    "a_2d = torch.tensor([[3,3,3],[4,4,4],[5,5,5]])\n",
    "print(a_2d)\n",
    "res = a_2d - b_1d.reshape(b_1d.size()[0], 1)\n",
    "res"
   ]
  },
  {
   "cell_type": "markdown",
   "metadata": {
    "id": "dFTvPsY91RDF"
   },
   "source": [
    "## 1.3 Индексы, маскирование и прихотливое индексирование\n",
    "\n",
    "[Документация по функциям для работы с индексами](https://pytorch.org/docs/stable/torch.html#indexing-slicing-joining-mutating-ops)"
   ]
  },
  {
   "cell_type": "markdown",
   "metadata": {
    "id": "McYtDYhH1RDG"
   },
   "source": [
    "1.3.1 Получить индексы, для которых элементы тензоров `a` и `b` совпадают.\n",
    "\n",
    "_Пример:_\n",
    "\n",
    "Для входа:\n",
    "```python\n",
    "a = np.array([1,2,3,2,3,4,3,4,5,6])\n",
    "b = np.array([7,2,10,2,7,4,9,4,9,8])\n",
    "```\n",
    "\n",
    "Ожидается резульат:\n",
    "\n",
    "```python\n",
    "array([1, 3, 5, 7])\n",
    "```"
   ]
  },
  {
   "cell_type": "code",
   "execution_count": 20,
   "metadata": {},
   "outputs": [
    {
     "data": {
      "text/plain": [
       "array([1, 3, 5, 7])"
      ]
     },
     "execution_count": 20,
     "metadata": {},
     "output_type": "execute_result"
    }
   ],
   "source": [
    "a = torch.tensor([1,2,3,2,3,4,3,4,5,6])\n",
    "b = torch.tensor([7,2,10,2,7,4,9,4,9,8])\n",
    "\n",
    "res = (a == b).nonzero(as_tuple=True)\n",
    "res[0].numpy()"
   ]
  },
  {
   "cell_type": "markdown",
   "metadata": {
    "id": "MnBq3nfy1RDG"
   },
   "source": [
    "1.3.2 Инвертировать порядок элементов в двумерном тензоре `torch.arange(9).view(3,3)`.\n",
    "\n",
    "Ожидаемый результат:\n",
    "\n",
    "\n",
    "```python\n",
    "array([[8, 7, 6],\n",
    "       [5, 4, 3],\n",
    "       [2, 1, 0]])\n",
    "```"
   ]
  },
  {
   "cell_type": "code",
   "execution_count": 21,
   "metadata": {},
   "outputs": [
    {
     "data": {
      "text/plain": [
       "array([[8, 7, 6],\n",
       "       [5, 4, 3],\n",
       "       [2, 1, 0]])"
      ]
     },
     "execution_count": 21,
     "metadata": {},
     "output_type": "execute_result"
    }
   ],
   "source": [
    "arr = torch.arange(9).view(3,3)\n",
    "arr = arr.flip(1).flip(0).numpy()\n",
    "arr"
   ]
  },
  {
   "cell_type": "markdown",
   "metadata": {
    "id": "tANsLnOC1RDH"
   },
   "source": [
    "1.3.3 Из входного тензора a получить только элементы, находящиеся в диапазоне от 5 до 10.\n",
    "\n",
    "_Пример:_\n",
    "\n",
    "Для входа:\n",
    "```python\n",
    "a = np.array([2, 6, 1, 9, 10, 3, 27])\n",
    "```\n",
    "\n",
    "Ожидается резульат:\n",
    "\n",
    "```python\n",
    "array([6, 9, 10])\n",
    "```"
   ]
  },
  {
   "cell_type": "code",
   "execution_count": 22,
   "metadata": {},
   "outputs": [
    {
     "data": {
      "text/plain": [
       "array([ 6,  9, 10])"
      ]
     },
     "execution_count": 22,
     "metadata": {},
     "output_type": "execute_result"
    }
   ],
   "source": [
    "a = torch.tensor([2, 6, 1, 9, 10, 3, 27])\n",
    "mask = (a >= 5) & (a <= 10)\n",
    "res = a[mask].numpy()\n",
    "res"
   ]
  },
  {
   "cell_type": "markdown",
   "metadata": {
    "id": "3vlK0gV21RDH"
   },
   "source": [
    "1.3.4 Поменять местами столбец 1 и 2 тензора `np.arange(9).reshape(3,3)`"
   ]
  },
  {
   "cell_type": "code",
   "execution_count": 23,
   "metadata": {},
   "outputs": [
    {
     "name": "stdout",
     "output_type": "stream",
     "text": [
      "tensor([[0, 1, 2],\n",
      "        [3, 4, 5],\n",
      "        [6, 7, 8]])\n"
     ]
    },
    {
     "data": {
      "text/plain": [
       "tensor([[0, 2, 1],\n",
       "        [3, 5, 4],\n",
       "        [6, 8, 7]])"
      ]
     },
     "execution_count": 23,
     "metadata": {},
     "output_type": "execute_result"
    }
   ],
   "source": [
    "res = torch.arange(9).reshape(3,3)\n",
    "print(res)\n",
    "res = res[:, [0, 2, 1]]\n",
    "res"
   ]
  },
  {
   "cell_type": "markdown",
   "metadata": {
    "id": "cheFtWhU1RDH"
   },
   "source": [
    "1.3.5 Создать тензор 8 на 10 из случайных целых чисел из диапазона от 0 до 10 и найти в ней строку (ее индекс и вывести саму строку), в которой сумма значений минимальна."
   ]
  },
  {
   "cell_type": "code",
   "execution_count": 24,
   "metadata": {},
   "outputs": [
    {
     "name": "stdout",
     "output_type": "stream",
     "text": [
      "tensor([[ 3,  1,  7,  6,  5,  6,  4,  6,  4,  3],\n",
      "        [ 4,  1,  9, 10,  7,  2,  2,  0,  0,  4],\n",
      "        [ 3,  2, 10,  5,  2,  5,  9,  4,  4,  4],\n",
      "        [ 4,  8,  3, 10,  3,  7,  3,  3,  3,  5],\n",
      "        [ 5,  2,  3,  4,  1,  0, 10, 10,  7,  5],\n",
      "        [ 0,  1,  2,  1,  1,  8,  7,  8,  4,  8],\n",
      "        [ 6,  6,  7,  7,  1,  0,  9,  1,  1,  1],\n",
      "        [ 9,  5,  2,  8,  1,  4,  3,  9,  3,  0]])\n",
      "1\n"
     ]
    },
    {
     "data": {
      "text/plain": [
       "tensor([ 4,  1,  9, 10,  7,  2,  2,  0,  0,  4])"
      ]
     },
     "execution_count": 24,
     "metadata": {},
     "output_type": "execute_result"
    }
   ],
   "source": [
    "arr = torch.randint(0, 11, size=[8, 10])\n",
    "print(arr)\n",
    "item_index = arr.sum(axis=1).min(axis=0).indices.item()\n",
    "print(item_index)\n",
    "res = arr[item_index]\n",
    "res"
   ]
  },
  {
   "cell_type": "markdown",
   "metadata": {
    "id": "grOCNU4XFE2B"
   },
   "source": [
    "1.3.6 Cоздать тензор из 20 случайных целых чисел от 0 до 100. Обрезать значения тензора (заменить значения, выходящие за диапазон, на крайние значения) снизу по значению 30, сверху по значению 70."
   ]
  },
  {
   "cell_type": "code",
   "execution_count": 25,
   "metadata": {},
   "outputs": [
    {
     "name": "stdout",
     "output_type": "stream",
     "text": [
      "tensor([74, 35,  8, 19, 90, 85, 93, 79, 30, 64, 72,  3, 42, 46, 25, 15, 54, 92,\n",
      "        82, 22])\n",
      "tensor([74, 35, 30, 30, 90, 85, 93, 79, 30, 64, 72, 30, 42, 46, 30, 30, 54, 92,\n",
      "        82, 30])\n"
     ]
    },
    {
     "data": {
      "text/plain": [
       "tensor([70, 35, 30, 30, 70, 70, 70, 70, 30, 64, 70, 30, 42, 46, 30, 30, 54, 70,\n",
       "        70, 30])"
      ]
     },
     "execution_count": 25,
     "metadata": {},
     "output_type": "execute_result"
    }
   ],
   "source": [
    "res = torch.randint(0, 101, size=[20])\n",
    "print(res)\n",
    "#Все что меньше - режем\n",
    "res[(res < 30)] = 30\n",
    "print(res)\n",
    "#Все что больше - режем\n",
    "res[(res > 70)] = 70\n",
    "res"
   ]
  },
  {
   "cell_type": "markdown",
   "metadata": {
    "id": "HNfQjY8P1RDI"
   },
   "source": [
    "1.3.7 Создать два тензора размера 30 на 3 из случайных целых чисел из диапазона от 0 до 10 и найти все значения первого тензора, которые больше соответсвующих (по расположению) значений второго тензора. Подсчитать сумму этих значений."
   ]
  },
  {
   "cell_type": "code",
   "execution_count": 26,
   "metadata": {},
   "outputs": [
    {
     "name": "stdout",
     "output_type": "stream",
     "text": [
      "tensor([10, 10,  6,  6, 10,  8,  8,  6,  8,  9,  9,  6, 10,  9,  6,  7,  7,  8,\n",
      "        10,  4,  3,  6, 10, 10,  7,  4,  9,  7,  6,  7,  9,  6,  8,  9,  3,  9,\n",
      "         9, 10,  9,  5,  6])\n",
      "Sum: 309\n"
     ]
    }
   ],
   "source": [
    "a1 = torch.randint(0, 11, size=[30, 3])\n",
    "a2 = torch.randint(0, 11, size=[30, 3])\n",
    "\n",
    "mask = a1 > a2\n",
    "print(a1[mask])\n",
    "\n",
    "res = a1[mask].sum().item()\n",
    "print(\"Sum:\", res)"
   ]
  },
  {
   "cell_type": "markdown",
   "metadata": {
    "id": "doBCxYJA1RDI"
   },
   "source": [
    "1.3.8 При помощи прихотливого индексирования для двухмерного массива размерности (20, 20), состоящего из случайных целых чисел в пределах от 0 до 10 получить массив элементов находящихся на диагонали, проходящей над основной диагональю."
   ]
  },
  {
   "cell_type": "code",
   "execution_count": 27,
   "metadata": {},
   "outputs": [
    {
     "name": "stdout",
     "output_type": "stream",
     "text": [
      "tensor([[ 4,  5,  6,  0,  8,  4,  7,  3,  4,  1,  0,  2, 10,  8,  5,  4,  2,  8,\n",
      "          4,  0],\n",
      "        [ 2,  3,  8,  6,  0,  6,  7,  0,  5,  2,  5,  5, 10, 10,  7,  7,  2,  7,\n",
      "          4,  0],\n",
      "        [10,  6, 10,  6,  0,  6,  2,  7,  8,  9,  7,  0,  4,  0,  2,  4,  3,  4,\n",
      "          2,  2],\n",
      "        [ 8,  6,  9,  9,  3,  5,  1,  7,  8,  3,  2,  3,  6,  7,  3,  5,  9,  3,\n",
      "          0,  2],\n",
      "        [ 9,  8,  4,  7,  8, 10,  9,  4,  5,  0,  1, 10,  5,  7,  8,  8,  4,  6,\n",
      "          6,  5],\n",
      "        [10,  3,  3,  0,  7,  9,  2,  1,  2,  2,  0,  5,  5,  1,  3,  3,  4,  3,\n",
      "          2,  9],\n",
      "        [ 1,  2,  0,  6,  3,  4,  9,  3,  5,  1,  3, 10,  7,  0,  7,  5,  2,  5,\n",
      "          3,  5],\n",
      "        [ 7,  3,  3,  1,  9,  1, 10,  8,  7,  3,  4,  4,  1, 10,  7,  6,  0,  3,\n",
      "          4, 10],\n",
      "        [ 1,  5,  0,  9,  4,  1,  6,  1,  6,  1,  8,  0,  8,  2,  5,  3,  9, 10,\n",
      "          7,  3],\n",
      "        [10, 10,  3,  4,  5,  9,  4,  1,  4,  5,  6,  8,  5,  9, 10,  7, 10,  3,\n",
      "          2,  6],\n",
      "        [ 1,  7,  4,  2,  8,  4, 10,  0,  0,  4,  4,  0,  3,  8,  5,  8,  0,  6,\n",
      "          1,  5],\n",
      "        [ 9,  5,  2, 10,  0,  8,  8,  7,  1,  1,  9,  9,  9,  3,  6,  6,  1, 10,\n",
      "          6,  2],\n",
      "        [ 4,  8,  3,  2,  1,  9,  4,  5, 10,  5,  5,  7,  6,  3,  6,  3,  2,  1,\n",
      "          1,  8],\n",
      "        [ 7,  3, 10,  3,  8,  7,  2,  3,  5,  8,  1,  9,  9,  3,  2,  6,  8,  2,\n",
      "         10,  8],\n",
      "        [ 4,  2,  7,  5,  2,  3,  2,  8, 10,  4, 10,  9,  4,  9,  1,  6,  6,  4,\n",
      "          3, 10],\n",
      "        [ 1,  0,  8, 10, 10,  5,  0,  4,  4,  5,  8,  1,  4,  4,  5,  1,  1,  5,\n",
      "          8,  5],\n",
      "        [ 1,  5,  7, 10,  0,  6,  5,  9,  5,  0,  6,  5,  0,  0, 10,  4,  2,  6,\n",
      "          1,  1],\n",
      "        [ 2, 10,  8,  8,  5,  6,  7,  1,  6,  0,  7,  4,  7,  0, 10,  7,  3,  1,\n",
      "          9,  0],\n",
      "        [ 0,  7,  0,  2, 10,  3,  6,  6,  7,  5,  4, 10,  0,  3,  5,  6,  1,  0,\n",
      "          5,  9],\n",
      "        [ 3,  7,  2, 10,  6,  9,  4,  2,  8,  7,  0,  0,  8,  6,  9,  2,  2,  1,\n",
      "          7,  0]])\n",
      "tensor([ 5,  8,  6,  3, 10,  2,  3,  7,  1,  6,  0,  9,  3,  2,  6,  1,  6,  9,\n",
      "         9])\n"
     ]
    }
   ],
   "source": [
    "res = torch.randint(0, 11, size=[20, 20])\n",
    "print(res)\n",
    "print(res[torch.arange(19), torch.arange(19) +1])"
   ]
  },
  {
   "cell_type": "markdown",
   "metadata": {
    "id": "6M1lkfLp1RDJ"
   },
   "source": [
    "1.3.9 Задать два двухмерных тензора `ar1` и `ar2` размерности (5, 10), состоящих из случайных целых чисел в пределах от 0 до 10. Удвоить все значения `ar1`, которые совпадают со значениями `ar2`, расположенными на аналогичных позициях."
   ]
  },
  {
   "cell_type": "code",
   "execution_count": 28,
   "metadata": {},
   "outputs": [
    {
     "name": "stdout",
     "output_type": "stream",
     "text": [
      "tensor([[ 8,  8,  8,  3,  1,  3,  9,  9,  5,  4],\n",
      "        [ 8,  5,  8,  4,  1,  4,  3,  7,  3,  3],\n",
      "        [10,  6, 10,  1,  6,  4,  4,  6, 10,  0],\n",
      "        [ 7,  6,  4,  9, 10,  3,  6,  7,  7,  0],\n",
      "        [ 3, 10,  7,  8,  9,  7,  4,  8,  2,  9]]) \n",
      "\n",
      "tensor([[ 5,  3, 10,  3,  4,  9,  0,  0,  0, 10],\n",
      "        [ 1,  6,  2,  9,  4,  5,  7,  7,  7,  4],\n",
      "        [ 0,  5,  5,  1,  1,  5, 10,  1,  5,  9],\n",
      "        [ 8, 10,  3,  0,  9,  3,  8,  3, 10,  3],\n",
      "        [ 3,  4,  2,  9,  5,  6,  9, 10,  2,  2]]) \n",
      "\n"
     ]
    },
    {
     "data": {
      "text/plain": [
       "tensor([[ 8,  8,  8,  6,  1,  3,  9,  9,  5,  4],\n",
       "        [ 8,  5,  8,  4,  1,  4,  3, 14,  3,  3],\n",
       "        [10,  6, 10,  2,  6,  4,  4,  6, 10,  0],\n",
       "        [ 7,  6,  4,  9, 10,  6,  6,  7,  7,  0],\n",
       "        [ 6, 10,  7,  8,  9,  7,  4,  8,  4,  9]])"
      ]
     },
     "execution_count": 28,
     "metadata": {},
     "output_type": "execute_result"
    }
   ],
   "source": [
    "a1 = torch.randint(0, 11, size=[5, 10])\n",
    "print(a1,\"\\n\")\n",
    "a2 = torch.randint(0, 11, size=[5, 10])\n",
    "print(a2, \"\\n\")\n",
    "\n",
    "mask = a1 == a2\n",
    "a1[mask] = a1[mask] * 2\n",
    "a1"
   ]
  },
  {
   "cell_type": "markdown",
   "metadata": {
    "id": "Qe2oVr4p1RDJ"
   },
   "source": [
    "1.3.10 Заданы три двухмерных тензора `ar1`, `ar2` и `ar3` размерности (4, 7), состоящие из случайных целых чисел в пределах от 0 до 10. Обнулить все элементы `ar1`, которые больше соответствующих (находящихся в соответствующих позициях) элементов `ar2` и меньше соответствующих элементов `ar3`."
   ]
  },
  {
   "cell_type": "code",
   "execution_count": 29,
   "metadata": {},
   "outputs": [
    {
     "name": "stdout",
     "output_type": "stream",
     "text": [
      "tensor([[ 6,  5,  7,  3,  2,  3,  2],\n",
      "        [ 6,  4,  8, 10,  9,  0,  5],\n",
      "        [ 9,  7,  7,  7,  8, 10,  7],\n",
      "        [ 6,  0,  2,  3,  0,  8,  9]]) \n",
      "\n",
      "tensor([[ 1,  7,  5,  9,  4,  5,  0],\n",
      "        [10,  4,  1, 10,  1,  8, 10],\n",
      "        [ 2,  1,  0,  3, 10,  5,  5],\n",
      "        [ 2,  0,  7,  4,  9,  3,  9]]) \n",
      "\n",
      "tensor([[ 2,  3,  7, 10,  5,  8,  6],\n",
      "        [ 7,  7,  3,  3,  5,  8,  5],\n",
      "        [ 1,  9,  4,  2,  7,  0,  8],\n",
      "        [ 8, 10,  7,  4,  0,  8,  4]]) \n",
      "\n"
     ]
    },
    {
     "data": {
      "text/plain": [
       "tensor([[ 6,  5,  7,  3,  2,  3,  0],\n",
       "        [ 6,  4,  8, 10,  9,  0,  5],\n",
       "        [ 9,  0,  7,  7,  8, 10,  0],\n",
       "        [ 0,  0,  2,  3,  0,  8,  9]])"
      ]
     },
     "execution_count": 29,
     "metadata": {},
     "output_type": "execute_result"
    }
   ],
   "source": [
    "a1 = torch.randint(0, 11, size=[4, 7])\n",
    "print(a1, \"\\n\")\n",
    "a2 = torch.randint(0, 11, size=[4, 7])\n",
    "print(a2, \"\\n\")\n",
    "a3 = torch.randint(0, 11, size=[4, 7])\n",
    "print(a3, \"\\n\")\n",
    "\n",
    "mask = (a1 > a2) & (a1 < a3)\n",
    "a1[mask] = 0\n",
    "a1"
   ]
  },
  {
   "cell_type": "markdown",
   "metadata": {
    "id": "BTcRVeYh1RDK"
   },
   "source": [
    "1.3.11 Задан двумерный тензор `ar1` размерности (20, 5), состоящий из случайных целых чисел в пределах от 0 до 20. Определить, в каких столбцах не менее 5 раз встречается значение, максимальное по своей строке."
   ]
  },
  {
   "cell_type": "code",
   "execution_count": 30,
   "metadata": {},
   "outputs": [
    {
     "name": "stdout",
     "output_type": "stream",
     "text": [
      "tensor([[ 4, 16, 14, 12, 11],\n",
      "        [18, 19, 11, 14,  6],\n",
      "        [17,  6, 16,  4, 11],\n",
      "        [ 0,  6,  5,  8,  5],\n",
      "        [19,  2, 12, 15, 16],\n",
      "        [16, 10, 19,  7, 20],\n",
      "        [ 5,  9,  4, 14, 17],\n",
      "        [ 0, 16, 14, 18,  7],\n",
      "        [12,  8, 13, 15, 15],\n",
      "        [ 3,  4, 10, 11,  4],\n",
      "        [ 1,  8,  0,  9, 12],\n",
      "        [ 8, 15,  5, 20, 20],\n",
      "        [20, 17,  5,  4,  6],\n",
      "        [10, 18,  4,  1,  8],\n",
      "        [19, 18,  9,  7, 18],\n",
      "        [ 4,  0,  9, 17,  5],\n",
      "        [ 1,  9, 13, 17, 19],\n",
      "        [ 9,  3,  8,  1, 20],\n",
      "        [ 4, 17,  1,  1, 18],\n",
      "        [20, 11, 19,  0, 18]]) \n",
      "\n"
     ]
    },
    {
     "data": {
      "text/plain": [
       "tensor([3, 4])"
      ]
     },
     "execution_count": 30,
     "metadata": {},
     "output_type": "execute_result"
    }
   ],
   "source": [
    "a1 = torch.randint(0, 21, size=(20, 5))\n",
    "print(a1, \"\\n\")\n",
    "condition = (a1.T == a1.max(axis=1).values).T.sum(axis=0) > 5\n",
    "res = (condition).nonzero(as_tuple=True)\n",
    "res[0]"
   ]
  },
  {
   "cell_type": "markdown",
   "metadata": {
    "id": "ZeYlNWNE1RDK"
   },
   "source": [
    "1.3.12 Задан двумерный тензор `ar1` размерности (4, 7), состоящий из случайных  чисел в пределах от 0 до 1. Обнулить все значения в массиве, расположенные строго правее и ниже максимального элемента массива. "
   ]
  },
  {
   "cell_type": "code",
   "execution_count": 31,
   "metadata": {},
   "outputs": [
    {
     "name": "stdout",
     "output_type": "stream",
     "text": [
      "tensor([[0.6220, 0.7283, 0.6349, 0.3370, 0.6606, 0.0524, 0.0440],\n",
      "        [0.0947, 0.7334, 0.6570, 0.6838, 0.4169, 0.9050, 0.7414],\n",
      "        [0.3806, 0.9186, 0.1154, 0.4035, 0.2307, 0.0833, 0.9382],\n",
      "        [0.0265, 0.9742, 0.8798, 0.9555, 0.8741, 0.8993, 0.2819]])\n",
      "0.9742012023925781\n"
     ]
    },
    {
     "data": {
      "text/plain": [
       "tensor([[0.6220, 0.7283, 0.6349, 0.3370, 0.6606, 0.0524, 0.0440],\n",
       "        [0.0947, 0.7334, 0.6570, 0.6838, 0.4169, 0.9050, 0.7414],\n",
       "        [0.3806, 0.9186, 0.1154, 0.4035, 0.2307, 0.0833, 0.9382],\n",
       "        [0.0265, 0.9742, 0.8798, 0.9555, 0.8741, 0.8993, 0.2819]])"
      ]
     },
     "execution_count": 31,
     "metadata": {},
     "output_type": "execute_result"
    }
   ],
   "source": [
    "ar1 = torch.rand((4, 7))\n",
    "print(ar1)\n",
    "maximum = ar1.max().item()\n",
    "print(maximum)\n",
    "\n",
    "ar1[(ar1 == maximum).nonzero(as_tuple=True)[0][0] + 1:, (ar1 == maximum).nonzero(as_tuple=True)[1][0] + 1:] = 0\n",
    "ar1"
   ]
  },
  {
   "cell_type": "markdown",
   "metadata": {
    "id": "pYxX90B11RDL"
   },
   "source": [
    "1.3.13 Построить \"one-hot encoding\" для одномерного тензора, содержащего целые числа (длина вектора заранее неизвестна, набор значений заранее неизвестен, при этом в итоговой матрице должны присутствовать столбцы для всех натуральных чисел вплоть до максимального встречающегося в исходном массиве).\n",
    "\n",
    "Пример:\n",
    "\n",
    "для тензора `torch.tensor([2, 3, 2, 2, 2, 1])`.\n",
    "\n",
    "Ожидается результат:\n",
    "\n",
    "```python\n",
    "tensor([[0., 1., 0.],\n",
    "        [0., 0., 1.],\n",
    "        [0., 1., 0.],\n",
    "        [0., 1., 0.],\n",
    "        [0., 1., 0.],\n",
    "        [1., 0., 0.]])\n",
    "```"
   ]
  },
  {
   "cell_type": "code",
   "execution_count": 32,
   "metadata": {},
   "outputs": [
    {
     "data": {
      "text/plain": [
       "tensor([[0., 1., 0.],\n",
       "        [0., 0., 1.],\n",
       "        [0., 1., 0.],\n",
       "        [0., 1., 0.],\n",
       "        [0., 1., 0.],\n",
       "        [1., 0., 0.]])"
      ]
     },
     "execution_count": 32,
     "metadata": {},
     "output_type": "execute_result"
    }
   ],
   "source": [
    "arr = torch.tensor([2, 3, 2, 2, 2, 1])\n",
    "res = torch.zeros(arr.size()[0], arr.max())\n",
    "res[torch.arange(arr.size()[0]), arr-1] = 1\n",
    "res"
   ]
  },
  {
   "cell_type": "markdown",
   "metadata": {
    "id": "GYU8DmNTDLN8"
   },
   "source": [
    "1.3.14 Создать тензор `arr` из 20 случайных целых чисел от 0 до 100. Найти самое частое значение в тензоре. \n",
    "Найти индексы в тензоре, соответствующие самому частому значению. Проверить, как работет алгоритм при двух значениях, имеющих наибольшую встречаемость, предложить приемлемое поведение алгоритма для этого случая. "
   ]
  },
  {
   "cell_type": "code",
   "execution_count": 33,
   "metadata": {},
   "outputs": [
    {
     "name": "stdout",
     "output_type": "stream",
     "text": [
      "tensor([43, 11, 99, 14, 18, 54, 54, 55, 48, 50, 42, 18,  5, 51, 38,  8, 32, 50,\n",
      "        64,  1])\n",
      "tensor(18)\n"
     ]
    },
    {
     "data": {
      "text/plain": [
       "[4, 11]"
      ]
     },
     "execution_count": 33,
     "metadata": {},
     "output_type": "execute_result"
    }
   ],
   "source": [
    "arr = torch.randint(0, 101, size=[20])\n",
    "print(arr)\n",
    "most_value = torch.mode(arr)[0]\n",
    "print(most_value)\n",
    "res = (arr == most_value).nonzero(as_tuple=True)[0].tolist()\n",
    "res"
   ]
  },
  {
   "cell_type": "markdown",
   "metadata": {
    "id": "UenAEfEG1RDN"
   },
   "source": [
    "## 1.4 Математические задачи"
   ]
  },
  {
   "cell_type": "markdown",
   "metadata": {
    "id": "6weDrqJR1RDN"
   },
   "source": [
    "1.4.1 Приблизительно (с погрешностью порядка 1%) рассчитать на какой части интервала от 0 до 10 значение функции x * sin(x) больше 0.5."
   ]
  },
  {
   "cell_type": "code",
   "execution_count": 34,
   "metadata": {},
   "outputs": [
    {
     "data": {
      "text/plain": [
       "tensor(0.5241)"
      ]
     },
     "execution_count": 34,
     "metadata": {},
     "output_type": "execute_result"
    }
   ],
   "source": [
    "n = 100000\n",
    "arr = torch.linspace(0, 10, n)\n",
    "((arr * torch.sin(arr)) > 0.5).sum() / n"
   ]
  },
  {
   "cell_type": "markdown",
   "metadata": {
    "id": "B9xAv8TR1RDN"
   },
   "source": [
    "1.4.2 Найти все простые числа в пределах ста. (Для решения предлагается использовать Решето Эратосфена) Использовать не более 1 цикла (желательно)."
   ]
  },
  {
   "cell_type": "markdown",
   "metadata": {},
   "source": [
    "https://ru.wikipedia.org/wiki/%D0%A0%D0%B5%D1%88%D0%B5%D1%82%D0%BE_%D0%AD%D1%80%D0%B0%D1%82%D0%BE%D1%81%D1%84%D0%B5%D0%BD%D0%B0"
   ]
  },
  {
   "cell_type": "code",
   "execution_count": 35,
   "metadata": {},
   "outputs": [
    {
     "name": "stdout",
     "output_type": "stream",
     "text": [
      "[2, 3, 5, 7, 9, 11, 13, 15, 17, 19, 21, 23, 25, 27, 29, 31, 33, 35, 37, 39, 41, 43, 45, 47, 49, 51, 53, 55, 57, 59, 61, 63, 65, 67, 69, 71, 73, 75, 77, 79, 81, 83, 85, 87, 89, 91, 93, 95, 97, 99]\n",
      "[2, 3, 5, 7, 11, 13, 17, 19, 23, 25, 29, 31, 35, 37, 41, 43, 47, 49, 53, 55, 59, 61, 65, 67, 71, 73, 77, 79, 83, 85, 89, 91, 95, 97]\n",
      "[2, 3, 5, 7, 11, 13, 17, 19, 23, 25, 29, 31, 35, 37, 41, 43, 47, 49, 53, 55, 59, 61, 65, 67, 71, 73, 77, 79, 83, 85, 89, 91, 95, 97]\n",
      "[2, 3, 5, 7, 11, 13, 17, 19, 23, 29, 31, 37, 41, 43, 47, 49, 53, 59, 61, 67, 71, 73, 77, 79, 83, 89, 91, 97]\n",
      "[2, 3, 5, 7, 11, 13, 17, 19, 23, 29, 31, 37, 41, 43, 47, 49, 53, 59, 61, 67, 71, 73, 77, 79, 83, 89, 91, 97]\n",
      "[2, 3, 5, 7, 11, 13, 17, 19, 23, 29, 31, 37, 41, 43, 47, 53, 59, 61, 67, 71, 73, 79, 83, 89, 97]\n",
      "[2, 3, 5, 7, 11, 13, 17, 19, 23, 29, 31, 37, 41, 43, 47, 53, 59, 61, 67, 71, 73, 79, 83, 89, 97]\n",
      "[2, 3, 5, 7, 11, 13, 17, 19, 23, 29, 31, 37, 41, 43, 47, 53, 59, 61, 67, 71, 73, 79, 83, 89, 97]\n",
      "[2, 3, 5, 7, 11, 13, 17, 19, 23, 29, 31, 37, 41, 43, 47, 53, 59, 61, 67, 71, 73, 79, 83, 89, 97]\n",
      "[2, 3, 5, 7, 11, 13, 17, 19, 23, 29, 31, 37, 41, 43, 47, 53, 59, 61, 67, 71, 73, 79, 83, 89, 97]\n",
      "[2, 3, 5, 7, 11, 13, 17, 19, 23, 29, 31, 37, 41, 43, 47, 53, 59, 61, 67, 71, 73, 79, 83, 89, 97]\n",
      "[2, 3, 5, 7, 11, 13, 17, 19, 23, 29, 31, 37, 41, 43, 47, 53, 59, 61, 67, 71, 73, 79, 83, 89, 97]\n",
      "[2, 3, 5, 7, 11, 13, 17, 19, 23, 29, 31, 37, 41, 43, 47, 53, 59, 61, 67, 71, 73, 79, 83, 89, 97]\n",
      "[2, 3, 5, 7, 11, 13, 17, 19, 23, 29, 31, 37, 41, 43, 47, 53, 59, 61, 67, 71, 73, 79, 83, 89, 97]\n",
      "[2, 3, 5, 7, 11, 13, 17, 19, 23, 29, 31, 37, 41, 43, 47, 53, 59, 61, 67, 71, 73, 79, 83, 89, 97]\n",
      "[2, 3, 5, 7, 11, 13, 17, 19, 23, 29, 31, 37, 41, 43, 47, 53, 59, 61, 67, 71, 73, 79, 83, 89, 97]\n",
      "[2, 3, 5, 7, 11, 13, 17, 19, 23, 29, 31, 37, 41, 43, 47, 53, 59, 61, 67, 71, 73, 79, 83, 89, 97]\n",
      "[2, 3, 5, 7, 11, 13, 17, 19, 23, 29, 31, 37, 41, 43, 47, 53, 59, 61, 67, 71, 73, 79, 83, 89, 97]\n",
      "[2, 3, 5, 7, 11, 13, 17, 19, 23, 29, 31, 37, 41, 43, 47, 53, 59, 61, 67, 71, 73, 79, 83, 89, 97]\n",
      "[2, 3, 5, 7, 11, 13, 17, 19, 23, 29, 31, 37, 41, 43, 47, 53, 59, 61, 67, 71, 73, 79, 83, 89, 97]\n",
      "[2, 3, 5, 7, 11, 13, 17, 19, 23, 29, 31, 37, 41, 43, 47, 53, 59, 61, 67, 71, 73, 79, 83, 89, 97]\n",
      "[2, 3, 5, 7, 11, 13, 17, 19, 23, 29, 31, 37, 41, 43, 47, 53, 59, 61, 67, 71, 73, 79, 83, 89, 97]\n",
      "[2, 3, 5, 7, 11, 13, 17, 19, 23, 29, 31, 37, 41, 43, 47, 53, 59, 61, 67, 71, 73, 79, 83, 89, 97]\n",
      "[2, 3, 5, 7, 11, 13, 17, 19, 23, 29, 31, 37, 41, 43, 47, 53, 59, 61, 67, 71, 73, 79, 83, 89, 97]\n",
      "[2, 3, 5, 7, 11, 13, 17, 19, 23, 29, 31, 37, 41, 43, 47, 53, 59, 61, 67, 71, 73, 79, 83, 89, 97]\n",
      "[2, 3, 5, 7, 11, 13, 17, 19, 23, 29, 31, 37, 41, 43, 47, 53, 59, 61, 67, 71, 73, 79, 83, 89, 97]\n",
      "[2, 3, 5, 7, 11, 13, 17, 19, 23, 29, 31, 37, 41, 43, 47, 53, 59, 61, 67, 71, 73, 79, 83, 89, 97]\n",
      "[2, 3, 5, 7, 11, 13, 17, 19, 23, 29, 31, 37, 41, 43, 47, 53, 59, 61, 67, 71, 73, 79, 83, 89, 97]\n",
      "[2, 3, 5, 7, 11, 13, 17, 19, 23, 29, 31, 37, 41, 43, 47, 53, 59, 61, 67, 71, 73, 79, 83, 89, 97]\n",
      "[2, 3, 5, 7, 11, 13, 17, 19, 23, 29, 31, 37, 41, 43, 47, 53, 59, 61, 67, 71, 73, 79, 83, 89, 97]\n",
      "[2, 3, 5, 7, 11, 13, 17, 19, 23, 29, 31, 37, 41, 43, 47, 53, 59, 61, 67, 71, 73, 79, 83, 89, 97]\n",
      "[2, 3, 5, 7, 11, 13, 17, 19, 23, 29, 31, 37, 41, 43, 47, 53, 59, 61, 67, 71, 73, 79, 83, 89, 97]\n",
      "[2, 3, 5, 7, 11, 13, 17, 19, 23, 29, 31, 37, 41, 43, 47, 53, 59, 61, 67, 71, 73, 79, 83, 89, 97]\n",
      "[2, 3, 5, 7, 11, 13, 17, 19, 23, 29, 31, 37, 41, 43, 47, 53, 59, 61, 67, 71, 73, 79, 83, 89, 97]\n",
      "[2, 3, 5, 7, 11, 13, 17, 19, 23, 29, 31, 37, 41, 43, 47, 53, 59, 61, 67, 71, 73, 79, 83, 89, 97]\n",
      "[2, 3, 5, 7, 11, 13, 17, 19, 23, 29, 31, 37, 41, 43, 47, 53, 59, 61, 67, 71, 73, 79, 83, 89, 97]\n",
      "[2, 3, 5, 7, 11, 13, 17, 19, 23, 29, 31, 37, 41, 43, 47, 53, 59, 61, 67, 71, 73, 79, 83, 89, 97]\n",
      "[2, 3, 5, 7, 11, 13, 17, 19, 23, 29, 31, 37, 41, 43, 47, 53, 59, 61, 67, 71, 73, 79, 83, 89, 97]\n",
      "[2, 3, 5, 7, 11, 13, 17, 19, 23, 29, 31, 37, 41, 43, 47, 53, 59, 61, 67, 71, 73, 79, 83, 89, 97]\n",
      "[2, 3, 5, 7, 11, 13, 17, 19, 23, 29, 31, 37, 41, 43, 47, 53, 59, 61, 67, 71, 73, 79, 83, 89, 97]\n",
      "[2, 3, 5, 7, 11, 13, 17, 19, 23, 29, 31, 37, 41, 43, 47, 53, 59, 61, 67, 71, 73, 79, 83, 89, 97]\n",
      "[2, 3, 5, 7, 11, 13, 17, 19, 23, 29, 31, 37, 41, 43, 47, 53, 59, 61, 67, 71, 73, 79, 83, 89, 97]\n",
      "[2, 3, 5, 7, 11, 13, 17, 19, 23, 29, 31, 37, 41, 43, 47, 53, 59, 61, 67, 71, 73, 79, 83, 89, 97]\n",
      "[2, 3, 5, 7, 11, 13, 17, 19, 23, 29, 31, 37, 41, 43, 47, 53, 59, 61, 67, 71, 73, 79, 83, 89, 97]\n",
      "[2, 3, 5, 7, 11, 13, 17, 19, 23, 29, 31, 37, 41, 43, 47, 53, 59, 61, 67, 71, 73, 79, 83, 89, 97]\n",
      "[2, 3, 5, 7, 11, 13, 17, 19, 23, 29, 31, 37, 41, 43, 47, 53, 59, 61, 67, 71, 73, 79, 83, 89, 97]\n",
      "[2, 3, 5, 7, 11, 13, 17, 19, 23, 29, 31, 37, 41, 43, 47, 53, 59, 61, 67, 71, 73, 79, 83, 89, 97]\n",
      "[2, 3, 5, 7, 11, 13, 17, 19, 23, 29, 31, 37, 41, 43, 47, 53, 59, 61, 67, 71, 73, 79, 83, 89, 97]\n",
      "[2, 3, 5, 7, 11, 13, 17, 19, 23, 29, 31, 37, 41, 43, 47, 53, 59, 61, 67, 71, 73, 79, 83, 89, 97]\n",
      "[2, 3, 5, 7, 11, 13, 17, 19, 23, 29, 31, 37, 41, 43, 47, 53, 59, 61, 67, 71, 73, 79, 83, 89, 97]\n",
      "[2, 3, 5, 7, 11, 13, 17, 19, 23, 29, 31, 37, 41, 43, 47, 53, 59, 61, 67, 71, 73, 79, 83, 89, 97]\n",
      "[2, 3, 5, 7, 11, 13, 17, 19, 23, 29, 31, 37, 41, 43, 47, 53, 59, 61, 67, 71, 73, 79, 83, 89, 97]\n",
      "[2, 3, 5, 7, 11, 13, 17, 19, 23, 29, 31, 37, 41, 43, 47, 53, 59, 61, 67, 71, 73, 79, 83, 89, 97]\n",
      "[2, 3, 5, 7, 11, 13, 17, 19, 23, 29, 31, 37, 41, 43, 47, 53, 59, 61, 67, 71, 73, 79, 83, 89, 97]\n",
      "[2, 3, 5, 7, 11, 13, 17, 19, 23, 29, 31, 37, 41, 43, 47, 53, 59, 61, 67, 71, 73, 79, 83, 89, 97]\n",
      "[2, 3, 5, 7, 11, 13, 17, 19, 23, 29, 31, 37, 41, 43, 47, 53, 59, 61, 67, 71, 73, 79, 83, 89, 97]\n",
      "[2, 3, 5, 7, 11, 13, 17, 19, 23, 29, 31, 37, 41, 43, 47, 53, 59, 61, 67, 71, 73, 79, 83, 89, 97]\n",
      "[2, 3, 5, 7, 11, 13, 17, 19, 23, 29, 31, 37, 41, 43, 47, 53, 59, 61, 67, 71, 73, 79, 83, 89, 97]\n",
      "[2, 3, 5, 7, 11, 13, 17, 19, 23, 29, 31, 37, 41, 43, 47, 53, 59, 61, 67, 71, 73, 79, 83, 89, 97]\n",
      "[2, 3, 5, 7, 11, 13, 17, 19, 23, 29, 31, 37, 41, 43, 47, 53, 59, 61, 67, 71, 73, 79, 83, 89, 97]\n",
      "[2, 3, 5, 7, 11, 13, 17, 19, 23, 29, 31, 37, 41, 43, 47, 53, 59, 61, 67, 71, 73, 79, 83, 89, 97]\n",
      "[2, 3, 5, 7, 11, 13, 17, 19, 23, 29, 31, 37, 41, 43, 47, 53, 59, 61, 67, 71, 73, 79, 83, 89, 97]\n",
      "[2, 3, 5, 7, 11, 13, 17, 19, 23, 29, 31, 37, 41, 43, 47, 53, 59, 61, 67, 71, 73, 79, 83, 89, 97]\n",
      "[2, 3, 5, 7, 11, 13, 17, 19, 23, 29, 31, 37, 41, 43, 47, 53, 59, 61, 67, 71, 73, 79, 83, 89, 97]\n",
      "[2, 3, 5, 7, 11, 13, 17, 19, 23, 29, 31, 37, 41, 43, 47, 53, 59, 61, 67, 71, 73, 79, 83, 89, 97]\n",
      "[2, 3, 5, 7, 11, 13, 17, 19, 23, 29, 31, 37, 41, 43, 47, 53, 59, 61, 67, 71, 73, 79, 83, 89, 97]\n",
      "[2, 3, 5, 7, 11, 13, 17, 19, 23, 29, 31, 37, 41, 43, 47, 53, 59, 61, 67, 71, 73, 79, 83, 89, 97]\n",
      "[2, 3, 5, 7, 11, 13, 17, 19, 23, 29, 31, 37, 41, 43, 47, 53, 59, 61, 67, 71, 73, 79, 83, 89, 97]\n",
      "[2, 3, 5, 7, 11, 13, 17, 19, 23, 29, 31, 37, 41, 43, 47, 53, 59, 61, 67, 71, 73, 79, 83, 89, 97]\n",
      "[2, 3, 5, 7, 11, 13, 17, 19, 23, 29, 31, 37, 41, 43, 47, 53, 59, 61, 67, 71, 73, 79, 83, 89, 97]\n",
      "[2, 3, 5, 7, 11, 13, 17, 19, 23, 29, 31, 37, 41, 43, 47, 53, 59, 61, 67, 71, 73, 79, 83, 89, 97]\n",
      "[2, 3, 5, 7, 11, 13, 17, 19, 23, 29, 31, 37, 41, 43, 47, 53, 59, 61, 67, 71, 73, 79, 83, 89, 97]\n",
      "[2, 3, 5, 7, 11, 13, 17, 19, 23, 29, 31, 37, 41, 43, 47, 53, 59, 61, 67, 71, 73, 79, 83, 89, 97]\n",
      "[2, 3, 5, 7, 11, 13, 17, 19, 23, 29, 31, 37, 41, 43, 47, 53, 59, 61, 67, 71, 73, 79, 83, 89, 97]\n",
      "[2, 3, 5, 7, 11, 13, 17, 19, 23, 29, 31, 37, 41, 43, 47, 53, 59, 61, 67, 71, 73, 79, 83, 89, 97]\n",
      "[2, 3, 5, 7, 11, 13, 17, 19, 23, 29, 31, 37, 41, 43, 47, 53, 59, 61, 67, 71, 73, 79, 83, 89, 97]\n",
      "[2, 3, 5, 7, 11, 13, 17, 19, 23, 29, 31, 37, 41, 43, 47, 53, 59, 61, 67, 71, 73, 79, 83, 89, 97]\n",
      "[2, 3, 5, 7, 11, 13, 17, 19, 23, 29, 31, 37, 41, 43, 47, 53, 59, 61, 67, 71, 73, 79, 83, 89, 97]\n",
      "[2, 3, 5, 7, 11, 13, 17, 19, 23, 29, 31, 37, 41, 43, 47, 53, 59, 61, 67, 71, 73, 79, 83, 89, 97]\n",
      "[2, 3, 5, 7, 11, 13, 17, 19, 23, 29, 31, 37, 41, 43, 47, 53, 59, 61, 67, 71, 73, 79, 83, 89, 97]\n",
      "[2, 3, 5, 7, 11, 13, 17, 19, 23, 29, 31, 37, 41, 43, 47, 53, 59, 61, 67, 71, 73, 79, 83, 89, 97]\n",
      "[2, 3, 5, 7, 11, 13, 17, 19, 23, 29, 31, 37, 41, 43, 47, 53, 59, 61, 67, 71, 73, 79, 83, 89, 97]\n",
      "[2, 3, 5, 7, 11, 13, 17, 19, 23, 29, 31, 37, 41, 43, 47, 53, 59, 61, 67, 71, 73, 79, 83, 89, 97]\n",
      "[2, 3, 5, 7, 11, 13, 17, 19, 23, 29, 31, 37, 41, 43, 47, 53, 59, 61, 67, 71, 73, 79, 83, 89, 97]\n",
      "[2, 3, 5, 7, 11, 13, 17, 19, 23, 29, 31, 37, 41, 43, 47, 53, 59, 61, 67, 71, 73, 79, 83, 89, 97]\n",
      "[2, 3, 5, 7, 11, 13, 17, 19, 23, 29, 31, 37, 41, 43, 47, 53, 59, 61, 67, 71, 73, 79, 83, 89, 97]\n",
      "[2, 3, 5, 7, 11, 13, 17, 19, 23, 29, 31, 37, 41, 43, 47, 53, 59, 61, 67, 71, 73, 79, 83, 89, 97]\n",
      "[2, 3, 5, 7, 11, 13, 17, 19, 23, 29, 31, 37, 41, 43, 47, 53, 59, 61, 67, 71, 73, 79, 83, 89, 97]\n",
      "[2, 3, 5, 7, 11, 13, 17, 19, 23, 29, 31, 37, 41, 43, 47, 53, 59, 61, 67, 71, 73, 79, 83, 89, 97]\n",
      "[2, 3, 5, 7, 11, 13, 17, 19, 23, 29, 31, 37, 41, 43, 47, 53, 59, 61, 67, 71, 73, 79, 83, 89, 97]\n",
      "[2, 3, 5, 7, 11, 13, 17, 19, 23, 29, 31, 37, 41, 43, 47, 53, 59, 61, 67, 71, 73, 79, 83, 89, 97]\n",
      "[2, 3, 5, 7, 11, 13, 17, 19, 23, 29, 31, 37, 41, 43, 47, 53, 59, 61, 67, 71, 73, 79, 83, 89, 97]\n",
      "[2, 3, 5, 7, 11, 13, 17, 19, 23, 29, 31, 37, 41, 43, 47, 53, 59, 61, 67, 71, 73, 79, 83, 89, 97]\n",
      "[2, 3, 5, 7, 11, 13, 17, 19, 23, 29, 31, 37, 41, 43, 47, 53, 59, 61, 67, 71, 73, 79, 83, 89, 97]\n",
      "[2, 3, 5, 7, 11, 13, 17, 19, 23, 29, 31, 37, 41, 43, 47, 53, 59, 61, 67, 71, 73, 79, 83, 89, 97]\n",
      "[2, 3, 5, 7, 11, 13, 17, 19, 23, 29, 31, 37, 41, 43, 47, 53, 59, 61, 67, 71, 73, 79, 83, 89, 97]\n",
      "[2, 3, 5, 7, 11, 13, 17, 19, 23, 29, 31, 37, 41, 43, 47, 53, 59, 61, 67, 71, 73, 79, 83, 89, 97]\n",
      "[2, 3, 5, 7, 11, 13, 17, 19, 23, 29, 31, 37, 41, 43, 47, 53, 59, 61, 67, 71, 73, 79, 83, 89, 97]\n",
      "[2, 3, 5, 7, 11, 13, 17, 19, 23, 29, 31, 37, 41, 43, 47, 53, 59, 61, 67, 71, 73, 79, 83, 89, 97]\n"
     ]
    },
    {
     "data": {
      "text/plain": [
       "tensor([ 2,  3,  5,  7, 11, 13, 17, 19, 23, 29, 31, 37, 41, 43, 47, 53, 59, 61,\n",
       "        67, 71, 73, 79, 83, 89, 97])"
      ]
     },
     "execution_count": 35,
     "metadata": {},
     "output_type": "execute_result"
    }
   ],
   "source": [
    "arr = torch.arange(2, 101)\n",
    "for item in arr:\n",
    "    mask = (arr % item != 0) | (arr == item)\n",
    "    arr = arr[mask]\n",
    "    print(arr.tolist())\n",
    "arr"
   ]
  },
  {
   "cell_type": "markdown",
   "metadata": {
    "id": "AHupFoTR1RDN"
   },
   "source": [
    "1.4.3 Найти евклидово расстояние между двумя одномерными тензорами одинаковой размерности, не используя готовые решения из библиотек."
   ]
  },
  {
   "cell_type": "markdown",
   "metadata": {},
   "source": [
    "https://ru.wikipedia.org/wiki/%D0%95%D0%B2%D0%BA%D0%BB%D0%B8%D0%B4%D0%BE%D0%B2%D0%B0_%D0%BC%D0%B5%D1%82%D1%80%D0%B8%D0%BA%D0%B0"
   ]
  },
  {
   "cell_type": "code",
   "execution_count": 36,
   "metadata": {},
   "outputs": [
    {
     "data": {
      "text/plain": [
       "9"
      ]
     },
     "execution_count": 36,
     "metadata": {},
     "output_type": "execute_result"
    }
   ],
   "source": [
    "x = torch.tensor([2, 3, 4, 5, 6, 7, 8, 9, 10])\n",
    "y = torch.tensor([1, 2, 3, 4, 5, 6, 7, 8, 9])\n",
    "\n",
    "\n",
    "res = ((x - y) ** 2).sum().item()\n",
    "res"
   ]
  },
  {
   "cell_type": "markdown",
   "metadata": {
    "id": "j-ZvjWDKDVMQ"
   },
   "source": [
    "1.4.4 Создать двумерный тензор 20 на 3, содержащий случайные целые числа от 0 до 100. \n",
    "Интерпретируя тензор как 20 векторов из 3х компонент, отсортировать его по длине векторов."
   ]
  },
  {
   "cell_type": "code",
   "execution_count": 37,
   "metadata": {},
   "outputs": [
    {
     "name": "stdout",
     "output_type": "stream",
     "text": [
      "tensor([[ 7, 18, 84],\n",
      "        [51, 83, 95],\n",
      "        [58, 32, 67],\n",
      "        [64, 17, 75],\n",
      "        [81, 52, 90],\n",
      "        [11, 43, 43],\n",
      "        [23, 11, 68],\n",
      "        [39, 30, 51],\n",
      "        [86, 79, 90],\n",
      "        [81, 51, 93],\n",
      "        [12, 49, 36],\n",
      "        [55, 99, 40],\n",
      "        [96, 84, 51],\n",
      "        [87, 74, 26],\n",
      "        [77, 62,  2],\n",
      "        [90, 89, 23],\n",
      "        [38, 82, 26],\n",
      "        [25, 80, 23],\n",
      "        [86, 85, 49],\n",
      "        [80, 30, 28]]) \n",
      "\n",
      "mask:\n",
      " tensor([ 5, 10,  7,  6,  0, 17, 19, 16,  2, 14,  3, 13, 11, 15, 18,  4,  9,  1,\n",
      "        12,  8])\n"
     ]
    },
    {
     "data": {
      "text/plain": [
       "tensor([[11, 43, 43],\n",
       "        [12, 49, 36],\n",
       "        [39, 30, 51],\n",
       "        [23, 11, 68],\n",
       "        [ 7, 18, 84],\n",
       "        [25, 80, 23],\n",
       "        [80, 30, 28],\n",
       "        [38, 82, 26],\n",
       "        [58, 32, 67],\n",
       "        [77, 62,  2],\n",
       "        [64, 17, 75],\n",
       "        [87, 74, 26],\n",
       "        [55, 99, 40],\n",
       "        [90, 89, 23],\n",
       "        [86, 85, 49],\n",
       "        [81, 52, 90],\n",
       "        [81, 51, 93],\n",
       "        [51, 83, 95],\n",
       "        [96, 84, 51],\n",
       "        [86, 79, 90]])"
      ]
     },
     "execution_count": 37,
     "metadata": {},
     "output_type": "execute_result"
    }
   ],
   "source": [
    "arr = torch.randint(0, 101, size=[20, 3])\n",
    "print(arr,\"\\n\")\n",
    "\n",
    "mask = (arr ** 2).sum(axis=1).sort().indices\n",
    "print(\"mask:\\n\",mask)\n",
    "res = arr[mask]\n",
    "res"
   ]
  },
  {
   "cell_type": "markdown",
   "metadata": {
    "id": "IkBRFTKa1RDO"
   },
   "source": [
    "1.4.5 Найти \"локальные максимумы\" в одномерном тензоре (т.е. значения, большие предыдущего и последующего) `torch.tensor([1, 3, 7, 1, 2, 6, 0, 1])` и вывести их индексы."
   ]
  },
  {
   "cell_type": "code",
   "execution_count": 38,
   "metadata": {},
   "outputs": [
    {
     "name": "stdout",
     "output_type": "stream",
     "text": [
      "tensor([ 1,  3,  7, 10,  2,  6, 10,  1])\n",
      "tensor([ 2,  4,  3, -8,  4,  4])\n",
      "tensor([-4, -3,  8, -4, -4,  9])\n",
      "tensor([3, 6])\n"
     ]
    }
   ],
   "source": [
    "arr = torch.tensor([1, 3, 7, 10, 2, 6, 10, 1])\n",
    "print(arr)\n",
    "\n",
    "a = torch.diff(arr)[:-1]\n",
    "print(a)\n",
    "b = torch.diff(arr.flip(0)).flip(0)[ 1:]\n",
    "print(b)\n",
    "\n",
    "print(((a > 0) & (b > 0)).nonzero( as_tuple= True)[0] + 1)"
   ]
  },
  {
   "cell_type": "markdown",
   "metadata": {
    "id": "VXD58rlc1RDP"
   },
   "source": [
    "1.4.6 Задан произвольный массив numpy (например массив из 100 случайных числе от 0 до 1). Необходимо найти в нем число наиболее близкое к заданному."
   ]
  },
  {
   "cell_type": "code",
   "execution_count": 39,
   "metadata": {},
   "outputs": [
    {
     "name": "stdout",
     "output_type": "stream",
     "text": [
      "tensor([0.2255, 0.1603, 0.7915, 0.5928, 0.0414, 0.7565, 0.0875, 0.7164, 0.0814,\n",
      "        0.2816, 0.6549, 0.5962, 0.7564, 0.8881, 0.1797, 0.5175, 0.3498, 0.1192,\n",
      "        0.3144, 0.3086, 0.2706, 0.5013, 0.7424, 0.7077, 0.4280, 0.9948, 0.4407,\n",
      "        0.1564, 0.8964, 0.8535, 0.8111, 0.2261, 0.6355, 0.6957, 0.9288, 0.5998,\n",
      "        0.1488, 0.0234, 0.6755, 0.6367, 0.7315, 0.1843, 0.5473, 0.6930, 0.4096,\n",
      "        0.4193, 0.7616, 0.4131, 0.0039, 0.4091, 0.2149, 0.5839, 0.9026, 0.6057,\n",
      "        0.0267, 0.4482, 0.6391, 0.7088, 0.9271, 0.3747, 0.0372, 0.5614, 0.2858,\n",
      "        0.3333, 0.3912, 0.6836, 0.4809, 0.0329, 0.4271, 0.4587, 0.0542, 0.0534,\n",
      "        0.9505, 0.5341, 0.1685, 0.4271, 0.2395, 0.9567, 0.5413, 0.3103, 0.6434,\n",
      "        0.7407, 0.9751, 0.7145, 0.8768, 0.5365, 0.7553, 0.1604, 0.9883, 0.8057,\n",
      "        0.1733, 0.1235, 0.5081, 0.9981, 0.6826, 0.5079, 0.0475, 0.5081, 0.0991,\n",
      "        0.1468])\n",
      "0.52\n",
      "tensor(0.5175)\n"
     ]
    }
   ],
   "source": [
    "arr =  torch.rand(100)\n",
    "print(arr)\n",
    "a = 0.52\n",
    "print(a)\n",
    "index = (np.abs(arr-a)).argmin()\n",
    "print(arr[index])"
   ]
  },
  {
   "cell_type": "markdown",
   "metadata": {
    "id": "81F_B2ij1RDP"
   },
   "source": [
    "1.4.7 Решить матричное уравнение `A*X*B=-C` - найти матрицу X. Где `A = [[-1, 2, 4], [-3, 1, 2], [-3, 0, 1]]`, `B=[[3, -1], [2, 1]]`, `C=[[7, 21], [11, 8], [8, 4]]`."
   ]
  },
  {
   "cell_type": "code",
   "execution_count": 40,
   "metadata": {},
   "outputs": [
    {
     "name": "stdout",
     "output_type": "stream",
     "text": [
      "tensor([[-1., -0.],\n",
      "        [ 2., -1.],\n",
      "        [-3.,  4.]])\n"
     ]
    }
   ],
   "source": [
    "A = torch.tensor([[-1., 2, 4], [-3, 1, 2], [-3, 0, 1]])\n",
    "B = torch.tensor([[3., -1], [2, 1]])\n",
    "C = torch.tensor([[7., 21], [11, 8], [8, 4]])\n",
    "#Тут по свойству матриц работаем https://thecode.media/obratnaya-matritsa/\n",
    "print((torch.inverse(A) @ C @ torch.inverse(B)).round())"
   ]
  },
  {
   "cell_type": "markdown",
   "metadata": {
    "id": "1P7O19bj1RDP"
   },
   "source": [
    "1.4.8 Проверить, является ли система векторов a1 = (3; −3; 0; 7),\n",
    "a2 = (2; 2; 4; 7), a3 = (1; 2; 3; 4), a4 = (5; −4; 1; 3) линейно зависимой?"
   ]
  },
  {
   "cell_type": "markdown",
   "metadata": {},
   "source": [
    "Система векторов является линейно зависимой тогда и только тогда, когда в ней найдется вектор, который линейно выражается через остальные векторы этой системы"
   ]
  },
  {
   "cell_type": "code",
   "execution_count": 41,
   "metadata": {},
   "outputs": [
    {
     "data": {
      "text/plain": [
       "'Вектора линейно зависимы'"
      ]
     },
     "execution_count": 41,
     "metadata": {},
     "output_type": "execute_result"
    }
   ],
   "source": [
    "res_dict = {0: \"Вектора линейно зависимы\", 1: \"Вектора линейно независимы\"}\n",
    "a1 = [3., -3, 0, 7]\n",
    "a2 = [2, 2, 4, 7]\n",
    "a3 = [1, 2, 3, 4]\n",
    "a4 = [5, -4, 1, 3]\n",
    "\n",
    "res = torch.tensor([a1, a2, a3, a4])\n",
    "res_dict[int(res.det().round().tolist())]"
   ]
  },
  {
   "cell_type": "markdown",
   "metadata": {},
   "source": [
    "https://lms2.sseu.ru/courses/eresmat/course1/razd8z1/par8_5z1.htm<br>\n",
    "https://ru.onlinemschool.com/math/library/vector/linear-independence/"
   ]
  },
  {
   "cell_type": "code",
   "execution_count": 42,
   "metadata": {},
   "outputs": [
    {
     "data": {
      "text/plain": [
       "'Вектора линейно зависимы'"
      ]
     },
     "execution_count": 42,
     "metadata": {},
     "output_type": "execute_result"
    }
   ],
   "source": [
    "a1 = [1.,1.,1.]\n",
    "a2 = [1.,2.,0.]\n",
    "a3 = [0.,-1.,1.]\n",
    "\n",
    "res = torch.tensor([a1, a2, a3])\n",
    "res_dict[int(res.det().round().tolist())]"
   ]
  },
  {
   "cell_type": "code",
   "execution_count": 43,
   "metadata": {},
   "outputs": [
    {
     "data": {
      "text/plain": [
       "'Вектора линейно независимы'"
      ]
     },
     "execution_count": 43,
     "metadata": {},
     "output_type": "execute_result"
    }
   ],
   "source": [
    "a1 = [1.,1.,1.]\n",
    "a2 = [1.,2.,0.]\n",
    "a3 = [0.,-1.,2.]\n",
    "\n",
    "res = torch.tensor([a1, a2, a3])\n",
    "res_dict[int(res.det().round().tolist())]"
   ]
  },
  {
   "cell_type": "code",
   "execution_count": null,
   "metadata": {},
   "outputs": [],
   "source": []
  }
 ],
 "metadata": {
  "colab": {
   "name": "01_tensor_v1_blank.ipynb",
   "provenance": [],
   "toc_visible": true
  },
  "kernelspec": {
   "display_name": "Python 3 (ipykernel)",
   "language": "python",
   "name": "python3"
  },
  "language_info": {
   "codemirror_mode": {
    "name": "ipython",
    "version": 3
   },
   "file_extension": ".py",
   "mimetype": "text/x-python",
   "name": "python",
   "nbconvert_exporter": "python",
   "pygments_lexer": "ipython3",
   "version": "3.8.13"
  }
 },
 "nbformat": 4,
 "nbformat_minor": 1
}

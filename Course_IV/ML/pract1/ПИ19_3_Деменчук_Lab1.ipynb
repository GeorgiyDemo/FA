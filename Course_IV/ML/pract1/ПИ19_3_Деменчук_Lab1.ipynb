{
 "cells": [
  {
   "cell_type": "markdown",
   "metadata": {
    "id": "_gE94V3G1RCx"
   },
   "source": [
    "ПИ19-3 Деменчук Георгий<br>**Лабораторная работа №1**"
   ]
  },
  {
   "cell_type": "markdown",
   "metadata": {},
   "source": [
    "# 01. Знакомство с `torch.Tensor`"
   ]
  },
  {
   "cell_type": "markdown",
   "metadata": {
    "id": "TlWOXn0f1RC7"
   },
   "source": [
    "---"
   ]
  },
  {
   "cell_type": "markdown",
   "metadata": {
    "id": "lZfJ1FRM1RC8"
   },
   "source": [
    "При решении данных задач не подразумевается использования циклов или генераторов Python, если в задании не сказано обратного. Решение должно опираться на использование функционала библиотеки `torch`.\n",
    "\n",
    "[PyTorch documentation](https://pytorch.org/docs/stable/#pytorch-documentation)"
   ]
  },
  {
   "cell_type": "code",
   "execution_count": 1,
   "metadata": {
    "id": "b3AW8rF-1RC9"
   },
   "outputs": [],
   "source": [
    "import torch"
   ]
  },
  {
   "cell_type": "markdown",
   "metadata": {
    "id": "vow49PuE1RC9"
   },
   "source": [
    "## 1.1 Создание тензоров и выполнение базовых операций над ними\n",
    "\n",
    "[Документация по функциям для создания тензоров](https://pytorch.org/docs/stable/torch.html#creation-ops)\n",
    "\n",
    "[Документация по функциям для работы с индексами](https://pytorch.org/docs/stable/torch.html#indexing-slicing-joining-mutating-ops)"
   ]
  },
  {
   "cell_type": "markdown",
   "metadata": {
    "id": "wBIwO1SB1RC-"
   },
   "source": [
    "1.1.1 Создайте двумерный тензор размера (8, 8). Используя как можно меньше операций, добейтесь расстановки кодов \"шахматных фигур\".\n",
    "\n",
    "Ожидаемый результат:\n",
    "\n",
    "```\n",
    "[[-4., -3., -2., -6., -5., -2., -3., -4.],\n",
    " [-1., -1., -1., -1., -1., -1., -1., -1.],\n",
    " [0., 0., 0., 0., 0., 0., 0., 0.],\n",
    " [0., 0., 0., 0., 0., 0., 0., 0.],\n",
    " [0., 0., 0., 0., 0., 0., 0., 0.],\n",
    " [0., 0., 0., 0., 0., 0., 0., 0.],\n",
    " [1., 1., 1., 1., 1., 1., 1., 1.],\n",
    " [4., 3., 2., 6., 5., 2., 3., 4.]]\n",
    "\n",
    "```"
   ]
  },
  {
   "cell_type": "code",
   "execution_count": 2,
   "metadata": {},
   "outputs": [
    {
     "data": {
      "text/plain": [
       "tensor([[-4., -3., -2., -6., -5., -2., -3., -4.],\n",
       "        [-1., -1., -1., -1., -1., -1., -1., -1.],\n",
       "        [ 0.,  0.,  0.,  0.,  0.,  0.,  0.,  0.],\n",
       "        [ 0.,  0.,  0.,  0.,  0.,  0.,  0.,  0.],\n",
       "        [ 0.,  0.,  0.,  0.,  0.,  0.,  0.,  0.],\n",
       "        [ 0.,  0.,  0.,  0.,  0.,  0.,  0.,  0.],\n",
       "        [ 1.,  1.,  1.,  1.,  1.,  1.,  1.,  1.],\n",
       "        [ 4.,  3.,  2.,  6.,  5.,  2.,  3.,  4.]])"
      ]
     },
     "execution_count": 2,
     "metadata": {},
     "output_type": "execute_result"
    }
   ],
   "source": [
    "a = torch.zeros(8, 8)\n",
    "a[0] = torch.tensor([-4., -3., -2., -6., -5., -2., -3., -4.])\n",
    "#Срезы-наше все\n",
    "a[1, :] = -1\n",
    "a[6, :] = -a[1]\n",
    "a[7, :] = -a[0]\n",
    "a"
   ]
  },
  {
   "cell_type": "code",
   "execution_count": 3,
   "metadata": {},
   "outputs": [
    {
     "data": {
      "text/plain": [
       "torch.Size([8])"
      ]
     },
     "execution_count": 3,
     "metadata": {},
     "output_type": "execute_result"
    }
   ],
   "source": [
    "chess = torch.tensor([4., 3., 2., 6., 5., 2., 3., 4.])\n",
    "chess.shape"
   ]
  },
  {
   "cell_type": "code",
   "execution_count": 4,
   "metadata": {},
   "outputs": [
    {
     "data": {
      "text/plain": [
       "tensor([[4., 3., 2., 6., 5., 2., 3., 4.]])"
      ]
     },
     "execution_count": 4,
     "metadata": {},
     "output_type": "execute_result"
    }
   ],
   "source": [
    "chess.unsqueeze(0) # добавили нулевое (параметр функции) измерение размерности 1"
   ]
  },
  {
   "cell_type": "code",
   "execution_count": 5,
   "metadata": {},
   "outputs": [
    {
     "data": {
      "text/plain": [
       "torch.Size([1, 8])"
      ]
     },
     "execution_count": 5,
     "metadata": {},
     "output_type": "execute_result"
    }
   ],
   "source": [
    "chess.unsqueeze(0).shape"
   ]
  },
  {
   "cell_type": "code",
   "execution_count": 6,
   "metadata": {},
   "outputs": [
    {
     "data": {
      "text/plain": [
       "tensor([[-4., -3., -2., -6., -5., -2., -3., -4.],\n",
       "        [-1., -1., -1., -1., -1., -1., -1., -1.],\n",
       "        [ 0.,  0.,  0.,  0.,  0.,  0.,  0.,  0.],\n",
       "        [ 0.,  0.,  0.,  0.,  0.,  0.,  0.,  0.],\n",
       "        [ 0.,  0.,  0.,  0.,  0.,  0.,  0.,  0.],\n",
       "        [ 0.,  0.,  0.,  0.,  0.,  0.,  0.,  0.],\n",
       "        [ 1.,  1.,  1.,  1.,  1.,  1.,  1.,  1.],\n",
       "        [ 4.,  3.,  2.,  6.,  5.,  2.,  3.,  4.]])"
      ]
     },
     "execution_count": 6,
     "metadata": {},
     "output_type": "execute_result"
    }
   ],
   "source": [
    "torch.cat((-1*chess.unsqueeze(0),\n",
    "           -torch.ones(8).unsqueeze(0),\n",
    "           torch.zeros(4, 8),\n",
    "           torch.ones(8).unsqueeze(0),\n",
    "           chess.unsqueeze(0)),\n",
    "          dim=0)"
   ]
  },
  {
   "cell_type": "markdown",
   "metadata": {
    "id": "20x5RE1V1RC_"
   },
   "source": [
    "1.1.2 Средствами `torch` рассчитать произведения четных чисел от 2 до 20 на ближайшие к ним бОльшие нечетные числа."
   ]
  },
  {
   "cell_type": "code",
   "execution_count": 7,
   "metadata": {},
   "outputs": [],
   "source": [
    "import numpy as np"
   ]
  },
  {
   "cell_type": "code",
   "execution_count": 8,
   "metadata": {},
   "outputs": [
    {
     "name": "stdout",
     "output_type": "stream",
     "text": [
      "tensor([ 2,  4,  6,  8, 10, 12, 14, 16, 18, 20])\n"
     ]
    },
    {
     "data": {
      "text/plain": [
       "tensor([  6,  20,  42,  72, 110, 156, 210, 272, 342, 420])"
      ]
     },
     "execution_count": 8,
     "metadata": {},
     "output_type": "execute_result"
    }
   ],
   "source": [
    "a = torch.arange(2, 21, 2)\n",
    "print(a)\n",
    "res1 = a * (a + 1)\n",
    "res1"
   ]
  },
  {
   "cell_type": "markdown",
   "metadata": {},
   "source": [
    "Т.к. я ему не верю"
   ]
  },
  {
   "cell_type": "code",
   "execution_count": 9,
   "metadata": {},
   "outputs": [
    {
     "name": "stdout",
     "output_type": "stream",
     "text": [
      "[ 2  4  6  8 10 12 14 16 18 20]\n"
     ]
    },
    {
     "data": {
      "text/plain": [
       "array([  6,  20,  42,  72, 110, 156, 210, 272, 342, 420])"
      ]
     },
     "execution_count": 9,
     "metadata": {},
     "output_type": "execute_result"
    }
   ],
   "source": [
    "a = np.arange(2,21,2)\n",
    "print(a)\n",
    "res2 = a * (a + 1)\n",
    "res2"
   ]
  },
  {
   "cell_type": "code",
   "execution_count": 10,
   "metadata": {},
   "outputs": [],
   "source": [
    "assert res1.tolist() == res2.tolist()"
   ]
  },
  {
   "cell_type": "markdown",
   "metadata": {
    "id": "N_-t5GRM1RC_"
   },
   "source": [
    "1.1.3 Создать тензор размера 11x7 вида: [[1, 2, 3, ..., 7], [11, 12, 13, ..., 17], [21, 22, 23, ..., 27], ..., [101, 102, 103, ..., 107]]"
   ]
  },
  {
   "cell_type": "code",
   "execution_count": 11,
   "metadata": {},
   "outputs": [
    {
     "name": "stdout",
     "output_type": "stream",
     "text": [
      "[1 2 3 4 5 6 7]\n",
      "[[  0]\n",
      " [ 10]\n",
      " [ 20]\n",
      " [ 30]\n",
      " [ 40]\n",
      " [ 50]\n",
      " [ 60]\n",
      " [ 70]\n",
      " [ 80]\n",
      " [ 90]\n",
      " [100]]\n"
     ]
    },
    {
     "data": {
      "text/plain": [
       "array([[  1,   2,   3,   4,   5,   6,   7],\n",
       "       [ 11,  12,  13,  14,  15,  16,  17],\n",
       "       [ 21,  22,  23,  24,  25,  26,  27],\n",
       "       [ 31,  32,  33,  34,  35,  36,  37],\n",
       "       [ 41,  42,  43,  44,  45,  46,  47],\n",
       "       [ 51,  52,  53,  54,  55,  56,  57],\n",
       "       [ 61,  62,  63,  64,  65,  66,  67],\n",
       "       [ 71,  72,  73,  74,  75,  76,  77],\n",
       "       [ 81,  82,  83,  84,  85,  86,  87],\n",
       "       [ 91,  92,  93,  94,  95,  96,  97],\n",
       "       [101, 102, 103, 104, 105, 106, 107]])"
      ]
     },
     "execution_count": 11,
     "metadata": {},
     "output_type": "execute_result"
    }
   ],
   "source": [
    "a = np.arange(1,8)\n",
    "print(a)\n",
    "b = np.arange(0,101,10).reshape(11,1)\n",
    "print(b)\n",
    "res1 = a + b\n",
    "res1"
   ]
  },
  {
   "cell_type": "code",
   "execution_count": 12,
   "metadata": {},
   "outputs": [
    {
     "data": {
      "text/plain": [
       "tensor([[  1,   2,   3,   4,   5,   6,   7],\n",
       "        [ 11,  12,  13,  14,  15,  16,  17],\n",
       "        [ 21,  22,  23,  24,  25,  26,  27],\n",
       "        [ 31,  32,  33,  34,  35,  36,  37],\n",
       "        [ 41,  42,  43,  44,  45,  46,  47],\n",
       "        [ 51,  52,  53,  54,  55,  56,  57],\n",
       "        [ 61,  62,  63,  64,  65,  66,  67],\n",
       "        [ 71,  72,  73,  74,  75,  76,  77],\n",
       "        [ 81,  82,  83,  84,  85,  86,  87],\n",
       "        [ 91,  92,  93,  94,  95,  96,  97],\n",
       "        [101, 102, 103, 104, 105, 106, 107]])"
      ]
     },
     "execution_count": 12,
     "metadata": {},
     "output_type": "execute_result"
    }
   ],
   "source": [
    "a = torch.arange(1,8)\n",
    "b = torch.arange(0, 101, 10).reshape(11,1)\n",
    "res2 = a + b\n",
    "res2"
   ]
  },
  {
   "cell_type": "code",
   "execution_count": 13,
   "metadata": {},
   "outputs": [],
   "source": [
    "assert res1.tolist() == res2.tolist()"
   ]
  },
  {
   "cell_type": "markdown",
   "metadata": {
    "id": "oxVeUiHR1RC_"
   },
   "source": [
    "1.1.4 Написать функцию, которая для целых значений `n` и `m` будет возвращать тензор размера `n`x`m`, заполненный текстурой размера 2x2, состоящей из следующих значений:\n",
    "\n",
    "```\n",
    "0 1\n",
    "\n",
    "2 3\n",
    "\n",
    "```\n",
    "\n",
    "Пример для n = 4 и m = 5:\n",
    "\n",
    "```\n",
    "0 1 0 1 0\n",
    "\n",
    "2 3 2 3 2\n",
    "\n",
    "0 1 0 1 0\n",
    "\n",
    "2 3 2 3 2\n",
    "```"
   ]
  },
  {
   "cell_type": "code",
   "execution_count": 14,
   "metadata": {},
   "outputs": [
    {
     "data": {
      "text/plain": [
       "tensor([[0., 1., 0., 1., 0.],\n",
       "        [2., 3., 2., 3., 2.],\n",
       "        [0., 1., 0., 1., 0.],\n",
       "        [2., 3., 2., 3., 2.]])"
      ]
     },
     "execution_count": 14,
     "metadata": {},
     "output_type": "execute_result"
    }
   ],
   "source": [
    "N = 4\n",
    "M = 5\n",
    "\n",
    "res = torch.zeros((N,M))\n",
    "res[torch.arange(1, M, 2)] += 2\n",
    "res[:, torch.arange(1, N, 2)] += 1\n",
    "res"
   ]
  },
  {
   "cell_type": "markdown",
   "metadata": {
    "id": "WH9hxJse1RDA"
   },
   "source": [
    "1.1.5 Сгенерировать двумерный тензор `t` размерности (4, 7), состоящий из случайных действительных чисел, равномерно распределенных в дипазоне от 0 до 20. Нормализовать значения массива с помощью преобразования вида $ax+b$ так, что после нормализации максимальный элемент масива будет равен 1.0, минимальный 0.0"
   ]
  },
  {
   "cell_type": "code",
   "execution_count": 15,
   "metadata": {},
   "outputs": [
    {
     "data": {
      "text/plain": [
       "tensor([[0.6467, 0.5555, 0.9685, 0.0453, 0.4740, 0.7085, 0.0147],\n",
       "        [0.5027, 0.0791, 0.1517, 0.7461, 0.4819, 0.6685, 0.5156],\n",
       "        [1.0000, 0.2477, 0.9587, 0.7973, 0.9974, 0.9224, 0.3440],\n",
       "        [0.6092, 0.3234, 0.0847, 0.9491, 0.0000, 0.0867, 0.4747]])"
      ]
     },
     "execution_count": 15,
     "metadata": {},
     "output_type": "execute_result"
    }
   ],
   "source": [
    "#Рандомные значения\n",
    "buf = torch.rand((4, 7)) * 20\n",
    "#Max-min нормализация\n",
    "res = 1/(buf.max()-buf.min())*buf-buf.min()/(buf.max()-buf.min())\n",
    "res"
   ]
  },
  {
   "cell_type": "markdown",
   "metadata": {
    "id": "vPqIeewXB-mM"
   },
   "source": [
    "[Random Sampling](https://pytorch.org/docs/stable/torch.html#random-sampling)\n",
    "\n",
    "[Distributions](https://pytorch.org/docs/stable/distributions.html)"
   ]
  },
  {
   "cell_type": "markdown",
   "metadata": {
    "id": "K_R6cwq11RDE"
   },
   "source": [
    "1.1.6 Задать два двумерных тензора `ar1` и `ar2` размерности (4, 7), состоящих из случайных целых чисел в пределах от 0 до 10. Построить двумерный тензор размерности (4, 7), каждый элемент которого представляет собой максимум из двух значений, находящихся на аналогичной позиции в массивах `ar1`, `ar2`.\n",
    "\n",
    "[Reductions ops](https://pytorch.org/docs/stable/torch.html#reduction-ops)"
   ]
  },
  {
   "cell_type": "code",
   "execution_count": 16,
   "metadata": {},
   "outputs": [
    {
     "name": "stdout",
     "output_type": "stream",
     "text": [
      "tensor([[ 2,  9, 10,  5,  3,  0,  6],\n",
      "        [ 7,  0,  3,  7,  8,  8, 10],\n",
      "        [ 1,  3,  3,  8,  3,  4,  4],\n",
      "        [ 2,  6,  9,  5,  7,  4,  8]])\n",
      "tensor([[ 8,  0,  0, 10,  0,  8,  3],\n",
      "        [ 4,  1,  6,  5, 10, 10,  3],\n",
      "        [ 0,  1,  8,  7,  4,  7,  2],\n",
      "        [ 1,  4,  6,  5,  9,  6,  3]])\n"
     ]
    },
    {
     "data": {
      "text/plain": [
       "tensor([[ 8,  9, 10, 10,  3,  8,  6],\n",
       "        [ 7,  1,  6,  7, 10, 10, 10],\n",
       "        [ 1,  3,  8,  8,  4,  7,  4],\n",
       "        [ 2,  6,  9,  5,  9,  6,  8]])"
      ]
     },
     "execution_count": 16,
     "metadata": {},
     "output_type": "execute_result"
    }
   ],
   "source": [
    "#Тензор раз\n",
    "ar1 = torch.randint(0, 11, size=[4, 7])\n",
    "print(ar1)\n",
    "#Тензор 2\n",
    "ar2 = torch.randint(0, 11, size=[4, 7])\n",
    "print(ar2)\n",
    "\n",
    "res = torch.cat((ar1, ar2)).reshape((2, 4, 7)).max(axis=0).values\n",
    "res"
   ]
  },
  {
   "cell_type": "markdown",
   "metadata": {
    "id": "x6zmMhyKBPWQ"
   },
   "source": [
    "1.1.7 Создать тензор из 20 случайных целых чисел от 0 до 100. Получить второе сверху значение в тензоре. Определить индекс этого значения."
   ]
  },
  {
   "cell_type": "code",
   "execution_count": 17,
   "metadata": {},
   "outputs": [
    {
     "name": "stdout",
     "output_type": "stream",
     "text": [
      "tensor([ 9, 66, 10, 89, 22, 62, 20, 58, 11, 89, 10, 76, 81, 48, 94, 56, 84, 65,\n",
      "        26, 96])\n",
      "tensor([ 9, 10, 10, 11, 20, 22, 26, 48, 56, 58, 62, 65, 66, 76, 81, 84, 89, 89,\n",
      "        94, 96])\n",
      "tensor(94)\n"
     ]
    },
    {
     "data": {
      "text/plain": [
       "tensor(14)"
      ]
     },
     "execution_count": 17,
     "metadata": {},
     "output_type": "execute_result"
    }
   ],
   "source": [
    "arr = torch.randint(0, 101, size=[20])\n",
    "print(arr)\n",
    "print(arr.sort().values)\n",
    "print(arr.sort().values[-2])\n",
    "result = arr.sort().indices[-2]\n",
    "result"
   ]
  },
  {
   "cell_type": "markdown",
   "metadata": {
    "id": "Xshsy8fD1RDE"
   },
   "source": [
    "## 1.2 Распространение"
   ]
  },
  {
   "cell_type": "markdown",
   "metadata": {
    "id": "jlP22HAJCo28"
   },
   "source": [
    "[Numpy broadcasting](https://numpy.org/devdocs/user/theory.broadcasting.html)\n",
    "\n",
    "[Torch broadcasting](https://pytorch.org/docs/stable/notes/broadcasting.html)"
   ]
  },
  {
   "cell_type": "markdown",
   "metadata": {
    "id": "uRD6-8Gd1RDF"
   },
   "source": [
    "1.2.1 Создать тензор 11x7 вида: `[[1, 2, 3, ..., 7], [11, 12, 13, ..., 17], [21, 22, 23, ..., 27], ..., [101, 102, 103, ..., 107]]`. При решении задачи применить технику распространения."
   ]
  },
  {
   "cell_type": "code",
   "execution_count": 18,
   "metadata": {},
   "outputs": [
    {
     "name": "stdout",
     "output_type": "stream",
     "text": [
      "tensor([1, 2, 3, 4, 5, 6, 7])\n",
      "tensor([[  0],\n",
      "        [ 10],\n",
      "        [ 20],\n",
      "        [ 30],\n",
      "        [ 40],\n",
      "        [ 50],\n",
      "        [ 60],\n",
      "        [ 70],\n",
      "        [ 80],\n",
      "        [ 90],\n",
      "        [100]])\n"
     ]
    },
    {
     "data": {
      "text/plain": [
       "tensor([[  1,   2,   3,   4,   5,   6,   7],\n",
       "        [ 11,  12,  13,  14,  15,  16,  17],\n",
       "        [ 21,  22,  23,  24,  25,  26,  27],\n",
       "        [ 31,  32,  33,  34,  35,  36,  37],\n",
       "        [ 41,  42,  43,  44,  45,  46,  47],\n",
       "        [ 51,  52,  53,  54,  55,  56,  57],\n",
       "        [ 61,  62,  63,  64,  65,  66,  67],\n",
       "        [ 71,  72,  73,  74,  75,  76,  77],\n",
       "        [ 81,  82,  83,  84,  85,  86,  87],\n",
       "        [ 91,  92,  93,  94,  95,  96,  97],\n",
       "        [101, 102, 103, 104, 105, 106, 107]])"
      ]
     },
     "execution_count": 18,
     "metadata": {},
     "output_type": "execute_result"
    }
   ],
   "source": [
    "first_items = torch.arange(1, 8, step=1)\n",
    "print(first_items)\n",
    "second_items = torch.arange(0, 101, step=10).reshape(-1, 1) #Преобразуем в столбец из строки\n",
    "print(second_items)\n",
    "first_items + second_items"
   ]
  },
  {
   "cell_type": "markdown",
   "metadata": {},
   "source": [
    "### Как оно работает"
   ]
  },
  {
   "cell_type": "markdown",
   "metadata": {},
   "source": [
    "Когда складываем first_items + units, то first_items преобращуется в след вид за счет бродкастинга:\n",
    "```\n",
    "tensor([[1, 2, 3, 4, 5, 6, 7],\n",
    "        [1, 2, 3, 4, 5, 6, 7],\n",
    "        [1, 2, 3, 4, 5, 6, 7],\n",
    "        [1, 2, 3, 4, 5, 6, 7],\n",
    "        [1, 2, 3, 4, 5, 6, 7],\n",
    "        [1, 2, 3, 4, 5, 6, 7],\n",
    "        [1, 2, 3, 4, 5, 6, 7],\n",
    "        [1, 2, 3, 4, 5, 6, 7],\n",
    "        [1, 2, 3, 4, 5, 6, 7],\n",
    "        [1, 2, 3, 4, 5, 6, 7],\n",
    "        [1, 2, 3, 4, 5, 6, 7],])\n",
    "```"
   ]
  },
  {
   "cell_type": "markdown",
   "metadata": {},
   "source": [
    "А second_items в\n",
    "```\n",
    "tensor([[0, 0, 0, 0, 0, 0, 0],\n",
    "        [10, 10, 10, 10, 10, 10, 10],\n",
    "        [20, 20, 20, 20, 20, 20, 20],\n",
    "        [30, 30, 30, 30, 30, 30, 30],\n",
    "        [40, 40, 40, 40, 40, 40, 40],\n",
    "        [50, 50, 50, 50, 50, 50, 50],\n",
    "        [60, 60, 60, 60, 60, 60, 60],\n",
    "        [70, 70, 70, 70, 70, 70, 70],\n",
    "        [80, 80, 80, 80, 80, 80, 80],\n",
    "        [90, 90, 90, 90, 90, 90, 90],\n",
    "        [100, 100, 100, 100, 100, 100, 100],])\n",
    "```"
   ]
  },
  {
   "cell_type": "markdown",
   "metadata": {},
   "source": [
    "И далее происходит суммирование соответствующих элементов"
   ]
  },
  {
   "cell_type": "markdown",
   "metadata": {},
   "source": [
    "Т.е. внутри оба элемента приводятся к единой размерности и вычисляются"
   ]
  },
  {
   "cell_type": "markdown",
   "metadata": {
    "id": "iSY9Iday1RDF"
   },
   "source": [
    "1.2.2 Вычесть одномерный тензор `b_1d` из двухмерного тензора `a_2d`, так, чтобы каждый элемент одномерного тензора вычитался из всех элементов соответствующих строк двумерного тензора.\n",
    "\n",
    "_Пример:_\n",
    "\n",
    "Для входа:\n",
    "```python\n",
    "a_2d = np.array([[3,3,3],[4,4,4],[5,5,5]])\n",
    "b_1d = np.array([1,2,3])\n",
    "```\n",
    "\n",
    "Ожидается резульат:\n",
    "\n",
    "```python\n",
    "[[2 2 2]\n",
    " [2 2 2]\n",
    " [2 2 2]]\n",
    "```"
   ]
  },
  {
   "cell_type": "code",
   "execution_count": 19,
   "metadata": {},
   "outputs": [
    {
     "name": "stdout",
     "output_type": "stream",
     "text": [
      "tensor([1, 2, 3])\n",
      "tensor([[3, 3, 3],\n",
      "        [4, 4, 4],\n",
      "        [5, 5, 5]])\n"
     ]
    },
    {
     "data": {
      "text/plain": [
       "tensor([[2, 2, 2],\n",
       "        [2, 2, 2],\n",
       "        [2, 2, 2]])"
      ]
     },
     "execution_count": 19,
     "metadata": {},
     "output_type": "execute_result"
    }
   ],
   "source": [
    "b_1d = torch.tensor([1,2,3])\n",
    "print(b_1d)\n",
    "a_2d = torch.tensor([[3,3,3],[4,4,4],[5,5,5]])\n",
    "print(a_2d)\n",
    "res = a_2d - b_1d.reshape(b_1d.size()[0], 1)\n",
    "res"
   ]
  },
  {
   "cell_type": "markdown",
   "metadata": {
    "id": "dFTvPsY91RDF"
   },
   "source": [
    "## 1.3 Индексы, маскирование и прихотливое индексирование\n",
    "\n",
    "[Документация по функциям для работы с индексами](https://pytorch.org/docs/stable/torch.html#indexing-slicing-joining-mutating-ops)"
   ]
  },
  {
   "cell_type": "markdown",
   "metadata": {
    "id": "McYtDYhH1RDG"
   },
   "source": [
    "1.3.1 Получить индексы, для которых элементы тензоров `a` и `b` совпадают.\n",
    "\n",
    "_Пример:_\n",
    "\n",
    "Для входа:\n",
    "```python\n",
    "a = np.array([1,2,3,2,3,4,3,4,5,6])\n",
    "b = np.array([7,2,10,2,7,4,9,4,9,8])\n",
    "```\n",
    "\n",
    "Ожидается резульат:\n",
    "\n",
    "```python\n",
    "array([1, 3, 5, 7])\n",
    "```"
   ]
  },
  {
   "cell_type": "code",
   "execution_count": 20,
   "metadata": {},
   "outputs": [
    {
     "data": {
      "text/plain": [
       "array([1, 3, 5, 7])"
      ]
     },
     "execution_count": 20,
     "metadata": {},
     "output_type": "execute_result"
    }
   ],
   "source": [
    "a = torch.tensor([1,2,3,2,3,4,3,4,5,6])\n",
    "b = torch.tensor([7,2,10,2,7,4,9,4,9,8])\n",
    "\n",
    "res = (a == b).nonzero(as_tuple=True)\n",
    "res[0].numpy()"
   ]
  },
  {
   "cell_type": "markdown",
   "metadata": {
    "id": "MnBq3nfy1RDG"
   },
   "source": [
    "1.3.2 Инвертировать порядок элементов в двумерном тензоре `torch.arange(9).view(3,3)`.\n",
    "\n",
    "Ожидаемый результат:\n",
    "\n",
    "\n",
    "```python\n",
    "array([[8, 7, 6],\n",
    "       [5, 4, 3],\n",
    "       [2, 1, 0]])\n",
    "```"
   ]
  },
  {
   "cell_type": "code",
   "execution_count": 21,
   "metadata": {},
   "outputs": [
    {
     "data": {
      "text/plain": [
       "array([[8, 7, 6],\n",
       "       [5, 4, 3],\n",
       "       [2, 1, 0]])"
      ]
     },
     "execution_count": 21,
     "metadata": {},
     "output_type": "execute_result"
    }
   ],
   "source": [
    "arr = torch.arange(9).view(3,3)\n",
    "arr = arr.flip(1).flip(0).numpy()\n",
    "arr"
   ]
  },
  {
   "cell_type": "markdown",
   "metadata": {
    "id": "tANsLnOC1RDH"
   },
   "source": [
    "1.3.3 Из входного тензора a получить только элементы, находящиеся в диапазоне от 5 до 10.\n",
    "\n",
    "_Пример:_\n",
    "\n",
    "Для входа:\n",
    "```python\n",
    "a = np.array([2, 6, 1, 9, 10, 3, 27])\n",
    "```\n",
    "\n",
    "Ожидается резульат:\n",
    "\n",
    "```python\n",
    "array([6, 9, 10])\n",
    "```"
   ]
  },
  {
   "cell_type": "code",
   "execution_count": 22,
   "metadata": {},
   "outputs": [
    {
     "data": {
      "text/plain": [
       "array([ 6,  9, 10])"
      ]
     },
     "execution_count": 22,
     "metadata": {},
     "output_type": "execute_result"
    }
   ],
   "source": [
    "a = torch.tensor([2, 6, 1, 9, 10, 3, 27])\n",
    "mask = (a >= 5) & (a <= 10)\n",
    "res = a[mask].numpy()\n",
    "res"
   ]
  },
  {
   "cell_type": "markdown",
   "metadata": {
    "id": "3vlK0gV21RDH"
   },
   "source": [
    "1.3.4 Поменять местами столбец 1 и 2 тензора `np.arange(9).reshape(3,3)`"
   ]
  },
  {
   "cell_type": "code",
   "execution_count": 23,
   "metadata": {},
   "outputs": [
    {
     "name": "stdout",
     "output_type": "stream",
     "text": [
      "tensor([[0, 1, 2],\n",
      "        [3, 4, 5],\n",
      "        [6, 7, 8]])\n"
     ]
    },
    {
     "data": {
      "text/plain": [
       "tensor([[0, 2, 1],\n",
       "        [3, 5, 4],\n",
       "        [6, 8, 7]])"
      ]
     },
     "execution_count": 23,
     "metadata": {},
     "output_type": "execute_result"
    }
   ],
   "source": [
    "res = torch.arange(9).reshape(3,3)\n",
    "print(res)\n",
    "res = res[:, [0, 2, 1]]\n",
    "res"
   ]
  },
  {
   "cell_type": "markdown",
   "metadata": {
    "id": "cheFtWhU1RDH"
   },
   "source": [
    "1.3.5 Создать тензор 8 на 10 из случайных целых чисел из диапазона от 0 до 10 и найти в ней строку (ее индекс и вывести саму строку), в которой сумма значений минимальна."
   ]
  },
  {
   "cell_type": "code",
   "execution_count": 24,
   "metadata": {},
   "outputs": [
    {
     "name": "stdout",
     "output_type": "stream",
     "text": [
      "tensor([[ 9, 10,  5,  9,  9,  7,  5,  7,  5, 10],\n",
      "        [ 6, 10,  6,  3,  2,  8,  6, 10,  4,  3],\n",
      "        [ 6,  5,  8,  9,  3,  9,  7, 10,  0,  1],\n",
      "        [ 7,  5,  5,  6,  4,  0,  1,  5,  7,  8],\n",
      "        [ 7,  3,  9,  4,  8,  8,  8,  7,  3,  6],\n",
      "        [ 0,  9,  9,  5,  2,  6,  0,  4,  6,  2],\n",
      "        [ 6,  0,  7,  8,  9,  0,  1, 10, 10,  1],\n",
      "        [ 1,  6,  2,  2,  3,  6,  6,  2,  9,  4]])\n",
      "7\n"
     ]
    },
    {
     "data": {
      "text/plain": [
       "tensor([1, 6, 2, 2, 3, 6, 6, 2, 9, 4])"
      ]
     },
     "execution_count": 24,
     "metadata": {},
     "output_type": "execute_result"
    }
   ],
   "source": [
    "arr = torch.randint(0, 11, size=[8, 10])\n",
    "print(arr)\n",
    "item_index = arr.sum(axis=1).min(axis=0).indices.item()\n",
    "print(item_index)\n",
    "res = arr[item_index]\n",
    "res"
   ]
  },
  {
   "cell_type": "markdown",
   "metadata": {
    "id": "grOCNU4XFE2B"
   },
   "source": [
    "1.3.6 Cоздать тензор из 20 случайных целых чисел от 0 до 100. Обрезать значения тензора (заменить значения, выходящие за диапазон, на крайние значения) снизу по значению 30, сверху по значению 70."
   ]
  },
  {
   "cell_type": "code",
   "execution_count": 25,
   "metadata": {},
   "outputs": [
    {
     "name": "stdout",
     "output_type": "stream",
     "text": [
      "tensor([94, 52,  0, 77, 36, 39, 90, 20,  9, 42, 66, 75, 97, 40, 71, 28, 24, 45,\n",
      "        46, 44])\n",
      "tensor([94, 52, 30, 77, 36, 39, 90, 30, 30, 42, 66, 75, 97, 40, 71, 30, 30, 45,\n",
      "        46, 44])\n"
     ]
    },
    {
     "data": {
      "text/plain": [
       "tensor([70, 52, 30, 70, 36, 39, 70, 30, 30, 42, 66, 70, 70, 40, 70, 30, 30, 45,\n",
       "        46, 44])"
      ]
     },
     "execution_count": 25,
     "metadata": {},
     "output_type": "execute_result"
    }
   ],
   "source": [
    "res = torch.randint(0, 101, size=[20])\n",
    "print(res)\n",
    "#Все что меньше - режем\n",
    "res[(res < 30)] = 30\n",
    "print(res)\n",
    "#Все что больше - режем\n",
    "res[(res > 70)] = 70\n",
    "res"
   ]
  },
  {
   "cell_type": "markdown",
   "metadata": {
    "id": "HNfQjY8P1RDI"
   },
   "source": [
    "1.3.7 Создать два тензора размера 30 на 3 из случайных целых чисел из диапазона от 0 до 10 и найти все значения первого тензора, которые больше соответсвующих (по расположению) значений второго тензора. Подсчитать сумму этих значений."
   ]
  },
  {
   "cell_type": "code",
   "execution_count": 26,
   "metadata": {},
   "outputs": [
    {
     "name": "stdout",
     "output_type": "stream",
     "text": [
      "tensor([ 9,  3,  9,  2,  2,  7, 10,  4,  9,  8,  8,  3,  2,  8,  5,  6,  6, 10,\n",
      "         7,  3,  8,  7,  9,  2,  7,  4,  8,  9,  3,  2, 10,  9,  8,  9, 10,  9,\n",
      "         5])\n",
      "Sum: 240\n"
     ]
    }
   ],
   "source": [
    "a1 = torch.randint(0, 11, size=[30, 3])\n",
    "a2 = torch.randint(0, 11, size=[30, 3])\n",
    "\n",
    "mask = a1 > a2\n",
    "print(a1[mask])\n",
    "\n",
    "res = a1[mask].sum().item()\n",
    "print(\"Sum:\", res)"
   ]
  },
  {
   "cell_type": "markdown",
   "metadata": {
    "id": "doBCxYJA1RDI"
   },
   "source": [
    "1.3.8 При помощи прихотливого индексирования для двухмерного массива размерности (20, 20), состоящего из случайных целых чисел в пределах от 0 до 10 получить массив элементов находящихся на диагонали, проходящей над основной диагональю."
   ]
  },
  {
   "cell_type": "code",
   "execution_count": 27,
   "metadata": {},
   "outputs": [
    {
     "name": "stdout",
     "output_type": "stream",
     "text": [
      "tensor([[ 9,  0,  5,  8,  4,  2,  9, 10,  6,  1,  3,  5,  4, 10,  7,  2,  2, 10,\n",
      "          1,  0],\n",
      "        [ 5,  7,  9,  8,  2,  3,  8,  6,  6,  6,  3,  5,  7,  4,  5, 10,  9,  3,\n",
      "          3,  4],\n",
      "        [ 0,  2,  6,  9,  6,  3,  3,  0,  6,  4,  7,  2,  4,  2, 10,  5,  9,  4,\n",
      "          2,  9],\n",
      "        [ 1,  7,  3,  5, 10,  3,  4,  3, 10,  8,  0,  3,  1,  8, 10,  2,  6,  3,\n",
      "          9,  6],\n",
      "        [ 3, 10,  4,  3, 10,  1,  1,  8,  3,  2,  3,  5,  9,  1,  3,  8,  7,  2,\n",
      "          4,  7],\n",
      "        [10,  2,  5,  8,  4,  6,  6,  2,  1,  2,  2,  1,  4,  1,  4,  0,  2, 10,\n",
      "          9, 10],\n",
      "        [ 2,  8,  8,  6,  1,  8,  2,  4,  3,  9,  2,  8,  4,  5,  4,  2,  8,  6,\n",
      "          6,  0],\n",
      "        [ 8,  4, 10,  2,  8,  5,  0,  6,  9,  7,  9,  9,  9,  0,  7, 10,  6,  8,\n",
      "          5,  6],\n",
      "        [ 1,  1,  2,  6,  9,  4,  9,  5,  0,  8,  6,  7,  2,  6,  5,  3,  9,  1,\n",
      "          4,  8],\n",
      "        [ 8,  1,  9, 10,  7,  8,  6,  7,  6,  8,  1,  2,  8,  1,  6,  6,  9,  3,\n",
      "          4, 10],\n",
      "        [ 0,  7,  6, 10,  1,  9,  1,  3,  9,  1,  8, 10,  6,  6,  4,  8,  5,  3,\n",
      "          3,  3],\n",
      "        [ 0,  3,  7,  2,  5,  3,  3,  3,  3,  2,  3,  7,  9,  1,  5,  7, 10, 10,\n",
      "          2,  4],\n",
      "        [ 5,  5,  6,  9,  2, 10,  3,  9,  5,  3,  4,  9,  9,  2,  8,  7,  6,  4,\n",
      "         10,  8],\n",
      "        [ 2,  7,  3,  3,  7,  7,  7,  9,  8,  5, 10,  8,  2,  4,  7,  3,  7,  2,\n",
      "         10,  4],\n",
      "        [ 1,  5,  5,  4,  2,  6,  6,  3,  4,  4,  0,  0,  2,  3,  1, 10,  4, 10,\n",
      "          9,  1],\n",
      "        [ 4,  0,  3,  8,  8,  9,  8,  3,  4,  2,  5,  3,  6, 10,  3,  5,  4,  9,\n",
      "          9,  1],\n",
      "        [ 6,  2,  0,  3,  0,  0,  1,  1, 10, 10, 10,  1,  5,  5,  3,  3, 10,  5,\n",
      "         10,  4],\n",
      "        [10,  2,  4,  6,  1,  4,  7,  8,  8, 10,  7,  9,  0,  3, 10,  6,  8,  3,\n",
      "          4,  2],\n",
      "        [ 1,  7,  0,  0,  3, 10,  4,  4, 10,  0,  9,  9,  6,  8,  4,  2,  0,  5,\n",
      "          7,  5],\n",
      "        [ 8,  2,  3,  4,  0,  7,  9,  8,  4,  9,  8,  0,  7,  6,  6,  7,  8,  3,\n",
      "          2,  5]])\n",
      "tensor([ 0,  9,  9, 10,  1,  6,  4,  9,  8,  1, 10,  9,  2,  7, 10,  4,  5,  4,\n",
      "         5])\n"
     ]
    }
   ],
   "source": [
    "res = torch.randint(0, 11, size=[20, 20])\n",
    "print(res)\n",
    "print(res[torch.arange(19), torch.arange(19) +1])"
   ]
  },
  {
   "cell_type": "markdown",
   "metadata": {
    "id": "6M1lkfLp1RDJ"
   },
   "source": [
    "1.3.9 Задать два двухмерных тензора `ar1` и `ar2` размерности (5, 10), состоящих из случайных целых чисел в пределах от 0 до 10. Удвоить все значения `ar1`, которые совпадают со значениями `ar2`, расположенными на аналогичных позициях."
   ]
  },
  {
   "cell_type": "code",
   "execution_count": 28,
   "metadata": {},
   "outputs": [
    {
     "name": "stdout",
     "output_type": "stream",
     "text": [
      "tensor([[ 9,  8,  5,  9,  0, 10,  3,  4, 10,  1],\n",
      "        [ 3, 10,  9,  8,  7,  4,  1,  1, 10,  8],\n",
      "        [ 0, 10,  5,  9, 10,  6,  3,  9,  4,  9],\n",
      "        [ 3,  2,  7,  5,  3,  2,  3,  8,  3,  5],\n",
      "        [ 9, 10,  9,  0,  0,  7,  9, 10,  6,  9]]) \n",
      "\n",
      "tensor([[ 9,  2,  0,  9,  3,  9,  6, 10,  3,  6],\n",
      "        [ 0,  7,  3,  1,  9,  0,  3,  1, 10, 10],\n",
      "        [ 3,  9, 10,  8,  0,  6,  0,  3,  7,  6],\n",
      "        [ 0,  4,  9, 10,  6,  8,  3,  1,  2, 10],\n",
      "        [ 9,  9,  9,  1,  4,  7, 10,  1,  6,  1]]) \n",
      "\n"
     ]
    },
    {
     "data": {
      "text/plain": [
       "tensor([[18,  8,  5, 18,  0, 10,  3,  4, 10,  1],\n",
       "        [ 3, 10,  9,  8,  7,  4,  1,  2, 20,  8],\n",
       "        [ 0, 10,  5,  9, 10, 12,  3,  9,  4,  9],\n",
       "        [ 3,  2,  7,  5,  3,  2,  6,  8,  3,  5],\n",
       "        [18, 10, 18,  0,  0, 14,  9, 10, 12,  9]])"
      ]
     },
     "execution_count": 28,
     "metadata": {},
     "output_type": "execute_result"
    }
   ],
   "source": [
    "a1 = torch.randint(0, 11, size=[5, 10])\n",
    "print(a1,\"\\n\")\n",
    "a2 = torch.randint(0, 11, size=[5, 10])\n",
    "print(a2, \"\\n\")\n",
    "\n",
    "mask = a1 == a2\n",
    "a1[mask] = a1[mask] * 2\n",
    "a1"
   ]
  },
  {
   "cell_type": "markdown",
   "metadata": {
    "id": "Qe2oVr4p1RDJ"
   },
   "source": [
    "1.3.10 Заданы три двухмерных тензора `ar1`, `ar2` и `ar3` размерности (4, 7), состоящие из случайных целых чисел в пределах от 0 до 10. Обнулить все элементы `ar1`, которые больше соответствующих (находящихся в соответствующих позициях) элементов `ar2` и меньше соответствующих элементов `ar3`."
   ]
  },
  {
   "cell_type": "code",
   "execution_count": 29,
   "metadata": {},
   "outputs": [
    {
     "name": "stdout",
     "output_type": "stream",
     "text": [
      "tensor([[ 1,  0,  5,  9,  6, 10,  2],\n",
      "        [ 4,  6,  7,  4,  4,  8,  2],\n",
      "        [10,  2, 10,  1,  0,  5,  7],\n",
      "        [ 5,  7, 10,  7,  4,  8,  7]]) \n",
      "\n",
      "tensor([[ 2,  9, 10,  0,  5,  6,  5],\n",
      "        [ 8, 10,  2,  0,  0,  8,  3],\n",
      "        [ 7,  7,  6,  7,  1,  9,  9],\n",
      "        [ 6,  2,  5,  0,  0,  2,  1]]) \n",
      "\n",
      "tensor([[ 0,  6,  8,  0,  3,  4,  1],\n",
      "        [ 0, 10,  0,  9,  1,  9,  5],\n",
      "        [ 3, 10,  4,  6,  3,  1,  4],\n",
      "        [ 4,  9,  2,  7,  4, 10,  6]]) \n",
      "\n"
     ]
    },
    {
     "data": {
      "text/plain": [
       "tensor([[ 1,  0,  5,  9,  6, 10,  2],\n",
       "        [ 4,  6,  7,  0,  4,  8,  2],\n",
       "        [10,  2, 10,  1,  0,  5,  7],\n",
       "        [ 5,  0, 10,  7,  4,  0,  7]])"
      ]
     },
     "execution_count": 29,
     "metadata": {},
     "output_type": "execute_result"
    }
   ],
   "source": [
    "a1 = torch.randint(0, 11, size=[4, 7])\n",
    "print(a1, \"\\n\")\n",
    "a2 = torch.randint(0, 11, size=[4, 7])\n",
    "print(a2, \"\\n\")\n",
    "a3 = torch.randint(0, 11, size=[4, 7])\n",
    "print(a3, \"\\n\")\n",
    "\n",
    "mask = (a1 > a2) & (a1 < a3)\n",
    "a1[mask] = 0\n",
    "a1"
   ]
  },
  {
   "cell_type": "markdown",
   "metadata": {
    "id": "BTcRVeYh1RDK"
   },
   "source": [
    "1.3.11 Задан двумерный тензор `ar1` размерности (20, 5), состоящий из случайных целых чисел в пределах от 0 до 20. Определить, в каких столбцах не менее 5 раз встречается значение, максимальное по своей строке."
   ]
  },
  {
   "cell_type": "code",
   "execution_count": 30,
   "metadata": {},
   "outputs": [
    {
     "name": "stdout",
     "output_type": "stream",
     "text": [
      "tensor([[17,  3, 14,  2,  8],\n",
      "        [17, 11,  2,  3, 14],\n",
      "        [ 1, 17,  8, 19, 18],\n",
      "        [12, 19, 11,  0,  5],\n",
      "        [10, 18,  5, 19,  3],\n",
      "        [10,  9, 11, 14, 16],\n",
      "        [14,  3,  6,  0,  8],\n",
      "        [ 6, 19, 11, 13, 17],\n",
      "        [ 0,  1,  4,  2,  9],\n",
      "        [19,  5, 20, 10, 12],\n",
      "        [ 0, 12,  5, 18, 20],\n",
      "        [12, 13, 14,  8,  0],\n",
      "        [ 5, 14, 12,  3, 10],\n",
      "        [14, 10,  8, 15, 20],\n",
      "        [10,  0, 12, 16,  9],\n",
      "        [ 5,  7,  5, 19,  9],\n",
      "        [18,  9,  5, 11,  7],\n",
      "        [13,  1, 11,  1, 20],\n",
      "        [ 6, 15,  6,  7, 12],\n",
      "        [11,  9, 11, 12, 10]]) \n",
      "\n"
     ]
    },
    {
     "data": {
      "text/plain": [
       "tensor([], dtype=torch.int64)"
      ]
     },
     "execution_count": 30,
     "metadata": {},
     "output_type": "execute_result"
    }
   ],
   "source": [
    "a1 = torch.randint(0, 21, size=(20, 5))\n",
    "print(a1, \"\\n\")\n",
    "condition = (a1.T == a1.max(axis=1).values).T.sum(axis=0) > 5\n",
    "res = (condition).nonzero(as_tuple=True)\n",
    "res[0]"
   ]
  },
  {
   "cell_type": "markdown",
   "metadata": {
    "id": "ZeYlNWNE1RDK"
   },
   "source": [
    "1.3.12 Задан двумерный тензор `ar1` размерности (4, 7), состоящий из случайных  чисел в пределах от 0 до 1. Обнулить все значения в массиве, расположенные строго правее и ниже максимального элемента массива. "
   ]
  },
  {
   "cell_type": "code",
   "execution_count": 31,
   "metadata": {},
   "outputs": [
    {
     "name": "stdout",
     "output_type": "stream",
     "text": [
      "tensor([[0.9826, 0.2374, 0.4472, 0.7516, 0.4345, 0.0043, 0.0444],\n",
      "        [0.0039, 0.2531, 0.2988, 0.0139, 0.2697, 0.0071, 0.5942],\n",
      "        [0.3630, 0.6231, 0.3351, 0.0938, 0.5967, 0.1586, 0.5208],\n",
      "        [0.0787, 0.7006, 0.1534, 0.0662, 0.2703, 0.3862, 0.2031]])\n",
      "0.9826176762580872\n"
     ]
    },
    {
     "data": {
      "text/plain": [
       "tensor([[0.9826, 0.2374, 0.4472, 0.7516, 0.4345, 0.0043, 0.0444],\n",
       "        [0.0039, 0.0000, 0.0000, 0.0000, 0.0000, 0.0000, 0.0000],\n",
       "        [0.3630, 0.0000, 0.0000, 0.0000, 0.0000, 0.0000, 0.0000],\n",
       "        [0.0787, 0.0000, 0.0000, 0.0000, 0.0000, 0.0000, 0.0000]])"
      ]
     },
     "execution_count": 31,
     "metadata": {},
     "output_type": "execute_result"
    }
   ],
   "source": [
    "ar1 = torch.rand((4, 7))\n",
    "print(ar1)\n",
    "maximum = ar1.max().item()\n",
    "print(maximum)\n",
    "\n",
    "ar1[(ar1 == maximum).nonzero(as_tuple=True)[0][0] + 1:, (ar1 == maximum).nonzero(as_tuple=True)[1][0] + 1:] = 0\n",
    "ar1"
   ]
  },
  {
   "cell_type": "markdown",
   "metadata": {
    "id": "pYxX90B11RDL"
   },
   "source": [
    "1.3.13 Построить \"one-hot encoding\" для одномерного тензора, содержащего целые числа (длина вектора заранее неизвестна, набор значений заранее неизвестен, при этом в итоговой матрице должны присутствовать столбцы для всех натуральных чисел вплоть до максимального встречающегося в исходном массиве).\n",
    "\n",
    "Пример:\n",
    "\n",
    "для тензора `torch.tensor([2, 3, 2, 2, 2, 1])`.\n",
    "\n",
    "Ожидается результат:\n",
    "\n",
    "```python\n",
    "tensor([[0., 1., 0.],\n",
    "        [0., 0., 1.],\n",
    "        [0., 1., 0.],\n",
    "        [0., 1., 0.],\n",
    "        [0., 1., 0.],\n",
    "        [1., 0., 0.]])\n",
    "```"
   ]
  },
  {
   "cell_type": "code",
   "execution_count": 32,
   "metadata": {},
   "outputs": [
    {
     "data": {
      "text/plain": [
       "tensor([[0., 1., 0.],\n",
       "        [0., 0., 1.],\n",
       "        [0., 1., 0.],\n",
       "        [0., 1., 0.],\n",
       "        [0., 1., 0.],\n",
       "        [1., 0., 0.]])"
      ]
     },
     "execution_count": 32,
     "metadata": {},
     "output_type": "execute_result"
    }
   ],
   "source": [
    "arr = torch.tensor([2, 3, 2, 2, 2, 1])\n",
    "res = torch.zeros(arr.size()[0], arr.max())\n",
    "res[torch.arange(arr.size()[0]), arr-1] = 1\n",
    "res"
   ]
  },
  {
   "cell_type": "markdown",
   "metadata": {
    "id": "GYU8DmNTDLN8"
   },
   "source": [
    "1.3.14 Создать тензор `arr` из 20 случайных целых чисел от 0 до 100. Найти самое частое значение в тензоре. \n",
    "Найти индексы в тензоре, соответствующие самому частому значению. Проверить, как работет алгоритм при двух значениях, имеющих наибольшую встречаемость, предложить приемлемое поведение алгоритма для этого случая. "
   ]
  },
  {
   "cell_type": "code",
   "execution_count": 33,
   "metadata": {},
   "outputs": [
    {
     "name": "stdout",
     "output_type": "stream",
     "text": [
      "tensor([ 8, 32, 55, 46, 69, 42, 48, 64, 10, 42, 97, 85, 51, 40, 74, 15, 85, 19,\n",
      "        36, 21])\n",
      "tensor(42)\n"
     ]
    },
    {
     "data": {
      "text/plain": [
       "[5, 9]"
      ]
     },
     "execution_count": 33,
     "metadata": {},
     "output_type": "execute_result"
    }
   ],
   "source": [
    "arr = torch.randint(0, 101, size=[20])\n",
    "print(arr)\n",
    "most_value = torch.mode(arr)[0]\n",
    "print(most_value)\n",
    "res = (arr == most_value).nonzero(as_tuple=True)[0].tolist()\n",
    "res"
   ]
  },
  {
   "cell_type": "markdown",
   "metadata": {
    "id": "UenAEfEG1RDN"
   },
   "source": [
    "## 1.4 Математические задачи"
   ]
  },
  {
   "cell_type": "markdown",
   "metadata": {
    "id": "6weDrqJR1RDN"
   },
   "source": [
    "1.4.1 Приблизительно (с погрешностью порядка 1%) рассчитать на какой части интервала от 0 до 10 значение функции x * sin(x) больше 0.5."
   ]
  },
  {
   "cell_type": "code",
   "execution_count": 34,
   "metadata": {},
   "outputs": [
    {
     "name": "stdout",
     "output_type": "stream",
     "text": [
      "tensor([0.0000e+00, 1.0000e-04, 2.0000e-04,  ..., 9.9998e+00, 9.9999e+00,\n",
      "        1.0000e+01])\n"
     ]
    },
    {
     "data": {
      "text/plain": [
       "tensor(0.5241)"
      ]
     },
     "execution_count": 34,
     "metadata": {},
     "output_type": "execute_result"
    }
   ],
   "source": [
    "n = 100000\n",
    "arr = torch.linspace(0, 10, n)\n",
    "print(arr)\n",
    "((arr * torch.sin(arr)) > 0.5).sum() / n"
   ]
  },
  {
   "cell_type": "markdown",
   "metadata": {
    "id": "B9xAv8TR1RDN"
   },
   "source": [
    "1.4.2 Найти все простые числа в пределах ста. (Для решения предлагается использовать Решето Эратосфена) Использовать не более 1 цикла (желательно)."
   ]
  },
  {
   "cell_type": "markdown",
   "metadata": {},
   "source": [
    "https://ru.wikipedia.org/wiki/%D0%A0%D0%B5%D1%88%D0%B5%D1%82%D0%BE_%D0%AD%D1%80%D0%B0%D1%82%D0%BE%D1%81%D1%84%D0%B5%D0%BD%D0%B0"
   ]
  },
  {
   "cell_type": "code",
   "execution_count": 35,
   "metadata": {},
   "outputs": [
    {
     "name": "stdout",
     "output_type": "stream",
     "text": [
      "[2, 3, 5, 7, 9, 11, 13, 15, 17, 19, 21, 23, 25, 27, 29, 31, 33, 35, 37, 39, 41, 43, 45, 47, 49, 51, 53, 55, 57, 59, 61, 63, 65, 67, 69, 71, 73, 75, 77, 79, 81, 83, 85, 87, 89, 91, 93, 95, 97, 99]\n",
      "[2, 3, 5, 7, 11, 13, 17, 19, 23, 25, 29, 31, 35, 37, 41, 43, 47, 49, 53, 55, 59, 61, 65, 67, 71, 73, 77, 79, 83, 85, 89, 91, 95, 97]\n",
      "[2, 3, 5, 7, 11, 13, 17, 19, 23, 25, 29, 31, 35, 37, 41, 43, 47, 49, 53, 55, 59, 61, 65, 67, 71, 73, 77, 79, 83, 85, 89, 91, 95, 97]\n",
      "[2, 3, 5, 7, 11, 13, 17, 19, 23, 29, 31, 37, 41, 43, 47, 49, 53, 59, 61, 67, 71, 73, 77, 79, 83, 89, 91, 97]\n",
      "[2, 3, 5, 7, 11, 13, 17, 19, 23, 29, 31, 37, 41, 43, 47, 49, 53, 59, 61, 67, 71, 73, 77, 79, 83, 89, 91, 97]\n",
      "[2, 3, 5, 7, 11, 13, 17, 19, 23, 29, 31, 37, 41, 43, 47, 53, 59, 61, 67, 71, 73, 79, 83, 89, 97]\n",
      "[2, 3, 5, 7, 11, 13, 17, 19, 23, 29, 31, 37, 41, 43, 47, 53, 59, 61, 67, 71, 73, 79, 83, 89, 97]\n",
      "[2, 3, 5, 7, 11, 13, 17, 19, 23, 29, 31, 37, 41, 43, 47, 53, 59, 61, 67, 71, 73, 79, 83, 89, 97]\n",
      "[2, 3, 5, 7, 11, 13, 17, 19, 23, 29, 31, 37, 41, 43, 47, 53, 59, 61, 67, 71, 73, 79, 83, 89, 97]\n",
      "[2, 3, 5, 7, 11, 13, 17, 19, 23, 29, 31, 37, 41, 43, 47, 53, 59, 61, 67, 71, 73, 79, 83, 89, 97]\n",
      "[2, 3, 5, 7, 11, 13, 17, 19, 23, 29, 31, 37, 41, 43, 47, 53, 59, 61, 67, 71, 73, 79, 83, 89, 97]\n",
      "[2, 3, 5, 7, 11, 13, 17, 19, 23, 29, 31, 37, 41, 43, 47, 53, 59, 61, 67, 71, 73, 79, 83, 89, 97]\n",
      "[2, 3, 5, 7, 11, 13, 17, 19, 23, 29, 31, 37, 41, 43, 47, 53, 59, 61, 67, 71, 73, 79, 83, 89, 97]\n",
      "[2, 3, 5, 7, 11, 13, 17, 19, 23, 29, 31, 37, 41, 43, 47, 53, 59, 61, 67, 71, 73, 79, 83, 89, 97]\n",
      "[2, 3, 5, 7, 11, 13, 17, 19, 23, 29, 31, 37, 41, 43, 47, 53, 59, 61, 67, 71, 73, 79, 83, 89, 97]\n",
      "[2, 3, 5, 7, 11, 13, 17, 19, 23, 29, 31, 37, 41, 43, 47, 53, 59, 61, 67, 71, 73, 79, 83, 89, 97]\n",
      "[2, 3, 5, 7, 11, 13, 17, 19, 23, 29, 31, 37, 41, 43, 47, 53, 59, 61, 67, 71, 73, 79, 83, 89, 97]\n",
      "[2, 3, 5, 7, 11, 13, 17, 19, 23, 29, 31, 37, 41, 43, 47, 53, 59, 61, 67, 71, 73, 79, 83, 89, 97]\n",
      "[2, 3, 5, 7, 11, 13, 17, 19, 23, 29, 31, 37, 41, 43, 47, 53, 59, 61, 67, 71, 73, 79, 83, 89, 97]\n",
      "[2, 3, 5, 7, 11, 13, 17, 19, 23, 29, 31, 37, 41, 43, 47, 53, 59, 61, 67, 71, 73, 79, 83, 89, 97]\n",
      "[2, 3, 5, 7, 11, 13, 17, 19, 23, 29, 31, 37, 41, 43, 47, 53, 59, 61, 67, 71, 73, 79, 83, 89, 97]\n",
      "[2, 3, 5, 7, 11, 13, 17, 19, 23, 29, 31, 37, 41, 43, 47, 53, 59, 61, 67, 71, 73, 79, 83, 89, 97]\n",
      "[2, 3, 5, 7, 11, 13, 17, 19, 23, 29, 31, 37, 41, 43, 47, 53, 59, 61, 67, 71, 73, 79, 83, 89, 97]\n",
      "[2, 3, 5, 7, 11, 13, 17, 19, 23, 29, 31, 37, 41, 43, 47, 53, 59, 61, 67, 71, 73, 79, 83, 89, 97]\n",
      "[2, 3, 5, 7, 11, 13, 17, 19, 23, 29, 31, 37, 41, 43, 47, 53, 59, 61, 67, 71, 73, 79, 83, 89, 97]\n",
      "[2, 3, 5, 7, 11, 13, 17, 19, 23, 29, 31, 37, 41, 43, 47, 53, 59, 61, 67, 71, 73, 79, 83, 89, 97]\n",
      "[2, 3, 5, 7, 11, 13, 17, 19, 23, 29, 31, 37, 41, 43, 47, 53, 59, 61, 67, 71, 73, 79, 83, 89, 97]\n",
      "[2, 3, 5, 7, 11, 13, 17, 19, 23, 29, 31, 37, 41, 43, 47, 53, 59, 61, 67, 71, 73, 79, 83, 89, 97]\n",
      "[2, 3, 5, 7, 11, 13, 17, 19, 23, 29, 31, 37, 41, 43, 47, 53, 59, 61, 67, 71, 73, 79, 83, 89, 97]\n",
      "[2, 3, 5, 7, 11, 13, 17, 19, 23, 29, 31, 37, 41, 43, 47, 53, 59, 61, 67, 71, 73, 79, 83, 89, 97]\n",
      "[2, 3, 5, 7, 11, 13, 17, 19, 23, 29, 31, 37, 41, 43, 47, 53, 59, 61, 67, 71, 73, 79, 83, 89, 97]\n",
      "[2, 3, 5, 7, 11, 13, 17, 19, 23, 29, 31, 37, 41, 43, 47, 53, 59, 61, 67, 71, 73, 79, 83, 89, 97]\n",
      "[2, 3, 5, 7, 11, 13, 17, 19, 23, 29, 31, 37, 41, 43, 47, 53, 59, 61, 67, 71, 73, 79, 83, 89, 97]\n",
      "[2, 3, 5, 7, 11, 13, 17, 19, 23, 29, 31, 37, 41, 43, 47, 53, 59, 61, 67, 71, 73, 79, 83, 89, 97]\n",
      "[2, 3, 5, 7, 11, 13, 17, 19, 23, 29, 31, 37, 41, 43, 47, 53, 59, 61, 67, 71, 73, 79, 83, 89, 97]\n",
      "[2, 3, 5, 7, 11, 13, 17, 19, 23, 29, 31, 37, 41, 43, 47, 53, 59, 61, 67, 71, 73, 79, 83, 89, 97]\n",
      "[2, 3, 5, 7, 11, 13, 17, 19, 23, 29, 31, 37, 41, 43, 47, 53, 59, 61, 67, 71, 73, 79, 83, 89, 97]\n",
      "[2, 3, 5, 7, 11, 13, 17, 19, 23, 29, 31, 37, 41, 43, 47, 53, 59, 61, 67, 71, 73, 79, 83, 89, 97]\n",
      "[2, 3, 5, 7, 11, 13, 17, 19, 23, 29, 31, 37, 41, 43, 47, 53, 59, 61, 67, 71, 73, 79, 83, 89, 97]\n",
      "[2, 3, 5, 7, 11, 13, 17, 19, 23, 29, 31, 37, 41, 43, 47, 53, 59, 61, 67, 71, 73, 79, 83, 89, 97]\n",
      "[2, 3, 5, 7, 11, 13, 17, 19, 23, 29, 31, 37, 41, 43, 47, 53, 59, 61, 67, 71, 73, 79, 83, 89, 97]\n",
      "[2, 3, 5, 7, 11, 13, 17, 19, 23, 29, 31, 37, 41, 43, 47, 53, 59, 61, 67, 71, 73, 79, 83, 89, 97]\n",
      "[2, 3, 5, 7, 11, 13, 17, 19, 23, 29, 31, 37, 41, 43, 47, 53, 59, 61, 67, 71, 73, 79, 83, 89, 97]\n",
      "[2, 3, 5, 7, 11, 13, 17, 19, 23, 29, 31, 37, 41, 43, 47, 53, 59, 61, 67, 71, 73, 79, 83, 89, 97]\n",
      "[2, 3, 5, 7, 11, 13, 17, 19, 23, 29, 31, 37, 41, 43, 47, 53, 59, 61, 67, 71, 73, 79, 83, 89, 97]\n",
      "[2, 3, 5, 7, 11, 13, 17, 19, 23, 29, 31, 37, 41, 43, 47, 53, 59, 61, 67, 71, 73, 79, 83, 89, 97]\n",
      "[2, 3, 5, 7, 11, 13, 17, 19, 23, 29, 31, 37, 41, 43, 47, 53, 59, 61, 67, 71, 73, 79, 83, 89, 97]\n",
      "[2, 3, 5, 7, 11, 13, 17, 19, 23, 29, 31, 37, 41, 43, 47, 53, 59, 61, 67, 71, 73, 79, 83, 89, 97]\n",
      "[2, 3, 5, 7, 11, 13, 17, 19, 23, 29, 31, 37, 41, 43, 47, 53, 59, 61, 67, 71, 73, 79, 83, 89, 97]\n",
      "[2, 3, 5, 7, 11, 13, 17, 19, 23, 29, 31, 37, 41, 43, 47, 53, 59, 61, 67, 71, 73, 79, 83, 89, 97]\n",
      "[2, 3, 5, 7, 11, 13, 17, 19, 23, 29, 31, 37, 41, 43, 47, 53, 59, 61, 67, 71, 73, 79, 83, 89, 97]\n",
      "[2, 3, 5, 7, 11, 13, 17, 19, 23, 29, 31, 37, 41, 43, 47, 53, 59, 61, 67, 71, 73, 79, 83, 89, 97]\n",
      "[2, 3, 5, 7, 11, 13, 17, 19, 23, 29, 31, 37, 41, 43, 47, 53, 59, 61, 67, 71, 73, 79, 83, 89, 97]\n",
      "[2, 3, 5, 7, 11, 13, 17, 19, 23, 29, 31, 37, 41, 43, 47, 53, 59, 61, 67, 71, 73, 79, 83, 89, 97]\n",
      "[2, 3, 5, 7, 11, 13, 17, 19, 23, 29, 31, 37, 41, 43, 47, 53, 59, 61, 67, 71, 73, 79, 83, 89, 97]\n",
      "[2, 3, 5, 7, 11, 13, 17, 19, 23, 29, 31, 37, 41, 43, 47, 53, 59, 61, 67, 71, 73, 79, 83, 89, 97]\n",
      "[2, 3, 5, 7, 11, 13, 17, 19, 23, 29, 31, 37, 41, 43, 47, 53, 59, 61, 67, 71, 73, 79, 83, 89, 97]\n",
      "[2, 3, 5, 7, 11, 13, 17, 19, 23, 29, 31, 37, 41, 43, 47, 53, 59, 61, 67, 71, 73, 79, 83, 89, 97]\n",
      "[2, 3, 5, 7, 11, 13, 17, 19, 23, 29, 31, 37, 41, 43, 47, 53, 59, 61, 67, 71, 73, 79, 83, 89, 97]\n",
      "[2, 3, 5, 7, 11, 13, 17, 19, 23, 29, 31, 37, 41, 43, 47, 53, 59, 61, 67, 71, 73, 79, 83, 89, 97]\n",
      "[2, 3, 5, 7, 11, 13, 17, 19, 23, 29, 31, 37, 41, 43, 47, 53, 59, 61, 67, 71, 73, 79, 83, 89, 97]\n",
      "[2, 3, 5, 7, 11, 13, 17, 19, 23, 29, 31, 37, 41, 43, 47, 53, 59, 61, 67, 71, 73, 79, 83, 89, 97]\n",
      "[2, 3, 5, 7, 11, 13, 17, 19, 23, 29, 31, 37, 41, 43, 47, 53, 59, 61, 67, 71, 73, 79, 83, 89, 97]\n",
      "[2, 3, 5, 7, 11, 13, 17, 19, 23, 29, 31, 37, 41, 43, 47, 53, 59, 61, 67, 71, 73, 79, 83, 89, 97]\n",
      "[2, 3, 5, 7, 11, 13, 17, 19, 23, 29, 31, 37, 41, 43, 47, 53, 59, 61, 67, 71, 73, 79, 83, 89, 97]\n",
      "[2, 3, 5, 7, 11, 13, 17, 19, 23, 29, 31, 37, 41, 43, 47, 53, 59, 61, 67, 71, 73, 79, 83, 89, 97]\n",
      "[2, 3, 5, 7, 11, 13, 17, 19, 23, 29, 31, 37, 41, 43, 47, 53, 59, 61, 67, 71, 73, 79, 83, 89, 97]\n",
      "[2, 3, 5, 7, 11, 13, 17, 19, 23, 29, 31, 37, 41, 43, 47, 53, 59, 61, 67, 71, 73, 79, 83, 89, 97]\n",
      "[2, 3, 5, 7, 11, 13, 17, 19, 23, 29, 31, 37, 41, 43, 47, 53, 59, 61, 67, 71, 73, 79, 83, 89, 97]\n",
      "[2, 3, 5, 7, 11, 13, 17, 19, 23, 29, 31, 37, 41, 43, 47, 53, 59, 61, 67, 71, 73, 79, 83, 89, 97]\n",
      "[2, 3, 5, 7, 11, 13, 17, 19, 23, 29, 31, 37, 41, 43, 47, 53, 59, 61, 67, 71, 73, 79, 83, 89, 97]\n",
      "[2, 3, 5, 7, 11, 13, 17, 19, 23, 29, 31, 37, 41, 43, 47, 53, 59, 61, 67, 71, 73, 79, 83, 89, 97]\n",
      "[2, 3, 5, 7, 11, 13, 17, 19, 23, 29, 31, 37, 41, 43, 47, 53, 59, 61, 67, 71, 73, 79, 83, 89, 97]\n",
      "[2, 3, 5, 7, 11, 13, 17, 19, 23, 29, 31, 37, 41, 43, 47, 53, 59, 61, 67, 71, 73, 79, 83, 89, 97]\n",
      "[2, 3, 5, 7, 11, 13, 17, 19, 23, 29, 31, 37, 41, 43, 47, 53, 59, 61, 67, 71, 73, 79, 83, 89, 97]\n",
      "[2, 3, 5, 7, 11, 13, 17, 19, 23, 29, 31, 37, 41, 43, 47, 53, 59, 61, 67, 71, 73, 79, 83, 89, 97]\n",
      "[2, 3, 5, 7, 11, 13, 17, 19, 23, 29, 31, 37, 41, 43, 47, 53, 59, 61, 67, 71, 73, 79, 83, 89, 97]\n",
      "[2, 3, 5, 7, 11, 13, 17, 19, 23, 29, 31, 37, 41, 43, 47, 53, 59, 61, 67, 71, 73, 79, 83, 89, 97]\n",
      "[2, 3, 5, 7, 11, 13, 17, 19, 23, 29, 31, 37, 41, 43, 47, 53, 59, 61, 67, 71, 73, 79, 83, 89, 97]\n",
      "[2, 3, 5, 7, 11, 13, 17, 19, 23, 29, 31, 37, 41, 43, 47, 53, 59, 61, 67, 71, 73, 79, 83, 89, 97]\n",
      "[2, 3, 5, 7, 11, 13, 17, 19, 23, 29, 31, 37, 41, 43, 47, 53, 59, 61, 67, 71, 73, 79, 83, 89, 97]\n",
      "[2, 3, 5, 7, 11, 13, 17, 19, 23, 29, 31, 37, 41, 43, 47, 53, 59, 61, 67, 71, 73, 79, 83, 89, 97]\n",
      "[2, 3, 5, 7, 11, 13, 17, 19, 23, 29, 31, 37, 41, 43, 47, 53, 59, 61, 67, 71, 73, 79, 83, 89, 97]\n",
      "[2, 3, 5, 7, 11, 13, 17, 19, 23, 29, 31, 37, 41, 43, 47, 53, 59, 61, 67, 71, 73, 79, 83, 89, 97]\n",
      "[2, 3, 5, 7, 11, 13, 17, 19, 23, 29, 31, 37, 41, 43, 47, 53, 59, 61, 67, 71, 73, 79, 83, 89, 97]\n",
      "[2, 3, 5, 7, 11, 13, 17, 19, 23, 29, 31, 37, 41, 43, 47, 53, 59, 61, 67, 71, 73, 79, 83, 89, 97]\n",
      "[2, 3, 5, 7, 11, 13, 17, 19, 23, 29, 31, 37, 41, 43, 47, 53, 59, 61, 67, 71, 73, 79, 83, 89, 97]\n",
      "[2, 3, 5, 7, 11, 13, 17, 19, 23, 29, 31, 37, 41, 43, 47, 53, 59, 61, 67, 71, 73, 79, 83, 89, 97]\n",
      "[2, 3, 5, 7, 11, 13, 17, 19, 23, 29, 31, 37, 41, 43, 47, 53, 59, 61, 67, 71, 73, 79, 83, 89, 97]\n",
      "[2, 3, 5, 7, 11, 13, 17, 19, 23, 29, 31, 37, 41, 43, 47, 53, 59, 61, 67, 71, 73, 79, 83, 89, 97]\n",
      "[2, 3, 5, 7, 11, 13, 17, 19, 23, 29, 31, 37, 41, 43, 47, 53, 59, 61, 67, 71, 73, 79, 83, 89, 97]\n",
      "[2, 3, 5, 7, 11, 13, 17, 19, 23, 29, 31, 37, 41, 43, 47, 53, 59, 61, 67, 71, 73, 79, 83, 89, 97]\n",
      "[2, 3, 5, 7, 11, 13, 17, 19, 23, 29, 31, 37, 41, 43, 47, 53, 59, 61, 67, 71, 73, 79, 83, 89, 97]\n",
      "[2, 3, 5, 7, 11, 13, 17, 19, 23, 29, 31, 37, 41, 43, 47, 53, 59, 61, 67, 71, 73, 79, 83, 89, 97]\n",
      "[2, 3, 5, 7, 11, 13, 17, 19, 23, 29, 31, 37, 41, 43, 47, 53, 59, 61, 67, 71, 73, 79, 83, 89, 97]\n",
      "[2, 3, 5, 7, 11, 13, 17, 19, 23, 29, 31, 37, 41, 43, 47, 53, 59, 61, 67, 71, 73, 79, 83, 89, 97]\n",
      "[2, 3, 5, 7, 11, 13, 17, 19, 23, 29, 31, 37, 41, 43, 47, 53, 59, 61, 67, 71, 73, 79, 83, 89, 97]\n",
      "[2, 3, 5, 7, 11, 13, 17, 19, 23, 29, 31, 37, 41, 43, 47, 53, 59, 61, 67, 71, 73, 79, 83, 89, 97]\n",
      "[2, 3, 5, 7, 11, 13, 17, 19, 23, 29, 31, 37, 41, 43, 47, 53, 59, 61, 67, 71, 73, 79, 83, 89, 97]\n"
     ]
    },
    {
     "data": {
      "text/plain": [
       "tensor([ 2,  3,  5,  7, 11, 13, 17, 19, 23, 29, 31, 37, 41, 43, 47, 53, 59, 61,\n",
       "        67, 71, 73, 79, 83, 89, 97])"
      ]
     },
     "execution_count": 35,
     "metadata": {},
     "output_type": "execute_result"
    }
   ],
   "source": [
    "arr = torch.arange(2, 101)\n",
    "for item in arr:\n",
    "    mask = (arr % item != 0) | (arr == item)\n",
    "    arr = arr[mask]\n",
    "    print(arr.tolist())\n",
    "arr"
   ]
  },
  {
   "cell_type": "markdown",
   "metadata": {
    "id": "AHupFoTR1RDN"
   },
   "source": [
    "1.4.3 Найти евклидово расстояние между двумя одномерными тензорами одинаковой размерности, не используя готовые решения из библиотек."
   ]
  },
  {
   "cell_type": "markdown",
   "metadata": {},
   "source": [
    "https://ru.wikipedia.org/wiki/%D0%95%D0%B2%D0%BA%D0%BB%D0%B8%D0%B4%D0%BE%D0%B2%D0%B0_%D0%BC%D0%B5%D1%82%D1%80%D0%B8%D0%BA%D0%B0"
   ]
  },
  {
   "cell_type": "code",
   "execution_count": 36,
   "metadata": {},
   "outputs": [
    {
     "data": {
      "text/plain": [
       "9"
      ]
     },
     "execution_count": 36,
     "metadata": {},
     "output_type": "execute_result"
    }
   ],
   "source": [
    "x = torch.tensor([2, 3, 4, 5, 6, 7, 8, 9, 10])\n",
    "y = torch.tensor([1, 2, 3, 4, 5, 6, 7, 8, 9])\n",
    "\n",
    "\n",
    "res = ((x - y) ** 2).sum().item()\n",
    "res"
   ]
  },
  {
   "cell_type": "markdown",
   "metadata": {
    "id": "j-ZvjWDKDVMQ"
   },
   "source": [
    "1.4.4 Создать двумерный тензор 20 на 3, содержащий случайные целые числа от 0 до 100. \n",
    "Интерпретируя тензор как 20 векторов из 3х компонент, отсортировать его по длине векторов."
   ]
  },
  {
   "cell_type": "code",
   "execution_count": 37,
   "metadata": {},
   "outputs": [
    {
     "name": "stdout",
     "output_type": "stream",
     "text": [
      "tensor([[ 27,  52,  46],\n",
      "        [ 91,   2,  65],\n",
      "        [ 35,  19,  82],\n",
      "        [ 46,  67,  98],\n",
      "        [ 49,   0,  45],\n",
      "        [ 14,  26,  72],\n",
      "        [ 67,  85,  36],\n",
      "        [ 56,  47,  20],\n",
      "        [ 30,  49,  44],\n",
      "        [ 87,   8,  15],\n",
      "        [ 65,  80,  28],\n",
      "        [  8, 100,  44],\n",
      "        [ 52,  74,  46],\n",
      "        [ 31,  95,  62],\n",
      "        [ 54,  90,  14],\n",
      "        [ 45,  95,  18],\n",
      "        [ 45,  36,  41],\n",
      "        [ 12,  94,  20],\n",
      "        [ 45,  28,  82],\n",
      "        [ 40,  31,   8]]) \n",
      "\n",
      "mask:\n",
      " tensor([19,  4, 16,  8,  0,  7,  5,  9,  2, 17, 18, 12, 14, 15, 10, 11,  1,  6,\n",
      "        13,  3])\n"
     ]
    },
    {
     "data": {
      "text/plain": [
       "tensor([[ 40,  31,   8],\n",
       "        [ 49,   0,  45],\n",
       "        [ 45,  36,  41],\n",
       "        [ 30,  49,  44],\n",
       "        [ 27,  52,  46],\n",
       "        [ 56,  47,  20],\n",
       "        [ 14,  26,  72],\n",
       "        [ 87,   8,  15],\n",
       "        [ 35,  19,  82],\n",
       "        [ 12,  94,  20],\n",
       "        [ 45,  28,  82],\n",
       "        [ 52,  74,  46],\n",
       "        [ 54,  90,  14],\n",
       "        [ 45,  95,  18],\n",
       "        [ 65,  80,  28],\n",
       "        [  8, 100,  44],\n",
       "        [ 91,   2,  65],\n",
       "        [ 67,  85,  36],\n",
       "        [ 31,  95,  62],\n",
       "        [ 46,  67,  98]])"
      ]
     },
     "execution_count": 37,
     "metadata": {},
     "output_type": "execute_result"
    }
   ],
   "source": [
    "arr = torch.randint(0, 101, size=[20, 3])\n",
    "print(arr,\"\\n\")\n",
    "\n",
    "mask = (arr ** 2).sum(axis=1).sort().indices\n",
    "print(\"mask:\\n\",mask)\n",
    "res = arr[mask]\n",
    "res"
   ]
  },
  {
   "cell_type": "markdown",
   "metadata": {
    "id": "IkBRFTKa1RDO"
   },
   "source": [
    "1.4.5 Найти \"локальные максимумы\" в одномерном тензоре (т.е. значения, большие предыдущего и последующего) `torch.tensor([1, 3, 7, 1, 2, 6, 0, 1])` и вывести их индексы."
   ]
  },
  {
   "cell_type": "code",
   "execution_count": 38,
   "metadata": {},
   "outputs": [
    {
     "name": "stdout",
     "output_type": "stream",
     "text": [
      "tensor([ 1,  3,  7, 10,  2,  6, 10,  1])\n",
      "tensor([ 2,  4,  3, -8,  4,  4])\n",
      "tensor([-4, -3,  8, -4, -4,  9])\n",
      "tensor([3, 6])\n"
     ]
    }
   ],
   "source": [
    "arr = torch.tensor([1, 3, 7, 10, 2, 6, 10, 1])\n",
    "print(arr)\n",
    "\n",
    "a = torch.diff(arr)[:-1]\n",
    "print(a)\n",
    "b = torch.diff(arr.flip(0)).flip(0)[ 1:]\n",
    "print(b)\n",
    "\n",
    "print(((a > 0) & (b > 0)).nonzero( as_tuple= True)[0] + 1)"
   ]
  },
  {
   "cell_type": "markdown",
   "metadata": {
    "id": "VXD58rlc1RDP"
   },
   "source": [
    "1.4.6 Задан произвольный массив numpy (например массив из 100 случайных числе от 0 до 1). Необходимо найти в нем число наиболее близкое к заданному."
   ]
  },
  {
   "cell_type": "code",
   "execution_count": 39,
   "metadata": {},
   "outputs": [
    {
     "name": "stdout",
     "output_type": "stream",
     "text": [
      "tensor([0.1174, 0.5224, 0.0183, 0.2877, 0.6381, 0.8671, 0.5748, 0.8734, 0.2978,\n",
      "        0.2888, 0.0629, 0.7798, 0.3874, 0.8073, 0.5139, 0.2685, 0.0328, 0.0512,\n",
      "        0.8149, 0.5706, 0.9429, 0.7274, 0.0639, 0.7609, 0.0212, 0.5868, 0.0582,\n",
      "        0.3149, 0.2225, 0.2852, 0.6803, 0.4727, 0.9628, 0.0270, 0.1691, 0.4933,\n",
      "        0.8209, 0.9995, 0.9233, 0.1969, 0.7581, 0.1685, 0.4739, 0.4827, 0.4112,\n",
      "        0.9173, 0.8682, 0.2643, 0.2864, 0.8422, 0.6839, 0.2397, 0.4942, 0.7793,\n",
      "        0.7698, 0.5843, 0.4547, 0.5556, 0.2181, 0.1443, 0.8989, 0.5051, 0.6509,\n",
      "        0.4989, 0.6102, 0.6303, 0.7442, 0.3554, 0.2672, 0.9385, 0.1699, 0.6764,\n",
      "        0.5496, 0.2723, 0.1588, 0.8971, 0.4735, 0.5531, 0.2371, 0.7153, 0.9682,\n",
      "        0.9570, 0.2809, 0.8978, 0.7568, 0.5973, 0.3620, 0.1723, 0.6158, 0.2254,\n",
      "        0.6374, 0.1589, 0.5775, 0.4469, 0.7854, 0.6354, 0.2032, 0.7851, 0.4222,\n",
      "        0.2668])\n",
      "0.52\n",
      "tensor(0.5224)\n"
     ]
    }
   ],
   "source": [
    "arr =  torch.rand(100)\n",
    "print(arr)\n",
    "a = 0.52\n",
    "print(a)\n",
    "index = (np.abs(arr-a)).argmin()\n",
    "print(arr[index])"
   ]
  },
  {
   "cell_type": "markdown",
   "metadata": {
    "id": "81F_B2ij1RDP"
   },
   "source": [
    "1.4.7 Решить матричное уравнение `A*X*B=-C` - найти матрицу X. Где `A = [[-1, 2, 4], [-3, 1, 2], [-3, 0, 1]]`, `B=[[3, -1], [2, 1]]`, `C=[[7, 21], [11, 8], [8, 4]]`."
   ]
  },
  {
   "cell_type": "code",
   "execution_count": 40,
   "metadata": {},
   "outputs": [
    {
     "name": "stdout",
     "output_type": "stream",
     "text": [
      "tensor([[-1., -0.],\n",
      "        [ 2., -1.],\n",
      "        [-3.,  4.]])\n"
     ]
    }
   ],
   "source": [
    "A = torch.tensor([[-1., 2, 4], [-3, 1, 2], [-3, 0, 1]])\n",
    "B = torch.tensor([[3., -1], [2, 1]])\n",
    "C = torch.tensor([[7., 21], [11, 8], [8, 4]])\n",
    "#Тут по свойству матриц работаем https://thecode.media/obratnaya-matritsa/\n",
    "print((torch.inverse(A) @ C @ torch.inverse(B)).round())"
   ]
  },
  {
   "cell_type": "markdown",
   "metadata": {
    "id": "1P7O19bj1RDP"
   },
   "source": [
    "1.4.8 Проверить, является ли система векторов a1 = (3; −3; 0; 7),\n",
    "a2 = (2; 2; 4; 7), a3 = (1; 2; 3; 4), a4 = (5; −4; 1; 3) линейно зависимой?"
   ]
  },
  {
   "cell_type": "markdown",
   "metadata": {},
   "source": [
    "Система векторов является линейно зависимой тогда и только тогда, когда в ней найдется вектор, который линейно выражается через остальные векторы этой системы"
   ]
  },
  {
   "cell_type": "code",
   "execution_count": 41,
   "metadata": {},
   "outputs": [
    {
     "data": {
      "text/plain": [
       "'Вектора линейно зависимы'"
      ]
     },
     "execution_count": 41,
     "metadata": {},
     "output_type": "execute_result"
    }
   ],
   "source": [
    "res_dict = {0: \"Вектора линейно зависимы\", 1: \"Вектора линейно независимы\"}\n",
    "a1 = [3., -3, 0, 7]\n",
    "a2 = [2, 2, 4, 7]\n",
    "a3 = [1, 2, 3, 4]\n",
    "a4 = [5, -4, 1, 3]\n",
    "\n",
    "res = torch.tensor([a1, a2, a3, a4])\n",
    "res_dict[int(res.det().round().tolist())]"
   ]
  },
  {
   "cell_type": "markdown",
   "metadata": {},
   "source": [
    "https://lms2.sseu.ru/courses/eresmat/course1/razd8z1/par8_5z1.htm<br>\n",
    "https://ru.onlinemschool.com/math/library/vector/linear-independence/"
   ]
  },
  {
   "cell_type": "code",
   "execution_count": 42,
   "metadata": {},
   "outputs": [
    {
     "data": {
      "text/plain": [
       "'Вектора линейно зависимы'"
      ]
     },
     "execution_count": 42,
     "metadata": {},
     "output_type": "execute_result"
    }
   ],
   "source": [
    "a1 = [1.,1.,1.]\n",
    "a2 = [1.,2.,0.]\n",
    "a3 = [0.,-1.,1.]\n",
    "\n",
    "res = torch.tensor([a1, a2, a3])\n",
    "res_dict[int(res.det().round().tolist())]"
   ]
  },
  {
   "cell_type": "code",
   "execution_count": 43,
   "metadata": {},
   "outputs": [
    {
     "data": {
      "text/plain": [
       "'Вектора линейно независимы'"
      ]
     },
     "execution_count": 43,
     "metadata": {},
     "output_type": "execute_result"
    }
   ],
   "source": [
    "a1 = [1.,1.,1.]\n",
    "a2 = [1.,2.,0.]\n",
    "a3 = [0.,-1.,2.]\n",
    "\n",
    "res = torch.tensor([a1, a2, a3])\n",
    "res_dict[int(res.det().round().tolist())]"
   ]
  },
  {
   "cell_type": "code",
   "execution_count": null,
   "metadata": {},
   "outputs": [],
   "source": []
  }
 ],
 "metadata": {
  "colab": {
   "name": "01_tensor_v1_blank.ipynb",
   "provenance": [],
   "toc_visible": true
  },
  "kernelspec": {
   "display_name": "Python 3 (ipykernel)",
   "language": "python",
   "name": "python3"
  },
  "language_info": {
   "codemirror_mode": {
    "name": "ipython",
    "version": 3
   },
   "file_extension": ".py",
   "mimetype": "text/x-python",
   "name": "python",
   "nbconvert_exporter": "python",
   "pygments_lexer": "ipython3",
   "version": "3.8.13"
  }
 },
 "nbformat": 4,
 "nbformat_minor": 1
}

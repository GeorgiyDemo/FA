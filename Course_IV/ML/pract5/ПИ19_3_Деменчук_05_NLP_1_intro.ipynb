{
 "cells": [
  {
   "cell_type": "markdown",
   "metadata": {},
   "source": [
    "ПИ19-3 Деменчук Георгий<br>Практическая работа №5"
   ]
  },
  {
   "cell_type": "markdown",
   "metadata": {},
   "source": [
    "# 5. Классификация текстов при помощи сетей прямого распространения\n",
    "\n",
    "__Автор__: Никита Владимирович Блохин (NVBlokhin@fa.ru)\n",
    "\n",
    "Финансовый университет, 2020 г. "
   ]
  },
  {
   "cell_type": "markdown",
   "metadata": {
    "id": "jqDHq_AEjRZ1"
   },
   "source": [
    "## 1. Представление и предобработка текстовых данных "
   ]
  },
  {
   "cell_type": "markdown",
   "metadata": {
    "id": "vaki7efDpmXo"
   },
   "source": [
    "1.1 Операции по предобработке:\n",
    "* токенизация\n",
    "* стемминг / лемматизация\n",
    "* удаление стоп-слов\n",
    "* удаление пунктуации\n",
    "* приведение к нижнему регистру\n",
    "* любые другие операции над текстом"
   ]
  },
  {
   "cell_type": "code",
   "execution_count": 1,
   "metadata": {
    "id": "nHRy4jpYphEr"
   },
   "outputs": [],
   "source": [
    "from nltk.tokenize import word_tokenize, sent_tokenize\n",
    "from nltk.stem.snowball import SnowballStemmer\n",
    "import re\n",
    "import string\n",
    "\n",
    "import torch\n",
    "import nltk\n",
    "from nltk.corpus import stopwords, wordnet"
   ]
  },
  {
   "cell_type": "code",
   "execution_count": 2,
   "metadata": {
    "id": "lMMzGhq0ikz1"
   },
   "outputs": [],
   "source": [
    "text = 'Select your preferences and run the install command. Stable represents the most currently tested and supported version of PyTorch. Note that LibTorch is only available for C++'"
   ]
  },
  {
   "cell_type": "markdown",
   "metadata": {
    "id": "bUhfertRtXE5"
   },
   "source": [
    "Реализовать функцию `preprocess_text(text: str) -> str`, которая:\n",
    "* приводит строку к нижнему регистру\n",
    "* заменяет все символы, кроме a-z, A-Z и знаков .,!? на пробел\n"
   ]
  },
  {
   "cell_type": "code",
   "execution_count": 3,
   "metadata": {},
   "outputs": [],
   "source": [
    "punctuation = set(string.punctuation)\n",
    "stop_words = set(stopwords.words(\"english\"))\n",
    "lemmatizer = nltk.WordNetLemmatizer()"
   ]
  },
  {
   "cell_type": "code",
   "execution_count": 4,
   "metadata": {},
   "outputs": [],
   "source": [
    "#Функция для трансляции имен с nltk в wordnet\n",
    "def custom_pos(word: str) -> str:\n",
    "    tag = nltk.pos_tag([word])[0][1]\n",
    "    \n",
    "    tags_router = {\n",
    "     'CD': wordnet.NOUN,\n",
    "     'JJ': wordnet.ADJ, \n",
    "     'JJS': wordnet.ADJ, \n",
    "     'MD' : wordnet.NOUN,\n",
    "     'NN': wordnet.NOUN,\n",
    "     'NNS': wordnet.NOUN,\n",
    "     'RB': wordnet.ADV,\n",
    "     'VB' : wordnet.VERB,\n",
    "     'VBD': wordnet.VERB,\n",
    "     'VBG': wordnet.VERB,\n",
    "     'VBN': wordnet.VERB,\n",
    "     'VBZ': wordnet.VERB,\n",
    "    }\n",
    "    \n",
    "    return tags_router.get(tag, wordnet.NOUN)"
   ]
  },
  {
   "cell_type": "code",
   "execution_count": 5,
   "metadata": {},
   "outputs": [],
   "source": [
    "def preprocess_text(text: str) -> str:\n",
    "    re_pattern = r'[^a-zA-Z0-9.,!?\\s]'\n",
    "    text = text.lower()\n",
    "    items = re.sub(string = text, pattern = re_pattern, repl = '')\n",
    "    \n",
    "    #Как по мне, все условия задания уже выполняются, но вроде как говорили о том, что надо еще лемму использовать\n",
    "    sentences = []\n",
    "    for sentence in nltk.sent_tokenize(text):\n",
    "        words = []\n",
    "        for word in nltk.word_tokenize(sentence):\n",
    "            if word not in stop_words and word not in punctuation:\n",
    "                lemma = lemmatizer.lemmatize(word, pos=custom_pos(word))\n",
    "                words.append(lemma)\n",
    "        sentences.append(\" \".join(words))\n",
    "    text = \". \".join(sentences)\n",
    "    return text"
   ]
  },
  {
   "cell_type": "code",
   "execution_count": 6,
   "metadata": {},
   "outputs": [
    {
     "data": {
      "text/plain": [
       "'select preference run install command. stable represent currently test support version pytorch. note libtorch available c++'"
      ]
     },
     "execution_count": 6,
     "metadata": {},
     "output_type": "execute_result"
    }
   ],
   "source": [
    "preprocess_text(text)"
   ]
  },
  {
   "cell_type": "code",
   "execution_count": 7,
   "metadata": {},
   "outputs": [
    {
     "data": {
      "text/plain": [
       "'ploho молчат дома по краю острова 2019'"
      ]
     },
     "execution_count": 7,
     "metadata": {},
     "output_type": "execute_result"
    }
   ],
   "source": [
    "preprocess_text(\"Ploho & Молчат дома - По краю острова [2019].\")"
   ]
  },
  {
   "cell_type": "markdown",
   "metadata": {
    "id": "Z2Dt1ssIqckC"
   },
   "source": [
    "1.2 Представление текстовых данных при помощи бинарного кодирования\n",
    "\n",
    "\n",
    "Представить первое предложение из `text` в виде тензора `sentence_t`: `sentence_t[i] == 1`, если __слово__ с индексом `i` присуствует в предложении."
   ]
  },
  {
   "cell_type": "code",
   "execution_count": 8,
   "metadata": {},
   "outputs": [
    {
     "data": {
      "text/plain": [
       "'select preference run install command. stable represent currently test support version pytorch. note libtorch available c++'"
      ]
     },
     "execution_count": 8,
     "metadata": {},
     "output_type": "execute_result"
    }
   ],
   "source": [
    "processed_item = preprocess_text(text)\n",
    "processed_item"
   ]
  },
  {
   "cell_type": "code",
   "execution_count": 9,
   "metadata": {},
   "outputs": [
    {
     "data": {
      "text/plain": [
       "['represent',\n",
       " 'pytorch',\n",
       " 'run',\n",
       " 'libtorch',\n",
       " 'select',\n",
       " 'test',\n",
       " 'preference',\n",
       " 'note',\n",
       " 'support',\n",
       " 'stable',\n",
       " 'command',\n",
       " 'c++',\n",
       " 'currently',\n",
       " 'available',\n",
       " 'install',\n",
       " '.',\n",
       " 'version']"
      ]
     },
     "execution_count": 9,
     "metadata": {},
     "output_type": "execute_result"
    }
   ],
   "source": [
    "#Получаем все слова для нашего алфавита\n",
    "alphabet = list(set(nltk.word_tokenize(processed_item)) | set(\".\")) \n",
    "alphabet"
   ]
  },
  {
   "cell_type": "code",
   "execution_count": 10,
   "metadata": {},
   "outputs": [
    {
     "data": {
      "text/plain": [
       "{'represent': 0,\n",
       " 'pytorch': 1,\n",
       " 'run': 2,\n",
       " 'libtorch': 3,\n",
       " 'select': 4,\n",
       " 'test': 5,\n",
       " 'preference': 6,\n",
       " 'note': 7,\n",
       " 'support': 8,\n",
       " 'stable': 9,\n",
       " 'command': 10,\n",
       " 'c++': 11,\n",
       " 'currently': 12,\n",
       " 'available': 13,\n",
       " 'install': 14,\n",
       " '.': 15,\n",
       " 'version': 16}"
      ]
     },
     "execution_count": 10,
     "metadata": {},
     "output_type": "execute_result"
    }
   ],
   "source": [
    "word_to_idx = {word: i for i, word in enumerate(alphabet)}\n",
    "word_to_idx"
   ]
  },
  {
   "cell_type": "code",
   "execution_count": 11,
   "metadata": {},
   "outputs": [
    {
     "data": {
      "text/plain": [
       "'select preference run install command.'"
      ]
     },
     "execution_count": 11,
     "metadata": {},
     "output_type": "execute_result"
    }
   ],
   "source": [
    "#Берем только первое предложение\n",
    "sentence = nltk.sent_tokenize(processed_item)[0]\n",
    "sentence"
   ]
  },
  {
   "cell_type": "code",
   "execution_count": 12,
   "metadata": {},
   "outputs": [
    {
     "data": {
      "text/plain": [
       "tensor([0., 0., 0., 0., 0., 0., 0., 0., 0., 0., 0., 0., 0., 0., 0., 0., 0.])"
      ]
     },
     "execution_count": 12,
     "metadata": {},
     "output_type": "execute_result"
    }
   ],
   "source": [
    "#Заполняем тензор нулями на длинну нашего алфавита\n",
    "res_tensor = torch.zeros(len(alphabet))\n",
    "res_tensor"
   ]
  },
  {
   "cell_type": "code",
   "execution_count": 13,
   "metadata": {},
   "outputs": [
    {
     "data": {
      "text/plain": [
       "[4, 6, 2, 14, 10, 15]"
      ]
     },
     "execution_count": 13,
     "metadata": {},
     "output_type": "execute_result"
    }
   ],
   "source": [
    "#Получаем индекы распознанных слов\n",
    "word_indices = [word_to_idx[w] for w in nltk.word_tokenize(sentence)]\n",
    "word_indices"
   ]
  },
  {
   "cell_type": "code",
   "execution_count": 14,
   "metadata": {},
   "outputs": [
    {
     "data": {
      "text/plain": [
       "tensor([0., 0., 1., 0., 1., 0., 1., 0., 0., 0., 1., 0., 0., 0., 1., 1., 0.])"
      ]
     },
     "execution_count": 14,
     "metadata": {},
     "output_type": "execute_result"
    }
   ],
   "source": [
    "#Где есть индексы - проставляем 1 и \n",
    "res_tensor[word_indices] = 1\n",
    "res_tensor"
   ]
  },
  {
   "cell_type": "markdown",
   "metadata": {
    "id": "P2Nz_zcgw3N4"
   },
   "source": [
    "## 2. Классификация фамилий по национальности\n",
    "\n",
    "Датасет: https://disk.yandex.ru/d/owHew8hzPc7X9Q?w=1\n",
    "\n",
    "2.1 Считать файл `surnames/surnames.csv`. \n",
    "\n",
    "2.2 Закодировать национальности числами, начиная с 0.\n",
    "\n",
    "2.3 Разбить датасет на обучающую и тестовую выборку\n",
    "\n",
    "2.4 Реализовать класс `Vocab` (токен = __символ__)\n",
    "\n",
    "2.5 Реализовать класс `SurnamesDataset`\n",
    "\n",
    "2.6. Обучить классификатор.\n",
    "\n",
    "2.7 Измерить точность на тестовой выборке. Проверить работоспособность модели: прогнать несколько фамилий студентов группы через модели и проверить результат. Для каждой фамилии выводить 3 наиболее вероятных предсказания."
   ]
  },
  {
   "cell_type": "markdown",
   "metadata": {},
   "source": [
    "2.1 Считать файл `surnames/surnames.csv`."
   ]
  },
  {
   "cell_type": "code",
   "execution_count": 15,
   "metadata": {},
   "outputs": [
    {
     "data": {
      "text/html": [
       "<div>\n",
       "<style scoped>\n",
       "    .dataframe tbody tr th:only-of-type {\n",
       "        vertical-align: middle;\n",
       "    }\n",
       "\n",
       "    .dataframe tbody tr th {\n",
       "        vertical-align: top;\n",
       "    }\n",
       "\n",
       "    .dataframe thead th {\n",
       "        text-align: right;\n",
       "    }\n",
       "</style>\n",
       "<table border=\"1\" class=\"dataframe\">\n",
       "  <thead>\n",
       "    <tr style=\"text-align: right;\">\n",
       "      <th></th>\n",
       "      <th>surname</th>\n",
       "      <th>nationality</th>\n",
       "    </tr>\n",
       "  </thead>\n",
       "  <tbody>\n",
       "    <tr>\n",
       "      <th>0</th>\n",
       "      <td>Woodford</td>\n",
       "      <td>English</td>\n",
       "    </tr>\n",
       "    <tr>\n",
       "      <th>1</th>\n",
       "      <td>Coté</td>\n",
       "      <td>French</td>\n",
       "    </tr>\n",
       "    <tr>\n",
       "      <th>2</th>\n",
       "      <td>Kore</td>\n",
       "      <td>English</td>\n",
       "    </tr>\n",
       "    <tr>\n",
       "      <th>3</th>\n",
       "      <td>Koury</td>\n",
       "      <td>Arabic</td>\n",
       "    </tr>\n",
       "    <tr>\n",
       "      <th>4</th>\n",
       "      <td>Lebzak</td>\n",
       "      <td>Russian</td>\n",
       "    </tr>\n",
       "    <tr>\n",
       "      <th>...</th>\n",
       "      <td>...</td>\n",
       "      <td>...</td>\n",
       "    </tr>\n",
       "    <tr>\n",
       "      <th>10975</th>\n",
       "      <td>Quraishi</td>\n",
       "      <td>Arabic</td>\n",
       "    </tr>\n",
       "    <tr>\n",
       "      <th>10976</th>\n",
       "      <td>Innalls</td>\n",
       "      <td>English</td>\n",
       "    </tr>\n",
       "    <tr>\n",
       "      <th>10977</th>\n",
       "      <td>Król</td>\n",
       "      <td>Polish</td>\n",
       "    </tr>\n",
       "    <tr>\n",
       "      <th>10978</th>\n",
       "      <td>Purvis</td>\n",
       "      <td>English</td>\n",
       "    </tr>\n",
       "    <tr>\n",
       "      <th>10979</th>\n",
       "      <td>Messerli</td>\n",
       "      <td>German</td>\n",
       "    </tr>\n",
       "  </tbody>\n",
       "</table>\n",
       "<p>10980 rows × 2 columns</p>\n",
       "</div>"
      ],
      "text/plain": [
       "        surname nationality\n",
       "0      Woodford     English\n",
       "1          Coté      French\n",
       "2          Kore     English\n",
       "3         Koury      Arabic\n",
       "4        Lebzak     Russian\n",
       "...         ...         ...\n",
       "10975  Quraishi      Arabic\n",
       "10976   Innalls     English\n",
       "10977      Król      Polish\n",
       "10978    Purvis     English\n",
       "10979  Messerli      German\n",
       "\n",
       "[10980 rows x 2 columns]"
      ]
     },
     "execution_count": 15,
     "metadata": {},
     "output_type": "execute_result"
    }
   ],
   "source": [
    "import pandas as pd\n",
    "df = pd.read_csv(\"./data/surnames.csv\")\n",
    "df"
   ]
  },
  {
   "cell_type": "markdown",
   "metadata": {},
   "source": [
    "2.2 Закодировать национальности числами, начиная с 0."
   ]
  },
  {
   "cell_type": "code",
   "execution_count": 16,
   "metadata": {},
   "outputs": [
    {
     "data": {
      "text/plain": [
       "array(['English', 'French', 'Arabic', 'Russian', 'Japanese', 'Chinese',\n",
       "       'Italian', 'Czech', 'Irish', 'German', 'Greek', 'Spanish',\n",
       "       'Polish', 'Dutch', 'Vietnamese', 'Korean', 'Portuguese',\n",
       "       'Scottish'], dtype=object)"
      ]
     },
     "execution_count": 16,
     "metadata": {},
     "output_type": "execute_result"
    }
   ],
   "source": [
    "nationalities = df[\"nationality\"].unique()\n",
    "nationalities"
   ]
  },
  {
   "cell_type": "code",
   "execution_count": 17,
   "metadata": {},
   "outputs": [
    {
     "data": {
      "text/plain": [
       "{'English': 0,\n",
       " 'French': 1,\n",
       " 'Arabic': 2,\n",
       " 'Russian': 3,\n",
       " 'Japanese': 4,\n",
       " 'Chinese': 5,\n",
       " 'Italian': 6,\n",
       " 'Czech': 7,\n",
       " 'Irish': 8,\n",
       " 'German': 9,\n",
       " 'Greek': 10,\n",
       " 'Spanish': 11,\n",
       " 'Polish': 12,\n",
       " 'Dutch': 13,\n",
       " 'Vietnamese': 14,\n",
       " 'Korean': 15,\n",
       " 'Portuguese': 16,\n",
       " 'Scottish': 17}"
      ]
     },
     "execution_count": 17,
     "metadata": {},
     "output_type": "execute_result"
    }
   ],
   "source": [
    "vocab_nat = {item: number for number, item in enumerate(nationalities)}\n",
    "vocab_nat"
   ]
  },
  {
   "cell_type": "code",
   "execution_count": 18,
   "metadata": {},
   "outputs": [
    {
     "data": {
      "text/plain": [
       "{0: 'English',\n",
       " 1: 'French',\n",
       " 2: 'Arabic',\n",
       " 3: 'Russian',\n",
       " 4: 'Japanese',\n",
       " 5: 'Chinese',\n",
       " 6: 'Italian',\n",
       " 7: 'Czech',\n",
       " 8: 'Irish',\n",
       " 9: 'German',\n",
       " 10: 'Greek',\n",
       " 11: 'Spanish',\n",
       " 12: 'Polish',\n",
       " 13: 'Dutch',\n",
       " 14: 'Vietnamese',\n",
       " 15: 'Korean',\n",
       " 16: 'Portuguese',\n",
       " 17: 'Scottish'}"
      ]
     },
     "execution_count": 18,
     "metadata": {},
     "output_type": "execute_result"
    }
   ],
   "source": [
    "reverse_nat = {number: item for number, item in enumerate(nationalities)}\n",
    "reverse_nat"
   ]
  },
  {
   "cell_type": "code",
   "execution_count": 19,
   "metadata": {},
   "outputs": [
    {
     "data": {
      "text/html": [
       "<div>\n",
       "<style scoped>\n",
       "    .dataframe tbody tr th:only-of-type {\n",
       "        vertical-align: middle;\n",
       "    }\n",
       "\n",
       "    .dataframe tbody tr th {\n",
       "        vertical-align: top;\n",
       "    }\n",
       "\n",
       "    .dataframe thead th {\n",
       "        text-align: right;\n",
       "    }\n",
       "</style>\n",
       "<table border=\"1\" class=\"dataframe\">\n",
       "  <thead>\n",
       "    <tr style=\"text-align: right;\">\n",
       "      <th></th>\n",
       "      <th>surname</th>\n",
       "      <th>nationality</th>\n",
       "      <th>label</th>\n",
       "    </tr>\n",
       "  </thead>\n",
       "  <tbody>\n",
       "    <tr>\n",
       "      <th>0</th>\n",
       "      <td>Woodford</td>\n",
       "      <td>English</td>\n",
       "      <td>0</td>\n",
       "    </tr>\n",
       "    <tr>\n",
       "      <th>1</th>\n",
       "      <td>Coté</td>\n",
       "      <td>French</td>\n",
       "      <td>1</td>\n",
       "    </tr>\n",
       "    <tr>\n",
       "      <th>2</th>\n",
       "      <td>Kore</td>\n",
       "      <td>English</td>\n",
       "      <td>0</td>\n",
       "    </tr>\n",
       "    <tr>\n",
       "      <th>3</th>\n",
       "      <td>Koury</td>\n",
       "      <td>Arabic</td>\n",
       "      <td>2</td>\n",
       "    </tr>\n",
       "    <tr>\n",
       "      <th>4</th>\n",
       "      <td>Lebzak</td>\n",
       "      <td>Russian</td>\n",
       "      <td>3</td>\n",
       "    </tr>\n",
       "    <tr>\n",
       "      <th>...</th>\n",
       "      <td>...</td>\n",
       "      <td>...</td>\n",
       "      <td>...</td>\n",
       "    </tr>\n",
       "    <tr>\n",
       "      <th>10975</th>\n",
       "      <td>Quraishi</td>\n",
       "      <td>Arabic</td>\n",
       "      <td>2</td>\n",
       "    </tr>\n",
       "    <tr>\n",
       "      <th>10976</th>\n",
       "      <td>Innalls</td>\n",
       "      <td>English</td>\n",
       "      <td>0</td>\n",
       "    </tr>\n",
       "    <tr>\n",
       "      <th>10977</th>\n",
       "      <td>Król</td>\n",
       "      <td>Polish</td>\n",
       "      <td>12</td>\n",
       "    </tr>\n",
       "    <tr>\n",
       "      <th>10978</th>\n",
       "      <td>Purvis</td>\n",
       "      <td>English</td>\n",
       "      <td>0</td>\n",
       "    </tr>\n",
       "    <tr>\n",
       "      <th>10979</th>\n",
       "      <td>Messerli</td>\n",
       "      <td>German</td>\n",
       "      <td>9</td>\n",
       "    </tr>\n",
       "  </tbody>\n",
       "</table>\n",
       "<p>10980 rows × 3 columns</p>\n",
       "</div>"
      ],
      "text/plain": [
       "        surname nationality  label\n",
       "0      Woodford     English      0\n",
       "1          Coté      French      1\n",
       "2          Kore     English      0\n",
       "3         Koury      Arabic      2\n",
       "4        Lebzak     Russian      3\n",
       "...         ...         ...    ...\n",
       "10975  Quraishi      Arabic      2\n",
       "10976   Innalls     English      0\n",
       "10977      Król      Polish     12\n",
       "10978    Purvis     English      0\n",
       "10979  Messerli      German      9\n",
       "\n",
       "[10980 rows x 3 columns]"
      ]
     },
     "execution_count": 19,
     "metadata": {},
     "output_type": "execute_result"
    }
   ],
   "source": [
    "df[\"label\"] = df[\"nationality\"].map(vocab_nat)\n",
    "df"
   ]
  },
  {
   "cell_type": "code",
   "execution_count": 20,
   "metadata": {},
   "outputs": [
    {
     "data": {
      "text/plain": [
       "tensor([ 0,  1,  0,  ..., 12,  0,  9])"
      ]
     },
     "execution_count": 20,
     "metadata": {},
     "output_type": "execute_result"
    }
   ],
   "source": [
    "targets=torch.tensor(df[\"label\"], dtype=torch.long)\n",
    "targets"
   ]
  },
  {
   "cell_type": "markdown",
   "metadata": {},
   "source": [
    "2.4 Реализовать класс `Vocab` (токен = __символ__)"
   ]
  },
  {
   "cell_type": "code",
   "execution_count": 21,
   "metadata": {
    "id": "kUkSZkDqxNYS"
   },
   "outputs": [],
   "source": [
    "#Класс, который поможет нам с переводом национальностей в цифры\n",
    "class Vocab:\n",
    "    \n",
    "    def __init__(self, data):\n",
    "        \n",
    "        self.idx_to_token = {}\n",
    "        self.token_to_idx = {}\n",
    "        self.gennerate_vocab(data)\n",
    "        self.vocab_len = len(self.token_to_idx)\n",
    "    \n",
    "    \n",
    "    def add_token(self, token):\n",
    "        if token not in self.token_to_idx:\n",
    "            self.token_to_idx[token] = len(self.token_to_idx)\n",
    "            self.idx_to_token[len(self.idx_to_token)] = token\n",
    "            \n",
    "    def gennerate_vocab(self, data):\n",
    "        for surname in data:\n",
    "            for char in preprocess_text(surname):\n",
    "                self.add_token(char)"
   ]
  },
  {
   "cell_type": "code",
   "execution_count": 22,
   "metadata": {},
   "outputs": [
    {
     "data": {
      "text/plain": [
       "array(['Woodford', 'Coté', 'Kore', ..., 'Król', 'Purvis', 'Messerli'],\n",
       "      dtype='<U17')"
      ]
     },
     "execution_count": 22,
     "metadata": {},
     "output_type": "execute_result"
    }
   ],
   "source": [
    "data = df[\"surname\"].unique().astype('str')\n",
    "data"
   ]
  },
  {
   "cell_type": "code",
   "execution_count": 23,
   "metadata": {},
   "outputs": [
    {
     "data": {
      "text/plain": [
       "{0: 'w',\n",
       " 1: 'o',\n",
       " 2: 'd',\n",
       " 3: 'f',\n",
       " 4: 'r',\n",
       " 5: 'c',\n",
       " 6: 't',\n",
       " 7: 'é',\n",
       " 8: 'k',\n",
       " 9: 'e',\n",
       " 10: 'u',\n",
       " 11: 'y',\n",
       " 12: 'l',\n",
       " 13: 'b',\n",
       " 14: 'z',\n",
       " 15: 'a',\n",
       " 16: 'i',\n",
       " 17: 'n',\n",
       " 18: 'h',\n",
       " 19: 'm',\n",
       " 20: 's',\n",
       " 21: 'v',\n",
       " 22: 'p',\n",
       " 23: 'g',\n",
       " 24: 'j',\n",
       " 25: \"'\",\n",
       " 26: 'q',\n",
       " 27: 'à',\n",
       " 28: 'x',\n",
       " 29: 'ü',\n",
       " 30: '-',\n",
       " 31: 'í',\n",
       " 32: 'ú',\n",
       " 33: 'ä',\n",
       " 34: 'ö',\n",
       " 35: 'ó',\n",
       " 36: '1',\n",
       " 37: 'ò',\n",
       " 38: 'ñ',\n",
       " 39: 'ż',\n",
       " 40: 'ß',\n",
       " 41: 'á',\n",
       " 42: 'è',\n",
       " 43: 'ã',\n",
       " 44: 'ê',\n",
       " 45: 'ì',\n",
       " 46: 'ś',\n",
       " 47: 'ń',\n",
       " 48: 'ù',\n",
       " 49: 'ç',\n",
       " 50: '/',\n",
       " 51: 'õ',\n",
       " 52: 'ą',\n",
       " 53: 'ł'}"
      ]
     },
     "execution_count": 23,
     "metadata": {},
     "output_type": "execute_result"
    }
   ],
   "source": [
    "vocab = Vocab(data)\n",
    "vocab.idx_to_token"
   ]
  },
  {
   "cell_type": "code",
   "execution_count": 24,
   "metadata": {},
   "outputs": [
    {
     "data": {
      "text/plain": [
       "{'w': 0,\n",
       " 'o': 1,\n",
       " 'd': 2,\n",
       " 'f': 3,\n",
       " 'r': 4,\n",
       " 'c': 5,\n",
       " 't': 6,\n",
       " 'é': 7,\n",
       " 'k': 8,\n",
       " 'e': 9,\n",
       " 'u': 10,\n",
       " 'y': 11,\n",
       " 'l': 12,\n",
       " 'b': 13,\n",
       " 'z': 14,\n",
       " 'a': 15,\n",
       " 'i': 16,\n",
       " 'n': 17,\n",
       " 'h': 18,\n",
       " 'm': 19,\n",
       " 's': 20,\n",
       " 'v': 21,\n",
       " 'p': 22,\n",
       " 'g': 23,\n",
       " 'j': 24,\n",
       " \"'\": 25,\n",
       " 'q': 26,\n",
       " 'à': 27,\n",
       " 'x': 28,\n",
       " 'ü': 29,\n",
       " '-': 30,\n",
       " 'í': 31,\n",
       " 'ú': 32,\n",
       " 'ä': 33,\n",
       " 'ö': 34,\n",
       " 'ó': 35,\n",
       " '1': 36,\n",
       " 'ò': 37,\n",
       " 'ñ': 38,\n",
       " 'ż': 39,\n",
       " 'ß': 40,\n",
       " 'á': 41,\n",
       " 'è': 42,\n",
       " 'ã': 43,\n",
       " 'ê': 44,\n",
       " 'ì': 45,\n",
       " 'ś': 46,\n",
       " 'ń': 47,\n",
       " 'ù': 48,\n",
       " 'ç': 49,\n",
       " '/': 50,\n",
       " 'õ': 51,\n",
       " 'ą': 52,\n",
       " 'ł': 53}"
      ]
     },
     "execution_count": 24,
     "metadata": {},
     "output_type": "execute_result"
    }
   ],
   "source": [
    "vocab.token_to_idx"
   ]
  },
  {
   "cell_type": "markdown",
   "metadata": {},
   "source": [
    "2.5 Реализовать класс SurnamesDataset"
   ]
  },
  {
   "cell_type": "code",
   "execution_count": 25,
   "metadata": {},
   "outputs": [],
   "source": [
    "from torch.utils.data import Dataset, DataLoader, random_split"
   ]
  },
  {
   "cell_type": "code",
   "execution_count": 26,
   "metadata": {
    "colab": {
     "base_uri": "https://localhost:8080/",
     "height": 229
    },
    "executionInfo": {
     "elapsed": 1303,
     "status": "error",
     "timestamp": 1619117849212,
     "user": {
      "displayName": "Никита Блохин",
      "photoUrl": "",
      "userId": "16402972581398673009"
     },
     "user_tz": -180
    },
    "id": "WCaRK1QHxe0A",
    "outputId": "5d1243af-d0dd-4922-9468-9618f5df4605",
    "scrolled": true
   },
   "outputs": [],
   "source": [
    "class SurnamesDataset(Dataset):\n",
    "    def __init__(self, X, y, vocab: Vocab):\n",
    "        self.X = X\n",
    "        self.y = y\n",
    "        self.vocab = vocab\n",
    "        \n",
    "    def vectorize(self, surname):\n",
    "        '''Генерирует представление фамилии surname в при помощи бинарного кодирования (см. 1.2)'''\n",
    "        #Векторизируем с помощь вокаба, выдает вектор, которым будет закодирована фамилия'\n",
    "        repr = torch.zeros(self.vocab.vocab_len)\n",
    "        for char in preprocess_text(surname):\n",
    "            idx = self.vocab.token_to_idx[char]\n",
    "            repr[idx] = 1\n",
    "        return repr\n",
    "    \n",
    "    def __getitem__(self, idx) -> tuple:\n",
    "        return self.vectorize(self.X[idx]), targets[idx]\n",
    "    \n",
    "    def __len__(self) -> int:\n",
    "        return len(self.X)\n",
    "    \n",
    "    def __str__(self) -> str:\n",
    "        return f\"SurnamesDataset with {self.__len__()} items\"\n",
    "    \n",
    "    def y_len(self) -> int:\n",
    "        return self.y.unique().shape[0]\n",
    "        \n"
   ]
  },
  {
   "cell_type": "markdown",
   "metadata": {},
   "source": [
    "2.3 Разбить датасет на обучающую и тестовую выборку"
   ]
  },
  {
   "cell_type": "code",
   "execution_count": 27,
   "metadata": {},
   "outputs": [
    {
     "name": "stdout",
     "output_type": "stream",
     "text": [
      "SurnamesDataset with 10980 items\n",
      "train_size : 8784\n",
      "test_size : 2196\n"
     ]
    }
   ],
   "source": [
    "import torch\n",
    "\n",
    "dataset = SurnamesDataset(\n",
    "    df[\"surname\"].tolist(),\n",
    "    torch.tensor(df[\"label\"], dtype=torch.long),\n",
    "    vocab,\n",
    ")\n",
    "\n",
    "\n",
    "print(dataset)\n",
    "\n",
    "\n",
    "train_size = int(len(dataset)*0.8)\n",
    "test_size = len(dataset) - train_size\n",
    "train_dataset, test_dataset = random_split(dataset, [train_size, test_size])\n",
    "\n",
    "trainloader = torch.utils.data.DataLoader(train_dataset, batch_size = 32, shuffle = True, pin_memory=True)\n",
    "testloader = torch.utils.data.DataLoader(test_dataset, batch_size = 1, pin_memory = True)\n",
    "\n",
    "print(f\"train_size : {train_size}\")\n",
    "print(f\"test_size : {test_size}\")"
   ]
  },
  {
   "cell_type": "code",
   "execution_count": 28,
   "metadata": {},
   "outputs": [
    {
     "data": {
      "text/plain": [
       "(tensor([1., 1., 1., 1., 1., 0., 0., 0., 0., 0., 0., 0., 0., 0., 0., 0., 0., 0.,\n",
       "         0., 0., 0., 0., 0., 0., 0., 0., 0., 0., 0., 0., 0., 0., 0., 0., 0., 0.,\n",
       "         0., 0., 0., 0., 0., 0., 0., 0., 0., 0., 0., 0., 0., 0., 0., 0., 0., 0.]),\n",
       " tensor(0))"
      ]
     },
     "execution_count": 28,
     "metadata": {},
     "output_type": "execute_result"
    }
   ],
   "source": [
    "dataset.__getitem__(0)"
   ]
  },
  {
   "cell_type": "code",
   "execution_count": 29,
   "metadata": {},
   "outputs": [
    {
     "data": {
      "text/plain": [
       "(tensor([0., 1., 0., 0., 0., 1., 1., 1., 0., 0., 0., 0., 0., 0., 0., 0., 0., 0.,\n",
       "         0., 0., 0., 0., 0., 0., 0., 0., 0., 0., 0., 0., 0., 0., 0., 0., 0., 0.,\n",
       "         0., 0., 0., 0., 0., 0., 0., 0., 0., 0., 0., 0., 0., 0., 0., 0., 0., 0.]),\n",
       " tensor(1))"
      ]
     },
     "execution_count": 29,
     "metadata": {},
     "output_type": "execute_result"
    }
   ],
   "source": [
    "dataset.__getitem__(1)"
   ]
  },
  {
   "cell_type": "markdown",
   "metadata": {},
   "source": [
    "2.6. Обучить классификатор."
   ]
  },
  {
   "cell_type": "markdown",
   "metadata": {},
   "source": [
    "Заимствуем методы с официальной документации для циклов train/test"
   ]
  },
  {
   "cell_type": "code",
   "execution_count": 30,
   "metadata": {},
   "outputs": [],
   "source": [
    "def train_loop(dataloader, model, loss_fn, optimizer):\n",
    "    size = len(dataloader.dataset)\n",
    "    model.train()\n",
    "    loss_sum = 0\n",
    "    for batch, (X, y) in enumerate(dataloader):\n",
    "\n",
    "        pred = model(X)\n",
    "        loss = loss_fn(pred, y)\n",
    "\n",
    "        optimizer.zero_grad()\n",
    "        loss.backward()\n",
    "        optimizer.step()\n",
    "        loss_sum += loss\n",
    "        if batch % 300 == 0:\n",
    "            loss, current = loss.item(), batch * len(X)\n",
    "            print(f\"loss: {loss:>7f}  [{current:>5d}/{size:>5d}]\")\n",
    "        \n",
    "    return loss_sum / len(dataloader)\n",
    "\n",
    "\n",
    "def test_loop(dataloader, model, loss_fn):\n",
    "    size = len(dataloader.dataset)\n",
    "    num_batches = len(dataloader)\n",
    "    test_loss, correct = 0, 0\n",
    "    model.eval()\n",
    "\n",
    "    with torch.no_grad():\n",
    "        for X, y in dataloader:\n",
    "            pred = model(X)\n",
    "            test_loss += loss_fn(pred, y).item()\n",
    "            correct += (pred.argmax(1) == y).type(torch.float).sum().item()\n",
    "\n",
    "    test_loss /= num_batches\n",
    "    correct /= size\n",
    "    print(f\"Test Error: \\n Accuracy: {(100*correct):>0.1f}%, Avg loss: {test_loss:>8f} \\n\")"
   ]
  },
  {
   "cell_type": "code",
   "execution_count": 31,
   "metadata": {},
   "outputs": [],
   "source": [
    "import torch.nn as nn"
   ]
  },
  {
   "cell_type": "code",
   "execution_count": 32,
   "metadata": {},
   "outputs": [],
   "source": [
    "\n",
    "# Формируем модель\n",
    "class NeuralNetwork(nn.Module):\n",
    "    def __init__(self, in_features, out_features):\n",
    "        super(NeuralNetwork, self).__init__()\n",
    "        self.seq = nn.Sequential(\n",
    "            nn.Linear(in_features, 512),\n",
    "            nn.ReLU(),\n",
    "            nn.Linear(512, out_features),\n",
    "            nn.LogSoftmax(dim=1),\n",
    "        )\n",
    "\n",
    "    def forward(self, inputs):\n",
    "        return self.seq(inputs)"
   ]
  },
  {
   "cell_type": "code",
   "execution_count": 33,
   "metadata": {},
   "outputs": [],
   "source": [
    "import torch.optim as optim"
   ]
  },
  {
   "cell_type": "code",
   "execution_count": 34,
   "metadata": {},
   "outputs": [],
   "source": [
    "# Определяем необходимые элементы для обучения\n",
    "model = NeuralNetwork(vocab.vocab_len, dataset.y_len())\n",
    "loss_fn = nn.NLLLoss()\n",
    "optimizer = torch.optim.Adam(model.parameters(), lr=0.0001)\n",
    "train_dataloader = DataLoader(train_dataset, batch_size=10)\n",
    "test_dataloader = DataLoader(test_dataset, batch_size=10)"
   ]
  },
  {
   "cell_type": "code",
   "execution_count": null,
   "metadata": {},
   "outputs": [],
   "source": []
  },
  {
   "cell_type": "code",
   "execution_count": null,
   "metadata": {},
   "outputs": [],
   "source": []
  },
  {
   "cell_type": "code",
   "execution_count": 35,
   "metadata": {},
   "outputs": [
    {
     "name": "stdout",
     "output_type": "stream",
     "text": [
      "Epoch 1\n",
      "-------------------------------\n",
      "loss: 2.879417  [    0/ 8784]\n",
      "loss: 2.527777  [ 3000/ 8784]\n",
      "loss: 2.183519  [ 6000/ 8784]\n",
      "Test Error: \n",
      " Accuracy: 43.4%, Avg loss: 1.964054 \n",
      "\n",
      "Epoch 2\n",
      "-------------------------------\n",
      "loss: 1.891361  [    0/ 8784]\n",
      "loss: 2.469754  [ 3000/ 8784]\n",
      "loss: 1.892259  [ 6000/ 8784]\n",
      "Test Error: \n",
      " Accuracy: 47.9%, Avg loss: 1.766407 \n",
      "\n",
      "Epoch 3\n",
      "-------------------------------\n",
      "loss: 1.662814  [    0/ 8784]\n",
      "loss: 2.360180  [ 3000/ 8784]\n",
      "loss: 1.752230  [ 6000/ 8784]\n",
      "Test Error: \n",
      " Accuracy: 49.7%, Avg loss: 1.674069 \n",
      "\n",
      "Epoch 4\n",
      "-------------------------------\n",
      "loss: 1.523750  [    0/ 8784]\n",
      "loss: 2.260133  [ 3000/ 8784]\n",
      "loss: 1.687978  [ 6000/ 8784]\n",
      "Test Error: \n",
      " Accuracy: 50.9%, Avg loss: 1.616394 \n",
      "\n",
      "Epoch 5\n",
      "-------------------------------\n",
      "loss: 1.427259  [    0/ 8784]\n",
      "loss: 2.174228  [ 3000/ 8784]\n",
      "loss: 1.646566  [ 6000/ 8784]\n",
      "Test Error: \n",
      " Accuracy: 52.1%, Avg loss: 1.574752 \n",
      "\n",
      "Epoch 6\n",
      "-------------------------------\n",
      "loss: 1.348535  [    0/ 8784]\n",
      "loss: 2.103608  [ 3000/ 8784]\n",
      "loss: 1.616568  [ 6000/ 8784]\n",
      "Test Error: \n",
      " Accuracy: 52.7%, Avg loss: 1.542376 \n",
      "\n",
      "Epoch 7\n",
      "-------------------------------\n",
      "loss: 1.286005  [    0/ 8784]\n",
      "loss: 2.045269  [ 3000/ 8784]\n",
      "loss: 1.592514  [ 6000/ 8784]\n",
      "Test Error: \n",
      " Accuracy: 53.3%, Avg loss: 1.515824 \n",
      "\n",
      "Epoch 8\n",
      "-------------------------------\n",
      "loss: 1.234579  [    0/ 8784]\n",
      "loss: 1.998062  [ 3000/ 8784]\n",
      "loss: 1.570611  [ 6000/ 8784]\n",
      "Test Error: \n",
      " Accuracy: 53.6%, Avg loss: 1.493546 \n",
      "\n",
      "Epoch 9\n",
      "-------------------------------\n",
      "loss: 1.191045  [    0/ 8784]\n",
      "loss: 1.958097  [ 3000/ 8784]\n",
      "loss: 1.550277  [ 6000/ 8784]\n",
      "Test Error: \n",
      " Accuracy: 53.9%, Avg loss: 1.474508 \n",
      "\n",
      "Epoch 10\n",
      "-------------------------------\n",
      "loss: 1.153314  [    0/ 8784]\n",
      "loss: 1.924382  [ 3000/ 8784]\n",
      "loss: 1.532154  [ 6000/ 8784]\n",
      "Test Error: \n",
      " Accuracy: 54.5%, Avg loss: 1.457935 \n",
      "\n",
      "Epoch 11\n",
      "-------------------------------\n",
      "loss: 1.121442  [    0/ 8784]\n",
      "loss: 1.895674  [ 3000/ 8784]\n",
      "loss: 1.515719  [ 6000/ 8784]\n",
      "Test Error: \n",
      " Accuracy: 55.1%, Avg loss: 1.443298 \n",
      "\n",
      "Epoch 12\n",
      "-------------------------------\n",
      "loss: 1.093144  [    0/ 8784]\n",
      "loss: 1.870927  [ 3000/ 8784]\n",
      "loss: 1.500687  [ 6000/ 8784]\n",
      "Test Error: \n",
      " Accuracy: 55.3%, Avg loss: 1.430157 \n",
      "\n",
      "Epoch 13\n",
      "-------------------------------\n",
      "loss: 1.068109  [    0/ 8784]\n",
      "loss: 1.849187  [ 3000/ 8784]\n",
      "loss: 1.486492  [ 6000/ 8784]\n",
      "Test Error: \n",
      " Accuracy: 55.9%, Avg loss: 1.418246 \n",
      "\n",
      "Epoch 14\n",
      "-------------------------------\n",
      "loss: 1.045605  [    0/ 8784]\n",
      "loss: 1.829738  [ 3000/ 8784]\n",
      "loss: 1.472957  [ 6000/ 8784]\n",
      "Test Error: \n",
      " Accuracy: 56.6%, Avg loss: 1.407358 \n",
      "\n",
      "Epoch 15\n",
      "-------------------------------\n",
      "loss: 1.025283  [    0/ 8784]\n",
      "loss: 1.812585  [ 3000/ 8784]\n",
      "loss: 1.460023  [ 6000/ 8784]\n",
      "Test Error: \n",
      " Accuracy: 57.1%, Avg loss: 1.397262 \n",
      "\n",
      "Epoch 16\n",
      "-------------------------------\n",
      "loss: 1.006489  [    0/ 8784]\n",
      "loss: 1.796461  [ 3000/ 8784]\n",
      "loss: 1.448236  [ 6000/ 8784]\n",
      "Test Error: \n",
      " Accuracy: 57.6%, Avg loss: 1.387883 \n",
      "\n",
      "Epoch 17\n",
      "-------------------------------\n",
      "loss: 0.989957  [    0/ 8784]\n",
      "loss: 1.782436  [ 3000/ 8784]\n",
      "loss: 1.436911  [ 6000/ 8784]\n",
      "Test Error: \n",
      " Accuracy: 57.8%, Avg loss: 1.379148 \n",
      "\n",
      "Epoch 18\n",
      "-------------------------------\n",
      "loss: 0.974597  [    0/ 8784]\n",
      "loss: 1.769893  [ 3000/ 8784]\n",
      "loss: 1.425079  [ 6000/ 8784]\n",
      "Test Error: \n",
      " Accuracy: 57.8%, Avg loss: 1.370983 \n",
      "\n",
      "Epoch 19\n",
      "-------------------------------\n",
      "loss: 0.960233  [    0/ 8784]\n",
      "loss: 1.758555  [ 3000/ 8784]\n",
      "loss: 1.414191  [ 6000/ 8784]\n",
      "Test Error: \n",
      " Accuracy: 58.1%, Avg loss: 1.363292 \n",
      "\n",
      "Epoch 20\n",
      "-------------------------------\n",
      "loss: 0.947572  [    0/ 8784]\n",
      "loss: 1.748030  [ 3000/ 8784]\n",
      "loss: 1.404004  [ 6000/ 8784]\n",
      "Test Error: \n",
      " Accuracy: 58.3%, Avg loss: 1.356034 \n",
      "\n",
      "Epoch 21\n",
      "-------------------------------\n",
      "loss: 0.935978  [    0/ 8784]\n",
      "loss: 1.737935  [ 3000/ 8784]\n",
      "loss: 1.393845  [ 6000/ 8784]\n",
      "Test Error: \n",
      " Accuracy: 58.7%, Avg loss: 1.349187 \n",
      "\n",
      "Epoch 22\n",
      "-------------------------------\n",
      "loss: 0.925459  [    0/ 8784]\n",
      "loss: 1.728429  [ 3000/ 8784]\n",
      "loss: 1.384055  [ 6000/ 8784]\n",
      "Test Error: \n",
      " Accuracy: 58.9%, Avg loss: 1.342738 \n",
      "\n",
      "Epoch 23\n",
      "-------------------------------\n",
      "loss: 0.916542  [    0/ 8784]\n",
      "loss: 1.719703  [ 3000/ 8784]\n",
      "loss: 1.374548  [ 6000/ 8784]\n",
      "Test Error: \n",
      " Accuracy: 59.2%, Avg loss: 1.336586 \n",
      "\n",
      "Epoch 24\n",
      "-------------------------------\n",
      "loss: 0.908225  [    0/ 8784]\n",
      "loss: 1.711825  [ 3000/ 8784]\n",
      "loss: 1.365185  [ 6000/ 8784]\n",
      "Test Error: \n",
      " Accuracy: 59.4%, Avg loss: 1.330724 \n",
      "\n",
      "Epoch 25\n",
      "-------------------------------\n",
      "loss: 0.900155  [    0/ 8784]\n",
      "loss: 1.704163  [ 3000/ 8784]\n",
      "loss: 1.356407  [ 6000/ 8784]\n",
      "Test Error: \n",
      " Accuracy: 59.4%, Avg loss: 1.325155 \n",
      "\n",
      "Epoch 26\n",
      "-------------------------------\n",
      "loss: 0.893064  [    0/ 8784]\n",
      "loss: 1.697047  [ 3000/ 8784]\n",
      "loss: 1.348342  [ 6000/ 8784]\n",
      "Test Error: \n",
      " Accuracy: 59.4%, Avg loss: 1.319857 \n",
      "\n",
      "Epoch 27\n",
      "-------------------------------\n",
      "loss: 0.886516  [    0/ 8784]\n",
      "loss: 1.690147  [ 3000/ 8784]\n",
      "loss: 1.340656  [ 6000/ 8784]\n",
      "Test Error: \n",
      " Accuracy: 59.5%, Avg loss: 1.314799 \n",
      "\n",
      "Epoch 28\n",
      "-------------------------------\n",
      "loss: 0.880226  [    0/ 8784]\n",
      "loss: 1.683668  [ 3000/ 8784]\n",
      "loss: 1.333322  [ 6000/ 8784]\n",
      "Test Error: \n",
      " Accuracy: 59.5%, Avg loss: 1.310005 \n",
      "\n",
      "Epoch 29\n",
      "-------------------------------\n",
      "loss: 0.874785  [    0/ 8784]\n",
      "loss: 1.677164  [ 3000/ 8784]\n",
      "loss: 1.326056  [ 6000/ 8784]\n",
      "Test Error: \n",
      " Accuracy: 59.8%, Avg loss: 1.305417 \n",
      "\n",
      "Epoch 30\n",
      "-------------------------------\n",
      "loss: 0.870202  [    0/ 8784]\n",
      "loss: 1.670735  [ 3000/ 8784]\n",
      "loss: 1.318757  [ 6000/ 8784]\n",
      "Test Error: \n",
      " Accuracy: 59.8%, Avg loss: 1.301037 \n",
      "\n",
      "Epoch 31\n",
      "-------------------------------\n",
      "loss: 0.865697  [    0/ 8784]\n",
      "loss: 1.664342  [ 3000/ 8784]\n",
      "loss: 1.311629  [ 6000/ 8784]\n",
      "Test Error: \n",
      " Accuracy: 59.8%, Avg loss: 1.296785 \n",
      "\n",
      "Epoch 32\n",
      "-------------------------------\n",
      "loss: 0.861558  [    0/ 8784]\n",
      "loss: 1.658075  [ 3000/ 8784]\n",
      "loss: 1.304845  [ 6000/ 8784]\n",
      "Test Error: \n",
      " Accuracy: 60.1%, Avg loss: 1.292722 \n",
      "\n",
      "Epoch 33\n",
      "-------------------------------\n",
      "loss: 0.857864  [    0/ 8784]\n",
      "loss: 1.651764  [ 3000/ 8784]\n",
      "loss: 1.298256  [ 6000/ 8784]\n",
      "Test Error: \n",
      " Accuracy: 60.7%, Avg loss: 1.288813 \n",
      "\n",
      "Epoch 34\n",
      "-------------------------------\n",
      "loss: 0.854632  [    0/ 8784]\n",
      "loss: 1.645774  [ 3000/ 8784]\n",
      "loss: 1.291340  [ 6000/ 8784]\n",
      "Test Error: \n",
      " Accuracy: 60.8%, Avg loss: 1.285025 \n",
      "\n",
      "Epoch 35\n",
      "-------------------------------\n",
      "loss: 0.851385  [    0/ 8784]\n",
      "loss: 1.639512  [ 3000/ 8784]\n",
      "loss: 1.284459  [ 6000/ 8784]\n",
      "Test Error: \n",
      " Accuracy: 61.0%, Avg loss: 1.281400 \n",
      "\n",
      "Epoch 36\n",
      "-------------------------------\n",
      "loss: 0.848356  [    0/ 8784]\n",
      "loss: 1.633763  [ 3000/ 8784]\n",
      "loss: 1.278059  [ 6000/ 8784]\n",
      "Test Error: \n",
      " Accuracy: 61.2%, Avg loss: 1.277898 \n",
      "\n",
      "Epoch 37\n",
      "-------------------------------\n",
      "loss: 0.845451  [    0/ 8784]\n",
      "loss: 1.628021  [ 3000/ 8784]\n",
      "loss: 1.271564  [ 6000/ 8784]\n",
      "Test Error: \n",
      " Accuracy: 61.4%, Avg loss: 1.274514 \n",
      "\n",
      "Epoch 38\n",
      "-------------------------------\n",
      "loss: 0.842637  [    0/ 8784]\n",
      "loss: 1.622309  [ 3000/ 8784]\n",
      "loss: 1.265203  [ 6000/ 8784]\n",
      "Test Error: \n",
      " Accuracy: 61.6%, Avg loss: 1.271275 \n",
      "\n",
      "Epoch 39\n",
      "-------------------------------\n",
      "loss: 0.839741  [    0/ 8784]\n",
      "loss: 1.615938  [ 3000/ 8784]\n",
      "loss: 1.259163  [ 6000/ 8784]\n",
      "Test Error: \n",
      " Accuracy: 61.8%, Avg loss: 1.268152 \n",
      "\n",
      "Epoch 40\n",
      "-------------------------------\n",
      "loss: 0.837020  [    0/ 8784]\n",
      "loss: 1.609816  [ 3000/ 8784]\n",
      "loss: 1.253351  [ 6000/ 8784]\n",
      "Test Error: \n",
      " Accuracy: 61.8%, Avg loss: 1.265110 \n",
      "\n",
      "Готов\n"
     ]
    }
   ],
   "source": [
    "losses_plt = []\n",
    "\n",
    "epochs = 40\n",
    "losses = torch.empty(epochs)\n",
    "\n",
    "\n",
    "for t in range(epochs): \n",
    "    print(f\"Epoch {t+1}\\n-------------------------------\")\n",
    "    buf = train_loop(train_dataloader, model, loss_fn, optimizer)\n",
    "    losses[t] = buf\n",
    "    losses_plt.append(buf.item())\n",
    "    test_loop(test_dataloader, model, loss_fn)\n",
    "    \n",
    "print(\"Готов\")"
   ]
  },
  {
   "cell_type": "markdown",
   "metadata": {},
   "source": [
    "2.7 Измерить точность на тестовой выборке. Проверить работоспособность модели: прогнать несколько фамилий студентов группы через модели и проверить результат. Для каждой фамилии выводить 3 наиболее вероятных предсказания."
   ]
  },
  {
   "cell_type": "code",
   "execution_count": 36,
   "metadata": {},
   "outputs": [
    {
     "data": {
      "text/plain": [
       "[<matplotlib.lines.Line2D at 0x167dc2970>]"
      ]
     },
     "execution_count": 36,
     "metadata": {},
     "output_type": "execute_result"
    },
    {
     "data": {
      "image/png": "[encoded data removed]",
      "text/plain": [
       "<Figure size 640x480 with 1 Axes>"
      ]
     },
     "metadata": {},
     "output_type": "display_data"
    }
   ],
   "source": [
    "import matplotlib.pyplot as plt\n",
    "\n",
    "plt.plot(torch.arange(len(losses_plt)), losses_plt)"
   ]
  },
  {
   "cell_type": "markdown",
   "metadata": {},
   "source": [
    "График ошибки снижается -> все делаю верно"
   ]
  },
  {
   "cell_type": "code",
   "execution_count": 37,
   "metadata": {},
   "outputs": [],
   "source": [
    "from sklearn.preprocessing import LabelEncoder"
   ]
  },
  {
   "cell_type": "code",
   "execution_count": 38,
   "metadata": {},
   "outputs": [
    {
     "name": "stdout",
     "output_type": "stream",
     "text": [
      "Test Error: \n",
      " Accuracy: 61.8%, Avg loss: 1.265110 \n",
      "\n"
     ]
    }
   ],
   "source": [
    "test_loop(dataloader=test_dataloader, model=model, loss_fn=loss_fn);"
   ]
  },
  {
   "cell_type": "code",
   "execution_count": 39,
   "metadata": {},
   "outputs": [],
   "source": [
    "# Получаем данные с тестовой выборки\n",
    "y_pred = []\n",
    "y_true = []\n",
    "\n",
    "for inputs, labels in test_dataloader:\n",
    "    output = model(inputs) # Feed Network\n",
    "    output = (torch.max(torch.exp(output), 1)[1]).data.cpu().numpy()\n",
    "    y_pred.extend(output) # Save Prediction\n",
    "    labels = labels.data.cpu().numpy()\n",
    "    y_true.extend(labels) # Save Truth"
   ]
  },
  {
   "cell_type": "code",
   "execution_count": 40,
   "metadata": {},
   "outputs": [
    {
     "name": "stdout",
     "output_type": "stream",
     "text": [
      "Surname : Demenchuk\n",
      "True    : Russian\n",
      "Predicts: {'Russian': 0.3704, 'German': 0.2682, 'Dutch': 0.1226}\n",
      "\n",
      "Surname : Baranov\n",
      "True    : Russian\n",
      "Predicts: {'Russian': 0.5901, 'Italian': 0.1575, 'English': 0.1015}\n",
      "\n",
      "Surname : Fogel\n",
      "True    : German\n",
      "Predicts: {'English': 0.6867, 'German': 0.0925, 'Russian': 0.0794}\n",
      "\n",
      "Surname : Newman\n",
      "True    : English\n",
      "Predicts: {'English': 0.6372, 'German': 0.1161, 'Arabic': 0.0726}\n",
      "\n"
     ]
    }
   ],
   "source": [
    "# Проверяем работу модели на наших данных\n",
    "names_list = [\n",
    "    \"Demenchuk\",\n",
    "    \"Baranov\",\n",
    "    \"Fogel\",\n",
    "    \"Newman\"\n",
    "]\n",
    "\n",
    "targets_list = [\"Russian\",\"Russian\", \"German\", \"English\"]\n",
    "\n",
    "for name, target in zip(names_list, targets_list):\n",
    "    \n",
    "    x_test, y_test = dataset.vectorize(name), target\n",
    "    predict = model(x_test.unsqueeze(0))\n",
    "    pred_proba, pred_label_indices = nn.functional.softmax(predict, 1).topk(3, dim=1)\n",
    "    pred_labels = [nationalities[i.item()] for i in pred_label_indices.squeeze()]\n",
    "    \n",
    "    predicts_dict = {predict_item : round(score.item(),4) for predict_item, score in zip(pred_labels, pred_proba[0])}\n",
    "    print(f\"Surname : {name}\")\n",
    "    print(f\"True    : {target}\")\n",
    "    \n",
    "    print(f\"Predicts: {predicts_dict}\\n\")"
   ]
  },
  {
   "cell_type": "markdown",
   "metadata": {},
   "source": [
    "Вывод всех метрик т.к. высянилось, что одного accuracy маловато"
   ]
  },
  {
   "cell_type": "code",
   "execution_count": 41,
   "metadata": {},
   "outputs": [
    {
     "name": "stdout",
     "output_type": "stream",
     "text": [
      "              precision    recall  f1-score   support\n",
      "\n",
      "     English       0.52      0.79      0.63       566\n",
      "      French       0.00      0.00      0.00        54\n",
      "      Arabic       0.73      0.98      0.84       333\n",
      "     Russian       0.78      0.75      0.77       488\n",
      "    Japanese       0.60      0.56      0.58       153\n",
      "     Chinese       0.40      0.48      0.44        44\n",
      "     Italian       0.47      0.44      0.46       117\n",
      "       Czech       0.43      0.04      0.07        74\n",
      "       Irish       0.43      0.15      0.23        39\n",
      "      German       0.55      0.19      0.28       121\n",
      "       Greek       0.25      0.10      0.14        30\n",
      "     Spanish       0.44      0.25      0.32        44\n",
      "      Polish       0.62      0.42      0.50        19\n",
      "       Dutch       0.38      0.06      0.10        53\n",
      "  Vietnamese       0.00      0.00      0.00        13\n",
      "      Korean       0.00      0.00      0.00        14\n",
      "  Portuguese       0.00      0.00      0.00        19\n",
      "    Scottish       0.00      0.00      0.00        15\n",
      "\n",
      "    accuracy                           0.62      2196\n",
      "   macro avg       0.37      0.29      0.30      2196\n",
      "weighted avg       0.57      0.62      0.57      2196\n",
      "\n"
     ]
    },
    {
     "name": "stderr",
     "output_type": "stream",
     "text": [
      "/Users/demg/conda_env/env/lib/python3.8/site-packages/sklearn/metrics/_classification.py:1334: UndefinedMetricWarning: Precision and F-score are ill-defined and being set to 0.0 in labels with no predicted samples. Use `zero_division` parameter to control this behavior.\n",
      "  _warn_prf(average, modifier, msg_start, len(result))\n",
      "/Users/demg/conda_env/env/lib/python3.8/site-packages/sklearn/metrics/_classification.py:1334: UndefinedMetricWarning: Precision and F-score are ill-defined and being set to 0.0 in labels with no predicted samples. Use `zero_division` parameter to control this behavior.\n",
      "  _warn_prf(average, modifier, msg_start, len(result))\n",
      "/Users/demg/conda_env/env/lib/python3.8/site-packages/sklearn/metrics/_classification.py:1334: UndefinedMetricWarning: Precision and F-score are ill-defined and being set to 0.0 in labels with no predicted samples. Use `zero_division` parameter to control this behavior.\n",
      "  _warn_prf(average, modifier, msg_start, len(result))\n"
     ]
    }
   ],
   "source": [
    "from sklearn.metrics import classification_report\n",
    "print(classification_report(y_true, y_pred, target_names=list(vocab_nat.keys())))"
   ]
  },
  {
   "cell_type": "markdown",
   "metadata": {
    "id": "PLmDB3fJtVox"
   },
   "source": [
    "## 3. Классификация обзоров ресторанов\n",
    "\n",
    "Датасет: https://disk.yandex.ru/d/nY1o70JtAuYa8g\n",
    "\n",
    "3.1 Считать файл `yelp/raw_train.csv`. Оставить от исходного датасета 10% строчек.\n",
    "\n",
    "3.2 Воспользоваться функцией `preprocess_text` из 1.1 для обработки текста отзыва. Закодировать рейтинг числами, начиная с 0.\n",
    "\n",
    "3.3 Разбить датасет на обучающую и тестовую выборку\n",
    "\n",
    "3.4 Реализовать класс `Vocab` (токен = слово)\n",
    "\n",
    "3.5 Реализовать класс `ReviewDataset`\n",
    "\n",
    "3.6 Обучить классификатор\n",
    "\n",
    "3.7 Измерить точность на тестовой выборке. Проверить работоспособность модели: придумать небольшой отзыв, прогнать его через модель и вывести номер предсказанного класса (сделать это для явно позитивного и явно негативного отзыва)\n"
   ]
  },
  {
   "cell_type": "markdown",
   "metadata": {},
   "source": [
    "3.1 Считать файл yelp/raw_train.csv. Оставить от исходного датасета 10% строчек."
   ]
  },
  {
   "cell_type": "code",
   "execution_count": 42,
   "metadata": {},
   "outputs": [
    {
     "data": {
      "text/plain": [
       "(560000, 2)"
      ]
     },
     "execution_count": 42,
     "metadata": {},
     "output_type": "execute_result"
    }
   ],
   "source": [
    "df = pd.read_csv(\"./data/yelp/raw_train.csv\", names=[\"index\", \"review\"])\n",
    "df.shape"
   ]
  },
  {
   "cell_type": "code",
   "execution_count": 43,
   "metadata": {},
   "outputs": [
    {
     "data": {
      "text/html": [
       "<div>\n",
       "<style scoped>\n",
       "    .dataframe tbody tr th:only-of-type {\n",
       "        vertical-align: middle;\n",
       "    }\n",
       "\n",
       "    .dataframe tbody tr th {\n",
       "        vertical-align: top;\n",
       "    }\n",
       "\n",
       "    .dataframe thead th {\n",
       "        text-align: right;\n",
       "    }\n",
       "</style>\n",
       "<table border=\"1\" class=\"dataframe\">\n",
       "  <thead>\n",
       "    <tr style=\"text-align: right;\">\n",
       "      <th></th>\n",
       "      <th>index</th>\n",
       "      <th>review</th>\n",
       "    </tr>\n",
       "  </thead>\n",
       "  <tbody>\n",
       "    <tr>\n",
       "      <th>0</th>\n",
       "      <td>1</td>\n",
       "      <td>Unfortunately, the frustration of being Dr. Go...</td>\n",
       "    </tr>\n",
       "    <tr>\n",
       "      <th>1</th>\n",
       "      <td>2</td>\n",
       "      <td>Been going to Dr. Goldberg for over 10 years. ...</td>\n",
       "    </tr>\n",
       "    <tr>\n",
       "      <th>2</th>\n",
       "      <td>1</td>\n",
       "      <td>I don't know what Dr. Goldberg was like before...</td>\n",
       "    </tr>\n",
       "    <tr>\n",
       "      <th>3</th>\n",
       "      <td>1</td>\n",
       "      <td>I'm writing this review to give you a heads up...</td>\n",
       "    </tr>\n",
       "    <tr>\n",
       "      <th>4</th>\n",
       "      <td>2</td>\n",
       "      <td>All the food is great here. But the best thing...</td>\n",
       "    </tr>\n",
       "    <tr>\n",
       "      <th>...</th>\n",
       "      <td>...</td>\n",
       "      <td>...</td>\n",
       "    </tr>\n",
       "    <tr>\n",
       "      <th>559995</th>\n",
       "      <td>2</td>\n",
       "      <td>Ryan was as good as everyone on yelp has claim...</td>\n",
       "    </tr>\n",
       "    <tr>\n",
       "      <th>559996</th>\n",
       "      <td>2</td>\n",
       "      <td>Professional \\nFriendly\\nOn time AND affordabl...</td>\n",
       "    </tr>\n",
       "    <tr>\n",
       "      <th>559997</th>\n",
       "      <td>1</td>\n",
       "      <td>Phone calls always go to voicemail and message...</td>\n",
       "    </tr>\n",
       "    <tr>\n",
       "      <th>559998</th>\n",
       "      <td>1</td>\n",
       "      <td>Looks like all of the good reviews have gone t...</td>\n",
       "    </tr>\n",
       "    <tr>\n",
       "      <th>559999</th>\n",
       "      <td>2</td>\n",
       "      <td>Ryan Rocks! I called him this morning for some...</td>\n",
       "    </tr>\n",
       "  </tbody>\n",
       "</table>\n",
       "<p>560000 rows × 2 columns</p>\n",
       "</div>"
      ],
      "text/plain": [
       "        index                                             review\n",
       "0           1  Unfortunately, the frustration of being Dr. Go...\n",
       "1           2  Been going to Dr. Goldberg for over 10 years. ...\n",
       "2           1  I don't know what Dr. Goldberg was like before...\n",
       "3           1  I'm writing this review to give you a heads up...\n",
       "4           2  All the food is great here. But the best thing...\n",
       "...       ...                                                ...\n",
       "559995      2  Ryan was as good as everyone on yelp has claim...\n",
       "559996      2  Professional \\nFriendly\\nOn time AND affordabl...\n",
       "559997      1  Phone calls always go to voicemail and message...\n",
       "559998      1  Looks like all of the good reviews have gone t...\n",
       "559999      2  Ryan Rocks! I called him this morning for some...\n",
       "\n",
       "[560000 rows x 2 columns]"
      ]
     },
     "execution_count": 43,
     "metadata": {},
     "output_type": "execute_result"
    }
   ],
   "source": [
    "df"
   ]
  },
  {
   "cell_type": "code",
   "execution_count": 44,
   "metadata": {},
   "outputs": [
    {
     "data": {
      "text/plain": [
       "(56000, 2)"
      ]
     },
     "execution_count": 44,
     "metadata": {},
     "output_type": "execute_result"
    }
   ],
   "source": [
    "df = df.sample(frac=0.1, ignore_index=True, random_state=0)\n",
    "df.shape"
   ]
  },
  {
   "cell_type": "code",
   "execution_count": 45,
   "metadata": {},
   "outputs": [
    {
     "data": {
      "text/html": [
       "<div>\n",
       "<style scoped>\n",
       "    .dataframe tbody tr th:only-of-type {\n",
       "        vertical-align: middle;\n",
       "    }\n",
       "\n",
       "    .dataframe tbody tr th {\n",
       "        vertical-align: top;\n",
       "    }\n",
       "\n",
       "    .dataframe thead th {\n",
       "        text-align: right;\n",
       "    }\n",
       "</style>\n",
       "<table border=\"1\" class=\"dataframe\">\n",
       "  <thead>\n",
       "    <tr style=\"text-align: right;\">\n",
       "      <th></th>\n",
       "      <th>index</th>\n",
       "      <th>review</th>\n",
       "    </tr>\n",
       "  </thead>\n",
       "  <tbody>\n",
       "    <tr>\n",
       "      <th>0</th>\n",
       "      <td>2</td>\n",
       "      <td>Call me crazy, but I really enjoyed this place...</td>\n",
       "    </tr>\n",
       "    <tr>\n",
       "      <th>1</th>\n",
       "      <td>1</td>\n",
       "      <td>HORRIBLE, HORRIBLE, HORRIBLE ONLINE CUSTOMER S...</td>\n",
       "    </tr>\n",
       "    <tr>\n",
       "      <th>2</th>\n",
       "      <td>2</td>\n",
       "      <td>The staff were extremely helpful in answering ...</td>\n",
       "    </tr>\n",
       "    <tr>\n",
       "      <th>3</th>\n",
       "      <td>2</td>\n",
       "      <td>The steak tartare is fantastic!  I'd come back...</td>\n",
       "    </tr>\n",
       "    <tr>\n",
       "      <th>4</th>\n",
       "      <td>2</td>\n",
       "      <td>Everything I could want for $3.</td>\n",
       "    </tr>\n",
       "    <tr>\n",
       "      <th>...</th>\n",
       "      <td>...</td>\n",
       "      <td>...</td>\n",
       "    </tr>\n",
       "    <tr>\n",
       "      <th>55995</th>\n",
       "      <td>2</td>\n",
       "      <td>Wow! I never thought I would find a place like...</td>\n",
       "    </tr>\n",
       "    <tr>\n",
       "      <th>55996</th>\n",
       "      <td>2</td>\n",
       "      <td>Awesome walk in place for a bite to eat.  You ...</td>\n",
       "    </tr>\n",
       "    <tr>\n",
       "      <th>55997</th>\n",
       "      <td>2</td>\n",
       "      <td>What a beautiful show! I jumped at the opportu...</td>\n",
       "    </tr>\n",
       "    <tr>\n",
       "      <th>55998</th>\n",
       "      <td>2</td>\n",
       "      <td>In the lobby of the Hard Rock Hotel, this plac...</td>\n",
       "    </tr>\n",
       "    <tr>\n",
       "      <th>55999</th>\n",
       "      <td>1</td>\n",
       "      <td>Picked up dinner with my mom on 8/28/13. The c...</td>\n",
       "    </tr>\n",
       "  </tbody>\n",
       "</table>\n",
       "<p>56000 rows × 2 columns</p>\n",
       "</div>"
      ],
      "text/plain": [
       "       index                                             review\n",
       "0          2  Call me crazy, but I really enjoyed this place...\n",
       "1          1  HORRIBLE, HORRIBLE, HORRIBLE ONLINE CUSTOMER S...\n",
       "2          2  The staff were extremely helpful in answering ...\n",
       "3          2  The steak tartare is fantastic!  I'd come back...\n",
       "4          2                    Everything I could want for $3.\n",
       "...      ...                                                ...\n",
       "55995      2  Wow! I never thought I would find a place like...\n",
       "55996      2  Awesome walk in place for a bite to eat.  You ...\n",
       "55997      2  What a beautiful show! I jumped at the opportu...\n",
       "55998      2  In the lobby of the Hard Rock Hotel, this plac...\n",
       "55999      1  Picked up dinner with my mom on 8/28/13. The c...\n",
       "\n",
       "[56000 rows x 2 columns]"
      ]
     },
     "execution_count": 45,
     "metadata": {},
     "output_type": "execute_result"
    }
   ],
   "source": [
    "df"
   ]
  },
  {
   "cell_type": "markdown",
   "metadata": {},
   "source": [
    "3.2 Воспользоваться функцией preprocess_text из 1.1 для обработки текста отзыва. Закодировать рейтинг числами, начиная с 0."
   ]
  },
  {
   "cell_type": "code",
   "execution_count": 46,
   "metadata": {},
   "outputs": [
    {
     "data": {
      "text/html": [
       "<div>\n",
       "<style scoped>\n",
       "    .dataframe tbody tr th:only-of-type {\n",
       "        vertical-align: middle;\n",
       "    }\n",
       "\n",
       "    .dataframe tbody tr th {\n",
       "        vertical-align: top;\n",
       "    }\n",
       "\n",
       "    .dataframe thead th {\n",
       "        text-align: right;\n",
       "    }\n",
       "</style>\n",
       "<table border=\"1\" class=\"dataframe\">\n",
       "  <thead>\n",
       "    <tr style=\"text-align: right;\">\n",
       "      <th></th>\n",
       "      <th>index</th>\n",
       "      <th>review</th>\n",
       "    </tr>\n",
       "  </thead>\n",
       "  <tbody>\n",
       "    <tr>\n",
       "      <th>0</th>\n",
       "      <td>1</td>\n",
       "      <td>Call me crazy, but I really enjoyed this place...</td>\n",
       "    </tr>\n",
       "    <tr>\n",
       "      <th>1</th>\n",
       "      <td>0</td>\n",
       "      <td>HORRIBLE, HORRIBLE, HORRIBLE ONLINE CUSTOMER S...</td>\n",
       "    </tr>\n",
       "    <tr>\n",
       "      <th>2</th>\n",
       "      <td>1</td>\n",
       "      <td>The staff were extremely helpful in answering ...</td>\n",
       "    </tr>\n",
       "    <tr>\n",
       "      <th>3</th>\n",
       "      <td>1</td>\n",
       "      <td>The steak tartare is fantastic!  I'd come back...</td>\n",
       "    </tr>\n",
       "    <tr>\n",
       "      <th>4</th>\n",
       "      <td>1</td>\n",
       "      <td>Everything I could want for $3.</td>\n",
       "    </tr>\n",
       "    <tr>\n",
       "      <th>...</th>\n",
       "      <td>...</td>\n",
       "      <td>...</td>\n",
       "    </tr>\n",
       "    <tr>\n",
       "      <th>55995</th>\n",
       "      <td>1</td>\n",
       "      <td>Wow! I never thought I would find a place like...</td>\n",
       "    </tr>\n",
       "    <tr>\n",
       "      <th>55996</th>\n",
       "      <td>1</td>\n",
       "      <td>Awesome walk in place for a bite to eat.  You ...</td>\n",
       "    </tr>\n",
       "    <tr>\n",
       "      <th>55997</th>\n",
       "      <td>1</td>\n",
       "      <td>What a beautiful show! I jumped at the opportu...</td>\n",
       "    </tr>\n",
       "    <tr>\n",
       "      <th>55998</th>\n",
       "      <td>1</td>\n",
       "      <td>In the lobby of the Hard Rock Hotel, this plac...</td>\n",
       "    </tr>\n",
       "    <tr>\n",
       "      <th>55999</th>\n",
       "      <td>0</td>\n",
       "      <td>Picked up dinner with my mom on 8/28/13. The c...</td>\n",
       "    </tr>\n",
       "  </tbody>\n",
       "</table>\n",
       "<p>56000 rows × 2 columns</p>\n",
       "</div>"
      ],
      "text/plain": [
       "       index                                             review\n",
       "0          1  Call me crazy, but I really enjoyed this place...\n",
       "1          0  HORRIBLE, HORRIBLE, HORRIBLE ONLINE CUSTOMER S...\n",
       "2          1  The staff were extremely helpful in answering ...\n",
       "3          1  The steak tartare is fantastic!  I'd come back...\n",
       "4          1                    Everything I could want for $3.\n",
       "...      ...                                                ...\n",
       "55995      1  Wow! I never thought I would find a place like...\n",
       "55996      1  Awesome walk in place for a bite to eat.  You ...\n",
       "55997      1  What a beautiful show! I jumped at the opportu...\n",
       "55998      1  In the lobby of the Hard Rock Hotel, this plac...\n",
       "55999      0  Picked up dinner with my mom on 8/28/13. The c...\n",
       "\n",
       "[56000 rows x 2 columns]"
      ]
     },
     "execution_count": 46,
     "metadata": {},
     "output_type": "execute_result"
    }
   ],
   "source": [
    "rating = {1: 0, 2: 1}\n",
    "# Заменяем 1 на 0, а 2 на 1\n",
    "df[\"index\"] = df[\"index\"].map(rating)\n",
    "df"
   ]
  },
  {
   "cell_type": "code",
   "execution_count": 47,
   "metadata": {},
   "outputs": [
    {
     "data": {
      "text/html": [
       "<div>\n",
       "<style scoped>\n",
       "    .dataframe tbody tr th:only-of-type {\n",
       "        vertical-align: middle;\n",
       "    }\n",
       "\n",
       "    .dataframe tbody tr th {\n",
       "        vertical-align: top;\n",
       "    }\n",
       "\n",
       "    .dataframe thead th {\n",
       "        text-align: right;\n",
       "    }\n",
       "</style>\n",
       "<table border=\"1\" class=\"dataframe\">\n",
       "  <thead>\n",
       "    <tr style=\"text-align: right;\">\n",
       "      <th></th>\n",
       "      <th>index</th>\n",
       "      <th>review</th>\n",
       "    </tr>\n",
       "  </thead>\n",
       "  <tbody>\n",
       "    <tr>\n",
       "      <th>0</th>\n",
       "      <td>1</td>\n",
       "      <td>call crazy really enjoy place. get ton food de...</td>\n",
       "    </tr>\n",
       "    <tr>\n",
       "      <th>1</th>\n",
       "      <td>0</td>\n",
       "      <td>horrible horrible horrible online customer ser...</td>\n",
       "    </tr>\n",
       "    <tr>\n",
       "      <th>2</th>\n",
       "      <td>1</td>\n",
       "      <td>staff extremely helpful answer question. take ...</td>\n",
       "    </tr>\n",
       "    <tr>\n",
       "      <th>3</th>\n",
       "      <td>1</td>\n",
       "      <td>steak tartare fantastic. 'd come back vega din...</td>\n",
       "    </tr>\n",
       "    <tr>\n",
       "      <th>4</th>\n",
       "      <td>1</td>\n",
       "      <td>everything could want 3</td>\n",
       "    </tr>\n",
       "    <tr>\n",
       "      <th>...</th>\n",
       "      <td>...</td>\n",
       "      <td>...</td>\n",
       "    </tr>\n",
       "    <tr>\n",
       "      <th>55995</th>\n",
       "      <td>1</td>\n",
       "      <td>wow. never thought would find place like sleep...</td>\n",
       "    </tr>\n",
       "    <tr>\n",
       "      <th>55996</th>\n",
       "      <td>1</td>\n",
       "      <td>awesome walk place bite eat. order counter bri...</td>\n",
       "    </tr>\n",
       "    <tr>\n",
       "      <th>55997</th>\n",
       "      <td>1</td>\n",
       "      <td>beautiful show. jumped opportunity see show ti...</td>\n",
       "    </tr>\n",
       "    <tr>\n",
       "      <th>55998</th>\n",
       "      <td>1</td>\n",
       "      <td>lobby hard rock hotel place trendy chic meet b...</td>\n",
       "    </tr>\n",
       "    <tr>\n",
       "      <th>55999</th>\n",
       "      <td>0</td>\n",
       "      <td>picked dinner mom 8/28/13. chicken nacho long ...</td>\n",
       "    </tr>\n",
       "  </tbody>\n",
       "</table>\n",
       "<p>56000 rows × 2 columns</p>\n",
       "</div>"
      ],
      "text/plain": [
       "       index                                             review\n",
       "0          1  call crazy really enjoy place. get ton food de...\n",
       "1          0  horrible horrible horrible online customer ser...\n",
       "2          1  staff extremely helpful answer question. take ...\n",
       "3          1  steak tartare fantastic. 'd come back vega din...\n",
       "4          1                            everything could want 3\n",
       "...      ...                                                ...\n",
       "55995      1  wow. never thought would find place like sleep...\n",
       "55996      1  awesome walk place bite eat. order counter bri...\n",
       "55997      1  beautiful show. jumped opportunity see show ti...\n",
       "55998      1  lobby hard rock hotel place trendy chic meet b...\n",
       "55999      0  picked dinner mom 8/28/13. chicken nacho long ...\n",
       "\n",
       "[56000 rows x 2 columns]"
      ]
     },
     "execution_count": 47,
     "metadata": {},
     "output_type": "execute_result"
    }
   ],
   "source": [
    "df[\"review\"] = df[\"review\"].map(preprocess_text)\n",
    "df"
   ]
  },
  {
   "cell_type": "markdown",
   "metadata": {},
   "source": [
    "3.4 Реализовать класс Vocab (токен = слово)"
   ]
  },
  {
   "cell_type": "code",
   "execution_count": 48,
   "metadata": {
    "id": "_lCTSKZgu68K"
   },
   "outputs": [],
   "source": [
    "class Vocab:\n",
    "    def __init__(self, data):\n",
    "        self.tokens = list({ch for row in data for ch in row.split(\" \")})\n",
    "        self.idx_to_token = {idx: token for idx, token in enumerate(self.tokens)}\n",
    "        self.token_to_idx = {token: idx  for idx, token in enumerate(self.tokens)}\n",
    "        self.vocab_len = len(self.idx_to_token)\n",
    "        \n",
    "    def __repr__(self) -> str:\n",
    "        return f\"Vocab with {self.vocab_len} tokens\""
   ]
  },
  {
   "cell_type": "code",
   "execution_count": 49,
   "metadata": {},
   "outputs": [
    {
     "data": {
      "text/plain": [
       "Vocab with 140204 tokens"
      ]
     },
     "execution_count": 49,
     "metadata": {},
     "output_type": "execute_result"
    }
   ],
   "source": [
    "vocab = Vocab(df[\"review\"])\n",
    "vocab"
   ]
  },
  {
   "cell_type": "markdown",
   "metadata": {},
   "source": [
    "3.5 Реализовать класс ReviewDataset"
   ]
  },
  {
   "cell_type": "code",
   "execution_count": 50,
   "metadata": {
    "id": "WXLmCDvcvRmb"
   },
   "outputs": [],
   "source": [
    "class ReviewDataset(Dataset):\n",
    "    def __init__(self, X, y, vocab: Vocab):\n",
    "        self.X = X\n",
    "        self.y = y\n",
    "        self.vocab = vocab\n",
    "\n",
    "    def vectorize(self, review):\n",
    "        '''Генерирует представление отзыва review при помощи бинарного кодирования'''\n",
    "        indices = [self.vocab.token_to_idx[el] for el in review.split(\" \")]\n",
    "        review_t = torch.zeros(self.vocab.vocab_len)\n",
    "        review_t[indices] = 1\n",
    "        return review_t\n",
    "\n",
    "    def len_y_unique(self):\n",
    "        return self.y.unique().size()[0]\n",
    "    \n",
    "    def __len__(self):\n",
    "        return len(self.X)\n",
    "\n",
    "    def __getitem__(self, idx):\n",
    "        return self.vectorize(self.X[idx]), self.y[idx]"
   ]
  },
  {
   "cell_type": "code",
   "execution_count": 51,
   "metadata": {},
   "outputs": [
    {
     "data": {
      "text/plain": [
       "56000"
      ]
     },
     "execution_count": 51,
     "metadata": {},
     "output_type": "execute_result"
    }
   ],
   "source": [
    "#Создаем датасет через ReviewDataset\n",
    "review_dataset = ReviewDataset(\n",
    "    df[\"review\"].tolist(),\n",
    "    torch.tensor(df[\"index\"], dtype=torch.long),\n",
    "    vocab,\n",
    ")\n",
    "\n",
    "len(review_dataset)"
   ]
  },
  {
   "cell_type": "code",
   "execution_count": 52,
   "metadata": {},
   "outputs": [
    {
     "data": {
      "text/plain": [
       "(tensor([1., 0., 0.,  ..., 0., 0., 0.]), tensor(0))"
      ]
     },
     "execution_count": 52,
     "metadata": {},
     "output_type": "execute_result"
    }
   ],
   "source": [
    "review_dataset[1]"
   ]
  },
  {
   "cell_type": "markdown",
   "metadata": {},
   "source": [
    "3.3 Разбить датасет на обучающую и тестовую выборку"
   ]
  },
  {
   "cell_type": "code",
   "execution_count": 53,
   "metadata": {},
   "outputs": [
    {
     "name": "stdout",
     "output_type": "stream",
     "text": [
      "Train dataset: 44800\n",
      "Test dataset: 11200\n"
     ]
    }
   ],
   "source": [
    "train_size = round(0.8 * len(review_dataset))\n",
    "test_size = len(review_dataset) - train_size\n",
    "train_dataset, test_dataset = random_split(review_dataset, lengths=(train_size, test_size))\n",
    "\n",
    "print(f\"Train dataset: {len(train_dataset)}\")\n",
    "print(f\"Test dataset: {len(test_dataset)}\")"
   ]
  },
  {
   "cell_type": "markdown",
   "metadata": {},
   "source": [
    "3.6 Обучить классификатор"
   ]
  },
  {
   "cell_type": "code",
   "execution_count": 54,
   "metadata": {},
   "outputs": [],
   "source": [
    "# Формируем модель\n",
    "class NeuralNetwork(nn.Module):\n",
    "    def __init__(self, in_features, out_features):\n",
    "        super(NeuralNetwork, self).__init__()\n",
    "        self.seq = nn.Sequential(\n",
    "            nn.Linear(in_features, 512),\n",
    "            nn.ReLU(),\n",
    "            nn.Dropout(),\n",
    "            nn.Linear(512, out_features),\n",
    "            nn.LogSoftmax(dim=1),\n",
    "        )\n",
    "\n",
    "    def forward(self, inputs):\n",
    "        return self.seq(inputs)"
   ]
  },
  {
   "cell_type": "code",
   "execution_count": 55,
   "metadata": {},
   "outputs": [
    {
     "name": "stdout",
     "output_type": "stream",
     "text": [
      "NeuralNetwork(\n",
      "  (seq): Sequential(\n",
      "    (0): Linear(in_features=140204, out_features=512, bias=True)\n",
      "    (1): ReLU()\n",
      "    (2): Dropout(p=0.5, inplace=False)\n",
      "    (3): Linear(in_features=512, out_features=2, bias=True)\n",
      "    (4): LogSoftmax(dim=1)\n",
      "  )\n",
      ")\n"
     ]
    }
   ],
   "source": [
    "# Инициализируем необходимые для обучения элементы\n",
    "model = NeuralNetwork(vocab.vocab_len, review_dataset.len_y_unique())\n",
    "\n",
    "loss_fn = nn.NLLLoss()\n",
    "optimizer = torch.optim.Adam(model.parameters(), lr=0.001)\n",
    "\n",
    "train_dataloader = DataLoader(train_dataset, batch_size=64)\n",
    "test_dataloader = DataLoader(test_dataset, batch_size=64)\n",
    "\n",
    "print(model)"
   ]
  },
  {
   "cell_type": "code",
   "execution_count": 24,
   "metadata": {},
   "outputs": [],
   "source": [
    "def train_loop(\n",
    "        dataloader,\n",
    "        model,\n",
    "        loss_fn,\n",
    "        optimizer,\n",
    "        verbose = 100,\n",
    "        device = \"cpu\",\n",
    ") -> torch.Tensor:\n",
    "    model.train()\n",
    "\n",
    "    size = len(dataloader.dataset)  # noqa\n",
    "    num_batches = len(dataloader)\n",
    "    avg_loss = 0\n",
    "\n",
    "    for batch, (x, y) in enumerate(dataloader):\n",
    "        x, y = x.to(device), y.to(device)\n",
    "\n",
    "        pred = model(x)\n",
    "        loss = loss_fn(pred, y)\n",
    "\n",
    "        optimizer.zero_grad()\n",
    "        loss.backward()\n",
    "        optimizer.step()\n",
    "\n",
    "        avg_loss += loss\n",
    "        if batch % verbose == 0:\n",
    "            print(f\"loss: {loss:>7f}  [{batch * len(x):>5d}/{size:>5d}]\")\n",
    "\n",
    "        del x, y, pred, loss\n",
    "        torch.cuda.empty_cache()\n",
    "\n",
    "    return avg_loss / num_batches"
   ]
  },
  {
   "cell_type": "code",
   "execution_count": 25,
   "metadata": {},
   "outputs": [
    {
     "name": "stdout",
     "output_type": "stream",
     "text": [
      "Epoch 1\n",
      "-------------------------------\n"
     ]
    },
    {
     "ename": "NameError",
     "evalue": "name 'train_dataloader' is not defined",
     "output_type": "error",
     "traceback": [
      "\u001b[0;31m---------------------------------------------------------------------------\u001b[0m",
      "\u001b[0;31mNameError\u001b[0m                                 Traceback (most recent call last)",
      "Input \u001b[0;32mIn [25]\u001b[0m, in \u001b[0;36m<cell line: 7>\u001b[0;34m()\u001b[0m\n\u001b[1;32m      7\u001b[0m \u001b[38;5;28;01mfor\u001b[39;00m t \u001b[38;5;129;01min\u001b[39;00m \u001b[38;5;28mrange\u001b[39m(epochs): \n\u001b[1;32m      8\u001b[0m     \u001b[38;5;28mprint\u001b[39m(\u001b[38;5;124mf\u001b[39m\u001b[38;5;124m\"\u001b[39m\u001b[38;5;124mEpoch \u001b[39m\u001b[38;5;132;01m{\u001b[39;00mt\u001b[38;5;241m+\u001b[39m\u001b[38;5;241m1\u001b[39m\u001b[38;5;132;01m}\u001b[39;00m\u001b[38;5;130;01m\\n\u001b[39;00m\u001b[38;5;124m-------------------------------\u001b[39m\u001b[38;5;124m\"\u001b[39m)\n\u001b[0;32m---> 10\u001b[0m     buf \u001b[38;5;241m=\u001b[39m train_loop(\u001b[43mtrain_dataloader\u001b[49m, model, loss_fn, optimizer)\n\u001b[1;32m     11\u001b[0m     losses[t] \u001b[38;5;241m=\u001b[39m buf\n\u001b[1;32m     12\u001b[0m     losses_plt\u001b[38;5;241m.\u001b[39mappend(buf\u001b[38;5;241m.\u001b[39mitem())\n",
      "\u001b[0;31mNameError\u001b[0m: name 'train_dataloader' is not defined"
     ]
    }
   ],
   "source": [
    "# Обучаем модель\n",
    "\n",
    "losses_plt = []\n",
    "\n",
    "epochs = 5\n",
    "losses = torch.empty(epochs)\n",
    "for t in range(epochs): \n",
    "    print(f\"Epoch {t+1}\\n-------------------------------\")\n",
    "    \n",
    "    buf = train_loop(train_dataloader, model, loss_fn, optimizer)\n",
    "    losses[t] = buf\n",
    "    losses_plt.append(buf.item())\n",
    "    test_loop(test_dataloader, model, loss_fn)\n",
    "print(\"Done!\")"
   ]
  },
  {
   "cell_type": "markdown",
   "metadata": {},
   "source": [
    "3.7 Измерить точность на тестовой выборке. Проверить работоспособность модели: придумать небольшой отзыв, прогнать его через модель и вывести номер предсказанного класса (сделать это для явно позитивного и явно негативного отзыва)"
   ]
  },
  {
   "cell_type": "code",
   "execution_count": 57,
   "metadata": {},
   "outputs": [
    {
     "data": {
      "text/plain": [
       "[<matplotlib.lines.Line2D at 0x14501adf0>]"
      ]
     },
     "execution_count": 57,
     "metadata": {},
     "output_type": "execute_result"
    },
    {
     "data": {
      "image/png": "[encoded data removed]",
      "text/plain": [
       "<Figure size 640x480 with 1 Axes>"
      ]
     },
     "metadata": {},
     "output_type": "display_data"
    }
   ],
   "source": [
    "import matplotlib.pyplot as plt\n",
    "\n",
    "plt.plot(torch.arange(len(losses_plt)), losses_plt)"
   ]
  },
  {
   "cell_type": "markdown",
   "metadata": {},
   "source": [
    "Ошибка loss снижается в зависимоти от номера эпохи -> оно даже правильно работает"
   ]
  },
  {
   "cell_type": "code",
   "execution_count": 58,
   "metadata": {},
   "outputs": [
    {
     "name": "stdout",
     "output_type": "stream",
     "text": [
      "Test Error: \n",
      " Accuracy: 90.0%, Avg loss: 0.396828 \n",
      "\n"
     ]
    }
   ],
   "source": [
    "test_loop(test_dataloader, model, loss_fn)"
   ]
  },
  {
   "cell_type": "code",
   "execution_count": 59,
   "metadata": {},
   "outputs": [],
   "source": [
    "# Прогоняем модель на тестовой выборке\n",
    "y_pred = []\n",
    "y_true = []\n",
    "\n",
    "for inputs, labels in test_dataloader:\n",
    "        output = model(inputs) # Feed Network\n",
    "        output = (torch.max(torch.exp(output), 1)[1]).data.cpu().numpy()\n",
    "        y_pred.extend(output) # Save Prediction\n",
    "        labels = labels.data.cpu().numpy()\n",
    "        y_true.extend(labels) # Save Truth"
   ]
  },
  {
   "cell_type": "code",
   "execution_count": 60,
   "metadata": {},
   "outputs": [
    {
     "name": "stdout",
     "output_type": "stream",
     "text": [
      "              precision    recall  f1-score   support\n",
      "\n",
      "    Negative       0.89      0.92      0.90      5626\n",
      "    Positive       0.91      0.88      0.90      5574\n",
      "\n",
      "    accuracy                           0.90     11200\n",
      "   macro avg       0.90      0.90      0.90     11200\n",
      "weighted avg       0.90      0.90      0.90     11200\n",
      "\n"
     ]
    }
   ],
   "source": [
    "# Получаем метрики модели, полученные по  тестовой выборке\n",
    "print(classification_report(y_true, y_pred, target_names=[\"Negative\", \"Positive\"]))"
   ]
  },
  {
   "cell_type": "markdown",
   "metadata": {},
   "source": [
    "Имеем достаточно хорошую точность. Precision и Recall достаточно хорошие. Можно сказать, что за короткий промежуток времени обучения мы получили хорошую точность модели."
   ]
  },
  {
   "cell_type": "code",
   "execution_count": 66,
   "metadata": {},
   "outputs": [
    {
     "name": "stdout",
     "output_type": "stream",
     "text": [
      "tensor(1)\n",
      "Review: \n",
      "I was here 2 weeks ago. The staff was sociable and recommended the dish of the day to me. Everything was excellent\n",
      "True    : Positive\n",
      "Predicts: Positive\n",
      "\n",
      "tensor(0)\n",
      "Review: \n",
      "I absolutely did not like this service. The meat was cold. I asked to redo it, but it already spoiled my mood\n",
      "True    : Negative\n",
      "Predicts: Negative\n",
      "\n"
     ]
    }
   ],
   "source": [
    "names_list = [\n",
    "\"I was here 2 weeks ago. The staff was sociable and recommended the dish of the day to me. Everything was excellent\",\n",
    "\"I absolutely did not like this service. The meat was cold. I asked to redo it, but it already spoiled my mood\"\n",
    " ]\n",
    "\n",
    "targets_list = [\"Positive\", \"Negative\"]\n",
    "targets_dict = {1:\"Positive\", 0: \"Negative\"}\n",
    "\n",
    "for name, target in zip(names_list, targets_list):\n",
    "\n",
    "    x_test, y_test = review_dataset.vectorize(preprocess_text(name)), target\n",
    "    predict = model(x_test.unsqueeze(0))\n",
    "    pred_proba, pred_label_indices = nn.functional.softmax(predict, 1).topk(1, dim=1)\n",
    "    \n",
    "    res = pred_label_indices.squeeze()\n",
    "    print(res)\n",
    "    pred_labels = targets_dict[pred_label_indices.squeeze().item()]\n",
    "    \n",
    "    targets_list\n",
    "    \n",
    "    print(f\"Review: \\n{name}\")\n",
    "    print(f\"True    : {target}\")\n",
    "    print(f\"Predicts: {pred_labels}\\n\")"
   ]
  },
  {
   "cell_type": "markdown",
   "metadata": {},
   "source": [
    "Вывод всех метрик"
   ]
  },
  {
   "cell_type": "code",
   "execution_count": 67,
   "metadata": {},
   "outputs": [
    {
     "name": "stdout",
     "output_type": "stream",
     "text": [
      "              precision    recall  f1-score   support\n",
      "\n",
      "    Negative       0.89      0.92      0.90      5626\n",
      "    Positive       0.91      0.88      0.90      5574\n",
      "\n",
      "    accuracy                           0.90     11200\n",
      "   macro avg       0.90      0.90      0.90     11200\n",
      "weighted avg       0.90      0.90      0.90     11200\n",
      "\n"
     ]
    }
   ],
   "source": [
    "print(classification_report(y_true, y_pred, target_names=[\"Negative\", \"Positive\"]))"
   ]
  },
  {
   "cell_type": "markdown",
   "metadata": {},
   "source": [
    "Почему так все хорошо и все метрики 90%+ (precision, recall, f1): Скорее всего это из-за того, что используется только 2 класса (т.е. бинарная классификация). Если бы было большее кол-во классов, то ситуация была бы хуже "
   ]
  },
  {
   "cell_type": "code",
   "execution_count": null,
   "metadata": {},
   "outputs": [],
   "source": []
  },
  {
   "cell_type": "code",
   "execution_count": null,
   "metadata": {},
   "outputs": [],
   "source": []
  }
 ],
 "metadata": {
  "colab": {
   "authorship_tag": "ABX9TyMJ70DQQj2X/XaG2BMq6jy8",
   "collapsed_sections": [],
   "name": "blank__05_NLP_1_intro.ipynb",
   "provenance": [],
   "toc_visible": true
  },
  "kernelspec": {
   "display_name": "Python 3 (ipykernel)",
   "language": "python",
   "name": "python3"
  },
  "language_info": {
   "codemirror_mode": {
    "name": "ipython",
    "version": 3
   },
   "file_extension": ".py",
   "mimetype": "text/x-python",
   "name": "python",
   "nbconvert_exporter": "python",
   "pygments_lexer": "ipython3",
   "version": "3.8.13"
  }
 },
 "nbformat": 4,
 "nbformat_minor": 1
}

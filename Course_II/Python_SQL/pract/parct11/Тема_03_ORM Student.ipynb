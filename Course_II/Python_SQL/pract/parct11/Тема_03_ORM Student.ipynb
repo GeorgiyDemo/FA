{
 "cells": [
  {
   "cell_type": "markdown",
   "metadata": {},
   "source": [
    "<img src=\"./Img/banner-fa-49.png\">"
   ]
  },
  {
   "cell_type": "markdown",
   "metadata": {},
   "source": [
    "Учебные материалы дисциплины \"Программирование на языках Python и SQL\" предназначены для семинарских занятий со студентами II курса Финансового университа при Правительстве Российской Федерации.\n",
    "\n",
    "Автор: Смирнов Михаил Викторович, доцент Департамента анализа данных и машинного обучения Финансового университета при Правительстве Российской Федерации. mvsmirnov@fa.ru\n",
    "\n",
    "Москва - 2021\n",
    "\n",
    "При подготовке материалов учебных занятий использовались источники\n",
    "- Essential SQLAlchemy: Mapping Python to Databases 2nd Edition. Jason Myers, Rick Copeland. O'Reilly Media, Inc. 2015.\n",
    "- Астахова И.Ф., Мельников В.М., Толстобров А.П., Фертиков В.В. СУБД: язык SQL в примерах и задачах.—М.:ФИЗМАТЛИТ, 2009. — 168 с. — ISBN 978-5-9221-0816-4.\n",
    "\n",
    "В ряде учебных примеров использованы данные <a href=\"http://insideairbnb.com/get-the-data.html\">Inside Airbnb</a>"
   ]
  },
  {
   "cell_type": "markdown",
   "metadata": {},
   "source": [
    "<a id=T_3></a>\n",
    "# Тема 3. SQLAlchemy ORM\n",
    "\n",
    "<a id=Ref></a>\n",
    "# Оглавление\n",
    "\n",
    "[Введение](#Intro)<br>\n",
    "[3.1. Определение таблиц через классы ORM](#T_3_1)<br>\n",
    "[3.2. Работа с данными](#T_3_2)<br>\n",
    "[3.3. Запросы к данным](#T_3_3)<br>\n",
    "[3.4. Исключения и транзакции](#T_3_4)<br>\n",
    "[3.5. Отображение](#T_3_5)<br>"
   ]
  },
  {
   "cell_type": "markdown",
   "metadata": {},
   "source": [
    "<img src=\"./Img/Label_02.png\">"
   ]
  },
  {
   "cell_type": "markdown",
   "metadata": {},
   "source": [
    "Семинар № 9\n",
    "\n",
    "16 апреля 2021 года <br>\n",
    "ПИ19-3, ПИ19-4 - 3 подгруппа<br>\n",
    "\n",
    "17 апреля 2021 года <br>\n",
    "ПИ19-2, ПИ19-3, ПИ19-4 - 2 подгруппа\n",
    "\n",
    "23 апреля 2021 года <br>\n",
    "ПИ19-4, ПИ19-5 - 4 подгруппа"
   ]
  },
  {
   "cell_type": "markdown",
   "metadata": {},
   "source": [
    "<a id=Intro></a>\n",
    "# Введение\n",
    "[<= ](#Ref)||[ К оглавлению ](#Ref)||[ =>](#T_3_1)\n",
    "\n",
    "ORM - Object-relational mapping - Объектно-реляционное отображение\n",
    "\n",
    "SQLAlchemy ORM обеспечивает эффективный способ привязки схемы и операций базы данных к объектам данных.\n",
    "\n",
    "В SQLAlchemy Core мы создавали контейнер метаданных, а затем объявляли объект *Table*, связанный с этими метаданными. В SQLAlchemy ORM мы будем определять класс, который наследуется от специального базового класса *declarative_base*. Этот базовый класс объединяет контейнер метаданных и средство сопоставления, которое сопоставляет наш класс с таблицей базы данных. Он также сопоставляет экземпляры класса с записями в этой таблице."
   ]
  },
  {
   "cell_type": "markdown",
   "metadata": {},
   "source": [
    "<a id=T_3_1></a>\n",
    "[<= ](#Intro)||[ К оглавлению ](#Ref)||[ =>](#T_3_2)\n",
    "\n",
    "# 3.1. Определение таблиц через классы ORM\n",
    "\n",
    "ORM классы должны:\n",
    "- Происходить от класса *declarative_base*.\n",
    "- Содержать `__tablename__`, которое является именем таблицы базы данных.\n",
    "- Содержать один или несколько атрибутов, которые являются объектами *Column*.\n",
    "- Содержать атрибуты, составляющие первичный ключ.\n",
    "\n",
    "Изучим требование, связанное с атрибутами. Определение столбцов в классе ORM похоже на определение столбцов в объекте *Table*, которое мы изучили в теме SQLAlchemy Core. Однако есть важное отличие. При определении столбцов в классе ORM в качестве имени столбца будет установлено имя атрибута класса, которому он назначен. Все остальное, что связано с типами данных и столбцами, применимо и здесь.\n",
    "\n",
    "<img src=\"./Img/Listings_ORM_Schema.png\">\n",
    "\n",
    "<br><br>\n",
    "Определим таблицу *listings* как класс ORM"
   ]
  },
  {
   "cell_type": "code",
   "execution_count": 1,
   "metadata": {},
   "outputs": [],
   "source": [
    "from sqlalchemy.ext.declarative import declarative_base\n",
    "from sqlalchemy import (Table, Column, \n",
    "                        Integer, Numeric, String, Boolean,\n",
    "                        ForeignKey, ForeignKeyConstraint, CheckConstraint)\n",
    "\n",
    "from datetime import datetime\n",
    "from sqlalchemy import DateTime\n",
    "\n",
    "Base = declarative_base()"
   ]
  },
  {
   "cell_type": "code",
   "execution_count": 2,
   "metadata": {},
   "outputs": [],
   "source": [
    "class Listing(Base):\n",
    "    __tablename__ = 'listings'\n",
    "\n",
    "    listing_id = Column(Integer(), primary_key = True)\n",
    "    listing_name = Column(String(50), index = True, nullable = False)\n",
    "    listing_url = Column(String(50))\n",
    "    host_id = Column(Integer())\n",
    "    neighbourhood_id = Column(Integer())\n",
    "    amenities = Column(String(250))\n",
    "    property_type_id = Column(Integer())\n",
    "    room_type_id = Column(Integer())\n",
    "    bedrooms = Column(Integer())\n",
    "    beds = Column(Integer())\n",
    "    price = Column('price',Numeric(7,2))\n",
    "    \n",
    "    __table_args__ = (\n",
    "        ForeignKeyConstraint(['neighbourhood_id'],['neighbourhoods.neigh_id']),\n",
    "        ForeignKeyConstraint(['property_type_id'], ['property_types.property_type_id']),\n",
    "        ForeignKeyConstraint(['room_type_id'], ['room_types.room_type_id']),\n",
    "        CheckConstraint('price >= 0.00', name='listing_price_positive')\n",
    "    )\n",
    "    "
   ]
  },
  {
   "cell_type": "markdown",
   "metadata": {},
   "source": [
    "В этом примере *Base* - экземпляр класса *declarative_base()*. Затем создается дочерний класс *Listings*. Определяется имя таблицы 'listings'. Определяются атрибуты, устанавливается первичный ключ. Обратимся к свойству `__table__` класса."
   ]
  },
  {
   "cell_type": "code",
   "execution_count": 3,
   "metadata": {},
   "outputs": [
    {
     "data": {
      "text/plain": [
       "Table('listings', MetaData(), Column('listing_id', Integer(), table=<listings>, primary_key=True, nullable=False), Column('listing_name', String(length=50), table=<listings>, nullable=False), Column('listing_url', String(length=50), table=<listings>), Column('host_id', Integer(), table=<listings>), Column('neighbourhood_id', Integer(), ForeignKey('neighbourhoods.neigh_id'), table=<listings>), Column('amenities', String(length=250), table=<listings>), Column('property_type_id', Integer(), ForeignKey('property_types.property_type_id'), table=<listings>), Column('room_type_id', Integer(), ForeignKey('room_types.room_type_id'), table=<listings>), Column('bedrooms', Integer(), table=<listings>), Column('beds', Integer(), table=<listings>), Column('price', Numeric(precision=7, scale=2), table=<listings>), schema=None)"
      ]
     },
     "execution_count": 3,
     "metadata": {},
     "output_type": "execute_result"
    }
   ],
   "source": [
    "Listing.__table__"
   ]
  },
  {
   "cell_type": "markdown",
   "metadata": {},
   "source": [
    "Создадим класс для клиентов"
   ]
  },
  {
   "cell_type": "code",
   "execution_count": 4,
   "metadata": {},
   "outputs": [],
   "source": [
    "from datetime import datetime\n",
    "from sqlalchemy import DateTime\n",
    "\n",
    "class User(Base):\n",
    "    __tablename__ = 'users'\n",
    "    \n",
    "    user_id = Column(Integer(), primary_key = True)\n",
    "    username = Column(String(15), nullable = False, unique = True)\n",
    "    email_address = Column(String(255), nullable = False)\n",
    "    phone = Column(String(20), nullable = False)\n",
    "    password = Column(String(25), nullable = False)\n",
    "    created_on = Column(DateTime(), default = datetime.now)\n",
    "    updated_on = Column(DateTime(), default = datetime.now, onupdate=datetime.now)"
   ]
  },
  {
   "cell_type": "markdown",
   "metadata": {},
   "source": [
    "Здесь мы определили несколько атрибутов, которые не могут оставаться пустыми. Требуется уникальное значение *username*. Для атрибута *updated_on* мы установили текущее время по умолчанию, если время не указано. Использование *onupdate* приведет к установке текущего времени при обновлении любого атрибута записи."
   ]
  },
  {
   "cell_type": "markdown",
   "metadata": {},
   "source": [
    "## 3.1.1. Ключи, ограничения, индексы\n",
    "\n",
    "Ранее, в разделе *Core*, мы изучили, что ключи и ограничения могут задаваться как в составе элемента *Column()* конструктора *Table*, так и в явном виде. Например, в *line_items* атрибут *order_id* является внешним ключом, тода\n",
    "\n",
    "`ForeignKeyConstraint(['order_id'], ['order.order_id'])`. \n",
    "\n",
    "В ORM также существует для этого два способа, но так как конструктор *Table* здесь не используется, то применяются свойства класса. \n",
    "\n",
    "```\n",
    "user_id = Column(Integer(), ForeignKey('users.user_id'))\n",
    "```\n",
    "\n",
    "Для задания ограничения в явном виде в классе используется `__table_args__`\n",
    "\n",
    "```\n",
    "class SomeDataClass(Base):\n",
    "    __tablename__ = 'somedatatable'\n",
    "    __table_args__ = (ForeignKeyConstraint(['id'], ['other_table.id']),\n",
    "                      CheckConstraint(price >= 0.00', name='unit_cost_positive'))\n",
    "```\n",
    "В данном примере значением `__table_args__` является кортеж.\n",
    "\n",
    "### Задание 3.1.1.1.\n",
    "Создать классы *Order, Line_item, Host, Neighbourhood, Room_type, Property_type*. Создать базу данных *Listings.db*"
   ]
  },
  {
   "cell_type": "code",
   "execution_count": 5,
   "metadata": {},
   "outputs": [],
   "source": [
    "# Ваш код здесь\n"
   ]
  },
  {
   "cell_type": "code",
   "execution_count": 6,
   "metadata": {},
   "outputs": [],
   "source": [
    "class Order(Base):\n",
    "\n",
    "    __tablename__ = 'orders'\n",
    "    order_id = Column(Integer(), primary_key = True)\n",
    "    user_id = Column(Integer())\n",
    "    \n",
    "    __table_args__ = (ForeignKeyConstraint(['user_id'], ['users.user_id']),)"
   ]
  },
  {
   "cell_type": "code",
   "execution_count": 7,
   "metadata": {},
   "outputs": [
    {
     "data": {
      "text/plain": [
       "Table('orders', MetaData(), Column('order_id', Integer(), table=<orders>, primary_key=True, nullable=False), Column('user_id', Integer(), ForeignKey('users.user_id'), table=<orders>), schema=None)"
      ]
     },
     "execution_count": 7,
     "metadata": {},
     "output_type": "execute_result"
    }
   ],
   "source": [
    "Order.__table__"
   ]
  },
  {
   "cell_type": "code",
   "execution_count": 8,
   "metadata": {},
   "outputs": [],
   "source": [
    "class Line_item(Base):\n",
    "    \n",
    "    __tablename__ = 'line_items'\n",
    "    item_id = Column(Integer(), primary_key = True)\n",
    "    order_id = Column(Integer(), ForeignKey('orders.order_id'))\n",
    "    listing_id = Column(Integer(), ForeignKey('listings.listing_id'))\n",
    "    item_start_date = Column(DateTime(), nullable = False, default = datetime.now)\n",
    "    item_end_date = Column('item_end_date', DateTime(), nullable = False)"
   ]
  },
  {
   "cell_type": "code",
   "execution_count": 9,
   "metadata": {},
   "outputs": [
    {
     "data": {
      "text/plain": [
       "Table('line_items', MetaData(), Column('item_id', Integer(), table=<line_items>, primary_key=True, nullable=False), Column('order_id', Integer(), ForeignKey('orders.order_id'), table=<line_items>), Column('listing_id', Integer(), ForeignKey('listings.listing_id'), table=<line_items>), Column('item_start_date', DateTime(), table=<line_items>, nullable=False, default=ColumnDefault(<function datetime.now at 0x1112ea3a0>)), Column('item_end_date', DateTime(), table=<line_items>, nullable=False), schema=None)"
      ]
     },
     "execution_count": 9,
     "metadata": {},
     "output_type": "execute_result"
    }
   ],
   "source": [
    "Line_item.__table__"
   ]
  },
  {
   "cell_type": "code",
   "execution_count": 10,
   "metadata": {},
   "outputs": [],
   "source": [
    "class Host(Base):\n",
    "    \n",
    "    __tablename__ = 'hosts'\n",
    "    host_id = Column(Integer(), primary_key = True)\n",
    "    host_name = Column(String(50), nullable = False)"
   ]
  },
  {
   "cell_type": "code",
   "execution_count": 11,
   "metadata": {},
   "outputs": [],
   "source": [
    "class Neighbourhood(Base):\n",
    "    \n",
    "    __tablename__ = 'neighbourhoods'\n",
    "    neigh_id = Column(Integer(), primary_key = True)\n",
    "    neigh_name = Column(String(50), nullable = False, unique = True)"
   ]
  },
  {
   "cell_type": "code",
   "execution_count": 12,
   "metadata": {},
   "outputs": [],
   "source": [
    "class Room_type(Base):\n",
    "    \n",
    "    __tablename__ = 'room_types'\n",
    "    room_type_id = Column(Integer(), primary_key = True)\n",
    "    room_type_name = Column(String(50), nullable = False)"
   ]
  },
  {
   "cell_type": "code",
   "execution_count": 13,
   "metadata": {},
   "outputs": [],
   "source": [
    "class Property_type(Base):\n",
    "    \n",
    "    __tablename__ = 'property_types'\n",
    "    property_type_id = Column(Integer(), primary_key = True)\n",
    "    property_type_name = Column(String(50), nullable = False)"
   ]
  },
  {
   "cell_type": "markdown",
   "metadata": {},
   "source": [
    "## 3.1.2. Сохранение схемы"
   ]
  },
  {
   "cell_type": "code",
   "execution_count": 14,
   "metadata": {},
   "outputs": [],
   "source": [
    "from sqlalchemy import create_engine\n",
    "engine = create_engine('sqlite:///Listings.db')\n",
    "\n",
    "Base.metadata.create_all(engine)"
   ]
  },
  {
   "cell_type": "markdown",
   "metadata": {},
   "source": [
    "## 3.1.3. Связи\n",
    "В *ORM* имеются некоторые различия при связывании таблиц по сравнению с *Core*. *ORM* также использует *ForeignKey* для ограничения и связывания объектов. Однако *ORM* использует директиву *relationship* чтобы предоставить свойство доступа к связанному объекту. Это добавляет некоторые накладные расходы при использовании *ORM*; однако плюсы перевешивают недостатки. В примере показано, как определить связи с помощью методов *relationship* и *backref*.\n",
    "```\n",
    "from sqlalchemy.orm import relationship, backref\n",
    "\n",
    "class Orders(Base):\n",
    "    __tablename__='orders'\n",
    "    order_id=Column(Integer(), primary_key=True)\n",
    "    user_id=Column(Integer(), ForeignKey('users.user_id'))\n",
    "\n",
    "    User=relationship('Users', backref=backref('orders', order_by=order_id))\n",
    "```\n",
    "Таким образом, в классе *Orders*, устанавливается отношение «один ко многим» с классом *Users*. Мы можем связать пользователя с его заказом, обратившись к свойству *user*. Это отношение также устанавливает свойство *orders* в классе *Users* через аргумент ключевого слова *backref*, которое упорядочивается по *order_id*. Директиве *relationship* требуется целевой класс для отношения, и она может дополнительно включать обратное отношение для целевого класса. *SQLAlchemy* знает, как сопоставить заданный нами *ForeignKey* с классом, который мы определили в отношении. В этом примере команда `ForeignKey(users.user_id)` сопоставляется с классом *User* через атрибут `__tablename__` пользователей и формирует связь. В строке \n",
    "```\n",
    "User=relationship('Users', backref=backref('orders', order_by=order_id))\n",
    "```\n",
    "устанавливается связь *один ко многим*.\n",
    "\n",
    "Также возможно установить взаимно-однозначное отношение *один к одному*. В следующем примере класс *Line_items* имеет взаимно-однозначное отношение с классом *Listings*. Аргумент ключевого слова `uselist = False` определяет его как взаимно однозначное отношение. Здесь используется более простая обратная ссылка, поскольку нам не нужно контролировать порядок.\n",
    "```\n",
    "class Line_items(Base):\n",
    "    \n",
    "    __tablename__='line_items'\n",
    "    item_id=Column(Integer(), primary_key=True)\n",
    "    order_id=Column(Integer(), ForeignKey('orders.order_id'))\n",
    "    listing_id=Column(Integer(), ForeignKey('listings.listing_id'))\n",
    "    item_start_date=Column(DateTime(), nullable=False, default=datetime.now)\n",
    "    item_end_date=Column('item_end_date', DateTime(), nullable=False)\n",
    "    \n",
    "    Order=relationship(\"Orders\", backref=backref('line_items', order_by=line_item_id))\n",
    "    Listing=relationship(\"Listings\", uselist=False))\n",
    "```"
   ]
  },
  {
   "cell_type": "markdown",
   "metadata": {},
   "source": [
    "<a id=T_3_2></a>\n",
    "[<= ](#T_3_1)||[ К оглавлению ](#Ref)||[ =>](#T_3_3)\n",
    "# 3.2. Работа с данными\n",
    "\n",
    "\n",
    "## 3.2.1. Сеанс\n",
    "\n",
    "Сеанс - это способ взаимодействия *ORM SQLAlchemy* с базой данных. Она \"обертывает\" соединение с базой данных через механизм и предоставляет карту идентификации для объектов, которые вы загружаете через сеанс или связываете с сеансом. Карта идентификации - это структура данных, подобная кешу, которая содержит уникальный список объектов, определяемый таблицей объекта и первичным ключом. Сеанс также \"обертывает\" транзакцию, и эта транзакция будет открыта до тех пор, пока сеанс не будет зафиксирован или не пройзойдет откат, что очень похоже на процесс, описанный в теме *Core*.\n",
    "\n",
    "Для нового сеанса SQLAlchemy предоставляет класс *sessionmaker*, чтобы гарантировать, что сеансы могут быть созданы с одинаковыми параметрами во всем приложении. SQLAlchemy делает это путем создания класса сеанса (Session), который настроен в соответствии с аргументами, переданными в класс *sessionmaker*, который следует использовать только один раз в глобальной области действия приложения и рассматривать как параметр конфигурации. Создадим новый сеанс, связанный с базой данных SQLite в памяти:"
   ]
  },
  {
   "cell_type": "code",
   "execution_count": 3,
   "metadata": {},
   "outputs": [],
   "source": [
    "from sqlalchemy import create_engine\n",
    "from sqlalchemy.orm import sessionmaker # 1 \n",
    "\n",
    "engine = create_engine('sqlite:///:memory:') # 2\n",
    "\n",
    "Session = sessionmaker(bind=engine) # 3\n",
    "\n",
    "session = Session() # 4"
   ]
  },
  {
   "cell_type": "markdown",
   "metadata": {},
   "source": [
    "1. Импорт модуля создания сеанса *sessionmaker*\n",
    "2. База данных SQLite в памяти\n",
    "3. Определение класса сеанса с привязкой к механизму.\n",
    "4. Создание сеанса.\n",
    "\n",
    "Теперь у нас есть сеанс, который мы можем использовать для взаимодействия с базой данных. Определим классы таблиц базы данных. Дополнительно добавим методы `__repr__`, чтобы упростить просмотр и воссоздание экземпляров объектов."
   ]
  },
  {
   "cell_type": "code",
   "execution_count": 4,
   "metadata": {},
   "outputs": [],
   "source": [
    "from datetime import datetime\n",
    "\n",
    "from sqlalchemy import (Table, Column, \n",
    "                        Integer, Numeric, String, Boolean, DateTime,\n",
    "                        ForeignKey, ForeignKeyConstraint, CheckConstraint)\n",
    "\n",
    "from sqlalchemy.ext.declarative import declarative_base\n",
    "from sqlalchemy.orm import relationship, backref\n",
    "\n",
    "Base = declarative_base()\n",
    "\n",
    "\n",
    "class User(Base):\n",
    "    __tablename__ = 'users'\n",
    "    \n",
    "    user_id = Column(Integer(), primary_key = True)\n",
    "    username = Column(String(15), nullable = False, unique = True)\n",
    "    email_address = Column(String(255), nullable = False)\n",
    "    phone = Column(String(20), nullable = False)\n",
    "    password = Column(String(25), nullable = False)\n",
    "    created_on = Column(DateTime(), default = datetime.now)\n",
    "    updated_on = Column(DateTime(), default = datetime.now, onupdate=datetime.now)\n",
    "\n",
    "    def __repr__(self):\n",
    "        return \"User(username='{self.username}', \" \\\n",
    "                     \"email_address='{self.email_address}', \" \\\n",
    "                     \"phone='{self.phone}', \" \\\n",
    "                     \"password='{self.password}')\".format(self=self)\n",
    "\n",
    "    \n",
    "class Order(Base):\n",
    "\n",
    "    __tablename__ = 'orders'\n",
    "    order_id = Column(Integer(), primary_key = True)\n",
    "    user_id = Column(Integer())\n",
    "    \n",
    "    __table_args__ = (ForeignKeyConstraint(['user_id'], ['users.user_id']),)\n",
    "    \n",
    "    User=relationship(\"User\", backref=backref('orders', order_by=order_id))\n",
    "    \n",
    "    def __repr__(self):\n",
    "        return \"Order(user_id='{self.user_id}')\".format(self=self)\n",
    "    \n",
    "\n",
    "class Line_item(Base):\n",
    "    \n",
    "    __tablename__ = 'line_items'\n",
    "    item_id = Column(Integer(), primary_key = True)\n",
    "    order_id = Column(Integer(), ForeignKey('orders.order_id'))\n",
    "    listing_id = Column(Integer(), ForeignKey('listings.listing_id'))\n",
    "    item_start_date = Column(DateTime(), nullable = False, default = datetime.now)\n",
    "    item_end_date = Column('item_end_date', DateTime(), nullable = False)\n",
    "    \n",
    "    Order=relationship(\"Order\", backref=backref('line_items', order_by=item_id))\n",
    "    Listing=relationship(\"Listing\", uselist=False)\n",
    "    \n",
    "    def __repr__(self):\n",
    "        return \"Line_item(order_id='{self.order_id}', \" \\\n",
    "                        \"listing_id='{self.listing_id}', \" \\\n",
    "                        \"item_start_date='{self.item_start_date}', \" \\\n",
    "                        \"item_end_date='{self.item_end_date}')\".format(self=self)\n",
    "\n",
    "\n",
    "class Host(Base):\n",
    "    \n",
    "    __tablename__ = 'hosts'\n",
    "    host_id = Column(Integer(), primary_key = True)\n",
    "    host_name = Column(String(50), nullable = False)\n",
    "    def __repr__(self):\n",
    "        return \"Host(host_id='{self.host_name}')\".format(self=self)\n",
    "    \n",
    "    \n",
    "class Neighbourhood(Base):\n",
    "    \n",
    "    __tablename__ = 'neighbourhoods'\n",
    "    neigh_id = Column(Integer(), primary_key = True)\n",
    "    neigh_name = Column(String(50), nullable = False, unique = True)\n",
    "    def __repr__(self):\n",
    "        return \"Neighbourhood(neigh_name='{self.neigh_name}')\".format(self=self)\n",
    "    \n",
    "    \n",
    "class Room_type(Base):\n",
    "    \n",
    "    __tablename__ = 'room_types'\n",
    "    room_type_id = Column(Integer(), primary_key = True)\n",
    "    room_type_name = Column(String(50), nullable = False)\n",
    "    def __repr__(self):\n",
    "        return \"Room_type(room_type_name='{self.room_type_name}')\".format(self=self)"
   ]
  },
  {
   "cell_type": "markdown",
   "metadata": {},
   "source": [
    "### Задание 3.2.1.1.\n",
    "\n",
    "Создайте класс *Property_type* для справочника типов собственности *property_types*"
   ]
  },
  {
   "cell_type": "code",
   "execution_count": 5,
   "metadata": {},
   "outputs": [],
   "source": [
    "# Ваш код здесь\n"
   ]
  },
  {
   "cell_type": "code",
   "execution_count": 6,
   "metadata": {},
   "outputs": [],
   "source": [
    "class Property_type(Base):\n",
    "    \n",
    "    __tablename__ = 'property_types'\n",
    "    property_type_id = Column(Integer(), primary_key = True)\n",
    "    property_type_name = Column(String(50), nullable = False)\n",
    "    def __repr__(self):\n",
    "        return \"Property_type(property_type_name='{self.property_type_name}')\".format(self=self)"
   ]
  },
  {
   "cell_type": "markdown",
   "metadata": {},
   "source": [
    "### Задание 3.2.1.2.\n",
    "Создайте класс *Listing* с отношениями к классам *Host, Neighbourhood, Room_type, Property_type, Line_item* и методами `__repr__`"
   ]
  },
  {
   "cell_type": "code",
   "execution_count": 7,
   "metadata": {},
   "outputs": [],
   "source": [
    "# Ваш код здесь\n"
   ]
  },
  {
   "cell_type": "code",
   "execution_count": 8,
   "metadata": {},
   "outputs": [],
   "source": [
    "class Listing(Base):\n",
    "    __tablename__ = 'listings'\n",
    "\n",
    "    listing_id = Column(Integer(), primary_key = True)\n",
    "    listing_name = Column(String(50), index = True, nullable = False)\n",
    "    listing_url = Column(String(50))\n",
    "    host_id = Column(Integer())\n",
    "    neighbourhood_id = Column(Integer())\n",
    "    amenities = Column(String(250))\n",
    "    property_type_id = Column(Integer())\n",
    "    room_type_id = Column(Integer())\n",
    "    bedrooms = Column(Integer())\n",
    "    beds = Column(Integer())\n",
    "    price = Column('price',Numeric(7,2))\n",
    "    \n",
    "    __table_args__ = (\n",
    "        ForeignKeyConstraint(['neighbourhood_id'],['neighbourhoods.neigh_id']),\n",
    "        ForeignKeyConstraint(['property_type_id'], ['property_types.property_type_id']),\n",
    "        ForeignKeyConstraint(['room_type_id'], ['room_types.room_type_id']),\n",
    "        ForeignKeyConstraint(['host_id'], ['hosts.host_id']),\n",
    "        CheckConstraint('price >= 0.00', name='listing_price_positive')\n",
    "    )\n",
    "    \n",
    "    Host=relationship('Host', backref=backref('listings', order_by=listing_id))\n",
    "    Neighbourhood=relationship('Neighbourhood', backref=backref('listings', order_by=listing_id))\n",
    "    Property_type=relationship('Property_type', backref=backref('listings', order_by=listing_id))\n",
    "    Room_type=relationship('Room_type', backref=backref('listings', order_by=listing_id))\n",
    "\n",
    "    \n",
    "    def __repr__(self):\n",
    "        return \"Listing(listing_name='{self.listing_name}', \" \\\n",
    "                       \"listing_url='{self.listing_url}', \" \\\n",
    "                       \"amenities='{self.amenities}', \" \\\n",
    "                       \"bedrooms='{self.bedrooms}', \" \\\n",
    "                       \"price='{self.price}')\".format(self=self)"
   ]
  },
  {
   "cell_type": "code",
   "execution_count": 9,
   "metadata": {},
   "outputs": [],
   "source": [
    "Base.metadata.create_all(engine)"
   ]
  },
  {
   "cell_type": "markdown",
   "metadata": {},
   "source": [
    "## 3.2.2. Вставка данных"
   ]
  },
  {
   "cell_type": "code",
   "execution_count": 10,
   "metadata": {},
   "outputs": [],
   "source": [
    "import pandas as pd"
   ]
  },
  {
   "cell_type": "code",
   "execution_count": 11,
   "metadata": {},
   "outputs": [
    {
     "data": {
      "text/html": [
       "<div>\n",
       "<style scoped>\n",
       "    .dataframe tbody tr th:only-of-type {\n",
       "        vertical-align: middle;\n",
       "    }\n",
       "\n",
       "    .dataframe tbody tr th {\n",
       "        vertical-align: top;\n",
       "    }\n",
       "\n",
       "    .dataframe thead th {\n",
       "        text-align: right;\n",
       "    }\n",
       "</style>\n",
       "<table border=\"1\" class=\"dataframe\">\n",
       "  <thead>\n",
       "    <tr style=\"text-align: right;\">\n",
       "      <th></th>\n",
       "      <th>id</th>\n",
       "      <th>listing_url</th>\n",
       "      <th>name</th>\n",
       "      <th>host_id</th>\n",
       "      <th>host_name</th>\n",
       "      <th>host_is_superhost</th>\n",
       "      <th>neighbourhood_cleansed</th>\n",
       "      <th>property_type</th>\n",
       "      <th>room_type</th>\n",
       "      <th>bathrooms_text</th>\n",
       "      <th>...</th>\n",
       "      <th>last_review</th>\n",
       "      <th>review_scores_rating</th>\n",
       "      <th>review_scores_accuracy</th>\n",
       "      <th>review_scores_cleanliness</th>\n",
       "      <th>review_scores_checkin</th>\n",
       "      <th>review_scores_communication</th>\n",
       "      <th>review_scores_location</th>\n",
       "      <th>review_scores_value</th>\n",
       "      <th>reviews_per_month</th>\n",
       "      <th>Random</th>\n",
       "    </tr>\n",
       "  </thead>\n",
       "  <tbody>\n",
       "    <tr>\n",
       "      <th>0</th>\n",
       "      <td>20168</td>\n",
       "      <td>https://www.airbnb.com/rooms/20168</td>\n",
       "      <td>Studio with private bathroom in the centre 1</td>\n",
       "      <td>59484</td>\n",
       "      <td>Alexander</td>\n",
       "      <td>f</td>\n",
       "      <td>Centrum-Oost</td>\n",
       "      <td>Private room in townhouse</td>\n",
       "      <td>Private room</td>\n",
       "      <td>1 private bath</td>\n",
       "      <td>...</td>\n",
       "      <td>2020-04-09</td>\n",
       "      <td>89</td>\n",
       "      <td>10.0</td>\n",
       "      <td>10.0</td>\n",
       "      <td>10.0</td>\n",
       "      <td>10.0</td>\n",
       "      <td>10.0</td>\n",
       "      <td>9.0</td>\n",
       "      <td>2.58</td>\n",
       "      <td>0</td>\n",
       "    </tr>\n",
       "  </tbody>\n",
       "</table>\n",
       "<p>1 rows × 26 columns</p>\n",
       "</div>"
      ],
      "text/plain": [
       "      id                         listing_url  \\\n",
       "0  20168  https://www.airbnb.com/rooms/20168   \n",
       "\n",
       "                                           name  host_id  host_name  \\\n",
       "0  Studio with private bathroom in the centre 1    59484  Alexander   \n",
       "\n",
       "  host_is_superhost neighbourhood_cleansed              property_type  \\\n",
       "0                 f           Centrum-Oost  Private room in townhouse   \n",
       "\n",
       "      room_type  bathrooms_text  ...  last_review  review_scores_rating  \\\n",
       "0  Private room  1 private bath  ...   2020-04-09                    89   \n",
       "\n",
       "  review_scores_accuracy  review_scores_cleanliness  review_scores_checkin  \\\n",
       "0                   10.0                       10.0                   10.0   \n",
       "\n",
       "  review_scores_communication review_scores_location  review_scores_value  \\\n",
       "0                        10.0                   10.0                  9.0   \n",
       "\n",
       "   reviews_per_month  Random  \n",
       "0               2.58       0  \n",
       "\n",
       "[1 rows x 26 columns]"
      ]
     },
     "execution_count": 11,
     "metadata": {},
     "output_type": "execute_result"
    }
   ],
   "source": [
    "df = pd.read_csv('./Data/ListingsAm.csv', sep=\";\")\n",
    "df.head(1)"
   ]
  },
  {
   "cell_type": "code",
   "execution_count": 12,
   "metadata": {},
   "outputs": [
    {
     "name": "stdout",
     "output_type": "stream",
     "text": [
      "<class 'pandas.core.frame.DataFrame'>\n",
      "RangeIndex: 3436 entries, 0 to 3435\n",
      "Data columns (total 26 columns):\n",
      " #   Column                       Non-Null Count  Dtype  \n",
      "---  ------                       --------------  -----  \n",
      " 0   id                           3436 non-null   int64  \n",
      " 1   listing_url                  3436 non-null   object \n",
      " 2   name                         3433 non-null   object \n",
      " 3   host_id                      3436 non-null   int64  \n",
      " 4   host_name                    3436 non-null   object \n",
      " 5   host_is_superhost            3436 non-null   object \n",
      " 6   neighbourhood_cleansed       3436 non-null   object \n",
      " 7   property_type                3436 non-null   object \n",
      " 8   room_type                    3436 non-null   object \n",
      " 9   bathrooms_text               3433 non-null   object \n",
      " 10  bedrooms                     3286 non-null   float64\n",
      " 11  beds                         3435 non-null   float64\n",
      " 12  amenities                    3436 non-null   object \n",
      " 13  price                        3436 non-null   float64\n",
      " 14  number_of_reviews            3436 non-null   int64  \n",
      " 15  first_review                 3436 non-null   object \n",
      " 16  last_review                  3436 non-null   object \n",
      " 17  review_scores_rating         3436 non-null   int64  \n",
      " 18  review_scores_accuracy       3434 non-null   float64\n",
      " 19  review_scores_cleanliness    3434 non-null   float64\n",
      " 20  review_scores_checkin        3433 non-null   float64\n",
      " 21  review_scores_communication  3435 non-null   float64\n",
      " 22  review_scores_location       3434 non-null   float64\n",
      " 23  review_scores_value          3434 non-null   float64\n",
      " 24  reviews_per_month            3436 non-null   float64\n",
      " 25  Random                       3436 non-null   int64  \n",
      "dtypes: float64(10), int64(5), object(11)\n",
      "memory usage: 698.1+ KB\n"
     ]
    }
   ],
   "source": [
    "df.info()"
   ]
  },
  {
   "cell_type": "markdown",
   "metadata": {},
   "source": [
    "Подготовим справочник районов"
   ]
  },
  {
   "cell_type": "code",
   "execution_count": 13,
   "metadata": {
    "scrolled": false
   },
   "outputs": [
    {
     "data": {
      "text/plain": [
       "{1: 'Bos en Lommer',\n",
       " 2: 'Buitenveldert - Zuidas',\n",
       " 3: 'Centrum-Oost',\n",
       " 4: 'Centrum-West',\n",
       " 5: 'De Aker - Nieuw Sloten',\n",
       " 6: 'De Baarsjes - Oud-West',\n",
       " 7: 'De Pijp - Rivierenbuurt',\n",
       " 8: 'Geuzenveld - Slotermeer',\n",
       " 9: 'IJburg - Zeeburgereiland',\n",
       " 10: 'Noord-Oost',\n",
       " 11: 'Noord-West',\n",
       " 12: 'Oostelijk Havengebied - Indische Buurt',\n",
       " 13: 'Osdorp',\n",
       " 14: 'Oud-Noord',\n",
       " 15: 'Oud-Oost',\n",
       " 16: 'Slotervaart',\n",
       " 17: 'Watergraafsmeer',\n",
       " 18: 'Westerpark',\n",
       " 19: 'Zuid'}"
      ]
     },
     "execution_count": 13,
     "metadata": {},
     "output_type": "execute_result"
    }
   ],
   "source": [
    "neigh_df = df[\"neighbourhood_cleansed\"].value_counts().sort_index().reset_index()\n",
    "neigh_df.index=range(1, len(neigh_df)+1)\n",
    "neigh_dict = neigh_df[\"index\"].to_dict()\n",
    "neigh_dict"
   ]
  },
  {
   "cell_type": "code",
   "execution_count": 14,
   "metadata": {},
   "outputs": [],
   "source": [
    "for key, value in neigh_dict.items():\n",
    "    w = Neighbourhood(neigh_id = key, neigh_name = value)\n",
    "    session.add(w)\n",
    "session.commit()"
   ]
  },
  {
   "cell_type": "code",
   "execution_count": 15,
   "metadata": {},
   "outputs": [
    {
     "name": "stdout",
     "output_type": "stream",
     "text": [
      "19 Zuid\n"
     ]
    }
   ],
   "source": [
    "print(w.neigh_id, w.neigh_name)"
   ]
  },
  {
   "cell_type": "markdown",
   "metadata": {},
   "source": [
    "### Задание 3.2.2.1.\n",
    "Создайте справочники владельцев недвижимости, типов комнат и типов собственности. При создании справочника владельцев в качестве значения первичного ключа укажите значение индекса владельца из *ListingsAm.csv*\n",
    "\n",
    "Чтобы добавить запись, содержащую значения нескольких столбцов, например первичного ключа и названия, можно в одном выражении указать несколько параметров класса таблицы:\n",
    "\n",
    "```\n",
    "w=ClassName(Column_1=value_1, Column_2=value_2, ... Column_n=value_n)\n",
    "sesseion.add(w)\n",
    "```"
   ]
  },
  {
   "cell_type": "code",
   "execution_count": 16,
   "metadata": {},
   "outputs": [],
   "source": [
    "# Ваш код здесь\n"
   ]
  },
  {
   "cell_type": "code",
   "execution_count": 17,
   "metadata": {
    "scrolled": true
   },
   "outputs": [
    {
     "data": {
      "text/plain": [
       "host_id  host_name      \n",
       "47517    Geert Alexander    1\n",
       "59484    Alexander          1\n",
       "61977    Marjolein          1\n",
       "81046    Fabienne           1\n",
       "92194    Taco & Iwanna      1\n",
       "Name: host_id, dtype: int64"
      ]
     },
     "execution_count": 17,
     "metadata": {},
     "output_type": "execute_result"
    }
   ],
   "source": [
    "H=df[['host_id','host_name']].groupby([\"host_id\", \"host_name\"])['host_id'].count()\n",
    "H.head()"
   ]
  },
  {
   "cell_type": "code",
   "execution_count": 18,
   "metadata": {},
   "outputs": [
    {
     "data": {
      "text/plain": [
       "'Alexander'"
      ]
     },
     "execution_count": 18,
     "metadata": {},
     "output_type": "execute_result"
    }
   ],
   "source": [
    "item=H.index[1]\n",
    "item[1]"
   ]
  },
  {
   "cell_type": "code",
   "execution_count": 19,
   "metadata": {
    "scrolled": true
   },
   "outputs": [
    {
     "data": {
      "text/plain": [
       "(331113200, 'Jennifer')"
      ]
     },
     "execution_count": 19,
     "metadata": {},
     "output_type": "execute_result"
    }
   ],
   "source": [
    "for item in H.index:\n",
    "    w = Host(host_id=item[0], host_name=item[1])\n",
    "    session.add(w)\n",
    "\n",
    "session.commit()\n",
    "w.host_id, w.host_name"
   ]
  },
  {
   "cell_type": "markdown",
   "metadata": {},
   "source": [
    "Проверка, что записано в таблицу *hosts*, сколько записей в таблице *hosts*."
   ]
  },
  {
   "cell_type": "code",
   "execution_count": 20,
   "metadata": {},
   "outputs": [
    {
     "data": {
      "text/plain": [
       "Table('hosts', MetaData(), Column('host_id', Integer(), table=<hosts>, primary_key=True, nullable=False), Column('host_name', String(length=50), table=<hosts>, nullable=False), schema=None)"
      ]
     },
     "execution_count": 20,
     "metadata": {},
     "output_type": "execute_result"
    }
   ],
   "source": [
    "Host.__table__"
   ]
  },
  {
   "cell_type": "code",
   "execution_count": 21,
   "metadata": {},
   "outputs": [
    {
     "data": {
      "text/plain": [
       "[(47517, 'Geert Alexander'), (59484, 'Alexander'), (61977, 'Marjolein')]"
      ]
     },
     "execution_count": 21,
     "metadata": {},
     "output_type": "execute_result"
    }
   ],
   "source": [
    "from sqlalchemy import select\n",
    "connection = engine.connect()\n",
    "sel = select([Host])\n",
    "sel = sel.limit(3)\n",
    "rp = connection.execute(sel)\n",
    "rp.fetchall()"
   ]
  },
  {
   "cell_type": "code",
   "execution_count": 22,
   "metadata": {},
   "outputs": [
    {
     "ename": "ArgumentError",
     "evalue": "SQL expression element expected, got Table('hosts', MetaData(), Column('host_id', Integer(), table=<hosts>, primary_key=True, nullable=False), Column('host_name', String(length=50), table=<hosts>, nullable=False), schema=None). To create a column expression from a FROM clause row as a whole, use the .table_valued() method.",
     "output_type": "error",
     "traceback": [
      "\u001b[0;31m---------------------------------------------------------------------------\u001b[0m",
      "\u001b[0;31mArgumentError\u001b[0m                             Traceback (most recent call last)",
      "\u001b[0;32m<ipython-input-22-3c635db1742d>\u001b[0m in \u001b[0;36m<module>\u001b[0;34m\u001b[0m\n\u001b[1;32m      1\u001b[0m \u001b[0;32mfrom\u001b[0m \u001b[0msqlalchemy\u001b[0m\u001b[0;34m.\u001b[0m\u001b[0msql\u001b[0m \u001b[0;32mimport\u001b[0m \u001b[0mfunc\u001b[0m\u001b[0;34m\u001b[0m\u001b[0;34m\u001b[0m\u001b[0m\n\u001b[0;32m----> 2\u001b[0;31m \u001b[0ms\u001b[0m\u001b[0;34m=\u001b[0m\u001b[0mselect\u001b[0m\u001b[0;34m(\u001b[0m\u001b[0;34m[\u001b[0m\u001b[0mfunc\u001b[0m\u001b[0;34m.\u001b[0m\u001b[0mcount\u001b[0m\u001b[0;34m(\u001b[0m\u001b[0mHost\u001b[0m\u001b[0;34m.\u001b[0m\u001b[0m__table__\u001b[0m\u001b[0;34m)\u001b[0m\u001b[0;34m]\u001b[0m\u001b[0;34m)\u001b[0m\u001b[0;34m\u001b[0m\u001b[0;34m\u001b[0m\u001b[0m\n\u001b[0m\u001b[1;32m      3\u001b[0m \u001b[0mprint\u001b[0m\u001b[0;34m(\u001b[0m\u001b[0mstr\u001b[0m\u001b[0;34m(\u001b[0m\u001b[0ms\u001b[0m\u001b[0;34m)\u001b[0m\u001b[0;34m)\u001b[0m\u001b[0;34m\u001b[0m\u001b[0;34m\u001b[0m\u001b[0m\n\u001b[1;32m      4\u001b[0m \u001b[0mrp\u001b[0m \u001b[0;34m=\u001b[0m \u001b[0mconnection\u001b[0m\u001b[0;34m.\u001b[0m\u001b[0mexecute\u001b[0m\u001b[0;34m(\u001b[0m\u001b[0ms\u001b[0m\u001b[0;34m)\u001b[0m\u001b[0;34m\u001b[0m\u001b[0;34m\u001b[0m\u001b[0m\n\u001b[1;32m      5\u001b[0m \u001b[0mrp\u001b[0m\u001b[0;34m.\u001b[0m\u001b[0mscalar\u001b[0m\u001b[0;34m(\u001b[0m\u001b[0;34m)\u001b[0m\u001b[0;34m\u001b[0m\u001b[0;34m\u001b[0m\u001b[0m\n",
      "\u001b[0;32m/usr/local/lib/python3.9/site-packages/sqlalchemy/sql/functions.py\u001b[0m in \u001b[0;36m__call__\u001b[0;34m(self, *c, **kwargs)\u001b[0m\n\u001b[1;32m    788\u001b[0m             \u001b[0mfunc\u001b[0m \u001b[0;34m=\u001b[0m \u001b[0m_registry\u001b[0m\u001b[0;34m[\u001b[0m\u001b[0mpackage\u001b[0m\u001b[0;34m]\u001b[0m\u001b[0;34m.\u001b[0m\u001b[0mget\u001b[0m\u001b[0;34m(\u001b[0m\u001b[0mfname\u001b[0m\u001b[0;34m.\u001b[0m\u001b[0mlower\u001b[0m\u001b[0;34m(\u001b[0m\u001b[0;34m)\u001b[0m\u001b[0;34m)\u001b[0m\u001b[0;34m\u001b[0m\u001b[0;34m\u001b[0m\u001b[0m\n\u001b[1;32m    789\u001b[0m             \u001b[0;32mif\u001b[0m \u001b[0mfunc\u001b[0m \u001b[0;32mis\u001b[0m \u001b[0;32mnot\u001b[0m \u001b[0;32mNone\u001b[0m\u001b[0;34m:\u001b[0m\u001b[0;34m\u001b[0m\u001b[0;34m\u001b[0m\u001b[0m\n\u001b[0;32m--> 790\u001b[0;31m                 \u001b[0;32mreturn\u001b[0m \u001b[0mfunc\u001b[0m\u001b[0;34m(\u001b[0m\u001b[0;34m*\u001b[0m\u001b[0mc\u001b[0m\u001b[0;34m,\u001b[0m \u001b[0;34m**\u001b[0m\u001b[0mo\u001b[0m\u001b[0;34m)\u001b[0m\u001b[0;34m\u001b[0m\u001b[0;34m\u001b[0m\u001b[0m\n\u001b[0m\u001b[1;32m    791\u001b[0m \u001b[0;34m\u001b[0m\u001b[0m\n\u001b[1;32m    792\u001b[0m         return Function(\n",
      "\u001b[0;32m/usr/local/lib/python3.9/site-packages/sqlalchemy/sql/functions.py\u001b[0m in \u001b[0;36m__init__\u001b[0;34m(self, expression, **kwargs)\u001b[0m\n\u001b[1;32m   1207\u001b[0m         \u001b[0;32mif\u001b[0m \u001b[0mexpression\u001b[0m \u001b[0;32mis\u001b[0m \u001b[0;32mNone\u001b[0m\u001b[0;34m:\u001b[0m\u001b[0;34m\u001b[0m\u001b[0;34m\u001b[0m\u001b[0m\n\u001b[1;32m   1208\u001b[0m             \u001b[0mexpression\u001b[0m \u001b[0;34m=\u001b[0m \u001b[0mliteral_column\u001b[0m\u001b[0;34m(\u001b[0m\u001b[0;34m\"*\"\u001b[0m\u001b[0;34m)\u001b[0m\u001b[0;34m\u001b[0m\u001b[0;34m\u001b[0m\u001b[0m\n\u001b[0;32m-> 1209\u001b[0;31m         \u001b[0msuper\u001b[0m\u001b[0;34m(\u001b[0m\u001b[0mcount\u001b[0m\u001b[0;34m,\u001b[0m \u001b[0mself\u001b[0m\u001b[0;34m)\u001b[0m\u001b[0;34m.\u001b[0m\u001b[0m__init__\u001b[0m\u001b[0;34m(\u001b[0m\u001b[0mexpression\u001b[0m\u001b[0;34m,\u001b[0m \u001b[0;34m**\u001b[0m\u001b[0mkwargs\u001b[0m\u001b[0;34m)\u001b[0m\u001b[0;34m\u001b[0m\u001b[0;34m\u001b[0m\u001b[0m\n\u001b[0m\u001b[1;32m   1210\u001b[0m \u001b[0;34m\u001b[0m\u001b[0m\n\u001b[1;32m   1211\u001b[0m \u001b[0;34m\u001b[0m\u001b[0m\n",
      "\u001b[0;32m/usr/local/lib/python3.9/site-packages/sqlalchemy/sql/functions.py\u001b[0m in \u001b[0;36m__init__\u001b[0;34m(self, *args, **kwargs)\u001b[0m\n\u001b[1;32m   1018\u001b[0m         \u001b[0mparsed_args\u001b[0m \u001b[0;34m=\u001b[0m \u001b[0mkwargs\u001b[0m\u001b[0;34m.\u001b[0m\u001b[0mpop\u001b[0m\u001b[0;34m(\u001b[0m\u001b[0;34m\"_parsed_args\"\u001b[0m\u001b[0;34m,\u001b[0m \u001b[0;32mNone\u001b[0m\u001b[0;34m)\u001b[0m\u001b[0;34m\u001b[0m\u001b[0;34m\u001b[0m\u001b[0m\n\u001b[1;32m   1019\u001b[0m         \u001b[0;32mif\u001b[0m \u001b[0mparsed_args\u001b[0m \u001b[0;32mis\u001b[0m \u001b[0;32mNone\u001b[0m\u001b[0;34m:\u001b[0m\u001b[0;34m\u001b[0m\u001b[0;34m\u001b[0m\u001b[0m\n\u001b[0;32m-> 1020\u001b[0;31m             parsed_args = [\n\u001b[0m\u001b[1;32m   1021\u001b[0m                 coercions.expect(\n\u001b[1;32m   1022\u001b[0m                     \u001b[0mroles\u001b[0m\u001b[0;34m.\u001b[0m\u001b[0mExpressionElementRole\u001b[0m\u001b[0;34m,\u001b[0m\u001b[0;34m\u001b[0m\u001b[0;34m\u001b[0m\u001b[0m\n",
      "\u001b[0;32m/usr/local/lib/python3.9/site-packages/sqlalchemy/sql/functions.py\u001b[0m in \u001b[0;36m<listcomp>\u001b[0;34m(.0)\u001b[0m\n\u001b[1;32m   1019\u001b[0m         \u001b[0;32mif\u001b[0m \u001b[0mparsed_args\u001b[0m \u001b[0;32mis\u001b[0m \u001b[0;32mNone\u001b[0m\u001b[0;34m:\u001b[0m\u001b[0;34m\u001b[0m\u001b[0;34m\u001b[0m\u001b[0m\n\u001b[1;32m   1020\u001b[0m             parsed_args = [\n\u001b[0;32m-> 1021\u001b[0;31m                 coercions.expect(\n\u001b[0m\u001b[1;32m   1022\u001b[0m                     \u001b[0mroles\u001b[0m\u001b[0;34m.\u001b[0m\u001b[0mExpressionElementRole\u001b[0m\u001b[0;34m,\u001b[0m\u001b[0;34m\u001b[0m\u001b[0;34m\u001b[0m\u001b[0m\n\u001b[1;32m   1023\u001b[0m                     \u001b[0mc\u001b[0m\u001b[0;34m,\u001b[0m\u001b[0;34m\u001b[0m\u001b[0;34m\u001b[0m\u001b[0m\n",
      "\u001b[0;32m/usr/local/lib/python3.9/site-packages/sqlalchemy/sql/coercions.py\u001b[0m in \u001b[0;36mexpect\u001b[0;34m(role, element, apply_propagate_attrs, argname, post_inspect, **kw)\u001b[0m\n\u001b[1;32m    198\u001b[0m         \u001b[0;32mreturn\u001b[0m \u001b[0mresolved\u001b[0m\u001b[0;34m\u001b[0m\u001b[0;34m\u001b[0m\u001b[0m\n\u001b[1;32m    199\u001b[0m     \u001b[0;32melse\u001b[0m\u001b[0;34m:\u001b[0m\u001b[0;34m\u001b[0m\u001b[0;34m\u001b[0m\u001b[0m\n\u001b[0;32m--> 200\u001b[0;31m         return impl._implicit_coercions(\n\u001b[0m\u001b[1;32m    201\u001b[0m             \u001b[0moriginal_element\u001b[0m\u001b[0;34m,\u001b[0m \u001b[0mresolved\u001b[0m\u001b[0;34m,\u001b[0m \u001b[0margname\u001b[0m\u001b[0;34m=\u001b[0m\u001b[0margname\u001b[0m\u001b[0;34m,\u001b[0m \u001b[0;34m**\u001b[0m\u001b[0mkw\u001b[0m\u001b[0;34m\u001b[0m\u001b[0;34m\u001b[0m\u001b[0m\n\u001b[1;32m    202\u001b[0m         )\n",
      "\u001b[0;32m/usr/local/lib/python3.9/site-packages/sqlalchemy/sql/coercions.py\u001b[0m in \u001b[0;36m_implicit_coercions\u001b[0;34m(self, original_element, resolved, argname, **kw)\u001b[0m\n\u001b[1;32m    327\u001b[0m             \u001b[0;32mreturn\u001b[0m \u001b[0mresolved\u001b[0m\u001b[0;34m\u001b[0m\u001b[0;34m\u001b[0m\u001b[0m\n\u001b[1;32m    328\u001b[0m         \u001b[0;32melse\u001b[0m\u001b[0;34m:\u001b[0m\u001b[0;34m\u001b[0m\u001b[0;34m\u001b[0m\u001b[0m\n\u001b[0;32m--> 329\u001b[0;31m             \u001b[0mself\u001b[0m\u001b[0;34m.\u001b[0m\u001b[0m_raise_for_expected\u001b[0m\u001b[0;34m(\u001b[0m\u001b[0moriginal_element\u001b[0m\u001b[0;34m,\u001b[0m \u001b[0margname\u001b[0m\u001b[0;34m,\u001b[0m \u001b[0mresolved\u001b[0m\u001b[0;34m)\u001b[0m\u001b[0;34m\u001b[0m\u001b[0;34m\u001b[0m\u001b[0m\n\u001b[0m\u001b[1;32m    330\u001b[0m \u001b[0;34m\u001b[0m\u001b[0m\n\u001b[1;32m    331\u001b[0m \u001b[0;34m\u001b[0m\u001b[0m\n",
      "\u001b[0;32m/usr/local/lib/python3.9/site-packages/sqlalchemy/sql/coercions.py\u001b[0m in \u001b[0;36m_raise_for_expected\u001b[0;34m(self, element, argname, resolved, **kw)\u001b[0m\n\u001b[1;32m    473\u001b[0m             \u001b[0madvice\u001b[0m \u001b[0;34m=\u001b[0m \u001b[0;32mNone\u001b[0m\u001b[0;34m\u001b[0m\u001b[0;34m\u001b[0m\u001b[0m\n\u001b[1;32m    474\u001b[0m \u001b[0;34m\u001b[0m\u001b[0m\n\u001b[0;32m--> 475\u001b[0;31m         return super(ExpressionElementImpl, self)._raise_for_expected(\n\u001b[0m\u001b[1;32m    476\u001b[0m             \u001b[0melement\u001b[0m\u001b[0;34m,\u001b[0m \u001b[0margname\u001b[0m\u001b[0;34m=\u001b[0m\u001b[0margname\u001b[0m\u001b[0;34m,\u001b[0m \u001b[0mresolved\u001b[0m\u001b[0;34m=\u001b[0m\u001b[0mresolved\u001b[0m\u001b[0;34m,\u001b[0m \u001b[0madvice\u001b[0m\u001b[0;34m=\u001b[0m\u001b[0madvice\u001b[0m\u001b[0;34m,\u001b[0m \u001b[0;34m**\u001b[0m\u001b[0mkw\u001b[0m\u001b[0;34m\u001b[0m\u001b[0;34m\u001b[0m\u001b[0m\n\u001b[1;32m    477\u001b[0m         )\n",
      "\u001b[0;32m/usr/local/lib/python3.9/site-packages/sqlalchemy/sql/coercions.py\u001b[0m in \u001b[0;36m_raise_for_expected\u001b[0;34m(self, element, argname, resolved, advice, code, err)\u001b[0m\n\u001b[1;32m    268\u001b[0m             \u001b[0mmsg\u001b[0m \u001b[0;34m+=\u001b[0m \u001b[0;34m\" \"\u001b[0m \u001b[0;34m+\u001b[0m \u001b[0madvice\u001b[0m\u001b[0;34m\u001b[0m\u001b[0;34m\u001b[0m\u001b[0m\n\u001b[1;32m    269\u001b[0m \u001b[0;34m\u001b[0m\u001b[0m\n\u001b[0;32m--> 270\u001b[0;31m         \u001b[0mutil\u001b[0m\u001b[0;34m.\u001b[0m\u001b[0mraise_\u001b[0m\u001b[0;34m(\u001b[0m\u001b[0mexc\u001b[0m\u001b[0;34m.\u001b[0m\u001b[0mArgumentError\u001b[0m\u001b[0;34m(\u001b[0m\u001b[0mmsg\u001b[0m\u001b[0;34m,\u001b[0m \u001b[0mcode\u001b[0m\u001b[0;34m=\u001b[0m\u001b[0mcode\u001b[0m\u001b[0;34m)\u001b[0m\u001b[0;34m,\u001b[0m \u001b[0mreplace_context\u001b[0m\u001b[0;34m=\u001b[0m\u001b[0merr\u001b[0m\u001b[0;34m)\u001b[0m\u001b[0;34m\u001b[0m\u001b[0;34m\u001b[0m\u001b[0m\n\u001b[0m\u001b[1;32m    271\u001b[0m \u001b[0;34m\u001b[0m\u001b[0m\n\u001b[1;32m    272\u001b[0m \u001b[0;34m\u001b[0m\u001b[0m\n",
      "\u001b[0;32m/usr/local/lib/python3.9/site-packages/sqlalchemy/util/compat.py\u001b[0m in \u001b[0;36mraise_\u001b[0;34m(***failed resolving arguments***)\u001b[0m\n\u001b[1;32m    209\u001b[0m \u001b[0;34m\u001b[0m\u001b[0m\n\u001b[1;32m    210\u001b[0m         \u001b[0;32mtry\u001b[0m\u001b[0;34m:\u001b[0m\u001b[0;34m\u001b[0m\u001b[0;34m\u001b[0m\u001b[0m\n\u001b[0;32m--> 211\u001b[0;31m             \u001b[0;32mraise\u001b[0m \u001b[0mexception\u001b[0m\u001b[0;34m\u001b[0m\u001b[0;34m\u001b[0m\u001b[0m\n\u001b[0m\u001b[1;32m    212\u001b[0m         \u001b[0;32mfinally\u001b[0m\u001b[0;34m:\u001b[0m\u001b[0;34m\u001b[0m\u001b[0;34m\u001b[0m\u001b[0m\n\u001b[1;32m    213\u001b[0m             \u001b[0;31m# credit to\u001b[0m\u001b[0;34m\u001b[0m\u001b[0;34m\u001b[0m\u001b[0;34m\u001b[0m\u001b[0m\n",
      "\u001b[0;31mArgumentError\u001b[0m: SQL expression element expected, got Table('hosts', MetaData(), Column('host_id', Integer(), table=<hosts>, primary_key=True, nullable=False), Column('host_name', String(length=50), table=<hosts>, nullable=False), schema=None). To create a column expression from a FROM clause row as a whole, use the .table_valued() method."
     ]
    }
   ],
   "source": [
    "from sqlalchemy.sql import func\n",
    "s=select([func.count(Host.__table__)])\n",
    "print(str(s))\n",
    "rp = connection.execute(s)\n",
    "rp.scalar()"
   ]
  },
  {
   "cell_type": "markdown",
   "metadata": {},
   "source": [
    "Наполнение справочника типов комнат"
   ]
  },
  {
   "cell_type": "code",
   "execution_count": 23,
   "metadata": {},
   "outputs": [
    {
     "data": {
      "text/plain": [
       "(4, 'Shared room')"
      ]
     },
     "execution_count": 23,
     "metadata": {},
     "output_type": "execute_result"
    }
   ],
   "source": [
    "room_type_df = df[\"room_type\"].value_counts().sort_index().reset_index()\n",
    "room_type_df.index = range(1, len(room_type_df)+1)\n",
    "room_type_dict=room_type_df[\"index\"].to_dict()\n",
    "\n",
    "for value in room_type_dict.values():\n",
    "    w = Room_type(room_type_name = value)\n",
    "    session.add(w)\n",
    "\n",
    "session.commit()\n",
    "w.room_type_id, w.room_type_name"
   ]
  },
  {
   "cell_type": "markdown",
   "metadata": {},
   "source": [
    "Наполнение справочников типов собственности"
   ]
  },
  {
   "cell_type": "code",
   "execution_count": 24,
   "metadata": {},
   "outputs": [
    {
     "data": {
      "text/plain": [
       "(42, 'Tiny house')"
      ]
     },
     "execution_count": 24,
     "metadata": {},
     "output_type": "execute_result"
    }
   ],
   "source": [
    "property_type_df = df[\"property_type\"].value_counts().sort_index().reset_index()\n",
    "property_type_df.index = range(1, len(property_type_df)+1)\n",
    "property_type_dict = property_type_df[\"index\"].to_dict()\n",
    "\n",
    "for value in property_type_dict.values():\n",
    "    w = Property_type(property_type_name = value)\n",
    "    session.add(w)\n",
    "\n",
    "session.commit()\n",
    "w.property_type_id, w.property_type_name"
   ]
  },
  {
   "cell_type": "markdown",
   "metadata": {},
   "source": [
    "### Задание 3.2.2.2.\n",
    "\n",
    "Наполните данными таблицу *listings*"
   ]
  },
  {
   "cell_type": "code",
   "execution_count": 25,
   "metadata": {},
   "outputs": [],
   "source": [
    "# Ваш код здесь"
   ]
  },
  {
   "cell_type": "code",
   "execution_count": 26,
   "metadata": {
    "scrolled": false
   },
   "outputs": [
    {
     "data": {
      "text/html": [
       "<div>\n",
       "<style scoped>\n",
       "    .dataframe tbody tr th:only-of-type {\n",
       "        vertical-align: middle;\n",
       "    }\n",
       "\n",
       "    .dataframe tbody tr th {\n",
       "        vertical-align: top;\n",
       "    }\n",
       "\n",
       "    .dataframe thead th {\n",
       "        text-align: right;\n",
       "    }\n",
       "</style>\n",
       "<table border=\"1\" class=\"dataframe\">\n",
       "  <thead>\n",
       "    <tr style=\"text-align: right;\">\n",
       "      <th></th>\n",
       "      <th>id</th>\n",
       "      <th>listing_url</th>\n",
       "      <th>name</th>\n",
       "      <th>host_id</th>\n",
       "      <th>host_name</th>\n",
       "      <th>host_is_superhost</th>\n",
       "      <th>neighbourhood_cleansed</th>\n",
       "      <th>property_type</th>\n",
       "      <th>room_type</th>\n",
       "      <th>bathrooms_text</th>\n",
       "      <th>...</th>\n",
       "      <th>last_review</th>\n",
       "      <th>review_scores_rating</th>\n",
       "      <th>review_scores_accuracy</th>\n",
       "      <th>review_scores_cleanliness</th>\n",
       "      <th>review_scores_checkin</th>\n",
       "      <th>review_scores_communication</th>\n",
       "      <th>review_scores_location</th>\n",
       "      <th>review_scores_value</th>\n",
       "      <th>reviews_per_month</th>\n",
       "      <th>Random</th>\n",
       "    </tr>\n",
       "  </thead>\n",
       "  <tbody>\n",
       "    <tr>\n",
       "      <th>0</th>\n",
       "      <td>20168</td>\n",
       "      <td>https://www.airbnb.com/rooms/20168</td>\n",
       "      <td>Studio with private bathroom in the centre 1</td>\n",
       "      <td>59484</td>\n",
       "      <td>Alexander</td>\n",
       "      <td>f</td>\n",
       "      <td>Centrum-Oost</td>\n",
       "      <td>Private room in townhouse</td>\n",
       "      <td>Private room</td>\n",
       "      <td>1 private bath</td>\n",
       "      <td>...</td>\n",
       "      <td>2020-04-09</td>\n",
       "      <td>89</td>\n",
       "      <td>10.0</td>\n",
       "      <td>10.0</td>\n",
       "      <td>10.0</td>\n",
       "      <td>10.0</td>\n",
       "      <td>10.0</td>\n",
       "      <td>9.0</td>\n",
       "      <td>2.58</td>\n",
       "      <td>0</td>\n",
       "    </tr>\n",
       "  </tbody>\n",
       "</table>\n",
       "<p>1 rows × 26 columns</p>\n",
       "</div>"
      ],
      "text/plain": [
       "      id                         listing_url  \\\n",
       "0  20168  https://www.airbnb.com/rooms/20168   \n",
       "\n",
       "                                           name  host_id  host_name  \\\n",
       "0  Studio with private bathroom in the centre 1    59484  Alexander   \n",
       "\n",
       "  host_is_superhost neighbourhood_cleansed              property_type  \\\n",
       "0                 f           Centrum-Oost  Private room in townhouse   \n",
       "\n",
       "      room_type  bathrooms_text  ...  last_review  review_scores_rating  \\\n",
       "0  Private room  1 private bath  ...   2020-04-09                    89   \n",
       "\n",
       "  review_scores_accuracy  review_scores_cleanliness  review_scores_checkin  \\\n",
       "0                   10.0                       10.0                   10.0   \n",
       "\n",
       "  review_scores_communication review_scores_location  review_scores_value  \\\n",
       "0                        10.0                   10.0                  9.0   \n",
       "\n",
       "   reviews_per_month  Random  \n",
       "0               2.58       0  \n",
       "\n",
       "[1 rows x 26 columns]"
      ]
     },
     "execution_count": 26,
     "metadata": {},
     "output_type": "execute_result"
    }
   ],
   "source": [
    "df.head(1)"
   ]
  },
  {
   "cell_type": "markdown",
   "metadata": {},
   "source": [
    "В процессе работы выдается предупреждение о том, что тип данных \"десятичное число\" не поддерживается напрямую. Чтобы отключить такие сообщения, выполним команду\n",
    "```\n",
    "import warnings; warnings.simplefilter('ignore')\n",
    "```"
   ]
  },
  {
   "cell_type": "code",
   "execution_count": 27,
   "metadata": {
    "scrolled": true
   },
   "outputs": [
    {
     "name": "stdout",
     "output_type": "stream",
     "text": [
      "35 https://www.airbnb.com/rooms/43574913 Quad room / 2 double beds - Double Impact  243118788 7 36 3\n"
     ]
    }
   ],
   "source": [
    "import warnings; warnings.simplefilter('ignore')\n",
    "\n",
    "neigh_dict_reversed = {}\n",
    "for key, value in neigh_dict.items():\n",
    "    neigh_dict_reversed[value]=key\n",
    "\n",
    "property_type_dict_reversed = {}\n",
    "for key, value in property_type_dict.items():\n",
    "    property_type_dict_reversed[value] = key\n",
    "\n",
    "room_type_dict_reversed = {}\n",
    "for key, value in room_type_dict.items():\n",
    "    room_type_dict_reversed[value] = key\n",
    "    \n",
    "for row in df.index[::100]:\n",
    "    w = Listing(\n",
    "        listing_name = df.loc[row, 'name'],\n",
    "        listing_url = df.loc[row, 'listing_url'],\n",
    "        host_id = int(df.loc[row, 'host_id']),\n",
    "        neighbourhood_id = neigh_dict_reversed[df.loc[row, 'neighbourhood_cleansed']],\n",
    "        amenities = df.loc[row, 'amenities'],\n",
    "        property_type_id = property_type_dict_reversed[df.loc[row, 'property_type']],\n",
    "        room_type_id = room_type_dict_reversed[df.loc[row, 'room_type']],\n",
    "        bedrooms = df.loc[row, 'bedrooms'],\n",
    "        beds = df.loc[row, 'beds'],\n",
    "        price = df.loc[row, 'price']\n",
    "    )\n",
    "    \n",
    "    session.add(w)\n",
    "\n",
    "session.commit()\n",
    "print(w.listing_id, w.listing_url, w.listing_name, \n",
    "      w.host_id, w.neighbourhood_id, w.property_type_id, w.room_type_id)"
   ]
  },
  {
   "cell_type": "markdown",
   "metadata": {},
   "source": [
    "<img src=\"./Img/Label_02.png\">"
   ]
  },
  {
   "cell_type": "markdown",
   "metadata": {},
   "source": [
    "Семинар\n",
    "\n",
    "30 апреля 2021 года <br>\n",
    "ПИ19-3, ПИ19-4 - 3 подгруппа<br>\n",
    "\n",
    "30 апреля 2021 года <br>\n",
    "ПИ19-4, ПИ19-5 - 4 подгруппа\n",
    "\n",
    "15 мая 2021 года <br>\n",
    "ПИ19-2, ПИ19-3, ПИ19-4 - 2 подгруппа"
   ]
  },
  {
   "cell_type": "markdown",
   "metadata": {},
   "source": [
    "## 3.2.3. Запросы\n",
    "\n",
    "### Методы *first(), all(), one().* Ограничение *limit()*."
   ]
  },
  {
   "cell_type": "code",
   "execution_count": 28,
   "metadata": {},
   "outputs": [
    {
     "data": {
      "text/plain": [
       "[Room_type(room_type_name='Entire home/apt'),\n",
       " Room_type(room_type_name='Hotel room'),\n",
       " Room_type(room_type_name='Private room'),\n",
       " Room_type(room_type_name='Shared room')]"
      ]
     },
     "execution_count": 28,
     "metadata": {},
     "output_type": "execute_result"
    }
   ],
   "source": [
    "session.query(Room_type).all()"
   ]
  },
  {
   "cell_type": "code",
   "execution_count": 29,
   "metadata": {},
   "outputs": [
    {
     "data": {
      "text/plain": [
       "[Property_type(property_type_name='Boat'),\n",
       " Property_type(property_type_name='Entire apartment'),\n",
       " Property_type(property_type_name='Entire bed and breakfast'),\n",
       " Property_type(property_type_name='Entire condominium'),\n",
       " Property_type(property_type_name='Entire cottage'),\n",
       " Property_type(property_type_name='Entire guest suite'),\n",
       " Property_type(property_type_name='Entire guesthouse'),\n",
       " Property_type(property_type_name='Entire house'),\n",
       " Property_type(property_type_name='Entire loft'),\n",
       " Property_type(property_type_name='Entire place')]"
      ]
     },
     "execution_count": 29,
     "metadata": {},
     "output_type": "execute_result"
    }
   ],
   "source": [
    "session.query(Property_type).limit(10).all()"
   ]
  },
  {
   "cell_type": "code",
   "execution_count": 30,
   "metadata": {},
   "outputs": [
    {
     "data": {
      "text/plain": [
       "(1, 'Bos en Lommer')"
      ]
     },
     "execution_count": 30,
     "metadata": {},
     "output_type": "execute_result"
    }
   ],
   "source": [
    "session.query(Neighbourhood.neigh_id, Neighbourhood.neigh_name).first()"
   ]
  },
  {
   "cell_type": "code",
   "execution_count": 31,
   "metadata": {},
   "outputs": [
    {
     "name": "stdout",
     "output_type": "stream",
     "text": [
      "1 Entire home/apt\n",
      "2 Hotel room\n",
      "3 Private room\n",
      "4 Shared room\n"
     ]
    }
   ],
   "source": [
    "for item in session.query(Room_type):\n",
    "    print(item.room_type_id, item.room_type_name)"
   ]
  },
  {
   "cell_type": "code",
   "execution_count": 32,
   "metadata": {},
   "outputs": [
    {
     "data": {
      "text/plain": [
       "Listing(listing_name='Studio with private bathroom in the centre 1', listing_url='https://www.airbnb.com/rooms/20168', amenities='[\"Wifi\", \"Hot water\", \"Hangers\", \"Host greets you\", \"Long term stays allowed\", \"Carbon monoxide alarm\", \"Fire extinguisher\", \"Dedicated workspace\", \"Paid parking off premises\", \"Essentials\", \"Bed linens\", \"Hair dryer\", \"TV\", \"Heating\", \"Refrigerator\", \"Free street parking\", \"Smoke alarm\"]', bedrooms='1', price='236.00')"
      ]
     },
     "execution_count": 32,
     "metadata": {},
     "output_type": "execute_result"
    }
   ],
   "source": [
    "session.query(Listing).limit(1).one()"
   ]
  },
  {
   "cell_type": "code",
   "execution_count": 33,
   "metadata": {},
   "outputs": [
    {
     "data": {
      "text/plain": [
       "[(1, Room_type(room_type_name='Entire home/apt')),\n",
       " (2, Room_type(room_type_name='Hotel room')),\n",
       " (3, Room_type(room_type_name='Private room')),\n",
       " (4, Room_type(room_type_name='Shared room'))]"
      ]
     },
     "execution_count": 33,
     "metadata": {},
     "output_type": "execute_result"
    }
   ],
   "source": [
    "session.query(Room_type.room_type_id, Room_type).all()"
   ]
  },
  {
   "cell_type": "markdown",
   "metadata": {},
   "source": [
    "## Ограничение числа строк запроса"
   ]
  },
  {
   "cell_type": "code",
   "execution_count": 34,
   "metadata": {},
   "outputs": [
    {
     "data": {
      "text/plain": [
       "[(8, 1, 2, 7, 7473277),\n",
       " (9, 1, 2, 15, 2737248),\n",
       " (10, 1, 2, 7, 15239755),\n",
       " (11, 3, 17, 9, 47479242)]"
      ]
     },
     "execution_count": 34,
     "metadata": {},
     "output_type": "execute_result"
    }
   ],
   "source": [
    "session.query(\n",
    "    Listing.listing_id,\n",
    "    Listing.room_type_id,\n",
    "    Listing.property_type_id,\n",
    "    Listing.neighbourhood_id,\n",
    "    Listing.host_id\n",
    ")[7:11]"
   ]
  },
  {
   "cell_type": "markdown",
   "metadata": {},
   "source": [
    "## Ограничение числа строк запроса"
   ]
  },
  {
   "cell_type": "code",
   "execution_count": 35,
   "metadata": {},
   "outputs": [
    {
     "data": {
      "text/plain": [
       "[(1, 'Studio with private bathroom in the centre 1'),\n",
       " (2, 'Green oasis only 15 min from Station.'),\n",
       " (3, 'Great View Apartment in the Jordaan'),\n",
       " (4, 'Characteristic, Sunny and Colourful Apartment'),\n",
       " (5, 'COSY HOUSEBOAT IN THE CITY CENTER'),\n",
       " (6, 'Room in the centre of Amsterdam'),\n",
       " (7, 'Beautifull townhouse in the hart of Amsterdam'),\n",
       " (8, 'Bright apt. in middle of de Pijp!'),\n",
       " (9, 'Mini-Loft in trendy East'),\n",
       " (10, 'Luxury and modern apartment @Pijp'),\n",
       " (11, 'Luxurious Room For One 15 Min. From City Centre'),\n",
       " (12, \"Spacious apartment in the ' pijp '\"),\n",
       " (13, 'View on the canals'),\n",
       " (14, 'Luxerious and Spacious Apartment'),\n",
       " (15, 'Light and modern mini-loft close to citycenter'),\n",
       " (16, 'Light / Quiet apartment in Amsterdam city centre'),\n",
       " (17, 'Bright private rooms | Centre of Amsterdam'),\n",
       " (18, 'Bright and spacious corner apartment with parkview'),\n",
       " (19, 'Light and cosy apartment near city centre'),\n",
       " (20, '2 bedrooms in the heart of Amsterdam'),\n",
       " (21, 'Comfortable apartment next to city centre | 2BD'),\n",
       " (22, 'Second Floor Apartment'),\n",
       " (23, 'Private suite next Westerpark'),\n",
       " (24, 'Comfy, stylish & quiet apt. for 2 in De Baarsjes'),\n",
       " (25, 'Bright & beautiful apartment 10 mins from centre'),\n",
       " (26, 'Quiet room/private bathroom near centre Amsterdam'),\n",
       " (27, 'Unforgetable Charming Apartment | Patio |'),\n",
       " (28, 'New beautiful design studio in Amsterdam West'),\n",
       " (29, 'Great private room/apartment in the center.'),\n",
       " (30, 'Lovely, authentic and clean apartment.'),\n",
       " (31, 'Spacious and characteristic city apartment +garden'),\n",
       " (32, 'Sunny two floor apartment 8 min walk from RAI'),\n",
       " (33, 'Trendy apartment 5 min from the center f Amsterdam'),\n",
       " (34, 'Quiet and spaceous apptmnt in Noord- 5min. to CS'),\n",
       " (35, 'Quad room / 2 double beds - Double Impact\\xa0')]"
      ]
     },
     "execution_count": 35,
     "metadata": {},
     "output_type": "execute_result"
    }
   ],
   "source": [
    "session.query(\n",
    "    Listing.listing_id, \n",
    "    Listing.listing_name\n",
    ").order_by(Listing.listing_id).all()"
   ]
  },
  {
   "cell_type": "markdown",
   "metadata": {},
   "source": [
    "По убыванию"
   ]
  },
  {
   "cell_type": "code",
   "execution_count": 36,
   "metadata": {},
   "outputs": [
    {
     "data": {
      "text/plain": [
       "[(35, 'Quad room / 2 double beds - Double Impact\\xa0'),\n",
       " (34, 'Quiet and spaceous apptmnt in Noord- 5min. to CS'),\n",
       " (33, 'Trendy apartment 5 min from the center f Amsterdam'),\n",
       " (32, 'Sunny two floor apartment 8 min walk from RAI'),\n",
       " (31, 'Spacious and characteristic city apartment +garden'),\n",
       " (30, 'Lovely, authentic and clean apartment.'),\n",
       " (29, 'Great private room/apartment in the center.'),\n",
       " (28, 'New beautiful design studio in Amsterdam West'),\n",
       " (27, 'Unforgetable Charming Apartment | Patio |'),\n",
       " (26, 'Quiet room/private bathroom near centre Amsterdam'),\n",
       " (25, 'Bright & beautiful apartment 10 mins from centre'),\n",
       " (24, 'Comfy, stylish & quiet apt. for 2 in De Baarsjes'),\n",
       " (23, 'Private suite next Westerpark'),\n",
       " (22, 'Second Floor Apartment'),\n",
       " (21, 'Comfortable apartment next to city centre | 2BD'),\n",
       " (20, '2 bedrooms in the heart of Amsterdam'),\n",
       " (19, 'Light and cosy apartment near city centre'),\n",
       " (18, 'Bright and spacious corner apartment with parkview'),\n",
       " (17, 'Bright private rooms | Centre of Amsterdam'),\n",
       " (16, 'Light / Quiet apartment in Amsterdam city centre'),\n",
       " (15, 'Light and modern mini-loft close to citycenter'),\n",
       " (14, 'Luxerious and Spacious Apartment'),\n",
       " (13, 'View on the canals'),\n",
       " (12, \"Spacious apartment in the ' pijp '\"),\n",
       " (11, 'Luxurious Room For One 15 Min. From City Centre'),\n",
       " (10, 'Luxury and modern apartment @Pijp'),\n",
       " (9, 'Mini-Loft in trendy East'),\n",
       " (8, 'Bright apt. in middle of de Pijp!'),\n",
       " (7, 'Beautifull townhouse in the hart of Amsterdam'),\n",
       " (6, 'Room in the centre of Amsterdam'),\n",
       " (5, 'COSY HOUSEBOAT IN THE CITY CENTER'),\n",
       " (4, 'Characteristic, Sunny and Colourful Apartment'),\n",
       " (3, 'Great View Apartment in the Jordaan'),\n",
       " (2, 'Green oasis only 15 min from Station.'),\n",
       " (1, 'Studio with private bathroom in the centre 1')]"
      ]
     },
     "execution_count": 36,
     "metadata": {},
     "output_type": "execute_result"
    }
   ],
   "source": [
    "session.query(\n",
    "    Listing.listing_id, \n",
    "    Listing.listing_name\n",
    ").order_by(Listing.listing_id.desc()).all()"
   ]
  },
  {
   "cell_type": "code",
   "execution_count": 37,
   "metadata": {},
   "outputs": [
    {
     "name": "stdout",
     "output_type": "stream",
     "text": [
      "View on the canals 100.00\n",
      "Unforgetable Charming Apartment | Patio | 270.00\n",
      "Trendy apartment 5 min from the center f Amsterdam 140.00\n",
      "Sunny two floor apartment 8 min walk from RAI 450.00\n",
      "Studio with private bathroom in the centre 1 236.00\n",
      "Spacious apartment in the ' pijp ' 191.00\n",
      "Spacious and characteristic city apartment +garden 225.00\n",
      "Second Floor Apartment 700.00\n",
      "Room in the centre of Amsterdam 88.00\n",
      "Quiet room/private bathroom near centre Amsterdam 100.00\n"
     ]
    }
   ],
   "source": [
    "for item in session.query(\n",
    "\n",
    "    Listing.listing_id,\n",
    "    Listing.listing_name,\n",
    "    Listing.price,\n",
    "    Listing.neighbourhood_id).order_by(Listing.listing_name.desc())[:10]:\n",
    "    print(item.listing_name, item.price)"
   ]
  },
  {
   "cell_type": "markdown",
   "metadata": {},
   "source": [
    "## Встроенные функции"
   ]
  },
  {
   "cell_type": "code",
   "execution_count": 38,
   "metadata": {},
   "outputs": [],
   "source": [
    "from sqlalchemy import func"
   ]
  },
  {
   "cell_type": "code",
   "execution_count": 39,
   "metadata": {},
   "outputs": [
    {
     "name": "stdout",
     "output_type": "stream",
     "text": [
      "5416.00\n"
     ]
    },
    {
     "data": {
      "text/plain": [
       "decimal.Decimal"
      ]
     },
     "execution_count": 39,
     "metadata": {},
     "output_type": "execute_result"
    }
   ],
   "source": [
    "print(session.query(func.sum(Listing.price)).scalar())\n",
    "type(session.query(func.sum(Listing.price)).scalar())"
   ]
  },
  {
   "cell_type": "code",
   "execution_count": 40,
   "metadata": {},
   "outputs": [
    {
     "data": {
      "text/plain": [
       "sqlalchemy.engine.row.Row"
      ]
     },
     "execution_count": 40,
     "metadata": {},
     "output_type": "execute_result"
    }
   ],
   "source": [
    "type(session.query(func.sum(Listing.price)).one())"
   ]
  },
  {
   "cell_type": "code",
   "execution_count": 41,
   "metadata": {},
   "outputs": [
    {
     "name": "stdout",
     "output_type": "stream",
     "text": [
      "(Decimal('5416.00'),)\n"
     ]
    }
   ],
   "source": [
    "print(session.query(func.sum(Listing.price)).first())"
   ]
  },
  {
   "cell_type": "code",
   "execution_count": 42,
   "metadata": {},
   "outputs": [],
   "source": [
    "## Фильтрация "
   ]
  },
  {
   "cell_type": "code",
   "execution_count": 43,
   "metadata": {},
   "outputs": [
    {
     "name": "stdout",
     "output_type": "stream",
     "text": [
      "[(32, Listing(listing_name='Sunny two floor apartment 8 min walk from RAI', listing_url='https://www.airbnb.com/rooms/36303271', amenities='[\"Wifi\", \"Iron\", ... (148 characters truncated) ... id kit\", \"Hair dryer\", \"TV\", \"Heating\", \"Kitchen\", \"Washer\", \"Refrigerator\", \"Cooking basics\", \"Smoke alarm\", \"Stove\"]', bedrooms='3', price='450.00'))]\n"
     ]
    }
   ],
   "source": [
    "from pprint import pprint\n",
    "record=session.query(Listing.listing_id, Listing).filter(Listing.bedrooms==3).all()\n",
    "pprint(record)"
   ]
  },
  {
   "cell_type": "code",
   "execution_count": 44,
   "metadata": {},
   "outputs": [
    {
     "name": "stdout",
     "output_type": "stream",
     "text": [
      "[(22, Listing(listing_name='Second Floor Apartment', listing_url='https://www.airbnb.com/rooms/20953659', amenities='[\"Microwave\", \"Refrigerator\", \"Dishes a ... (199 characters truncated) ... n\", \"Dishwasher\", \"Paid parking off premises\", \"Dryer\", \"Essentials\", \"Bed linens\", \"Hair dryer\", \"Heating\", \"Washer\"]', bedrooms='2', price='700.00')), (32, Listing(listing_name='Sunny two floor apartment 8 min walk from RAI', listing_url='https://www.airbnb.com/rooms/36303271', amenities='[\"Wifi\", \"Iron\", ... (148 characters truncated) ... id kit\", \"Hair dryer\", \"TV\", \"Heating\", \"Kitchen\", \"Washer\", \"Refrigerator\", \"Cooking basics\", \"Smoke alarm\", \"Stove\"]', bedrooms='3', price='450.00'))]\n"
     ]
    }
   ],
   "source": [
    "records = session.query(Listing.listing_id, Listing) \\\n",
    "    .filter(Listing.price>300) \\\n",
    "    .filter(Listing.bedrooms>1).all()\n",
    "print(records)"
   ]
  },
  {
   "cell_type": "code",
   "execution_count": 45,
   "metadata": {},
   "outputs": [
    {
     "name": "stdout",
     "output_type": "stream",
     "text": [
      "[(47517, Host(host_id='Geert Alexander')),\n",
      " (59484, Host(host_id='Alexander')),\n",
      " (8275150, Host(host_id='Alexander')),\n",
      " (26045647, Host(host_id='Alexander')),\n",
      " (72822537, Host(host_id='Alexander')),\n",
      " (207287996, Host(host_id='Alexander'))]\n"
     ]
    }
   ],
   "source": [
    "#Host, где имя = Александр\n",
    "\n",
    "\n",
    "records = session.query(Host.host_id, Host)\\\n",
    "    .filter(Host.host_name.like(\"%Alexander%\")).all()\n",
    "pprint(records)"
   ]
  },
  {
   "cell_type": "code",
   "execution_count": 50,
   "metadata": {},
   "outputs": [
    {
     "data": {
      "text/plain": [
       "[(7, Listing(listing_name='Beautifull townhouse in the hart of Amsterdam', listing_url='https://www.airbnb.com/rooms/5034152', amenities='[\"Stove\", \"Heatin ... (300 characters truncated) ...  \"Kitchen\", \"Host greets you\", \"Hangers\", \"Washer\", \"Paid parking off premises\", \"Smoke alarm\", \"Dedicated workspace\"]', bedrooms='2', price='175.00')),\n",
       " (25, Listing(listing_name='Bright & beautiful apartment 10 mins from centre', listing_url='https://www.airbnb.com/rooms/24439562', amenities='[\"Microwave\", ... (262 characters truncated) ... id parking off premises\", \"Essentials\", \"Extra pillows and blankets\", \"Bed linens\", \"Hair dryer\", \"Heating\", \"Washer\"]', bedrooms='2', price='200.00'))]"
      ]
     },
     "execution_count": 50,
     "metadata": {},
     "output_type": "execute_result"
    }
   ],
   "source": [
    "\n",
    "from sqlalchemy import and_, or_, not_\n",
    "\n",
    "session.query(Listing.listing_id, Listing).filter(\n",
    "\n",
    "    and_(\n",
    "        Listing.bedrooms>1,\n",
    "        Listing.price.between(175,200)\n",
    "    )\n",
    ").all()"
   ]
  },
  {
   "cell_type": "markdown",
   "metadata": {},
   "source": [
    "## Update"
   ]
  },
  {
   "cell_type": "code",
   "execution_count": 55,
   "metadata": {},
   "outputs": [
    {
     "name": "stdout",
     "output_type": "stream",
     "text": [
      "Listing(listing_name='Bright & beautiful apartment 10 mins from centre', listing_url='https://www.airbnb.com/rooms/24439562', amenities='[\"Microwave\", \"First aid kit\", \"Refrigerator\", \"Dishes and silverware\", \"Oven\", \"Patio or balcony\", \"Stove\", \"Wifi\", \"Hot water\", \"Hangers\", \"Shampoo\", \"Luggage dropoff allowed\", \"Kitchen\", \"Cooking basics\", \"Iron\", \"Dishwasher\", \"Host greets you\", \"Dedicated workspace\", \"Paid parking off premises\", \"Essentials\", \"Extra pillows and blankets\", \"Bed linens\", \"Hair dryer\", \"Heating\", \"Washer\"]', bedrooms='2', price='200.00')\n",
      "201.00\n"
     ]
    }
   ],
   "source": [
    "q = session.query(Listing)\n",
    "w = q.filter(Listing.listing_id == 25).first()\n",
    "print(w)\n",
    "w.price = w.price + 1\n",
    "session.commit()\n",
    "print(w.price)"
   ]
  },
  {
   "cell_type": "code",
   "execution_count": 56,
   "metadata": {},
   "outputs": [
    {
     "data": {
      "text/plain": [
       "Listing(listing_name='Bright & beautiful apartment 10 mins from centre', listing_url='https://www.airbnb.com/rooms/24439562', amenities='[\"Microwave\", \"First aid kit\", \"Refrigerator\", \"Dishes and silverware\", \"Oven\", \"Patio or balcony\", \"Stove\", \"Wifi\", \"Hot water\", \"Hangers\", \"Shampoo\", \"Luggage dropoff allowed\", \"Kitchen\", \"Cooking basics\", \"Iron\", \"Dishwasher\", \"Host greets you\", \"Dedicated workspace\", \"Paid parking off premises\", \"Essentials\", \"Extra pillows and blankets\", \"Bed linens\", \"Hair dryer\", \"Heating\", \"Washer\"]', bedrooms='2', price='201.00')"
      ]
     },
     "execution_count": 56,
     "metadata": {},
     "output_type": "execute_result"
    }
   ],
   "source": [
    "session.query(Listing).filter(Listing.listing_id == 25).first()"
   ]
  },
  {
   "cell_type": "code",
   "execution_count": 62,
   "metadata": {},
   "outputs": [
    {
     "name": "stdout",
     "output_type": "stream",
     "text": [
      "Listing(listing_name='Bright & beautiful apartment 10 mins from centre', listing_url='https://www.airbnb.com/rooms/24439562', amenities='[\"Microwave\", \"First aid kit\", \"Refrigerator\", \"Dishes and silverware\", \"Oven\", \"Patio or balcony\", \"Stove\", \"Wifi\", \"Hot water\", \"Hangers\", \"Shampoo\", \"Luggage dropoff allowed\", \"Kitchen\", \"Cooking basics\", \"Iron\", \"Dishwasher\", \"Host greets you\", \"Dedicated workspace\", \"Paid parking off premises\", \"Essentials\", \"Extra pillows and blankets\", \"Bed linens\", \"Hair dryer\", \"Heating\", \"Washer\"]', bedrooms='2', price='207.00')\n"
     ]
    }
   ],
   "source": [
    "q = session.query(Listing)\n",
    "q = q.filter(Listing.listing_id == 25)\n",
    "q.update({Listing.price: Listing.price +1})\n",
    "print(q.first())"
   ]
  },
  {
   "cell_type": "markdown",
   "metadata": {},
   "source": [
    "## Метод delete"
   ]
  },
  {
   "cell_type": "code",
   "execution_count": 65,
   "metadata": {},
   "outputs": [
    {
     "ename": "MultipleResultsFound",
     "evalue": "Multiple rows were found when exactly one was required",
     "output_type": "error",
     "traceback": [
      "\u001b[0;31m---------------------------------------------------------------------------\u001b[0m",
      "\u001b[0;31mMultipleResultsFound\u001b[0m                      Traceback (most recent call last)",
      "\u001b[0;32m<ipython-input-65-4ff47d521214>\u001b[0m in \u001b[0;36m<module>\u001b[0;34m\u001b[0m\n\u001b[1;32m      1\u001b[0m \u001b[0mq\u001b[0m \u001b[0;34m=\u001b[0m \u001b[0msession\u001b[0m\u001b[0;34m.\u001b[0m\u001b[0mquery\u001b[0m\u001b[0;34m(\u001b[0m\u001b[0mListing\u001b[0m\u001b[0;34m)\u001b[0m\u001b[0;34m\u001b[0m\u001b[0;34m\u001b[0m\u001b[0m\n\u001b[1;32m      2\u001b[0m \u001b[0mq\u001b[0m \u001b[0;34m=\u001b[0m \u001b[0mq\u001b[0m\u001b[0;34m.\u001b[0m\u001b[0mfilter\u001b[0m\u001b[0;34m(\u001b[0m\u001b[0mListing\u001b[0m\u001b[0;34m.\u001b[0m\u001b[0mlisting_name\u001b[0m\u001b[0;34m.\u001b[0m\u001b[0mlike\u001b[0m\u001b[0;34m(\u001b[0m\u001b[0;34m\"%Bright%\"\u001b[0m\u001b[0;34m)\u001b[0m\u001b[0;34m)\u001b[0m\u001b[0;34m\u001b[0m\u001b[0;34m\u001b[0m\u001b[0m\n\u001b[0;32m----> 3\u001b[0;31m \u001b[0mto_del\u001b[0m \u001b[0;34m=\u001b[0m \u001b[0mq\u001b[0m\u001b[0;34m.\u001b[0m\u001b[0mone\u001b[0m\u001b[0;34m(\u001b[0m\u001b[0;34m)\u001b[0m\u001b[0;34m\u001b[0m\u001b[0;34m\u001b[0m\u001b[0m\n\u001b[0m\u001b[1;32m      4\u001b[0m \u001b[0msession\u001b[0m\u001b[0;34m.\u001b[0m\u001b[0mdelete\u001b[0m\u001b[0;34m(\u001b[0m\u001b[0mto_del\u001b[0m\u001b[0;34m)\u001b[0m\u001b[0;34m\u001b[0m\u001b[0;34m\u001b[0m\u001b[0m\n\u001b[1;32m      5\u001b[0m \u001b[0msession\u001b[0m\u001b[0;34m.\u001b[0m\u001b[0mcommit\u001b[0m\u001b[0;34m(\u001b[0m\u001b[0;34m)\u001b[0m\u001b[0;34m\u001b[0m\u001b[0;34m\u001b[0m\u001b[0m\n",
      "\u001b[0;32m/usr/local/lib/python3.9/site-packages/sqlalchemy/orm/query.py\u001b[0m in \u001b[0;36mone\u001b[0;34m(self)\u001b[0m\n\u001b[1;32m   2760\u001b[0m \u001b[0;34m\u001b[0m\u001b[0m\n\u001b[1;32m   2761\u001b[0m         \"\"\"\n\u001b[0;32m-> 2762\u001b[0;31m         \u001b[0;32mreturn\u001b[0m \u001b[0mself\u001b[0m\u001b[0;34m.\u001b[0m\u001b[0m_iter\u001b[0m\u001b[0;34m(\u001b[0m\u001b[0;34m)\u001b[0m\u001b[0;34m.\u001b[0m\u001b[0mone\u001b[0m\u001b[0;34m(\u001b[0m\u001b[0;34m)\u001b[0m\u001b[0;34m\u001b[0m\u001b[0;34m\u001b[0m\u001b[0m\n\u001b[0m\u001b[1;32m   2763\u001b[0m \u001b[0;34m\u001b[0m\u001b[0m\n\u001b[1;32m   2764\u001b[0m     \u001b[0;32mdef\u001b[0m \u001b[0mscalar\u001b[0m\u001b[0;34m(\u001b[0m\u001b[0mself\u001b[0m\u001b[0;34m)\u001b[0m\u001b[0;34m:\u001b[0m\u001b[0;34m\u001b[0m\u001b[0;34m\u001b[0m\u001b[0m\n",
      "\u001b[0;32m/usr/local/lib/python3.9/site-packages/sqlalchemy/engine/result.py\u001b[0m in \u001b[0;36mone\u001b[0;34m(self)\u001b[0m\n\u001b[1;32m   1371\u001b[0m \u001b[0;34m\u001b[0m\u001b[0m\n\u001b[1;32m   1372\u001b[0m         \"\"\"\n\u001b[0;32m-> 1373\u001b[0;31m         \u001b[0;32mreturn\u001b[0m \u001b[0mself\u001b[0m\u001b[0;34m.\u001b[0m\u001b[0m_only_one_row\u001b[0m\u001b[0;34m(\u001b[0m\u001b[0;32mTrue\u001b[0m\u001b[0;34m,\u001b[0m \u001b[0;32mTrue\u001b[0m\u001b[0;34m,\u001b[0m \u001b[0;32mFalse\u001b[0m\u001b[0;34m)\u001b[0m\u001b[0;34m\u001b[0m\u001b[0;34m\u001b[0m\u001b[0m\n\u001b[0m\u001b[1;32m   1374\u001b[0m \u001b[0;34m\u001b[0m\u001b[0m\n\u001b[1;32m   1375\u001b[0m \u001b[0;34m\u001b[0m\u001b[0m\n",
      "\u001b[0;32m/usr/local/lib/python3.9/site-packages/sqlalchemy/engine/result.py\u001b[0m in \u001b[0;36m_only_one_row\u001b[0;34m(self, raise_for_second_row, raise_for_none, scalar)\u001b[0m\n\u001b[1;32m    611\u001b[0m             \u001b[0;32mif\u001b[0m \u001b[0mnext_row\u001b[0m \u001b[0;32mis\u001b[0m \u001b[0;32mnot\u001b[0m \u001b[0m_NO_ROW\u001b[0m\u001b[0;34m:\u001b[0m\u001b[0;34m\u001b[0m\u001b[0;34m\u001b[0m\u001b[0m\n\u001b[1;32m    612\u001b[0m                 \u001b[0mself\u001b[0m\u001b[0;34m.\u001b[0m\u001b[0m_soft_close\u001b[0m\u001b[0;34m(\u001b[0m\u001b[0mhard\u001b[0m\u001b[0;34m=\u001b[0m\u001b[0;32mTrue\u001b[0m\u001b[0;34m)\u001b[0m\u001b[0;34m\u001b[0m\u001b[0;34m\u001b[0m\u001b[0m\n\u001b[0;32m--> 613\u001b[0;31m                 raise exc.MultipleResultsFound(\n\u001b[0m\u001b[1;32m    614\u001b[0m                     \u001b[0;34m\"Multiple rows were found when exactly one was required\"\u001b[0m\u001b[0;34m\u001b[0m\u001b[0;34m\u001b[0m\u001b[0m\n\u001b[1;32m    615\u001b[0m                     \u001b[0;32mif\u001b[0m \u001b[0mraise_for_none\u001b[0m\u001b[0;34m\u001b[0m\u001b[0;34m\u001b[0m\u001b[0m\n",
      "\u001b[0;31mMultipleResultsFound\u001b[0m: Multiple rows were found when exactly one was required"
     ]
    }
   ],
   "source": [
    "q = session.query(Listing)\n",
    "q = q.filter(Listing.listing_name.like(\"%Bright & beautiful%\"))\n",
    "to_del = q.one()\n",
    "session.delete(to_del)\n",
    "session.commit()\n",
    "to_del = q.first()\n",
    "print(to_del)"
   ]
  },
  {
   "cell_type": "markdown",
   "metadata": {},
   "source": [
    "## Join"
   ]
  },
  {
   "cell_type": "code",
   "execution_count": 69,
   "metadata": {},
   "outputs": [
    {
     "name": "stdout",
     "output_type": "stream",
     "text": [
      "[Listing(listing_name='Studio with private bathroom in the centre 1', listing_url='https://www.airbnb.com/rooms/20168', amenities='[\"Wifi\", \"Hot water\", \"Hangers\", \"Host greets you\", \"Long term stays allowed\", \"Carbon monoxide alarm\", \"Fire extinguisher\", \"Dedicated workspace\", \"Paid parking off premises\", \"Essentials\", \"Bed linens\", \"Hair dryer\", \"TV\", \"Heating\", \"Refrigerator\", \"Free street parking\", \"Smoke alarm\"]', bedrooms='1', price='236.00'),\n",
      " Listing(listing_name='COSY HOUSEBOAT IN THE CITY CENTER', listing_url='https://www.airbnb.com/rooms/3086023', amenities='[\"Wifi\", \"Carbon monoxide alarm\", \"Fire extinguisher\", \"Kitchen\", \"Cable TV\", \"TV\", \"Heating\", \"Washer\", \"Smoke alarm\"]', bedrooms='1', price='140.00'),\n",
      " Listing(listing_name='View on the canals', listing_url='https://www.airbnb.com/rooms/11495829', amenities='[\"Wifi\", \"Iron\", \"Hangers\", \"Shampoo\", \"Dedicated workspace\", \"Dryer\", \"Essentials\", \"Kitchen\", \"Hair dryer\", \"TV\", \"Heating\", \"Indoor fireplace\", \"Washer\"]', bedrooms='1', price='100.00'),\n",
      " Listing(listing_name='2 bedrooms in the heart of Amsterdam', listing_url='https://www.airbnb.com/rooms/18868205', amenities='[\"Wifi\", \"Iron\", \"Hangers\", \"Lock on bedroom door\", \"Host greets you\", \"Carbon monoxide alarm\", \"Shampoo\", \"Fire extinguisher\", \"Dedicated workspace\", \"Dryer\", \"Essentials\", \"First aid kit\", \"Heating\", \"Washer\", \"Smoke alarm\"]', bedrooms='2', price='150.00')]\n"
     ]
    }
   ],
   "source": [
    "q = session.query(Listing)\n",
    "q = q.join(Neighbourhood)\n",
    "result = q.filter(Neighbourhood.neigh_name == \"Centrum-Oost\").all()\n",
    "pprint(result)"
   ]
  },
  {
   "cell_type": "code",
   "execution_count": 70,
   "metadata": {},
   "outputs": [
    {
     "name": "stdout",
     "output_type": "stream",
     "text": [
      "[Listing(listing_name='Studio with private bathroom in the centre 1', listing_url='https://www.airbnb.com/rooms/20168', amenities='[\"Wifi\", \"Hot water\", \"Hangers\", \"Host greets you\", \"Long term stays allowed\", \"Carbon monoxide alarm\", \"Fire extinguisher\", \"Dedicated workspace\", \"Paid parking off premises\", \"Essentials\", \"Bed linens\", \"Hair dryer\", \"TV\", \"Heating\", \"Refrigerator\", \"Free street parking\", \"Smoke alarm\"]', bedrooms='1', price='236.00'),\n",
      " Listing(listing_name='COSY HOUSEBOAT IN THE CITY CENTER', listing_url='https://www.airbnb.com/rooms/3086023', amenities='[\"Wifi\", \"Carbon monoxide alarm\", \"Fire extinguisher\", \"Kitchen\", \"Cable TV\", \"TV\", \"Heating\", \"Washer\", \"Smoke alarm\"]', bedrooms='1', price='140.00'),\n",
      " Listing(listing_name='View on the canals', listing_url='https://www.airbnb.com/rooms/11495829', amenities='[\"Wifi\", \"Iron\", \"Hangers\", \"Shampoo\", \"Dedicated workspace\", \"Dryer\", \"Essentials\", \"Kitchen\", \"Hair dryer\", \"TV\", \"Heating\", \"Indoor fireplace\", \"Washer\"]', bedrooms='1', price='100.00'),\n",
      " Listing(listing_name='2 bedrooms in the heart of Amsterdam', listing_url='https://www.airbnb.com/rooms/18868205', amenities='[\"Wifi\", \"Iron\", \"Hangers\", \"Lock on bedroom door\", \"Host greets you\", \"Carbon monoxide alarm\", \"Shampoo\", \"Fire extinguisher\", \"Dedicated workspace\", \"Dryer\", \"Essentials\", \"First aid kit\", \"Heating\", \"Washer\", \"Smoke alarm\"]', bedrooms='2', price='150.00')]\n"
     ]
    }
   ],
   "source": [
    "q = session.query(Listing)\n",
    "q = q.outerjoin(Neighbourhood)\n",
    "result = q.filter(Neighbourhood.neigh_name == \"Centrum-Oost\").all()\n",
    "pprint(result)"
   ]
  },
  {
   "cell_type": "markdown",
   "metadata": {},
   "source": [
    "## Группировка"
   ]
  },
  {
   "cell_type": "code",
   "execution_count": 73,
   "metadata": {},
   "outputs": [
    {
     "data": {
      "text/plain": [
       "[('A', 2),\n",
       " ('Aafke', 1),\n",
       " ('Abel', 2),\n",
       " ('Achayla', 1),\n",
       " ('Ad', 1),\n",
       " ('Adam', 3),\n",
       " ('Adelle', 1),\n",
       " ('Adem', 1),\n",
       " ('Adriaan', 1),\n",
       " ('Adrian', 1),\n",
       " ('Adrien', 2),\n",
       " ('Aemilia', 1),\n",
       " ('Aernoud', 1),\n",
       " ('Afroditi', 1),\n",
       " ('Agnes', 1),\n",
       " ('Agnesa', 1),\n",
       " ('Ahmed', 1),\n",
       " ('Aida', 1),\n",
       " ('Aiya', 1),\n",
       " ('Aj', 1),\n",
       " ('Alan', 4),\n",
       " ('Albert', 1),\n",
       " ('Albertine', 2),\n",
       " ('Aldo', 1),\n",
       " ('Alec', 1),\n",
       " ('Alecsander', 1),\n",
       " ('Aleksander', 1),\n",
       " ('Aleksandra', 1),\n",
       " ('Alessandro', 1),\n",
       " ('Alessio', 1),\n",
       " ('Alex', 3),\n",
       " ('Alexander', 5),\n",
       " ('Alexandra', 6),\n",
       " ('Alexis', 1),\n",
       " ('Alfons', 1),\n",
       " ('Alfred', 1),\n",
       " ('Alice', 1),\n",
       " ('Alina', 1),\n",
       " ('Aline', 1),\n",
       " ('Altagracia', 1),\n",
       " ('Aly And Jeroen', 1),\n",
       " ('Alycia', 1),\n",
       " ('Amanda', 1),\n",
       " ('Amandine', 1),\n",
       " ('Amar', 1),\n",
       " ('Amber', 3),\n",
       " ('Ambra', 1),\n",
       " ('Ameen', 1),\n",
       " ('Amelie', 1),\n",
       " ('Ami', 1),\n",
       " ('Amstel BNB & We  Box Homes', 1),\n",
       " ('Amstelview Apartment Riverside Plus', 1),\n",
       " ('Amy', 3),\n",
       " ('Ana', 2),\n",
       " ('Ana Leah', 1),\n",
       " ('Anand', 1),\n",
       " ('Andor', 1),\n",
       " ('Andre', 1),\n",
       " ('Andrea', 7),\n",
       " ('Andreas', 1),\n",
       " ('Andreea', 1),\n",
       " ('Andres', 1),\n",
       " ('Andrey', 1),\n",
       " ('André', 1),\n",
       " ('Andy', 1),\n",
       " ('Angela', 3),\n",
       " ('Angelina', 1),\n",
       " ('Angelo', 1),\n",
       " ('Anique', 1),\n",
       " ('Anita', 4),\n",
       " ('Anitra', 1),\n",
       " ('Anja', 2),\n",
       " ('Anke', 3),\n",
       " ('Ann And Peter', 1),\n",
       " ('Anna', 8),\n",
       " ('Anna And Robert', 1),\n",
       " ('Anna&Marnix', 1),\n",
       " ('Annabel', 1),\n",
       " ('Anne', 10),\n",
       " ('Anne-Cecile & Jeroen', 1),\n",
       " ('Anne-Fay', 1),\n",
       " ('Anne-Marie', 1),\n",
       " ('Anne-Sophie', 1),\n",
       " ('Anneke', 2),\n",
       " ('Annelies', 1),\n",
       " ('Anneloes', 1),\n",
       " ('Annelore', 1),\n",
       " ('Annemarie', 4),\n",
       " ('Annemarth', 1),\n",
       " ('Annemiek', 2),\n",
       " ('Annemiek & Eric', 1),\n",
       " ('Annemien', 1),\n",
       " ('Annerie& Lucas', 1),\n",
       " ('Annette', 4),\n",
       " ('Annick', 2),\n",
       " ('Anniek', 2),\n",
       " ('Annique', 1),\n",
       " ('Anny', 1),\n",
       " ('Anouk', 4),\n",
       " ('Anthon', 1),\n",
       " ('Archie', 1),\n",
       " ('Ardi', 1),\n",
       " ('Ardine', 1),\n",
       " ('Aren', 1),\n",
       " ('Ari', 1),\n",
       " ('Arie', 3),\n",
       " ('Arija', 1),\n",
       " ('Arjan', 3),\n",
       " ('Arjen', 2),\n",
       " ('Arjen & Lisa', 1),\n",
       " ('Arlette', 1),\n",
       " ('Arley', 1),\n",
       " ('Armen', 1),\n",
       " ('Arnaud', 3),\n",
       " ('Arnaut', 1),\n",
       " ('Arne', 1),\n",
       " ('Arnout', 1),\n",
       " ('Aron', 1),\n",
       " ('Artem', 1),\n",
       " ('Arthur', 5),\n",
       " ('Asaf', 2),\n",
       " ('Asdis', 1),\n",
       " ('Ash', 1),\n",
       " ('Ashieq', 1),\n",
       " ('Ashley', 1),\n",
       " ('Asile Flottant', 1),\n",
       " ('Aster', 1),\n",
       " ('Astrid', 3),\n",
       " ('Athena', 1),\n",
       " ('Atte', 1),\n",
       " ('Audrey', 1),\n",
       " ('Augustus', 1),\n",
       " ('Aukeline', 1),\n",
       " ('Aukje', 3),\n",
       " ('Aydin', 1),\n",
       " ('B', 1),\n",
       " ('B.', 1),\n",
       " ('Babette', 2),\n",
       " ('Babs', 1),\n",
       " ('Bahghi', 1),\n",
       " ('Balla', 1),\n",
       " ('Balázs', 1),\n",
       " ('Barbara', 9),\n",
       " ('Barnaby & Annelie', 1),\n",
       " ('Barry', 1),\n",
       " ('Bart', 19),\n",
       " ('Bart & Sylvia', 1),\n",
       " ('Bas', 9),\n",
       " ('Bastiaan', 1),\n",
       " ('Bauke And Annemiek', 1),\n",
       " ('Beatrijs', 1),\n",
       " ('Beheer', 1),\n",
       " ('Bela And Tom', 1),\n",
       " ('Belle', 1),\n",
       " ('Ben', 1),\n",
       " ('Bene', 1),\n",
       " ('Benine', 1),\n",
       " ('Benjamin', 4),\n",
       " ('Benjamin & Brigitte', 1),\n",
       " ('Benjamin And Debra', 1),\n",
       " ('Benno', 1),\n",
       " ('Berend', 1),\n",
       " ('Berk', 1),\n",
       " ('Bernard', 2),\n",
       " ('Bernard & Suzan', 1),\n",
       " ('Bernice', 1),\n",
       " ('Berry', 1),\n",
       " ('Bert', 1),\n",
       " ('Bertrand', 1),\n",
       " ('Beth', 1),\n",
       " ('Betty', 1),\n",
       " ('Bharati', 1),\n",
       " ('Bianca', 1),\n",
       " ('Bibi', 2),\n",
       " ('Bilgehan', 1),\n",
       " ('Björn', 1),\n",
       " ('Blanca', 1),\n",
       " ('BnB Assistant', 1),\n",
       " ('BnB Beheer', 1),\n",
       " ('BnB-Beheer', 2),\n",
       " ('Bo', 2),\n",
       " ('Bob', 7),\n",
       " ('Bobby', 2),\n",
       " ('Bobby & Lizzy', 1),\n",
       " ('Bonito', 1),\n",
       " ('Bop & Eve', 1),\n",
       " ('Boris', 1),\n",
       " ('Boudewijn', 1),\n",
       " ('Boudie', 1),\n",
       " ('Bouke', 1),\n",
       " ('Boukje', 1),\n",
       " ('Bowen', 1),\n",
       " ('Boyd', 1),\n",
       " ('Brad', 1),\n",
       " ('Bram', 8),\n",
       " ('Bram & Shanthi', 1),\n",
       " ('Brechje', 1),\n",
       " ('Brend & Vera', 1),\n",
       " ('Brenda', 2),\n",
       " ('Brent', 1),\n",
       " ('Brian', 3),\n",
       " ('Brigit', 1),\n",
       " ('Britt', 1),\n",
       " ('Bruno', 1),\n",
       " ('Bryan', 1),\n",
       " ('Buket', 1),\n",
       " ('C', 1),\n",
       " ('Caily', 1),\n",
       " ('Camilla', 1),\n",
       " ('Candy', 1),\n",
       " ('Cap Homes', 1),\n",
       " ('Carel', 1),\n",
       " ('Carien', 1),\n",
       " ('Carina', 1),\n",
       " ('Carla', 2),\n",
       " ('Carlien', 1),\n",
       " ('Carlijn', 3),\n",
       " ('Carlinke', 1),\n",
       " ('Carlo', 1),\n",
       " ('Carlos', 1),\n",
       " ('Carmen', 2),\n",
       " ('Caro', 1),\n",
       " ('Carolien', 4),\n",
       " ('Carolina', 1),\n",
       " ('Caroline', 6),\n",
       " ('Carrie', 1),\n",
       " ('Cas', 2),\n",
       " ('Caspar', 1),\n",
       " ('Caspar & Enza', 1),\n",
       " ('Casper', 6),\n",
       " ('Catelijn', 1),\n",
       " ('Catherine', 1),\n",
       " ('Cathy', 1),\n",
       " ('Cecilie', 1),\n",
       " ('Cees', 1),\n",
       " ('Cees&Co', 1),\n",
       " ('Celeste', 1),\n",
       " ('Celestine', 1),\n",
       " ('Celine', 1),\n",
       " ('Chafia', 1),\n",
       " ('Chaka', 1),\n",
       " ('Chantal', 3),\n",
       " ('Charis', 1),\n",
       " ('Charissa', 1),\n",
       " ('Charles', 4),\n",
       " ('Charley', 1),\n",
       " ('Charlotte', 12),\n",
       " ('Chi', 1),\n",
       " ('Chiara', 1),\n",
       " ('Chien & Sophie', 1),\n",
       " ('Chika', 1),\n",
       " ('Chretien', 1),\n",
       " ('Chris', 2),\n",
       " ('Chris & Mariska', 1),\n",
       " ('Chris And Daiva', 1),\n",
       " ('Christiaan', 3),\n",
       " ('Christian', 1),\n",
       " ('Christina', 1),\n",
       " ('Christine', 4),\n",
       " ('Christophe', 1),\n",
       " ('Christopher', 1),\n",
       " ('Chun', 1),\n",
       " ('Cido', 1),\n",
       " ('Cin', 1),\n",
       " ('Cindy', 2),\n",
       " ('City Apartments Amsterdam', 1),\n",
       " ('CityHub', 1),\n",
       " ('Claartje', 1),\n",
       " ('Claire', 4),\n",
       " ('Clara', 2),\n",
       " ('Clarissa', 1),\n",
       " ('Claudia', 2),\n",
       " ('Claudio', 1),\n",
       " ('Clemens', 1),\n",
       " ('Clementine', 1),\n",
       " ('Cnaan', 1),\n",
       " ('Coen', 5),\n",
       " ('Colin', 1),\n",
       " ('Conny', 1),\n",
       " ('Conor', 2),\n",
       " ('Constanze', 1),\n",
       " ('Coot', 1),\n",
       " ('Cora', 1),\n",
       " ('Corine', 1),\n",
       " ('Cornelie', 1),\n",
       " ('Corrie', 1),\n",
       " ('Cosimo', 1),\n",
       " ('Craig', 2),\n",
       " ('Cristian', 1),\n",
       " ('Cristina', 2),\n",
       " ('Ct', 1),\n",
       " ('Cyril', 1),\n",
       " ('Cécile', 1),\n",
       " ('Cédric', 1),\n",
       " ('Daan', 12),\n",
       " ('Daan & Eva', 1),\n",
       " ('Daan & Tijs', 1),\n",
       " ('Dafna', 1),\n",
       " ('Dagmar', 1),\n",
       " ('Dan', 1),\n",
       " ('Dana', 3),\n",
       " ('Dani', 1),\n",
       " ('Daniel', 9),\n",
       " ('Daniel & Danielle', 1),\n",
       " ('Daniel & Julia-Beth', 1),\n",
       " ('Daniela', 4),\n",
       " ('Daniella', 2),\n",
       " ('Danielle', 4),\n",
       " ('Danique', 1),\n",
       " ('Danny', 2),\n",
       " ('Dany', 1),\n",
       " ('Daphne', 4),\n",
       " ('Daphny', 1),\n",
       " ('Daria', 1),\n",
       " ('Dario', 2),\n",
       " ('Darragh', 1),\n",
       " ('Darryl', 1),\n",
       " ('Daryl', 1),\n",
       " ('Dascha', 1),\n",
       " ('Dave', 1),\n",
       " ('Davez', 1),\n",
       " ('David', 7),\n",
       " ('David De Jong', 1),\n",
       " ('David En Phoebe', 1),\n",
       " ('Davide', 1),\n",
       " ('Daya', 1),\n",
       " ('De Casa', 1),\n",
       " ('Debbie', 1),\n",
       " ('Debby', 1),\n",
       " ('Debora', 1),\n",
       " ('Delle', 1),\n",
       " ('Demelza', 1),\n",
       " ('Dene', 1),\n",
       " ('Denis', 1),\n",
       " ('Denise', 1),\n",
       " ('Dennis', 6),\n",
       " ('Derek', 1),\n",
       " ('Derk', 1),\n",
       " ('Desi', 1),\n",
       " ('Desiree', 1),\n",
       " ('Devi', 1),\n",
       " ('Diana', 1),\n",
       " ('Dicky', 1),\n",
       " ('Diddo', 1),\n",
       " ('Diderik', 1),\n",
       " ('Diederick', 1),\n",
       " ('Diederik', 4),\n",
       " ('Diego & Petra', 1),\n",
       " ('Dieneke', 1),\n",
       " ('Dieske', 1),\n",
       " ('Diewert', 1),\n",
       " ('Dijana', 1),\n",
       " ('Dilesh', 1),\n",
       " ('Dillon', 1),\n",
       " ('Dilyana', 1),\n",
       " ('Dimphy', 1),\n",
       " ('Dina-Perla', 1),\n",
       " ('Dingeman', 1),\n",
       " ('Diogo', 1),\n",
       " ('Dionne', 1),\n",
       " ('Dirk', 7),\n",
       " ('Dirk-Jan En Joan', 1),\n",
       " ('Dominic', 1),\n",
       " ('Dominique', 2),\n",
       " ('Don', 1),\n",
       " ('Donja & Dirk', 1),\n",
       " ('Donna', 1),\n",
       " ('Dorien', 2),\n",
       " ('Dorien Rose', 1),\n",
       " ('Dorine', 1),\n",
       " ('Dorota', 1),\n",
       " ('Dorothea', 1),\n",
       " ('Dorothea And Fouad', 1),\n",
       " ('Dorus', 1),\n",
       " ('Doutzen', 1),\n",
       " ('Douwe', 3),\n",
       " ('Dries', 1),\n",
       " ('Driss And Bettina', 1),\n",
       " ('Dunya', 1),\n",
       " ('Dylan', 2),\n",
       " ('E', 1),\n",
       " ('Ea', 1),\n",
       " ('Ebm', 1),\n",
       " ('Ebru', 1),\n",
       " ('Ed', 3),\n",
       " ('Eda', 1),\n",
       " ('Edith', 2),\n",
       " ('Edmee', 1),\n",
       " ('Edoardo', 1),\n",
       " ('Eduard', 1),\n",
       " ('Edward', 1),\n",
       " ('Edwin', 4),\n",
       " ('Eefje', 2),\n",
       " ('Eelco', 2),\n",
       " ('Eelke', 1),\n",
       " ('Eelko', 1),\n",
       " ('Efrayim', 1),\n",
       " ('Eglė', 1),\n",
       " ('Ehab', 1),\n",
       " ('Eldad & Louise', 1),\n",
       " ('Elena', 5),\n",
       " ('Eleni', 1),\n",
       " ('Eleonore', 1),\n",
       " ('Eliane', 2),\n",
       " ('Elias', 2),\n",
       " ('Elin', 1),\n",
       " ('Elina', 2),\n",
       " ('Eline', 2),\n",
       " ('Eline  & Emiel', 1),\n",
       " ('Elise', 2),\n",
       " ('Eliza', 2),\n",
       " ('Elizabeth', 3),\n",
       " ('Ella', 2),\n",
       " ('Ellen', 4),\n",
       " ('Elles', 1),\n",
       " ('Ellie', 1),\n",
       " ('Elly', 1),\n",
       " ('Elmira', 1),\n",
       " ('Els', 1),\n",
       " ('Else', 1),\n",
       " ('Elsje', 1),\n",
       " ('Eltjo', 1),\n",
       " ('Elvira', 1),\n",
       " ('Elwin', 1),\n",
       " ('Emelie', 1),\n",
       " ('Emiel', 2),\n",
       " ('Emile', 1),\n",
       " ('Emilie', 3),\n",
       " ('Emilie Eliza', 1),\n",
       " ('Emily', 5),\n",
       " ('Emma', 4),\n",
       " ('Emmelie', 2),\n",
       " ('Emmett', 1),\n",
       " (\"Emmy'S Bnb\", 1),\n",
       " ('Engelbert', 1),\n",
       " ('Enith', 1),\n",
       " ('Enneke', 1),\n",
       " ('Erez', 1),\n",
       " ('Ergun', 1),\n",
       " ('Eric & Annelien', 1),\n",
       " ('Eric & Carla', 1),\n",
       " ('Erik', 7),\n",
       " ('Erik & Sandra', 1),\n",
       " ('Erik And Mary Jo', 1),\n",
       " ('Erika', 1),\n",
       " ('Erjen', 1),\n",
       " ('Erkan', 1),\n",
       " ('Ernst', 1),\n",
       " ('Erwin', 5),\n",
       " ('Esmee', 2),\n",
       " ('Estanislao', 1),\n",
       " ('Estelle', 1),\n",
       " ('Ester', 2),\n",
       " ('Esther', 6),\n",
       " ('Esther & Jan', 1),\n",
       " ('Etienne', 1),\n",
       " ('Eugenie', 1),\n",
       " ('Eva', 13),\n",
       " ('Eva & Kobe', 1),\n",
       " ('Eva & Wouter', 1),\n",
       " ('Eva Julia', 1),\n",
       " ('Evan', 1),\n",
       " ('Evaristo', 1),\n",
       " ('Eve', 1),\n",
       " ('Eve & Franklin', 1),\n",
       " ('Evelien', 1),\n",
       " ('Eveline', 3),\n",
       " ('Eveline & Sebastiaan', 1),\n",
       " ('Eveline En Huib', 1),\n",
       " ('Evert', 2),\n",
       " ('Evgenia', 1),\n",
       " ('Evgeniia', 1),\n",
       " ('Ezzie', 1),\n",
       " ('Fabian', 1),\n",
       " ('Fabienne', 2),\n",
       " ('Fahd', 1),\n",
       " ('Faiza', 1),\n",
       " ('Family', 1),\n",
       " ('Family Of 5', 1),\n",
       " ('Fanny', 1),\n",
       " ('Faralda', 1),\n",
       " ('Fardau', 1),\n",
       " ('Farid And Bintang', 1),\n",
       " ('Farnoosh And Karl', 1),\n",
       " ('Fatih', 1),\n",
       " ('Fatima', 1),\n",
       " ('Faye', 1),\n",
       " ('Fedde', 1),\n",
       " ('Feliciano', 1),\n",
       " ('Felicity And Michael', 1),\n",
       " ('Felix', 3),\n",
       " ('Femke', 7),\n",
       " ('Fenna', 1),\n",
       " ('Fenne', 1),\n",
       " ('Ferd', 1),\n",
       " ('Ferdau', 1),\n",
       " ('Ferdi', 1),\n",
       " ('Fernanda & Roy', 1),\n",
       " ('Fernando', 1),\n",
       " ('Ferry', 1),\n",
       " ('Fimke', 1),\n",
       " ('Finn', 1),\n",
       " ('Fleur', 4),\n",
       " ('Fleurien', 1),\n",
       " ('Flip', 1),\n",
       " ('Floor', 10),\n",
       " ('Floortje', 2),\n",
       " ('Flora', 1),\n",
       " ('Florian', 3),\n",
       " ('Florianne', 1),\n",
       " ('Florine', 1),\n",
       " ('Floris', 1),\n",
       " ('Floris & Alicja', 1),\n",
       " ('Flávio', 1),\n",
       " ('Folkert', 1),\n",
       " ('Fong', 1),\n",
       " ('Franca', 1),\n",
       " ('Francesco', 1),\n",
       " ('Francine', 1),\n",
       " ('Francisco', 1),\n",
       " ('Francois', 1),\n",
       " ('Frank', 5),\n",
       " ('Frank & Jasmijn', 1),\n",
       " ('Frank&Elise', 1),\n",
       " ('Franka & Niels', 1),\n",
       " ('Frans', 1),\n",
       " ('Fransje', 1),\n",
       " ('François', 1),\n",
       " ('Freddie', 1),\n",
       " ('Freddy', 1),\n",
       " ('Frederic', 1),\n",
       " ('Frederick', 1),\n",
       " ('Frederik', 1),\n",
       " ('Frederique', 1),\n",
       " ('Freek', 5),\n",
       " ('Fre´', 1),\n",
       " ('Friso', 1),\n",
       " ('Frits', 1),\n",
       " ('Frouke', 1),\n",
       " ('Fulco', 1),\n",
       " ('Fé', 1),\n",
       " ('G.', 1),\n",
       " ('Gabri', 1),\n",
       " ('Gabriela', 2),\n",
       " ('Gabrielle', 3),\n",
       " ('Gayle', 1),\n",
       " ('Gea', 1),\n",
       " ('Geer', 1),\n",
       " ('Geerda', 1),\n",
       " ('Geert', 2),\n",
       " ('Geert Alexander', 1),\n",
       " ('Generator', 1),\n",
       " ('Genevieve', 2),\n",
       " ('Georg', 1),\n",
       " ('George', 4),\n",
       " ('Georgia', 1),\n",
       " ('Georgios', 2),\n",
       " ('Gera', 1),\n",
       " ('Gerald', 1),\n",
       " ('Geraldien', 1),\n",
       " ('Geraldine', 1),\n",
       " ('Gerard', 1),\n",
       " ('Gerbrand', 1),\n",
       " ('Gerrit', 2),\n",
       " ('Gerrit Jan & Veerle', 1),\n",
       " ('Gert', 1),\n",
       " ('Gianluca', 1),\n",
       " ('Gianni', 1),\n",
       " ('Giannis', 1),\n",
       " ('Gideon', 1),\n",
       " ('Gidon', 1),\n",
       " ('Gijs', 5),\n",
       " ('Gilbert', 1),\n",
       " ('Gina', 1),\n",
       " ('Giordano', 1),\n",
       " ('Giorgio', 1),\n",
       " ('Giovanna', 1),\n",
       " ('Gisèle And Simon', 1),\n",
       " ('Glenda', 1),\n",
       " ('Glendon', 1),\n",
       " ('Glenn & Nicolien', 1),\n",
       " ('Godelieve', 1),\n",
       " ('Gordian', 1),\n",
       " ('Govert', 1),\n",
       " ('Greg', 1),\n",
       " ('Greta', 1),\n",
       " ('Gretchen', 1),\n",
       " ('Groes', 1),\n",
       " ('Guido', 1),\n",
       " ('Guido & Jasmine', 1),\n",
       " ('Gunnar Torfi', 1),\n",
       " ('Gustavo', 1),\n",
       " ('Guus', 3),\n",
       " ('Guyon', 1),\n",
       " ('H.', 1),\n",
       " ('Hadewych', 1),\n",
       " ('Haiko & Fleur', 1),\n",
       " ('Hailey', 1),\n",
       " ('Hala', 1),\n",
       " ('Hamish & Jess', 1),\n",
       " ('Hanaa', 1),\n",
       " ('Hanco', 1),\n",
       " ('Hank', 1),\n",
       " ('Hanna', 1),\n",
       " ('Hannah', 7),\n",
       " ('Hanne', 5),\n",
       " ('Hanneke', 3),\n",
       " ('Hans', 9),\n",
       " ('Harmen', 1),\n",
       " ('Harrie', 1),\n",
       " ('Harriet', 2),\n",
       " ('Harry', 3),\n",
       " ('Hayden & Mieke', 1),\n",
       " ('Hedwig', 2),\n",
       " ('Heidi', 1),\n",
       " ('Heike', 1),\n",
       " ('Hein', 3),\n",
       " ('Hein-Jan', 1),\n",
       " ('Heiner', 1),\n",
       " ('Heleen', 2),\n",
       " ('Helen', 2),\n",
       " ('Helena', 1),\n",
       " ('Helene', 1),\n",
       " ('Hellen', 2),\n",
       " ('Henk', 2),\n",
       " ('Henk-Jan', 1),\n",
       " ('Henky', 1),\n",
       " ('Henning', 2),\n",
       " ('Henri & Mel', 1),\n",
       " ('Henrica', 1),\n",
       " ('Henriette', 3),\n",
       " ('Henrik', 1),\n",
       " ('Herald', 1),\n",
       " ('Heredium', 1),\n",
       " ('Herman', 3),\n",
       " ('Hester', 4),\n",
       " ('Hetty', 1),\n",
       " ('Hf', 1),\n",
       " ('Hil And Dee', 1),\n",
       " ('Hilde', 1),\n",
       " ('Hinde', 1),\n",
       " ('Holly', 1),\n",
       " ('Hotel Estheréa', 1),\n",
       " ('Houseboat In Amsterdam', 1),\n",
       " ('Hugo', 2),\n",
       " ('Hugo And Manon', 1),\n",
       " ('Huib', 1),\n",
       " ('Hus', 1),\n",
       " ('Huub', 2),\n",
       " ('Huub & Sylvia', 1),\n",
       " ('Héctor', 1),\n",
       " ('Ianthe', 1),\n",
       " ('Iekeliene', 1),\n",
       " ('Ievgen', 1),\n",
       " ('Ifigenia', 1),\n",
       " ('Igor', 2),\n",
       " ('Ikenna', 1),\n",
       " ('Ilonka', 1),\n",
       " ('Ilse', 3),\n",
       " ('Ilva', 1),\n",
       " ('Imke', 1),\n",
       " ('Ineke', 1),\n",
       " ('Ines & Erik', 1),\n",
       " ('Inge', 7),\n",
       " ('Ingeborg', 3),\n",
       " ('Ingmar', 1),\n",
       " ('Ingo & Marlies', 1),\n",
       " ('Insa', 1),\n",
       " ('Inês & Rembrant', 1),\n",
       " ('Ireen', 1),\n",
       " ('Irena', 1),\n",
       " ('Irene', 9),\n",
       " ('Iris', 7),\n",
       " ('Irisa', 1),\n",
       " ('Irvine', 1),\n",
       " ('Isa & Rick', 1),\n",
       " ('Isabel', 1),\n",
       " ('Isabel & Olivier', 1),\n",
       " ('Isabella', 1),\n",
       " ('Isabelle', 4),\n",
       " ('Isis', 1),\n",
       " ('Ismael', 1),\n",
       " ('Ismail', 1),\n",
       " ('Ivan', 1),\n",
       " ('Ivar', 1),\n",
       " ('Ivo', 1),\n",
       " ('Iwan', 1),\n",
       " ('Izabel', 1),\n",
       " ('J', 1),\n",
       " ('J. Willem', 1),\n",
       " ('Jaap', 6),\n",
       " ('Jacco', 2),\n",
       " ('Jack', 1),\n",
       " ('Jack & Semira', 1),\n",
       " ('Jack Sun', 1),\n",
       " ('Jacky', 1),\n",
       " ('Jaco', 1),\n",
       " ('Jacob', 3),\n",
       " ('Jacobeijn', 1),\n",
       " ('Jacobiene', 1),\n",
       " ('Jacobine', 1),\n",
       " ('Jacomien', 1),\n",
       " ('Jacqueline', 8),\n",
       " ('Jacques', 1),\n",
       " ('Jael', 1),\n",
       " ('Jake', 1),\n",
       " ('Jakob', 1),\n",
       " ('Jakobus', 1),\n",
       " ('James', 2),\n",
       " ('Jan', 15),\n",
       " ('Jan & Desti', 1),\n",
       " ('Jan And Tota', 1),\n",
       " ('Jan En Andrea', 1),\n",
       " ('Jan Willem', 1),\n",
       " ('Jan-Harmen', 1),\n",
       " ('Jan-Tjalling', 1),\n",
       " ('Jan-Willem', 1),\n",
       " ('Jana', 1),\n",
       " ('Janeke', 1),\n",
       " ('Janet', 1),\n",
       " ('Janeth', 1),\n",
       " ('Janine', 1),\n",
       " ('Janna', 2),\n",
       " ('Janne', 1),\n",
       " ('Janne & Timon', 1),\n",
       " ('Janneke', 2),\n",
       " ('Janneke & Tim', 1),\n",
       " ('Jannes', 1),\n",
       " ('Jannie', 1),\n",
       " ('Janniek', 1),\n",
       " ('Jansje', 1),\n",
       " ('Jantien', 2),\n",
       " ('Jantine', 1),\n",
       " ('Janwillem', 1),\n",
       " ('Jara', 1),\n",
       " ('Jason', 1),\n",
       " ('Jasper', 7),\n",
       " ('Jaïr', 1),\n",
       " ('Jean-Luc', 1),\n",
       " ('Jean-Paul', 1),\n",
       " ('Jeanine', 1),\n",
       " ('Jeff', 2),\n",
       " ('Jeffrey', 1),\n",
       " ('Jelka', 1),\n",
       " ('Jelle', 4),\n",
       " ('Jelle & Marije', 1),\n",
       " ('Jelleke', 1),\n",
       " ('Jelmer', 1),\n",
       " ('Jeltje', 1),\n",
       " ('Jenneke', 1),\n",
       " ('Jennie', 1),\n",
       " ('Jennifer', 3),\n",
       " ('Jennita', 1),\n",
       " ('Jens', 1),\n",
       " ('Jeremy', 1),\n",
       " ('Jeroen', 12),\n",
       " ('Jeroen & Olga', 1),\n",
       " ('Jeroen, Simone & Zoe', 1),\n",
       " ('Jerome', 1),\n",
       " ('Jesper', 2),\n",
       " ('Jesper & Ellen & Yara', 1),\n",
       " ('Jesse', 4),\n",
       " ('Jesse & Anat', 1),\n",
       " ('Jessemijne', 1),\n",
       " ('Jessica', 5),\n",
       " ('Jet', 2),\n",
       " ('Jill', 1),\n",
       " ('Jillian', 1),\n",
       " ('Jillis & Cristina', 1),\n",
       " ('Jim', 2),\n",
       " ('Jimmy', 6),\n",
       " ('Jingyi', 1),\n",
       " ('Jip', 1),\n",
       " ('Jj', 1),\n",
       " ('Jo', 2),\n",
       " ('Joachim', 1),\n",
       " ('Joan', 1),\n",
       " ('Joanneke', 1),\n",
       " ('Job', 2),\n",
       " ('Job & Fay', 1),\n",
       " ('Job En Suzanne', 1),\n",
       " ('Jochem', 4),\n",
       " ('Jodie', 1),\n",
       " ('Joelle', 1),\n",
       " ('Joep', 1),\n",
       " ('Joeri', 1),\n",
       " ('Joey & Judith', 1),\n",
       " ('Joggie', 1),\n",
       " ('Johan', 3),\n",
       " ('Johan & Sandra', 1),\n",
       " ('Johanna', 3),\n",
       " ('John', 4),\n",
       " ('Johnathan', 1),\n",
       " ('Jojanneke', 1),\n",
       " ('Joke', 2),\n",
       " ('Joke  & Gerard', 1),\n",
       " ('Jolanda', 2),\n",
       " ('Jolande', 1),\n",
       " ('Jolien', 2),\n",
       " ('Jona', 1),\n",
       " ('Jonas', 1),\n",
       " ('Jonathan', 2),\n",
       " ('Jonie', 1),\n",
       " ('Joop', 1),\n",
       " ('Joost', 12),\n",
       " ('Joost & Anna', 1),\n",
       " ('Joost And Reem', 1),\n",
       " ('Joost, Cristina And Lima', 1),\n",
       " ('Jordan', 1),\n",
       " ('Jordi', 1),\n",
       " ('Jordis', 1),\n",
       " ('Jordy', 1),\n",
       " ('Joren', 2),\n",
       " ('Jorian', 1),\n",
       " ('Jorien', 2),\n",
       " ('Jorik', 1),\n",
       " ('Joris', 12),\n",
       " ('Jorn', 3),\n",
       " ('Jorna', 1),\n",
       " ('Jorrien', 2),\n",
       " ('Jorrit', 5),\n",
       " ('Jos', 1),\n",
       " ('Jose', 1),\n",
       " ('Josefien', 1),\n",
       " ('Joseph Vito', 1),\n",
       " ('Josephine', 1),\n",
       " ('Josh', 1),\n",
       " ('Joshua', 2),\n",
       " ('José', 2),\n",
       " ('Joy', 1),\n",
       " ('João', 1),\n",
       " ('Joëlle', 1),\n",
       " ('Juan Carlos', 1),\n",
       " ('Judith', 7),\n",
       " ('Judy And Volkie', 1),\n",
       " ('Julia', 9),\n",
       " ('Julian', 5),\n",
       " ('Juliana', 1),\n",
       " ('Julieta', 1),\n",
       " ('Juliette', 6),\n",
       " ('Julius', 2),\n",
       " ('Junior', 2),\n",
       " ('Jur', 1),\n",
       " ('Jurgen', 2),\n",
       " ('Jurre', 1),\n",
       " ('Jurriaan', 1),\n",
       " ('Jussi', 1),\n",
       " ('Justin', 2),\n",
       " ('Justus', 4),\n",
       " ('Jutka', 1),\n",
       " ('Juul', 2),\n",
       " ('Juul & Ruub', 1),\n",
       " ('Kalile', 1),\n",
       " ('Kamiel', 1),\n",
       " ('Karan', 1),\n",
       " ('Karen', 7),\n",
       " ('Karianne', 2),\n",
       " ('Karijn', 1),\n",
       " ('Karim', 1),\n",
       " ('Karin', 8),\n",
       " ('Karina', 3),\n",
       " ('Karl', 1),\n",
       " ('Karlijn', 3),\n",
       " ('Kasper', 2),\n",
       " ('Katarina', 2),\n",
       " ('Kate', 2),\n",
       " ('Kathelijn', 1),\n",
       " ('Kathrin', 1),\n",
       " ('Kathuh', 1),\n",
       " ('Katie', 1),\n",
       " ('Katinka', 1),\n",
       " ('Katja', 4),\n",
       " ('Katrina', 1),\n",
       " ('Katy', 2),\n",
       " ('Kay', 1),\n",
       " ('Kayleigh', 1),\n",
       " ('Kaz & Karin', 1),\n",
       " ('Kees', 2),\n",
       " ('Kees Vd Vooren', 1),\n",
       " ('Keith', 1),\n",
       " ('Kenny', 1),\n",
       " ('Kenzo', 1),\n",
       " ('Kerem', 1),\n",
       " ('Kerstin', 1),\n",
       " ('Kevin', 3),\n",
       " ('Kiek', 1),\n",
       " ('Kim', 3),\n",
       " ('Kim & Rob', 1),\n",
       " ('Kirsten', 2),\n",
       " ('Kith & Kin', 1),\n",
       " ('Klaas', 1),\n",
       " ('Koen', 5),\n",
       " ('Kora', 1),\n",
       " ('Kostya', 1),\n",
       " ('Kris', 1),\n",
       " ('Kristan', 1),\n",
       " ('Kristel', 1),\n",
       " ('Kristina', 1),\n",
       " ('Kristinn', 1),\n",
       " ('Kristy', 1),\n",
       " ('Kurtly', 1),\n",
       " ('Kylie', 1),\n",
       " ('Kyra', 1),\n",
       " ('Laetitia', 1),\n",
       " ('Laila', 1),\n",
       " ('Lance & Tom', 1),\n",
       " ('Langestraat', 1),\n",
       " ('Lara', 2),\n",
       " ('Larissa', 2),\n",
       " ('Lars', 3),\n",
       " ('Laura', 6),\n",
       " ('Laura & Christian', 1),\n",
       " ('Laura B', 1),\n",
       " ('Laurence', 4),\n",
       " ('Laurens', 4),\n",
       " ('Laurent', 1),\n",
       " ('Laurinda & Henk', 1),\n",
       " ('Le', 1),\n",
       " ('Lea', 2),\n",
       " ('Leentje', 1),\n",
       " ('Lemke', 1),\n",
       " ('Lena', 3),\n",
       " ('Lennaert&Andrea', 1),\n",
       " ('Lennart', 1),\n",
       " ('Lennart & Frederike', 1),\n",
       " ('Lenneke', 1),\n",
       " ('Lennert', 1),\n",
       " ('Lenny Liza', 1),\n",
       " ('Leo', 1),\n",
       " ('Leon', 2),\n",
       " ('Leonardo', 1),\n",
       " ('Leonie', 6),\n",
       " ('Leonoor', 1),\n",
       " ('Leonora', 1),\n",
       " ('Lesley', 2),\n",
       " ('Levi', 2),\n",
       " ('Lex', 2),\n",
       " ('Lia & Reinier', 1),\n",
       " ('Lian', 1),\n",
       " ('Lianne', 5),\n",
       " ('Lidewij', 1),\n",
       " ('Lidra', 1),\n",
       " ('Lieke', 4),\n",
       " ('Liesanne', 1),\n",
       " ('Liesbeth', 2),\n",
       " ('Liesbeth & Peter', 1),\n",
       " ('Lili', 1),\n",
       " ('Lilian', 1),\n",
       " ('Liline', 1),\n",
       " ('Linda', 9),\n",
       " ('Lindsay', 1),\n",
       " ('Lindsey', 1),\n",
       " ('Lionel', 1),\n",
       " ('Lior', 1),\n",
       " ('Lisa', 5),\n",
       " ('Lise', 1),\n",
       " ('Liselotte', 2),\n",
       " ('Liselotte & Luca', 1),\n",
       " ('Liset', 1),\n",
       " ('Lisette', 3),\n",
       " ('Lithal', 1),\n",
       " ('Liv', 1),\n",
       " ('Live Life', 1),\n",
       " ('Liza', 1),\n",
       " ('Lizet', 1),\n",
       " ('Lizzy', 1),\n",
       " ('Lj', 1),\n",
       " ('Lloyd', 1),\n",
       " ('Lobke', 1),\n",
       " ('Lodewijk', 2),\n",
       " ('Loes', 6),\n",
       " ('Loic', 1),\n",
       " ('Lois', 1),\n",
       " ('Lora', 1),\n",
       " ('Loran', 1),\n",
       " ('Loredana', 1),\n",
       " ('Lorenzo', 1),\n",
       " ('Lorraine', 1),\n",
       " ('Lotje', 1),\n",
       " ('Lotta', 1),\n",
       " ('Lotte', 6),\n",
       " ('Lotte & Sjoerd', 1),\n",
       " ('Loucky', 1),\n",
       " ('Louis Nicola', 1),\n",
       " ('Louise', 3),\n",
       " ('Luba', 1),\n",
       " ('Luc', 1),\n",
       " ('Luca And Aldo', 1),\n",
       " ('Lucas', 5),\n",
       " ('Lucia', 1),\n",
       " ('Lucile', 1),\n",
       " ('Lucy', 3),\n",
       " ('Luis', 1),\n",
       " ('Luisa', 1),\n",
       " ('Luisella', 1),\n",
       " ('Luky', 1),\n",
       " ('Luna', 1),\n",
       " ('Luuk', 1),\n",
       " ('Luz', 2),\n",
       " ('Lydia', 3),\n",
       " ...]"
      ]
     },
     "execution_count": 73,
     "metadata": {},
     "output_type": "execute_result"
    }
   ],
   "source": [
    "q = session.query(Host.host_name, func.count(Host.host_name)).group_by(Host.host_name)\n",
    "q.all()"
   ]
  },
  {
   "cell_type": "code",
   "execution_count": null,
   "metadata": {},
   "outputs": [],
   "source": []
  }
 ],
 "metadata": {
  "kernelspec": {
   "display_name": "Python 3",
   "language": "python",
   "name": "python3"
  },
  "language_info": {
   "codemirror_mode": {
    "name": "ipython",
    "version": 3
   },
   "file_extension": ".py",
   "mimetype": "text/x-python",
   "name": "python",
   "nbconvert_exporter": "python",
   "pygments_lexer": "ipython3",
   "version": "3.9.4"
  }
 },
 "nbformat": 4,
 "nbformat_minor": 4
}

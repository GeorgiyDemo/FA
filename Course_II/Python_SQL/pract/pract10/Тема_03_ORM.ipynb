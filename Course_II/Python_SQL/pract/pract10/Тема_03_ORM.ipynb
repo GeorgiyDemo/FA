{
 "cells": [
  {
   "cell_type": "markdown",
   "metadata": {},
   "source": [
    "<img src=\"./Img/banner-fa-49.png\">"
   ]
  },
  {
   "cell_type": "markdown",
   "metadata": {},
   "source": [
    "Учебные материалы дисциплины \"Программирование на языках Python и SQL\" предназначены для семинарских занятий со студентами II курса Финансового университа при Правительстве Российской Федерации.\n",
    "\n",
    "Автор: Смирнов Михаил Викторович, доцент Департамента анализа данных и машинного обучения Финансового университета при Правительстве Российской Федерации. mvsmirnov@fa.ru\n",
    "\n",
    "Москва - 2021\n",
    "\n",
    "При подготовке материалов учебных занятий использовались источники\n",
    "- Essential SQLAlchemy: Mapping Python to Databases 2nd Edition. Jason Myers, Rick Copeland. O'Reilly Media, Inc. 2015.\n",
    "- Астахова И.Ф., Мельников В.М., Толстобров А.П., Фертиков В.В. СУБД: язык SQL в примерах и задачах.—М.:ФИЗМАТЛИТ, 2009. — 168 с. — ISBN 978-5-9221-0816-4.\n",
    "\n",
    "В ряде учебных примеров использованы данные <a href=\"http://insideairbnb.com/get-the-data.html\">Inside Airbnb</a>"
   ]
  },
  {
   "cell_type": "markdown",
   "metadata": {},
   "source": [
    "<a id=T_3></a>\n",
    "# Тема 3. SQLAlchemy ORM\n",
    "\n",
    "<a id=Ref></a>\n",
    "# Оглавление\n",
    "\n",
    "[Введение](#Intro)<br>\n",
    "[3.1. Определение таблиц через классы ORM](#T_1_1)<br>\n",
    "[3.2. Работа с данными](#T_3_2)<br>\n",
    "[3.3. Запросы к данным](#T_3_3)<br>\n",
    "[3.4. Исключения и транзакции](#T_3_4)<br>\n",
    "[3.5. Отображение](#T_3_5)<br>"
   ]
  },
  {
   "cell_type": "markdown",
   "metadata": {},
   "source": [
    "<img src=\"./Img/Label_02.png\">"
   ]
  },
  {
   "cell_type": "markdown",
   "metadata": {},
   "source": [
    "Семинар № 9\n",
    "\n",
    "16 апреля 2021 года <br>\n",
    "ПИ19-3, ПИ19-4 - 3 подгруппа<br>\n",
    "\n",
    "17 апреля 2021 года <br>\n",
    "ПИ19-2, ПИ19-3, ПИ19-4 - 2 подгруппа\n",
    "\n",
    "23 апреля 2021 года <br>\n",
    "ПИ19-4, ПИ19-5 - 4 подгруппа"
   ]
  },
  {
   "cell_type": "markdown",
   "metadata": {},
   "source": [
    "<a id=Intro></a>\n",
    "# Введение\n",
    "[<= ](#Ref)||[ К оглавлению ](#Ref)||[ =>](#T_3_1)\n",
    "\n",
    "ORM - Object-relational mapping - Объектно-реляционное отображение\n",
    "\n",
    "SQLAlchemy ORM обеспечивает эффективный способ привязки схемы и операций базы данных к объектам данных.\n",
    "\n",
    "В SQLAlchemy Core мы создавали контейнер метаданных, а затем объявляли объект Table, связанный с этими метаданными. В SQLAlchemy ORM мы будем определять класс, который наследуется от специального базового класса *declarative_base*. Этот базовый класс объединяет контейнер метаданных и средство сопоставления, которое сопоставляет наш класс с таблицей базы данных. Он также сопоставляет экземпляры класса с записями в этой таблице."
   ]
  },
  {
   "cell_type": "markdown",
   "metadata": {},
   "source": [
    "<a id=T_3_1></a>\n",
    "[<= ](#Intro)||[ К оглавлению ](#Ref)||[ =>](#T_3_2)\n",
    "\n",
    "# 3.1. Определение таблиц через классы ORM\n",
    "\n",
    "При использоварнии ORM классы должны:\n",
    "- Наследовать от объекта *declarative_base*.\n",
    "- Содержать `__tablename__`, которое является именем таблицы базы данных.\n",
    "- Содержать один или несколько атрибутов, которые являются объектами *Column*.\n",
    "- Содержать атрибуты, составляющие первичный ключ.\n",
    "\n",
    "Изучим требование, связанное с атрибутами. Определение столбцов в классе ORM похоже на определение столбцов в объекте *Table*, которое мы изучили в теме SQLAlchemy Core. Однако есть важное отличие. При определении столбцов в классе ORM в качестве имени столбца будет установлено имя атрибута класса, которому он назначен. Все остальное, что связано с типами данных и столбцами, применимо и здесь.\n",
    "\n",
    "<img src=\"./Img/Listings_ORM_Schema.png\">\n",
    "\n",
    "<br><br>\n",
    "Определим таблицу *listings* как класс ORM"
   ]
  },
  {
   "cell_type": "code",
   "execution_count": 1,
   "metadata": {},
   "outputs": [],
   "source": [
    "from sqlalchemy.ext.declarative import declarative_base\n",
    "from sqlalchemy import (Table, Column, \n",
    "                        Integer, Numeric, String, Boolean,\n",
    "                        ForeignKey, ForeignKeyConstraint, CheckConstraint)\n",
    "\n",
    "from datetime import datetime\n",
    "from sqlalchemy import DateTime\n",
    "\n",
    "Base = declarative_base()"
   ]
  },
  {
   "cell_type": "code",
   "execution_count": 2,
   "metadata": {},
   "outputs": [],
   "source": [
    "class Listings(Base):\n",
    "    __tablename__ = 'listings'\n",
    "\n",
    "    listing_id = Column(Integer(), primary_key = True)\n",
    "    listing_name = Column(String(50), index = True, nullable = False)\n",
    "    listing_url = Column(String(50))\n",
    "    host_id = Column(Integer())\n",
    "    neighbourhood_id = Column(Integer())\n",
    "    amenities = Column(String(250))\n",
    "    property_type_id = Column(Integer())\n",
    "    room_type_id = Column(Integer())\n",
    "    bedrooms = Column(Integer())\n",
    "    beds = Column(Integer())\n",
    "    price = Column('price',Numeric(7,2))\n",
    "    \n",
    "    __table_args__ = (\n",
    "        ForeignKeyConstraint(['neighbourhood_id'],['neighbourhoods.neigh_id']),\n",
    "        ForeignKeyConstraint(['property_type_id'], ['property_types.property_type_id']),\n",
    "        ForeignKeyConstraint(['room_type_id'], ['room_types.room_type_id']),\n",
    "        CheckConstraint('price >= 0.00', name='listing_price_positive')\n",
    "    )\n",
    "    "
   ]
  },
  {
   "cell_type": "markdown",
   "metadata": {},
   "source": [
    "В этом примере *Base* - экземпляр класса *declarative_base()*. Затем создается дочерний класс *Listings*. Определяется имя таблицы. Определяются атрибуты, устанавливается первичный ключ. Обратимся к свойству `__table__` класса."
   ]
  },
  {
   "cell_type": "code",
   "execution_count": 3,
   "metadata": {},
   "outputs": [
    {
     "data": {
      "text/plain": [
       "Table('listings', MetaData(), Column('listing_id', Integer(), table=<listings>, primary_key=True, nullable=False), Column('listing_name', String(length=50), table=<listings>, nullable=False), Column('listing_url', String(length=50), table=<listings>), Column('host_id', Integer(), table=<listings>), Column('neighbourhood_id', Integer(), ForeignKey('neighbourhoods.neigh_id'), table=<listings>), Column('amenities', String(length=250), table=<listings>), Column('property_type_id', Integer(), ForeignKey('property_types.property_type_id'), table=<listings>), Column('room_type_id', Integer(), ForeignKey('room_types.room_type_id'), table=<listings>), Column('bedrooms', Integer(), table=<listings>), Column('beds', Integer(), table=<listings>), Column('price', Numeric(precision=7, scale=2), table=<listings>), schema=None)"
      ]
     },
     "execution_count": 3,
     "metadata": {},
     "output_type": "execute_result"
    }
   ],
   "source": [
    "Listings.__table__"
   ]
  },
  {
   "cell_type": "markdown",
   "metadata": {},
   "source": [
    "Создадим таблицу клиентов *users*"
   ]
  },
  {
   "cell_type": "code",
   "execution_count": 4,
   "metadata": {},
   "outputs": [],
   "source": [
    "from datetime import datetime\n",
    "from sqlalchemy import DateTime\n",
    "\n",
    "class Users(Base):\n",
    "    __tablename__ = 'users'\n",
    "    \n",
    "    user_id = Column(Integer(), primary_key = True)\n",
    "    username = Column(String(15), nullable = False, unique = True)\n",
    "    email_address = Column(String(255), nullable = False)\n",
    "    phone = Column(String(20), nullable = False)\n",
    "    password = Column(String(25), nullable = False)\n",
    "    created_on = Column(DateTime(), default = datetime.now)\n",
    "    updated_on = Column(DateTime(), default = datetime.now, onupdate=datetime.now)"
   ]
  },
  {
   "cell_type": "markdown",
   "metadata": {},
   "source": [
    "Здесь мы определили несколько атрибутов, которые не могут оставаться пустыми. Требуется уникальное значение *username*. Для атрибута *updated_on* мы установили текущее время по умолчанию, если время не указано. Использование *onupdate* приведет к установке текущего времени при обновлении любого атрибута записи."
   ]
  },
  {
   "cell_type": "markdown",
   "metadata": {},
   "source": [
    "## 3.1.1. Ключи, ограничения, индексы\n",
    "\n",
    "Ранее, в разделе *Core*, мы изучили, что ключи и ограничения могут задаваться как в составе элемента *Column()* конструктора *Table*, так и в явном виде. Например, в *line_item* атрибут *order_id* является внешним ключом, тода\n",
    "\n",
    "`ForeignKeyConstraint(['order_id'], ['order.order_id'])`. \n",
    "\n",
    "В ORM также существует для этого два способа, но так как конструктор *Table* здесь не используется, то применяются свойства класса. \n",
    "\n",
    "```\n",
    "user_id = Column(Integer(), ForeignKey('users.user_id'))\n",
    "```\n",
    "\n",
    "Для задания ограничения в явном виде в классе используется `__table_args__`\n",
    "\n",
    "```\n",
    "class SomeDataClass(Base):\n",
    "    __tablename__ = 'somedatatable'\n",
    "    __table_args__ = (ForeignKeyConstraint(['id'], ['other_table.id']),\n",
    "                      CheckConstraint(price >= 0.00', name='unit_cost_positive'))\n",
    "```\n",
    "В данном примере значением `__table_args__` является кортеж.\n",
    "\n",
    "### Задание 3.1.1.1.\n",
    "Создать классы *Orders, Line_items, Hosts, Neighbourhoods, Room_types, Property_types*. Создать базу данных *Listings.db*"
   ]
  },
  {
   "cell_type": "code",
   "execution_count": 5,
   "metadata": {},
   "outputs": [],
   "source": [
    "# Ваш код здесь\n",
    "# coding: utf-8\n",
    "from sqlalchemy import Boolean, CheckConstraint, Column, DateTime, ForeignKey, Index, Integer, Numeric, String\n",
    "from sqlalchemy.orm import relationship\n",
    "from sqlalchemy.ext.declarative import declarative_base\n",
    "\n",
    "Base = declarative_base()\n",
    "metadata = Base.metadata\n",
    "\n",
    "\n",
    "class Hosts(Base):\n",
    "    __tablename__ = 'host'\n",
    "    host_id = Column(Integer, primary_key=True)\n",
    "    host_name = Column(String(30))\n",
    "\n",
    "\n",
    "class ListingLyon(Base):\n",
    "    __tablename__ = 'listing_lyon'\n",
    "    __table_args__ = (\n",
    "        CheckConstraint('price >= 0.00'),\n",
    "    )\n",
    "\n",
    "    listing_id = Column(Integer, primary_key=True)\n",
    "    listing_name = Column(String(50), index=True)\n",
    "    listing_url = Column(String(255))\n",
    "    host_id = Column(Integer)\n",
    "    neighbourhood_id = Column(Integer)\n",
    "    amenities = Column(String(300))\n",
    "    property_type_id = Column(Integer)\n",
    "    room_type_id = Column(Integer)\n",
    "    bedrooms = Column(Integer)\n",
    "    beds = Column(Integer)\n",
    "    price = Column(Numeric(7, 2))\n",
    "\n",
    "\n",
    "class Neighbourhoods(Base):\n",
    "    __tablename__ = 'neighbourhood'\n",
    "\n",
    "    neighbourhood_id = Column(Integer, primary_key=True)\n",
    "    neighbourhood_name = Column(String(30))\n",
    "\n",
    "\n",
    "class Property_types(Base):\n",
    "    __tablename__ = 'property_type'\n",
    "\n",
    "    property_type_id = Column(Integer, primary_key=True)\n",
    "    property_type_name = Column(String(30))\n",
    "\n",
    "\n",
    "class Room_types(Base):\n",
    "    __tablename__ = 'room_type'\n",
    "\n",
    "    room_type_id = Column(Integer, primary_key=True)\n",
    "    room_type_name = Column(String(30))\n",
    "\n",
    "\n",
    "class User(Base):\n",
    "    __tablename__ = 'user'\n",
    "    user_id = Column(Integer, primary_key=True)\n",
    "    user_name = Column(String(15), nullable=False, unique=True)\n",
    "    email_address = Column(String(255), nullable=False)\n",
    "    phone = Column(String(20), nullable=False)\n",
    "    password = Column(String(25), nullable=False)\n",
    "    created_on = Column(DateTime)\n",
    "    updated_on = Column(DateTime)\n",
    "\n",
    "\n",
    "class Listing(Base):\n",
    "    __tablename__ = 'listing'\n",
    "    __table_args__ = (\n",
    "        CheckConstraint('price >= 0.00'),\n",
    "        Index('ix_am_price', 'amenities', 'price')\n",
    "    )\n",
    "    listing_id = Column(Integer, primary_key=True)\n",
    "    listing_name = Column(String(50), index=True)\n",
    "    listing_url = Column(String(255))\n",
    "    host_id = Column(ForeignKey('host.host_id'))\n",
    "    neighbourhood_id = Column(ForeignKey('neighbourhood.neighbourhood_id'))\n",
    "    amenities = Column(String(300))\n",
    "    property_type_id = Column(ForeignKey('property_type.property_type_id'))\n",
    "    room_type_id = Column(ForeignKey('room_type.room_type_id'))\n",
    "    bedrooms = Column(Integer)\n",
    "    beds = Column(Integer)\n",
    "    price = Column(Numeric(7, 2))\n",
    "    host = relationship('Hosts')\n",
    "    neighbourhood = relationship('Neighbourhood')\n",
    "    property_type = relationship('PropertyType')\n",
    "    room_type = relationship('RoomType')\n",
    "\n",
    "\n",
    "class Orders(Base):\n",
    "    __tablename__ = 'order'\n",
    "\n",
    "    order_id = Column(Integer, primary_key=True)\n",
    "    user_id = Column(ForeignKey('user.user_id'))\n",
    "    confirmed = Column(Boolean)\n",
    "    order_price = Column(Integer)\n",
    "    user = relationship('User')\n",
    "\n",
    "\n",
    "class Line_items(Base):\n",
    "    __tablename__ = 'line_item'\n",
    "\n",
    "    line_item_id = Column(Integer, primary_key=True)\n",
    "    order_id = Column(ForeignKey('order.order_id'))\n",
    "    listing_id = Column(ForeignKey('listing.listing_id'))\n",
    "    item_start_date = Column(DateTime)\n",
    "    item_end_date = Column(DateTime)\n",
    "    item_price = Column(Integer)\n",
    "\n",
    "    listing = relationship('Listing')\n",
    "    order = relationship('Order')"
   ]
  },
  {
   "cell_type": "markdown",
   "metadata": {},
   "source": [
    "## 3.1.2. Сохранение схемы"
   ]
  },
  {
   "cell_type": "code",
   "execution_count": 6,
   "metadata": {},
   "outputs": [],
   "source": [
    "from sqlalchemy import create_engine\n",
    "engine = create_engine('sqlite:///3_1.db')\n",
    "\n",
    "Base.metadata.create_all(engine)"
   ]
  },
  {
   "cell_type": "markdown",
   "metadata": {},
   "source": [
    "## 3.1.3. Связи\n",
    "В *ORM* имеются некоторые различия при связывании таблиц по сравнению с *Core*. *ORM* также использует *ForeignKey* для ограничения и связывания объектов. Однако *ORM* также использует директиву *relationship*, чтобы предоставить свойство, которое можно использовать для доступа к связанному объекту. Это добавляет некоторые накладные расходы при использовании ORM; однако плюсы этой возможности намного перевешивают недостатки. В примере показано, как определить связи с помощью методов *relationship* и *backref*.\n",
    "```\n",
    "from sqlalchemy.orm import relationship, backref\n",
    "\n",
    "class Orders(Base):\n",
    "    __tablename__='orders'\n",
    "    order_id=Column(Integer(), primary_key=True)\n",
    "    user_id=Column(Integer(), ForeignKey('users.user_id'))\n",
    "\n",
    "    user=relationship('Users', backref=backref('orders', order_by=order_id))\n",
    "```\n",
    "Таким образом, в классе *Orders*, устанавливается отношение «один ко многим» с классом *User*. Мы можем связать пользователя с его заказом, обратившись к свойству *user*. Это отношение также устанавливает свойство *orders* в классе *Users* через аргумент ключевого слова *backref*, которое упорядочивается по *order_id*. Директиве *relationship* требуется целевой класс для отношения, и она может дополнительно включать обратное отношение для целевого класса. *SQLAlchemy* знает, как сопоставить заданный нами *ForeignKey* с классом, который мы определили в отношении. В этом примере команда `ForeignKey(users.user_id)` сопоставляется с классом *User* через атрибут `__tablename__` пользователей и формирует связь. В строке \n",
    "```\n",
    "user=relationship('Users', backref=backref('orders', order_by=order_id))\n",
    "```\n",
    "устанавливается связь *один ко многим*.\n",
    "\n",
    "Также возможно установить взаимно-однозначное отношение *один к одному*. В следующем примере класс *Line_items* имеет взаимно-однозначное отношение с классом *Listings*. Аргумент ключевого слова `uselist = False` определяет его как взаимно однозначное отношение. Здесь используется более простая обратная ссылка, поскольку нам не нужно контролировать порядок.\n",
    "```\n",
    "class Line_items(Base):\n",
    "    \n",
    "    __tablename__='line_items'\n",
    "    item_id=Column(Integer(), primary_key=True)\n",
    "    order_id=Column(Integer(), ForeignKey('orders.order_id'))\n",
    "    listing_id=Column(Integer(), ForeignKey('listings.listing_id'))\n",
    "    item_start_date=Column(DateTime(), nullable=False, default=datetime.now)\n",
    "    item_end_date=Column('item_end_date', DateTime(), nullable=False)\n",
    "    \n",
    "    rel_order=relationship(\"Orders\", backref=backref('line_items', order_by=line_item_id))\n",
    "    rel_listing=relationship(\"Listings\", uselist=False))\n",
    "```"
   ]
  },
  {
   "cell_type": "markdown",
   "metadata": {},
   "source": [
    "<a id=T_3_2></a>\n",
    "[<= ](#T_3_1)||[ К оглавлению ](#Ref)||[ =>](#T_3_3)\n",
    "# 3.2. Работа с данными\n",
    "\n",
    "\n",
    "## 3.2.1. Сеанс\n",
    "\n",
    "Сеанс - это способ взаимодействия ORM SQLAlchemy с базой данных. Она обертывает соединение с базой данных через механизм и предоставляет карту идентификации для объектов, которые вы загружаете через сеанс или связываете с сеансом. Карта идентичности - это структура данных, подобная кешу, которая содержит уникальный список объектов, определяемый таблицей объекта и первичным ключом. Сеанс также обертывает транзакцию, и эта транзакция будет открыта до тех пор, пока сеанс не будет зафиксирован или откат, что очень похоже на процесс, описанный в теме *Core*.\n",
    "\n",
    "Для нового сеанса SQLAlchemy предоставляет класс *sessionmaker*, чтобы гарантировать, что сеансы могут быть созданы с одинаковыми параметрами во всем приложении. Он делает это путем создания класса сеанса, который настроен в соответствии с аргументами, переданными в класс *sessionmaker*, который следует использовать только один раз в глобальной области действия вашего приложения и рассматривать как параметр конфигурации. Создадим новый сеанс, связанный с базой данных SQLite в памяти:"
   ]
  },
  {
   "cell_type": "code",
   "execution_count": 7,
   "metadata": {},
   "outputs": [],
   "source": [
    "from sqlalchemy import create_engine\n",
    "from sqlalchemy.orm import sessionmaker # 1 \n",
    "\n",
    "engine = create_engine('sqlite:///3_2.db')\n",
    "\n",
    "Session = sessionmaker(bind=engine) # 2 \n",
    "\n",
    "session = Session() # 3"
   ]
  },
  {
   "cell_type": "markdown",
   "metadata": {},
   "source": [
    "1. Импорт модуля создания сеанса *sessionmaker*\n",
    "2. Определение класса сеанса с привязкой к механизму.\n",
    "3. Создание сеанса.\n",
    "\n",
    "Теперь у нас есть сеанс, который мы можем использовать для взаимодействия с базой данных. Хотя у сеанса есть все необходимое для подключения к базе данных, он не подключится, пока мы не дадим ему некоторые инструкции, которые этого требуют.\n",
    "\n",
    "Дополнительно добавим несколько методов `__repr__`, чтобы упростить просмотр и воссоздание экземпляров объектов."
   ]
  },
  {
   "cell_type": "code",
   "execution_count": 8,
   "metadata": {},
   "outputs": [],
   "source": [
    "from datetime import datetime\n",
    "\n",
    "from sqlalchemy import (Table, Column, \n",
    "                        Integer, Numeric, String, Boolean, DateTime,\n",
    "                        ForeignKey, ForeignKeyConstraint, CheckConstraint, Index)\n",
    "\n",
    "from sqlalchemy.ext.declarative import declarative_base\n",
    "from sqlalchemy.orm import relationship, backref\n",
    "\n",
    "Base = declarative_base()\n",
    "\n",
    "\n",
    "class Users(Base):\n",
    "    __tablename__ = 'users'\n",
    "    \n",
    "    user_id = Column(Integer(), primary_key = True)\n",
    "    username = Column(String(15), nullable = False, unique = True)\n",
    "    email_address = Column(String(255), nullable = False)\n",
    "    phone = Column(String(20), nullable = False)\n",
    "    password = Column(String(25), nullable = False)\n",
    "    created_on = Column(DateTime(), default = datetime.now)\n",
    "    updated_on = Column(DateTime(), default = datetime.now, onupdate=datetime.now)\n",
    "\n",
    "    def __repr__(self):\n",
    "        return \"Users(username='{self.username}', \" \\\n",
    "                     \"email_address='{self.email_address}', \" \\\n",
    "                     \"phone='{self.phone}', \" \\\n",
    "                     \"password='{self.password}')\".format(self=self)\n",
    "\n",
    "    \n",
    "class Orders(Base):\n",
    "\n",
    "    __tablename__ = 'orders'\n",
    "    order_id = Column(Integer(), primary_key = True)\n",
    "    user_id = Column(Integer())\n",
    "    \n",
    "    __table_args__ = (ForeignKeyConstraint(['user_id'], ['users.user_id']),)\n",
    "    \n",
    "    rel_user=relationship(\"Users\", backref=backref('orders', order_by=order_id))\n",
    "    \n",
    "    def __repr__(self):\n",
    "        return \"Orders(user_id='{self.user_id}')\".format(self=self)\n",
    "    \n",
    "\n",
    "class Line_items(Base):\n",
    "    \n",
    "    __tablename__ = 'line_items'\n",
    "    item_id = Column(Integer(), primary_key = True)\n",
    "    order_id = Column(Integer(), ForeignKey('orders.order_id'))\n",
    "    listing_id = Column(Integer(), ForeignKey('listings.listing_id'))\n",
    "    item_start_date = Column(DateTime(), nullable = False, default = datetime.now)\n",
    "    item_end_date = Column('item_end_date', DateTime(), nullable = False)\n",
    "    \n",
    "    rel_order=relationship(\"Orders\", backref=backref('line_items', order_by=item_id))\n",
    "    rel_listing=relationship(\"Listings\", uselist=False)\n",
    "    \n",
    "    def __repr__(self):\n",
    "        return \"Line_items(order_id='{self.order_id}', \" \\\n",
    "                        \"listing_id='{self.listing_id}', \" \\\n",
    "                        \"item_start_date='{self.item_start_date}', \" \\\n",
    "                        \"item_end_date='{self.item_end_date}')\".format(self=self)\n",
    "\n",
    "\n",
    "class Hosts(Base):\n",
    "    \n",
    "    __tablename__ = 'hosts'\n",
    "    host_id = Column(Integer(), primary_key = True)\n",
    "    host_name = Column(String(50), nullable = False)\n",
    "    def __repr_(self):\n",
    "        return \"Hosts(host_id='{self.host_name}')\".format(self=self)\n",
    "    \n",
    "    \n",
    "class Neighbourhoods(Base):\n",
    "    \n",
    "    __tablename__ = 'neighbourhoods'\n",
    "    neigh_id = Column(Integer(), primary_key = True)\n",
    "    neigh_name = Column(String(50), nullable = False, unique = True)\n",
    "    def __repr_(self):\n",
    "        return \"Neighbourhoods(neigh_name='{self.neigh_name}')\".format(self=self)\n",
    "    \n",
    "    \n",
    "class Room_types(Base):\n",
    "    \n",
    "    __tablename__ = 'room_types'\n",
    "    room_type_id = Column(Integer(), primary_key = True)\n",
    "    room_type_name = Column(String(50), nullable = False)\n",
    "    def __repr_(self):\n",
    "        return \"Room_types(room_type_name='{self.room_type_name}')\".format(self=self)\n",
    "    \n",
    "\n",
    "class Property_types(Base):\n",
    "    \n",
    "    __tablename__ = 'property_types'\n",
    "    property_type_id = Column(Integer(), primary_key = True)\n",
    "    property_type_name = Column(String(50), nullable = False)\n",
    "    def __repr_(self):\n",
    "        return \"Property_types(property_type_name='{self.property_type_name}')\".format(self=self)\n"
   ]
  },
  {
   "cell_type": "markdown",
   "metadata": {},
   "source": [
    "### Задание 3.2.1.1.\n",
    "Создайте класс *Listings* с отношениями к классам *Hosts, Neighbourhoods, Room_types, Property_types* и методами `__repr__`"
   ]
  },
  {
   "cell_type": "code",
   "execution_count": 9,
   "metadata": {},
   "outputs": [],
   "source": [
    "\n",
    "class Listings(Base):\n",
    "    __tablename__ = 'listings'\n",
    "    __table_args__ = (\n",
    "        CheckConstraint('price >= 0.00'),\n",
    "        Index('ix_am_price', 'amenities', 'price')\n",
    "    )\n",
    "    listing_id = Column(Integer, primary_key=True)\n",
    "    listing_name = Column(String(50), index=True)\n",
    "    listing_url = Column(String(255))\n",
    "    host_id = Column(ForeignKey('hosts.host_id'))\n",
    "    neighbourhood_id = Column(ForeignKey('neighbourhoods.neigh_id'))\n",
    "    amenities = Column(String(300))\n",
    "    property_type_id = Column(ForeignKey('property_types.property_type_id'))\n",
    "    room_type_id = Column(ForeignKey('room_types.room_type_id'))\n",
    "    bedrooms = Column(Integer)\n",
    "    beds = Column(Integer)\n",
    "    price = Column(Numeric(7, 2))\n",
    "    host = relationship('Hosts')\n",
    "    neighbourhood = relationship('Neighbourhoods')\n",
    "    property_type = relationship('Property_types')\n",
    "    room_type = relationship('Room_types')\n",
    "\n",
    "    def __repr__(self):\n",
    "        return \"Listings(listing_id='{self.listing_id}', \" \\\n",
    "                     \"listing_name='{self.listing_name}', \" \\\n",
    "                     \"listing_url='{self.listing_url}', \" \\\n",
    "                     \"host_id='{self.host_id}', \" \\\n",
    "                     \"neighbourhood_id='{self.neighbourhood_id}', \" \\\n",
    "                     \"amenities='{self.amenities}', \" \\\n",
    "                     \"property_type_id='{self.property_type_id}', \" \\\n",
    "                     \"room_type_id='{self.room_type_id}', \" \\\n",
    "                     \"bedrooms='{self.bedrooms}', \" \\\n",
    "                     \"beds='{self.beds}', \" \\\n",
    "                     \"price='{self.price}', \" \\\n",
    "                     \"host='{self.host}', \" \\\n",
    "                     \"neighbourhood='{self.neighbourhood}', \" \\\n",
    "                     \"property_type='{self.property_type}', \" \\\n",
    "                     \"room_type='{self.room_type}')\".format(self=self)\n",
    "\n",
    "Base.metadata.create_all(engine)"
   ]
  },
  {
   "cell_type": "markdown",
   "metadata": {},
   "source": [
    "## 3.2.2. Вставка данных"
   ]
  },
  {
   "cell_type": "code",
   "execution_count": 10,
   "metadata": {},
   "outputs": [],
   "source": [
    "import pandas as pd"
   ]
  },
  {
   "cell_type": "code",
   "execution_count": 11,
   "metadata": {},
   "outputs": [
    {
     "data": {
      "text/html": [
       "<div>\n",
       "<style scoped>\n",
       "    .dataframe tbody tr th:only-of-type {\n",
       "        vertical-align: middle;\n",
       "    }\n",
       "\n",
       "    .dataframe tbody tr th {\n",
       "        vertical-align: top;\n",
       "    }\n",
       "\n",
       "    .dataframe thead th {\n",
       "        text-align: right;\n",
       "    }\n",
       "</style>\n",
       "<table border=\"1\" class=\"dataframe\">\n",
       "  <thead>\n",
       "    <tr style=\"text-align: right;\">\n",
       "      <th></th>\n",
       "      <th>id</th>\n",
       "      <th>listing_url</th>\n",
       "      <th>name</th>\n",
       "      <th>host_id</th>\n",
       "      <th>host_name</th>\n",
       "      <th>host_is_superhost</th>\n",
       "      <th>neighbourhood_cleansed</th>\n",
       "      <th>property_type</th>\n",
       "      <th>room_type</th>\n",
       "      <th>bathrooms_text</th>\n",
       "      <th>...</th>\n",
       "      <th>last_review</th>\n",
       "      <th>review_scores_rating</th>\n",
       "      <th>review_scores_accuracy</th>\n",
       "      <th>review_scores_cleanliness</th>\n",
       "      <th>review_scores_checkin</th>\n",
       "      <th>review_scores_communication</th>\n",
       "      <th>review_scores_location</th>\n",
       "      <th>review_scores_value</th>\n",
       "      <th>reviews_per_month</th>\n",
       "      <th>Random</th>\n",
       "    </tr>\n",
       "  </thead>\n",
       "  <tbody>\n",
       "    <tr>\n",
       "      <th>0</th>\n",
       "      <td>20168</td>\n",
       "      <td>https://www.airbnb.com/rooms/20168</td>\n",
       "      <td>Studio with private bathroom in the centre 1</td>\n",
       "      <td>59484</td>\n",
       "      <td>Alexander</td>\n",
       "      <td>f</td>\n",
       "      <td>Centrum-Oost</td>\n",
       "      <td>Private room in townhouse</td>\n",
       "      <td>Private room</td>\n",
       "      <td>1 private bath</td>\n",
       "      <td>...</td>\n",
       "      <td>2020-04-09</td>\n",
       "      <td>89</td>\n",
       "      <td>10.0</td>\n",
       "      <td>10.0</td>\n",
       "      <td>10.0</td>\n",
       "      <td>10.0</td>\n",
       "      <td>10.0</td>\n",
       "      <td>9.0</td>\n",
       "      <td>2.58</td>\n",
       "      <td>0</td>\n",
       "    </tr>\n",
       "  </tbody>\n",
       "</table>\n",
       "<p>1 rows × 26 columns</p>\n",
       "</div>"
      ],
      "text/plain": [
       "      id                         listing_url  \\\n",
       "0  20168  https://www.airbnb.com/rooms/20168   \n",
       "\n",
       "                                           name  host_id  host_name  \\\n",
       "0  Studio with private bathroom in the centre 1    59484  Alexander   \n",
       "\n",
       "  host_is_superhost neighbourhood_cleansed              property_type  \\\n",
       "0                 f           Centrum-Oost  Private room in townhouse   \n",
       "\n",
       "      room_type  bathrooms_text  ...  last_review  review_scores_rating  \\\n",
       "0  Private room  1 private bath  ...   2020-04-09                    89   \n",
       "\n",
       "  review_scores_accuracy  review_scores_cleanliness  review_scores_checkin  \\\n",
       "0                   10.0                       10.0                   10.0   \n",
       "\n",
       "  review_scores_communication review_scores_location  review_scores_value  \\\n",
       "0                        10.0                   10.0                  9.0   \n",
       "\n",
       "   reviews_per_month  Random  \n",
       "0               2.58       0  \n",
       "\n",
       "[1 rows x 26 columns]"
      ]
     },
     "execution_count": 11,
     "metadata": {},
     "output_type": "execute_result"
    }
   ],
   "source": [
    "df = pd.read_csv('./Data/ListingsAm.csv', sep=\";\")\n",
    "df.head(1)"
   ]
  },
  {
   "cell_type": "markdown",
   "metadata": {},
   "source": [
    "Подготовим справочник районов"
   ]
  },
  {
   "cell_type": "code",
   "execution_count": 12,
   "metadata": {
    "scrolled": false
   },
   "outputs": [
    {
     "data": {
      "text/plain": [
       "{0: 'Bos en Lommer',\n",
       " 1: 'Buitenveldert - Zuidas',\n",
       " 2: 'Centrum-Oost',\n",
       " 3: 'Centrum-West',\n",
       " 4: 'De Aker - Nieuw Sloten',\n",
       " 5: 'De Baarsjes - Oud-West',\n",
       " 6: 'De Pijp - Rivierenbuurt',\n",
       " 7: 'Geuzenveld - Slotermeer',\n",
       " 8: 'IJburg - Zeeburgereiland',\n",
       " 9: 'Noord-Oost',\n",
       " 10: 'Noord-West',\n",
       " 11: 'Oostelijk Havengebied - Indische Buurt',\n",
       " 12: 'Osdorp',\n",
       " 13: 'Oud-Noord',\n",
       " 14: 'Oud-Oost',\n",
       " 15: 'Slotervaart',\n",
       " 16: 'Watergraafsmeer',\n",
       " 17: 'Westerpark',\n",
       " 18: 'Zuid'}"
      ]
     },
     "execution_count": 12,
     "metadata": {},
     "output_type": "execute_result"
    }
   ],
   "source": [
    "neigh_df=pd.DataFrame(df[\"neighbourhood_cleansed\"].value_counts()).sort_index().reset_index()\n",
    "neigh_dict = neigh_df[\"index\"].to_dict()\n",
    "neigh_dict"
   ]
  },
  {
   "cell_type": "code",
   "execution_count": 13,
   "metadata": {},
   "outputs": [],
   "source": [
    "for value in neigh_dict.values():\n",
    "    cc_rec = Neighbourhoods(neigh_name=value)\n",
    "    session.add(cc_rec)\n",
    "session.flush()"
   ]
  },
  {
   "cell_type": "code",
   "execution_count": 14,
   "metadata": {},
   "outputs": [
    {
     "name": "stdout",
     "output_type": "stream",
     "text": [
      "19 Zuid\n"
     ]
    }
   ],
   "source": [
    "print(cc_rec.neigh_id, cc_rec.neigh_name)"
   ]
  },
  {
   "cell_type": "markdown",
   "metadata": {},
   "source": [
    "### Задание 3.2.2.1.\n",
    "Создайте справочники владельцев недвижимости, типов комнат и типов собственности."
   ]
  },
  {
   "cell_type": "code",
   "execution_count": 36,
   "metadata": {},
   "outputs": [
    {
     "name": "stdout",
     "output_type": "stream",
     "text": [
      "21840 Zoku Amsterdam\n"
     ]
    }
   ],
   "source": [
    "host_df=pd.DataFrame(df[\"host_name\"].value_counts()).sort_index().reset_index()\n",
    "host_dict = host_df[\"index\"].to_dict()\n",
    "host_dict\n",
    "\n",
    "for value in host_dict.values():\n",
    "    cc_rec = Hosts(host_name=value)\n",
    "    session.add(cc_rec)\n",
    "session.flush()\n",
    "\n",
    "print(cc_rec.host_id, cc_rec.host_name)"
   ]
  },
  {
   "cell_type": "code",
   "execution_count": 35,
   "metadata": {},
   "outputs": [
    {
     "name": "stdout",
     "output_type": "stream",
     "text": [
      "17 Entire home/apt\n",
      "18 Hotel room\n",
      "19 Private room\n",
      "20 Shared room\n"
     ]
    },
    {
     "data": {
      "text/plain": [
       "[None, None, None, None]"
      ]
     },
     "execution_count": 35,
     "metadata": {},
     "output_type": "execute_result"
    }
   ],
   "source": [
    "room_type_df=pd.DataFrame(df[\"room_type\"].value_counts()).sort_index().reset_index()\n",
    "room_type_dict = room_type_df[\"index\"].to_dict()\n",
    "room_type_dict\n",
    "\n",
    "for value in room_type_dict.values():\n",
    "    cc_rec = Room_types(room_type_name=value)\n",
    "    session.add(cc_rec)\n",
    "session.flush()\n",
    "\n",
    "print(cc_rec.room_type_id, cc_rec.room_type_name)"
   ]
  },
  {
   "cell_type": "code",
   "execution_count": 17,
   "metadata": {},
   "outputs": [
    {
     "name": "stdout",
     "output_type": "stream",
     "text": [
      "42 Tiny house\n"
     ]
    }
   ],
   "source": [
    "property_type_df=pd.DataFrame(df[\"property_type\"].value_counts()).sort_index().reset_index()\n",
    "property_type_dict = property_type_df[\"index\"].to_dict()\n",
    "property_type_dict\n",
    "\n",
    "for value in property_type_dict.values():\n",
    "    cc_rec = Property_types(property_type_name=value)\n",
    "    session.add(cc_rec)\n",
    "session.flush()\n",
    "\n",
    "print(cc_rec.property_type_id, cc_rec.property_type_name)"
   ]
  },
  {
   "cell_type": "code",
   "execution_count": null,
   "metadata": {},
   "outputs": [],
   "source": []
  }
 ],
 "metadata": {
  "kernelspec": {
   "display_name": "Python 3",
   "language": "python",
   "name": "python3"
  },
  "language_info": {
   "codemirror_mode": {
    "name": "ipython",
    "version": 3
   },
   "file_extension": ".py",
   "mimetype": "text/x-python",
   "name": "python",
   "nbconvert_exporter": "python",
   "pygments_lexer": "ipython3",
   "version": "3.9.4"
  }
 },
 "nbformat": 4,
 "nbformat_minor": 4
}

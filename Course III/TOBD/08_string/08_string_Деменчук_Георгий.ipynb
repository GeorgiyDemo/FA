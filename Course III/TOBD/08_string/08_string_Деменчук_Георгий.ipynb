{
 "cells": [
  {
   "cell_type": "markdown",
   "metadata": {},
   "source": [
    "# Работа со строковыми значениями"
   ]
  },
  {
   "cell_type": "markdown",
   "metadata": {},
   "source": [
    "pyformat.info - хороший сайт"
   ]
  },
  {
   "cell_type": "markdown",
   "metadata": {},
   "source": [
    "Материалы:\n",
    "* Макрушин С.В. Лекция 8: Работа со строковыми значениям\n",
    "* https://pyformat.info/\n",
    "* https://docs.python.org/3/library/re.html\n",
    "* https://tproger.ru/translations/regular-expression-python/\n",
    "* https://realpython.com/nltk-nlp-python/"
   ]
  },
  {
   "cell_type": "markdown",
   "metadata": {},
   "source": [
    "## Задачи для совместного разбора"
   ]
  },
  {
   "cell_type": "markdown",
   "metadata": {},
   "source": [
    "1. Вывести на экран данные из словаря `obj` построчно в виде `k = v`, задав формат таким образом, чтобы знак равенства оказался на одной и той же позиции во всех строках. Строковые литералы обернуть в кавычки."
   ]
  },
  {
   "cell_type": "code",
   "execution_count": 1,
   "metadata": {},
   "outputs": [],
   "source": [
    "obj = {  \n",
    "         'home_page': 'https://github.com/pypa/sampleproject',\n",
    "         'keywords': 'sample setuptools development',\n",
    "         'license': 'MIT'\n",
    "      }"
   ]
  },
  {
   "cell_type": "code",
   "execution_count": 2,
   "metadata": {},
   "outputs": [
    {
     "name": "stdout",
     "output_type": "stream",
     "text": [
      "home_page  = \"https://github.com/pypa/sampleproject\"\n",
      "keywords   = \"sample setuptools development\"\n",
      "license    = \"MIT\"\n"
     ]
    }
   ],
   "source": [
    "for k, v in obj.items():\n",
    "    print(f'{k:10} = \"{v}\"')"
   ]
  },
  {
   "cell_type": "markdown",
   "metadata": {},
   "source": [
    "2. Дана строка 'aaa--bbb==ccc__ddd'. Написать регулярное выражение для разбивки строки на список ['aaa','bbb','ccc','ddd']."
   ]
  },
  {
   "cell_type": "code",
   "execution_count": 3,
   "metadata": {},
   "outputs": [],
   "source": [
    "import re"
   ]
  },
  {
   "cell_type": "code",
   "execution_count": 4,
   "metadata": {},
   "outputs": [],
   "source": [
    "s = \"aaa--bbb==ccc__ddd\""
   ]
  },
  {
   "cell_type": "code",
   "execution_count": 5,
   "metadata": {},
   "outputs": [
    {
     "data": {
      "text/plain": [
       "['aaa', 'bbb', 'ccc', 'ddd']"
      ]
     },
     "execution_count": 5,
     "metadata": {},
     "output_type": "execute_result"
    }
   ],
   "source": [
    "pattern = re.compile(r'[a-z]{3}')\n",
    "pattern.findall(s)"
   ]
  },
  {
   "cell_type": "markdown",
   "metadata": {},
   "source": [
    "3. Проверить корректность введенного E-mail"
   ]
  },
  {
   "cell_type": "code",
   "execution_count": 6,
   "metadata": {},
   "outputs": [
    {
     "name": "stdout",
     "output_type": "stream",
     "text": [
      "<re.Match object; span=(0, 13), match='check@mail.ru'>\n",
      "Строка валидна\n"
     ]
    }
   ],
   "source": [
    "email = \"check@mail.ru\"\n",
    "pattern = re.compile(r'\\w+@[a-z]+\\.[a-z]{2,3}$')\n",
    "result = pattern.match(email)\n",
    "print(result)\n",
    "if result is None:\n",
    "    print(\"Строка невалидна\")\n",
    "else:\n",
    "    print(\"Строка валидна\")"
   ]
  },
  {
   "cell_type": "markdown",
   "metadata": {},
   "source": [
    "4. Разбейте текст формулировки задачи 1 на слова."
   ]
  },
  {
   "cell_type": "code",
   "execution_count": 7,
   "metadata": {},
   "outputs": [],
   "source": [
    "import nltk"
   ]
  },
  {
   "cell_type": "code",
   "execution_count": 8,
   "metadata": {},
   "outputs": [],
   "source": [
    "#nltk.download('punkt')"
   ]
  },
  {
   "cell_type": "code",
   "execution_count": 9,
   "metadata": {},
   "outputs": [
    {
     "data": {
      "text/plain": [
       "['Вывести',\n",
       " 'на',\n",
       " 'экран',\n",
       " 'данные',\n",
       " 'из',\n",
       " 'словаря',\n",
       " '`',\n",
       " 'obj',\n",
       " '`',\n",
       " 'построчно',\n",
       " 'в',\n",
       " 'виде',\n",
       " '`',\n",
       " 'k',\n",
       " '=',\n",
       " 'v',\n",
       " '`',\n",
       " ',',\n",
       " 'задав',\n",
       " 'формат',\n",
       " 'таким',\n",
       " 'образом',\n",
       " ',',\n",
       " 'чтобы',\n",
       " 'знак',\n",
       " 'равенства',\n",
       " 'оказался',\n",
       " 'на',\n",
       " 'одной',\n",
       " 'и',\n",
       " 'той',\n",
       " 'же',\n",
       " 'позиции',\n",
       " 'во',\n",
       " 'всех',\n",
       " 'строках',\n",
       " '.',\n",
       " 'Строковые',\n",
       " 'литералы',\n",
       " 'обернуть',\n",
       " 'в',\n",
       " 'кавычки',\n",
       " '.']"
      ]
     },
     "execution_count": 9,
     "metadata": {},
     "output_type": "execute_result"
    }
   ],
   "source": [
    "text = '''Вывести на экран данные из словаря `obj` построчно в виде `k = v`, задав формат таким образом, чтобы знак равенства оказался на одной и той же позиции во всех строках. Строковые литералы обернуть в кавычки.'''\n",
    "nltk.word_tokenize(text)"
   ]
  },
  {
   "cell_type": "code",
   "execution_count": 10,
   "metadata": {},
   "outputs": [
    {
     "data": {
      "text/plain": [
       "['Вывести на экран данные из словаря `obj` построчно в виде `k = v`, задав формат таким образом, чтобы знак равенства оказался на одной и той же позиции во всех строках.',\n",
       " 'Строковые литералы обернуть в кавычки.']"
      ]
     },
     "execution_count": 10,
     "metadata": {},
     "output_type": "execute_result"
    }
   ],
   "source": [
    "nltk.sent_tokenize(text)"
   ]
  },
  {
   "cell_type": "markdown",
   "metadata": {},
   "source": [
    "## Лабораторная работа 8"
   ]
  },
  {
   "cell_type": "markdown",
   "metadata": {},
   "source": [
    "### Форматирование строк"
   ]
  },
  {
   "cell_type": "markdown",
   "metadata": {},
   "source": [
    "1.1 Загрузите данные из файла `recipes_sample_with_tags_ingredients.csv` (__ЛР5__) в таблицу `recipes` При помощи форматирования строк выведите информацию об id рецепта и кол-ве игредиентов 5 случайных рецептов в виде таблицы следующего вида:\n",
    "\n",
    "    \n",
    "    |    id     | n_in  |\n",
    "    |-------------------|\n",
    "    |  400894   |  13   |\n",
    "    |   68588   |   8   |\n",
    "    |  362081   |   6   |\n",
    "    |   53408   |  12   |\n",
    "    |  221203   |   4   |"
   ]
  },
  {
   "cell_type": "code",
   "execution_count": 11,
   "metadata": {},
   "outputs": [],
   "source": [
    "import pandas as pd"
   ]
  },
  {
   "cell_type": "code",
   "execution_count": 12,
   "metadata": {},
   "outputs": [
    {
     "data": {
      "text/html": [
       "<div>\n",
       "<style scoped>\n",
       "    .dataframe tbody tr th:only-of-type {\n",
       "        vertical-align: middle;\n",
       "    }\n",
       "\n",
       "    .dataframe tbody tr th {\n",
       "        vertical-align: top;\n",
       "    }\n",
       "\n",
       "    .dataframe thead th {\n",
       "        text-align: right;\n",
       "    }\n",
       "</style>\n",
       "<table border=\"1\" class=\"dataframe\">\n",
       "  <thead>\n",
       "    <tr style=\"text-align: right;\">\n",
       "      <th></th>\n",
       "      <th>Unnamed: 0</th>\n",
       "      <th>id</th>\n",
       "      <th>name</th>\n",
       "      <th>minutes</th>\n",
       "      <th>contributor_id</th>\n",
       "      <th>submitted</th>\n",
       "      <th>n_steps</th>\n",
       "      <th>description</th>\n",
       "      <th>n_ingredients</th>\n",
       "      <th>n_tags</th>\n",
       "      <th>tags</th>\n",
       "      <th>ingredients</th>\n",
       "    </tr>\n",
       "  </thead>\n",
       "  <tbody>\n",
       "    <tr>\n",
       "      <th>12624</th>\n",
       "      <td>12624</td>\n",
       "      <td>143504</td>\n",
       "      <td>greek style roasted chicken legs  potatoes and...</td>\n",
       "      <td>90</td>\n",
       "      <td>89831</td>\n",
       "      <td>2005-11-01</td>\n",
       "      <td>8</td>\n",
       "      <td>if you love greek food as much as we do then y...</td>\n",
       "      <td>11</td>\n",
       "      <td>29</td>\n",
       "      <td>lactose;time-to-make;course;main-ingredient;cu...</td>\n",
       "      <td>onion*dried oregano*fresh garlic*lemon juice*o...</td>\n",
       "    </tr>\n",
       "    <tr>\n",
       "      <th>27466</th>\n",
       "      <td>27466</td>\n",
       "      <td>266505</td>\n",
       "      <td>the old manor house traditional victorian chri...</td>\n",
       "      <td>615</td>\n",
       "      <td>242729</td>\n",
       "      <td>2007-11-19</td>\n",
       "      <td>16</td>\n",
       "      <td>i discovered this recipe in an old victorian s...</td>\n",
       "      <td>17</td>\n",
       "      <td>32</td>\n",
       "      <td>course;main-ingredient;cuisine;preparation;occ...</td>\n",
       "      <td>eggs*butter*salt*ground cinnamon*raisins*slice...</td>\n",
       "    </tr>\n",
       "    <tr>\n",
       "      <th>10588</th>\n",
       "      <td>10588</td>\n",
       "      <td>19591</td>\n",
       "      <td>english trifle</td>\n",
       "      <td>15</td>\n",
       "      <td>4470</td>\n",
       "      <td>2002-02-13</td>\n",
       "      <td>8</td>\n",
       "      <td>simple easy, quick dessert. make your own spon...</td>\n",
       "      <td>5</td>\n",
       "      <td>17</td>\n",
       "      <td>15-minutes-or-less;time-to-make;course;main-in...</td>\n",
       "      <td>cream*custard*sherry wine*fruit preserves*spon...</td>\n",
       "    </tr>\n",
       "    <tr>\n",
       "      <th>2914</th>\n",
       "      <td>2914</td>\n",
       "      <td>99034</td>\n",
       "      <td>best ever summer strawberry spinach salad</td>\n",
       "      <td>10</td>\n",
       "      <td>149363</td>\n",
       "      <td>2004-09-02</td>\n",
       "      <td>11</td>\n",
       "      <td>this is a very simple and delicious salad to m...</td>\n",
       "      <td>7</td>\n",
       "      <td>38</td>\n",
       "      <td>15-minutes-or-less;time-to-make;course;main-in...</td>\n",
       "      <td>onion*sugar*egg*vinegar*baby spinach leaves*st...</td>\n",
       "    </tr>\n",
       "    <tr>\n",
       "      <th>7024</th>\n",
       "      <td>7024</td>\n",
       "      <td>283792</td>\n",
       "      <td>cinnamon chip muffins</td>\n",
       "      <td>30</td>\n",
       "      <td>590105</td>\n",
       "      <td>2008-02-03</td>\n",
       "      <td>8</td>\n",
       "      <td>this adapted from a chocolate chip muffin reci...</td>\n",
       "      <td>10</td>\n",
       "      <td>18</td>\n",
       "      <td>30-minutes-or-less;time-to-make;course;prepara...</td>\n",
       "      <td>milk*eggs*butter*flour*salt*baking powder*vani...</td>\n",
       "    </tr>\n",
       "  </tbody>\n",
       "</table>\n",
       "</div>"
      ],
      "text/plain": [
       "       Unnamed: 0      id                                               name  \\\n",
       "12624       12624  143504  greek style roasted chicken legs  potatoes and...   \n",
       "27466       27466  266505  the old manor house traditional victorian chri...   \n",
       "10588       10588   19591                                     english trifle   \n",
       "2914         2914   99034          best ever summer strawberry spinach salad   \n",
       "7024         7024  283792                              cinnamon chip muffins   \n",
       "\n",
       "       minutes  contributor_id   submitted  n_steps  \\\n",
       "12624       90           89831  2005-11-01        8   \n",
       "27466      615          242729  2007-11-19       16   \n",
       "10588       15            4470  2002-02-13        8   \n",
       "2914        10          149363  2004-09-02       11   \n",
       "7024        30          590105  2008-02-03        8   \n",
       "\n",
       "                                             description  n_ingredients  \\\n",
       "12624  if you love greek food as much as we do then y...             11   \n",
       "27466  i discovered this recipe in an old victorian s...             17   \n",
       "10588  simple easy, quick dessert. make your own spon...              5   \n",
       "2914   this is a very simple and delicious salad to m...              7   \n",
       "7024   this adapted from a chocolate chip muffin reci...             10   \n",
       "\n",
       "       n_tags                                               tags  \\\n",
       "12624      29  lactose;time-to-make;course;main-ingredient;cu...   \n",
       "27466      32  course;main-ingredient;cuisine;preparation;occ...   \n",
       "10588      17  15-minutes-or-less;time-to-make;course;main-in...   \n",
       "2914       38  15-minutes-or-less;time-to-make;course;main-in...   \n",
       "7024       18  30-minutes-or-less;time-to-make;course;prepara...   \n",
       "\n",
       "                                             ingredients  \n",
       "12624  onion*dried oregano*fresh garlic*lemon juice*o...  \n",
       "27466  eggs*butter*salt*ground cinnamon*raisins*slice...  \n",
       "10588  cream*custard*sherry wine*fruit preserves*spon...  \n",
       "2914   onion*sugar*egg*vinegar*baby spinach leaves*st...  \n",
       "7024   milk*eggs*butter*flour*salt*baking powder*vani...  "
      ]
     },
     "execution_count": 12,
     "metadata": {},
     "output_type": "execute_result"
    }
   ],
   "source": [
    "recipes = pd.read_csv(\"./data/recipes_sample_with_tags_ingredients.csv\")\n",
    "new_recipes = recipes.sample(n=5)\n",
    "new_recipes"
   ]
  },
  {
   "cell_type": "code",
   "execution_count": 13,
   "metadata": {},
   "outputs": [
    {
     "name": "stdout",
     "output_type": "stream",
     "text": [
      "|    id     |  n_in |\n",
      "|-------------------|\n",
      "|  143504   |   11  |\n",
      "|  266505   |   17  |\n",
      "|   19591   |   5   |\n",
      "|   99034   |   7   |\n",
      "|  283792   |   10  |\n"
     ]
    }
   ],
   "source": [
    "print(\"|{0:^11}| {1:^6}|\\n|{2}|\".format(\"id\", \"n_in\",\"-\"*19))\n",
    "for index, row in new_recipes.iterrows():\n",
    "    print(\"|{0:^11}| {1:^6}|\".format(row['id'], row['n_ingredients']))  #  10 - это ширина  поля "
   ]
  },
  {
   "cell_type": "markdown",
   "metadata": {},
   "source": [
    "1.2 Напишите функцию `show_info`, которая для рецепта по его `id` создает строку (в смысле объекта python) с описанием следующего вида:\n",
    "\n",
    "```\n",
    "\"Название\"\n",
    "\n",
    "1. Шаг 1.\n",
    "2. Шаг 2.\n",
    "----------\n",
    "#тэг1 #тэг2\n",
    "```\n",
    "\n",
    "    \n",
    "Данные для создания строки получите из файлов `recipes_sample_with_tags_ingredients.csv`, `steps_sample.xml` (__ЛР4__) и `tags_sample.csv` (__ЛР5__). \n",
    "Выведите созданную строку на экран."
   ]
  },
  {
   "cell_type": "code",
   "execution_count": 91,
   "metadata": {},
   "outputs": [],
   "source": [
    "from bs4 import BeautifulSoup\n",
    "from typing import List\n",
    "from pydantic import validate_arguments, ValidationError"
   ]
  },
  {
   "cell_type": "code",
   "execution_count": 92,
   "metadata": {},
   "outputs": [],
   "source": [
    "class Recipe:\n",
    "    \"\"\"Класс рецепта\"\"\"\n",
    "    @validate_arguments\n",
    "    def __init__(self, recipe_id: int, name: str) -> None:\n",
    "        self._recipe_id = recipe_id\n",
    "        self._name = name\n",
    "        self._steps_list = []\n",
    "        self._tags_list = []\n",
    "    \n",
    "    @validate_arguments\n",
    "    def add_tag(self, data: str) -> None:\n",
    "        \"\"\"Добавление тега\"\"\"\n",
    "        tag = f\"#{data}\"\n",
    "        if tag not in self._tags_list:\n",
    "            self._tags_list.append(tag)\n",
    "    \n",
    "    @validate_arguments\n",
    "    def add_step(self, data: str) -> None:\n",
    "        \"\"\"Добавление шага приготовления\"\"\"\n",
    "        if data not in self._steps_list:\n",
    "            self._steps_list.append(data)    \n",
    "    \n",
    "    def show_info(self) -> None:\n",
    "        \"\"\"Вывод информации о рецепте\"\"\"\n",
    "        print(self.__repr__())\n",
    "        \n",
    "    def __repr__(self) -> str:\n",
    "        steps_str = \"\\n\".join(map(lambda x: f\"{x[0]}. {x[1].capitalize()}.\",enumerate(self._steps_list, 1)))\n",
    "        tags_str = \" \".join(self._tags_list)\n",
    "        final_str = f\"\\\"{self._name.capitalize()}\\\"\\n{steps_str}\\n{'-'*10}\\n{tags_str}\"\n",
    "        return final_str"
   ]
  },
  {
   "cell_type": "code",
   "execution_count": 93,
   "metadata": {},
   "outputs": [],
   "source": [
    "class RecipeManager:\n",
    "    \"\"\"Класс-менеджер рецептов\"\"\"\n",
    "    def __init__(self, names: pd.core.frame.DataFrame, steps: BeautifulSoup, tags: pd.core.frame.DataFrame) -> None:\n",
    "        \n",
    "        self._names = names\n",
    "        self._steps = steps\n",
    "        self._tags = tags\n",
    "        \n",
    "        self.recipes = {}\n",
    "        \n",
    "        self.names_processing()\n",
    "        self.steps_processing()\n",
    "        self.tags_processing()\n",
    "    \n",
    "    def names_processing(self) -> None:\n",
    "        for item in self._names.apply(lambda x: (x[\"id\"], x[\"name\"]), axis=1):\n",
    "            r_id, r_name = item\n",
    "            self.recipes[r_id] = Recipe(r_id, r_name)\n",
    "        \n",
    "    def steps_processing(self) -> None:\n",
    "        \"\"\"Обработка шагов рецептов\"\"\"\n",
    "        \n",
    "        for recipe in self._steps.find_all('recipe'):\n",
    "            recipe_id = int(recipe.find(\"id\").get_text())\n",
    "            for step in recipe.find_all(\"step\"):\n",
    "                step_text = step.get_text()\n",
    "                self.recipes[recipe_id].add_step(step_text)\n",
    "                \n",
    "    def tags_processing(self) -> None:\n",
    "        \"\"\"Обработка тегов рецептов\"\"\"\n",
    "        for item in self._tags.apply(lambda x: (x[\"id\"], x[\"tag\"]), axis=1):\n",
    "            recipe_id, tag = item\n",
    "            self.recipes[recipe_id].add_tag(tag)    \n",
    "    \n",
    "    def find(self, recipe_id: int) -> Recipe:\n",
    "        if recipe_id not in self.recipes:\n",
    "            raise ValueError(f\"Рецепта с идентификатором {recipe_id} нет в списке\")\n",
    "        return self.recipes[recipe_id]\n",
    "\n",
    "content = open(\"./data/steps_sample.xml\",\"r\").read()\n",
    "steps = BeautifulSoup(content,'xml')\n",
    "\n",
    "tags = pd.read_csv(\"./data/tags_sample.csv\")\n",
    "recipe_manager = RecipeManager(recipes, steps, tags)"
   ]
  },
  {
   "cell_type": "code",
   "execution_count": 94,
   "metadata": {},
   "outputs": [
    {
     "data": {
      "text/plain": [
       "\"George s at the cove  black bean soup\"\n",
       "1. In 1 / 4 cup butter , saute carrots , onion , celery and broccoli stems for 5 minutes.\n",
       "2. Add thyme , oregano and basil.\n",
       "3. Saute 5 minutes more.\n",
       "4. Add wine and deglaze pan.\n",
       "5. Add hot chicken stock and reduce by one-third.\n",
       "6. Add worcestershire sauce , tabasco , smoked chicken , beans and broccoli florets.\n",
       "7. Simmer 5 minutes.\n",
       "8. Add cream , simmer 5 minutes more and season to taste.\n",
       "9. Drop in remaining butter , piece by piece , stirring until melted and serve immediately.\n",
       "10. Smoked chicken: on a covered grill , slightly smoke boneless chicken , cooking to medium rare.\n",
       "11. Chef meskan uses applewood chips and does not allow the grill to become too hot.\n",
       "----------\n",
       "#weeknight #time-to-make #course #main-ingredient #cuisine #preparation #occasion #north-american #soups-stews #beans #poultry #american #chicken #stove-top #dietary #gluten-free #comfort-food #californian #black-beans #free-of-something #meat #taste-mood #equipment #grilling #4-hours-or-less"
      ]
     },
     "execution_count": 94,
     "metadata": {},
     "output_type": "execute_result"
    }
   ],
   "source": [
    "recipe_manager.find(44123)"
   ]
  },
  {
   "cell_type": "markdown",
   "metadata": {},
   "source": [
    "## Работа с регулярными выражениями"
   ]
  },
  {
   "cell_type": "markdown",
   "metadata": {},
   "source": [
    "В задачах данного блока подразумевается, что вы не будете использовать никаких строковые методы (`split`, `startswith` и т.д.). Все задачи необходимо решить при помощи регулярных выражений."
   ]
  },
  {
   "cell_type": "markdown",
   "metadata": {},
   "source": [
    "2.1 Посчитайте кол-во отзывов, в которых встречаются числа."
   ]
  },
  {
   "cell_type": "code",
   "execution_count": null,
   "metadata": {},
   "outputs": [],
   "source": [
    "test_str = \"8\"\n",
    "pattern = re.compile(r'.*[0-9].*')\n",
    "result = pattern.match(test_str)\n",
    "print(result)\n",
    "if result is None:\n",
    "    print(\"Строка невалидна\")\n",
    "else:\n",
    "    print(\"Строка валидна\")"
   ]
  },
  {
   "cell_type": "markdown",
   "metadata": {},
   "source": [
    "2.2 Найдите все смайлики в отзывах. Смайлик состоит из трех частей: глаза (символ `=` или `:`), нос (символ `-`), губы (символ `)` или `(`). Смайлик может иметь вид \"глаза-нос-губы\" или \"губы-нос-глаза\". Нос может отсутствовать."
   ]
  },
  {
   "cell_type": "code",
   "execution_count": null,
   "metadata": {},
   "outputs": [],
   "source": [
    "email = \"check:ru\"\n",
    "pattern = re.compile(r'.*\\:\\-\\).*')\n",
    "result = pattern.match(email)\n",
    "print(result)\n",
    "if result is None:\n",
    "    print(\"Строка невалидна\")\n",
    "else:\n",
    "    print(\"Строка валидна\")"
   ]
  },
  {
   "cell_type": "markdown",
   "metadata": {},
   "source": [
    "2.3 Проверьте, что все даты в датасете имеют вид \"YYYY-MM-DD\". Продемонстрируйте работу вашего решения, приведя пример из датасета и контрпример не из датасета."
   ]
  },
  {
   "cell_type": "markdown",
   "metadata": {},
   "source": [
    "2.4 Используя строку-результат задачи 1.2, найдите первое слово каждого шага в рецепте"
   ]
  },
  {
   "cell_type": "markdown",
   "metadata": {},
   "source": [
    "2.5 Используя регулярные выражения, удалите из описаний все символы, кроме английских букв, цифр и пробелов. Сохраните предобработанные описания в файл `preprocessed_descriptions.csv`, содержащий 2 столбца: `name` и `preprocessed_descriptions`."
   ]
  },
  {
   "cell_type": "markdown",
   "metadata": {},
   "source": [
    "### Сегментация текста"
   ]
  },
  {
   "cell_type": "markdown",
   "metadata": {},
   "source": [
    "3.1 Разбейте предобработанные отзывы из задания 2.5 на предложения, а предложения - на слова (используйте `sent_tokenize` и `word_tokenize` из `nltk`). Каждый отзыв представьте в виде списка списков: внешний список - предложения, вложенные списки - слова в предложении.\n",
    "\n",
    "`'Предложение номер один. Предложение номер два.' => [['Предложение', 'номер', 'один', '.'], ['Предложение', 'номер', 'два', '.']]`"
   ]
  },
  {
   "cell_type": "markdown",
   "metadata": {},
   "source": [
    "**Уточнение:** Работайте с исходными версиями отзывов из файла c отзывами (без предварительной очистки от знаков препинания и т.д.). Соответственно, везде далее, где нужно считать кол-во слов, знаки препинания не должны учитываться как отдельные слова."
   ]
  },
  {
   "cell_type": "code",
   "execution_count": null,
   "metadata": {},
   "outputs": [],
   "source": []
  },
  {
   "cell_type": "markdown",
   "metadata": {},
   "source": [
    "3.2 Посчитайте кол-во уникальных слов в датасете (без учета регистра)."
   ]
  },
  {
   "cell_type": "markdown",
   "metadata": {},
   "source": [
    "3.3 Найдите 5 самых длинных (по количеству слов) отзывов в датасете и выведите их в порядке убывания длины."
   ]
  },
  {
   "cell_type": "markdown",
   "metadata": {},
   "source": [
    "3.4 Напишите функцию, которая для заданного предложения выводит информацию о частях речи слов, входящих в предложение в следующем виде:\n",
    "```\n",
    "PRP   VBD   DT      NNS     CC   VBD      NNS        RB   \n",
    " I  omitted the raspberries and added strawberries instead\n",
    "``` \n",
    "Для определения части речи слова можно воспользоваться `nltk.pos_tag`.\n",
    "\n",
    "Проверьте работоспособность функции на любом предложении из отзывов.\n"
   ]
  }
 ],
 "metadata": {
  "kernelspec": {
   "display_name": "Python 3 (ipykernel)",
   "language": "python",
   "name": "python3"
  },
  "language_info": {
   "codemirror_mode": {
    "name": "ipython",
    "version": 3
   },
   "file_extension": ".py",
   "mimetype": "text/x-python",
   "name": "python",
   "nbconvert_exporter": "python",
   "pygments_lexer": "ipython3",
   "version": "3.9.7"
  }
 },
 "nbformat": 4,
 "nbformat_minor": 4
}

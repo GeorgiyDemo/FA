{
 "cells": [
  {
   "cell_type": "markdown",
   "metadata": {},
   "source": [
    "# Форматы данных (1)"
   ]
  },
  {
   "cell_type": "markdown",
   "metadata": {},
   "source": [
    "Материалы:\n",
    "* Макрушин С.В. \"Лекция 4: Форматы данных\"\n",
    "* https://docs.python.org/3/library/json.html\n",
    "* https://docs.python.org/3/library/pickle.html\n",
    "* https://www.crummy.com/software/BeautifulSoup/bs4/doc.ru/bs4ru.html\n",
    "* Уэс Маккини. Python и анализ данных"
   ]
  },
  {
   "cell_type": "markdown",
   "metadata": {},
   "source": [
    "## Задачи для совместного разбора"
   ]
  },
  {
   "cell_type": "code",
   "execution_count": 28,
   "metadata": {},
   "outputs": [],
   "source": [
    "import json"
   ]
  },
  {
   "cell_type": "code",
   "execution_count": 29,
   "metadata": {},
   "outputs": [],
   "source": [
    "from bs4 import BeautifulSoup"
   ]
  },
  {
   "cell_type": "markdown",
   "metadata": {},
   "source": [
    "1. Вывести все адреса электронной почты, содержащиеся в адресной книге `addres-book.json`"
   ]
  },
  {
   "cell_type": "code",
   "execution_count": 30,
   "metadata": {},
   "outputs": [
    {
     "data": {
      "text/plain": [
       "['faina@mail.ru', 'robert@mail.ru']"
      ]
     },
     "execution_count": 30,
     "metadata": {},
     "output_type": "execute_result"
    }
   ],
   "source": [
    "with open(\"./data/addres-book.json\", \"r\") as file:\n",
    "    data = json.load(file)\n",
    "\n",
    "[item[\"email\"] for item in data]"
   ]
  },
  {
   "cell_type": "markdown",
   "metadata": {},
   "source": [
    "2. Вывести телефоны, содержащиеся в адресной книге `addres-book.json`"
   ]
  },
  {
   "cell_type": "code",
   "execution_count": 31,
   "metadata": {},
   "outputs": [
    {
     "data": {
      "text/plain": [
       "[['232-19-55', '+7 (916) 232-19-55'], ['111-19-55', '+7 (916) 445-19-55']]"
      ]
     },
     "execution_count": 31,
     "metadata": {},
     "output_type": "execute_result"
    }
   ],
   "source": [
    "with open(\"./data/addres-book.json\", \"r\") as file:\n",
    "    data = json.load(file)\n",
    "\n",
    "[[subitem[\"phone\"] for subitem in item[\"phones\"]] for item in data]"
   ]
  },
  {
   "cell_type": "markdown",
   "metadata": {},
   "source": [
    "3. По данным из файла `addres-book-q.xml` сформировать список словарей с телефонами каждого из людей. "
   ]
  },
  {
   "cell_type": "code",
   "execution_count": 41,
   "metadata": {},
   "outputs": [
    {
     "data": {
      "text/plain": [
       "[{'Aicha Barki': '+ (213) 6150 4015'},\n",
       " {'Aicha Barki': '+ (213) 2173 5247'},\n",
       " {'Francisco Domingos': '+ (244-2) 325 023'},\n",
       " {'Francisco Domingos': '+ (244-2) 325 023'},\n",
       " {'Maria Luisa': '+ (244) 4232 2836'},\n",
       " {'Abraao Chanda': '+ (244-2) 325 023'},\n",
       " {'Abraao Chanda': '+ (244-2) 325 023'},\n",
       " {'Beatriz Busaniche': '+ (54-11) 4784 1159'},\n",
       " {'Francesca Beddie': '+ (61-2) 6274 9500'},\n",
       " {'Francesca Beddie': '+ (61-2) 6274 9513'},\n",
       " {'Graham John Smith': '+ (61-3) 9807 4702'}]"
      ]
     },
     "execution_count": 41,
     "metadata": {},
     "output_type": "execute_result"
    }
   ],
   "source": [
    "content = open(\"./data/addres-book-q.xml\",\"r\").read()\n",
    "soup = BeautifulSoup(content,'xml')\n",
    "\n",
    "result_list = []\n",
    "for address in soup.find_all('address'):\n",
    "    user_name = address.find(\"name\").get_text()\n",
    "    for phone in address.find_all('phone'):\n",
    "        phone_str = phone.get_text()\n",
    "        result_list.append({user_name: phone_str})\n",
    "\n",
    "result_list"
   ]
  },
  {
   "cell_type": "markdown",
   "metadata": {},
   "source": [
    "## Лабораторная работа №4"
   ]
  },
  {
   "cell_type": "markdown",
   "metadata": {},
   "source": [
    "### JSON"
   ]
  },
  {
   "cell_type": "markdown",
   "metadata": {},
   "source": [
    "1.1 Считайте файл `contributors_sample.json`. Воспользовавшись модулем `json`, преобразуйте содержимое файла в соответствующие объекты python. Выведите на экран информацию о первых 3 пользователях."
   ]
  },
  {
   "cell_type": "code",
   "execution_count": 71,
   "metadata": {},
   "outputs": [],
   "source": [
    "from typing import List, Dict\n",
    "from datetime import datetime"
   ]
  },
  {
   "cell_type": "code",
   "execution_count": 72,
   "metadata": {},
   "outputs": [
    {
     "name": "stdout",
     "output_type": "stream",
     "text": [
      "----\n",
      "Id: 35193\n",
      "Username: uhebert\n",
      "Name: Lindsey Nguyen\n",
      "Sex: F\n",
      "address: 01261 Cameron Spring\n",
      "Taylorfurt, AK 97791\n",
      "mail: jsalazar@gmail.com\n",
      "jobs: Energy engineer, Engineer, site, Environmental health practitioner, Biomedical scientist, Jewellery designer\n",
      "\n",
      "----\n",
      "Id: 91970\n",
      "Username: vickitaylor\n",
      "Name: Cheryl Lewis\n",
      "Sex: F\n",
      "address: 66992 Welch Brooks\n",
      "Marshallshire, ID 56004\n",
      "mail: bhudson@gmail.com\n",
      "jobs: Music therapist, Volunteer coordinator, Designer, interior/spatial\n",
      "\n",
      "----\n",
      "Id: 1848091\n",
      "Username: sheilaadams\n",
      "Name: Julia Allen\n",
      "Sex: F\n",
      "address: Unit 1632 Box 2971\n",
      "DPO AE 23297\n",
      "mail: darren44@yahoo.com\n",
      "jobs: Management consultant, Engineer, structural, Lecturer, higher education, Theatre manager, Designer, textile\n",
      "\n"
     ]
    }
   ],
   "source": [
    "class User:\n",
    "    \"\"\"Класс пользователя\"\"\"\n",
    "    def __init__(self, username: str, name: str, sex: str, address : str, mail: str, jobs: List[str], id: int) -> None:\n",
    "        self._username = username\n",
    "        self._name = name\n",
    "        self._sex = sex\n",
    "        self._address = address\n",
    "        self._mail = mail\n",
    "        self._jobs = jobs\n",
    "        self._id = id\n",
    "    \n",
    "    def __str__(self) -> str:\n",
    "        jobs_str = \", \".join(self._jobs)\n",
    "        return f\"----\\nId: {self._id}\\nUsername: {self._username}\\nName: {self._name}\\nSex: {self._sex}\\naddress: {self._address}\\nmail: {self._mail}\\njobs: {jobs_str}\\n\" \n",
    "\n",
    "    @property\n",
    "    def mail_domain(self):\n",
    "        domain = self._mail.split(\"@\")\n",
    "        return domain[1]\n",
    "        \n",
    "with open(\"./data/contributors_sample.json\", \"r\") as file:\n",
    "    data = json.load(file)\n",
    "\n",
    "users_list = [User(**item) for item in data]\n",
    "for user in users_list[:3]:\n",
    "    print(user)"
   ]
  },
  {
   "cell_type": "markdown",
   "metadata": {},
   "source": [
    "1.2 Выведите уникальные почтовые домены, содержащиеся в почтовых адресах людей"
   ]
  },
  {
   "cell_type": "code",
   "execution_count": 74,
   "metadata": {},
   "outputs": [
    {
     "data": {
      "text/plain": [
       "{'gmail.com', 'hotmail.com', 'yahoo.com'}"
      ]
     },
     "execution_count": 74,
     "metadata": {},
     "output_type": "execute_result"
    }
   ],
   "source": [
    "domains = set([user.mail_domain for user in users_list])\n",
    "domains"
   ]
  },
  {
   "cell_type": "markdown",
   "metadata": {},
   "source": [
    "1.3 Напишите функцию, которая по `username` ищет человека и выводит информацию о нем. Если пользователь с заданным `username` отсутствует, возбудите исключение `ValueError`"
   ]
  },
  {
   "cell_type": "code",
   "execution_count": null,
   "metadata": {},
   "outputs": [],
   "source": []
  },
  {
   "cell_type": "markdown",
   "metadata": {},
   "source": [
    "1.4 Посчитайте, сколько мужчин и женщин присутсвует в этом наборе данных."
   ]
  },
  {
   "cell_type": "markdown",
   "metadata": {},
   "source": [
    "1.5 Создайте `pd.DataFrame` `contributors`, имеющий столбцы `id`, `username` и `sex`."
   ]
  },
  {
   "cell_type": "markdown",
   "metadata": {},
   "source": [
    "1.6 Загрузите данные из файла `recipes_sample.csv` (__ЛР2__) в таблицу `recipes`. Объедините `recipes` с таблицей `contributors` с сохранением строк в том случае, если информация о человеке отсутствует в JSON-файле. Для скольких человек информация отсутствует? "
   ]
  },
  {
   "cell_type": "markdown",
   "metadata": {},
   "source": [
    "### pickle"
   ]
  },
  {
   "cell_type": "markdown",
   "metadata": {},
   "source": [
    "2.1 На основе файла `contributors_sample.json` создайте словарь следующего вида: \n",
    "```\n",
    "{\n",
    "    должность: [список username людей, занимавших эту должность]\n",
    "}\n",
    "```"
   ]
  },
  {
   "cell_type": "markdown",
   "metadata": {},
   "source": [
    "2.2 Сохраните результаты в файл `job_people.pickle` и в файл `job_people.json` с использованием форматов pickle и JSON соответственно. Сравните объемы получившихся файлов. При сохранении в JSON укажите аргумент `indent`."
   ]
  },
  {
   "cell_type": "markdown",
   "metadata": {},
   "source": [
    "2.3 Считайте файл `job_people.pickle` и продемонстрируйте, что данные считались корректно. "
   ]
  },
  {
   "cell_type": "markdown",
   "metadata": {},
   "source": [
    "### XML"
   ]
  },
  {
   "cell_type": "markdown",
   "metadata": {},
   "source": [
    "3.1 По данным файла `steps_sample.xml` сформируйте словарь с шагами по каждому рецепту вида `{id_рецепта: [\"шаг1\", \"шаг2\"]}`. Сохраните этот словарь в файл `steps_sample.json`"
   ]
  },
  {
   "cell_type": "markdown",
   "metadata": {},
   "source": [
    "3.2 По данным файла `steps_sample.xml` сформируйте словарь следующего вида: `кол-во_шагов_в_рецепте: [список_id_рецептов]`"
   ]
  },
  {
   "cell_type": "markdown",
   "metadata": {},
   "source": [
    "3.3 Получите список рецептов, в этапах выполнения которых есть информация о времени (часы или минуты). Для отбора подходящих рецептов обратите внимание на атрибуты соответствующих тэгов."
   ]
  },
  {
   "cell_type": "markdown",
   "metadata": {},
   "source": [
    "3.4 Загрузите данные из файла `recipes_sample.csv` (__ЛР2__) в таблицу `recipes`. Для строк, которые содержат пропуски в столбце `n_steps`, заполните этот столбец на основе файла  `steps_sample.xml`. Строки, в которых столбец `n_steps` заполнен, оставьте без изменений."
   ]
  },
  {
   "cell_type": "markdown",
   "metadata": {},
   "source": [
    "3.5 Проверьте, содержит ли столбец `n_steps` пропуски. Если нет, то преобразуйте его к целочисленному типу и сохраните результаты в файл `recipes_sample_with_filled_nsteps.csv`"
   ]
  },
  {
   "cell_type": "code",
   "execution_count": null,
   "metadata": {},
   "outputs": [],
   "source": []
  }
 ],
 "metadata": {
  "kernelspec": {
   "display_name": "Python 3 (ipykernel)",
   "language": "python",
   "name": "python3"
  },
  "language_info": {
   "codemirror_mode": {
    "name": "ipython",
    "version": 3
   },
   "file_extension": ".py",
   "mimetype": "text/x-python",
   "name": "python",
   "nbconvert_exporter": "python",
   "pygments_lexer": "ipython3",
   "version": "3.9.7"
  }
 },
 "nbformat": 4,
 "nbformat_minor": 4
}

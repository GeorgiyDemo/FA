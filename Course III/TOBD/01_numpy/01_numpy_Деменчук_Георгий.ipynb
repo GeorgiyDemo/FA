{
 "cells": [
  {
   "cell_type": "markdown",
   "metadata": {},
   "source": [
    "ПИ19-4 Деменчук Георгий"
   ]
  },
  {
   "cell_type": "markdown",
   "metadata": {},
   "source": [
    "# Numpy"
   ]
  },
  {
   "cell_type": "markdown",
   "metadata": {},
   "source": [
    "Материалы:\n",
    "* Макрушин С.В. \"Лекция 1: Библиотека Numpy\"\n",
    "* https://numpy.org/doc/stable/user/index.html\n",
    "* https://numpy.org/doc/stable/reference/index.html"
   ]
  },
  {
   "cell_type": "code",
   "execution_count": 1,
   "metadata": {},
   "outputs": [],
   "source": [
    "import numpy as np\n",
    "lst = [1,3,5,9,20]"
   ]
  },
  {
   "cell_type": "code",
   "execution_count": 2,
   "metadata": {},
   "outputs": [
    {
     "name": "stdout",
     "output_type": "stream",
     "text": [
      "[ 1  3  5  9 20]\n"
     ]
    }
   ],
   "source": [
    "arr = np.array(lst)\n",
    "print(arr)"
   ]
  },
  {
   "cell_type": "code",
   "execution_count": 3,
   "metadata": {},
   "outputs": [
    {
     "data": {
      "text/plain": [
       "array([  1,   9,  25,  81, 400])"
      ]
     },
     "execution_count": 3,
     "metadata": {},
     "output_type": "execute_result"
    }
   ],
   "source": [
    "arr ** 2"
   ]
  },
  {
   "cell_type": "code",
   "execution_count": 4,
   "metadata": {},
   "outputs": [
    {
     "data": {
      "text/plain": [
       "array([ 3,  5,  7, 11, 22])"
      ]
     },
     "execution_count": 4,
     "metadata": {},
     "output_type": "execute_result"
    }
   ],
   "source": [
    "arr + 2"
   ]
  },
  {
   "cell_type": "code",
   "execution_count": 5,
   "metadata": {},
   "outputs": [
    {
     "data": {
      "text/plain": [
       "array([1, 1, 1, 1, 0])"
      ]
     },
     "execution_count": 5,
     "metadata": {},
     "output_type": "execute_result"
    }
   ],
   "source": [
    "arr % 2"
   ]
  },
  {
   "cell_type": "code",
   "execution_count": 6,
   "metadata": {},
   "outputs": [
    {
     "data": {
      "text/plain": [
       "array([3, 9])"
      ]
     },
     "execution_count": 6,
     "metadata": {},
     "output_type": "execute_result"
    }
   ],
   "source": [
    "arr[1::2]"
   ]
  },
  {
   "cell_type": "code",
   "execution_count": 7,
   "metadata": {},
   "outputs": [
    {
     "data": {
      "text/plain": [
       "array([3, 9])"
      ]
     },
     "execution_count": 7,
     "metadata": {},
     "output_type": "execute_result"
    }
   ],
   "source": [
    "#Создание маски\n",
    "mask = arr % 3 == 0\n",
    "arr[mask]"
   ]
  },
  {
   "cell_type": "code",
   "execution_count": 8,
   "metadata": {},
   "outputs": [
    {
     "data": {
      "text/plain": [
       "array([[ 0,  1,  2,  3],\n",
       "       [ 4,  5,  6,  7],\n",
       "       [ 8,  9, 10, 11],\n",
       "       [12, 13, 14, 15],\n",
       "       [16, 17, 18, 19]])"
      ]
     },
     "execution_count": 8,
     "metadata": {},
     "output_type": "execute_result"
    }
   ],
   "source": [
    "arr = np.arange(20).reshape(5, 4)\n",
    "arr"
   ]
  },
  {
   "cell_type": "code",
   "execution_count": 9,
   "metadata": {},
   "outputs": [
    {
     "data": {
      "text/plain": [
       "array([ 7, 11])"
      ]
     },
     "execution_count": 9,
     "metadata": {},
     "output_type": "execute_result"
    }
   ],
   "source": [
    "#Выбрать по 3 \n",
    "arr[1:3, -1]"
   ]
  },
  {
   "cell_type": "markdown",
   "metadata": {},
   "source": [
    "## Задачи для совместного разбора"
   ]
  },
  {
   "cell_type": "code",
   "execution_count": 10,
   "metadata": {},
   "outputs": [],
   "source": [
    "import numpy as np\n",
    "import pandas as pd"
   ]
  },
  {
   "cell_type": "markdown",
   "metadata": {},
   "source": [
    "1. Сгенерировать двухмерный массив `arr` размерности (4, 7), состоящий из случайных действительных чисел, равномерно распределенных в диапазоне от 0 до 20. Нормализовать значения массива с помощью преобразования вида  $𝑎𝑥+𝑏$  так, что после нормализации максимальный элемент масcива будет равен 1.0, минимальный 0.0"
   ]
  },
  {
   "cell_type": "code",
   "execution_count": 11,
   "metadata": {},
   "outputs": [
    {
     "data": {
      "text/plain": [
       "array([[0.30081639, 0.50521875, 0.80037133, 0.57132163, 0.22582512,\n",
       "        0.51350977, 0.72493505],\n",
       "       [0.65793453, 0.        , 0.35976335, 0.56710053, 0.67281439,\n",
       "        0.46108199, 0.68728707],\n",
       "       [0.69349343, 0.8718438 , 0.02920399, 1.        , 0.12120137,\n",
       "        0.78601459, 0.21101299],\n",
       "       [0.34512342, 0.00389082, 0.6919899 , 0.46250898, 0.83800807,\n",
       "        0.34865965, 0.9750674 ]])"
      ]
     },
     "execution_count": 11,
     "metadata": {},
     "output_type": "execute_result"
    }
   ],
   "source": [
    "arr = np.random.uniform(0, 20, (4, 7))\n",
    "a_min = np.min(arr)\n",
    "a_max = np.max(arr)\n",
    "(arr-a_min)/(np.amax(arr)-a_min)"
   ]
  },
  {
   "cell_type": "code",
   "execution_count": 12,
   "metadata": {},
   "outputs": [
    {
     "data": {
      "text/plain": [
       "array([[0.30081639, 0.50521875, 0.80037133, 0.57132163, 0.22582512,\n",
       "        0.51350977, 0.72493505],\n",
       "       [0.65793453, 0.        , 0.35976335, 0.56710053, 0.67281439,\n",
       "        0.46108199, 0.68728707],\n",
       "       [0.69349343, 0.8718438 , 0.02920399, 1.        , 0.12120137,\n",
       "        0.78601459, 0.21101299],\n",
       "       [0.34512342, 0.00389082, 0.6919899 , 0.46250898, 0.83800807,\n",
       "        0.34865965, 0.9750674 ]])"
      ]
     },
     "execution_count": 12,
     "metadata": {},
     "output_type": "execute_result"
    }
   ],
   "source": [
    "arr*(1/(a_max-a_min))-(a_min/(a_max-a_min))"
   ]
  },
  {
   "cell_type": "markdown",
   "metadata": {},
   "source": [
    "2. Создать матрицу 8 на 10 из случайных целых (используя модуль `numpy.random`) чисел из диапозона от 0 до 10 и найти в ней строку (ее индекс и вывести саму строку), в которой сумма значений минимальна."
   ]
  },
  {
   "cell_type": "code",
   "execution_count": 13,
   "metadata": {},
   "outputs": [
    {
     "data": {
      "text/plain": [
       "array([[8, 2, 8, 4, 7, 7, 1, 6, 6, 0],\n",
       "       [9, 6, 4, 8, 1, 3, 3, 3, 1, 4],\n",
       "       [8, 6, 2, 8, 5, 2, 0, 0, 8, 4],\n",
       "       [5, 2, 6, 7, 1, 3, 9, 8, 9, 8],\n",
       "       [8, 7, 1, 5, 3, 1, 1, 1, 7, 0],\n",
       "       [5, 9, 2, 8, 3, 3, 3, 2, 6, 8],\n",
       "       [5, 6, 3, 6, 7, 6, 9, 4, 4, 3],\n",
       "       [4, 6, 0, 1, 2, 1, 8, 3, 2, 7]])"
      ]
     },
     "execution_count": 13,
     "metadata": {},
     "output_type": "execute_result"
    }
   ],
   "source": [
    "arr = np.random.randint(0, 10, size=(8, 10))\n",
    "#arr = np.array(range(0,80)).reshape(8, 10)\n",
    "arr"
   ]
  },
  {
   "cell_type": "code",
   "execution_count": 14,
   "metadata": {},
   "outputs": [
    {
     "name": "stdout",
     "output_type": "stream",
     "text": [
      "4\n"
     ]
    },
    {
     "data": {
      "text/plain": [
       "array([8, 7, 1, 5, 3, 1, 1, 1, 7, 0])"
      ]
     },
     "execution_count": 14,
     "metadata": {},
     "output_type": "execute_result"
    }
   ],
   "source": [
    "min_index = np.argmin(arr.sum(axis=1))\n",
    "print(min_index)\n",
    "arr[min_index, :]"
   ]
  },
  {
   "cell_type": "markdown",
   "metadata": {},
   "source": [
    "3. Найти евклидово расстояние между двумя одномерными векторами одинаковой размерности."
   ]
  },
  {
   "cell_type": "code",
   "execution_count": 15,
   "metadata": {},
   "outputs": [
    {
     "name": "stdout",
     "output_type": "stream",
     "text": [
      "[4 0 4 0 4 2 0 1 3 7]\n",
      "[7 0 8 9 3 9 6 3 8 7]\n",
      "14.866068747318506\n",
      "14.866068747318506\n",
      "True\n"
     ]
    }
   ],
   "source": [
    "arr1 = np.random.randint(0, 10, size=10)\n",
    "print(arr1)\n",
    "arr2 = np.random.randint(0, 10, size=10)\n",
    "print(arr2)\n",
    "dist_auto = np.linalg.norm(arr1-arr2)\n",
    "print(dist_auto)\n",
    "\n",
    "dist_manual = np.sum((arr1-arr2) ** 2) ** (1/2)\n",
    "print(dist_manual)\n",
    "\n",
    "print(dist_auto == dist_manual)"
   ]
  },
  {
   "cell_type": "markdown",
   "metadata": {},
   "source": [
    "4. Решить матричное уравнение `A*X*B=-C` - найти матрицу `X`. Где `A = [[-1, 2, 4], [-3, 1, 2], [-3, 0, 1]]`, `B=[[3, -1], [2, 1]]`, `C=[[7, 21], [11, 8], [8, 4]]`."
   ]
  },
  {
   "cell_type": "code",
   "execution_count": 16,
   "metadata": {},
   "outputs": [
    {
     "data": {
      "text/plain": [
       "matrix([[ 1.00000000e+00,  5.32907052e-16],\n",
       "        [-2.00000000e+00,  1.00000000e+00],\n",
       "        [ 3.00000000e+00, -4.00000000e+00]])"
      ]
     },
     "execution_count": 16,
     "metadata": {},
     "output_type": "execute_result"
    }
   ],
   "source": [
    "a = np.matrix([[-1, 2, 4], [-3, 1, 2], [-3, 0, 1]])\n",
    "b = np.matrix([[3, -1], [2, 1]])\n",
    "c = np.matrix([[7, 21], [11, 8], [8, 4]])\n",
    "\n",
    "\"\"\"\n",
    "A*X*B=-C, при выражении X получаем:\n",
    "X=A^-1*(-C)*B^-1\n",
    "\"\"\"\n",
    "result1 = np.linalg.inv(a) @ -c @ np.linalg.inv(b)\n",
    "result1"
   ]
  },
  {
   "cell_type": "markdown",
   "metadata": {},
   "source": [
    "## Лабораторная работа №1"
   ]
  },
  {
   "cell_type": "markdown",
   "metadata": {},
   "source": [
    "Замечание: при решении данных задач не подразумевается использования циклов или генераторов Python, если в задании не сказано обратного. Решение должно опираться на использования функционала библиотеки `numpy`."
   ]
  },
  {
   "cell_type": "markdown",
   "metadata": {},
   "source": [
    "1. Файл `minutes_n_ingredients.csv` содержит информацию об идентификаторе рецепта, времени его выполнения в минутах и количестве необходимых ингредиентов. Считайте данные из этого файла в виде массива `numpy` типа `int32`, используя `np.load_txt`. Выведите на экран первые 5 строк массива."
   ]
  },
  {
   "cell_type": "code",
   "execution_count": 17,
   "metadata": {},
   "outputs": [
    {
     "name": "stdout",
     "output_type": "stream",
     "text": [
      "[[127244     60     16]\n",
      " [ 23891     25      7]\n",
      " [ 94746     10      6]\n",
      " [ 67660      5      6]\n",
      " [157911     60     14]]\n"
     ]
    }
   ],
   "source": [
    "data = np.loadtxt(\"./minutes_n_ingredients.csv\",dtype=int, delimiter=\",\", skiprows=1)\n",
    "print(data[:5])"
   ]
  },
  {
   "cell_type": "markdown",
   "metadata": {},
   "source": [
    "2. Вычислите среднее значение, минимум, максимум и медиану по каждому из столбцов, кроме первого."
   ]
  },
  {
   "cell_type": "code",
   "execution_count": 18,
   "metadata": {},
   "outputs": [
    {
     "name": "stdout",
     "output_type": "stream",
     "text": [
      "Мин: 0\n",
      "Макс:2147483647\n",
      "Медиана:40.0\n",
      "\n",
      "Мин: 1\n",
      "Макс:39\n",
      "Медиана:9.0\n",
      "\n",
      "Мин: [0 1]\n",
      "Макс:[2147483647         39]\n",
      "Медиана:[40.  9.]\n",
      "\n"
     ]
    }
   ],
   "source": [
    "col = 1\n",
    "print(f\"Мин: {np.min(data[:, col])}\\nМакс:{np.max(data[:, col])}\\nМедиана:{np.median(data[:, col])}\\n\")\n",
    "\n",
    "col = 2\n",
    "print(f\"Мин: {np.min(data[:, col])}\\nМакс:{np.max(data[:, col])}\\nМедиана:{np.median(data[:, col])}\\n\")\n",
    "\n",
    "\n",
    "\n",
    "print(f\"Мин: {np.min(data[:, 1:], axis=0)}\\nМакс:{np.max(data[:, 1:], axis=0)}\\nМедиана:{np.median(data[:, 1:], axis=0)}\\n\")\n"
   ]
  },
  {
   "cell_type": "markdown",
   "metadata": {},
   "source": [
    "3. Ограничьте сверху значения продолжительности выполнения рецепта значением квантиля $q_{0.75}$. "
   ]
  },
  {
   "cell_type": "code",
   "execution_count": 19,
   "metadata": {},
   "outputs": [
    {
     "data": {
      "text/plain": [
       "array([[127244,     60,     16],\n",
       "       [ 23891,     25,      7],\n",
       "       [ 94746,     10,      6],\n",
       "       ...,\n",
       "       [ 43407,     35,      7],\n",
       "       [498432,     65,     15],\n",
       "       [370915,      5,      4]])"
      ]
     },
     "execution_count": 19,
     "metadata": {},
     "output_type": "execute_result"
    }
   ],
   "source": [
    "quant_value = 0.75\n",
    "koshkas = np.quantile(data[:,1], quant_value)\n",
    "mask = data[:,1] <= koshkas\n",
    "data[mask]"
   ]
  },
  {
   "cell_type": "markdown",
   "metadata": {},
   "source": [
    "4. Посчитайте, для скольких рецептов указана продолжительность, равная нулю. Замените для таких строк значение в данном столбце на 1."
   ]
  },
  {
   "cell_type": "code",
   "execution_count": 20,
   "metadata": {},
   "outputs": [
    {
     "name": "stdout",
     "output_type": "stream",
     "text": [
      "479\n",
      "[[127244     60     16]\n",
      " [ 23891     25      7]\n",
      " [ 94746     10      6]\n",
      " ...\n",
      " [498432     65     15]\n",
      " [370915      5      4]\n",
      " [ 81993    140     14]]\n",
      "[[127244     60     16]\n",
      " [ 23891     25      7]\n",
      " [ 94746     10      6]\n",
      " ...\n",
      " [498432     65     15]\n",
      " [370915      5      4]\n",
      " [ 81993    140     14]]\n",
      "0\n"
     ]
    }
   ],
   "source": [
    "def counter(data: np.matrix) -> int:\n",
    "    mask = data[:, 1] == 0\n",
    "    return data[mask].shape[0], mask\n",
    "\n",
    "count, mask = counter(data)\n",
    "print(count)\n",
    "new_data = data.copy()\n",
    "print(new_data)\n",
    "new_data[mask, 1] = 1\n",
    "print(new_data)\n",
    "\n",
    "count, mask = counter(new_data)\n",
    "print(count)"
   ]
  },
  {
   "cell_type": "markdown",
   "metadata": {},
   "source": [
    "5. Посчитайте, сколько уникальных рецептов находится в датасете."
   ]
  },
  {
   "cell_type": "code",
   "execution_count": 21,
   "metadata": {},
   "outputs": [
    {
     "name": "stdout",
     "output_type": "stream",
     "text": [
      "(100000, 3)\n",
      "(100000, 3)\n"
     ]
    }
   ],
   "source": [
    "print(new_data.shape)\n",
    "unique_rows = np.unique(new_data, axis=0)\n",
    "print(unique_rows.shape)"
   ]
  },
  {
   "cell_type": "markdown",
   "metadata": {},
   "source": [
    "6. Сколько и каких различных значений кол-ва ингредиентов присутвует в рецептах из датасета?"
   ]
  },
  {
   "cell_type": "code",
   "execution_count": 22,
   "metadata": {},
   "outputs": [
    {
     "name": "stdout",
     "output_type": "stream",
     "text": [
      "Всего уникальных: 37\n"
     ]
    },
    {
     "data": {
      "text/plain": [
       "{13: 1,\n",
       " 926: 2,\n",
       " 2895: 3,\n",
       " 5515: 4,\n",
       " 7913: 5,\n",
       " 9376: 6,\n",
       " 10628: 7,\n",
       " 10951: 8,\n",
       " 10585: 9,\n",
       " 9591: 10,\n",
       " 8297: 11,\n",
       " 6605: 12,\n",
       " 4997: 13,\n",
       " 3663: 14,\n",
       " 2595: 15,\n",
       " 1767: 16,\n",
       " 1246: 17,\n",
       " 790: 18,\n",
       " 573: 19,\n",
       " 376: 20,\n",
       " 217: 21,\n",
       " 161: 22,\n",
       " 105: 23,\n",
       " 69: 24,\n",
       " 50: 25,\n",
       " 28: 26,\n",
       " 16: 28,\n",
       " 12: 30,\n",
       " 3: 35,\n",
       " 1: 39,\n",
       " 2: 33}"
      ]
     },
     "execution_count": 22,
     "metadata": {},
     "output_type": "execute_result"
    }
   ],
   "source": [
    "unique, counts = np.unique(new_data[:, 2], return_counts=True)\n",
    "print(f\"Всего уникальных: {len(unique)}\")\n",
    "dict(zip(counts,unique))"
   ]
  },
  {
   "cell_type": "markdown",
   "metadata": {},
   "source": [
    "7. Создайте версию массива, содержащую информацию только о рецептах, состоящих не более чем из 5 ингредиентов."
   ]
  },
  {
   "cell_type": "code",
   "execution_count": 23,
   "metadata": {},
   "outputs": [
    {
     "name": "stdout",
     "output_type": "stream",
     "text": [
      "(100000, 3)\n",
      "(17262, 3)\n"
     ]
    }
   ],
   "source": [
    "print(new_data.shape)\n",
    "mask = new_data[:, 2] < 6\n",
    "array_7 = new_data[mask]\n",
    "print(array_7.shape)"
   ]
  },
  {
   "cell_type": "markdown",
   "metadata": {},
   "source": [
    "8. Для каждого рецепта посчитайте, сколько в среднем ингредиентов приходится на одну минуту рецепта. Найдите максимальное значение этой величины для всего датасета"
   ]
  },
  {
   "cell_type": "code",
   "execution_count": 24,
   "metadata": {},
   "outputs": [
    {
     "name": "stdout",
     "output_type": "stream",
     "text": [
      "[0.26666667 0.28       0.6        ... 0.23076923 0.8        0.1       ]\n"
     ]
    },
    {
     "data": {
      "text/plain": [
       "24.0"
      ]
     },
     "execution_count": 24,
     "metadata": {},
     "output_type": "execute_result"
    }
   ],
   "source": [
    "results = (new_data[:,2]/new_data[:,1])\n",
    "print(results)\n",
    "np.max(results)"
   ]
  },
  {
   "cell_type": "markdown",
   "metadata": {},
   "source": [
    "9. Вычислите среднее количество ингредиентов для топ-100 рецептов с наибольшей продолжительностью"
   ]
  },
  {
   "cell_type": "code",
   "execution_count": 25,
   "metadata": {},
   "outputs": [
    {
     "data": {
      "text/plain": [
       "6.61"
      ]
     },
     "execution_count": 25,
     "metadata": {},
     "output_type": "execute_result"
    }
   ],
   "source": [
    "count =100\n",
    "buffer = np.copy(data[data[:, 1].argsort()][::-1])\n",
    "buffer = buffer[:count]\n",
    "np.sum(buffer[:,2])/count"
   ]
  },
  {
   "cell_type": "markdown",
   "metadata": {},
   "source": [
    "10. Выберите случайным образом и выведите информацию о 10 различных рецептах"
   ]
  },
  {
   "cell_type": "code",
   "execution_count": 26,
   "metadata": {},
   "outputs": [
    {
     "data": {
      "text/plain": [
       "array([[234329,    130,      7],\n",
       "       [511324,     95,      6],\n",
       "       [276141,    250,     12],\n",
       "       [410431,    490,      6],\n",
       "       [ 65909,     10,      5],\n",
       "       [388855,     50,      8],\n",
       "       [140622,     15,      7],\n",
       "       [278790,     45,     18],\n",
       "       [306104,     40,      5],\n",
       "       [  9759,     30,      9]])"
      ]
     },
     "execution_count": 26,
     "metadata": {},
     "output_type": "execute_result"
    }
   ],
   "source": [
    "data[np.random.randint(data.shape[0], size=10), :]"
   ]
  },
  {
   "cell_type": "markdown",
   "metadata": {},
   "source": [
    "11. Выведите процент рецептов, кол-во ингредиентов в которых меньше среднего."
   ]
  },
  {
   "cell_type": "code",
   "execution_count": 27,
   "metadata": {},
   "outputs": [
    {
     "name": "stdout",
     "output_type": "stream",
     "text": [
      "(100000, 3)\n",
      "(58802, 3)\n",
      "58.802%\n"
     ]
    }
   ],
   "source": [
    "#Находим сред кол-во ингрендиентов\n",
    "current_mean = np.mean(new_data[:, 2])\n",
    "\n",
    "mask = new_data[:, 2] < current_mean\n",
    "result = new_data[mask]\n",
    "\n",
    "print(new_data.shape)\n",
    "print(result.shape)\n",
    "print(f\"{result.shape[0]*100/new_data.shape[0]}%\")\n"
   ]
  },
  {
   "cell_type": "markdown",
   "metadata": {},
   "source": [
    "12. Назовем \"простым\" такой рецепт, длительность выполнения которого не больше 20 минут и кол-во ингредиентов в котором не больше 5. Создайте версию датасета с дополнительным столбцом, значениями которого являются 1, если рецепт простой, и 0 в противном случае."
   ]
  },
  {
   "cell_type": "code",
   "execution_count": 28,
   "metadata": {},
   "outputs": [
    {
     "data": {
      "text/plain": [
       "array([[127244,     60,     16,      0],\n",
       "       [ 23891,     25,      7,      0],\n",
       "       [ 94746,     10,      6,      0],\n",
       "       ...,\n",
       "       [498432,     65,     15,      0],\n",
       "       [370915,      5,      4,      1],\n",
       "       [ 81993,    140,     14,      0]])"
      ]
     },
     "execution_count": 28,
     "metadata": {},
     "output_type": "execute_result"
    }
   ],
   "source": [
    "\"\"\"\n",
    "- Не больше 20 мин\n",
    "- Кол-во ингридиентов < 6\n",
    "\"\"\"\n",
    "\n",
    "is_simple_mask = (new_data[:, 1] < 21) & (new_data[:, 2] < 6)\n",
    "new_data = np.c_[new_data, is_simple_mask]\n",
    "new_data"
   ]
  },
  {
   "cell_type": "markdown",
   "metadata": {},
   "source": [
    "13. Выведите процент \"простых\" рецептов в датасете"
   ]
  },
  {
   "cell_type": "code",
   "execution_count": 29,
   "metadata": {},
   "outputs": [
    {
     "name": "stdout",
     "output_type": "stream",
     "text": [
      "9552\n",
      "100000\n"
     ]
    },
    {
     "data": {
      "text/plain": [
       "9.552"
      ]
     },
     "execution_count": 29,
     "metadata": {},
     "output_type": "execute_result"
    }
   ],
   "source": [
    "simple_count = new_data[new_data[:,3] == 1].shape[0]\n",
    "all_count = new_data.shape[0]\n",
    "print(simple_count)\n",
    "print(all_count)\n",
    "\n",
    "simple_count*100/all_count"
   ]
  },
  {
   "cell_type": "markdown",
   "metadata": {},
   "source": [
    "14. Разделим рецепты на группы по следующему правилу. Назовем рецепты короткими, если их продолжительность составляет менее 10 минут; стандартными, если их продолжительность составляет более 10, но менее 20 минут; и длинными, если их продолжительность составляет не менее 20 минут. Создайте трехмерный массив, где нулевая ось отвечает за номер группы (короткий, стандартный или длинный рецепт), первая ось - за сам рецепт и вторая ось - за характеристики рецепта. Выберите максимальное количество рецептов из каждой группы таким образом, чтобы было возможно сформировать трехмерный массив. Выведите форму полученного массива."
   ]
  },
  {
   "cell_type": "code",
   "execution_count": 30,
   "metadata": {},
   "outputs": [
    {
     "name": "stdout",
     "output_type": "stream",
     "text": [
      "[[[ 67660      5      6      0]\n",
      "  [366174      7      9      0]\n",
      "  [204134      5      3      1]\n",
      "  ...\n",
      "  [420725      5      3      1]\n",
      "  [  4747      1      9      0]\n",
      "  [370915      5      4      1]]\n",
      "\n",
      " [[ 94746     10      6      0]\n",
      "  [ 33941     18      9      0]\n",
      "  [446597     15      5      1]\n",
      "  ...\n",
      "  [  9831     15      7      0]\n",
      "  [335859     12     14      0]\n",
      "  [256812     10      3      1]]\n",
      "\n",
      " [[127244     60     16      0]\n",
      "  [ 23891     25      7      0]\n",
      "  [157911     60     14      0]\n",
      "  ...\n",
      "  [168901     25      7      0]\n",
      "  [392339     35     13      0]\n",
      "  [206732     45     10      0]]]\n"
     ]
    }
   ],
   "source": [
    "short_arr = new_data[new_data[:,1] < 10]\n",
    "mask = (new_data[:,1] >= 10) & (new_data[:,1] < 20)\n",
    "standard_arr = new_data[mask]\n",
    "long_arr = new_data[20 <= new_data[:,1]]\n",
    "\n",
    "#Нулевая ось - номер группы\n",
    "#Первая ось - сам рецепт\n",
    "#Вторая - хар-ки рецепта\n",
    "\n",
    "#Эт мы определяем макс размер, чтоб 3D массив сформировать\n",
    "crop_value = np.min([short_arr.shape[0], standard_arr.shape[0], long_arr.shape[0]])\n",
    "\n",
    "result_arr = np.array([short_arr[:crop_value], standard_arr[:crop_value], long_arr[:crop_value]])\n",
    "print(result_arr)"
   ]
  },
  {
   "cell_type": "code",
   "execution_count": null,
   "metadata": {},
   "outputs": [],
   "source": []
  }
 ],
 "metadata": {
  "kernelspec": {
   "display_name": "Python 3 (ipykernel)",
   "language": "python",
   "name": "python3"
  },
  "language_info": {
   "codemirror_mode": {
    "name": "ipython",
    "version": 3
   },
   "file_extension": ".py",
   "mimetype": "text/x-python",
   "name": "python",
   "nbconvert_exporter": "python",
   "pygments_lexer": "ipython3",
   "version": "3.9.7"
  }
 },
 "nbformat": 4,
 "nbformat_minor": 4
}

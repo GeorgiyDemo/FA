{
 "cells": [
  {
   "cell_type": "markdown",
   "metadata": {},
   "source": [
    "# Работа с базами данных"
   ]
  },
  {
   "cell_type": "markdown",
   "metadata": {},
   "source": [
    "Материалы:\n",
    "* Макрушин С.В. Лекция 6: Работа с базами данных\n",
    "* https://sqliteonline.com/\n",
    "* https://docs.python.org/3/library/sqlite3.html\n",
    "* https://www.geeksforgeeks.org/sql-join-set-1-inner-left-right-and-full-joins/\n",
    "* https://www.datacamp.com/community/tutorials/group-by-having-clause-sql"
   ]
  },
  {
   "cell_type": "markdown",
   "metadata": {},
   "source": [
    "## Задачи для совместного разбора"
   ]
  },
  {
   "cell_type": "markdown",
   "metadata": {},
   "source": [
    "1. Работая с базой данных `Chinook_Sqlite.sqlite`, найдите и выведите на экран имена и фамилии всех заказчиков из Канады"
   ]
  },
  {
   "cell_type": "code",
   "execution_count": 1,
   "metadata": {},
   "outputs": [],
   "source": [
    "import sqlite3"
   ]
  },
  {
   "cell_type": "code",
   "execution_count": 2,
   "metadata": {},
   "outputs": [
    {
     "name": "stdout",
     "output_type": "stream",
     "text": [
      "[('François', 'Tremblay'), ('Mark', 'Philips'), ('Jennifer', 'Peterson'), ('Robert', 'Brown'), ('Edward', 'Francis')]\n"
     ]
    }
   ],
   "source": [
    "con = sqlite3.connect(\"./data/Chinook_Sqlite.sqlite\")\n",
    "cur = con.cursor()\n",
    "cur.execute('''\n",
    "SELECT firstname, lastname FROM Customer WHERE country = ?\n",
    "''',['Canada'])\n",
    "\n",
    "# Проитерироваться по курсору\n",
    "# .fetchone()\n",
    "# .fetchmany(n)\n",
    "# .fetchall()\n",
    "result = cur.fetchmany(5)\n",
    "print(result)"
   ]
  },
  {
   "cell_type": "markdown",
   "metadata": {},
   "source": [
    "2. Найти и вывести на экран названия всех альбомов группы Accept"
   ]
  },
  {
   "cell_type": "code",
   "execution_count": 3,
   "metadata": {},
   "outputs": [
    {
     "name": "stdout",
     "output_type": "stream",
     "text": [
      "Balls to the Wall\n",
      "Restless and Wild\n"
     ]
    }
   ],
   "source": [
    "\n",
    "\n",
    "cur = con.cursor()\n",
    "\n",
    "\n",
    "cur.execute('''\n",
    "SELECT Title FROM Artist  t1 INNER JOIN Album t2 ON t1.ArtistId = t2.ArtistId WHERE t1.Name = ?\n",
    "''',[\"Accept\"])\n",
    "\n",
    "# .fetchall()\n",
    "for item in cur.fetchall():\n",
    "    print(item[0])"
   ]
  },
  {
   "cell_type": "markdown",
   "metadata": {},
   "source": [
    "3. Создайте базу данных с названием вашей группы. В этой базе данных создайте таблицу Student, содержащую 2 столбца: id и name. Добавьте в таблицу Student информацию о студентах, сидящих с вами по соседству."
   ]
  },
  {
   "cell_type": "code",
   "execution_count": 4,
   "metadata": {},
   "outputs": [],
   "source": [
    "con = sqlite3.connect('test3.db')\n",
    "cur = con.cursor()\n",
    "\n",
    "cur.execute('''\n",
    "CREATE TABLE Student(id INTEGER, name VARCHAR(50))\n",
    "''')\n",
    "\n",
    "cur.execute('''\n",
    "INSERT INTO Student(id , name) VALUES (1, 'Nikita'),('2','Robot')\n",
    "''')\n",
    "con.commit()"
   ]
  },
  {
   "cell_type": "markdown",
   "metadata": {},
   "source": [
    "## Лабораторная работа 6"
   ]
  },
  {
   "cell_type": "markdown",
   "metadata": {},
   "source": [
    "1. Создайте файл базы данных c названием `recipes.db`. Создайте объект-курсор. "
   ]
  },
  {
   "cell_type": "code",
   "execution_count": 5,
   "metadata": {},
   "outputs": [],
   "source": [
    "con = sqlite3.connect('recipes.db')\n",
    "cur = con.cursor()"
   ]
  },
  {
   "cell_type": "markdown",
   "metadata": {},
   "source": [
    "2. Напишите и выполните SQL-запрос для создания таблицы рецептов `Recipe`. Таблица должна содержать следующие поля:\n",
    "`id`, `name`, `minutes`, `submitted`, `description`, `n_ingredients`. Определитесь с типами и составом ключевых полей."
   ]
  },
  {
   "cell_type": "code",
   "execution_count": 6,
   "metadata": {},
   "outputs": [
    {
     "data": {
      "text/plain": [
       "<sqlite3.Cursor at 0x107098340>"
      ]
     },
     "execution_count": 6,
     "metadata": {},
     "output_type": "execute_result"
    }
   ],
   "source": [
    "cur.execute('''\n",
    "CREATE TABLE recipe (\n",
    "\tid\tINTEGER,\n",
    "\tname\tTEXT NOT NULL,\n",
    "\tminutes\tREAL,\n",
    "\tsubmitted\tINTEGER,\n",
    "\tdescription\tTEXT,\n",
    "\tn_ingredients\tINTEGER,\n",
    "\tPRIMARY KEY(id AUTOINCREMENT)\n",
    ");\n",
    "''')"
   ]
  },
  {
   "cell_type": "markdown",
   "metadata": {},
   "source": [
    "3. Напишите и выполните SQL-запрос для создания таблицы отзывов `Review`. Таблица должна содержать следующие поля:\n",
    "`id`, `user_id`, `recipe_id`, `date`, `rating`, `review`. Определитесь с типами полей, набором ключевых полей. При помощи внешнего ключа соедините две таблицы."
   ]
  },
  {
   "cell_type": "code",
   "execution_count": 7,
   "metadata": {},
   "outputs": [
    {
     "data": {
      "text/plain": [
       "<sqlite3.Cursor at 0x107098340>"
      ]
     },
     "execution_count": 7,
     "metadata": {},
     "output_type": "execute_result"
    }
   ],
   "source": [
    "cur.execute('''\n",
    "CREATE TABLE review (\n",
    "\tid\tINTEGER,\n",
    "\tuser_id\tINTEGER NOT NULL,\n",
    "\trecipe_id\tINTEGER NOT NULL,\n",
    "\tdate\tTEXT,\n",
    "\trating\tREAL,\n",
    "\treview\tTEXT,\n",
    "\tPRIMARY KEY(id AUTOINCREMENT),\n",
    "\tFOREIGN KEY(recipe_id) REFERENCES Recipe(id)\n",
    ");\n",
    "''')"
   ]
  },
  {
   "cell_type": "markdown",
   "metadata": {},
   "source": [
    "4. Загрузите данные из файлов `reviews_sample.csv` (__ЛР2__) и `recipes_sample_with_tags_ingredients.csv` (__ЛР5__) в созданные таблицы"
   ]
  },
  {
   "cell_type": "code",
   "execution_count": 8,
   "metadata": {},
   "outputs": [],
   "source": [
    "import pandas as pd"
   ]
  },
  {
   "cell_type": "code",
   "execution_count": 9,
   "metadata": {},
   "outputs": [],
   "source": [
    "recipe = pd.read_csv('./data/recipes_sample_with_tags_ingredients.csv', sep=',')\n",
    "\n",
    "for i, row in recipe.iterrows():\n",
    "    data = row.loc[['name', 'minutes', 'submitted', 'description', 'n_ingredients']]\n",
    "    cur.execute(\n",
    "        '''\n",
    "        INSERT INTO\n",
    "        recipe (name, minutes, submitted, description, n_ingredients)\n",
    "        VALUES(?, ?, ?, ?, ?)\n",
    "    ''',data\n",
    "    )\n",
    "con.commit()"
   ]
  },
  {
   "cell_type": "code",
   "execution_count": 10,
   "metadata": {},
   "outputs": [],
   "source": [
    "reviews = pd.read_csv('./data/reviews_sample.csv', sep=',')\n",
    "for i, row in reviews.iterrows():\n",
    "    data = row.loc[['user_id', 'recipe_id', 'date', 'rating', 'review']]\n",
    "    cur.execute(\n",
    "        '''\n",
    "        INSERT INTO review\n",
    "         (user_id, recipe_id, date, rating, review)\n",
    "        VALUES(?, ?, ?, ?, ?)\n",
    "    ''',\n",
    "        data,\n",
    "    )\n",
    "con.commit()"
   ]
  },
  {
   "cell_type": "markdown",
   "metadata": {},
   "source": [
    "5. Найдите все рецепты, для выполнения которых нужно ровно 10 ингредиентов. Выведите на экран первые 5 из найденных рецептов."
   ]
  },
  {
   "cell_type": "code",
   "execution_count": 11,
   "metadata": {},
   "outputs": [
    {
     "name": "stdout",
     "output_type": "stream",
     "text": [
      "(14, 'blepandekager   danish   apple pancakes', 50.0, '2013-07-08', \"this recipe has been posted here for play in zwt9 - scandinavia.  this recipe was found at website: mindspring.com - christian's danish recipes.\", 10)\n",
      "(22, 'kelly s creamy cheddar pea salad', 20.0, '2005-06-09', \"i'm not a big fan of peas, but like them in things. this salad is one of my favorites. happy to share!\", 10)\n",
      "(25, 'middle eastern   twice baked potatoes', 110.0, '2005-05-02', 'a delicious yet low-fat twice-baked potato side dish with a blend of classic middle eastern flavours: chickpeas, cumin and coriander.  serve with roasts or with your favourite middle eastern main course dish.  adapted from \"practical cookery: low fat\".  these potatoes could also be served on their own as a light vegetarian meal. in view of the comments by reviewers about the potatoes being a bit dry, i have added a tablespoon of tahini. i have also added some garlic. i\\'m not sure how the recipe escaped having garlic in it when i first posted it!', 10)\n",
      "(30, 'secret ingredient  bbq meatloaf', 75.0, '2008-12-09', 'i know what you might be thinking,\\'ho hum, another meatloaf recipe \" .well your right, but i think the secret ingredient sets this recipe apart from any other meatloaf in the \"zaar\"data base.please feel free to adjust any of the seasonings or veggies to suit your own personal tastes. submitted to \"zaar\" on december 9th,2008.', 10)\n",
      "(44, 'don t knock it until you try it  beet cake', 65.0, '2003-05-28', \"yes, this cake is made with beets! and you won't believe how great it is. i got the recipe from a friend who said it is the most requested cake in her family. even the kids want it for their birthday cake. i baked it for one of our family gatherings and now, i get lots of requests for it too. the batter looks red, but the red bakes out. i use an almond flavored frosting on it sometimes. other times i just serve it with homemade whipped cream.\", 10)\n"
     ]
    }
   ],
   "source": [
    "res = cur.execute('''\n",
    "SELECT *\n",
    "FROM recipe\n",
    "WHERE n_ingredients = 10\n",
    "''')\n",
    "for item in res.fetchmany(5):\n",
    "    print(item)"
   ]
  },
  {
   "cell_type": "markdown",
   "metadata": {},
   "source": [
    "6. Найдите название рецепта, для выполнения которого требуется больше всего времени."
   ]
  },
  {
   "cell_type": "code",
   "execution_count": 12,
   "metadata": {},
   "outputs": [
    {
     "name": "stdout",
     "output_type": "stream",
     "text": [
      "('blueberry liqueur',)\n"
     ]
    }
   ],
   "source": [
    "res = cur.execute('''\n",
    "SELECT name\n",
    "FROM recipe\n",
    "WHERE minutes = (\n",
    "    SELECT MAX(minutes)\n",
    "    FROM recipe\n",
    ")\n",
    "''')\n",
    "\n",
    "print(res.fetchone())"
   ]
  },
  {
   "cell_type": "markdown",
   "metadata": {},
   "source": [
    "7. Запросите у пользователя id рецепта и верните информацию об этом рецепте. Если рецепт отсуствует, выведите соответствующее сообщение."
   ]
  },
  {
   "cell_type": "code",
   "execution_count": null,
   "metadata": {},
   "outputs": [],
   "source": [
    "recipe_id = input(\"Введите id рецепта\")\n",
    "\n",
    "res = cur.execute('''\n",
    "SELECT name\n",
    "FROM recipe\n",
    "WHERE id = ?\n",
    "''', (recipe_id,))\n",
    "\n",
    "recipe = res.fetchone()\n",
    "print(recipe[0]) if recipe else print(\"Рецепт не был найден!\")"
   ]
  },
  {
   "cell_type": "markdown",
   "metadata": {},
   "source": [
    "8. Найдите кол-во отзывов с рейтингом 5."
   ]
  },
  {
   "cell_type": "code",
   "execution_count": null,
   "metadata": {},
   "outputs": [],
   "source": [
    "res = cur.execute('''\n",
    "SELECT COUNT(id)\n",
    "FROM review\n",
    "WHERE rating = 5\n",
    "''')\n",
    "\n",
    "print(res.fetchone()[0])"
   ]
  },
  {
   "cell_type": "markdown",
   "metadata": {},
   "source": [
    "9. Найдите кол-во уникальных рецептов, не имеющих отзывов с рейтингом, меньше 4. "
   ]
  },
  {
   "cell_type": "code",
   "execution_count": null,
   "metadata": {},
   "outputs": [],
   "source": [
    "res = cur.execute('''\n",
    "SELECT COUNT(*) OVER ()\n",
    "FROM recipe rec\n",
    "LEFT JOIN review rev\n",
    "ON rec.id = rev.recipe_id\n",
    "GROUP BY rec.id\n",
    "HAVING 0 = COUNT(rev.rating < 4)\n",
    "LIMIT 1\n",
    "''')\n",
    "\n",
    "print(res.fetchone()[0])"
   ]
  },
  {
   "cell_type": "markdown",
   "metadata": {},
   "source": [
    "10. Найдите кол-во рецептов, опубликованных в 2010 году и имеющих длину не менее 15 минут."
   ]
  },
  {
   "cell_type": "code",
   "execution_count": null,
   "metadata": {},
   "outputs": [],
   "source": [
    "res = cur.execute('''\n",
    "SELECT COUNT(id)\n",
    "FROM recipe\n",
    "WHERE submitted LIKE '2010%' AND minutes >= 15\n",
    "''')\n",
    "\n",
    "print(res.fetchone()[0])"
   ]
  },
  {
   "cell_type": "markdown",
   "metadata": {},
   "source": [
    "11. Выберите id рецепта, название рецепта, id пользователя, оставившего отзыв, дату отзыва и рейтинг для тех рецептов, которые имеют не менее 3 ингредиентов. Отсортируйте результат по id рецепта."
   ]
  },
  {
   "cell_type": "code",
   "execution_count": null,
   "metadata": {},
   "outputs": [],
   "source": [
    "res = cur.execute('''\n",
    "SELECT rec.id, rec.name, rev.user_id, rev.date, rev.rating\n",
    "FROM recipe rec\n",
    "LEFT JOIN review rev\n",
    "ON rec.id = rev.recipe_id\n",
    "WHERE rec.n_ingredients >= 3\n",
    "ORDER BY rec.id\n",
    "''')\n",
    "\n",
    "print(res.fetchall())"
   ]
  },
  {
   "cell_type": "code",
   "execution_count": null,
   "metadata": {},
   "outputs": [],
   "source": [
    "cur.close()\n",
    "con.close()\n"
   ]
  },
  {
   "cell_type": "code",
   "execution_count": null,
   "metadata": {},
   "outputs": [],
   "source": []
  }
 ],
 "metadata": {
  "kernelspec": {
   "display_name": "Python 3 (ipykernel)",
   "language": "python",
   "name": "python3"
  },
  "language_info": {
   "codemirror_mode": {
    "name": "ipython",
    "version": 3
   },
   "file_extension": ".py",
   "mimetype": "text/x-python",
   "name": "python",
   "nbconvert_exporter": "python",
   "pygments_lexer": "ipython3",
   "version": "3.9.7"
  }
 },
 "nbformat": 4,
 "nbformat_minor": 4
}

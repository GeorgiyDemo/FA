{
 "cells": [
  {
   "cell_type": "code",
   "execution_count": 1,
   "id": "0c3827a4",
   "metadata": {},
   "outputs": [],
   "source": [
    "import numpy as np"
   ]
  },
  {
   "cell_type": "code",
   "execution_count": 2,
   "id": "73877c8c",
   "metadata": {},
   "outputs": [],
   "source": [
    "import pandas as pd"
   ]
  },
  {
   "cell_type": "code",
   "execution_count": 3,
   "id": "6a195337",
   "metadata": {},
   "outputs": [
    {
     "data": {
      "text/html": [
       "<div>\n",
       "<style scoped>\n",
       "    .dataframe tbody tr th:only-of-type {\n",
       "        vertical-align: middle;\n",
       "    }\n",
       "\n",
       "    .dataframe tbody tr th {\n",
       "        vertical-align: top;\n",
       "    }\n",
       "\n",
       "    .dataframe thead th {\n",
       "        text-align: right;\n",
       "    }\n",
       "</style>\n",
       "<table border=\"1\" class=\"dataframe\">\n",
       "  <thead>\n",
       "    <tr style=\"text-align: right;\">\n",
       "      <th></th>\n",
       "      <th>y</th>\n",
       "      <th>x1</th>\n",
       "      <th>x2</th>\n",
       "      <th>x3</th>\n",
       "    </tr>\n",
       "  </thead>\n",
       "  <tbody>\n",
       "    <tr>\n",
       "      <th>1</th>\n",
       "      <td>106.492808</td>\n",
       "      <td>50.451171</td>\n",
       "      <td>27.866614</td>\n",
       "      <td>51.975582</td>\n",
       "    </tr>\n",
       "    <tr>\n",
       "      <th>2</th>\n",
       "      <td>104.794562</td>\n",
       "      <td>48.171496</td>\n",
       "      <td>26.020243</td>\n",
       "      <td>51.813055</td>\n",
       "    </tr>\n",
       "    <tr>\n",
       "      <th>3</th>\n",
       "      <td>104.180294</td>\n",
       "      <td>48.305067</td>\n",
       "      <td>25.642313</td>\n",
       "      <td>53.772739</td>\n",
       "    </tr>\n",
       "    <tr>\n",
       "      <th>4</th>\n",
       "      <td>106.041953</td>\n",
       "      <td>49.192154</td>\n",
       "      <td>26.444598</td>\n",
       "      <td>52.140332</td>\n",
       "    </tr>\n",
       "    <tr>\n",
       "      <th>5</th>\n",
       "      <td>106.168625</td>\n",
       "      <td>49.723453</td>\n",
       "      <td>27.965257</td>\n",
       "      <td>52.990834</td>\n",
       "    </tr>\n",
       "    <tr>\n",
       "      <th>...</th>\n",
       "      <td>...</td>\n",
       "      <td>...</td>\n",
       "      <td>...</td>\n",
       "      <td>...</td>\n",
       "    </tr>\n",
       "    <tr>\n",
       "      <th>296</th>\n",
       "      <td>104.958200</td>\n",
       "      <td>48.767419</td>\n",
       "      <td>26.189664</td>\n",
       "      <td>53.266383</td>\n",
       "    </tr>\n",
       "    <tr>\n",
       "      <th>297</th>\n",
       "      <td>104.930741</td>\n",
       "      <td>49.665983</td>\n",
       "      <td>28.591901</td>\n",
       "      <td>51.683172</td>\n",
       "    </tr>\n",
       "    <tr>\n",
       "      <th>298</th>\n",
       "      <td>104.160358</td>\n",
       "      <td>49.956601</td>\n",
       "      <td>29.210627</td>\n",
       "      <td>53.910949</td>\n",
       "    </tr>\n",
       "    <tr>\n",
       "      <th>299</th>\n",
       "      <td>104.627236</td>\n",
       "      <td>48.149669</td>\n",
       "      <td>26.781977</td>\n",
       "      <td>53.051627</td>\n",
       "    </tr>\n",
       "    <tr>\n",
       "      <th>300</th>\n",
       "      <td>104.735875</td>\n",
       "      <td>48.774167</td>\n",
       "      <td>26.429808</td>\n",
       "      <td>52.566992</td>\n",
       "    </tr>\n",
       "  </tbody>\n",
       "</table>\n",
       "<p>300 rows × 4 columns</p>\n",
       "</div>"
      ],
      "text/plain": [
       "              y         x1         x2         x3\n",
       "1    106.492808  50.451171  27.866614  51.975582\n",
       "2    104.794562  48.171496  26.020243  51.813055\n",
       "3    104.180294  48.305067  25.642313  53.772739\n",
       "4    106.041953  49.192154  26.444598  52.140332\n",
       "5    106.168625  49.723453  27.965257  52.990834\n",
       "..          ...        ...        ...        ...\n",
       "296  104.958200  48.767419  26.189664  53.266383\n",
       "297  104.930741  49.665983  28.591901  51.683172\n",
       "298  104.160358  49.956601  29.210627  53.910949\n",
       "299  104.627236  48.149669  26.781977  53.051627\n",
       "300  104.735875  48.774167  26.429808  52.566992\n",
       "\n",
       "[300 rows x 4 columns]"
      ]
     },
     "execution_count": 3,
     "metadata": {},
     "output_type": "execute_result"
    }
   ],
   "source": [
    "d = pd.read_csv('./Demenchuk.txt', sep = '\t', decimal = ',')\n",
    "d = d.astype('float')\n",
    "d"
   ]
  },
  {
   "cell_type": "code",
   "execution_count": 4,
   "id": "87bd1b74",
   "metadata": {},
   "outputs": [
    {
     "data": {
      "text/plain": [
       "y     float64\n",
       "x1    float64\n",
       "x2    float64\n",
       "x3    float64\n",
       "dtype: object"
      ]
     },
     "execution_count": 4,
     "metadata": {},
     "output_type": "execute_result"
    }
   ],
   "source": [
    "d.dtypes"
   ]
  },
  {
   "cell_type": "code",
   "execution_count": 5,
   "id": "891b64a2",
   "metadata": {},
   "outputs": [],
   "source": [
    "import statsmodels.formula.api as sm"
   ]
  },
  {
   "cell_type": "code",
   "execution_count": 6,
   "id": "3c224294",
   "metadata": {
    "scrolled": false
   },
   "outputs": [
    {
     "data": {
      "text/html": [
       "<table class=\"simpletable\">\n",
       "<caption>OLS Regression Results</caption>\n",
       "<tr>\n",
       "  <th>Dep. Variable:</th>            <td>y</td>        <th>  R-squared:         </th> <td>   0.749</td>\n",
       "</tr>\n",
       "<tr>\n",
       "  <th>Model:</th>                   <td>OLS</td>       <th>  Adj. R-squared:    </th> <td>   0.747</td>\n",
       "</tr>\n",
       "<tr>\n",
       "  <th>Method:</th>             <td>Least Squares</td>  <th>  F-statistic:       </th> <td>   294.5</td>\n",
       "</tr>\n",
       "<tr>\n",
       "  <th>Date:</th>             <td>Fri, 15 Oct 2021</td> <th>  Prob (F-statistic):</th> <td>1.62e-88</td>\n",
       "</tr>\n",
       "<tr>\n",
       "  <th>Time:</th>                 <td>14:51:05</td>     <th>  Log-Likelihood:    </th> <td> -207.33</td>\n",
       "</tr>\n",
       "<tr>\n",
       "  <th>No. Observations:</th>      <td>   300</td>      <th>  AIC:               </th> <td>   422.7</td>\n",
       "</tr>\n",
       "<tr>\n",
       "  <th>Df Residuals:</th>          <td>   296</td>      <th>  BIC:               </th> <td>   437.5</td>\n",
       "</tr>\n",
       "<tr>\n",
       "  <th>Df Model:</th>              <td>     3</td>      <th>                     </th>     <td> </td>   \n",
       "</tr>\n",
       "<tr>\n",
       "  <th>Covariance Type:</th>      <td>nonrobust</td>    <th>                     </th>     <td> </td>   \n",
       "</tr>\n",
       "</table>\n",
       "<table class=\"simpletable\">\n",
       "<tr>\n",
       "      <td></td>         <th>coef</th>     <th>std err</th>      <th>t</th>      <th>P>|t|</th>  <th>[0.025</th>    <th>0.975]</th>  \n",
       "</tr>\n",
       "<tr>\n",
       "  <th>Intercept</th> <td>   84.0773</td> <td>    3.195</td> <td>   26.316</td> <td> 0.000</td> <td>   77.790</td> <td>   90.365</td>\n",
       "</tr>\n",
       "<tr>\n",
       "  <th>x1</th>        <td>    0.8811</td> <td>    0.046</td> <td>   19.071</td> <td> 0.000</td> <td>    0.790</td> <td>    0.972</td>\n",
       "</tr>\n",
       "<tr>\n",
       "  <th>x2</th>        <td>   -0.2470</td> <td>    0.040</td> <td>   -6.199</td> <td> 0.000</td> <td>   -0.325</td> <td>   -0.169</td>\n",
       "</tr>\n",
       "<tr>\n",
       "  <th>x3</th>        <td>   -0.2939</td> <td>    0.036</td> <td>   -8.062</td> <td> 0.000</td> <td>   -0.366</td> <td>   -0.222</td>\n",
       "</tr>\n",
       "</table>\n",
       "<table class=\"simpletable\">\n",
       "<tr>\n",
       "  <th>Omnibus:</th>       <td> 0.180</td> <th>  Durbin-Watson:     </th> <td>   2.050</td>\n",
       "</tr>\n",
       "<tr>\n",
       "  <th>Prob(Omnibus):</th> <td> 0.914</td> <th>  Jarque-Bera (JB):  </th> <td>   0.151</td>\n",
       "</tr>\n",
       "<tr>\n",
       "  <th>Skew:</th>          <td> 0.055</td> <th>  Prob(JB):          </th> <td>   0.927</td>\n",
       "</tr>\n",
       "<tr>\n",
       "  <th>Kurtosis:</th>      <td> 2.988</td> <th>  Cond. No.          </th> <td>8.77e+03</td>\n",
       "</tr>\n",
       "</table><br/><br/>Notes:<br/>[1] Standard Errors assume that the covariance matrix of the errors is correctly specified.<br/>[2] The condition number is large, 8.77e+03. This might indicate that there are<br/>strong multicollinearity or other numerical problems."
      ],
      "text/plain": [
       "<class 'statsmodels.iolib.summary.Summary'>\n",
       "\"\"\"\n",
       "                            OLS Regression Results                            \n",
       "==============================================================================\n",
       "Dep. Variable:                      y   R-squared:                       0.749\n",
       "Model:                            OLS   Adj. R-squared:                  0.747\n",
       "Method:                 Least Squares   F-statistic:                     294.5\n",
       "Date:                Fri, 15 Oct 2021   Prob (F-statistic):           1.62e-88\n",
       "Time:                        14:51:05   Log-Likelihood:                -207.33\n",
       "No. Observations:                 300   AIC:                             422.7\n",
       "Df Residuals:                     296   BIC:                             437.5\n",
       "Df Model:                           3                                         \n",
       "Covariance Type:            nonrobust                                         \n",
       "==============================================================================\n",
       "                 coef    std err          t      P>|t|      [0.025      0.975]\n",
       "------------------------------------------------------------------------------\n",
       "Intercept     84.0773      3.195     26.316      0.000      77.790      90.365\n",
       "x1             0.8811      0.046     19.071      0.000       0.790       0.972\n",
       "x2            -0.2470      0.040     -6.199      0.000      -0.325      -0.169\n",
       "x3            -0.2939      0.036     -8.062      0.000      -0.366      -0.222\n",
       "==============================================================================\n",
       "Omnibus:                        0.180   Durbin-Watson:                   2.050\n",
       "Prob(Omnibus):                  0.914   Jarque-Bera (JB):                0.151\n",
       "Skew:                           0.055   Prob(JB):                        0.927\n",
       "Kurtosis:                       2.988   Cond. No.                     8.77e+03\n",
       "==============================================================================\n",
       "\n",
       "Notes:\n",
       "[1] Standard Errors assume that the covariance matrix of the errors is correctly specified.\n",
       "[2] The condition number is large, 8.77e+03. This might indicate that there are\n",
       "strong multicollinearity or other numerical problems.\n",
       "\"\"\""
      ]
     },
     "execution_count": 6,
     "metadata": {},
     "output_type": "execute_result"
    }
   ],
   "source": [
    "m = sm.ols(formula=\"y ~ x1 + x2 + x3\", data=d)\n",
    "results = m.fit()\n",
    "s = results.summary()\n",
    "s"
   ]
  },
  {
   "cell_type": "code",
   "execution_count": 7,
   "id": "c07a638c",
   "metadata": {},
   "outputs": [],
   "source": [
    "import statsmodels.stats as smd\n",
    "\n",
    "import statsmodels.stats.api as sms\n",
    "#чтобы делать тесты\n",
    "\n",
    "from statsmodels.compat import lzip\n",
    "#чтобы делать подписи"
   ]
  },
  {
   "cell_type": "code",
   "execution_count": 8,
   "id": "2f96cf62",
   "metadata": {},
   "outputs": [
    {
     "data": {
      "text/plain": [
       "[('Chisq statistic', 0.2025085366267665),\n",
       " ('p-value', 0.6527036013644745),\n",
       " ('F statistic', 0.19926790585624332),\n",
       " ('p-value(F)', 0.6556399160818105)]"
      ]
     },
     "execution_count": 8,
     "metadata": {},
     "output_type": "execute_result"
    }
   ],
   "source": [
    "residuals = results.resid\n",
    "\n",
    "#DWtest\n",
    "dw = smd.stattools.durbin_watson(residuals)\n",
    "dw\n",
    "\n",
    "#BGtest\n",
    "smd.diagnostic.acorr_breusch_godfrey(results)\n",
    "#или\n",
    "name=['Chisq statistic','p-value', 'F statistic','p-value(F)']\n",
    "bg=sms.acorr_breusch_godfrey(results,nlags=1)\n",
    "lzip(name,bg)"
   ]
  },
  {
   "cell_type": "code",
   "execution_count": 9,
   "id": "53ea095b",
   "metadata": {},
   "outputs": [
    {
     "data": {
      "text/plain": [
       "(1.2171191583825145, 0.11818700246350568, 'increasing')"
      ]
     },
     "execution_count": 9,
     "metadata": {},
     "output_type": "execute_result"
    }
   ],
   "source": [
    "#GQtest\n",
    "name=['F statistic','p-value']\n",
    "gq=sms.het_goldfeldquandt(residuals,results.model.exog)\n",
    "lzip(name,gq)\n",
    "#или GQtest\n",
    "gq=sms.het_goldfeldquandt(residuals,results.model.exog)\n",
    "gq\n"
   ]
  },
  {
   "cell_type": "code",
   "execution_count": 10,
   "id": "01ab79f4",
   "metadata": {},
   "outputs": [
    {
     "data": {
      "text/plain": [
       "[('BP', 1.5881276011877277), ('p-value', 0.6620847927391107)]"
      ]
     },
     "execution_count": 10,
     "metadata": {},
     "output_type": "execute_result"
    }
   ],
   "source": [
    "#BPtest\n",
    "name=['BP','p-value']\n",
    "bp=sms.het_breuschpagan(residuals,results.model.exog)\n",
    "lzip(name,bp)\n"
   ]
  },
  {
   "cell_type": "code",
   "execution_count": 11,
   "id": "9e3fb6d0",
   "metadata": {},
   "outputs": [
    {
     "data": {
      "text/plain": [
       "[('WT', 4.253993560098945), ('p-value', 0.8939141183615693)]"
      ]
     },
     "execution_count": 11,
     "metadata": {},
     "output_type": "execute_result"
    }
   ],
   "source": [
    "#White_test\n",
    "name=['WT','p-value']\n",
    "wt=sms.het_white(residuals,results.model.exog)\n",
    "lzip(name,wt)"
   ]
  },
  {
   "cell_type": "code",
   "execution_count": 12,
   "id": "13e2db45",
   "metadata": {},
   "outputs": [
    {
     "name": "stderr",
     "output_type": "stream",
     "text": [
      "/opt/homebrew/lib/python3.9/site-packages/statsmodels-0.14.0.dev0-py3.9-macosx-11-arm64.egg/statsmodels/stats/sandwich_covariance.py:169: FutureWarning: Support for multi-dimensional indexing (e.g. `obj[:, None]`) is deprecated and will be removed in a future version.  Convert to a numpy array before indexing instead.\n",
      "  scale[:,None]*results.model.pinv_wexog.T)\n"
     ]
    },
    {
     "data": {
      "text/plain": [
       "array([[ 9.90912476e+00, -1.18099271e-01,  3.79671330e-02,\n",
       "        -9.73155068e-02],\n",
       "       [-1.18099271e-01,  2.19401838e-03, -1.32875533e-03,\n",
       "         8.79204058e-04],\n",
       "       [ 3.79671330e-02, -1.32875533e-03,  1.81853671e-03,\n",
       "        -4.16319401e-04],\n",
       "       [-9.73155068e-02,  8.79204058e-04, -4.16319401e-04,\n",
       "         1.23812276e-03]])"
      ]
     },
     "execution_count": 12,
     "metadata": {},
     "output_type": "execute_result"
    }
   ],
   "source": [
    "#HC\n",
    "smd.sandwich_covariance.cov_hc3(results)\n",
    "#или\n",
    "results.cov_HC3\n"
   ]
  },
  {
   "cell_type": "code",
   "execution_count": 13,
   "id": "92219b1b",
   "metadata": {},
   "outputs": [
    {
     "data": {
      "text/plain": [
       "array([[ 9.62889145e+00, -9.02089650e-02, -8.79109045e-03,\n",
       "        -9.39035322e-02],\n",
       "       [-9.02089650e-02,  1.87712058e-03, -1.04553960e-03,\n",
       "         5.00309436e-04],\n",
       "       [-8.79109045e-03, -1.04553960e-03,  1.86714681e-03,\n",
       "         1.82169641e-04],\n",
       "       [-9.39035322e-02,  5.00309436e-04,  1.82169641e-04,\n",
       "         1.21725111e-03]])"
      ]
     },
     "execution_count": 13,
     "metadata": {},
     "output_type": "execute_result"
    }
   ],
   "source": [
    "#HAC\n",
    "smd.sandwich_covariance.cov_hac(results)\n"
   ]
  },
  {
   "cell_type": "code",
   "execution_count": null,
   "id": "5e047204",
   "metadata": {},
   "outputs": [],
   "source": []
  },
  {
   "cell_type": "code",
   "execution_count": null,
   "id": "8e2c52a5",
   "metadata": {},
   "outputs": [],
   "source": []
  },
  {
   "cell_type": "code",
   "execution_count": null,
   "id": "8ca2eddc",
   "metadata": {},
   "outputs": [],
   "source": []
  },
  {
   "cell_type": "code",
   "execution_count": null,
   "id": "6ae5973c",
   "metadata": {},
   "outputs": [],
   "source": []
  },
  {
   "cell_type": "code",
   "execution_count": null,
   "id": "a57daa8d",
   "metadata": {},
   "outputs": [],
   "source": []
  }
 ],
 "metadata": {
  "kernelspec": {
   "display_name": "Python 3 (ipykernel)",
   "language": "python",
   "name": "python3"
  },
  "language_info": {
   "codemirror_mode": {
    "name": "ipython",
    "version": 3
   },
   "file_extension": ".py",
   "mimetype": "text/x-python",
   "name": "python",
   "nbconvert_exporter": "python",
   "pygments_lexer": "ipython3",
   "version": "3.9.7"
  }
 },
 "nbformat": 4,
 "nbformat_minor": 5
}

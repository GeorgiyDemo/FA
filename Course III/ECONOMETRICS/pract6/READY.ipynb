{
 "cells": [
  {
   "cell_type": "code",
   "execution_count": 1,
   "id": "0c3827a4",
   "metadata": {},
   "outputs": [],
   "source": [
    "import numpy as np"
   ]
  },
  {
   "cell_type": "code",
   "execution_count": 2,
   "id": "73877c8c",
   "metadata": {},
   "outputs": [],
   "source": [
    "import pandas as pd"
   ]
  },
  {
   "cell_type": "code",
   "execution_count": 3,
   "id": "6a195337",
   "metadata": {},
   "outputs": [
    {
     "data": {
      "text/html": [
       "<div>\n",
       "<style scoped>\n",
       "    .dataframe tbody tr th:only-of-type {\n",
       "        vertical-align: middle;\n",
       "    }\n",
       "\n",
       "    .dataframe tbody tr th {\n",
       "        vertical-align: top;\n",
       "    }\n",
       "\n",
       "    .dataframe thead th {\n",
       "        text-align: right;\n",
       "    }\n",
       "</style>\n",
       "<table border=\"1\" class=\"dataframe\">\n",
       "  <thead>\n",
       "    <tr style=\"text-align: right;\">\n",
       "      <th></th>\n",
       "      <th>y</th>\n",
       "      <th>x1</th>\n",
       "      <th>x2</th>\n",
       "      <th>x3</th>\n",
       "    </tr>\n",
       "  </thead>\n",
       "  <tbody>\n",
       "    <tr>\n",
       "      <th>1</th>\n",
       "      <td>106.492808</td>\n",
       "      <td>50.451171</td>\n",
       "      <td>27.866614</td>\n",
       "      <td>51.975582</td>\n",
       "    </tr>\n",
       "    <tr>\n",
       "      <th>2</th>\n",
       "      <td>104.794562</td>\n",
       "      <td>48.171496</td>\n",
       "      <td>26.020243</td>\n",
       "      <td>51.813055</td>\n",
       "    </tr>\n",
       "    <tr>\n",
       "      <th>3</th>\n",
       "      <td>104.180294</td>\n",
       "      <td>48.305067</td>\n",
       "      <td>25.642313</td>\n",
       "      <td>53.772739</td>\n",
       "    </tr>\n",
       "    <tr>\n",
       "      <th>4</th>\n",
       "      <td>106.041953</td>\n",
       "      <td>49.192154</td>\n",
       "      <td>26.444598</td>\n",
       "      <td>52.140332</td>\n",
       "    </tr>\n",
       "    <tr>\n",
       "      <th>5</th>\n",
       "      <td>106.168625</td>\n",
       "      <td>49.723453</td>\n",
       "      <td>27.965257</td>\n",
       "      <td>52.990834</td>\n",
       "    </tr>\n",
       "    <tr>\n",
       "      <th>...</th>\n",
       "      <td>...</td>\n",
       "      <td>...</td>\n",
       "      <td>...</td>\n",
       "      <td>...</td>\n",
       "    </tr>\n",
       "    <tr>\n",
       "      <th>296</th>\n",
       "      <td>104.958200</td>\n",
       "      <td>48.767419</td>\n",
       "      <td>26.189664</td>\n",
       "      <td>53.266383</td>\n",
       "    </tr>\n",
       "    <tr>\n",
       "      <th>297</th>\n",
       "      <td>104.930741</td>\n",
       "      <td>49.665983</td>\n",
       "      <td>28.591901</td>\n",
       "      <td>51.683172</td>\n",
       "    </tr>\n",
       "    <tr>\n",
       "      <th>298</th>\n",
       "      <td>104.160358</td>\n",
       "      <td>49.956601</td>\n",
       "      <td>29.210627</td>\n",
       "      <td>53.910949</td>\n",
       "    </tr>\n",
       "    <tr>\n",
       "      <th>299</th>\n",
       "      <td>104.627236</td>\n",
       "      <td>48.149669</td>\n",
       "      <td>26.781977</td>\n",
       "      <td>53.051627</td>\n",
       "    </tr>\n",
       "    <tr>\n",
       "      <th>300</th>\n",
       "      <td>104.735875</td>\n",
       "      <td>48.774167</td>\n",
       "      <td>26.429808</td>\n",
       "      <td>52.566992</td>\n",
       "    </tr>\n",
       "  </tbody>\n",
       "</table>\n",
       "<p>300 rows × 4 columns</p>\n",
       "</div>"
      ],
      "text/plain": [
       "              y         x1         x2         x3\n",
       "1    106.492808  50.451171  27.866614  51.975582\n",
       "2    104.794562  48.171496  26.020243  51.813055\n",
       "3    104.180294  48.305067  25.642313  53.772739\n",
       "4    106.041953  49.192154  26.444598  52.140332\n",
       "5    106.168625  49.723453  27.965257  52.990834\n",
       "..          ...        ...        ...        ...\n",
       "296  104.958200  48.767419  26.189664  53.266383\n",
       "297  104.930741  49.665983  28.591901  51.683172\n",
       "298  104.160358  49.956601  29.210627  53.910949\n",
       "299  104.627236  48.149669  26.781977  53.051627\n",
       "300  104.735875  48.774167  26.429808  52.566992\n",
       "\n",
       "[300 rows x 4 columns]"
      ]
     },
     "execution_count": 3,
     "metadata": {},
     "output_type": "execute_result"
    }
   ],
   "source": [
    "d = pd.read_csv('./Demenchuk.txt', sep = '\t', decimal = ',')\n",
    "d = d.astype('float')\n",
    "y = d[\"y\"]\n",
    "x1 = d[\"x1\"]\n",
    "x2 = d[\"x2\"]\n",
    "x3 = d[\"x3\"]\n",
    "d"
   ]
  },
  {
   "cell_type": "code",
   "execution_count": 4,
   "id": "87bd1b74",
   "metadata": {},
   "outputs": [
    {
     "data": {
      "text/plain": [
       "y     float64\n",
       "x1    float64\n",
       "x2    float64\n",
       "x3    float64\n",
       "dtype: object"
      ]
     },
     "execution_count": 4,
     "metadata": {},
     "output_type": "execute_result"
    }
   ],
   "source": [
    "d.dtypes"
   ]
  },
  {
   "cell_type": "markdown",
   "id": "6cc55758",
   "metadata": {},
   "source": [
    "# Отбираем x для парной модели"
   ]
  },
  {
   "cell_type": "code",
   "execution_count": 5,
   "id": "29d028f8",
   "metadata": {},
   "outputs": [],
   "source": [
    "from matplotlib import pyplot as plt\n",
    "import numpy as np"
   ]
  },
  {
   "cell_type": "markdown",
   "id": "057fd5e0",
   "metadata": {},
   "source": [
    "### y и x1"
   ]
  },
  {
   "cell_type": "code",
   "execution_count": 6,
   "id": "decb8fec",
   "metadata": {},
   "outputs": [
    {
     "data": {
      "image/png": "[encoded data removed]",
      "text/plain": [
       "<Figure size 432x288 with 1 Axes>"
      ]
     },
     "metadata": {
      "needs_background": "light"
     },
     "output_type": "display_data"
    }
   ],
   "source": [
    "xs = d[\"x1\"]\n",
    "ys = d[\"y\"].apply( np.log )\n",
    "pd.DataFrame(np.array([xs,ys]).T).plot.scatter(0, 1, s=12, grid=True)\n",
    "plt.xlabel('x1')\n",
    "plt.ylabel('y')\n",
    "plt.show()"
   ]
  },
  {
   "cell_type": "code",
   "execution_count": 7,
   "id": "7b6e02e4",
   "metadata": {},
   "outputs": [
    {
     "data": {
      "text/plain": [
       "0.7943230594541699"
      ]
     },
     "execution_count": 7,
     "metadata": {},
     "output_type": "execute_result"
    }
   ],
   "source": [
    "x1_corr = np.corrcoef(d[\"x1\"], d[\"y\"])[0, 1]\n",
    "x1_corr"
   ]
  },
  {
   "cell_type": "markdown",
   "id": "088913a4",
   "metadata": {},
   "source": [
    "### y и x2"
   ]
  },
  {
   "cell_type": "code",
   "execution_count": 8,
   "id": "8673831c",
   "metadata": {},
   "outputs": [
    {
     "data": {
      "image/png": "[encoded data removed]",
      "text/plain": [
       "<Figure size 432x288 with 1 Axes>"
      ]
     },
     "metadata": {
      "needs_background": "light"
     },
     "output_type": "display_data"
    }
   ],
   "source": [
    "xs = d[\"x2\"]\n",
    "ys = d[\"y\"].apply( np.log )\n",
    "pd.DataFrame(np.array([xs,ys]).T).plot.scatter(0, 1, s=12, grid=True)\n",
    "plt.xlabel('x2')\n",
    "plt.ylabel('y')\n",
    "plt.show()"
   ]
  },
  {
   "cell_type": "code",
   "execution_count": 9,
   "id": "55c102c3",
   "metadata": {},
   "outputs": [
    {
     "data": {
      "text/plain": [
       "0.2891332943836466"
      ]
     },
     "execution_count": 9,
     "metadata": {},
     "output_type": "execute_result"
    }
   ],
   "source": [
    "x2_corr = np.corrcoef(d[\"x2\"], d[\"y\"])[0, 1]\n",
    "x2_corr"
   ]
  },
  {
   "cell_type": "markdown",
   "id": "3a0d4dbe",
   "metadata": {},
   "source": [
    "### y и x3"
   ]
  },
  {
   "cell_type": "code",
   "execution_count": 10,
   "id": "eac754cc",
   "metadata": {},
   "outputs": [
    {
     "data": {
      "image/png": "[encoded data removed]",
      "text/plain": [
       "<Figure size 432x288 with 1 Axes>"
      ]
     },
     "metadata": {
      "needs_background": "light"
     },
     "output_type": "display_data"
    }
   ],
   "source": [
    "xs = d[\"x3\"]\n",
    "ys = d[\"y\"].apply( np.log )\n",
    "pd.DataFrame(np.array([xs,ys]).T).plot.scatter(0, 1, s=12, grid=True)\n",
    "plt.xlabel('x3')\n",
    "plt.ylabel('y')\n",
    "plt.show()"
   ]
  },
  {
   "cell_type": "code",
   "execution_count": 11,
   "id": "527e0e77",
   "metadata": {},
   "outputs": [
    {
     "data": {
      "text/plain": [
       "-0.6223541867469227"
      ]
     },
     "execution_count": 11,
     "metadata": {},
     "output_type": "execute_result"
    }
   ],
   "source": [
    "x3_corr = np.corrcoef(d[\"x3\"], d[\"y\"])[0, 1]\n",
    "x3_corr"
   ]
  },
  {
   "cell_type": "code",
   "execution_count": 12,
   "id": "1c4868cc",
   "metadata": {},
   "outputs": [
    {
     "name": "stdout",
     "output_type": "stream",
     "text": [
      "0.7943230594541699\n",
      "0.2891332943836466\n",
      "-0.6223541867469227\n"
     ]
    }
   ],
   "source": [
    "print(f\"{x1_corr}\\n{x2_corr}\\n{x3_corr}\")"
   ]
  },
  {
   "cell_type": "markdown",
   "id": "f41a03fa",
   "metadata": {},
   "source": [
    "**Вывод**<br>Наиболее сильная зависимость видна между y и x1. Ее же и берем для построения парной регрессии"
   ]
  },
  {
   "cell_type": "code",
   "execution_count": 13,
   "id": "06b8d2f8",
   "metadata": {},
   "outputs": [],
   "source": [
    "import statsmodels.formula.api as sm"
   ]
  },
  {
   "cell_type": "markdown",
   "id": "db049d4d",
   "metadata": {},
   "source": [
    "# Строим парную модель"
   ]
  },
  {
   "cell_type": "code",
   "execution_count": 14,
   "id": "15d2f275",
   "metadata": {},
   "outputs": [
    {
     "data": {
      "text/html": [
       "<table class=\"simpletable\">\n",
       "<caption>OLS Regression Results</caption>\n",
       "<tr>\n",
       "  <th>Dep. Variable:</th>            <td>y</td>        <th>  R-squared:         </th> <td>   0.631</td>\n",
       "</tr>\n",
       "<tr>\n",
       "  <th>Model:</th>                   <td>OLS</td>       <th>  Adj. R-squared:    </th> <td>   0.630</td>\n",
       "</tr>\n",
       "<tr>\n",
       "  <th>Method:</th>             <td>Least Squares</td>  <th>  F-statistic:       </th> <td>   509.5</td>\n",
       "</tr>\n",
       "<tr>\n",
       "  <th>Date:</th>             <td>Sat, 16 Oct 2021</td> <th>  Prob (F-statistic):</th> <td>1.82e-66</td>\n",
       "</tr>\n",
       "<tr>\n",
       "  <th>Time:</th>                 <td>22:05:08</td>     <th>  Log-Likelihood:    </th> <td> -265.20</td>\n",
       "</tr>\n",
       "<tr>\n",
       "  <th>No. Observations:</th>      <td>   300</td>      <th>  AIC:               </th> <td>   534.4</td>\n",
       "</tr>\n",
       "<tr>\n",
       "  <th>Df Residuals:</th>          <td>   298</td>      <th>  BIC:               </th> <td>   541.8</td>\n",
       "</tr>\n",
       "<tr>\n",
       "  <th>Df Model:</th>              <td>     1</td>      <th>                     </th>     <td> </td>   \n",
       "</tr>\n",
       "<tr>\n",
       "  <th>Covariance Type:</th>      <td>nonrobust</td>    <th>                     </th>     <td> </td>   \n",
       "</tr>\n",
       "</table>\n",
       "<table class=\"simpletable\">\n",
       "<tr>\n",
       "      <td></td>         <th>coef</th>     <th>std err</th>      <th>t</th>      <th>P>|t|</th>  <th>[0.025</th>    <th>0.975]</th>  \n",
       "</tr>\n",
       "<tr>\n",
       "  <th>Intercept</th> <td>   62.9454</td> <td>    1.867</td> <td>   33.721</td> <td> 0.000</td> <td>   59.272</td> <td>   66.619</td>\n",
       "</tr>\n",
       "<tr>\n",
       "  <th>x1</th>        <td>    0.8586</td> <td>    0.038</td> <td>   22.572</td> <td> 0.000</td> <td>    0.784</td> <td>    0.933</td>\n",
       "</tr>\n",
       "</table>\n",
       "<table class=\"simpletable\">\n",
       "<tr>\n",
       "  <th>Omnibus:</th>       <td> 0.100</td> <th>  Durbin-Watson:     </th> <td>   1.906</td>\n",
       "</tr>\n",
       "<tr>\n",
       "  <th>Prob(Omnibus):</th> <td> 0.951</td> <th>  Jarque-Bera (JB):  </th> <td>   0.043</td>\n",
       "</tr>\n",
       "<tr>\n",
       "  <th>Skew:</th>          <td>-0.029</td> <th>  Prob(JB):          </th> <td>   0.979</td>\n",
       "</tr>\n",
       "<tr>\n",
       "  <th>Kurtosis:</th>      <td> 3.011</td> <th>  Cond. No.          </th> <td>2.70e+03</td>\n",
       "</tr>\n",
       "</table><br/><br/>Notes:<br/>[1] Standard Errors assume that the covariance matrix of the errors is correctly specified.<br/>[2] The condition number is large, 2.7e+03. This might indicate that there are<br/>strong multicollinearity or other numerical problems."
      ],
      "text/plain": [
       "<class 'statsmodels.iolib.summary.Summary'>\n",
       "\"\"\"\n",
       "                            OLS Regression Results                            \n",
       "==============================================================================\n",
       "Dep. Variable:                      y   R-squared:                       0.631\n",
       "Model:                            OLS   Adj. R-squared:                  0.630\n",
       "Method:                 Least Squares   F-statistic:                     509.5\n",
       "Date:                Sat, 16 Oct 2021   Prob (F-statistic):           1.82e-66\n",
       "Time:                        22:05:08   Log-Likelihood:                -265.20\n",
       "No. Observations:                 300   AIC:                             534.4\n",
       "Df Residuals:                     298   BIC:                             541.8\n",
       "Df Model:                           1                                         \n",
       "Covariance Type:            nonrobust                                         \n",
       "==============================================================================\n",
       "                 coef    std err          t      P>|t|      [0.025      0.975]\n",
       "------------------------------------------------------------------------------\n",
       "Intercept     62.9454      1.867     33.721      0.000      59.272      66.619\n",
       "x1             0.8586      0.038     22.572      0.000       0.784       0.933\n",
       "==============================================================================\n",
       "Omnibus:                        0.100   Durbin-Watson:                   1.906\n",
       "Prob(Omnibus):                  0.951   Jarque-Bera (JB):                0.043\n",
       "Skew:                          -0.029   Prob(JB):                        0.979\n",
       "Kurtosis:                       3.011   Cond. No.                     2.70e+03\n",
       "==============================================================================\n",
       "\n",
       "Notes:\n",
       "[1] Standard Errors assume that the covariance matrix of the errors is correctly specified.\n",
       "[2] The condition number is large, 2.7e+03. This might indicate that there are\n",
       "strong multicollinearity or other numerical problems.\n",
       "\"\"\""
      ]
     },
     "execution_count": 14,
     "metadata": {},
     "output_type": "execute_result"
    }
   ],
   "source": [
    "m_pair = sm.ols(formula=\"y ~ x1\", data=d)\n",
    "results_pair = m_pair.fit()\n",
    "s_pair = results_pair.summary()\n",
    "\n",
    "df_pair = pd.read_html(s_pair.tables[1].as_html(),header=0,index_col=0)[0]\n",
    "s_pair"
   ]
  },
  {
   "cell_type": "code",
   "execution_count": 15,
   "id": "f85bd7b5",
   "metadata": {
    "scrolled": true
   },
   "outputs": [
    {
     "data": {
      "text/html": [
       "<div>\n",
       "<style scoped>\n",
       "    .dataframe tbody tr th:only-of-type {\n",
       "        vertical-align: middle;\n",
       "    }\n",
       "\n",
       "    .dataframe tbody tr th {\n",
       "        vertical-align: top;\n",
       "    }\n",
       "\n",
       "    .dataframe thead th {\n",
       "        text-align: right;\n",
       "    }\n",
       "</style>\n",
       "<table border=\"1\" class=\"dataframe\">\n",
       "  <thead>\n",
       "    <tr style=\"text-align: right;\">\n",
       "      <th></th>\n",
       "      <th>coef</th>\n",
       "      <th>std err</th>\n",
       "      <th>t</th>\n",
       "      <th>P&gt;|t|</th>\n",
       "      <th>[0.025</th>\n",
       "      <th>0.975]</th>\n",
       "    </tr>\n",
       "  </thead>\n",
       "  <tbody>\n",
       "    <tr>\n",
       "      <th>Intercept</th>\n",
       "      <td>62.9454</td>\n",
       "      <td>1.867</td>\n",
       "      <td>33.721</td>\n",
       "      <td>0.0</td>\n",
       "      <td>59.272</td>\n",
       "      <td>66.619</td>\n",
       "    </tr>\n",
       "    <tr>\n",
       "      <th>x1</th>\n",
       "      <td>0.8586</td>\n",
       "      <td>0.038</td>\n",
       "      <td>22.572</td>\n",
       "      <td>0.0</td>\n",
       "      <td>0.784</td>\n",
       "      <td>0.933</td>\n",
       "    </tr>\n",
       "  </tbody>\n",
       "</table>\n",
       "</div>"
      ],
      "text/plain": [
       "              coef  std err       t  P>|t|  [0.025  0.975]\n",
       "Intercept  62.9454    1.867  33.721    0.0  59.272  66.619\n",
       "x1          0.8586    0.038  22.572    0.0   0.784   0.933"
      ]
     },
     "execution_count": 15,
     "metadata": {},
     "output_type": "execute_result"
    }
   ],
   "source": [
    "df_pair"
   ]
  },
  {
   "cell_type": "code",
   "execution_count": 16,
   "id": "d5206801",
   "metadata": {},
   "outputs": [],
   "source": [
    "f_df_pair = pd.read_html(s_pair.tables[0].as_html(),header=0,index_col=0)[0]\n"
   ]
  },
  {
   "cell_type": "markdown",
   "id": "e262572f",
   "metadata": {},
   "source": [
    "### Доверительные интервалы"
   ]
  },
  {
   "cell_type": "code",
   "execution_count": 17,
   "id": "86b3e3c5",
   "metadata": {},
   "outputs": [
    {
     "data": {
      "text/html": [
       "<div>\n",
       "<style scoped>\n",
       "    .dataframe tbody tr th:only-of-type {\n",
       "        vertical-align: middle;\n",
       "    }\n",
       "\n",
       "    .dataframe tbody tr th {\n",
       "        vertical-align: top;\n",
       "    }\n",
       "\n",
       "    .dataframe thead th {\n",
       "        text-align: right;\n",
       "    }\n",
       "</style>\n",
       "<table border=\"1\" class=\"dataframe\">\n",
       "  <thead>\n",
       "    <tr style=\"text-align: right;\">\n",
       "      <th></th>\n",
       "      <th>0</th>\n",
       "      <th>1</th>\n",
       "    </tr>\n",
       "  </thead>\n",
       "  <tbody>\n",
       "    <tr>\n",
       "      <th>Intercept</th>\n",
       "      <td>59.271896</td>\n",
       "      <td>66.618908</td>\n",
       "    </tr>\n",
       "    <tr>\n",
       "      <th>x1</th>\n",
       "      <td>0.783745</td>\n",
       "      <td>0.933464</td>\n",
       "    </tr>\n",
       "  </tbody>\n",
       "</table>\n",
       "</div>"
      ],
      "text/plain": [
       "                   0          1\n",
       "Intercept  59.271896  66.618908\n",
       "x1          0.783745   0.933464"
      ]
     },
     "execution_count": 17,
     "metadata": {},
     "output_type": "execute_result"
    }
   ],
   "source": [
    "results_pair.conf_int(0.05)"
   ]
  },
  {
   "cell_type": "markdown",
   "id": "45fa3bde",
   "metadata": {},
   "source": [
    "### Коэфф детерминации R^2"
   ]
  },
  {
   "cell_type": "code",
   "execution_count": 18,
   "id": "4e0969a8",
   "metadata": {},
   "outputs": [],
   "source": [
    "pred_val0 = results_pair.fittedvalues.copy()\n",
    "true_val0 = d[\"y\"]\n",
    "e0 = true_val0 - pred_val0"
   ]
  },
  {
   "cell_type": "code",
   "execution_count": 19,
   "id": "e42725be",
   "metadata": {},
   "outputs": [
    {
     "name": "stdout",
     "output_type": "stream",
     "text": [
      "0.630949122780633\n",
      "0.6309491227806332\n"
     ]
    }
   ],
   "source": [
    "from sklearn.metrics import r2_score\n",
    "print(r2_score(true_val0,pred_val0))\n",
    "print(results_pair.rsquared)"
   ]
  },
  {
   "cell_type": "markdown",
   "id": "c6749b94",
   "metadata": {},
   "source": [
    "### Коэфф аппроксимации"
   ]
  },
  {
   "cell_type": "code",
   "execution_count": 20,
   "id": "11d55927",
   "metadata": {},
   "outputs": [
    {
     "name": "stdout",
     "output_type": "stream",
     "text": [
      "0.44519764467181083\n"
     ]
    }
   ],
   "source": [
    "A_pair = (1/len(x1))*sum(abs(e0/y))*100\n",
    "print(A_pair)"
   ]
  },
  {
   "cell_type": "markdown",
   "id": "ebde6628",
   "metadata": {},
   "source": [
    "### Стандартная ошибка"
   ]
  },
  {
   "cell_type": "code",
   "execution_count": 21,
   "id": "6be20564",
   "metadata": {},
   "outputs": [
    {
     "data": {
      "text/plain": [
       "Intercept    1.746932\n",
       "x1           0.035618\n",
       "dtype: float64"
      ]
     },
     "execution_count": 21,
     "metadata": {},
     "output_type": "execute_result"
    }
   ],
   "source": [
    "results_pair.HC0_se"
   ]
  },
  {
   "cell_type": "markdown",
   "id": "bcec36c2",
   "metadata": {},
   "source": [
    "### Средняя ошибка модели"
   ]
  },
  {
   "cell_type": "code",
   "execution_count": 22,
   "id": "f8e6953f",
   "metadata": {},
   "outputs": [
    {
     "name": "stdout",
     "output_type": "stream",
     "text": [
      "0.5876653195497306\n"
     ]
    }
   ],
   "source": [
    "print(np.sqrt(results_pair.scale))"
   ]
  },
  {
   "cell_type": "markdown",
   "id": "8449d8f7",
   "metadata": {},
   "source": [
    "### Средняя относительная ошибка аппроксимации"
   ]
  },
  {
   "cell_type": "code",
   "execution_count": 23,
   "id": "6de15459",
   "metadata": {},
   "outputs": [
    {
     "data": {
      "text/plain": [
       "1.483828069574788e-05"
      ]
     },
     "execution_count": 23,
     "metadata": {},
     "output_type": "execute_result"
    }
   ],
   "source": [
    "from sklearn.metrics import mean_absolute_error\n",
    "mape = mean_absolute_error(true_val0, pred_val0) / true_val0.abs().sum()\n",
    "mape"
   ]
  },
  {
   "cell_type": "code",
   "execution_count": 24,
   "id": "55ebf29a",
   "metadata": {},
   "outputs": [],
   "source": [
    "import seaborn as sns"
   ]
  },
  {
   "cell_type": "code",
   "execution_count": 25,
   "id": "c0c17e2e",
   "metadata": {},
   "outputs": [
    {
     "data": {
      "text/plain": [
       "<AxesSubplot:xlabel='real', ylabel='pred'>"
      ]
     },
     "execution_count": 25,
     "metadata": {},
     "output_type": "execute_result"
    },
    {
     "data": {
      "image/png": "[encoded data removed]",
      "text/plain": [
       "<Figure size 432x288 with 1 Axes>"
      ]
     },
     "metadata": {
      "needs_background": "light"
     },
     "output_type": "display_data"
    }
   ],
   "source": [
    "pred0 =pd.DataFrame({\n",
    "    'real': true_val0,\n",
    "    'pred': pred_val0\n",
    "})\n",
    "sns.regplot(x='real',y='pred',data=pred0)"
   ]
  },
  {
   "cell_type": "markdown",
   "id": "f88b0bb1",
   "metadata": {},
   "source": [
    "### Определяем коэффициенты"
   ]
  },
  {
   "cell_type": "markdown",
   "id": "c87efad6",
   "metadata": {},
   "source": [
    "#### x1"
   ]
  },
  {
   "cell_type": "code",
   "execution_count": 26,
   "id": "3304edd6",
   "metadata": {},
   "outputs": [],
   "source": [
    "beta_pair_1 = df_pair['coef'].values[1] # Бета коэффициент для x1\n",
    "delta_pair_1 = x1_corr * beta_pair_1 / results_pair.rsquared # Дельта коэффициент для x1\n",
    "elastic_pair_1 = beta_pair_1 * x1.mean() / y.mean() # Коэффициент эластичности для x1"
   ]
  },
  {
   "cell_type": "code",
   "execution_count": 27,
   "id": "bf93628b",
   "metadata": {},
   "outputs": [
    {
     "name": "stdout",
     "output_type": "stream",
     "text": [
      "Beta: 0.8586\n",
      "Delta: 1.080920401064522\n",
      "Elastic: 0.40092818208986125\n"
     ]
    }
   ],
   "source": [
    "print(\"Beta: {}\\nDelta: {}\\nElastic: {}\".format(beta_pair_1,delta_pair_1,elastic_pair_1))"
   ]
  },
  {
   "cell_type": "markdown",
   "id": "960ceb35",
   "metadata": {},
   "source": [
    "#### Проводим тесты"
   ]
  },
  {
   "cell_type": "code",
   "execution_count": 28,
   "id": "7a6ec20b",
   "metadata": {},
   "outputs": [],
   "source": [
    "import statsmodels.stats as smd\n",
    "\n",
    "import statsmodels.stats.api as sms\n",
    "#чтобы делать тесты\n",
    "\n",
    "from statsmodels.compat import lzip\n",
    "#чтобы делать подписи"
   ]
  },
  {
   "cell_type": "code",
   "execution_count": 29,
   "id": "1b9f2d4c",
   "metadata": {},
   "outputs": [],
   "source": [
    "residuals = results_pair.resid"
   ]
  },
  {
   "cell_type": "markdown",
   "id": "383fd685",
   "metadata": {},
   "source": [
    "#### Тест Дарбина-Ватсона"
   ]
  },
  {
   "cell_type": "code",
   "execution_count": 30,
   "id": "c009fb73",
   "metadata": {},
   "outputs": [
    {
     "data": {
      "text/plain": [
       "1.905788976767814"
      ]
     },
     "execution_count": 30,
     "metadata": {},
     "output_type": "execute_result"
    }
   ],
   "source": [
    "#DWtest\n",
    "dw = smd.stattools.durbin_watson(residuals)\n",
    "dw"
   ]
  },
  {
   "cell_type": "markdown",
   "id": "39867f51",
   "metadata": {},
   "source": [
    "#### Тест Бреуша-Годфри"
   ]
  },
  {
   "cell_type": "code",
   "execution_count": 31,
   "id": "2d0f39cc",
   "metadata": {},
   "outputs": [
    {
     "data": {
      "text/plain": [
       "[('Chisq statistic', 0.6639553707064594),\n",
       " ('p-value', 0.4151670118886768),\n",
       " ('F statistic', 0.6587738050188571),\n",
       " ('p-value(F)', 0.41764317461473877)]"
      ]
     },
     "execution_count": 31,
     "metadata": {},
     "output_type": "execute_result"
    }
   ],
   "source": [
    "#BGtest\n",
    "name=['Chisq statistic','p-value', 'F statistic','p-value(F)']\n",
    "bg=sms.acorr_breusch_godfrey(results_pair,nlags=1)\n",
    "lzip(name,bg)"
   ]
  },
  {
   "cell_type": "markdown",
   "id": "cbf8612e",
   "metadata": {},
   "source": [
    "#### Тест Голдфельда-Квандта"
   ]
  },
  {
   "cell_type": "code",
   "execution_count": 32,
   "id": "9bafd11b",
   "metadata": {},
   "outputs": [
    {
     "name": "stdout",
     "output_type": "stream",
     "text": [
      "[('F statistic', 1.3003110049626083), ('p-value', 0.05564963847943322)]\n"
     ]
    }
   ],
   "source": [
    "#GQtest\n",
    "name=['F statistic','p-value']\n",
    "gq=sms.het_goldfeldquandt(residuals,results_pair.model.exog)\n",
    "print(lzip(name,gq))"
   ]
  },
  {
   "cell_type": "markdown",
   "id": "3ee3edf6",
   "metadata": {},
   "source": [
    "#### Тест Бреуша-Пагана"
   ]
  },
  {
   "cell_type": "code",
   "execution_count": 33,
   "id": "821f7496",
   "metadata": {},
   "outputs": [
    {
     "data": {
      "text/plain": [
       "[('BP', 0.10604624464211065), ('p-value', 0.744691127246685)]"
      ]
     },
     "execution_count": 33,
     "metadata": {},
     "output_type": "execute_result"
    }
   ],
   "source": [
    "#BPtest\n",
    "name=['BP','p-value']\n",
    "bp=sms.het_breuschpagan(residuals,results_pair.model.exog)\n",
    "lzip(name,bp)\n"
   ]
  },
  {
   "cell_type": "markdown",
   "id": "92397ddd",
   "metadata": {},
   "source": [
    "#### Тест Уайта"
   ]
  },
  {
   "cell_type": "code",
   "execution_count": 34,
   "id": "f9cb158b",
   "metadata": {},
   "outputs": [
    {
     "data": {
      "text/plain": [
       "[('WT', 0.9611174803200728), ('p-value', 0.618437749245957)]"
      ]
     },
     "execution_count": 34,
     "metadata": {},
     "output_type": "execute_result"
    }
   ],
   "source": [
    "#White_test\n",
    "name=['WT','p-value']\n",
    "wt=sms.het_white(residuals,results_pair.model.exog)\n",
    "lzip(name,wt)"
   ]
  },
  {
   "cell_type": "markdown",
   "id": "350e6a23",
   "metadata": {},
   "source": [
    "# Строим множественную модель"
   ]
  },
  {
   "cell_type": "markdown",
   "id": "242d7f2c",
   "metadata": {},
   "source": [
    "#### Общие данные"
   ]
  },
  {
   "cell_type": "code",
   "execution_count": 35,
   "id": "3c224294",
   "metadata": {
    "scrolled": false
   },
   "outputs": [
    {
     "data": {
      "text/html": [
       "<table class=\"simpletable\">\n",
       "<caption>OLS Regression Results</caption>\n",
       "<tr>\n",
       "  <th>Dep. Variable:</th>            <td>y</td>        <th>  R-squared:         </th> <td>   0.749</td>\n",
       "</tr>\n",
       "<tr>\n",
       "  <th>Model:</th>                   <td>OLS</td>       <th>  Adj. R-squared:    </th> <td>   0.747</td>\n",
       "</tr>\n",
       "<tr>\n",
       "  <th>Method:</th>             <td>Least Squares</td>  <th>  F-statistic:       </th> <td>   294.5</td>\n",
       "</tr>\n",
       "<tr>\n",
       "  <th>Date:</th>             <td>Sat, 16 Oct 2021</td> <th>  Prob (F-statistic):</th> <td>1.62e-88</td>\n",
       "</tr>\n",
       "<tr>\n",
       "  <th>Time:</th>                 <td>22:05:08</td>     <th>  Log-Likelihood:    </th> <td> -207.33</td>\n",
       "</tr>\n",
       "<tr>\n",
       "  <th>No. Observations:</th>      <td>   300</td>      <th>  AIC:               </th> <td>   422.7</td>\n",
       "</tr>\n",
       "<tr>\n",
       "  <th>Df Residuals:</th>          <td>   296</td>      <th>  BIC:               </th> <td>   437.5</td>\n",
       "</tr>\n",
       "<tr>\n",
       "  <th>Df Model:</th>              <td>     3</td>      <th>                     </th>     <td> </td>   \n",
       "</tr>\n",
       "<tr>\n",
       "  <th>Covariance Type:</th>      <td>nonrobust</td>    <th>                     </th>     <td> </td>   \n",
       "</tr>\n",
       "</table>\n",
       "<table class=\"simpletable\">\n",
       "<tr>\n",
       "      <td></td>         <th>coef</th>     <th>std err</th>      <th>t</th>      <th>P>|t|</th>  <th>[0.025</th>    <th>0.975]</th>  \n",
       "</tr>\n",
       "<tr>\n",
       "  <th>Intercept</th> <td>   84.0773</td> <td>    3.195</td> <td>   26.316</td> <td> 0.000</td> <td>   77.790</td> <td>   90.365</td>\n",
       "</tr>\n",
       "<tr>\n",
       "  <th>x1</th>        <td>    0.8811</td> <td>    0.046</td> <td>   19.071</td> <td> 0.000</td> <td>    0.790</td> <td>    0.972</td>\n",
       "</tr>\n",
       "<tr>\n",
       "  <th>x2</th>        <td>   -0.2470</td> <td>    0.040</td> <td>   -6.199</td> <td> 0.000</td> <td>   -0.325</td> <td>   -0.169</td>\n",
       "</tr>\n",
       "<tr>\n",
       "  <th>x3</th>        <td>   -0.2939</td> <td>    0.036</td> <td>   -8.062</td> <td> 0.000</td> <td>   -0.366</td> <td>   -0.222</td>\n",
       "</tr>\n",
       "</table>\n",
       "<table class=\"simpletable\">\n",
       "<tr>\n",
       "  <th>Omnibus:</th>       <td> 0.180</td> <th>  Durbin-Watson:     </th> <td>   2.050</td>\n",
       "</tr>\n",
       "<tr>\n",
       "  <th>Prob(Omnibus):</th> <td> 0.914</td> <th>  Jarque-Bera (JB):  </th> <td>   0.151</td>\n",
       "</tr>\n",
       "<tr>\n",
       "  <th>Skew:</th>          <td> 0.055</td> <th>  Prob(JB):          </th> <td>   0.927</td>\n",
       "</tr>\n",
       "<tr>\n",
       "  <th>Kurtosis:</th>      <td> 2.988</td> <th>  Cond. No.          </th> <td>8.77e+03</td>\n",
       "</tr>\n",
       "</table><br/><br/>Notes:<br/>[1] Standard Errors assume that the covariance matrix of the errors is correctly specified.<br/>[2] The condition number is large, 8.77e+03. This might indicate that there are<br/>strong multicollinearity or other numerical problems."
      ],
      "text/plain": [
       "<class 'statsmodels.iolib.summary.Summary'>\n",
       "\"\"\"\n",
       "                            OLS Regression Results                            \n",
       "==============================================================================\n",
       "Dep. Variable:                      y   R-squared:                       0.749\n",
       "Model:                            OLS   Adj. R-squared:                  0.747\n",
       "Method:                 Least Squares   F-statistic:                     294.5\n",
       "Date:                Sat, 16 Oct 2021   Prob (F-statistic):           1.62e-88\n",
       "Time:                        22:05:08   Log-Likelihood:                -207.33\n",
       "No. Observations:                 300   AIC:                             422.7\n",
       "Df Residuals:                     296   BIC:                             437.5\n",
       "Df Model:                           3                                         \n",
       "Covariance Type:            nonrobust                                         \n",
       "==============================================================================\n",
       "                 coef    std err          t      P>|t|      [0.025      0.975]\n",
       "------------------------------------------------------------------------------\n",
       "Intercept     84.0773      3.195     26.316      0.000      77.790      90.365\n",
       "x1             0.8811      0.046     19.071      0.000       0.790       0.972\n",
       "x2            -0.2470      0.040     -6.199      0.000      -0.325      -0.169\n",
       "x3            -0.2939      0.036     -8.062      0.000      -0.366      -0.222\n",
       "==============================================================================\n",
       "Omnibus:                        0.180   Durbin-Watson:                   2.050\n",
       "Prob(Omnibus):                  0.914   Jarque-Bera (JB):                0.151\n",
       "Skew:                           0.055   Prob(JB):                        0.927\n",
       "Kurtosis:                       2.988   Cond. No.                     8.77e+03\n",
       "==============================================================================\n",
       "\n",
       "Notes:\n",
       "[1] Standard Errors assume that the covariance matrix of the errors is correctly specified.\n",
       "[2] The condition number is large, 8.77e+03. This might indicate that there are\n",
       "strong multicollinearity or other numerical problems.\n",
       "\"\"\""
      ]
     },
     "execution_count": 35,
     "metadata": {},
     "output_type": "execute_result"
    }
   ],
   "source": [
    "m_many = sm.ols(formula=\"y ~ x1 + x2 + x3\", data=d)\n",
    "results_many = m_many.fit()\n",
    "s_many = results_many.summary()\n",
    "\n",
    "df_many = pd.read_html(s_many.tables[1].as_html(),header=0,index_col=0)[0]\n",
    "s_many"
   ]
  },
  {
   "cell_type": "code",
   "execution_count": 36,
   "id": "246b6a85",
   "metadata": {},
   "outputs": [
    {
     "data": {
      "text/html": [
       "<div>\n",
       "<style scoped>\n",
       "    .dataframe tbody tr th:only-of-type {\n",
       "        vertical-align: middle;\n",
       "    }\n",
       "\n",
       "    .dataframe tbody tr th {\n",
       "        vertical-align: top;\n",
       "    }\n",
       "\n",
       "    .dataframe thead th {\n",
       "        text-align: right;\n",
       "    }\n",
       "</style>\n",
       "<table border=\"1\" class=\"dataframe\">\n",
       "  <thead>\n",
       "    <tr style=\"text-align: right;\">\n",
       "      <th></th>\n",
       "      <th>coef</th>\n",
       "      <th>std err</th>\n",
       "      <th>t</th>\n",
       "      <th>P&gt;|t|</th>\n",
       "      <th>[0.025</th>\n",
       "      <th>0.975]</th>\n",
       "    </tr>\n",
       "  </thead>\n",
       "  <tbody>\n",
       "    <tr>\n",
       "      <th>Intercept</th>\n",
       "      <td>84.0773</td>\n",
       "      <td>3.195</td>\n",
       "      <td>26.316</td>\n",
       "      <td>0.0</td>\n",
       "      <td>77.790</td>\n",
       "      <td>90.365</td>\n",
       "    </tr>\n",
       "    <tr>\n",
       "      <th>x1</th>\n",
       "      <td>0.8811</td>\n",
       "      <td>0.046</td>\n",
       "      <td>19.071</td>\n",
       "      <td>0.0</td>\n",
       "      <td>0.790</td>\n",
       "      <td>0.972</td>\n",
       "    </tr>\n",
       "    <tr>\n",
       "      <th>x2</th>\n",
       "      <td>-0.2470</td>\n",
       "      <td>0.040</td>\n",
       "      <td>-6.199</td>\n",
       "      <td>0.0</td>\n",
       "      <td>-0.325</td>\n",
       "      <td>-0.169</td>\n",
       "    </tr>\n",
       "    <tr>\n",
       "      <th>x3</th>\n",
       "      <td>-0.2939</td>\n",
       "      <td>0.036</td>\n",
       "      <td>-8.062</td>\n",
       "      <td>0.0</td>\n",
       "      <td>-0.366</td>\n",
       "      <td>-0.222</td>\n",
       "    </tr>\n",
       "  </tbody>\n",
       "</table>\n",
       "</div>"
      ],
      "text/plain": [
       "              coef  std err       t  P>|t|  [0.025  0.975]\n",
       "Intercept  84.0773    3.195  26.316    0.0  77.790  90.365\n",
       "x1          0.8811    0.046  19.071    0.0   0.790   0.972\n",
       "x2         -0.2470    0.040  -6.199    0.0  -0.325  -0.169\n",
       "x3         -0.2939    0.036  -8.062    0.0  -0.366  -0.222"
      ]
     },
     "execution_count": 36,
     "metadata": {},
     "output_type": "execute_result"
    }
   ],
   "source": [
    "df_many"
   ]
  },
  {
   "cell_type": "markdown",
   "id": "c85afaa8",
   "metadata": {},
   "source": [
    "### Доверительные интервалы"
   ]
  },
  {
   "cell_type": "code",
   "execution_count": 37,
   "id": "1e1c8e9f",
   "metadata": {
    "scrolled": true
   },
   "outputs": [
    {
     "data": {
      "text/html": [
       "<div>\n",
       "<style scoped>\n",
       "    .dataframe tbody tr th:only-of-type {\n",
       "        vertical-align: middle;\n",
       "    }\n",
       "\n",
       "    .dataframe tbody tr th {\n",
       "        vertical-align: top;\n",
       "    }\n",
       "\n",
       "    .dataframe thead th {\n",
       "        text-align: right;\n",
       "    }\n",
       "</style>\n",
       "<table border=\"1\" class=\"dataframe\">\n",
       "  <thead>\n",
       "    <tr style=\"text-align: right;\">\n",
       "      <th></th>\n",
       "      <th>0</th>\n",
       "      <th>1</th>\n",
       "    </tr>\n",
       "  </thead>\n",
       "  <tbody>\n",
       "    <tr>\n",
       "      <th>Intercept</th>\n",
       "      <td>77.789619</td>\n",
       "      <td>90.364990</td>\n",
       "    </tr>\n",
       "    <tr>\n",
       "      <th>x1</th>\n",
       "      <td>0.790156</td>\n",
       "      <td>0.972003</td>\n",
       "    </tr>\n",
       "    <tr>\n",
       "      <th>x2</th>\n",
       "      <td>-0.325427</td>\n",
       "      <td>-0.168593</td>\n",
       "    </tr>\n",
       "    <tr>\n",
       "      <th>x3</th>\n",
       "      <td>-0.365680</td>\n",
       "      <td>-0.222179</td>\n",
       "    </tr>\n",
       "  </tbody>\n",
       "</table>\n",
       "</div>"
      ],
      "text/plain": [
       "                   0          1\n",
       "Intercept  77.789619  90.364990\n",
       "x1          0.790156   0.972003\n",
       "x2         -0.325427  -0.168593\n",
       "x3         -0.365680  -0.222179"
      ]
     },
     "execution_count": 37,
     "metadata": {},
     "output_type": "execute_result"
    }
   ],
   "source": [
    "results_many.conf_int(0.05)"
   ]
  },
  {
   "cell_type": "markdown",
   "id": "875a234b",
   "metadata": {},
   "source": [
    "### Коэфф детерминации R^2"
   ]
  },
  {
   "cell_type": "code",
   "execution_count": 38,
   "id": "e0be59f6",
   "metadata": {},
   "outputs": [],
   "source": [
    "pred_val0 = results_many.fittedvalues.copy()\n",
    "true_val0 = d[\"y\"]\n",
    "e0 = true_val0 - pred_val0"
   ]
  },
  {
   "cell_type": "code",
   "execution_count": 39,
   "id": "5c0265c1",
   "metadata": {},
   "outputs": [
    {
     "name": "stdout",
     "output_type": "stream",
     "text": [
      "0.749072929524051\n",
      "0.749072929524051\n"
     ]
    }
   ],
   "source": [
    "from sklearn.metrics import r2_score\n",
    "print(r2_score(true_val0,pred_val0))\n",
    "print(results_many.rsquared)"
   ]
  },
  {
   "cell_type": "markdown",
   "id": "699d4ccd",
   "metadata": {},
   "source": [
    "### Коэфф аппроксимации"
   ]
  },
  {
   "cell_type": "code",
   "execution_count": 40,
   "id": "36bf8ab1",
   "metadata": {},
   "outputs": [
    {
     "name": "stdout",
     "output_type": "stream",
     "text": [
      "0.364280908658048\n"
     ]
    }
   ],
   "source": [
    "A_many = (1/len(x1))*sum(abs(e0/y))*100\n",
    "print(A_many)"
   ]
  },
  {
   "cell_type": "markdown",
   "id": "4a77d66a",
   "metadata": {},
   "source": [
    "### Стандартная ошибка"
   ]
  },
  {
   "cell_type": "code",
   "execution_count": 41,
   "id": "21952bd5",
   "metadata": {},
   "outputs": [
    {
     "data": {
      "text/plain": [
       "Intercept    3.086346\n",
       "x1           0.045916\n",
       "x2           0.041713\n",
       "x3           0.034483\n",
       "dtype: float64"
      ]
     },
     "execution_count": 41,
     "metadata": {},
     "output_type": "execute_result"
    }
   ],
   "source": [
    "results_many.HC0_se"
   ]
  },
  {
   "cell_type": "markdown",
   "id": "854ae88c",
   "metadata": {},
   "source": [
    "### Средняя ошибка модели"
   ]
  },
  {
   "cell_type": "code",
   "execution_count": 42,
   "id": "84575dc2",
   "metadata": {},
   "outputs": [
    {
     "name": "stdout",
     "output_type": "stream",
     "text": [
      "0.4862089799786962\n"
     ]
    }
   ],
   "source": [
    "print(np.sqrt(results_many.scale))"
   ]
  },
  {
   "cell_type": "markdown",
   "id": "1fe477e8",
   "metadata": {},
   "source": [
    "### Средняя относительная ошибка аппроксимации"
   ]
  },
  {
   "cell_type": "code",
   "execution_count": 43,
   "id": "53a3d331",
   "metadata": {},
   "outputs": [
    {
     "data": {
      "text/plain": [
       "1.2145296883963929e-05"
      ]
     },
     "execution_count": 43,
     "metadata": {},
     "output_type": "execute_result"
    }
   ],
   "source": [
    "from sklearn.metrics import mean_absolute_error\n",
    "mape = mean_absolute_error(true_val0, pred_val0) / true_val0.abs().sum()\n",
    "mape"
   ]
  },
  {
   "cell_type": "code",
   "execution_count": 44,
   "id": "f593efb8",
   "metadata": {},
   "outputs": [],
   "source": [
    "import seaborn as sns"
   ]
  },
  {
   "cell_type": "code",
   "execution_count": 45,
   "id": "e9fe14eb",
   "metadata": {},
   "outputs": [
    {
     "data": {
      "text/plain": [
       "<AxesSubplot:xlabel='real', ylabel='pred'>"
      ]
     },
     "execution_count": 45,
     "metadata": {},
     "output_type": "execute_result"
    },
    {
     "data": {
      "image/png": "[encoded data removed]",
      "text/plain": [
       "<Figure size 432x288 with 1 Axes>"
      ]
     },
     "metadata": {
      "needs_background": "light"
     },
     "output_type": "display_data"
    }
   ],
   "source": [
    "pred0 =pd.DataFrame({\n",
    "    'real': true_val0,\n",
    "    'pred': pred_val0\n",
    "})\n",
    "sns.regplot(x='real',y='pred',data=pred0)"
   ]
  },
  {
   "cell_type": "markdown",
   "id": "7d73ba32",
   "metadata": {},
   "source": [
    "### Определяем коэффициенты"
   ]
  },
  {
   "cell_type": "markdown",
   "id": "d6421579",
   "metadata": {},
   "source": [
    "#### x1"
   ]
  },
  {
   "cell_type": "code",
   "execution_count": 46,
   "id": "1751fb1a",
   "metadata": {},
   "outputs": [],
   "source": [
    "beta_many_1 = df_many['coef'].values[1] # Бета коэффициент для x1\n",
    "delta_many_1 = x1_corr * beta_many_1 / results_many.rsquared # Дельта коэффициент для x1\n",
    "elastic_many_1 = beta_many_1 * x1.mean() / y.mean() # Коэффициент эластичности для x1"
   ]
  },
  {
   "cell_type": "code",
   "execution_count": 47,
   "id": "3ac8e651",
   "metadata": {},
   "outputs": [
    {
     "name": "stdout",
     "output_type": "stream",
     "text": [
      "Beta: 0.8811\n",
      "Delta: 0.934325644540059\n",
      "Elastic: 0.41143468581339\n"
     ]
    }
   ],
   "source": [
    "print(\"Beta: {}\\nDelta: {}\\nElastic: {}\".format(beta_many_1,delta_many_1,elastic_many_1))"
   ]
  },
  {
   "cell_type": "markdown",
   "id": "d25dcd76",
   "metadata": {},
   "source": [
    "#### x2"
   ]
  },
  {
   "cell_type": "code",
   "execution_count": 48,
   "id": "62e3659e",
   "metadata": {},
   "outputs": [],
   "source": [
    "beta_many_2 = df_many['coef'].values[2] # Бета коэффициент для x2\n",
    "delta_many_2 = x2_corr * beta_many_2 / results_many.rsquared # Дельта коэффициент для x2\n",
    "elastic_many_2 = beta_many_2 * x2.mean() / y.mean() # Коэффициент эластичности для x2\n"
   ]
  },
  {
   "cell_type": "code",
   "execution_count": 49,
   "id": "8425ba9f",
   "metadata": {},
   "outputs": [
    {
     "name": "stdout",
     "output_type": "stream",
     "text": [
      "Beta: -0.247\n",
      "Delta: -0.09533907967831282\n",
      "Elastic: -0.06358371165135798\n"
     ]
    }
   ],
   "source": [
    "print(\"Beta: {}\\nDelta: {}\\nElastic: {}\".format(beta_many_2,delta_many_2,elastic_many_2))"
   ]
  },
  {
   "cell_type": "markdown",
   "id": "c797510e",
   "metadata": {},
   "source": [
    "#### x3"
   ]
  },
  {
   "cell_type": "code",
   "execution_count": 50,
   "id": "f75d3bc0",
   "metadata": {},
   "outputs": [],
   "source": [
    "beta_many_3 = df_many['coef'].values[3] # Бета коэффициент для x3\n",
    "delta_many_3 = x3_corr * beta_many_3 / results_many.rsquared # Дельта коэффициент для x3\n",
    "elastic_many_3 = beta_many_3 * x3.mean() / y.mean() # Коэффициент эластичности для x3"
   ]
  },
  {
   "cell_type": "code",
   "execution_count": 51,
   "id": "401fe649",
   "metadata": {},
   "outputs": [
    {
     "name": "stdout",
     "output_type": "stream",
     "text": [
      "Beta: -0.2939\n",
      "Delta: 0.24418169216332325\n",
      "Elastic: -0.14801182178386824\n"
     ]
    }
   ],
   "source": [
    "print(\"Beta: {}\\nDelta: {}\\nElastic: {}\".format(beta_many_3,delta_many_3,elastic_many_3))"
   ]
  },
  {
   "cell_type": "markdown",
   "id": "45c85691",
   "metadata": {},
   "source": [
    "#### Проводим тесты"
   ]
  },
  {
   "cell_type": "code",
   "execution_count": 52,
   "id": "c07a638c",
   "metadata": {},
   "outputs": [],
   "source": [
    "import statsmodels.stats as smd\n",
    "\n",
    "import statsmodels.stats.api as sms\n",
    "#чтобы делать тесты\n",
    "\n",
    "from statsmodels.compat import lzip\n",
    "#чтобы делать подписи"
   ]
  },
  {
   "cell_type": "code",
   "execution_count": 53,
   "id": "ee815630",
   "metadata": {},
   "outputs": [],
   "source": [
    "residuals = results_many.resid"
   ]
  },
  {
   "cell_type": "markdown",
   "id": "1a26e120",
   "metadata": {},
   "source": [
    "#### Тест Дарбина-Ватсона"
   ]
  },
  {
   "cell_type": "code",
   "execution_count": 67,
   "id": "1db4744c",
   "metadata": {},
   "outputs": [
    {
     "data": {
      "text/plain": [
       "2.049729017282111"
      ]
     },
     "execution_count": 67,
     "metadata": {},
     "output_type": "execute_result"
    }
   ],
   "source": [
    "#DWtest\n",
    "dw = smd.stattools.durbin_watson(residuals)\n",
    "dw"
   ]
  },
  {
   "cell_type": "markdown",
   "id": "2ae8d2e5",
   "metadata": {},
   "source": [
    "#### Тест Бреуша-Годфри"
   ]
  },
  {
   "cell_type": "code",
   "execution_count": 55,
   "id": "2f96cf62",
   "metadata": {},
   "outputs": [
    {
     "data": {
      "text/plain": [
       "[('Chisq statistic', 0.2025085366267665),\n",
       " ('p-value', 0.6527036013644745),\n",
       " ('F statistic', 0.19926790585624332),\n",
       " ('p-value(F)', 0.6556399160818105)]"
      ]
     },
     "execution_count": 55,
     "metadata": {},
     "output_type": "execute_result"
    }
   ],
   "source": [
    "#BGtest\n",
    "name=['Chisq statistic','p-value', 'F statistic','p-value(F)']\n",
    "bg=sms.acorr_breusch_godfrey(results_many,nlags=1)\n",
    "lzip(name,bg)"
   ]
  },
  {
   "cell_type": "markdown",
   "id": "8b497ddb",
   "metadata": {},
   "source": [
    "#### Тест Голдфельда-Квандта"
   ]
  },
  {
   "cell_type": "code",
   "execution_count": 56,
   "id": "53ea095b",
   "metadata": {},
   "outputs": [
    {
     "name": "stdout",
     "output_type": "stream",
     "text": [
      "[('F statistic', 1.2171191583825145), ('p-value', 0.11818700246350568)]\n"
     ]
    }
   ],
   "source": [
    "#GQtest\n",
    "name=['F statistic','p-value']\n",
    "gq=sms.het_goldfeldquandt(residuals,results_many.model.exog)\n",
    "print(lzip(name,gq))"
   ]
  },
  {
   "cell_type": "markdown",
   "id": "211e972d",
   "metadata": {},
   "source": [
    "#### Тест Бреуша-Пагана"
   ]
  },
  {
   "cell_type": "code",
   "execution_count": 57,
   "id": "01ab79f4",
   "metadata": {},
   "outputs": [
    {
     "data": {
      "text/plain": [
       "[('BP', 1.5881276011877277), ('p-value', 0.6620847927391107)]"
      ]
     },
     "execution_count": 57,
     "metadata": {},
     "output_type": "execute_result"
    }
   ],
   "source": [
    "#BPtest\n",
    "name=['BP','p-value']\n",
    "bp=sms.het_breuschpagan(residuals,results_many.model.exog)\n",
    "lzip(name,bp)\n"
   ]
  },
  {
   "cell_type": "markdown",
   "id": "fd1d224d",
   "metadata": {},
   "source": [
    "#### Тест Уайта"
   ]
  },
  {
   "cell_type": "code",
   "execution_count": 58,
   "id": "9e3fb6d0",
   "metadata": {},
   "outputs": [
    {
     "data": {
      "text/plain": [
       "[('WT', 4.253993560098945), ('p-value', 0.8939141183615693)]"
      ]
     },
     "execution_count": 58,
     "metadata": {},
     "output_type": "execute_result"
    }
   ],
   "source": [
    "#White_test\n",
    "name=['WT','p-value']\n",
    "wt=sms.het_white(residuals,results_many.model.exog)\n",
    "lzip(name,wt)"
   ]
  },
  {
   "cell_type": "markdown",
   "id": "2bef2024",
   "metadata": {},
   "source": [
    "# Сравниваем модели"
   ]
  },
  {
   "cell_type": "code",
   "execution_count": 59,
   "id": "27ffc949",
   "metadata": {},
   "outputs": [],
   "source": [
    "error_pair = np.sqrt(results_pair.scale)\n",
    "error_many = np.sqrt(results_many.scale)"
   ]
  },
  {
   "cell_type": "code",
   "execution_count": 65,
   "id": "67e15ac0",
   "metadata": {},
   "outputs": [],
   "source": [
    "f_test = (results_pair.fvalue, results_many.fvalue)\n",
    "determ = (results_pair.rsquared, results_many.rsquared)\n",
    "adjust_determ = (results_pair.rsquared_adj, results_many.rsquared_adj)\n",
    "st_error = (error_pair, error_many)\n",
    "approx = (A_pair, A_many)"
   ]
  },
  {
   "cell_type": "code",
   "execution_count": 66,
   "id": "a8d0807a",
   "metadata": {},
   "outputs": [
    {
     "name": "stdout",
     "output_type": "stream",
     "text": [
      "(509.47674208308797, 294.54187189204464)\n",
      "(0.6309491227806332, 0.749072929524051)\n",
      "(0.6297106970181521, 0.7465297497557137)\n",
      "(0.5876653195497306, 0.4862089799786962)\n",
      "(0.44519764467181083, 0.364280908658048)\n"
     ]
    }
   ],
   "source": [
    "print(f_test)\n",
    "print(determ)\n",
    "print(adjust_determ)\n",
    "print(st_error)\n",
    "print(approx)"
   ]
  },
  {
   "cell_type": "markdown",
   "id": "e13ff6d5",
   "metadata": {},
   "source": [
    "**Итоги**: Выигрывает множественная модель по 4 из 5 пунктов"
   ]
  },
  {
   "cell_type": "markdown",
   "id": "485ae9c6",
   "metadata": {},
   "source": [
    "### Коэффициенты с R совпали"
   ]
  },
  {
   "cell_type": "code",
   "execution_count": null,
   "id": "2ba9b5c6",
   "metadata": {},
   "outputs": [],
   "source": []
  }
 ],
 "metadata": {
  "kernelspec": {
   "display_name": "Python 3 (ipykernel)",
   "language": "python",
   "name": "python3"
  },
  "language_info": {
   "codemirror_mode": {
    "name": "ipython",
    "version": 3
   },
   "file_extension": ".py",
   "mimetype": "text/x-python",
   "name": "python",
   "nbconvert_exporter": "python",
   "pygments_lexer": "ipython3",
   "version": "3.9.7"
  }
 },
 "nbformat": 4,
 "nbformat_minor": 5
}

{
 "cells": [
  {
   "cell_type": "code",
   "execution_count": 1,
   "metadata": {},
   "outputs": [],
   "source": [
    "import numpy as np\n",
    "import pandas as pd\n",
    "\n",
    "import statsmodels.api as sm\n",
    "import statsmodels.tsa.api as tsa\n",
    "import statsmodels.stats as smd\n",
    "import statsmodels.stats.api as sms\n",
    "from statsmodels.compat import lzip\n",
    "\n",
    "from sklearn.metrics import mean_absolute_error\n",
    "import statsmodels.graphics.tsaplots as smplot\n",
    "\n",
    "import matplotlib.pyplot as plt\n",
    "import seaborn as sns\n",
    "\n",
    "import datetime\n",
    "import statsmodels\n",
    "from scipy import stats"
   ]
  },
  {
   "cell_type": "code",
   "execution_count": 2,
   "metadata": {},
   "outputs": [
    {
     "data": {
      "text/html": [
       "<div>\n",
       "<style scoped>\n",
       "    .dataframe tbody tr th:only-of-type {\n",
       "        vertical-align: middle;\n",
       "    }\n",
       "\n",
       "    .dataframe tbody tr th {\n",
       "        vertical-align: top;\n",
       "    }\n",
       "\n",
       "    .dataframe thead th {\n",
       "        text-align: right;\n",
       "    }\n",
       "</style>\n",
       "<table border=\"1\" class=\"dataframe\">\n",
       "  <thead>\n",
       "    <tr style=\"text-align: right;\">\n",
       "      <th></th>\n",
       "      <th>y</th>\n",
       "      <th>x1</th>\n",
       "      <th>x2</th>\n",
       "      <th>x3</th>\n",
       "      <th>x4</th>\n",
       "    </tr>\n",
       "  </thead>\n",
       "  <tbody>\n",
       "    <tr>\n",
       "      <th>0</th>\n",
       "      <td>12345.0</td>\n",
       "      <td>2769.0</td>\n",
       "      <td>29.67</td>\n",
       "      <td>94.2</td>\n",
       "      <td>9.6</td>\n",
       "    </tr>\n",
       "    <tr>\n",
       "      <th>1</th>\n",
       "      <td>12091.9</td>\n",
       "      <td>3065.0</td>\n",
       "      <td>28.94</td>\n",
       "      <td>101.1</td>\n",
       "      <td>9.5</td>\n",
       "    </tr>\n",
       "    <tr>\n",
       "      <th>2</th>\n",
       "      <td>12339.7</td>\n",
       "      <td>3899.0</td>\n",
       "      <td>28.43</td>\n",
       "      <td>111.6</td>\n",
       "      <td>9.5</td>\n",
       "    </tr>\n",
       "    <tr>\n",
       "      <th>3</th>\n",
       "      <td>12450.6</td>\n",
       "      <td>3790.0</td>\n",
       "      <td>27.50</td>\n",
       "      <td>119.7</td>\n",
       "      <td>9.6</td>\n",
       "    </tr>\n",
       "    <tr>\n",
       "      <th>4</th>\n",
       "      <td>12832.1</td>\n",
       "      <td>3963.0</td>\n",
       "      <td>28.07</td>\n",
       "      <td>112.0</td>\n",
       "      <td>9.6</td>\n",
       "    </tr>\n",
       "    <tr>\n",
       "      <th>5</th>\n",
       "      <td>12892.1</td>\n",
       "      <td>4224.0</td>\n",
       "      <td>28.08</td>\n",
       "      <td>112.0</td>\n",
       "      <td>9.4</td>\n",
       "    </tr>\n",
       "    <tr>\n",
       "      <th>6</th>\n",
       "      <td>13224.5</td>\n",
       "      <td>4645.0</td>\n",
       "      <td>27.68</td>\n",
       "      <td>115.3</td>\n",
       "      <td>9.0</td>\n",
       "    </tr>\n",
       "    <tr>\n",
       "      <th>7</th>\n",
       "      <td>13449.9</td>\n",
       "      <td>4914.0</td>\n",
       "      <td>28.86</td>\n",
       "      <td>109.6</td>\n",
       "      <td>8.2</td>\n",
       "    </tr>\n",
       "    <tr>\n",
       "      <th>8</th>\n",
       "      <td>13476.8</td>\n",
       "      <td>4830.0</td>\n",
       "      <td>31.88</td>\n",
       "      <td>112.6</td>\n",
       "      <td>7.2</td>\n",
       "    </tr>\n",
       "    <tr>\n",
       "      <th>9</th>\n",
       "      <td>13588.9</td>\n",
       "      <td>4815.0</td>\n",
       "      <td>29.90</td>\n",
       "      <td>108.7</td>\n",
       "      <td>7.2</td>\n",
       "    </tr>\n",
       "    <tr>\n",
       "      <th>10</th>\n",
       "      <td>13600.4</td>\n",
       "      <td>4401.0</td>\n",
       "      <td>31.32</td>\n",
       "      <td>110.9</td>\n",
       "      <td>6.8</td>\n",
       "    </tr>\n",
       "    <tr>\n",
       "      <th>11</th>\n",
       "      <td>13768.5</td>\n",
       "      <td>5189.0</td>\n",
       "      <td>32.20</td>\n",
       "      <td>108.0</td>\n",
       "      <td>6.1</td>\n",
       "    </tr>\n",
       "    <tr>\n",
       "      <th>12</th>\n",
       "      <td>14796.6</td>\n",
       "      <td>3434.0</td>\n",
       "      <td>30.36</td>\n",
       "      <td>109.8</td>\n",
       "      <td>4.2</td>\n",
       "    </tr>\n",
       "    <tr>\n",
       "      <th>13</th>\n",
       "      <td>14424.2</td>\n",
       "      <td>5195.0</td>\n",
       "      <td>28.95</td>\n",
       "      <td>119.2</td>\n",
       "      <td>3.7</td>\n",
       "    </tr>\n",
       "    <tr>\n",
       "      <th>14</th>\n",
       "      <td>14607.3</td>\n",
       "      <td>5401.0</td>\n",
       "      <td>29.33</td>\n",
       "      <td>123.3</td>\n",
       "      <td>3.7</td>\n",
       "    </tr>\n",
       "    <tr>\n",
       "      <th>15</th>\n",
       "      <td>14688.0</td>\n",
       "      <td>4239.0</td>\n",
       "      <td>29.36</td>\n",
       "      <td>117.8</td>\n",
       "      <td>3.6</td>\n",
       "    </tr>\n",
       "    <tr>\n",
       "      <th>16</th>\n",
       "      <td>15057.3</td>\n",
       "      <td>4558.0</td>\n",
       "      <td>32.45</td>\n",
       "      <td>109.2</td>\n",
       "      <td>3.6</td>\n",
       "    </tr>\n",
       "    <tr>\n",
       "      <th>17</th>\n",
       "      <td>15161.0</td>\n",
       "      <td>4675.0</td>\n",
       "      <td>32.82</td>\n",
       "      <td>93.5</td>\n",
       "      <td>4.3</td>\n",
       "    </tr>\n",
       "    <tr>\n",
       "      <th>18</th>\n",
       "      <td>15534.6</td>\n",
       "      <td>6558.0</td>\n",
       "      <td>32.19</td>\n",
       "      <td>102.7</td>\n",
       "      <td>5.6</td>\n",
       "    </tr>\n",
       "    <tr>\n",
       "      <th>19</th>\n",
       "      <td>15544.5</td>\n",
       "      <td>6253.0</td>\n",
       "      <td>32.92</td>\n",
       "      <td>113.5</td>\n",
       "      <td>5.9</td>\n",
       "    </tr>\n",
       "    <tr>\n",
       "      <th>20</th>\n",
       "      <td>15644.4</td>\n",
       "      <td>5410.0</td>\n",
       "      <td>30.92</td>\n",
       "      <td>112.0</td>\n",
       "      <td>6.6</td>\n",
       "    </tr>\n",
       "    <tr>\n",
       "      <th>21</th>\n",
       "      <td>15717.8</td>\n",
       "      <td>5023.0</td>\n",
       "      <td>31.53</td>\n",
       "      <td>110.8</td>\n",
       "      <td>6.5</td>\n",
       "    </tr>\n",
       "  </tbody>\n",
       "</table>\n",
       "</div>"
      ],
      "text/plain": [
       "          y      x1     x2     x3   x4\n",
       "0   12345.0  2769.0  29.67   94.2  9.6\n",
       "1   12091.9  3065.0  28.94  101.1  9.5\n",
       "2   12339.7  3899.0  28.43  111.6  9.5\n",
       "3   12450.6  3790.0  27.50  119.7  9.6\n",
       "4   12832.1  3963.0  28.07  112.0  9.6\n",
       "5   12892.1  4224.0  28.08  112.0  9.4\n",
       "6   13224.5  4645.0  27.68  115.3  9.0\n",
       "7   13449.9  4914.0  28.86  109.6  8.2\n",
       "8   13476.8  4830.0  31.88  112.6  7.2\n",
       "9   13588.9  4815.0  29.90  108.7  7.2\n",
       "10  13600.4  4401.0  31.32  110.9  6.8\n",
       "11  13768.5  5189.0  32.20  108.0  6.1\n",
       "12  14796.6  3434.0  30.36  109.8  4.2\n",
       "13  14424.2  5195.0  28.95  119.2  3.7\n",
       "14  14607.3  5401.0  29.33  123.3  3.7\n",
       "15  14688.0  4239.0  29.36  117.8  3.6\n",
       "16  15057.3  4558.0  32.45  109.2  3.6\n",
       "17  15161.0  4675.0  32.82   93.5  4.3\n",
       "18  15534.6  6558.0  32.19  102.7  5.6\n",
       "19  15544.5  6253.0  32.92  113.5  5.9\n",
       "20  15644.4  5410.0  30.92  112.0  6.6\n",
       "21  15717.8  5023.0  31.53  110.8  6.5"
      ]
     },
     "execution_count": 2,
     "metadata": {},
     "output_type": "execute_result"
    }
   ],
   "source": [
    "data = pd.read_csv('./tema7.csv', sep = ';')\n",
    "y = data[\"y\"]\n",
    "x1 = data[\"x1\"]\n",
    "x2 = data[\"x2\"]\n",
    "x3 = data[\"x3\"]\n",
    "x4 = data[\"x4\"]\n",
    "data"
   ]
  },
  {
   "cell_type": "code",
   "execution_count": 3,
   "metadata": {},
   "outputs": [
    {
     "data": {
      "text/html": [
       "<div>\n",
       "<style scoped>\n",
       "    .dataframe tbody tr th:only-of-type {\n",
       "        vertical-align: middle;\n",
       "    }\n",
       "\n",
       "    .dataframe tbody tr th {\n",
       "        vertical-align: top;\n",
       "    }\n",
       "\n",
       "    .dataframe thead th {\n",
       "        text-align: right;\n",
       "    }\n",
       "</style>\n",
       "<table border=\"1\" class=\"dataframe\">\n",
       "  <thead>\n",
       "    <tr style=\"text-align: right;\">\n",
       "      <th></th>\n",
       "      <th>y</th>\n",
       "      <th>x1</th>\n",
       "      <th>x2</th>\n",
       "      <th>x3</th>\n",
       "      <th>x4</th>\n",
       "    </tr>\n",
       "  </thead>\n",
       "  <tbody>\n",
       "    <tr>\n",
       "      <th>0</th>\n",
       "      <td>12345.0</td>\n",
       "      <td>2769.0</td>\n",
       "      <td>29.67</td>\n",
       "      <td>94.2</td>\n",
       "      <td>9.6</td>\n",
       "    </tr>\n",
       "    <tr>\n",
       "      <th>1</th>\n",
       "      <td>12091.9</td>\n",
       "      <td>3065.0</td>\n",
       "      <td>28.94</td>\n",
       "      <td>101.1</td>\n",
       "      <td>9.5</td>\n",
       "    </tr>\n",
       "    <tr>\n",
       "      <th>2</th>\n",
       "      <td>12339.7</td>\n",
       "      <td>3899.0</td>\n",
       "      <td>28.43</td>\n",
       "      <td>111.6</td>\n",
       "      <td>9.5</td>\n",
       "    </tr>\n",
       "    <tr>\n",
       "      <th>3</th>\n",
       "      <td>12450.6</td>\n",
       "      <td>3790.0</td>\n",
       "      <td>27.50</td>\n",
       "      <td>119.7</td>\n",
       "      <td>9.6</td>\n",
       "    </tr>\n",
       "    <tr>\n",
       "      <th>4</th>\n",
       "      <td>12832.1</td>\n",
       "      <td>3963.0</td>\n",
       "      <td>28.07</td>\n",
       "      <td>112.0</td>\n",
       "      <td>9.6</td>\n",
       "    </tr>\n",
       "    <tr>\n",
       "      <th>5</th>\n",
       "      <td>12892.1</td>\n",
       "      <td>4224.0</td>\n",
       "      <td>28.08</td>\n",
       "      <td>112.0</td>\n",
       "      <td>9.4</td>\n",
       "    </tr>\n",
       "    <tr>\n",
       "      <th>6</th>\n",
       "      <td>13224.5</td>\n",
       "      <td>4645.0</td>\n",
       "      <td>27.68</td>\n",
       "      <td>115.3</td>\n",
       "      <td>9.0</td>\n",
       "    </tr>\n",
       "    <tr>\n",
       "      <th>7</th>\n",
       "      <td>13449.9</td>\n",
       "      <td>4914.0</td>\n",
       "      <td>28.86</td>\n",
       "      <td>109.6</td>\n",
       "      <td>8.2</td>\n",
       "    </tr>\n",
       "    <tr>\n",
       "      <th>8</th>\n",
       "      <td>13476.8</td>\n",
       "      <td>4830.0</td>\n",
       "      <td>31.88</td>\n",
       "      <td>112.6</td>\n",
       "      <td>7.2</td>\n",
       "    </tr>\n",
       "    <tr>\n",
       "      <th>9</th>\n",
       "      <td>13588.9</td>\n",
       "      <td>4815.0</td>\n",
       "      <td>29.90</td>\n",
       "      <td>108.7</td>\n",
       "      <td>7.2</td>\n",
       "    </tr>\n",
       "    <tr>\n",
       "      <th>10</th>\n",
       "      <td>13600.4</td>\n",
       "      <td>4401.0</td>\n",
       "      <td>31.32</td>\n",
       "      <td>110.9</td>\n",
       "      <td>6.8</td>\n",
       "    </tr>\n",
       "    <tr>\n",
       "      <th>11</th>\n",
       "      <td>13768.5</td>\n",
       "      <td>5189.0</td>\n",
       "      <td>32.20</td>\n",
       "      <td>108.0</td>\n",
       "      <td>6.1</td>\n",
       "    </tr>\n",
       "    <tr>\n",
       "      <th>12</th>\n",
       "      <td>14796.6</td>\n",
       "      <td>3434.0</td>\n",
       "      <td>30.36</td>\n",
       "      <td>109.8</td>\n",
       "      <td>4.2</td>\n",
       "    </tr>\n",
       "    <tr>\n",
       "      <th>13</th>\n",
       "      <td>14424.2</td>\n",
       "      <td>5195.0</td>\n",
       "      <td>28.95</td>\n",
       "      <td>119.2</td>\n",
       "      <td>3.7</td>\n",
       "    </tr>\n",
       "    <tr>\n",
       "      <th>14</th>\n",
       "      <td>14607.3</td>\n",
       "      <td>5401.0</td>\n",
       "      <td>29.33</td>\n",
       "      <td>123.3</td>\n",
       "      <td>3.7</td>\n",
       "    </tr>\n",
       "    <tr>\n",
       "      <th>15</th>\n",
       "      <td>14688.0</td>\n",
       "      <td>4239.0</td>\n",
       "      <td>29.36</td>\n",
       "      <td>117.8</td>\n",
       "      <td>3.6</td>\n",
       "    </tr>\n",
       "    <tr>\n",
       "      <th>16</th>\n",
       "      <td>15057.3</td>\n",
       "      <td>4558.0</td>\n",
       "      <td>32.45</td>\n",
       "      <td>109.2</td>\n",
       "      <td>3.6</td>\n",
       "    </tr>\n",
       "    <tr>\n",
       "      <th>17</th>\n",
       "      <td>15161.0</td>\n",
       "      <td>4675.0</td>\n",
       "      <td>32.82</td>\n",
       "      <td>93.5</td>\n",
       "      <td>4.3</td>\n",
       "    </tr>\n",
       "    <tr>\n",
       "      <th>18</th>\n",
       "      <td>15534.6</td>\n",
       "      <td>6558.0</td>\n",
       "      <td>32.19</td>\n",
       "      <td>102.7</td>\n",
       "      <td>5.6</td>\n",
       "    </tr>\n",
       "    <tr>\n",
       "      <th>19</th>\n",
       "      <td>15544.5</td>\n",
       "      <td>6253.0</td>\n",
       "      <td>32.92</td>\n",
       "      <td>113.5</td>\n",
       "      <td>5.9</td>\n",
       "    </tr>\n",
       "  </tbody>\n",
       "</table>\n",
       "</div>"
      ],
      "text/plain": [
       "          y      x1     x2     x3   x4\n",
       "0   12345.0  2769.0  29.67   94.2  9.6\n",
       "1   12091.9  3065.0  28.94  101.1  9.5\n",
       "2   12339.7  3899.0  28.43  111.6  9.5\n",
       "3   12450.6  3790.0  27.50  119.7  9.6\n",
       "4   12832.1  3963.0  28.07  112.0  9.6\n",
       "5   12892.1  4224.0  28.08  112.0  9.4\n",
       "6   13224.5  4645.0  27.68  115.3  9.0\n",
       "7   13449.9  4914.0  28.86  109.6  8.2\n",
       "8   13476.8  4830.0  31.88  112.6  7.2\n",
       "9   13588.9  4815.0  29.90  108.7  7.2\n",
       "10  13600.4  4401.0  31.32  110.9  6.8\n",
       "11  13768.5  5189.0  32.20  108.0  6.1\n",
       "12  14796.6  3434.0  30.36  109.8  4.2\n",
       "13  14424.2  5195.0  28.95  119.2  3.7\n",
       "14  14607.3  5401.0  29.33  123.3  3.7\n",
       "15  14688.0  4239.0  29.36  117.8  3.6\n",
       "16  15057.3  4558.0  32.45  109.2  3.6\n",
       "17  15161.0  4675.0  32.82   93.5  4.3\n",
       "18  15534.6  6558.0  32.19  102.7  5.6\n",
       "19  15544.5  6253.0  32.92  113.5  5.9"
      ]
     },
     "execution_count": 3,
     "metadata": {},
     "output_type": "execute_result"
    }
   ],
   "source": [
    "train = data[0:20]\n",
    "train"
   ]
  },
  {
   "cell_type": "code",
   "execution_count": 4,
   "metadata": {},
   "outputs": [
    {
     "data": {
      "text/html": [
       "<div>\n",
       "<style scoped>\n",
       "    .dataframe tbody tr th:only-of-type {\n",
       "        vertical-align: middle;\n",
       "    }\n",
       "\n",
       "    .dataframe tbody tr th {\n",
       "        vertical-align: top;\n",
       "    }\n",
       "\n",
       "    .dataframe thead th {\n",
       "        text-align: right;\n",
       "    }\n",
       "</style>\n",
       "<table border=\"1\" class=\"dataframe\">\n",
       "  <thead>\n",
       "    <tr style=\"text-align: right;\">\n",
       "      <th></th>\n",
       "      <th>y</th>\n",
       "      <th>x1</th>\n",
       "      <th>x2</th>\n",
       "      <th>x3</th>\n",
       "      <th>x4</th>\n",
       "    </tr>\n",
       "  </thead>\n",
       "  <tbody>\n",
       "    <tr>\n",
       "      <th>20</th>\n",
       "      <td>15644.4</td>\n",
       "      <td>5410.0</td>\n",
       "      <td>30.92</td>\n",
       "      <td>112.0</td>\n",
       "      <td>6.6</td>\n",
       "    </tr>\n",
       "    <tr>\n",
       "      <th>21</th>\n",
       "      <td>15717.8</td>\n",
       "      <td>5023.0</td>\n",
       "      <td>31.53</td>\n",
       "      <td>110.8</td>\n",
       "      <td>6.5</td>\n",
       "    </tr>\n",
       "  </tbody>\n",
       "</table>\n",
       "</div>"
      ],
      "text/plain": [
       "          y      x1     x2     x3   x4\n",
       "20  15644.4  5410.0  30.92  112.0  6.6\n",
       "21  15717.8  5023.0  31.53  110.8  6.5"
      ]
     },
     "execution_count": 4,
     "metadata": {},
     "output_type": "execute_result"
    }
   ],
   "source": [
    "test = data[20:22]\n",
    "test"
   ]
  },
  {
   "cell_type": "code",
   "execution_count": 5,
   "metadata": {},
   "outputs": [
    {
     "data": {
      "text/plain": [
       "y     float64\n",
       "x1    float64\n",
       "x2    float64\n",
       "x3    float64\n",
       "x4    float64\n",
       "dtype: object"
      ]
     },
     "execution_count": 5,
     "metadata": {},
     "output_type": "execute_result"
    }
   ],
   "source": [
    "data.dtypes"
   ]
  },
  {
   "cell_type": "markdown",
   "metadata": {},
   "source": [
    "### Общая информация о ряде"
   ]
  },
  {
   "cell_type": "code",
   "execution_count": 6,
   "metadata": {},
   "outputs": [
    {
     "data": {
      "text/html": [
       "<table class=\"simpletable\">\n",
       "<caption>OLS Regression Results</caption>\n",
       "<tr>\n",
       "  <th>Dep. Variable:</th>            <td>y</td>        <th>  R-squared:         </th> <td>   0.906</td>\n",
       "</tr>\n",
       "<tr>\n",
       "  <th>Model:</th>                   <td>OLS</td>       <th>  Adj. R-squared:    </th> <td>   0.881</td>\n",
       "</tr>\n",
       "<tr>\n",
       "  <th>Method:</th>             <td>Least Squares</td>  <th>  F-statistic:       </th> <td>   36.15</td>\n",
       "</tr>\n",
       "<tr>\n",
       "  <th>Date:</th>             <td>Sat, 27 Nov 2021</td> <th>  Prob (F-statistic):</th> <td>1.55e-07</td>\n",
       "</tr>\n",
       "<tr>\n",
       "  <th>Time:</th>                 <td>15:37:11</td>     <th>  Log-Likelihood:    </th> <td> -144.58</td>\n",
       "</tr>\n",
       "<tr>\n",
       "  <th>No. Observations:</th>      <td>    20</td>      <th>  AIC:               </th> <td>   299.2</td>\n",
       "</tr>\n",
       "<tr>\n",
       "  <th>Df Residuals:</th>          <td>    15</td>      <th>  BIC:               </th> <td>   304.1</td>\n",
       "</tr>\n",
       "<tr>\n",
       "  <th>Df Model:</th>              <td>     4</td>      <th>                     </th>     <td> </td>   \n",
       "</tr>\n",
       "<tr>\n",
       "  <th>Covariance Type:</th>      <td>nonrobust</td>    <th>                     </th>     <td> </td>   \n",
       "</tr>\n",
       "</table>\n",
       "<table class=\"simpletable\">\n",
       "<tr>\n",
       "      <td></td>         <th>coef</th>     <th>std err</th>      <th>t</th>      <th>P>|t|</th>  <th>[0.025</th>    <th>0.975]</th>  \n",
       "</tr>\n",
       "<tr>\n",
       "  <th>Intercept</th> <td> 1.498e+04</td> <td> 4173.954</td> <td>    3.589</td> <td> 0.003</td> <td> 6084.449</td> <td> 2.39e+04</td>\n",
       "</tr>\n",
       "<tr>\n",
       "  <th>x1</th>        <td>    0.4473</td> <td>    0.130</td> <td>    3.430</td> <td> 0.004</td> <td>    0.169</td> <td>    0.725</td>\n",
       "</tr>\n",
       "<tr>\n",
       "  <th>x2</th>        <td>   36.6988</td> <td>   89.377</td> <td>    0.411</td> <td> 0.687</td> <td> -153.805</td> <td>  227.202</td>\n",
       "</tr>\n",
       "<tr>\n",
       "  <th>x3</th>        <td>  -19.1364</td> <td>   17.123</td> <td>   -1.118</td> <td> 0.281</td> <td>  -55.634</td> <td>   17.361</td>\n",
       "</tr>\n",
       "<tr>\n",
       "  <th>x4</th>        <td> -324.5281</td> <td>   52.813</td> <td>   -6.145</td> <td> 0.000</td> <td> -437.096</td> <td> -211.960</td>\n",
       "</tr>\n",
       "</table>\n",
       "<table class=\"simpletable\">\n",
       "<tr>\n",
       "  <th>Omnibus:</th>       <td> 0.051</td> <th>  Durbin-Watson:     </th> <td>   1.815</td>\n",
       "</tr>\n",
       "<tr>\n",
       "  <th>Prob(Omnibus):</th> <td> 0.975</td> <th>  Jarque-Bera (JB):  </th> <td>   0.203</td>\n",
       "</tr>\n",
       "<tr>\n",
       "  <th>Skew:</th>          <td> 0.100</td> <th>  Prob(JB):          </th> <td>   0.903</td>\n",
       "</tr>\n",
       "<tr>\n",
       "  <th>Kurtosis:</th>      <td> 2.549</td> <th>  Cond. No.          </th> <td>2.25e+05</td>\n",
       "</tr>\n",
       "</table><br/><br/>Notes:<br/>[1] Standard Errors assume that the covariance matrix of the errors is correctly specified.<br/>[2] The condition number is large, 2.25e+05. This might indicate that there are<br/>strong multicollinearity or other numerical problems."
      ],
      "text/plain": [
       "<class 'statsmodels.iolib.summary.Summary'>\n",
       "\"\"\"\n",
       "                            OLS Regression Results                            \n",
       "==============================================================================\n",
       "Dep. Variable:                      y   R-squared:                       0.906\n",
       "Model:                            OLS   Adj. R-squared:                  0.881\n",
       "Method:                 Least Squares   F-statistic:                     36.15\n",
       "Date:                Sat, 27 Nov 2021   Prob (F-statistic):           1.55e-07\n",
       "Time:                        15:37:11   Log-Likelihood:                -144.58\n",
       "No. Observations:                  20   AIC:                             299.2\n",
       "Df Residuals:                      15   BIC:                             304.1\n",
       "Df Model:                           4                                         \n",
       "Covariance Type:            nonrobust                                         \n",
       "==============================================================================\n",
       "                 coef    std err          t      P>|t|      [0.025      0.975]\n",
       "------------------------------------------------------------------------------\n",
       "Intercept   1.498e+04   4173.954      3.589      0.003    6084.449    2.39e+04\n",
       "x1             0.4473      0.130      3.430      0.004       0.169       0.725\n",
       "x2            36.6988     89.377      0.411      0.687    -153.805     227.202\n",
       "x3           -19.1364     17.123     -1.118      0.281     -55.634      17.361\n",
       "x4          -324.5281     52.813     -6.145      0.000    -437.096    -211.960\n",
       "==============================================================================\n",
       "Omnibus:                        0.051   Durbin-Watson:                   1.815\n",
       "Prob(Omnibus):                  0.975   Jarque-Bera (JB):                0.203\n",
       "Skew:                           0.100   Prob(JB):                        0.903\n",
       "Kurtosis:                       2.549   Cond. No.                     2.25e+05\n",
       "==============================================================================\n",
       "\n",
       "Notes:\n",
       "[1] Standard Errors assume that the covariance matrix of the errors is correctly specified.\n",
       "[2] The condition number is large, 2.25e+05. This might indicate that there are\n",
       "strong multicollinearity or other numerical problems.\n",
       "\"\"\""
      ]
     },
     "execution_count": 6,
     "metadata": {},
     "output_type": "execute_result"
    }
   ],
   "source": [
    "model = statsmodels.formula.api.ols(formula=\"y ~ x1 + x2 + x3 + x4\", data=train)\n",
    "results = model.fit()\n",
    "df = pd.read_html(results.summary().tables[1].as_html(),header=0,index_col=0)[0]\n",
    "results.summary()"
   ]
  },
  {
   "cell_type": "markdown",
   "metadata": {},
   "source": [
    "### Корреляции"
   ]
  },
  {
   "cell_type": "code",
   "execution_count": 7,
   "metadata": {},
   "outputs": [],
   "source": [
    "import matplotlib.pyplot as plt\n",
    "import seaborn as sns"
   ]
  },
  {
   "cell_type": "code",
   "execution_count": 8,
   "metadata": {},
   "outputs": [
    {
     "data": {
      "image/png": "[encoded data removed]",
      "text/plain": [
       "<Figure size 960x800 with 2 Axes>"
      ]
     },
     "metadata": {
      "needs_background": "light"
     },
     "output_type": "display_data"
    }
   ],
   "source": [
    "# Plot\n",
    "plt.figure(figsize=(12,10), dpi= 80)\n",
    "sns.heatmap(train.corr(), xticklabels=data.corr().columns, yticklabels=data.corr().columns, cmap='RdYlGn', center=0, annot=True)\n",
    "\n",
    "# Decorations\n",
    "plt.xticks(fontsize=12)\n",
    "plt.yticks(fontsize=12)\n",
    "plt.savefig('./correl_all.png')\n",
    "plt.show()"
   ]
  },
  {
   "cell_type": "code",
   "execution_count": 9,
   "metadata": {},
   "outputs": [
    {
     "data": {
      "text/plain": [
       "<Figure size 800x640 with 0 Axes>"
      ]
     },
     "metadata": {},
     "output_type": "display_data"
    },
    {
     "data": {
      "image/png": "[encoded data removed]",
      "text/plain": [
       "<Figure size 900x900 with 30 Axes>"
      ]
     },
     "metadata": {
      "needs_background": "light"
     },
     "output_type": "display_data"
    }
   ],
   "source": [
    "plt.figure(figsize=(10,8), dpi= 80)\n",
    "sns.pairplot(train, kind=\"reg\")\n",
    "plt.savefig('./correl_all_plts.png')\n",
    "plt.show()"
   ]
  },
  {
   "cell_type": "markdown",
   "metadata": {},
   "source": [
    "### Проверьте значимость модели регрессии в целом и каждого коэффициента модели по отдельности."
   ]
  },
  {
   "cell_type": "markdown",
   "metadata": {},
   "source": [
    "#### Коэфф детерминации R^2"
   ]
  },
  {
   "cell_type": "code",
   "execution_count": 10,
   "metadata": {},
   "outputs": [
    {
     "name": "stdout",
     "output_type": "stream",
     "text": [
      "0.906017889736171\n"
     ]
    }
   ],
   "source": [
    "print(results.rsquared)"
   ]
  },
  {
   "cell_type": "markdown",
   "metadata": {},
   "source": [
    "Модель очень качественная R^2 = 0.906017889736171 (приближено к 1)"
   ]
  },
  {
   "cell_type": "markdown",
   "metadata": {},
   "source": [
    "#### Скорректированный коэфф детерминации R^2"
   ]
  },
  {
   "cell_type": "code",
   "execution_count": 11,
   "metadata": {},
   "outputs": [
    {
     "name": "stdout",
     "output_type": "stream",
     "text": [
      "0.8809559936658167\n"
     ]
    }
   ],
   "source": [
    "print(results.rsquared_adj)"
   ]
  },
  {
   "cell_type": "markdown",
   "metadata": {},
   "source": [
    "Модель очень качественная R^2 исп = 0.8809559936658167 (приближено к 1)"
   ]
  },
  {
   "cell_type": "markdown",
   "metadata": {},
   "source": [
    "#### Средняя ошибка модели"
   ]
  },
  {
   "cell_type": "code",
   "execution_count": 12,
   "metadata": {},
   "outputs": [
    {
     "name": "stdout",
     "output_type": "stream",
     "text": [
      "385.3485703727518\n"
     ]
    }
   ],
   "source": [
    "print(np.sqrt(results.scale))"
   ]
  },
  {
   "cell_type": "code",
   "execution_count": 13,
   "metadata": {},
   "outputs": [
    {
     "data": {
      "text/plain": [
       "0     12345.0\n",
       "1     12091.9\n",
       "2     12339.7\n",
       "3     12450.6\n",
       "4     12832.1\n",
       "5     12892.1\n",
       "6     13224.5\n",
       "7     13449.9\n",
       "8     13476.8\n",
       "9     13588.9\n",
       "10    13600.4\n",
       "11    13768.5\n",
       "12    14796.6\n",
       "13    14424.2\n",
       "14    14607.3\n",
       "15    14688.0\n",
       "16    15057.3\n",
       "17    15161.0\n",
       "18    15534.6\n",
       "19    15544.5\n",
       "20    15644.4\n",
       "21    15717.8\n",
       "Name: y, dtype: float64"
      ]
     },
     "execution_count": 13,
     "metadata": {},
     "output_type": "execute_result"
    }
   ],
   "source": [
    "y"
   ]
  },
  {
   "cell_type": "markdown",
   "metadata": {},
   "source": [
    "Качество хорошее т.к. относительно аргумента y дельта не очень большая"
   ]
  },
  {
   "cell_type": "markdown",
   "metadata": {},
   "source": [
    "#### F-значение"
   ]
  },
  {
   "cell_type": "code",
   "execution_count": 14,
   "metadata": {},
   "outputs": [
    {
     "data": {
      "text/plain": [
       "36.15121087378124"
      ]
     },
     "execution_count": 14,
     "metadata": {},
     "output_type": "execute_result"
    }
   ],
   "source": [
    "results.fvalue"
   ]
  },
  {
   "cell_type": "markdown",
   "metadata": {},
   "source": [
    "#### P-значения"
   ]
  },
  {
   "cell_type": "code",
   "execution_count": 15,
   "metadata": {},
   "outputs": [
    {
     "data": {
      "text/plain": [
       "Intercept    0.002685\n",
       "x1           0.003720\n",
       "x2           0.687168\n",
       "x3           0.281337\n",
       "x4           0.000019\n",
       "Name: P>|t|, dtype: float64"
      ]
     },
     "execution_count": 15,
     "metadata": {},
     "output_type": "execute_result"
    }
   ],
   "source": [
    "p_values = results.summary2().tables[1]['P>|t|']\n",
    "p_values"
   ]
  },
  {
   "cell_type": "markdown",
   "metadata": {},
   "source": [
    "#### Сделайте выводы о качестве модели."
   ]
  },
  {
   "cell_type": "markdown",
   "metadata": {},
   "source": [
    "Можем сделать вывод о том, что модель качественная"
   ]
  },
  {
   "cell_type": "markdown",
   "metadata": {},
   "source": [
    "#### Прогнозирование"
   ]
  },
  {
   "cell_type": "code",
   "execution_count": 16,
   "metadata": {},
   "outputs": [
    {
     "data": {
      "text/html": [
       "<div>\n",
       "<style scoped>\n",
       "    .dataframe tbody tr th:only-of-type {\n",
       "        vertical-align: middle;\n",
       "    }\n",
       "\n",
       "    .dataframe tbody tr th {\n",
       "        vertical-align: top;\n",
       "    }\n",
       "\n",
       "    .dataframe thead th {\n",
       "        text-align: right;\n",
       "    }\n",
       "</style>\n",
       "<table border=\"1\" class=\"dataframe\">\n",
       "  <thead>\n",
       "    <tr style=\"text-align: right;\">\n",
       "      <th></th>\n",
       "      <th>y</th>\n",
       "      <th>x1</th>\n",
       "      <th>x2</th>\n",
       "      <th>x3</th>\n",
       "      <th>x4</th>\n",
       "    </tr>\n",
       "  </thead>\n",
       "  <tbody>\n",
       "    <tr>\n",
       "      <th>20</th>\n",
       "      <td>15644.4</td>\n",
       "      <td>5410.0</td>\n",
       "      <td>30.92</td>\n",
       "      <td>112.0</td>\n",
       "      <td>6.6</td>\n",
       "    </tr>\n",
       "    <tr>\n",
       "      <th>21</th>\n",
       "      <td>15717.8</td>\n",
       "      <td>5023.0</td>\n",
       "      <td>31.53</td>\n",
       "      <td>110.8</td>\n",
       "      <td>6.5</td>\n",
       "    </tr>\n",
       "  </tbody>\n",
       "</table>\n",
       "</div>"
      ],
      "text/plain": [
       "          y      x1     x2     x3   x4\n",
       "20  15644.4  5410.0  30.92  112.0  6.6\n",
       "21  15717.8  5023.0  31.53  110.8  6.5"
      ]
     },
     "execution_count": 16,
     "metadata": {},
     "output_type": "execute_result"
    }
   ],
   "source": [
    "test"
   ]
  },
  {
   "cell_type": "code",
   "execution_count": 17,
   "metadata": {},
   "outputs": [
    {
     "data": {
      "text/html": [
       "<div>\n",
       "<style scoped>\n",
       "    .dataframe tbody tr th:only-of-type {\n",
       "        vertical-align: middle;\n",
       "    }\n",
       "\n",
       "    .dataframe tbody tr th {\n",
       "        vertical-align: top;\n",
       "    }\n",
       "\n",
       "    .dataframe thead th {\n",
       "        text-align: right;\n",
       "    }\n",
       "</style>\n",
       "<table border=\"1\" class=\"dataframe\">\n",
       "  <thead>\n",
       "    <tr style=\"text-align: right;\">\n",
       "      <th></th>\n",
       "      <th>mean</th>\n",
       "      <th>mean_se</th>\n",
       "      <th>mean_ci_lower</th>\n",
       "      <th>mean_ci_upper</th>\n",
       "      <th>obs_ci_lower</th>\n",
       "      <th>obs_ci_upper</th>\n",
       "    </tr>\n",
       "  </thead>\n",
       "  <tbody>\n",
       "    <tr>\n",
       "      <th>0</th>\n",
       "      <td>14250.571960</td>\n",
       "      <td>126.652990</td>\n",
       "      <td>13980.617503</td>\n",
       "      <td>14520.526417</td>\n",
       "      <td>13385.995225</td>\n",
       "      <td>15115.148696</td>\n",
       "    </tr>\n",
       "    <tr>\n",
       "      <th>1</th>\n",
       "      <td>14155.262839</td>\n",
       "      <td>135.924016</td>\n",
       "      <td>13865.547656</td>\n",
       "      <td>14444.978022</td>\n",
       "      <td>13284.313696</td>\n",
       "      <td>15026.211982</td>\n",
       "    </tr>\n",
       "  </tbody>\n",
       "</table>\n",
       "</div>"
      ],
      "text/plain": [
       "           mean     mean_se  mean_ci_lower  mean_ci_upper  obs_ci_lower  \\\n",
       "0  14250.571960  126.652990   13980.617503   14520.526417  13385.995225   \n",
       "1  14155.262839  135.924016   13865.547656   14444.978022  13284.313696   \n",
       "\n",
       "   obs_ci_upper  \n",
       "0  15115.148696  \n",
       "1  15026.211982  "
      ]
     },
     "execution_count": 17,
     "metadata": {},
     "output_type": "execute_result"
    }
   ],
   "source": [
    "predicts = results.get_prediction(test).summary_frame(0.05)\n",
    "predicts"
   ]
  },
  {
   "cell_type": "markdown",
   "metadata": {},
   "source": [
    "yреал_20=15644.4; yреал_20∉(13385.995225;15115.148696) - предиктивный<br>\n",
    "yреал_20=15644.4; yреал_20∉(13980.617503;14520.526417) - доверительный<br>"
   ]
  },
  {
   "cell_type": "markdown",
   "metadata": {},
   "source": [
    "yреал_21=15717.8; yреал_21∉(13284.313696;15026.211982) - предиктивный<br>\n",
    "yреал_21=15717.8; yреал_21∉(13865.547656;14444.978022) - доверительный<br>"
   ]
  },
  {
   "cell_type": "markdown",
   "metadata": {},
   "source": [
    "**Модель неадекватна по обоим интервалам**"
   ]
  },
  {
   "cell_type": "markdown",
   "metadata": {},
   "source": [
    "### Выкидыванием фактор x3"
   ]
  },
  {
   "cell_type": "code",
   "execution_count": 18,
   "metadata": {},
   "outputs": [
    {
     "data": {
      "text/html": [
       "<table class=\"simpletable\">\n",
       "<caption>OLS Regression Results</caption>\n",
       "<tr>\n",
       "  <th>Dep. Variable:</th>            <td>y</td>        <th>  R-squared:         </th> <td>   0.898</td>\n",
       "</tr>\n",
       "<tr>\n",
       "  <th>Model:</th>                   <td>OLS</td>       <th>  Adj. R-squared:    </th> <td>   0.879</td>\n",
       "</tr>\n",
       "<tr>\n",
       "  <th>Method:</th>             <td>Least Squares</td>  <th>  F-statistic:       </th> <td>   47.05</td>\n",
       "</tr>\n",
       "<tr>\n",
       "  <th>Date:</th>             <td>Sat, 27 Nov 2021</td> <th>  Prob (F-statistic):</th> <td>3.67e-08</td>\n",
       "</tr>\n",
       "<tr>\n",
       "  <th>Time:</th>                 <td>15:37:13</td>     <th>  Log-Likelihood:    </th> <td> -145.38</td>\n",
       "</tr>\n",
       "<tr>\n",
       "  <th>No. Observations:</th>      <td>    20</td>      <th>  AIC:               </th> <td>   298.8</td>\n",
       "</tr>\n",
       "<tr>\n",
       "  <th>Df Residuals:</th>          <td>    16</td>      <th>  BIC:               </th> <td>   302.8</td>\n",
       "</tr>\n",
       "<tr>\n",
       "  <th>Df Model:</th>              <td>     3</td>      <th>                     </th>     <td> </td>   \n",
       "</tr>\n",
       "<tr>\n",
       "  <th>Covariance Type:</th>      <td>nonrobust</td>    <th>                     </th>     <td> </td>   \n",
       "</tr>\n",
       "</table>\n",
       "<table class=\"simpletable\">\n",
       "<tr>\n",
       "      <td></td>         <th>coef</th>     <th>std err</th>      <th>t</th>      <th>P>|t|</th>  <th>[0.025</th>    <th>0.975]</th>  \n",
       "</tr>\n",
       "<tr>\n",
       "  <th>Intercept</th> <td> 1.086e+04</td> <td> 1968.134</td> <td>    5.517</td> <td> 0.000</td> <td> 6686.254</td> <td>  1.5e+04</td>\n",
       "</tr>\n",
       "<tr>\n",
       "  <th>x1</th>        <td>    0.3716</td> <td>    0.112</td> <td>    3.310</td> <td> 0.004</td> <td>    0.134</td> <td>    0.610</td>\n",
       "</tr>\n",
       "<tr>\n",
       "  <th>x2</th>        <td>  108.8831</td> <td>   62.255</td> <td>    1.749</td> <td> 0.099</td> <td>  -23.092</td> <td>  240.858</td>\n",
       "</tr>\n",
       "<tr>\n",
       "  <th>x4</th>        <td> -296.9100</td> <td>   47.036</td> <td>   -6.312</td> <td> 0.000</td> <td> -396.621</td> <td> -197.199</td>\n",
       "</tr>\n",
       "</table>\n",
       "<table class=\"simpletable\">\n",
       "<tr>\n",
       "  <th>Omnibus:</th>       <td> 0.560</td> <th>  Durbin-Watson:     </th> <td>   1.680</td>\n",
       "</tr>\n",
       "<tr>\n",
       "  <th>Prob(Omnibus):</th> <td> 0.756</td> <th>  Jarque-Bera (JB):  </th> <td>   0.626</td>\n",
       "</tr>\n",
       "<tr>\n",
       "  <th>Skew:</th>          <td>-0.184</td> <th>  Prob(JB):          </th> <td>   0.731</td>\n",
       "</tr>\n",
       "<tr>\n",
       "  <th>Kurtosis:</th>      <td> 2.216</td> <th>  Cond. No.          </th> <td>1.05e+05</td>\n",
       "</tr>\n",
       "</table><br/><br/>Notes:<br/>[1] Standard Errors assume that the covariance matrix of the errors is correctly specified.<br/>[2] The condition number is large, 1.05e+05. This might indicate that there are<br/>strong multicollinearity or other numerical problems."
      ],
      "text/plain": [
       "<class 'statsmodels.iolib.summary.Summary'>\n",
       "\"\"\"\n",
       "                            OLS Regression Results                            \n",
       "==============================================================================\n",
       "Dep. Variable:                      y   R-squared:                       0.898\n",
       "Model:                            OLS   Adj. R-squared:                  0.879\n",
       "Method:                 Least Squares   F-statistic:                     47.05\n",
       "Date:                Sat, 27 Nov 2021   Prob (F-statistic):           3.67e-08\n",
       "Time:                        15:37:13   Log-Likelihood:                -145.38\n",
       "No. Observations:                  20   AIC:                             298.8\n",
       "Df Residuals:                      16   BIC:                             302.8\n",
       "Df Model:                           3                                         \n",
       "Covariance Type:            nonrobust                                         \n",
       "==============================================================================\n",
       "                 coef    std err          t      P>|t|      [0.025      0.975]\n",
       "------------------------------------------------------------------------------\n",
       "Intercept   1.086e+04   1968.134      5.517      0.000    6686.254     1.5e+04\n",
       "x1             0.3716      0.112      3.310      0.004       0.134       0.610\n",
       "x2           108.8831     62.255      1.749      0.099     -23.092     240.858\n",
       "x4          -296.9100     47.036     -6.312      0.000    -396.621    -197.199\n",
       "==============================================================================\n",
       "Omnibus:                        0.560   Durbin-Watson:                   1.680\n",
       "Prob(Omnibus):                  0.756   Jarque-Bera (JB):                0.626\n",
       "Skew:                          -0.184   Prob(JB):                        0.731\n",
       "Kurtosis:                       2.216   Cond. No.                     1.05e+05\n",
       "==============================================================================\n",
       "\n",
       "Notes:\n",
       "[1] Standard Errors assume that the covariance matrix of the errors is correctly specified.\n",
       "[2] The condition number is large, 1.05e+05. This might indicate that there are\n",
       "strong multicollinearity or other numerical problems.\n",
       "\"\"\""
      ]
     },
     "execution_count": 18,
     "metadata": {},
     "output_type": "execute_result"
    }
   ],
   "source": [
    "model2 = statsmodels.formula.api.ols(formula=\"y ~ x1 + x2 + x4\", data=train)\n",
    "results2 = model2.fit()\n",
    "df2 = pd.read_html(results2.summary().tables[1].as_html(),header=0,index_col=0)[0]\n",
    "results2.summary()"
   ]
  },
  {
   "cell_type": "markdown",
   "metadata": {},
   "source": [
    "#### Прогнозирование"
   ]
  },
  {
   "cell_type": "code",
   "execution_count": 19,
   "metadata": {},
   "outputs": [
    {
     "data": {
      "text/html": [
       "<div>\n",
       "<style scoped>\n",
       "    .dataframe tbody tr th:only-of-type {\n",
       "        vertical-align: middle;\n",
       "    }\n",
       "\n",
       "    .dataframe tbody tr th {\n",
       "        vertical-align: top;\n",
       "    }\n",
       "\n",
       "    .dataframe thead th {\n",
       "        text-align: right;\n",
       "    }\n",
       "</style>\n",
       "<table border=\"1\" class=\"dataframe\">\n",
       "  <thead>\n",
       "    <tr style=\"text-align: right;\">\n",
       "      <th></th>\n",
       "      <th>y</th>\n",
       "      <th>x1</th>\n",
       "      <th>x2</th>\n",
       "      <th>x3</th>\n",
       "      <th>x4</th>\n",
       "    </tr>\n",
       "  </thead>\n",
       "  <tbody>\n",
       "    <tr>\n",
       "      <th>20</th>\n",
       "      <td>15644.4</td>\n",
       "      <td>5410.0</td>\n",
       "      <td>30.92</td>\n",
       "      <td>112.0</td>\n",
       "      <td>6.6</td>\n",
       "    </tr>\n",
       "    <tr>\n",
       "      <th>21</th>\n",
       "      <td>15717.8</td>\n",
       "      <td>5023.0</td>\n",
       "      <td>31.53</td>\n",
       "      <td>110.8</td>\n",
       "      <td>6.5</td>\n",
       "    </tr>\n",
       "  </tbody>\n",
       "</table>\n",
       "</div>"
      ],
      "text/plain": [
       "          y      x1     x2     x3   x4\n",
       "20  15644.4  5410.0  30.92  112.0  6.6\n",
       "21  15717.8  5023.0  31.53  110.8  6.5"
      ]
     },
     "execution_count": 19,
     "metadata": {},
     "output_type": "execute_result"
    }
   ],
   "source": [
    "test"
   ]
  },
  {
   "cell_type": "code",
   "execution_count": 20,
   "metadata": {},
   "outputs": [
    {
     "data": {
      "text/html": [
       "<div>\n",
       "<style scoped>\n",
       "    .dataframe tbody tr th:only-of-type {\n",
       "        vertical-align: middle;\n",
       "    }\n",
       "\n",
       "    .dataframe tbody tr th {\n",
       "        vertical-align: top;\n",
       "    }\n",
       "\n",
       "    .dataframe thead th {\n",
       "        text-align: right;\n",
       "    }\n",
       "</style>\n",
       "<table border=\"1\" class=\"dataframe\">\n",
       "  <thead>\n",
       "    <tr style=\"text-align: right;\">\n",
       "      <th></th>\n",
       "      <th>mean</th>\n",
       "      <th>mean_se</th>\n",
       "      <th>mean_ci_lower</th>\n",
       "      <th>mean_ci_upper</th>\n",
       "      <th>obs_ci_lower</th>\n",
       "      <th>obs_ci_upper</th>\n",
       "    </tr>\n",
       "  </thead>\n",
       "  <tbody>\n",
       "    <tr>\n",
       "      <th>0</th>\n",
       "      <td>14275.686143</td>\n",
       "      <td>125.609252</td>\n",
       "      <td>14009.406423</td>\n",
       "      <td>14541.965863</td>\n",
       "      <td>13410.459547</td>\n",
       "      <td>15140.912739</td>\n",
       "    </tr>\n",
       "    <tr>\n",
       "      <th>1</th>\n",
       "      <td>14228.003972</td>\n",
       "      <td>120.250711</td>\n",
       "      <td>13973.083853</td>\n",
       "      <td>14482.924092</td>\n",
       "      <td>13366.205596</td>\n",
       "      <td>15089.802348</td>\n",
       "    </tr>\n",
       "  </tbody>\n",
       "</table>\n",
       "</div>"
      ],
      "text/plain": [
       "           mean     mean_se  mean_ci_lower  mean_ci_upper  obs_ci_lower  \\\n",
       "0  14275.686143  125.609252   14009.406423   14541.965863  13410.459547   \n",
       "1  14228.003972  120.250711   13973.083853   14482.924092  13366.205596   \n",
       "\n",
       "   obs_ci_upper  \n",
       "0  15140.912739  \n",
       "1  15089.802348  "
      ]
     },
     "execution_count": 20,
     "metadata": {},
     "output_type": "execute_result"
    }
   ],
   "source": [
    "predicts2 = results2.get_prediction(test).summary_frame(0.05)\n",
    "predicts2"
   ]
  },
  {
   "cell_type": "markdown",
   "metadata": {},
   "source": [
    "yреал_20=15644.4; yреал_20∉(13410.459547;15140.912739) - предиктивный<br>\n",
    "yреал_20=15644.4; yреал_20∉(14009.406423;14541.965863) - доверительный<br>"
   ]
  },
  {
   "cell_type": "markdown",
   "metadata": {},
   "source": [
    "yреал_21=15717.8; yреал_21∉(13366.205596;15089.802348) - предиктивный<br>\n",
    "yреал_21=15717.8; yреал_21∉(13973.083853;14482.924092) - доверительный<br>"
   ]
  },
  {
   "cell_type": "markdown",
   "metadata": {},
   "source": [
    "**Модель неадекватна по обоим интервалам**"
   ]
  },
  {
   "cell_type": "markdown",
   "metadata": {},
   "source": [
    "### Выкидываем фактор x3 и x2"
   ]
  },
  {
   "cell_type": "code",
   "execution_count": 21,
   "metadata": {},
   "outputs": [
    {
     "data": {
      "text/html": [
       "<table class=\"simpletable\">\n",
       "<caption>OLS Regression Results</caption>\n",
       "<tr>\n",
       "  <th>Dep. Variable:</th>            <td>y</td>        <th>  R-squared:         </th> <td>   0.879</td>\n",
       "</tr>\n",
       "<tr>\n",
       "  <th>Model:</th>                   <td>OLS</td>       <th>  Adj. R-squared:    </th> <td>   0.864</td>\n",
       "</tr>\n",
       "<tr>\n",
       "  <th>Method:</th>             <td>Least Squares</td>  <th>  F-statistic:       </th> <td>   61.59</td>\n",
       "</tr>\n",
       "<tr>\n",
       "  <th>Date:</th>             <td>Sat, 27 Nov 2021</td> <th>  Prob (F-statistic):</th> <td>1.63e-08</td>\n",
       "</tr>\n",
       "<tr>\n",
       "  <th>Time:</th>                 <td>15:37:13</td>     <th>  Log-Likelihood:    </th> <td> -147.13</td>\n",
       "</tr>\n",
       "<tr>\n",
       "  <th>No. Observations:</th>      <td>    20</td>      <th>  AIC:               </th> <td>   300.3</td>\n",
       "</tr>\n",
       "<tr>\n",
       "  <th>Df Residuals:</th>          <td>    17</td>      <th>  BIC:               </th> <td>   303.3</td>\n",
       "</tr>\n",
       "<tr>\n",
       "  <th>Df Model:</th>              <td>     2</td>      <th>                     </th>     <td> </td>   \n",
       "</tr>\n",
       "<tr>\n",
       "  <th>Covariance Type:</th>      <td>nonrobust</td>    <th>                     </th>     <td> </td>   \n",
       "</tr>\n",
       "</table>\n",
       "<table class=\"simpletable\">\n",
       "<tr>\n",
       "      <td></td>         <th>coef</th>     <th>std err</th>      <th>t</th>      <th>P>|t|</th>  <th>[0.025</th>    <th>0.975]</th>  \n",
       "</tr>\n",
       "<tr>\n",
       "  <th>Intercept</th> <td> 1.409e+04</td> <td>  714.113</td> <td>   19.734</td> <td> 0.000</td> <td> 1.26e+04</td> <td> 1.56e+04</td>\n",
       "</tr>\n",
       "<tr>\n",
       "  <th>x1</th>        <td>    0.4336</td> <td>    0.113</td> <td>    3.844</td> <td> 0.001</td> <td>    0.196</td> <td>    0.672</td>\n",
       "</tr>\n",
       "<tr>\n",
       "  <th>x4</th>        <td> -332.7165</td> <td>   44.838</td> <td>   -7.420</td> <td> 0.000</td> <td> -427.316</td> <td> -238.117</td>\n",
       "</tr>\n",
       "</table>\n",
       "<table class=\"simpletable\">\n",
       "<tr>\n",
       "  <th>Omnibus:</th>       <td> 0.226</td> <th>  Durbin-Watson:     </th> <td>   1.444</td>\n",
       "</tr>\n",
       "<tr>\n",
       "  <th>Prob(Omnibus):</th> <td> 0.893</td> <th>  Jarque-Bera (JB):  </th> <td>   0.421</td>\n",
       "</tr>\n",
       "<tr>\n",
       "  <th>Skew:</th>          <td> 0.043</td> <th>  Prob(JB):          </th> <td>   0.810</td>\n",
       "</tr>\n",
       "<tr>\n",
       "  <th>Kurtosis:</th>      <td> 2.295</td> <th>  Cond. No.          </th> <td>3.60e+04</td>\n",
       "</tr>\n",
       "</table><br/><br/>Notes:<br/>[1] Standard Errors assume that the covariance matrix of the errors is correctly specified.<br/>[2] The condition number is large, 3.6e+04. This might indicate that there are<br/>strong multicollinearity or other numerical problems."
      ],
      "text/plain": [
       "<class 'statsmodels.iolib.summary.Summary'>\n",
       "\"\"\"\n",
       "                            OLS Regression Results                            \n",
       "==============================================================================\n",
       "Dep. Variable:                      y   R-squared:                       0.879\n",
       "Model:                            OLS   Adj. R-squared:                  0.864\n",
       "Method:                 Least Squares   F-statistic:                     61.59\n",
       "Date:                Sat, 27 Nov 2021   Prob (F-statistic):           1.63e-08\n",
       "Time:                        15:37:13   Log-Likelihood:                -147.13\n",
       "No. Observations:                  20   AIC:                             300.3\n",
       "Df Residuals:                      17   BIC:                             303.3\n",
       "Df Model:                           2                                         \n",
       "Covariance Type:            nonrobust                                         \n",
       "==============================================================================\n",
       "                 coef    std err          t      P>|t|      [0.025      0.975]\n",
       "------------------------------------------------------------------------------\n",
       "Intercept   1.409e+04    714.113     19.734      0.000    1.26e+04    1.56e+04\n",
       "x1             0.4336      0.113      3.844      0.001       0.196       0.672\n",
       "x4          -332.7165     44.838     -7.420      0.000    -427.316    -238.117\n",
       "==============================================================================\n",
       "Omnibus:                        0.226   Durbin-Watson:                   1.444\n",
       "Prob(Omnibus):                  0.893   Jarque-Bera (JB):                0.421\n",
       "Skew:                           0.043   Prob(JB):                        0.810\n",
       "Kurtosis:                       2.295   Cond. No.                     3.60e+04\n",
       "==============================================================================\n",
       "\n",
       "Notes:\n",
       "[1] Standard Errors assume that the covariance matrix of the errors is correctly specified.\n",
       "[2] The condition number is large, 3.6e+04. This might indicate that there are\n",
       "strong multicollinearity or other numerical problems.\n",
       "\"\"\""
      ]
     },
     "execution_count": 21,
     "metadata": {},
     "output_type": "execute_result"
    }
   ],
   "source": [
    "model3 = statsmodels.formula.api.ols(formula=\"y ~ x1 + x4\", data=train)\n",
    "results3 = model3.fit()\n",
    "df3 = pd.read_html(results3.summary().tables[1].as_html(),header=0,index_col=0)[0]\n",
    "results3.summary()"
   ]
  },
  {
   "cell_type": "code",
   "execution_count": 22,
   "metadata": {},
   "outputs": [
    {
     "data": {
      "text/html": [
       "<div>\n",
       "<style scoped>\n",
       "    .dataframe tbody tr th:only-of-type {\n",
       "        vertical-align: middle;\n",
       "    }\n",
       "\n",
       "    .dataframe tbody tr th {\n",
       "        vertical-align: top;\n",
       "    }\n",
       "\n",
       "    .dataframe thead th {\n",
       "        text-align: right;\n",
       "    }\n",
       "</style>\n",
       "<table border=\"1\" class=\"dataframe\">\n",
       "  <thead>\n",
       "    <tr style=\"text-align: right;\">\n",
       "      <th></th>\n",
       "      <th>y</th>\n",
       "      <th>x1</th>\n",
       "      <th>x2</th>\n",
       "      <th>x3</th>\n",
       "      <th>x4</th>\n",
       "    </tr>\n",
       "  </thead>\n",
       "  <tbody>\n",
       "    <tr>\n",
       "      <th>20</th>\n",
       "      <td>15644.4</td>\n",
       "      <td>5410.0</td>\n",
       "      <td>30.92</td>\n",
       "      <td>112.0</td>\n",
       "      <td>6.6</td>\n",
       "    </tr>\n",
       "    <tr>\n",
       "      <th>21</th>\n",
       "      <td>15717.8</td>\n",
       "      <td>5023.0</td>\n",
       "      <td>31.53</td>\n",
       "      <td>110.8</td>\n",
       "      <td>6.5</td>\n",
       "    </tr>\n",
       "  </tbody>\n",
       "</table>\n",
       "</div>"
      ],
      "text/plain": [
       "          y      x1     x2     x3   x4\n",
       "20  15644.4  5410.0  30.92  112.0  6.6\n",
       "21  15717.8  5023.0  31.53  110.8  6.5"
      ]
     },
     "execution_count": 22,
     "metadata": {},
     "output_type": "execute_result"
    }
   ],
   "source": [
    "test"
   ]
  },
  {
   "cell_type": "code",
   "execution_count": 23,
   "metadata": {},
   "outputs": [
    {
     "data": {
      "text/html": [
       "<div>\n",
       "<style scoped>\n",
       "    .dataframe tbody tr th:only-of-type {\n",
       "        vertical-align: middle;\n",
       "    }\n",
       "\n",
       "    .dataframe tbody tr th {\n",
       "        vertical-align: top;\n",
       "    }\n",
       "\n",
       "    .dataframe thead th {\n",
       "        text-align: right;\n",
       "    }\n",
       "</style>\n",
       "<table border=\"1\" class=\"dataframe\">\n",
       "  <thead>\n",
       "    <tr style=\"text-align: right;\">\n",
       "      <th></th>\n",
       "      <th>mean</th>\n",
       "      <th>mean_se</th>\n",
       "      <th>mean_ci_lower</th>\n",
       "      <th>mean_ci_upper</th>\n",
       "      <th>obs_ci_lower</th>\n",
       "      <th>obs_ci_upper</th>\n",
       "    </tr>\n",
       "  </thead>\n",
       "  <tbody>\n",
       "    <tr>\n",
       "      <th>0</th>\n",
       "      <td>14242.075714</td>\n",
       "      <td>131.432766</td>\n",
       "      <td>13964.776816</td>\n",
       "      <td>14519.374611</td>\n",
       "      <td>13331.321865</td>\n",
       "      <td>15152.829562</td>\n",
       "    </tr>\n",
       "    <tr>\n",
       "      <th>1</th>\n",
       "      <td>14107.551642</td>\n",
       "      <td>104.374703</td>\n",
       "      <td>13887.340267</td>\n",
       "      <td>14327.763017</td>\n",
       "      <td>13212.525975</td>\n",
       "      <td>15002.577309</td>\n",
       "    </tr>\n",
       "  </tbody>\n",
       "</table>\n",
       "</div>"
      ],
      "text/plain": [
       "           mean     mean_se  mean_ci_lower  mean_ci_upper  obs_ci_lower  \\\n",
       "0  14242.075714  131.432766   13964.776816   14519.374611  13331.321865   \n",
       "1  14107.551642  104.374703   13887.340267   14327.763017  13212.525975   \n",
       "\n",
       "   obs_ci_upper  \n",
       "0  15152.829562  \n",
       "1  15002.577309  "
      ]
     },
     "execution_count": 23,
     "metadata": {},
     "output_type": "execute_result"
    }
   ],
   "source": [
    "predicts3 = results3.get_prediction(test).summary_frame(0.05)\n",
    "predicts3"
   ]
  },
  {
   "cell_type": "markdown",
   "metadata": {},
   "source": [
    "yреал_20=15644.4; yреал_20∉(13331.321865;15152.829562) - предиктивный<br>\n",
    "yреал_20=15644.4; yреал_20∉(13964.776816;14519.374611) - доверительный<br>"
   ]
  },
  {
   "cell_type": "markdown",
   "metadata": {},
   "source": [
    "yреал_21=15717.8; yреал_21∉(13212.525975;15002.577309) - предиктивный<br>\n",
    "yреал_21=15717.8; yреал_21∉(13887.340267;14327.763017) - доверительный<br>"
   ]
  },
  {
   "cell_type": "markdown",
   "metadata": {},
   "source": [
    "**Модель все еще неадекватна по обоим интервалам**"
   ]
  },
  {
   "cell_type": "markdown",
   "metadata": {},
   "source": [
    "### Ручной Тест Чоу для исходной модели"
   ]
  },
  {
   "cell_type": "code",
   "execution_count": 24,
   "metadata": {},
   "outputs": [],
   "source": [
    "p0 = statsmodels.formula.api.ols(formula=\"y ~ x1 + x2 + x3 + x4\", data=train)\n",
    "h0 = p0.fit()"
   ]
  },
  {
   "cell_type": "code",
   "execution_count": 25,
   "metadata": {},
   "outputs": [
    {
     "data": {
      "text/html": [
       "<div>\n",
       "<style scoped>\n",
       "    .dataframe tbody tr th:only-of-type {\n",
       "        vertical-align: middle;\n",
       "    }\n",
       "\n",
       "    .dataframe tbody tr th {\n",
       "        vertical-align: top;\n",
       "    }\n",
       "\n",
       "    .dataframe thead th {\n",
       "        text-align: right;\n",
       "    }\n",
       "</style>\n",
       "<table border=\"1\" class=\"dataframe\">\n",
       "  <thead>\n",
       "    <tr style=\"text-align: right;\">\n",
       "      <th></th>\n",
       "      <th>y</th>\n",
       "      <th>x1</th>\n",
       "      <th>x2</th>\n",
       "      <th>x3</th>\n",
       "      <th>x4</th>\n",
       "    </tr>\n",
       "  </thead>\n",
       "  <tbody>\n",
       "    <tr>\n",
       "      <th>0</th>\n",
       "      <td>12345.0</td>\n",
       "      <td>2769.0</td>\n",
       "      <td>29.67</td>\n",
       "      <td>94.2</td>\n",
       "      <td>9.6</td>\n",
       "    </tr>\n",
       "    <tr>\n",
       "      <th>1</th>\n",
       "      <td>12091.9</td>\n",
       "      <td>3065.0</td>\n",
       "      <td>28.94</td>\n",
       "      <td>101.1</td>\n",
       "      <td>9.5</td>\n",
       "    </tr>\n",
       "    <tr>\n",
       "      <th>2</th>\n",
       "      <td>12339.7</td>\n",
       "      <td>3899.0</td>\n",
       "      <td>28.43</td>\n",
       "      <td>111.6</td>\n",
       "      <td>9.5</td>\n",
       "    </tr>\n",
       "    <tr>\n",
       "      <th>3</th>\n",
       "      <td>12450.6</td>\n",
       "      <td>3790.0</td>\n",
       "      <td>27.50</td>\n",
       "      <td>119.7</td>\n",
       "      <td>9.6</td>\n",
       "    </tr>\n",
       "    <tr>\n",
       "      <th>4</th>\n",
       "      <td>12832.1</td>\n",
       "      <td>3963.0</td>\n",
       "      <td>28.07</td>\n",
       "      <td>112.0</td>\n",
       "      <td>9.6</td>\n",
       "    </tr>\n",
       "    <tr>\n",
       "      <th>5</th>\n",
       "      <td>12892.1</td>\n",
       "      <td>4224.0</td>\n",
       "      <td>28.08</td>\n",
       "      <td>112.0</td>\n",
       "      <td>9.4</td>\n",
       "    </tr>\n",
       "    <tr>\n",
       "      <th>6</th>\n",
       "      <td>13224.5</td>\n",
       "      <td>4645.0</td>\n",
       "      <td>27.68</td>\n",
       "      <td>115.3</td>\n",
       "      <td>9.0</td>\n",
       "    </tr>\n",
       "    <tr>\n",
       "      <th>7</th>\n",
       "      <td>13449.9</td>\n",
       "      <td>4914.0</td>\n",
       "      <td>28.86</td>\n",
       "      <td>109.6</td>\n",
       "      <td>8.2</td>\n",
       "    </tr>\n",
       "    <tr>\n",
       "      <th>8</th>\n",
       "      <td>13476.8</td>\n",
       "      <td>4830.0</td>\n",
       "      <td>31.88</td>\n",
       "      <td>112.6</td>\n",
       "      <td>7.2</td>\n",
       "    </tr>\n",
       "    <tr>\n",
       "      <th>9</th>\n",
       "      <td>13588.9</td>\n",
       "      <td>4815.0</td>\n",
       "      <td>29.90</td>\n",
       "      <td>108.7</td>\n",
       "      <td>7.2</td>\n",
       "    </tr>\n",
       "  </tbody>\n",
       "</table>\n",
       "</div>"
      ],
      "text/plain": [
       "         y      x1     x2     x3   x4\n",
       "0  12345.0  2769.0  29.67   94.2  9.6\n",
       "1  12091.9  3065.0  28.94  101.1  9.5\n",
       "2  12339.7  3899.0  28.43  111.6  9.5\n",
       "3  12450.6  3790.0  27.50  119.7  9.6\n",
       "4  12832.1  3963.0  28.07  112.0  9.6\n",
       "5  12892.1  4224.0  28.08  112.0  9.4\n",
       "6  13224.5  4645.0  27.68  115.3  9.0\n",
       "7  13449.9  4914.0  28.86  109.6  8.2\n",
       "8  13476.8  4830.0  31.88  112.6  7.2\n",
       "9  13588.9  4815.0  29.90  108.7  7.2"
      ]
     },
     "execution_count": 25,
     "metadata": {},
     "output_type": "execute_result"
    }
   ],
   "source": [
    "o1=train[0:10]\n",
    "o1"
   ]
  },
  {
   "cell_type": "code",
   "execution_count": 26,
   "metadata": {},
   "outputs": [],
   "source": [
    "p1 = statsmodels.formula.api.ols(formula=\"y ~ x1 + x2 + x3 + x4\", data=o1)\n",
    "h1 = p1.fit()"
   ]
  },
  {
   "cell_type": "code",
   "execution_count": 27,
   "metadata": {},
   "outputs": [
    {
     "data": {
      "text/html": [
       "<div>\n",
       "<style scoped>\n",
       "    .dataframe tbody tr th:only-of-type {\n",
       "        vertical-align: middle;\n",
       "    }\n",
       "\n",
       "    .dataframe tbody tr th {\n",
       "        vertical-align: top;\n",
       "    }\n",
       "\n",
       "    .dataframe thead th {\n",
       "        text-align: right;\n",
       "    }\n",
       "</style>\n",
       "<table border=\"1\" class=\"dataframe\">\n",
       "  <thead>\n",
       "    <tr style=\"text-align: right;\">\n",
       "      <th></th>\n",
       "      <th>y</th>\n",
       "      <th>x1</th>\n",
       "      <th>x2</th>\n",
       "      <th>x3</th>\n",
       "      <th>x4</th>\n",
       "    </tr>\n",
       "  </thead>\n",
       "  <tbody>\n",
       "    <tr>\n",
       "      <th>10</th>\n",
       "      <td>13600.4</td>\n",
       "      <td>4401.0</td>\n",
       "      <td>31.32</td>\n",
       "      <td>110.9</td>\n",
       "      <td>6.8</td>\n",
       "    </tr>\n",
       "    <tr>\n",
       "      <th>11</th>\n",
       "      <td>13768.5</td>\n",
       "      <td>5189.0</td>\n",
       "      <td>32.20</td>\n",
       "      <td>108.0</td>\n",
       "      <td>6.1</td>\n",
       "    </tr>\n",
       "    <tr>\n",
       "      <th>12</th>\n",
       "      <td>14796.6</td>\n",
       "      <td>3434.0</td>\n",
       "      <td>30.36</td>\n",
       "      <td>109.8</td>\n",
       "      <td>4.2</td>\n",
       "    </tr>\n",
       "    <tr>\n",
       "      <th>13</th>\n",
       "      <td>14424.2</td>\n",
       "      <td>5195.0</td>\n",
       "      <td>28.95</td>\n",
       "      <td>119.2</td>\n",
       "      <td>3.7</td>\n",
       "    </tr>\n",
       "    <tr>\n",
       "      <th>14</th>\n",
       "      <td>14607.3</td>\n",
       "      <td>5401.0</td>\n",
       "      <td>29.33</td>\n",
       "      <td>123.3</td>\n",
       "      <td>3.7</td>\n",
       "    </tr>\n",
       "    <tr>\n",
       "      <th>15</th>\n",
       "      <td>14688.0</td>\n",
       "      <td>4239.0</td>\n",
       "      <td>29.36</td>\n",
       "      <td>117.8</td>\n",
       "      <td>3.6</td>\n",
       "    </tr>\n",
       "    <tr>\n",
       "      <th>16</th>\n",
       "      <td>15057.3</td>\n",
       "      <td>4558.0</td>\n",
       "      <td>32.45</td>\n",
       "      <td>109.2</td>\n",
       "      <td>3.6</td>\n",
       "    </tr>\n",
       "    <tr>\n",
       "      <th>17</th>\n",
       "      <td>15161.0</td>\n",
       "      <td>4675.0</td>\n",
       "      <td>32.82</td>\n",
       "      <td>93.5</td>\n",
       "      <td>4.3</td>\n",
       "    </tr>\n",
       "    <tr>\n",
       "      <th>18</th>\n",
       "      <td>15534.6</td>\n",
       "      <td>6558.0</td>\n",
       "      <td>32.19</td>\n",
       "      <td>102.7</td>\n",
       "      <td>5.6</td>\n",
       "    </tr>\n",
       "    <tr>\n",
       "      <th>19</th>\n",
       "      <td>15544.5</td>\n",
       "      <td>6253.0</td>\n",
       "      <td>32.92</td>\n",
       "      <td>113.5</td>\n",
       "      <td>5.9</td>\n",
       "    </tr>\n",
       "  </tbody>\n",
       "</table>\n",
       "</div>"
      ],
      "text/plain": [
       "          y      x1     x2     x3   x4\n",
       "10  13600.4  4401.0  31.32  110.9  6.8\n",
       "11  13768.5  5189.0  32.20  108.0  6.1\n",
       "12  14796.6  3434.0  30.36  109.8  4.2\n",
       "13  14424.2  5195.0  28.95  119.2  3.7\n",
       "14  14607.3  5401.0  29.33  123.3  3.7\n",
       "15  14688.0  4239.0  29.36  117.8  3.6\n",
       "16  15057.3  4558.0  32.45  109.2  3.6\n",
       "17  15161.0  4675.0  32.82   93.5  4.3\n",
       "18  15534.6  6558.0  32.19  102.7  5.6\n",
       "19  15544.5  6253.0  32.92  113.5  5.9"
      ]
     },
     "execution_count": 27,
     "metadata": {},
     "output_type": "execute_result"
    }
   ],
   "source": [
    "o2=train[10:20]\n",
    "o2"
   ]
  },
  {
   "cell_type": "code",
   "execution_count": 28,
   "metadata": {},
   "outputs": [],
   "source": [
    "p2 = statsmodels.formula.api.ols(formula=\"y ~ x1 + x2 + x3 + x4\", data=o2)\n",
    "h2 = p2.fit()"
   ]
  },
  {
   "cell_type": "code",
   "execution_count": 29,
   "metadata": {},
   "outputs": [
    {
     "data": {
      "text/plain": [
       "2227402.8103248547"
      ]
     },
     "execution_count": 29,
     "metadata": {},
     "output_type": "execute_result"
    }
   ],
   "source": [
    "rss = h0.ssr\n",
    "rss"
   ]
  },
  {
   "cell_type": "code",
   "execution_count": 30,
   "metadata": {},
   "outputs": [
    {
     "data": {
      "text/plain": [
       "187626.8074825029"
      ]
     },
     "execution_count": 30,
     "metadata": {},
     "output_type": "execute_result"
    }
   ],
   "source": [
    "rss1 = h1.ssr\n",
    "rss1"
   ]
  },
  {
   "cell_type": "code",
   "execution_count": 31,
   "metadata": {},
   "outputs": [
    {
     "data": {
      "text/plain": [
       "1420952.8190917235"
      ]
     },
     "execution_count": 31,
     "metadata": {},
     "output_type": "execute_result"
    }
   ],
   "source": [
    "rss2 = h2.ssr\n",
    "rss2"
   ]
  },
  {
   "cell_type": "code",
   "execution_count": 32,
   "metadata": {},
   "outputs": [],
   "source": [
    "n1 = h1.nobs\n",
    "n2 = h2.nobs"
   ]
  },
  {
   "cell_type": "code",
   "execution_count": 33,
   "metadata": {},
   "outputs": [],
   "source": [
    "k = h0.df_model"
   ]
  },
  {
   "cell_type": "code",
   "execution_count": 34,
   "metadata": {},
   "outputs": [
    {
     "data": {
      "text/plain": [
       "0.7694032344156054"
      ]
     },
     "execution_count": 34,
     "metadata": {},
     "output_type": "execute_result"
    }
   ],
   "source": [
    "chow = (rss - rss1 - rss2) * (n1 + n2 - 2 * (k + 1)) / (k + 1) / (rss1 + rss2)\n",
    "chow"
   ]
  },
  {
   "cell_type": "code",
   "execution_count": 35,
   "metadata": {},
   "outputs": [
    {
     "data": {
      "text/plain": [
       "3.3258345304130112"
      ]
     },
     "execution_count": 35,
     "metadata": {},
     "output_type": "execute_result"
    }
   ],
   "source": [
    "f_stat = stats.f.ppf(0.95,k +1, n1 + n2 - 2 * (k + 1))\n",
    "f_stat"
   ]
  },
  {
   "cell_type": "code",
   "execution_count": 36,
   "metadata": {},
   "outputs": [
    {
     "name": "stdout",
     "output_type": "stream",
     "text": [
      "Выборки однородны\n"
     ]
    }
   ],
   "source": [
    "# H0 принимается (chow < f_critical) - выборки однородны\n",
    "if chow < f_stat:\n",
    "    print(\"Выборки однородны\")\n",
    "else:\n",
    "    print(\"Выборки неоднородны\")"
   ]
  },
  {
   "cell_type": "markdown",
   "metadata": {},
   "source": [
    "#### Jarque Bera Test"
   ]
  },
  {
   "cell_type": "code",
   "execution_count": 37,
   "metadata": {},
   "outputs": [
    {
     "data": {
      "text/plain": [
       "Jarque_beraResult(statistic=0.20331858511625497, pvalue=0.9033372729758542)"
      ]
     },
     "execution_count": 37,
     "metadata": {},
     "output_type": "execute_result"
    }
   ],
   "source": [
    "from scipy import stats\n",
    "jarque_bera_test = stats.jarque_bera(results.resid)\n",
    "jarque_bera_test"
   ]
  },
  {
   "cell_type": "markdown",
   "metadata": {},
   "source": [
    "#### Строим модель y ~ x4"
   ]
  },
  {
   "cell_type": "code",
   "execution_count": 38,
   "metadata": {},
   "outputs": [
    {
     "data": {
      "text/html": [
       "<table class=\"simpletable\">\n",
       "<caption>OLS Regression Results</caption>\n",
       "<tr>\n",
       "  <th>Dep. Variable:</th>            <td>y</td>        <th>  R-squared:         </th> <td>   0.773</td>\n",
       "</tr>\n",
       "<tr>\n",
       "  <th>Model:</th>                   <td>OLS</td>       <th>  Adj. R-squared:    </th> <td>   0.761</td>\n",
       "</tr>\n",
       "<tr>\n",
       "  <th>Method:</th>             <td>Least Squares</td>  <th>  F-statistic:       </th> <td>   61.40</td>\n",
       "</tr>\n",
       "<tr>\n",
       "  <th>Date:</th>             <td>Sat, 27 Nov 2021</td> <th>  Prob (F-statistic):</th> <td>3.29e-07</td>\n",
       "</tr>\n",
       "<tr>\n",
       "  <th>Time:</th>                 <td>15:37:14</td>     <th>  Log-Likelihood:    </th> <td> -153.39</td>\n",
       "</tr>\n",
       "<tr>\n",
       "  <th>No. Observations:</th>      <td>    20</td>      <th>  AIC:               </th> <td>   310.8</td>\n",
       "</tr>\n",
       "<tr>\n",
       "  <th>Df Residuals:</th>          <td>    18</td>      <th>  BIC:               </th> <td>   312.8</td>\n",
       "</tr>\n",
       "<tr>\n",
       "  <th>Df Model:</th>              <td>     1</td>      <th>                     </th>     <td> </td>   \n",
       "</tr>\n",
       "<tr>\n",
       "  <th>Covariance Type:</th>      <td>nonrobust</td>    <th>                     </th>     <td> </td>   \n",
       "</tr>\n",
       "</table>\n",
       "<table class=\"simpletable\">\n",
       "<tr>\n",
       "      <td></td>         <th>coef</th>     <th>std err</th>      <th>t</th>      <th>P>|t|</th>  <th>[0.025</th>    <th>0.975]</th>  \n",
       "</tr>\n",
       "<tr>\n",
       "  <th>Intercept</th> <td> 1.661e+04</td> <td>  379.440</td> <td>   43.771</td> <td> 0.000</td> <td> 1.58e+04</td> <td> 1.74e+04</td>\n",
       "</tr>\n",
       "<tr>\n",
       "  <th>x4</th>        <td> -413.0446</td> <td>   52.712</td> <td>   -7.836</td> <td> 0.000</td> <td> -523.789</td> <td> -302.300</td>\n",
       "</tr>\n",
       "</table>\n",
       "<table class=\"simpletable\">\n",
       "<tr>\n",
       "  <th>Omnibus:</th>       <td>10.450</td> <th>  Durbin-Watson:     </th> <td>   0.395</td>\n",
       "</tr>\n",
       "<tr>\n",
       "  <th>Prob(Omnibus):</th> <td> 0.005</td> <th>  Jarque-Bera (JB):  </th> <td>   7.826</td>\n",
       "</tr>\n",
       "<tr>\n",
       "  <th>Skew:</th>          <td> 1.360</td> <th>  Prob(JB):          </th> <td>  0.0200</td>\n",
       "</tr>\n",
       "<tr>\n",
       "  <th>Kurtosis:</th>      <td> 4.412</td> <th>  Cond. No.          </th> <td>    22.7</td>\n",
       "</tr>\n",
       "</table><br/><br/>Notes:<br/>[1] Standard Errors assume that the covariance matrix of the errors is correctly specified."
      ],
      "text/plain": [
       "<class 'statsmodels.iolib.summary.Summary'>\n",
       "\"\"\"\n",
       "                            OLS Regression Results                            \n",
       "==============================================================================\n",
       "Dep. Variable:                      y   R-squared:                       0.773\n",
       "Model:                            OLS   Adj. R-squared:                  0.761\n",
       "Method:                 Least Squares   F-statistic:                     61.40\n",
       "Date:                Sat, 27 Nov 2021   Prob (F-statistic):           3.29e-07\n",
       "Time:                        15:37:14   Log-Likelihood:                -153.39\n",
       "No. Observations:                  20   AIC:                             310.8\n",
       "Df Residuals:                      18   BIC:                             312.8\n",
       "Df Model:                           1                                         \n",
       "Covariance Type:            nonrobust                                         \n",
       "==============================================================================\n",
       "                 coef    std err          t      P>|t|      [0.025      0.975]\n",
       "------------------------------------------------------------------------------\n",
       "Intercept   1.661e+04    379.440     43.771      0.000    1.58e+04    1.74e+04\n",
       "x4          -413.0446     52.712     -7.836      0.000    -523.789    -302.300\n",
       "==============================================================================\n",
       "Omnibus:                       10.450   Durbin-Watson:                   0.395\n",
       "Prob(Omnibus):                  0.005   Jarque-Bera (JB):                7.826\n",
       "Skew:                           1.360   Prob(JB):                       0.0200\n",
       "Kurtosis:                       4.412   Cond. No.                         22.7\n",
       "==============================================================================\n",
       "\n",
       "Notes:\n",
       "[1] Standard Errors assume that the covariance matrix of the errors is correctly specified.\n",
       "\"\"\""
      ]
     },
     "execution_count": 38,
     "metadata": {},
     "output_type": "execute_result"
    }
   ],
   "source": [
    "model4 = statsmodels.formula.api.ols(formula=\"y ~ x4\", data=train)\n",
    "results4 = model4.fit()\n",
    "results4.summary()"
   ]
  },
  {
   "cell_type": "code",
   "execution_count": 39,
   "metadata": {},
   "outputs": [
    {
     "data": {
      "text/plain": [
       "7.060842160611142"
      ]
     },
     "execution_count": 39,
     "metadata": {},
     "output_type": "execute_result"
    }
   ],
   "source": [
    "r_many = results.rsquared\n",
    "r_small = results4.rsquared\n",
    "n = results.nobs\n",
    "m = results.df_model + 1\n",
    "q = m - results4.df_model - 1\n",
    "f_value = (r_many - r_small)/(1 - r_many) * (n-m)/q\n",
    "f_value"
   ]
  },
  {
   "cell_type": "code",
   "execution_count": 40,
   "metadata": {},
   "outputs": [
    {
     "data": {
      "text/plain": [
       "3.2873821046365115"
      ]
     },
     "execution_count": 40,
     "metadata": {},
     "output_type": "execute_result"
    }
   ],
   "source": [
    "f_t_value = stats.f.ppf(1-0.05,q,n-m)\n",
    "f_t_value"
   ]
  },
  {
   "cell_type": "code",
   "execution_count": 41,
   "metadata": {},
   "outputs": [
    {
     "name": "stdout",
     "output_type": "stream",
     "text": [
      "7.060842160611142 > 3.2873821046365115 -> H0 отвергается, длинная регрессия\n"
     ]
    }
   ],
   "source": [
    "if  f_value > f_t_value:\n",
    "    print(f\"{f_value} > {f_t_value} -> H0 отвергается, длинная регрессия\")\n",
    "else:\n",
    "    print(f\"{f_value} < {f_t_value} ->  H0 принимается, короткая регрессия\")"
   ]
  },
  {
   "cell_type": "markdown",
   "metadata": {},
   "source": [
    "#### Тест Рамсея (авто)"
   ]
  },
  {
   "cell_type": "code",
   "execution_count": 42,
   "metadata": {},
   "outputs": [
    {
     "name": "stdout",
     "output_type": "stream",
     "text": [
      "0.38143125117367327 > 0.01 -> H0 принимается, пропущенных факторов нет\n"
     ]
    }
   ],
   "source": [
    "from statsmodels.stats.outliers_influence import reset_ramsey\n",
    "alpha = 0.01\n",
    "rs_value = reset_ramsey(results, degree=3)\n",
    "if rs_value.pvalue < alpha:\n",
    "    print(f\"{rs_value.pvalue} < {alpha} -> H0 отвергается, пропущенные факторы есть\")\n",
    "else:\n",
    "    print(f\"{rs_value.pvalue} > {alpha} -> H0 принимается, пропущенных факторов нет\")"
   ]
  },
  {
   "cell_type": "markdown",
   "metadata": {},
   "source": [
    "#### Тест Рамсея (вручную)"
   ]
  },
  {
   "cell_type": "code",
   "execution_count": 43,
   "metadata": {
    "scrolled": true
   },
   "outputs": [
    {
     "data": {
      "text/html": [
       "<table class=\"simpletable\">\n",
       "<caption>OLS Regression Results</caption>\n",
       "<tr>\n",
       "  <th>Dep. Variable:</th>            <td>y</td>        <th>  R-squared:         </th> <td>   0.909</td>\n",
       "</tr>\n",
       "<tr>\n",
       "  <th>Model:</th>                   <td>OLS</td>       <th>  Adj. R-squared:    </th> <td>   0.876</td>\n",
       "</tr>\n",
       "<tr>\n",
       "  <th>Method:</th>             <td>Least Squares</td>  <th>  F-statistic:       </th> <td>   27.94</td>\n",
       "</tr>\n",
       "<tr>\n",
       "  <th>Date:</th>             <td>Sat, 27 Nov 2021</td> <th>  Prob (F-statistic):</th> <td>8.17e-07</td>\n",
       "</tr>\n",
       "<tr>\n",
       "  <th>Time:</th>                 <td>15:37:14</td>     <th>  Log-Likelihood:    </th> <td> -144.27</td>\n",
       "</tr>\n",
       "<tr>\n",
       "  <th>No. Observations:</th>      <td>    20</td>      <th>  AIC:               </th> <td>   300.5</td>\n",
       "</tr>\n",
       "<tr>\n",
       "  <th>Df Residuals:</th>          <td>    14</td>      <th>  BIC:               </th> <td>   306.5</td>\n",
       "</tr>\n",
       "<tr>\n",
       "  <th>Df Model:</th>              <td>     5</td>      <th>                     </th>     <td> </td>   \n",
       "</tr>\n",
       "<tr>\n",
       "  <th>Covariance Type:</th>      <td>nonrobust</td>    <th>                     </th>     <td> </td>   \n",
       "</tr>\n",
       "</table>\n",
       "<table class=\"simpletable\">\n",
       "<tr>\n",
       "      <td></td>         <th>coef</th>     <th>std err</th>      <th>t</th>      <th>P>|t|</th>  <th>[0.025</th>    <th>0.975]</th>  \n",
       "</tr>\n",
       "<tr>\n",
       "  <th>Intercept</th> <td>    8.8813</td> <td>    7.311</td> <td>    1.215</td> <td> 0.245</td> <td>   -6.799</td> <td>   24.562</td>\n",
       "</tr>\n",
       "<tr>\n",
       "  <th>x1</th>        <td>   -0.4075</td> <td>    0.354</td> <td>   -1.151</td> <td> 0.269</td> <td>   -1.167</td> <td>    0.352</td>\n",
       "</tr>\n",
       "<tr>\n",
       "  <th>x2</th>        <td>  -13.2456</td> <td>  105.558</td> <td>   -0.125</td> <td> 0.902</td> <td> -239.645</td> <td>  213.154</td>\n",
       "</tr>\n",
       "<tr>\n",
       "  <th>x3</th>        <td>   21.3040</td> <td>   22.048</td> <td>    0.966</td> <td> 0.350</td> <td>  -25.984</td> <td>   68.592</td>\n",
       "</tr>\n",
       "<tr>\n",
       "  <th>x4</th>        <td>  282.1139</td> <td>  229.031</td> <td>    1.232</td> <td> 0.238</td> <td> -209.108</td> <td>  773.336</td>\n",
       "</tr>\n",
       "<tr>\n",
       "  <th>yp2</th>       <td>  4.87e-05</td> <td> 8.72e-05</td> <td>    0.558</td> <td> 0.585</td> <td>   -0.000</td> <td>    0.000</td>\n",
       "</tr>\n",
       "<tr>\n",
       "  <th>yp3</th>       <td> 9.155e-10</td> <td>  5.1e-09</td> <td>    0.180</td> <td> 0.860</td> <td>   -1e-08</td> <td> 1.19e-08</td>\n",
       "</tr>\n",
       "</table>\n",
       "<table class=\"simpletable\">\n",
       "<tr>\n",
       "  <th>Omnibus:</th>       <td> 0.182</td> <th>  Durbin-Watson:     </th> <td>   2.018</td>\n",
       "</tr>\n",
       "<tr>\n",
       "  <th>Prob(Omnibus):</th> <td> 0.913</td> <th>  Jarque-Bera (JB):  </th> <td>   0.205</td>\n",
       "</tr>\n",
       "<tr>\n",
       "  <th>Skew:</th>          <td> 0.179</td> <th>  Prob(JB):          </th> <td>   0.902</td>\n",
       "</tr>\n",
       "<tr>\n",
       "  <th>Kurtosis:</th>      <td> 2.656</td> <th>  Cond. No.          </th> <td>4.75e+16</td>\n",
       "</tr>\n",
       "</table><br/><br/>Notes:<br/>[1] Standard Errors assume that the covariance matrix of the errors is correctly specified.<br/>[2] The condition number is large, 4.75e+16. This might indicate that there are<br/>strong multicollinearity or other numerical problems."
      ],
      "text/plain": [
       "<class 'statsmodels.iolib.summary.Summary'>\n",
       "\"\"\"\n",
       "                            OLS Regression Results                            \n",
       "==============================================================================\n",
       "Dep. Variable:                      y   R-squared:                       0.909\n",
       "Model:                            OLS   Adj. R-squared:                  0.876\n",
       "Method:                 Least Squares   F-statistic:                     27.94\n",
       "Date:                Sat, 27 Nov 2021   Prob (F-statistic):           8.17e-07\n",
       "Time:                        15:37:14   Log-Likelihood:                -144.27\n",
       "No. Observations:                  20   AIC:                             300.5\n",
       "Df Residuals:                      14   BIC:                             306.5\n",
       "Df Model:                           5                                         \n",
       "Covariance Type:            nonrobust                                         \n",
       "==============================================================================\n",
       "                 coef    std err          t      P>|t|      [0.025      0.975]\n",
       "------------------------------------------------------------------------------\n",
       "Intercept      8.8813      7.311      1.215      0.245      -6.799      24.562\n",
       "x1            -0.4075      0.354     -1.151      0.269      -1.167       0.352\n",
       "x2           -13.2456    105.558     -0.125      0.902    -239.645     213.154\n",
       "x3            21.3040     22.048      0.966      0.350     -25.984      68.592\n",
       "x4           282.1139    229.031      1.232      0.238    -209.108     773.336\n",
       "yp2          4.87e-05   8.72e-05      0.558      0.585      -0.000       0.000\n",
       "yp3         9.155e-10    5.1e-09      0.180      0.860      -1e-08    1.19e-08\n",
       "==============================================================================\n",
       "Omnibus:                        0.182   Durbin-Watson:                   2.018\n",
       "Prob(Omnibus):                  0.913   Jarque-Bera (JB):                0.205\n",
       "Skew:                           0.179   Prob(JB):                        0.902\n",
       "Kurtosis:                       2.656   Cond. No.                     4.75e+16\n",
       "==============================================================================\n",
       "\n",
       "Notes:\n",
       "[1] Standard Errors assume that the covariance matrix of the errors is correctly specified.\n",
       "[2] The condition number is large, 4.75e+16. This might indicate that there are\n",
       "strong multicollinearity or other numerical problems.\n",
       "\"\"\""
      ]
     },
     "execution_count": 43,
     "metadata": {},
     "output_type": "execute_result"
    }
   ],
   "source": [
    "yp=results.predict()\n",
    "yp2=yp**2\n",
    "yp3=yp**3\n",
    "\n",
    "model5 = statsmodels.formula.api.ols(formula=\"y ~ x1 + x2 + x3 + x4 + yp2 + yp3\", data=train)\n",
    "results5 = model5.fit()\n",
    "results5.summary()"
   ]
  },
  {
   "cell_type": "code",
   "execution_count": 44,
   "metadata": {},
   "outputs": [
    {
     "data": {
      "text/plain": [
       "0.9089205027017837"
      ]
     },
     "execution_count": 44,
     "metadata": {},
     "output_type": "execute_result"
    }
   ],
   "source": [
    "results5.rsquared"
   ]
  },
  {
   "cell_type": "code",
   "execution_count": 45,
   "metadata": {},
   "outputs": [
    {
     "data": {
      "text/plain": [
       "0.9089205027017837"
      ]
     },
     "execution_count": 45,
     "metadata": {},
     "output_type": "execute_result"
    }
   ],
   "source": [
    "results5.rsquared"
   ]
  },
  {
   "cell_type": "code",
   "execution_count": 49,
   "metadata": {},
   "outputs": [
    {
     "data": {
      "text/plain": [
       "0.46327108810353107"
      ]
     },
     "execution_count": 49,
     "metadata": {},
     "output_type": "execute_result"
    }
   ],
   "source": [
    "r_many = results.rsquared\n",
    "r_small = results5.rsquared\n",
    "n = results.nobs\n",
    "m = results.df_model + 1\n",
    "q = m - results5.df_model - 1\n",
    "f_value = (r_many - r_small)/(1 - r_many) * (n-m)/q\n",
    "f_value"
   ]
  }
 ],
 "metadata": {
  "colab": {
   "collapsed_sections": [],
   "name": "ЭКОНОМЕТРИКА дз1.ipynb",
   "provenance": []
  },
  "interpreter": {
   "hash": "f36bb2415103839c44be3616e885f7d6aee90348d429d9698a9148e0dea357be"
  },
  "kernelspec": {
   "display_name": "Python 3 (ipykernel)",
   "language": "python",
   "name": "python3"
  },
  "language_info": {
   "codemirror_mode": {
    "name": "ipython",
    "version": 3
   },
   "file_extension": ".py",
   "mimetype": "text/x-python",
   "name": "python",
   "nbconvert_exporter": "python",
   "pygments_lexer": "ipython3",
   "version": "3.9.8"
  }
 },
 "nbformat": 4,
 "nbformat_minor": 1
}

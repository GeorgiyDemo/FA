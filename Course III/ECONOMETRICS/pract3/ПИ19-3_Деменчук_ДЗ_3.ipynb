{
 "cells": [
  {
   "cell_type": "markdown",
   "metadata": {
    "id": "sQKF6pXlVets"
   },
   "source": [
    "### ПИ19-3 Деменчук Георгий"
   ]
  },
  {
   "cell_type": "markdown",
   "metadata": {},
   "source": [
    "#### ДЗ №3"
   ]
  },
  {
   "cell_type": "code",
   "execution_count": 1,
   "metadata": {},
   "outputs": [],
   "source": [
    "import pandas as pd\n",
    "import numpy as np\n",
    "from sklearn.linear_model import LinearRegression\n",
    "from itertools import chain\n",
    "\n",
    "import statsmodels.api as sm"
   ]
  },
  {
   "cell_type": "code",
   "execution_count": 2,
   "metadata": {
    "colab": {
     "base_uri": "https://localhost:8080/",
     "height": 390
    },
    "id": "i2qGMZojYh1I",
    "outputId": "c56af360-b09f-453d-f0b7-812c7c127714"
   },
   "outputs": [
    {
     "data": {
      "text/html": [
       "<div>\n",
       "<style scoped>\n",
       "    .dataframe tbody tr th:only-of-type {\n",
       "        vertical-align: middle;\n",
       "    }\n",
       "\n",
       "    .dataframe tbody tr th {\n",
       "        vertical-align: top;\n",
       "    }\n",
       "\n",
       "    .dataframe thead th {\n",
       "        text-align: right;\n",
       "    }\n",
       "</style>\n",
       "<table border=\"1\" class=\"dataframe\">\n",
       "  <thead>\n",
       "    <tr style=\"text-align: right;\">\n",
       "      <th></th>\n",
       "      <th>y</th>\n",
       "      <th>x1</th>\n",
       "      <th>x2</th>\n",
       "      <th>x3</th>\n",
       "      <th>x4</th>\n",
       "    </tr>\n",
       "  </thead>\n",
       "  <tbody>\n",
       "    <tr>\n",
       "      <th>0</th>\n",
       "      <td>12345.0</td>\n",
       "      <td>2769</td>\n",
       "      <td>29.67</td>\n",
       "      <td>94.2</td>\n",
       "      <td>9.6</td>\n",
       "    </tr>\n",
       "    <tr>\n",
       "      <th>1</th>\n",
       "      <td>12091.9</td>\n",
       "      <td>3065</td>\n",
       "      <td>28.94</td>\n",
       "      <td>101.1</td>\n",
       "      <td>9.5</td>\n",
       "    </tr>\n",
       "    <tr>\n",
       "      <th>2</th>\n",
       "      <td>12339.7</td>\n",
       "      <td>3899</td>\n",
       "      <td>28.43</td>\n",
       "      <td>111.6</td>\n",
       "      <td>9.5</td>\n",
       "    </tr>\n",
       "    <tr>\n",
       "      <th>3</th>\n",
       "      <td>12450.6</td>\n",
       "      <td>3790</td>\n",
       "      <td>27.50</td>\n",
       "      <td>119.7</td>\n",
       "      <td>9.6</td>\n",
       "    </tr>\n",
       "    <tr>\n",
       "      <th>4</th>\n",
       "      <td>12832.1</td>\n",
       "      <td>3963</td>\n",
       "      <td>28.07</td>\n",
       "      <td>112.0</td>\n",
       "      <td>9.6</td>\n",
       "    </tr>\n",
       "    <tr>\n",
       "      <th>5</th>\n",
       "      <td>12892.1</td>\n",
       "      <td>4224</td>\n",
       "      <td>28.08</td>\n",
       "      <td>112.0</td>\n",
       "      <td>9.4</td>\n",
       "    </tr>\n",
       "    <tr>\n",
       "      <th>6</th>\n",
       "      <td>13224.5</td>\n",
       "      <td>4645</td>\n",
       "      <td>27.68</td>\n",
       "      <td>115.3</td>\n",
       "      <td>9.0</td>\n",
       "    </tr>\n",
       "    <tr>\n",
       "      <th>7</th>\n",
       "      <td>13449.9</td>\n",
       "      <td>4914</td>\n",
       "      <td>28.86</td>\n",
       "      <td>109.6</td>\n",
       "      <td>8.2</td>\n",
       "    </tr>\n",
       "    <tr>\n",
       "      <th>8</th>\n",
       "      <td>13476.8</td>\n",
       "      <td>4830</td>\n",
       "      <td>31.88</td>\n",
       "      <td>112.6</td>\n",
       "      <td>7.2</td>\n",
       "    </tr>\n",
       "    <tr>\n",
       "      <th>9</th>\n",
       "      <td>13588.9</td>\n",
       "      <td>4815</td>\n",
       "      <td>29.90</td>\n",
       "      <td>108.7</td>\n",
       "      <td>7.2</td>\n",
       "    </tr>\n",
       "    <tr>\n",
       "      <th>10</th>\n",
       "      <td>13600.4</td>\n",
       "      <td>4401</td>\n",
       "      <td>31.32</td>\n",
       "      <td>110.9</td>\n",
       "      <td>6.8</td>\n",
       "    </tr>\n",
       "    <tr>\n",
       "      <th>11</th>\n",
       "      <td>13768.5</td>\n",
       "      <td>5189</td>\n",
       "      <td>32.20</td>\n",
       "      <td>108.0</td>\n",
       "      <td>6.1</td>\n",
       "    </tr>\n",
       "    <tr>\n",
       "      <th>12</th>\n",
       "      <td>14796.6</td>\n",
       "      <td>3434</td>\n",
       "      <td>30.36</td>\n",
       "      <td>109.8</td>\n",
       "      <td>4.2</td>\n",
       "    </tr>\n",
       "    <tr>\n",
       "      <th>13</th>\n",
       "      <td>14424.2</td>\n",
       "      <td>5195</td>\n",
       "      <td>28.95</td>\n",
       "      <td>119.2</td>\n",
       "      <td>3.7</td>\n",
       "    </tr>\n",
       "    <tr>\n",
       "      <th>14</th>\n",
       "      <td>14607.3</td>\n",
       "      <td>5401</td>\n",
       "      <td>29.33</td>\n",
       "      <td>123.3</td>\n",
       "      <td>3.7</td>\n",
       "    </tr>\n",
       "    <tr>\n",
       "      <th>15</th>\n",
       "      <td>14688.0</td>\n",
       "      <td>4239</td>\n",
       "      <td>29.36</td>\n",
       "      <td>117.8</td>\n",
       "      <td>3.6</td>\n",
       "    </tr>\n",
       "    <tr>\n",
       "      <th>16</th>\n",
       "      <td>15057.3</td>\n",
       "      <td>4558</td>\n",
       "      <td>32.45</td>\n",
       "      <td>109.2</td>\n",
       "      <td>3.6</td>\n",
       "    </tr>\n",
       "    <tr>\n",
       "      <th>17</th>\n",
       "      <td>15161.0</td>\n",
       "      <td>4675</td>\n",
       "      <td>32.82</td>\n",
       "      <td>93.5</td>\n",
       "      <td>4.3</td>\n",
       "    </tr>\n",
       "    <tr>\n",
       "      <th>18</th>\n",
       "      <td>15534.6</td>\n",
       "      <td>6558</td>\n",
       "      <td>32.19</td>\n",
       "      <td>102.7</td>\n",
       "      <td>5.6</td>\n",
       "    </tr>\n",
       "    <tr>\n",
       "      <th>19</th>\n",
       "      <td>15544.5</td>\n",
       "      <td>6253</td>\n",
       "      <td>32.92</td>\n",
       "      <td>113.5</td>\n",
       "      <td>5.9</td>\n",
       "    </tr>\n",
       "    <tr>\n",
       "      <th>20</th>\n",
       "      <td>15644.4</td>\n",
       "      <td>5410</td>\n",
       "      <td>30.92</td>\n",
       "      <td>112.0</td>\n",
       "      <td>6.6</td>\n",
       "    </tr>\n",
       "    <tr>\n",
       "      <th>21</th>\n",
       "      <td>15717.8</td>\n",
       "      <td>5023</td>\n",
       "      <td>31.53</td>\n",
       "      <td>110.8</td>\n",
       "      <td>6.5</td>\n",
       "    </tr>\n",
       "  </tbody>\n",
       "</table>\n",
       "</div>"
      ],
      "text/plain": [
       "          y    x1     x2     x3   x4\n",
       "0   12345.0  2769  29.67   94.2  9.6\n",
       "1   12091.9  3065  28.94  101.1  9.5\n",
       "2   12339.7  3899  28.43  111.6  9.5\n",
       "3   12450.6  3790  27.50  119.7  9.6\n",
       "4   12832.1  3963  28.07  112.0  9.6\n",
       "5   12892.1  4224  28.08  112.0  9.4\n",
       "6   13224.5  4645  27.68  115.3  9.0\n",
       "7   13449.9  4914  28.86  109.6  8.2\n",
       "8   13476.8  4830  31.88  112.6  7.2\n",
       "9   13588.9  4815  29.90  108.7  7.2\n",
       "10  13600.4  4401  31.32  110.9  6.8\n",
       "11  13768.5  5189  32.20  108.0  6.1\n",
       "12  14796.6  3434  30.36  109.8  4.2\n",
       "13  14424.2  5195  28.95  119.2  3.7\n",
       "14  14607.3  5401  29.33  123.3  3.7\n",
       "15  14688.0  4239  29.36  117.8  3.6\n",
       "16  15057.3  4558  32.45  109.2  3.6\n",
       "17  15161.0  4675  32.82   93.5  4.3\n",
       "18  15534.6  6558  32.19  102.7  5.6\n",
       "19  15544.5  6253  32.92  113.5  5.9\n",
       "20  15644.4  5410  30.92  112.0  6.6\n",
       "21  15717.8  5023  31.53  110.8  6.5"
      ]
     },
     "execution_count": 2,
     "metadata": {},
     "output_type": "execute_result"
    }
   ],
   "source": [
    "data = pd.read_csv('./data.csv', delimiter=\";\",)\n",
    "data.columns=['№','y','x1','x2','x3', 'x4']\n",
    "data = data.drop('№', axis=1)\n",
    "data"
   ]
  },
  {
   "cell_type": "code",
   "execution_count": 3,
   "metadata": {
    "id": "dubU37YPYxuY"
   },
   "outputs": [],
   "source": [
    "X = data.drop('y', axis=1)\n",
    "Y = data[\"y\"]\n"
   ]
  },
  {
   "cell_type": "code",
   "execution_count": 4,
   "metadata": {
    "colab": {
     "base_uri": "https://localhost:8080/"
    },
    "id": "aTuRH403ZFUC",
    "outputId": "f3782544-e5db-495e-a9c7-15b0c15998a7"
   },
   "outputs": [
    {
     "name": "stdout",
     "output_type": "stream",
     "text": [
      "Коэффициенты модели:\n",
      "10399.933345978956\n",
      "0.48377730418812775\n",
      "130.31505019722658\n",
      "-6.467802630559802\n",
      "-276.3727340945999\n"
     ]
    }
   ],
   "source": [
    "model_1 = LinearRegression()\n",
    "model_1.fit(X,Y)\n",
    "\n",
    "koeffs = chain([model_1.intercept_], model_1.coef_)\n",
    "print(\"Коэффициенты модели:\")\n",
    "\n",
    "for k in koeffs:\n",
    "    print(k)"
   ]
  },
  {
   "cell_type": "code",
   "execution_count": 5,
   "metadata": {},
   "outputs": [
    {
     "data": {
      "text/html": [
       "<table class=\"simpletable\">\n",
       "<caption>OLS Regression Results</caption>\n",
       "<tr>\n",
       "  <th>Dep. Variable:</th>            <td>y</td>        <th>  R-squared:         </th> <td>   0.806</td>\n",
       "</tr>\n",
       "<tr>\n",
       "  <th>Model:</th>                   <td>OLS</td>       <th>  Adj. R-squared:    </th> <td>   0.761</td>\n",
       "</tr>\n",
       "<tr>\n",
       "  <th>Method:</th>             <td>Least Squares</td>  <th>  F-statistic:       </th> <td>   17.70</td>\n",
       "</tr>\n",
       "<tr>\n",
       "  <th>Date:</th>             <td>Sat, 02 Oct 2021</td> <th>  Prob (F-statistic):</th> <td>6.83e-06</td>\n",
       "</tr>\n",
       "<tr>\n",
       "  <th>Time:</th>                 <td>14:08:49</td>     <th>  Log-Likelihood:    </th> <td> -168.61</td>\n",
       "</tr>\n",
       "<tr>\n",
       "  <th>No. Observations:</th>      <td>    22</td>      <th>  AIC:               </th> <td>   347.2</td>\n",
       "</tr>\n",
       "<tr>\n",
       "  <th>Df Residuals:</th>          <td>    17</td>      <th>  BIC:               </th> <td>   352.7</td>\n",
       "</tr>\n",
       "<tr>\n",
       "  <th>Df Model:</th>              <td>     4</td>      <th>                     </th>     <td> </td>   \n",
       "</tr>\n",
       "<tr>\n",
       "  <th>Covariance Type:</th>      <td>nonrobust</td>    <th>                     </th>     <td> </td>   \n",
       "</tr>\n",
       "</table>\n",
       "<table class=\"simpletable\">\n",
       "<tr>\n",
       "    <td></td>       <th>coef</th>     <th>std err</th>      <th>t</th>      <th>P>|t|</th>  <th>[0.025</th>    <th>0.975]</th>  \n",
       "</tr>\n",
       "<tr>\n",
       "  <th>const</th> <td>  1.04e+04</td> <td> 6169.698</td> <td>    1.686</td> <td> 0.110</td> <td>-2616.991</td> <td> 2.34e+04</td>\n",
       "</tr>\n",
       "<tr>\n",
       "  <th>x1</th>    <td>    0.4838</td> <td>    0.196</td> <td>    2.463</td> <td> 0.025</td> <td>    0.069</td> <td>    0.898</td>\n",
       "</tr>\n",
       "<tr>\n",
       "  <th>x2</th>    <td>  130.3151</td> <td>  132.126</td> <td>    0.986</td> <td> 0.338</td> <td> -148.446</td> <td>  409.076</td>\n",
       "</tr>\n",
       "<tr>\n",
       "  <th>x3</th>    <td>   -6.4678</td> <td>   25.698</td> <td>   -0.252</td> <td> 0.804</td> <td>  -60.686</td> <td>   47.750</td>\n",
       "</tr>\n",
       "<tr>\n",
       "  <th>x4</th>    <td> -276.3727</td> <td>   78.946</td> <td>   -3.501</td> <td> 0.003</td> <td> -442.935</td> <td> -109.810</td>\n",
       "</tr>\n",
       "</table>\n",
       "<table class=\"simpletable\">\n",
       "<tr>\n",
       "  <th>Omnibus:</th>       <td> 5.043</td> <th>  Durbin-Watson:     </th> <td>   1.083</td>\n",
       "</tr>\n",
       "<tr>\n",
       "  <th>Prob(Omnibus):</th> <td> 0.080</td> <th>  Jarque-Bera (JB):  </th> <td>   2.978</td>\n",
       "</tr>\n",
       "<tr>\n",
       "  <th>Skew:</th>          <td> 0.808</td> <th>  Prob(JB):          </th> <td>   0.226</td>\n",
       "</tr>\n",
       "<tr>\n",
       "  <th>Kurtosis:</th>      <td> 3.797</td> <th>  Cond. No.          </th> <td>2.32e+05</td>\n",
       "</tr>\n",
       "</table><br/><br/>Notes:<br/>[1] Standard Errors assume that the covariance matrix of the errors is correctly specified.<br/>[2] The condition number is large, 2.32e+05. This might indicate that there are<br/>strong multicollinearity or other numerical problems."
      ],
      "text/plain": [
       "<class 'statsmodels.iolib.summary.Summary'>\n",
       "\"\"\"\n",
       "                            OLS Regression Results                            \n",
       "==============================================================================\n",
       "Dep. Variable:                      y   R-squared:                       0.806\n",
       "Model:                            OLS   Adj. R-squared:                  0.761\n",
       "Method:                 Least Squares   F-statistic:                     17.70\n",
       "Date:                Sat, 02 Oct 2021   Prob (F-statistic):           6.83e-06\n",
       "Time:                        14:08:49   Log-Likelihood:                -168.61\n",
       "No. Observations:                  22   AIC:                             347.2\n",
       "Df Residuals:                      17   BIC:                             352.7\n",
       "Df Model:                           4                                         \n",
       "Covariance Type:            nonrobust                                         \n",
       "==============================================================================\n",
       "                 coef    std err          t      P>|t|      [0.025      0.975]\n",
       "------------------------------------------------------------------------------\n",
       "const        1.04e+04   6169.698      1.686      0.110   -2616.991    2.34e+04\n",
       "x1             0.4838      0.196      2.463      0.025       0.069       0.898\n",
       "x2           130.3151    132.126      0.986      0.338    -148.446     409.076\n",
       "x3            -6.4678     25.698     -0.252      0.804     -60.686      47.750\n",
       "x4          -276.3727     78.946     -3.501      0.003    -442.935    -109.810\n",
       "==============================================================================\n",
       "Omnibus:                        5.043   Durbin-Watson:                   1.083\n",
       "Prob(Omnibus):                  0.080   Jarque-Bera (JB):                2.978\n",
       "Skew:                           0.808   Prob(JB):                        0.226\n",
       "Kurtosis:                       3.797   Cond. No.                     2.32e+05\n",
       "==============================================================================\n",
       "\n",
       "Notes:\n",
       "[1] Standard Errors assume that the covariance matrix of the errors is correctly specified.\n",
       "[2] The condition number is large, 2.32e+05. This might indicate that there are\n",
       "strong multicollinearity or other numerical problems.\n",
       "\"\"\""
      ]
     },
     "execution_count": 5,
     "metadata": {},
     "output_type": "execute_result"
    }
   ],
   "source": [
    "X2 = sm.add_constant(X)\n",
    "model_new = sm.OLS(Y, X2).fit()\n",
    "model_new.summary()"
   ]
  },
  {
   "cell_type": "code",
   "execution_count": 6,
   "metadata": {
    "colab": {
     "base_uri": "https://localhost:8080/"
    },
    "id": "EazhTmEZZJw-",
    "outputId": "9630ea9a-69bd-4c0c-dc53-586db218bf3e"
   },
   "outputs": [
    {
     "name": "stdout",
     "output_type": "stream",
     "text": [
      "R^2: 0.806356957603642\n"
     ]
    }
   ],
   "source": [
    "predictions_1 = model_1.predict(X)\n",
    "r_2 = model_1.score(X,Y)\n",
    "print(f\"R^2: {r_2}\")\n"
   ]
  },
  {
   "cell_type": "code",
   "execution_count": 7,
   "metadata": {},
   "outputs": [
    {
     "name": "stdout",
     "output_type": "stream",
     "text": [
      "F: 17.697599807386283\n"
     ]
    }
   ],
   "source": [
    "F =(r_2/4)/((1-r_2)/(len(Y) -4 -1))\n",
    "print(f\"F: {F}\")"
   ]
  },
  {
   "cell_type": "code",
   "execution_count": 8,
   "metadata": {
    "colab": {
     "base_uri": "https://localhost:8080/"
    },
    "id": "lu-il1BeZLdC",
    "outputId": "1a4ad7b4-4b6c-46d3-892f-2920550b26b4"
   },
   "outputs": [
    {
     "name": "stdout",
     "output_type": "stream",
     "text": [
      "sigma: 586.3207563508017\n"
     ]
    }
   ],
   "source": [
    "#ошибка апроксимации\n",
    "Se = np.sqrt(sum((predictions_1 - Y)**2)/(len(Y) - 1 - 4))\n",
    "print(f\"sigma: {Se}\")\n"
   ]
  },
  {
   "cell_type": "code",
   "execution_count": 9,
   "metadata": {
    "colab": {
     "base_uri": "https://localhost:8080/"
    },
    "id": "fdoWODCTZMYZ",
    "outputId": "34399371-40e0-4a60-ba57-5124dd024733"
   },
   "outputs": [
    {
     "name": "stdout",
     "output_type": "stream",
     "text": [
      "A: 2.597429801272795\n"
     ]
    }
   ],
   "source": [
    "A = sum((abs(Y-predictions_1))/Y)/len(Y)*100\n",
    "print(f\"A: {A}\")"
   ]
  },
  {
   "cell_type": "markdown",
   "metadata": {
    "id": "b3hAE_kbZ7Ji"
   },
   "source": [
    "Модель: y^ = 10399.933345978956 + 0.48377730418812775x1 + 130.31505019722658x2 -6.467802630559802x3 -276.3727340945999x4"
   ]
  },
  {
   "cell_type": "code",
   "execution_count": 10,
   "metadata": {
    "colab": {
     "base_uri": "https://localhost:8080/"
    },
    "id": "IjW5VPRpcCuj",
    "outputId": "01dc5629-6341-43a2-e342-95697a75f507"
   },
   "outputs": [
    {
     "name": "stdout",
     "output_type": "stream",
     "text": [
      "R^2: 0.806356957603642\n",
      "sigma: 586.3207563508017\n",
      "A: 2.597429801272795\n",
      "F: 17.697599807386283\n"
     ]
    }
   ],
   "source": [
    "print(\"R^2:\",r_2) \n",
    "print(\"sigma:\",Se)\n",
    "print(\"A:\",A)\n",
    "print(f\"F: {F}\")"
   ]
  },
  {
   "cell_type": "code",
   "execution_count": null,
   "metadata": {},
   "outputs": [],
   "source": []
  },
  {
   "cell_type": "code",
   "execution_count": null,
   "metadata": {},
   "outputs": [],
   "source": []
  },
  {
   "cell_type": "code",
   "execution_count": null,
   "metadata": {},
   "outputs": [],
   "source": []
  }
 ],
 "metadata": {
  "colab": {
   "name": "10_21_Съедина_дз.ipynb",
   "provenance": []
  },
  "kernelspec": {
   "display_name": "Python 3 (ipykernel)",
   "language": "python",
   "name": "python3"
  },
  "language_info": {
   "codemirror_mode": {
    "name": "ipython",
    "version": 3
   },
   "file_extension": ".py",
   "mimetype": "text/x-python",
   "name": "python",
   "nbconvert_exporter": "python",
   "pygments_lexer": "ipython3",
   "version": "3.9.7"
  }
 },
 "nbformat": 4,
 "nbformat_minor": 1
}

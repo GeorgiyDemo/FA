{
 "cells": [
  {
   "cell_type": "code",
   "execution_count": 31,
   "id": "0c3827a4",
   "metadata": {},
   "outputs": [],
   "source": [
    "import numpy as np"
   ]
  },
  {
   "cell_type": "code",
   "execution_count": 32,
   "id": "73877c8c",
   "metadata": {},
   "outputs": [],
   "source": [
    "import pandas as pd"
   ]
  },
  {
   "cell_type": "code",
   "execution_count": 33,
   "id": "6a195337",
   "metadata": {},
   "outputs": [
    {
     "data": {
      "text/html": [
       "<div>\n",
       "<style scoped>\n",
       "    .dataframe tbody tr th:only-of-type {\n",
       "        vertical-align: middle;\n",
       "    }\n",
       "\n",
       "    .dataframe tbody tr th {\n",
       "        vertical-align: top;\n",
       "    }\n",
       "\n",
       "    .dataframe thead th {\n",
       "        text-align: right;\n",
       "    }\n",
       "</style>\n",
       "<table border=\"1\" class=\"dataframe\">\n",
       "  <thead>\n",
       "    <tr style=\"text-align: right;\">\n",
       "      <th></th>\n",
       "      <th>y</th>\n",
       "      <th>x1</th>\n",
       "      <th>x2</th>\n",
       "      <th>x3</th>\n",
       "      <th>x4</th>\n",
       "    </tr>\n",
       "  </thead>\n",
       "  <tbody>\n",
       "    <tr>\n",
       "      <th>0</th>\n",
       "      <td>12345.0</td>\n",
       "      <td>2769</td>\n",
       "      <td>29.67</td>\n",
       "      <td>94.2</td>\n",
       "      <td>9.6</td>\n",
       "    </tr>\n",
       "    <tr>\n",
       "      <th>1</th>\n",
       "      <td>12091.9</td>\n",
       "      <td>3065</td>\n",
       "      <td>28.94</td>\n",
       "      <td>101.1</td>\n",
       "      <td>9.5</td>\n",
       "    </tr>\n",
       "    <tr>\n",
       "      <th>2</th>\n",
       "      <td>12339.7</td>\n",
       "      <td>3899</td>\n",
       "      <td>28.43</td>\n",
       "      <td>111.6</td>\n",
       "      <td>9.5</td>\n",
       "    </tr>\n",
       "    <tr>\n",
       "      <th>3</th>\n",
       "      <td>12450.6</td>\n",
       "      <td>3790</td>\n",
       "      <td>27.50</td>\n",
       "      <td>119.7</td>\n",
       "      <td>9.6</td>\n",
       "    </tr>\n",
       "    <tr>\n",
       "      <th>4</th>\n",
       "      <td>12832.1</td>\n",
       "      <td>3963</td>\n",
       "      <td>28.07</td>\n",
       "      <td>112.0</td>\n",
       "      <td>9.6</td>\n",
       "    </tr>\n",
       "    <tr>\n",
       "      <th>5</th>\n",
       "      <td>12892.1</td>\n",
       "      <td>4224</td>\n",
       "      <td>28.08</td>\n",
       "      <td>112.0</td>\n",
       "      <td>9.4</td>\n",
       "    </tr>\n",
       "    <tr>\n",
       "      <th>6</th>\n",
       "      <td>13224.5</td>\n",
       "      <td>4645</td>\n",
       "      <td>27.68</td>\n",
       "      <td>115.3</td>\n",
       "      <td>9.0</td>\n",
       "    </tr>\n",
       "    <tr>\n",
       "      <th>7</th>\n",
       "      <td>13449.9</td>\n",
       "      <td>4914</td>\n",
       "      <td>28.86</td>\n",
       "      <td>109.6</td>\n",
       "      <td>8.2</td>\n",
       "    </tr>\n",
       "    <tr>\n",
       "      <th>8</th>\n",
       "      <td>13476.8</td>\n",
       "      <td>4830</td>\n",
       "      <td>31.88</td>\n",
       "      <td>112.6</td>\n",
       "      <td>7.2</td>\n",
       "    </tr>\n",
       "    <tr>\n",
       "      <th>9</th>\n",
       "      <td>13588.9</td>\n",
       "      <td>4815</td>\n",
       "      <td>29.90</td>\n",
       "      <td>108.7</td>\n",
       "      <td>7.2</td>\n",
       "    </tr>\n",
       "    <tr>\n",
       "      <th>10</th>\n",
       "      <td>13600.4</td>\n",
       "      <td>4401</td>\n",
       "      <td>31.32</td>\n",
       "      <td>110.9</td>\n",
       "      <td>6.8</td>\n",
       "    </tr>\n",
       "    <tr>\n",
       "      <th>11</th>\n",
       "      <td>13768.5</td>\n",
       "      <td>5189</td>\n",
       "      <td>32.20</td>\n",
       "      <td>108.0</td>\n",
       "      <td>6.1</td>\n",
       "    </tr>\n",
       "    <tr>\n",
       "      <th>12</th>\n",
       "      <td>14796.6</td>\n",
       "      <td>3434</td>\n",
       "      <td>30.36</td>\n",
       "      <td>109.8</td>\n",
       "      <td>4.2</td>\n",
       "    </tr>\n",
       "    <tr>\n",
       "      <th>13</th>\n",
       "      <td>14424.2</td>\n",
       "      <td>5195</td>\n",
       "      <td>28.95</td>\n",
       "      <td>119.2</td>\n",
       "      <td>3.7</td>\n",
       "    </tr>\n",
       "    <tr>\n",
       "      <th>14</th>\n",
       "      <td>14607.3</td>\n",
       "      <td>5401</td>\n",
       "      <td>29.33</td>\n",
       "      <td>123.3</td>\n",
       "      <td>3.7</td>\n",
       "    </tr>\n",
       "    <tr>\n",
       "      <th>15</th>\n",
       "      <td>14688.0</td>\n",
       "      <td>4239</td>\n",
       "      <td>29.36</td>\n",
       "      <td>117.8</td>\n",
       "      <td>3.6</td>\n",
       "    </tr>\n",
       "    <tr>\n",
       "      <th>16</th>\n",
       "      <td>15057.3</td>\n",
       "      <td>4558</td>\n",
       "      <td>32.45</td>\n",
       "      <td>109.2</td>\n",
       "      <td>3.6</td>\n",
       "    </tr>\n",
       "    <tr>\n",
       "      <th>17</th>\n",
       "      <td>15161.0</td>\n",
       "      <td>4675</td>\n",
       "      <td>32.82</td>\n",
       "      <td>93.5</td>\n",
       "      <td>4.3</td>\n",
       "    </tr>\n",
       "    <tr>\n",
       "      <th>18</th>\n",
       "      <td>15534.6</td>\n",
       "      <td>6558</td>\n",
       "      <td>32.19</td>\n",
       "      <td>102.7</td>\n",
       "      <td>5.6</td>\n",
       "    </tr>\n",
       "    <tr>\n",
       "      <th>19</th>\n",
       "      <td>15544.5</td>\n",
       "      <td>6253</td>\n",
       "      <td>32.92</td>\n",
       "      <td>113.5</td>\n",
       "      <td>5.9</td>\n",
       "    </tr>\n",
       "    <tr>\n",
       "      <th>20</th>\n",
       "      <td>15644.4</td>\n",
       "      <td>5410</td>\n",
       "      <td>30.92</td>\n",
       "      <td>112.0</td>\n",
       "      <td>6.6</td>\n",
       "    </tr>\n",
       "    <tr>\n",
       "      <th>21</th>\n",
       "      <td>15717.8</td>\n",
       "      <td>5023</td>\n",
       "      <td>31.53</td>\n",
       "      <td>110.8</td>\n",
       "      <td>6.5</td>\n",
       "    </tr>\n",
       "  </tbody>\n",
       "</table>\n",
       "</div>"
      ],
      "text/plain": [
       "          y    x1     x2     x3   x4\n",
       "0   12345.0  2769  29.67   94.2  9.6\n",
       "1   12091.9  3065  28.94  101.1  9.5\n",
       "2   12339.7  3899  28.43  111.6  9.5\n",
       "3   12450.6  3790  27.50  119.7  9.6\n",
       "4   12832.1  3963  28.07  112.0  9.6\n",
       "5   12892.1  4224  28.08  112.0  9.4\n",
       "6   13224.5  4645  27.68  115.3  9.0\n",
       "7   13449.9  4914  28.86  109.6  8.2\n",
       "8   13476.8  4830  31.88  112.6  7.2\n",
       "9   13588.9  4815  29.90  108.7  7.2\n",
       "10  13600.4  4401  31.32  110.9  6.8\n",
       "11  13768.5  5189  32.20  108.0  6.1\n",
       "12  14796.6  3434  30.36  109.8  4.2\n",
       "13  14424.2  5195  28.95  119.2  3.7\n",
       "14  14607.3  5401  29.33  123.3  3.7\n",
       "15  14688.0  4239  29.36  117.8  3.6\n",
       "16  15057.3  4558  32.45  109.2  3.6\n",
       "17  15161.0  4675  32.82   93.5  4.3\n",
       "18  15534.6  6558  32.19  102.7  5.6\n",
       "19  15544.5  6253  32.92  113.5  5.9\n",
       "20  15644.4  5410  30.92  112.0  6.6\n",
       "21  15717.8  5023  31.53  110.8  6.5"
      ]
     },
     "execution_count": 33,
     "metadata": {},
     "output_type": "execute_result"
    }
   ],
   "source": [
    "d = pd.read_csv('./GAM.csv', sep = ';', decimal = ',')\n",
    "d"
   ]
  },
  {
   "cell_type": "code",
   "execution_count": 34,
   "id": "87bd1b74",
   "metadata": {},
   "outputs": [
    {
     "data": {
      "text/plain": [
       "y     float64\n",
       "x1      int64\n",
       "x2    float64\n",
       "x3    float64\n",
       "x4    float64\n",
       "dtype: object"
      ]
     },
     "execution_count": 34,
     "metadata": {},
     "output_type": "execute_result"
    }
   ],
   "source": [
    "d.dtypes"
   ]
  },
  {
   "cell_type": "code",
   "execution_count": 35,
   "id": "891b64a2",
   "metadata": {},
   "outputs": [],
   "source": [
    "import statsmodels.formula.api as sm"
   ]
  },
  {
   "cell_type": "code",
   "execution_count": 36,
   "id": "3c224294",
   "metadata": {
    "scrolled": false
   },
   "outputs": [
    {
     "data": {
      "text/html": [
       "<table class=\"simpletable\">\n",
       "<caption>OLS Regression Results</caption>\n",
       "<tr>\n",
       "  <th>Dep. Variable:</th>            <td>y</td>        <th>  R-squared:         </th> <td>   0.806</td>\n",
       "</tr>\n",
       "<tr>\n",
       "  <th>Model:</th>                   <td>OLS</td>       <th>  Adj. R-squared:    </th> <td>   0.761</td>\n",
       "</tr>\n",
       "<tr>\n",
       "  <th>Method:</th>             <td>Least Squares</td>  <th>  F-statistic:       </th> <td>   17.70</td>\n",
       "</tr>\n",
       "<tr>\n",
       "  <th>Date:</th>             <td>Wed, 13 Oct 2021</td> <th>  Prob (F-statistic):</th> <td>6.83e-06</td>\n",
       "</tr>\n",
       "<tr>\n",
       "  <th>Time:</th>                 <td>13:37:25</td>     <th>  Log-Likelihood:    </th> <td> -168.61</td>\n",
       "</tr>\n",
       "<tr>\n",
       "  <th>No. Observations:</th>      <td>    22</td>      <th>  AIC:               </th> <td>   347.2</td>\n",
       "</tr>\n",
       "<tr>\n",
       "  <th>Df Residuals:</th>          <td>    17</td>      <th>  BIC:               </th> <td>   352.7</td>\n",
       "</tr>\n",
       "<tr>\n",
       "  <th>Df Model:</th>              <td>     4</td>      <th>                     </th>     <td> </td>   \n",
       "</tr>\n",
       "<tr>\n",
       "  <th>Covariance Type:</th>      <td>nonrobust</td>    <th>                     </th>     <td> </td>   \n",
       "</tr>\n",
       "</table>\n",
       "<table class=\"simpletable\">\n",
       "<tr>\n",
       "      <td></td>         <th>coef</th>     <th>std err</th>      <th>t</th>      <th>P>|t|</th>  <th>[0.025</th>    <th>0.975]</th>  \n",
       "</tr>\n",
       "<tr>\n",
       "  <th>Intercept</th> <td>  1.04e+04</td> <td> 6169.698</td> <td>    1.686</td> <td> 0.110</td> <td>-2616.991</td> <td> 2.34e+04</td>\n",
       "</tr>\n",
       "<tr>\n",
       "  <th>x1</th>        <td>    0.4838</td> <td>    0.196</td> <td>    2.463</td> <td> 0.025</td> <td>    0.069</td> <td>    0.898</td>\n",
       "</tr>\n",
       "<tr>\n",
       "  <th>x2</th>        <td>  130.3151</td> <td>  132.126</td> <td>    0.986</td> <td> 0.338</td> <td> -148.446</td> <td>  409.076</td>\n",
       "</tr>\n",
       "<tr>\n",
       "  <th>x3</th>        <td>   -6.4678</td> <td>   25.698</td> <td>   -0.252</td> <td> 0.804</td> <td>  -60.686</td> <td>   47.750</td>\n",
       "</tr>\n",
       "<tr>\n",
       "  <th>x4</th>        <td> -276.3727</td> <td>   78.946</td> <td>   -3.501</td> <td> 0.003</td> <td> -442.935</td> <td> -109.810</td>\n",
       "</tr>\n",
       "</table>\n",
       "<table class=\"simpletable\">\n",
       "<tr>\n",
       "  <th>Omnibus:</th>       <td> 5.043</td> <th>  Durbin-Watson:     </th> <td>   1.083</td>\n",
       "</tr>\n",
       "<tr>\n",
       "  <th>Prob(Omnibus):</th> <td> 0.080</td> <th>  Jarque-Bera (JB):  </th> <td>   2.978</td>\n",
       "</tr>\n",
       "<tr>\n",
       "  <th>Skew:</th>          <td> 0.808</td> <th>  Prob(JB):          </th> <td>   0.226</td>\n",
       "</tr>\n",
       "<tr>\n",
       "  <th>Kurtosis:</th>      <td> 3.797</td> <th>  Cond. No.          </th> <td>2.32e+05</td>\n",
       "</tr>\n",
       "</table><br/><br/>Notes:<br/>[1] Standard Errors assume that the covariance matrix of the errors is correctly specified.<br/>[2] The condition number is large, 2.32e+05. This might indicate that there are<br/>strong multicollinearity or other numerical problems."
      ],
      "text/plain": [
       "<class 'statsmodels.iolib.summary.Summary'>\n",
       "\"\"\"\n",
       "                            OLS Regression Results                            \n",
       "==============================================================================\n",
       "Dep. Variable:                      y   R-squared:                       0.806\n",
       "Model:                            OLS   Adj. R-squared:                  0.761\n",
       "Method:                 Least Squares   F-statistic:                     17.70\n",
       "Date:                Wed, 13 Oct 2021   Prob (F-statistic):           6.83e-06\n",
       "Time:                        13:37:25   Log-Likelihood:                -168.61\n",
       "No. Observations:                  22   AIC:                             347.2\n",
       "Df Residuals:                      17   BIC:                             352.7\n",
       "Df Model:                           4                                         \n",
       "Covariance Type:            nonrobust                                         \n",
       "==============================================================================\n",
       "                 coef    std err          t      P>|t|      [0.025      0.975]\n",
       "------------------------------------------------------------------------------\n",
       "Intercept    1.04e+04   6169.698      1.686      0.110   -2616.991    2.34e+04\n",
       "x1             0.4838      0.196      2.463      0.025       0.069       0.898\n",
       "x2           130.3151    132.126      0.986      0.338    -148.446     409.076\n",
       "x3            -6.4678     25.698     -0.252      0.804     -60.686      47.750\n",
       "x4          -276.3727     78.946     -3.501      0.003    -442.935    -109.810\n",
       "==============================================================================\n",
       "Omnibus:                        5.043   Durbin-Watson:                   1.083\n",
       "Prob(Omnibus):                  0.080   Jarque-Bera (JB):                2.978\n",
       "Skew:                           0.808   Prob(JB):                        0.226\n",
       "Kurtosis:                       3.797   Cond. No.                     2.32e+05\n",
       "==============================================================================\n",
       "\n",
       "Notes:\n",
       "[1] Standard Errors assume that the covariance matrix of the errors is correctly specified.\n",
       "[2] The condition number is large, 2.32e+05. This might indicate that there are\n",
       "strong multicollinearity or other numerical problems.\n",
       "\"\"\""
      ]
     },
     "execution_count": 36,
     "metadata": {},
     "output_type": "execute_result"
    }
   ],
   "source": [
    "m = sm.ols(formula=\"y ~ x1 + x2 + x3 +x4\", data=d)\n",
    "results = m.fit()\n",
    "s = results.summary()\n",
    "s"
   ]
  },
  {
   "cell_type": "code",
   "execution_count": 37,
   "id": "c07a638c",
   "metadata": {},
   "outputs": [],
   "source": [
    "import statsmodels.stats as smd\n",
    "\n",
    "import statsmodels.stats.api as sms\n",
    "#чтобы делать тесты\n",
    "\n",
    "from statsmodels.compat import lzip\n",
    "#чтобы делать подписи"
   ]
  },
  {
   "cell_type": "code",
   "execution_count": 38,
   "id": "2f96cf62",
   "metadata": {},
   "outputs": [
    {
     "data": {
      "text/plain": [
       "[('Chisq statistic', 3.5386954765277334),\n",
       " ('p-value', 0.05995259588586508),\n",
       " ('F statistic', 3.066908275764395),\n",
       " ('p-value(F)', 0.09904494651386497)]"
      ]
     },
     "execution_count": 38,
     "metadata": {},
     "output_type": "execute_result"
    }
   ],
   "source": [
    "residuals = results.resid\n",
    "\n",
    "#DWtest\n",
    "dw = smd.stattools.durbin_watson(residuals)\n",
    "dw\n",
    "\n",
    "#BGtest\n",
    "smd.diagnostic.acorr_breusch_godfrey(results)\n",
    "#или\n",
    "name=['Chisq statistic','p-value', 'F statistic','p-value(F)']\n",
    "bg=sms.acorr_breusch_godfrey(results,nlags=1)\n",
    "lzip(name,bg)"
   ]
  },
  {
   "cell_type": "code",
   "execution_count": 39,
   "id": "53ea095b",
   "metadata": {},
   "outputs": [
    {
     "data": {
      "text/plain": [
       "(12.06478948111151, 0.003985192273289891, 'increasing')"
      ]
     },
     "execution_count": 39,
     "metadata": {},
     "output_type": "execute_result"
    }
   ],
   "source": [
    "#GQtest\n",
    "name=['F statistic','p-value']\n",
    "gq=sms.het_goldfeldquandt(residuals,results.model.exog)\n",
    "lzip(name,gq)\n",
    "#или GQtest\n",
    "gq=sms.het_goldfeldquandt(residuals,results.model.exog)\n",
    "gq\n"
   ]
  },
  {
   "cell_type": "code",
   "execution_count": 40,
   "id": "01ab79f4",
   "metadata": {},
   "outputs": [
    {
     "data": {
      "text/plain": [
       "[('BP', 4.349947045310061), ('p-value', 0.3607124304434168)]"
      ]
     },
     "execution_count": 40,
     "metadata": {},
     "output_type": "execute_result"
    }
   ],
   "source": [
    "#BPtest\n",
    "name=['BP','p-value']\n",
    "bp=sms.het_breuschpagan(residuals,results.model.exog)\n",
    "lzip(name,bp)\n"
   ]
  },
  {
   "cell_type": "code",
   "execution_count": 41,
   "id": "9e3fb6d0",
   "metadata": {},
   "outputs": [
    {
     "data": {
      "text/plain": [
       "[('WT', 15.049318977211422), ('p-value', 0.37479162866559157)]"
      ]
     },
     "execution_count": 41,
     "metadata": {},
     "output_type": "execute_result"
    }
   ],
   "source": [
    "#White_test\n",
    "name=['WT','p-value']\n",
    "wt=sms.het_white(residuals,results.model.exog)\n",
    "lzip(name,wt)"
   ]
  },
  {
   "cell_type": "code",
   "execution_count": 42,
   "id": "13e2db45",
   "metadata": {},
   "outputs": [
    {
     "name": "stderr",
     "output_type": "stream",
     "text": [
      "/opt/homebrew/lib/python3.9/site-packages/statsmodels-0.14.0.dev0-py3.9-macosx-11-arm64.egg/statsmodels/stats/sandwich_covariance.py:169: FutureWarning: Support for multi-dimensional indexing (e.g. `obj[:, None]`) is deprecated and will be removed in a future version.  Convert to a numpy array before indexing instead.\n",
      "  scale[:,None]*results.model.pinv_wexog.T)\n"
     ]
    },
    {
     "data": {
      "text/plain": [
       "array([[ 4.42043696e+07,  4.29619101e+02, -9.89688378e+05,\n",
       "        -1.24626777e+05, -4.54252382e+05],\n",
       "       [ 4.29619101e+02,  2.76061969e-02, -1.26356042e+01,\n",
       "        -1.65214932e+00,  1.62610075e-01],\n",
       "       [-9.89688378e+05, -1.26356042e+01,  2.28869356e+04,\n",
       "         2.73715523e+03,  9.81389140e+03],\n",
       "       [-1.24626777e+05, -1.65214932e+00,  2.73715523e+03,\n",
       "         4.03241541e+02,  1.02302105e+03],\n",
       "       [-4.54252382e+05,  1.62610075e-01,  9.81389140e+03,\n",
       "         1.02302105e+03,  6.95617787e+03]])"
      ]
     },
     "execution_count": 42,
     "metadata": {},
     "output_type": "execute_result"
    }
   ],
   "source": [
    "#HC\n",
    "smd.sandwich_covariance.cov_hc3(results)\n",
    "#или\n",
    "results.cov_HC3\n"
   ]
  },
  {
   "cell_type": "code",
   "execution_count": 43,
   "id": "92219b1b",
   "metadata": {},
   "outputs": [
    {
     "data": {
      "text/plain": [
       "array([[ 4.56271457e+07,  1.19502473e+02, -1.00255190e+06,\n",
       "        -1.22267811e+05, -4.86988784e+05],\n",
       "       [ 1.19502473e+02,  2.01909042e-02, -5.63541897e+00,\n",
       "        -3.26284914e-01, -3.68608033e-01],\n",
       "       [-1.00255190e+06, -5.63541897e+00,  2.26757158e+04,\n",
       "         2.62638290e+03,  1.06648611e+04],\n",
       "       [-1.22267811e+05, -3.26284914e-01,  2.62638290e+03,\n",
       "         3.49538163e+02,  1.23966636e+03],\n",
       "       [-4.86988784e+05, -3.68608033e-01,  1.06648611e+04,\n",
       "         1.23966636e+03,  5.83059052e+03]])"
      ]
     },
     "execution_count": 43,
     "metadata": {},
     "output_type": "execute_result"
    }
   ],
   "source": [
    "#HAC\n",
    "smd.sandwich_covariance.cov_hac(results)\n"
   ]
  },
  {
   "cell_type": "code",
   "execution_count": null,
   "id": "5e047204",
   "metadata": {},
   "outputs": [],
   "source": []
  },
  {
   "cell_type": "code",
   "execution_count": null,
   "id": "8e2c52a5",
   "metadata": {},
   "outputs": [],
   "source": []
  },
  {
   "cell_type": "code",
   "execution_count": null,
   "id": "8ca2eddc",
   "metadata": {},
   "outputs": [],
   "source": []
  },
  {
   "cell_type": "code",
   "execution_count": null,
   "id": "6ae5973c",
   "metadata": {},
   "outputs": [],
   "source": []
  },
  {
   "cell_type": "code",
   "execution_count": null,
   "id": "a57daa8d",
   "metadata": {},
   "outputs": [],
   "source": []
  }
 ],
 "metadata": {
  "kernelspec": {
   "display_name": "Python 3 (ipykernel)",
   "language": "python",
   "name": "python3"
  },
  "language_info": {
   "codemirror_mode": {
    "name": "ipython",
    "version": 3
   },
   "file_extension": ".py",
   "mimetype": "text/x-python",
   "name": "python",
   "nbconvert_exporter": "python",
   "pygments_lexer": "ipython3",
   "version": "3.9.7"
  }
 },
 "nbformat": 4,
 "nbformat_minor": 5
}

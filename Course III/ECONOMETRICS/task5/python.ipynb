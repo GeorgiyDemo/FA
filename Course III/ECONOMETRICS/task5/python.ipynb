{
 "cells": [
  {
   "cell_type": "code",
   "execution_count": 1,
   "id": "0c3827a4",
   "metadata": {},
   "outputs": [],
   "source": [
    "import numpy as np"
   ]
  },
  {
   "cell_type": "code",
   "execution_count": 2,
   "id": "6a195337",
   "metadata": {},
   "outputs": [
    {
     "data": {
      "text/html": [
       "<div>\n",
       "<style scoped>\n",
       "    .dataframe tbody tr th:only-of-type {\n",
       "        vertical-align: middle;\n",
       "    }\n",
       "\n",
       "    .dataframe tbody tr th {\n",
       "        vertical-align: top;\n",
       "    }\n",
       "\n",
       "    .dataframe thead th {\n",
       "        text-align: right;\n",
       "    }\n",
       "</style>\n",
       "<table border=\"1\" class=\"dataframe\">\n",
       "  <thead>\n",
       "    <tr style=\"text-align: right;\">\n",
       "      <th></th>\n",
       "      <th>y</th>\n",
       "      <th>x1</th>\n",
       "      <th>x2</th>\n",
       "      <th>x3</th>\n",
       "      <th>x4</th>\n",
       "    </tr>\n",
       "  </thead>\n",
       "  <tbody>\n",
       "    <tr>\n",
       "      <th>0</th>\n",
       "      <td>12 345,00</td>\n",
       "      <td>2769</td>\n",
       "      <td>29.67</td>\n",
       "      <td>94.2</td>\n",
       "      <td>9.6</td>\n",
       "    </tr>\n",
       "    <tr>\n",
       "      <th>1</th>\n",
       "      <td>12 091,90</td>\n",
       "      <td>3065</td>\n",
       "      <td>28.94</td>\n",
       "      <td>101.1</td>\n",
       "      <td>9.5</td>\n",
       "    </tr>\n",
       "    <tr>\n",
       "      <th>2</th>\n",
       "      <td>12 339,70</td>\n",
       "      <td>3899</td>\n",
       "      <td>28.43</td>\n",
       "      <td>111.6</td>\n",
       "      <td>9.5</td>\n",
       "    </tr>\n",
       "    <tr>\n",
       "      <th>3</th>\n",
       "      <td>12 450,60</td>\n",
       "      <td>3790</td>\n",
       "      <td>27.50</td>\n",
       "      <td>119.7</td>\n",
       "      <td>9.6</td>\n",
       "    </tr>\n",
       "    <tr>\n",
       "      <th>4</th>\n",
       "      <td>12 832,10</td>\n",
       "      <td>3963</td>\n",
       "      <td>28.07</td>\n",
       "      <td>112.0</td>\n",
       "      <td>9.6</td>\n",
       "    </tr>\n",
       "    <tr>\n",
       "      <th>5</th>\n",
       "      <td>12 892,10</td>\n",
       "      <td>4224</td>\n",
       "      <td>28.08</td>\n",
       "      <td>112.0</td>\n",
       "      <td>9.4</td>\n",
       "    </tr>\n",
       "    <tr>\n",
       "      <th>6</th>\n",
       "      <td>13 224,50</td>\n",
       "      <td>4645</td>\n",
       "      <td>27.68</td>\n",
       "      <td>115.3</td>\n",
       "      <td>9.0</td>\n",
       "    </tr>\n",
       "    <tr>\n",
       "      <th>7</th>\n",
       "      <td>13 449,90</td>\n",
       "      <td>4914</td>\n",
       "      <td>28.86</td>\n",
       "      <td>109.6</td>\n",
       "      <td>8.2</td>\n",
       "    </tr>\n",
       "    <tr>\n",
       "      <th>8</th>\n",
       "      <td>13 476,80</td>\n",
       "      <td>4830</td>\n",
       "      <td>31.88</td>\n",
       "      <td>112.6</td>\n",
       "      <td>7.2</td>\n",
       "    </tr>\n",
       "    <tr>\n",
       "      <th>9</th>\n",
       "      <td>13 588,90</td>\n",
       "      <td>4815</td>\n",
       "      <td>29.90</td>\n",
       "      <td>108.7</td>\n",
       "      <td>7.2</td>\n",
       "    </tr>\n",
       "    <tr>\n",
       "      <th>10</th>\n",
       "      <td>13 600,40</td>\n",
       "      <td>4401</td>\n",
       "      <td>31.32</td>\n",
       "      <td>110.9</td>\n",
       "      <td>6.8</td>\n",
       "    </tr>\n",
       "    <tr>\n",
       "      <th>11</th>\n",
       "      <td>13 768,50</td>\n",
       "      <td>5189</td>\n",
       "      <td>32.20</td>\n",
       "      <td>108.0</td>\n",
       "      <td>6.1</td>\n",
       "    </tr>\n",
       "    <tr>\n",
       "      <th>12</th>\n",
       "      <td>14 796,60</td>\n",
       "      <td>3434</td>\n",
       "      <td>30.36</td>\n",
       "      <td>109.8</td>\n",
       "      <td>4.2</td>\n",
       "    </tr>\n",
       "    <tr>\n",
       "      <th>13</th>\n",
       "      <td>14 424,20</td>\n",
       "      <td>5195</td>\n",
       "      <td>28.95</td>\n",
       "      <td>119.2</td>\n",
       "      <td>3.7</td>\n",
       "    </tr>\n",
       "    <tr>\n",
       "      <th>14</th>\n",
       "      <td>14 607,30</td>\n",
       "      <td>5401</td>\n",
       "      <td>29.33</td>\n",
       "      <td>123.3</td>\n",
       "      <td>3.7</td>\n",
       "    </tr>\n",
       "    <tr>\n",
       "      <th>15</th>\n",
       "      <td>14 688,00</td>\n",
       "      <td>4239</td>\n",
       "      <td>29.36</td>\n",
       "      <td>117.8</td>\n",
       "      <td>3.6</td>\n",
       "    </tr>\n",
       "    <tr>\n",
       "      <th>16</th>\n",
       "      <td>15 057,30</td>\n",
       "      <td>4558</td>\n",
       "      <td>32.45</td>\n",
       "      <td>109.2</td>\n",
       "      <td>3.6</td>\n",
       "    </tr>\n",
       "    <tr>\n",
       "      <th>17</th>\n",
       "      <td>15 161,00</td>\n",
       "      <td>4675</td>\n",
       "      <td>32.82</td>\n",
       "      <td>93.5</td>\n",
       "      <td>4.3</td>\n",
       "    </tr>\n",
       "    <tr>\n",
       "      <th>18</th>\n",
       "      <td>15 534,60</td>\n",
       "      <td>6558</td>\n",
       "      <td>32.19</td>\n",
       "      <td>102.7</td>\n",
       "      <td>5.6</td>\n",
       "    </tr>\n",
       "    <tr>\n",
       "      <th>19</th>\n",
       "      <td>15 544,50</td>\n",
       "      <td>6253</td>\n",
       "      <td>32.92</td>\n",
       "      <td>113.5</td>\n",
       "      <td>5.9</td>\n",
       "    </tr>\n",
       "    <tr>\n",
       "      <th>20</th>\n",
       "      <td>15 644,40</td>\n",
       "      <td>5410</td>\n",
       "      <td>30.92</td>\n",
       "      <td>112.0</td>\n",
       "      <td>6.6</td>\n",
       "    </tr>\n",
       "    <tr>\n",
       "      <th>21</th>\n",
       "      <td>15 717,80</td>\n",
       "      <td>5023</td>\n",
       "      <td>31.53</td>\n",
       "      <td>110.8</td>\n",
       "      <td>6.5</td>\n",
       "    </tr>\n",
       "  </tbody>\n",
       "</table>\n",
       "</div>"
      ],
      "text/plain": [
       "            y    x1     x2     x3   x4\n",
       "0   12 345,00  2769  29.67   94.2  9.6\n",
       "1   12 091,90  3065  28.94  101.1  9.5\n",
       "2   12 339,70  3899  28.43  111.6  9.5\n",
       "3   12 450,60  3790  27.50  119.7  9.6\n",
       "4   12 832,10  3963  28.07  112.0  9.6\n",
       "5   12 892,10  4224  28.08  112.0  9.4\n",
       "6   13 224,50  4645  27.68  115.3  9.0\n",
       "7   13 449,90  4914  28.86  109.6  8.2\n",
       "8   13 476,80  4830  31.88  112.6  7.2\n",
       "9   13 588,90  4815  29.90  108.7  7.2\n",
       "10  13 600,40  4401  31.32  110.9  6.8\n",
       "11  13 768,50  5189  32.20  108.0  6.1\n",
       "12  14 796,60  3434  30.36  109.8  4.2\n",
       "13  14 424,20  5195  28.95  119.2  3.7\n",
       "14  14 607,30  5401  29.33  123.3  3.7\n",
       "15  14 688,00  4239  29.36  117.8  3.6\n",
       "16  15 057,30  4558  32.45  109.2  3.6\n",
       "17  15 161,00  4675  32.82   93.5  4.3\n",
       "18  15 534,60  6558  32.19  102.7  5.6\n",
       "19  15 544,50  6253  32.92  113.5  5.9\n",
       "20  15 644,40  5410  30.92  112.0  6.6\n",
       "21  15 717,80  5023  31.53  110.8  6.5"
      ]
     },
     "execution_count": 2,
     "metadata": {},
     "output_type": "execute_result"
    }
   ],
   "source": [
    "import pandas as pd\n",
    "d = pd.read_csv('./GAM.csv', sep = ';', decimal = ',')\n",
    "d"
   ]
  },
  {
   "cell_type": "code",
   "execution_count": 3,
   "id": "87bd1b74",
   "metadata": {},
   "outputs": [
    {
     "data": {
      "text/plain": [
       "y      object\n",
       "x1      int64\n",
       "x2    float64\n",
       "x3    float64\n",
       "x4    float64\n",
       "dtype: object"
      ]
     },
     "execution_count": 3,
     "metadata": {},
     "output_type": "execute_result"
    }
   ],
   "source": [
    "d.dtypes"
   ]
  },
  {
   "cell_type": "code",
   "execution_count": 4,
   "id": "891b64a2",
   "metadata": {},
   "outputs": [],
   "source": [
    "import statsmodels.formula.api as sm"
   ]
  },
  {
   "cell_type": "code",
   "execution_count": 12,
   "id": "3c224294",
   "metadata": {
    "scrolled": false
   },
   "outputs": [
    {
     "ename": "PatsyError",
     "evalue": "Number of rows mismatch between data argument and I (22 versus 1)\n    I ~ y\n    ^",
     "output_type": "error",
     "traceback": [
      "\u001b[0;31m---------------------------------------------------------------------------\u001b[0m",
      "\u001b[0;31mPatsyError\u001b[0m                                Traceback (most recent call last)",
      "\u001b[0;32m/var/folders/wp/b9w68jpd68xfy1wmgy4_08xh0000gn/T/ipykernel_35800/2616507066.py\u001b[0m in \u001b[0;36m<module>\u001b[0;34m\u001b[0m\n\u001b[0;32m----> 1\u001b[0;31m \u001b[0mm\u001b[0m \u001b[0;34m=\u001b[0m \u001b[0msm\u001b[0m\u001b[0;34m.\u001b[0m\u001b[0mols\u001b[0m\u001b[0;34m(\u001b[0m\u001b[0mformula\u001b[0m\u001b[0;34m=\u001b[0m\u001b[0;34m\"I ~ y\"\u001b[0m\u001b[0;34m,\u001b[0m \u001b[0mdata\u001b[0m\u001b[0;34m=\u001b[0m\u001b[0md\u001b[0m\u001b[0;34m)\u001b[0m\u001b[0;34m\u001b[0m\u001b[0;34m\u001b[0m\u001b[0m\n\u001b[0m\u001b[1;32m      2\u001b[0m \u001b[0mresults\u001b[0m \u001b[0;34m=\u001b[0m \u001b[0mm\u001b[0m\u001b[0;34m.\u001b[0m\u001b[0mfit\u001b[0m\u001b[0;34m(\u001b[0m\u001b[0;34m)\u001b[0m\u001b[0;34m\u001b[0m\u001b[0;34m\u001b[0m\u001b[0m\n\u001b[1;32m      3\u001b[0m \u001b[0ms\u001b[0m \u001b[0;34m=\u001b[0m \u001b[0mresults\u001b[0m\u001b[0;34m.\u001b[0m\u001b[0msummary\u001b[0m\u001b[0;34m(\u001b[0m\u001b[0;34m)\u001b[0m\u001b[0;34m\u001b[0m\u001b[0;34m\u001b[0m\u001b[0m\n\u001b[1;32m      4\u001b[0m \u001b[0ms\u001b[0m\u001b[0;34m\u001b[0m\u001b[0;34m\u001b[0m\u001b[0m\n",
      "\u001b[0;32m/opt/homebrew/lib/python3.9/site-packages/statsmodels-0.14.0.dev0-py3.9-macosx-11-arm64.egg/statsmodels/base/model.py\u001b[0m in \u001b[0;36mfrom_formula\u001b[0;34m(cls, formula, data, subset, drop_cols, *args, **kwargs)\u001b[0m\n\u001b[1;32m    198\u001b[0m             \u001b[0mmissing\u001b[0m \u001b[0;34m=\u001b[0m \u001b[0;34m'raise'\u001b[0m\u001b[0;34m\u001b[0m\u001b[0;34m\u001b[0m\u001b[0m\n\u001b[1;32m    199\u001b[0m \u001b[0;34m\u001b[0m\u001b[0m\n\u001b[0;32m--> 200\u001b[0;31m         tmp = handle_formula_data(data, None, formula, depth=eval_env,\n\u001b[0m\u001b[1;32m    201\u001b[0m                                   missing=missing)\n\u001b[1;32m    202\u001b[0m         \u001b[0;34m(\u001b[0m\u001b[0;34m(\u001b[0m\u001b[0mendog\u001b[0m\u001b[0;34m,\u001b[0m \u001b[0mexog\u001b[0m\u001b[0;34m)\u001b[0m\u001b[0;34m,\u001b[0m \u001b[0mmissing_idx\u001b[0m\u001b[0;34m,\u001b[0m \u001b[0mdesign_info\u001b[0m\u001b[0;34m)\u001b[0m \u001b[0;34m=\u001b[0m \u001b[0mtmp\u001b[0m\u001b[0;34m\u001b[0m\u001b[0;34m\u001b[0m\u001b[0m\n",
      "\u001b[0;32m/opt/homebrew/lib/python3.9/site-packages/statsmodels-0.14.0.dev0-py3.9-macosx-11-arm64.egg/statsmodels/formula/formulatools.py\u001b[0m in \u001b[0;36mhandle_formula_data\u001b[0;34m(Y, X, formula, depth, missing)\u001b[0m\n\u001b[1;32m     61\u001b[0m     \u001b[0;32melse\u001b[0m\u001b[0;34m:\u001b[0m\u001b[0;34m\u001b[0m\u001b[0;34m\u001b[0m\u001b[0m\n\u001b[1;32m     62\u001b[0m         \u001b[0;32mif\u001b[0m \u001b[0mdata_util\u001b[0m\u001b[0;34m.\u001b[0m\u001b[0m_is_using_pandas\u001b[0m\u001b[0;34m(\u001b[0m\u001b[0mY\u001b[0m\u001b[0;34m,\u001b[0m \u001b[0;32mNone\u001b[0m\u001b[0;34m)\u001b[0m\u001b[0;34m:\u001b[0m\u001b[0;34m\u001b[0m\u001b[0;34m\u001b[0m\u001b[0m\n\u001b[0;32m---> 63\u001b[0;31m             result = dmatrices(formula, Y, depth, return_type='dataframe',\n\u001b[0m\u001b[1;32m     64\u001b[0m                                NA_action=na_action)\n\u001b[1;32m     65\u001b[0m         \u001b[0;32melse\u001b[0m\u001b[0;34m:\u001b[0m\u001b[0;34m\u001b[0m\u001b[0;34m\u001b[0m\u001b[0m\n",
      "\u001b[0;32m/opt/homebrew/lib/python3.9/site-packages/patsy-0.5.2-py3.9.egg/patsy/highlevel.py\u001b[0m in \u001b[0;36mdmatrices\u001b[0;34m(formula_like, data, eval_env, NA_action, return_type)\u001b[0m\n\u001b[1;32m    307\u001b[0m     \"\"\"\n\u001b[1;32m    308\u001b[0m     \u001b[0meval_env\u001b[0m \u001b[0;34m=\u001b[0m \u001b[0mEvalEnvironment\u001b[0m\u001b[0;34m.\u001b[0m\u001b[0mcapture\u001b[0m\u001b[0;34m(\u001b[0m\u001b[0meval_env\u001b[0m\u001b[0;34m,\u001b[0m \u001b[0mreference\u001b[0m\u001b[0;34m=\u001b[0m\u001b[0;36m1\u001b[0m\u001b[0;34m)\u001b[0m\u001b[0;34m\u001b[0m\u001b[0;34m\u001b[0m\u001b[0m\n\u001b[0;32m--> 309\u001b[0;31m     (lhs, rhs) = _do_highlevel_design(formula_like, data, eval_env,\n\u001b[0m\u001b[1;32m    310\u001b[0m                                       NA_action, return_type)\n\u001b[1;32m    311\u001b[0m     \u001b[0;32mif\u001b[0m \u001b[0mlhs\u001b[0m\u001b[0;34m.\u001b[0m\u001b[0mshape\u001b[0m\u001b[0;34m[\u001b[0m\u001b[0;36m1\u001b[0m\u001b[0;34m]\u001b[0m \u001b[0;34m==\u001b[0m \u001b[0;36m0\u001b[0m\u001b[0;34m:\u001b[0m\u001b[0;34m\u001b[0m\u001b[0;34m\u001b[0m\u001b[0m\n",
      "\u001b[0;32m/opt/homebrew/lib/python3.9/site-packages/patsy-0.5.2-py3.9.egg/patsy/highlevel.py\u001b[0m in \u001b[0;36m_do_highlevel_design\u001b[0;34m(formula_like, data, eval_env, NA_action, return_type)\u001b[0m\n\u001b[1;32m    165\u001b[0m                                       NA_action)\n\u001b[1;32m    166\u001b[0m     \u001b[0;32mif\u001b[0m \u001b[0mdesign_infos\u001b[0m \u001b[0;32mis\u001b[0m \u001b[0;32mnot\u001b[0m \u001b[0;32mNone\u001b[0m\u001b[0;34m:\u001b[0m\u001b[0;34m\u001b[0m\u001b[0;34m\u001b[0m\u001b[0m\n\u001b[0;32m--> 167\u001b[0;31m         return build_design_matrices(design_infos, data,\n\u001b[0m\u001b[1;32m    168\u001b[0m                                      \u001b[0mNA_action\u001b[0m\u001b[0;34m=\u001b[0m\u001b[0mNA_action\u001b[0m\u001b[0;34m,\u001b[0m\u001b[0;34m\u001b[0m\u001b[0;34m\u001b[0m\u001b[0m\n\u001b[1;32m    169\u001b[0m                                      return_type=return_type)\n",
      "\u001b[0;32m/opt/homebrew/lib/python3.9/site-packages/patsy-0.5.2-py3.9.egg/patsy/build.py\u001b[0m in \u001b[0;36mbuild_design_matrices\u001b[0;34m(design_infos, data, NA_action, return_type, dtype)\u001b[0m\n\u001b[1;32m    891\u001b[0m                 \u001b[0mname\u001b[0m \u001b[0;34m=\u001b[0m \u001b[0mfactor_info\u001b[0m\u001b[0;34m.\u001b[0m\u001b[0mfactor\u001b[0m\u001b[0;34m.\u001b[0m\u001b[0mname\u001b[0m\u001b[0;34m(\u001b[0m\u001b[0;34m)\u001b[0m\u001b[0;34m\u001b[0m\u001b[0;34m\u001b[0m\u001b[0m\n\u001b[1;32m    892\u001b[0m                 \u001b[0morigin\u001b[0m \u001b[0;34m=\u001b[0m \u001b[0mfactor_info\u001b[0m\u001b[0;34m.\u001b[0m\u001b[0mfactor\u001b[0m\u001b[0;34m.\u001b[0m\u001b[0morigin\u001b[0m\u001b[0;34m\u001b[0m\u001b[0;34m\u001b[0m\u001b[0m\n\u001b[0;32m--> 893\u001b[0;31m                 \u001b[0mrows_checker\u001b[0m\u001b[0;34m.\u001b[0m\u001b[0mcheck\u001b[0m\u001b[0;34m(\u001b[0m\u001b[0mvalue\u001b[0m\u001b[0;34m.\u001b[0m\u001b[0mshape\u001b[0m\u001b[0;34m[\u001b[0m\u001b[0;36m0\u001b[0m\u001b[0;34m]\u001b[0m\u001b[0;34m,\u001b[0m \u001b[0mname\u001b[0m\u001b[0;34m,\u001b[0m \u001b[0morigin\u001b[0m\u001b[0;34m)\u001b[0m\u001b[0;34m\u001b[0m\u001b[0;34m\u001b[0m\u001b[0m\n\u001b[0m\u001b[1;32m    894\u001b[0m                 if (have_pandas\n\u001b[1;32m    895\u001b[0m                     and isinstance(value, (pandas.Series, pandas.DataFrame))):\n",
      "\u001b[0;32m/opt/homebrew/lib/python3.9/site-packages/patsy-0.5.2-py3.9.egg/patsy/build.py\u001b[0m in \u001b[0;36mcheck\u001b[0;34m(self, seen_value, desc, origin)\u001b[0m\n\u001b[1;32m    793\u001b[0m                 \u001b[0;31m# XX FIXME: this is a case where having discontiguous Origins\u001b[0m\u001b[0;34m\u001b[0m\u001b[0;34m\u001b[0m\u001b[0m\n\u001b[1;32m    794\u001b[0m                 \u001b[0;31m# would be useful...\u001b[0m\u001b[0;34m\u001b[0m\u001b[0;34m\u001b[0m\u001b[0m\n\u001b[0;32m--> 795\u001b[0;31m                 \u001b[0;32mraise\u001b[0m \u001b[0mPatsyError\u001b[0m\u001b[0;34m(\u001b[0m\u001b[0mmsg\u001b[0m\u001b[0;34m,\u001b[0m \u001b[0morigin\u001b[0m\u001b[0;34m)\u001b[0m\u001b[0;34m\u001b[0m\u001b[0;34m\u001b[0m\u001b[0m\n\u001b[0m\u001b[1;32m    796\u001b[0m \u001b[0;34m\u001b[0m\u001b[0m\n\u001b[1;32m    797\u001b[0m def build_design_matrices(design_infos, data,\n",
      "\u001b[0;31mPatsyError\u001b[0m: Number of rows mismatch between data argument and I (22 versus 1)\n    I ~ y\n    ^"
     ]
    }
   ],
   "source": [
    "m = sm.ols(formula=\"I ~ y\", data=d)\n",
    "results = m.fit()\n",
    "s = results.summary()\n",
    "s"
   ]
  },
  {
   "cell_type": "code",
   "execution_count": 8,
   "id": "c07a638c",
   "metadata": {},
   "outputs": [],
   "source": [
    "import statsmodels.stats as smd\n",
    "\n",
    "import statsmodels.stats.api as sms\n",
    "#чтобы делать тесты\n",
    "\n",
    "from statsmodels.compat import lzip\n",
    "#чтобы делать подписи"
   ]
  },
  {
   "cell_type": "code",
   "execution_count": 9,
   "id": "2f96cf62",
   "metadata": {},
   "outputs": [
    {
     "ename": "NameError",
     "evalue": "name 'results' is not defined",
     "output_type": "error",
     "traceback": [
      "\u001b[0;31m---------------------------------------------------------------------------\u001b[0m",
      "\u001b[0;31mNameError\u001b[0m                                 Traceback (most recent call last)",
      "\u001b[0;32m/var/folders/wp/b9w68jpd68xfy1wmgy4_08xh0000gn/T/ipykernel_35800/2702875945.py\u001b[0m in \u001b[0;36m<module>\u001b[0;34m\u001b[0m\n\u001b[0;32m----> 1\u001b[0;31m \u001b[0mresiduals\u001b[0m \u001b[0;34m=\u001b[0m \u001b[0mresults\u001b[0m\u001b[0;34m.\u001b[0m\u001b[0mresid\u001b[0m\u001b[0;34m\u001b[0m\u001b[0;34m\u001b[0m\u001b[0m\n\u001b[0m\u001b[1;32m      2\u001b[0m \u001b[0;34m\u001b[0m\u001b[0m\n\u001b[1;32m      3\u001b[0m \u001b[0;31m#DWtest\u001b[0m\u001b[0;34m\u001b[0m\u001b[0;34m\u001b[0m\u001b[0m\n\u001b[1;32m      4\u001b[0m \u001b[0mdw\u001b[0m \u001b[0;34m=\u001b[0m \u001b[0msmd\u001b[0m\u001b[0;34m.\u001b[0m\u001b[0mstattools\u001b[0m\u001b[0;34m.\u001b[0m\u001b[0mdurbin_watson\u001b[0m\u001b[0;34m(\u001b[0m\u001b[0mresiduals\u001b[0m\u001b[0;34m)\u001b[0m\u001b[0;34m\u001b[0m\u001b[0;34m\u001b[0m\u001b[0m\n\u001b[1;32m      5\u001b[0m \u001b[0mdw\u001b[0m\u001b[0;34m\u001b[0m\u001b[0;34m\u001b[0m\u001b[0m\n",
      "\u001b[0;31mNameError\u001b[0m: name 'results' is not defined"
     ]
    }
   ],
   "source": [
    "residuals = results.resid\n",
    "\n",
    "#DWtest\n",
    "dw = smd.stattools.durbin_watson(residuals)\n",
    "dw\n",
    "\n",
    "#BGtest\n",
    "smd.diagnostic.acorr_breusch_godfrey(results)\n",
    "#или\n",
    "name=['Chisq statistic','p-value', 'F statistic','p-value(F)']\n",
    "bg=sms.acorr_breusch_godfrey(results,nlags=1)\n",
    "lzip(name,bg)"
   ]
  },
  {
   "cell_type": "code",
   "execution_count": null,
   "id": "53ea095b",
   "metadata": {},
   "outputs": [],
   "source": [
    "#GQtest\n",
    "name=['F statistic','p-value']\n",
    "gq=sms.het_goldfeldquandt(residuals,results.model.exog)\n",
    "lzip(name,gq)\n",
    "#или GQtest\n",
    "gq=sms.het_goldfeldquandt(residuals,results.model.exog)\n",
    "gq\n"
   ]
  },
  {
   "cell_type": "code",
   "execution_count": null,
   "id": "01ab79f4",
   "metadata": {},
   "outputs": [],
   "source": [
    "#BPtest\n",
    "name=['BP','p-value']\n",
    "bp=sms.het_breuschpagan(residuals,results.model.exog)\n",
    "lzip(name,bp)\n"
   ]
  },
  {
   "cell_type": "code",
   "execution_count": null,
   "id": "9e3fb6d0",
   "metadata": {},
   "outputs": [],
   "source": [
    "#White_test\n",
    "name=['WT','p-value']\n",
    "wt=sms.het_white(residuals,results.model.exog)\n",
    "lzip(name,wt)"
   ]
  },
  {
   "cell_type": "code",
   "execution_count": null,
   "id": "13e2db45",
   "metadata": {},
   "outputs": [],
   "source": [
    "#HC\n",
    "smd.sandwich_covariance.cov_hc3(results)\n",
    "#или\n",
    "results.cov_HC3\n"
   ]
  },
  {
   "cell_type": "code",
   "execution_count": null,
   "id": "92219b1b",
   "metadata": {},
   "outputs": [],
   "source": [
    "#HAC\n",
    "smd.sandwich_covariance.cov_hac(results)\n"
   ]
  },
  {
   "cell_type": "code",
   "execution_count": null,
   "id": "704dcb73",
   "metadata": {},
   "outputs": [],
   "source": [
    "#ДВМНК\n",
    "Yd2=1/d.Yd\n",
    "Yd2\n",
    "S2=d.S/d.Yd\n",
    "S2"
   ]
  },
  {
   "cell_type": "code",
   "execution_count": null,
   "id": "7b33267b",
   "metadata": {},
   "outputs": [],
   "source": [
    "\n",
    "import statsmodels.api as st\n",
    "#добавим в наш массив экзогенной переменной Yd столбец х0, который дает нам константу в модели\n",
    "Yd3 = st.add_constant(Yd2)\n",
    "m2 = st.OLS(S2, Yd3)\n",
    "results2 = m2.fit()\n",
    "s2 = results2.summary()\n",
    "s2"
   ]
  },
  {
   "cell_type": "code",
   "execution_count": null,
   "id": "46ca5658",
   "metadata": {},
   "outputs": [],
   "source": [
    "#ДВМНК 2 вариант\n",
    "Ypred=results.fittedvalues\n",
    "Yd4=d.Yd/Ypred\n",
    "Yd4\n",
    "S4=d.S/Ypred\n",
    "S4\n",
    "Ypred\n",
    "Yd5 = st.add_constant(Yd4)\n",
    "m3 = st.OLS(S4, Yd5)\n",
    "results3 = m3.fit()\n",
    "s3 = results3.summary()\n",
    "s3"
   ]
  },
  {
   "cell_type": "code",
   "execution_count": null,
   "id": "42da014d",
   "metadata": {},
   "outputs": [],
   "source": [
    "#низкое качество модели, перестроим модель без константы\n",
    "m31 = st.OLS(S4, Yd4)\n",
    "results31 = m31.fit()\n",
    "s31 = results31.summary()\n",
    "s31"
   ]
  },
  {
   "cell_type": "code",
   "execution_count": null,
   "id": "fba2fadf",
   "metadata": {},
   "outputs": [],
   "source": [
    "#устранение автокорреляции, если известно значение р \n",
    "#находим примерное значение p из статистики DW или из вспомогательной модели регрессии: e_t^=p*e_(t-1)\n",
    "p=1-dw/2\n",
    "p\n",
    "#проводим замену переменных\n",
    "St=np.array(d.S[1:16])\n",
    "Sp=np.array(d.S[0:15])\n",
    "S6=list(St-p*Sp)\n",
    "S6\n",
    "Yd6=list(np.array(d.Yd[1:16])-p*np.array(d.Yd[0:15]))\n",
    "Yd6\n",
    "Yd7 = st.add_constant(Yd6)\n",
    "m4 = st.OLS(S6, Yd7)\n",
    "results4 = m4.fit()\n",
    "s4 = results4.summary()\n",
    "s4\n",
    "b=results4.params[1]\n",
    "b\n",
    "a=results4.params[0]/(1-p)\n",
    "a\n",
    "print(f'Модель имеет вид: S^={a}+{b}*Yd')"
   ]
  },
  {
   "cell_type": "code",
   "execution_count": null,
   "id": "5533f71a",
   "metadata": {},
   "outputs": [],
   "source": []
  }
 ],
 "metadata": {
  "kernelspec": {
   "display_name": "Python 3 (ipykernel)",
   "language": "python",
   "name": "python3"
  },
  "language_info": {
   "codemirror_mode": {
    "name": "ipython",
    "version": 3
   },
   "file_extension": ".py",
   "mimetype": "text/x-python",
   "name": "python",
   "nbconvert_exporter": "python",
   "pygments_lexer": "ipython3",
   "version": "3.9.7"
  }
 },
 "nbformat": 4,
 "nbformat_minor": 5
}

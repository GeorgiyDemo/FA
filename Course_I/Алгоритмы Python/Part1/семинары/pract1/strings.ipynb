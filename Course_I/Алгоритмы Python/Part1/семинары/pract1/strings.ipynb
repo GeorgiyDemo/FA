{
 "cells": [
  {
   "cell_type": "code",
   "execution_count": null,
   "metadata": {},
   "outputs": [],
   "source": [
    "### Работа со строками в Python"
   ]
  },
  {
   "cell_type": "code",
   "execution_count": 1,
   "metadata": {},
   "outputs": [
    {
     "name": "stdout",
     "output_type": "stream",
     "text": [
      "str\n",
      "str\n",
      "\"str\"\n",
      "'str'\n"
     ]
    }
   ],
   "source": [
    "S = \"str\"\n",
    "print(S)\n",
    "S = 'str'\n",
    "print(S)\n",
    "S = '\"str\"'\n",
    "print(S)\n",
    "S = \"'str'\"\n",
    "print(S)"
   ]
  },
  {
   "cell_type": "code",
   "execution_count": 2,
   "metadata": {},
   "outputs": [
    {
     "name": "stdout",
     "output_type": "stream",
     "text": [
      "Привет!\n",
      "Ты\t\u000b",
      "изучаешь\n",
      "Python\n"
     ]
    }
   ],
   "source": [
    "S = \"Привет!\\nТы\\t\\vизучаешь\\nPython\"\n",
    "print(S) # используем функции экранирования\n",
    "# \\n - перевод на новую строку (запомним как new)\n",
    "# \\t - табуляция горизонтальная (так и запомним Tабуляция)\n",
    "# \\v - табуляция вертикальная (так и запоминаем Veртикальная) # \\r - вернет корретку"
   ]
  },
  {
   "cell_type": "code",
   "execution_count": 3,
   "metadata": {},
   "outputs": [
    {
     "name": "stdout",
     "output_type": "stream",
     "text": [
      "C:\temp\n",
      "ew\n"
     ]
    }
   ],
   "source": [
    "S = \"C:\\temp\\new\"\n",
    "print(S)\n",
    "S = r\"C:\\temp\\new\"# подавляем функции экранирования с помощью символа r print(S)"
   ]
  },
  {
   "cell_type": "code",
   "execution_count": 5,
   "metadata": {},
   "outputs": [],
   "source": [
    "# Конкатенация (сложение строк)\n",
    "S1 = 'Hello' # строка 1\n",
    "S2 = ' '# строка 2\n",
    "S3 = 'world' # строка 3\n",
    "S4 = S1+S2+S3 # итоговая строка print (S4)# вывод строки на экран"
   ]
  },
  {
   "cell_type": "code",
   "execution_count": 9,
   "metadata": {
    "scrolled": true
   },
   "outputs": [
    {
     "name": "stdout",
     "output_type": "stream",
     "text": [
      "HelloHelloHello\n",
      "HelloHelloHelloHelloHelloHelloHelloHelloHello\n"
     ]
    }
   ],
   "source": [
    "#Повторение строки\n",
    "S1 = \"Hello\" #\n",
    "S1 = S1*3\n",
    "print (S1) \n",
    "S1*=3\n",
    "print(S1)"
   ]
  },
  {
   "cell_type": "code",
   "execution_count": 17,
   "metadata": {},
   "outputs": [
    {
     "name": "stdout",
     "output_type": "stream",
     "text": [
      "H\n",
      "e\n",
      "l\n",
      "l\n",
      "o\n"
     ]
    }
   ],
   "source": [
    "# Обращение по индексу в строке\n",
    "S1 = \"Hello\"\n",
    "print (S1[0]) # индексация начинается с 0 первый символ = H\n",
    "print (S1[1])# обращение ко 2 символу в строке = е\n",
    "print (S1[3])# обращение к 3 символу в строке = l\n",
    "print (S1[2])# обращение к 4 символу в строке = l\n",
    "print (S1[4])# обращение к 5 символу в строке = o"
   ]
  },
  {
   "cell_type": "code",
   "execution_count": 18,
   "metadata": {},
   "outputs": [
    {
     "name": "stdout",
     "output_type": "stream",
     "text": [
      "П\n",
      "р\n",
      "и\n",
      "в\n",
      "е\n",
      "т\n"
     ]
    }
   ],
   "source": [
    "# Обращение по индексу в строке\n",
    "# язык python поддерживает отрицательные ингдексы при обращении к элементам строки # первый символ имеет индекс = длина строки * -1\n",
    "# в нашем случае это число 5*-1 = -5\n",
    "S1 = \"Привет\"\n",
    "print (S1[-6])\n",
    "print (S1[-5])\n",
    "print (S1[-4])\n",
    "print (S1[-3])\n",
    "print (S1[-2])\n",
    "print (S1[-1])"
   ]
  },
  {
   "cell_type": "code",
   "execution_count": 20,
   "metadata": {},
   "outputs": [
    {
     "name": "stdout",
     "output_type": "stream",
     "text": [
      "Hello world  длина строки равна =  11\n",
      "У строки \"Вчера не читал лекции\" длина =  21\n"
     ]
    }
   ],
   "source": [
    "# измерим длину строки\n",
    "S1 = \"Hello world\"\n",
    "t = len(S1)\n",
    "print (S1,\" длина строки равна = \", t)\n",
    "t = len(\"Вчера не читал лекции\")\n",
    "print (\"У строки \" + '\"Вчера не читал лекции\" '+ \"длина = \", t)"
   ]
  },
  {
   "cell_type": "code",
   "execution_count": 21,
   "metadata": {},
   "outputs": [
    {
     "name": "stdout",
     "output_type": "stream",
     "text": [
      "1\n",
      "7\n",
      "1\n",
      "-1\n"
     ]
    }
   ],
   "source": [
    "# поиск подстроки в строке вернем индекс первого нахождения\n",
    "S1 = \"hello yellow\"\n",
    "print (S1.find(\"el\")) # найти индекс с которого начинается подстрока в строке, без указ ания начала поиска (во всей строке)\n",
    "# использование начала поиска\n",
    "S2 = \"el\"\n",
    "print (S1.find(S2, 3))\n",
    "# использование конца поиска\n",
    "S2 = \"el\"\n",
    "print (S1.find(S2, 0, 3))\n",
    "# результат если не найдена подстрока будет -1\n",
    "S2 = \"tel\"\n",
    "print (S1.find(S2))"
   ]
  },
  {
   "cell_type": "code",
   "execution_count": 22,
   "metadata": {},
   "outputs": [
    {
     "name": "stdout",
     "output_type": "stream",
     "text": [
      "7\n",
      "7\n",
      "1\n",
      "-1\n"
     ]
    }
   ],
   "source": [
    "# поиск подстроки в строке вернем индекс последнего нахождения\n",
    "S1 = \"hello yellow\"\n",
    "print (S1.rfind(\"el\")) # найти индекс с которого начинается подстрока в строке, без ука зания начала поиска (во всей строке)\n",
    "# использование начала поиска\n",
    "S2 = \"el\"\n",
    "print (S1.rfind(S2, 3))\n",
    "# использование конца поиска\n",
    "S2 = \"el\"\n",
    "print (S1.rfind(S2, 0, 3))\n",
    "# результат если не найдена подстрока будет -1\n",
    "S2 = \"tel\"\n",
    "print (S1.rfind(S2))"
   ]
  },
  {
   "cell_type": "code",
   "execution_count": 23,
   "metadata": {},
   "outputs": [
    {
     "name": "stdout",
     "output_type": "stream",
     "text": [
      "7\n",
      "7\n",
      "1\n",
      "Ошибка есть\n"
     ]
    }
   ],
   "source": [
    "# поиск подстроки в строке вернем индекс последнего нахождения\n",
    "S1 = \"hello yellow\"\n",
    "print (S1.rindex(\"el\")) # найти индекс с которого начинается подстрока в строке, без ук азания начала поиска (во всей строке)\n",
    "# использование начала поиска\n",
    "S2 = \"el\"\n",
    "print (S1.rindex(S2, 3))\n",
    "# использование конца поиска\n",
    "S2 = \"el\"\n",
    "print (S1.rindex(S2, 0, 3))\n",
    "# результат если не найдена подстрока будет ValueError\n",
    "S2 = \"tel\"\n",
    "try:\n",
    "    print(S1.rindex(S2))\n",
    "except ValueError:\n",
    "    print(\"Ошибка есть\")"
   ]
  },
  {
   "cell_type": "code",
   "execution_count": 24,
   "metadata": {},
   "outputs": [
    {
     "name": "stdout",
     "output_type": "stream",
     "text": [
      "Проверказадания\n",
      "Проверка задания\n"
     ]
    }
   ],
   "source": [
    "# Замена шаблона в строке .replace(шаблон,замена)\n",
    "S1 = \"Проверка задания\"\n",
    "print(S1.replace(\" \",\"\"))\n",
    "S2 = \"ll\"\n",
    "S3 = \"LL\"\n",
    "print (S1.replace(S2,S3))"
   ]
  },
  {
   "cell_type": "code",
   "execution_count": null,
   "metadata": {},
   "outputs": [],
   "source": []
  }
 ],
 "metadata": {
  "kernelspec": {
   "display_name": "Python 3",
   "language": "python",
   "name": "python3"
  },
  "language_info": {
   "codemirror_mode": {
    "name": "ipython",
    "version": 3
   },
   "file_extension": ".py",
   "mimetype": "text/x-python",
   "name": "python",
   "nbconvert_exporter": "python",
   "pygments_lexer": "ipython3",
   "version": "3.7.4"
  }
 },
 "nbformat": 4,
 "nbformat_minor": 2
}

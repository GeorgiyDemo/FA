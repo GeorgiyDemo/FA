{
 "cells": [
  {
   "cell_type": "markdown",
   "metadata": {},
   "source": [
    "# Лекция 5 часть 1 \"Обработка исключений\"\n",
    "\n",
    "### Финансовый университет при Правительстве РФ, лектор С.В. Макрушин"
   ]
  },
  {
   "cell_type": "markdown",
   "metadata": {},
   "source": [
    "## Обработка исключений"
   ]
  },
  {
   "cell_type": "markdown",
   "metadata": {},
   "source": [
    "Исключения - это  извещения  интерпретатора,  возбуждаемые  в  случае  возникновения ошибки в  программном коде или  при  наступлении какого-либо события.  Если в  коде  не предусмотрена обработка исключения, то программа прерывается и  выводится сообщение об ошибке. \n",
    "\n",
    "Существуют три типа ошибок в программе: \n",
    "* синтаксические - это ошибки в  имени оператора или функции, отсутствие закрывающей или открывающей кавычек и т. д.,  т. е. ошибки в синтаксисе языка.  Как правило, интерпретатор предупредит о наличии ошибки, а  программа не будет выполняться совсем. Пример синтаксической ошибки: "
   ]
  },
  {
   "cell_type": "code",
   "execution_count": 1,
   "metadata": {},
   "outputs": [
    {
     "ename": "SyntaxError",
     "evalue": "EOL while scanning string literal (<ipython-input-1-f572aab57a7b>, line 1)",
     "output_type": "error",
     "traceback": [
      "\u001b[1;36m  File \u001b[1;32m\"<ipython-input-1-f572aab57a7b>\"\u001b[1;36m, line \u001b[1;32m1\u001b[0m\n\u001b[1;33m    print(\"Heт  завершающей кавычки!)\u001b[0m\n\u001b[1;37m                                     ^\u001b[0m\n\u001b[1;31mSyntaxError\u001b[0m\u001b[1;31m:\u001b[0m EOL while scanning string literal\n"
     ]
    }
   ],
   "source": [
    "print(\"Heт  завершающей кавычки!)"
   ]
  },
  {
   "cell_type": "markdown",
   "metadata": {},
   "source": [
    "* логические - это ошибки в логике работы программы, которые можно выявить только по результатам работы скрипта. Как правило, интерпретатор не предупреждает о наличии ошибки. А программа будет выполняться, т. к. не содержит синтаксических ошибок. \n",
    "Такие ошибки достаточно трудно выявить и исправить; \n",
    "* ошибки времени выполнепия - это ошибки, которые возникают во время работы скрипта.  Причиной являются события,  не  предусмотренные  программистом.  Классическим примером служит деление на ноль"
   ]
  },
  {
   "cell_type": "code",
   "execution_count": 2,
   "metadata": {},
   "outputs": [
    {
     "ename": "ZeroDivisionError",
     "evalue": "division by zero",
     "output_type": "error",
     "traceback": [
      "\u001b[1;31m---------------------------------------------------------------------------\u001b[0m",
      "\u001b[1;31mZeroDivisionError\u001b[0m                         Traceback (most recent call last)",
      "\u001b[1;32m<ipython-input-2-14fd4c3343b4>\u001b[0m in \u001b[0;36m<module>\u001b[1;34m()\u001b[0m\n\u001b[1;32m----> 1\u001b[1;33m \u001b[0mprint\u001b[0m\u001b[1;33m(\u001b[0m\u001b[1;36m10\u001b[0m\u001b[1;33m/\u001b[0m\u001b[1;36m0\u001b[0m\u001b[1;33m)\u001b[0m\u001b[1;33m\u001b[0m\u001b[0m\n\u001b[0m",
      "\u001b[1;31mZeroDivisionError\u001b[0m: division by zero"
     ]
    }
   ],
   "source": [
    "print(10/0)"
   ]
  },
  {
   "cell_type": "markdown",
   "metadata": {},
   "source": [
    "Необходимо заметить, что в языке Pythoп исключения возбуждаются не только при ошибке, но и как уведомление о наступлении каких-либо событий. Например, метод index ()  возбуждает исключение ValueError, если искомый фрагмент не входит в строку:"
   ]
  },
  {
   "cell_type": "code",
   "execution_count": 3,
   "metadata": {},
   "outputs": [
    {
     "ename": "ValueError",
     "evalue": "substring not found",
     "output_type": "error",
     "traceback": [
      "\u001b[1;31m---------------------------------------------------------------------------\u001b[0m",
      "\u001b[1;31mValueError\u001b[0m                                Traceback (most recent call last)",
      "\u001b[1;32m<ipython-input-3-0a329fdc99ca>\u001b[0m in \u001b[0;36m<module>\u001b[1;34m()\u001b[0m\n\u001b[1;32m----> 1\u001b[1;33m \u001b[1;34m\"Строка\"\u001b[0m\u001b[1;33m.\u001b[0m\u001b[0mindex\u001b[0m\u001b[1;33m(\u001b[0m\u001b[1;34m\"текст\"\u001b[0m\u001b[1;33m)\u001b[0m\u001b[1;33m\u001b[0m\u001b[0m\n\u001b[0m",
      "\u001b[1;31mValueError\u001b[0m: substring not found"
     ]
    }
   ],
   "source": [
    "\"Строка\".index(\"текст\") "
   ]
  },
  {
   "cell_type": "markdown",
   "metadata": {},
   "source": [
    "### Инструкция try ... except ... else ... finally"
   ]
  },
  {
   "cell_type": "markdown",
   "metadata": {},
   "source": [
    "Для обработки исключений предназначена инструкция try. Формат инструкции: \n",
    "\n",
    "`try: \n",
    "    <Блок,  в  котором  nерехватьшаются  исключения> \n",
    "[ except  [ <Исключение1> [  as  <Объект  исключения>] ] : \n",
    "    <Блок,  вьmолняемьм  nри  возникновении  исключения> \n",
    "[  ... \n",
    "except  [<ИсключениеN>[  as  <Объект  исключения>]]: \n",
    "    <Блок,  вьmолняемьм  nри  возникновении  исключения>]] \n",
    "[e1se: \n",
    "    <Блок,  вьmолняемьм,  если  исключение  не  возникло>] \n",
    "[finally: \n",
    "    <Блок,  вьmолняемьм  в  любом случае>]`\n",
    "\n",
    "Инструкции, в  которых перехватываются исключения, должны быть расположены внутри \n",
    "блока try.  В блоке except  в  параметре <Исключение1> указывается  класс обрабатываемого \n",
    "исключения. Например, обработать исключение, возникающее при делении на ноль, можно \n",
    "так:"
   ]
  },
  {
   "cell_type": "code",
   "execution_count": 4,
   "metadata": {},
   "outputs": [
    {
     "name": "stdout",
     "output_type": "stream",
     "text": [
      "Обработали деление на 0\n",
      "0\n"
     ]
    }
   ],
   "source": [
    "x = 0\n",
    "try: # Перехватьшаем исключения \n",
    "    х = 1/0 # Ошибка: деление на 0\n",
    "except ZeroDivisionError: # Указьшаем класс исключения \n",
    "    print(\"Обработали деление на 0\") \n",
    "    # х = 0 \n",
    "print(x)"
   ]
  },
  {
   "cell_type": "markdown",
   "metadata": {},
   "source": [
    "Если в  блоке try возникло исключение, то управление передается блоку except.  В случае, если исключение не соответствует указанному классу, управление передается следующему блоку  except.  Если  ни  один  блок  except  не  соответствует  исключению,  то  исключение \"всплывает\" к обработчику более высокого уровня. Если исключение нигде не обрабатывается в  программе, то управление передается обработчику по умолчанию, который останавливает выполнение программы и выводит стандартную информацию об ошибке. Таким образом, в  обработчике может быть несколько блоков except  с  разными классами исключений. "
   ]
  },
  {
   "cell_type": "code",
   "execution_count": 5,
   "metadata": {},
   "outputs": [
    {
     "name": "stdout",
     "output_type": "stream",
     "text": [
      "Обработка деления на 0\n",
      "0\n"
     ]
    }
   ],
   "source": [
    "x = 0\n",
    "try: # Обрабатьшаем исключения \n",
    "    try: # Вложенньм обработчик \n",
    "        х = 1/0 # Ошибка: деление на 0\n",
    "    except NameError: \n",
    "        print(\"Неоnределенный идентификатор\") \n",
    "    except IndexError: \n",
    "        print(\"Несуществующий индекс\") \n",
    "    print(\"Bыpaжeниe после вложенного обработчика\") \n",
    "except  ZeroDivisionError: \n",
    "    print(\"Обработка деления на 0\") \n",
    "    х = 0 \n",
    "print(x) # Выведет: 0 "
   ]
  },
  {
   "cell_type": "markdown",
   "metadata": {},
   "source": [
    "В инструкции except можно указать сразу несколько исключений, перечислив их через запятую внутри круглых скобок:"
   ]
  },
  {
   "cell_type": "code",
   "execution_count": 6,
   "metadata": {},
   "outputs": [
    {
     "name": "stdout",
     "output_type": "stream",
     "text": [
      "0\n"
     ]
    }
   ],
   "source": [
    "x = 0\n",
    "try: # Обрабатьшаем исключения \n",
    "    х = 1/0 # Ошибка: деление на 0\n",
    "except (NameError, IndexError, ZeroDivisionError): \n",
    "    х = 0 \n",
    "print(x) # Выведет: 0 "
   ]
  },
  {
   "cell_type": "markdown",
   "metadata": {},
   "source": [
    "Получить  информацию  об  обрабатываемом  исключении  можно  через  второй  параметр в инструкции except:"
   ]
  },
  {
   "cell_type": "code",
   "execution_count": 7,
   "metadata": {},
   "outputs": [
    {
     "name": "stdout",
     "output_type": "stream",
     "text": [
      "ZeroDivisionError\n",
      "division by zero\n"
     ]
    }
   ],
   "source": [
    "x = 0\n",
    "try: # Обрабатьшаем исключения \n",
    "    х = 1/0 # Ошибка: деление на 0\n",
    "except (NameError, IndexError, ZeroDivisionError) as err:     \n",
    "    print(err.__class__.__name__) #Название  класса  исключения \n",
    "    print(err) # Текст сообщения об ошибке     "
   ]
  },
  {
   "cell_type": "markdown",
   "metadata": {},
   "source": [
    "Для получения  информации об исключении можно воспользоваться функцией ехс_info() из модуля sys, которая возвращает кортеж из трех элементов: типа исключения, значения и объекта с трассировочной информацией. Преобразовать эти значения в удобочитаемый вид позволяет модуль traceback. "
   ]
  },
  {
   "cell_type": "code",
   "execution_count": 8,
   "metadata": {},
   "outputs": [
    {
     "name": "stdout",
     "output_type": "stream",
     "text": [
      "Type: <class 'ZeroDivisionError'>, Value: division by zero, Trace: <traceback object at 0x000000A73CA4A388> \n",
      "\n",
      " -----------print_exception() -----------\n",
      "Traceback (most recent call last):\n",
      "  File \"<ipython-input-8-bdbf3e19a700>\", line 4, in <module>\n",
      "    х = 1/0 # Ошибка: деление на 0\n",
      "ZeroDivisionError: division by zero\n",
      "\n",
      " ---------------print_tb()---------------\n",
      "  File \"<ipython-input-8-bdbf3e19a700>\", line 4, in <module>\n",
      "    х = 1/0 # Ошибка: деление на 0\n",
      "\n",
      " -----------format_exception()-----------\n",
      "['Traceback (most recent call last):\\n', '  File \"<ipython-input-8-bdbf3e19a700>\", line 4, in <module>\\n    х = 1/0 # Ошибка: деление на 0\\n', 'ZeroDivisionError: division by zero\\n']\n",
      "\n",
      " --------format_exception_only()---------\n",
      "['ZeroDivisionError: division by zero\\n']\n"
     ]
    }
   ],
   "source": [
    "import sys, traceback\n",
    "x = 0\n",
    "try: # Обрабатьшаем исключения \n",
    "    х = 1/0 # Ошибка: деление на 0\n",
    "except ZeroDivisionError as err:    \n",
    "    etype, value, trace = sys.exc_info() \n",
    "    print(\"Type: {}, Value: {}, Trace: {} \".format(etype, value, trace)) \n",
    "    print(\"\\n\", \"print_exception() \".center(40,  \"-\")) \n",
    "    traceback.print_exception(etype, value, trace, limit=5, file=sys.stdout) \n",
    "    print(\"\\n\",  \"print_tb()\".center(40,  \"-\")) \n",
    "    traceback.print_tb(trace, limit=1, file=sys.stdout) \n",
    "    print(\"\\n\",  \"format_exception()\".center(40,  \"-\")) \n",
    "    print(traceback.format_exception(etype, value, trace, limit=5)) \n",
    "    print(\"\\n\",  \"format_exception_only()\".center(40,\"-\")) \n",
    "    print(traceback.format_exception_only(etype, value))     "
   ]
  },
  {
   "cell_type": "markdown",
   "metadata": {},
   "source": [
    "Если в  инструкции except  не указан  класс  исключения, то такой блок перехватывает все исключения. На практике следует избегать пустых инструкций except, т.  к.  можно перехватить исключение, которое является лишь сигналом системе, а не ошибкой. "
   ]
  },
  {
   "cell_type": "code",
   "execution_count": 9,
   "metadata": {},
   "outputs": [
    {
     "name": "stdout",
     "output_type": "stream",
     "text": [
      "0\n"
     ]
    }
   ],
   "source": [
    "x = 0\n",
    "try: # Обрабатьшаем исключения \n",
    "    х = 1/0 # Ошибка: деление на 0\n",
    "except: \n",
    "    х = 0 \n",
    "print(x) # Выведет: 0 "
   ]
  },
  {
   "cell_type": "markdown",
   "metadata": {},
   "source": [
    "Если в обработчике nрисутствует блок else, то инструкции внутри этого блока будут выnолнены только nри отсутствии ошибок. При необходимости выnолнить какие-либо завершающие действия вне зависимости от того, возникло исключение или нет, следует восnользоваться блоком finally. "
   ]
  },
  {
   "cell_type": "code",
   "execution_count": 10,
   "metadata": {},
   "outputs": [
    {
     "name": "stdout",
     "output_type": "stream",
     "text": [
      "Блок else\n",
      "Блок finally\n",
      "0\n"
     ]
    }
   ],
   "source": [
    "x = 0\n",
    "try: # Обрабатьшаем исключения \n",
    "#     х = 1/0 # Ошибка: деление на 0\n",
    "    х = 1/10 \n",
    "except ZeroDivisionError: \n",
    "    print('Деление на 0')\n",
    "    х = 0     \n",
    "else:\n",
    "    print('Блок else')\n",
    "finally:\n",
    "    print('Блок finally')    \n",
    "print(x) # Выведет: 0 "
   ]
  },
  {
   "cell_type": "markdown",
   "metadata": {},
   "source": [
    "Необходимо заметить, что nри наличии исключения и отсутствии блока except инструкции внутри блока finally будут выnолнены, но исключение не будет обработано. Оно nродолжит \"всnлывание\" к  обработчику более высокого уровня. Если nользовательский обработчик отсутствует, то уnравление nередается обработчику no умолчанию, который nрерывает  выnолнение nрограммы и выводит сообщение об ошибке."
   ]
  },
  {
   "cell_type": "code",
   "execution_count": 11,
   "metadata": {},
   "outputs": [
    {
     "name": "stdout",
     "output_type": "stream",
     "text": [
      "Блок finally\n"
     ]
    }
   ],
   "source": [
    "x = 0\n",
    "try: # Обрабатьшаем исключения \n",
    "#     х = 1/0 # Ошибка: деление на 0\n",
    "    х = 1/10 \n",
    "finally:\n",
    "    print('Блок finally')"
   ]
  },
  {
   "cell_type": "markdown",
   "metadata": {},
   "source": [
    "### Классы встроенных исключений "
   ]
  },
  {
   "cell_type": "markdown",
   "metadata": {},
   "source": [
    "* BaseException \n",
    "    * GeneratorExit \n",
    "    * Keyboardinterrupt \n",
    "    * SystemExit \n",
    "    * Exception \n",
    "        * Stopiteration \n",
    "        * Warning \n",
    "            * BytesWarning,  ResourceWarning, \n",
    "            * DeprecationWarning,  FutureWarning,  ImportWarning, \n",
    "            * PendingDeprecationWarning,  RuntimeWarning,  SyntaxWarning, \n",
    "            * UnicodeWarning,  UserWarning \n",
    "        * ArithmeticError \n",
    "            * FloatingPointError,  OverflowError,  ZeroDivisionError \n",
    "        * AssertionError \n",
    "        * AttributeError \n",
    "        * BufferError \n",
    "        * EnvironmentError \n",
    "            * IOError \n",
    "            * OSError \n",
    "                * WindowsError \n",
    "        * EOFError \n",
    "        * ImportError \n",
    "        * LookupError \n",
    "            * IndexError,  KeyError \n",
    "        * MemoryError \n",
    "        * NameError \n",
    "            * UnboundLocalError \n",
    "        * ReferenceError \n",
    "        * RuntimeError \n",
    "            * NotimplementedError \n",
    "        * SyntaxError \n",
    "            * IndentationError \n",
    "                * TabError \n",
    "        * SystemError \n",
    "        * TypeError \n",
    "        * ValueError \n",
    "            * UnicodeError \n",
    "                * UnicodeDecodeError,  UnicodeEncodeError \n",
    "                * UnicodeTranslateError "
   ]
  },
  {
   "cell_type": "markdown",
   "metadata": {},
   "source": [
    "Основное nреимущество исnользования классов для обработки исключений заключается в возможности указания базового класса для  nерехвата всех  исключений соответствующих классов-nотомков.  Наnример,  для  nерехвата  деления  на  ноль  мы  исnользовали  класс ZeroDivisionError.  Если  вместо  этого  класса  указать  базовый  класс  ArithrneticError, \n",
    "то  будут  nерехватываться  исключения  классов  FloatingPointError,  OverflowError  и ZeroDivisionError."
   ]
  },
  {
   "cell_type": "code",
   "execution_count": 80,
   "metadata": {},
   "outputs": [
    {
     "name": "stdout",
     "output_type": "stream",
     "text": [
      "Обработка деления на 0\n",
      "0\n"
     ]
    }
   ],
   "source": [
    "x = 0\n",
    "try: # Обрабатьшаем исключения \n",
    "    х = 1/0 # Ошибка: деление на 0\n",
    "except ArithmeticError: # Указываем базовый класс\n",
    "    print('Обработка деления на 0')\n",
    "    х = 0 \n",
    "print(x) # Выведет: 0 "
   ]
  },
  {
   "cell_type": "markdown",
   "metadata": {},
   "source": [
    "Рассмотрим основные классы встроенных исключений: \n",
    "* вaseException - является классом самого верхнего уровня; \n",
    "* Exception - именно этот класс, а не BaseException, необходимо наследовать nри создании nользовательских классов' исключений; \n",
    "* AssertionError - возбуждается инструкцией assert; \n",
    "* AttributeError - nоnытка обращения к  несуществующему атрибуту объекта; \n",
    "* EOFError - возбуждается функцией input()  nри достижении конца файла; \n",
    "* IOError - ошибка достуnа к файлу; \n",
    "* ImportError - невозможно nодключить модуль или nакет; \n",
    "* IndentationError - неnравильно расставлены отстуnы в nрограмм е; \n",
    "* IndexError - указанный индекс не существует в nоследовательности; \n",
    "* KeyError - указанный ключ не существует в словаре; \n",
    "* Keyboardlnterrupt - нажата комбинация клавиш <Ctri>+<C>; \n",
    "* NameError - попытка обращения к идентификатору до его определения; \n",
    "* Stoprteration - возбуждается методом _  next _  ()  как сигнал об окончании итераций; \n",
    "* SyntaxError - синтаксическая ошибка; \n",
    "* TypeError - тип объекта не соответствует ожидаемому; \n",
    "* UnboundLocalError - внутри функции переменной присваивается значение после обращения к одноименной глобальной переменной; \n",
    "* UnicodeDecodeError - ошибка преобразования последовательности байтов в строку; \n",
    "* UnicodeEncodeError - ошибка преобразования строки в последовательность байтов; \n",
    "* ValueError - переданный параметр не соответствует ожидаемому значению; \n",
    "* ZeroDivisionError - попьпка· деления на ноль. "
   ]
  },
  {
   "cell_type": "markdown",
   "metadata": {},
   "source": [
    "###  Пользовательские исключения"
   ]
  },
  {
   "cell_type": "markdown",
   "metadata": {},
   "source": [
    "Инструкция raise возбуждает указанное исключение. Она имеет несколько форматов: \n",
    "* raise <Экземnляр класса> \n",
    "* raise <Название  класса> \n",
    "* raise <Экземnляр или название  класса>  from  <Объект исключения> \n",
    "* raise "
   ]
  },
  {
   "cell_type": "markdown",
   "metadata": {},
   "source": [
    "В первом формате инструкции raise указывается экземпляр класса возбуждаемого исключения. При создании экземпляра можно передать данные конструктору класса. Эти данные будут доступны через второй параметр в инструкции except."
   ]
  },
  {
   "cell_type": "code",
   "execution_count": 81,
   "metadata": {},
   "outputs": [
    {
     "name": "stdout",
     "output_type": "stream",
     "text": [
      "Onиcaниe исключения\n"
     ]
    }
   ],
   "source": [
    "try: \n",
    "    raise ValueError(\"Onиcaниe исключения\") \n",
    "except ValueError  as  msg: \n",
    "    print(msg) # Выведет: Описание исключения"
   ]
  },
  {
   "cell_type": "code",
   "execution_count": 12,
   "metadata": {},
   "outputs": [
    {
     "name": "stdout",
     "output_type": "stream",
     "text": [
      "Сообщение об ошибке\n"
     ]
    }
   ],
   "source": [
    "try: \n",
    "    raise ValueError\n",
    "except ValueError: \n",
    "    print('Сообщение об ошибке')"
   ]
  },
  {
   "cell_type": "markdown",
   "metadata": {},
   "source": [
    "## Инструкция assert"
   ]
  },
  {
   "cell_type": "markdown",
   "metadata": {},
   "source": [
    "Инструкция assert возбуждает исключение AssertionError, если логическое  выражение возвращает значение False. Инструкция имеет следующий формат:\n",
    "\n",
    "assert  <Логическое  выражение> [, <Сообщение>] \n",
    "\n",
    "Инструкция assert эквивалентна следующему коду:\n",
    "\n",
    "`if __debug__: \n",
    "    if not <Логическое  выражение>: \n",
    "        raise  AssertionError(<Сообщение>)`\n",
    "\n",
    "Если при запуске программы используется флаг -о,  то переменная \\_\\_debug\\_\\_ будет иметь ложное значение. Таким образом можно удалить все инструкции assert из байт-кода. "
   ]
  },
  {
   "cell_type": "code",
   "execution_count": 84,
   "metadata": {},
   "outputs": [
    {
     "name": "stdout",
     "output_type": "stream",
     "text": [
      "Сообщение об ошибке\n"
     ]
    }
   ],
   "source": [
    "try: \n",
    "    х = -3 \n",
    "    assert х >= 0, \"Сообщение об ошибке\" \n",
    "except AssertionError as err: \n",
    "    print(err)  # Выдает: Сообщение об ошибке "
   ]
  },
  {
   "cell_type": "code",
   "execution_count": 18,
   "metadata": {
    "collapsed": true
   },
   "outputs": [],
   "source": [
    "def factorial(n):\n",
    "    \"\"\"Возвращает Факториал числа n.\n",
    "    Аргумент n - не отрицательное целое число.\"\"\"\n",
    "    assert n >= 0, 'Аргумент n должен быть больше 0!'\n",
    "    assert n % 1 == 0, 'Аргумент n должен быть целым!'\n",
    "    f = 1\n",
    "    for i in range(2, n+1):\n",
    "        f *= i\n",
    "    return f"
   ]
  },
  {
   "cell_type": "code",
   "execution_count": 19,
   "metadata": {},
   "outputs": [
    {
     "ename": "AssertionError",
     "evalue": "Аргумент n должен быть больше 0!",
     "output_type": "error",
     "traceback": [
      "\u001b[1;31m---------------------------------------------------------------------------\u001b[0m",
      "\u001b[1;31mAssertionError\u001b[0m                            Traceback (most recent call last)",
      "\u001b[1;32m<ipython-input-19-456c1b35b1cf>\u001b[0m in \u001b[0;36m<module>\u001b[1;34m()\u001b[0m\n\u001b[1;32m----> 1\u001b[1;33m \u001b[0mfactorial\u001b[0m\u001b[1;33m(\u001b[0m\u001b[1;33m-\u001b[0m\u001b[1;36m1\u001b[0m\u001b[1;33m)\u001b[0m\u001b[1;33m\u001b[0m\u001b[0m\n\u001b[0m",
      "\u001b[1;32m<ipython-input-18-8ec99d38a0cf>\u001b[0m in \u001b[0;36mfactorial\u001b[1;34m(n)\u001b[0m\n\u001b[0;32m      2\u001b[0m     \"\"\"Возвращает Факториал числа n.\n\u001b[0;32m      3\u001b[0m     Аргумент n - не отрицательное целое число.\"\"\"\n\u001b[1;32m----> 4\u001b[1;33m     \u001b[1;32massert\u001b[0m \u001b[0mn\u001b[0m \u001b[1;33m>=\u001b[0m \u001b[1;36m0\u001b[0m\u001b[1;33m,\u001b[0m \u001b[1;34m'Аргумент n должен быть больше 0!'\u001b[0m\u001b[1;33m\u001b[0m\u001b[0m\n\u001b[0m\u001b[0;32m      5\u001b[0m     \u001b[1;32massert\u001b[0m \u001b[0mn\u001b[0m \u001b[1;33m%\u001b[0m \u001b[1;36m1\u001b[0m \u001b[1;33m==\u001b[0m \u001b[1;36m0\u001b[0m\u001b[1;33m,\u001b[0m \u001b[1;34m'Аргумент n должен быть целым!'\u001b[0m\u001b[1;33m\u001b[0m\u001b[0m\n\u001b[0;32m      6\u001b[0m     \u001b[0mf\u001b[0m \u001b[1;33m=\u001b[0m \u001b[1;36m1\u001b[0m\u001b[1;33m\u001b[0m\u001b[0m\n",
      "\u001b[1;31mAssertionError\u001b[0m: Аргумент n должен быть больше 0!"
     ]
    }
   ],
   "source": [
    "factorial(-1)"
   ]
  },
  {
   "cell_type": "code",
   "execution_count": 20,
   "metadata": {},
   "outputs": [
    {
     "ename": "AssertionError",
     "evalue": "Аргумент n должен быть целым!",
     "output_type": "error",
     "traceback": [
      "\u001b[1;31m---------------------------------------------------------------------------\u001b[0m",
      "\u001b[1;31mAssertionError\u001b[0m                            Traceback (most recent call last)",
      "\u001b[1;32m<ipython-input-20-347bc4de69b9>\u001b[0m in \u001b[0;36m<module>\u001b[1;34m()\u001b[0m\n\u001b[1;32m----> 1\u001b[1;33m \u001b[0mfactorial\u001b[0m\u001b[1;33m(\u001b[0m\u001b[1;36m5.5\u001b[0m\u001b[1;33m)\u001b[0m\u001b[1;33m\u001b[0m\u001b[0m\n\u001b[0m",
      "\u001b[1;32m<ipython-input-18-8ec99d38a0cf>\u001b[0m in \u001b[0;36mfactorial\u001b[1;34m(n)\u001b[0m\n\u001b[0;32m      3\u001b[0m     Аргумент n - не отрицательное целое число.\"\"\"\n\u001b[0;32m      4\u001b[0m     \u001b[1;32massert\u001b[0m \u001b[0mn\u001b[0m \u001b[1;33m>=\u001b[0m \u001b[1;36m0\u001b[0m\u001b[1;33m,\u001b[0m \u001b[1;34m'Аргумент n должен быть больше 0!'\u001b[0m\u001b[1;33m\u001b[0m\u001b[0m\n\u001b[1;32m----> 5\u001b[1;33m     \u001b[1;32massert\u001b[0m \u001b[0mn\u001b[0m \u001b[1;33m%\u001b[0m \u001b[1;36m1\u001b[0m \u001b[1;33m==\u001b[0m \u001b[1;36m0\u001b[0m\u001b[1;33m,\u001b[0m \u001b[1;34m'Аргумент n должен быть целым!'\u001b[0m\u001b[1;33m\u001b[0m\u001b[0m\n\u001b[0m\u001b[0;32m      6\u001b[0m     \u001b[0mf\u001b[0m \u001b[1;33m=\u001b[0m \u001b[1;36m1\u001b[0m\u001b[1;33m\u001b[0m\u001b[0m\n\u001b[0;32m      7\u001b[0m     \u001b[1;32mfor\u001b[0m \u001b[0mi\u001b[0m \u001b[1;32min\u001b[0m \u001b[0mrange\u001b[0m\u001b[1;33m(\u001b[0m\u001b[1;36m2\u001b[0m\u001b[1;33m,\u001b[0m \u001b[0mn\u001b[0m\u001b[1;33m+\u001b[0m\u001b[1;36m1\u001b[0m\u001b[1;33m)\u001b[0m\u001b[1;33m:\u001b[0m\u001b[1;33m\u001b[0m\u001b[0m\n",
      "\u001b[1;31mAssertionError\u001b[0m: Аргумент n должен быть целым!"
     ]
    }
   ],
   "source": [
    "factorial(5.5)"
   ]
  },
  {
   "cell_type": "code",
   "execution_count": 21,
   "metadata": {},
   "outputs": [
    {
     "data": {
      "text/plain": [
       "1"
      ]
     },
     "execution_count": 21,
     "metadata": {},
     "output_type": "execute_result"
    }
   ],
   "source": [
    "factorial(0)"
   ]
  },
  {
   "cell_type": "code",
   "execution_count": 23,
   "metadata": {},
   "outputs": [
    {
     "data": {
      "text/plain": [
       "1"
      ]
     },
     "execution_count": 23,
     "metadata": {},
     "output_type": "execute_result"
    }
   ],
   "source": [
    "factorial(1)"
   ]
  },
  {
   "cell_type": "code",
   "execution_count": 24,
   "metadata": {},
   "outputs": [
    {
     "data": {
      "text/plain": [
       "2"
      ]
     },
     "execution_count": 24,
     "metadata": {},
     "output_type": "execute_result"
    }
   ],
   "source": [
    "factorial(2)"
   ]
  },
  {
   "cell_type": "code",
   "execution_count": 25,
   "metadata": {},
   "outputs": [
    {
     "data": {
      "text/plain": [
       "120"
      ]
     },
     "execution_count": 25,
     "metadata": {},
     "output_type": "execute_result"
    }
   ],
   "source": [
    "factorial(5)"
   ]
  }
 ],
 "metadata": {
  "anaconda-cloud": {},
  "kernelspec": {
   "display_name": "Python 3",
   "language": "python",
   "name": "python3"
  },
  "language_info": {
   "codemirror_mode": {
    "name": "ipython",
    "version": 3
   },
   "file_extension": ".py",
   "mimetype": "text/x-python",
   "name": "python",
   "nbconvert_exporter": "python",
   "pygments_lexer": "ipython3",
   "version": "3.6.5"
  }
 },
 "nbformat": 4,
 "nbformat_minor": 1
}

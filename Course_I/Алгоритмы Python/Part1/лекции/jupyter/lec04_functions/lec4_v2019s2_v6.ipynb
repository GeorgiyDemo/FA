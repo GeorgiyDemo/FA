{
 "cells": [
  {
   "cell_type": "markdown",
   "metadata": {},
   "source": [
    "# Лекция 4 \"Функции\"\n",
    "\n",
    "### Финансовый университет при Правительстве РФ, лектор С.В. Макрушин"
   ]
  },
  {
   "cell_type": "markdown",
   "metadata": {},
   "source": [
    " ## Создание функции и ее вызов"
   ]
  },
  {
   "cell_type": "markdown",
   "metadata": {},
   "source": [
    "Функция описывается с помощью ключевого слова def no следующей схеме: \n",
    "\n",
    "\n",
    "`def  <Имя  функции> ([<Параметры>]):\n",
    "    [\"\"\"  Строка  документирования  \"\"\"] \n",
    "    <Тело функции>    \n",
    "    [return  <Значение>]`\n",
    "\n",
    "* __Имя функции__ должно быть корректным уникальным идентификатором\n",
    "    * состоящим из латинских букв, цифр и знаков подчеркивания (причем имя функции не может начинаться с цифры).\n",
    "    * В качестве имени нельзя исnользовать ключевые слова, кроме того, следует избегать совпадений с названиями  встроенных  идентификаторов.\n",
    "    * Регистр  символов в  названии  функции  имеет значение. \n",
    "* После имени функции в  круглых скобках можно указать один или несколько __nараметров__ через  запятую.  \n",
    "    * Если функция не  принимает параметры, то  просто указываются  круглые скобки. \n",
    "    * После круглых скобок ставится двоеточие. \n",
    "* После двоеточия может следовать необязательная __строка документирования__ фукнции (распространено использование многострочной строки, заключенной в тройные кавычки)  \n",
    "* __Тело функции__ является составной конструкцией.  Как и  в  любой составной конструкции, инструкции внутри функции выделяются одинаковым количеством пробелов слева. "
   ]
  },
  {
   "cell_type": "code",
   "execution_count": 2,
   "metadata": {},
   "outputs": [],
   "source": [
    "def func(): \n",
    "    pass "
   ]
  },
  {
   "cell_type": "markdown",
   "metadata": {},
   "source": [
    "Необязательная инструкция return  nозволяет вернуть значение из функции. После исполнения этой  инструкции выполнение функции будет завершено. "
   ]
  },
  {
   "cell_type": "code",
   "execution_count": 3,
   "metadata": {},
   "outputs": [],
   "source": [
    "def  func(): \n",
    "    print (\"Текст до инструкции return\") \n",
    "    return  \"Возвращаемое  значение\" \n",
    "    print (\"Эта инструкция никогда не будет выполнена\") "
   ]
  },
  {
   "cell_type": "code",
   "execution_count": 4,
   "metadata": {},
   "outputs": [
    {
     "name": "stdout",
     "output_type": "stream",
     "text": [
      "Текст до инструкции return\n",
      "Возвращаемое  значение\n"
     ]
    }
   ],
   "source": [
    "print(func())  # вызываем функцию "
   ]
  },
  {
   "cell_type": "code",
   "execution_count": 5,
   "metadata": {},
   "outputs": [],
   "source": [
    "def print_ok(): \n",
    "    \"\"\"  Пример  функции  без  параметров  \"\"\" \n",
    "    print(\"Сообщение при удачно выполненной операции\") \n",
    "    \n",
    "def echo(m): \n",
    "    \"\"\"  Пример функции с параметром \"\"\" \n",
    "    print(m) \n",
    "    \n",
    "def summa(x, у): \n",
    "    \"\"\"  Пример функции с параметрами, \n",
    "    возвращающей сумму двух переменных\"\"\"\n",
    "    return x + у\n",
    "\n",
    "def pow2(x, у): \n",
    "    \"\"\"  Пример функции с параметрами, \n",
    "    возвращающей !!!значение х в степени y (было: сумму двух переменных) !!!\"\"\"\n",
    "    return x ** у"
   ]
  },
  {
   "cell_type": "code",
   "execution_count": 6,
   "metadata": {},
   "outputs": [
    {
     "name": "stdout",
     "output_type": "stream",
     "text": [
      "Сообщение при удачно выполненной операции\n"
     ]
    }
   ],
   "source": [
    "print_ok()"
   ]
  },
  {
   "cell_type": "code",
   "execution_count": 7,
   "metadata": {},
   "outputs": [
    {
     "name": "stdout",
     "output_type": "stream",
     "text": [
      "Сообщение\n"
     ]
    }
   ],
   "source": [
    "echo(\"Сообщение\")"
   ]
  },
  {
   "cell_type": "code",
   "execution_count": 8,
   "metadata": {},
   "outputs": [],
   "source": [
    "?echo"
   ]
  },
  {
   "cell_type": "code",
   "execution_count": 9,
   "metadata": {},
   "outputs": [
    {
     "name": "stdout",
     "output_type": "stream",
     "text": [
      "Help on function echo in module __main__:\n",
      "\n",
      "echo(m)\n",
      "    Пример функции с параметром\n",
      "\n"
     ]
    }
   ],
   "source": [
    "help(echo)"
   ]
  },
  {
   "cell_type": "code",
   "execution_count": 10,
   "metadata": {},
   "outputs": [
    {
     "data": {
      "text/plain": [
       "'  Пример функции с параметром '"
      ]
     },
     "execution_count": 10,
     "metadata": {},
     "output_type": "execute_result"
    }
   ],
   "source": [
    "echo.__doc__"
   ]
  },
  {
   "cell_type": "code",
   "execution_count": 11,
   "metadata": {},
   "outputs": [
    {
     "data": {
      "text/plain": [
       "7"
      ]
     },
     "execution_count": 11,
     "metadata": {},
     "output_type": "execute_result"
    }
   ],
   "source": [
    "x = summa(5, 2)\n",
    "x"
   ]
  },
  {
   "cell_type": "code",
   "execution_count": 12,
   "metadata": {},
   "outputs": [
    {
     "data": {
      "text/plain": [
       "50"
      ]
     },
     "execution_count": 12,
     "metadata": {},
     "output_type": "execute_result"
    }
   ],
   "source": [
    "y, x = 10, 40\n",
    "z = summa(y, x)\n",
    "z"
   ]
  },
  {
   "cell_type": "markdown",
   "metadata": {},
   "source": [
    "Имя переменной в вызове функции может не совпадать с именем переменной в определении функции. Кроме того, глобальные переменные х и у не конфликтуют с одноименными переменными в определении функции, т.к.  они расположены в разных областях видимости. Переменные, указанные в определении функции, являются **локальными** и доступны только внутри функции. "
   ]
  },
  {
   "cell_type": "code",
   "execution_count": 15,
   "metadata": {},
   "outputs": [
    {
     "data": {
      "text/plain": [
       "'string'"
      ]
     },
     "execution_count": 15,
     "metadata": {},
     "output_type": "execute_result"
    }
   ],
   "source": [
    "# в Python нет ограничений на тип значений передваемых в функцию:\n",
    "summa('str', 'ing')"
   ]
  },
  {
   "cell_type": "code",
   "execution_count": 14,
   "metadata": {},
   "outputs": [
    {
     "data": {
      "text/plain": [
       "[1, 3, 5, 7]"
      ]
     },
     "execution_count": 14,
     "metadata": {},
     "output_type": "execute_result"
    }
   ],
   "source": [
    "summa([1, 3], [5, 7])"
   ]
  },
  {
   "cell_type": "markdown",
   "metadata": {},
   "source": [
    "Все в языке Python является объектом, например, строки, списки и даже типы данных и функции.\n",
    "\n",
    "Инструкция `def`  создает объект, имеющий тиn  `function`,  и  сохраняет ссылку на  него  в  идентификаторе, указанном  nосле инструкции `def`. Таким образом, мы можем сохранить ссылку на функцию в  другой nеременной. Для этого  название функции указывается без круглых скобок."
   ]
  },
  {
   "cell_type": "code",
   "execution_count": 16,
   "metadata": {},
   "outputs": [
    {
     "data": {
      "text/plain": [
       "30"
      ]
     },
     "execution_count": 16,
     "metadata": {},
     "output_type": "execute_result"
    }
   ],
   "source": [
    "f = summa\n",
    "v = f(10, 20)\n",
    "v"
   ]
  },
  {
   "cell_type": "code",
   "execution_count": 17,
   "metadata": {},
   "outputs": [
    {
     "data": {
      "text/plain": [
       "function"
      ]
     },
     "execution_count": 17,
     "metadata": {},
     "output_type": "execute_result"
    }
   ],
   "source": [
    "type(summa)"
   ]
  },
  {
   "cell_type": "code",
   "execution_count": 18,
   "metadata": {},
   "outputs": [
    {
     "data": {
      "text/plain": [
       "function"
      ]
     },
     "execution_count": 18,
     "metadata": {},
     "output_type": "execute_result"
    }
   ],
   "source": [
    "type(f)"
   ]
  },
  {
   "cell_type": "code",
   "execution_count": 19,
   "metadata": {},
   "outputs": [],
   "source": [
    "# функции в Python можно передавать в качестве аргументов других функций:\n",
    "def  func(fp,  а,  b): \n",
    "    \"\"\" Через переменную fp будет доступна ссылка на \n",
    "    функцию summa() \"\"\"\n",
    "    return fp(а, b)  #  Вызываем функцию summa()"
   ]
  },
  {
   "cell_type": "code",
   "execution_count": 20,
   "metadata": {},
   "outputs": [
    {
     "data": {
      "text/plain": [
       "30"
      ]
     },
     "execution_count": 20,
     "metadata": {},
     "output_type": "execute_result"
    }
   ],
   "source": [
    "func(summa, 10, 20)"
   ]
  },
  {
   "cell_type": "code",
   "execution_count": 21,
   "metadata": {},
   "outputs": [
    {
     "data": {
      "text/plain": [
       "30"
      ]
     },
     "execution_count": 21,
     "metadata": {},
     "output_type": "execute_result"
    }
   ],
   "source": [
    "func(f, 10, 20)"
   ]
  },
  {
   "cell_type": "code",
   "execution_count": 22,
   "metadata": {},
   "outputs": [],
   "source": [
    "def razn(a, b):\n",
    "    return a - b"
   ]
  },
  {
   "cell_type": "code",
   "execution_count": 23,
   "metadata": {},
   "outputs": [
    {
     "data": {
      "text/plain": [
       "-10"
      ]
     },
     "execution_count": 23,
     "metadata": {},
     "output_type": "execute_result"
    }
   ],
   "source": [
    "func(razn, 10, 20)"
   ]
  },
  {
   "cell_type": "markdown",
   "metadata": {},
   "source": [
    "Объекты функций nоддерживают множество __атрибутов__. Обратиться к атрибутам функции можно, указав атрибут nосле названия функции через точку. Наnример, через атрибут `__nаme__` можно получить название функции в  виде строки, через атрибут `__doc__` - строку документирования и т.д."
   ]
  },
  {
   "cell_type": "code",
   "execution_count": 24,
   "metadata": {},
   "outputs": [
    {
     "data": {
      "text/plain": [
       "'summa'"
      ]
     },
     "execution_count": 24,
     "metadata": {},
     "output_type": "execute_result"
    }
   ],
   "source": [
    "summa.__name__"
   ]
  },
  {
   "cell_type": "code",
   "execution_count": 25,
   "metadata": {},
   "outputs": [
    {
     "data": {
      "text/plain": [
       "'  Пример функции с параметрами, \\n    возвращающей сумму двух переменных'"
      ]
     },
     "execution_count": 25,
     "metadata": {},
     "output_type": "execute_result"
    }
   ],
   "source": [
    "summa.__doc__"
   ]
  },
  {
   "cell_type": "markdown",
   "metadata": {},
   "source": [
    "Выведем  названия  всех  атрибутов функции с  nомощью встроенной функции dir():"
   ]
  },
  {
   "cell_type": "code",
   "execution_count": 13,
   "metadata": {},
   "outputs": [
    {
     "data": {
      "text/plain": [
       "['__annotations__',\n",
       " '__call__',\n",
       " '__class__',\n",
       " '__closure__',\n",
       " '__code__',\n",
       " '__defaults__',\n",
       " '__delattr__',\n",
       " '__dict__',\n",
       " '__dir__',\n",
       " '__doc__',\n",
       " '__eq__',\n",
       " '__format__',\n",
       " '__ge__',\n",
       " '__get__',\n",
       " '__getattribute__',\n",
       " '__globals__',\n",
       " '__gt__',\n",
       " '__hash__',\n",
       " '__init__',\n",
       " '__init_subclass__',\n",
       " '__kwdefaults__',\n",
       " '__le__',\n",
       " '__lt__',\n",
       " '__module__',\n",
       " '__name__',\n",
       " '__ne__',\n",
       " '__new__',\n",
       " '__qualname__',\n",
       " '__reduce__',\n",
       " '__reduce_ex__',\n",
       " '__repr__',\n",
       " '__setattr__',\n",
       " '__sizeof__',\n",
       " '__str__',\n",
       " '__subclasshook__']"
      ]
     },
     "execution_count": 13,
     "metadata": {},
     "output_type": "execute_result"
    }
   ],
   "source": [
    "dir(summa)"
   ]
  },
  {
   "cell_type": "markdown",
   "metadata": {},
   "source": [
    "#### Расположение определений функций"
   ]
  },
  {
   "cell_type": "markdown",
   "metadata": {},
   "source": [
    "Все инструкции в nрограмме на Python выnолняются nоследовательно сверху вниз. Это означает, что прежде чем использовать идентификатор в nрограмме, его необходимо nредварительно определить, nрисвоив ему значение. Поэтому, __определение функции__ должно быть выполнено __перед вызовом функции__ (обычно это означает, что определение находится раньше вызова). "
   ]
  },
  {
   "cell_type": "code",
   "execution_count": 26,
   "metadata": {},
   "outputs": [
    {
     "ename": "NameError",
     "evalue": "name 'f2' is not defined",
     "output_type": "error",
     "traceback": [
      "\u001b[1;31m---------------------------------------------------------------------------\u001b[0m",
      "\u001b[1;31mNameError\u001b[0m                                 Traceback (most recent call last)",
      "\u001b[1;32m<ipython-input-26-08d6de4e1d83>\u001b[0m in \u001b[0;36m<module>\u001b[1;34m()\u001b[0m\n\u001b[0;32m      1\u001b[0m \u001b[1;31m# неверно!\u001b[0m\u001b[1;33m\u001b[0m\u001b[1;33m\u001b[0m\u001b[0m\n\u001b[1;32m----> 2\u001b[1;33m \u001b[0mf2\u001b[0m\u001b[1;33m(\u001b[0m\u001b[1;33m)\u001b[0m\u001b[1;33m\u001b[0m\u001b[0m\n\u001b[0m\u001b[0;32m      3\u001b[0m \u001b[1;33m\u001b[0m\u001b[0m\n\u001b[0;32m      4\u001b[0m \u001b[1;32mdef\u001b[0m \u001b[0mf2\u001b[0m\u001b[1;33m(\u001b[0m\u001b[1;33m)\u001b[0m\u001b[1;33m:\u001b[0m\u001b[1;33m\u001b[0m\u001b[0m\n\u001b[0;32m      5\u001b[0m     \u001b[0mprint\u001b[0m\u001b[1;33m(\u001b[0m\u001b[1;34m'Функция f2!'\u001b[0m\u001b[1;33m)\u001b[0m\u001b[1;33m\u001b[0m\u001b[0m\n",
      "\u001b[1;31mNameError\u001b[0m: name 'f2' is not defined"
     ]
    }
   ],
   "source": [
    "# неверно!\n",
    "f2()\n",
    "\n",
    "def f2():\n",
    "    print('Функция f2!')"
   ]
  },
  {
   "cell_type": "code",
   "execution_count": 30,
   "metadata": {},
   "outputs": [
    {
     "name": "stdout",
     "output_type": "stream",
     "text": [
      "Функция f2!\n",
      "Функция f2!\n"
     ]
    }
   ],
   "source": [
    "for i in range(5):\n",
    "    if i > 2:\n",
    "        f2()\n",
    "    def f2():\n",
    "        print('Функция f2!')\n",
    "# работает т.к. определение функции было выполнено ранее, чем вызов        "
   ]
  },
  {
   "cell_type": "code",
   "execution_count": 31,
   "metadata": {},
   "outputs": [
    {
     "name": "stdout",
     "output_type": "stream",
     "text": [
      "Введите 1 дпя  вызова первой функции:1\n",
      "Вызов первой функции\n"
     ]
    }
   ],
   "source": [
    "# Оnределение функции в зависимости от условия\n",
    "n = input(\"Введите 1 для вызова первой функции:\") \n",
    "n = n.rstrip(\"\\r\")\n",
    "if n == \"1\": \n",
    "    def echo(): \n",
    "        print(\"Вызов первой функции\") \n",
    "else: \n",
    "    def  echo(): \n",
    "        print (\"Апьтернативная функция\") \n",
    "echo() # Вызываем функцию "
   ]
  },
  {
   "cell_type": "markdown",
   "metadata": {},
   "source": [
    "Инструкция `def` всего лишь присваивает ссылку на объект функции идентификатору, расположенному после ключевого слова def. Если определение одной функции встречается в программе несколько раз, то будет использоваться функция, которая расположена последней. "
   ]
  },
  {
   "cell_type": "markdown",
   "metadata": {},
   "source": [
    "## Анонимные функции"
   ]
  },
  {
   "cell_type": "markdown",
   "metadata": {},
   "source": [
    "Помимо обычных функций язык Python  позволяет использовать анонимные функции, которые называются __лямбда-функциями__. Анонимная функция описывается с помощью ключевого слова `lambda` по следующей схеме:\n",
    "\n",
    "`lamda [<Параметрl>[,  ... ,  <ПараметрN>]]:  <Возвращаемое  значение>`\n",
    "\n",
    "После ключевого слова `lambda` можно указать передаваемые параметры. В качестве параметра `<Возвращаемое  значение>`  указывается  выражение,  результат  выполнения  которого будет возвращен функцией.  \n",
    "\n",
    "Как видно из  схемы, у лямбда-функций нет имени.  По этой причине их и называют анонимными функциями. \n",
    "\n",
    "В  качестве  значения  __лямбда-функция  возвращает  ссылку  на  объект-функцию__, которую можно сохранить в переменной или передать в качестве параметра в другую функцию. Вызвать лямбда-функцию можно, как и обычную, с помощью круглых скобок, внутри которых расположены передаваемые параметры."
   ]
  },
  {
   "cell_type": "code",
   "execution_count": 81,
   "metadata": {},
   "outputs": [
    {
     "name": "stdout",
     "output_type": "stream",
     "text": [
      "30\n",
      "15\n",
      "45\n"
     ]
    }
   ],
   "source": [
    "fl = lambda: 10 + 20  # функция без nараметров \n",
    "f2  = lambda х, y:  х + y  # функция с двумя nараметрами \n",
    "f3  = lambda х, y, z: х + y + z  # функция с тремя nараметрами \n",
    "print(fl())\n",
    "print(f2(5, 10))\n",
    "print(f3(5, 10, 30))"
   ]
  },
  {
   "cell_type": "code",
   "execution_count": 83,
   "metadata": {},
   "outputs": [
    {
     "name": "stdout",
     "output_type": "stream",
     "text": [
      "['Единица2', 'Единый', 'единица1']\n",
      "['единица1', 'Единица2', 'Единый']\n"
     ]
    }
   ],
   "source": [
    "arr  =  [\"единица1\",  \"Единый\",  \"Единица2\"] \n",
    "arr.sort() \n",
    "print(arr)\n",
    "# распространенный пример использования лямбда-функций:\n",
    "arr.sort(key=lambda s: s.lower()) \n",
    "print(arr)"
   ]
  },
  {
   "cell_type": "code",
   "execution_count": 84,
   "metadata": {},
   "outputs": [],
   "source": [
    "ls = ['дыня', 'вишня', 'арбуз', 'яблоко', 'абрикос']"
   ]
  },
  {
   "cell_type": "code",
   "execution_count": 85,
   "metadata": {},
   "outputs": [
    {
     "data": {
      "text/plain": [
       "['абрикос', 'арбуз', 'вишня', 'дыня', 'яблоко']"
      ]
     },
     "execution_count": 85,
     "metadata": {},
     "output_type": "execute_result"
    }
   ],
   "source": [
    "sorted(ls)"
   ]
  },
  {
   "cell_type": "code",
   "execution_count": 86,
   "metadata": {
    "scrolled": true
   },
   "outputs": [
    {
     "data": {
      "text/plain": [
       "['дыня', 'вишня', 'арбуз', 'яблоко', 'абрикос']"
      ]
     },
     "execution_count": 86,
     "metadata": {},
     "output_type": "execute_result"
    }
   ],
   "source": [
    "sorted(ls, key=lambda s:len(s))"
   ]
  },
  {
   "cell_type": "markdown",
   "metadata": {},
   "source": [
    "# >"
   ]
  },
  {
   "cell_type": "markdown",
   "metadata": {},
   "source": [
    "-----"
   ]
  },
  {
   "cell_type": "markdown",
   "metadata": {},
   "source": [
    "## Функции: необязательные параметры и сопоставление по ключам"
   ]
  },
  {
   "cell_type": "markdown",
   "metadata": {},
   "source": [
    "Чтобы  сделать  некоторые параметры  необязательными,  следует  в  определении  функции присвоить этому параметру начальное значение."
   ]
  },
  {
   "cell_type": "code",
   "execution_count": 32,
   "metadata": {},
   "outputs": [],
   "source": [
    "def summa(x, y=2):\n",
    "    return x + y"
   ]
  },
  {
   "cell_type": "code",
   "execution_count": 33,
   "metadata": {},
   "outputs": [
    {
     "data": {
      "text/plain": [
       "7"
      ]
     },
     "execution_count": 33,
     "metadata": {},
     "output_type": "execute_result"
    }
   ],
   "source": [
    "summa(5)"
   ]
  },
  {
   "cell_type": "code",
   "execution_count": 34,
   "metadata": {},
   "outputs": [
    {
     "data": {
      "text/plain": [
       "9"
      ]
     },
     "execution_count": 34,
     "metadata": {},
     "output_type": "execute_result"
    }
   ],
   "source": [
    "summa(5, 4)"
   ]
  },
  {
   "cell_type": "markdown",
   "metadata": {},
   "source": [
    "Синтаксис определения параметров функции не позволяет указывать параметры, не имеющие значений по умолчанию, после параметров со значениями по умолчанию."
   ]
  },
  {
   "cell_type": "code",
   "execution_count": 19,
   "metadata": {},
   "outputs": [
    {
     "ename": "SyntaxError",
     "evalue": "non-default argument follows default argument (<ipython-input-19-8429922f02f0>, line 2)",
     "output_type": "error",
     "traceback": [
      "\u001b[1;36m  File \u001b[1;32m\"<ipython-input-19-8429922f02f0>\"\u001b[1;36m, line \u001b[1;32m2\u001b[0m\n\u001b[1;33m    def bad(a, b=1, с):\u001b[0m\n\u001b[1;37m           ^\u001b[0m\n\u001b[1;31mSyntaxError\u001b[0m\u001b[1;31m:\u001b[0m non-default argument follows default argument\n"
     ]
    }
   ],
   "source": [
    "# ошибка:\n",
    "def bad(a, b=1, с):\n",
    "    return a + b + c"
   ]
  },
  {
   "cell_type": "markdown",
   "metadata": {},
   "source": [
    "Язык Python  nозволяет также передать значения в функцию, используя сопоставление по ключам.  Для этого nри вызове функции nараметрам nрисваиваются значения. Последовательность указания параметров может быть nроизвольной. "
   ]
  },
  {
   "cell_type": "markdown",
   "metadata": {},
   "source": [
    "```python\n",
    "def summa(x, у): \n",
    "    \"\"\"  Пример функции с параметрами, \n",
    "    возвращающей  сумму двух  переменных\"\"\"\n",
    "    return x + у```"
   ]
  },
  {
   "cell_type": "code",
   "execution_count": 20,
   "metadata": {},
   "outputs": [
    {
     "data": {
      "text/plain": [
       "30"
      ]
     },
     "execution_count": 20,
     "metadata": {},
     "output_type": "execute_result"
    }
   ],
   "source": [
    "summa(y=10, x=20)"
   ]
  },
  {
   "cell_type": "markdown",
   "metadata": {},
   "source": [
    "Сопоставление по ключам очень удобно использовать, если функция имеет несколько необязательных параметров. В этом случае не нужно перечислять все значения, а достаточно присвоить значение нужному параметру."
   ]
  },
  {
   "cell_type": "code",
   "execution_count": 35,
   "metadata": {},
   "outputs": [],
   "source": [
    "def multi_summa(x=1, y=1, z=1):\n",
    "    return x + 10* y + 100* z"
   ]
  },
  {
   "cell_type": "code",
   "execution_count": 36,
   "metadata": {},
   "outputs": [
    {
     "data": {
      "text/plain": [
       "321"
      ]
     },
     "execution_count": 36,
     "metadata": {},
     "output_type": "execute_result"
    }
   ],
   "source": [
    "multi_summa(1, 2, 3)"
   ]
  },
  {
   "cell_type": "code",
   "execution_count": 37,
   "metadata": {},
   "outputs": [
    {
     "data": {
      "text/plain": [
       "121"
      ]
     },
     "execution_count": 37,
     "metadata": {},
     "output_type": "execute_result"
    }
   ],
   "source": [
    "multi_summa(1, 2)"
   ]
  },
  {
   "cell_type": "code",
   "execution_count": 38,
   "metadata": {},
   "outputs": [
    {
     "data": {
      "text/plain": [
       "115"
      ]
     },
     "execution_count": 38,
     "metadata": {},
     "output_type": "execute_result"
    }
   ],
   "source": [
    "multi_summa(5)"
   ]
  },
  {
   "cell_type": "code",
   "execution_count": 39,
   "metadata": {},
   "outputs": [
    {
     "data": {
      "text/plain": [
       "111"
      ]
     },
     "execution_count": 39,
     "metadata": {},
     "output_type": "execute_result"
    }
   ],
   "source": [
    "multi_summa()"
   ]
  },
  {
   "cell_type": "code",
   "execution_count": 40,
   "metadata": {},
   "outputs": [
    {
     "data": {
      "text/plain": [
       "311"
      ]
     },
     "execution_count": 40,
     "metadata": {},
     "output_type": "execute_result"
    }
   ],
   "source": [
    "multi_summa(z=3)"
   ]
  },
  {
   "cell_type": "markdown",
   "metadata": {},
   "source": [
    "Значения по умолчанию создаются на этапе выполнения инструкции `def` (то есть в момент создания функции), а не в момент \n",
    "ее вызова. Для неизменяемых аргументов, таких как строки или числа, это не имеет никакого значения, но, при использовании изменяемых аргументов в качестве значения по умолчанию, может появиться труднообнаружимая ловушка."
   ]
  },
  {
   "cell_type": "code",
   "execution_count": 41,
   "metadata": {},
   "outputs": [],
   "source": [
    "def append_if_even(x, lst=[]): # ОШИБКА! \n",
    "    if x % 2 == 0: \n",
    "        lst.append(x) \n",
    "    return lst "
   ]
  },
  {
   "cell_type": "code",
   "execution_count": 42,
   "metadata": {},
   "outputs": [
    {
     "data": {
      "text/plain": [
       "[2]"
      ]
     },
     "execution_count": 42,
     "metadata": {},
     "output_type": "execute_result"
    }
   ],
   "source": [
    "append_if_even(2)"
   ]
  },
  {
   "cell_type": "code",
   "execution_count": 43,
   "metadata": {},
   "outputs": [
    {
     "data": {
      "text/plain": [
       "[2, 4]"
      ]
     },
     "execution_count": 43,
     "metadata": {},
     "output_type": "execute_result"
    }
   ],
   "source": [
    "append_if_even(4)"
   ]
  },
  {
   "cell_type": "code",
   "execution_count": 44,
   "metadata": {},
   "outputs": [],
   "source": [
    "# пример решения задачи без ошибки:\n",
    "def append_if_even(x, lst=None):\n",
    "    if lst is None:\n",
    "        lst = []\n",
    "    if x % 2 == 0: \n",
    "        lst.append(x) \n",
    "    return lst "
   ]
  },
  {
   "cell_type": "code",
   "execution_count": 45,
   "metadata": {},
   "outputs": [
    {
     "data": {
      "text/plain": [
       "[2]"
      ]
     },
     "execution_count": 45,
     "metadata": {},
     "output_type": "execute_result"
    }
   ],
   "source": [
    "append_if_even(2)"
   ]
  },
  {
   "cell_type": "code",
   "execution_count": 46,
   "metadata": {
    "scrolled": true
   },
   "outputs": [
    {
     "data": {
      "text/plain": [
       "[4]"
      ]
     },
     "execution_count": 46,
     "metadata": {},
     "output_type": "execute_result"
    }
   ],
   "source": [
    "append_if_even(4)"
   ]
  },
  {
   "cell_type": "markdown",
   "metadata": {},
   "source": [
    "### Возвращение нескольких значений из функции"
   ]
  },
  {
   "cell_type": "code",
   "execution_count": 50,
   "metadata": {},
   "outputs": [],
   "source": [
    "def min_med_max(l):\n",
    "    \"Возвращает минимальное, медианное и максимальное значение итерируемого объекта (списка)\"\n",
    "    ls = sorted(l)\n",
    "    l_min = ls[0]\n",
    "    l_max = ls[-1]\n",
    "    l_med = ls[len(ls)//2]\n",
    "    return l_min, l_med, l_max # удобный синтаксис для запаковки результатов в кортеж"
   ]
  },
  {
   "cell_type": "code",
   "execution_count": 51,
   "metadata": {},
   "outputs": [
    {
     "data": {
      "text/plain": [
       "(1, 7, 100)"
      ]
     },
     "execution_count": 51,
     "metadata": {},
     "output_type": "execute_result"
    }
   ],
   "source": [
    "min_med_max([3, 1, 100, 11, 7])"
   ]
  },
  {
   "cell_type": "code",
   "execution_count": 52,
   "metadata": {},
   "outputs": [],
   "source": [
    "# распаковка кортежа, возвращаемого функцией\n",
    "min1, med1, max1 = min_med_max([3, 1, 100, 11, 7])"
   ]
  },
  {
   "cell_type": "code",
   "execution_count": 53,
   "metadata": {},
   "outputs": [
    {
     "name": "stdout",
     "output_type": "stream",
     "text": [
      "min1: 1, med1: 7, max1: 100\n"
     ]
    }
   ],
   "source": [
    "print(f'min1: {min1}, med1: {med1}, max1: {max1}')"
   ]
  },
  {
   "cell_type": "code",
   "execution_count": 54,
   "metadata": {},
   "outputs": [
    {
     "data": {
      "text/plain": [
       "(1, 7, 100)"
      ]
     },
     "execution_count": 54,
     "metadata": {},
     "output_type": "execute_result"
    }
   ],
   "source": [
    "all_res = min_med_max([3, 1, 100, 11, 7])\n",
    "all_res"
   ]
  },
  {
   "cell_type": "markdown",
   "metadata": {},
   "source": [
    "### Распаковка аргументов и параметров"
   ]
  },
  {
   "cell_type": "markdown",
   "metadata": {},
   "source": [
    "Если значения параметров, которые планируется передать в  функцию, содержатся в  кортеже или списке, то перед объектом следует указать символ * . "
   ]
  },
  {
   "cell_type": "code",
   "execution_count": 55,
   "metadata": {},
   "outputs": [],
   "source": [
    "t1 = (5, 10 ,15)\n",
    "t2 = [25, 35, 45]\n",
    "t3 = (5, 10 ,15, 20)"
   ]
  },
  {
   "cell_type": "code",
   "execution_count": 56,
   "metadata": {},
   "outputs": [
    {
     "data": {
      "text/plain": [
       "1605"
      ]
     },
     "execution_count": 56,
     "metadata": {},
     "output_type": "execute_result"
    }
   ],
   "source": [
    "# неудобный способ передачи параметров:\n",
    "multi_summa(t1[0], t1[1], t1[2])"
   ]
  },
  {
   "cell_type": "code",
   "execution_count": 59,
   "metadata": {},
   "outputs": [
    {
     "data": {
      "text/plain": [
       "1605"
      ]
     },
     "execution_count": 59,
     "metadata": {},
     "output_type": "execute_result"
    }
   ],
   "source": [
    "# распаковка:\n",
    "multi_summa(*t1)"
   ]
  },
  {
   "cell_type": "code",
   "execution_count": 60,
   "metadata": {},
   "outputs": [
    {
     "data": {
      "text/plain": [
       "4875"
      ]
     },
     "execution_count": 60,
     "metadata": {},
     "output_type": "execute_result"
    }
   ],
   "source": [
    "multi_summa(*t2)"
   ]
  },
  {
   "cell_type": "code",
   "execution_count": 61,
   "metadata": {},
   "outputs": [
    {
     "ename": "TypeError",
     "evalue": "multi_summa() takes from 0 to 3 positional arguments but 4 were given",
     "output_type": "error",
     "traceback": [
      "\u001b[1;31m---------------------------------------------------------------------------\u001b[0m",
      "\u001b[1;31mTypeError\u001b[0m                                 Traceback (most recent call last)",
      "\u001b[1;32m<ipython-input-61-22606a357499>\u001b[0m in \u001b[0;36m<module>\u001b[1;34m()\u001b[0m\n\u001b[0;32m      1\u001b[0m \u001b[1;31m# Ошибка! количество передаваемых параметров\u001b[0m\u001b[1;33m\u001b[0m\u001b[1;33m\u001b[0m\u001b[0m\n\u001b[0;32m      2\u001b[0m \u001b[1;31m# должно равняться количеству объявленных в функции параметров:\u001b[0m\u001b[1;33m\u001b[0m\u001b[1;33m\u001b[0m\u001b[0m\n\u001b[1;32m----> 3\u001b[1;33m \u001b[0mmulti_summa\u001b[0m\u001b[1;33m(\u001b[0m\u001b[1;33m*\u001b[0m\u001b[0mt3\u001b[0m\u001b[1;33m)\u001b[0m\u001b[1;33m\u001b[0m\u001b[0m\n\u001b[0m",
      "\u001b[1;31mTypeError\u001b[0m: multi_summa() takes from 0 to 3 positional arguments but 4 were given"
     ]
    }
   ],
   "source": [
    "# Ошибка! количество передаваемых параметров \n",
    "# должно равняться количеству объявленных в функции параметров:\n",
    "multi_summa(*t3)"
   ]
  },
  {
   "cell_type": "code",
   "execution_count": 62,
   "metadata": {},
   "outputs": [
    {
     "data": {
      "text/plain": [
       "1605"
      ]
     },
     "execution_count": 62,
     "metadata": {},
     "output_type": "execute_result"
    }
   ],
   "source": [
    "# решение проблемы:\n",
    "multi_summa(*t3[:3])"
   ]
  },
  {
   "cell_type": "markdown",
   "metadata": {},
   "source": [
    "Если значения параметров содержатся в словаре, то распаковать словарь можно, указав перед ним две звездочки \\*\\* :"
   ]
  },
  {
   "cell_type": "code",
   "execution_count": 63,
   "metadata": {},
   "outputs": [],
   "source": [
    "d1 = {'x': 11, 'y': 12, 'z': 13}"
   ]
  },
  {
   "cell_type": "code",
   "execution_count": 64,
   "metadata": {},
   "outputs": [
    {
     "data": {
      "text/plain": [
       "1431"
      ]
     },
     "execution_count": 64,
     "metadata": {},
     "output_type": "execute_result"
    }
   ],
   "source": [
    "multi_summa(**d1)"
   ]
  },
  {
   "cell_type": "code",
   "execution_count": 65,
   "metadata": {},
   "outputs": [
    {
     "data": {
      "text/plain": [
       "-210"
      ]
     },
     "execution_count": 65,
     "metadata": {},
     "output_type": "execute_result"
    }
   ],
   "source": [
    "t3 = [0, -1]\n",
    "d2 = {'z': -2}\n",
    "# сначала позиционные параметры, потом пары имя - значение:\n",
    "multi_summa(*t3, **d2)"
   ]
  },
  {
   "cell_type": "markdown",
   "metadata": {},
   "source": [
    "Переменное число параметров в функции"
   ]
  },
  {
   "cell_type": "code",
   "execution_count": 66,
   "metadata": {},
   "outputs": [],
   "source": [
    "# распаковывание последовательности в списке параметров функции:\n",
    "def all_summa(*t): \n",
    "    \"\"\"Функция принимает произвольное количество параметров\"\"\" \n",
    "    res = 0\n",
    "    for i in t: \n",
    "        res += i \n",
    "    return  res "
   ]
  },
  {
   "cell_type": "code",
   "execution_count": 67,
   "metadata": {},
   "outputs": [
    {
     "data": {
      "text/plain": [
       "150"
      ]
     },
     "execution_count": 67,
     "metadata": {},
     "output_type": "execute_result"
    }
   ],
   "source": [
    "all_summa(10, 20, 30, 40, 50)"
   ]
  },
  {
   "cell_type": "code",
   "execution_count": 68,
   "metadata": {},
   "outputs": [
    {
     "data": {
      "text/plain": [
       "280"
      ]
     },
     "execution_count": 68,
     "metadata": {},
     "output_type": "execute_result"
    }
   ],
   "source": [
    "t4 = [10, 20, 30, 40, 50, 60, 70]\n",
    "all_summa(*t4)"
   ]
  },
  {
   "cell_type": "markdown",
   "metadata": {},
   "source": [
    "Если перед параметром в  определении функции указать две звездочки \\*\\*, то все  именованные параметры будут сохранены в словаре."
   ]
  },
  {
   "cell_type": "code",
   "execution_count": 73,
   "metadata": {},
   "outputs": [],
   "source": [
    "def d_summa(**d): \n",
    "    for k, v in d.items():  #  Перебираем словарь с переданными параметрами \n",
    "        print(f\"{k} => {v}\", end=\"; \") "
   ]
  },
  {
   "cell_type": "code",
   "execution_count": 74,
   "metadata": {},
   "outputs": [
    {
     "name": "stdout",
     "output_type": "stream",
     "text": [
      "a => 1; x => 10; z => -2; "
     ]
    }
   ],
   "source": [
    "d_summa(a=1, x=10, z=-2)"
   ]
  },
  {
   "cell_type": "code",
   "execution_count": 75,
   "metadata": {
    "scrolled": false
   },
   "outputs": [
    {
     "name": "stdout",
     "output_type": "stream",
     "text": [
      "f => 3; g => 4; e => 5; "
     ]
    }
   ],
   "source": [
    "d3 = {'f': 3, 'g': 4, 'e': 5}\n",
    "d_summa(**d3)"
   ]
  },
  {
   "cell_type": "markdown",
   "metadata": {},
   "source": [
    "При комбинировании  параметров  параметр с  двумя звездочками указывается  самым последним. "
   ]
  },
  {
   "cell_type": "code",
   "execution_count": 78,
   "metadata": {},
   "outputs": [],
   "source": [
    "def c_summa(*t, **d): \n",
    "    for v in t: \n",
    "        print(v, end=\"; \") \n",
    "    for k, v in d.items(): \n",
    "        print(f\"{k} => {v}\", end=\"; \") "
   ]
  },
  {
   "cell_type": "code",
   "execution_count": 79,
   "metadata": {},
   "outputs": [
    {
     "name": "stdout",
     "output_type": "stream",
     "text": [
      "10; 20; 30; 40; 50; 60; 70; f => 3; g => 4; e => 5; "
     ]
    }
   ],
   "source": [
    "c_summa(*t4, **d3)"
   ]
  },
  {
   "cell_type": "markdown",
   "metadata": {},
   "source": [
    "----"
   ]
  },
  {
   "cell_type": "markdown",
   "metadata": {},
   "source": [
    "# >"
   ]
  },
  {
   "cell_type": "markdown",
   "metadata": {},
   "source": [
    "------"
   ]
  },
  {
   "cell_type": "markdown",
   "metadata": {},
   "source": [
    "#  Глобальные и локальные переменные"
   ]
  },
  {
   "cell_type": "markdown",
   "metadata": {},
   "source": [
    "### Передача параметров функций"
   ]
  },
  {
   "cell_type": "markdown",
   "metadata": {},
   "source": [
    "Объекты в  функцию передаются по ссылке. Если объект относится к  неизменяемому типу, то изменение значения внутри функции не затронет значение переменной вне функuии."
   ]
  },
  {
   "cell_type": "code",
   "execution_count": 87,
   "metadata": {},
   "outputs": [],
   "source": [
    "def change(a, b): \n",
    "    а = 20\n",
    "    b = 'str'"
   ]
  },
  {
   "cell_type": "code",
   "execution_count": 88,
   "metadata": {},
   "outputs": [
    {
     "name": "stdout",
     "output_type": "stream",
     "text": [
      "v1: 30\n",
      "v2: val\n"
     ]
    }
   ],
   "source": [
    "v1 = 30\n",
    "v2 = 'val'\n",
    "change(v1, v2)\n",
    "print(f'v1: {v1}')\n",
    "print(f'v2: {v2}')"
   ]
  },
  {
   "cell_type": "code",
   "execution_count": 90,
   "metadata": {},
   "outputs": [],
   "source": [
    "def change2(a): \n",
    "    a.append(10)"
   ]
  },
  {
   "cell_type": "code",
   "execution_count": 92,
   "metadata": {},
   "outputs": [
    {
     "data": {
      "text/plain": [
       "[1, 10]"
      ]
     },
     "execution_count": 92,
     "metadata": {},
     "output_type": "execute_result"
    }
   ],
   "source": [
    "s1 = [1]\n",
    "# изменяемый объект может быть неявно изменен внутри функции:\n",
    "change2(s1)\n",
    "s1"
   ]
  },
  {
   "cell_type": "markdown",
   "metadata": {},
   "source": [
    "##  Глобальные и локальные переменные"
   ]
  },
  {
   "cell_type": "markdown",
   "metadata": {},
   "source": [
    "__Глобальные  переменные__ - это  переменные,  объявленные  в  программе  вне  функции. В  Pythoп  глобальные  персменные видны  в  любой части  модуля,  включая функции."
   ]
  },
  {
   "cell_type": "code",
   "execution_count": 93,
   "metadata": {},
   "outputs": [
    {
     "name": "stdout",
     "output_type": "stream",
     "text": [
      "Значение  глобальной  nеременной  glоb =  10\n",
      "Значение  локальной  переменной  glob2 =  87\n",
      "Значение  глобальной  переменной  glob2 =  5\n"
     ]
    }
   ],
   "source": [
    "def func_glob(glob2): \n",
    "    print(\"Значение  глобальной  nеременной  glоb = \",  glob) \n",
    "    glob2 += 10 \n",
    "    print(\"Значение  локальной  переменной  glob2 = \", glob2) \n",
    "\n",
    "glob, glob2 = 10, 5 \n",
    "func_glob(77)  #  Вызываем функцию \n",
    "print(\"Значение  глобальной  переменной  glob2 = \", glob2)"
   ]
  },
  {
   "cell_type": "markdown",
   "metadata": {},
   "source": [
    "Переменной `glob2`  внутри функции присваивается значение, переданное при вызове функции. По этой причине создается новое имя `glob2`,  которое является локальным. Все изменения этой переменной внутри функции не затронут значение одноименной глобальной переменной. \n",
    "\n",
    "__Локальные переменные__ - это переменные, которым внутри функции присваивается значение.  Если имя локальной переменной совпадает с  именем глобальной переменной, то все операции внутри функции осуществляются с локальной переменной, а значение глобальной переменной не изменяется.  Локальные персменные видны только внутри тела функции."
   ]
  },
  {
   "cell_type": "code",
   "execution_count": 95,
   "metadata": {},
   "outputs": [
    {
     "name": "stdout",
     "output_type": "stream",
     "text": [
      "Значение glob внутри функции:  25\n",
      "Значение glob вне  функции:  10\n",
      "Переменная lос не видна вне функции\n"
     ]
    }
   ],
   "source": [
    "def func():\n",
    "    loc = 77 # Локальная  переменная \n",
    "    glob = 25 # Локальная  переменная \n",
    "    print('Значение glob внутри функции: ', glob)\n",
    "\n",
    "glob = 10 #  Глобальная  переменная \n",
    "func() # Вызываем функцию \n",
    "\n",
    "print(\"Значение glob вне  функции: \", glob) \n",
    "try: \n",
    "    print(loc)  #  Вызовет исключение NameError \n",
    "except NameError:  #  Обрабатываем исключение \n",
    "    print(\"Переменная lос не видна вне функции\") "
   ]
  },
  {
   "cell_type": "markdown",
   "metadata": {},
   "source": [
    "Как видно из примера, переменная `loc`, объявленная внутри функции `func()`, недоступна вне функции. Объявление внутри функции локальной переменной `glob` не изменило значения одноименной глобальной переменной. Если обращение к переменной производится до присваивания значения (даже если существует одноименная глобальная переменная), то будет возбуждено исключение `UnboundLocalError`."
   ]
  },
  {
   "cell_type": "markdown",
   "metadata": {},
   "source": [
    "Для того чтобыI  значение глобальной переменной можно было  изменить внутри функции, необходимо объявить переменную глобальной с  помощью ключевого слова `global`."
   ]
  },
  {
   "cell_type": "code",
   "execution_count": 96,
   "metadata": {},
   "outputs": [
    {
     "name": "stdout",
     "output_type": "stream",
     "text": [
      "Значение glob внутри функции:  25\n",
      "Значение glob вне  функции:  25\n"
     ]
    }
   ],
   "source": [
    "def func():\n",
    "    global glob\n",
    "    loc = 77 #  Локальная  переменная \n",
    "    glob = 25 #  Локальная  переменная \n",
    "    print('Значение glob внутри функции: ', glob)\n",
    "\n",
    "glob = 10 #  Глобальная  переменная \n",
    "func() # Вызываем функцию \n",
    "print(\"Значение glob вне  функции: \", glob) "
   ]
  },
  {
   "cell_type": "markdown",
   "metadata": {},
   "source": [
    "Поиск  идентификатора, используемого внутри функции, производится в следующем порядке: \n",
    "1.  Поиск объявления идентификатора внутри функции (в локальной области видимости). \n",
    "2.  Поиск объявления идентификатора в глобальной области. \n",
    "3.  Поиск во встроенной области видимости (встроенне функции, классы и т. д.). "
   ]
  },
  {
   "cell_type": "markdown",
   "metadata": {},
   "source": [
    "Получить все идентификаторы и их значения nозволяют следующие функции: \n",
    "* `globals()` - возвращает словарь с  глобальными идентификаторами; \n",
    "* `locals()` - возвращает словарь с локальными идентификаторами;\n",
    "* `vars( [<Объект>] )` - если  вызывается  без  параметра  внутри  функции,  то  возвращает словарь с локальными идентификаторами. Если вызывается без параметра вне функции, то возвращает словарь с  глобальными идентификаторами. При указании объекта в  качестве  параметра  возвращает  идентификаторы  этого  объекта  (эквивалентно  вызову \n",
    "`<Объект>.__dict__` )"
   ]
  },
  {
   "cell_type": "code",
   "execution_count": 97,
   "metadata": {},
   "outputs": [
    {
     "data": {
      "text/plain": [
       "{'__name__': '__main__',\n",
       " '__doc__': 'Automatically created module for IPython interactive environment',\n",
       " '__package__': None,\n",
       " '__loader__': None,\n",
       " '__spec__': None,\n",
       " '__builtin__': <module 'builtins' (built-in)>,\n",
       " '__builtins__': <module 'builtins' (built-in)>,\n",
       " '_ih': ['',\n",
       "  \"def func(): \\n    'test'\\n    pass \",\n",
       "  'def func(): \\n    pass ',\n",
       "  'def  func(): \\n    print (\"Текст  до  инструкции  return\") \\n    return  \"Возвращаемое  значение\" \\n    print (\"Эта  инструкция  никогда  не  будет  вьmолнена\") ',\n",
       "  'print(func())  # вызываем функцию ',\n",
       "  'def print_ok(): \\n    \"\"\"  Пример  функции  без  nараметров  \"\"\" \\n    print(\"Сообщение  при  удачно вьmолненной  операции\") \\n    \\ndef echo(m): \\n    \"\"\"  Пример  функции  с  параметром \"\"\" \\n    print(m) \\n    \\ndef summa(x, у): \\n    \"\"\"  Пример функции с параметрами, \\n    возвращающей  сумму двух  переменных\"\"\"\\n    return x + у\\n\\ndef pow2(x, у): \\n    \"\"\"  Пример функции с параметрами, \\n    возвращающей  сумму двух  переменных\"\"\"\\n    return x ** у',\n",
       "  'print_ok()',\n",
       "  'echo(\"Сообщение\")',\n",
       "  \"get_ipython().run_line_magic('pinfo', 'echo')\",\n",
       "  'help(echo)',\n",
       "  'echo.__doc__',\n",
       "  'x = summa(5, 2)\\nx',\n",
       "  'y, x = 10, 40\\nz = summa(y, x)\\nz',\n",
       "  \"summa('str', 'ing')\",\n",
       "  'summa([1, 3], [5, 7])',\n",
       "  \"# в Python нет ограничений на тип значений передваемых в функцию:\\nsumma('str', 'ing')\",\n",
       "  'f = summa\\nv = f(10, 20)\\nv',\n",
       "  'type(summa)',\n",
       "  'type(f)',\n",
       "  '# функции в Python можно передавать в качестве аргументов других функций:\\ndef  func(fp,  а,  b): \\n    \"\"\" Через переменную f будет доступна ссьmка на \\n    функцию summa() \"\"\"\\n    return fp(а, b)  #  Вызываем функцию summa()',\n",
       "  'func(summa, 10, 20)',\n",
       "  'func(f, 10, 20)',\n",
       "  'def razn(a, b):\\n    return a - b',\n",
       "  'func(razn, 10, 20)',\n",
       "  'summa.__name__',\n",
       "  'summa.__doc__',\n",
       "  \"# неверно!\\nf2()\\n\\ndef f2():\\n    print('Функция f2!')\",\n",
       "  \"for i in range(5)\\n    if i > 3:\\n        f2()\\n    def f2():\\n        print('Функция f2!')\",\n",
       "  \"for i in range(5):\\n    if i > 3:\\n        f2()\\n    def f2():\\n        print('Функция f2!')\",\n",
       "  \"for i in range(5):\\n    if i > 2:\\n        f2()\\n    def f2():\\n        print('Функция f2!')\",\n",
       "  \"for i in range(5):\\n    if i > 2:\\n        f2()\\n    def f2():\\n        print('Функция f2!')\\n# работет т.к. определение функции было выполнено ранее чем вызов        \",\n",
       "  '# Оnределение функции в зависимости от условия\\nn = input(\"Введите 1 дпя  вызова первой функции:\") \\nn = n.rstrip(\"\\\\r\")\\nif n == \"1\": \\n    def echo(): \\n        print(\"Вызов первой функции\") \\nelse: \\n    def  echo(): \\n        print (\"Апьтернативная функция\") \\necho() # Вызываем функцию ',\n",
       "  'def summa(x, y=2):\\n    return x + y',\n",
       "  'summa(5)',\n",
       "  'summa(5, 4)',\n",
       "  'def multi_summa(x=1, y=1, z=1):\\n    return x + 10* y + 100* z',\n",
       "  'multi_summa(1, 2, 3)',\n",
       "  'multi_summa(1, 2)',\n",
       "  'multi_summa(5)',\n",
       "  'multi_summa()',\n",
       "  'multi_summa(z=3)',\n",
       "  'def append_if_even(x, lst=[]): # ОШИБКА! \\n    if x % 2 == 0: \\n        lst.append(x) \\n    return lst ',\n",
       "  'append_if_even(2)',\n",
       "  'append_if_even(4)',\n",
       "  '# пример решения задачи без ошибки:\\ndef append_if_even(x, lst=None):\\n    if lst is None:\\n        lst = []\\n    if x % 2 == 0: \\n        lst.append(x) \\n    return lst ',\n",
       "  'append_if_even(2)',\n",
       "  'append_if_even(4)',\n",
       "  'def min_med_max(l):\\n    \"Возвращает минимальное, медианное и максимальное значение итерируемого объекта (списка)\"\\n    ls = sorted(l)\\n    l_min = ls[0]\\n    l_max = ls[-1]\\n    l_med = ls[len(ls)//2]\\n    return l_min, l_med, l_max',\n",
       "  'min_med_max([3, 1, 100, 11, 7])',\n",
       "  'min1, med1, max1 = min_med_max([3, 1, 100, 11, 7])',\n",
       "  'def min_med_max(l):\\n    \"Возвращает минимальное, медианное и максимальное значение итерируемого объекта (списка)\"\\n    ls = sorted(l)\\n    l_min = ls[0]\\n    l_max = ls[-1]\\n    l_med = ls[len(ls)//2]\\n    return l_min, l_med, l_max # удобный синтаксис для запаковки результатов в картеж',\n",
       "  'min_med_max([3, 1, 100, 11, 7])',\n",
       "  '# распаковка картежа, возвращаемого функцией\\nmin1, med1, max1 = min_med_max([3, 1, 100, 11, 7])',\n",
       "  \"print(f'min1: {min1}, med1: {med1}, max1: {max1}')\",\n",
       "  'all_res = min_med_max([3, 1, 100, 11, 7])\\nall_res',\n",
       "  't1 = (5, 10 ,15)\\nt2 = [25, 35, 45]\\nt3 = (5, 10 ,15, 20)',\n",
       "  '# неудобный способ передачи параметров:\\nmulti_summa(t1[0], t1[1], t1[2])',\n",
       "  'multi_summa(*t1)',\n",
       "  'multi_summa(*t2)',\n",
       "  '# распаковка:\\nmulti_summa(*t1)',\n",
       "  'multi_summa(*t2)',\n",
       "  '# Ошибка! количество передаваемых параметров \\n# должно равняться количеству объявленных в функции параметров:\\nmulti_summa(*t3)',\n",
       "  '# решение проблемы:\\nmulti_summa(*t3[:3])',\n",
       "  \"d1 = {'x': 11, 'y': 12, 'z': 13}\",\n",
       "  'multi_summa(**d1)',\n",
       "  \"t3 = [0, -1]\\nd2 = {'z': -2}\\n# сначала позиционные параметры, потом пары имя - значение:\\nmulti_summa(*t3, **d2)\",\n",
       "  '# распаковывание последовательности в списке параметров функции:\\ndef all_summa(*t): \\n    \"\"\"Функция принимает произвольное количество параметров\"\"\" \\n    res = 0\\n    for i in t: \\n        res += i \\n    return  res ',\n",
       "  'all_summa(10, 20, 30, 40, 50)',\n",
       "  't4 = [10, 20, 30, 40, 50, 60, 70]\\nall_summa(*t4)',\n",
       "  'def d_summa(**d): \\n    for k, v in d.items():  #  Перебираем словарь  с  переданными параметрами \\n        print(f\"{k} => {v}\", end=\" \") ',\n",
       "  'd_summa(a=1, x=10, z=-2)',\n",
       "  'def d_summa(**d): \\n    for k, v in d.items():  #  Перебираем словарь  с  переданными параметрами \\n        print(f\"{k} => {v}\", sep=\";\", end=\" \") ',\n",
       "  'd_summa(a=1, x=10, z=-2)',\n",
       "  'def d_summa(**d): \\n    for k, v in d.items():  #  Перебираем словарь  с  переданными параметрами \\n        print(f\"{k} => {v}\", end=\"; \") ',\n",
       "  'd_summa(a=1, x=10, z=-2)',\n",
       "  \"d3 = {'f': 3, 'g': 4, 'e': 5}\\nd_summa(**d3)\",\n",
       "  'def c_summa(*t, **d): \\n    for v in t: \\n        print(v, end=\" \") \\n    for k, v in d.items(): \\n        print(f\"{k} => {v}\", end=\"; \") ',\n",
       "  'c_summa(*t4, **d3)',\n",
       "  'def c_summa(*t, **d): \\n    for v in t: \\n        print(v, end=\"; \") \\n    for k, v in d.items(): \\n        print(f\"{k} => {v}\", end=\"; \") ',\n",
       "  'c_summa(*t4, **d3)',\n",
       "  'fl = lambda: 10 + 20  # функция без nараметров \\nf2  = lambda х, y:  х + y  # функция с двумя nараметрами \\nf3  = lambda х, y,  z: х + y + z  # функция с тремя nараметрами \\nprint(fl())\\nprint(f2(5, 10))\\nprint(f3(5, 10, 30))',\n",
       "  'fl = lambda: 10 + 20  # функция без nараметров \\nf2  = lambda х, y:  х + y  # функция с двумя nараметрами \\nf3  = lambda х, y, z: х + y + z  # функция с тремя nараметрами \\nprint(fl())\\nprint(f2(5, 10))\\nprint(f3(5, 10, 30))',\n",
       "  'arr  =  [\"единица1\",  \"Единый\",  \"Единица2\"] \\narr.sort() \\nprint(arr)\\narr.sort(key=lambda s: s.lower()) \\nprint(arr)',\n",
       "  'arr  =  [\"единица1\",  \"Единый\",  \"Единица2\"] \\narr.sort() \\nprint(arr)\\n# распространенный пример исползования лямбда функций:\\narr.sort(key=lambda s: s.lower()) \\nprint(arr)',\n",
       "  \"ls = ['дыня', 'вишня', 'арбуз', 'яблоко', 'абрикос']\",\n",
       "  'sorted(ls)',\n",
       "  'sorted(ls, key=lambda s:len(s))',\n",
       "  \"def change(a, b): \\n    а = 20\\n    b = 'str'\",\n",
       "  \"v1 = 30\\nv2 = 'val'\\nchange(v1, v2)\\nprint(f'v1: {v1}')\\nprint(f'v2: {v2}')\",\n",
       "  's1 = [1]\\n# изменяемый объект внутри функции:\\nchange2(s1)\\ns1',\n",
       "  'def change2(a): \\n    a.append(10)',\n",
       "  's1 = [1]\\n# изменяемый объект внутри функции:\\nchange2(s1)\\ns1',\n",
       "  's1 = [1]\\n# изменяемый объект можнет быть неявно изменены внутри функции:\\nchange2(s1)\\ns1',\n",
       "  'def func_glob(glob2): \\n    print(\"Значение  глобальной  nеременной  glоb = \",  glob) \\n    glob2 += 10 \\n    print(\"Значение  локальной  переменной  glob2 = \", glob2) \\n\\nglob, glob2 = 10, 5 \\nfunc_glob(77)  #  Вызываем функцию \\nprint(\"Значение  глобальной  переменной  glob2 = \", glob2)',\n",
       "  'def func():\\n    loc = 77 # Локальная  переменная \\n    glob = 25 # Локальная  переменная \\n    print(\\'Значение glob внутри функции: \\', glob)\\n\\nglob = 10 #  Глобальная  переменная \\nfunc() # Вызываем функцию \\nprint(\"Значение glob вне  функции: \", glob) \\ntry: \\n    print(loc)  #  Вызовет  исключение  NameError \\nexcept NameError:  #  Обрабатьrnаем исключение \\n    print(\"Переменная 1ос не видна вне функции\") ',\n",
       "  'def func():\\n    loc = 77 # Локальная  переменная \\n    glob = 25 # Локальная  переменная \\n    print(\\'Значение glob внутри функции: \\', glob)\\n\\nglob = 10 #  Глобальная  переменная \\nfunc() # Вызываем функцию \\n\\nprint(\"Значение glob вне  функции: \", glob) \\ntry: \\n    print(loc)  #  Вызовет  исключение  NameError \\nexcept NameError:  #  Обрабатьrnаем исключение \\n    print(\"Переменная lос не видна вне функции\") ',\n",
       "  'def func():\\n    global glob\\n    loc = 77 #  Локальная  переменная \\n    glob = 25 #  Локальная  переменная \\n    print(\\'Значение glob внутри функции: \\', glob)\\n\\nglob = 10 #  Глобальная  переменная \\nfunc() # Вызываем функцию \\nprint(\"Значение glob вне  функции: \", glob) ',\n",
       "  'globals()'],\n",
       " '_oh': {10: '  Пример  функции  с  параметром ',\n",
       "  11: 7,\n",
       "  12: 50,\n",
       "  13: 'string',\n",
       "  14: [1, 3, 5, 7],\n",
       "  15: 'string',\n",
       "  16: 30,\n",
       "  17: function,\n",
       "  18: function,\n",
       "  20: 30,\n",
       "  21: 30,\n",
       "  23: -10,\n",
       "  24: 'summa',\n",
       "  25: '  Пример функции с параметрами, \\n    возвращающей  сумму двух  переменных',\n",
       "  33: 7,\n",
       "  34: 9,\n",
       "  36: 321,\n",
       "  37: 121,\n",
       "  38: 115,\n",
       "  39: 111,\n",
       "  40: 311,\n",
       "  42: [2, 4],\n",
       "  43: [2, 4],\n",
       "  45: [2],\n",
       "  46: [4],\n",
       "  48: (1, 7, 100),\n",
       "  51: (1, 7, 100),\n",
       "  54: (1, 7, 100),\n",
       "  56: 1605,\n",
       "  57: 1605,\n",
       "  58: 4875,\n",
       "  59: 1605,\n",
       "  60: 4875,\n",
       "  62: 1605,\n",
       "  64: 1431,\n",
       "  65: -210,\n",
       "  67: 150,\n",
       "  68: 280,\n",
       "  85: ['абрикос', 'арбуз', 'вишня', 'дыня', 'яблоко'],\n",
       "  86: ['дыня', 'вишня', 'арбуз', 'яблоко', 'абрикос'],\n",
       "  91: [1, 10],\n",
       "  92: [1, 10]},\n",
       " '_dh': ['E:\\\\YandexDisk\\\\Python\\\\Ipynb\\\\fa1_2019\\\\Лекции\\\\lec04'],\n",
       " 'In': ['',\n",
       "  \"def func(): \\n    'test'\\n    pass \",\n",
       "  'def func(): \\n    pass ',\n",
       "  'def  func(): \\n    print (\"Текст  до  инструкции  return\") \\n    return  \"Возвращаемое  значение\" \\n    print (\"Эта  инструкция  никогда  не  будет  вьmолнена\") ',\n",
       "  'print(func())  # вызываем функцию ',\n",
       "  'def print_ok(): \\n    \"\"\"  Пример  функции  без  nараметров  \"\"\" \\n    print(\"Сообщение  при  удачно вьmолненной  операции\") \\n    \\ndef echo(m): \\n    \"\"\"  Пример  функции  с  параметром \"\"\" \\n    print(m) \\n    \\ndef summa(x, у): \\n    \"\"\"  Пример функции с параметрами, \\n    возвращающей  сумму двух  переменных\"\"\"\\n    return x + у\\n\\ndef pow2(x, у): \\n    \"\"\"  Пример функции с параметрами, \\n    возвращающей  сумму двух  переменных\"\"\"\\n    return x ** у',\n",
       "  'print_ok()',\n",
       "  'echo(\"Сообщение\")',\n",
       "  \"get_ipython().run_line_magic('pinfo', 'echo')\",\n",
       "  'help(echo)',\n",
       "  'echo.__doc__',\n",
       "  'x = summa(5, 2)\\nx',\n",
       "  'y, x = 10, 40\\nz = summa(y, x)\\nz',\n",
       "  \"summa('str', 'ing')\",\n",
       "  'summa([1, 3], [5, 7])',\n",
       "  \"# в Python нет ограничений на тип значений передваемых в функцию:\\nsumma('str', 'ing')\",\n",
       "  'f = summa\\nv = f(10, 20)\\nv',\n",
       "  'type(summa)',\n",
       "  'type(f)',\n",
       "  '# функции в Python можно передавать в качестве аргументов других функций:\\ndef  func(fp,  а,  b): \\n    \"\"\" Через переменную f будет доступна ссьmка на \\n    функцию summa() \"\"\"\\n    return fp(а, b)  #  Вызываем функцию summa()',\n",
       "  'func(summa, 10, 20)',\n",
       "  'func(f, 10, 20)',\n",
       "  'def razn(a, b):\\n    return a - b',\n",
       "  'func(razn, 10, 20)',\n",
       "  'summa.__name__',\n",
       "  'summa.__doc__',\n",
       "  \"# неверно!\\nf2()\\n\\ndef f2():\\n    print('Функция f2!')\",\n",
       "  \"for i in range(5)\\n    if i > 3:\\n        f2()\\n    def f2():\\n        print('Функция f2!')\",\n",
       "  \"for i in range(5):\\n    if i > 3:\\n        f2()\\n    def f2():\\n        print('Функция f2!')\",\n",
       "  \"for i in range(5):\\n    if i > 2:\\n        f2()\\n    def f2():\\n        print('Функция f2!')\",\n",
       "  \"for i in range(5):\\n    if i > 2:\\n        f2()\\n    def f2():\\n        print('Функция f2!')\\n# работет т.к. определение функции было выполнено ранее чем вызов        \",\n",
       "  '# Оnределение функции в зависимости от условия\\nn = input(\"Введите 1 дпя  вызова первой функции:\") \\nn = n.rstrip(\"\\\\r\")\\nif n == \"1\": \\n    def echo(): \\n        print(\"Вызов первой функции\") \\nelse: \\n    def  echo(): \\n        print (\"Апьтернативная функция\") \\necho() # Вызываем функцию ',\n",
       "  'def summa(x, y=2):\\n    return x + y',\n",
       "  'summa(5)',\n",
       "  'summa(5, 4)',\n",
       "  'def multi_summa(x=1, y=1, z=1):\\n    return x + 10* y + 100* z',\n",
       "  'multi_summa(1, 2, 3)',\n",
       "  'multi_summa(1, 2)',\n",
       "  'multi_summa(5)',\n",
       "  'multi_summa()',\n",
       "  'multi_summa(z=3)',\n",
       "  'def append_if_even(x, lst=[]): # ОШИБКА! \\n    if x % 2 == 0: \\n        lst.append(x) \\n    return lst ',\n",
       "  'append_if_even(2)',\n",
       "  'append_if_even(4)',\n",
       "  '# пример решения задачи без ошибки:\\ndef append_if_even(x, lst=None):\\n    if lst is None:\\n        lst = []\\n    if x % 2 == 0: \\n        lst.append(x) \\n    return lst ',\n",
       "  'append_if_even(2)',\n",
       "  'append_if_even(4)',\n",
       "  'def min_med_max(l):\\n    \"Возвращает минимальное, медианное и максимальное значение итерируемого объекта (списка)\"\\n    ls = sorted(l)\\n    l_min = ls[0]\\n    l_max = ls[-1]\\n    l_med = ls[len(ls)//2]\\n    return l_min, l_med, l_max',\n",
       "  'min_med_max([3, 1, 100, 11, 7])',\n",
       "  'min1, med1, max1 = min_med_max([3, 1, 100, 11, 7])',\n",
       "  'def min_med_max(l):\\n    \"Возвращает минимальное, медианное и максимальное значение итерируемого объекта (списка)\"\\n    ls = sorted(l)\\n    l_min = ls[0]\\n    l_max = ls[-1]\\n    l_med = ls[len(ls)//2]\\n    return l_min, l_med, l_max # удобный синтаксис для запаковки результатов в картеж',\n",
       "  'min_med_max([3, 1, 100, 11, 7])',\n",
       "  '# распаковка картежа, возвращаемого функцией\\nmin1, med1, max1 = min_med_max([3, 1, 100, 11, 7])',\n",
       "  \"print(f'min1: {min1}, med1: {med1}, max1: {max1}')\",\n",
       "  'all_res = min_med_max([3, 1, 100, 11, 7])\\nall_res',\n",
       "  't1 = (5, 10 ,15)\\nt2 = [25, 35, 45]\\nt3 = (5, 10 ,15, 20)',\n",
       "  '# неудобный способ передачи параметров:\\nmulti_summa(t1[0], t1[1], t1[2])',\n",
       "  'multi_summa(*t1)',\n",
       "  'multi_summa(*t2)',\n",
       "  '# распаковка:\\nmulti_summa(*t1)',\n",
       "  'multi_summa(*t2)',\n",
       "  '# Ошибка! количество передаваемых параметров \\n# должно равняться количеству объявленных в функции параметров:\\nmulti_summa(*t3)',\n",
       "  '# решение проблемы:\\nmulti_summa(*t3[:3])',\n",
       "  \"d1 = {'x': 11, 'y': 12, 'z': 13}\",\n",
       "  'multi_summa(**d1)',\n",
       "  \"t3 = [0, -1]\\nd2 = {'z': -2}\\n# сначала позиционные параметры, потом пары имя - значение:\\nmulti_summa(*t3, **d2)\",\n",
       "  '# распаковывание последовательности в списке параметров функции:\\ndef all_summa(*t): \\n    \"\"\"Функция принимает произвольное количество параметров\"\"\" \\n    res = 0\\n    for i in t: \\n        res += i \\n    return  res ',\n",
       "  'all_summa(10, 20, 30, 40, 50)',\n",
       "  't4 = [10, 20, 30, 40, 50, 60, 70]\\nall_summa(*t4)',\n",
       "  'def d_summa(**d): \\n    for k, v in d.items():  #  Перебираем словарь  с  переданными параметрами \\n        print(f\"{k} => {v}\", end=\" \") ',\n",
       "  'd_summa(a=1, x=10, z=-2)',\n",
       "  'def d_summa(**d): \\n    for k, v in d.items():  #  Перебираем словарь  с  переданными параметрами \\n        print(f\"{k} => {v}\", sep=\";\", end=\" \") ',\n",
       "  'd_summa(a=1, x=10, z=-2)',\n",
       "  'def d_summa(**d): \\n    for k, v in d.items():  #  Перебираем словарь  с  переданными параметрами \\n        print(f\"{k} => {v}\", end=\"; \") ',\n",
       "  'd_summa(a=1, x=10, z=-2)',\n",
       "  \"d3 = {'f': 3, 'g': 4, 'e': 5}\\nd_summa(**d3)\",\n",
       "  'def c_summa(*t, **d): \\n    for v in t: \\n        print(v, end=\" \") \\n    for k, v in d.items(): \\n        print(f\"{k} => {v}\", end=\"; \") ',\n",
       "  'c_summa(*t4, **d3)',\n",
       "  'def c_summa(*t, **d): \\n    for v in t: \\n        print(v, end=\"; \") \\n    for k, v in d.items(): \\n        print(f\"{k} => {v}\", end=\"; \") ',\n",
       "  'c_summa(*t4, **d3)',\n",
       "  'fl = lambda: 10 + 20  # функция без nараметров \\nf2  = lambda х, y:  х + y  # функция с двумя nараметрами \\nf3  = lambda х, y,  z: х + y + z  # функция с тремя nараметрами \\nprint(fl())\\nprint(f2(5, 10))\\nprint(f3(5, 10, 30))',\n",
       "  'fl = lambda: 10 + 20  # функция без nараметров \\nf2  = lambda х, y:  х + y  # функция с двумя nараметрами \\nf3  = lambda х, y, z: х + y + z  # функция с тремя nараметрами \\nprint(fl())\\nprint(f2(5, 10))\\nprint(f3(5, 10, 30))',\n",
       "  'arr  =  [\"единица1\",  \"Единый\",  \"Единица2\"] \\narr.sort() \\nprint(arr)\\narr.sort(key=lambda s: s.lower()) \\nprint(arr)',\n",
       "  'arr  =  [\"единица1\",  \"Единый\",  \"Единица2\"] \\narr.sort() \\nprint(arr)\\n# распространенный пример исползования лямбда функций:\\narr.sort(key=lambda s: s.lower()) \\nprint(arr)',\n",
       "  \"ls = ['дыня', 'вишня', 'арбуз', 'яблоко', 'абрикос']\",\n",
       "  'sorted(ls)',\n",
       "  'sorted(ls, key=lambda s:len(s))',\n",
       "  \"def change(a, b): \\n    а = 20\\n    b = 'str'\",\n",
       "  \"v1 = 30\\nv2 = 'val'\\nchange(v1, v2)\\nprint(f'v1: {v1}')\\nprint(f'v2: {v2}')\",\n",
       "  's1 = [1]\\n# изменяемый объект внутри функции:\\nchange2(s1)\\ns1',\n",
       "  'def change2(a): \\n    a.append(10)',\n",
       "  's1 = [1]\\n# изменяемый объект внутри функции:\\nchange2(s1)\\ns1',\n",
       "  's1 = [1]\\n# изменяемый объект можнет быть неявно изменены внутри функции:\\nchange2(s1)\\ns1',\n",
       "  'def func_glob(glob2): \\n    print(\"Значение  глобальной  nеременной  glоb = \",  glob) \\n    glob2 += 10 \\n    print(\"Значение  локальной  переменной  glob2 = \", glob2) \\n\\nglob, glob2 = 10, 5 \\nfunc_glob(77)  #  Вызываем функцию \\nprint(\"Значение  глобальной  переменной  glob2 = \", glob2)',\n",
       "  'def func():\\n    loc = 77 # Локальная  переменная \\n    glob = 25 # Локальная  переменная \\n    print(\\'Значение glob внутри функции: \\', glob)\\n\\nglob = 10 #  Глобальная  переменная \\nfunc() # Вызываем функцию \\nprint(\"Значение glob вне  функции: \", glob) \\ntry: \\n    print(loc)  #  Вызовет  исключение  NameError \\nexcept NameError:  #  Обрабатьrnаем исключение \\n    print(\"Переменная 1ос не видна вне функции\") ',\n",
       "  'def func():\\n    loc = 77 # Локальная  переменная \\n    glob = 25 # Локальная  переменная \\n    print(\\'Значение glob внутри функции: \\', glob)\\n\\nglob = 10 #  Глобальная  переменная \\nfunc() # Вызываем функцию \\n\\nprint(\"Значение glob вне  функции: \", glob) \\ntry: \\n    print(loc)  #  Вызовет  исключение  NameError \\nexcept NameError:  #  Обрабатьrnаем исключение \\n    print(\"Переменная lос не видна вне функции\") ',\n",
       "  'def func():\\n    global glob\\n    loc = 77 #  Локальная  переменная \\n    glob = 25 #  Локальная  переменная \\n    print(\\'Значение glob внутри функции: \\', glob)\\n\\nglob = 10 #  Глобальная  переменная \\nfunc() # Вызываем функцию \\nprint(\"Значение glob вне  функции: \", glob) ',\n",
       "  'globals()'],\n",
       " 'Out': {10: '  Пример  функции  с  параметром ',\n",
       "  11: 7,\n",
       "  12: 50,\n",
       "  13: 'string',\n",
       "  14: [1, 3, 5, 7],\n",
       "  15: 'string',\n",
       "  16: 30,\n",
       "  17: function,\n",
       "  18: function,\n",
       "  20: 30,\n",
       "  21: 30,\n",
       "  23: -10,\n",
       "  24: 'summa',\n",
       "  25: '  Пример функции с параметрами, \\n    возвращающей  сумму двух  переменных',\n",
       "  33: 7,\n",
       "  34: 9,\n",
       "  36: 321,\n",
       "  37: 121,\n",
       "  38: 115,\n",
       "  39: 111,\n",
       "  40: 311,\n",
       "  42: [2, 4],\n",
       "  43: [2, 4],\n",
       "  45: [2],\n",
       "  46: [4],\n",
       "  48: (1, 7, 100),\n",
       "  51: (1, 7, 100),\n",
       "  54: (1, 7, 100),\n",
       "  56: 1605,\n",
       "  57: 1605,\n",
       "  58: 4875,\n",
       "  59: 1605,\n",
       "  60: 4875,\n",
       "  62: 1605,\n",
       "  64: 1431,\n",
       "  65: -210,\n",
       "  67: 150,\n",
       "  68: 280,\n",
       "  85: ['абрикос', 'арбуз', 'вишня', 'дыня', 'яблоко'],\n",
       "  86: ['дыня', 'вишня', 'арбуз', 'яблоко', 'абрикос'],\n",
       "  91: [1, 10],\n",
       "  92: [1, 10]},\n",
       " 'get_ipython': <bound method InteractiveShell.get_ipython of <ipykernel.zmqshell.ZMQInteractiveShell object at 0x00000288BBF016D8>>,\n",
       " 'exit': <IPython.core.autocall.ZMQExitAutocall at 0x288bbf62940>,\n",
       " 'quit': <IPython.core.autocall.ZMQExitAutocall at 0x288bbf62940>,\n",
       " '_': [1, 10],\n",
       " '__': [1, 10],\n",
       " '___': ['дыня', 'вишня', 'арбуз', 'яблоко', 'абрикос'],\n",
       " '_i': 'def func():\\n    global glob\\n    loc = 77 #  Локальная  переменная \\n    glob = 25 #  Локальная  переменная \\n    print(\\'Значение glob внутри функции: \\', glob)\\n\\nglob = 10 #  Глобальная  переменная \\nfunc() # Вызываем функцию \\nprint(\"Значение glob вне  функции: \", glob) ',\n",
       " '_ii': 'def func():\\n    loc = 77 # Локальная  переменная \\n    glob = 25 # Локальная  переменная \\n    print(\\'Значение glob внутри функции: \\', glob)\\n\\nglob = 10 #  Глобальная  переменная \\nfunc() # Вызываем функцию \\n\\nprint(\"Значение glob вне  функции: \", glob) \\ntry: \\n    print(loc)  #  Вызовет  исключение  NameError \\nexcept NameError:  #  Обрабатьrnаем исключение \\n    print(\"Переменная lос не видна вне функции\") ',\n",
       " '_iii': 'def func():\\n    loc = 77 # Локальная  переменная \\n    glob = 25 # Локальная  переменная \\n    print(\\'Значение glob внутри функции: \\', glob)\\n\\nglob = 10 #  Глобальная  переменная \\nfunc() # Вызываем функцию \\nprint(\"Значение glob вне  функции: \", glob) \\ntry: \\n    print(loc)  #  Вызовет  исключение  NameError \\nexcept NameError:  #  Обрабатьrnаем исключение \\n    print(\"Переменная 1ос не видна вне функции\") ',\n",
       " '_i1': \"def func(): \\n    'test'\\n    pass \",\n",
       " 'func': <function __main__.func()>,\n",
       " '_i2': 'def func(): \\n    pass ',\n",
       " '_i3': 'def  func(): \\n    print (\"Текст  до  инструкции  return\") \\n    return  \"Возвращаемое  значение\" \\n    print (\"Эта  инструкция  никогда  не  будет  вьmолнена\") ',\n",
       " '_i4': 'print(func())  # вызываем функцию ',\n",
       " '_i5': 'def print_ok(): \\n    \"\"\"  Пример  функции  без  nараметров  \"\"\" \\n    print(\"Сообщение  при  удачно вьmолненной  операции\") \\n    \\ndef echo(m): \\n    \"\"\"  Пример  функции  с  параметром \"\"\" \\n    print(m) \\n    \\ndef summa(x, у): \\n    \"\"\"  Пример функции с параметрами, \\n    возвращающей  сумму двух  переменных\"\"\"\\n    return x + у\\n\\ndef pow2(x, у): \\n    \"\"\"  Пример функции с параметрами, \\n    возвращающей  сумму двух  переменных\"\"\"\\n    return x ** у',\n",
       " 'print_ok': <function __main__.print_ok()>,\n",
       " 'echo': <function __main__.echo()>,\n",
       " 'summa': <function __main__.summa(x, y=2)>,\n",
       " 'pow2': <function __main__.pow2(x, у)>,\n",
       " '_i6': 'print_ok()',\n",
       " '_i7': 'echo(\"Сообщение\")',\n",
       " '_i8': '?echo',\n",
       " '_i9': 'help(echo)',\n",
       " '_i10': 'echo.__doc__',\n",
       " '_10': '  Пример  функции  с  параметром ',\n",
       " '_i11': 'x = summa(5, 2)\\nx',\n",
       " 'x': 40,\n",
       " '_11': 7,\n",
       " '_i12': 'y, x = 10, 40\\nz = summa(y, x)\\nz',\n",
       " 'y': 10,\n",
       " 'z': 50,\n",
       " '_12': 50,\n",
       " '_i13': \"summa('str', 'ing')\",\n",
       " '_13': 'string',\n",
       " '_i14': 'summa([1, 3], [5, 7])',\n",
       " '_14': [1, 3, 5, 7],\n",
       " '_i15': \"# в Python нет ограничений на тип значений передваемых в функцию:\\nsumma('str', 'ing')\",\n",
       " '_15': 'string',\n",
       " '_i16': 'f = summa\\nv = f(10, 20)\\nv',\n",
       " 'f': <function __main__.summa(x, у)>,\n",
       " 'v': 30,\n",
       " '_16': 30,\n",
       " '_i17': 'type(summa)',\n",
       " '_17': function,\n",
       " '_i18': 'type(f)',\n",
       " '_18': function,\n",
       " '_i19': '# функции в Python можно передавать в качестве аргументов других функций:\\ndef  func(fp,  а,  b): \\n    \"\"\" Через переменную f будет доступна ссьmка на \\n    функцию summa() \"\"\"\\n    return fp(а, b)  #  Вызываем функцию summa()',\n",
       " '_i20': 'func(summa, 10, 20)',\n",
       " '_20': 30,\n",
       " '_i21': 'func(f, 10, 20)',\n",
       " '_21': 30,\n",
       " '_i22': 'def razn(a, b):\\n    return a - b',\n",
       " 'razn': <function __main__.razn(a, b)>,\n",
       " '_i23': 'func(razn, 10, 20)',\n",
       " '_23': -10,\n",
       " '_i24': 'summa.__name__',\n",
       " '_24': 'summa',\n",
       " '_i25': 'summa.__doc__',\n",
       " '_25': '  Пример функции с параметрами, \\n    возвращающей  сумму двух  переменных',\n",
       " '_i26': \"# неверно!\\nf2()\\n\\ndef f2():\\n    print('Функция f2!')\",\n",
       " '_i27': \"for i in range(5)\\n    if i > 3:\\n        f2()\\n    def f2():\\n        print('Функция f2!')\",\n",
       " '_i28': \"for i in range(5):\\n    if i > 3:\\n        f2()\\n    def f2():\\n        print('Функция f2!')\",\n",
       " 'i': 4,\n",
       " 'f2': <function __main__.<lambda>(х, y)>,\n",
       " '_i29': \"for i in range(5):\\n    if i > 2:\\n        f2()\\n    def f2():\\n        print('Функция f2!')\",\n",
       " '_i30': \"for i in range(5):\\n    if i > 2:\\n        f2()\\n    def f2():\\n        print('Функция f2!')\\n# работет т.к. определение функции было выполнено ранее чем вызов        \",\n",
       " '_i31': '# Оnределение функции в зависимости от условия\\nn = input(\"Введите 1 дпя  вызова первой функции:\") \\nn = n.rstrip(\"\\\\r\")\\nif n == \"1\": \\n    def echo(): \\n        print(\"Вызов первой функции\") \\nelse: \\n    def  echo(): \\n        print (\"Апьтернативная функция\") \\necho() # Вызываем функцию ',\n",
       " 'n': '1',\n",
       " '_i32': 'def summa(x, y=2):\\n    return x + y',\n",
       " '_i33': 'summa(5)',\n",
       " '_33': 7,\n",
       " '_i34': 'summa(5, 4)',\n",
       " '_34': 9,\n",
       " '_i35': 'def multi_summa(x=1, y=1, z=1):\\n    return x + 10* y + 100* z',\n",
       " 'multi_summa': <function __main__.multi_summa(x=1, y=1, z=1)>,\n",
       " '_i36': 'multi_summa(1, 2, 3)',\n",
       " '_36': 321,\n",
       " '_i37': 'multi_summa(1, 2)',\n",
       " '_37': 121,\n",
       " '_i38': 'multi_summa(5)',\n",
       " '_38': 115,\n",
       " '_i39': 'multi_summa()',\n",
       " '_39': 111,\n",
       " '_i40': 'multi_summa(z=3)',\n",
       " '_40': 311,\n",
       " '_i41': 'def append_if_even(x, lst=[]): # ОШИБКА! \\n    if x % 2 == 0: \\n        lst.append(x) \\n    return lst ',\n",
       " 'append_if_even': <function __main__.append_if_even(x, lst=None)>,\n",
       " '_i42': 'append_if_even(2)',\n",
       " '_42': [2, 4],\n",
       " '_i43': 'append_if_even(4)',\n",
       " '_43': [2, 4],\n",
       " '_i44': '# пример решения задачи без ошибки:\\ndef append_if_even(x, lst=None):\\n    if lst is None:\\n        lst = []\\n    if x % 2 == 0: \\n        lst.append(x) \\n    return lst ',\n",
       " '_i45': 'append_if_even(2)',\n",
       " '_45': [2],\n",
       " '_i46': 'append_if_even(4)',\n",
       " '_46': [4],\n",
       " '_i47': 'def min_med_max(l):\\n    \"Возвращает минимальное, медианное и максимальное значение итерируемого объекта (списка)\"\\n    ls = sorted(l)\\n    l_min = ls[0]\\n    l_max = ls[-1]\\n    l_med = ls[len(ls)//2]\\n    return l_min, l_med, l_max',\n",
       " 'min_med_max': <function __main__.min_med_max(l)>,\n",
       " '_i48': 'min_med_max([3, 1, 100, 11, 7])',\n",
       " '_48': (1, 7, 100),\n",
       " '_i49': 'min1, med1, max1 = min_med_max([3, 1, 100, 11, 7])',\n",
       " 'min1': 1,\n",
       " 'med1': 7,\n",
       " 'max1': 100,\n",
       " '_i50': 'def min_med_max(l):\\n    \"Возвращает минимальное, медианное и максимальное значение итерируемого объекта (списка)\"\\n    ls = sorted(l)\\n    l_min = ls[0]\\n    l_max = ls[-1]\\n    l_med = ls[len(ls)//2]\\n    return l_min, l_med, l_max # удобный синтаксис для запаковки результатов в картеж',\n",
       " '_i51': 'min_med_max([3, 1, 100, 11, 7])',\n",
       " '_51': (1, 7, 100),\n",
       " '_i52': '# распаковка картежа, возвращаемого функцией\\nmin1, med1, max1 = min_med_max([3, 1, 100, 11, 7])',\n",
       " '_i53': \"print(f'min1: {min1}, med1: {med1}, max1: {max1}')\",\n",
       " '_i54': 'all_res = min_med_max([3, 1, 100, 11, 7])\\nall_res',\n",
       " 'all_res': (1, 7, 100),\n",
       " '_54': (1, 7, 100),\n",
       " '_i55': 't1 = (5, 10 ,15)\\nt2 = [25, 35, 45]\\nt3 = (5, 10 ,15, 20)',\n",
       " 't1': (5, 10, 15),\n",
       " 't2': [25, 35, 45],\n",
       " 't3': [0, -1],\n",
       " '_i56': '# неудобный способ передачи параметров:\\nmulti_summa(t1[0], t1[1], t1[2])',\n",
       " '_56': 1605,\n",
       " '_i57': 'multi_summa(*t1)',\n",
       " '_57': 1605,\n",
       " '_i58': 'multi_summa(*t2)',\n",
       " '_58': 4875,\n",
       " '_i59': '# распаковка:\\nmulti_summa(*t1)',\n",
       " '_59': 1605,\n",
       " '_i60': 'multi_summa(*t2)',\n",
       " '_60': 4875,\n",
       " '_i61': '# Ошибка! количество передаваемых параметров \\n# должно равняться количеству объявленных в функции параметров:\\nmulti_summa(*t3)',\n",
       " '_i62': '# решение проблемы:\\nmulti_summa(*t3[:3])',\n",
       " '_62': 1605,\n",
       " '_i63': \"d1 = {'x': 11, 'y': 12, 'z': 13}\",\n",
       " 'd1': {'x': 11, 'y': 12, 'z': 13},\n",
       " '_i64': 'multi_summa(**d1)',\n",
       " '_64': 1431,\n",
       " '_i65': \"t3 = [0, -1]\\nd2 = {'z': -2}\\n# сначала позиционные параметры, потом пары имя - значение:\\nmulti_summa(*t3, **d2)\",\n",
       " 'd2': {'z': -2},\n",
       " '_65': -210,\n",
       " '_i66': '# распаковывание последовательности в списке параметров функции:\\ndef all_summa(*t): \\n    \"\"\"Функция принимает произвольное количество параметров\"\"\" \\n    res = 0\\n    for i in t: \\n        res += i \\n    return  res ',\n",
       " 'all_summa': <function __main__.all_summa(*t)>,\n",
       " '_i67': 'all_summa(10, 20, 30, 40, 50)',\n",
       " '_67': 150,\n",
       " '_i68': 't4 = [10, 20, 30, 40, 50, 60, 70]\\nall_summa(*t4)',\n",
       " 't4': [10, 20, 30, 40, 50, 60, 70],\n",
       " '_68': 280,\n",
       " '_i69': 'def d_summa(**d): \\n    for k, v in d.items():  #  Перебираем словарь  с  переданными параметрами \\n        print(f\"{k} => {v}\", end=\" \") ',\n",
       " 'd_summa': <function __main__.d_summa(**d)>,\n",
       " '_i70': 'd_summa(a=1, x=10, z=-2)',\n",
       " '_i71': 'def d_summa(**d): \\n    for k, v in d.items():  #  Перебираем словарь  с  переданными параметрами \\n        print(f\"{k} => {v}\", sep=\";\", end=\" \") ',\n",
       " '_i72': 'd_summa(a=1, x=10, z=-2)',\n",
       " '_i73': 'def d_summa(**d): \\n    for k, v in d.items():  #  Перебираем словарь  с  переданными параметрами \\n        print(f\"{k} => {v}\", end=\"; \") ',\n",
       " '_i74': 'd_summa(a=1, x=10, z=-2)',\n",
       " '_i75': \"d3 = {'f': 3, 'g': 4, 'e': 5}\\nd_summa(**d3)\",\n",
       " 'd3': {'f': 3, 'g': 4, 'e': 5},\n",
       " '_i76': 'def c_summa(*t, **d): \\n    for v in t: \\n        print(v, end=\" \") \\n    for k, v in d.items(): \\n        print(f\"{k} => {v}\", end=\"; \") ',\n",
       " 'c_summa': <function __main__.c_summa(*t, **d)>,\n",
       " '_i77': 'c_summa(*t4, **d3)',\n",
       " '_i78': 'def c_summa(*t, **d): \\n    for v in t: \\n        print(v, end=\"; \") \\n    for k, v in d.items(): \\n        print(f\"{k} => {v}\", end=\"; \") ',\n",
       " '_i79': 'c_summa(*t4, **d3)',\n",
       " '_i80': 'fl = lambda: 10 + 20  # функция без nараметров \\nf2  = lambda х, y:  х + y  # функция с двумя nараметрами \\nf3  = lambda х, y,  z: х + y + z  # функция с тремя nараметрами \\nprint(fl())\\nprint(f2(5, 10))\\nprint(f3(5, 10, 30))',\n",
       " 'fl': <function __main__.<lambda>()>,\n",
       " 'f3': <function __main__.<lambda>(х, y, z)>,\n",
       " '_i81': 'fl = lambda: 10 + 20  # функция без nараметров \\nf2  = lambda х, y:  х + y  # функция с двумя nараметрами \\nf3  = lambda х, y, z: х + y + z  # функция с тремя nараметрами \\nprint(fl())\\nprint(f2(5, 10))\\nprint(f3(5, 10, 30))',\n",
       " '_i82': 'arr  =  [\"единица1\",  \"Единый\",  \"Единица2\"] \\narr.sort() \\nprint(arr)\\narr.sort(key=lambda s: s.lower()) \\nprint(arr)',\n",
       " 'arr': ['единица1', 'Единица2', 'Единый'],\n",
       " '_i83': 'arr  =  [\"единица1\",  \"Единый\",  \"Единица2\"] \\narr.sort() \\nprint(arr)\\n# распространенный пример исползования лямбда функций:\\narr.sort(key=lambda s: s.lower()) \\nprint(arr)',\n",
       " '_i84': \"ls = ['дыня', 'вишня', 'арбуз', 'яблоко', 'абрикос']\",\n",
       " 'ls': ['дыня', 'вишня', 'арбуз', 'яблоко', 'абрикос'],\n",
       " '_i85': 'sorted(ls)',\n",
       " '_85': ['абрикос', 'арбуз', 'вишня', 'дыня', 'яблоко'],\n",
       " '_i86': 'sorted(ls, key=lambda s:len(s))',\n",
       " '_86': ['дыня', 'вишня', 'арбуз', 'яблоко', 'абрикос'],\n",
       " '_i87': \"def change(a, b): \\n    а = 20\\n    b = 'str'\",\n",
       " 'change': <function __main__.change(a, b)>,\n",
       " '_i88': \"v1 = 30\\nv2 = 'val'\\nchange(v1, v2)\\nprint(f'v1: {v1}')\\nprint(f'v2: {v2}')\",\n",
       " 'v1': 30,\n",
       " 'v2': 'val',\n",
       " '_i89': 's1 = [1]\\n# изменяемый объект внутри функции:\\nchange2(s1)\\ns1',\n",
       " 's1': [1, 10],\n",
       " '_i90': 'def change2(a): \\n    a.append(10)',\n",
       " 'change2': <function __main__.change2(a)>,\n",
       " '_i91': 's1 = [1]\\n# изменяемый объект внутри функции:\\nchange2(s1)\\ns1',\n",
       " '_91': [1, 10],\n",
       " '_i92': 's1 = [1]\\n# изменяемый объект можнет быть неявно изменены внутри функции:\\nchange2(s1)\\ns1',\n",
       " '_92': [1, 10],\n",
       " '_i93': 'def func_glob(glob2): \\n    print(\"Значение  глобальной  nеременной  glоb = \",  glob) \\n    glob2 += 10 \\n    print(\"Значение  локальной  переменной  glob2 = \", glob2) \\n\\nglob, glob2 = 10, 5 \\nfunc_glob(77)  #  Вызываем функцию \\nprint(\"Значение  глобальной  переменной  glob2 = \", glob2)',\n",
       " 'func_glob': <function __main__.func_glob(glob2)>,\n",
       " 'glob': 25,\n",
       " 'glob2': 5,\n",
       " '_i94': 'def func():\\n    loc = 77 # Локальная  переменная \\n    glob = 25 # Локальная  переменная \\n    print(\\'Значение glob внутри функции: \\', glob)\\n\\nglob = 10 #  Глобальная  переменная \\nfunc() # Вызываем функцию \\nprint(\"Значение glob вне  функции: \", glob) \\ntry: \\n    print(loc)  #  Вызовет  исключение  NameError \\nexcept NameError:  #  Обрабатьrnаем исключение \\n    print(\"Переменная 1ос не видна вне функции\") ',\n",
       " '_i95': 'def func():\\n    loc = 77 # Локальная  переменная \\n    glob = 25 # Локальная  переменная \\n    print(\\'Значение glob внутри функции: \\', glob)\\n\\nglob = 10 #  Глобальная  переменная \\nfunc() # Вызываем функцию \\n\\nprint(\"Значение glob вне  функции: \", glob) \\ntry: \\n    print(loc)  #  Вызовет  исключение  NameError \\nexcept NameError:  #  Обрабатьrnаем исключение \\n    print(\"Переменная lос не видна вне функции\") ',\n",
       " '_i96': 'def func():\\n    global glob\\n    loc = 77 #  Локальная  переменная \\n    glob = 25 #  Локальная  переменная \\n    print(\\'Значение glob внутри функции: \\', glob)\\n\\nglob = 10 #  Глобальная  переменная \\nfunc() # Вызываем функцию \\nprint(\"Значение glob вне  функции: \", glob) ',\n",
       " '_i97': 'globals()'}"
      ]
     },
     "execution_count": 97,
     "metadata": {},
     "output_type": "execute_result"
    }
   ],
   "source": [
    "globals()"
   ]
  },
  {
   "cell_type": "code",
   "execution_count": 98,
   "metadata": {},
   "outputs": [
    {
     "data": {
      "text/plain": [
       "{'__name__': '__main__',\n",
       " '__doc__': 'Automatically created module for IPython interactive environment',\n",
       " '__package__': None,\n",
       " '__loader__': None,\n",
       " '__spec__': None,\n",
       " '__builtin__': <module 'builtins' (built-in)>,\n",
       " '__builtins__': <module 'builtins' (built-in)>,\n",
       " '_ih': ['',\n",
       "  \"def func(): \\n    'test'\\n    pass \",\n",
       "  'def func(): \\n    pass ',\n",
       "  'def  func(): \\n    print (\"Текст  до  инструкции  return\") \\n    return  \"Возвращаемое  значение\" \\n    print (\"Эта  инструкция  никогда  не  будет  вьmолнена\") ',\n",
       "  'print(func())  # вызываем функцию ',\n",
       "  'def print_ok(): \\n    \"\"\"  Пример  функции  без  nараметров  \"\"\" \\n    print(\"Сообщение  при  удачно вьmолненной  операции\") \\n    \\ndef echo(m): \\n    \"\"\"  Пример  функции  с  параметром \"\"\" \\n    print(m) \\n    \\ndef summa(x, у): \\n    \"\"\"  Пример функции с параметрами, \\n    возвращающей  сумму двух  переменных\"\"\"\\n    return x + у\\n\\ndef pow2(x, у): \\n    \"\"\"  Пример функции с параметрами, \\n    возвращающей  сумму двух  переменных\"\"\"\\n    return x ** у',\n",
       "  'print_ok()',\n",
       "  'echo(\"Сообщение\")',\n",
       "  \"get_ipython().run_line_magic('pinfo', 'echo')\",\n",
       "  'help(echo)',\n",
       "  'echo.__doc__',\n",
       "  'x = summa(5, 2)\\nx',\n",
       "  'y, x = 10, 40\\nz = summa(y, x)\\nz',\n",
       "  \"summa('str', 'ing')\",\n",
       "  'summa([1, 3], [5, 7])',\n",
       "  \"# в Python нет ограничений на тип значений передваемых в функцию:\\nsumma('str', 'ing')\",\n",
       "  'f = summa\\nv = f(10, 20)\\nv',\n",
       "  'type(summa)',\n",
       "  'type(f)',\n",
       "  '# функции в Python можно передавать в качестве аргументов других функций:\\ndef  func(fp,  а,  b): \\n    \"\"\" Через переменную f будет доступна ссьmка на \\n    функцию summa() \"\"\"\\n    return fp(а, b)  #  Вызываем функцию summa()',\n",
       "  'func(summa, 10, 20)',\n",
       "  'func(f, 10, 20)',\n",
       "  'def razn(a, b):\\n    return a - b',\n",
       "  'func(razn, 10, 20)',\n",
       "  'summa.__name__',\n",
       "  'summa.__doc__',\n",
       "  \"# неверно!\\nf2()\\n\\ndef f2():\\n    print('Функция f2!')\",\n",
       "  \"for i in range(5)\\n    if i > 3:\\n        f2()\\n    def f2():\\n        print('Функция f2!')\",\n",
       "  \"for i in range(5):\\n    if i > 3:\\n        f2()\\n    def f2():\\n        print('Функция f2!')\",\n",
       "  \"for i in range(5):\\n    if i > 2:\\n        f2()\\n    def f2():\\n        print('Функция f2!')\",\n",
       "  \"for i in range(5):\\n    if i > 2:\\n        f2()\\n    def f2():\\n        print('Функция f2!')\\n# работет т.к. определение функции было выполнено ранее чем вызов        \",\n",
       "  '# Оnределение функции в зависимости от условия\\nn = input(\"Введите 1 дпя  вызова первой функции:\") \\nn = n.rstrip(\"\\\\r\")\\nif n == \"1\": \\n    def echo(): \\n        print(\"Вызов первой функции\") \\nelse: \\n    def  echo(): \\n        print (\"Апьтернативная функция\") \\necho() # Вызываем функцию ',\n",
       "  'def summa(x, y=2):\\n    return x + y',\n",
       "  'summa(5)',\n",
       "  'summa(5, 4)',\n",
       "  'def multi_summa(x=1, y=1, z=1):\\n    return x + 10* y + 100* z',\n",
       "  'multi_summa(1, 2, 3)',\n",
       "  'multi_summa(1, 2)',\n",
       "  'multi_summa(5)',\n",
       "  'multi_summa()',\n",
       "  'multi_summa(z=3)',\n",
       "  'def append_if_even(x, lst=[]): # ОШИБКА! \\n    if x % 2 == 0: \\n        lst.append(x) \\n    return lst ',\n",
       "  'append_if_even(2)',\n",
       "  'append_if_even(4)',\n",
       "  '# пример решения задачи без ошибки:\\ndef append_if_even(x, lst=None):\\n    if lst is None:\\n        lst = []\\n    if x % 2 == 0: \\n        lst.append(x) \\n    return lst ',\n",
       "  'append_if_even(2)',\n",
       "  'append_if_even(4)',\n",
       "  'def min_med_max(l):\\n    \"Возвращает минимальное, медианное и максимальное значение итерируемого объекта (списка)\"\\n    ls = sorted(l)\\n    l_min = ls[0]\\n    l_max = ls[-1]\\n    l_med = ls[len(ls)//2]\\n    return l_min, l_med, l_max',\n",
       "  'min_med_max([3, 1, 100, 11, 7])',\n",
       "  'min1, med1, max1 = min_med_max([3, 1, 100, 11, 7])',\n",
       "  'def min_med_max(l):\\n    \"Возвращает минимальное, медианное и максимальное значение итерируемого объекта (списка)\"\\n    ls = sorted(l)\\n    l_min = ls[0]\\n    l_max = ls[-1]\\n    l_med = ls[len(ls)//2]\\n    return l_min, l_med, l_max # удобный синтаксис для запаковки результатов в картеж',\n",
       "  'min_med_max([3, 1, 100, 11, 7])',\n",
       "  '# распаковка картежа, возвращаемого функцией\\nmin1, med1, max1 = min_med_max([3, 1, 100, 11, 7])',\n",
       "  \"print(f'min1: {min1}, med1: {med1}, max1: {max1}')\",\n",
       "  'all_res = min_med_max([3, 1, 100, 11, 7])\\nall_res',\n",
       "  't1 = (5, 10 ,15)\\nt2 = [25, 35, 45]\\nt3 = (5, 10 ,15, 20)',\n",
       "  '# неудобный способ передачи параметров:\\nmulti_summa(t1[0], t1[1], t1[2])',\n",
       "  'multi_summa(*t1)',\n",
       "  'multi_summa(*t2)',\n",
       "  '# распаковка:\\nmulti_summa(*t1)',\n",
       "  'multi_summa(*t2)',\n",
       "  '# Ошибка! количество передаваемых параметров \\n# должно равняться количеству объявленных в функции параметров:\\nmulti_summa(*t3)',\n",
       "  '# решение проблемы:\\nmulti_summa(*t3[:3])',\n",
       "  \"d1 = {'x': 11, 'y': 12, 'z': 13}\",\n",
       "  'multi_summa(**d1)',\n",
       "  \"t3 = [0, -1]\\nd2 = {'z': -2}\\n# сначала позиционные параметры, потом пары имя - значение:\\nmulti_summa(*t3, **d2)\",\n",
       "  '# распаковывание последовательности в списке параметров функции:\\ndef all_summa(*t): \\n    \"\"\"Функция принимает произвольное количество параметров\"\"\" \\n    res = 0\\n    for i in t: \\n        res += i \\n    return  res ',\n",
       "  'all_summa(10, 20, 30, 40, 50)',\n",
       "  't4 = [10, 20, 30, 40, 50, 60, 70]\\nall_summa(*t4)',\n",
       "  'def d_summa(**d): \\n    for k, v in d.items():  #  Перебираем словарь  с  переданными параметрами \\n        print(f\"{k} => {v}\", end=\" \") ',\n",
       "  'd_summa(a=1, x=10, z=-2)',\n",
       "  'def d_summa(**d): \\n    for k, v in d.items():  #  Перебираем словарь  с  переданными параметрами \\n        print(f\"{k} => {v}\", sep=\";\", end=\" \") ',\n",
       "  'd_summa(a=1, x=10, z=-2)',\n",
       "  'def d_summa(**d): \\n    for k, v in d.items():  #  Перебираем словарь  с  переданными параметрами \\n        print(f\"{k} => {v}\", end=\"; \") ',\n",
       "  'd_summa(a=1, x=10, z=-2)',\n",
       "  \"d3 = {'f': 3, 'g': 4, 'e': 5}\\nd_summa(**d3)\",\n",
       "  'def c_summa(*t, **d): \\n    for v in t: \\n        print(v, end=\" \") \\n    for k, v in d.items(): \\n        print(f\"{k} => {v}\", end=\"; \") ',\n",
       "  'c_summa(*t4, **d3)',\n",
       "  'def c_summa(*t, **d): \\n    for v in t: \\n        print(v, end=\"; \") \\n    for k, v in d.items(): \\n        print(f\"{k} => {v}\", end=\"; \") ',\n",
       "  'c_summa(*t4, **d3)',\n",
       "  'fl = lambda: 10 + 20  # функция без nараметров \\nf2  = lambda х, y:  х + y  # функция с двумя nараметрами \\nf3  = lambda х, y,  z: х + y + z  # функция с тремя nараметрами \\nprint(fl())\\nprint(f2(5, 10))\\nprint(f3(5, 10, 30))',\n",
       "  'fl = lambda: 10 + 20  # функция без nараметров \\nf2  = lambda х, y:  х + y  # функция с двумя nараметрами \\nf3  = lambda х, y, z: х + y + z  # функция с тремя nараметрами \\nprint(fl())\\nprint(f2(5, 10))\\nprint(f3(5, 10, 30))',\n",
       "  'arr  =  [\"единица1\",  \"Единый\",  \"Единица2\"] \\narr.sort() \\nprint(arr)\\narr.sort(key=lambda s: s.lower()) \\nprint(arr)',\n",
       "  'arr  =  [\"единица1\",  \"Единый\",  \"Единица2\"] \\narr.sort() \\nprint(arr)\\n# распространенный пример исползования лямбда функций:\\narr.sort(key=lambda s: s.lower()) \\nprint(arr)',\n",
       "  \"ls = ['дыня', 'вишня', 'арбуз', 'яблоко', 'абрикос']\",\n",
       "  'sorted(ls)',\n",
       "  'sorted(ls, key=lambda s:len(s))',\n",
       "  \"def change(a, b): \\n    а = 20\\n    b = 'str'\",\n",
       "  \"v1 = 30\\nv2 = 'val'\\nchange(v1, v2)\\nprint(f'v1: {v1}')\\nprint(f'v2: {v2}')\",\n",
       "  's1 = [1]\\n# изменяемый объект внутри функции:\\nchange2(s1)\\ns1',\n",
       "  'def change2(a): \\n    a.append(10)',\n",
       "  's1 = [1]\\n# изменяемый объект внутри функции:\\nchange2(s1)\\ns1',\n",
       "  's1 = [1]\\n# изменяемый объект можнет быть неявно изменены внутри функции:\\nchange2(s1)\\ns1',\n",
       "  'def func_glob(glob2): \\n    print(\"Значение  глобальной  nеременной  glоb = \",  glob) \\n    glob2 += 10 \\n    print(\"Значение  локальной  переменной  glob2 = \", glob2) \\n\\nglob, glob2 = 10, 5 \\nfunc_glob(77)  #  Вызываем функцию \\nprint(\"Значение  глобальной  переменной  glob2 = \", glob2)',\n",
       "  'def func():\\n    loc = 77 # Локальная  переменная \\n    glob = 25 # Локальная  переменная \\n    print(\\'Значение glob внутри функции: \\', glob)\\n\\nglob = 10 #  Глобальная  переменная \\nfunc() # Вызываем функцию \\nprint(\"Значение glob вне  функции: \", glob) \\ntry: \\n    print(loc)  #  Вызовет  исключение  NameError \\nexcept NameError:  #  Обрабатьrnаем исключение \\n    print(\"Переменная 1ос не видна вне функции\") ',\n",
       "  'def func():\\n    loc = 77 # Локальная  переменная \\n    glob = 25 # Локальная  переменная \\n    print(\\'Значение glob внутри функции: \\', glob)\\n\\nglob = 10 #  Глобальная  переменная \\nfunc() # Вызываем функцию \\n\\nprint(\"Значение glob вне  функции: \", glob) \\ntry: \\n    print(loc)  #  Вызовет  исключение  NameError \\nexcept NameError:  #  Обрабатьrnаем исключение \\n    print(\"Переменная lос не видна вне функции\") ',\n",
       "  'def func():\\n    global glob\\n    loc = 77 #  Локальная  переменная \\n    glob = 25 #  Локальная  переменная \\n    print(\\'Значение glob внутри функции: \\', glob)\\n\\nglob = 10 #  Глобальная  переменная \\nfunc() # Вызываем функцию \\nprint(\"Значение glob вне  функции: \", glob) ',\n",
       "  'globals()',\n",
       "  'locals()'],\n",
       " '_oh': {10: '  Пример  функции  с  параметром ',\n",
       "  11: 7,\n",
       "  12: 50,\n",
       "  13: 'string',\n",
       "  14: [1, 3, 5, 7],\n",
       "  15: 'string',\n",
       "  16: 30,\n",
       "  17: function,\n",
       "  18: function,\n",
       "  20: 30,\n",
       "  21: 30,\n",
       "  23: -10,\n",
       "  24: 'summa',\n",
       "  25: '  Пример функции с параметрами, \\n    возвращающей  сумму двух  переменных',\n",
       "  33: 7,\n",
       "  34: 9,\n",
       "  36: 321,\n",
       "  37: 121,\n",
       "  38: 115,\n",
       "  39: 111,\n",
       "  40: 311,\n",
       "  42: [2, 4],\n",
       "  43: [2, 4],\n",
       "  45: [2],\n",
       "  46: [4],\n",
       "  48: (1, 7, 100),\n",
       "  51: (1, 7, 100),\n",
       "  54: (1, 7, 100),\n",
       "  56: 1605,\n",
       "  57: 1605,\n",
       "  58: 4875,\n",
       "  59: 1605,\n",
       "  60: 4875,\n",
       "  62: 1605,\n",
       "  64: 1431,\n",
       "  65: -210,\n",
       "  67: 150,\n",
       "  68: 280,\n",
       "  85: ['абрикос', 'арбуз', 'вишня', 'дыня', 'яблоко'],\n",
       "  86: ['дыня', 'вишня', 'арбуз', 'яблоко', 'абрикос'],\n",
       "  91: [1, 10],\n",
       "  92: [1, 10],\n",
       "  97: {...}},\n",
       " '_dh': ['E:\\\\YandexDisk\\\\Python\\\\Ipynb\\\\fa1_2019\\\\Лекции\\\\lec04'],\n",
       " 'In': ['',\n",
       "  \"def func(): \\n    'test'\\n    pass \",\n",
       "  'def func(): \\n    pass ',\n",
       "  'def  func(): \\n    print (\"Текст  до  инструкции  return\") \\n    return  \"Возвращаемое  значение\" \\n    print (\"Эта  инструкция  никогда  не  будет  вьmолнена\") ',\n",
       "  'print(func())  # вызываем функцию ',\n",
       "  'def print_ok(): \\n    \"\"\"  Пример  функции  без  nараметров  \"\"\" \\n    print(\"Сообщение  при  удачно вьmолненной  операции\") \\n    \\ndef echo(m): \\n    \"\"\"  Пример  функции  с  параметром \"\"\" \\n    print(m) \\n    \\ndef summa(x, у): \\n    \"\"\"  Пример функции с параметрами, \\n    возвращающей  сумму двух  переменных\"\"\"\\n    return x + у\\n\\ndef pow2(x, у): \\n    \"\"\"  Пример функции с параметрами, \\n    возвращающей  сумму двух  переменных\"\"\"\\n    return x ** у',\n",
       "  'print_ok()',\n",
       "  'echo(\"Сообщение\")',\n",
       "  \"get_ipython().run_line_magic('pinfo', 'echo')\",\n",
       "  'help(echo)',\n",
       "  'echo.__doc__',\n",
       "  'x = summa(5, 2)\\nx',\n",
       "  'y, x = 10, 40\\nz = summa(y, x)\\nz',\n",
       "  \"summa('str', 'ing')\",\n",
       "  'summa([1, 3], [5, 7])',\n",
       "  \"# в Python нет ограничений на тип значений передваемых в функцию:\\nsumma('str', 'ing')\",\n",
       "  'f = summa\\nv = f(10, 20)\\nv',\n",
       "  'type(summa)',\n",
       "  'type(f)',\n",
       "  '# функции в Python можно передавать в качестве аргументов других функций:\\ndef  func(fp,  а,  b): \\n    \"\"\" Через переменную f будет доступна ссьmка на \\n    функцию summa() \"\"\"\\n    return fp(а, b)  #  Вызываем функцию summa()',\n",
       "  'func(summa, 10, 20)',\n",
       "  'func(f, 10, 20)',\n",
       "  'def razn(a, b):\\n    return a - b',\n",
       "  'func(razn, 10, 20)',\n",
       "  'summa.__name__',\n",
       "  'summa.__doc__',\n",
       "  \"# неверно!\\nf2()\\n\\ndef f2():\\n    print('Функция f2!')\",\n",
       "  \"for i in range(5)\\n    if i > 3:\\n        f2()\\n    def f2():\\n        print('Функция f2!')\",\n",
       "  \"for i in range(5):\\n    if i > 3:\\n        f2()\\n    def f2():\\n        print('Функция f2!')\",\n",
       "  \"for i in range(5):\\n    if i > 2:\\n        f2()\\n    def f2():\\n        print('Функция f2!')\",\n",
       "  \"for i in range(5):\\n    if i > 2:\\n        f2()\\n    def f2():\\n        print('Функция f2!')\\n# работет т.к. определение функции было выполнено ранее чем вызов        \",\n",
       "  '# Оnределение функции в зависимости от условия\\nn = input(\"Введите 1 дпя  вызова первой функции:\") \\nn = n.rstrip(\"\\\\r\")\\nif n == \"1\": \\n    def echo(): \\n        print(\"Вызов первой функции\") \\nelse: \\n    def  echo(): \\n        print (\"Апьтернативная функция\") \\necho() # Вызываем функцию ',\n",
       "  'def summa(x, y=2):\\n    return x + y',\n",
       "  'summa(5)',\n",
       "  'summa(5, 4)',\n",
       "  'def multi_summa(x=1, y=1, z=1):\\n    return x + 10* y + 100* z',\n",
       "  'multi_summa(1, 2, 3)',\n",
       "  'multi_summa(1, 2)',\n",
       "  'multi_summa(5)',\n",
       "  'multi_summa()',\n",
       "  'multi_summa(z=3)',\n",
       "  'def append_if_even(x, lst=[]): # ОШИБКА! \\n    if x % 2 == 0: \\n        lst.append(x) \\n    return lst ',\n",
       "  'append_if_even(2)',\n",
       "  'append_if_even(4)',\n",
       "  '# пример решения задачи без ошибки:\\ndef append_if_even(x, lst=None):\\n    if lst is None:\\n        lst = []\\n    if x % 2 == 0: \\n        lst.append(x) \\n    return lst ',\n",
       "  'append_if_even(2)',\n",
       "  'append_if_even(4)',\n",
       "  'def min_med_max(l):\\n    \"Возвращает минимальное, медианное и максимальное значение итерируемого объекта (списка)\"\\n    ls = sorted(l)\\n    l_min = ls[0]\\n    l_max = ls[-1]\\n    l_med = ls[len(ls)//2]\\n    return l_min, l_med, l_max',\n",
       "  'min_med_max([3, 1, 100, 11, 7])',\n",
       "  'min1, med1, max1 = min_med_max([3, 1, 100, 11, 7])',\n",
       "  'def min_med_max(l):\\n    \"Возвращает минимальное, медианное и максимальное значение итерируемого объекта (списка)\"\\n    ls = sorted(l)\\n    l_min = ls[0]\\n    l_max = ls[-1]\\n    l_med = ls[len(ls)//2]\\n    return l_min, l_med, l_max # удобный синтаксис для запаковки результатов в картеж',\n",
       "  'min_med_max([3, 1, 100, 11, 7])',\n",
       "  '# распаковка картежа, возвращаемого функцией\\nmin1, med1, max1 = min_med_max([3, 1, 100, 11, 7])',\n",
       "  \"print(f'min1: {min1}, med1: {med1}, max1: {max1}')\",\n",
       "  'all_res = min_med_max([3, 1, 100, 11, 7])\\nall_res',\n",
       "  't1 = (5, 10 ,15)\\nt2 = [25, 35, 45]\\nt3 = (5, 10 ,15, 20)',\n",
       "  '# неудобный способ передачи параметров:\\nmulti_summa(t1[0], t1[1], t1[2])',\n",
       "  'multi_summa(*t1)',\n",
       "  'multi_summa(*t2)',\n",
       "  '# распаковка:\\nmulti_summa(*t1)',\n",
       "  'multi_summa(*t2)',\n",
       "  '# Ошибка! количество передаваемых параметров \\n# должно равняться количеству объявленных в функции параметров:\\nmulti_summa(*t3)',\n",
       "  '# решение проблемы:\\nmulti_summa(*t3[:3])',\n",
       "  \"d1 = {'x': 11, 'y': 12, 'z': 13}\",\n",
       "  'multi_summa(**d1)',\n",
       "  \"t3 = [0, -1]\\nd2 = {'z': -2}\\n# сначала позиционные параметры, потом пары имя - значение:\\nmulti_summa(*t3, **d2)\",\n",
       "  '# распаковывание последовательности в списке параметров функции:\\ndef all_summa(*t): \\n    \"\"\"Функция принимает произвольное количество параметров\"\"\" \\n    res = 0\\n    for i in t: \\n        res += i \\n    return  res ',\n",
       "  'all_summa(10, 20, 30, 40, 50)',\n",
       "  't4 = [10, 20, 30, 40, 50, 60, 70]\\nall_summa(*t4)',\n",
       "  'def d_summa(**d): \\n    for k, v in d.items():  #  Перебираем словарь  с  переданными параметрами \\n        print(f\"{k} => {v}\", end=\" \") ',\n",
       "  'd_summa(a=1, x=10, z=-2)',\n",
       "  'def d_summa(**d): \\n    for k, v in d.items():  #  Перебираем словарь  с  переданными параметрами \\n        print(f\"{k} => {v}\", sep=\";\", end=\" \") ',\n",
       "  'd_summa(a=1, x=10, z=-2)',\n",
       "  'def d_summa(**d): \\n    for k, v in d.items():  #  Перебираем словарь  с  переданными параметрами \\n        print(f\"{k} => {v}\", end=\"; \") ',\n",
       "  'd_summa(a=1, x=10, z=-2)',\n",
       "  \"d3 = {'f': 3, 'g': 4, 'e': 5}\\nd_summa(**d3)\",\n",
       "  'def c_summa(*t, **d): \\n    for v in t: \\n        print(v, end=\" \") \\n    for k, v in d.items(): \\n        print(f\"{k} => {v}\", end=\"; \") ',\n",
       "  'c_summa(*t4, **d3)',\n",
       "  'def c_summa(*t, **d): \\n    for v in t: \\n        print(v, end=\"; \") \\n    for k, v in d.items(): \\n        print(f\"{k} => {v}\", end=\"; \") ',\n",
       "  'c_summa(*t4, **d3)',\n",
       "  'fl = lambda: 10 + 20  # функция без nараметров \\nf2  = lambda х, y:  х + y  # функция с двумя nараметрами \\nf3  = lambda х, y,  z: х + y + z  # функция с тремя nараметрами \\nprint(fl())\\nprint(f2(5, 10))\\nprint(f3(5, 10, 30))',\n",
       "  'fl = lambda: 10 + 20  # функция без nараметров \\nf2  = lambda х, y:  х + y  # функция с двумя nараметрами \\nf3  = lambda х, y, z: х + y + z  # функция с тремя nараметрами \\nprint(fl())\\nprint(f2(5, 10))\\nprint(f3(5, 10, 30))',\n",
       "  'arr  =  [\"единица1\",  \"Единый\",  \"Единица2\"] \\narr.sort() \\nprint(arr)\\narr.sort(key=lambda s: s.lower()) \\nprint(arr)',\n",
       "  'arr  =  [\"единица1\",  \"Единый\",  \"Единица2\"] \\narr.sort() \\nprint(arr)\\n# распространенный пример исползования лямбда функций:\\narr.sort(key=lambda s: s.lower()) \\nprint(arr)',\n",
       "  \"ls = ['дыня', 'вишня', 'арбуз', 'яблоко', 'абрикос']\",\n",
       "  'sorted(ls)',\n",
       "  'sorted(ls, key=lambda s:len(s))',\n",
       "  \"def change(a, b): \\n    а = 20\\n    b = 'str'\",\n",
       "  \"v1 = 30\\nv2 = 'val'\\nchange(v1, v2)\\nprint(f'v1: {v1}')\\nprint(f'v2: {v2}')\",\n",
       "  's1 = [1]\\n# изменяемый объект внутри функции:\\nchange2(s1)\\ns1',\n",
       "  'def change2(a): \\n    a.append(10)',\n",
       "  's1 = [1]\\n# изменяемый объект внутри функции:\\nchange2(s1)\\ns1',\n",
       "  's1 = [1]\\n# изменяемый объект можнет быть неявно изменены внутри функции:\\nchange2(s1)\\ns1',\n",
       "  'def func_glob(glob2): \\n    print(\"Значение  глобальной  nеременной  glоb = \",  glob) \\n    glob2 += 10 \\n    print(\"Значение  локальной  переменной  glob2 = \", glob2) \\n\\nglob, glob2 = 10, 5 \\nfunc_glob(77)  #  Вызываем функцию \\nprint(\"Значение  глобальной  переменной  glob2 = \", glob2)',\n",
       "  'def func():\\n    loc = 77 # Локальная  переменная \\n    glob = 25 # Локальная  переменная \\n    print(\\'Значение glob внутри функции: \\', glob)\\n\\nglob = 10 #  Глобальная  переменная \\nfunc() # Вызываем функцию \\nprint(\"Значение glob вне  функции: \", glob) \\ntry: \\n    print(loc)  #  Вызовет  исключение  NameError \\nexcept NameError:  #  Обрабатьrnаем исключение \\n    print(\"Переменная 1ос не видна вне функции\") ',\n",
       "  'def func():\\n    loc = 77 # Локальная  переменная \\n    glob = 25 # Локальная  переменная \\n    print(\\'Значение glob внутри функции: \\', glob)\\n\\nglob = 10 #  Глобальная  переменная \\nfunc() # Вызываем функцию \\n\\nprint(\"Значение glob вне  функции: \", glob) \\ntry: \\n    print(loc)  #  Вызовет  исключение  NameError \\nexcept NameError:  #  Обрабатьrnаем исключение \\n    print(\"Переменная lос не видна вне функции\") ',\n",
       "  'def func():\\n    global glob\\n    loc = 77 #  Локальная  переменная \\n    glob = 25 #  Локальная  переменная \\n    print(\\'Значение glob внутри функции: \\', glob)\\n\\nglob = 10 #  Глобальная  переменная \\nfunc() # Вызываем функцию \\nprint(\"Значение glob вне  функции: \", glob) ',\n",
       "  'globals()',\n",
       "  'locals()'],\n",
       " 'Out': {10: '  Пример  функции  с  параметром ',\n",
       "  11: 7,\n",
       "  12: 50,\n",
       "  13: 'string',\n",
       "  14: [1, 3, 5, 7],\n",
       "  15: 'string',\n",
       "  16: 30,\n",
       "  17: function,\n",
       "  18: function,\n",
       "  20: 30,\n",
       "  21: 30,\n",
       "  23: -10,\n",
       "  24: 'summa',\n",
       "  25: '  Пример функции с параметрами, \\n    возвращающей  сумму двух  переменных',\n",
       "  33: 7,\n",
       "  34: 9,\n",
       "  36: 321,\n",
       "  37: 121,\n",
       "  38: 115,\n",
       "  39: 111,\n",
       "  40: 311,\n",
       "  42: [2, 4],\n",
       "  43: [2, 4],\n",
       "  45: [2],\n",
       "  46: [4],\n",
       "  48: (1, 7, 100),\n",
       "  51: (1, 7, 100),\n",
       "  54: (1, 7, 100),\n",
       "  56: 1605,\n",
       "  57: 1605,\n",
       "  58: 4875,\n",
       "  59: 1605,\n",
       "  60: 4875,\n",
       "  62: 1605,\n",
       "  64: 1431,\n",
       "  65: -210,\n",
       "  67: 150,\n",
       "  68: 280,\n",
       "  85: ['абрикос', 'арбуз', 'вишня', 'дыня', 'яблоко'],\n",
       "  86: ['дыня', 'вишня', 'арбуз', 'яблоко', 'абрикос'],\n",
       "  91: [1, 10],\n",
       "  92: [1, 10],\n",
       "  97: {...}},\n",
       " 'get_ipython': <bound method InteractiveShell.get_ipython of <ipykernel.zmqshell.ZMQInteractiveShell object at 0x00000288BBF016D8>>,\n",
       " 'exit': <IPython.core.autocall.ZMQExitAutocall at 0x288bbf62940>,\n",
       " 'quit': <IPython.core.autocall.ZMQExitAutocall at 0x288bbf62940>,\n",
       " '_': {...},\n",
       " '__': [1, 10],\n",
       " '___': [1, 10],\n",
       " '_i': 'globals()',\n",
       " '_ii': 'def func():\\n    global glob\\n    loc = 77 #  Локальная  переменная \\n    glob = 25 #  Локальная  переменная \\n    print(\\'Значение glob внутри функции: \\', glob)\\n\\nglob = 10 #  Глобальная  переменная \\nfunc() # Вызываем функцию \\nprint(\"Значение glob вне  функции: \", glob) ',\n",
       " '_iii': 'def func():\\n    loc = 77 # Локальная  переменная \\n    glob = 25 # Локальная  переменная \\n    print(\\'Значение glob внутри функции: \\', glob)\\n\\nglob = 10 #  Глобальная  переменная \\nfunc() # Вызываем функцию \\n\\nprint(\"Значение glob вне  функции: \", glob) \\ntry: \\n    print(loc)  #  Вызовет  исключение  NameError \\nexcept NameError:  #  Обрабатьrnаем исключение \\n    print(\"Переменная lос не видна вне функции\") ',\n",
       " '_i1': \"def func(): \\n    'test'\\n    pass \",\n",
       " 'func': <function __main__.func()>,\n",
       " '_i2': 'def func(): \\n    pass ',\n",
       " '_i3': 'def  func(): \\n    print (\"Текст  до  инструкции  return\") \\n    return  \"Возвращаемое  значение\" \\n    print (\"Эта  инструкция  никогда  не  будет  вьmолнена\") ',\n",
       " '_i4': 'print(func())  # вызываем функцию ',\n",
       " '_i5': 'def print_ok(): \\n    \"\"\"  Пример  функции  без  nараметров  \"\"\" \\n    print(\"Сообщение  при  удачно вьmолненной  операции\") \\n    \\ndef echo(m): \\n    \"\"\"  Пример  функции  с  параметром \"\"\" \\n    print(m) \\n    \\ndef summa(x, у): \\n    \"\"\"  Пример функции с параметрами, \\n    возвращающей  сумму двух  переменных\"\"\"\\n    return x + у\\n\\ndef pow2(x, у): \\n    \"\"\"  Пример функции с параметрами, \\n    возвращающей  сумму двух  переменных\"\"\"\\n    return x ** у',\n",
       " 'print_ok': <function __main__.print_ok()>,\n",
       " 'echo': <function __main__.echo()>,\n",
       " 'summa': <function __main__.summa(x, y=2)>,\n",
       " 'pow2': <function __main__.pow2(x, у)>,\n",
       " '_i6': 'print_ok()',\n",
       " '_i7': 'echo(\"Сообщение\")',\n",
       " '_i8': '?echo',\n",
       " '_i9': 'help(echo)',\n",
       " '_i10': 'echo.__doc__',\n",
       " '_10': '  Пример  функции  с  параметром ',\n",
       " '_i11': 'x = summa(5, 2)\\nx',\n",
       " 'x': 40,\n",
       " '_11': 7,\n",
       " '_i12': 'y, x = 10, 40\\nz = summa(y, x)\\nz',\n",
       " 'y': 10,\n",
       " 'z': 50,\n",
       " '_12': 50,\n",
       " '_i13': \"summa('str', 'ing')\",\n",
       " '_13': 'string',\n",
       " '_i14': 'summa([1, 3], [5, 7])',\n",
       " '_14': [1, 3, 5, 7],\n",
       " '_i15': \"# в Python нет ограничений на тип значений передваемых в функцию:\\nsumma('str', 'ing')\",\n",
       " '_15': 'string',\n",
       " '_i16': 'f = summa\\nv = f(10, 20)\\nv',\n",
       " 'f': <function __main__.summa(x, у)>,\n",
       " 'v': 30,\n",
       " '_16': 30,\n",
       " '_i17': 'type(summa)',\n",
       " '_17': function,\n",
       " '_i18': 'type(f)',\n",
       " '_18': function,\n",
       " '_i19': '# функции в Python можно передавать в качестве аргументов других функций:\\ndef  func(fp,  а,  b): \\n    \"\"\" Через переменную f будет доступна ссьmка на \\n    функцию summa() \"\"\"\\n    return fp(а, b)  #  Вызываем функцию summa()',\n",
       " '_i20': 'func(summa, 10, 20)',\n",
       " '_20': 30,\n",
       " '_i21': 'func(f, 10, 20)',\n",
       " '_21': 30,\n",
       " '_i22': 'def razn(a, b):\\n    return a - b',\n",
       " 'razn': <function __main__.razn(a, b)>,\n",
       " '_i23': 'func(razn, 10, 20)',\n",
       " '_23': -10,\n",
       " '_i24': 'summa.__name__',\n",
       " '_24': 'summa',\n",
       " '_i25': 'summa.__doc__',\n",
       " '_25': '  Пример функции с параметрами, \\n    возвращающей  сумму двух  переменных',\n",
       " '_i26': \"# неверно!\\nf2()\\n\\ndef f2():\\n    print('Функция f2!')\",\n",
       " '_i27': \"for i in range(5)\\n    if i > 3:\\n        f2()\\n    def f2():\\n        print('Функция f2!')\",\n",
       " '_i28': \"for i in range(5):\\n    if i > 3:\\n        f2()\\n    def f2():\\n        print('Функция f2!')\",\n",
       " 'i': 4,\n",
       " 'f2': <function __main__.<lambda>(х, y)>,\n",
       " '_i29': \"for i in range(5):\\n    if i > 2:\\n        f2()\\n    def f2():\\n        print('Функция f2!')\",\n",
       " '_i30': \"for i in range(5):\\n    if i > 2:\\n        f2()\\n    def f2():\\n        print('Функция f2!')\\n# работет т.к. определение функции было выполнено ранее чем вызов        \",\n",
       " '_i31': '# Оnределение функции в зависимости от условия\\nn = input(\"Введите 1 дпя  вызова первой функции:\") \\nn = n.rstrip(\"\\\\r\")\\nif n == \"1\": \\n    def echo(): \\n        print(\"Вызов первой функции\") \\nelse: \\n    def  echo(): \\n        print (\"Апьтернативная функция\") \\necho() # Вызываем функцию ',\n",
       " 'n': '1',\n",
       " '_i32': 'def summa(x, y=2):\\n    return x + y',\n",
       " '_i33': 'summa(5)',\n",
       " '_33': 7,\n",
       " '_i34': 'summa(5, 4)',\n",
       " '_34': 9,\n",
       " '_i35': 'def multi_summa(x=1, y=1, z=1):\\n    return x + 10* y + 100* z',\n",
       " 'multi_summa': <function __main__.multi_summa(x=1, y=1, z=1)>,\n",
       " '_i36': 'multi_summa(1, 2, 3)',\n",
       " '_36': 321,\n",
       " '_i37': 'multi_summa(1, 2)',\n",
       " '_37': 121,\n",
       " '_i38': 'multi_summa(5)',\n",
       " '_38': 115,\n",
       " '_i39': 'multi_summa()',\n",
       " '_39': 111,\n",
       " '_i40': 'multi_summa(z=3)',\n",
       " '_40': 311,\n",
       " '_i41': 'def append_if_even(x, lst=[]): # ОШИБКА! \\n    if x % 2 == 0: \\n        lst.append(x) \\n    return lst ',\n",
       " 'append_if_even': <function __main__.append_if_even(x, lst=None)>,\n",
       " '_i42': 'append_if_even(2)',\n",
       " '_42': [2, 4],\n",
       " '_i43': 'append_if_even(4)',\n",
       " '_43': [2, 4],\n",
       " '_i44': '# пример решения задачи без ошибки:\\ndef append_if_even(x, lst=None):\\n    if lst is None:\\n        lst = []\\n    if x % 2 == 0: \\n        lst.append(x) \\n    return lst ',\n",
       " '_i45': 'append_if_even(2)',\n",
       " '_45': [2],\n",
       " '_i46': 'append_if_even(4)',\n",
       " '_46': [4],\n",
       " '_i47': 'def min_med_max(l):\\n    \"Возвращает минимальное, медианное и максимальное значение итерируемого объекта (списка)\"\\n    ls = sorted(l)\\n    l_min = ls[0]\\n    l_max = ls[-1]\\n    l_med = ls[len(ls)//2]\\n    return l_min, l_med, l_max',\n",
       " 'min_med_max': <function __main__.min_med_max(l)>,\n",
       " '_i48': 'min_med_max([3, 1, 100, 11, 7])',\n",
       " '_48': (1, 7, 100),\n",
       " '_i49': 'min1, med1, max1 = min_med_max([3, 1, 100, 11, 7])',\n",
       " 'min1': 1,\n",
       " 'med1': 7,\n",
       " 'max1': 100,\n",
       " '_i50': 'def min_med_max(l):\\n    \"Возвращает минимальное, медианное и максимальное значение итерируемого объекта (списка)\"\\n    ls = sorted(l)\\n    l_min = ls[0]\\n    l_max = ls[-1]\\n    l_med = ls[len(ls)//2]\\n    return l_min, l_med, l_max # удобный синтаксис для запаковки результатов в картеж',\n",
       " '_i51': 'min_med_max([3, 1, 100, 11, 7])',\n",
       " '_51': (1, 7, 100),\n",
       " '_i52': '# распаковка картежа, возвращаемого функцией\\nmin1, med1, max1 = min_med_max([3, 1, 100, 11, 7])',\n",
       " '_i53': \"print(f'min1: {min1}, med1: {med1}, max1: {max1}')\",\n",
       " '_i54': 'all_res = min_med_max([3, 1, 100, 11, 7])\\nall_res',\n",
       " 'all_res': (1, 7, 100),\n",
       " '_54': (1, 7, 100),\n",
       " '_i55': 't1 = (5, 10 ,15)\\nt2 = [25, 35, 45]\\nt3 = (5, 10 ,15, 20)',\n",
       " 't1': (5, 10, 15),\n",
       " 't2': [25, 35, 45],\n",
       " 't3': [0, -1],\n",
       " '_i56': '# неудобный способ передачи параметров:\\nmulti_summa(t1[0], t1[1], t1[2])',\n",
       " '_56': 1605,\n",
       " '_i57': 'multi_summa(*t1)',\n",
       " '_57': 1605,\n",
       " '_i58': 'multi_summa(*t2)',\n",
       " '_58': 4875,\n",
       " '_i59': '# распаковка:\\nmulti_summa(*t1)',\n",
       " '_59': 1605,\n",
       " '_i60': 'multi_summa(*t2)',\n",
       " '_60': 4875,\n",
       " '_i61': '# Ошибка! количество передаваемых параметров \\n# должно равняться количеству объявленных в функции параметров:\\nmulti_summa(*t3)',\n",
       " '_i62': '# решение проблемы:\\nmulti_summa(*t3[:3])',\n",
       " '_62': 1605,\n",
       " '_i63': \"d1 = {'x': 11, 'y': 12, 'z': 13}\",\n",
       " 'd1': {'x': 11, 'y': 12, 'z': 13},\n",
       " '_i64': 'multi_summa(**d1)',\n",
       " '_64': 1431,\n",
       " '_i65': \"t3 = [0, -1]\\nd2 = {'z': -2}\\n# сначала позиционные параметры, потом пары имя - значение:\\nmulti_summa(*t3, **d2)\",\n",
       " 'd2': {'z': -2},\n",
       " '_65': -210,\n",
       " '_i66': '# распаковывание последовательности в списке параметров функции:\\ndef all_summa(*t): \\n    \"\"\"Функция принимает произвольное количество параметров\"\"\" \\n    res = 0\\n    for i in t: \\n        res += i \\n    return  res ',\n",
       " 'all_summa': <function __main__.all_summa(*t)>,\n",
       " '_i67': 'all_summa(10, 20, 30, 40, 50)',\n",
       " '_67': 150,\n",
       " '_i68': 't4 = [10, 20, 30, 40, 50, 60, 70]\\nall_summa(*t4)',\n",
       " 't4': [10, 20, 30, 40, 50, 60, 70],\n",
       " '_68': 280,\n",
       " '_i69': 'def d_summa(**d): \\n    for k, v in d.items():  #  Перебираем словарь  с  переданными параметрами \\n        print(f\"{k} => {v}\", end=\" \") ',\n",
       " 'd_summa': <function __main__.d_summa(**d)>,\n",
       " '_i70': 'd_summa(a=1, x=10, z=-2)',\n",
       " '_i71': 'def d_summa(**d): \\n    for k, v in d.items():  #  Перебираем словарь  с  переданными параметрами \\n        print(f\"{k} => {v}\", sep=\";\", end=\" \") ',\n",
       " '_i72': 'd_summa(a=1, x=10, z=-2)',\n",
       " '_i73': 'def d_summa(**d): \\n    for k, v in d.items():  #  Перебираем словарь  с  переданными параметрами \\n        print(f\"{k} => {v}\", end=\"; \") ',\n",
       " '_i74': 'd_summa(a=1, x=10, z=-2)',\n",
       " '_i75': \"d3 = {'f': 3, 'g': 4, 'e': 5}\\nd_summa(**d3)\",\n",
       " 'd3': {'f': 3, 'g': 4, 'e': 5},\n",
       " '_i76': 'def c_summa(*t, **d): \\n    for v in t: \\n        print(v, end=\" \") \\n    for k, v in d.items(): \\n        print(f\"{k} => {v}\", end=\"; \") ',\n",
       " 'c_summa': <function __main__.c_summa(*t, **d)>,\n",
       " '_i77': 'c_summa(*t4, **d3)',\n",
       " '_i78': 'def c_summa(*t, **d): \\n    for v in t: \\n        print(v, end=\"; \") \\n    for k, v in d.items(): \\n        print(f\"{k} => {v}\", end=\"; \") ',\n",
       " '_i79': 'c_summa(*t4, **d3)',\n",
       " '_i80': 'fl = lambda: 10 + 20  # функция без nараметров \\nf2  = lambda х, y:  х + y  # функция с двумя nараметрами \\nf3  = lambda х, y,  z: х + y + z  # функция с тремя nараметрами \\nprint(fl())\\nprint(f2(5, 10))\\nprint(f3(5, 10, 30))',\n",
       " 'fl': <function __main__.<lambda>()>,\n",
       " 'f3': <function __main__.<lambda>(х, y, z)>,\n",
       " '_i81': 'fl = lambda: 10 + 20  # функция без nараметров \\nf2  = lambda х, y:  х + y  # функция с двумя nараметрами \\nf3  = lambda х, y, z: х + y + z  # функция с тремя nараметрами \\nprint(fl())\\nprint(f2(5, 10))\\nprint(f3(5, 10, 30))',\n",
       " '_i82': 'arr  =  [\"единица1\",  \"Единый\",  \"Единица2\"] \\narr.sort() \\nprint(arr)\\narr.sort(key=lambda s: s.lower()) \\nprint(arr)',\n",
       " 'arr': ['единица1', 'Единица2', 'Единый'],\n",
       " '_i83': 'arr  =  [\"единица1\",  \"Единый\",  \"Единица2\"] \\narr.sort() \\nprint(arr)\\n# распространенный пример исползования лямбда функций:\\narr.sort(key=lambda s: s.lower()) \\nprint(arr)',\n",
       " '_i84': \"ls = ['дыня', 'вишня', 'арбуз', 'яблоко', 'абрикос']\",\n",
       " 'ls': ['дыня', 'вишня', 'арбуз', 'яблоко', 'абрикос'],\n",
       " '_i85': 'sorted(ls)',\n",
       " '_85': ['абрикос', 'арбуз', 'вишня', 'дыня', 'яблоко'],\n",
       " '_i86': 'sorted(ls, key=lambda s:len(s))',\n",
       " '_86': ['дыня', 'вишня', 'арбуз', 'яблоко', 'абрикос'],\n",
       " '_i87': \"def change(a, b): \\n    а = 20\\n    b = 'str'\",\n",
       " 'change': <function __main__.change(a, b)>,\n",
       " '_i88': \"v1 = 30\\nv2 = 'val'\\nchange(v1, v2)\\nprint(f'v1: {v1}')\\nprint(f'v2: {v2}')\",\n",
       " 'v1': 30,\n",
       " 'v2': 'val',\n",
       " '_i89': 's1 = [1]\\n# изменяемый объект внутри функции:\\nchange2(s1)\\ns1',\n",
       " 's1': [1, 10],\n",
       " '_i90': 'def change2(a): \\n    a.append(10)',\n",
       " 'change2': <function __main__.change2(a)>,\n",
       " '_i91': 's1 = [1]\\n# изменяемый объект внутри функции:\\nchange2(s1)\\ns1',\n",
       " '_91': [1, 10],\n",
       " '_i92': 's1 = [1]\\n# изменяемый объект можнет быть неявно изменены внутри функции:\\nchange2(s1)\\ns1',\n",
       " '_92': [1, 10],\n",
       " '_i93': 'def func_glob(glob2): \\n    print(\"Значение  глобальной  nеременной  glоb = \",  glob) \\n    glob2 += 10 \\n    print(\"Значение  локальной  переменной  glob2 = \", glob2) \\n\\nglob, glob2 = 10, 5 \\nfunc_glob(77)  #  Вызываем функцию \\nprint(\"Значение  глобальной  переменной  glob2 = \", glob2)',\n",
       " 'func_glob': <function __main__.func_glob(glob2)>,\n",
       " 'glob': 25,\n",
       " 'glob2': 5,\n",
       " '_i94': 'def func():\\n    loc = 77 # Локальная  переменная \\n    glob = 25 # Локальная  переменная \\n    print(\\'Значение glob внутри функции: \\', glob)\\n\\nglob = 10 #  Глобальная  переменная \\nfunc() # Вызываем функцию \\nprint(\"Значение glob вне  функции: \", glob) \\ntry: \\n    print(loc)  #  Вызовет  исключение  NameError \\nexcept NameError:  #  Обрабатьrnаем исключение \\n    print(\"Переменная 1ос не видна вне функции\") ',\n",
       " '_i95': 'def func():\\n    loc = 77 # Локальная  переменная \\n    glob = 25 # Локальная  переменная \\n    print(\\'Значение glob внутри функции: \\', glob)\\n\\nglob = 10 #  Глобальная  переменная \\nfunc() # Вызываем функцию \\n\\nprint(\"Значение glob вне  функции: \", glob) \\ntry: \\n    print(loc)  #  Вызовет  исключение  NameError \\nexcept NameError:  #  Обрабатьrnаем исключение \\n    print(\"Переменная lос не видна вне функции\") ',\n",
       " '_i96': 'def func():\\n    global glob\\n    loc = 77 #  Локальная  переменная \\n    glob = 25 #  Локальная  переменная \\n    print(\\'Значение glob внутри функции: \\', glob)\\n\\nglob = 10 #  Глобальная  переменная \\nfunc() # Вызываем функцию \\nprint(\"Значение glob вне  функции: \", glob) ',\n",
       " '_i97': 'globals()',\n",
       " '_97': {...},\n",
       " '_i98': 'locals()'}"
      ]
     },
     "execution_count": 98,
     "metadata": {},
     "output_type": "execute_result"
    }
   ],
   "source": [
    "locals()"
   ]
  },
  {
   "cell_type": "code",
   "execution_count": 99,
   "metadata": {},
   "outputs": [],
   "source": [
    "def func(): \n",
    "    loc = 54 \n",
    "    glob2 = 25 \n",
    "    print(\"Локальные идентификаторы внутри  функции\", sorted(vars().keys())) "
   ]
  },
  {
   "cell_type": "code",
   "execution_count": 100,
   "metadata": {},
   "outputs": [
    {
     "name": "stdout",
     "output_type": "stream",
     "text": [
      "Локальные идентификаторы внутри  функции ['glob2', 'loc']\n"
     ]
    }
   ],
   "source": [
    "func()"
   ]
  },
  {
   "cell_type": "code",
   "execution_count": 105,
   "metadata": {},
   "outputs": [
    {
     "ename": "KeyError",
     "evalue": "'val'",
     "output_type": "error",
     "traceback": [
      "\u001b[1;31m---------------------------------------------------------------------------\u001b[0m",
      "\u001b[1;31mKeyError\u001b[0m                                  Traceback (most recent call last)",
      "\u001b[1;32m<ipython-input-105-f21e9518da40>\u001b[0m in \u001b[0;36m<module>\u001b[1;34m()\u001b[0m\n\u001b[1;32m----> 1\u001b[1;33m \u001b[0mtest_f\u001b[0m\u001b[1;33m(\u001b[0m\u001b[1;34m'test'\u001b[0m\u001b[1;33m)\u001b[0m\u001b[1;33m\u001b[0m\u001b[0m\n\u001b[0m",
      "\u001b[1;32m<ipython-input-104-34ece096d4cf>\u001b[0m in \u001b[0;36mtest_f\u001b[1;34m(val)\u001b[0m\n\u001b[0;32m      1\u001b[0m \u001b[1;32mdef\u001b[0m \u001b[0mtest_f\u001b[0m\u001b[1;33m(\u001b[0m\u001b[0mval\u001b[0m\u001b[1;33m)\u001b[0m\u001b[1;33m:\u001b[0m\u001b[1;33m\u001b[0m\u001b[0m\n\u001b[1;32m----> 2\u001b[1;33m     \u001b[0mprint\u001b[0m\u001b[1;33m(\u001b[0m\u001b[0mff\u001b[0m\u001b[1;33m(\u001b[0m\u001b[1;34m'{val}'\u001b[0m\u001b[1;33m)\u001b[0m\u001b[1;33m)\u001b[0m\u001b[1;33m\u001b[0m\u001b[0m\n\u001b[0m\u001b[0;32m      3\u001b[0m     \u001b[0mprint\u001b[0m\u001b[1;33m(\u001b[0m\u001b[0mval\u001b[0m\u001b[1;33m)\u001b[0m\u001b[1;33m\u001b[0m\u001b[0m\n",
      "\u001b[1;32m<ipython-input-103-27ffe9a864c1>\u001b[0m in \u001b[0;36mff\u001b[1;34m(s)\u001b[0m\n\u001b[0;32m      1\u001b[0m \u001b[1;32mdef\u001b[0m \u001b[0mff\u001b[0m\u001b[1;33m(\u001b[0m\u001b[0ms\u001b[0m\u001b[1;33m)\u001b[0m\u001b[1;33m:\u001b[0m\u001b[1;33m\u001b[0m\u001b[0m\n\u001b[1;32m----> 2\u001b[1;33m     \u001b[1;32mreturn\u001b[0m \u001b[0ms\u001b[0m\u001b[1;33m.\u001b[0m\u001b[0mformat\u001b[0m\u001b[1;33m(\u001b[0m\u001b[1;33m**\u001b[0m\u001b[0mglobals\u001b[0m\u001b[1;33m(\u001b[0m\u001b[1;33m)\u001b[0m\u001b[1;33m)\u001b[0m\u001b[1;33m\u001b[0m\u001b[0m\n\u001b[0m",
      "\u001b[1;31mKeyError\u001b[0m: 'val'"
     ]
    }
   ],
   "source": [
    "test_f('test')"
   ]
  },
  {
   "cell_type": "markdown",
   "metadata": {},
   "source": [
    "#### Вложенные функции"
   ]
  },
  {
   "cell_type": "markdown",
   "metadata": {},
   "source": [
    "Одну функцию можно вложить в другую функцию, причем уровень вложенности неограничен.  В этом случае вложенная функция получает свою собственную локальную область видимости и  имеет достуn к идентификаторам внутри функции-родителя. "
   ]
  },
  {
   "cell_type": "code",
   "execution_count": 247,
   "metadata": {
    "collapsed": true
   },
   "outputs": [],
   "source": [
    "def f1(x): \n",
    "    def f2(): \n",
    "        print(x) \n",
    "    return f2 "
   ]
  },
  {
   "cell_type": "code",
   "execution_count": 256,
   "metadata": {},
   "outputs": [
    {
     "name": "stdout",
     "output_type": "stream",
     "text": [
      "12\n"
     ]
    }
   ],
   "source": [
    "fa = f1(12)\n",
    "fa()"
   ]
  },
  {
   "cell_type": "code",
   "execution_count": 257,
   "metadata": {},
   "outputs": [
    {
     "name": "stdout",
     "output_type": "stream",
     "text": [
      "22\n"
     ]
    }
   ],
   "source": [
    "fb = f1(22)\n",
    "fb()"
   ]
  },
  {
   "cell_type": "markdown",
   "metadata": {},
   "source": [
    "# >"
   ]
  },
  {
   "cell_type": "markdown",
   "metadata": {},
   "source": [
    "-------"
   ]
  },
  {
   "cell_type": "markdown",
   "metadata": {},
   "source": [
    "#  Задание к следующей лекции\n",
    "\n",
    "По книге Н. Прохоренок:\n",
    "\n",
    "повторить Глава 11 Пользовательские функции\n",
    "Глава 14 Обработка исключений\n",
    "\n",
    "\n",
    "По книге М. Саммерфильд:\n",
    "повторить Глава 4 Управляющие структуры и функции (разедел \"Собственные функции\")\n",
    "Глава 4 Управляющие структуры и функции (разедел \"Обработка исключений\")"
   ]
  },
  {
   "cell_type": "markdown",
   "metadata": {},
   "source": [
    "#  Задание к следующей лекции\n",
    "\n",
    "По книге Н. Прохоренок:\n",
    "\n",
    "повторить Глава 11 Пользовательские функции\n",
    "Глава 14 Обработка исключений\n",
    "\n",
    "\n",
    "По книге М. Саммерфильд:\n",
    "повторить Глава 4 Управляющие структуры и функции (разедел \"Собственные функции\")\n",
    "Глава 4 Управляющие структуры и функции (разедел \"Обработка исключений\")"
   ]
  }
 ],
 "metadata": {
  "anaconda-cloud": {},
  "kernelspec": {
   "display_name": "Python 3",
   "language": "python",
   "name": "python3"
  },
  "language_info": {
   "codemirror_mode": {
    "name": "ipython",
    "version": 3
   },
   "file_extension": ".py",
   "mimetype": "text/x-python",
   "name": "python",
   "nbconvert_exporter": "python",
   "pygments_lexer": "ipython3",
   "version": "3.6.5"
  }
 },
 "nbformat": 4,
 "nbformat_minor": 1
}

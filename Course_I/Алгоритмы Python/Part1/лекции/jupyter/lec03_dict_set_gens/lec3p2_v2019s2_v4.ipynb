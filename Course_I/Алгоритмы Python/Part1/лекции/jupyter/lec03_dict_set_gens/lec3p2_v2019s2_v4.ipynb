{
 "cells": [
  {
   "cell_type": "markdown",
   "metadata": {},
   "source": [
    "# Лекция 3 \"Словари, множества, кортежи и генераторы\"\n",
    "##  часть 2 Генераторы\n",
    "### Финансовый университет при Правительстве РФ, лектор С.В. Макрушин"
   ]
  },
  {
   "cell_type": "markdown",
   "metadata": {},
   "source": [
    "## Генераторы"
   ]
  },
  {
   "cell_type": "markdown",
   "metadata": {},
   "source": [
    "#### Генераторы списков"
   ]
  },
  {
   "cell_type": "code",
   "execution_count": 1,
   "metadata": {},
   "outputs": [
    {
     "data": {
      "text/plain": [
       "[2, 4, 14, 22, 16, 4]"
      ]
     },
     "execution_count": 1,
     "metadata": {},
     "output_type": "execute_result"
    }
   ],
   "source": [
    "lst_val = [1, 2, 7, 11, 8, 2]\n",
    "# создание списка с помощью цикла:\n",
    "lst_new = []\n",
    "for el in lst_val:\n",
    "    lst_new.append(el * 2)\n",
    "lst_new"
   ]
  },
  {
   "cell_type": "code",
   "execution_count": 2,
   "metadata": {},
   "outputs": [
    {
     "data": {
      "text/plain": [
       "[2, 4, 14, 22, 16, 4]"
      ]
     },
     "execution_count": 2,
     "metadata": {},
     "output_type": "execute_result"
    }
   ],
   "source": [
    "# создание аналогичного списка при помощи генератора:\n",
    "lst_gen = [el * 2 for el in lst_val]\n",
    "lst_gen"
   ]
  },
  {
   "cell_type": "code",
   "execution_count": 3,
   "metadata": {},
   "outputs": [
    {
     "data": {
      "text/plain": [
       "[4, 16, 4]"
      ]
     },
     "execution_count": 3,
     "metadata": {},
     "output_type": "execute_result"
    }
   ],
   "source": [
    "# создание списка с помощью цикла и условия (фильтра):\n",
    "lst_new2 = []\n",
    "for el in lst_val:\n",
    "    if el % 2 == 0: # число el четное (остаток от деления на 2 равен 0)\n",
    "        lst_new2.append(el * 2)\n",
    "lst_new2"
   ]
  },
  {
   "cell_type": "code",
   "execution_count": 4,
   "metadata": {},
   "outputs": [
    {
     "data": {
      "text/plain": [
       "[4, 16, 4]"
      ]
     },
     "execution_count": 4,
     "metadata": {},
     "output_type": "execute_result"
    }
   ],
   "source": [
    "# создание аналогичного списка при помощи генератора:\n",
    "lst_gen2 = [el * 2 for el in lst_val if el % 2 == 0]\n",
    "lst_gen2"
   ]
  },
  {
   "cell_type": "markdown",
   "metadata": {},
   "source": [
    "#### Задача обхода и модификации списка"
   ]
  },
  {
   "cell_type": "markdown",
   "metadata": {},
   "source": [
    "Пример:  отфильтровать список, оставив в нем только нечетные элементы"
   ]
  },
  {
   "cell_type": "code",
   "execution_count": 8,
   "metadata": {},
   "outputs": [],
   "source": [
    "# исходный список:\n",
    "filt_list = [1, 3, 2, 8, 4, 11, 8, 9]"
   ]
  },
  {
   "cell_type": "code",
   "execution_count": 9,
   "metadata": {},
   "outputs": [
    {
     "data": {
      "text/plain": [
       "[1, 3, 2, 8, 4, 11, 8, 9]"
      ]
     },
     "execution_count": 9,
     "metadata": {},
     "output_type": "execute_result"
    }
   ],
   "source": [
    "# НЕ работающий вариант:\n",
    "for el in filt_list:\n",
    "    if el % 2 == 0:\n",
    "        del el # НЕ модифицирует список, удаляет переменную el\n",
    "filt_list"
   ]
  },
  {
   "cell_type": "code",
   "execution_count": 15,
   "metadata": {
    "scrolled": true
   },
   "outputs": [
    {
     "name": "stdout",
     "output_type": "stream",
     "text": [
      "длина списка: 8\n",
      "ind: 0, el: 1\n",
      "ind: 1, el: 3\n",
      "ind: 2, el: 2\n",
      "removing\n",
      "ind: 3, el: 4\n",
      "removing\n",
      "ind: 4, el: 10\n",
      "removing\n"
     ]
    },
    {
     "data": {
      "text/plain": [
       "[1, 3, 8, 11, 9]"
      ]
     },
     "execution_count": 15,
     "metadata": {},
     "output_type": "execute_result"
    }
   ],
   "source": [
    "filt_list = [1, 3, 2, 8, 4, 11, 10, 9]\n",
    "print(f'длина списка: {len(filt_list)}')\n",
    "\n",
    "# Еще один НЕ работающий вариант: \n",
    "for ind, el in enumerate(filt_list):\n",
    "    print(f'ind: {ind}, el: {el}')\n",
    "    if el % 2 == 0:\n",
    "        print('removing')\n",
    "        del filt_list[ind] # мы \"пилим сук, на котором сидим\": удаление элемента влияет на работу итератора\n",
    "        # после удаления элемента с индексом ind его место занимает следующий элемент =>\n",
    "        # на следующей итерации он не будет рассмотрен!\n",
    "filt_list "
   ]
  },
  {
   "cell_type": "markdown",
   "metadata": {},
   "source": [
    "В результате выполнения `del filt_list[ind]` итератор \"перескочил\" значение 8, 11, 9."
   ]
  },
  {
   "cell_type": "code",
   "execution_count": 16,
   "metadata": {},
   "outputs": [
    {
     "name": "stdout",
     "output_type": "stream",
     "text": [
      "ind: 7, el: 9\n",
      "ind: 6, el: 10\n",
      "removing\n",
      "ind: 5, el: 11\n",
      "ind: 4, el: 4\n",
      "removing\n",
      "ind: 3, el: 8\n",
      "removing\n",
      "ind: 2, el: 2\n",
      "removing\n",
      "ind: 1, el: 3\n",
      "ind: 0, el: 1\n"
     ]
    },
    {
     "data": {
      "text/plain": [
       "[1, 3, 11, 9]"
      ]
     },
     "execution_count": 16,
     "metadata": {},
     "output_type": "execute_result"
    }
   ],
   "source": [
    "filt_list = [1, 3, 2, 8, 4, 11, 10, 9]\n",
    "\n",
    "for ind in range(len(filt_list)-1, -1, -1): # идем с конца в начало с шагом -1\n",
    "    # в явном виде итерируемся по индексу (целочисленная перменная ind), а не по элементам списка\n",
    "    el = filt_list[ind]\n",
    "    print(f'ind: {ind}, el: {el}')    \n",
    "#     do_action(element)\n",
    "    if el % 2 == 0:\n",
    "        print('removing')        \n",
    "        del filt_list[ind]\n",
    "        # удаление элементов при обходе с хвоста списка не меняет индексов предыдущих элементов =>\n",
    "        # после удаления мы не \"перескакиваем\" очередное (предыдущее) значение\n",
    "filt_list # РАБОТАЕТ!"
   ]
  },
  {
   "cell_type": "code",
   "execution_count": 22,
   "metadata": {},
   "outputs": [
    {
     "data": {
      "text/plain": [
       "[1, 3, 11, 9]"
      ]
     },
     "execution_count": 22,
     "metadata": {},
     "output_type": "execute_result"
    }
   ],
   "source": [
    "# фильтарция списков при помощи генераторов - оптимальное решение для большинства случаев:\n",
    "filt_list = [1, 3, 2, 8, 4, 11, 10, 9]\n",
    "filt_list2 = filt_list\n",
    "filt_list = [el for el in filt_list if el % 2 == 1] # просто, быстро и правильно работает!\n",
    "filt_list"
   ]
  },
  {
   "cell_type": "code",
   "execution_count": 23,
   "metadata": {},
   "outputs": [
    {
     "data": {
      "text/plain": [
       "[1, 3, 2, 8, 4, 11, 10, 9]"
      ]
     },
     "execution_count": 23,
     "metadata": {},
     "output_type": "execute_result"
    }
   ],
   "source": [
    "# важный нюанс: исходный объект списка не изменился\n",
    "# это показывают другие переменные, ссылающиеся на него:\n",
    "filt_list2 "
   ]
  },
  {
   "cell_type": "code",
   "execution_count": 25,
   "metadata": {},
   "outputs": [
    {
     "data": {
      "text/plain": [
       "[1, 3, 11, 9]"
      ]
     },
     "execution_count": 25,
     "metadata": {},
     "output_type": "execute_result"
    }
   ],
   "source": [
    "# фильтрация с сохранением результата в том же объекте списка\n",
    "# решает задачу изменения исходного объекта, если ссылка на объект filt_list хранится в других переменных\n",
    "filt_list = [1, 3, 2, 8, 4, 11, 10, 9]\n",
    "filt_list2 = filt_list\n",
    "filt_list[:] = [el for el in filt_list if el % 2 == 1]\n",
    "filt_list"
   ]
  },
  {
   "cell_type": "code",
   "execution_count": 27,
   "metadata": {},
   "outputs": [
    {
     "data": {
      "text/plain": [
       "[1, 3, 11, 9]"
      ]
     },
     "execution_count": 27,
     "metadata": {},
     "output_type": "execute_result"
    }
   ],
   "source": [
    "filt_list2 # работает!"
   ]
  },
  {
   "cell_type": "markdown",
   "metadata": {},
   "source": [
    "#### Задача приведения списка к \"плоскому\" виду (flatten list)"
   ]
  },
  {
   "cell_type": "code",
   "execution_count": 28,
   "metadata": {},
   "outputs": [],
   "source": [
    "list2d = [[1, 2, 3], [4, 5, 6], [7], [8, 9]]"
   ]
  },
  {
   "cell_type": "code",
   "execution_count": 13,
   "metadata": {},
   "outputs": [
    {
     "data": {
      "text/plain": [
       "[1, 2, 3, 4, 5, 6, 7, 8, 9]"
      ]
     },
     "execution_count": 13,
     "metadata": {},
     "output_type": "execute_result"
    }
   ],
   "source": [
    "flat_list = []\n",
    "\n",
    "for sublist in list2d:\n",
    "    for item in sublist:\n",
    "        flat_list.append(item)\n",
    "        \n",
    "flat_list"
   ]
  },
  {
   "cell_type": "code",
   "execution_count": 29,
   "metadata": {},
   "outputs": [
    {
     "data": {
      "text/plain": [
       "[1, 2, 3, 4, 5, 6, 7, 8, 9]"
      ]
     },
     "execution_count": 29,
     "metadata": {},
     "output_type": "execute_result"
    }
   ],
   "source": [
    "# вложенные генераторы списокв:\n",
    "flat_list = [item for sublist in list2d for item in sublist]\n",
    "flat_list"
   ]
  },
  {
   "cell_type": "code",
   "execution_count": 30,
   "metadata": {},
   "outputs": [
    {
     "name": "stdout",
     "output_type": "stream",
     "text": [
      "51.4 µs ± 12.2 µs per loop (mean ± std. dev. of 7 runs, 10000 loops each)\n"
     ]
    }
   ],
   "source": [
    "%%timeit\n",
    "list2d = [[1, 2, 3], [4, 5, 6], [7], [8, 9]] * 10\n",
    "for sublist in list2d:\n",
    "    for item in sublist:\n",
    "        flat_list.append(item)"
   ]
  },
  {
   "cell_type": "code",
   "execution_count": 31,
   "metadata": {},
   "outputs": [
    {
     "name": "stdout",
     "output_type": "stream",
     "text": [
      "12.5 µs ± 1.35 µs per loop (mean ± std. dev. of 7 runs, 100000 loops each)\n"
     ]
    }
   ],
   "source": [
    "%%timeit \n",
    "list2d = [[1, 2, 3],[4, 5, 6], [7], [8, 9]] * 10\n",
    "[item for sublist in list2d for item in sublist]"
   ]
  },
  {
   "cell_type": "markdown",
   "metadata": {},
   "source": [
    "=> Генераторы списков обычно существенно быстрее аналогичных циклов."
   ]
  },
  {
   "cell_type": "markdown",
   "metadata": {},
   "source": [
    "Приведение к плоскому виду с помощью функции `sum()`:\n",
    "\n",
    "* Вид функции `sum(iterable, start=0)`\n",
    "* Docstring: Return the sum of a 'start' value (default: 0) plus an iterable of numbers"
   ]
  },
  {
   "cell_type": "code",
   "execution_count": 32,
   "metadata": {},
   "outputs": [
    {
     "data": {
      "text/plain": [
       "[1, 2, 3, 4, 5, 6, 7, 8, 9]"
      ]
     },
     "execution_count": 32,
     "metadata": {},
     "output_type": "execute_result"
    }
   ],
   "source": [
    "list2d = [[1, 2, 3],[4, 5, 6], [7], [8, 9]]\n",
    "sum(list2d, [])"
   ]
  },
  {
   "cell_type": "code",
   "execution_count": 33,
   "metadata": {},
   "outputs": [
    {
     "name": "stdout",
     "output_type": "stream",
     "text": [
      "36.1 µs ± 7.85 µs per loop (mean ± std. dev. of 7 runs, 10000 loops each)\n"
     ]
    }
   ],
   "source": [
    "%%timeit\n",
    "list2d = [[1, 2, 3], [4, 5, 6], [7], [8, 9]] * 10\n",
    "sum(list2d, [])"
   ]
  },
  {
   "cell_type": "code",
   "execution_count": 19,
   "metadata": {
    "collapsed": true
   },
   "outputs": [],
   "source": [
    "import functools\n",
    "import itertools\n",
    "import numpy\n",
    "\n",
    "def forfor(a):\n",
    "    return [item for sublist in a for item in sublist]\n",
    "\n",
    "\n",
    "def sum_brackets(a):\n",
    "    return sum(a, [])\n",
    "\n",
    "\n",
    "def functools_reduce(a):\n",
    "    return functools.reduce(operator.concat, a)\n",
    "\n",
    "\n",
    "def itertools_chain(a):\n",
    "    return list(itertools.chain.from_iterable(a))\n",
    "\n",
    "\n",
    "def numpy_flat(a):\n",
    "    return list(numpy.array(a).flat)\n",
    "\n",
    "\n",
    "def numpy_concatenate(a):\n",
    "    return list(numpy.concatenate(a))"
   ]
  },
  {
   "cell_type": "markdown",
   "metadata": {},
   "source": [
    "![Эффективность различных механизмов получения плоского списка](flattern.png)"
   ]
  },
  {
   "cell_type": "markdown",
   "metadata": {},
   "source": [
    "#### Выражения генераторы"
   ]
  },
  {
   "cell_type": "code",
   "execution_count": 38,
   "metadata": {},
   "outputs": [
    {
     "data": {
      "text/plain": [
       "[1, 2, 7, 11, 8, 2]"
      ]
     },
     "execution_count": 38,
     "metadata": {},
     "output_type": "execute_result"
    }
   ],
   "source": [
    "lst_val"
   ]
  },
  {
   "cell_type": "code",
   "execution_count": 39,
   "metadata": {},
   "outputs": [
    {
     "data": {
      "text/plain": [
       "<generator object <genexpr> at 0x000001BE879C1F68>"
      ]
     },
     "execution_count": 39,
     "metadata": {},
     "output_type": "execute_result"
    }
   ],
   "source": [
    "cor_gen = (el * 2 for el in lst_val)\n",
    "cor_gen"
   ]
  },
  {
   "cell_type": "code",
   "execution_count": 40,
   "metadata": {},
   "outputs": [
    {
     "data": {
      "text/plain": [
       "62"
      ]
     },
     "execution_count": 40,
     "metadata": {},
     "output_type": "execute_result"
    }
   ],
   "source": [
    "# использование выражения генератора в качестве источника итерируемых данных:\n",
    "sum(cor_gen)"
   ]
  },
  {
   "cell_type": "code",
   "execution_count": 51,
   "metadata": {},
   "outputs": [
    {
     "data": {
      "text/plain": [
       "62"
      ]
     },
     "execution_count": 51,
     "metadata": {},
     "output_type": "execute_result"
    }
   ],
   "source": [
    "# передаем генератор напрямую:\n",
    "sum((el * 2 for el in lst_val))"
   ]
  },
  {
   "cell_type": "code",
   "execution_count": 53,
   "metadata": {},
   "outputs": [
    {
     "data": {
      "text/plain": [
       "62"
      ]
     },
     "execution_count": 53,
     "metadata": {},
     "output_type": "execute_result"
    }
   ],
   "source": [
    "# передаем генератор напрямую (упрощенный синтаксис):\n",
    "sum(el * 2 for el in lst_val)"
   ]
  },
  {
   "cell_type": "code",
   "execution_count": 45,
   "metadata": {},
   "outputs": [
    {
     "data": {
      "text/plain": [
       "<generator object <genexpr> at 0x000001BE87A8C830>"
      ]
     },
     "execution_count": 45,
     "metadata": {},
     "output_type": "execute_result"
    }
   ],
   "source": [
    "cor_gen = (el * 2 for el in lst_val)\n",
    "cor_gen"
   ]
  },
  {
   "cell_type": "code",
   "execution_count": 46,
   "metadata": {
    "scrolled": true
   },
   "outputs": [
    {
     "name": "stdout",
     "output_type": "stream",
     "text": [
      "2\n",
      "4\n",
      "14\n",
      "22\n",
      "16\n",
      "4\n"
     ]
    }
   ],
   "source": [
    "# итерирование по генератору с помощью цикла:\n",
    "for e in cor_gen:\n",
    "    print(e)"
   ]
  },
  {
   "cell_type": "code",
   "execution_count": 50,
   "metadata": {},
   "outputs": [
    {
     "data": {
      "text/plain": [
       "<generator object <genexpr> at 0x000001BE87A8C7D8>"
      ]
     },
     "execution_count": 50,
     "metadata": {},
     "output_type": "execute_result"
    }
   ],
   "source": [
    "cor_gen = (el * 2 for el in lst_val)\n",
    "cor_gen"
   ]
  },
  {
   "cell_type": "code",
   "execution_count": 49,
   "metadata": {
    "scrolled": true
   },
   "outputs": [
    {
     "data": {
      "text/plain": [
       "4"
      ]
     },
     "execution_count": 49,
     "metadata": {},
     "output_type": "execute_result"
    }
   ],
   "source": [
    "next(cor_gen)"
   ]
  },
  {
   "cell_type": "code",
   "execution_count": 54,
   "metadata": {},
   "outputs": [],
   "source": [
    "import math"
   ]
  },
  {
   "cell_type": "code",
   "execution_count": 55,
   "metadata": {},
   "outputs": [
    {
     "data": {
      "text/plain": [
       "1.9395054106807064"
      ]
     },
     "execution_count": 55,
     "metadata": {},
     "output_type": "execute_result"
    }
   ],
   "source": [
    "sum((math.sin(v) for v in range(10000)))"
   ]
  },
  {
   "cell_type": "code",
   "execution_count": 56,
   "metadata": {},
   "outputs": [
    {
     "data": {
      "text/plain": [
       "1.9395054106807064"
      ]
     },
     "execution_count": 56,
     "metadata": {},
     "output_type": "execute_result"
    }
   ],
   "source": [
    "# Допустим и более удобный синтаксис:\n",
    "sum(math.sin(v) for v in range(10000)) "
   ]
  },
  {
   "cell_type": "markdown",
   "metadata": {},
   "source": [
    "#### Генераторы множеств"
   ]
  },
  {
   "cell_type": "markdown",
   "metadata": {},
   "source": [
    "Помимо генераторов списков язык Python поддерживает генераторы множеств. Синтаксис генераторов множеств похож на синтаксис генераторов списков, только вместо квадратных скобок используются фигурные скобки."
   ]
  },
  {
   "cell_type": "code",
   "execution_count": 57,
   "metadata": {},
   "outputs": [
    {
     "data": {
      "text/plain": [
       "{1, 4, 9}"
      ]
     },
     "execution_count": 57,
     "metadata": {},
     "output_type": "execute_result"
    }
   ],
   "source": [
    "sg1 = {х**2 for х in [1, 2, 1, 2, 1, 2, 3]}\n",
    "sg1"
   ]
  },
  {
   "cell_type": "code",
   "execution_count": 58,
   "metadata": {},
   "outputs": [
    {
     "data": {
      "text/plain": [
       "[1, 64, 729]"
      ]
     },
     "execution_count": 58,
     "metadata": {},
     "output_type": "execute_result"
    }
   ],
   "source": [
    "sg2 = [x**3 for x in sg1]\n",
    "sg2"
   ]
  },
  {
   "cell_type": "code",
   "execution_count": 59,
   "metadata": {},
   "outputs": [
    {
     "data": {
      "text/plain": [
       "{2}"
      ]
     },
     "execution_count": 59,
     "metadata": {},
     "output_type": "execute_result"
    }
   ],
   "source": [
    "{x for x in [1, 2, 1, 2, 1, 2, 3] if x % 2 == 0}"
   ]
  },
  {
   "cell_type": "code",
   "execution_count": 60,
   "metadata": {},
   "outputs": [],
   "source": [
    "# нужно помнить, что так пустое множество НЕ объявляется:\n",
    "v = {}"
   ]
  },
  {
   "cell_type": "code",
   "execution_count": 61,
   "metadata": {},
   "outputs": [
    {
     "data": {
      "text/plain": [
       "dict"
      ]
     },
     "execution_count": 61,
     "metadata": {},
     "output_type": "execute_result"
    }
   ],
   "source": [
    "type(v)"
   ]
  },
  {
   "cell_type": "code",
   "execution_count": 62,
   "metadata": {},
   "outputs": [],
   "source": [
    "v2 = set()"
   ]
  },
  {
   "cell_type": "code",
   "execution_count": 63,
   "metadata": {},
   "outputs": [
    {
     "data": {
      "text/plain": [
       "set"
      ]
     },
     "execution_count": 63,
     "metadata": {},
     "output_type": "execute_result"
    }
   ],
   "source": [
    "type(v2)"
   ]
  },
  {
   "cell_type": "code",
   "execution_count": 64,
   "metadata": {},
   "outputs": [
    {
     "data": {
      "text/plain": [
       "set()"
      ]
     },
     "execution_count": 64,
     "metadata": {},
     "output_type": "execute_result"
    }
   ],
   "source": [
    "# Однако:\n",
    "{e for e in [1, 2, 3] if e > 10}"
   ]
  },
  {
   "cell_type": "markdown",
   "metadata": {},
   "source": [
    "#### Генераторы словарей"
   ]
  },
  {
   "cell_type": "markdown",
   "metadata": {},
   "source": [
    "Помимо генераторов списков язык Python поддерживает генераторы словарей. Синтаксис генераторов словарей похож на синтаксис генераторов списков, но имеет два отличия: \n",
    "* выражение заключается в фигурные скобки, а не в квадратные; \n",
    "* внутри выражения перед циклом for  указываются два значения через двоеточие, а не одно:\n",
    "    * значение, расположенное слева от двоеточия: ключ\n",
    "    * значение, расположенное справа от двоеточия: значение элемента.  "
   ]
  },
  {
   "cell_type": "code",
   "execution_count": 65,
   "metadata": {},
   "outputs": [
    {
     "data": {
      "text/plain": [
       "{'a': 1, 'b': 2}"
      ]
     },
     "execution_count": 65,
     "metadata": {},
     "output_type": "execute_result"
    }
   ],
   "source": [
    "keys = ['a', 'b'] # Список с ключами\n",
    "values = [1, 2]  # Список со  значениями \n",
    "d18 = {k: v for (k,  v) in zip(keys,  values)} \n",
    "d18"
   ]
  },
  {
   "cell_type": "code",
   "execution_count": 66,
   "metadata": {},
   "outputs": [
    {
     "data": {
      "text/plain": [
       "{'a': 2, 'b': 4}"
      ]
     },
     "execution_count": 66,
     "metadata": {},
     "output_type": "execute_result"
    }
   ],
   "source": [
    "{k: 2 * v for (k,  v) in d18.items()}"
   ]
  },
  {
   "cell_type": "code",
   "execution_count": 67,
   "metadata": {},
   "outputs": [
    {
     "data": {
      "text/plain": [
       "{'a': 2, 'b': 4}"
      ]
     },
     "execution_count": 67,
     "metadata": {},
     "output_type": "execute_result"
    }
   ],
   "source": [
    "# как и в цикле for скобки при распаковке картежа можно опускать:\n",
    "{k: 2 * v for k, v in d18.items()}"
   ]
  },
  {
   "cell_type": "code",
   "execution_count": 68,
   "metadata": {},
   "outputs": [
    {
     "data": {
      "text/plain": [
       "{0: 0, 1: 1, 2: 4, 3: 9, 4: 16, 5: 25, 6: 36, 7: 49, 8: 64, 9: 81}"
      ]
     },
     "execution_count": 68,
     "metadata": {},
     "output_type": "execute_result"
    }
   ],
   "source": [
    "{e: e ** 2 for e in range(10)}"
   ]
  },
  {
   "cell_type": "code",
   "execution_count": 69,
   "metadata": {},
   "outputs": [
    {
     "data": {
      "text/plain": [
       "{'b': 4}"
      ]
     },
     "execution_count": 69,
     "metadata": {},
     "output_type": "execute_result"
    }
   ],
   "source": [
    "{k: 2 * v for k, v in d18.items() if v % 2 == 0}"
   ]
  },
  {
   "cell_type": "code",
   "execution_count": 70,
   "metadata": {},
   "outputs": [
    {
     "data": {
      "text/plain": [
       "{'a': 0, 'b': 0}"
      ]
     },
     "execution_count": 70,
     "metadata": {},
     "output_type": "execute_result"
    }
   ],
   "source": [
    "{k: 0 for k in d18} "
   ]
  }
 ],
 "metadata": {
  "kernelspec": {
   "display_name": "Python 3",
   "language": "python",
   "name": "python3"
  },
  "language_info": {
   "codemirror_mode": {
    "name": "ipython",
    "version": 3
   },
   "file_extension": ".py",
   "mimetype": "text/x-python",
   "name": "python",
   "nbconvert_exporter": "python",
   "pygments_lexer": "ipython3",
   "version": "3.7.3"
  }
 },
 "nbformat": 4,
 "nbformat_minor": 1
}

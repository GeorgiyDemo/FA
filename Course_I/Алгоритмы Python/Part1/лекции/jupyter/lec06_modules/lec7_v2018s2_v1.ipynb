{
 "cells": [
  {
   "cell_type": "markdown",
   "metadata": {},
   "source": [
    "# Лекция 7"
   ]
  },
  {
   "cell_type": "markdown",
   "metadata": {},
   "source": [
    "## Модули и пакеты"
   ]
  },
  {
   "cell_type": "markdown",
   "metadata": {},
   "source": [
    "Модуль в языке Python - это обычный файл с расширением .ру. Модуль может содержать любой программный код на языке Python. \n",
    "\n",
    " \n",
    "Каждая программа, которую мы писали до сих пор, находилась в отдельном файле .ру, который можно считать не только программой, но и модулем. Основное различие между модулем и программой состоит в том, что программа предназначена для того, чтобы ее запускали, тогда как модуль предназначен для того, чтобы его импортировали и использовали в программах. \n",
    "\n",
    "Не все модули располагаются в файлах с расширением .ру, например, модуль sys встроен в Python, а некоторые модули написаны на других языках программирования (чаще всего на языке С). Однако большая часть библиотеки языка Python написана именно на языке Python."
   ]
  },
  {
   "cell_type": "markdown",
   "metadata": {},
   "source": [
    "Импортирование может выполняться несколькими синтаксическими конструкциями, например: \n",
    "\n",
    "`import importable \n",
    "import importablel, importable2 importableN \n",
    "import importable as preferred_name`"
   ]
  },
  {
   "cell_type": "code",
   "execution_count": 1,
   "metadata": {
    "collapsed": true
   },
   "outputs": [],
   "source": [
    "# пример:\n",
    "import math"
   ]
  },
  {
   "cell_type": "code",
   "execution_count": 6,
   "metadata": {
    "collapsed": true
   },
   "outputs": [],
   "source": [
    "# одновременный импорт нескольких модулей:\n",
    "import math, collections"
   ]
  },
  {
   "cell_type": "code",
   "execution_count": 5,
   "metadata": {
    "collapsed": true
   },
   "outputs": [],
   "source": [
    "# для импортируемого модуля задается произвольное имя:\n",
    "import numpy as np"
   ]
  },
  {
   "cell_type": "code",
   "execution_count": 7,
   "metadata": {},
   "outputs": [
    {
     "data": {
      "text/plain": [
       "1.0"
      ]
     },
     "execution_count": 7,
     "metadata": {},
     "output_type": "execute_result"
    }
   ],
   "source": [
    "# использование импортированных модулей:\n",
    "math.cos(0.0)"
   ]
  },
  {
   "cell_type": "code",
   "execution_count": 9,
   "metadata": {},
   "outputs": [
    {
     "data": {
      "text/plain": [
       "__main__.Person"
      ]
     },
     "execution_count": 9,
     "metadata": {},
     "output_type": "execute_result"
    }
   ],
   "source": [
    "nt = collections.namedtuple('Person', ['name', 'age'])\n",
    "nt"
   ]
  },
  {
   "cell_type": "code",
   "execution_count": 10,
   "metadata": {},
   "outputs": [
    {
     "data": {
      "text/plain": [
       "array([0, 1, 2, 3, 4, 5, 6, 7, 8, 9])"
      ]
     },
     "execution_count": 10,
     "metadata": {},
     "output_type": "execute_result"
    }
   ],
   "source": [
    "np.arange(10)"
   ]
  },
  {
   "cell_type": "markdown",
   "metadata": {},
   "source": [
    "Теоретически последний способ может привести к конфликтам имен, но на практике синтаксис as обычно используется, чтобы \n",
    "как раз избежать их. Подобное переименование, в частности, удобно использовать при экспериментировании с различными реализациями одного и того же модуля. \n",
    "\n",
    "Например, допустим, что у нас имеется два модуля MyModuleA и MyModuleB, которые имеют один и тот же API (Application Programming Interface - прикладной программный интерфейс). Мы могли бы в программе записать инструкцию import MyModuleA as MyModule, а позднее легко переключиться на использование import MyModuleB as MyModule. "
   ]
  },
  {
   "cell_type": "markdown",
   "metadata": {},
   "source": [
    "** Расположение и порядок выполнения **\n",
    "\n",
    "Обычно все инструкции import помещаются в начало файла .ру после описания модуля. Рекомендуется сначала импортировать модули стандартной библиотеки, затем модули сторонних разработчиков и в последнюю очередь свои собственные модули. "
   ]
  },
  {
   "cell_type": "markdown",
   "metadata": {},
   "source": [
    "Альтернативный вариант использования инструкции import: \n",
    "\n",
    "`from importable import object as preferred_name \n",
    "from importable import objecth object2 objectN \n",
    "from importable import (objectl, object2, object3, object4, objects, \n",
    "object6 objectN) \n",
    "from importable import * `\n",
    "\n",
    "Эти синтаксические конструкции могут приводить к конфликтам имен, поскольку они обеспечивают непосредственный доступ к  импортируемым объектам (переменным, функциям, типам данных или  модулям). Если для импортирования большого числа объектов  необходимо использовать синтаксис from ... import, мы можем расположить инструкцию импорта в нескольких строках, либо экранируя каждый символ перевода строки, кроме последнего, либо заключая список имен объектов в круглые скобки, как показано в третьем примере. \n"
   ]
  },
  {
   "cell_type": "code",
   "execution_count": 11,
   "metadata": {
    "collapsed": true
   },
   "outputs": [],
   "source": [
    "from math import sin"
   ]
  },
  {
   "cell_type": "code",
   "execution_count": 15,
   "metadata": {},
   "outputs": [
    {
     "data": {
      "text/plain": [
       "0.0"
      ]
     },
     "execution_count": 15,
     "metadata": {},
     "output_type": "execute_result"
    }
   ],
   "source": [
    "# использование импортированного объекта без указания имени модуля:\n",
    "sin(0.0)"
   ]
  },
  {
   "cell_type": "code",
   "execution_count": 13,
   "metadata": {
    "collapsed": true
   },
   "outputs": [],
   "source": [
    "from math import (sin, cos, tan)"
   ]
  },
  {
   "cell_type": "code",
   "execution_count": 14,
   "metadata": {},
   "outputs": [
    {
     "data": {
      "text/plain": [
       "0.0"
      ]
     },
     "execution_count": 14,
     "metadata": {},
     "output_type": "execute_result"
    }
   ],
   "source": [
    "tan(0.0)"
   ]
  },
  {
   "cell_type": "markdown",
   "metadata": {},
   "source": [
    "В синтаксической конструкции:\n",
    "\n",
    "`from importable import * `\n",
    "\n",
    "символ «*» означает «импортировать все имена, которые не являются частными». На практике это означает, что будут  \n",
    "импортированы все объекты из модуля за исключением тех, чьи имена начинаются с символа подчеркивания, \n",
    "либо, если в модуле определена глобальная переменная \\__all\\__ со списком имен, будут импортированы все  \n",
    "объекты, имена которых перечислены в переменной \\__all\\__.\n",
    "\n",
    "Синтаксис import * потенциально опасен появлением конфликтов имен."
   ]
  },
  {
   "cell_type": "code",
   "execution_count": null,
   "metadata": {
    "collapsed": true
   },
   "outputs": [],
   "source": []
  },
  {
   "cell_type": "code",
   "execution_count": 18,
   "metadata": {
    "collapsed": true
   },
   "outputs": [],
   "source": [
    "filename = 'C:\\Python\\Ipynb\\2016\\lec_6'"
   ]
  },
  {
   "cell_type": "code",
   "execution_count": 3,
   "metadata": {},
   "outputs": [
    {
     "ename": "NameError",
     "evalue": "name 'filename' is not defined",
     "output_type": "error",
     "traceback": [
      "\u001b[1;31m---------------------------------------------------------------------------\u001b[0m",
      "\u001b[1;31mNameError\u001b[0m                                 Traceback (most recent call last)",
      "\u001b[1;32m<ipython-input-3-39418f1febf1>\u001b[0m in \u001b[0;36m<module>\u001b[1;34m()\u001b[0m\n\u001b[0;32m      1\u001b[0m \u001b[1;32mimport\u001b[0m \u001b[0mos\u001b[0m\u001b[1;33m\u001b[0m\u001b[0m\n\u001b[0;32m      2\u001b[0m \u001b[1;33m\u001b[0m\u001b[0m\n\u001b[1;32m----> 3\u001b[1;33m \u001b[0mprint\u001b[0m\u001b[1;33m(\u001b[0m\u001b[0mos\u001b[0m\u001b[1;33m.\u001b[0m\u001b[0mpath\u001b[0m\u001b[1;33m.\u001b[0m\u001b[0mbasename\u001b[0m\u001b[1;33m(\u001b[0m\u001b[0mfilename\u001b[0m\u001b[1;33m)\u001b[0m\u001b[1;33m)\u001b[0m \u001b[1;31m# безопасный доступ по полным квалифицированным именам\u001b[0m\u001b[1;33m\u001b[0m\u001b[0m\n\u001b[0m",
      "\u001b[1;31mNameError\u001b[0m: name 'filename' is not defined"
     ]
    }
   ],
   "source": [
    "import os \n",
    "\n",
    "print(os.path.basename(filename)) # безопасный доступ по полным квалифицированным именам "
   ]
  },
  {
   "cell_type": "code",
   "execution_count": 21,
   "metadata": {},
   "outputs": [
    {
     "name": "stdout",
     "output_type": "stream",
     "text": [
      "lec_6\n"
     ]
    }
   ],
   "source": [
    "import os.path as p \n",
    "\n",
    "print(p.basename(filename)) "
   ]
  },
  {
   "cell_type": "code",
   "execution_count": 22,
   "metadata": {},
   "outputs": [
    {
     "name": "stdout",
     "output_type": "stream",
     "text": [
      "lec_6\n"
     ]
    }
   ],
   "source": [
    "from os import path \n",
    "\n",
    "print(path.basename(filename))"
   ]
  },
  {
   "cell_type": "code",
   "execution_count": 23,
   "metadata": {},
   "outputs": [
    {
     "name": "stdout",
     "output_type": "stream",
     "text": [
      "lec_6\n"
     ]
    }
   ],
   "source": [
    "from os.path import basename \n",
    "\n",
    "print(basename(filename)) "
   ]
  },
  {
   "cell_type": "code",
   "execution_count": 24,
   "metadata": {},
   "outputs": [
    {
     "name": "stdout",
     "output_type": "stream",
     "text": [
      "lec_6\n"
     ]
    }
   ],
   "source": [
    "from os.path import * \n",
    "\n",
    "print(basename(filename)) # есть риск множественных конфликтов имен "
   ]
  },
  {
   "cell_type": "markdown",
   "metadata": {},
   "source": [
    "__ Порядок поиска файлов содержащих модули __\n",
    "\n",
    "Порядок следующий:\n",
    "1. каталог, где находится сама программа, даже если она вызывается из другого каталога;\n",
    "2. пути к каталогам из переменной окружения PYTHONPATH, если она определена;\n",
    "3.  пути к каталогам стандартной библиотеки языка Python - они определяются на этапе установки Python. "
   ]
  },
  {
   "cell_type": "markdown",
   "metadata": {},
   "source": [
    "Программа может импортировать некоторые модули, которые в свою очередь импортируют другие модули, включая те, что уже были импортированы. Это не является проблемой. Всякий раз, когда выполняется попытка импортировать модуль, интерпретатор Python сначала проверяет - не был ли импортирован требуемый модуль ранее. \n",
    "\n",
    "Если модуль еще не был импортирован, Python выполняет  скомпилированный байт-код модуля, создавая тем самым переменные, функции и другие объекты модуля, после чего добавляет во внутреннюю  структуру запись о том, что модуль был импортирован. \n",
    "\n",
    "Когда интерпретатору требуется скомпилированный байт-код модуля, он генерирует его автоматически - этим Python отличается от таких языков программирования, как Java, где компилирование в байт-код должно выполняться явно. Сначала интерпретатор попытается  отыскать файл, имя которого совпадает с именем файла, имеющего  расширение .ру, но имеющий расширение .руо - это оптимизированный байт-код скомпилированной версии модуля. Если файл с  расширением .руо не будет найден (или он более старый, чем файл с расширением .ру), интерпретатор попытается отыскать одноименный файл с расширением .рус - это неоптимизированный байт-код скомпилированной версии модуля. Если интерпретатор обнаружит актуальную  скомпилированную версию модуля, он загрузит ее; в противном случае  Python загрузит файл с расширением .ру и скомпилирует его в байт-код. В любом случае интерпретатор загрузит в память модуль в виде  скомпилированного байт-кода. \n",
    "\n",
    "При любых  последующих попытках импортировать этот модуль интерпретатор будет обнаруживать, что модуль уже импортирован и не будет выполнять никаких действий. \n"
   ]
  },
  {
   "cell_type": "markdown",
   "metadata": {},
   "source": [
    "### Пакеты"
   ]
  },
  {
   "cell_type": "markdown",
   "metadata": {},
   "source": [
    "Пакет - это простой каталог, содержащий множество модулей и файл с именем \\__init\\__.ру."
   ]
  },
  {
   "cell_type": "markdown",
   "metadata": {},
   "source": [
    "Например, допустим, что у нас имеется некоторое множество файлов модулей, предназначенных для чтения и записи \n",
    "графических файлов различных форматов. Если поместить эти модули в каталог Graphics вместе с пустым файлом \\__init\\__.ру, то этот каталог превратится в пакет: \n",
    "\n",
    "`Graphics/ \n",
    "    __init__.ру \n",
    "    Bmp.py \n",
    "    Jpeg.py \n",
    "    Png.py \n",
    "    Tiff.py`"
   ]
  },
  {
   "cell_type": "markdown",
   "metadata": {},
   "source": [
    "Пока каталог Graphics является подкаталогом каталога с программой или находится в пути поиска Python, мы будем иметь возможность импортировать любой из этих модулей и использовать их. Мы должны сделать все возможное, чтобы гарантировать несовпадение имени нашего модуля верхнего уровня (Graphics) с каким-либо из имен верхнего \n",
    "уровня в стандартной библиотеке - с целью избежать конфликтов имен. "
   ]
  },
  {
   "cell_type": "code",
   "execution_count": 26,
   "metadata": {},
   "outputs": [
    {
     "name": "stdout",
     "output_type": "stream",
     "text": [
      "file bashful.bmp loaded as BMP\n"
     ]
    }
   ],
   "source": [
    "import Graphics.Bmp \n",
    "\n",
    "image = Graphics.Bmp.g_load(\"bashful.bmp\") "
   ]
  },
  {
   "cell_type": "code",
   "execution_count": 28,
   "metadata": {},
   "outputs": [
    {
     "name": "stdout",
     "output_type": "stream",
     "text": [
      "file doc.jpeg loaded as JPEG\n"
     ]
    }
   ],
   "source": [
    "import Graphics.Jpeg as Jpeg \n",
    "\n",
    "image = Jpeg.g_load(\"doc.jpeg\") "
   ]
  },
  {
   "cell_type": "code",
   "execution_count": 30,
   "metadata": {},
   "outputs": [
    {
     "name": "stdout",
     "output_type": "stream",
     "text": [
      "file dopey.png loaded as PNG\n"
     ]
    }
   ],
   "source": [
    "from Graphics import Png \n",
    "\n",
    "image = Png.g_load(\"dopey.png\") "
   ]
  },
  {
   "cell_type": "code",
   "execution_count": 32,
   "metadata": {},
   "outputs": [
    {
     "name": "stdout",
     "output_type": "stream",
     "text": [
      "file grumpy.tiff loaded as TIFF\n"
     ]
    }
   ],
   "source": [
    "from Graphics import Tiff as picture \n",
    "\n",
    "image = picture.g_load(\"grumpy.tiff\") "
   ]
  },
  {
   "cell_type": "markdown",
   "metadata": {},
   "source": [
    "В некоторых ситуациях бывает удобно загружать все модули пакета одной инструкцией. Для этого необходимо в файле \\__init\\__.py необходимо задать переменную \\__all\\__ , которая указывала бы, какие модули должны загружаться.\n",
    "\n",
    "Например, ниже приводится необходимая строка для файла Graphics/\\__init\\__.py: \n",
    "\n",
    "`all = [\"Bmp\", \"Jpeg\", \"Png\", \"Tiff\"]`\n",
    "\n",
    "Этим ограничивается необходимое содержимое файла, но помимо этого, мы можем поместить в него любой программный код,  \n",
    "какой только пожелаем."
   ]
  },
  {
   "cell_type": "code",
   "execution_count": 34,
   "metadata": {},
   "outputs": [
    {
     "name": "stdout",
     "output_type": "stream",
     "text": [
      "file sleepy.tiff loaded as TIFF\n"
     ]
    }
   ],
   "source": [
    "# Теперь мы можем использовать другую разновидность инструкции import: \n",
    "# Синтаксис from package import * напрямую импортирует все имена  модулей, упомянутые в списке all . \n",
    "\n",
    "from Graphics import * \n",
    "\n",
    "image = Tiff.g_load(\"sleepy.tiff\") "
   ]
  },
  {
   "cell_type": "markdown",
   "metadata": {},
   "source": [
    "Python позволяет организовать произвольное количество уровней вложенности пакетов. Пример:\n",
    "\n",
    "`Graphics/ \n",
    "    __init__.py \n",
    "    Bmp.py \n",
    "    Jpeg.py \n",
    "    Png.py \n",
    "    Tiff.py \n",
    "    Vector/ \n",
    "        __init__.py \n",
    "        Eps.py \n",
    "        Svg.py`"
   ]
  },
  {
   "cell_type": "markdown",
   "metadata": {},
   "source": [
    "### Повторная загрузка модулей"
   ]
  },
  {
   "cell_type": "code",
   "execution_count": 42,
   "metadata": {},
   "outputs": [
    {
     "name": "stdout",
     "output_type": "stream",
     "text": [
      "file bashful.bmp loaded as BMP\n"
     ]
    }
   ],
   "source": [
    "image = Graphics.Bmp.g_load(\"bashful.bmp\") "
   ]
  },
  {
   "cell_type": "code",
   "execution_count": 45,
   "metadata": {},
   "outputs": [
    {
     "data": {
      "text/plain": [
       "<module 'Graphics.Bmp' from 'E:\\\\YandexDisk\\\\Python\\\\Ipynb\\\\fa1_2016\\\\lec_6\\\\Graphics\\\\Bmp.py'>"
      ]
     },
     "execution_count": 45,
     "metadata": {},
     "output_type": "execute_result"
    }
   ],
   "source": [
    "from imp import reload \n",
    "\n",
    "reload(Bmp) "
   ]
  },
  {
   "cell_type": "code",
   "execution_count": 46,
   "metadata": {},
   "outputs": [
    {
     "name": "stdout",
     "output_type": "stream",
     "text": [
      "file bashful.bmp loaded as BMP v2\n"
     ]
    }
   ],
   "source": [
    "image = Graphics.Bmp.g_load(\"bashful.bmp\") "
   ]
  },
  {
   "cell_type": "markdown",
   "metadata": {},
   "source": [
    "### Запуск программы "
   ]
  },
  {
   "cell_type": "markdown",
   "metadata": {},
   "source": [
    "Всякий раз, когда файл с расширением .ру запускается как программа, интерпретатор Python создает в программе переменную с именем \\__name\\__ и записывает в нее строку \"\\__main\\__\". Это можно использовать для того чтобы выполнять некоторый программный код только если файл запускается как программа."
   ]
  },
  {
   "cell_type": "code",
   "execution_count": null,
   "metadata": {
    "collapsed": true
   },
   "outputs": [],
   "source": [
    "# Пример, файл Bmp.py: \n",
    "\n",
    "def g_load(file):\n",
    "    print(\"file {} loaded as BMP v2\".format(file))\n",
    "\treturn None\n",
    "\n",
    "if __name__ == '__main__':\n",
    "    print(\"Test  Bmp.py\")\n",
    "\tprint(g_load(\"test.bmp\"))"
   ]
  },
  {
   "cell_type": "code",
   "execution_count": 47,
   "metadata": {},
   "outputs": [
    {
     "name": "stdout",
     "output_type": "stream",
     "text": [
      " ’®¬ ў гбва®©бвўҐ E Ё¬ҐҐв ¬ҐвЄг Data\n",
      " ‘ҐаЁ©­л© ­®¬Ґа в®¬ : 1C8C-28F1\n",
      "\n",
      " ‘®¤Ґа¦Ё¬®Ґ Ї ЇЄЁ E:\\YandexDisk\\Python\\Ipynb\\fa1_2016\\lec_6\n",
      "\n",
      "05.12.2016  22:41    <DIR>          .\n",
      "05.12.2016  22:41    <DIR>          ..\n",
      "05.12.2016  22:24    <DIR>          Graphics\n",
      "05.12.2016  22:41            22я545 lec6_v2016s2_v1.ipynb\n",
      "               1 д ©«®ў         22я545 Ў ©в\n",
      "               3 Ї Ї®Є  110я528я200я704 Ў ©в бў®Ў®¤­®\n"
     ]
    }
   ],
   "source": [
    "ls"
   ]
  },
  {
   "cell_type": "code",
   "execution_count": 49,
   "metadata": {},
   "outputs": [
    {
     "name": "stdout",
     "output_type": "stream",
     "text": [
      "Test  Bmp.py\n",
      "file test.bmp loaded as BMP v2\n",
      "None\n"
     ]
    }
   ],
   "source": [
    "%run Graphics/Bmp.py"
   ]
  },
  {
   "cell_type": "markdown",
   "metadata": {},
   "source": [
    "Модуль sys позволяет также получить те слова, которые были введены в команде, запустившей сценарий на языке Python. Эти слова обычно называются аргументами командной строки и находятся во встроенном списке строк sys.argv. Программисты на C могут заметить сходство с массивом argv в языке C (массивом строк)."
   ]
  },
  {
   "cell_type": "code",
   "execution_count": null,
   "metadata": {
    "collapsed": true
   },
   "outputs": [],
   "source": [
    "# Jpeg.py\n",
    "\n",
    "import sys\n",
    "\n",
    "def g_load(file):\n",
    "\tprint('file {} loaded as JPEG'.format(file))\n",
    "\treturn None\n",
    "\n",
    "if __name__ == '__main__':\n",
    "\tprint('Test  Jpeg.py')\n",
    "\tprint('Command line arguments: ', sys.argv)\n",
    "\tprint(g_load('test.jpeg'))"
   ]
  },
  {
   "cell_type": "code",
   "execution_count": 51,
   "metadata": {},
   "outputs": [
    {
     "name": "stdout",
     "output_type": "stream",
     "text": [
      "Test  Jpeg.py\n",
      "Command line arguments:  ['Graphics/Jpeg.py', 'arg1', 'my_value', '11']\n",
      "file test.jpeg loaded as JPEG\n",
      "None\n"
     ]
    }
   ],
   "source": [
    "%run Graphics/Jpeg.py arg1 my_value 11"
   ]
  },
  {
   "cell_type": "markdown",
   "metadata": {},
   "source": [
    "Для серьезной работы с аргументами командной строки подходит модуль argparse:\n",
    "\n",
    "https://docs.python.org/3.5/library/argparse.html\n",
    "\n",
    "https://docs.python.org/3.5/library/argparse.html#argparse.ArgumentParser.add_argument\n",
    "\n",
    "https://pymotw.com/3/argparse/index.html\n",
    "    "
   ]
  },
  {
   "cell_type": "code",
   "execution_count": 56,
   "metadata": {},
   "outputs": [
    {
     "name": "stdout",
     "output_type": "stream",
     "text": [
      "Namespace(a=True, b='val', c=3)\n"
     ]
    }
   ],
   "source": [
    "import argparse\n",
    "\n",
    "parser = argparse.ArgumentParser(description='Short sample app')\n",
    "\n",
    "parser.add_argument('-a', action=\"store_true\", default=False)\n",
    "parser.add_argument('-b', action=\"store\", dest=\"b\")\n",
    "parser.add_argument('-c', action=\"store\", dest=\"c\", type=int)\n",
    "\n",
    "ns = parser.parse_args(['-a', '-bval', '-c', '3'])\n",
    "print(ns)"
   ]
  },
  {
   "cell_type": "code",
   "execution_count": 58,
   "metadata": {},
   "outputs": [
    {
     "data": {
      "text/plain": [
       "True"
      ]
     },
     "execution_count": 58,
     "metadata": {},
     "output_type": "execute_result"
    }
   ],
   "source": [
    "ns.a"
   ]
  },
  {
   "cell_type": "code",
   "execution_count": 59,
   "metadata": {},
   "outputs": [
    {
     "data": {
      "text/plain": [
       "'val'"
      ]
     },
     "execution_count": 59,
     "metadata": {},
     "output_type": "execute_result"
    }
   ],
   "source": [
    "ns.b"
   ]
  },
  {
   "cell_type": "code",
   "execution_count": 61,
   "metadata": {},
   "outputs": [
    {
     "data": {
      "text/plain": [
       "3"
      ]
     },
     "execution_count": 61,
     "metadata": {},
     "output_type": "execute_result"
    }
   ],
   "source": [
    "ns.c"
   ]
  },
  {
   "cell_type": "code",
   "execution_count": 60,
   "metadata": {
    "scrolled": true
   },
   "outputs": [
    {
     "data": {
      "text/plain": [
       "{'a': True, 'b': 'val', 'c': 3}"
      ]
     },
     "execution_count": 60,
     "metadata": {},
     "output_type": "execute_result"
    }
   ],
   "source": [
    "vars(ns)"
   ]
  },
  {
   "cell_type": "code",
   "execution_count": 55,
   "metadata": {},
   "outputs": [
    {
     "name": "stdout",
     "output_type": "stream",
     "text": [
      "6\n"
     ]
    }
   ],
   "source": [
    "import argparse\n",
    "\n",
    "parser = argparse.ArgumentParser(description='Process some integers.')\n",
    "parser.add_argument('integers', metavar='N', type=int, nargs='+',\n",
    "                    help='an integer for the accumulator')\n",
    "parser.add_argument('--sum', dest='accumulate', action='store_const',\n",
    "                    const=sum, default=max,\n",
    "                    help='sum the integers (default: find the max)')\n",
    "\n",
    "# $ python prog.py 1 2 3 4 --sum\n",
    "args = parser.parse_args(['1', '2', '3', '--sum'])\n",
    "print(args.accumulate(args.integers))"
   ]
  },
  {
   "cell_type": "markdown",
   "metadata": {},
   "source": [
    "### Установка модулей из глобального репозитария"
   ]
  },
  {
   "cell_type": "markdown",
   "metadata": {},
   "source": [
    "pip - это система управления пакетами, которая используется для установки и управления программными пакетами, написанными на Python. Начиная с Python версии 3.4, pip поставляется вместе с интерпретатором python.\n",
    "\n",
    "pip очень легко использовать для загрузки модулей из PyPI - the Python Package Index ( https://pypi.python.org/pypi ). На 05.12.2016 в этом репозитории содержалось 94 220 пакетов!"
   ]
  },
  {
   "cell_type": "markdown",
   "metadata": {},
   "source": [
    "Для установки пакетов в командной строке нужно выполнить (для выполнения команды могут потребоваться права администратора):\n",
    "\n",
    "pip install package_name"
   ]
  },
  {
   "cell_type": "markdown",
   "metadata": {},
   "source": [
    "pip help - помощь по доступным командам.\n",
    "\n",
    "pip install package_name - установка пакета(ов).\n",
    "\n",
    "pip uninstall package_name - удаление пакета(ов).\n",
    "\n",
    "pip list - список установленных пакетов.\n",
    "\n",
    "pip show package_name - показывает информацию об установленном пакете.\n",
    "\n",
    "pip search - поиск пакетов по имени.\n",
    "\n",
    "pip --proxy user:passwd@proxy.server:port - использование с прокси.\n",
    "\n",
    "pip install -U - обновление пакета(ов).\n",
    "\n",
    "pip install --force-reinstall - при обновлении, переустановить пакет, даже если он последней версии."
   ]
  },
  {
   "cell_type": "markdown",
   "metadata": {},
   "source": [
    "Модули Python:\n",
    "\n",
    "https://docs.python.org/3/library/index.html"
   ]
  },
  {
   "cell_type": "markdown",
   "metadata": {},
   "source": [
    "Хорошие учебные материалы по встроенным модулям:\n",
    "\n",
    "https://pymotw.com/3/"
   ]
  },
  {
   "cell_type": "markdown",
   "metadata": {},
   "source": [
    "## Встроенные функции "
   ]
  },
  {
   "cell_type": "markdown",
   "metadata": {},
   "source": [
    "https://docs.python.org/3/library/functions.html\n",
    "\n",
    "http://python-reference.readthedocs.io/en/latest/docs/functions/"
   ]
  },
  {
   "cell_type": "markdown",
   "metadata": {},
   "source": [
    "------------------"
   ]
  },
  {
   "cell_type": "markdown",
   "metadata": {},
   "source": [
    "https://pymotw.com/3/collections/index.html\n",
    "\n",
    "https://docs.python.org/3.5/library/collections.html"
   ]
  },
  {
   "cell_type": "code",
   "execution_count": null,
   "metadata": {
    "collapsed": true
   },
   "outputs": [],
   "source": []
  }
 ],
 "metadata": {
  "anaconda-cloud": {},
  "kernelspec": {
   "display_name": "Python 3",
   "language": "python",
   "name": "python3"
  },
  "language_info": {
   "codemirror_mode": {
    "name": "ipython",
    "version": 3
   },
   "file_extension": ".py",
   "mimetype": "text/x-python",
   "name": "python",
   "nbconvert_exporter": "python",
   "pygments_lexer": "ipython3",
   "version": "3.6.5"
  }
 },
 "nbformat": 4,
 "nbformat_minor": 1
}

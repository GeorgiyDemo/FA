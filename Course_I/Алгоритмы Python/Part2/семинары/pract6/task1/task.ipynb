{
 "cells": [
  {
   "cell_type": "markdown",
   "metadata": {},
   "source": [
    "# Задание 1"
   ]
  },
  {
   "cell_type": "markdown",
   "metadata": {},
   "source": [
    "Деменчук Георгий ПИ19-4"
   ]
  },
  {
   "cell_type": "markdown",
   "metadata": {},
   "source": [
    "Выполнить представление через множества и ленточное представления бинарного дерева, представленного на рис. 1"
   ]
  },
  {
   "cell_type": "markdown",
   "metadata": {},
   "source": [
    "## Программная реализация"
   ]
  },
  {
   "cell_type": "markdown",
   "metadata": {},
   "source": [
    "![](./img/tree.png)"
   ]
  },
  {
   "cell_type": "code",
   "execution_count": 3,
   "metadata": {},
   "outputs": [],
   "source": [
    "from tree_module import BinaryTree"
   ]
  },
  {
   "cell_type": "code",
   "execution_count": 4,
   "metadata": {},
   "outputs": [
    {
     "name": "stdout",
     "output_type": "stream",
     "text": [
      "Реализованное дерево:\n",
      "\n",
      "        ______8________\n",
      "       /               \\\n",
      "    __4__           ____12___\n",
      "   /     \\         /         \\\n",
      "  2       6       10         _14\n",
      " / \\     / \\     /  \\       /   \\\n",
      "1   3   5   7   9    11    13    15\n",
      "\n"
     ]
    }
   ],
   "source": [
    "def main():\n",
    "\n",
    "    # Элемент на 1 уровне\n",
    "    r = BinaryTree('8')\n",
    "\n",
    "    #Элементы на 2 уровне\n",
    "    r_1 = r.insert_left('4')\n",
    "    r_2 = r.insert_right('12')\n",
    "\n",
    "    # Элементы на 3 уровне\n",
    "    r_11 = r_1.insert_left('2')\n",
    "    r_12 = r_1.insert_right('6')\n",
    "    r_21 = r_2.insert_left('10')\n",
    "    r_22 = r_2.insert_right('14')\n",
    "\n",
    "\n",
    "    # Добавление элементов на 4 уровень\n",
    "\n",
    "    r_11.insert_left('1')\n",
    "    r_11.insert_right('3')\n",
    "    r_12.insert_left('5')\n",
    "    r_12.insert_right('7')\n",
    "\n",
    "    r_21.insert_left('9')\n",
    "    r_21.insert_right('11')\n",
    "    r_22.insert_left('13')\n",
    "    r_22.insert_right('15')\n",
    "\n",
    "    print(\"Реализованное дерево:\")\n",
    "    print(r)\n",
    "\n",
    "if __name__ == \"__main__\":\n",
    "    main()"
   ]
  },
  {
   "cell_type": "markdown",
   "metadata": {},
   "source": [
    "## Представление через множества"
   ]
  },
  {
   "cell_type": "markdown",
   "metadata": {},
   "source": [
    "![](./img/multiple.jpg)"
   ]
  },
  {
   "cell_type": "markdown",
   "metadata": {},
   "source": [
    "## Линейное представление"
   ]
  },
  {
   "cell_type": "markdown",
   "metadata": {},
   "source": [
    "![](./img/linear.jpg)"
   ]
  },
  {
   "cell_type": "code",
   "execution_count": null,
   "metadata": {},
   "outputs": [],
   "source": []
  }
 ],
 "metadata": {
  "kernelspec": {
   "display_name": "Python 3",
   "language": "python",
   "name": "python3"
  },
  "language_info": {
   "codemirror_mode": {
    "name": "ipython",
    "version": 3
   },
   "file_extension": ".py",
   "mimetype": "text/x-python",
   "name": "python",
   "nbconvert_exporter": "python",
   "pygments_lexer": "ipython3",
   "version": "3.7.7"
  }
 },
 "nbformat": 4,
 "nbformat_minor": 4
}

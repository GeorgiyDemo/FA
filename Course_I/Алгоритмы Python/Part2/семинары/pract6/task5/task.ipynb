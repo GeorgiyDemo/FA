{
 "cells": [
  {
   "cell_type": "markdown",
   "metadata": {},
   "source": [
    "# Задание 5"
   ]
  },
  {
   "cell_type": "markdown",
   "metadata": {},
   "source": [
    "Деменчук Георгий ПИ19-4"
   ]
  },
  {
   "cell_type": "markdown",
   "metadata": {},
   "source": [
    "В заданном на рисунке 3 бинарном дереве реализовать:\n",
    "1. графически для заданных элементов добавление чисел: 38, 20, 8, 13, 47.\n",
    "2. программную реализацию добавления элементов.\n",
    "3. графически для заданных элементов удаления чисел: 33, 14, 5, 32.\n",
    "4. программную реализацию удаления элементов."
   ]
  },
  {
   "cell_type": "markdown",
   "metadata": {},
   "source": [
    "![](./img/task.png)"
   ]
  },
  {
   "cell_type": "code",
   "execution_count": 1,
   "metadata": {},
   "outputs": [],
   "source": [
    "from sortedbinarytree_module import SortedTree"
   ]
  },
  {
   "cell_type": "code",
   "execution_count": 2,
   "metadata": {},
   "outputs": [
    {
     "name": "stdout",
     "output_type": "stream",
     "text": [
      "Исходное дерево\n",
      "\n",
      "          ___________21____________\n",
      "         /                         \\\n",
      "      __7_____                  ____32______\n",
      "     /        \\                /            \\\n",
      "    5         _14            _27            _37\n",
      "   / \\       /   \\          /   \\          /   \\\n",
      "  4   6     12    18      _25    30      _34    39\n",
      " /         /             /              /\n",
      "2         9             24             33\n",
      "\n"
     ]
    }
   ],
   "source": [
    "items = [21, 7, 32, 5, 14, 4, 6, 2, 12, 9, 18, 27, 25, 24, 30, 37, 34, 39, 33]\n",
    "tree = SortedTree()\n",
    "for value in items:\n",
    "    tree.push(value)\n",
    "\n",
    "print(\"Исходное дерево\")\n",
    "print(tree)"
   ]
  },
  {
   "cell_type": "markdown",
   "metadata": {},
   "source": [
    "## Добавление элементов"
   ]
  },
  {
   "cell_type": "markdown",
   "metadata": {},
   "source": [
    "### Графически"
   ]
  },
  {
   "cell_type": "markdown",
   "metadata": {},
   "source": [
    "Исходное дерево"
   ]
  },
  {
   "cell_type": "markdown",
   "metadata": {},
   "source": [
    "![](./img/0.png)"
   ]
  },
  {
   "cell_type": "markdown",
   "metadata": {},
   "source": [
    "Добавляем 38"
   ]
  },
  {
   "cell_type": "markdown",
   "metadata": {},
   "source": [
    "![](./img/1.png)"
   ]
  },
  {
   "cell_type": "markdown",
   "metadata": {},
   "source": [
    "Добавляем 20"
   ]
  },
  {
   "cell_type": "markdown",
   "metadata": {},
   "source": [
    "![](./img/2.png)"
   ]
  },
  {
   "cell_type": "markdown",
   "metadata": {},
   "source": [
    "Добавляем 8"
   ]
  },
  {
   "cell_type": "markdown",
   "metadata": {},
   "source": [
    "![](./img/3.png)"
   ]
  },
  {
   "cell_type": "markdown",
   "metadata": {},
   "source": [
    "Добавляем 13"
   ]
  },
  {
   "cell_type": "markdown",
   "metadata": {},
   "source": [
    "![](./img/4.png)"
   ]
  },
  {
   "cell_type": "markdown",
   "metadata": {},
   "source": [
    "Добавляем 47"
   ]
  },
  {
   "cell_type": "markdown",
   "metadata": {},
   "source": [
    "![](./img/5.png)"
   ]
  },
  {
   "cell_type": "markdown",
   "metadata": {},
   "source": [
    "Итог после добавления"
   ]
  },
  {
   "cell_type": "markdown",
   "metadata": {},
   "source": [
    "![](./img/6.png)"
   ]
  },
  {
   "cell_type": "markdown",
   "metadata": {},
   "source": [
    "### Программно"
   ]
  },
  {
   "cell_type": "code",
   "execution_count": 3,
   "metadata": {},
   "outputs": [
    {
     "name": "stdout",
     "output_type": "stream",
     "text": [
      "Дерево после добавления элементов [38, 20, 8, 13, 47]\n",
      "\n",
      "          ___________________21____________\n",
      "         /                                 \\\n",
      "      __7__________                     ____32______\n",
      "     /             \\                   /            \\\n",
      "    5           ____14               _27            _37___\n",
      "   / \\         /      \\             /   \\          /      \\\n",
      "  4   6       12       18         _25    30      _34      _39\n",
      " /           /  \\        \\       /              /        /   \\\n",
      "2           9    13       20    24             33       38    47\n",
      "           /\n",
      "          8\n",
      "\n"
     ]
    }
   ],
   "source": [
    "# Добавляем элементы\n",
    "add_list = [38, 20, 8, 13, 47]\n",
    "for value in add_list:\n",
    "    tree.push(value)\n",
    "print(\"Дерево после добавления элементов\",add_list)\n",
    "print(tree)"
   ]
  },
  {
   "cell_type": "markdown",
   "metadata": {},
   "source": [
    "## Удаление элементов"
   ]
  },
  {
   "cell_type": "markdown",
   "metadata": {},
   "source": [
    "### Графически"
   ]
  },
  {
   "cell_type": "markdown",
   "metadata": {},
   "source": [
    "![](./img/remove.png)"
   ]
  },
  {
   "cell_type": "markdown",
   "metadata": {},
   "source": [
    "### Программно"
   ]
  },
  {
   "cell_type": "code",
   "execution_count": 4,
   "metadata": {},
   "outputs": [
    {
     "name": "stdout",
     "output_type": "stream",
     "text": [
      "Дерево после удаления элементов [33, 14, 5, 32]\n",
      "\n",
      "        ________________21____________\n",
      "       /                              \\\n",
      "      7__________                  ____34\n",
      "     /           \\                /      \\\n",
      "    6         ____18            _27       37___\n",
      "   /         /      \\          /   \\           \\\n",
      "  4         12       20      _25    30         _39\n",
      " /         /  \\             /                 /   \\\n",
      "2         9    13          24                38    47\n",
      "         /\n",
      "        8\n",
      "\n"
     ]
    }
   ],
   "source": [
    "#Удаляем элементы\n",
    "remove_list = [33, 14, 5, 32]\n",
    "for value in remove_list:\n",
    "    tree.pull(value)\n",
    "\n",
    "print(\"Дерево после удаления элементов\", remove_list)\n",
    "print(tree)"
   ]
  },
  {
   "cell_type": "code",
   "execution_count": null,
   "metadata": {},
   "outputs": [],
   "source": []
  },
  {
   "cell_type": "code",
   "execution_count": null,
   "metadata": {},
   "outputs": [],
   "source": []
  }
 ],
 "metadata": {
  "kernelspec": {
   "display_name": "Python 3",
   "language": "python",
   "name": "python3"
  },
  "language_info": {
   "codemirror_mode": {
    "name": "ipython",
    "version": 3
   },
   "file_extension": ".py",
   "mimetype": "text/x-python",
   "name": "python",
   "nbconvert_exporter": "python",
   "pygments_lexer": "ipython3",
   "version": "3.9.5"
  }
 },
 "nbformat": 4,
 "nbformat_minor": 4
}

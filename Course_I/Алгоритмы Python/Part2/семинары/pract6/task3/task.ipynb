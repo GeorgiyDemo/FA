{
 "cells": [
  {
   "cell_type": "markdown",
   "metadata": {},
   "source": [
    "# Задание 3"
   ]
  },
  {
   "cell_type": "markdown",
   "metadata": {},
   "source": [
    "Деменчук Георгий ПИ19-4"
   ]
  },
  {
   "cell_type": "markdown",
   "metadata": {},
   "source": [
    "- Выполнить прямой обход (в ручном режиме и программную реализацию) бинарного дерева, представленного на рисунке 2.\n",
    "- Выполнить обратный обход (в ручном режиме и программную реализацию) бинарного дерева, представленного на рисунке 2.\n",
    "- Выполнить симметричный обход (в ручном режиме и программную реализацию) бинарного дерева, представленного на рисунке 2."
   ]
  },
  {
   "cell_type": "markdown",
   "metadata": {},
   "source": [
    "![](./img/task.png)"
   ]
  },
  {
   "cell_type": "markdown",
   "metadata": {},
   "source": [
    "# Основная программная реализация"
   ]
  },
  {
   "cell_type": "code",
   "execution_count": 1,
   "metadata": {},
   "outputs": [],
   "source": [
    "from tree_module import BinaryTree"
   ]
  },
  {
   "cell_type": "code",
   "execution_count": 2,
   "metadata": {},
   "outputs": [],
   "source": [
    "\n",
    "class Orders:\n",
    "    \"\"\"Стат методы для обхода дерева\"\"\"\n",
    "        \n",
    "    @staticmethod\n",
    "    def preorder(tree):\n",
    "        \"\"\"Прямой обход дерева\"\"\"\n",
    "        if tree:\n",
    "            print(tree.get_root_val())\n",
    "            Orders.preorder(tree.get_left_child())\n",
    "            Orders.preorder(tree.get_right_child())\n",
    "\n",
    "    @staticmethod\n",
    "    def inorder(tree):\n",
    "        \"\"\"Симметричный обход дерева\"\"\"\n",
    "        if tree != None:\n",
    "            Orders.inorder(tree.get_left_child())\n",
    "            print(tree.get_root_val())\n",
    "            Orders.inorder(tree.get_right_child())\n",
    "\n",
    "    @staticmethod\n",
    "    def postorder(tree):\n",
    "        \"\"\"Обратный обход\"\"\"\n",
    "        if tree != None:\n",
    "            Orders.postorder(tree.get_left_child())\n",
    "            Orders.postorder(tree.get_right_child())\n",
    "            print(tree.get_root_val())"
   ]
  },
  {
   "cell_type": "code",
   "execution_count": 3,
   "metadata": {},
   "outputs": [
    {
     "name": "stdout",
     "output_type": "stream",
     "text": [
      "Построенное дерево:\n",
      "\n",
      "    ____A\n",
      "   /     \\\n",
      "  B__     C__\n",
      " /   \\       \\\n",
      "D     E       F\n",
      "     /       / \\\n",
      "    G       H   I\n",
      "\n"
     ]
    }
   ],
   "source": [
    "# Элемент на 1 уровне\n",
    "A = BinaryTree('A')\n",
    "\n",
    "#Элементы на 2 уровне\n",
    "B = A.insert_left('B')\n",
    "C = A.insert_right('C')\n",
    "\n",
    "#Элементы на 3 уровне\n",
    "D = B.insert_left(\"D\")\n",
    "E = B.insert_right(\"E\")\n",
    "F = C.insert_right(\"F\")\n",
    "\n",
    "#Элементы на 4 уровне\n",
    "E.insert_left(\"G\")\n",
    "F.insert_left(\"H\")\n",
    "F.insert_right(\"I\")\n",
    "\n",
    "print(\"Построенное дерево:\")\n",
    "print(A)"
   ]
  },
  {
   "cell_type": "markdown",
   "metadata": {},
   "source": [
    "# Прямой обход"
   ]
  },
  {
   "cell_type": "markdown",
   "metadata": {},
   "source": [
    "### Ручной режим"
   ]
  },
  {
   "cell_type": "markdown",
   "metadata": {},
   "source": [
    "![](./img/preorder.png)"
   ]
  },
  {
   "cell_type": "markdown",
   "metadata": {},
   "source": [
    "### Программная реализация"
   ]
  },
  {
   "cell_type": "code",
   "execution_count": 4,
   "metadata": {},
   "outputs": [
    {
     "name": "stdout",
     "output_type": "stream",
     "text": [
      "Прямой обход дерева:\n",
      "A\n",
      "B\n",
      "D\n",
      "E\n",
      "G\n",
      "C\n",
      "F\n",
      "H\n",
      "I\n"
     ]
    }
   ],
   "source": [
    "#Обход в прямом порядке\n",
    "print(\"Прямой обход дерева:\")\n",
    "Orders.preorder(A)"
   ]
  },
  {
   "cell_type": "markdown",
   "metadata": {},
   "source": [
    "# Обратный обход"
   ]
  },
  {
   "cell_type": "markdown",
   "metadata": {},
   "source": [
    "### Ручной режим"
   ]
  },
  {
   "cell_type": "markdown",
   "metadata": {},
   "source": [
    "![](./img/postorder.png)"
   ]
  },
  {
   "cell_type": "markdown",
   "metadata": {},
   "source": [
    "### Программная реализация"
   ]
  },
  {
   "cell_type": "code",
   "execution_count": 5,
   "metadata": {},
   "outputs": [
    {
     "name": "stdout",
     "output_type": "stream",
     "text": [
      "Обратный обход дерева:\n",
      "D\n",
      "G\n",
      "E\n",
      "B\n",
      "H\n",
      "I\n",
      "F\n",
      "C\n",
      "A\n"
     ]
    }
   ],
   "source": [
    "#Обратный обход \n",
    "print(\"Обратный обход дерева:\")\n",
    "Orders.postorder(A)"
   ]
  },
  {
   "cell_type": "markdown",
   "metadata": {},
   "source": [
    "# Cимметричный обход"
   ]
  },
  {
   "cell_type": "markdown",
   "metadata": {},
   "source": [
    "### Ручной режим"
   ]
  },
  {
   "cell_type": "markdown",
   "metadata": {},
   "source": [
    "![](./img/inorder.png)"
   ]
  },
  {
   "cell_type": "markdown",
   "metadata": {},
   "source": [
    "### Программная реализация"
   ]
  },
  {
   "cell_type": "code",
   "execution_count": 6,
   "metadata": {},
   "outputs": [
    {
     "name": "stdout",
     "output_type": "stream",
     "text": [
      "Cимметричный обход дерева:\n",
      "D\n",
      "B\n",
      "G\n",
      "E\n",
      "A\n",
      "C\n",
      "H\n",
      "F\n",
      "I\n"
     ]
    }
   ],
   "source": [
    "#Cимметричный обход \n",
    "print(\"Cимметричный обход дерева:\")\n",
    "Orders.inorder(A)"
   ]
  },
  {
   "cell_type": "code",
   "execution_count": null,
   "metadata": {},
   "outputs": [],
   "source": []
  }
 ],
 "metadata": {
  "kernelspec": {
   "display_name": "Python 3",
   "language": "python",
   "name": "python3"
  },
  "language_info": {
   "codemirror_mode": {
    "name": "ipython",
    "version": 3
   },
   "file_extension": ".py",
   "mimetype": "text/x-python",
   "name": "python",
   "nbconvert_exporter": "python",
   "pygments_lexer": "ipython3",
   "version": "3.7.7"
  }
 },
 "nbformat": 4,
 "nbformat_minor": 4
}

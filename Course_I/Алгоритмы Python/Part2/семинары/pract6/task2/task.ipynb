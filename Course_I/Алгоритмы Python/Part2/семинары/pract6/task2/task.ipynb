{
 "cells": [
  {
   "cell_type": "markdown",
   "metadata": {},
   "source": [
    "# Задание 2"
   ]
  },
  {
   "cell_type": "markdown",
   "metadata": {},
   "source": [
    "Деменчук Георгий ПИ19-4"
   ]
  },
  {
   "cell_type": "markdown",
   "metadata": {},
   "source": [
    "Выполнить графовое представление и программную реализацию с помощью бинарного дерева следующие вычисления:\n",
    "1. 2+2\n",
    "2. (2+3)*4\n",
    "3. (7+8)*(2-1)\n",
    "4. (7+8)*(2-1)+7\n",
    "5. (7+8)*(5-2)/(2-1)"
   ]
  },
  {
   "cell_type": "markdown",
   "metadata": {},
   "source": [
    "## Основная программная реализация"
   ]
  },
  {
   "cell_type": "code",
   "execution_count": 9,
   "metadata": {},
   "outputs": [],
   "source": [
    "import operator\n",
    "from tree_module import BinaryTree"
   ]
  },
  {
   "cell_type": "code",
   "execution_count": 10,
   "metadata": {},
   "outputs": [],
   "source": [
    "class Str2Tree:\n",
    "    \"\"\" Класс для перевода строки в бинарное дерево\"\"\"\n",
    "\n",
    "    def __init__(self, exp):\n",
    "        self.exp = [\"(\"]+list(exp.replace(\" \", \"\"))+[\")\"]\n",
    "        self.tree = BinaryTree()\n",
    "        self.processing()\n",
    "\n",
    "    def digital_checker(self, number):\n",
    "        \"\"\"Проверка значения на число\"\"\"\n",
    "        try:\n",
    "            int(number)\n",
    "            return True\n",
    "        except ValueError:\n",
    "            return False\n",
    "\n",
    "    def processing(self):\n",
    "\n",
    "        tree = self.tree\n",
    "        current = tree\n",
    "\n",
    "        for token in self.exp:\n",
    "            if token == \"(\":\n",
    "                # добавляем новый узел в качестве левого узла\n",
    "                current = current.insert_left()\n",
    "\n",
    "            elif token in [\"+\", \"-\", \"/\", \"*\"]:\n",
    "                # устанавливаем значение в текущем узле\n",
    "                current.set_root_val(token)\n",
    "                # добавляем узел в качестве правого узла и спускаемся в него.\n",
    "                current = current.insert_right()\n",
    "\n",
    "            elif self.digital_checker(token):\n",
    "                # устанавливаем значение в текущем узле\n",
    "                current.set_root_val(int(token))\n",
    "                # переходим к родительскому узлу.\n",
    "                current = current.get_parent()\n",
    "\n",
    "            elif token == \")\":\n",
    "                # переходим к родителю текущего узла.\n",
    "                current = current.get_parent()\n",
    "\n",
    "            else:\n",
    "                print(token)\n",
    "                raise ValueError(\"Я не понимаю что это\")\n",
    "\n",
    "        self.tree = tree\n",
    "\n",
    "\n",
    "class Tree2Result:\n",
    "    \"\"\"Вычисление выражений на основе бинарного дерева\"\"\"\n",
    "\n",
    "    def __init__(self, binarytree_obj):\n",
    "        if not isinstance(binarytree_obj, BinaryTree):\n",
    "            raise ValueError(\"Объект не является объектом класса BinaryTree!\")\n",
    "\n",
    "        self.result = self.processing(binarytree_obj)\n",
    "\n",
    "    def processing(self, token):\n",
    "        \"\"\"Обход бинарного дерева в обратном порядке\"\"\"\n",
    "        operators = {'+': operator.add, '-': operator.sub,\n",
    "                     '*': operator.mul, '/': operator.truediv}\n",
    "\n",
    "        # Левые/правые значения\n",
    "        left_value = token.get_left_child()\n",
    "        right_value = token.get_right_child()\n",
    "\n",
    "        # Если оба есть - падаем ниже\n",
    "        if left_value and right_value:\n",
    "            fn = operators[token.get_root_val()]\n",
    "            # Отдаем результат выражения\n",
    "            return fn(self.processing(left_value), self.processing(right_value))\n",
    "        else:\n",
    "            # Иначе, если уже некуда падать, отдаем текущее значение\n",
    "            return token.get_root_val()"
   ]
  },
  {
   "cell_type": "markdown",
   "metadata": {},
   "source": [
    "## Выражение 2+2"
   ]
  },
  {
   "cell_type": "markdown",
   "metadata": {},
   "source": [
    "### Графовое представление"
   ]
  },
  {
   "cell_type": "markdown",
   "metadata": {},
   "source": [
    "![](./img/1.png)"
   ]
  },
  {
   "cell_type": "markdown",
   "metadata": {},
   "source": [
    "### Программная реализация"
   ]
  },
  {
   "cell_type": "code",
   "execution_count": 11,
   "metadata": {
    "scrolled": true
   },
   "outputs": [
    {
     "name": "stdout",
     "output_type": "stream",
     "text": [
      "\n",
      "Выражение: 2+2\n",
      "Разложение: \n",
      "  +\n",
      " / \\\n",
      "2   2\n",
      "\n",
      "Результат вычисления: 4\n",
      "Результат по eval: 4\n"
     ]
    }
   ],
   "source": [
    "e = \"2+2\"\n",
    "print(\"\\nВыражение: {}\".format(e))\n",
    "obj = Str2Tree(e)\n",
    "print(\"Разложение: {}\".format(obj.tree))\n",
    "r_obj = Tree2Result(obj.tree)\n",
    "print(\"Результат вычисления: {}\".format(r_obj.result))\n",
    "print(\"Результат по eval: {}\".format(eval(e)))"
   ]
  },
  {
   "cell_type": "markdown",
   "metadata": {},
   "source": [
    "## Выражение (2+3)*4"
   ]
  },
  {
   "cell_type": "markdown",
   "metadata": {},
   "source": [
    "### Графовое представление"
   ]
  },
  {
   "cell_type": "markdown",
   "metadata": {},
   "source": [
    "![](./img/2.png)"
   ]
  },
  {
   "cell_type": "markdown",
   "metadata": {},
   "source": [
    "### Программная реализация"
   ]
  },
  {
   "cell_type": "code",
   "execution_count": 12,
   "metadata": {},
   "outputs": [
    {
     "name": "stdout",
     "output_type": "stream",
     "text": [
      "\n",
      "Выражение: (2+3)*4\n",
      "Разложение: \n",
      "    __*\n",
      "   /   \\\n",
      "  +     4\n",
      " / \\\n",
      "2   3\n",
      "\n",
      "Результат вычисления: 20\n",
      "Результат по eval: 20\n"
     ]
    }
   ],
   "source": [
    "e = \"(2+3)*4\"\n",
    "print(\"\\nВыражение: {}\".format(e))\n",
    "obj = Str2Tree(e)\n",
    "print(\"Разложение: {}\".format(obj.tree))\n",
    "r_obj = Tree2Result(obj.tree)\n",
    "print(\"Результат вычисления: {}\".format(r_obj.result))\n",
    "print(\"Результат по eval: {}\".format(eval(e)))"
   ]
  },
  {
   "cell_type": "markdown",
   "metadata": {},
   "source": [
    "## Выражение (7+8)*(2-1)"
   ]
  },
  {
   "cell_type": "markdown",
   "metadata": {},
   "source": [
    "### Графовое представление"
   ]
  },
  {
   "cell_type": "markdown",
   "metadata": {},
   "source": [
    "![](./img/3.png)"
   ]
  },
  {
   "cell_type": "markdown",
   "metadata": {},
   "source": [
    "### Программная реализация"
   ]
  },
  {
   "cell_type": "code",
   "execution_count": 13,
   "metadata": {},
   "outputs": [
    {
     "name": "stdout",
     "output_type": "stream",
     "text": [
      "\n",
      "Выражение: (7+8)*(2-1)\n",
      "Разложение: \n",
      "    __*__\n",
      "   /     \\\n",
      "  +       -\n",
      " / \\     / \\\n",
      "7   8   2   1\n",
      "\n",
      "Результат вычисления: 15\n",
      "Результат по eval: 15\n"
     ]
    }
   ],
   "source": [
    "e = \"(7+8)*(2-1)\"\n",
    "print(\"\\nВыражение: {}\".format(e))\n",
    "obj = Str2Tree(e)\n",
    "print(\"Разложение: {}\".format(obj.tree))\n",
    "r_obj = Tree2Result(obj.tree)\n",
    "print(\"Результат вычисления: {}\".format(r_obj.result))\n",
    "print(\"Результат по eval: {}\".format(eval(e)))"
   ]
  },
  {
   "cell_type": "markdown",
   "metadata": {},
   "source": [
    "## Выражение (7+8)*(2-1)+7"
   ]
  },
  {
   "cell_type": "markdown",
   "metadata": {},
   "source": [
    "### Графовое представление"
   ]
  },
  {
   "cell_type": "markdown",
   "metadata": {},
   "source": [
    "![](./img/4.png)"
   ]
  },
  {
   "cell_type": "markdown",
   "metadata": {},
   "source": [
    "### Программная реализация"
   ]
  },
  {
   "cell_type": "code",
   "execution_count": 14,
   "metadata": {},
   "outputs": [
    {
     "name": "stdout",
     "output_type": "stream",
     "text": [
      "\n",
      "Выражение: (7+8)*(2-1)+7\n",
      "Разложение: \n",
      "    __+\n",
      "   /   \\\n",
      "  +     7__\n",
      " / \\       \\\n",
      "7   8       -\n",
      "           / \\\n",
      "          2   1\n",
      "\n",
      "Результат вычисления: 22\n",
      "Результат по eval: 22\n"
     ]
    }
   ],
   "source": [
    "e = \"(7+8)*(2-1)+7\"\n",
    "print(\"\\nВыражение: {}\".format(e))\n",
    "obj = Str2Tree(e)\n",
    "print(\"Разложение: {}\".format(obj.tree))\n",
    "r_obj = Tree2Result(obj.tree)\n",
    "print(\"Результат вычисления: {}\".format(r_obj.result))\n",
    "print(\"Результат по eval: {}\".format(eval(e)))"
   ]
  },
  {
   "cell_type": "markdown",
   "metadata": {},
   "source": [
    "## Выражение (7+8)*(5-2)/(2-1)"
   ]
  },
  {
   "cell_type": "markdown",
   "metadata": {},
   "source": [
    "### Графовое представление"
   ]
  },
  {
   "cell_type": "markdown",
   "metadata": {},
   "source": [
    "![](./img/5.png)"
   ]
  },
  {
   "cell_type": "markdown",
   "metadata": {},
   "source": [
    "### Программная реализация"
   ]
  },
  {
   "cell_type": "code",
   "execution_count": 15,
   "metadata": {},
   "outputs": [
    {
     "name": "stdout",
     "output_type": "stream",
     "text": [
      "\n",
      "Выражение: ((7+8)*(5-2))/(2-1)\n",
      "Разложение: \n",
      "        ______/__\n",
      "       /         \\\n",
      "    __*__         -\n",
      "   /     \\       / \\\n",
      "  +       -     2   1\n",
      " / \\     / \\\n",
      "7   8   5   2\n",
      "\n",
      "Результат вычисления: 45.0\n",
      "Результат по eval: 45.0\n"
     ]
    }
   ],
   "source": [
    "e = \"((7+8)*(5-2))/(2-1)\"\n",
    "print(\"\\nВыражение: {}\".format(e))\n",
    "obj = Str2Tree(e)\n",
    "print(\"Разложение: {}\".format(obj.tree))\n",
    "r_obj = Tree2Result(obj.tree)\n",
    "print(\"Результат вычисления: {}\".format(r_obj.result))\n",
    "print(\"Результат по eval: {}\".format(eval(e)))"
   ]
  },
  {
   "cell_type": "code",
   "execution_count": null,
   "metadata": {},
   "outputs": [],
   "source": []
  },
  {
   "cell_type": "code",
   "execution_count": null,
   "metadata": {},
   "outputs": [],
   "source": []
  }
 ],
 "metadata": {
  "kernelspec": {
   "display_name": "Python 3",
   "language": "python",
   "name": "python3"
  },
  "language_info": {
   "codemirror_mode": {
    "name": "ipython",
    "version": 3
   },
   "file_extension": ".py",
   "mimetype": "text/x-python",
   "name": "python",
   "nbconvert_exporter": "python",
   "pygments_lexer": "ipython3",
   "version": "3.7.7"
  }
 },
 "nbformat": 4,
 "nbformat_minor": 4
}

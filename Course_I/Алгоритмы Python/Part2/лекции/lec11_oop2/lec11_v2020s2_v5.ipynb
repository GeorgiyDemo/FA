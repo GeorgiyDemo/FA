{
 "cells": [
  {
   "cell_type": "markdown",
   "metadata": {},
   "source": [
    "# Лекция 8"
   ]
  },
  {
   "cell_type": "markdown",
   "metadata": {},
   "source": [
    "## Объектно-ориентированное программирование"
   ]
  },
  {
   "cell_type": "markdown",
   "metadata": {},
   "source": [
    "### Создание классов и объектов"
   ]
  },
  {
   "cell_type": "markdown",
   "metadata": {},
   "source": [
    "Создание классов"
   ]
  },
  {
   "cell_type": "code",
   "execution_count": 21,
   "metadata": {},
   "outputs": [],
   "source": [
    "# Объявление класса Car, наследника класса object (общего родителя для всех классов в Python)\n",
    "class Car(object):\n",
    "    \"\"\"Информаци о классе\"\"\"\n",
    "    pass # В блоке класса объявляются функции"
   ]
  },
  {
   "cell_type": "code",
   "execution_count": 22,
   "metadata": {},
   "outputs": [],
   "source": [
    "Car?"
   ]
  },
  {
   "cell_type": "code",
   "execution_count": 23,
   "metadata": {},
   "outputs": [],
   "source": [
    "# Старый формат объявления класса (лучше его не использовать):\n",
    "class OldCar:\n",
    "    pass"
   ]
  },
  {
   "cell_type": "markdown",
   "metadata": {},
   "source": [
    "В Python для именования классов принято использовать CamalCase. Методы класса, атрибуты и объекты именуются с маленькой буквы через подчеркивание."
   ]
  },
  {
   "cell_type": "code",
   "execution_count": 24,
   "metadata": {},
   "outputs": [],
   "source": [
    "class Car(object):\n",
    "    \"\"\"Базовый класс для автомобилей\"\"\"\n",
    "    def __init__(self, x): # конструктор класса, используется для инициализации нового объекта\n",
    "        self.x = x # создаем аттрибут класса        \n",
    "        \n",
    "    # метод класса; все методы класса должны в качестве первого атрибута иметь переменную self,\n",
    "    # в которую автоматически передается ссылка на текущий объект \n",
    "    def is_near(self, x2): \n",
    "        return abs(self.x - x2) < 2.0 # self.x - обращение к атрибуту класса"
   ]
  },
  {
   "cell_type": "markdown",
   "metadata": {},
   "source": [
    "Создание объектов"
   ]
  },
  {
   "cell_type": "code",
   "execution_count": 25,
   "metadata": {},
   "outputs": [],
   "source": [
    "# создаем объект, при создании передаем параметр конструктора:\n",
    "c_1 = Car(3.1)"
   ]
  },
  {
   "cell_type": "code",
   "execution_count": 26,
   "metadata": {},
   "outputs": [
    {
     "data": {
      "text/plain": [
       "__main__.Car"
      ]
     },
     "execution_count": 26,
     "metadata": {},
     "output_type": "execute_result"
    }
   ],
   "source": [
    "type(c_1)"
   ]
  },
  {
   "cell_type": "code",
   "execution_count": 27,
   "metadata": {},
   "outputs": [
    {
     "data": {
      "text/plain": [
       "3.1"
      ]
     },
     "execution_count": 27,
     "metadata": {},
     "output_type": "execute_result"
    }
   ],
   "source": [
    "c_1.x # получаем значение аттрибута"
   ]
  },
  {
   "cell_type": "code",
   "execution_count": 28,
   "metadata": {},
   "outputs": [
    {
     "data": {
      "text/plain": [
       "11.2"
      ]
     },
     "execution_count": 28,
     "metadata": {},
     "output_type": "execute_result"
    }
   ],
   "source": [
    "c_1.x = 11.2 # изменяем значение аттрибута\n",
    "c_1.x"
   ]
  },
  {
   "cell_type": "code",
   "execution_count": 29,
   "metadata": {},
   "outputs": [],
   "source": [
    "c_2 = Car(7.1)"
   ]
  },
  {
   "cell_type": "code",
   "execution_count": 30,
   "metadata": {},
   "outputs": [
    {
     "data": {
      "text/plain": [
       "False"
      ]
     },
     "execution_count": 30,
     "metadata": {},
     "output_type": "execute_result"
    }
   ],
   "source": [
    "c_1.is_near(c_2.x) # вызываем метод объекта"
   ]
  },
  {
   "cell_type": "code",
   "execution_count": 31,
   "metadata": {},
   "outputs": [],
   "source": [
    "c_2.x = 10.2"
   ]
  },
  {
   "cell_type": "code",
   "execution_count": 32,
   "metadata": {
    "scrolled": true
   },
   "outputs": [
    {
     "data": {
      "text/plain": [
       "True"
      ]
     },
     "execution_count": 32,
     "metadata": {},
     "output_type": "execute_result"
    }
   ],
   "source": [
    "c_1.is_near(c_2.x)"
   ]
  },
  {
   "cell_type": "markdown",
   "metadata": {},
   "source": [
    "Фактически в Python атрибуты хранятся в словаре принадлежащем конкретному объекту:"
   ]
  },
  {
   "cell_type": "code",
   "execution_count": 33,
   "metadata": {},
   "outputs": [
    {
     "data": {
      "text/plain": [
       "{'x': 11.2}"
      ]
     },
     "execution_count": 33,
     "metadata": {},
     "output_type": "execute_result"
    }
   ],
   "source": [
    "c_1.__dict__"
   ]
  },
  {
   "cell_type": "code",
   "execution_count": 34,
   "metadata": {},
   "outputs": [
    {
     "data": {
      "text/plain": [
       "{'x': 10.2}"
      ]
     },
     "execution_count": 34,
     "metadata": {},
     "output_type": "execute_result"
    }
   ],
   "source": [
    "c_2.__dict__"
   ]
  },
  {
   "cell_type": "code",
   "execution_count": 35,
   "metadata": {},
   "outputs": [
    {
     "data": {
      "text/plain": [
       "10.2"
      ]
     },
     "execution_count": 35,
     "metadata": {},
     "output_type": "execute_result"
    }
   ],
   "source": [
    "# При желании к атрибуту объекта можно обратится так:\n",
    "c_2.__dict__['x']"
   ]
  },
  {
   "cell_type": "code",
   "execution_count": 36,
   "metadata": {},
   "outputs": [],
   "source": [
    "# Из-за того, что в Python атрибуты по сути это значения в словаре \n",
    "# в каждом конкретном экземпляре класса можно динамически добавлять новые атрибуты, например:\n",
    "c_2.speed = 88.5"
   ]
  },
  {
   "cell_type": "code",
   "execution_count": 37,
   "metadata": {},
   "outputs": [
    {
     "data": {
      "text/plain": [
       "88.5"
      ]
     },
     "execution_count": 37,
     "metadata": {},
     "output_type": "execute_result"
    }
   ],
   "source": [
    "c_2.speed"
   ]
  },
  {
   "cell_type": "code",
   "execution_count": 38,
   "metadata": {},
   "outputs": [
    {
     "data": {
      "text/plain": [
       "{'speed': 88.5, 'x': 10.2}"
      ]
     },
     "execution_count": 38,
     "metadata": {},
     "output_type": "execute_result"
    }
   ],
   "source": [
    "c_2.__dict__"
   ]
  },
  {
   "cell_type": "code",
   "execution_count": 39,
   "metadata": {},
   "outputs": [
    {
     "data": {
      "text/plain": [
       "{'x': 11.2}"
      ]
     },
     "execution_count": 39,
     "metadata": {},
     "output_type": "execute_result"
    }
   ],
   "source": [
    "# При этом набор атрибутов объекта c_1 не изменился:\n",
    "c_1.__dict__"
   ]
  },
  {
   "cell_type": "markdown",
   "metadata": {},
   "source": [
    "### Наследование и полиморфизм"
   ]
  },
  {
   "cell_type": "code",
   "execution_count": 40,
   "metadata": {},
   "outputs": [],
   "source": [
    "# Класс, наследующий у Car\n",
    "class CargoCar(Car): \n",
    "    def __init__(self, x, max_load, load):\n",
    "        self.x = x\n",
    "        self.max_load = max_load\n",
    "        self.load = load\n",
    "    \n",
    "    def is_overloaded(self):\n",
    "        return self.load > self.max_load"
   ]
  },
  {
   "cell_type": "code",
   "execution_count": 41,
   "metadata": {},
   "outputs": [],
   "source": [
    "cc_1 = CargoCar(6.0, 10, 2)"
   ]
  },
  {
   "cell_type": "code",
   "execution_count": 42,
   "metadata": {},
   "outputs": [
    {
     "data": {
      "text/plain": [
       "True"
      ]
     },
     "execution_count": 42,
     "metadata": {},
     "output_type": "execute_result"
    }
   ],
   "source": [
    "cc_1.is_near(7.9) # метод унаследован у Car"
   ]
  },
  {
   "cell_type": "code",
   "execution_count": 43,
   "metadata": {},
   "outputs": [
    {
     "data": {
      "text/plain": [
       "False"
      ]
     },
     "execution_count": 43,
     "metadata": {},
     "output_type": "execute_result"
    }
   ],
   "source": [
    "cc_1.is_overloaded()"
   ]
  },
  {
   "cell_type": "code",
   "execution_count": 44,
   "metadata": {},
   "outputs": [],
   "source": [
    "cars1 = [c_1, cc_1, c_2]"
   ]
  },
  {
   "cell_type": "code",
   "execution_count": 45,
   "metadata": {},
   "outputs": [
    {
     "name": "stdout",
     "output_type": "stream",
     "text": [
      "False\n",
      "False\n",
      "False\n"
     ]
    }
   ],
   "source": [
    "for c in cars1:\n",
    "    print(c.is_near(8.2))"
   ]
  },
  {
   "cell_type": "code",
   "execution_count": 46,
   "metadata": {},
   "outputs": [],
   "source": [
    "# Класс, наследующий у CargoCar\n",
    "class CargoCarWithTrailer(CargoCar): \n",
    "    def __init__(self, x, max_load, load, trailer_length):\n",
    "        super().__init__(x, max_load, load) # способ исползьовать реализацию конструктора базового класса\n",
    "        self.trailer_length = trailer_length\n",
    "    \n",
    "    def is_near(self, x2): # перегруженный метод\n",
    "        return self.x-self.trailer_length-2.0 < x2 < self.x+2.0    \n",
    "    \n",
    "    def is_near_old(self, x2):\n",
    "        return super().is_near(x2) # способ обратиться к реализации функции в родительском классе"
   ]
  },
  {
   "cell_type": "code",
   "execution_count": 47,
   "metadata": {},
   "outputs": [],
   "source": [
    "ccwt_1 = CargoCarWithTrailer(6.0, 10, 2, trailer_length=3)"
   ]
  },
  {
   "cell_type": "code",
   "execution_count": 48,
   "metadata": {},
   "outputs": [
    {
     "data": {
      "text/plain": [
       "(6.0, 6.0)"
      ]
     },
     "execution_count": 48,
     "metadata": {},
     "output_type": "execute_result"
    }
   ],
   "source": [
    "cc_1.x, ccwt_1.x"
   ]
  },
  {
   "cell_type": "code",
   "execution_count": 49,
   "metadata": {},
   "outputs": [
    {
     "data": {
      "text/plain": [
       "(False, True)"
      ]
     },
     "execution_count": 49,
     "metadata": {},
     "output_type": "execute_result"
    }
   ],
   "source": [
    "# демонстрация полиморфизма:\n",
    "cc_1.is_near(3.0), ccwt_1.is_near(3.0)"
   ]
  },
  {
   "cell_type": "markdown",
   "metadata": {},
   "source": [
    "Утиная типизация"
   ]
  },
  {
   "cell_type": "code",
   "execution_count": 50,
   "metadata": {},
   "outputs": [],
   "source": [
    "# класс, не входящий в иерархию классов Car \n",
    "class Man(object):\n",
    "    def __init__(self, name, position): \n",
    "        self.name = name\n",
    "        self.position = position\n",
    "    \n",
    "    def is_near(self, pos2): # метод класса\n",
    "        return abs(self.position - pos2) < 1.0   "
   ]
  },
  {
   "cell_type": "code",
   "execution_count": 51,
   "metadata": {},
   "outputs": [],
   "source": [
    "m_1 = Man('Ivan', 9.5)"
   ]
  },
  {
   "cell_type": "code",
   "execution_count": 52,
   "metadata": {},
   "outputs": [],
   "source": [
    "different_objects = [c_1, cc_1, c_2, ccwt_1, m_1]"
   ]
  },
  {
   "cell_type": "code",
   "execution_count": 53,
   "metadata": {},
   "outputs": [
    {
     "name": "stdout",
     "output_type": "stream",
     "text": [
      "False\n",
      "True\n",
      "False\n",
      "True\n",
      "False\n"
     ]
    }
   ],
   "source": [
    "# Благодаря поддержке утиной типизации в Python объекты, представляющие неродственные классы, \n",
    "# но реализующие необходимый функционал, могут обрабатываться единообразно:\n",
    "for ob in different_objects:\n",
    "    print(ob.is_near(6.2))"
   ]
  },
  {
   "cell_type": "markdown",
   "metadata": {},
   "source": [
    "### Функция super()"
   ]
  },
  {
   "cell_type": "markdown",
   "metadata": {},
   "source": [
    "Метод super() в методе возвращает объект который делегирует вызовы методов методам родительского класса. Наиболее наглядно его работу можно увидеть при использовании в конструкторе."
   ]
  },
  {
   "cell_type": "code",
   "execution_count": 54,
   "metadata": {},
   "outputs": [],
   "source": [
    "class Point2D():\n",
    "    def __init__(self, x, y):\n",
    "        self.x = x\n",
    "        self.y = y\n",
    "\n",
    "class Point3D(Point2D):\n",
    "    def __init__(self, x, y, z):\n",
    "        super().__init__(x, y) # вызываем реализацию __init__ родительского класса\n",
    "        self.z = z"
   ]
  },
  {
   "cell_type": "code",
   "execution_count": 55,
   "metadata": {},
   "outputs": [
    {
     "data": {
      "text/plain": [
       "{'x': 0, 'y': -1, 'z': 1}"
      ]
     },
     "execution_count": 55,
     "metadata": {},
     "output_type": "execute_result"
    }
   ],
   "source": [
    "p2d_1 = Point3D(0, -1, 1)\n",
    "p2d_1.__dict__"
   ]
  },
  {
   "cell_type": "markdown",
   "metadata": {},
   "source": [
    "### Проверка принадлежности к классу"
   ]
  },
  {
   "cell_type": "code",
   "execution_count": 56,
   "metadata": {},
   "outputs": [
    {
     "name": "stdout",
     "output_type": "stream",
     "text": [
      "<class '__main__.Car'> False\n",
      "<class '__main__.CargoCar'> False\n",
      "<class '__main__.Car'> False\n",
      "<class '__main__.CargoCarWithTrailer'> False\n",
      "<class '__main__.Man'> False\n"
     ]
    }
   ],
   "source": [
    "# Функция type() позволяет определить класс объека:\n",
    "for ob in different_objects:\n",
    "    print(type(ob), ob.is_near(8.2))"
   ]
  },
  {
   "cell_type": "code",
   "execution_count": 57,
   "metadata": {},
   "outputs": [
    {
     "data": {
      "text/plain": [
       "True"
      ]
     },
     "execution_count": 57,
     "metadata": {},
     "output_type": "execute_result"
    }
   ],
   "source": [
    "# проверка принадлежности объека определенному классу:\n",
    "type(c_1) == Car"
   ]
  },
  {
   "cell_type": "code",
   "execution_count": 58,
   "metadata": {},
   "outputs": [
    {
     "data": {
      "text/plain": [
       "True"
      ]
     },
     "execution_count": 58,
     "metadata": {},
     "output_type": "execute_result"
    }
   ],
   "source": [
    "# другой сопособ получить класс объекта:\n",
    "c_1.__class__ == Car"
   ]
  },
  {
   "cell_type": "code",
   "execution_count": 59,
   "metadata": {},
   "outputs": [
    {
     "data": {
      "text/plain": [
       "False"
      ]
     },
     "execution_count": 59,
     "metadata": {},
     "output_type": "execute_result"
    }
   ],
   "source": [
    "cc_1.__class__ == Car"
   ]
  },
  {
   "cell_type": "code",
   "execution_count": 60,
   "metadata": {},
   "outputs": [
    {
     "name": "stdout",
     "output_type": "stream",
     "text": [
      "Класс: <class '__main__.Car'>, является подклассом Car:    True, проверка близости: False\n",
      "Класс: <class '__main__.CargoCar'>, является подклассом Car:    True, проверка близости: False\n",
      "Класс: <class '__main__.Car'>, является подклассом Car:    True, проверка близости: False\n",
      "Класс: <class '__main__.CargoCarWithTrailer'>, является подклассом Car:    True, проверка близости: False\n",
      "Класс: <class '__main__.Man'>, является подклассом Car:    False, проверка близости: False\n"
     ]
    }
   ],
   "source": [
    "# чаще всего нужно знать не точную принадлежность к классу, \n",
    "# а принадлежность к классу или его наследникам \n",
    "#(так как именно это нужно для корректной работы полиморфизма):\n",
    "for ob in different_objects:\n",
    "    print('Класс: {}, является подклассом Car:\\\n",
    "    {}, проверка близости: {}'.format(type(ob), \n",
    "                                      isinstance(ob, Car), ob.is_near(8.2)))"
   ]
  },
  {
   "cell_type": "code",
   "execution_count": 61,
   "metadata": {
    "scrolled": false
   },
   "outputs": [
    {
     "data": {
      "text/plain": [
       "(True, False, False, False)"
      ]
     },
     "execution_count": 61,
     "metadata": {},
     "output_type": "execute_result"
    }
   ],
   "source": [
    "# Можно проверить, является ли один класс потомком другого:\n",
    "issubclass(CargoCar, Car), issubclass(Car, CargoCar), issubclass(Car, Man),\\\n",
    "issubclass(Man, Car)"
   ]
  },
  {
   "cell_type": "markdown",
   "metadata": {},
   "source": [
    "### Базовые типы Python"
   ]
  },
  {
   "cell_type": "markdown",
   "metadata": {},
   "source": [
    "Базовые типы Python являются объектами."
   ]
  },
  {
   "cell_type": "code",
   "execution_count": 62,
   "metadata": {},
   "outputs": [],
   "source": [
    "s1 = 'abc'"
   ]
  },
  {
   "cell_type": "code",
   "execution_count": 63,
   "metadata": {},
   "outputs": [
    {
     "data": {
      "text/plain": [
       "True"
      ]
     },
     "execution_count": 63,
     "metadata": {},
     "output_type": "execute_result"
    }
   ],
   "source": [
    "isinstance(s1, str)"
   ]
  },
  {
   "cell_type": "code",
   "execution_count": 64,
   "metadata": {},
   "outputs": [
    {
     "data": {
      "text/plain": [
       "True"
      ]
     },
     "execution_count": 64,
     "metadata": {},
     "output_type": "execute_result"
    }
   ],
   "source": [
    "issubclass(str, object)"
   ]
  },
  {
   "cell_type": "code",
   "execution_count": 65,
   "metadata": {},
   "outputs": [
    {
     "data": {
      "text/plain": [
       "1"
      ]
     },
     "execution_count": 65,
     "metadata": {},
     "output_type": "execute_result"
    }
   ],
   "source": [
    "s1.index('b') # вызов метода объекта."
   ]
  },
  {
   "cell_type": "markdown",
   "metadata": {},
   "source": [
    "# Лекция 9"
   ]
  },
  {
   "cell_type": "markdown",
   "metadata": {},
   "source": [
    "## Объектно-ориентированное программирование (продолжение)"
   ]
  },
  {
   "cell_type": "markdown",
   "metadata": {},
   "source": [
    "### Методы классов и статические переменные и методы "
   ]
  },
  {
   "cell_type": "code",
   "execution_count": 1,
   "metadata": {},
   "outputs": [],
   "source": [
    "class Ship(object):\n",
    "    next_index = 0  # переменная класса (статическая переменная)\n",
    "    \n",
    "    @classmethod\n",
    "    def generate_next_index(cls): # в classmethod первый обязательный параметр: cls - переменная, ссылающаяся на КЛАСС\n",
    "        index = cls.next_index\n",
    "        cls.next_index += 1\n",
    "        return index\n",
    "    \n",
    "    def __init__(self):\n",
    "        self.index = Ship.generate_next_index()\n",
    "        \n",
    "    @staticmethod\n",
    "    def is_from_same_epoch(sh1, sh2): # не имеет доступа ни к объекту ни к классу\n",
    "        return abs(sh1.index - sh2.index) < 10"
   ]
  },
  {
   "cell_type": "code",
   "execution_count": 2,
   "metadata": {},
   "outputs": [
    {
     "data": {
      "text/plain": [
       "0"
      ]
     },
     "execution_count": 2,
     "metadata": {},
     "output_type": "execute_result"
    }
   ],
   "source": [
    "s1 = Ship()\n",
    "s1.index"
   ]
  },
  {
   "cell_type": "code",
   "execution_count": 3,
   "metadata": {},
   "outputs": [],
   "source": [
    "fleet = [Ship() for _ in range(15)]"
   ]
  },
  {
   "cell_type": "code",
   "execution_count": 4,
   "metadata": {},
   "outputs": [
    {
     "name": "stdout",
     "output_type": "stream",
     "text": [
      "1\n",
      "2\n",
      "3\n",
      "4\n",
      "5\n",
      "6\n",
      "7\n",
      "8\n",
      "9\n",
      "10\n",
      "11\n",
      "12\n",
      "13\n",
      "14\n",
      "15\n"
     ]
    }
   ],
   "source": [
    "for sh in fleet:\n",
    "    print(sh.index)"
   ]
  },
  {
   "cell_type": "code",
   "execution_count": 5,
   "metadata": {
    "scrolled": true
   },
   "outputs": [
    {
     "data": {
      "text/plain": [
       "16"
      ]
     },
     "execution_count": 5,
     "metadata": {},
     "output_type": "execute_result"
    }
   ],
   "source": [
    "Ship.next_index # доступ к переменной класса через имя класса"
   ]
  },
  {
   "cell_type": "code",
   "execution_count": 6,
   "metadata": {},
   "outputs": [
    {
     "data": {
      "text/plain": [
       "16"
      ]
     },
     "execution_count": 6,
     "metadata": {},
     "output_type": "execute_result"
    }
   ],
   "source": [
    "s1.next_index # доступ к переменной класса через объект"
   ]
  },
  {
   "cell_type": "code",
   "execution_count": 7,
   "metadata": {},
   "outputs": [
    {
     "name": "stdout",
     "output_type": "stream",
     "text": [
      "[16, 16, 16, 16, 16, 16, 16, 16, 16, 16, 16, 16, 16, 16, 16]\n"
     ]
    }
   ],
   "source": [
    "print([s.next_index for s in fleet])"
   ]
  },
  {
   "cell_type": "code",
   "execution_count": 8,
   "metadata": {},
   "outputs": [
    {
     "name": "stdout",
     "output_type": "stream",
     "text": [
      "[100, 16, 16, 16, 16, 16, 16, 16, 16, 16, 16, 16, 16, 16, 16] 16\n"
     ]
    }
   ],
   "source": [
    "fleet[0].next_index = 100 # приводит не к изменению в переменной класса, а к появлнию нового атрибута у данного объкта!\n",
    "print([s.next_index for s in fleet], Ship.next_index)"
   ]
  },
  {
   "cell_type": "code",
   "execution_count": 9,
   "metadata": {
    "scrolled": true
   },
   "outputs": [
    {
     "name": "stdout",
     "output_type": "stream",
     "text": [
      "[100, 50, 50, 50, 50, 50, 50, 50, 50, 50, 50, 50, 50, 50, 50] 50\n"
     ]
    }
   ],
   "source": [
    "Ship.next_index = 50 # изменяем значение переменной класса\n",
    "print([s.next_index for s in fleet], Ship.next_index)"
   ]
  },
  {
   "cell_type": "code",
   "execution_count": 10,
   "metadata": {
    "scrolled": true
   },
   "outputs": [
    {
     "data": {
      "text/plain": [
       "50"
      ]
     },
     "execution_count": 10,
     "metadata": {},
     "output_type": "execute_result"
    }
   ],
   "source": [
    "Ship.generate_next_index() # доступ к методу класса через имя класса"
   ]
  },
  {
   "cell_type": "code",
   "execution_count": 11,
   "metadata": {},
   "outputs": [
    {
     "data": {
      "text/plain": [
       "51"
      ]
     },
     "execution_count": 11,
     "metadata": {},
     "output_type": "execute_result"
    }
   ],
   "source": [
    "Ship.next_index"
   ]
  },
  {
   "cell_type": "markdown",
   "metadata": {},
   "source": [
    "Статический метод"
   ]
  },
  {
   "cell_type": "code",
   "execution_count": 12,
   "metadata": {
    "scrolled": true
   },
   "outputs": [
    {
     "data": {
      "text/plain": [
       "False"
      ]
     },
     "execution_count": 12,
     "metadata": {},
     "output_type": "execute_result"
    }
   ],
   "source": [
    "Ship.is_from_same_epoch(fleet[0], fleet[-1])"
   ]
  },
  {
   "cell_type": "code",
   "execution_count": 13,
   "metadata": {},
   "outputs": [
    {
     "data": {
      "text/plain": [
       "True"
      ]
     },
     "execution_count": 13,
     "metadata": {},
     "output_type": "execute_result"
    }
   ],
   "source": [
    "s1.is_from_same_epoch(s1, fleet[0])"
   ]
  },
  {
   "cell_type": "code",
   "execution_count": 14,
   "metadata": {},
   "outputs": [
    {
     "name": "stdout",
     "output_type": "stream",
     "text": [
      "<__main__.Ship object at 0x000001BA994EEA20>\n",
      "<__main__.Ship object at 0x000001BA994EE748>\n",
      "<__main__.Ship object at 0x000001BA994EEC18>\n",
      "<__main__.Ship object at 0x000001BA994EEAC8>\n",
      "<__main__.Ship object at 0x000001BA994EEBA8>\n",
      "<__main__.Ship object at 0x000001BA994EEB00>\n",
      "<__main__.Ship object at 0x000001BA994EEB38>\n",
      "<__main__.Ship object at 0x000001BA994EEA90>\n",
      "<__main__.Ship object at 0x000001BA994EE940>\n",
      "<__main__.Ship object at 0x000001BA994EE978>\n",
      "<__main__.Ship object at 0x000001BA994EE9B0>\n",
      "<__main__.Ship object at 0x000001BA994EE080>\n",
      "<__main__.Ship object at 0x000001BA994EED68>\n",
      "<__main__.Ship object at 0x000001BA994EECC0>\n",
      "<__main__.Ship object at 0x000001BA994EEC88>\n"
     ]
    }
   ],
   "source": [
    "for s in fleet:\n",
    "    print(s, )"
   ]
  },
  {
   "cell_type": "markdown",
   "metadata": {},
   "source": [
    "### Управление доступом к атрибутам класса"
   ]
  },
  {
   "cell_type": "code",
   "execution_count": 66,
   "metadata": {},
   "outputs": [
    {
     "data": {
      "text/plain": [
       "(2, 10, False)"
      ]
     },
     "execution_count": 66,
     "metadata": {},
     "output_type": "execute_result"
    }
   ],
   "source": [
    "cc_1.load, cc_1.max_load, cc_1.is_overloaded()"
   ]
  },
  {
   "cell_type": "code",
   "execution_count": 67,
   "metadata": {},
   "outputs": [
    {
     "data": {
      "text/plain": [
       "True"
      ]
     },
     "execution_count": 67,
     "metadata": {},
     "output_type": "execute_result"
    }
   ],
   "source": [
    "# нарушаем правила загрузки грузового автомобиля:\n",
    "cc_1.load = 12\n",
    "cc_1.is_overloaded()"
   ]
  },
  {
   "cell_type": "code",
   "execution_count": 68,
   "metadata": {},
   "outputs": [],
   "source": [
    "cc_1.max_load = 20"
   ]
  },
  {
   "cell_type": "code",
   "execution_count": 69,
   "metadata": {},
   "outputs": [
    {
     "data": {
      "text/plain": [
       "False"
      ]
     },
     "execution_count": 69,
     "metadata": {},
     "output_type": "execute_result"
    }
   ],
   "source": [
    "cc_1.is_overloaded()"
   ]
  },
  {
   "cell_type": "code",
   "execution_count": null,
   "metadata": {},
   "outputs": [],
   "source": []
  },
  {
   "cell_type": "code",
   "execution_count": 70,
   "metadata": {},
   "outputs": [],
   "source": [
    "# Класс CargoCar с контролем доступа к значениям загрузки и максимального предела загрузки \n",
    "class CargoCar2(Car): \n",
    "    def __init__(self, x, max_load, load):\n",
    "        self.x = x\n",
    "        self.__max_load = max_load\n",
    "        self.__load = load\n",
    "        assert not(self.is_overloaded()), 'При создании автомобиля превышено ограничение загрузки!'\n",
    "    \n",
    "    def is_overloaded(self):\n",
    "        return self.__load > self.__max_load\n",
    "    \n",
    "    def get_load(self):\n",
    "        return self.__load\n",
    "    \n",
    "    def set_load(self, load): # проверка при изменении значения\n",
    "        assert load < self.__max_load, \"Превышен предел загрузки!\"\n",
    "        self.__load = load\n",
    "        \n",
    "    def get_max_load(self): # для max_load есть только возможность получения значения\n",
    "        return self.__max_load"
   ]
  },
  {
   "cell_type": "code",
   "execution_count": 71,
   "metadata": {},
   "outputs": [
    {
     "ename": "AssertionError",
     "evalue": "При создании автомобиля превышено ограничение загрузки!",
     "output_type": "error",
     "traceback": [
      "\u001b[1;31m---------------------------------------------------------------------------\u001b[0m",
      "\u001b[1;31mAssertionError\u001b[0m                            Traceback (most recent call last)",
      "\u001b[1;32m<ipython-input-71-dfc933f47500>\u001b[0m in \u001b[0;36m<module>\u001b[1;34m()\u001b[0m\n\u001b[1;32m----> 1\u001b[1;33m \u001b[0mсс2_1\u001b[0m \u001b[1;33m=\u001b[0m \u001b[0mCargoCar2\u001b[0m\u001b[1;33m(\u001b[0m\u001b[1;36m5.0\u001b[0m\u001b[1;33m,\u001b[0m \u001b[1;36m10\u001b[0m\u001b[1;33m,\u001b[0m \u001b[1;36m11\u001b[0m\u001b[1;33m)\u001b[0m\u001b[1;33m\u001b[0m\u001b[0m\n\u001b[0m",
      "\u001b[1;32m<ipython-input-70-665119e3baad>\u001b[0m in \u001b[0;36m__init__\u001b[1;34m(self, x, max_load, load)\u001b[0m\n\u001b[0;32m      5\u001b[0m         \u001b[0mself\u001b[0m\u001b[1;33m.\u001b[0m\u001b[0m__max_load\u001b[0m \u001b[1;33m=\u001b[0m \u001b[0mmax_load\u001b[0m\u001b[1;33m\u001b[0m\u001b[0m\n\u001b[0;32m      6\u001b[0m         \u001b[0mself\u001b[0m\u001b[1;33m.\u001b[0m\u001b[0m__load\u001b[0m \u001b[1;33m=\u001b[0m \u001b[0mload\u001b[0m\u001b[1;33m\u001b[0m\u001b[0m\n\u001b[1;32m----> 7\u001b[1;33m         \u001b[1;32massert\u001b[0m \u001b[1;32mnot\u001b[0m\u001b[1;33m(\u001b[0m\u001b[0mself\u001b[0m\u001b[1;33m.\u001b[0m\u001b[0mis_overloaded\u001b[0m\u001b[1;33m(\u001b[0m\u001b[1;33m)\u001b[0m\u001b[1;33m)\u001b[0m\u001b[1;33m,\u001b[0m \u001b[1;34m'При создании автомобиля превышено ограничение загрузки!'\u001b[0m\u001b[1;33m\u001b[0m\u001b[0m\n\u001b[0m\u001b[0;32m      8\u001b[0m \u001b[1;33m\u001b[0m\u001b[0m\n\u001b[0;32m      9\u001b[0m     \u001b[1;32mdef\u001b[0m \u001b[0mis_overloaded\u001b[0m\u001b[1;33m(\u001b[0m\u001b[0mself\u001b[0m\u001b[1;33m)\u001b[0m\u001b[1;33m:\u001b[0m\u001b[1;33m\u001b[0m\u001b[0m\n",
      "\u001b[1;31mAssertionError\u001b[0m: При создании автомобиля превышено ограничение загрузки!"
     ]
    }
   ],
   "source": [
    "сс2_1 = CargoCar2(5.0, 10, 11)"
   ]
  },
  {
   "cell_type": "code",
   "execution_count": 72,
   "metadata": {},
   "outputs": [],
   "source": [
    "cc2_2 = CargoCar2(5.0, 10, 9)"
   ]
  },
  {
   "cell_type": "code",
   "execution_count": 73,
   "metadata": {},
   "outputs": [
    {
     "ename": "AttributeError",
     "evalue": "'CargoCar2' object has no attribute '__load'",
     "output_type": "error",
     "traceback": [
      "\u001b[1;31m---------------------------------------------------------------------------\u001b[0m",
      "\u001b[1;31mAttributeError\u001b[0m                            Traceback (most recent call last)",
      "\u001b[1;32m<ipython-input-73-3c7b11e844c8>\u001b[0m in \u001b[0;36m<module>\u001b[1;34m()\u001b[0m\n\u001b[1;32m----> 1\u001b[1;33m \u001b[0mcc2_2\u001b[0m\u001b[1;33m.\u001b[0m\u001b[0m__load\u001b[0m \u001b[1;31m#приватная переменная защищена от доступа извне класса\u001b[0m\u001b[1;33m\u001b[0m\u001b[0m\n\u001b[0m",
      "\u001b[1;31mAttributeError\u001b[0m: 'CargoCar2' object has no attribute '__load'"
     ]
    }
   ],
   "source": [
    "cc2_2.__load #приватная переменная защищена от доступа извне класса"
   ]
  },
  {
   "cell_type": "code",
   "execution_count": 74,
   "metadata": {},
   "outputs": [
    {
     "data": {
      "text/plain": [
       "9"
      ]
     },
     "execution_count": 74,
     "metadata": {},
     "output_type": "execute_result"
    }
   ],
   "source": [
    "cc2_2.get_load()"
   ]
  },
  {
   "cell_type": "code",
   "execution_count": 75,
   "metadata": {},
   "outputs": [
    {
     "data": {
      "text/plain": [
       "8"
      ]
     },
     "execution_count": 75,
     "metadata": {},
     "output_type": "execute_result"
    }
   ],
   "source": [
    "cc2_2.set_load(8)\n",
    "cc2_2.get_load()"
   ]
  },
  {
   "cell_type": "code",
   "execution_count": 76,
   "metadata": {},
   "outputs": [
    {
     "ename": "AssertionError",
     "evalue": "Превышен предел загрузки!",
     "output_type": "error",
     "traceback": [
      "\u001b[1;31m---------------------------------------------------------------------------\u001b[0m",
      "\u001b[1;31mAssertionError\u001b[0m                            Traceback (most recent call last)",
      "\u001b[1;32m<ipython-input-76-b19a384cbf01>\u001b[0m in \u001b[0;36m<module>\u001b[1;34m()\u001b[0m\n\u001b[1;32m----> 1\u001b[1;33m \u001b[0mcc2_2\u001b[0m\u001b[1;33m.\u001b[0m\u001b[0mset_load\u001b[0m\u001b[1;33m(\u001b[0m\u001b[1;36m11\u001b[0m\u001b[1;33m)\u001b[0m\u001b[1;33m\u001b[0m\u001b[0m\n\u001b[0m",
      "\u001b[1;32m<ipython-input-70-665119e3baad>\u001b[0m in \u001b[0;36mset_load\u001b[1;34m(self, load)\u001b[0m\n\u001b[0;32m     14\u001b[0m \u001b[1;33m\u001b[0m\u001b[0m\n\u001b[0;32m     15\u001b[0m     \u001b[1;32mdef\u001b[0m \u001b[0mset_load\u001b[0m\u001b[1;33m(\u001b[0m\u001b[0mself\u001b[0m\u001b[1;33m,\u001b[0m \u001b[0mload\u001b[0m\u001b[1;33m)\u001b[0m\u001b[1;33m:\u001b[0m \u001b[1;31m# проверка при изменении значения\u001b[0m\u001b[1;33m\u001b[0m\u001b[0m\n\u001b[1;32m---> 16\u001b[1;33m         \u001b[1;32massert\u001b[0m \u001b[0mload\u001b[0m \u001b[1;33m<\u001b[0m \u001b[0mself\u001b[0m\u001b[1;33m.\u001b[0m\u001b[0m__max_load\u001b[0m\u001b[1;33m,\u001b[0m \u001b[1;34m\"Превышен предел загрузки!\"\u001b[0m\u001b[1;33m\u001b[0m\u001b[0m\n\u001b[0m\u001b[0;32m     17\u001b[0m         \u001b[0mself\u001b[0m\u001b[1;33m.\u001b[0m\u001b[0m__load\u001b[0m \u001b[1;33m=\u001b[0m \u001b[0mload\u001b[0m\u001b[1;33m\u001b[0m\u001b[0m\n\u001b[0;32m     18\u001b[0m \u001b[1;33m\u001b[0m\u001b[0m\n",
      "\u001b[1;31mAssertionError\u001b[0m: Превышен предел загрузки!"
     ]
    }
   ],
   "source": [
    "cc2_2.set_load(11)"
   ]
  },
  {
   "cell_type": "code",
   "execution_count": 77,
   "metadata": {},
   "outputs": [],
   "source": [
    "# Класс CargoCar с контролем доступа к значениям, выполненным в стиле Python\n",
    "class CargoCar3(Car): \n",
    "    def __init__(self, x, max_load, load):\n",
    "        self.x = x\n",
    "        self.__max_load = max_load\n",
    "        self.__load = load\n",
    "        assert not(self.is_overloaded()), 'При создании автомобиля превышено ограничение загрузки!'\n",
    "    \n",
    "    def is_overloaded(self):\n",
    "        return self.__load > self.__max_load\n",
    "    \n",
    "    @property # Декоратор функции, оформляющий функцию как функцию доступа\n",
    "    def load(self):\n",
    "        return self.__load\n",
    "    \n",
    "    @load.setter # Декоратор функции, оформляющий функцию как функцию-сеттер\n",
    "    def load(self, val): # проверка при изменении значения\n",
    "        assert val < self.__max_load, \"Превышен предел загрузки!\"\n",
    "        self.__load = val\n",
    "        \n",
    "    # при необходимости, есть декоратор вида: @load.deletter\n",
    "        \n",
    "    @property \n",
    "    def max_load(self): # для max_load есть только возможность получения значения\n",
    "        return self.__max_load"
   ]
  },
  {
   "cell_type": "code",
   "execution_count": 78,
   "metadata": {},
   "outputs": [],
   "source": [
    "cc3_1 = CargoCar3(5.0, 10, 9)"
   ]
  },
  {
   "cell_type": "code",
   "execution_count": 79,
   "metadata": {},
   "outputs": [
    {
     "ename": "AttributeError",
     "evalue": "'CargoCar3' object has no attribute '__load'",
     "output_type": "error",
     "traceback": [
      "\u001b[1;31m---------------------------------------------------------------------------\u001b[0m",
      "\u001b[1;31mAttributeError\u001b[0m                            Traceback (most recent call last)",
      "\u001b[1;32m<ipython-input-79-de4f37b54fa5>\u001b[0m in \u001b[0;36m<module>\u001b[1;34m()\u001b[0m\n\u001b[1;32m----> 1\u001b[1;33m \u001b[0mcc3_1\u001b[0m\u001b[1;33m.\u001b[0m\u001b[0m__load\u001b[0m\u001b[1;33m\u001b[0m\u001b[0m\n\u001b[0m",
      "\u001b[1;31mAttributeError\u001b[0m: 'CargoCar3' object has no attribute '__load'"
     ]
    }
   ],
   "source": [
    "cc3_1.__load"
   ]
  },
  {
   "cell_type": "code",
   "execution_count": 80,
   "metadata": {},
   "outputs": [
    {
     "data": {
      "text/plain": [
       "9"
      ]
     },
     "execution_count": 80,
     "metadata": {},
     "output_type": "execute_result"
    }
   ],
   "source": [
    "cc3_1.load"
   ]
  },
  {
   "cell_type": "code",
   "execution_count": 81,
   "metadata": {},
   "outputs": [
    {
     "data": {
      "text/plain": [
       "8"
      ]
     },
     "execution_count": 81,
     "metadata": {},
     "output_type": "execute_result"
    }
   ],
   "source": [
    "cc3_1.load = 8\n",
    "cc3_1.load"
   ]
  },
  {
   "cell_type": "code",
   "execution_count": 82,
   "metadata": {
    "scrolled": true
   },
   "outputs": [
    {
     "ename": "AssertionError",
     "evalue": "Превышен предел загрузки!",
     "output_type": "error",
     "traceback": [
      "\u001b[1;31m---------------------------------------------------------------------------\u001b[0m",
      "\u001b[1;31mAssertionError\u001b[0m                            Traceback (most recent call last)",
      "\u001b[1;32m<ipython-input-82-dfdfbf268fb6>\u001b[0m in \u001b[0;36m<module>\u001b[1;34m()\u001b[0m\n\u001b[1;32m----> 1\u001b[1;33m \u001b[0mcc3_1\u001b[0m\u001b[1;33m.\u001b[0m\u001b[0mload\u001b[0m \u001b[1;33m=\u001b[0m \u001b[1;36m11\u001b[0m\u001b[1;33m\u001b[0m\u001b[0m\n\u001b[0m",
      "\u001b[1;32m<ipython-input-77-1b55e3ef66e4>\u001b[0m in \u001b[0;36mload\u001b[1;34m(self, val)\u001b[0m\n\u001b[0;32m     16\u001b[0m     \u001b[1;33m@\u001b[0m\u001b[0mload\u001b[0m\u001b[1;33m.\u001b[0m\u001b[0msetter\u001b[0m \u001b[1;31m# Декоратор функции, оформляющий функцию как функцию-сеттер\u001b[0m\u001b[1;33m\u001b[0m\u001b[0m\n\u001b[0;32m     17\u001b[0m     \u001b[1;32mdef\u001b[0m \u001b[0mload\u001b[0m\u001b[1;33m(\u001b[0m\u001b[0mself\u001b[0m\u001b[1;33m,\u001b[0m \u001b[0mval\u001b[0m\u001b[1;33m)\u001b[0m\u001b[1;33m:\u001b[0m \u001b[1;31m# проверка при изменении значения\u001b[0m\u001b[1;33m\u001b[0m\u001b[0m\n\u001b[1;32m---> 18\u001b[1;33m         \u001b[1;32massert\u001b[0m \u001b[0mval\u001b[0m \u001b[1;33m<\u001b[0m \u001b[0mself\u001b[0m\u001b[1;33m.\u001b[0m\u001b[0m__max_load\u001b[0m\u001b[1;33m,\u001b[0m \u001b[1;34m\"Превышен предел загрузки!\"\u001b[0m\u001b[1;33m\u001b[0m\u001b[0m\n\u001b[0m\u001b[0;32m     19\u001b[0m         \u001b[0mself\u001b[0m\u001b[1;33m.\u001b[0m\u001b[0m__load\u001b[0m \u001b[1;33m=\u001b[0m \u001b[0mval\u001b[0m\u001b[1;33m\u001b[0m\u001b[0m\n\u001b[0;32m     20\u001b[0m \u001b[1;33m\u001b[0m\u001b[0m\n",
      "\u001b[1;31mAssertionError\u001b[0m: Превышен предел загрузки!"
     ]
    }
   ],
   "source": [
    "cc3_1.load = 11"
   ]
  },
  {
   "cell_type": "code",
   "execution_count": 83,
   "metadata": {},
   "outputs": [
    {
     "data": {
      "text/plain": [
       "10"
      ]
     },
     "execution_count": 83,
     "metadata": {},
     "output_type": "execute_result"
    }
   ],
   "source": [
    "cc3_1.max_load"
   ]
  },
  {
   "cell_type": "code",
   "execution_count": 84,
   "metadata": {},
   "outputs": [
    {
     "ename": "AttributeError",
     "evalue": "can't set attribute",
     "output_type": "error",
     "traceback": [
      "\u001b[1;31m---------------------------------------------------------------------------\u001b[0m",
      "\u001b[1;31mAttributeError\u001b[0m                            Traceback (most recent call last)",
      "\u001b[1;32m<ipython-input-84-c80a9f34fe6d>\u001b[0m in \u001b[0;36m<module>\u001b[1;34m()\u001b[0m\n\u001b[1;32m----> 1\u001b[1;33m \u001b[0mcc3_1\u001b[0m\u001b[1;33m.\u001b[0m\u001b[0mmax_load\u001b[0m \u001b[1;33m=\u001b[0m \u001b[1;36m7\u001b[0m\u001b[1;33m\u001b[0m\u001b[0m\n\u001b[0m",
      "\u001b[1;31mAttributeError\u001b[0m: can't set attribute"
     ]
    }
   ],
   "source": [
    "cc3_1.max_load = 7"
   ]
  },
  {
   "cell_type": "markdown",
   "metadata": {},
   "source": [
    "## Динамические операции с атрибутами и интроспекция"
   ]
  },
  {
   "cell_type": "code",
   "execution_count": 85,
   "metadata": {},
   "outputs": [],
   "source": [
    "# создаем объект, при создании передаем параметр конструктора:\n",
    "ob_1 = Car(3.1)\n",
    "ob_2 = Car(4.1)\n",
    "ob_3 = CargoCar3(5.0, 10, 9)\n",
    "my_objects = [ob_1, ob_2, ob_3]"
   ]
  },
  {
   "cell_type": "code",
   "execution_count": 86,
   "metadata": {},
   "outputs": [
    {
     "data": {
      "text/plain": [
       "3.1"
      ]
     },
     "execution_count": 86,
     "metadata": {},
     "output_type": "execute_result"
    }
   ],
   "source": [
    "ob_1.x"
   ]
  },
  {
   "cell_type": "code",
   "execution_count": 87,
   "metadata": {},
   "outputs": [
    {
     "ename": "AttributeError",
     "evalue": "'Car' object has no attribute 'length'",
     "output_type": "error",
     "traceback": [
      "\u001b[1;31m---------------------------------------------------------------------------\u001b[0m",
      "\u001b[1;31mAttributeError\u001b[0m                            Traceback (most recent call last)",
      "\u001b[1;32m<ipython-input-87-df02834c5008>\u001b[0m in \u001b[0;36m<module>\u001b[1;34m()\u001b[0m\n\u001b[1;32m----> 1\u001b[1;33m \u001b[0mob_1\u001b[0m\u001b[1;33m.\u001b[0m\u001b[0mlength\u001b[0m\u001b[1;33m\u001b[0m\u001b[0m\n\u001b[0m",
      "\u001b[1;31mAttributeError\u001b[0m: 'Car' object has no attribute 'length'"
     ]
    }
   ],
   "source": [
    "ob_1.length"
   ]
  },
  {
   "cell_type": "code",
   "execution_count": 88,
   "metadata": {},
   "outputs": [],
   "source": [
    "# присваиваем объекту значение для нового атрибута\n",
    "ob_1.length = 11"
   ]
  },
  {
   "cell_type": "code",
   "execution_count": 89,
   "metadata": {},
   "outputs": [
    {
     "data": {
      "text/plain": [
       "11"
      ]
     },
     "execution_count": 89,
     "metadata": {},
     "output_type": "execute_result"
    }
   ],
   "source": [
    "ob_1.length"
   ]
  },
  {
   "cell_type": "code",
   "execution_count": 90,
   "metadata": {},
   "outputs": [
    {
     "ename": "AttributeError",
     "evalue": "'Car' object has no attribute 'length'",
     "output_type": "error",
     "traceback": [
      "\u001b[1;31m---------------------------------------------------------------------------\u001b[0m",
      "\u001b[1;31mAttributeError\u001b[0m                            Traceback (most recent call last)",
      "\u001b[1;32m<ipython-input-90-c37cfae760eb>\u001b[0m in \u001b[0;36m<module>\u001b[1;34m()\u001b[0m\n\u001b[0;32m      1\u001b[0m \u001b[1;31m# у других объектов этого же типа данный атрибут отсутствует:\u001b[0m\u001b[1;33m\u001b[0m\u001b[1;33m\u001b[0m\u001b[0m\n\u001b[1;32m----> 2\u001b[1;33m \u001b[0mob_2\u001b[0m\u001b[1;33m.\u001b[0m\u001b[0mlength\u001b[0m\u001b[1;33m\u001b[0m\u001b[0m\n\u001b[0m",
      "\u001b[1;31mAttributeError\u001b[0m: 'Car' object has no attribute 'length'"
     ]
    }
   ],
   "source": [
    "# у других объектов этого же типа данный атрибут отсутствует:\n",
    "ob_2.length"
   ]
  },
  {
   "cell_type": "code",
   "execution_count": 91,
   "metadata": {},
   "outputs": [],
   "source": [
    "# атрибут у объекта можно не только создать, но и удалить:\n",
    "del ob_1.length"
   ]
  },
  {
   "cell_type": "code",
   "execution_count": 92,
   "metadata": {},
   "outputs": [
    {
     "ename": "AttributeError",
     "evalue": "'Car' object has no attribute 'length'",
     "output_type": "error",
     "traceback": [
      "\u001b[1;31m---------------------------------------------------------------------------\u001b[0m",
      "\u001b[1;31mAttributeError\u001b[0m                            Traceback (most recent call last)",
      "\u001b[1;32m<ipython-input-92-df02834c5008>\u001b[0m in \u001b[0;36m<module>\u001b[1;34m()\u001b[0m\n\u001b[1;32m----> 1\u001b[1;33m \u001b[0mob_1\u001b[0m\u001b[1;33m.\u001b[0m\u001b[0mlength\u001b[0m\u001b[1;33m\u001b[0m\u001b[0m\n\u001b[0m",
      "\u001b[1;31mAttributeError\u001b[0m: 'Car' object has no attribute 'length'"
     ]
    }
   ],
   "source": [
    "ob_1.length"
   ]
  },
  {
   "cell_type": "markdown",
   "metadata": {},
   "source": [
    "Получать значения атрибутов, задвать значения атрибутов и удалять их можно по их имени, хранящемуся в виде строки при помощи встроенных функций: \n",
    "\n",
    "getattr()\n",
    "\n",
    "setattr()\n",
    "\n",
    "delattr()"
   ]
  },
  {
   "cell_type": "code",
   "execution_count": 93,
   "metadata": {},
   "outputs": [],
   "source": [
    "new_attr = 'number'\n",
    "for i, o in enumerate(my_objects):\n",
    "    setattr(o, new_attr, i)"
   ]
  },
  {
   "cell_type": "code",
   "execution_count": 94,
   "metadata": {},
   "outputs": [
    {
     "data": {
      "text/plain": [
       "1"
      ]
     },
     "execution_count": 94,
     "metadata": {},
     "output_type": "execute_result"
    }
   ],
   "source": [
    "ob_2.number"
   ]
  },
  {
   "cell_type": "code",
   "execution_count": 95,
   "metadata": {},
   "outputs": [
    {
     "data": {
      "text/plain": [
       "1"
      ]
     },
     "execution_count": 95,
     "metadata": {},
     "output_type": "execute_result"
    }
   ],
   "source": [
    "getattr(ob_2, new_attr)"
   ]
  },
  {
   "cell_type": "code",
   "execution_count": 1,
   "metadata": {},
   "outputs": [],
   "source": [
    "getattr?"
   ]
  },
  {
   "cell_type": "markdown",
   "metadata": {},
   "source": [
    "Данные функции позволяют обращаться к атрибутам, имена которых заранее неизвестны. Это особенно важно для реализации интроспекции. Интроспекция (type introspection) в программировании — возможность в объектно-ориентированных языках определить тип и структуру объекта во время выполнения программы. Эта возможность присуща языкам, позволяющих манипулировать типами объектов как объектами первого класса (first class citizens). "
   ]
  },
  {
   "cell_type": "code",
   "execution_count": 96,
   "metadata": {},
   "outputs": [
    {
     "data": {
      "text/plain": [
       "['_CargoCar3__load',\n",
       " '_CargoCar3__max_load',\n",
       " '__class__',\n",
       " '__delattr__',\n",
       " '__dict__',\n",
       " '__dir__',\n",
       " '__doc__',\n",
       " '__eq__',\n",
       " '__format__',\n",
       " '__ge__',\n",
       " '__getattribute__',\n",
       " '__gt__',\n",
       " '__hash__',\n",
       " '__init__',\n",
       " '__init_subclass__',\n",
       " '__le__',\n",
       " '__lt__',\n",
       " '__module__',\n",
       " '__ne__',\n",
       " '__new__',\n",
       " '__reduce__',\n",
       " '__reduce_ex__',\n",
       " '__repr__',\n",
       " '__setattr__',\n",
       " '__sizeof__',\n",
       " '__str__',\n",
       " '__subclasshook__',\n",
       " '__weakref__',\n",
       " 'is_near',\n",
       " 'is_overloaded',\n",
       " 'load',\n",
       " 'max_load',\n",
       " 'number',\n",
       " 'x']"
      ]
     },
     "execution_count": 96,
     "metadata": {},
     "output_type": "execute_result"
    }
   ],
   "source": [
    "dir(ob_3)"
   ]
  },
  {
   "cell_type": "code",
   "execution_count": 1,
   "metadata": {},
   "outputs": [],
   "source": [
    "?dir"
   ]
  },
  {
   "cell_type": "code",
   "execution_count": 97,
   "metadata": {},
   "outputs": [
    {
     "name": "stdout",
     "output_type": "stream",
     "text": [
      "is_near <bound method Car.is_near of <__main__.CargoCar3 object at 0x00000053BFA58240>> <class 'method'>\n",
      "is_overloaded <bound method CargoCar3.is_overloaded of <__main__.CargoCar3 object at 0x00000053BFA58240>> <class 'method'>\n",
      "load 9 <class 'int'>\n",
      "max_load 10 <class 'int'>\n",
      "number 2 <class 'int'>\n",
      "x 5.0 <class 'float'>\n"
     ]
    }
   ],
   "source": [
    "# получаем значения и тип всех незащищенных переменных объекта:\n",
    "for v_name in dir(ob_3):\n",
    "    if v_name[0] == '_':\n",
    "        continue\n",
    "    attr = getattr(ob_3, v_name)\n",
    "    print(v_name, attr, type(attr))"
   ]
  },
  {
   "cell_type": "code",
   "execution_count": 98,
   "metadata": {},
   "outputs": [
    {
     "name": "stdout",
     "output_type": "stream",
     "text": [
      "is_near (method) <class 'method'>\n",
      "is_overloaded (method) <class 'method'>\n",
      "load 9 <class 'int'>\n",
      "max_load 10 <class 'int'>\n",
      "number 2 <class 'int'>\n",
      "x 5.0 <class 'float'>\n"
     ]
    }
   ],
   "source": [
    "# получаем значения и тип всех незащищенных переменных объекта:\n",
    "import types\n",
    "\n",
    "for v_name in dir(ob_3):\n",
    "    if v_name[0] == '_':\n",
    "        continue\n",
    "    attr = getattr(ob_3, v_name)\n",
    "    attr_t = type(attr)\n",
    "    if attr_t is types.MethodType:\n",
    "        print(v_name, '(method)', attr_t)\n",
    "    else:\n",
    "        print(v_name, attr, attr_t)"
   ]
  },
  {
   "cell_type": "code",
   "execution_count": 99,
   "metadata": {},
   "outputs": [
    {
     "data": {
      "text/plain": [
       "{'_CargoCar3__load': 9, '_CargoCar3__max_load': 10, 'number': 2, 'x': 5.0}"
      ]
     },
     "execution_count": 99,
     "metadata": {},
     "output_type": "execute_result"
    }
   ],
   "source": [
    "# Возвращает только аттрибуты объекта для которых можно и получить и задать значения:\n",
    "vars(ob_3)"
   ]
  },
  {
   "cell_type": "code",
   "execution_count": 100,
   "metadata": {},
   "outputs": [
    {
     "name": "stdout",
     "output_type": "stream",
     "text": [
      "2 9\n"
     ]
    }
   ],
   "source": [
    "# наличие атрибута можно проверить с помощью функции hasattr():\n",
    "for o in my_objects:\n",
    "    if hasattr(o, 'load'):\n",
    "        print(o.number, o.load)"
   ]
  },
  {
   "cell_type": "markdown",
   "metadata": {},
   "source": [
    "Встроенные функции для выполнения задач объектно-ориентированного программирования:\n",
    "\n",
    "http://python-reference.readthedocs.io/en/latest/docs/functions/#object-oriented-functions\n",
    "\n",
    "\n",
    "https://docs.python.org/3/library/functions.html\n"
   ]
  },
  {
   "cell_type": "markdown",
   "metadata": {},
   "source": [
    "## Специальные методы"
   ]
  },
  {
   "cell_type": "markdown",
   "metadata": {},
   "source": [
    "\\__repr\\__(self) и \\__str\\__(self) - служат для nреобразования объекта в строку. Метод \\__repr\\__()  вызывается nри выводе в интерактивной оболочке, а также nри исnользовании функции repr(). Метод \\__str\\__() вызывается nри выводе с nомощью функции print(), а также nри исnользовании функции str(). Если метод \\__str\\__() отсутствует, то будет вызван метод \\__repr\\__(). В качестве значения методы \\__repr\\__() и \\__str\\__() должны возвращать строку. Причем, значение возвращаемое \\__repr\\__() по возможности должно возврващать строку имеющую вид конструктора аналогичного объекта. Т.е. должно быть истинно выражание: eval(repr(obj)) == obj. "
   ]
  },
  {
   "cell_type": "code",
   "execution_count": 101,
   "metadata": {},
   "outputs": [
    {
     "data": {
      "text/plain": [
       "[11, 22, 33]"
      ]
     },
     "execution_count": 101,
     "metadata": {},
     "output_type": "execute_result"
    }
   ],
   "source": [
    "eval('[11, 22]+[33]')"
   ]
  },
  {
   "cell_type": "code",
   "execution_count": 102,
   "metadata": {},
   "outputs": [
    {
     "name": "stdout",
     "output_type": "stream",
     "text": [
      "<__main__.Ship object at 0x00000053BF96F6D8>\n",
      "<__main__.Ship object at 0x00000053BF96F4E0>\n",
      "<__main__.Ship object at 0x00000053BF96F710>\n",
      "<__main__.Ship object at 0x00000053BF96F780>\n",
      "<__main__.Ship object at 0x00000053BF96F7F0>\n",
      "<__main__.Ship object at 0x00000053BF96F828>\n",
      "<__main__.Ship object at 0x00000053BF96F860>\n",
      "<__main__.Ship object at 0x00000053BF96F898>\n",
      "<__main__.Ship object at 0x00000053BF96F8D0>\n",
      "<__main__.Ship object at 0x00000053BF96F908>\n",
      "<__main__.Ship object at 0x00000053BF96F940>\n",
      "<__main__.Ship object at 0x00000053BF96F978>\n",
      "<__main__.Ship object at 0x00000053BF96F9B0>\n",
      "<__main__.Ship object at 0x00000053BF96F9E8>\n",
      "<__main__.Ship object at 0x00000053BF96FA20>\n"
     ]
    }
   ],
   "source": [
    "for s in fleet:\n",
    "    print(s)"
   ]
  },
  {
   "cell_type": "code",
   "execution_count": 103,
   "metadata": {},
   "outputs": [],
   "source": [
    "class ShipS(Ship):\n",
    "    def __str__(self):\n",
    "        return f'Ship with index {self.index}'"
   ]
  },
  {
   "cell_type": "code",
   "execution_count": 104,
   "metadata": {},
   "outputs": [
    {
     "name": "stdout",
     "output_type": "stream",
     "text": [
      "Ship with index 27\n",
      "Ship with index 28\n",
      "Ship with index 29\n",
      "Ship with index 30\n",
      "Ship with index 31\n"
     ]
    }
   ],
   "source": [
    "fleet2 = [ShipS() for _ in range(5)]\n",
    "for s in fleet2:\n",
    "    print(s)"
   ]
  },
  {
   "cell_type": "markdown",
   "metadata": {},
   "source": [
    "Когда объект используется в строке формата, вызывается метод \\__format\\__(self, format_spec) объекта с самим объектом и  спецификацией формата в виде аргументов. Метод возвращает строку с экземпляром, отформатированным  соответствующим образом."
   ]
  },
  {
   "cell_type": "markdown",
   "metadata": {},
   "source": [
    "Специальные методы для поддержки преобразования типов:\n",
    "\n",
    "* \\__bооl__(self) - вызывается при исnользовании функции bool() \n",
    "* \\__int__(self) - вызывается nри преобразовании объекта в целое число с nомощью функции int ()\n",
    "* \\__float__(self) - вызывается nри nреобразовании объекта в вещественное число с nомощью функции float (); \n",
    "* \\__complex__(self) -вызывается nри исnользовании функции complex ()"
   ]
  },
  {
   "cell_type": "markdown",
   "metadata": {},
   "source": [
    "Специальные мтоды для поддержки операций сравнения:\n",
    "\n",
    "* х == у - равно - х.\\__еq\\__(у) \n",
    "* х != у - неравно - х.\\__nе\\__(у)\n",
    "* х < у - меньше - х.\\__lt\\__(y) \n",
    "* х > y - бoльwe - x.\\__gt\\__(y)\n",
    "* х <= у - меньшеилиравно - х.\\__lе\\__(у)\n",
    "* х >= у - больше или равно - x.\\__ge\\__(y)\n",
    "* у in х - nроверка на вхождение - х.\\__contains__(у)"
   ]
  },
  {
   "cell_type": "markdown",
   "metadata": {},
   "source": [
    "Интерпретатор Python будет автоматически подставлять метод \\__ne\\__() (not equal - не равно), реализующий действие оператора неравенства (!=), если в классе присутствует реализация метода \\__eq\\__(), но отсутствует реализация метода \\__ne__() . \n"
   ]
  },
  {
   "cell_type": "markdown",
   "metadata": {},
   "source": [
    "По умолчанию экземпляры наших собственных классов поддерживают оператор == (который всегда возвращает False) и являются хешируемыми (поэтому они могут использоваться в качестве ключей словаря или добавляться в множества). Но если реализовать специальный метод \\__eq\\__(), выполняющий корректную проверку на равенство, экземпляры перестанут быть хешируемыми. Это можно исправить, реализовав специальный метод \\__hash\\__(). Язык Python предоставляет функцию хеширования строк, чисел, фиксированных множеств и других классов. "
   ]
  },
  {
   "cell_type": "markdown",
   "metadata": {},
   "source": [
    "Специальный метод \\__del\\__(self) вызывается при уничтожении объекта - по крайней мере в теории. На практике метод \\__del\\__() может не вызываться никогда, даже при завершении программы. "
   ]
  },
  {
   "cell_type": "markdown",
   "metadata": {},
   "source": [
    "### Материалы для подготовки к следующей лекции:\n",
    "\n",
    "Прохоренок: Глава 11 \"Пользовательские функции\"\n",
    "\n",
    "Саммерфильд: Глава 8 \"Улучшенные приемы программирования\" (разделы: Улучшенные приемы процедурного программирования; Функциональное программирование"
   ]
  },
  {
   "cell_type": "code",
   "execution_count": null,
   "metadata": {},
   "outputs": [],
   "source": []
  }
 ],
 "metadata": {
  "anaconda-cloud": {},
  "kernelspec": {
   "display_name": "Python 3",
   "language": "python",
   "name": "python3"
  },
  "language_info": {
   "codemirror_mode": {
    "name": "ipython",
    "version": 3
   },
   "file_extension": ".py",
   "mimetype": "text/x-python",
   "name": "python",
   "nbconvert_exporter": "python",
   "pygments_lexer": "ipython3",
   "version": "3.6.5"
  }
 },
 "nbformat": 4,
 "nbformat_minor": 1
}

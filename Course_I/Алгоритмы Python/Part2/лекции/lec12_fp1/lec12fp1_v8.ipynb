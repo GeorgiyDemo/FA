{
 "cells": [
  {
   "cell_type": "markdown",
   "metadata": {},
   "source": [
    "# Введение в функциональное программирование"
   ]
  },
  {
   "cell_type": "markdown",
   "metadata": {},
   "source": [
    "### Парадигмы и идиомы программирования\n",
    "\n",
    "Парадигма программирования: подход к программированию основанный на наборе принципов или некоторой теории.\n",
    "\n",
    "Разные парадигмы программирования, это разные способы мышления.\n",
    "\n",
    "Идиомы программирования, это шаблоны использования возможностей языка программирования."
   ]
  },
  {
   "cell_type": "markdown",
   "metadata": {},
   "source": [
    "### Парадигмы программирования:\n",
    "\n",
    "__Императивное программирование__\n",
    "\n",
    "(Как решить задачу?)\n",
    "\n",
    "* Процедурное программирование\n",
    "* Объектно-ориентированное\n",
    "\n",
    "__Декларативное программирование__\n",
    "\n",
    "(какую задачу решить?)\n",
    "\n",
    "* Функциональное программирование\n",
    "* Логическое программирование"
   ]
  },
  {
   "cell_type": "markdown",
   "metadata": {},
   "source": [
    "Принцпи универасальности (возможность выполнить любые вычисления)."
   ]
  },
  {
   "cell_type": "markdown",
   "metadata": {},
   "source": [
    "### Императивное программирование\n",
    "\n",
    "Императивное программирование это последовательность инструкций для компьютера (компьютера с архитектурой фон Неймана)\n",
    "\n",
    "* содержимое памяти представляет собой состояние компьютера\n",
    "* выражения изменяют переменные (т.е. переменные являются изменяемыми (mutable))\n",
    "    \n",
    "Для императивного программирования характерны:\n",
    "* присваивания значений переменным\n",
    "* управляющие структуры (такие как циклы, условные операторы и пр.)"
   ]
  },
  {
   "cell_type": "code",
   "execution_count": 1,
   "metadata": {},
   "outputs": [],
   "source": [
    "# Пример поиска наибольшего делителя в императивном стиле:\n",
    "\n",
    "def gcd_imp(x, y): \n",
    "    r = 0 \n",
    "    while y > 0: \n",
    "        r = x % y \n",
    "        print(f'x: {x}, y: {y}, r:{r}')\n",
    "        x = y \n",
    "        y = r \n",
    "    return x"
   ]
  },
  {
   "cell_type": "code",
   "execution_count": 2,
   "metadata": {},
   "outputs": [
    {
     "name": "stdout",
     "output_type": "stream",
     "text": [
      "x: 9702, y: 945, r:252\n",
      "x: 945, y: 252, r:189\n",
      "x: 252, y: 189, r:63\n",
      "x: 189, y: 63, r:0\n"
     ]
    },
    {
     "data": {
      "text/plain": [
       "63"
      ]
     },
     "execution_count": 2,
     "metadata": {},
     "output_type": "execute_result"
    }
   ],
   "source": [
    "gcd_imp(9702, 945)"
   ]
  },
  {
   "cell_type": "markdown",
   "metadata": {},
   "source": [
    "Ключевые события в мире императивных языков программирования:\n",
    "* Fortran (1957 г.)\n",
    "* ALGOL (1960 г.)\n",
    "* C (1972 г.)\n",
    "* Ada (1983 г.)\n",
    "* Java (1995 г.)"
   ]
  },
  {
   "cell_type": "markdown",
   "metadata": {},
   "source": [
    "### Функциональное программирование\n",
    "\n",
    "Функциона́льное программи́рование — парадигма программирования, в которой процесс вычисления трактуется как вычисление значений функций в математическом понимании последних (в отличие от функций как подпрограмм в процедурном программировании). Функциональное программирование предполагает обходиться вычислением результатов функций от исходных данных и результатов других функций, и не предполагает явного хранения состояния программы. Соответственно, не предполагает оно и изменяемости этого состояния.\n",
    "\n",
    "Основано на Лямбда-исчислении (λ-исчисление), базирующемся на двух операциях: абстрации (операции, позволяющей конструировать функции) и аппликации (операции вызова функции).\n",
    "\n",
    "Определяет программу как вызов фукнции (аппликация).\n",
    "\n",
    "Принципы функционального программирования:\n",
    "* вызов функции для одних и тех же значений параметров должен возвращать одинаковый результат (чистые (pure) функции)\n",
    "* изменения контекста (внешних переменных) при вызове функции определяется как побочный эффект (нежелателен!)\n",
    "* изменяемость (mutation) переменных нежелательна\n",
    "* поддержка функций высших порядков (вызов функций для функций)"
   ]
  },
  {
   "cell_type": "code",
   "execution_count": 3,
   "metadata": {},
   "outputs": [],
   "source": [
    "# Пример поиска наибольшего делителя в функциональном стиле:\n",
    "\n",
    "def gcd_fnc(x, y): \n",
    "    print(f'x: {x}, y: {y}')\n",
    "    if y == 0: \n",
    "        return x \n",
    "    else: \n",
    "        return gcd_fnc(y, x % y) # рекурсивный вызов функции"
   ]
  },
  {
   "cell_type": "code",
   "execution_count": 4,
   "metadata": {},
   "outputs": [
    {
     "name": "stdout",
     "output_type": "stream",
     "text": [
      "x: 9702, y: 945\n",
      "x: 945, y: 252\n",
      "x: 252, y: 189\n",
      "x: 189, y: 63\n",
      "x: 63, y: 0\n"
     ]
    },
    {
     "data": {
      "text/plain": [
       "63"
      ]
     },
     "execution_count": 4,
     "metadata": {},
     "output_type": "execute_result"
    }
   ],
   "source": [
    "gcd_fnc(9702, 945)"
   ]
  },
  {
   "cell_type": "markdown",
   "metadata": {},
   "source": [
    "![](recurs1.png)"
   ]
  },
  {
   "cell_type": "code",
   "execution_count": 5,
   "metadata": {},
   "outputs": [],
   "source": [
    "factor = 2"
   ]
  },
  {
   "cell_type": "code",
   "execution_count": 6,
   "metadata": {},
   "outputs": [],
   "source": [
    "def not_pure_f(n):\n",
    "    return n*factor"
   ]
  },
  {
   "cell_type": "code",
   "execution_count": 7,
   "metadata": {},
   "outputs": [
    {
     "data": {
      "text/plain": [
       "20"
      ]
     },
     "execution_count": 7,
     "metadata": {},
     "output_type": "execute_result"
    }
   ],
   "source": [
    "not_pure_f(10)"
   ]
  },
  {
   "cell_type": "code",
   "execution_count": 6,
   "metadata": {},
   "outputs": [
    {
     "data": {
      "text/plain": [
       "50"
      ]
     },
     "execution_count": 6,
     "metadata": {},
     "output_type": "execute_result"
    }
   ],
   "source": [
    "factor = 5\n",
    "not_pure_f(10) # при идентичных параметрах функция возвращает другой результат"
   ]
  },
  {
   "cell_type": "markdown",
   "metadata": {},
   "source": [
    "### Побочные эффекты\n",
    "\n",
    "Изменение контекста (внешних переменных) при вызове функции определяется как побочный эффект."
   ]
  },
  {
   "cell_type": "code",
   "execution_count": 9,
   "metadata": {
    "collapsed": true
   },
   "outputs": [],
   "source": [
    "# Источником побочных эффектов являются использование глобальных переменных:\n",
    "    \n",
    "factor = 0 \n",
    "\n",
    "def multiples(n): \n",
    "    global factor \n",
    "    factor = factor + 1 \n",
    "    return factor * n"
   ]
  },
  {
   "cell_type": "code",
   "execution_count": 10,
   "metadata": {},
   "outputs": [
    {
     "data": {
      "text/plain": [
       "0"
      ]
     },
     "execution_count": 10,
     "metadata": {},
     "output_type": "execute_result"
    }
   ],
   "source": [
    "factor"
   ]
  },
  {
   "cell_type": "code",
   "execution_count": 11,
   "metadata": {},
   "outputs": [
    {
     "data": {
      "text/plain": [
       "2"
      ]
     },
     "execution_count": 11,
     "metadata": {},
     "output_type": "execute_result"
    }
   ],
   "source": [
    "multiples(2)"
   ]
  },
  {
   "cell_type": "code",
   "execution_count": 12,
   "metadata": {},
   "outputs": [
    {
     "data": {
      "text/plain": [
       "1"
      ]
     },
     "execution_count": 12,
     "metadata": {},
     "output_type": "execute_result"
    }
   ],
   "source": [
    "factor"
   ]
  },
  {
   "cell_type": "code",
   "execution_count": 13,
   "metadata": {},
   "outputs": [
    {
     "data": {
      "text/plain": [
       "4"
      ]
     },
     "execution_count": 13,
     "metadata": {},
     "output_type": "execute_result"
    }
   ],
   "source": [
    "multiples(2) # Резальтаты вызова функции с одним и тем же параметром различаются!"
   ]
  },
  {
   "cell_type": "code",
   "execution_count": 55,
   "metadata": {},
   "outputs": [
    {
     "data": {
      "text/plain": [
       "10"
      ]
     },
     "execution_count": 55,
     "metadata": {},
     "output_type": "execute_result"
    }
   ],
   "source": [
    "multiples(2)"
   ]
  },
  {
   "cell_type": "code",
   "execution_count": 14,
   "metadata": {
    "collapsed": true
   },
   "outputs": [],
   "source": [
    "# Источником побочных переменных так же является использование состояния объекта (или функции):\n",
    "\n",
    "class Multiplier: \n",
    "    def __init__(self):\n",
    "        self.factor = 0 \n",
    "        \n",
    "    def multiples(self, n): \n",
    "        self.factor = self.factor + 1 \n",
    "        return self.factor * n"
   ]
  },
  {
   "cell_type": "code",
   "execution_count": 15,
   "metadata": {
    "collapsed": true
   },
   "outputs": [],
   "source": [
    "m = Multiplier()"
   ]
  },
  {
   "cell_type": "code",
   "execution_count": 16,
   "metadata": {},
   "outputs": [
    {
     "data": {
      "text/plain": [
       "2"
      ]
     },
     "execution_count": 16,
     "metadata": {},
     "output_type": "execute_result"
    }
   ],
   "source": [
    "m.multiples(2)"
   ]
  },
  {
   "cell_type": "code",
   "execution_count": 17,
   "metadata": {},
   "outputs": [
    {
     "data": {
      "text/plain": [
       "4"
      ]
     },
     "execution_count": 17,
     "metadata": {},
     "output_type": "execute_result"
    }
   ],
   "source": [
    "m.multiples(2)"
   ]
  },
  {
   "cell_type": "code",
   "execution_count": 18,
   "metadata": {
    "collapsed": true
   },
   "outputs": [],
   "source": [
    "# Источником побочных эффектов может быть ввод/вывод: \n",
    "\n",
    "def read_byte(f): \n",
    "    return f.read(1)"
   ]
  },
  {
   "cell_type": "code",
   "execution_count": 19,
   "metadata": {
    "collapsed": true
   },
   "outputs": [],
   "source": [
    "# источником побочных эффектов может быть использование датчика случайных чисел:\n",
    "\n",
    "import random \n",
    "\n",
    "def get_random(n): \n",
    "    return random.randrange(1, n + 1)"
   ]
  },
  {
   "cell_type": "markdown",
   "metadata": {},
   "source": [
    "Отрицательные моменты побочных эффектов:\n",
    "* тяжелее тестировать программу\n",
    "* тяжелее делать программы для параллельных вычислений (параллельной работы на нескольких ядрах / процессорах / компьютерах)\n",
    "* тяжелее производить формальную верефикацию (проверку) программы\n",
    "\n",
    "Но, можем ли мы писать программы без побочных эффектов? Или, как минимум, разделять части программы с побочным эффектом и без?"
   ]
  },
  {
   "cell_type": "markdown",
   "metadata": {},
   "source": [
    "## Функциональные языки программирования"
   ]
  },
  {
   "cell_type": "markdown",
   "metadata": {},
   "source": [
    "Ключевые события в мире функциональных языков программирования:\n",
    "* Lisp (1957 г.)\n",
    "* ML (1973 г.)\n",
    "* Haskell (1990 г.)"
   ]
  },
  {
   "cell_type": "markdown",
   "metadata": {},
   "source": [
    "Мультипарадигменные функциональные языки программирования поддерживающие объектно-ориентированный подход:\n",
    "* Ocaml\n",
    "* F#\n",
    "* Scala \n",
    "\n",
    "Императивные языки с поддержкой возможностей функционального подхода:\n",
    "* Python\n",
    "* Ruby\n",
    "* C#\n",
    "* Java "
   ]
  },
  {
   "cell_type": "markdown",
   "metadata": {},
   "source": [
    "### Что делает язык функциональным или императивным?\n",
    "\n",
    "Функции:\n",
    "* функции \"граждане первого класса\" (functions as first-class citizens)\n",
    "* функции высшего порядка (higher-order functions)\n",
    "* замыкания (closures)\n",
    "* функции без побочных эффектов (pure functions)\n",
    "* рекурся, хвостовая рекурсия (recursion, tail recursion)\n",
    "\n",
    "Данные:\n",
    "* неизменяемые структуры данных (immutable data structures)\n",
    "* вычисление результатов функций вместо явного хранения (и изменения) состояния программы  (avoid changing-state) \n",
    "\n",
    "Идиомы:\n",
    "* итераторы, последовательности, ленивые вычисления, сопоставление с образцом,монады (iterators, sequences, lazy evaluation, pattern matching, monads...."
   ]
  },
  {
   "cell_type": "markdown",
   "metadata": {},
   "source": [
    "### Поддержка функционального программирования в Python\n",
    "\n",
    "PRO:\n",
    "* функции \"граждане первого класса\"\n",
    "* лямбда-функции (анонимные функции)\n",
    "* поддержка функциональных идом в стандартной библотеке: map/filter/reduce, itertools, operator\n",
    "* генераторы могут использоваться для ленивых вычислений (вычислений по требованию)\n",
    "\n",
    "CONTRA:\n",
    "* невозможно разделить функции с побочным эффектом и без\n",
    "* изменяемые переменные\n",
    "* дорогостоящие операции копирования в памяти\n",
    "* императивный стиль для циклов\n",
    "* отсутствие оптимизации для хвостовой рекурсии ()\n",
    "* нет синтаксиса для проверки шаблонов\n",
    "* система типов базируется только на классах\n",
    "* нет механизма перегрузки функций\n",
    "* в стандартной библиотеке не реализован механизм построения композиции функций\n",
    "* имеется только императивный механизм обработки ошибок"
   ]
  },
  {
   "cell_type": "markdown",
   "metadata": {},
   "source": [
    "## Функции в Python - граждане первого класса "
   ]
  },
  {
   "cell_type": "markdown",
   "metadata": {},
   "source": [
    "Это означает, что функции можно динамически создвать и уничтожать, передвать их в другие функции, возвращать их как значения и так далее."
   ]
  },
  {
   "cell_type": "code",
   "execution_count": 20,
   "metadata": {
    "collapsed": true
   },
   "outputs": [],
   "source": [
    "def add(a, b):\n",
    "    return a + b"
   ]
  },
  {
   "cell_type": "code",
   "execution_count": 21,
   "metadata": {},
   "outputs": [
    {
     "data": {
      "text/plain": [
       "5"
      ]
     },
     "execution_count": 21,
     "metadata": {},
     "output_type": "execute_result"
    }
   ],
   "source": [
    "add(2, 3)"
   ]
  },
  {
   "cell_type": "code",
   "execution_count": 22,
   "metadata": {},
   "outputs": [
    {
     "data": {
      "text/plain": [
       "<function __main__.add>"
      ]
     },
     "execution_count": 22,
     "metadata": {},
     "output_type": "execute_result"
    }
   ],
   "source": [
    "f = add\n",
    "f"
   ]
  },
  {
   "cell_type": "code",
   "execution_count": 23,
   "metadata": {},
   "outputs": [
    {
     "data": {
      "text/plain": [
       "5"
      ]
     },
     "execution_count": 23,
     "metadata": {},
     "output_type": "execute_result"
    }
   ],
   "source": [
    "f(2, 3)"
   ]
  },
  {
   "cell_type": "code",
   "execution_count": 7,
   "metadata": {},
   "outputs": [],
   "source": [
    "# Применение: ветвление с использованием словарей:\n",
    "\n",
    "def insert():\n",
    "    print('Inserting ...')\n",
    "    \n",
    "def delete():\n",
    "    print('Deleting ...')\n",
    "    \n",
    "def update():\n",
    "    print('Updating ...')    \n",
    "    \n",
    "def test():\n",
    "    print('Testing ...')    "
   ]
  },
  {
   "cell_type": "code",
   "execution_count": 5,
   "metadata": {},
   "outputs": [
    {
     "name": "stdout",
     "output_type": "stream",
     "text": [
      "Введите комнаду (i/d/u/t)ш\n",
      "Неправильное имя команды.\n"
     ]
    }
   ],
   "source": [
    "command = input('Введите комнаду (i/d/u/t)')\n",
    "\n",
    "if command == 'i':\n",
    "    insert()\n",
    "elif command == 'd':\n",
    "    delete()\n",
    "elif command == 'u':\n",
    "    update()\n",
    "elif command == 't':\n",
    "    test()\n",
    "else:\n",
    "    print('Неправильное имя команды.')"
   ]
  },
  {
   "cell_type": "code",
   "execution_count": 8,
   "metadata": {
    "scrolled": true
   },
   "outputs": [
    {
     "name": "stdout",
     "output_type": "stream",
     "text": [
      "Введите комнаду (i/d/u/t)d\n",
      "Deleting ...\n"
     ]
    }
   ],
   "source": [
    "com_d = dict(i=insert, d=delete, u=update, t=test)\n",
    "\n",
    "command = input('Введите комнаду (i/d/u/t)')\n",
    "com_d[command]()"
   ]
  },
  {
   "cell_type": "code",
   "execution_count": 5,
   "metadata": {
    "collapsed": true
   },
   "outputs": [],
   "source": [
    "# лямбда функции:\n",
    "add2 = lambda a, b: a + b"
   ]
  },
  {
   "cell_type": "code",
   "execution_count": 6,
   "metadata": {},
   "outputs": [
    {
     "data": {
      "text/plain": [
       "5"
      ]
     },
     "execution_count": 6,
     "metadata": {},
     "output_type": "execute_result"
    }
   ],
   "source": [
    "add2(2, 3)"
   ]
  },
  {
   "cell_type": "code",
   "execution_count": 3,
   "metadata": {},
   "outputs": [],
   "source": [
    "import collections"
   ]
  },
  {
   "cell_type": "code",
   "execution_count": 4,
   "metadata": {},
   "outputs": [],
   "source": [
    "?collections.defaultdict"
   ]
  },
  {
   "cell_type": "code",
   "execution_count": 9,
   "metadata": {},
   "outputs": [
    {
     "name": "stdout",
     "output_type": "stream",
     "text": [
      "Введите комнаду (i/d/u/t)x\n",
      "Неправильное имя команды\n"
     ]
    }
   ],
   "source": [
    "other = lambda: print('Неправильное имя команды')\n",
    "\n",
    "com_dd = collections.defaultdict(lambda: other, com_d.items())\n",
    "\n",
    "command = input('Введите комнаду (i/d/u/t)')\n",
    "com_dd[command]()"
   ]
  },
  {
   "cell_type": "markdown",
   "metadata": {},
   "source": [
    "Ограничения создания лямбда-функций:\n",
    "* в теле функции может быть заключено только одно выражение\n",
    "* значение выражения всега возвращается, как результат работы функции"
   ]
  },
  {
   "cell_type": "markdown",
   "metadata": {},
   "source": [
    "### Глобальные и локальные переменные"
   ]
  },
  {
   "cell_type": "markdown",
   "metadata": {},
   "source": [
    "Глобальные переменные - это переменные, объявленные в программе вне функции. \n",
    "В Pythoп глобальные персменные видны в любой части модуля, включая функции."
   ]
  },
  {
   "cell_type": "code",
   "execution_count": 20,
   "metadata": {},
   "outputs": [],
   "source": [
    "def func1(par): \n",
    "    print('func begin')\n",
    "    print(f'\\tЗначение глобальной nеременной glob1:{glob1}')     \n",
    "    glob2 = par \n",
    "    print(f'\\tЗначение ЛОКАЛЬНОЙ nеременной glob2:{glob2}')     \n",
    "    print('func end')"
   ]
  },
  {
   "cell_type": "code",
   "execution_count": 21,
   "metadata": {
    "scrolled": true
   },
   "outputs": [
    {
     "name": "stdout",
     "output_type": "stream",
     "text": [
      "Значение глобальной nеременной glob1:10\n",
      "Значение глобальной nеременной glob2:5\n",
      "func begin\n",
      "\tЗначение глобальной nеременной glob1:10\n",
      "\tЗначение ЛОКАЛЬНОЙ nеременной glob2:77\n",
      "func end\n",
      "Значение глобальной nеременной glob2:5\n"
     ]
    }
   ],
   "source": [
    "glob1 = 10\n",
    "glob2 = 5\n",
    "\n",
    "print(f'Значение глобальной nеременной glob1:{glob1}')\n",
    "print(f'Значение глобальной nеременной glob2:{glob2}')\n",
    "func1(77)\n",
    "print(f'Значение глобальной nеременной glob2:{glob2}')"
   ]
  },
  {
   "cell_type": "markdown",
   "metadata": {},
   "source": [
    "Переменной glob2 внутри функции присваивается значение, переданное при вызове функции.\n",
    "По этой причине создается новое имя glob2, которое является локальным. \n",
    "Все изменения этой переменной внутри функции не затронут значение одноименной глобальной переменной. "
   ]
  },
  {
   "cell_type": "markdown",
   "metadata": {},
   "source": [
    "_Локальные переменные_ - это переменные, которым внутри функции присваивается значение.\n",
    "Если имя локальной переменной совпадает с именем глобальной перемснной, \n",
    "то все операции внутри функции осуществляются с локальной переменной, \n",
    "а значение глобальной переменной не изменяется. \n",
    "Локальные персменные видны только внутри тела функции."
   ]
  },
  {
   "cell_type": "code",
   "execution_count": 22,
   "metadata": {},
   "outputs": [],
   "source": [
    "def func2(): \n",
    "    print('func begin')\n",
    "    local = 77 # Локальная переменная \n",
    "    glob = 25 # Локальная переменная \n",
    "    print(f'\\tЗначение ЛОКАЛЬНОЙ nеременной local:{local}')      \n",
    "    print(f'\\tЗначение ЛОКАЛЬНОЙ nеременной glob:{glob}')          \n",
    "    print('func end')    "
   ]
  },
  {
   "cell_type": "code",
   "execution_count": 24,
   "metadata": {},
   "outputs": [
    {
     "name": "stdout",
     "output_type": "stream",
     "text": [
      "Значение глобальной nеременной glob:10\n",
      "func begin\n",
      "\tЗначение ЛОКАЛЬНОЙ nеременной local:77\n",
      "\tЗначение ЛОКАЛЬНОЙ nеременной glob:25\n",
      "func end\n",
      "Значение глобальной nеременной вне функции glob:10\n"
     ]
    }
   ],
   "source": [
    "glob = 10 # Глобальная переменная \n",
    "\n",
    "print(f'Значение глобальной nеременной glob:{glob}')          \n",
    "func2() # Вызываем функцию \n",
    "print(f'Значение глобальной nеременной вне функции glob:{glob}')          "
   ]
  },
  {
   "cell_type": "code",
   "execution_count": 25,
   "metadata": {
    "scrolled": true
   },
   "outputs": [
    {
     "ename": "NameError",
     "evalue": "name 'local' is not defined",
     "output_type": "error",
     "traceback": [
      "\u001b[1;31m---------------------------------------------------------------------------\u001b[0m",
      "\u001b[1;31mNameError\u001b[0m                                 Traceback (most recent call last)",
      "\u001b[1;32m<ipython-input-25-fa1a7e4c8267>\u001b[0m in \u001b[0;36m<module>\u001b[1;34m()\u001b[0m\n\u001b[1;32m----> 1\u001b[1;33m \u001b[0mprint\u001b[0m\u001b[1;33m(\u001b[0m\u001b[0mlocal\u001b[0m\u001b[1;33m)\u001b[0m \u001b[1;31m# Ошибка! Попытка обратится к локальной перменной func2 извне ее области видимости\u001b[0m\u001b[1;33m\u001b[0m\u001b[0m\n\u001b[0m",
      "\u001b[1;31mNameError\u001b[0m: name 'local' is not defined"
     ]
    }
   ],
   "source": [
    "print(local) # Ошибка! Попытка обратится к локальной перменной func2 извне ее области видимости"
   ]
  },
  {
   "cell_type": "markdown",
   "metadata": {},
   "source": [
    "Для того чтобы значение глобальной переменной можно было изменить внутри функции, \n",
    "необходимо объявить переменную глобальной с помощью ключевого слова global. "
   ]
  },
  {
   "cell_type": "code",
   "execution_count": 28,
   "metadata": {},
   "outputs": [],
   "source": [
    "def func2(): \n",
    "    print('func begin')\n",
    "    local = 77 # локальная переменная \n",
    "    global glob # объявление глобальной переменной внутри func2\n",
    "    glob = 25 # ИЗМЕНЕНИЕ ГЛОБАЛЬНОЙ переменной внутри функции\n",
    "    print(f'\\tЗначение локальной nеременной local:{local}')      \n",
    "    print(f'\\tЗначение ГЛОБАЛЬНОЙ nеременной glob:{glob}')          \n",
    "    print('func end')    "
   ]
  },
  {
   "cell_type": "code",
   "execution_count": 29,
   "metadata": {},
   "outputs": [
    {
     "name": "stdout",
     "output_type": "stream",
     "text": [
      "Значение глобальной nеременной glob:10\n",
      "func begin\n",
      "\tЗначение локальной nеременной local:77\n",
      "\tЗначение ГЛОБАЛЬНОЙ nеременной glob:25\n",
      "func end\n",
      "Значение глобальной nеременной glob:25\n"
     ]
    }
   ],
   "source": [
    "glob = 10 # глобальная переменная \n",
    "\n",
    "print(f'Значение глобальной nеременной glob:{glob}')  \n",
    "func2() # вызов функции \n",
    "print(f'Значение глобальной nеременной glob:{glob}')  "
   ]
  },
  {
   "cell_type": "markdown",
   "metadata": {},
   "source": [
    "Поиск идентификатора, используемого внутри функции, будет производиться в следующем порядке: \n",
    "1. Поиск объявления идентификатора внутри функции (в локальной области видимости). \n",
    "2. Поиск объявления идентификатора в глобальной области. \n",
    "3. Поиск во встроенной области видимости (встроенные функции, классы и т. д.)."
   ]
  },
  {
   "cell_type": "markdown",
   "metadata": {},
   "source": [
    "### Побочные эффекты\n",
    "\n",
    "Изменение контекста (внешних переменных) при вызове функции определяется как побочный эффект.\n",
    "\n",
    "(рассмотрены выше)"
   ]
  },
  {
   "cell_type": "markdown",
   "metadata": {},
   "source": [
    "Отрицательные моменты побочных эффектов:\n",
    "* тяжелее тестировать программу\n",
    "* тяжелее делать программы для параллельных вычислений (параллельной работы на нескольких ядрах / процессорах / компьютерах)\n",
    "* тяжелее производить формальную верефикацию (проверку) программы\n",
    "\n",
    "Но, можем ли мы писать программы без побочных эффектов? Или, как минимум, разделять части программы с побочным эффектом и без?"
   ]
  },
  {
   "cell_type": "markdown",
   "metadata": {},
   "source": [
    "## Вложенные функции и замыкания"
   ]
  },
  {
   "cell_type": "markdown",
   "metadata": {},
   "source": [
    "В Python одну функцию можно вложить в другую функцию, причем уровень вложенности неограничен.\n",
    "В этом случае вложенная функция получает свою собственную локальную область видимости и\n",
    "имеет достуn к идентификаторам внутри функции-родителя."
   ]
  },
  {
   "cell_type": "markdown",
   "metadata": {},
   "source": [
    "Вложенные функции могут создаваться в целях защиты их от всего что происходит вне функции (инкапсуляции):"
   ]
  },
  {
   "cell_type": "code",
   "execution_count": 41,
   "metadata": {},
   "outputs": [],
   "source": [
    "def outer(num1):\n",
    "    def inner_add(num2):  # не может быть вызвана вне outer\n",
    "        return num1 + num2 # используется перменная, объявленная в outer\n",
    "    num_res = inner_add(2)\n",
    "    print(num1, num_res)"
   ]
  },
  {
   "cell_type": "code",
   "execution_count": 42,
   "metadata": {},
   "outputs": [
    {
     "name": "stdout",
     "output_type": "stream",
     "text": [
      "10 12\n"
     ]
    }
   ],
   "source": [
    "outer(10)"
   ]
  },
  {
   "cell_type": "code",
   "execution_count": 28,
   "metadata": {},
   "outputs": [
    {
     "ename": "NameError",
     "evalue": "name 'inner_add' is not defined",
     "output_type": "error",
     "traceback": [
      "\u001b[1;31m---------------------------------------------------------------------------\u001b[0m",
      "\u001b[1;31mNameError\u001b[0m                                 Traceback (most recent call last)",
      "\u001b[1;32m<ipython-input-28-b4995115c5ad>\u001b[0m in \u001b[0;36m<module>\u001b[1;34m()\u001b[0m\n\u001b[1;32m----> 1\u001b[1;33m \u001b[0minner_add\u001b[0m\u001b[1;33m(\u001b[0m\u001b[1;36m10\u001b[0m\u001b[1;33m)\u001b[0m \u001b[1;31m# без специальных действий доступ к внутренней функции извне невозможен\u001b[0m\u001b[1;33m\u001b[0m\u001b[0m\n\u001b[0m",
      "\u001b[1;31mNameError\u001b[0m: name 'inner_add' is not defined"
     ]
    }
   ],
   "source": [
    "inner_add(10) # без специальных действий доступ к внутренней функции извне невозможен"
   ]
  },
  {
   "cell_type": "markdown",
   "metadata": {},
   "source": [
    "Использование внутренних функций для избавления от повторяющихся фрагментов кода в одной функции (применение принципа DRY).\n",
    "\n",
    "Don’t repeat yourself, DRY (рус. не повторяйся) — это принцип разработки программного обеспечения, нацеленный на снижение повторения информации различного рода, особенно в системах со множеством слоёв абстрагирования. Принцип DRY формулируется как: «Каждая часть знания должна иметь единственное, непротиворечивое и авторитетное представление в рамках системы»"
   ]
  },
  {
   "cell_type": "code",
   "execution_count": 44,
   "metadata": {},
   "outputs": [],
   "source": [
    "def process(file_name):\n",
    "    def do_stuff(file_process):\n",
    "        for line in file_process:\n",
    "            print(line)\n",
    "            \n",
    "    if isinstance(file_name, str):\n",
    "        with open(file_name, 'r') as f:\n",
    "            do_stuff(f) # 1е исопльзование вложенной фукнции\n",
    "    else:\n",
    "        do_stuff(file_name) #2е использование вложенной функции"
   ]
  },
  {
   "cell_type": "markdown",
   "metadata": {},
   "source": [
    "Вложенная функция получает свою собственную локальную область видимости и имеет достуn к идентификаторам внутри функции-родителя. Таким образом, помимо локальной, глобальной и встроенной областей видимости добавляется вложенная область видимости. При этом поиск идентификаторов вначале производится внутри вложенной функции, затем внутри функции-родителя, далее в функциях более высокого уровня и лишь потом в глобальной и встроенных областях видимости. "
   ]
  },
  {
   "cell_type": "code",
   "execution_count": 49,
   "metadata": {},
   "outputs": [],
   "source": [
    "def f_lvl_1(x):\n",
    "    print('f_lvl_1 begin')\n",
    "    y = 2\n",
    "    def f_lvl_2():\n",
    "        print('\\tf_lvl_2 begin')        \n",
    "        print(f'\\tx:{x}')                \n",
    "#         print(f'\\ty:{y}')        \n",
    "        y = 3 # создается ЛОКАЛЬНАЯ переменная во вложенной функции\n",
    "        print(f'\\ty:{y}')        \n",
    "        print('\\tf_lvl_2 end')                \n",
    "\n",
    "    print(f'x:{x}')          \n",
    "    print(f'y:{y}')          \n",
    "    f_lvl_2()    \n",
    "    print(f'x:{x}')          \n",
    "    print(f'y:{y}')          \n",
    "    print('f_lvl_1 end')                    "
   ]
  },
  {
   "cell_type": "code",
   "execution_count": 50,
   "metadata": {
    "scrolled": true
   },
   "outputs": [
    {
     "name": "stdout",
     "output_type": "stream",
     "text": [
      "f_lvl_1 begin\n",
      "x:10\n",
      "y:2\n",
      "\tf_lvl_2 begin\n",
      "\tx:10\n",
      "\ty:3\n",
      "\tf_lvl_2 end\n",
      "x:10\n",
      "y:2\n",
      "f_lvl_1 end\n"
     ]
    }
   ],
   "source": [
    "f_lvl_1(10)"
   ]
  },
  {
   "cell_type": "code",
   "execution_count": 51,
   "metadata": {},
   "outputs": [],
   "source": [
    "def f_lvl_1(x):\n",
    "    print('f_lvl_1 begin')\n",
    "    y = 2\n",
    "    def f_lvl_2():\n",
    "        print('\\tf_lvl_2 begin')        \n",
    "        print(f'\\tx:{x}')                \n",
    "        print(f'\\ty:{y}') # ошибка: обращение к локальной перменной до ее объявления      \n",
    "        y = 3 # создается ЛОКАЛЬНАЯ переменная во вложенной функции\n",
    "        print(f'\\ty:{y}')        \n",
    "        print('\\tf_lvl_2 end')                \n",
    "\n",
    "    print(f'x:{x}')          \n",
    "    print(f'y:{y}')          \n",
    "    f_lvl_2()    \n",
    "    print(f'x:{x}')          \n",
    "    print(f'y:{y}')          \n",
    "    print('f_lvl_1 end')  "
   ]
  },
  {
   "cell_type": "code",
   "execution_count": 52,
   "metadata": {},
   "outputs": [
    {
     "name": "stdout",
     "output_type": "stream",
     "text": [
      "f_lvl_1 begin\n",
      "x:10\n",
      "y:2\n",
      "\tf_lvl_2 begin\n",
      "\tx:10\n"
     ]
    },
    {
     "ename": "UnboundLocalError",
     "evalue": "local variable 'y' referenced before assignment",
     "output_type": "error",
     "traceback": [
      "\u001b[1;31m---------------------------------------------------------------------------\u001b[0m",
      "\u001b[1;31mUnboundLocalError\u001b[0m                         Traceback (most recent call last)",
      "\u001b[1;32m<ipython-input-52-9d26c791bd3f>\u001b[0m in \u001b[0;36m<module>\u001b[1;34m()\u001b[0m\n\u001b[1;32m----> 1\u001b[1;33m \u001b[0mf_lvl_1\u001b[0m\u001b[1;33m(\u001b[0m\u001b[1;36m10\u001b[0m\u001b[1;33m)\u001b[0m\u001b[1;33m\u001b[0m\u001b[0m\n\u001b[0m",
      "\u001b[1;32m<ipython-input-51-8d0fc8b364d0>\u001b[0m in \u001b[0;36mf_lvl_1\u001b[1;34m(x)\u001b[0m\n\u001b[0;32m     12\u001b[0m     \u001b[0mprint\u001b[0m\u001b[1;33m(\u001b[0m\u001b[1;34mf'x:{x}'\u001b[0m\u001b[1;33m)\u001b[0m\u001b[1;33m\u001b[0m\u001b[0m\n\u001b[0;32m     13\u001b[0m     \u001b[0mprint\u001b[0m\u001b[1;33m(\u001b[0m\u001b[1;34mf'y:{y}'\u001b[0m\u001b[1;33m)\u001b[0m\u001b[1;33m\u001b[0m\u001b[0m\n\u001b[1;32m---> 14\u001b[1;33m     \u001b[0mf_lvl_2\u001b[0m\u001b[1;33m(\u001b[0m\u001b[1;33m)\u001b[0m\u001b[1;33m\u001b[0m\u001b[0m\n\u001b[0m\u001b[0;32m     15\u001b[0m     \u001b[0mprint\u001b[0m\u001b[1;33m(\u001b[0m\u001b[1;34mf'x:{x}'\u001b[0m\u001b[1;33m)\u001b[0m\u001b[1;33m\u001b[0m\u001b[0m\n\u001b[0;32m     16\u001b[0m     \u001b[0mprint\u001b[0m\u001b[1;33m(\u001b[0m\u001b[1;34mf'y:{y}'\u001b[0m\u001b[1;33m)\u001b[0m\u001b[1;33m\u001b[0m\u001b[0m\n",
      "\u001b[1;32m<ipython-input-51-8d0fc8b364d0>\u001b[0m in \u001b[0;36mf_lvl_2\u001b[1;34m()\u001b[0m\n\u001b[0;32m      5\u001b[0m         \u001b[0mprint\u001b[0m\u001b[1;33m(\u001b[0m\u001b[1;34m'\\tf_lvl_2 begin'\u001b[0m\u001b[1;33m)\u001b[0m\u001b[1;33m\u001b[0m\u001b[0m\n\u001b[0;32m      6\u001b[0m         \u001b[0mprint\u001b[0m\u001b[1;33m(\u001b[0m\u001b[1;34mf'\\tx:{x}'\u001b[0m\u001b[1;33m)\u001b[0m\u001b[1;33m\u001b[0m\u001b[0m\n\u001b[1;32m----> 7\u001b[1;33m         \u001b[0mprint\u001b[0m\u001b[1;33m(\u001b[0m\u001b[1;34mf'\\ty:{y}'\u001b[0m\u001b[1;33m)\u001b[0m \u001b[1;31m# ошибка: обращение к локальной перменной до ее объявления\u001b[0m\u001b[1;33m\u001b[0m\u001b[0m\n\u001b[0m\u001b[0;32m      8\u001b[0m         \u001b[0my\u001b[0m \u001b[1;33m=\u001b[0m \u001b[1;36m3\u001b[0m \u001b[1;31m# создается ЛОКАЛЬНАЯ переменная во вложенной функции\u001b[0m\u001b[1;33m\u001b[0m\u001b[0m\n\u001b[0;32m      9\u001b[0m         \u001b[0mprint\u001b[0m\u001b[1;33m(\u001b[0m\u001b[1;34mf'\\ty:{y}'\u001b[0m\u001b[1;33m)\u001b[0m\u001b[1;33m\u001b[0m\u001b[0m\n",
      "\u001b[1;31mUnboundLocalError\u001b[0m: local variable 'y' referenced before assignment"
     ]
    }
   ],
   "source": [
    "f_lvl_1(10)"
   ]
  },
  {
   "cell_type": "code",
   "execution_count": 57,
   "metadata": {},
   "outputs": [],
   "source": [
    "def f_lvl_1(x):\n",
    "    print('f_lvl_1 begin')\n",
    "    y = 2\n",
    "    def f_lvl_2():\n",
    "        print('\\tf_lvl_2 begin')        \n",
    "        print(f'\\tx:{x}')    \n",
    "        nonlocal y # доступ к локальной переменной функции родителя (вложенная область видимости)\n",
    "        print(f'\\ty:{y}') # ошибка: обращение к локальной перменной до ее объявления      \n",
    "        y = 3 # создается ЛОКАЛЬНАЯ переменная во вложенной функции\n",
    "        print(f'\\ty:{y} (после присовения)')       \n",
    "        print('\\tf_lvl_2 end')                \n",
    "\n",
    "    print(f'x:{x}')          \n",
    "    print(f'y:{y}')          \n",
    "    f_lvl_2()    \n",
    "    print(f'x:{x}')          \n",
    "    print(f'y:{y}')          \n",
    "    print('f_lvl_1 end')          "
   ]
  },
  {
   "cell_type": "code",
   "execution_count": 58,
   "metadata": {},
   "outputs": [
    {
     "name": "stdout",
     "output_type": "stream",
     "text": [
      "f_lvl_1 begin\n",
      "x:10\n",
      "y:2\n",
      "\tf_lvl_2 begin\n",
      "\tx:10\n",
      "\ty:2\n",
      "\ty:3 (после присовения)\n",
      "\tf_lvl_2 end\n",
      "x:10\n",
      "y:3\n",
      "f_lvl_1 end\n"
     ]
    }
   ],
   "source": [
    "f_lvl_1(10)"
   ]
  },
  {
   "cell_type": "markdown",
   "metadata": {},
   "source": [
    "### Замыкания"
   ]
  },
  {
   "cell_type": "code",
   "execution_count": 36,
   "metadata": {
    "collapsed": true
   },
   "outputs": [],
   "source": [
    "def calculations(a, b):\n",
    "    def add():\n",
    "        return a + b\n",
    "    return add"
   ]
  },
  {
   "cell_type": "code",
   "execution_count": 37,
   "metadata": {},
   "outputs": [
    {
     "data": {
      "text/plain": [
       "<function __main__.calculations.<locals>.add>"
      ]
     },
     "execution_count": 37,
     "metadata": {},
     "output_type": "execute_result"
    }
   ],
   "source": [
    "a = calculations(5, 4)\n",
    "a"
   ]
  },
  {
   "cell_type": "code",
   "execution_count": 38,
   "metadata": {},
   "outputs": [
    {
     "data": {
      "text/plain": [
       "9"
      ]
     },
     "execution_count": 38,
     "metadata": {},
     "output_type": "execute_result"
    }
   ],
   "source": [
    "a()"
   ]
  },
  {
   "cell_type": "markdown",
   "metadata": {},
   "source": [
    "Замыкание (англ. closure) в программировании — функция, в теле которой присутствуют ссылки на переменные, объявленные вне тела этой функции в окружающем коде и не являющиеся её параметрами. Говоря другим языком, замыкание — функция, которая ссылается на свободные переменные в своём контексте."
   ]
  },
  {
   "cell_type": "code",
   "execution_count": 39,
   "metadata": {
    "collapsed": true
   },
   "outputs": [],
   "source": [
    "def generate_power_func(n):\n",
    "    def nth_power(x):\n",
    "        return x**n\n",
    "    return nth_power"
   ]
  },
  {
   "cell_type": "code",
   "execution_count": 40,
   "metadata": {},
   "outputs": [
    {
     "data": {
      "text/plain": [
       "<function __main__.generate_power_func.<locals>.nth_power>"
      ]
     },
     "execution_count": 40,
     "metadata": {},
     "output_type": "execute_result"
    }
   ],
   "source": [
    "n2 = generate_power_func(2)\n",
    "n2"
   ]
  },
  {
   "cell_type": "code",
   "execution_count": 42,
   "metadata": {},
   "outputs": [
    {
     "data": {
      "text/plain": [
       "(4, 9, 16)"
      ]
     },
     "execution_count": 42,
     "metadata": {},
     "output_type": "execute_result"
    }
   ],
   "source": [
    "n2(2), n2(3), n2(4)"
   ]
  },
  {
   "cell_type": "code",
   "execution_count": 43,
   "metadata": {},
   "outputs": [
    {
     "data": {
      "text/plain": [
       "(8, 27, 64)"
      ]
     },
     "execution_count": 43,
     "metadata": {},
     "output_type": "execute_result"
    }
   ],
   "source": [
    "n3 = generate_power_func(3)\n",
    "n3(2), n3(3), n3(4)"
   ]
  },
  {
   "cell_type": "markdown",
   "metadata": {},
   "source": [
    "## Функции высшего порядка"
   ]
  },
  {
   "cell_type": "markdown",
   "metadata": {},
   "source": [
    "Функции высших порядков — это такие функции, которые могут принимать в качестве аргументов и возвращать другие функции."
   ]
  },
  {
   "cell_type": "code",
   "execution_count": 44,
   "metadata": {
    "collapsed": true
   },
   "outputs": [],
   "source": [
    "# функции обратного вызова (callback functions)\n",
    "def add(a, b):\n",
    "    return a + b\n",
    "\n",
    "def sub(a, b):\n",
    "    return a - b"
   ]
  },
  {
   "cell_type": "code",
   "execution_count": 45,
   "metadata": {
    "collapsed": true
   },
   "outputs": [],
   "source": [
    "def apply_operation(operation, arg1, arg2):\n",
    "    'operation - callback function; arg1, arg2 - arguments'\n",
    "    return operation(arg1, arg2)"
   ]
  },
  {
   "cell_type": "code",
   "execution_count": 46,
   "metadata": {},
   "outputs": [
    {
     "data": {
      "text/plain": [
       "5"
      ]
     },
     "execution_count": 46,
     "metadata": {},
     "output_type": "execute_result"
    }
   ],
   "source": [
    "apply_operation(add, 2, 3)"
   ]
  },
  {
   "cell_type": "code",
   "execution_count": 47,
   "metadata": {},
   "outputs": [
    {
     "data": {
      "text/plain": [
       "-1"
      ]
     },
     "execution_count": 47,
     "metadata": {},
     "output_type": "execute_result"
    }
   ],
   "source": [
    "apply_operation(sub, 2, 3)"
   ]
  },
  {
   "cell_type": "markdown",
   "metadata": {},
   "source": [
    "Создание частично подготовленных функций"
   ]
  },
  {
   "cell_type": "code",
   "execution_count": 48,
   "metadata": {
    "collapsed": true
   },
   "outputs": [],
   "source": [
    "import functools # модуль с функциями, используемыми в идеомах функционального программирования"
   ]
  },
  {
   "cell_type": "code",
   "execution_count": 49,
   "metadata": {},
   "outputs": [
    {
     "name": "stdout",
     "output_type": "stream",
     "text": [
      "Help on class enumerate in module builtins:\n",
      "\n",
      "class enumerate(object)\n",
      " |  enumerate(iterable[, start]) -> iterator for index, value of iterable\n",
      " |  \n",
      " |  Return an enumerate object.  iterable must be another object that supports\n",
      " |  iteration.  The enumerate object yields pairs containing a count (from\n",
      " |  start, which defaults to zero) and a value yielded by the iterable argument.\n",
      " |  enumerate is useful for obtaining an indexed list:\n",
      " |      (0, seq[0]), (1, seq[1]), (2, seq[2]), ...\n",
      " |  \n",
      " |  Methods defined here:\n",
      " |  \n",
      " |  __getattribute__(self, name, /)\n",
      " |      Return getattr(self, name).\n",
      " |  \n",
      " |  __iter__(self, /)\n",
      " |      Implement iter(self).\n",
      " |  \n",
      " |  __new__(*args, **kwargs) from builtins.type\n",
      " |      Create and return a new object.  See help(type) for accurate signature.\n",
      " |  \n",
      " |  __next__(self, /)\n",
      " |      Implement next(self).\n",
      " |  \n",
      " |  __reduce__(...)\n",
      " |      Return state information for pickling.\n",
      "\n"
     ]
    }
   ],
   "source": [
    "help(enumerate)"
   ]
  },
  {
   "cell_type": "code",
   "execution_count": 52,
   "metadata": {},
   "outputs": [
    {
     "data": {
      "text/plain": [
       "functools.partial(<class 'enumerate'>, start=5)"
      ]
     },
     "execution_count": 52,
     "metadata": {},
     "output_type": "execute_result"
    }
   ],
   "source": [
    "enum1 = functools.partial(enumerate, start=5) \n",
    "enum1"
   ]
  },
  {
   "cell_type": "code",
   "execution_count": 53,
   "metadata": {},
   "outputs": [
    {
     "name": "stdout",
     "output_type": "stream",
     "text": [
      "5 a\n",
      "6 b\n",
      "7 c\n",
      "8 d\n"
     ]
    }
   ],
   "source": [
    "lines = list('abcd')\n",
    "for lino, line in enum1(lines): \n",
    "    print(lino, line)"
   ]
  },
  {
   "cell_type": "code",
   "execution_count": 23,
   "metadata": {
    "collapsed": true
   },
   "outputs": [],
   "source": [
    "reader = functools.partial(open, mode=\"rt\", encoding=\"utf8\") \n",
    "writer = functools.partial(open, mode=\"wt\", encoding=\"utf8\") "
   ]
  },
  {
   "cell_type": "markdown",
   "metadata": {},
   "source": [
    "### Декораторы\n",
    "Декоратор - это функция, которая принимает функцию или метод в качестве единственного аргумента и  \n",
    "возвращает новую функцию или метод, включающую декорированную функцию или метод, с дополнительными функциональными возможностями. "
   ]
  },
  {
   "cell_type": "markdown",
   "metadata": {},
   "source": [
    "Существуют предопределенные декораторы, например, ©property и @classmethod."
   ]
  },
  {
   "cell_type": "markdown",
   "metadata": {},
   "source": [
    "Предположим, что у нас имеется множество функций, выполняющих вычисления, и некоторые из них  \n",
    "всегда должны возвращать не отрицательный результат. Мы могли бы добавить в каждую из таких функций инструкцию assert, но  использование декораторов проще и понятнее. "
   ]
  },
  {
   "cell_type": "code",
   "execution_count": 54,
   "metadata": {
    "collapsed": true
   },
   "outputs": [],
   "source": [
    "def positive_result(function): # декоратор\n",
    "    def wrapper(*args, **kwargs): # обертка\n",
    "        result = function(*args, **kwargs) #\n",
    "        assert result >= 0, function.__name__ + \"() result isn't >= 0\" \n",
    "        return result \n",
    "    wrapper.__name__ = function.__name__\n",
    "    wrapper.__doc__ = function.__doc__ \n",
    "    return wrapper "
   ]
  },
  {
   "cell_type": "code",
   "execution_count": 55,
   "metadata": {
    "collapsed": true
   },
   "outputs": [],
   "source": [
    "@positive_result \n",
    "def discriminant(a, b, c): \n",
    "    return (b ** 2) - (4 * a * c) "
   ]
  },
  {
   "cell_type": "code",
   "execution_count": 56,
   "metadata": {
    "scrolled": true
   },
   "outputs": [
    {
     "data": {
      "text/plain": [
       "5"
      ]
     },
     "execution_count": 56,
     "metadata": {},
     "output_type": "execute_result"
    }
   ],
   "source": [
    "discriminant(1, 1, -1)"
   ]
  },
  {
   "cell_type": "code",
   "execution_count": 57,
   "metadata": {},
   "outputs": [
    {
     "ename": "AssertionError",
     "evalue": "discriminant() result isn't >= 0",
     "output_type": "error",
     "traceback": [
      "\u001b[1;31m---------------------------------------------------------------------------\u001b[0m",
      "\u001b[1;31mAssertionError\u001b[0m                            Traceback (most recent call last)",
      "\u001b[1;32m<ipython-input-57-9a15f5e1ba5a>\u001b[0m in \u001b[0;36m<module>\u001b[1;34m()\u001b[0m\n\u001b[1;32m----> 1\u001b[1;33m \u001b[0mdiscriminant\u001b[0m\u001b[1;33m(\u001b[0m\u001b[1;36m1\u001b[0m\u001b[1;33m,\u001b[0m \u001b[1;36m1\u001b[0m\u001b[1;33m,\u001b[0m \u001b[1;36m1\u001b[0m\u001b[1;33m)\u001b[0m\u001b[1;33m\u001b[0m\u001b[0m\n\u001b[0m",
      "\u001b[1;32m<ipython-input-54-7ba388b573cd>\u001b[0m in \u001b[0;36mwrapper\u001b[1;34m(*args, **kwargs)\u001b[0m\n\u001b[0;32m      2\u001b[0m     \u001b[1;32mdef\u001b[0m \u001b[0mwrapper\u001b[0m\u001b[1;33m(\u001b[0m\u001b[1;33m*\u001b[0m\u001b[0margs\u001b[0m\u001b[1;33m,\u001b[0m \u001b[1;33m**\u001b[0m\u001b[0mkwargs\u001b[0m\u001b[1;33m)\u001b[0m\u001b[1;33m:\u001b[0m \u001b[1;31m# обертка\u001b[0m\u001b[1;33m\u001b[0m\u001b[0m\n\u001b[0;32m      3\u001b[0m         \u001b[0mresult\u001b[0m \u001b[1;33m=\u001b[0m \u001b[0mfunction\u001b[0m\u001b[1;33m(\u001b[0m\u001b[1;33m*\u001b[0m\u001b[0margs\u001b[0m\u001b[1;33m,\u001b[0m \u001b[1;33m**\u001b[0m\u001b[0mkwargs\u001b[0m\u001b[1;33m)\u001b[0m \u001b[1;31m#\u001b[0m\u001b[1;33m\u001b[0m\u001b[0m\n\u001b[1;32m----> 4\u001b[1;33m         \u001b[1;32massert\u001b[0m \u001b[0mresult\u001b[0m \u001b[1;33m>=\u001b[0m \u001b[1;36m0\u001b[0m\u001b[1;33m,\u001b[0m \u001b[0mfunction\u001b[0m\u001b[1;33m.\u001b[0m\u001b[0m__name__\u001b[0m \u001b[1;33m+\u001b[0m \u001b[1;34m\"() result isn't >= 0\"\u001b[0m\u001b[1;33m\u001b[0m\u001b[0m\n\u001b[0m\u001b[0;32m      5\u001b[0m         \u001b[1;32mreturn\u001b[0m \u001b[0mresult\u001b[0m\u001b[1;33m\u001b[0m\u001b[0m\n\u001b[0;32m      6\u001b[0m     \u001b[0mwrapper\u001b[0m\u001b[1;33m.\u001b[0m\u001b[0m__name__\u001b[0m \u001b[1;33m=\u001b[0m \u001b[0mfunction\u001b[0m\u001b[1;33m.\u001b[0m\u001b[0m__name__\u001b[0m\u001b[1;33m\u001b[0m\u001b[0m\n",
      "\u001b[1;31mAssertionError\u001b[0m: discriminant() result isn't >= 0"
     ]
    }
   ],
   "source": [
    "discriminant(1, 1, 1)"
   ]
  },
  {
   "cell_type": "code",
   "execution_count": 58,
   "metadata": {
    "collapsed": true
   },
   "outputs": [],
   "source": [
    "@positive_result \n",
    "def add3(a, b, c):\n",
    "    return a + b + c"
   ]
  },
  {
   "cell_type": "code",
   "execution_count": 59,
   "metadata": {},
   "outputs": [
    {
     "ename": "AssertionError",
     "evalue": "add3() result isn't >= 0",
     "output_type": "error",
     "traceback": [
      "\u001b[1;31m---------------------------------------------------------------------------\u001b[0m",
      "\u001b[1;31mAssertionError\u001b[0m                            Traceback (most recent call last)",
      "\u001b[1;32m<ipython-input-59-7e38993d9708>\u001b[0m in \u001b[0;36m<module>\u001b[1;34m()\u001b[0m\n\u001b[1;32m----> 1\u001b[1;33m \u001b[0madd3\u001b[0m\u001b[1;33m(\u001b[0m\u001b[1;36m1\u001b[0m\u001b[1;33m,\u001b[0m\u001b[1;36m1\u001b[0m\u001b[1;33m,\u001b[0m\u001b[1;33m-\u001b[0m\u001b[1;36m4\u001b[0m\u001b[1;33m)\u001b[0m\u001b[1;33m\u001b[0m\u001b[0m\n\u001b[0m",
      "\u001b[1;32m<ipython-input-54-7ba388b573cd>\u001b[0m in \u001b[0;36mwrapper\u001b[1;34m(*args, **kwargs)\u001b[0m\n\u001b[0;32m      2\u001b[0m     \u001b[1;32mdef\u001b[0m \u001b[0mwrapper\u001b[0m\u001b[1;33m(\u001b[0m\u001b[1;33m*\u001b[0m\u001b[0margs\u001b[0m\u001b[1;33m,\u001b[0m \u001b[1;33m**\u001b[0m\u001b[0mkwargs\u001b[0m\u001b[1;33m)\u001b[0m\u001b[1;33m:\u001b[0m \u001b[1;31m# обертка\u001b[0m\u001b[1;33m\u001b[0m\u001b[0m\n\u001b[0;32m      3\u001b[0m         \u001b[0mresult\u001b[0m \u001b[1;33m=\u001b[0m \u001b[0mfunction\u001b[0m\u001b[1;33m(\u001b[0m\u001b[1;33m*\u001b[0m\u001b[0margs\u001b[0m\u001b[1;33m,\u001b[0m \u001b[1;33m**\u001b[0m\u001b[0mkwargs\u001b[0m\u001b[1;33m)\u001b[0m \u001b[1;31m#\u001b[0m\u001b[1;33m\u001b[0m\u001b[0m\n\u001b[1;32m----> 4\u001b[1;33m         \u001b[1;32massert\u001b[0m \u001b[0mresult\u001b[0m \u001b[1;33m>=\u001b[0m \u001b[1;36m0\u001b[0m\u001b[1;33m,\u001b[0m \u001b[0mfunction\u001b[0m\u001b[1;33m.\u001b[0m\u001b[0m__name__\u001b[0m \u001b[1;33m+\u001b[0m \u001b[1;34m\"() result isn't >= 0\"\u001b[0m\u001b[1;33m\u001b[0m\u001b[0m\n\u001b[0m\u001b[0;32m      5\u001b[0m         \u001b[1;32mreturn\u001b[0m \u001b[0mresult\u001b[0m\u001b[1;33m\u001b[0m\u001b[0m\n\u001b[0;32m      6\u001b[0m     \u001b[0mwrapper\u001b[0m\u001b[1;33m.\u001b[0m\u001b[0m__name__\u001b[0m \u001b[1;33m=\u001b[0m \u001b[0mfunction\u001b[0m\u001b[1;33m.\u001b[0m\u001b[0m__name__\u001b[0m\u001b[1;33m\u001b[0m\u001b[0m\n",
      "\u001b[1;31mAssertionError\u001b[0m: add3() result isn't >= 0"
     ]
    }
   ],
   "source": [
    "add3(1,1,-4)"
   ]
  },
  {
   "cell_type": "code",
   "execution_count": 60,
   "metadata": {
    "collapsed": true
   },
   "outputs": [],
   "source": [
    "def positive_result2(function): \n",
    "# декоратор, который обеспечивает, что wrapper будет носить имя исходной функции и ее строку документирования.     \n",
    "    @functools.wraps(function) \n",
    "    def wrapper(*args, **kwargs): \n",
    "        result = function(*args, **kwargs) \n",
    "        assert result >= 0, function.__name__ + \"() result isn't >= 0 !\" \n",
    "        return result \n",
    "    return wrapper "
   ]
  },
  {
   "cell_type": "code",
   "execution_count": 61,
   "metadata": {
    "collapsed": true
   },
   "outputs": [],
   "source": [
    "@positive_result2 \n",
    "def discriminant2(a, b, c): \n",
    "    return (b ** 2) - (4 * a * c) "
   ]
  },
  {
   "cell_type": "code",
   "execution_count": 62,
   "metadata": {
    "scrolled": true
   },
   "outputs": [
    {
     "ename": "AssertionError",
     "evalue": "discriminant2() result isn't >= 0 !",
     "output_type": "error",
     "traceback": [
      "\u001b[1;31m---------------------------------------------------------------------------\u001b[0m",
      "\u001b[1;31mAssertionError\u001b[0m                            Traceback (most recent call last)",
      "\u001b[1;32m<ipython-input-62-bd92bb661561>\u001b[0m in \u001b[0;36m<module>\u001b[1;34m()\u001b[0m\n\u001b[1;32m----> 1\u001b[1;33m \u001b[0mdiscriminant2\u001b[0m\u001b[1;33m(\u001b[0m\u001b[1;36m1\u001b[0m\u001b[1;33m,\u001b[0m \u001b[1;36m1\u001b[0m\u001b[1;33m,\u001b[0m \u001b[1;36m1\u001b[0m\u001b[1;33m)\u001b[0m\u001b[1;33m\u001b[0m\u001b[0m\n\u001b[0m",
      "\u001b[1;32m<ipython-input-60-206236d056ec>\u001b[0m in \u001b[0;36mwrapper\u001b[1;34m(*args, **kwargs)\u001b[0m\n\u001b[0;32m      4\u001b[0m     \u001b[1;32mdef\u001b[0m \u001b[0mwrapper\u001b[0m\u001b[1;33m(\u001b[0m\u001b[1;33m*\u001b[0m\u001b[0margs\u001b[0m\u001b[1;33m,\u001b[0m \u001b[1;33m**\u001b[0m\u001b[0mkwargs\u001b[0m\u001b[1;33m)\u001b[0m\u001b[1;33m:\u001b[0m\u001b[1;33m\u001b[0m\u001b[0m\n\u001b[0;32m      5\u001b[0m         \u001b[0mresult\u001b[0m \u001b[1;33m=\u001b[0m \u001b[0mfunction\u001b[0m\u001b[1;33m(\u001b[0m\u001b[1;33m*\u001b[0m\u001b[0margs\u001b[0m\u001b[1;33m,\u001b[0m \u001b[1;33m**\u001b[0m\u001b[0mkwargs\u001b[0m\u001b[1;33m)\u001b[0m\u001b[1;33m\u001b[0m\u001b[0m\n\u001b[1;32m----> 6\u001b[1;33m         \u001b[1;32massert\u001b[0m \u001b[0mresult\u001b[0m \u001b[1;33m>=\u001b[0m \u001b[1;36m0\u001b[0m\u001b[1;33m,\u001b[0m \u001b[0mfunction\u001b[0m\u001b[1;33m.\u001b[0m\u001b[0m__name__\u001b[0m \u001b[1;33m+\u001b[0m \u001b[1;34m\"() result isn't >= 0 !\"\u001b[0m\u001b[1;33m\u001b[0m\u001b[0m\n\u001b[0m\u001b[0;32m      7\u001b[0m         \u001b[1;32mreturn\u001b[0m \u001b[0mresult\u001b[0m\u001b[1;33m\u001b[0m\u001b[0m\n\u001b[0;32m      8\u001b[0m     \u001b[1;32mreturn\u001b[0m \u001b[0mwrapper\u001b[0m\u001b[1;33m\u001b[0m\u001b[0m\n",
      "\u001b[1;31mAssertionError\u001b[0m: discriminant2() result isn't >= 0 !"
     ]
    }
   ],
   "source": [
    "discriminant2(1, 1, 1)"
   ]
  },
  {
   "cell_type": "markdown",
   "metadata": {},
   "source": [
    "Создание декоратора с параметрами"
   ]
  },
  {
   "cell_type": "code",
   "execution_count": 63,
   "metadata": {
    "collapsed": true
   },
   "outputs": [],
   "source": [
    "def bounded(minimum, maximum): # внешний генератор декоратора\n",
    "    def decorator(function): # вунтренний генератор декоратора\n",
    "        @functools.wraps(function) \n",
    "        def wrapper(*args, **kwargs): # декоратор\n",
    "            result = function(*args, **kwargs) # вызов декарируемой функции\n",
    "            if result < minimum: \n",
    "                return minimum \n",
    "            elif result > maximum: \n",
    "                return maximum \n",
    "            return result \n",
    "        return wrapper \n",
    "    return decorator"
   ]
  },
  {
   "cell_type": "code",
   "execution_count": 64,
   "metadata": {
    "collapsed": true
   },
   "outputs": [],
   "source": [
    "@bounded(0, 100) # обрезает возвращения по нижней и верхней границе \n",
    "def percent(amount, total): \n",
    "    return (amount / total) * 100 "
   ]
  },
  {
   "cell_type": "code",
   "execution_count": 66,
   "metadata": {},
   "outputs": [
    {
     "data": {
      "text/plain": [
       "100"
      ]
     },
     "execution_count": 66,
     "metadata": {},
     "output_type": "execute_result"
    }
   ],
   "source": [
    "percent(180, 100)"
   ]
  },
  {
   "cell_type": "code",
   "execution_count": 67,
   "metadata": {},
   "outputs": [
    {
     "data": {
      "text/plain": [
       "15.0"
      ]
     },
     "execution_count": 67,
     "metadata": {},
     "output_type": "execute_result"
    }
   ],
   "source": [
    "percent(15, 100)"
   ]
  },
  {
   "cell_type": "code",
   "execution_count": 68,
   "metadata": {
    "collapsed": true
   },
   "outputs": [],
   "source": [
    "@bounded(-100, 100) # обрезает возвращения по нижней и верхней границе \n",
    "def div2(a, b): \n",
    "    return a / b "
   ]
  },
  {
   "cell_type": "code",
   "execution_count": 72,
   "metadata": {},
   "outputs": [
    {
     "data": {
      "text/plain": [
       "-100"
      ]
     },
     "execution_count": 72,
     "metadata": {},
     "output_type": "execute_result"
    }
   ],
   "source": [
    "div2(-700, 3)"
   ]
  },
  {
   "cell_type": "markdown",
   "metadata": {
    "collapsed": true
   },
   "source": [
    "### Материалы для подготовки к следующей лекци"
   ]
  },
  {
   "cell_type": "markdown",
   "metadata": {},
   "source": [
    "Прохоренок: Глава 11 \"Пользовательские функции\"\n",
    "\n",
    "Саммерфильд: Глава 8 \"Улучшенные приемы программирования\" (разделы: Улучшенные приемы процедурного программирования; Функциональное программирование)"
   ]
  },
  {
   "cell_type": "code",
   "execution_count": null,
   "metadata": {
    "collapsed": true
   },
   "outputs": [],
   "source": []
  }
 ],
 "metadata": {
  "anaconda-cloud": {},
  "kernelspec": {
   "display_name": "Python 3",
   "language": "python",
   "name": "python3"
  },
  "language_info": {
   "codemirror_mode": {
    "name": "ipython",
    "version": 3
   },
   "file_extension": ".py",
   "mimetype": "text/x-python",
   "name": "python",
   "nbconvert_exporter": "python",
   "pygments_lexer": "ipython3",
   "version": "3.7.6"
  }
 },
 "nbformat": 4,
 "nbformat_minor": 1
}

{
 "cells": [
  {
   "cell_type": "markdown",
   "metadata": {},
   "source": [
    "# Лекция 14 \"Структуры данных: массивы, стеки, очереди, списки.\"\n",
    "\n",
    "### Финансовый университет при Правительстве РФ, лектор С.В. Макрушин"
   ]
  },
  {
   "cell_type": "markdown",
   "metadata": {},
   "source": [
    "## Введение в анализ сложности алгоритмов"
   ]
  },
  {
   "cell_type": "markdown",
   "metadata": {},
   "source": [
    "Результат экспериментального определения продолжительности исполнения алгоритма для различного объема входных данных:\n",
    "\n",
    "![](aa1.png)"
   ]
  },
  {
   "cell_type": "markdown",
   "metadata": {},
   "source": [
    "__Сложности экспериментального анализа эффективности алгоритма:__\n",
    "\n",
    "* Экспериментальное время работы двух алгоритмов сложно напрямую сравнить до тех пор, пока эксперименты не будут проведены на одинаковом аппаратном обеспечении и в одинаковом программном окружении.\n",
    "\n",
    "* Эксперименты могут быть выполнены только для ограниченного набора тестовых входных данных. Таким образом, они не учитывают время работы на входных данных, которые не были включены в набор тестовых входных данных, а эти результаты могут быть важны.\n",
    "\n",
    "* Для экспериментальной оценки производительности алгоритма он должен быть полностью реализован на одном из языков программирования."
   ]
  },
  {
   "cell_type": "markdown",
   "metadata": {},
   "source": [
    "__Подсчет базовых операций__\n",
    "\n",
    "Для анализа времени исполнения алгоритма без его экспериментального выполнения мы можем выполнить непосредственный анализ на базе высокоуровневого описания алгоритма (в виде псевдо-кода или фрагмента кода на настоящем языке программирования).\n",
    "\n",
    "Набор рассматриваемых примитивных операций:\n",
    "\n",
    "\n",
    "* Присвоение значения идентификатору.\n",
    "\n",
    "* Выполнение арифметической операции (например, сложения двух чисел).\n",
    "\n",
    "* Сравнение двух чисел.\n",
    "\n",
    "* Получение одного элемента из контейнера (например, списка) по индексу.\n",
    "\n",
    "* Выполнение вызова функции (операции, выполняемые внутри функции, должны учитываться дополнительно).\n",
    "\n",
    "* Возврат из функции."
   ]
  },
  {
   "cell_type": "markdown",
   "metadata": {},
   "source": [
    "Разница между лучшим и худшим результатом работы алгоритма (длительностью выполнения). Каждый столбец представляет время выполнения алгоритма на различных входных значениях:\n",
    "\n",
    "![](aa2.png)\n",
    "\n",
    "При анализе сложности алгоритмов принято концентрироваться на худшем результате работы алгоритма."
   ]
  },
  {
   "cell_type": "markdown",
   "metadata": {},
   "source": [
    "__Асимптотическая оценка сложности алгоритма__"
   ]
  },
  {
   "cell_type": "markdown",
   "metadata": {},
   "source": [
    "Пусть функции $f(n)$ и $g(n)$ отображают положительные целые числа на положительные действительные числа.\n",
    "Тогда $f(n)$ является  $\\pmb{O}(g(n))$, если существует действительная константа $c > 0$ и целая константа $n_0 \\ge 1$ такая, что \n",
    "$f (n) \\le cg(n)$, для $n \\ge n_0$.\n",
    "\n",
    "![](aa5.png)"
   ]
  },
  {
   "cell_type": "markdown",
   "metadata": {},
   "source": [
    "Функции, которые часто используются для асимптотических оценок сложности алгоритмов:\n",
    "![](aa3.png)"
   ]
  },
  {
   "cell_type": "markdown",
   "metadata": {},
   "source": [
    "Графики этих функций:\n",
    "![](aa4.png)"
   ]
  },
  {
   "cell_type": "markdown",
   "metadata": {},
   "source": [
    "Другие виды асимптотических оценок.\n",
    "\n",
    "![](aa6.png)"
   ]
  },
  {
   "cell_type": "markdown",
   "metadata": {},
   "source": [
    "## Массивы"
   ]
  },
  {
   "cell_type": "markdown",
   "metadata": {},
   "source": [
    "Область памяти (RAM):\n",
    "![](mem1.png)"
   ]
  },
  {
   "cell_type": "code",
   "execution_count": 33,
   "metadata": {},
   "outputs": [],
   "source": [
    "s1 = 'SAMPLE'"
   ]
  },
  {
   "cell_type": "markdown",
   "metadata": {},
   "source": [
    "Высокоуровневая абстракция строки:\n",
    "![](sample1.png)"
   ]
  },
  {
   "cell_type": "code",
   "execution_count": 34,
   "metadata": {},
   "outputs": [
    {
     "data": {
      "text/plain": [
       "('S', 'P')"
      ]
     },
     "execution_count": 34,
     "metadata": {},
     "output_type": "execute_result"
    }
   ],
   "source": [
    "s1[0], s1[3]"
   ]
  },
  {
   "cell_type": "markdown",
   "metadata": {},
   "source": [
    "Реальное расположение строки в памяти (RAM):\n",
    "![](sample2.png)"
   ]
  },
  {
   "cell_type": "code",
   "execution_count": 35,
   "metadata": {},
   "outputs": [],
   "source": [
    "ra1 = ['Rene', 'Joseph', 'Janet', 'Jonas', 'Helen', 'Virginia', 'Mary' ]"
   ]
  },
  {
   "cell_type": "markdown",
   "metadata": {},
   "source": [
    "Работа массива ссылок:\n",
    "![](ref_array1.png)"
   ]
  },
  {
   "cell_type": "code",
   "execution_count": 36,
   "metadata": {},
   "outputs": [],
   "source": [
    "s1 = 'SAMPLE' # в действительности хранятся ссылки на буквы!"
   ]
  },
  {
   "cell_type": "code",
   "execution_count": 37,
   "metadata": {},
   "outputs": [],
   "source": [
    "import array # модуль для работы с массивами в Python"
   ]
  },
  {
   "cell_type": "markdown",
   "metadata": {},
   "source": [
    "https://docs.python.org/3/library/array.html"
   ]
  },
  {
   "cell_type": "markdown",
   "metadata": {},
   "source": [
    "Массив `array` хранит непосредственно объекты (а не ссылки на них), что обеспечивает более быстрый доступ и значительно меньший объем памяти для хранения тех же данных (на типе `int` экономия памяти может составлять 4-5 раз!). Минус: массивы, так же как и в других языках, могут хранить только объекты одного типа."
   ]
  },
  {
   "cell_type": "code",
   "execution_count": 38,
   "metadata": {},
   "outputs": [
    {
     "data": {
      "text/plain": [
       "10"
      ]
     },
     "execution_count": 38,
     "metadata": {},
     "output_type": "execute_result"
    }
   ],
   "source": [
    "ar1 = array.array('i' , [2, 3, 5, 7, 11, 13, 17, 19, 21, 25])\n",
    "len(ar1)"
   ]
  },
  {
   "cell_type": "code",
   "execution_count": 39,
   "metadata": {},
   "outputs": [
    {
     "data": {
      "text/plain": [
       "(2, 11)"
      ]
     },
     "execution_count": 39,
     "metadata": {},
     "output_type": "execute_result"
    }
   ],
   "source": [
    "ar1[0], ar1[4]"
   ]
  },
  {
   "cell_type": "code",
   "execution_count": 40,
   "metadata": {},
   "outputs": [],
   "source": [
    "import sys"
   ]
  },
  {
   "cell_type": "code",
   "execution_count": 41,
   "metadata": {},
   "outputs": [
    {
     "data": {
      "text/plain": [
       "104"
      ]
     },
     "execution_count": 41,
     "metadata": {},
     "output_type": "execute_result"
    }
   ],
   "source": [
    "sys.getsizeof(ar1)"
   ]
  },
  {
   "cell_type": "code",
   "execution_count": 42,
   "metadata": {},
   "outputs": [
    {
     "data": {
      "text/plain": [
       "(144, 10)"
      ]
     },
     "execution_count": 42,
     "metadata": {},
     "output_type": "execute_result"
    }
   ],
   "source": [
    "ls2 = [2, 3, 5, 7, 11, 13, 17, 19, 21, 25]\n",
    "sys.getsizeof(ls2), len(ls2)"
   ]
  },
  {
   "cell_type": "code",
   "execution_count": 43,
   "metadata": {},
   "outputs": [
    {
     "data": {
      "text/plain": [
       "(28, 28)"
      ]
     },
     "execution_count": 43,
     "metadata": {},
     "output_type": "execute_result"
    }
   ],
   "source": [
    "sys.getsizeof(2), sys.getsizeof(777)"
   ]
  },
  {
   "cell_type": "code",
   "execution_count": 44,
   "metadata": {},
   "outputs": [
    {
     "data": {
      "text/plain": [
       "424"
      ]
     },
     "execution_count": 44,
     "metadata": {},
     "output_type": "execute_result"
    }
   ],
   "source": [
    "sys.getsizeof(ls2) + len(ls2) * sys.getsizeof(2)"
   ]
  },
  {
   "cell_type": "markdown",
   "metadata": {},
   "source": [
    "Класс array.array(TypeCode [, инициализатор]) - новый массив, элементы которого ограничены TypeCode, и инициализатор, который должен быть списком, объектом, поддерживающим интерфейс буфера, или итерируемым объектом."
   ]
  },
  {
   "cell_type": "markdown",
   "metadata": {},
   "source": [
    "array.typecode - TypeCode символ, использованный при создании массива.\n",
    "\n",
    "array.itemsize - размер в байтах одного элемента в массиве.\n",
    "\n",
    "array.append(х) - добавление элемента в конец массива.\n",
    "\n",
    "array.buffer_info() - кортеж (ячейка памяти, длина). Полезно для низкоуровневых операций.\n",
    "\n",
    "array.byteswap() - изменить порядок следования байтов в каждом элементе массива. Полезно при чтении данных из файла, написанного на машине с другим порядком байтов.\n",
    "\n",
    "array.count(х) - возвращает количество вхождений х в массив.\n",
    "\n",
    "array.extend(iter) - добавление элементов из объекта в массив.\n",
    "\n",
    "array.frombytes(b) - делает массив array из массива байт. Количество байт должно быть кратно размеру одного элемента в массиве.\n",
    "\n",
    "array.fromfile(F, N) - читает N элементов из файла и добавляет их в конец массива. Файл должен быть открыт на бинарное чтение. Если доступно меньше N элементов, генерируется исключение EOFError , но элементы, которые были доступны, добавляются в массив.\n",
    "\n",
    "array.fromlist(список) - добавление элементов из списка.\n",
    "\n",
    "array.index(х) - номер первого вхождения x в массив.\n",
    "\n",
    "array.insert(n, х) - включить новый пункт со значением х в массиве перед номером n. Отрицательные значения рассматриваются относительно конца массива.\n",
    "\n",
    "array.pop(i) - удаляет i-ый элемент из массива и возвращает его. По умолчанию удаляется последний элемент.\n",
    "\n",
    "array.remove(х) - удалить первое вхождение х из массива.\n",
    "\n",
    "array.reverse() - обратный порядок элементов в массиве.\n",
    "\n",
    "array.tobytes() - преобразование к байтам.\n",
    "\n",
    "array.tofile(f) - запись массива в открытый файл.\n",
    "\n",
    "array.tolist() - преобразование массива в список."
   ]
  },
  {
   "cell_type": "markdown",
   "metadata": {},
   "source": [
    "## Динамические массивы"
   ]
  },
  {
   "cell_type": "code",
   "execution_count": 46,
   "metadata": {
    "scrolled": true
   },
   "outputs": [
    {
     "name": "stdout",
     "output_type": "stream",
     "text": [
      "Length:   0; Size in bytes:   64\n",
      "Length:   1; Size in bytes:   96\n",
      "Length:   2; Size in bytes:   96\n",
      "Length:   3; Size in bytes:   96\n",
      "Length:   4; Size in bytes:   96\n",
      "Length:   5; Size in bytes:  128\n",
      "Length:   6; Size in bytes:  128\n",
      "Length:   7; Size in bytes:  128\n",
      "Length:   8; Size in bytes:  128\n",
      "Length:   9; Size in bytes:  192\n",
      "Length:  10; Size in bytes:  192\n",
      "Length:  11; Size in bytes:  192\n",
      "Length:  12; Size in bytes:  192\n",
      "Length:  13; Size in bytes:  192\n",
      "Length:  14; Size in bytes:  192\n",
      "Length:  15; Size in bytes:  192\n",
      "Length:  16; Size in bytes:  192\n",
      "Length:  17; Size in bytes:  264\n",
      "Length:  18; Size in bytes:  264\n",
      "Length:  19; Size in bytes:  264\n",
      "Length:  20; Size in bytes:  264\n",
      "Length:  21; Size in bytes:  264\n",
      "Length:  22; Size in bytes:  264\n",
      "Length:  23; Size in bytes:  264\n",
      "Length:  24; Size in bytes:  264\n",
      "Length:  25; Size in bytes:  264\n",
      "Length:  26; Size in bytes:  344\n",
      "Length:  27; Size in bytes:  344\n",
      "Length:  28; Size in bytes:  344\n",
      "Length:  29; Size in bytes:  344\n",
      "Length:  30; Size in bytes:  344\n",
      "Length:  31; Size in bytes:  344\n",
      "Length:  32; Size in bytes:  344\n"
     ]
    }
   ],
   "source": [
    "data = []\n",
    "n = 33\n",
    "for k in range(n): \n",
    "    a = len(data) # количество элементов в списке\n",
    "    b = sys.getsizeof(data) # текущий размер списка в байтах \n",
    "    print(f'Length: {a:3d}; Size in bytes: {b:4d}')\n",
    "    data.append(None) # добавляем элемент в список"
   ]
  },
  {
   "cell_type": "markdown",
   "metadata": {},
   "source": [
    "Процесс роста динамического массива:\n",
    "![](dyn_array1.png)"
   ]
  },
  {
   "cell_type": "markdown",
   "metadata": {},
   "source": [
    "Длительность вставки элемента в конец динамического массива:\n",
    "![](dyn_array2.png)"
   ]
  },
  {
   "cell_type": "markdown",
   "metadata": {},
   "source": [
    "Длительность вставки элемента в конец динамического массива при арифметической прогрессии длины массива:\n",
    "![](dyn_array3.png)"
   ]
  },
  {
   "cell_type": "markdown",
   "metadata": {},
   "source": [
    "__Асимптотическая эффективность операций для списка (кортежа) (list/tuple), не меняющих содержимое структуры данных.__\n",
    "\n",
    "Идентификаторы объектов: data или data1 и data2, и соответственно их длины: $n$, $n_1$ и $n_2$. $k$ обозначает индекс первого вхождения (слева) искомого элемента, в случае отсутствия элемента $k=n$. При сравнении двух последовательностей k показывает самый левый элемент, на котором последовательности не согласуются или $k = min(n_1, n_2)$."
   ]
  },
  {
   "cell_type": "markdown",
   "metadata": {},
   "source": [
    "![](list_eff1.png)"
   ]
  },
  {
   "cell_type": "markdown",
   "metadata": {},
   "source": [
    "Асимптотическая эффективность операций для списка (list), меняющих содержимое структуры данных. \n",
    "![](list_eff2.png)"
   ]
  },
  {
   "cell_type": "markdown",
   "metadata": {},
   "source": [
    "Освобождение места для вставки элемента в список (list): \n",
    "![](list_ins1.png)"
   ]
  },
  {
   "cell_type": "markdown",
   "metadata": {},
   "source": [
    "Среднее време операции insert(k, val), измеренное в микросекундах (N - длина списка):\n",
    "![](list_ins2.png)"
   ]
  },
  {
   "cell_type": "markdown",
   "metadata": {},
   "source": [
    "## Стек"
   ]
  },
  {
   "cell_type": "markdown",
   "metadata": {},
   "source": [
    "Пример физической реализации стека:\n",
    "![](stack1.png)"
   ]
  },
  {
   "cell_type": "markdown",
   "metadata": {},
   "source": [
    "Стек реализует принцип LIFO - last-in, first-out."
   ]
  },
  {
   "cell_type": "markdown",
   "metadata": {},
   "source": [
    "__Абстрактная структура данных Стек:__\n",
    "\n",
    "Базовые операции для работы со стеком:\n",
    "\n",
    "* __S.push(e)__: добавление элемента e на вершину стека S.\n",
    "* __S.pop()__: удаляет и возвращает верхний элемент стека S. Если стек пуст, то возникает ошибка."
   ]
  },
  {
   "cell_type": "code",
   "execution_count": 47,
   "metadata": {},
   "outputs": [],
   "source": [
    "from collections import deque"
   ]
  },
  {
   "cell_type": "code",
   "execution_count": 48,
   "metadata": {},
   "outputs": [],
   "source": [
    "class Stack(deque):\n",
    "    def push(self, a):\n",
    "        self.append(a)"
   ]
  },
  {
   "cell_type": "code",
   "execution_count": 49,
   "metadata": {
    "scrolled": true
   },
   "outputs": [
    {
     "data": {
      "text/plain": [
       "Stack([])"
      ]
     },
     "execution_count": 49,
     "metadata": {},
     "output_type": "execute_result"
    }
   ],
   "source": [
    "s1 = Stack()\n",
    "s1"
   ]
  },
  {
   "cell_type": "code",
   "execution_count": 50,
   "metadata": {},
   "outputs": [
    {
     "data": {
      "text/plain": [
       "Stack([5])"
      ]
     },
     "execution_count": 50,
     "metadata": {},
     "output_type": "execute_result"
    }
   ],
   "source": [
    "s1.push(5)\n",
    "s1"
   ]
  },
  {
   "cell_type": "code",
   "execution_count": 51,
   "metadata": {},
   "outputs": [
    {
     "data": {
      "text/plain": [
       "Stack([5, 3])"
      ]
     },
     "execution_count": 51,
     "metadata": {},
     "output_type": "execute_result"
    }
   ],
   "source": [
    "s1.push(3)\n",
    "s1"
   ]
  },
  {
   "cell_type": "code",
   "execution_count": 52,
   "metadata": {},
   "outputs": [
    {
     "data": {
      "text/plain": [
       "Stack([5, 3, 4])"
      ]
     },
     "execution_count": 52,
     "metadata": {},
     "output_type": "execute_result"
    }
   ],
   "source": [
    "s1.push(4)\n",
    "s1"
   ]
  },
  {
   "cell_type": "code",
   "execution_count": 53,
   "metadata": {},
   "outputs": [
    {
     "data": {
      "text/plain": [
       "4"
      ]
     },
     "execution_count": 53,
     "metadata": {},
     "output_type": "execute_result"
    }
   ],
   "source": [
    "s1.pop()"
   ]
  },
  {
   "cell_type": "code",
   "execution_count": 54,
   "metadata": {},
   "outputs": [
    {
     "data": {
      "text/plain": [
       "Stack([5, 3])"
      ]
     },
     "execution_count": 54,
     "metadata": {},
     "output_type": "execute_result"
    }
   ],
   "source": [
    "s1"
   ]
  },
  {
   "cell_type": "code",
   "execution_count": 55,
   "metadata": {},
   "outputs": [
    {
     "data": {
      "text/plain": [
       "Stack([5, 3, 7])"
      ]
     },
     "execution_count": 55,
     "metadata": {},
     "output_type": "execute_result"
    }
   ],
   "source": [
    "s1.push(7)\n",
    "s1"
   ]
  },
  {
   "cell_type": "code",
   "execution_count": 56,
   "metadata": {},
   "outputs": [
    {
     "data": {
      "text/plain": [
       "7"
      ]
     },
     "execution_count": 56,
     "metadata": {},
     "output_type": "execute_result"
    }
   ],
   "source": [
    "s1.pop()"
   ]
  },
  {
   "cell_type": "code",
   "execution_count": 57,
   "metadata": {},
   "outputs": [
    {
     "data": {
      "text/plain": [
       "Stack([5, 3])"
      ]
     },
     "execution_count": 57,
     "metadata": {},
     "output_type": "execute_result"
    }
   ],
   "source": [
    "s1"
   ]
  },
  {
   "cell_type": "code",
   "execution_count": 58,
   "metadata": {},
   "outputs": [
    {
     "data": {
      "text/plain": [
       "3"
      ]
     },
     "execution_count": 58,
     "metadata": {},
     "output_type": "execute_result"
    }
   ],
   "source": [
    "s1.pop()"
   ]
  },
  {
   "cell_type": "code",
   "execution_count": 59,
   "metadata": {},
   "outputs": [
    {
     "data": {
      "text/plain": [
       "Stack([5])"
      ]
     },
     "execution_count": 59,
     "metadata": {},
     "output_type": "execute_result"
    }
   ],
   "source": [
    "s1"
   ]
  },
  {
   "cell_type": "code",
   "execution_count": 60,
   "metadata": {},
   "outputs": [
    {
     "data": {
      "text/plain": [
       "5"
      ]
     },
     "execution_count": 60,
     "metadata": {},
     "output_type": "execute_result"
    }
   ],
   "source": [
    "s1.pop()"
   ]
  },
  {
   "cell_type": "code",
   "execution_count": 61,
   "metadata": {},
   "outputs": [
    {
     "data": {
      "text/plain": [
       "Stack([])"
      ]
     },
     "execution_count": 61,
     "metadata": {},
     "output_type": "execute_result"
    }
   ],
   "source": [
    "s1"
   ]
  },
  {
   "cell_type": "code",
   "execution_count": 62,
   "metadata": {},
   "outputs": [
    {
     "ename": "IndexError",
     "evalue": "pop from an empty deque",
     "output_type": "error",
     "traceback": [
      "\u001b[1;31m---------------------------------------------------------------------------\u001b[0m",
      "\u001b[1;31mIndexError\u001b[0m                                Traceback (most recent call last)",
      "\u001b[1;32m<ipython-input-62-095118de218b>\u001b[0m in \u001b[0;36m<module>\u001b[1;34m\u001b[0m\n\u001b[1;32m----> 1\u001b[1;33m \u001b[0ms1\u001b[0m\u001b[1;33m.\u001b[0m\u001b[0mpop\u001b[0m\u001b[1;33m(\u001b[0m\u001b[1;33m)\u001b[0m\u001b[1;33m\u001b[0m\u001b[1;33m\u001b[0m\u001b[0m\n\u001b[0m",
      "\u001b[1;31mIndexError\u001b[0m: pop from an empty deque"
     ]
    }
   ],
   "source": [
    "s1.pop()"
   ]
  },
  {
   "cell_type": "markdown",
   "metadata": {},
   "source": [
    "Дополнительные операции для работы со стеком:\n",
    "\n",
    "* __S.top()__: возвращает верхний элемент стека S, не удаляя его. Если стек пуст, то возникает ошибка.\n",
    "* __S.is_empty( )__: возвращает True, если стек S не содержит ни одного элемента.\n",
    "* __len(S)__: возвращает количество элементов в стеке S."
   ]
  },
  {
   "cell_type": "markdown",
   "metadata": {},
   "source": [
    "Реализация стека на базе списка (list):\n",
    "![](stack2.png)"
   ]
  },
  {
   "cell_type": "markdown",
   "metadata": {},
   "source": [
    "Производительность реализации стека на базе динамического массива:\n",
    "![](stack3.png)"
   ]
  },
  {
   "cell_type": "markdown",
   "metadata": {},
   "source": [
    "## Очередь"
   ]
  },
  {
   "cell_type": "markdown",
   "metadata": {},
   "source": [
    "Пример физической реализации очереди:\n",
    "![](queue1.png)"
   ]
  },
  {
   "cell_type": "markdown",
   "metadata": {},
   "source": [
    "Очередь реализует принцип FIFO - first-in, first-out."
   ]
  },
  {
   "cell_type": "markdown",
   "metadata": {},
   "source": [
    "__Абстрактная структура данных Очередь:__\n",
    "\n",
    "Базовые операции для работы с очередью:\n",
    "\n",
    "* __Q.enqueue(e)__: добавление элемента e в конец очереди Q.\n",
    "* __Q.dequeue()__: удаляет и возвращает первый элемент очереди Q. Если очередь пуста, то возникает ошибка."
   ]
  },
  {
   "cell_type": "code",
   "execution_count": 63,
   "metadata": {},
   "outputs": [],
   "source": [
    "class Queue(deque):\n",
    "    def enqueue(self, a):\n",
    "        self.append(a)\n",
    "        \n",
    "    def dequeue(self):\n",
    "        return self.popleft()       "
   ]
  },
  {
   "cell_type": "code",
   "execution_count": 64,
   "metadata": {},
   "outputs": [
    {
     "data": {
      "text/plain": [
       "Queue([])"
      ]
     },
     "execution_count": 64,
     "metadata": {},
     "output_type": "execute_result"
    }
   ],
   "source": [
    "q1 = Queue()\n",
    "q1"
   ]
  },
  {
   "cell_type": "code",
   "execution_count": 65,
   "metadata": {},
   "outputs": [
    {
     "data": {
      "text/plain": [
       "Queue([5])"
      ]
     },
     "execution_count": 65,
     "metadata": {},
     "output_type": "execute_result"
    }
   ],
   "source": [
    "q1.enqueue(5)\n",
    "q1"
   ]
  },
  {
   "cell_type": "code",
   "execution_count": 66,
   "metadata": {},
   "outputs": [
    {
     "data": {
      "text/plain": [
       "Queue([5, 3])"
      ]
     },
     "execution_count": 66,
     "metadata": {},
     "output_type": "execute_result"
    }
   ],
   "source": [
    "q1.enqueue(3)\n",
    "q1"
   ]
  },
  {
   "cell_type": "code",
   "execution_count": 67,
   "metadata": {},
   "outputs": [
    {
     "data": {
      "text/plain": [
       "Queue([5, 3, 4])"
      ]
     },
     "execution_count": 67,
     "metadata": {},
     "output_type": "execute_result"
    }
   ],
   "source": [
    "q1.enqueue(4)\n",
    "q1"
   ]
  },
  {
   "cell_type": "code",
   "execution_count": 68,
   "metadata": {},
   "outputs": [
    {
     "data": {
      "text/plain": [
       "5"
      ]
     },
     "execution_count": 68,
     "metadata": {},
     "output_type": "execute_result"
    }
   ],
   "source": [
    "q1.dequeue()"
   ]
  },
  {
   "cell_type": "code",
   "execution_count": 69,
   "metadata": {},
   "outputs": [
    {
     "data": {
      "text/plain": [
       "Queue([3, 4])"
      ]
     },
     "execution_count": 69,
     "metadata": {},
     "output_type": "execute_result"
    }
   ],
   "source": [
    "q1"
   ]
  },
  {
   "cell_type": "code",
   "execution_count": 70,
   "metadata": {},
   "outputs": [
    {
     "data": {
      "text/plain": [
       "Queue([3, 4, 7])"
      ]
     },
     "execution_count": 70,
     "metadata": {},
     "output_type": "execute_result"
    }
   ],
   "source": [
    "q1.enqueue(7)\n",
    "q1"
   ]
  },
  {
   "cell_type": "code",
   "execution_count": 71,
   "metadata": {},
   "outputs": [
    {
     "data": {
      "text/plain": [
       "3"
      ]
     },
     "execution_count": 71,
     "metadata": {},
     "output_type": "execute_result"
    }
   ],
   "source": [
    "q1.dequeue()"
   ]
  },
  {
   "cell_type": "code",
   "execution_count": 72,
   "metadata": {},
   "outputs": [
    {
     "data": {
      "text/plain": [
       "Queue([4, 7])"
      ]
     },
     "execution_count": 72,
     "metadata": {},
     "output_type": "execute_result"
    }
   ],
   "source": [
    "q1"
   ]
  },
  {
   "cell_type": "code",
   "execution_count": 73,
   "metadata": {},
   "outputs": [
    {
     "data": {
      "text/plain": [
       "4"
      ]
     },
     "execution_count": 73,
     "metadata": {},
     "output_type": "execute_result"
    }
   ],
   "source": [
    "q1.dequeue()"
   ]
  },
  {
   "cell_type": "code",
   "execution_count": 74,
   "metadata": {},
   "outputs": [
    {
     "data": {
      "text/plain": [
       "Queue([7])"
      ]
     },
     "execution_count": 74,
     "metadata": {},
     "output_type": "execute_result"
    }
   ],
   "source": [
    "q1"
   ]
  },
  {
   "cell_type": "code",
   "execution_count": 75,
   "metadata": {},
   "outputs": [
    {
     "data": {
      "text/plain": [
       "7"
      ]
     },
     "execution_count": 75,
     "metadata": {},
     "output_type": "execute_result"
    }
   ],
   "source": [
    "q1.dequeue()"
   ]
  },
  {
   "cell_type": "code",
   "execution_count": 76,
   "metadata": {},
   "outputs": [
    {
     "data": {
      "text/plain": [
       "Queue([])"
      ]
     },
     "execution_count": 76,
     "metadata": {},
     "output_type": "execute_result"
    }
   ],
   "source": [
    "q1"
   ]
  },
  {
   "cell_type": "code",
   "execution_count": 77,
   "metadata": {},
   "outputs": [
    {
     "ename": "IndexError",
     "evalue": "pop from an empty deque",
     "output_type": "error",
     "traceback": [
      "\u001b[1;31m---------------------------------------------------------------------------\u001b[0m",
      "\u001b[1;31mIndexError\u001b[0m                                Traceback (most recent call last)",
      "\u001b[1;32m<ipython-input-77-d61df8048dc4>\u001b[0m in \u001b[0;36m<module>\u001b[1;34m\u001b[0m\n\u001b[1;32m----> 1\u001b[1;33m \u001b[0mq1\u001b[0m\u001b[1;33m.\u001b[0m\u001b[0mdequeue\u001b[0m\u001b[1;33m(\u001b[0m\u001b[1;33m)\u001b[0m\u001b[1;33m\u001b[0m\u001b[1;33m\u001b[0m\u001b[0m\n\u001b[0m",
      "\u001b[1;32m<ipython-input-63-3611178e206c>\u001b[0m in \u001b[0;36mdequeue\u001b[1;34m(self)\u001b[0m\n\u001b[0;32m      4\u001b[0m \u001b[1;33m\u001b[0m\u001b[0m\n\u001b[0;32m      5\u001b[0m     \u001b[1;32mdef\u001b[0m \u001b[0mdequeue\u001b[0m\u001b[1;33m(\u001b[0m\u001b[0mself\u001b[0m\u001b[1;33m)\u001b[0m\u001b[1;33m:\u001b[0m\u001b[1;33m\u001b[0m\u001b[1;33m\u001b[0m\u001b[0m\n\u001b[1;32m----> 6\u001b[1;33m         \u001b[1;32mreturn\u001b[0m \u001b[0mself\u001b[0m\u001b[1;33m.\u001b[0m\u001b[0mpopleft\u001b[0m\u001b[1;33m(\u001b[0m\u001b[1;33m)\u001b[0m\u001b[1;33m\u001b[0m\u001b[1;33m\u001b[0m\u001b[0m\n\u001b[0m",
      "\u001b[1;31mIndexError\u001b[0m: pop from an empty deque"
     ]
    }
   ],
   "source": [
    "q1.dequeue()"
   ]
  },
  {
   "cell_type": "markdown",
   "metadata": {},
   "source": [
    "Дополнительные операции для работы с очередью:\n",
    "\n",
    "* __Q.ﬁrst()__: возвращает первый элемент очереди Q, не удаляя его. Если очередь пуста, то возникает ошибка.\n",
    "* __Q.is_empty()__: возвращает True, если очередь Q не содержит ни одного элемента.\n",
    "* __len(Q)__: возвращает количество элементов в очереди Q."
   ]
  },
  {
   "cell_type": "markdown",
   "metadata": {},
   "source": [
    "Реализация очереди на базе массива: позволяем началу очереди смещаться относительно начала массива:\n",
    "![](queue2.png)"
   ]
  },
  {
   "cell_type": "markdown",
   "metadata": {},
   "source": [
    "Реализация очереди на базе закольцованного массива: \n",
    "![](queue3.png)"
   ]
  },
  {
   "cell_type": "markdown",
   "metadata": {},
   "source": [
    "Изменение размера закольцованного массива, на базе которого реализована очередь: \n",
    "![](queue4.png)"
   ]
  },
  {
   "cell_type": "markdown",
   "metadata": {},
   "source": [
    "Производительность реализации очереди на базе динамического массива:\n",
    "![](queue5.png)"
   ]
  },
  {
   "cell_type": "markdown",
   "metadata": {},
   "source": [
    "Реализация deque в модуле collections: https://docs.python.org/3.1/library/collections.html#collections.deque\n",
    "deque позволяет эффективно добавлять и удалять значения из начала/конца очереди.\n",
    "\n",
    "_Быстрые операции с концом (правым концом) очереди в deque (аналогичны операциям для списка):_\n",
    "\n",
    "* __append(x)__ Add x to the right side of the deque.\n",
    "* __pop()__  Remove and return an element from the right side of the deque. If no elements are present, raises an IndexError.\n",
    "\n",
    "_Быстрые операции с началом (левым концом) очереди в deque (в списке нет аналогов этих операций):_\n",
    "\n",
    "* __appendleft(x)__  Add x to the left side of the deque.\n",
    "* __popleft()__ Remove and return an element from the left side of the deque. If no elements are present, raises an IndexError.\n",
    "\n",
    "Реализация deque основана на двунаправленных связных списках массивов фиксированной длины. deque поддерживает итерацию, операции __len(d)__, __reversed(d)__, проверку вхождения с помощью оператора  __in__ . Операции получения элемента по индексу (такие как ```d[0]```, ```d[-1]```) быстрые (имеют сложность __O(1)__ для двух концов очереди, но длительные (сложность __O(n)__) для элементов в середине списка. Т.е. для быстрого произвольного доступа к элементам списка нужно использовать __list__ вместо __deque__."
   ]
  },
  {
   "cell_type": "markdown",
   "metadata": {},
   "source": [
    "## Связные списки"
   ]
  },
  {
   "cell_type": "markdown",
   "metadata": {},
   "source": [
    "### Однонаправленные связные списки"
   ]
  },
  {
   "cell_type": "markdown",
   "metadata": {},
   "source": [
    "Пример узла, являющегося частью однонаправленного связного списка. Узел ссылается на объект, который является элементом последовательности и на следующий узел списка (или хранит значение None, если в списке больше нет узлов):\n",
    "![](ll1.png)"
   ]
  },
  {
   "cell_type": "markdown",
   "metadata": {},
   "source": [
    "Упрощенная илюстрация однонаправленного связного списка (для упрощения объекты, являющиеся элементами последовательности, представлены встроенными в узлы, а не внешними объектами, на которые ссылаются узлы)\n",
    "![](ll2.png)"
   ]
  },
  {
   "cell_type": "markdown",
   "metadata": {},
   "source": [
    "Процедура вставки узла в начало (head) однонаправленного связного списка (а - до вставки, b - после создания нового элемента, c - после переприсвоения значения ссылки на первый узел).\n",
    "![](ll3.png)"
   ]
  },
  {
   "cell_type": "markdown",
   "metadata": {},
   "source": [
    "Процедура вставки узла в конец (tail) однонаправленного связного списка (а - до вставки, b - после создания нового элемента, c - после переприсвоения значения ссылки на последний узел).\n",
    "![](ll4.png)"
   ]
  },
  {
   "cell_type": "markdown",
   "metadata": {},
   "source": [
    "Процедура удаления узла из начала (head) однонаправленного связного списка (а - до удаления, b - после изменения ссылки на первый узел списка, c - итоговая конфигурация).\n",
    "![](ll5.png)"
   ]
  },
  {
   "cell_type": "markdown",
   "metadata": {},
   "source": [
    "Производительность реализации стека на основе связного списка. Все значения определяют консервативные оценки сложности.\n",
    "![](ll_st1.png)"
   ]
  },
  {
   "cell_type": "markdown",
   "metadata": {},
   "source": [
    "### Циклические связные списки"
   ]
  },
  {
   "cell_type": "markdown",
   "metadata": {},
   "source": [
    "Пример однонаправленного связного списка с циклической структурой.\n",
    "![](cll1.png)"
   ]
  },
  {
   "cell_type": "markdown",
   "metadata": {},
   "source": [
    "Пример однонаправленного связного списка с циклической структурой. current указывает на выделенный элемент списка.\n",
    "![](cll2.png)"
   ]
  },
  {
   "cell_type": "markdown",
   "metadata": {},
   "source": [
    "### Двунаправленные связные списки"
   ]
  },
  {
   "cell_type": "markdown",
   "metadata": {},
   "source": [
    "Пример двунаправленного связного списка, использующего специальные узлы-ограничители (header, trailer).\n",
    "![](dll1.png)"
   ]
  },
  {
   "cell_type": "markdown",
   "metadata": {},
   "source": [
    "Добавление узла в двунаправленный связный список с ограничителями: a - до операции, b - после создания узла, c - после операции.\n",
    "![](dll2.png)"
   ]
  },
  {
   "cell_type": "markdown",
   "metadata": {},
   "source": [
    "Добавление узла в начало двунаправленного связного списка с ограничителями: a - до операции, b - после создания узла, c - после операции.\n",
    "\n",
    "![](dll4.png)"
   ]
  },
  {
   "cell_type": "markdown",
   "metadata": {},
   "source": [
    "Удаление элемента из двунаправленного связного списка с ограничителями: a - до операции, b - после удаления связей с  узлом, c - после операции.\n",
    "![](dll3.png)"
   ]
  },
  {
   "cell_type": "markdown",
   "metadata": {},
   "source": [
    "Сравнение скорости выполнения операций в разных реализациях абстрактных структур данных:\n",
    "\n",
    "https://en.wikipedia.org/wiki/Linked_list"
   ]
  },
  {
   "cell_type": "markdown",
   "metadata": {
    "collapsed": true
   },
   "source": [
    "# Конец лекции\n",
    "-----\n",
    "\n",
    "Далее идет техническая информация."
   ]
  },
  {
   "cell_type": "markdown",
   "metadata": {},
   "source": [
    "Advantages of Array-Based Sequences\n",
    "\n",
    "• Arrays provide O(1)-time access to an element based on an integer index.\n",
    "\n",
    "The ability to access the kth element for any k in O(1) time is a hallmark\n",
    "advantage of arrays (see Section 5.2). In contrast, locating the kth element\n",
    "in a linked list requires O(k) time to traverse the list from the beginning,\n",
    "or possibly O(n − k) time, if traversing backward from the end of a doubly\n",
    "linked list.\n",
    "\n",
    "• Operations with equivalent asymptotic bounds typically run a constant factor\n",
    "more efﬁciently with an array-based structure versus a linked structure. As\n",
    "an example, consider the typical enqueue operation for a queue. Ignoring\n",
    "the issue of resizing an array, this operation for the ArrayQueue class (see\n",
    "Code Fragment 6.7) involves an arithmetic calculation of the new index, an\n",
    "increment of an integer, and storing a reference to the element in the array.\n",
    "In contrast, the process for a LinkedQueue (see Code Fragment 7.8) requires\n",
    "the instantiation of a node, appropriate linking of nodes, and an increment\n",
    "of an integer. While this operation completes in O(1) time in either model,\n",
    "the actual number of CPU operations will be more in the linked version,\n",
    "especially given the instantiation of the new node.\n",
    "\n",
    "• Array-based representations typically use proportionally less memory than\n",
    "linked structures. This advantage may seem counterintuitive, especially given\n",
    "that the length of a dynamic array may be longer than the number of elements\n",
    "that it stores. Both array-based lists and linked lists are referential structures,\n",
    "so the primary memory for storing the actual objects that are elements is the\n",
    "same for either structure. What differs is the auxiliary amounts of memory\n",
    "that are used by the two structures. For an array-based container of n ele-\n",
    "ments, a typical worst case may be that a recently resized dynamic array has\n",
    "allocated memory for 2n object references. With linked lists, memory must\n",
    "be devoted not only to store a reference to each contained object, but also\n",
    "explicit references that link the nodes. So a singly linked list of length n\n",
    "already requires 2n references (an element reference and next reference for\n",
    "each node). With a doubly linked list, there are 3n references."
   ]
  },
  {
   "cell_type": "markdown",
   "metadata": {},
   "source": [
    "Advantages of Link-Based Sequences\n",
    "\n",
    "• Link-based structures provide worst-case time bounds for their operations.\n",
    "This is in contrast to the amortized bounds associated with the expansion or\n",
    "contraction of a dynamic array (see Section 5.3).\n",
    "\n",
    "When many individual operations are part of a larger computation, and we\n",
    "only care about the total time of that computation, an amortized bound is as\n",
    "good as a worst-case bound precisely because it gives a guarantee on the sum\n",
    "of the time spent on the individual operations.\n",
    "\n",
    "However, if data structure operations are used in a real-time system that is de-\n",
    "signed to provide more immediate responses (e.g., an operating system, Web\n",
    "server, air trafﬁc control system), a long delay caused by a single (amortized)\n",
    "operation may have an adverse effect.\n",
    "\n",
    "• Link-based structures support O(1)-time insertions and deletions at arbi-\n",
    "trary positions. The ability to perform a constant-time insertion or deletion\n",
    "with the PositionalList class, by using a Position to efﬁciently describe the\n",
    "location of the operation, is perhaps the most signiﬁcant advantage of the\n",
    "linked list.\n",
    "\n",
    "This is in stark contrast to an array-based sequence. Ignoring the issue of\n",
    "resizing an array, inserting or deleting an element from the end of an array-\n",
    "based list can be done in constant time. However, more general insertions and\n",
    "deletions are expensive. For example, with Python’s array-based list class, a\n",
    "call to insert or pop with index k uses O(n − k + 1) time because of the loop\n",
    "to shift all subsequent elements (see Section 5.4).\n",
    "\n",
    "As an example application, consider a text editor that maintains a document\n",
    "as a sequence of characters. Although users often add characters to the end\n",
    "of the document, it is also possible to use the cursor to insert or delete one or\n",
    "more characters at an arbitrary position within the document. If the charac-\n",
    "ter sequence were stored in an array-based sequence (such as a Python list),\n",
    "each such edit operation may require linearly many characters to be shifted,\n",
    "leading to O(n) performance for each edit operation. With a linked-list rep-\n",
    "resentation, an arbitrary edit operation (insertion or deletion of a character\n",
    "at the cursor) can be performed in O(1) worst-case time, assuming we are\n",
    "given a position that represents the location of the cursor."
   ]
  },
  {
   "cell_type": "code",
   "execution_count": null,
   "metadata": {
    "collapsed": true
   },
   "outputs": [],
   "source": []
  }
 ],
 "metadata": {
  "anaconda-cloud": {},
  "kernelspec": {
   "display_name": "Python 3",
   "language": "python",
   "name": "python3"
  },
  "language_info": {
   "codemirror_mode": {
    "name": "ipython",
    "version": 3
   },
   "file_extension": ".py",
   "mimetype": "text/x-python",
   "name": "python",
   "nbconvert_exporter": "python",
   "pygments_lexer": "ipython3",
   "version": "3.7.6"
  }
 },
 "nbformat": 4,
 "nbformat_minor": 1
}

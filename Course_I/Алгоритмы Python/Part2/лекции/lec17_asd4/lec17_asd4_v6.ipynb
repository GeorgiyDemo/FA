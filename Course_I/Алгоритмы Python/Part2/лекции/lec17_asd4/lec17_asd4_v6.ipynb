{
 "cells": [
  {
   "cell_type": "markdown",
   "metadata": {},
   "source": [
    "# Лекция 17 \"Хеш-таблицы\"\n",
    "\n",
    "### Финансовый университет при Правительстве РФ, лектор С.В. Макрушин\n",
    "\n",
    "v 0.17"
   ]
  },
  {
   "cell_type": "markdown",
   "metadata": {},
   "source": [
    "### Абстрактный тип данных - ассоциативный массив"
   ]
  },
  {
   "cell_type": "markdown",
   "metadata": {},
   "source": [
    "**Словарь (ассоциативного массива (map, dictionary, associative array))** - абстрактная структура данных позволяющая хранить пары вида \"ключ - значение\" и поддерживающая операции добавления пары, а также поиска и удаления пары по ключу. Предполагается, что ассоциативный массив не может хранить две пары с одинаковыми ключами. Ассоциативный массив с точки зрения интерфейса удобно рассматривать как обычный массив, в котором в качестве индексов можно использовать не только целые числа из определенного диапазона, но и значения других типов — например, строки. В Python словарь реализуется при помощи dict()."
   ]
  },
  {
   "cell_type": "code",
   "execution_count": 2,
   "metadata": {},
   "outputs": [
    {
     "name": "stdout",
     "output_type": "stream",
     "text": [
      "42\n",
      "False\n",
      "['abc']\n",
      "1\n"
     ]
    }
   ],
   "source": [
    "# Базовые операции словаря:\n",
    "\n",
    "d1 = dict() # создание пустого словаря\n",
    "\n",
    "d1['abc'] = 42 # put(key, val) добавление пары ключ-значение в словарь; \n",
    "# если по данному ключу уже есть значение - то оно заменяется новым.\n",
    "\n",
    "v = d1['abc'] # get(key) извлечение значения по ключу;\n",
    "# в случае отсутсутствия значения по ключу возникает исключительная ситуация KeyError\n",
    "print(v)\n",
    "\n",
    "\n",
    "b = 'xyz' in d1 # возвращает True если ключ содержится в словаре, иначе возвращает False\n",
    "print(b)\n",
    "\n",
    "it = iter(d1) # итератор по умолчанию генерирует последовательность всех ключей хранящихся в словаре\n",
    "print(list(it))\n",
    "\n",
    "l = len(d1) # возвращает количество пар ключ-значение в словаре\n",
    "print(l)\n",
    "\n",
    "del d1['abc'] # удаляет из словаря пару ключ-значение с заданным ключом"
   ]
  },
  {
   "cell_type": "markdown",
   "metadata": {},
   "source": [
    "Далее мы рассмотрим различные решения задачи реализации словаря."
   ]
  },
  {
   "cell_type": "markdown",
   "metadata": {},
   "source": [
    "### Таблица с прямой адресацией"
   ]
  },
  {
   "cell_type": "markdown",
   "metadata": {},
   "source": [
    "Прямая адресация представляет собой простейшую технологию, которая хорошо работает для небольших множеств ключей. Предположим, что приложению требуется динамическое множество, каждый элемент которого имеет ключ из множества $U = \\left \\{ 0,1,\\ldots, m - 1 \\right \\} $, где $m$ не слишком велико. Кроме того, предполагается, что никакие два элемента \n",
    "не имеют одинаковых ключей. "
   ]
  },
  {
   "cell_type": "markdown",
   "metadata": {},
   "source": [
    "Для представления динамического множества мы используем массив, или таблицу с прямой адресацией, каждая ячейка которого соответствует ключу из пространства ключей $U$."
   ]
  },
  {
   "cell_type": "markdown",
   "metadata": {},
   "source": [
    "Возможность прямой индексации элементов обычного массива обеспечивает доступ к произвольной позиции в массиве за время $O(1)$. Прямая индексация применима, если есть возможность выделить массив размера, достаточного для того, чтобы у каждого возможного значения ключа имелась своя ячейка. "
   ]
  },
  {
   "cell_type": "code",
   "execution_count": 2,
   "metadata": {
    "scrolled": true
   },
   "outputs": [],
   "source": [
    "# пример: хранение строки строчных латинских символов не более заданной длины"
   ]
  },
  {
   "cell_type": "code",
   "execution_count": 3,
   "metadata": {},
   "outputs": [],
   "source": [
    "def to_key(s=None):\n",
    "    '''Возвращает неотрицательный ключ по объекту. Если объект не задан, то возвращает максимальное значение ключа.\n",
    "    '''\n",
    "    if s is None:\n",
    "        s = 'z'\n",
    "    return ord(s) - ord('a')"
   ]
  },
  {
   "cell_type": "code",
   "execution_count": 4,
   "metadata": {},
   "outputs": [
    {
     "data": {
      "text/plain": [
       "0"
      ]
     },
     "execution_count": 4,
     "metadata": {},
     "output_type": "execute_result"
    }
   ],
   "source": [
    "to_key('a')"
   ]
  },
  {
   "cell_type": "code",
   "execution_count": 5,
   "metadata": {},
   "outputs": [
    {
     "data": {
      "text/plain": [
       "2"
      ]
     },
     "execution_count": 5,
     "metadata": {},
     "output_type": "execute_result"
    }
   ],
   "source": [
    "to_key('c')"
   ]
  },
  {
   "cell_type": "code",
   "execution_count": 6,
   "metadata": {},
   "outputs": [
    {
     "data": {
      "text/plain": [
       "25"
      ]
     },
     "execution_count": 6,
     "metadata": {},
     "output_type": "execute_result"
    }
   ],
   "source": [
    "to_key()"
   ]
  },
  {
   "cell_type": "code",
   "execution_count": 6,
   "metadata": {},
   "outputs": [],
   "source": [
    "def seq_to_key(seq):\n",
    "    res = 0\n",
    "    n = to_key() # количество допустимых символов\n",
    "    for i, el in enumerate(seq):\n",
    "        assert 0 <= to_key(el) <= n # проверка корректности рассматриваемого символа\n",
    "        res += to_key(el) * n ** i\n",
    "    return res"
   ]
  },
  {
   "cell_type": "code",
   "execution_count": 7,
   "metadata": {},
   "outputs": [
    {
     "data": {
      "text/plain": [
       "0"
      ]
     },
     "execution_count": 7,
     "metadata": {},
     "output_type": "execute_result"
    }
   ],
   "source": [
    "seq_to_key('a')"
   ]
  },
  {
   "cell_type": "code",
   "execution_count": 10,
   "metadata": {},
   "outputs": [
    {
     "data": {
      "text/plain": [
       "25"
      ]
     },
     "execution_count": 10,
     "metadata": {},
     "output_type": "execute_result"
    }
   ],
   "source": [
    "seq_to_key('z')"
   ]
  },
  {
   "cell_type": "code",
   "execution_count": 12,
   "metadata": {},
   "outputs": [
    {
     "data": {
      "text/plain": [
       "26"
      ]
     },
     "execution_count": 12,
     "metadata": {},
     "output_type": "execute_result"
    }
   ],
   "source": [
    "seq_to_key('bb')"
   ]
  },
  {
   "cell_type": "code",
   "execution_count": 13,
   "metadata": {},
   "outputs": [
    {
     "data": {
      "text/plain": [
       "1275"
      ]
     },
     "execution_count": 13,
     "metadata": {},
     "output_type": "execute_result"
    }
   ],
   "source": [
    "seq_to_key('abc')"
   ]
  },
  {
   "cell_type": "code",
   "execution_count": 12,
   "metadata": {},
   "outputs": [
    {
     "data": {
      "text/plain": [
       "0"
      ]
     },
     "execution_count": 12,
     "metadata": {},
     "output_type": "execute_result"
    }
   ],
   "source": [
    "seq_to_key('aa') # проблема!"
   ]
  },
  {
   "cell_type": "code",
   "execution_count": 14,
   "metadata": {},
   "outputs": [],
   "source": [
    "def to_key(s=None):\n",
    "    '''Возвращает ПОЛОЖИТЕЛЬНЫЙ ключ по объекту. Если объект не задан, то возвращает максимальное значение ключа.\n",
    "    '''\n",
    "    if s is None:\n",
    "        s = 'z'\n",
    "    return ord(s) - ord('a') + 1"
   ]
  },
  {
   "cell_type": "code",
   "execution_count": 16,
   "metadata": {},
   "outputs": [
    {
     "data": {
      "text/plain": [
       "[0, 1, 26, 27, 53, 702, 703]"
      ]
     },
     "execution_count": 16,
     "metadata": {},
     "output_type": "execute_result"
    }
   ],
   "source": [
    "[seq_to_key(x) for x in ['','a', 'z', 'aa', 'ab', 'zz', 'aaa']]"
   ]
  },
  {
   "cell_type": "code",
   "execution_count": 17,
   "metadata": {},
   "outputs": [],
   "source": [
    "class DirectStrTable:\n",
    "    def __init__(self, str_len):\n",
    "        self._str_len = str_len # максимальная длина строки в таблице\n",
    "        self._n = self._to_key() # количество допустимых символов\n",
    "        self._none = object() # создаем пустой объект в качестве внутреннего аналога None\n",
    "        total = 0\n",
    "        for i in range(self._str_len + 1):\n",
    "            total *= self._n\n",
    "            total += 1\n",
    "        self._table = [self._none] * total\n",
    "        self._len = 0 # текущее количество элементов, хранящихся в таблице\n",
    "    \n",
    "    # internal method \n",
    "    def _to_key(self, s=None):\n",
    "        '''Возвращает ПОЛОЖИТЕЛЬНЫЙ ключ по символу. Если объект не задан, то возвращает максимальное значение ключа.\n",
    "        '''\n",
    "        if s is None:\n",
    "            s = 'z'\n",
    "        return ord(s) - ord('a') + 1    \n",
    "    \n",
    "    def _from_key(self, k):\n",
    "        return chr(k + ord('a') - 1)\n",
    "    \n",
    "    # internal method \n",
    "    def _str_to_key(self, seq):\n",
    "        res = 0\n",
    "        assert len(seq) <= self._str_len\n",
    "        for i, el in enumerate(seq):\n",
    "            assert 0 <= to_key(el) <= self._n # проверка корректности рассматриваемого символа\n",
    "            res += to_key(el) * self._n ** i\n",
    "        return res    \n",
    "    \n",
    "    def _key_to_str(self, k):\n",
    "        s = ''\n",
    "        while k > 0:\n",
    "            k, m = divmod(k, self._n)\n",
    "            if m == 0:\n",
    "                s += self._from_key(self._n)\n",
    "                k -= 1\n",
    "            else:\n",
    "                s += self._from_key(m)                \n",
    "#             s += self._from_key(self._n) if m == 0 else self._from_key(m)\n",
    "        return s\n",
    "    \n",
    "    # len(dst)\n",
    "    def __len__(self):\n",
    "        return self._len\n",
    "    \n",
    "    # dst[str_key]\n",
    "    def __getitem__(self, str_key):\n",
    "        k = self._str_to_key(str_key)\n",
    "        if self._table[k] is self._none:\n",
    "            raise KeyError(f'Key Error: {repr(s)}') # по данному ключу значения в таблице нет\n",
    "        else:\n",
    "            return self._table[k]\n",
    "    \n",
    "    # str_key in dst\n",
    "    def __contains__(self, str_key):\n",
    "        k = self._str_to_key(str_key)\n",
    "        if self._table[k] is self._none:\n",
    "            return False\n",
    "        else:\n",
    "            return True\n",
    "    \n",
    "    # dst[str_key] = val\n",
    "    def __setitem__(self, str_key, val):\n",
    "        k = self._str_to_key(str_key)\n",
    "        if self._table[k] is self._none:\n",
    "            # в таблицу добавляется новый элемент\n",
    "            self._table[k] = val\n",
    "            self._len += 1\n",
    "        else:\n",
    "            # в таблице меняется значение существующего элемента\n",
    "            self._table[k] = val\n",
    "            \n",
    "    # del dst[str_key]\n",
    "    def __delitem__(self, str_key):\n",
    "        k = self._str_to_key(str_key)\n",
    "        if self._table[k] is self._none:\n",
    "            raise KeyError(f'Key Error: {repr(s)}') # по данному ключу значения в таблице нет\n",
    "        else:\n",
    "            self._table[k] = self._none\n",
    "        self._len -= 1\n",
    "            \n",
    "    # for x in dst\n",
    "    def _raw_iter(self):\n",
    "        for rk, val in enumerate(self._table):\n",
    "            if val is not self._none:\n",
    "                yield rk, val # self._key_to_str(rk)        \n",
    "    \n",
    "    def __iter__(self):\n",
    "        for rk, val in self._raw_iter():\n",
    "            yield self._key_to_str(rk) #, val #         \n",
    "                \n",
    "    def items(self):\n",
    "        for rk, val in self._raw_iter():\n",
    "            yield self._key_to_str(rk), val          \n",
    "                \n",
    "    def values(self):\n",
    "        for val in self._table:\n",
    "            if val is not self._none:\n",
    "                yield val\n",
    "                \n",
    "    def stat(self):\n",
    "        return f'''Хранится элементов: {self._len};\n",
    "размер таблицы: {len(self._table)};\n",
    "доля используемых элементов таблицы: {self._len/len(self._table)}'''"
   ]
  },
  {
   "cell_type": "code",
   "execution_count": 18,
   "metadata": {},
   "outputs": [],
   "source": [
    "dst1 = DirectStrTable(3)"
   ]
  },
  {
   "cell_type": "code",
   "execution_count": 19,
   "metadata": {},
   "outputs": [
    {
     "data": {
      "text/plain": [
       "0"
      ]
     },
     "execution_count": 19,
     "metadata": {},
     "output_type": "execute_result"
    }
   ],
   "source": [
    "len(dst1)"
   ]
  },
  {
   "cell_type": "code",
   "execution_count": 20,
   "metadata": {},
   "outputs": [],
   "source": [
    "dst1['ab'] = 11"
   ]
  },
  {
   "cell_type": "code",
   "execution_count": 21,
   "metadata": {},
   "outputs": [
    {
     "data": {
      "text/plain": [
       "1"
      ]
     },
     "execution_count": 21,
     "metadata": {},
     "output_type": "execute_result"
    }
   ],
   "source": [
    "len(dst1)"
   ]
  },
  {
   "cell_type": "code",
   "execution_count": 22,
   "metadata": {},
   "outputs": [
    {
     "data": {
      "text/plain": [
       "11"
      ]
     },
     "execution_count": 22,
     "metadata": {},
     "output_type": "execute_result"
    }
   ],
   "source": [
    "dst1['ab']"
   ]
  },
  {
   "cell_type": "code",
   "execution_count": 23,
   "metadata": {},
   "outputs": [
    {
     "data": {
      "text/plain": [
       "(True, False)"
      ]
     },
     "execution_count": 23,
     "metadata": {},
     "output_type": "execute_result"
    }
   ],
   "source": [
    "'ab' in dst1, 'a' in dst1"
   ]
  },
  {
   "cell_type": "code",
   "execution_count": 24,
   "metadata": {},
   "outputs": [],
   "source": [
    "dst1['abc'] = 7"
   ]
  },
  {
   "cell_type": "code",
   "execution_count": 25,
   "metadata": {},
   "outputs": [
    {
     "data": {
      "text/plain": [
       "2"
      ]
     },
     "execution_count": 25,
     "metadata": {},
     "output_type": "execute_result"
    }
   ],
   "source": [
    "len(dst1)"
   ]
  },
  {
   "cell_type": "code",
   "execution_count": 26,
   "metadata": {},
   "outputs": [
    {
     "data": {
      "text/plain": [
       "3"
      ]
     },
     "execution_count": 26,
     "metadata": {},
     "output_type": "execute_result"
    }
   ],
   "source": [
    "dst1['zz'] = 77\n",
    "len(dst1)"
   ]
  },
  {
   "cell_type": "code",
   "execution_count": 27,
   "metadata": {},
   "outputs": [
    {
     "data": {
      "text/plain": [
       "2"
      ]
     },
     "execution_count": 27,
     "metadata": {},
     "output_type": "execute_result"
    }
   ],
   "source": [
    "del dst1['zz']\n",
    "len(dst1)"
   ]
  },
  {
   "cell_type": "code",
   "execution_count": 28,
   "metadata": {},
   "outputs": [],
   "source": [
    "dst1['zzz'] = 1\n",
    "dst1['x'] = 5\n",
    "dst1['z'] = 6\n",
    "dst1['aa'] = 7\n",
    "dst1['zz'] = 8\n",
    "dst1['aaa'] = 9"
   ]
  },
  {
   "cell_type": "code",
   "execution_count": 29,
   "metadata": {},
   "outputs": [
    {
     "data": {
      "text/plain": [
       "8"
      ]
     },
     "execution_count": 29,
     "metadata": {},
     "output_type": "execute_result"
    }
   ],
   "source": [
    "len(dst1)"
   ]
  },
  {
   "cell_type": "code",
   "execution_count": 30,
   "metadata": {},
   "outputs": [
    {
     "data": {
      "text/plain": [
       "['x', 'z', 'aa', 'ab', 'zz', 'aaa', 'abc', 'zzz']"
      ]
     },
     "execution_count": 30,
     "metadata": {},
     "output_type": "execute_result"
    }
   ],
   "source": [
    "list(dst1)"
   ]
  },
  {
   "cell_type": "code",
   "execution_count": 31,
   "metadata": {},
   "outputs": [
    {
     "data": {
      "text/plain": [
       "[(24, 5),\n",
       " (26, 6),\n",
       " (27, 7),\n",
       " (53, 11),\n",
       " (702, 8),\n",
       " (703, 9),\n",
       " (2081, 7),\n",
       " (18278, 1)]"
      ]
     },
     "execution_count": 31,
     "metadata": {},
     "output_type": "execute_result"
    }
   ],
   "source": [
    "list(dst1._raw_iter())"
   ]
  },
  {
   "cell_type": "code",
   "execution_count": 32,
   "metadata": {},
   "outputs": [
    {
     "data": {
      "text/plain": [
       "[('x', 5),\n",
       " ('z', 6),\n",
       " ('aa', 7),\n",
       " ('ab', 11),\n",
       " ('zz', 8),\n",
       " ('aaa', 9),\n",
       " ('abc', 7),\n",
       " ('zzz', 1)]"
      ]
     },
     "execution_count": 32,
     "metadata": {},
     "output_type": "execute_result"
    }
   ],
   "source": [
    "list(dst1.items())"
   ]
  },
  {
   "cell_type": "code",
   "execution_count": 33,
   "metadata": {},
   "outputs": [
    {
     "data": {
      "text/plain": [
       "[5, 6, 7, 11, 8, 9, 7, 1]"
      ]
     },
     "execution_count": 33,
     "metadata": {},
     "output_type": "execute_result"
    }
   ],
   "source": [
    "list(dst1.values())"
   ]
  },
  {
   "cell_type": "code",
   "execution_count": 34,
   "metadata": {},
   "outputs": [],
   "source": [
    "d1 = dict([('ab', 11), ('abc', 7)])"
   ]
  },
  {
   "cell_type": "code",
   "execution_count": 35,
   "metadata": {
    "scrolled": true
   },
   "outputs": [
    {
     "data": {
      "text/plain": [
       "['ab', 'abc']"
      ]
     },
     "execution_count": 35,
     "metadata": {},
     "output_type": "execute_result"
    }
   ],
   "source": [
    "list(d1)"
   ]
  },
  {
   "cell_type": "code",
   "execution_count": 37,
   "metadata": {},
   "outputs": [
    {
     "data": {
      "text/plain": [
       "[11, 7]"
      ]
     },
     "execution_count": 37,
     "metadata": {},
     "output_type": "execute_result"
    }
   ],
   "source": [
    "list(d1.values())"
   ]
  },
  {
   "cell_type": "code",
   "execution_count": 36,
   "metadata": {},
   "outputs": [
    {
     "name": "stdout",
     "output_type": "stream",
     "text": [
      "Хранится элементов: 8;\n",
      "размер таблицы: 18279;\n",
      "доля используемых элементов таблицы: 0.00043766070353958096\n"
     ]
    }
   ],
   "source": [
    "print(dst1.stat())"
   ]
  },
  {
   "cell_type": "markdown",
   "metadata": {},
   "source": [
    "Каждая из приведенных операций очень быстрая: время их работы равно $O(1)$. В некоторых приложениях элементы динамического множества могут храниться непосредственно в таблице с прямой адресацией. \n",
    "\n",
    "Недостаток прямой адресации очевиден: если пространство ключей $U$ велико, хранение таблицы $Т$ размером $|U|$ непрактично, а то и вовсе невозможно – в зависимости от количества доступной памяти и размера пространства ключей. Кроме того, множество $К$ реально сохраненных ключей может быть мало по сравнению с пространством ключей $U$, а в \n",
    "этом случае память, выделенная для таблицы $Т$, в основном расходуется напрасно. "
   ]
  },
  {
   "cell_type": "markdown",
   "metadata": {},
   "source": [
    "### Хеш-таблица"
   ]
  },
  {
   "cell_type": "markdown",
   "metadata": {},
   "source": [
    "Хеш-таблица представляет собой эффективную структуру данных для **реализации словарей**. Хотя на поиск элемента в хеш-таблице может в наихудшем случае потребоваться столько же времени, что и в связанном списке, а именно $O(n)$, на практике хеширование исключительно эффективно. При вполне обоснованных допущениях **математическое ожидание времени поиска** элемента в хеш-таблице составляет \n",
    "$O(1)$. "
   ]
  },
  {
   "cell_type": "markdown",
   "metadata": {},
   "source": [
    "Сравнение разынх методов реализации словарей: https://en.wikipedia.org/wiki/Associative_array"
   ]
  },
  {
   "cell_type": "markdown",
   "metadata": {},
   "source": [
    "Хеш-таблица (hash table) представляет собой обобщение обычного массива. Если количество реально хранящихся в массиве ключей мало по сравнению с количеством возможных значений ключей, эффективной альтернативой массива с прямой индексацией становится **хеш-таблица**, которая обычно использует массив с размером, пропорциональным количеству реально хранящихся в нем ключей. Вместо непосредственного использования ключа в качестве индекса массива, **индекс вычисляется по значению ключа**. Идея хеширования состоит в использовании некоторой частичной информации, полученной из ключа, т.е. вычисляется хеш-адрес $h(key)$, который используется для индексации в хеш-таблице."
   ]
  },
  {
   "cell_type": "markdown",
   "metadata": {},
   "source": [
    "Когда множество $К$ хранящихся в словаре ключей гораздо меньше пространства возможных ключей $U$, хеш-таблица требует существенно меньше места, чем таблица с прямой адресацией. Точнее говоря, требования к памяти могут быть снижены до $\\Theta(|K|)$, при этом время поиска элемента в хеш-таблице остается равным $O(1)$. Надо только заметить, что это граница среднего времени поиска, в то время как в случае таблицы с прямой адресацией эта граница справедлива для наихудшего случая. "
   ]
  },
  {
   "cell_type": "markdown",
   "metadata": {},
   "source": [
    "**Хеш-таблица** это коллекция, хранящая проиндексированные элементы (значения). Каждая позиция в хеш-таблице - слот таблицы (slot, bucket) может содержать элемент адресованный целочисленным не отрицательным индексом внутри таблицы. Т.е. в таблице есть слот с индексом 0, 1 и т.д. При создании все слоты в хеш-таблице пустые. В Python хеш-таблицу мужно реализовать в виде списка заполненного значениями None или их заменителями (для случаев, если пользователю нужно хранить в хеш-таблице значения None)."
   ]
  },
  {
   "cell_type": "markdown",
   "metadata": {},
   "source": [
    "В случае прямой адресации элемент с ключом $k$ хранится в ячейке $k$. При хешировании этот элемент хранится в ячейке $h(k)$, т.е. мы используем хеш-функцию $h$ для вычисления ячейки для данного ключа $k$. Функция $h$ отображает пространство ключей $U$ на ячейки хеш-таблицы $Т [0..m - 1]$: \n",
    "$$h:U \\rightarrow \\{ 0,1, \\ldots , m-1 \\} .$$ \n",
    "Мы говорим, что элемент с ключом $k$ хешируется в ячейку $h(k)$, величина $h(k)$ называется хеш-значением ключа $k$. "
   ]
  },
  {
   "cell_type": "markdown",
   "metadata": {},
   "source": [
    "*Пример*\n",
    "\n",
    "$T[0, \\ldots, 10]$; $h(k) = k \\mod 11$"
   ]
  },
  {
   "cell_type": "markdown",
   "metadata": {},
   "source": [
    "Пустая хеш-таблица:\n",
    "![](hash_arr1.png)"
   ]
  },
  {
   "cell_type": "code",
   "execution_count": 37,
   "metadata": {},
   "outputs": [],
   "source": [
    "def h(k):\n",
    "    return k % 11"
   ]
  },
  {
   "cell_type": "code",
   "execution_count": 38,
   "metadata": {},
   "outputs": [],
   "source": [
    "keys1 = [54, 26, 93, 17, 77, 31]"
   ]
  },
  {
   "cell_type": "code",
   "execution_count": 39,
   "metadata": {},
   "outputs": [
    {
     "data": {
      "text/plain": [
       "[10, 4, 5, 6, 0, 9]"
      ]
     },
     "execution_count": 39,
     "metadata": {},
     "output_type": "execute_result"
    }
   ],
   "source": [
    "[h(k) for k in keys1]"
   ]
  },
  {
   "cell_type": "markdown",
   "metadata": {},
   "source": [
    "Хеш-таблица с 6ю элементами:\n",
    "![](hash_arr2.png)"
   ]
  },
  {
   "cell_type": "markdown",
   "metadata": {},
   "source": [
    "При построении хеш-таблиц есть одна проблема: два ключа могут быть хешированы одну и ту же ячейку. Такая ситуация называется **коллизией**.\n"
   ]
  },
  {
   "cell_type": "code",
   "execution_count": 40,
   "metadata": {},
   "outputs": [
    {
     "data": {
      "text/plain": [
       "(1, 1)"
      ]
     },
     "execution_count": 40,
     "metadata": {},
     "output_type": "execute_result"
    }
   ],
   "source": [
    "# пример коллизии:\n",
    "h(12), h(23)"
   ]
  },
  {
   "cell_type": "markdown",
   "metadata": {},
   "source": [
    "Т.к. $h$ является детерминистической и для одного и того же значения k всегда дает одно и то же хеш-значение $h(k)$, то поскольку $|U| > m$, должно существовать как минимум два ключа, которые имеют одинаковое хеш-значение. Таким образом, \n",
    "полностью **избежать коллизий невозможно** в принципе.\n",
    "\n",
    "Используются два подхода для борьбы с этой проблемой:\n",
    "\n",
    "* выбор хеш-функции снижающей вероятность коллизии;\n",
    "* использование эффективных алгоритмов разрешения коллизий."
   ]
  },
  {
   "cell_type": "markdown",
   "metadata": {},
   "source": [
    "### Хеш-функция"
   ]
  },
  {
   "cell_type": "markdown",
   "metadata": {},
   "source": [
    "Хеш-функция выполняет преобразование массива входных данных произвольной длины (ключа, сообщения) в (выходную) битовую строку установленной длины (хеш, хеш-код, хеш-сумму)."
   ]
  },
  {
   "cell_type": "markdown",
   "metadata": {},
   "source": [
    "Хеш-функции применяются в следующих задачах:\n",
    "\n",
    "* построение ассоциативных массивов;\n",
    "* поиске дубликатов в сериях наборов данных;\n",
    "* построение уникальных идентификаторов для наборов данных;\n",
    "* вычислении контрольных сумм от данных (сигнала) для последующего обнаружения в них ошибок (возникших случайно или внесённых намеренно), возникающих при хранении и/или передаче данных;\n",
    "* сохранении паролей в системах защиты в виде хеш-кода (для восстановления пароля по хеш-коду требуется функция, являющаяся обратной по отношению к использованной хеш-функции);\n",
    "* выработке электронной подписи (на практике часто подписывается не само сообщение, а его «хеш-образ»);\n",
    "и многих других.\n",
    "\n",
    "Для решения различных задач требования к хеш-функциям могут очень существенно отличаться."
   ]
  },
  {
   "cell_type": "markdown",
   "metadata": {},
   "source": [
    "\"Хорошая\" хеш-функция должна удовлетворять двум свойствам:\n",
    "\n",
    "* быстрое вычисление;\n",
    "* минимальное количество коллизий."
   ]
  },
  {
   "cell_type": "markdown",
   "metadata": {},
   "source": [
    "Для обеспечения минимального количества коллизий хеш-функция удовлетворяет (приближенно) предположению простого **равномерного хеширования**: для каждого ключа равновероятно помещение в любую из $m$ ячеек, независимо от хеширования остальных ключей. К сожалению, это условие обычно невозможно проверить, поскольку, как правило, распределение вероятностей, в соответствии с которым поступают вносимые в таблицу ключи, неизвестно; кроме того, вставляемые ключи могут не быть независимыми. "
   ]
  },
  {
   "cell_type": "markdown",
   "metadata": {},
   "source": [
    "При построении хеш-функции хорошим подходом является подбор функции таким образом, чтобы она никак **не коррелировала с закономерностями**, которым могут подчиняться существующие данные. Например, мы можем потребовать, чтобы **\"близкие\" в некотором смысле ключи давали далекие хеш-значения** (например, хеш функция для подряд идущих целых чисел давала далекие хеш-значения). В некоторых приложениях хеш-функций требуется противоположное свойство - непрерывность (близкие ключи длолжны порождать близкие хеш-значения)."
   ]
  },
  {
   "cell_type": "markdown",
   "metadata": {},
   "source": [
    "Обычно от хеш-функций ожидается, что значения хеш-функции находиятся в диапазоне от 0 до $m-1$. Причём, часто удобно, есчли $m=2^n$. Таким образом значение хеш-функции может, например, без преобразований хранится в машинном слове."
   ]
  },
  {
   "cell_type": "markdown",
   "metadata": {},
   "source": [
    "#### Метод деления"
   ]
  },
  {
   "cell_type": "markdown",
   "metadata": {},
   "source": [
    "Построение хеш-функции методом деления состоит в отображении ключа k в одну из ячеек путем получения остатка от деления $k$ на $m$, т.е. хеш-функция имеет вид $h(k) = k \\mod m$. \n",
    "\n",
    "При использовании данного метода мы обычно стараются избегать некоторых значений $m$. Например, $m$ не должно быть степенью 2, поскольку если $m = 2^n$, то $h(k)$ представляет собой просто $р$ младших битов числа $k$. Если только заранее неизвестно, что все наборы младших $р$ битов ключей равновероятны, лучше строить хеш-функцию таким образом, чтобы ее результат зависел от всех битов ключа. Зачастую хорошие результаты можно получить, выбирая в качестве значения $m$ простое число, достаточно далекое от степени двойки. "
   ]
  },
  {
   "cell_type": "code",
   "execution_count": 41,
   "metadata": {},
   "outputs": [],
   "source": [
    "# пример хеш-функции для строк, построенной по методу деления:\n",
    "\n",
    "def str_h(s, m=701):\n",
    "    return sum(ord(symb) for symb in s) % m "
   ]
  },
  {
   "cell_type": "code",
   "execution_count": 42,
   "metadata": {
    "scrolled": true
   },
   "outputs": [
    {
     "data": {
      "text/plain": [
       "[('Хеш-функция', 391),\n",
       " ('выполняет', 671),\n",
       " ('преобразование', 403),\n",
       " ('массива', 550),\n",
       " ('входных', 596),\n",
       " ('данных', 201),\n",
       " ('произвольной', 397),\n",
       " ('длины', 516),\n",
       " ('(ключа,', 611),\n",
       " ('сообщения)', 3),\n",
       " ('в', 373),\n",
       " ('(выходную)', 375),\n",
       " ('битовую', 586),\n",
       " ('строку', 217),\n",
       " ('установленной', 64),\n",
       " ('длины', 516),\n",
       " ('(хеш,', 546),\n",
       " ('хеш-код,', 290),\n",
       " ('хеш-сумму).', 425)]"
      ]
     },
     "execution_count": 42,
     "metadata": {},
     "output_type": "execute_result"
    }
   ],
   "source": [
    "s1 = 'Хеш-функция выполняет преобразование массива входных данных произвольной длины (ключа, сообщения) в (выходную) битовую строку установленной длины (хеш, хеш-код, хеш-сумму).'\n",
    "s1_cod = [(s, str_h(s)) for s in s1.split()]\n",
    "s1_cod"
   ]
  },
  {
   "cell_type": "code",
   "execution_count": 43,
   "metadata": {},
   "outputs": [
    {
     "data": {
      "text/plain": [
       "[3,\n",
       " 64,\n",
       " 201,\n",
       " 217,\n",
       " 290,\n",
       " 373,\n",
       " 375,\n",
       " 391,\n",
       " 397,\n",
       " 403,\n",
       " 425,\n",
       " 516,\n",
       " 516,\n",
       " 546,\n",
       " 550,\n",
       " 586,\n",
       " 596,\n",
       " 611,\n",
       " 671]"
      ]
     },
     "execution_count": 43,
     "metadata": {},
     "output_type": "execute_result"
    }
   ],
   "source": [
    "sorted(s[1] for s in s1_cod)"
   ]
  },
  {
   "cell_type": "markdown",
   "metadata": {},
   "source": [
    "#### Метод MAD"
   ]
  },
  {
   "cell_type": "markdown",
   "metadata": {},
   "source": [
    "Хеш-функция multiply-add-and-divide (часто именуемая как MAD) преобразует целое число $k$ по следующему алгоритму. \n",
    "У хеш-функци имеются следующие параметры: $p$ - большое простое число, $a \\in \\{1, 2, \\ldots, p-1 \\}$ и $b \\in \\{0, 1, \\ldots, p-1 \\}$, $m$ - количество значений в диапозоне значений хеш-функции.\n",
    "\n",
    "$$h_{a,b}(k) = ((ak + b)\\mod p)\\mod m $$\n",
    "\n",
    " \n",
    "Этот класс хеш-функций удобен тем, что размер $m$ выходного диапазона произволен и не обязательно представляет собой простое число. Поскольку число, $а$ можно выбрать $р-1$ способом, и $р$ способами – число $b$, всего в данном семействе будет содержаться $р(р - 1)$ хеш-функций. "
   ]
  },
  {
   "cell_type": "markdown",
   "metadata": {},
   "source": [
    "Данную хеш-функцию (семейство хеш-функций) можно использовать для **универсального хеширования**. Универсальным хешированием называется хеширование, при котором используется не одна конкретная хеш-функция, а происходит выбор хеш-функции из заданного семейства по случайному алгоритму. Семейство универсальных хеш-функций называется универсальным, если для любых двух допустимых ключей вероятность коллизии является наименьшей из возможных:\n",
    "\n",
    "$$\\underset{h \\in \\mathcal{H}}{Pr} \\left[ h(x)=h(y) \\right] = \\frac{1}{m}, x \\neq y$$\n",
    "\n",
    "Нужно отметить, что это утверждение верно дложно выполняться для любых различающихся ключей, при этом случайно выбираются здесь именно функции хеширования $h$ из всего класса универсальных хеш-функций $\\mathcal{H}$.\n",
    "\n",
    "Универсальное хеширование обычно отличается низким числом коллизий и применяется, например, при реализации хеш-таблиц и в криптографии. В частности, можно показать, что хеш-функции MAD для случано выбранных $a$ и $b$ являются классом универсальных хеш-функций (см. https://en.wikipedia.org/wiki/Universal_hashing#Hashing_strings)."
   ]
  },
  {
   "cell_type": "code",
   "execution_count": 61,
   "metadata": {},
   "outputs": [],
   "source": [
    "import random"
   ]
  },
  {
   "cell_type": "code",
   "execution_count": 62,
   "metadata": {},
   "outputs": [
    {
     "data": {
      "text/plain": [
       "4294967296"
      ]
     },
     "execution_count": 62,
     "metadata": {},
     "output_type": "execute_result"
    }
   ],
   "source": [
    "2**32 # количество целых чисел в 32 битовом слове"
   ]
  },
  {
   "cell_type": "code",
   "execution_count": 63,
   "metadata": {},
   "outputs": [],
   "source": [
    "mad_p = 4294967311 # https://www.numberempire.com/primenumbers.php"
   ]
  },
  {
   "cell_type": "code",
   "execution_count": 64,
   "metadata": {},
   "outputs": [],
   "source": [
    "class MadHash:\n",
    "    def __init__(self, m):\n",
    "        self.m = m\n",
    "        self.p = mad_p\n",
    "        assert self.p > self.m\n",
    "        self.a = random.randint(1, self.p)\n",
    "        self.b = random.randint(0, self.p)\n",
    "    \n",
    "    def h(self, k):\n",
    "        return ((self.a * k + self.b) % self.p ) % self.m "
   ]
  },
  {
   "cell_type": "code",
   "execution_count": 70,
   "metadata": {},
   "outputs": [
    {
     "data": {
      "text/plain": [
       "(3421114791, 1748036419)"
      ]
     },
     "execution_count": 70,
     "metadata": {},
     "output_type": "execute_result"
    }
   ],
   "source": [
    "mh = MadHash(2**8)\n",
    "mh.a, mh.b"
   ]
  },
  {
   "cell_type": "code",
   "execution_count": 71,
   "metadata": {},
   "outputs": [
    {
     "data": {
      "text/plain": [
       "[67,\n",
       " 219,\n",
       " 115,\n",
       " 26,\n",
       " 178,\n",
       " 74,\n",
       " 226,\n",
       " 137,\n",
       " 33,\n",
       " 185,\n",
       " 81,\n",
       " 233,\n",
       " 144,\n",
       " 40,\n",
       " 192,\n",
       " 88,\n",
       " 240,\n",
       " 151,\n",
       " 47,\n",
       " 199,\n",
       " 95,\n",
       " 247,\n",
       " 158,\n",
       " 54,\n",
       " 206,\n",
       " 102,\n",
       " 254,\n",
       " 165,\n",
       " 61,\n",
       " 213,\n",
       " 109,\n",
       " 5,\n",
       " 172,\n",
       " 68,\n",
       " 220,\n",
       " 116,\n",
       " 12,\n",
       " 179,\n",
       " 75,\n",
       " 227,\n",
       " 123,\n",
       " 19,\n",
       " 186,\n",
       " 82,\n",
       " 234,\n",
       " 130,\n",
       " 26,\n",
       " 193,\n",
       " 89,\n",
       " 241,\n",
       " 137,\n",
       " 33,\n",
       " 200,\n",
       " 96,\n",
       " 248,\n",
       " 144,\n",
       " 40,\n",
       " 207,\n",
       " 103,\n",
       " 255,\n",
       " 151,\n",
       " 62,\n",
       " 214,\n",
       " 110,\n",
       " 6,\n",
       " 158,\n",
       " 69,\n",
       " 221,\n",
       " 117,\n",
       " 13,\n",
       " 165,\n",
       " 76,\n",
       " 228,\n",
       " 124,\n",
       " 20,\n",
       " 172,\n",
       " 83,\n",
       " 235,\n",
       " 131,\n",
       " 27,\n",
       " 179,\n",
       " 90,\n",
       " 242,\n",
       " 138,\n",
       " 34,\n",
       " 186,\n",
       " 97,\n",
       " 249,\n",
       " 145,\n",
       " 41,\n",
       " 193,\n",
       " 104,\n",
       " 0,\n",
       " 152,\n",
       " 48,\n",
       " 200,\n",
       " 111,\n",
       " 7,\n",
       " 159,\n",
       " 55,\n",
       " 207,\n",
       " 118,\n",
       " 14,\n",
       " 166,\n",
       " 62,\n",
       " 214,\n",
       " 125,\n",
       " 21,\n",
       " 173,\n",
       " 69,\n",
       " 221,\n",
       " 132,\n",
       " 28,\n",
       " 180,\n",
       " 76,\n",
       " 228,\n",
       " 139,\n",
       " 35,\n",
       " 187,\n",
       " 83,\n",
       " 250,\n",
       " 146,\n",
       " 42,\n",
       " 194,\n",
       " 90,\n",
       " 1,\n",
       " 153,\n",
       " 49]"
      ]
     },
     "execution_count": 71,
     "metadata": {},
     "output_type": "execute_result"
    }
   ],
   "source": [
    "hr1 = [mh.h(v) for v in range(128)]\n",
    "hr1"
   ]
  },
  {
   "cell_type": "code",
   "execution_count": 72,
   "metadata": {},
   "outputs": [
    {
     "name": "stdout",
     "output_type": "stream",
     "text": [
      "0 67\n",
      "1 219\n",
      "2 115\n",
      "3 26\n",
      "4 178\n",
      "5 74\n",
      "6 226\n",
      "7 137\n",
      "8 33\n",
      "9 185\n",
      "10 81\n",
      "11 233\n",
      "12 144\n",
      "13 40\n",
      "14 192\n",
      "15 88\n",
      "16 240\n",
      "17 151\n",
      "18 47\n",
      "19 199\n",
      "20 95\n",
      "21 247\n",
      "22 158\n",
      "23 54\n",
      "24 206\n",
      "25 102\n",
      "26 254\n",
      "27 165\n",
      "28 61\n",
      "29 213\n",
      "30 109\n",
      "31 5\n",
      "32 172\n",
      "33 68\n",
      "34 220\n",
      "35 116\n",
      "36 12\n",
      "37 179\n",
      "38 75\n",
      "39 227\n",
      "40 123\n",
      "41 19\n",
      "42 186\n",
      "43 82\n",
      "44 234\n",
      "45 130\n",
      "46 26\n",
      "47 193\n",
      "48 89\n",
      "49 241\n",
      "50 137\n",
      "51 33\n",
      "52 200\n",
      "53 96\n",
      "54 248\n",
      "55 144\n",
      "56 40\n",
      "57 207\n",
      "58 103\n",
      "59 255\n",
      "60 151\n",
      "61 62\n",
      "62 214\n",
      "63 110\n",
      "64 6\n",
      "65 158\n",
      "66 69\n",
      "67 221\n",
      "68 117\n",
      "69 13\n",
      "70 165\n",
      "71 76\n",
      "72 228\n",
      "73 124\n",
      "74 20\n",
      "75 172\n",
      "76 83\n",
      "77 235\n",
      "78 131\n",
      "79 27\n",
      "80 179\n",
      "81 90\n",
      "82 242\n",
      "83 138\n",
      "84 34\n",
      "85 186\n",
      "86 97\n",
      "87 249\n",
      "88 145\n",
      "89 41\n",
      "90 193\n",
      "91 104\n",
      "92 0\n",
      "93 152\n",
      "94 48\n",
      "95 200\n",
      "96 111\n",
      "97 7\n",
      "98 159\n",
      "99 55\n",
      "100 207\n",
      "101 118\n",
      "102 14\n",
      "103 166\n",
      "104 62\n",
      "105 214\n",
      "106 125\n",
      "107 21\n",
      "108 173\n",
      "109 69\n",
      "110 221\n",
      "111 132\n",
      "112 28\n",
      "113 180\n",
      "114 76\n",
      "115 228\n",
      "116 139\n",
      "117 35\n",
      "118 187\n",
      "119 83\n",
      "120 250\n",
      "121 146\n",
      "122 42\n",
      "123 194\n",
      "124 90\n",
      "125 1\n",
      "126 153\n",
      "127 49\n"
     ]
    }
   ],
   "source": [
    "for i, h in enumerate(hr1):\n",
    "    print(i, h)"
   ]
  },
  {
   "cell_type": "code",
   "execution_count": 73,
   "metadata": {},
   "outputs": [
    {
     "data": {
      "text/plain": [
       "[(0, False),\n",
       " (1, False),\n",
       " (5, False),\n",
       " (6, False),\n",
       " (7, False),\n",
       " (12, False),\n",
       " (13, False),\n",
       " (14, False),\n",
       " (19, False),\n",
       " (20, False),\n",
       " (21, False),\n",
       " (26, True),\n",
       " (26, False),\n",
       " (27, False),\n",
       " (28, False),\n",
       " (33, True),\n",
       " (33, False),\n",
       " (34, False),\n",
       " (35, False),\n",
       " (40, True),\n",
       " (40, False),\n",
       " (41, False),\n",
       " (42, False),\n",
       " (47, False),\n",
       " (48, False),\n",
       " (49, False),\n",
       " (54, False),\n",
       " (55, False),\n",
       " (61, False),\n",
       " (62, True),\n",
       " (62, False),\n",
       " (67, False),\n",
       " (68, False),\n",
       " (69, True),\n",
       " (69, False),\n",
       " (74, False),\n",
       " (75, False),\n",
       " (76, True),\n",
       " (76, False),\n",
       " (81, False),\n",
       " (82, False),\n",
       " (83, True),\n",
       " (83, False),\n",
       " (88, False),\n",
       " (89, False),\n",
       " (90, True),\n",
       " (90, False),\n",
       " (95, False),\n",
       " (96, False),\n",
       " (97, False),\n",
       " (102, False),\n",
       " (103, False),\n",
       " (104, False),\n",
       " (109, False),\n",
       " (110, False),\n",
       " (111, False),\n",
       " (115, False),\n",
       " (116, False),\n",
       " (117, False),\n",
       " (118, False),\n",
       " (123, False),\n",
       " (124, False),\n",
       " (125, False),\n",
       " (130, False),\n",
       " (131, False),\n",
       " (132, False),\n",
       " (137, True),\n",
       " (137, False),\n",
       " (138, False),\n",
       " (139, False),\n",
       " (144, True),\n",
       " (144, False),\n",
       " (145, False),\n",
       " (146, False),\n",
       " (151, True),\n",
       " (151, False),\n",
       " (152, False),\n",
       " (153, False),\n",
       " (158, True),\n",
       " (158, False),\n",
       " (159, False),\n",
       " (165, True),\n",
       " (165, False),\n",
       " (166, False),\n",
       " (172, True),\n",
       " (172, False),\n",
       " (173, False),\n",
       " (178, False),\n",
       " (179, True),\n",
       " (179, False),\n",
       " (180, False),\n",
       " (185, False),\n",
       " (186, True),\n",
       " (186, False),\n",
       " (187, False),\n",
       " (192, False),\n",
       " (193, True),\n",
       " (193, False),\n",
       " (194, False),\n",
       " (199, False),\n",
       " (200, True),\n",
       " (200, False),\n",
       " (206, False),\n",
       " (207, True),\n",
       " (207, False),\n",
       " (213, False),\n",
       " (214, True),\n",
       " (214, False),\n",
       " (219, False),\n",
       " (220, False),\n",
       " (221, True),\n",
       " (221, False),\n",
       " (226, False),\n",
       " (227, False),\n",
       " (228, True),\n",
       " (228, False),\n",
       " (233, False),\n",
       " (234, False),\n",
       " (235, False),\n",
       " (240, False),\n",
       " (241, False),\n",
       " (242, False),\n",
       " (247, False),\n",
       " (248, False),\n",
       " (249, False),\n",
       " (250, False),\n",
       " (254, False)]"
      ]
     },
     "execution_count": 73,
     "metadata": {},
     "output_type": "execute_result"
    }
   ],
   "source": [
    "hr1s = sorted(hr1) \n",
    "list(zip(hr1s, [x0 == x1 for x0, x1 in zip(hr1s[:-1], hr1s[1:])]))"
   ]
  },
  {
   "cell_type": "markdown",
   "metadata": {},
   "source": [
    "Зачастую расчет хеш-функции $h(k)$ можно представить в виде двух операций: рассчета хеш-кода который превращает ключ $k$ в целое число и функции компрессии, которая преобразует хеш-код в целое число в заданном диапазоне $[0, m-1]$."
   ]
  },
  {
   "cell_type": "markdown",
   "metadata": {},
   "source": [
    "Схема построения хеш-функции на базе двух шагов:\n",
    "![](hash_sc1.png)"
   ]
  },
  {
   "cell_type": "markdown",
   "metadata": {},
   "source": [
    "Преимуществом разделения хеш-функции на две компоненты является то, что рассчет хеш-кода проивзодится независимо от того с каким размером хеш-таблицы нужно будет работать. Это **позволяет разрабатывать функции рассчета хеш-кодов для различных типов данных** не ориентируясь на размер хеш-таблицы, который важен только для функции компрессии. Это особенно удобно, т.к. **размер хеш таблицы может быть динамечески изменен в зависимости от количества элементов, хранимых в словаре**."
   ]
  },
  {
   "cell_type": "markdown",
   "metadata": {},
   "source": [
    "Функция MAD может использоваться и в качестве функции построения хеш-кода для целых чисел и в качестве функции компрессии для хеш-кодов, построенных с помощью других функций."
   ]
  },
  {
   "cell_type": "markdown",
   "metadata": {},
   "source": [
    "#### Полиномиальная хеш-функция"
   ]
  },
  {
   "cell_type": "markdown",
   "metadata": {},
   "source": [
    "Приведенная ранее функция построения хеш-кода, основанная на суммировании (или опреации xor) хеш-кодов, плохо подходит для работы с символьными строками и другими объектами различной длины, которые могут быть представлены в виде кортежа $(x_0 , x_1 , \\ldots , x_{n−1} )$, в котором позиция элемента $x_i$ имеет значение, т.к. такой хеш-код создает коллизии для строк (последовательностей) с одинаковым составом элементов."
   ]
  },
  {
   "cell_type": "code",
   "execution_count": 59,
   "metadata": {},
   "outputs": [
    {
     "data": {
      "text/plain": [
       "[('stop', 454), ('tops', 454), ('pots', 454), ('spot', 454)]"
      ]
     },
     "execution_count": 59,
     "metadata": {},
     "output_type": "execute_result"
    }
   ],
   "source": [
    "# примеры коллизий для хеш-функций строк основанных на суммировании \n",
    "s2 = [\"stop\", \"tops\", \"pots\", \"spot\"]\n",
    "[(s, str_h(s)) for s in s2]"
   ]
  },
  {
   "cell_type": "markdown",
   "metadata": {},
   "source": [
    "Такого рода коллизии не будут возникать в хеш-функции, которая учитыват положение элементов в массиве входных данных. Примером такой хеш-функции является функция, использующая константу $a$ ($a \\neq 0, a \\neq 1$) при построении хеш-функции вида:\n",
    "\n",
    "$$x_0 a^{n-1} + x_1 a^{n-2} + \\ldots + x_{n−2} a + x_{n−1}.$$\n",
    "\n",
    "Т.е. это полином, использующий элементы массива входных данных $(x_0 , x_1 , \\ldots , x_{n−1} )$ в качестве коэффициентов. Такая функция назвается полиниомиальным хеш-кодом. Для использования ее в качестве хеш-функции к ней необходимо только добавить функцию компресии в соответствующий диапозон значений."
   ]
  },
  {
   "cell_type": "markdown",
   "metadata": {},
   "source": [
    "Используя схему Горнера полиномиальный хеш-код можно эффективно вычислить по формуле:\n",
    "\n",
    "$$x_{n−1} + a (x_{n−2} + a(x_{n−3}+ \\ldots + a(x_2 + a(x_1 + ax_0))\\ldots))$$"
   ]
  },
  {
   "cell_type": "markdown",
   "metadata": {},
   "source": [
    "### Функция hash в Python"
   ]
  },
  {
   "cell_type": "markdown",
   "metadata": {},
   "source": [
    "Стандартным способом для получения хеш-кода в Python является встроенная функция **hash(x)**. Она возвращает целочисленное значение для объекта x. Однако, в Python **только неизменяемые типы** данных могут возвращать значение хеш-кода. Это ограчиние гарантирует, что хеш-код для объека не изменится во время его жизни. Это свойство очень важно для корректной работы при использовании хеш-кодов объектов в хеш-таблицах, например в dict()."
   ]
  },
  {
   "cell_type": "code",
   "execution_count": 74,
   "metadata": {},
   "outputs": [
    {
     "data": {
      "text/plain": [
       "1518382487413275710"
      ]
     },
     "execution_count": 74,
     "metadata": {},
     "output_type": "execute_result"
    }
   ],
   "source": [
    "hash('Hello world!')"
   ]
  },
  {
   "cell_type": "code",
   "execution_count": 75,
   "metadata": {},
   "outputs": [
    {
     "data": {
      "text/plain": [
       "42"
      ]
     },
     "execution_count": 75,
     "metadata": {},
     "output_type": "execute_result"
    }
   ],
   "source": [
    "hash(42)"
   ]
  },
  {
   "cell_type": "code",
   "execution_count": 76,
   "metadata": {},
   "outputs": [
    {
     "data": {
      "text/plain": [
       "325123864299130883"
      ]
     },
     "execution_count": 76,
     "metadata": {},
     "output_type": "execute_result"
    }
   ],
   "source": [
    "hash(3.141)"
   ]
  },
  {
   "cell_type": "code",
   "execution_count": 77,
   "metadata": {},
   "outputs": [
    {
     "data": {
      "text/plain": [
       "3713081631934410656"
      ]
     },
     "execution_count": 77,
     "metadata": {},
     "output_type": "execute_result"
    }
   ],
   "source": [
    "hash((1, 2))"
   ]
  },
  {
   "cell_type": "code",
   "execution_count": 78,
   "metadata": {},
   "outputs": [
    {
     "data": {
      "text/plain": [
       "8795120784846"
      ]
     },
     "execution_count": 78,
     "metadata": {},
     "output_type": "execute_result"
    }
   ],
   "source": [
    "hash(None)"
   ]
  },
  {
   "cell_type": "code",
   "execution_count": 79,
   "metadata": {},
   "outputs": [
    {
     "data": {
      "text/plain": [
       "-1826646154956904602"
      ]
     },
     "execution_count": 79,
     "metadata": {},
     "output_type": "execute_result"
    }
   ],
   "source": [
    "hash(frozenset([1, 2]))"
   ]
  },
  {
   "cell_type": "code",
   "execution_count": 80,
   "metadata": {},
   "outputs": [
    {
     "ename": "TypeError",
     "evalue": "unhashable type: 'list'",
     "output_type": "error",
     "traceback": [
      "\u001b[1;31m---------------------------------------------------------------------------\u001b[0m",
      "\u001b[1;31mTypeError\u001b[0m                                 Traceback (most recent call last)",
      "\u001b[1;32m<ipython-input-80-210e02e9c6e1>\u001b[0m in \u001b[0;36m<module>\u001b[1;34m\u001b[0m\n\u001b[0;32m      1\u001b[0m \u001b[1;31m# ошибка:\u001b[0m\u001b[1;33m\u001b[0m\u001b[1;33m\u001b[0m\u001b[1;33m\u001b[0m\u001b[0m\n\u001b[1;32m----> 2\u001b[1;33m \u001b[0mhash\u001b[0m\u001b[1;33m(\u001b[0m\u001b[1;33m[\u001b[0m\u001b[1;36m1\u001b[0m\u001b[1;33m,\u001b[0m \u001b[1;36m2\u001b[0m\u001b[1;33m]\u001b[0m\u001b[1;33m)\u001b[0m\u001b[1;33m\u001b[0m\u001b[1;33m\u001b[0m\u001b[0m\n\u001b[0m",
      "\u001b[1;31mTypeError\u001b[0m: unhashable type: 'list'"
     ]
    }
   ],
   "source": [
    "# ошибка:\n",
    "hash([1, 2])"
   ]
  },
  {
   "cell_type": "markdown",
   "metadata": {},
   "source": [
    "Важным правилом реализации функции hash для классов явлется необходимость сохранять **консистентность между равенством (x == y) и равенством хеш-функций (hash(x) == hash(y))**. Для любых двух объектов из равенства x == y должно следовать hash(x) == hash(y) (из-за возможности коллизий у хеш-функций следствие в обратную сторону в общем случае не выполняется). Это необходимо для того, чтобы в случае использования объекта в качестве ключа в хеш таблицы для равных объектов (x == y) результат поиска в таблице (который ведется с ипользованием hash(x), hash(y)) был идентичен."
   ]
  },
  {
   "cell_type": "code",
   "execution_count": 81,
   "metadata": {},
   "outputs": [
    {
     "data": {
      "text/plain": [
       "True"
      ]
     },
     "execution_count": 81,
     "metadata": {},
     "output_type": "execute_result"
    }
   ],
   "source": [
    "42 == 42.0"
   ]
  },
  {
   "cell_type": "code",
   "execution_count": 83,
   "metadata": {},
   "outputs": [
    {
     "data": {
      "text/plain": [
       "(42, 42, 230584303658)"
      ]
     },
     "execution_count": 83,
     "metadata": {},
     "output_type": "execute_result"
    }
   ],
   "source": [
    "hash(42), hash(42.0), hash(42.0000001)"
   ]
  },
  {
   "cell_type": "code",
   "execution_count": 85,
   "metadata": {},
   "outputs": [],
   "source": [
    "# реализация hash для пользовательского типа данных:\n",
    "\n",
    "class Color:\n",
    "    def __init__(self, r, g, b):\n",
    "        assert type(r) is int\n",
    "        assert 0 <= r <= 255\n",
    "        self.__red = r \n",
    "        assert type(g) is int\n",
    "        assert 0 <= g <= 255        \n",
    "        self.__green = g\n",
    "        assert type(b) is int\n",
    "        assert 0 <= b <= 255        \n",
    "        self.__blue = b\n",
    "    \n",
    "    @property \n",
    "    def red(self):\n",
    "        return self.__red\n",
    "    \n",
    "    @property \n",
    "    def green(self):\n",
    "        return self.__green\n",
    "\n",
    "    @property \n",
    "    def blue(self):\n",
    "        return self.__blue\n",
    "    \n",
    "    def __hash__(self):\n",
    "        return hash((self.__red, self.__green, self.__blue))\n",
    "    \n",
    "    def __eq__(self, other):\n",
    "        return self.__red == other.red and\\\n",
    "    self.__green == other.green and self.__blue == other.blue"
   ]
  },
  {
   "cell_type": "code",
   "execution_count": 86,
   "metadata": {},
   "outputs": [
    {
     "data": {
      "text/plain": [
       "(2, 2, 115)"
      ]
     },
     "execution_count": 86,
     "metadata": {},
     "output_type": "execute_result"
    }
   ],
   "source": [
    "c1 = Color(2, 2, 115)\n",
    "c1.red, c1.green, c1.blue"
   ]
  },
  {
   "cell_type": "code",
   "execution_count": 87,
   "metadata": {},
   "outputs": [
    {
     "data": {
      "text/plain": [
       "3789703756491517098"
      ]
     },
     "execution_count": 87,
     "metadata": {},
     "output_type": "execute_result"
    }
   ],
   "source": [
    "hash(c1)"
   ]
  },
  {
   "cell_type": "code",
   "execution_count": 88,
   "metadata": {},
   "outputs": [
    {
     "data": {
      "text/plain": [
       "True"
      ]
     },
     "execution_count": 88,
     "metadata": {},
     "output_type": "execute_result"
    }
   ],
   "source": [
    "c2 = Color(2, 2, 115)\n",
    "c1 == c2"
   ]
  },
  {
   "cell_type": "code",
   "execution_count": 89,
   "metadata": {},
   "outputs": [
    {
     "data": {
      "text/plain": [
       "True"
      ]
     },
     "execution_count": 89,
     "metadata": {},
     "output_type": "execute_result"
    }
   ],
   "source": [
    "hash(c1) == hash(c2)"
   ]
  },
  {
   "cell_type": "code",
   "execution_count": 90,
   "metadata": {},
   "outputs": [],
   "source": [
    "dc = dict()\n",
    "dc[c1] = 110"
   ]
  },
  {
   "cell_type": "code",
   "execution_count": 91,
   "metadata": {},
   "outputs": [
    {
     "data": {
      "text/plain": [
       "110"
      ]
     },
     "execution_count": 91,
     "metadata": {},
     "output_type": "execute_result"
    }
   ],
   "source": [
    "dc[c1]"
   ]
  },
  {
   "cell_type": "markdown",
   "metadata": {},
   "source": [
    "### Методы разрешения коллизий"
   ]
  },
  {
   "cell_type": "markdown",
   "metadata": {},
   "source": [
    "Разрешение коллизий при помощи цепочек. При использовании данного метода все элементы, хешированные в одну и ту же ячейку, объединяются в связанный список, как показано на рис. Ячейка j или содержит указатель на заголовок списка всех элементов, хеш-значение ключа которых равно j; если таких элементов нет, то ячейка содержит значение None."
   ]
  },
  {
   "cell_type": "markdown",
   "metadata": {},
   "source": [
    "Хеш-таблица использующая цепочки для разрешения коллизий:\n",
    "![](col1.png)"
   ]
  },
  {
   "cell_type": "code",
   "execution_count": 92,
   "metadata": {},
   "outputs": [],
   "source": [
    "def h(k):\n",
    "    return k % 11"
   ]
  },
  {
   "cell_type": "code",
   "execution_count": 93,
   "metadata": {},
   "outputs": [],
   "source": [
    "keys1 = [54, 26, 93, 17, 77, 31, 44, 20, 55]"
   ]
  },
  {
   "cell_type": "code",
   "execution_count": 94,
   "metadata": {},
   "outputs": [
    {
     "data": {
      "text/plain": [
       "[10, 4, 5, 6, 0, 9, 0, 9, 0]"
      ]
     },
     "execution_count": 94,
     "metadata": {},
     "output_type": "execute_result"
    }
   ],
   "source": [
    "[h(k) for k in keys1]"
   ]
  },
  {
   "cell_type": "markdown",
   "metadata": {},
   "source": [
    "Время, необходимое для вставки в наихудшем случае, равно $O(1)$. Процедура вставки выполняется очень быстро, поскольку предполагается, что вставляемый элемент отсутствует в таблице. При необходимости это предположение может быть проверено путем выполнения поиска перед вставкой. Время работы поиска в наихудшем случае пропорционально длине списка. Удаление элемента может быть выполнено за время $O(1)$."
   ]
  },
  {
   "cell_type": "markdown",
   "metadata": {},
   "source": [
    "*Открытая адресация*"
   ]
  },
  {
   "cell_type": "markdown",
   "metadata": {},
   "source": [
    "При использовании метода открытой адресации все элементы хранятся непосредственно в хеш-таблице, т.е. каждая запись таблицы содержит либо элемент динамического множества, либо специальное значение (None или его заменитель). \n",
    "\n",
    "При поиске элемента мы систематически проверяем ячейки таблицы до тех пор, пока не найдем искомый элемент или пока \n",
    "не убедимся в его отсутствии в таблице. Здесь, в отличие от метода цепочек, нет ни списков, ни элементов, хранящихся вне таблицы. Таким образом, в методе открытой адресации хеш-таблица может оказаться заполненной, делая невозможной вставку новых элементов."
   ]
  },
  {
   "cell_type": "markdown",
   "metadata": {},
   "source": [
    "Коэффициент заполнения таблицы (load factor): \n",
    "\n",
    "$$\\lambda = \\frac {number\\_of\\_items}{table\\_size}$$\n",
    "\n",
    "В хеш-таблице с открытой адресацией коээфициент заполнения таблицы $\\lambda$ не может превышать 1."
   ]
  },
  {
   "cell_type": "markdown",
   "metadata": {},
   "source": [
    "Вместо того чтобы следовать по указателям, при открытой адресации мы вычисляем последовательность проверяемых ячеек. Дополнительная память, освобождающаяся в результате отказа от указателей, позволяет использовать хеш-таблицы \n",
    "большего размера при том же общем количестве памяти, потенциально \n",
    "приводя к меньшему количеству коллизий и более быстрой выборке. "
   ]
  },
  {
   "cell_type": "markdown",
   "metadata": {},
   "source": [
    "Для выполнения вставки при открытой адресации мы последовательно проверяем, или исследуем (probe), ячейки хеш-таблицы до тех пор, пока не находим пустую ячейку, в которую помещаем вставляемый ключ.\n",
    "\n",
    "Для определения исследуемых ячеек хеш-функция расширяется, в нее включается в качестве второго аргумента номер исследования (начинающийся с 0). В методе открытой адресации требуется, чтобы для каждого ключа $k$ последовательность исследований $h(k, 0), h(k, 1),\\ldots,h(k, m-1)$ представляла собой перестановку множества $\\{0,1,..., m-1\\}$, чтобы в \n",
    "конечном счете могли быть просмотрены все ячейки хеш-таблицы."
   ]
  },
  {
   "cell_type": "markdown",
   "metadata": {},
   "source": [
    "```\n",
    "% Псевдокод помоещения значения в хеш-таблицу с открытой адресацией:\n",
    "HASH_INSERT(T, k) \n",
    "1 i ← 0 \n",
    "2 repeat j ← h(k, i) \n",
    "3   if T[j] = NIL \n",
    "4   then T[j] ← k \n",
    "5     return j \n",
    "6   else i ← i + 1 \n",
    "7 until i = m \n",
    "8 error \"Хеш-таблица переполнена\" \n",
    "```"
   ]
  },
  {
   "cell_type": "markdown",
   "metadata": {},
   "source": [
    "```\n",
    "% Псевдокод поиска значения в хеш-таблице с открытой адресацией:\n",
    "HASH_SEARCH(T, k) \n",
    "1 i ← 0 \n",
    "2 repeat j ← h(k,i) \n",
    "3   if T[j] = k \n",
    "4   then return j \n",
    "5   i ← i + 1 \n",
    "6 until T[j] = NIL or i = m \n",
    "7 return NIL \n",
    "```"
   ]
  },
  {
   "cell_type": "markdown",
   "metadata": {},
   "source": [
    "Процедура **удаления из хеш-таблицы** с открытой адресацией достаточно сложна. При удалении ключа из ячейки i мы не можем просто пометить ее значением NIL. Поступив так, мы можем сделать невозможным выборку ключа k, в процессе вставки которого исследовалась и оказалась занятой ячейка i. Одно из решений состоит в том, \n",
    "чтобы помечать такие ячейки специальным значением DELETED вместо NIL. При этом мы должны слегка изменить процедуру \n",
    "HASH_INSERT, с тем, чтобы она рассматривала такую ячейку, как пустую и могла вставить в нее новый ключ. В процедуре \n",
    "HASH_SEARCH никакие изменения не требуются, поскольку мы просто пропускаем такие ячейки при поиске и исследуем следующие ячейки в последовательности. Однако при использовании специального значения DELETED время поиска перестает зависеть от коэффициента заполнения."
   ]
  },
  {
   "cell_type": "markdown",
   "metadata": {},
   "source": [
    "*Линейное исследование*\n",
    "\n",
    "Пусть задана обычная хеш-функция $hʹ : U \\rightarrow \\{0,1, \\ldots, m-1\\}$, которую мы будем в дальнейшем именовать \n",
    "вспомогательной хеш-функцией (auxiliary hash function). Метод линейного исследования для вычисления последовательности исследований использует хеш-функцию \n",
    "\n",
    "$$h(k, i) = (hʹ(k) + i)\\mod m$$"
   ]
  },
  {
   "cell_type": "markdown",
   "metadata": {},
   "source": [
    "Линейное исследование легко реализуется, однако с ним связана **проблема первичной кластеризации**, связанной с созданием длинных последовательностей занятых ячеек, что, увеличивает среднее время поиска. Кластеры возникают в связи с тем, \n",
    "что вероятность заполнения пустой ячейки, которой предшествуют $i$ заполненных ячеек, равна $(i + 1)/m$. Таким образом, длинные серии заполненных ячеек имеют тенденцию к все большему удлинению, что приводит к увеличению среднего времени поиска. "
   ]
  },
  {
   "cell_type": "markdown",
   "metadata": {},
   "source": [
    "Хеш-таблица с открытой адресацией и линейным исследованием:\n",
    "![](col2.png)"
   ]
  },
  {
   "cell_type": "code",
   "execution_count": 185,
   "metadata": {
    "collapsed": true
   },
   "outputs": [],
   "source": [
    "keys1 = [54, 26, 93, 17, 77, 31, 44, 20, 55]"
   ]
  },
  {
   "cell_type": "code",
   "execution_count": 186,
   "metadata": {},
   "outputs": [
    {
     "data": {
      "text/plain": [
       "[10, 4, 5, 6, 0, 9, 0, 9, 0]"
      ]
     },
     "execution_count": 186,
     "metadata": {},
     "output_type": "execute_result"
    }
   ],
   "source": [
    "[h(k) for k in keys1]"
   ]
  },
  {
   "cell_type": "markdown",
   "metadata": {},
   "source": [
    "*Квадратичное исследование*\n",
    "\n",
    "Квадратичное исследование использует хеш-функцию вида:\n",
    "\n",
    "$$h(k, i) = (hʹ(k) + с_1 i + с_2 i^2) \\mod m$$\n",
    "\n",
    "где $hʹ$ – вспомогательная хеш-функция, $с_1$ и $с_2 \\neq 0$ – вспомогательные константы, а $i$ принимает значения от 0 до $m-1$ включительно.\n",
    "\n",
    "Начальная исследуемая ячейка - $Т[hʹ(k)]$; остальные исследуемые позиции смещены относительно нее на величины, которые описываются квадратичной зависимостью от номера исследования $i$. \n",
    "\n",
    "Этот метод работает существенно лучше линейного исследования, но для того, чтобы исследование охватывало все ячейки, необходим выбор специальных значений $с_1$, $с_2$ и $m$ . Кроме того, если два ключа имеют одну и то же начальную \n",
    "позицию исследования, то одинаковы и последовательности исследования в целом."
   ]
  },
  {
   "cell_type": "markdown",
   "metadata": {},
   "source": [
    "*Двойное хеширование*\n",
    "\n",
    "Двойное хеширование представляет собой один из наилучших способов использования открытой адресации, поскольку получаемые при этом перестановки обладают многими характеристиками случайно выбираемых перестановок. Двойное хеширование использует хеш-функцию вида \n",
    "\n",
    "$$h(k, i) = (h_1(k) + i h_2(k)) \\mod m$$ \n",
    "\n",
    "где $h_1$ и $h_2$ – вспомогательные хеш-функции. Начальное исследование выполняется в позиции $Т[h_1(k))]$, а смещение каждой из последующих исследуемых ячеек относительно предыдущей равно $h_2(k)$ по модулю $m$. \n",
    "\n",
    "В отличие от линейного и квадратичного исследования, в данном случае последовательность исследования зависит от клю-\n",
    "ча $k$ по двум параметрам – в плане выбора начальной исследуемой ячейки и расстояния между соседними исследуемыми ячейками, так как оба эти параметра зависят от значения ключа. Производительность двойного хеширования достаточно \n",
    "близка к производительности \"идеальной\" схемы равномерного хеширования. "
   ]
  },
  {
   "cell_type": "markdown",
   "metadata": {},
   "source": [
    "# Спасибо за внимание!\n",
    "\n",
    "----\n",
    "\n"
   ]
  },
  {
   "cell_type": "markdown",
   "metadata": {},
   "source": [
    "Перехеширование (rehashing)\n",
    "\n",
    "In the hash table schemes described thus far, it is important that the load factor,\n",
    "λ = n/N , be kept below 1. With separate chaining, as λ gets very close to 1, the\n",
    "probability of a collision greatly increases, which adds overhead to our operations,\n",
    "since we must revert to linear-time list-based methods in buckets that have col-\n",
    "lisions. \n",
    "\n",
    " Experiments and average-case analyses suggest that we should maintain\n",
    "λ < 0.9 for hash tables with separate chaining. With open addressing, on the other hand, as the load factor λ grows beyond 0.5 and starts approaching 1, clusters of entries in the bucket array start to grow as well.\n",
    "\n",
    "If an insertion causes the load factor of a hash table to go above the speciﬁed\n",
    "threshold, then it is common to resize the table (to regain the speciﬁed load factor)\n",
    "and to reinsert all objects into this new table. Although we need not deﬁne a new\n",
    "hash code for each object, we do need to reapply a new compression function that\n",
    "takes into consideration the size of the new table. Each rehashing will generally\n",
    "scatter the items throughout the new bucket array. When rehashing to a new table, it\n",
    "is a good requirement for the new array’s size to be at least double the previous size."
   ]
  },
  {
   "cell_type": "markdown",
   "metadata": {},
   "source": []
  }
 ],
 "metadata": {
  "kernelspec": {
   "display_name": "Python 3",
   "language": "python",
   "name": "python3"
  },
  "language_info": {
   "codemirror_mode": {
    "name": "ipython",
    "version": 3
   },
   "file_extension": ".py",
   "mimetype": "text/x-python",
   "name": "python",
   "nbconvert_exporter": "python",
   "pygments_lexer": "ipython3",
   "version": "3.7.6"
  }
 },
 "nbformat": 4,
 "nbformat_minor": 2
}

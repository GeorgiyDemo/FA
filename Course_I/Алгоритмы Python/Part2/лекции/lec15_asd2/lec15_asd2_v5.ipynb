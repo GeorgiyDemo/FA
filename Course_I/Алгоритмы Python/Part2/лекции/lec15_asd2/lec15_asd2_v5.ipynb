{
 "cells": [
  {
   "cell_type": "markdown",
   "metadata": {},
   "source": [
    "# Лекция 15 \"Поиск и сортировка.\"\n",
    "\n",
    "### Финансовый университет при Правительстве РФ, лектор С.В. Макрушин"
   ]
  },
  {
   "cell_type": "markdown",
   "metadata": {},
   "source": [
    "# Поиск"
   ]
  },
  {
   "cell_type": "code",
   "execution_count": 27,
   "metadata": {},
   "outputs": [
    {
     "data": {
      "text/plain": [
       "False"
      ]
     },
     "execution_count": 27,
     "metadata": {},
     "output_type": "execute_result"
    }
   ],
   "source": [
    "# Проверка вхождения в список:\n",
    "23 in [54, 26, 93, 17, 77, 31, 44, 55, 20, 65]"
   ]
  },
  {
   "cell_type": "code",
   "execution_count": 10,
   "metadata": {},
   "outputs": [
    {
     "data": {
      "text/plain": [
       "True"
      ]
     },
     "execution_count": 10,
     "metadata": {},
     "output_type": "execute_result"
    }
   ],
   "source": [
    "17 in [54, 26, 93, 17, 77, 31, 44, 55, 20, 65]"
   ]
  },
  {
   "cell_type": "code",
   "execution_count": 99,
   "metadata": {},
   "outputs": [],
   "source": [
    "test_list = [54, 26, 93, 17, 77, 31, 44, 55, 20, 65]"
   ]
  },
  {
   "cell_type": "markdown",
   "metadata": {},
   "source": [
    "Пример проведения поиска в списке целых чисел:\n",
    "\n",
    "![](seq_search_1.png)"
   ]
  },
  {
   "cell_type": "code",
   "execution_count": 11,
   "metadata": {},
   "outputs": [],
   "source": [
    "def sequential_search(a_list, item):\n",
    "    for current_item in a_list:\n",
    "        if current_item == item:\n",
    "            return True\n",
    "    else:\n",
    "        return False"
   ]
  },
  {
   "cell_type": "code",
   "execution_count": 101,
   "metadata": {},
   "outputs": [
    {
     "data": {
      "text/plain": [
       "[54, 26, 93, 17, 77, 31, 44, 55, 20, 65]"
      ]
     },
     "execution_count": 101,
     "metadata": {},
     "output_type": "execute_result"
    }
   ],
   "source": [
    "test_list"
   ]
  },
  {
   "cell_type": "code",
   "execution_count": 102,
   "metadata": {},
   "outputs": [
    {
     "data": {
      "text/plain": [
       "False"
      ]
     },
     "execution_count": 102,
     "metadata": {},
     "output_type": "execute_result"
    }
   ],
   "source": [
    "sequential_search(test_list, 15)"
   ]
  },
  {
   "cell_type": "code",
   "execution_count": 103,
   "metadata": {},
   "outputs": [],
   "source": [
    "def sequential_search_2(a_list, item):\n",
    "    pos = 0\n",
    "    found = False\n",
    "\n",
    "    while pos < len(a_list) and not found:\n",
    "        if a_list[pos] == item:\n",
    "            return True\n",
    "        else:\n",
    "            pos += 1\n",
    "\n",
    "    return False"
   ]
  },
  {
   "cell_type": "code",
   "execution_count": 104,
   "metadata": {},
   "outputs": [
    {
     "name": "stdout",
     "output_type": "stream",
     "text": [
      "False\n",
      "True\n"
     ]
    }
   ],
   "source": [
    "# test_list = [54, 26, 93, 17, 77, 31, 44, 55, 20, 65]\n",
    "# test_list = [1, 2, 32, 8, 17, 19, 42, 13, 0]\n",
    "\n",
    "print(sequential_search_2(test_list, 3))\n",
    "print(sequential_search_2(test_list, 17))"
   ]
  },
  {
   "cell_type": "markdown",
   "metadata": {},
   "source": [
    "Сравнение количества операций сравнения, используемых при __последовательном__ поиске в __несортированном__ списке:\n",
    "\n",
    "![](seq_search_2.png)"
   ]
  },
  {
   "cell_type": "code",
   "execution_count": 32,
   "metadata": {},
   "outputs": [],
   "source": [
    "def ordered_sequential_search(a_list, item):\n",
    "    for current_item in a_list:\n",
    "        if current_item >= item:            \n",
    "            if current_item == item:\n",
    "                return True\n",
    "            else:\n",
    "                return False\n",
    "    else:\n",
    "        return False"
   ]
  },
  {
   "cell_type": "markdown",
   "metadata": {},
   "source": [
    "Сравнение количества операций сравнения, используемых при __последовательном__ поиске в __отсортированном__ списке:\n",
    "\n",
    "![](seq_search_3.png)"
   ]
  },
  {
   "cell_type": "code",
   "execution_count": 33,
   "metadata": {},
   "outputs": [
    {
     "data": {
      "text/plain": [
       "[17, 20, 26, 31, 44, 54, 55, 65, 77, 93]"
      ]
     },
     "execution_count": 33,
     "metadata": {},
     "output_type": "execute_result"
    }
   ],
   "source": [
    "ordered_test_list = sorted(test_list) \n",
    "ordered_test_list"
   ]
  },
  {
   "cell_type": "code",
   "execution_count": 34,
   "metadata": {},
   "outputs": [
    {
     "name": "stdout",
     "output_type": "stream",
     "text": [
      "False\n",
      "True\n"
     ]
    }
   ],
   "source": [
    "print(ordered_sequential_search(ordered_test_list, 53))\n",
    "print(ordered_sequential_search(ordered_test_list, 54))"
   ]
  },
  {
   "cell_type": "markdown",
   "metadata": {},
   "source": [
    "### Бинарный поиск"
   ]
  },
  {
   "cell_type": "markdown",
   "metadata": {},
   "source": [
    "Пример проведения двоичного посика в отсортированном списке целых чисел:\n",
    "\n",
    "![](seq_search_4.png)"
   ]
  },
  {
   "cell_type": "code",
   "execution_count": 43,
   "metadata": {},
   "outputs": [],
   "source": [
    "def binary_search(a_list, item):\n",
    "    first = 0\n",
    "    last = len(a_list) - 1\n",
    "\n",
    "    while first <= last:\n",
    "        midpoint = (first + last) // 2\n",
    "#         print(a_list[first:last+1], midpoint, a_list[midpoint])        \n",
    "        if a_list[midpoint] == item:\n",
    "            return True\n",
    "        else:\n",
    "            if item < a_list[midpoint]:\n",
    "                last = midpoint - 1\n",
    "            else:\n",
    "                first = midpoint + 1\n",
    "    return False"
   ]
  },
  {
   "cell_type": "code",
   "execution_count": 44,
   "metadata": {},
   "outputs": [
    {
     "data": {
      "text/plain": [
       "[17, 20, 26, 31, 44, 54, 55, 65, 77, 93]"
      ]
     },
     "execution_count": 44,
     "metadata": {},
     "output_type": "execute_result"
    }
   ],
   "source": [
    "ordered_test_list"
   ]
  },
  {
   "cell_type": "code",
   "execution_count": 45,
   "metadata": {},
   "outputs": [
    {
     "name": "stdout",
     "output_type": "stream",
     "text": [
      "[17, 20, 26, 31, 44, 54, 55, 65, 77, 93] 4 44\n",
      "[54, 55, 65, 77, 93] 7 65\n",
      "[54, 55] 5 54\n",
      "True\n"
     ]
    }
   ],
   "source": [
    "print(binary_search(ordered_test_list, 54))"
   ]
  },
  {
   "cell_type": "code",
   "execution_count": 46,
   "metadata": {},
   "outputs": [
    {
     "name": "stdout",
     "output_type": "stream",
     "text": [
      "[17, 20, 26, 31, 44, 54, 55, 65, 77, 93] 4 44\n",
      "[54, 55, 65, 77, 93] 7 65\n",
      "[54, 55] 5 54\n",
      "False\n"
     ]
    }
   ],
   "source": [
    "print(binary_search(ordered_test_list, 53))"
   ]
  },
  {
   "cell_type": "markdown",
   "metadata": {},
   "source": [
    "Сравнение количества оставшихся для рассмотрения элементов в зависимости от количества выполненных операций сравнения:\n",
    "\n",
    "![](seq_search_5.png)"
   ]
  },
  {
   "cell_type": "markdown",
   "metadata": {},
   "source": [
    "Бинарный поиск в отсортированном списке имеет сложность $O(\\ln n)$."
   ]
  },
  {
   "cell_type": "markdown",
   "metadata": {},
   "source": [
    "* Отдельная задача: поиск строк (поиск подстрок)"
   ]
  },
  {
   "cell_type": "markdown",
   "metadata": {},
   "source": [
    "## Сортировка"
   ]
  },
  {
   "cell_type": "markdown",
   "metadata": {},
   "source": [
    "Формулировка задачи сортировки:\n",
    "* Имеется последовательность однотипных записей, одно из полей которых выбрано в качестве ключевого (ключ сортировки). \n",
    "* Тип данных ключа должен включать операции сравнения (\"==\", \"<\", и производных от них \">\", \">=\", \"<=\").\n",
    "* Требуется преобразовать исходную последовательность в последовательность, содержащую те же записи, но в порядке возрастания (или убывания) значений ключа. "
   ]
  },
  {
   "cell_type": "markdown",
   "metadata": {},
   "source": [
    "Принято различать два типа сортировки: \n",
    "* внутренняя сортировка, в которой предполагается, что данные находятся в оперативной памяти, и важно оптимизировать число действий программы (для методов, основанных на сравнении, число сравнений, обменов элементов и пр.) \n",
    "* внешняя, в которой данные хранятся на внешнем устройстве с медленным доступом (магнитные лента, барабан, диск) и прежде всего надо снизить число обращений к этому устройству. "
   ]
  },
  {
   "cell_type": "markdown",
   "metadata": {},
   "source": [
    "Классификация основных методов сортировки:\n",
    "\n",
    "![](sort_1.png)"
   ]
  },
  {
   "cell_type": "markdown",
   "metadata": {},
   "source": [
    "## Простые методы сортировки"
   ]
  },
  {
   "cell_type": "markdown",
   "metadata": {},
   "source": [
    "### Обменные сортировки (Bubble Sort)"
   ]
  },
  {
   "cell_type": "markdown",
   "metadata": {},
   "source": [
    "Алгоритм прямого обмена основывается на сравнении и смене позиций пары соседних элементов. Процесс продолжается до тех \n",
    "пор, пока не будут упорядочены все элементы."
   ]
  },
  {
   "cell_type": "markdown",
   "metadata": {},
   "source": [
    "Пример первого прохода алгоритма сортировки пузырьком:\n",
    "\n",
    "![](sort_2.png)"
   ]
  },
  {
   "cell_type": "code",
   "execution_count": 47,
   "metadata": {},
   "outputs": [],
   "source": [
    "# Сортировка пузырьком:\n",
    "def bubble_sort(a_list):\n",
    "    for pass_num in range(len(a_list) - 1, 0, -1):\n",
    "        for i in range(pass_num):\n",
    "            if a_list[i] > a_list[i + 1]:\n",
    "                temp = a_list[i]\n",
    "                a_list[i] = a_list[i + 1]\n",
    "                a_list[i + 1] = temp\n",
    "    return a_list"
   ]
  },
  {
   "cell_type": "code",
   "execution_count": 48,
   "metadata": {},
   "outputs": [
    {
     "data": {
      "text/plain": [
       "[54, 26, 93, 17, 77, 31, 44, 55, 20, 65]"
      ]
     },
     "execution_count": 48,
     "metadata": {},
     "output_type": "execute_result"
    }
   ],
   "source": [
    "test_list"
   ]
  },
  {
   "cell_type": "code",
   "execution_count": 49,
   "metadata": {},
   "outputs": [
    {
     "data": {
      "text/plain": [
       "[17, 20, 26, 31, 44, 54, 55, 65, 77, 93]"
      ]
     },
     "execution_count": 49,
     "metadata": {},
     "output_type": "execute_result"
    }
   ],
   "source": [
    "bubble_sort(list(test_list))"
   ]
  },
  {
   "cell_type": "code",
   "execution_count": 50,
   "metadata": {},
   "outputs": [],
   "source": [
    "# Сортировка пузырьком:\n",
    "def bubble_sort_2(a_list):\n",
    "    for pass_num in range(len(a_list) - 1, 0, -1):\n",
    "        flag = False\n",
    "        for i in range(pass_num):\n",
    "            if a_list[i] > a_list[i + 1]:\n",
    "                temp = a_list[i]\n",
    "                a_list[i] = a_list[i + 1]\n",
    "                a_list[i + 1] = temp\n",
    "                flag = True\n",
    "        if not flag:\n",
    "            return a_list"
   ]
  },
  {
   "cell_type": "code",
   "execution_count": 51,
   "metadata": {},
   "outputs": [
    {
     "data": {
      "text/plain": [
       "[17, 20, 26, 31, 44, 54, 55, 65, 77, 93]"
      ]
     },
     "execution_count": 51,
     "metadata": {},
     "output_type": "execute_result"
    }
   ],
   "source": [
    "bubble_sort_2(list(test_list))"
   ]
  },
  {
   "cell_type": "markdown",
   "metadata": {},
   "source": [
    "Алгоритм имеет среднюю и максимальную временные сложности $O(n^2)$ (два вложенных цикла, зависящих от n линейно). Введение переменной Flag и прерывание работы в случае отсортированного массива позволяет свести минимальную временную сложность к $O(n)$. Отметим одну особенность приведенного алгоритма: легкий пузырек снизу поднимется наверх за один проход, тяжелые пузырьки опускаются с минимальной скоростью: один шаг за итерацию. "
   ]
  },
  {
   "cell_type": "markdown",
   "metadata": {},
   "source": [
    "### Сортировка выбором (извлечением) (Selection Sort)"
   ]
  },
  {
   "cell_type": "markdown",
   "metadata": {},
   "source": [
    "Массив делится на уже отсортированную часть: \n",
    "\n",
    "$A_{i+1}, A_{i+2} … {А_n}$ \n",
    "\n",
    "и неотсортированную: \n",
    " \n",
    "$A_1, A_2, … ,A_i$.\n",
    "\n",
    "На каждом шаге извлекается максимальный элемент из неотсортированной части и ставится в начало отсортированной части. Оптимизация по сравнению с сортировкой пузырьком происходит за счет выполнения только одного обмена за каждый проход через список. В результате каждого прохода находится наибольшее значение в неотсортированной части и устанавливается в корректное место отсортированного фрагмента массива."
   ]
  },
  {
   "cell_type": "markdown",
   "metadata": {},
   "source": [
    "Пример работы алгоритма сортировки выбором:\n",
    "\n",
    "![](sort_3.png)"
   ]
  },
  {
   "cell_type": "code",
   "execution_count": 52,
   "metadata": {},
   "outputs": [],
   "source": [
    "def selection_sort(a_list):\n",
    "    for fill_slot in range(len(a_list) - 1, 0, -1):\n",
    "        pos_of_max = 0\n",
    "        for location in range(1, fill_slot + 1):\n",
    "            if a_list[location] > a_list[pos_of_max]:\n",
    "                pos_of_max = location\n",
    "\n",
    "        temp = a_list[fill_slot]\n",
    "        a_list[fill_slot] = a_list[pos_of_max]\n",
    "        a_list[pos_of_max] = temp\n",
    "        # Реализацию можно улучшить!\n",
    "    return a_list"
   ]
  },
  {
   "cell_type": "code",
   "execution_count": 53,
   "metadata": {},
   "outputs": [
    {
     "data": {
      "text/plain": [
       "[54, 26, 93, 17, 77, 31, 44, 55, 20, 65]"
      ]
     },
     "execution_count": 53,
     "metadata": {},
     "output_type": "execute_result"
    }
   ],
   "source": [
    "test_list"
   ]
  },
  {
   "cell_type": "code",
   "execution_count": 54,
   "metadata": {},
   "outputs": [
    {
     "data": {
      "text/plain": [
       "[17, 20, 26, 31, 44, 54, 55, 65, 77, 93]"
      ]
     },
     "execution_count": 54,
     "metadata": {},
     "output_type": "execute_result"
    }
   ],
   "source": [
    "selection_sort(list(test_list))"
   ]
  },
  {
   "cell_type": "markdown",
   "metadata": {},
   "source": [
    "С учетом того, что количество рассматриваемых на очередном шаге элементов уменьшается на единицу, общее количество операций: \n",
    "\n",
    "$(n-1) + (n-2) + (n-3) +... + 1 = 1/2 (n-1)(n-1+1)= 1/2(n^2-n) = O(n^2)$. \n",
    "\n",
    "По сравнению с обменной сортировкой:\n",
    "* (+) существенно меньше перестановок элементов $O(n)$ по сравнению $O(n^2)$\n",
    "* (-) нет возможности быстро отсортировать почти отсортированный массив\n",
    "\n",
    "Естественной идеей улучшения алгоритма выбором является идея использования информации, полученной при сравнении элементов при поиске максимального (минимального) элемента на предыдущих шагах. \n",
    "\n",
    "В общем случае, если n – точный квадрат, можно разделить массив на $\\sqrt{n}$ групп по $\\sqrt{n}$ элементов и находить максимальный элемент в каждой подгруппе. Любой выбор, кроме первого, требует не более чем $\\sqrt{n-2}$ сравнений внутри группы ранее выбранного элемента плюс $\\sqrt{n-1}$ сравнений среди \"лидеров групп“. Этот метод получил название квадратичный выбор общее время его работы составляет порядка $O(n\\sqrt{n})$ что существенно лучше, чем $O(n^2)$. "
   ]
  },
  {
   "cell_type": "markdown",
   "metadata": {},
   "source": [
    "### Сортировка включением (вставками) (Insertion Sort)"
   ]
  },
  {
   "cell_type": "markdown",
   "metadata": {},
   "source": [
    "Массив делится на 2 части: отсортированную и неотсортированную. На каждом шаге берется очередной элемент из неотсортированной части и включается в отсортированную. Простое включение предполагает, что отсортировано начало массива $A_1, A_2, … ,A_{i-1}$, остаток массива $A_i,…,A_n$ – неотсортирован. На очередном шаге $A_i$ включается в отсортированную часть на соответствующее место. "
   ]
  },
  {
   "cell_type": "markdown",
   "metadata": {},
   "source": [
    "Пример работы алгоритма сортировки включением:\n",
    "\n",
    "![](sort_4.png)"
   ]
  },
  {
   "cell_type": "markdown",
   "metadata": {},
   "source": [
    "Пример работы 5го прохода алгоритма сортировки включением:\n",
    "\n",
    "![](sort_5.png)"
   ]
  },
  {
   "cell_type": "code",
   "execution_count": 55,
   "metadata": {},
   "outputs": [],
   "source": [
    "def insertion_sort(a_list):\n",
    "    for index in range(1, len(a_list)):\n",
    "\n",
    "        current_value = a_list[index]\n",
    "        position = index\n",
    "\n",
    "        while position > 0 and a_list[position - 1] > current_value:\n",
    "            a_list[position] = a_list[position - 1]\n",
    "            position -= 1\n",
    "\n",
    "        a_list[position] = current_value\n",
    "    return a_list"
   ]
  },
  {
   "cell_type": "code",
   "execution_count": 56,
   "metadata": {},
   "outputs": [
    {
     "data": {
      "text/plain": [
       "[54, 26, 93, 17, 77, 31, 44, 55, 20, 65]"
      ]
     },
     "execution_count": 56,
     "metadata": {},
     "output_type": "execute_result"
    }
   ],
   "source": [
    "test_list"
   ]
  },
  {
   "cell_type": "code",
   "execution_count": 57,
   "metadata": {},
   "outputs": [
    {
     "data": {
      "text/plain": [
       "[17, 20, 26, 31, 44, 54, 55, 65, 77, 93]"
      ]
     },
     "execution_count": 57,
     "metadata": {},
     "output_type": "execute_result"
    }
   ],
   "source": [
    "insertion_sort(list(test_list))"
   ]
  },
  {
   "cell_type": "markdown",
   "metadata": {},
   "source": [
    "Алгоритм имеет сложность $O(n^2)$, но в случае исходно отсортированного массива внутренний цикл не будет выполняться ни разу, поэтому метод имеет в этом случае временную сложность $O(n)$.\n",
    "\n",
    "* (+) является эффективным алгоритмом для маленьких наборов данных\n",
    "* (+) на практике более эффективен, чем остальные простые квадратичные сортировки "
   ]
  },
  {
   "cell_type": "markdown",
   "metadata": {},
   "source": [
    "## Эффективные методы сортировки"
   ]
  },
  {
   "cell_type": "markdown",
   "metadata": {},
   "source": [
    "###  Сортировка Шелла (Shell Sort)"
   ]
  },
  {
   "cell_type": "markdown",
   "metadata": {},
   "source": [
    "Сортировка Шелла (Donald Shell, 1959г.) является модификацией алгоритма сортировки включением, которая состоит в следующем: вместо включения A[i] в подмассив предшествующих ему элементов, его включают в подсписок, содержащий элементы A[i-h], A[i-2h], A[i-3h] и тд, где h – положительная константа. Таким образом, формируется массив, в котором «h-серии» элементов, отстоящих друг от друга на h, сортируются отдельно. Процесс возобновляется с новым значением h, меньшим предыдущего. И так до тех пор, пока не будет достигнуто значение h=1. "
   ]
  },
  {
   "cell_type": "markdown",
   "metadata": {},
   "source": [
    "Пример работы сортировки Шелла (разбиение исходного массива с шагом 3):\n",
    "\n",
    "![](sort_6.png)"
   ]
  },
  {
   "cell_type": "markdown",
   "metadata": {},
   "source": [
    "Пример работы сортировки Шелла с шагом 3 (после сортировки каждого подсписка):\n",
    "\n",
    "![](sort_7.png)"
   ]
  },
  {
   "cell_type": "markdown",
   "metadata": {},
   "source": [
    "Пример работы последней стадии сортировки Шелла с шагом 1 (сортировка вставкой):\n",
    "\n",
    "![](sort_8.png)"
   ]
  },
  {
   "cell_type": "markdown",
   "metadata": {},
   "source": [
    "Пример работы сортировки Шелла (разбиение исходго массива с шагом 3):\n",
    "\n",
    "![](sort_9.png)"
   ]
  },
  {
   "cell_type": "code",
   "execution_count": 63,
   "metadata": {},
   "outputs": [],
   "source": [
    "# Модификация сортировки вставкой для подмассива с шагом gap и смещением start:\n",
    "def gap_insertion_sort(a_list, start, gap):\n",
    "    for i in range(start + gap, len(a_list), gap):\n",
    "        current_value = a_list[i]\n",
    "        position = i\n",
    "        \n",
    "        while position >= gap and a_list[position - gap] > current_value:\n",
    "            a_list[position] = a_list[position - gap]\n",
    "            position = position - gap\n",
    "\n",
    "        a_list[position] = current_value        "
   ]
  },
  {
   "cell_type": "code",
   "execution_count": 64,
   "metadata": {},
   "outputs": [],
   "source": [
    "def shell_sort(a_list):\n",
    "    sublist_count = len(a_list) // 2\n",
    "    while sublist_count > 0:\n",
    "        for start_position in range(sublist_count):\n",
    "            gap_insertion_sort(a_list, start_position, sublist_count)\n",
    "\n",
    "        print(\"After inc. of size\", sublist_count, \"Lst:\", a_list)\n",
    "\n",
    "        sublist_count = sublist_count // 2"
   ]
  },
  {
   "cell_type": "code",
   "execution_count": 67,
   "metadata": {},
   "outputs": [
    {
     "data": {
      "text/plain": [
       "([54, 26, 93, 17, 77, 31, 44, 55, 20, 65], 10)"
      ]
     },
     "execution_count": 67,
     "metadata": {},
     "output_type": "execute_result"
    }
   ],
   "source": [
    "test_list, len(test_list)"
   ]
  },
  {
   "cell_type": "code",
   "execution_count": 66,
   "metadata": {
    "scrolled": false
   },
   "outputs": [
    {
     "name": "stdout",
     "output_type": "stream",
     "text": [
      "After inc. of size 5 Lst: [31, 26, 55, 17, 65, 54, 44, 93, 20, 77]\n",
      "After inc. of size 2 Lst: [20, 17, 31, 26, 44, 54, 55, 77, 65, 93]\n",
      "After inc. of size 1 Lst: [17, 20, 26, 31, 44, 54, 55, 65, 77, 93]\n"
     ]
    }
   ],
   "source": [
    "shell_sort(list(test_list))"
   ]
  },
  {
   "cell_type": "markdown",
   "metadata": {},
   "source": [
    "Для достаточно больших массивов рекомендуемой считается такая последовательность, что \n",
    "\n",
    "$$h_{i+1}=3h_i+1, h_1=1$$ \n",
    "\n",
    "получается последовательность : 1, 4, 13, 40, 121…($h_{i+1}=3h_i+1$)\n",
    "\n",
    "Начинается процесс с $h_{m-2}$, такого, что: $$h_{m-2} ≥ [n / 9]$$\n"
   ]
  },
  {
   "cell_type": "markdown",
   "metadata": {},
   "source": [
    "Временная сложность для алгоритма Шелла – $O (n^{4/3})$ и $\\Theta (n^{7/6})$, среднее число перемещений ~ $1,66n^{1,25}$. \n",
    "\n",
    "Количество перестановок элементов по результатам экспериментов со случайным массивом иллюстрируется следующей таблицей. \n",
    "\n",
    "![](sort_10.png)"
   ]
  },
  {
   "cell_type": "markdown",
   "metadata": {},
   "source": [
    "## Быстрая сортировка (Quick Sort)"
   ]
  },
  {
   "cell_type": "markdown",
   "metadata": {},
   "source": [
    "Быстрая сортировка – это алгоритм сортировки, время работы которого для входного массива из n чисел в наихудшем случае равно $O(n^2)$. \n",
    "Несмотря на такую медленную работу в наихудшем случае, этот алгоритм на практике зачастую оказывается оптимальным благодаря тому, что в среднем время его работы намного лучше: $O (n \\ln n)$. Кроме того, постоянные множители, не учтенные в выражении $O (n \\ln n)$, достаточно малы по величине. \n",
    "Алгоритм обладает также тем преимуществом, что сортировка в нем выполняется без использования дополнительной памяти, поэтому он хорошо работает даже в средах с виртуальной памятью. "
   ]
  },
  {
   "cell_type": "markdown",
   "metadata": {},
   "source": [
    "Алгоритм быстрой сортировки является реализацией парадигмы «разделяй и властвуй». Разделение исходного массива осуществляется по следующему принципу: \n",
    "\n",
    "1. Выбрать наугад какой-либо элемент массива – х \n",
    "2. Просмотреть массив слева направо, пока не обнаружим элемент $A_i$ > x \n",
    "3. Просмотреть массив справа налево, пока не встретим $A_i$ < х \n",
    "4. Поменять местами эти два элемента \n",
    "5. Процесс просмотра и обмена продолжается, пока указатели обоих просмотров не встретятся "
   ]
  },
  {
   "cell_type": "markdown",
   "metadata": {},
   "source": [
    "Пример работы быстрой сортировки (выбор элемента для разделения массива):\n",
    "\n",
    "![](sort_11.png)"
   ]
  },
  {
   "cell_type": "markdown",
   "metadata": {},
   "source": [
    "Пример работы быстрой сортировки (разделения массива на две части: со значениями меньшими и большими, чем у разделяющего элемента):\n",
    "\n",
    "![](sort_12.png)"
   ]
  },
  {
   "cell_type": "markdown",
   "metadata": {},
   "source": [
    "Пример работы быстрой сортировки (подготовка к рекурсивному вызову сортировки двух подмассивов):\n",
    "\n",
    "![](sort_13.png)"
   ]
  },
  {
   "cell_type": "code",
   "execution_count": 82,
   "metadata": {},
   "outputs": [],
   "source": [
    "def quick_sort(a_list):\n",
    "    quick_sort_helper(a_list, 0, len(a_list) - 1)\n",
    "    return a_list\n",
    "\n",
    "def quick_sort_helper(a_list, first, last):\n",
    "    if first < last:\n",
    "\n",
    "        split_point = partition(a_list, first, last)\n",
    "#         print(a_list[first:split_point-1+1], a_list[split_point], a_list[split_point + 1:last+1])\n",
    "        \n",
    "        quick_sort_helper(a_list, first, split_point - 1)\n",
    "        quick_sort_helper(a_list, split_point + 1, last)\n",
    "\n",
    "def partition(a_list, first, last):\n",
    "    pivot_value = a_list[first]\n",
    "\n",
    "    left_mark = first + 1\n",
    "    right_mark = last\n",
    "\n",
    "    done = False\n",
    "    while not done:\n",
    "\n",
    "        while left_mark <= right_mark and a_list[left_mark] <= pivot_value:\n",
    "            left_mark = left_mark + 1\n",
    "\n",
    "        while a_list[right_mark] >= pivot_value and right_mark >= left_mark:\n",
    "            right_mark = right_mark - 1\n",
    "\n",
    "        if right_mark < left_mark:\n",
    "            done = True\n",
    "        else:\n",
    "            temp = a_list[left_mark]\n",
    "            a_list[left_mark] = a_list[right_mark]\n",
    "            a_list[right_mark] = temp\n",
    "\n",
    "    temp = a_list[first]\n",
    "    a_list[first] = a_list[right_mark]\n",
    "    a_list[right_mark] = temp\n",
    "\n",
    "    return right_mark            "
   ]
  },
  {
   "cell_type": "code",
   "execution_count": 83,
   "metadata": {},
   "outputs": [
    {
     "data": {
      "text/plain": [
       "[54, 26, 93, 17, 77, 31, 44, 55, 20, 65]"
      ]
     },
     "execution_count": 83,
     "metadata": {},
     "output_type": "execute_result"
    }
   ],
   "source": [
    "test_list"
   ]
  },
  {
   "cell_type": "code",
   "execution_count": 84,
   "metadata": {
    "scrolled": true
   },
   "outputs": [
    {
     "name": "stdout",
     "output_type": "stream",
     "text": [
      "[31, 26, 20, 17, 44] 54 [77, 55, 93, 65]\n",
      "[17, 26, 20] 31 [44]\n",
      "[] 17 [26, 20]\n",
      "[20] 26 []\n",
      "[65, 55] 77 [93]\n",
      "[55] 65 []\n"
     ]
    },
    {
     "data": {
      "text/plain": [
       "[17, 20, 26, 31, 44, 54, 55, 65, 77, 93]"
      ]
     },
     "execution_count": 84,
     "metadata": {},
     "output_type": "execute_result"
    }
   ],
   "source": [
    "quick_sort(list(test_list))"
   ]
  },
  {
   "cell_type": "markdown",
   "metadata": {},
   "source": [
    "Ожидаемое число обменов в быстром алгоритме – $(n-1)/6$, общее число сравнений $n \\ln n$. Наихудший случай – в качестве элемента для разбиения x выбирается наибольшее из всех значений в указанной области, т.е. левая часть состоит из $n-1$ элементов, а правая из 1, тогда временная сложность становится пропорциональна $n^2$. "
   ]
  },
  {
   "cell_type": "markdown",
   "metadata": {},
   "source": [
    "## Сортировка слиянием (Merge Sort)"
   ]
  },
  {
   "cell_type": "markdown",
   "metadata": {},
   "source": [
    "Многие полезные алгоритмы имеют рекурсивную структуру: для решения данной задачи они рекурсивно вызывают сами себя один или несколько раз, чтобы решить вспомогательную задачу, имеющую непосредственное отношение к поставленной задаче. Такие алгоритмы зачастую разрабатываются с помощью метода декомпозиции, или разбиения: \n",
    "* сложная задача разбивается на несколько более простых, которые подобны исходной задаче, но имеют меньший объем;\n",
    "* далее эти вспомогательные задачи решаются рекурсивным методом, после чего полученные решения комбинируются с целью получить решение исходной задачи. \n",
    "\n",
    "Парадигма, лежащая в основе метода декомпозиции «разделяй и властвуй», на каждом уровне рекурсии включает в себя три этапа: \n",
    "1. Разделение задачи на несколько подзадач. \n",
    "2. Покорение – рекурсивное решение этих подзадач. Когда объем подзадачи достаточно мал, выделенные подзадачи решаются непосредственно. \n",
    "3. Комбинирование решения исходной задачи из решений вспомогательных задач. "
   ]
  },
  {
   "cell_type": "markdown",
   "metadata": {},
   "source": [
    "Алгоритм сортировки слиянием (merge sort) в большой степени соответствует парадигме метода разбиения. \n",
    "На интуитивном уровне его работу можно описать таким образом. \n",
    "\n",
    " __Разделение__: сортируемая последовательность, состоящая из n элементов, разбивается на две меньшие последовательности, каждая из которых содержит n/2 элементов.\n",
    "\n",
    " __Покорение__: сортировка обеих вспомогательных последовательностей методом слияния. \n",
    "\n",
    " __Комбинирование__: слияние двух отсортированных последовательностей для получения окончательного результата. \n",
    " \n",
    "Рекурсия достигает своего нижнего предела, когда длина сортируемой последовательности становится равной 1. В этом случае вся работа уже сделана, поскольку любую такую последовательность можно считать упорядоченной. \n",
    "Основная операция, которая производится в процессе сортировки по методу слияний, – это объединение двух отсортированных последовательностей в ходе комбинирования (последний этап). Это делается с помощью \n",
    "вспомогательной процедуры слияния. В этой процедуре предполагается, что элементы подмассивов упорядочены. Она сливает эти два подмассива в один отсортированный, элементы которого заменяют текущие элементы. Для выполнения этой процедуры требуется время в $O(n)$ , где $n$ – количество подлежащих слиянию элементов. \n",
    "\n",
    "Временная сложность алгоритма сортировки слиянием можно определить как $O(n \\ln n)$. "
   ]
  },
  {
   "cell_type": "markdown",
   "metadata": {},
   "source": [
    "Разбиение исходного массива в сортировке слиянием:\n",
    "\n",
    "![](sort_14.png)"
   ]
  },
  {
   "cell_type": "markdown",
   "metadata": {},
   "source": [
    "Слияние разбитого  массива в сортировке слиянием:\n",
    "\n",
    "![](sort_15.png)"
   ]
  },
  {
   "cell_type": "code",
   "execution_count": 85,
   "metadata": {},
   "outputs": [],
   "source": [
    "def merge_sort(a_list):\n",
    "    print(\"Splitting \", a_list)\n",
    "    if len(a_list) > 1:\n",
    "        mid = len(a_list) // 2\n",
    "        left_half = a_list[:mid]\n",
    "        right_half = a_list[mid:]\n",
    "\n",
    "        merge_sort(left_half)\n",
    "        merge_sort(right_half)\n",
    "\n",
    "        i = 0\n",
    "        j = 0\n",
    "        k = 0     \n",
    "        \n",
    "        while i < len(left_half) and j < len(right_half):\n",
    "            if left_half[i] < right_half[j]:\n",
    "                a_list[k] = left_half[i]\n",
    "                i += 1\n",
    "            else:\n",
    "                a_list[k] = right_half[j]\n",
    "                j += 1\n",
    "            k += 1\n",
    "\n",
    "        while i < len(left_half):\n",
    "            a_list[k] = left_half[i]\n",
    "            i += 1\n",
    "            k += 1\n",
    "\n",
    "        while j < len(right_half):\n",
    "            a_list[k] = right_half[j]\n",
    "            j += 1\n",
    "            k += 1  \n",
    "            \n",
    "        print(\"Merging \", a_list)   \n",
    "    return a_list"
   ]
  },
  {
   "cell_type": "code",
   "execution_count": 87,
   "metadata": {
    "scrolled": true
   },
   "outputs": [
    {
     "name": "stdout",
     "output_type": "stream",
     "text": [
      "Splitting  [54, 26, 93, 17, 77, 31, 44, 55, 20, 65]\n",
      "Splitting  [54, 26, 93, 17, 77]\n",
      "Splitting  [54, 26]\n",
      "Splitting  [54]\n",
      "Splitting  [26]\n",
      "Merging  [26, 54]\n",
      "Splitting  [93, 17, 77]\n",
      "Splitting  [93]\n",
      "Splitting  [17, 77]\n",
      "Splitting  [17]\n",
      "Splitting  [77]\n",
      "Merging  [17, 77]\n",
      "Merging  [17, 77, 93]\n",
      "Merging  [17, 26, 54, 77, 93]\n",
      "Splitting  [31, 44, 55, 20, 65]\n",
      "Splitting  [31, 44]\n",
      "Splitting  [31]\n",
      "Splitting  [44]\n",
      "Merging  [31, 44]\n",
      "Splitting  [55, 20, 65]\n",
      "Splitting  [55]\n",
      "Splitting  [20, 65]\n",
      "Splitting  [20]\n",
      "Splitting  [65]\n",
      "Merging  [20, 65]\n",
      "Merging  [20, 55, 65]\n",
      "Merging  [20, 31, 44, 55, 65]\n",
      "Merging  [17, 20, 26, 31, 44, 54, 55, 65, 77, 93]\n"
     ]
    },
    {
     "data": {
      "text/plain": [
       "[17, 20, 26, 31, 44, 54, 55, 65, 77, 93]"
      ]
     },
     "execution_count": 87,
     "metadata": {},
     "output_type": "execute_result"
    }
   ],
   "source": [
    "merge_sort(list(test_list))"
   ]
  },
  {
   "cell_type": "markdown",
   "metadata": {},
   "source": [
    "-------------------\n",
    "### Итоги"
   ]
  },
  {
   "cell_type": "markdown",
   "metadata": {},
   "source": [
    "Сравнение сортировок: \n",
    "\n",
    "<img src=\"animation of sorting algorithms2.gif\" alt=\"Drawing\" style=\"width: 800px;\"/>\n",
    "\n",
    "http://javarevisited.blogspot.ru/2017/02/difference-between-comparison-quicksort-and-non-comparison-counting-sort-algorithms.html\n",
    "\n",
    "http://www.cprogramming.com/tutorial/computersciencetheory/sortcomp.html\n",
    "\n",
    "https://en.wikipedia.org/wiki/Sorting_algorithm"
   ]
  },
  {
   "cell_type": "markdown",
   "metadata": {},
   "source": [
    "## Сортировка в Python"
   ]
  },
  {
   "cell_type": "code",
   "execution_count": 88,
   "metadata": {},
   "outputs": [],
   "source": [
    "colors = ['red', 'green', 'blue', 'cyan', 'magenta', 'yellow']"
   ]
  },
  {
   "cell_type": "code",
   "execution_count": 89,
   "metadata": {},
   "outputs": [
    {
     "data": {
      "text/plain": [
       "['red', 'green', 'blue', 'cyan', 'magenta', 'yellow']"
      ]
     },
     "execution_count": 89,
     "metadata": {},
     "output_type": "execute_result"
    }
   ],
   "source": [
    "colors"
   ]
  },
  {
   "cell_type": "code",
   "execution_count": 90,
   "metadata": {},
   "outputs": [],
   "source": [
    "# Встроенный метод для list (сортирует на месте):\n",
    "colors.sort() \n",
    "# This method has the effect of reordering the elements of the list into order, \n",
    "# as deﬁned by the natural meaning of the < operator for those elements"
   ]
  },
  {
   "cell_type": "code",
   "execution_count": 91,
   "metadata": {},
   "outputs": [
    {
     "data": {
      "text/plain": [
       "['blue', 'cyan', 'green', 'magenta', 'red', 'yellow']"
      ]
     },
     "execution_count": 91,
     "metadata": {},
     "output_type": "execute_result"
    }
   ],
   "source": [
    "colors"
   ]
  },
  {
   "cell_type": "code",
   "execution_count": 70,
   "metadata": {
    "collapsed": true
   },
   "outputs": [],
   "source": [
    "colors = ['red', 'green', 'blue', 'cyan', 'magenta', 'yellow']"
   ]
  },
  {
   "cell_type": "code",
   "execution_count": 92,
   "metadata": {},
   "outputs": [
    {
     "data": {
      "text/plain": [
       "['blue', 'cyan', 'green', 'magenta', 'red', 'yellow']"
      ]
     },
     "execution_count": 92,
     "metadata": {},
     "output_type": "execute_result"
    }
   ],
   "source": [
    "sorted(colors) # сортирует в новом списке"
   ]
  },
  {
   "cell_type": "code",
   "execution_count": 93,
   "metadata": {},
   "outputs": [
    {
     "data": {
      "text/plain": [
       "['blue', 'cyan', 'green', 'magenta', 'red', 'yellow']"
      ]
     },
     "execution_count": 93,
     "metadata": {},
     "output_type": "execute_result"
    }
   ],
   "source": [
    "colors"
   ]
  },
  {
   "cell_type": "code",
   "execution_count": 94,
   "metadata": {},
   "outputs": [
    {
     "data": {
      "text/plain": [
       "['red', 'blue', 'cyan', 'green', 'yellow', 'magenta']"
      ]
     },
     "execution_count": 94,
     "metadata": {},
     "output_type": "execute_result"
    }
   ],
   "source": [
    "# задание функции для определения ключа для сортировки:\n",
    "sorted(colors, key=len)"
   ]
  },
  {
   "cell_type": "markdown",
   "metadata": {},
   "source": [
    "https://docs.python.org/3/howto/sorting.html#sortinghowto"
   ]
  },
  {
   "cell_type": "markdown",
   "metadata": {},
   "source": [
    "Эффективный поиск в отсортированном списке\n",
    "\n",
    "Библиотека bisect: https://docs.python.org/3/library/bisect.html#module-bisect"
   ]
  },
  {
   "cell_type": "code",
   "execution_count": 95,
   "metadata": {},
   "outputs": [],
   "source": [
    "from bisect import bisect_left\n",
    "\n",
    "def binary_search(a, x, lo=0, hi=None):  # can't use a to specify default for hi\n",
    "    hi = hi if hi is not None else len(a)  # hi defaults to len(a)   \n",
    "    pos = bisect_left(a, x, lo, hi)  # find insertion position\n",
    "    return (pos if pos != hi and a[pos] == x else None)  # don't walk off the end"
   ]
  },
  {
   "cell_type": "code",
   "execution_count": 96,
   "metadata": {},
   "outputs": [
    {
     "data": {
      "text/plain": [
       "[17, 20, 26, 31, 44, 54, 55, 65, 77, 93]"
      ]
     },
     "execution_count": 96,
     "metadata": {},
     "output_type": "execute_result"
    }
   ],
   "source": [
    "test_list_s = sorted(test_list)\n",
    "test_list_s"
   ]
  },
  {
   "cell_type": "code",
   "execution_count": 97,
   "metadata": {},
   "outputs": [
    {
     "data": {
      "text/plain": [
       "4"
      ]
     },
     "execution_count": 97,
     "metadata": {},
     "output_type": "execute_result"
    }
   ],
   "source": [
    "binary_search(test_list_s, 44)"
   ]
  },
  {
   "cell_type": "code",
   "execution_count": 98,
   "metadata": {},
   "outputs": [
    {
     "name": "stdout",
     "output_type": "stream",
     "text": [
      "None\n"
     ]
    }
   ],
   "source": [
    "print(binary_search(test_list_s, 45))"
   ]
  },
  {
   "cell_type": "code",
   "execution_count": null,
   "metadata": {
    "collapsed": true
   },
   "outputs": [],
   "source": []
  }
 ],
 "metadata": {
  "kernelspec": {
   "display_name": "Python 3",
   "language": "python",
   "name": "python3"
  },
  "language_info": {
   "codemirror_mode": {
    "name": "ipython",
    "version": 3
   },
   "file_extension": ".py",
   "mimetype": "text/x-python",
   "name": "python",
   "nbconvert_exporter": "python",
   "pygments_lexer": "ipython3",
   "version": "3.7.6"
  }
 },
 "nbformat": 4,
 "nbformat_minor": 1
}

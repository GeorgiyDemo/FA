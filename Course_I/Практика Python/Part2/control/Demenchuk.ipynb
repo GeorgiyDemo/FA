{
 "cells": [
  {
   "cell_type": "code",
   "execution_count": 2,
   "metadata": {},
   "outputs": [
    {
     "name": "stdout",
     "output_type": "stream",
     "text": [
      "Введите x (x<=1) -> 0.34646\n",
      "Введите точность eps (например 0.0001) -> 0.000001\n",
      "[Результат ручной] 1.2372787287972207 при e = 1e-06\n",
      "[Результат с math] 1.2372786565806055\n"
     ]
    }
   ],
   "source": [
    "#Деменччук Георгий ПИ19-4 Вариант 6\n",
    "\n",
    "import math\n",
    "\n",
    "def math_calculating(x):\n",
    "    \"\"\"Математический результат\"\"\"\n",
    "\n",
    "    return_result = math.pi / 2.0 - math.atan(x)\n",
    "    return return_result\n",
    "    \n",
    "def calculating(x_input, e_input=10**-5):\n",
    "    \"\"\"Ручные вычисления\"\"\"\n",
    "    \n",
    "    #Начальные значения\n",
    "    e = e_input\n",
    "    a = x_input\n",
    "    b = 1.0\n",
    "    c = -1.0\n",
    "    result = c * a / b\n",
    "    buffer = 0\n",
    "    i = 1\n",
    "\n",
    "    #Вычисляем, пока не достигнем погрешности\n",
    "    while abs(result - buffer) > e:\n",
    "        buffer = result\n",
    "        a = a * pow(x_input,2)\n",
    "        b += 2\n",
    "        #Чередование знака\n",
    "        c = -c\n",
    "        #Добавляем результат\n",
    "        result += c * a / b\n",
    "        i += 1\n",
    "    \n",
    "    #Формируем окончательный результат \n",
    "    return_result = math.pi / 2 + result\n",
    "    return return_result\n",
    "\n",
    "\n",
    "def main():\n",
    "    \"\"\"Основная логика с вызовом\"\"\"\n",
    "\n",
    "    while True:\n",
    "        try:\n",
    "            x = float(input('Введите x (x<=1) -> '))\n",
    "            e = float(input('Введите точность eps (например 0.0001) -> '))\n",
    "            break\n",
    "        except ValueError:\n",
    "            print('Неверный ввод!')\n",
    "\n",
    "    print(\"[Результат ручной] {} при e = {}\".format(calculating(x,e), e))\n",
    "    print(\"[Результат с math] {}\".format(math_calculating(x)))\n",
    "\n",
    "if __name__ == '__main__':\n",
    "    main()"
   ]
  },
  {
   "cell_type": "code",
   "execution_count": null,
   "metadata": {},
   "outputs": [],
   "source": []
  }
 ],
 "metadata": {
  "kernelspec": {
   "display_name": "Python 3",
   "language": "python",
   "name": "python3"
  },
  "language_info": {
   "codemirror_mode": {
    "name": "ipython",
    "version": 3
   },
   "file_extension": ".py",
   "mimetype": "text/x-python",
   "name": "python",
   "nbconvert_exporter": "python",
   "pygments_lexer": "ipython3",
   "version": "3.7.7"
  }
 },
 "nbformat": 4,
 "nbformat_minor": 4
}

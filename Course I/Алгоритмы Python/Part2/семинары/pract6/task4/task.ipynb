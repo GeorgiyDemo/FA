{
 "cells": [
  {
   "cell_type": "markdown",
   "metadata": {},
   "source": [
    "# Задание 4"
   ]
  },
  {
   "cell_type": "markdown",
   "metadata": {},
   "source": [
    "Деменчук Георгий ПИ19-4"
   ]
  },
  {
   "cell_type": "markdown",
   "metadata": {},
   "source": [
    "Выполнить программную реализацию и сравнительный анализ быстродействия поиска элементов с помощью бинарного дерева в заданном массиве элементов: 81 77 79 68 10 12 13 20 15 24 27 42 33 51 57.\n",
    "\n",
    "Для этого:\n",
    "1. Реализовать представление данных с помощью бинарного дерева;\n",
    "2. Реализовать поиск элементов в массиве с учетом времени на поиск\n",
    "3. Реализовать поиск элемента в бинарном дереве с учетом времени на\n",
    "поиск\n",
    "4. Реализовать поиск элементов в отсортированном массиве с учетом\n",
    "времени на поиск\n",
    "5. Провести сравнительный анализ представления данных в трех\n",
    "программных реализациях."
   ]
  },
  {
   "cell_type": "markdown",
   "metadata": {},
   "source": [
    "##  Программная реализация"
   ]
  },
  {
   "cell_type": "code",
   "execution_count": 1,
   "metadata": {},
   "outputs": [],
   "source": [
    "from sortedbinarytree_module import SortedTree\n",
    "from array import array\n",
    "import timeit\n",
    "import random"
   ]
  },
  {
   "cell_type": "code",
   "execution_count": 2,
   "metadata": {},
   "outputs": [],
   "source": [
    "\n",
    "def search_arr(a, search_e):\n",
    "    \"\"\"Реализовать поиск элементов в массиве с учетом времени на поиск\"\"\"\n",
    "    for e in a:\n",
    "        if search_e == e:\n",
    "            print(\"Элемент найден\")\n",
    "            break\n",
    "    else:\n",
    "        print(\"Элемент не найден\")\n",
    "\n",
    "def search_tree(thistree, search_e):\n",
    "    \"\"\"Реализовать поиск элемента в бинарном дереве с учетом времени на поиск\"\"\"\n",
    "    \n",
    "    #print(thistree)\n",
    "    #Если есть результат\n",
    "    if thistree is None:\n",
    "        print(\"Элемент не найден\")\n",
    "        return\n",
    "    \n",
    "    elif thistree.get_root_val() == search_e:\n",
    "        print(\"Элемент найден\")\n",
    "        return\n",
    "    \n",
    "    #Если значение меньше - идем влево\n",
    "    elif search_e < thistree.get_root_val():\n",
    "        search_tree(thistree.get_left_child(),search_e)\n",
    "    \n",
    "    #Если значение больше или равно - идем вправо\n",
    "    elif search_e >= thistree.get_root_val():\n",
    "        search_tree(thistree.get_right_child(),search_e)\n",
    "    \n",
    "    \n",
    "    #Если что-то аномальное\n",
    "    else:\n",
    "        raise ValueError(\"Что-то странное сейчас произошло\")"
   ]
  },
  {
   "cell_type": "code",
   "execution_count": 3,
   "metadata": {},
   "outputs": [],
   "source": [
    "#Элемент для поиска\n",
    "search_e = 42\n",
    "items = array(\"i\", [81, 77, 79, 68, 10, 12, 13, 20, 15, 24, 27, 42, 33, 51, 57])"
   ]
  },
  {
   "cell_type": "markdown",
   "metadata": {},
   "source": [
    "### Представление данных с помощью бинарного дерева"
   ]
  },
  {
   "cell_type": "code",
   "execution_count": 4,
   "metadata": {},
   "outputs": [
    {
     "name": "stdout",
     "output_type": "stream",
     "text": [
      "\n",
      "                                      ____81\n",
      "                                     /\n",
      "                                   _77\n",
      "                                  /   \\\n",
      "  _______________________________68    79\n",
      " /\n",
      "10\n",
      "  \\\n",
      "   12\n",
      "     \\\n",
      "      13___\n",
      "           \\\n",
      "           _20\n",
      "          /   \\\n",
      "         15    24\n",
      "                 \\\n",
      "                  27___\n",
      "                       \\\n",
      "                       _42\n",
      "                      /   \\\n",
      "                     33    51\n",
      "                             \\\n",
      "                              57\n",
      "\n"
     ]
    }
   ],
   "source": [
    "tree = SortedTree()\n",
    "for value in items:\n",
    "    tree.push(value)\n",
    "\n",
    "print(tree)"
   ]
  },
  {
   "cell_type": "markdown",
   "metadata": {},
   "source": [
    "### Поиск элементов в массиве с учетом времени на поиск"
   ]
  },
  {
   "cell_type": "code",
   "execution_count": 15,
   "metadata": {},
   "outputs": [
    {
     "name": "stdout",
     "output_type": "stream",
     "text": [
      "Поиск элементов в массиве\n",
      "Элемент найден\n",
      "Время: 0.0003561959999984765\n"
     ]
    }
   ],
   "source": [
    "print(\"Поиск элементов в массиве\")\n",
    "a = timeit.default_timer()\n",
    "search_arr(items,search_e)\n",
    "print(\"Время: {}\".format(timeit.default_timer() - a))\n"
   ]
  },
  {
   "cell_type": "markdown",
   "metadata": {},
   "source": [
    "### Поиск элемента в бинарном дереве с учетом времени на поиск"
   ]
  },
  {
   "cell_type": "code",
   "execution_count": 19,
   "metadata": {
    "scrolled": true
   },
   "outputs": [
    {
     "name": "stdout",
     "output_type": "stream",
     "text": [
      "Поиск элементов в бинарном дереве\n",
      "Элемент найден\n",
      "Время: 0.0001468999999971743\n"
     ]
    }
   ],
   "source": [
    "print(\"Поиск элементов в бинарном дереве\")\n",
    "a = timeit.default_timer()\n",
    "search_tree(tree.root, search_e)\n",
    "print(\"Время: {}\".format(timeit.default_timer() - a))"
   ]
  },
  {
   "cell_type": "markdown",
   "metadata": {},
   "source": [
    "### Поиск элементов в отсортированном массиве с учетом времени на поиск"
   ]
  },
  {
   "cell_type": "code",
   "execution_count": 16,
   "metadata": {},
   "outputs": [
    {
     "name": "stdout",
     "output_type": "stream",
     "text": [
      "Поиск элементов в отсортированном массиве\n",
      "Элемент найден\n",
      "Время: 0.00027600199999966435\n"
     ]
    }
   ],
   "source": [
    "print(\"Поиск элементов в отсортированном массиве\")\n",
    "items2 = sorted(list(items))\n",
    "items2 = array(\"i\",items2)\n",
    "a = timeit.default_timer()\n",
    "search_arr(items2,search_e)\n",
    "print(\"Время: {}\".format(timeit.default_timer() - a))"
   ]
  },
  {
   "cell_type": "code",
   "execution_count": null,
   "metadata": {},
   "outputs": [],
   "source": []
  }
 ],
 "metadata": {
  "kernelspec": {
   "display_name": "Python 3",
   "language": "python",
   "name": "python3"
  },
  "language_info": {
   "codemirror_mode": {
    "name": "ipython",
    "version": 3
   },
   "file_extension": ".py",
   "mimetype": "text/x-python",
   "name": "python",
   "nbconvert_exporter": "python",
   "pygments_lexer": "ipython3",
   "version": "3.9.5"
  }
 },
 "nbformat": 4,
 "nbformat_minor": 4
}

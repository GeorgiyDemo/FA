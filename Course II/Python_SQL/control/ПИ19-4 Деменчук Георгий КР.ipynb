{
 "cells": [
  {
   "cell_type": "markdown",
   "id": "3e832b82",
   "metadata": {},
   "source": [
    "ПИ19-4 Деменчук Георгий КР"
   ]
  },
  {
   "cell_type": "markdown",
   "id": "fcb37883",
   "metadata": {},
   "source": [
    "### 1. Создайте отображение базы данных студентов *Students_2021.sqlite*"
   ]
  },
  {
   "cell_type": "code",
   "execution_count": 203,
   "id": "00569821",
   "metadata": {},
   "outputs": [],
   "source": [
    "from sqlalchemy.ext.automap import automap_base\n",
    "from sqlalchemy.orm import Session\n",
    "from sqlalchemy import create_engine\n",
    "from datetime import datetime\n",
    "engine = create_engine('sqlite:///Students_2021.sqlite')\n",
    "Base = automap_base()\n",
    "Base.prepare(engine, reflect=True)\n",
    "session = Session(engine)"
   ]
  },
  {
   "cell_type": "markdown",
   "id": "8c9f7bae",
   "metadata": {},
   "source": [
    "### 2. Напишите запрос, позволяющий получить из таблицы *exam_marks* значения столбца *mark* (экзаменационная оценка) для всех студентов, исключив из списка повторение одинаковых строк."
   ]
  },
  {
   "cell_type": "code",
   "execution_count": 204,
   "id": "6d623177",
   "metadata": {},
   "outputs": [],
   "source": [
    "city,exam_marks,student,university,subject,lecturer,subj_lect = Base.classes.values()"
   ]
  },
  {
   "cell_type": "code",
   "execution_count": 205,
   "id": "936ea44f",
   "metadata": {},
   "outputs": [],
   "source": [
    "from sqlalchemy.orm import Session\n",
    "session = Session(engine)"
   ]
  },
  {
   "cell_type": "code",
   "execution_count": 206,
   "id": "69b387a2",
   "metadata": {},
   "outputs": [
    {
     "name": "stdout",
     "output_type": "stream",
     "text": [
      "1\n",
      "4\n",
      "3\n",
      "5\n",
      "2\n",
      "None\n"
     ]
    }
   ],
   "source": [
    "for item in session.query(exam_marks.mark).distinct().all():\n",
    "    print(item.mark)"
   ]
  },
  {
   "cell_type": "markdown",
   "id": "e8012719",
   "metadata": {},
   "source": [
    "### 3. Напишите запрос для получения списка студентов без определенного места жительства."
   ]
  },
  {
   "cell_type": "code",
   "execution_count": 207,
   "id": "f4d16e4f",
   "metadata": {},
   "outputs": [
    {
     "name": "stdout",
     "output_type": "stream",
     "text": [
      "('Ирина', 'Медведева')\n",
      "('Оксана', 'Афанасьева')\n"
     ]
    }
   ],
   "source": [
    "for item in session.query(student.name, student.surname).where(student.city == None).all():\n",
    "    print(item)"
   ]
  },
  {
   "cell_type": "markdown",
   "id": "794cc9b8",
   "metadata": {},
   "source": [
    "### 4. Напишите запрос для получения списка студентов, проживающих в Воронеже и не получающих стипендию."
   ]
  },
  {
   "cell_type": "code",
   "execution_count": 208,
   "id": "2ccb3b6c",
   "metadata": {},
   "outputs": [
    {
     "name": "stdout",
     "output_type": "stream",
     "text": [
      "('Андрей', 'Павлов', 'Воронеж', 0)\n"
     ]
    }
   ],
   "source": [
    "from sqlalchemy import and_\n",
    "for item in session.query(student.name, student.surname, student.city, student.stipend).where(\n",
    "    and_(\n",
    "        student.city == \"Воронеж\",\n",
    "        student.stipend == 0\n",
    "    )\n",
    ").all():\n",
    "    print(item)"
   ]
  },
  {
   "cell_type": "markdown",
   "id": "a8b3b472",
   "metadata": {},
   "source": [
    "### 5. Напишите запрос для получения списка университетов, расположенных в Москве и имеющих рейтинг меньший,\n",
    "чем у НГУ. Значение рейтинга НГУ получите с помощью отдельного запроса или подзапроса."
   ]
  },
  {
   "cell_type": "code",
   "execution_count": 209,
   "id": "376fb8b1",
   "metadata": {},
   "outputs": [
    {
     "name": "stdout",
     "output_type": "stream",
     "text": [
      "('ФинУ',)\n",
      "('МТУСИ',)\n"
     ]
    }
   ],
   "source": [
    "from sqlalchemy import and_\n",
    "subquery = session.query(university.rating).where(university.univ_name==\"НГУ\").subquery()\n",
    "query1 = session.query(university.univ_name).where(\n",
    "    and_(\n",
    "        university.city == \"Москва\",\n",
    "        university.rating < (subquery)\n",
    "    )\n",
    ")\n",
    "for item in query1.all():\n",
    "    print(item)"
   ]
  },
  {
   "cell_type": "markdown",
   "id": "277cca43",
   "metadata": {},
   "source": [
    "### 6. Напишите запрос, выполняющий вывод находящихся в таблице EXAM_MARKS\n",
    "номеров предметов обучения, экзамены по которым сдавались между 1 и 21 марта 2020 г."
   ]
  },
  {
   "cell_type": "code",
   "execution_count": 210,
   "id": "49b9a5c0",
   "metadata": {},
   "outputs": [
    {
     "name": "stdout",
     "output_type": "stream",
     "text": [
      "(73, 4, datetime.datetime(2020, 3, 20, 0, 0))\n",
      "(12, 1, datetime.datetime(2020, 3, 13, 0, 0))\n",
      "(10, 3, datetime.datetime(2020, 3, 21, 0, 0))\n"
     ]
    }
   ],
   "source": [
    "from datetime import datetime\n",
    "first_date = datetime.strptime('2020-03-1', '%Y-%m-%d')\n",
    "second_date = datetime.strptime('2020-03-21', '%Y-%m-%d')\n",
    "\n",
    "for item in session.query(exam_marks.subj_id, exam_marks.mark, exam_marks.exam_date).where(\n",
    "    exam_marks.exam_date.between(first_date, second_date)\n",
    ").all():\n",
    "    print(item)"
   ]
  },
  {
   "cell_type": "markdown",
   "id": "4a4ca4bb",
   "metadata": {},
   "source": [
    "### 7. Напишите запрос, который выполняет вывод названий предметов обучения, начинающихся на букву ‘И’."
   ]
  },
  {
   "cell_type": "code",
   "execution_count": 211,
   "id": "31677544",
   "metadata": {},
   "outputs": [
    {
     "name": "stdout",
     "output_type": "stream",
     "text": [
      "(10, 'Информатика', 56)\n",
      "(56, 'История', 34)\n"
     ]
    }
   ],
   "source": [
    "for item in session.query(subject.subj_id, subject.subj_name, subject.hour).where(\n",
    "    subject.subj_name.like(\"И%\")\n",
    ").all():\n",
    "    print(item)"
   ]
  },
  {
   "cell_type": "markdown",
   "id": "e2894c92",
   "metadata": {},
   "source": [
    "### 8. Напишите запрос, выбирающий сведения о студентах, у которых имена начинаются на букву ‘И’ или ‘С’."
   ]
  },
  {
   "cell_type": "code",
   "execution_count": 212,
   "id": "14df5833",
   "metadata": {},
   "outputs": [
    {
     "name": "stdout",
     "output_type": "stream",
     "text": [
      "('Иван', 'Иванов')\n",
      "('Ия', 'Соколова')\n",
      "('Ирина', 'Медведева')\n",
      "('Ирина', 'Сорокина')\n",
      "('Ирина', 'Жданова')\n",
      "('Ираида', 'Блохина')\n",
      "('Икром', 'Назаров')\n",
      "('Иннокентий', 'Колобов')\n",
      "('Ипат', 'Комаров')\n"
     ]
    }
   ],
   "source": [
    "from sqlalchemy import or_\n",
    "for item in session.query(student.name, student.surname).where(\n",
    "    or_(\n",
    "        student.name.like(\"И%\"),\n",
    "        student.name.like(\"C%\")\n",
    "    )\n",
    ").all():\n",
    "    print(item)"
   ]
  },
  {
   "cell_type": "markdown",
   "id": "f4aae06f",
   "metadata": {},
   "source": [
    "### 9. Напишите запрос для получения списка предметов обучения, названия которых состоят из более одного слова."
   ]
  },
  {
   "cell_type": "code",
   "execution_count": 213,
   "id": "aea8cc70",
   "metadata": {},
   "outputs": [
    {
     "name": "stdout",
     "output_type": "stream",
     "text": [
      "(12, 'Анализ данных', 42)\n"
     ]
    }
   ],
   "source": [
    "for item in session.query(subject.subj_id, subject.subj_name, subject.hour).where(\n",
    "        subject.subj_name.like(\"% %\")\n",
    ").all():\n",
    "    print(item)"
   ]
  },
  {
   "cell_type": "markdown",
   "id": "9f567532",
   "metadata": {},
   "source": [
    "### 10. Напишите запрос для получения списка студентов, фамилии которых состоят из трех букв."
   ]
  },
  {
   "cell_type": "code",
   "execution_count": 214,
   "id": "008b83df",
   "metadata": {},
   "outputs": [
    {
     "name": "stdout",
     "output_type": "stream",
     "text": [
      "('Бернар', 'Шоу')\n",
      "('Джон', 'Доу')\n"
     ]
    }
   ],
   "source": [
    "from sqlalchemy.sql.expression import func\n",
    "for item in session.query(student.name, student.surname).where(\n",
    "    func.length(student.surname) == 3\n",
    ").all():\n",
    "    print(item)\n"
   ]
  },
  {
   "cell_type": "markdown",
   "id": "6b9d54a9",
   "metadata": {},
   "source": [
    "### 11. Составьте запрос для таблицы STUDENT таким образом, чтобы получить результат в следующем виде. Распечатайте первые 9 записей результата.\n",
    "```\n",
    "И. Иванов \t 1982-12-03\n",
    "П. Петров \t 1980-12-01\n",
    "В. Сидоров \t1979-06-07\n",
    "...\n",
    "```"
   ]
  },
  {
   "cell_type": "code",
   "execution_count": 215,
   "id": "6fafb5c3",
   "metadata": {},
   "outputs": [
    {
     "name": "stdout",
     "output_type": "stream",
     "text": [
      "('И.Иванов    1982-12-03',)\n",
      "('П.Петров    1980-12-01',)\n",
      "('В.Сидоров    1979-06-07',)\n",
      "('Б.Кузнецов    1981-12-08',)\n",
      "('О.Зайцева    1981-05-01',)\n",
      "('П.Котов    2021-02-28',)\n",
      "('В.Белкин    1980-01-07',)\n",
      "('Е.Сергеева    1997-07-04',)\n",
      "('В.Кудряшова    2002-02-18',)\n",
      "('В.Журавлева    1993-06-14',)\n",
      "('С.Дементьева    1996-09-25',)\n",
      "('П.Рожкова    1995-09-15',)\n",
      "('И.Соколова    1995-06-25',)\n",
      "('В.Семенова    1997-10-04',)\n",
      "('И.Медведева    2000-08-22',)\n",
      "('О.Афанасьева    2000-11-16',)\n",
      "('Ф.Сергеева    2000-02-19',)\n",
      "('В.Некрасова    1998-08-23',)\n",
      "('О.Игнатьева    2000-03-08',)\n",
      "('О.Казакова    2000-03-29',)\n",
      "('Е.Шубина    1996-08-24',)\n",
      "('А.Миронова    2000-10-08',)\n",
      "('С.Кондрат    1995-02-23',)\n",
      "('А.Пономарева    1995-10-07',)\n",
      "('Л.Одинцова    1995-03-07',)\n",
      "('Р.Гуляева    1999-07-23',)\n",
      "('З.Игнатова    2000-09-26',)\n",
      "('Д.Мельникова    1993-08-01',)\n",
      "('С.Мишина    1997-05-22',)\n",
      "('В.Агафонов    1994-10-29',)\n",
      "('А.Афанасьева    1996-11-22',)\n",
      "('В.Фролова    1999-06-02',)\n",
      "('Н.Лихачева    1997-04-30',)\n",
      "('Э.Лапина    1997-11-23',)\n",
      "('И.Сорокина    1993-09-28',)\n",
      "('Г.Шашкова    2001-08-15',)\n",
      "('М.Казакова    1994-02-18',)\n",
      "('Ф.Жукова    1998-10-06',)\n",
      "('В.Зимина    1997-06-25',)\n",
      "('И.Жданова    2002-03-02',)\n",
      "('О.Валерия    2000-06-15',)\n",
      "('К.Костина    1995-07-15',)\n",
      "('И.Блохина    1997-03-23',)\n",
      "('С.Мельникова    1998-03-24',)\n",
      "('А.Щербакова    1995-01-24',)\n",
      "('О.Васильева    1994-05-14',)\n",
      "('В.Сорокина    1995-03-01',)\n",
      "('Ф.Тимофеева    1993-08-01',)\n",
      "('А.Вишнякова    2002-02-10',)\n",
      "('Ф.Суравьева    1995-06-16',)\n",
      "('М.Борисова    1995-08-07',)\n",
      "('С.Никитин    1997-07-15',)\n",
      "('Е.Калашников    1998-02-27',)\n",
      "('К.Петров    1998-03-07',)\n",
      "('В.Трофимов    1995-03-24',)\n",
      "('Г.Бирюков    1999-10-16',)\n",
      "('А.Антонов    1997-04-08',)\n",
      "('В.Медведев    1995-04-27',)\n",
      "('К.Морозов    1996-09-29',)\n",
      "('И.Назаров    2001-12-15',)\n",
      "('П.Дмитриев    1993-12-10',)\n",
      "('К.Суханов    1996-11-22',)\n",
      "('Л.Карпов    2001-06-27',)\n",
      "('С.Захаров    1994-03-19',)\n",
      "('В.Аксенов    1994-10-27',)\n",
      "('А.Панов    1996-12-23',)\n",
      "('И.Колобов    1993-07-23',)\n",
      "('Г.Федоров    2000-11-16',)\n",
      "('К.Лазарев    1998-05-22',)\n",
      "('Н.Кондратьев    1999-10-28',)\n",
      "('А.Бирюков    1994-10-15',)\n",
      "('Р.Горский    1998-11-03',)\n",
      "('А.Воронова    1999-02-04',)\n",
      "('Ф.Гордеев    1997-05-16',)\n",
      "('Т.Веселов    1994-04-28',)\n",
      "('С.Юдин    2001-12-02',)\n",
      "('В.Пономарев    2000-12-15',)\n",
      "('П.Жуков    1993-09-11',)\n",
      "('П.Кудравцев    1995-12-14',)\n",
      "('М.Васильев    2000-07-18',)\n",
      "('А.Нестеров    1995-03-06',)\n",
      "('Р.Кудряшов    1997-08-26',)\n",
      "('Е.Ковалев    1995-11-28',)\n",
      "('М.Мамонтов    2000-09-22',)\n",
      "('Ю.Жуковский    1996-05-30',)\n",
      "('Б.Копылов    1996-07-12',)\n",
      "('И.Комаров    2000-07-17',)\n",
      "('Я.Ефимов    2000-09-23',)\n",
      "('Ф.Кулаков    2001-03-14',)\n",
      "('Т.Уваров    1996-12-16',)\n",
      "('Ф.Журавлев    1997-07-12',)\n",
      "('А.Ширяев    1997-09-13',)\n",
      "('М.Ершов    1995-05-28',)\n",
      "('М.Бобылев    2001-09-05',)\n",
      "('М.Бирюков    2000-11-14',)\n",
      "('В.Ситников    1994-10-05',)\n",
      "('Х.Агафонов    1997-03-21',)\n",
      "('Д.Русаков    1993-08-07',)\n",
      "('С.Симонов    2000-03-17',)\n",
      "('К.Гуляев    1994-10-13',)\n",
      "('П.Вячеслав    1997-05-14',)\n",
      "('А.Баранов    2001-08-18',)\n",
      "('А.Архипов    2000-01-28',)\n",
      "('А.Владимиров    2003-05-21',)\n",
      "('Е.Петрова    1999-05-21',)\n",
      "('В.Петров    1997-05-21',)\n",
      "('М.Иванова    2002-04-11',)\n",
      "('В.Киселев    2003-02-10',)\n",
      "('Ф.Миронова    2002-04-15',)\n",
      "('А.Павлов    1979-11-05',)\n",
      "('А.Петров    1981-08-05',)\n",
      "('А.Лукин    1981-12-01',)\n",
      "('Б.Шоу    1979-08-05',)\n",
      "('Д.Доу    1979-08-05',)\n"
     ]
    }
   ],
   "source": [
    "from sqlalchemy.sql.expression import func\n",
    "for item in session.query(\n",
    "\n",
    "cast(func.substr(student.name,1,1), String(20))+\".\"+\n",
    "        cast(student.surname, String(20))+\"    \"+\n",
    "        cast(func.strftime('%Y-%m-%d',student.birthday),  String(20))\n",
    ").all():\n",
    "    print(item)"
   ]
  },
  {
   "cell_type": "markdown",
   "id": "a3ddb8cf",
   "metadata": {},
   "source": [
    "### 12. Напишите запрос для получения списка студентов, фамилии которых начинаются на ‘Ков’ или на ‘Куз’."
   ]
  },
  {
   "cell_type": "code",
   "execution_count": 216,
   "id": "db5583da",
   "metadata": {},
   "outputs": [
    {
     "name": "stdout",
     "output_type": "stream",
     "text": [
      "('Кузнецов', 'Борис')\n",
      "('Ковалев', 'Ефим')\n"
     ]
    }
   ],
   "source": [
    "from sqlalchemy import or_\n",
    "for item in session.query(student.surname, student.name).where(\n",
    "    or_(\n",
    "        student.surname.like(\"Ков%\"),\n",
    "        student.surname.like(\"Куз%\")\n",
    "    )\n",
    ").all():\n",
    "    print(item)"
   ]
  },
  {
   "cell_type": "markdown",
   "id": "0a824bd4",
   "metadata": {},
   "source": [
    "### 13. Напишите запрос для получения списка предметов, названия которых оканчиваются на ‘ия’."
   ]
  },
  {
   "cell_type": "code",
   "execution_count": 217,
   "id": "ae4f2a55",
   "metadata": {},
   "outputs": [
    {
     "name": "stdout",
     "output_type": "stream",
     "text": [
      "(56, 'История', 34)\n"
     ]
    }
   ],
   "source": [
    "for item in session.query(subject.subj_id, subject.subj_name, subject.hour).where(\n",
    "        subject.subj_name.like(\"%ия\")\n",
    ").all():\n",
    "    print(item)"
   ]
  },
  {
   "cell_type": "markdown",
   "id": "82ccc46f",
   "metadata": {},
   "source": [
    "### 14. Напишите запрос для выбора из таблицы EXAM_MARKS записей, для которых отсутствуют значения оценок (поле MARK)."
   ]
  },
  {
   "cell_type": "code",
   "execution_count": 218,
   "id": "ef6ecb6c",
   "metadata": {},
   "outputs": [
    {
     "name": "stdout",
     "output_type": "stream",
     "text": [
      "(10, None)\n"
     ]
    }
   ],
   "source": [
    "for item in session.query(exam_marks.subj_id, exam_marks.mark).where(\n",
    "    exam_marks.mark == None\n",
    ").all():\n",
    "    print(item)"
   ]
  },
  {
   "cell_type": "markdown",
   "id": "d0f31cdd",
   "metadata": {},
   "source": [
    "### 15. Составьте запрос, выводящий фамилии, имена студентов и величину получаемых ими стипендий,\n",
    "при этом значения стипендий должны быть увеличены в 100 раз."
   ]
  },
  {
   "cell_type": "code",
   "execution_count": 219,
   "id": "2ddd5b30",
   "metadata": {},
   "outputs": [
    {
     "name": "stdout",
     "output_type": "stream",
     "text": [
      "('Иванов', 'Иван', 15000)\n",
      "('Петров', 'Петр', 20000)\n",
      "('Сидоров', 'Вадим', 15000)\n",
      "('Кузнецов', 'Борис', 0)\n",
      "('Зайцева', 'Ольга', 25000)\n",
      "('Котов', 'Павел', 15000)\n",
      "('Белкин', 'Вадим', 25000)\n",
      "('Сергеева', 'Елизавета', 15000)\n",
      "('Кудряшова', 'Вера', 10000)\n",
      "('Журавлева', 'Вера', 0)\n",
      "('Дементьева', 'Софья', 15000)\n",
      "('Рожкова', 'Пелагея', 0)\n",
      "('Соколова', 'Ия', 10000)\n",
      "('Семенова', 'Вероника', 0)\n",
      "('Медведева', 'Ирина', 10000)\n",
      "('Афанасьева', 'Оксана', 25000)\n",
      "('Сергеева', 'Фёкла', 10000)\n",
      "('Некрасова', 'Вероника', 25000)\n",
      "('Игнатьева', 'Оксана', 20000)\n",
      "('Казакова', 'Ольга', 25000)\n",
      "('Шубина', 'Елена', 0)\n",
      "('Миронова', 'Анна', 20000)\n",
      "('Кондрат', 'Синицин', 20000)\n",
      "('Пономарева', 'Алина', 25000)\n",
      "('Одинцова', 'Лидия', 10000)\n",
      "('Гуляева', 'Рукижат', 0)\n",
      "('Игнатова', 'Зинаида', 10000)\n",
      "('Мельникова', 'Дарья', 10000)\n",
      "('Мишина', 'Светлана', 15000)\n",
      "('Агафонов', 'Василий', 15000)\n",
      "('Афанасьева', 'Анжелика', 0)\n",
      "('Фролова', 'Василиса', 10000)\n",
      "('Лихачева', 'Нина', 15000)\n",
      "('Лапина', 'Элеонора', 15000)\n",
      "('Сорокина', 'Ирина', 20000)\n",
      "('Шашкова', 'Галина', 15000)\n",
      "('Казакова', 'Мария', 15000)\n",
      "('Жукова', 'Фекла', 15000)\n",
      "('Зимина', 'Виктория', 10000)\n",
      "('Жданова', 'Ирина', 20000)\n",
      "('Валерия', 'Овчинникова', 20000)\n",
      "('Костина', 'Кира', 0)\n",
      "('Блохина', 'Ираида', 25000)\n",
      "('Мельникова', 'Светлана', 25000)\n",
      "('Щербакова', 'Агата', 25000)\n",
      "('Васильева', 'Оксана', 0)\n",
      "('Сорокина', 'Валерия', 15000)\n",
      "('Тимофеева', 'Фаина', 15000)\n",
      "('Вишнякова', 'Анжела', 20000)\n",
      "('Суравьева', 'Фаина', 15000)\n",
      "('Борисова', 'Марина', 15000)\n",
      "('Никитин', 'Самуил', 25000)\n",
      "('Калашников', 'Евгений', 20000)\n",
      "('Петров', 'Касьян', 20000)\n",
      "('Трофимов', 'Владислав', 25000)\n",
      "('Бирюков', 'Герасим', 0)\n",
      "('Антонов', 'Анатолий', 10000)\n",
      "('Медведев', 'Владимир', 20000)\n",
      "('Морозов', 'Кирилл', 25000)\n",
      "('Назаров', 'Икром', 15000)\n",
      "('Дмитриев', 'Павел', 20000)\n",
      "('Суханов', 'Константин', 25000)\n",
      "('Карпов', 'Лука', 20000)\n",
      "('Захаров', 'Софон', 15000)\n",
      "('Аксенов', 'Валерий', 20000)\n",
      "('Панов', 'Арсений', 25000)\n",
      "('Колобов', 'Иннокентий', 20000)\n",
      "('Федоров', 'Гостомысл', 10000)\n",
      "('Лазарев', 'Константин', 10000)\n",
      "('Кондратьев', 'Николай', 15000)\n",
      "('Бирюков', 'Архип', 20000)\n",
      "('Горский', 'Радмил', 10000)\n",
      "('Воронова', 'Антонина', 0)\n",
      "('Гордеев', 'Филипп', 20000)\n",
      "('Веселов', 'Тимур', 15000)\n",
      "('Юдин', 'Савва', 0)\n",
      "('Пономарев', 'Варфоромей', 20000)\n",
      "('Жуков', 'Пров', 0)\n",
      "('Кудравцев', 'Пахом', 15000)\n",
      "('Васильев', 'Матвей', 10000)\n",
      "('Нестеров', 'Арсений', 15000)\n",
      "('Кудряшов', 'Роман', 25000)\n",
      "('Ковалев', 'Ефим', 20000)\n",
      "('Мамонтов', 'Максим', 0)\n",
      "('Жуковский', 'Юрий', 15000)\n",
      "('Копылов', 'Борис', 0)\n",
      "('Комаров', 'Ипат', 0)\n",
      "('Ефимов', 'Яков', 20000)\n",
      "('Кулаков', 'Феофан', 15000)\n",
      "('Уваров', 'Тынгиз', 0)\n",
      "('Журавлев', 'Фома', 20000)\n",
      "('Ширяев', 'Андрей', 15000)\n",
      "('Ершов', 'Митрофан', 25000)\n",
      "('Бобылев', 'Михаил', 10000)\n",
      "('Бирюков', 'Мартин', 10000)\n",
      "('Ситников', 'Викентий', 15000)\n",
      "('Агафонов', 'Хасан', 20000)\n",
      "('Русаков', 'Давид', 25000)\n",
      "('Симонов', 'Семен', 10000)\n",
      "('Гуляев', 'Кузьма', 15000)\n",
      "('Вячеслав', 'Пахомов', 25000)\n",
      "('Баранов', 'Александр', 22000)\n",
      "('Архипов', 'Андрей', 18000)\n",
      "('Владимиров', 'Анатолий', 20000)\n",
      "('Петрова', 'Екатерина', 25000)\n",
      "('Петров', 'Вадим', 25000)\n",
      "('Иванова', 'Мария', 20000)\n",
      "('Киселев', 'Владимир', 21000)\n",
      "('Миронова', 'Федор', 20000)\n",
      "('Павлов', 'Андрей', 0)\n",
      "('Петров', 'Антон', 20000)\n",
      "('Лукин', 'Артем', 20000)\n",
      "('Шоу', 'Бернар', 12000)\n",
      "('Доу', 'Джон', 12000)\n"
     ]
    }
   ],
   "source": [
    "from sqlalchemy import cast, Integer\n",
    "for item in session.query(student.surname, student.name, cast((student.stipend * 100), Integer)).all():\n",
    "    print(item)"
   ]
  },
  {
   "cell_type": "markdown",
   "id": "358a967f",
   "metadata": {},
   "source": [
    "### 16. Составьте запрос для таблицы UNIVERSITY таким образом,\n",
    "чтобы выходная таблица содержала всего один столбец в следующем виде:\n",
    "    Код-10; ВГУ-г.ВОРОНЕЖ; Рейтинг=296."
   ]
  },
  {
   "cell_type": "code",
   "execution_count": 220,
   "id": "653b3740",
   "metadata": {},
   "outputs": [
    {
     "name": "stdout",
     "output_type": "stream",
     "text": [
      "('Код-10; ВГУ-г.Воронеж; Рейтинг=296.',)\n",
      "('Код-11; НГУ-г.Новосибирск; Рейтинг=345.',)\n",
      "('Код-14; БГУ-г.Белгород; Рейтинг=326.',)\n",
      "('Код-15; ТГУ-г.Томск; Рейтинг=368.',)\n",
      "('Код-18; ВГМА-г.Воронеж; Рейтинг=327.',)\n",
      "('Код-22; МГУ-г.Москва; Рейтинг=400.',)\n",
      "('Код-32; РГУ-г.Ростов; Рейтинг=416.',)\n",
      "('Код-44; ФинУ-г.Москва; Рейтинг=330.',)\n",
      "('Код-45; МГТУ-г.Москва; Рейтинг=372.',)\n",
      "('Код-46; Политех-г.Санкт-Петербург; Рейтинг=300.',)\n",
      "('Код-47; КФУ-г.Казань; Рейтинг=330.',)\n",
      "('Код-48; УЛГУ-г.Ульяновск; Рейтинг=231.',)\n",
      "('Код-49; МТУСИ-г.Москва; Рейтинг=295.',)\n"
     ]
    }
   ],
   "source": [
    "from sqlalchemy import cast, String\n",
    "for item in session.query(\"Код-\"+cast(university.univ_id, String(20))+\"; \"+\n",
    "        cast(university.univ_name, String(20))+\"-г.\"+\n",
    "        cast(university.city, String(20)) +\"; Рейтинг=\"+\n",
    "        cast(university.rating, String(20)) +\".\").all():\n",
    "    \n",
    "    print(item)"
   ]
  },
  {
   "cell_type": "markdown",
   "id": "1493cd53",
   "metadata": {},
   "source": [
    "### 17. Напишите запрос для подсчета количества студентов, сдававших экзамен по предмету обучения с идентификатором 10."
   ]
  },
  {
   "cell_type": "code",
   "execution_count": 221,
   "id": "59993c66",
   "metadata": {},
   "outputs": [
    {
     "name": "stdout",
     "output_type": "stream",
     "text": [
      "(10,)\n",
      "-------\n",
      "(97,)\n",
      "(71,)\n",
      "(92,)\n",
      "(105,)\n",
      "(32,)\n",
      "(55,)\n",
      "(15,)\n",
      "(12,)\n",
      "(12,)\n",
      "(55,)\n"
     ]
    }
   ],
   "source": [
    "from sqlalchemy import cast, String\n",
    "for item in session.query(\n",
    "    func.count(exam_marks.student_id)\n",
    ").where(exam_marks.subj_id == 10).all():\n",
    "    print(item)\n",
    "    \n",
    "print(\"-------\")\n",
    "from sqlalchemy import cast, String\n",
    "for item in session.query(exam_marks.student_id\n",
    ").where(exam_marks.subj_id == 10).all():\n",
    "    print(item)"
   ]
  },
  {
   "cell_type": "markdown",
   "id": "d58947d0",
   "metadata": {},
   "source": [
    "### 18. Напишите запрос, который позволяет подсчитать в таблице EXAM_MARKS количество различных предметов обучения."
   ]
  },
  {
   "cell_type": "code",
   "execution_count": 222,
   "id": "1312e1ce",
   "metadata": {},
   "outputs": [
    {
     "name": "stdout",
     "output_type": "stream",
     "text": [
      "(10,)\n",
      "(73,)\n",
      "(56,)\n",
      "(12,)\n",
      "(22,)\n",
      "(13,)\n",
      "(94,)\n",
      "(43,)\n",
      "(11,)\n",
      "-------\n"
     ]
    },
    {
     "data": {
      "text/plain": [
       "9"
      ]
     },
     "execution_count": 222,
     "metadata": {},
     "output_type": "execute_result"
    }
   ],
   "source": [
    "for item in session.query(exam_marks.subj_id).distinct().all():\n",
    "    print(item)\n",
    "print(\"-------\")\n",
    "session.query(exam_marks.subj_id).distinct().count()"
   ]
  },
  {
   "cell_type": "markdown",
   "id": "d0ccdf36",
   "metadata": {},
   "source": [
    "### 19. Напишите запрос, который для каждого студента выполняет выборку его идентификатора и минимальной из полученных им оценок."
   ]
  },
  {
   "cell_type": "code",
   "execution_count": 223,
   "id": "040c5088",
   "metadata": {},
   "outputs": [
    {
     "name": "stdout",
     "output_type": "stream",
     "text": [
      "(1, 1)\n",
      "(6, 4)\n",
      "(10, 5)\n",
      "(12, 2)\n",
      "(15, 5)\n",
      "(32, 4)\n",
      "(55, 5)\n",
      "(62, 4)\n",
      "(64, 4)\n",
      "(65, 1)\n",
      "(71, 3)\n",
      "(73, 1)\n",
      "(76, 2)\n",
      "(77, 1)\n",
      "(79, 1)\n",
      "(82, 5)\n",
      "(83, 1)\n",
      "(85, 1)\n",
      "(88, 5)\n",
      "(90, 4)\n",
      "(91, 5)\n",
      "(92, 5)\n",
      "(97, 1)\n",
      "(99, 5)\n",
      "(101, 2)\n",
      "(103, 2)\n",
      "(105, 3)\n",
      "(110, 1)\n",
      "(116, 1)\n",
      "(117, 4)\n",
      "(123, 2)\n",
      "(126, 1)\n",
      "(128, 3)\n",
      "(149, 2)\n",
      "(203, 3)\n"
     ]
    }
   ],
   "source": [
    "for item in session.query(exam_marks.student_id, func.min(exam_marks.mark)).group_by(\n",
    "    exam_marks.student_id\n",
    ").all():\n",
    "    print(item)"
   ]
  },
  {
   "cell_type": "markdown",
   "id": "aa82dba9",
   "metadata": {},
   "source": [
    "###  20. Напишите запрос, который для каждого предмета обучения выводит наименование предмета и максимальное значение номера семестра, в котором этот предмет преподается."
   ]
  },
  {
   "cell_type": "code",
   "execution_count": 224,
   "id": "1480c830",
   "metadata": {},
   "outputs": [
    {
     "name": "stdout",
     "output_type": "stream",
     "text": [
      "('Анализ данных', 1)\n",
      "('Английский', 3)\n",
      "('Информатика', 1)\n",
      "('История', 4)\n",
      "('Математика', 2)\n",
      "('ОБЖ', 2)\n",
      "('Программирование', 2)\n",
      "('Физика', 1)\n",
      "('Физкультура', 5)\n"
     ]
    }
   ],
   "source": [
    "for item in session.query(subject.subj_name, \n",
    "        func.max(subject.semester.label(\"max_semester\"))).group_by(subject.subj_name).all():\n",
    "    print(item)"
   ]
  },
  {
   "cell_type": "markdown",
   "id": "7d23b74f",
   "metadata": {},
   "source": [
    "### 21. Напишите запрос, который для каждого конкретного дня сдачи экзамена выводит данные о количестве студентов, сдававших экзамен в этот день."
   ]
  },
  {
   "cell_type": "code",
   "execution_count": 225,
   "id": "80ff2b59",
   "metadata": {},
   "outputs": [
    {
     "name": "stdout",
     "output_type": "stream",
     "text": [
      "(1, datetime.datetime(1999, 6, 17, 0, 0), 238)\n",
      "(1, datetime.datetime(1999, 6, 22, 0, 0), 639)\n",
      "(2, datetime.datetime(2000, 1, 5, 0, 0), 43)\n",
      "(1, datetime.datetime(2000, 1, 23, 0, 0), 34)\n",
      "(1, datetime.datetime(2006, 1, 12, 0, 0), 145)\n",
      "(1, datetime.datetime(2019, 5, 11, 0, 0), 18)\n",
      "(1, datetime.datetime(2019, 6, 8, 0, 0), 95)\n",
      "(1, datetime.datetime(2019, 7, 4, 0, 0), 25)\n",
      "(1, datetime.datetime(2019, 7, 6, 0, 0), 30)\n",
      "(1, datetime.datetime(2019, 7, 24, 0, 0), 14)\n",
      "(1, datetime.datetime(2019, 8, 14, 0, 0), 16)\n",
      "(1, datetime.datetime(2019, 8, 30, 0, 0), 23)\n",
      "(1, datetime.datetime(2019, 9, 2, 0, 0), 12)\n",
      "(1, datetime.datetime(2019, 10, 28, 0, 0), 28)\n",
      "(1, datetime.datetime(2019, 12, 17, 0, 0), 31)\n",
      "(1, datetime.datetime(2019, 12, 25, 0, 0), 10)\n",
      "(1, datetime.datetime(2019, 12, 31, 0, 0), 20)\n",
      "(1, datetime.datetime(2020, 2, 10, 0, 0), 13)\n",
      "(1, datetime.datetime(2020, 2, 22, 0, 0), 9)\n",
      "(1, datetime.datetime(2020, 3, 13, 0, 0), 8)\n",
      "(1, datetime.datetime(2020, 3, 20, 0, 0), 3)\n",
      "(1, datetime.datetime(2020, 3, 21, 0, 0), 22)\n",
      "(1, datetime.datetime(2020, 4, 6, 0, 0), 6)\n",
      "(1, datetime.datetime(2020, 5, 4, 0, 0), 17)\n",
      "(1, datetime.datetime(2020, 5, 10, 0, 0), 5)\n",
      "(1, datetime.datetime(2020, 5, 13, 0, 0), 21)\n",
      "(1, datetime.datetime(2020, 7, 26, 0, 0), 1)\n",
      "(1, datetime.datetime(2020, 8, 10, 0, 0), 4)\n",
      "(1, datetime.datetime(2020, 8, 18, 0, 0), 26)\n",
      "(1, datetime.datetime(2020, 9, 9, 0, 0), 32)\n",
      "(1, datetime.datetime(2020, 9, 21, 0, 0), 27)\n",
      "(1, datetime.datetime(2020, 10, 24, 0, 0), 29)\n",
      "(1, datetime.datetime(2020, 12, 3, 0, 0), 100)\n",
      "(1, datetime.datetime(2020, 12, 4, 0, 0), 11)\n",
      "(1, datetime.datetime(2020, 12, 23, 0, 0), 2)\n",
      "(1, datetime.datetime(2021, 2, 10, 0, 0), 7)\n",
      "(1, datetime.datetime(2021, 3, 1, 0, 0), 15)\n",
      "(1, datetime.datetime(2021, 3, 7, 0, 0), 19)\n",
      "(1, datetime.datetime(2021, 3, 14, 0, 0), 33)\n",
      "(1, datetime.datetime(2021, 3, 29, 0, 0), 24)\n"
     ]
    }
   ],
   "source": [
    "for item in session.query(\n",
    "    func.count(func.distinct(exam_marks.student_id)).label(\"Кол-во студентов\"),\n",
    "    exam_marks.exam_date.label(\"Дата экзамена\"),\n",
    "    exam_marks.exam_id.label(\"id экзамена\")\n",
    ").group_by(exam_marks.exam_date).all():\n",
    "    print(item)"
   ]
  },
  {
   "cell_type": "markdown",
   "id": "2909e2ae",
   "metadata": {},
   "source": [
    "### 22. Напишите запрос, выдающий средний балл для каждого студента."
   ]
  },
  {
   "cell_type": "code",
   "execution_count": 226,
   "id": "09a526f8",
   "metadata": {},
   "outputs": [
    {
     "name": "stdout",
     "output_type": "stream",
     "text": [
      "(1, 1.0)\n",
      "(6, 4.0)\n",
      "(10, 5.0)\n",
      "(12, 4.0)\n",
      "(15, 5.0)\n",
      "(32, 4.0)\n",
      "(55, 5.0)\n",
      "(62, 4.0)\n",
      "(64, 4.0)\n",
      "(65, 1.0)\n",
      "(71, 3.0)\n",
      "(73, 1.0)\n",
      "(76, 2.0)\n",
      "(77, 1.0)\n",
      "(79, 1.0)\n",
      "(82, 5.0)\n",
      "(83, 1.0)\n",
      "(85, 2.5)\n",
      "(88, 5.0)\n",
      "(90, 4.0)\n",
      "(91, 5.0)\n",
      "(92, 5.0)\n",
      "(97, 1.0)\n",
      "(99, 5.0)\n",
      "(101, 2.0)\n",
      "(103, 2.0)\n",
      "(105, 3.0)\n",
      "(110, 1.0)\n",
      "(116, 1.0)\n",
      "(117, 4.0)\n",
      "(123, 2.0)\n",
      "(126, 1.0)\n",
      "(128, 4.0)\n",
      "(149, 2.0)\n",
      "(203, 3.0)\n"
     ]
    }
   ],
   "source": [
    "for item in session.query(\n",
    "        exam_marks.student_id,\n",
    "        func.avg(exam_marks.mark)\n",
    ").group_by(exam_marks.student_id).all():\n",
    "    print(item)"
   ]
  },
  {
   "cell_type": "markdown",
   "id": "4695ab49",
   "metadata": {},
   "source": [
    "### 23. Напишите запрос, выдающий средний балл для каждого экзамена."
   ]
  },
  {
   "cell_type": "code",
   "execution_count": 227,
   "id": "96c9df53",
   "metadata": {},
   "outputs": [
    {
     "name": "stdout",
     "output_type": "stream",
     "text": [
      "(1, 1.0)\n",
      "(2, 4.0)\n",
      "(3, 4.0)\n",
      "(4, 1.0)\n",
      "(5, 3.0)\n",
      "(6, 4.0)\n",
      "(7, 1.0)\n",
      "(8, 1.0)\n",
      "(9, 5.0)\n",
      "(10, 1.0)\n",
      "(11, 2.0)\n",
      "(12, 5.0)\n",
      "(13, 2.0)\n",
      "(14, 1.0)\n",
      "(15, 4.0)\n",
      "(16, 5.0)\n",
      "(17, 5.0)\n",
      "(18, 2.0)\n",
      "(19, 3.0)\n",
      "(20, 3.0)\n",
      "(21, 2.0)\n",
      "(22, 3.0)\n",
      "(23, 4.0)\n",
      "(24, 2.0)\n",
      "(25, 1.0)\n",
      "(26, 1.0)\n",
      "(27, 5.0)\n",
      "(28, 5.0)\n",
      "(29, 1.0)\n",
      "(30, 5.0)\n",
      "(31, 1.0)\n",
      "(32, 1.0)\n",
      "(33, 2.0)\n",
      "(34, 4.0)\n",
      "(43, 4.0)\n",
      "(75, 5.0)\n",
      "(95, 2.0)\n",
      "(100, 5.0)\n",
      "(145, 5.0)\n",
      "(238, 5.0)\n",
      "(639, None)\n"
     ]
    }
   ],
   "source": [
    "for item in session.query(\n",
    "    exam_marks.exam_id,\n",
    "    func.avg(exam_marks.mark)\n",
    ").group_by(exam_marks.exam_id).all():\n",
    "    print(item)"
   ]
  },
  {
   "cell_type": "code",
   "execution_count": null,
   "id": "22f56654",
   "metadata": {},
   "outputs": [],
   "source": []
  },
  {
   "cell_type": "code",
   "execution_count": null,
   "id": "481ff3fc",
   "metadata": {},
   "outputs": [],
   "source": []
  },
  {
   "cell_type": "code",
   "execution_count": null,
   "id": "600347d2",
   "metadata": {},
   "outputs": [],
   "source": []
  },
  {
   "cell_type": "code",
   "execution_count": null,
   "id": "046d8144",
   "metadata": {},
   "outputs": [],
   "source": []
  },
  {
   "cell_type": "code",
   "execution_count": null,
   "id": "483a18c3",
   "metadata": {},
   "outputs": [],
   "source": []
  },
  {
   "cell_type": "code",
   "execution_count": null,
   "id": "ee36028e",
   "metadata": {},
   "outputs": [],
   "source": []
  }
 ],
 "metadata": {
  "kernelspec": {
   "display_name": "Python 3",
   "language": "python",
   "name": "python3"
  },
  "language_info": {
   "codemirror_mode": {
    "name": "ipython",
    "version": 3
   },
   "file_extension": ".py",
   "mimetype": "text/x-python",
   "name": "python",
   "nbconvert_exporter": "python",
   "pygments_lexer": "ipython3",
   "version": "3.9.5"
  }
 },
 "nbformat": 4,
 "nbformat_minor": 5
}

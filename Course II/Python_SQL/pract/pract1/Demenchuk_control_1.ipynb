{
 "cells": [
  {
   "cell_type": "markdown",
   "metadata": {},
   "source": [
    "## Программирование на языках Python и SQL. Контрольная №1\n",
    "#### Деменчук Георгий ПИ19-4\n"
   ]
  },
  {
   "cell_type": "markdown",
   "metadata": {},
   "source": [
    "Разработанная мини-БД банковского процесса\n",
    "\n",
    "![](erd.png)"
   ]
  },
  {
   "cell_type": "code",
   "execution_count": 8,
   "metadata": {},
   "outputs": [],
   "source": [
    "#Делаем импорт зависимостей\n",
    "\n",
    "import sqlalchemy\n",
    "from datetime import datetime\n",
    "from sqlalchemy import (MetaData, Table, Column, Integer, Numeric, String, DateTime, Boolean, ForeignKey, create_engine, Float)\n",
    "from sqlalchemy import PrimaryKeyConstraint, UniqueConstraint, CheckConstraint\n",
    "engine = create_engine('sqlite:///Demenchuk_bank.db')\n",
    "metadata = MetaData()"
   ]
  },
  {
   "cell_type": "markdown",
   "metadata": {},
   "source": [
    "#### Создаем таблицу customers\n",
    "Таблица хранит инфомрацию о клиентах банка"
   ]
  },
  {
   "cell_type": "code",
   "execution_count": 9,
   "metadata": {},
   "outputs": [],
   "source": [
    "customer=Table('customers',metadata,\n",
    "               Column('customer_id',Integer(), primary_key=True),\n",
    "               Column('last_name',String(255), nullable=False),\n",
    "               Column('first_name',String(255), nullable=False),\n",
    "               Column('middle_name',String(255), nullable=True),\n",
    "               Column('street',String(255), nullable=False),\n",
    "               Column('city',String(255), nullable=False),\n",
    "               Column('state',String(255), nullable=False),\n",
    "               Column('zip',String(15), nullable=False),\n",
    "               Column('phone',String(11),unique=True, nullable=False),\n",
    "               Column('email',String(255),unique=True, nullable=False),\n",
    "               extend_existing=True\n",
    "            )"
   ]
  },
  {
   "cell_type": "markdown",
   "metadata": {},
   "source": [
    "#### Создаем таблицу account_types\n",
    "Таблица содержит информацию о типах банковских аккаунтов клиентов"
   ]
  },
  {
   "cell_type": "code",
   "execution_count": 10,
   "metadata": {},
   "outputs": [],
   "source": [
    "account_types = Table('account_types',metadata,\n",
    "            Column('type_id',Integer(),primary_key=True),\n",
    "            Column('name',String(255),nullable=False),\n",
    "            Column('description',String(255),nullable=True),\n",
    "            extend_existing=True\n",
    "           )"
   ]
  },
  {
   "cell_type": "markdown",
   "metadata": {},
   "source": [
    "#### Создаем таблицу accounts\n",
    "Таблица содержит информацию об аккаунтах клиентов"
   ]
  },
  {
   "cell_type": "code",
   "execution_count": 11,
   "metadata": {},
   "outputs": [],
   "source": [
    "account=Table('accounts',metadata,\n",
    "            Column('account_id',Integer(),primary_key=True),\n",
    "            Column('type', ForeignKey('account_types.type_id')),\n",
    "            Column('description',String(255),nullable=True),\n",
    "            Column('balance',Float(),nullable=False),\n",
    "            Column('credit_line',Float(),nullable=False),\n",
    "            Column('begin_balance',Float(),default=0.0),\n",
    "            Column('begin_balance_timestamp',DateTime(),default=datetime.now),\n",
    "            extend_existing=True\n",
    "           )"
   ]
  },
  {
   "cell_type": "markdown",
   "metadata": {},
   "source": [
    "#### Создаем таблицу transactions\n",
    "Таблица содержит о банковских операциях (транзакциях) клиентов"
   ]
  },
  {
   "cell_type": "code",
   "execution_count": 12,
   "metadata": {},
   "outputs": [],
   "source": [
    "tx = Table('transactions', metadata,\n",
    "               Column('transaction_id', Integer(),primary_key=True),\n",
    "               Column('account_id', ForeignKey('accounts.account_id'),nullable=False),\n",
    "               Column('timestamp',DateTime(),default=datetime.now),\n",
    "               Column('amount', Float(), nullable=False),\n",
    "               Column('balance', Float(), nullable=False),\n",
    "               Column('description', String(255), nullable=True),\n",
    "               extend_existing=True\n",
    "            )"
   ]
  },
  {
   "cell_type": "markdown",
   "metadata": {},
   "source": [
    "#### Создаем таблицу customers_accounts\n",
    "Необходима для связя многие ко многим для таблиц customers и accounts"
   ]
  },
  {
   "cell_type": "code",
   "execution_count": 13,
   "metadata": {},
   "outputs": [],
   "source": [
    "\n",
    "customers_accounts = Table('customers_accounts',metadata,\n",
    "            Column('customer_id', ForeignKey('customers.customer_id')),\n",
    "            Column('account_id', ForeignKey('accounts.account_id')),\n",
    "            extend_existing=True\n",
    "           )"
   ]
  },
  {
   "cell_type": "markdown",
   "metadata": {},
   "source": [
    "#### Записываем данные в SQLite"
   ]
  },
  {
   "cell_type": "code",
   "execution_count": 14,
   "metadata": {},
   "outputs": [],
   "source": [
    "metadata.create_all(engine)"
   ]
  },
  {
   "cell_type": "code",
   "execution_count": null,
   "metadata": {},
   "outputs": [],
   "source": []
  }
 ],
 "metadata": {
  "kernelspec": {
   "display_name": "Python 3",
   "language": "python",
   "name": "python3"
  },
  "language_info": {
   "codemirror_mode": {
    "name": "ipython",
    "version": 3
   },
   "file_extension": ".py",
   "mimetype": "text/x-python",
   "name": "python",
   "nbconvert_exporter": "python",
   "pygments_lexer": "ipython3",
   "version": "3.9.1"
  }
 },
 "nbformat": 4,
 "nbformat_minor": 4
}

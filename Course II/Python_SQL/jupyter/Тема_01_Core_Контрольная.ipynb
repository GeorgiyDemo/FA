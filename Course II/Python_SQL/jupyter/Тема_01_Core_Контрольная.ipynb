{
 "cells": [
  {
   "cell_type": "markdown",
   "metadata": {},
   "source": [
    " # Программирование на языках Python и SQL\n",
    "## Контрольные работы\n",
    "\n",
    "Контрольные работы проводятся согласно расписанию учебных занятий в подгруппах №№ 2, 3, 4 в IV семестре. В подгруппу 2 входят студенты групп ПИ19-2, ПИ19-3. В подгруппу 3 входят студенты ПИ19-3, ПИ19-4. В подгруппу 4 входят студенты ПИ19-4, ПИ19-5.\n",
    "\n",
    "Задания контрольных работ подготовил: Смирнов Михаил Викторович, доцент депратамента анализа данных и машинного обучения Финансового унивеситета \n",
    "\n",
    "Москва - 2021"
   ]
  },
  {
   "cell_type": "markdown",
   "metadata": {},
   "source": [
    "## Контрольная работа № 1\n",
    "<Table>\n",
    "    <tr>\n",
    "        <th>Подгруппа</th><th>Дата</th></tr>\n",
    "    <tr>\n",
    "        <td>3</td><td>05.02.2021</td></tr>\n",
    "    <tr>\n",
    "        <td>4</td><td>05.02.2021</td></tr>\n",
    "    <tr>\n",
    "        <td>2</td><td>06.02.2021</td></tr>\n",
    "</Table>\n",
    "\n",
    "### Задание\n",
    "Используя библиотеку SQLAlchemy и программное обеспечение Юпитер Ноутбук создать структуру  (не наполняя ее данными) реляционной базы данных студентов \"Students.db\", содержащую таблицы: Students, Lecturer, Subject, University, Exam_marks. Применить необходимве ограничения. В качестве источника информации о конкретной структуре таблиц использовать учебную базу данных из методического пособия: _Астахова И.Ф, Толстобров А.П., Мельников В.М. SQL в примерах и задачах._"
   ]
  },
  {
   "cell_type": "markdown",
   "metadata": {},
   "source": [
    "### Решение"
   ]
  },
  {
   "cell_type": "code",
   "execution_count": 1,
   "metadata": {},
   "outputs": [],
   "source": [
    "import pandas as pd\n",
    "import datetime as dt\n",
    "import numpy as np\n",
    "\n",
    "from sqlalchemy import (MetaData, Table, Column, Integer, Numeric, String, DateTime, \n",
    "                        Boolean, ForeignKey, create_engine, PrimaryKeyConstraint, \n",
    "                        UniqueConstraint, CheckConstraint, Index, insert, BigInteger)"
   ]
  },
  {
   "cell_type": "code",
   "execution_count": 2,
   "metadata": {},
   "outputs": [],
   "source": [
    "metadata = MetaData()\n",
    "engine = create_engine('sqlite:///Students.db')"
   ]
  },
  {
   "cell_type": "code",
   "execution_count": 3,
   "metadata": {},
   "outputs": [],
   "source": [
    "student=Table('student',metadata, \n",
    "              Column('student_id',Integer(),primary_key=True), \n",
    "              Column('surname',String(255),nullable=False), \n",
    "              Column('name',String(255),nullable=False), \n",
    "              Column('stipend',Integer(),nullable=False), \n",
    "              Column('kurs',Integer(),nullable=False), \n",
    "              Column('city',String(300)), \n",
    "              Column('birthday',DateTime(),default=dt.date.today), \n",
    "              Column('univ_id',Integer(),ForeignKey('university.univ_id'),nullable=False), \n",
    "              extend_existing=True)"
   ]
  },
  {
   "cell_type": "code",
   "execution_count": 4,
   "metadata": {},
   "outputs": [],
   "source": [
    "subject=Table('subject',metadata, \n",
    "              Column('subj_id',Integer(),primary_key=True), \n",
    "              Column('subj_name',String(64),nullable=False, index=True), \n",
    "              Column('hour',Integer(),nullable=False, index=True), \n",
    "              Column('semester',Integer(),nullable=False), \n",
    "              extend_existing=True)"
   ]
  },
  {
   "cell_type": "code",
   "execution_count": 5,
   "metadata": {},
   "outputs": [],
   "source": [
    "exam_marks=Table(\"exam_marks\", metadata,\n",
    "                Column(\"exam_id\", Integer(), primary_key=True),\n",
    "                Column(\"student_id\", ForeignKey('student.student_id')), \n",
    "                Column(\"subj_id\", ForeignKey('subject.subj_id')),\n",
    "                Column(\"mark\", Integer()), \n",
    "                Column(\"exam_date\", DateTime(), nullable=False),\n",
    "                extend_existing=True)"
   ]
  },
  {
   "cell_type": "code",
   "execution_count": 6,
   "metadata": {},
   "outputs": [],
   "source": [
    "lecturer=Table('lecturer', metadata,\n",
    "                Column('lecturer_id',Integer(),primary_key=True),\n",
    "                Column('surname',String(30),nullable=False),\n",
    "                Column('name',String(30),nullable=False),\n",
    "                Column('city',String(30)),\n",
    "                Column('univ_id',Integer(),ForeignKey('university.univ_id'),nullable=False))"
   ]
  },
  {
   "cell_type": "code",
   "execution_count": 7,
   "metadata": {},
   "outputs": [],
   "source": [
    "subj_lect=Table('subj_lect',metadata,\n",
    "        Column('lecturer_id',Integer(),ForeignKey('lecturer.lecturer_id')),\n",
    "        Column('subj_id',Integer(),ForeignKey('subject.subj_id')),\n",
    "        PrimaryKeyConstraint('lecturer_id','subj_id', name='user_subj'),\n",
    "        extend_existing=True)"
   ]
  },
  {
   "cell_type": "code",
   "execution_count": 8,
   "metadata": {},
   "outputs": [],
   "source": [
    "university=Table('university',metadata,\n",
    "                Column('univ_id',Integer(),primary_key=True),\n",
    "                Column('univ_name',String(255)),\n",
    "                Column('rating',Integer()),\n",
    "                Column('city',Integer()),\n",
    "                extend_existing=True)"
   ]
  },
  {
   "cell_type": "code",
   "execution_count": 9,
   "metadata": {},
   "outputs": [],
   "source": [
    "metadata.create_all(engine)"
   ]
  },
  {
   "cell_type": "markdown",
   "metadata": {},
   "source": [
    "## Контрольная работа № 3\n",
    "\n",
    "<Table>\n",
    "    <tr>\n",
    "        <th>Подгруппа</th><th>Дата</th></tr>\n",
    "    <tr>\n",
    "        <td>3</td><td>19.02.2021</td></tr>\n",
    "    <tr>\n",
    "        <td>2</td><td>20.02.2021</td></tr>\n",
    "    <tr>\n",
    "        <td>4</td><td>26.02.2021</td></tr>\n",
    "</Table>\n",
    "\n",
    "\n",
    "### Задание\n",
    "Используя библиотеку SQLAlchemy и программное обеспечение Юпитер Ноутбук, наполните базу данных _Students.db_ данными из учебной базы данных студентов, описание которой содержится в учебном пособии: _Астахова И.Ф, Толстобров А.П., Мельников В.М. SQL в примерах и задачах_."
   ]
  },
  {
   "cell_type": "markdown",
   "metadata": {},
   "source": [
    "### Решение\n",
    "\n",
    "В представленном решении для разных таблиц использовались разные способы: \n",
    "- одиночная вставка;\n",
    "- вставка в цикле из списвка словарей, сформированного на основе данных таблицы;\n",
    "- вставка в цикле из кортежей, сформированных \"вручную\".\n",
    "\n",
    "Использование разных способов преследует демонстрационные цели. Студент в ходе контрольной работы может выбирать любой из представленных способов, либо предложить свой."
   ]
  },
  {
   "cell_type": "code",
   "execution_count": 10,
   "metadata": {},
   "outputs": [],
   "source": [
    "connection=engine.connect()"
   ]
  },
  {
   "cell_type": "markdown",
   "metadata": {},
   "source": [
    "1. Одиночная вставка<br>\n",
    "1.1. _insert_ как метод"
   ]
  },
  {
   "cell_type": "code",
   "execution_count": 11,
   "metadata": {},
   "outputs": [
    {
     "name": "stdout",
     "output_type": "stream",
     "text": [
      "INSERT INTO exam_marks (exam_id, student_id, subj_id, mark, exam_date) VALUES (:exam_id, :student_id, :subj_id, :mark, :exam_date)\n",
      "{'exam_id': 145, 'student_id': 12, 'subj_id': 10, 'mark': 5, 'exam_date': datetime.date(2006, 1, 12)}\n"
     ]
    }
   ],
   "source": [
    "ins=exam_marks.insert().values(\n",
    "    exam_id=145,\n",
    "    student_id=12,\n",
    "    subj_id=10,\n",
    "    mark=5,\n",
    "    exam_date=dt.date(2006,1,12))\n",
    "print(str(ins))\n",
    "print(ins.compile().params)"
   ]
  },
  {
   "cell_type": "code",
   "execution_count": 12,
   "metadata": {},
   "outputs": [
    {
     "data": {
      "text/plain": [
       "[145]"
      ]
     },
     "execution_count": 12,
     "metadata": {},
     "output_type": "execute_result"
    }
   ],
   "source": [
    "result=connection.execute(ins)\n",
    "result.inserted_primary_key"
   ]
  },
  {
   "cell_type": "code",
   "execution_count": 13,
   "metadata": {},
   "outputs": [
    {
     "data": {
      "text/plain": [
       "[238]"
      ]
     },
     "execution_count": 13,
     "metadata": {},
     "output_type": "execute_result"
    }
   ],
   "source": [
    "ins=exam_marks.insert()\n",
    "\n",
    "result=connection.execute(\n",
    "    ins,\n",
    "    exam_id=238,\n",
    "    student_id=12,\n",
    "    subj_id=10,\n",
    "    mark=5,\n",
    "    exam_date=dt.date(1999,6,17))\n",
    "\n",
    "result.inserted_primary_key"
   ]
  },
  {
   "cell_type": "code",
   "execution_count": 14,
   "metadata": {},
   "outputs": [
    {
     "data": {
      "text/plain": [
       "[34]"
      ]
     },
     "execution_count": 14,
     "metadata": {},
     "output_type": "execute_result"
    }
   ],
   "source": [
    "ins=exam_marks.insert().values(\n",
    "    (34,32,10,4,dt.datetime.strptime(\"23.01.2000\",\"%d.%m.%Y\")))\n",
    "\n",
    "result=connection.execute(ins)\n",
    "result.inserted_primary_key"
   ]
  },
  {
   "cell_type": "markdown",
   "metadata": {},
   "source": [
    "1.2. _insert_ как функция"
   ]
  },
  {
   "cell_type": "code",
   "execution_count": 15,
   "metadata": {},
   "outputs": [
    {
     "data": {
      "text/plain": [
       "[639]"
      ]
     },
     "execution_count": 15,
     "metadata": {},
     "output_type": "execute_result"
    }
   ],
   "source": [
    "ins=insert(exam_marks).values(\n",
    "    exam_id=639,\n",
    "    student_id=55,\n",
    "    subj_id=10,\n",
    "    mark=None,\n",
    "    exam_date=dt.date(1999,6,22)\n",
    ")\n",
    "result=connection.execute(ins)\n",
    "result.inserted_primary_key"
   ]
  },
  {
   "cell_type": "code",
   "execution_count": 16,
   "metadata": {},
   "outputs": [
    {
     "data": {
      "text/plain": [
       "[43]"
      ]
     },
     "execution_count": 16,
     "metadata": {},
     "output_type": "execute_result"
    }
   ],
   "source": [
    "ins=insert(exam_marks).values(\n",
    "    (43,6,22,4,dt.datetime.strptime(\"18.01.2000\",\"%d.%m.%Y\")))\n",
    "\n",
    "result=connection.execute(ins)\n",
    "result.inserted_primary_key"
   ]
  },
  {
   "cell_type": "code",
   "execution_count": 17,
   "metadata": {},
   "outputs": [
    {
     "data": {
      "text/plain": [
       "[75]"
      ]
     },
     "execution_count": 17,
     "metadata": {},
     "output_type": "execute_result"
    }
   ],
   "source": [
    "ins=insert(exam_marks).values(\n",
    "    (75,55,10,5,dt.datetime.strptime(\"05.01.2000\",\"%d.%m.%Y\")))\n",
    "\n",
    "result=connection.execute(ins)\n",
    "result.inserted_primary_key"
   ]
  },
  {
   "cell_type": "markdown",
   "metadata": {},
   "source": [
    "2. Множественная вставка<br>\n",
    "2.1. Вставка из датафрейма"
   ]
  },
  {
   "cell_type": "code",
   "execution_count": 18,
   "metadata": {
    "scrolled": false
   },
   "outputs": [
    {
     "data": {
      "text/html": [
       "<div>\n",
       "<style scoped>\n",
       "    .dataframe tbody tr th:only-of-type {\n",
       "        vertical-align: middle;\n",
       "    }\n",
       "\n",
       "    .dataframe tbody tr th {\n",
       "        vertical-align: top;\n",
       "    }\n",
       "\n",
       "    .dataframe thead th {\n",
       "        text-align: right;\n",
       "    }\n",
       "</style>\n",
       "<table border=\"1\" class=\"dataframe\">\n",
       "  <thead>\n",
       "    <tr style=\"text-align: right;\">\n",
       "      <th></th>\n",
       "      <th>STUDENT_ID</th>\n",
       "      <th>SURNAME</th>\n",
       "      <th>NAME</th>\n",
       "      <th>STIPEND</th>\n",
       "      <th>KURS</th>\n",
       "      <th>CITY</th>\n",
       "      <th>BIRTHDAY</th>\n",
       "      <th>UNIV_ID</th>\n",
       "    </tr>\n",
       "  </thead>\n",
       "  <tbody>\n",
       "    <tr>\n",
       "      <th>0</th>\n",
       "      <td>1</td>\n",
       "      <td>Иванов</td>\n",
       "      <td>Иван</td>\n",
       "      <td>150</td>\n",
       "      <td>1</td>\n",
       "      <td>Орел</td>\n",
       "      <td>1982-12-03</td>\n",
       "      <td>10</td>\n",
       "    </tr>\n",
       "    <tr>\n",
       "      <th>1</th>\n",
       "      <td>3</td>\n",
       "      <td>Петров</td>\n",
       "      <td>Петр</td>\n",
       "      <td>200</td>\n",
       "      <td>3</td>\n",
       "      <td>Курск</td>\n",
       "      <td>1980-12-01</td>\n",
       "      <td>10</td>\n",
       "    </tr>\n",
       "    <tr>\n",
       "      <th>2</th>\n",
       "      <td>6</td>\n",
       "      <td>Сидоров</td>\n",
       "      <td>Вадим</td>\n",
       "      <td>150</td>\n",
       "      <td>4</td>\n",
       "      <td>Москва</td>\n",
       "      <td>1979-06-07</td>\n",
       "      <td>22</td>\n",
       "    </tr>\n",
       "    <tr>\n",
       "      <th>3</th>\n",
       "      <td>10</td>\n",
       "      <td>Кузнецов</td>\n",
       "      <td>Борис</td>\n",
       "      <td>0</td>\n",
       "      <td>2</td>\n",
       "      <td>Брянск</td>\n",
       "      <td>1981-12-08</td>\n",
       "      <td>10</td>\n",
       "    </tr>\n",
       "    <tr>\n",
       "      <th>4</th>\n",
       "      <td>12</td>\n",
       "      <td>Зайцева</td>\n",
       "      <td>Ольга</td>\n",
       "      <td>250</td>\n",
       "      <td>2</td>\n",
       "      <td>Липецк</td>\n",
       "      <td>1981-05-01</td>\n",
       "      <td>10</td>\n",
       "    </tr>\n",
       "    <tr>\n",
       "      <th>5</th>\n",
       "      <td>32</td>\n",
       "      <td>Котов</td>\n",
       "      <td>Павел</td>\n",
       "      <td>150</td>\n",
       "      <td>5</td>\n",
       "      <td>Белгород</td>\n",
       "      <td>NaN</td>\n",
       "      <td>14</td>\n",
       "    </tr>\n",
       "    <tr>\n",
       "      <th>6</th>\n",
       "      <td>55</td>\n",
       "      <td>Белкин</td>\n",
       "      <td>Вадим</td>\n",
       "      <td>250</td>\n",
       "      <td>5</td>\n",
       "      <td>Воронеж</td>\n",
       "      <td>1980-01-07</td>\n",
       "      <td>10</td>\n",
       "    </tr>\n",
       "    <tr>\n",
       "      <th>7</th>\n",
       "      <td>265</td>\n",
       "      <td>Павлов</td>\n",
       "      <td>Андрей</td>\n",
       "      <td>0</td>\n",
       "      <td>3</td>\n",
       "      <td>Воронеж</td>\n",
       "      <td>1979-11-05</td>\n",
       "      <td>10</td>\n",
       "    </tr>\n",
       "    <tr>\n",
       "      <th>8</th>\n",
       "      <td>276</td>\n",
       "      <td>Петров</td>\n",
       "      <td>Антон</td>\n",
       "      <td>200</td>\n",
       "      <td>4</td>\n",
       "      <td>NaN</td>\n",
       "      <td>1981-08-05</td>\n",
       "      <td>22</td>\n",
       "    </tr>\n",
       "    <tr>\n",
       "      <th>9</th>\n",
       "      <td>654</td>\n",
       "      <td>Лукин</td>\n",
       "      <td>Артем</td>\n",
       "      <td>200</td>\n",
       "      <td>3</td>\n",
       "      <td>Воронеж</td>\n",
       "      <td>1981-12-01</td>\n",
       "      <td>10</td>\n",
       "    </tr>\n",
       "  </tbody>\n",
       "</table>\n",
       "</div>"
      ],
      "text/plain": [
       "   STUDENT_ID   SURNAME    NAME  STIPEND  KURS      CITY    BIRTHDAY  UNIV_ID\n",
       "0           1    Иванов    Иван      150     1      Орел  1982-12-03       10\n",
       "1           3    Петров    Петр      200     3     Курск  1980-12-01       10\n",
       "2           6   Сидоров   Вадим      150     4    Москва  1979-06-07       22\n",
       "3          10  Кузнецов   Борис        0     2    Брянск  1981-12-08       10\n",
       "4          12   Зайцева   Ольга      250     2    Липецк  1981-05-01       10\n",
       "5          32     Котов   Павел      150     5  Белгород         NaN       14\n",
       "6          55    Белкин   Вадим      250     5   Воронеж  1980-01-07       10\n",
       "7         265    Павлов  Андрей        0     3   Воронеж  1979-11-05       10\n",
       "8         276    Петров   Антон      200     4       NaN  1981-08-05       22\n",
       "9         654     Лукин   Артем      200     3   Воронеж  1981-12-01       10"
      ]
     },
     "execution_count": 18,
     "metadata": {},
     "output_type": "execute_result"
    }
   ],
   "source": [
    "st=pd.read_csv('./Data/BD_Primer_Student.csv',sep=';',encoding='cp1251')\n",
    "st"
   ]
  },
  {
   "cell_type": "code",
   "execution_count": 19,
   "metadata": {},
   "outputs": [
    {
     "name": "stdout",
     "output_type": "stream",
     "text": [
      "<class 'pandas.core.frame.DataFrame'>\n",
      "RangeIndex: 10 entries, 0 to 9\n",
      "Data columns (total 8 columns):\n",
      " #   Column      Non-Null Count  Dtype \n",
      "---  ------      --------------  ----- \n",
      " 0   STUDENT_ID  10 non-null     int64 \n",
      " 1   SURNAME     10 non-null     object\n",
      " 2   NAME        10 non-null     object\n",
      " 3   STIPEND     10 non-null     int64 \n",
      " 4   KURS        10 non-null     int64 \n",
      " 5   CITY        9 non-null      object\n",
      " 6   BIRTHDAY    9 non-null      object\n",
      " 7   UNIV_ID     10 non-null     int64 \n",
      "dtypes: int64(4), object(4)\n",
      "memory usage: 768.0+ bytes\n"
     ]
    }
   ],
   "source": [
    "st.info()"
   ]
  },
  {
   "cell_type": "code",
   "execution_count": 20,
   "metadata": {},
   "outputs": [
    {
     "data": {
      "text/plain": [
       "array([[1, 'Иванов', 'Иван', 150, 1, 'Орел', '1982-12-03', 10],\n",
       "       [3, 'Петров', 'Петр', 200, 3, 'Курск', '1980-12-01', 10],\n",
       "       [6, 'Сидоров', 'Вадим', 150, 4, 'Москва', '1979-06-07', 22],\n",
       "       [10, 'Кузнецов', 'Борис', 0, 2, 'Брянск', '1981-12-08', 10],\n",
       "       [12, 'Зайцева', 'Ольга', 250, 2, 'Липецк', '1981-05-01', 10],\n",
       "       [32, 'Котов', 'Павел', 150, 5, 'Белгород', nan, 14],\n",
       "       [55, 'Белкин', 'Вадим', 250, 5, 'Воронеж', '1980-01-07', 10],\n",
       "       [265, 'Павлов', 'Андрей', 0, 3, 'Воронеж', '1979-11-05', 10],\n",
       "       [276, 'Петров', 'Антон', 200, 4, nan, '1981-08-05', 22],\n",
       "       [654, 'Лукин', 'Артем', 200, 3, 'Воронеж', '1981-12-01', 10]],\n",
       "      dtype=object)"
      ]
     },
     "execution_count": 20,
     "metadata": {},
     "output_type": "execute_result"
    }
   ],
   "source": [
    "st.values"
   ]
  },
  {
   "cell_type": "code",
   "execution_count": 21,
   "metadata": {},
   "outputs": [
    {
     "data": {
      "text/plain": [
       "[{'student_id': 1,\n",
       "  'surname': 'Иванов',\n",
       "  'name': 'Иван',\n",
       "  'stipend': 150,\n",
       "  'kurs': 1,\n",
       "  'city': 'Орел',\n",
       "  'birthday': datetime.datetime(1982, 12, 3, 0, 0),\n",
       "  'univ_id': 10},\n",
       " {'student_id': 3,\n",
       "  'surname': 'Петров',\n",
       "  'name': 'Петр',\n",
       "  'stipend': 200,\n",
       "  'kurs': 3,\n",
       "  'city': 'Курск',\n",
       "  'birthday': datetime.datetime(1980, 12, 1, 0, 0),\n",
       "  'univ_id': 10},\n",
       " {'student_id': 6,\n",
       "  'surname': 'Сидоров',\n",
       "  'name': 'Вадим',\n",
       "  'stipend': 150,\n",
       "  'kurs': 4,\n",
       "  'city': 'Москва',\n",
       "  'birthday': datetime.datetime(1979, 6, 7, 0, 0),\n",
       "  'univ_id': 22},\n",
       " {'student_id': 10,\n",
       "  'surname': 'Кузнецов',\n",
       "  'name': 'Борис',\n",
       "  'stipend': 0,\n",
       "  'kurs': 2,\n",
       "  'city': 'Брянск',\n",
       "  'birthday': datetime.datetime(1981, 12, 8, 0, 0),\n",
       "  'univ_id': 10},\n",
       " {'student_id': 12,\n",
       "  'surname': 'Зайцева',\n",
       "  'name': 'Ольга',\n",
       "  'stipend': 250,\n",
       "  'kurs': 2,\n",
       "  'city': 'Липецк',\n",
       "  'birthday': datetime.datetime(1981, 5, 1, 0, 0),\n",
       "  'univ_id': 10},\n",
       " {'student_id': 32,\n",
       "  'surname': 'Котов',\n",
       "  'name': 'Павел',\n",
       "  'stipend': 150,\n",
       "  'kurs': 5,\n",
       "  'city': 'Белгород',\n",
       "  'birthday': datetime.date(2021, 2, 28),\n",
       "  'univ_id': 14},\n",
       " {'student_id': 55,\n",
       "  'surname': 'Белкин',\n",
       "  'name': 'Вадим',\n",
       "  'stipend': 250,\n",
       "  'kurs': 5,\n",
       "  'city': 'Воронеж',\n",
       "  'birthday': datetime.datetime(1980, 1, 7, 0, 0),\n",
       "  'univ_id': 10},\n",
       " {'student_id': 265,\n",
       "  'surname': 'Павлов',\n",
       "  'name': 'Андрей',\n",
       "  'stipend': 0,\n",
       "  'kurs': 3,\n",
       "  'city': 'Воронеж',\n",
       "  'birthday': datetime.datetime(1979, 11, 5, 0, 0),\n",
       "  'univ_id': 10},\n",
       " {'student_id': 276,\n",
       "  'surname': 'Петров',\n",
       "  'name': 'Антон',\n",
       "  'stipend': 200,\n",
       "  'kurs': 4,\n",
       "  'city': nan,\n",
       "  'birthday': datetime.datetime(1981, 8, 5, 0, 0),\n",
       "  'univ_id': 22},\n",
       " {'student_id': 654,\n",
       "  'surname': 'Лукин',\n",
       "  'name': 'Артем',\n",
       "  'stipend': 200,\n",
       "  'kurs': 3,\n",
       "  'city': 'Воронеж',\n",
       "  'birthday': datetime.datetime(1981, 12, 1, 0, 0),\n",
       "  'univ_id': 10}]"
      ]
     },
     "execution_count": 21,
     "metadata": {},
     "output_type": "execute_result"
    }
   ],
   "source": [
    "st_list=[]\n",
    "for row in st.values:\n",
    "    tmp={'student_id':row[0],\n",
    "        'surname':row[1],\n",
    "        'name':row[2],\n",
    "        'stipend':row[3],\n",
    "        'kurs':row[4],\n",
    "        'city':row[5],\n",
    "        'birthday': dt.datetime.strptime(row[6],'%Y-%m-%d') if type(row[6])==str else dt.date.today(),\n",
    "        'univ_id':row[7]}\n",
    "    st_list.append(tmp)\n",
    "st_list"
   ]
  },
  {
   "cell_type": "code",
   "execution_count": 22,
   "metadata": {},
   "outputs": [],
   "source": [
    "ins=student.insert()\n",
    "result=connection.execute(ins, st_list)"
   ]
  },
  {
   "cell_type": "code",
   "execution_count": 23,
   "metadata": {
    "scrolled": true
   },
   "outputs": [
    {
     "data": {
      "text/html": [
       "<div>\n",
       "<style scoped>\n",
       "    .dataframe tbody tr th:only-of-type {\n",
       "        vertical-align: middle;\n",
       "    }\n",
       "\n",
       "    .dataframe tbody tr th {\n",
       "        vertical-align: top;\n",
       "    }\n",
       "\n",
       "    .dataframe thead th {\n",
       "        text-align: right;\n",
       "    }\n",
       "</style>\n",
       "<table border=\"1\" class=\"dataframe\">\n",
       "  <thead>\n",
       "    <tr style=\"text-align: right;\">\n",
       "      <th></th>\n",
       "      <th>LECTURER_ID</th>\n",
       "      <th>SURNAME</th>\n",
       "      <th>NAME</th>\n",
       "      <th>CITY</th>\n",
       "      <th>UNIV_ID</th>\n",
       "    </tr>\n",
       "  </thead>\n",
       "  <tbody>\n",
       "    <tr>\n",
       "      <th>0</th>\n",
       "      <td>24</td>\n",
       "      <td>Колесников</td>\n",
       "      <td>Борис</td>\n",
       "      <td>Воронеж</td>\n",
       "      <td>10</td>\n",
       "    </tr>\n",
       "    <tr>\n",
       "      <th>1</th>\n",
       "      <td>46</td>\n",
       "      <td>Никонов</td>\n",
       "      <td>Иван</td>\n",
       "      <td>Воронеж</td>\n",
       "      <td>10</td>\n",
       "    </tr>\n",
       "    <tr>\n",
       "      <th>2</th>\n",
       "      <td>74</td>\n",
       "      <td>Лагутин</td>\n",
       "      <td>Павел</td>\n",
       "      <td>Москва</td>\n",
       "      <td>22</td>\n",
       "    </tr>\n",
       "    <tr>\n",
       "      <th>3</th>\n",
       "      <td>108</td>\n",
       "      <td>Струков</td>\n",
       "      <td>Николай</td>\n",
       "      <td>Москва</td>\n",
       "      <td>22</td>\n",
       "    </tr>\n",
       "    <tr>\n",
       "      <th>4</th>\n",
       "      <td>276</td>\n",
       "      <td>Николаев</td>\n",
       "      <td>Виктор</td>\n",
       "      <td>Воронеж</td>\n",
       "      <td>10</td>\n",
       "    </tr>\n",
       "    <tr>\n",
       "      <th>5</th>\n",
       "      <td>328</td>\n",
       "      <td>Сорокин</td>\n",
       "      <td>Андрей</td>\n",
       "      <td>Орел</td>\n",
       "      <td>10</td>\n",
       "    </tr>\n",
       "  </tbody>\n",
       "</table>\n",
       "</div>"
      ],
      "text/plain": [
       "   LECTURER_ID     SURNAME     NAME     CITY  UNIV_ID\n",
       "0           24  Колесников    Борис  Воронеж       10\n",
       "1           46     Никонов     Иван  Воронеж       10\n",
       "2           74     Лагутин    Павел   Москва       22\n",
       "3          108     Струков  Николай   Москва       22\n",
       "4          276    Николаев   Виктор  Воронеж       10\n",
       "5          328     Сорокин   Андрей     Орел       10"
      ]
     },
     "execution_count": 23,
     "metadata": {},
     "output_type": "execute_result"
    }
   ],
   "source": [
    "lec=pd.read_csv('./Data/BD_primer_Lecturer.csv',sep=';',encoding='cp1251')\n",
    "lec"
   ]
  },
  {
   "cell_type": "code",
   "execution_count": 24,
   "metadata": {},
   "outputs": [],
   "source": [
    "lec_list=[]\n",
    "for item in lec.values:\n",
    "    tmp={'lecturer_id':item[0],\n",
    "        'surname':item[1],\n",
    "        'name':item[2],\n",
    "        'city':item[3],\n",
    "        'univ_id':item[4]}\n",
    "    lec_list.append(tmp)"
   ]
  },
  {
   "cell_type": "code",
   "execution_count": 25,
   "metadata": {},
   "outputs": [],
   "source": [
    "ins=lecturer.insert()\n",
    "result=connection.execute(ins, lec_list)"
   ]
  },
  {
   "cell_type": "markdown",
   "metadata": {},
   "source": [
    "2.2. Вставка из кортежей, сформированных \"вручную\"."
   ]
  },
  {
   "cell_type": "code",
   "execution_count": 26,
   "metadata": {},
   "outputs": [],
   "source": [
    "subject_list = [\n",
    "    (10, 'Информатика', 56, 1),\n",
    "    (22, 'Физика', 34, 1),\n",
    "    (43, 'Математика', 56, 2),\n",
    "    (56, 'История', 34, 4),\n",
    "    (73, 'Физкультура', 34, 5),\n",
    "    (94, 'Английский', 56, 3)\n",
    "]\n",
    "\n",
    "university_list = [\n",
    "    (10, 'ВГУ', 296, 'Воронеж'),\n",
    "    (11, 'НГУ', 345, 'Новосибирск'),\n",
    "    (14, 'БГУ', 326, 'Белгород'),\n",
    "    (15, 'ТГУ', 368, 'Томск'),\n",
    "    (18, 'ВГМА', 327, 'Воронеж'),\n",
    "    (22, 'МГУ', 606, 'Москва'),\n",
    "    (32, 'РГУ', 416, 'Ростов')\n",
    "]\n",
    "\n"
   ]
  },
  {
   "cell_type": "code",
   "execution_count": 27,
   "metadata": {},
   "outputs": [],
   "source": [
    "def insert_values(table, values_list):\n",
    "    for value in values_list:\n",
    "        ins = table.insert().values(value)\n",
    "        connection.execute(ins)"
   ]
  },
  {
   "cell_type": "code",
   "execution_count": 28,
   "metadata": {},
   "outputs": [],
   "source": [
    "insert_values(university, university_list)\n",
    "insert_values(subject, subject_list)"
   ]
  }
 ],
 "metadata": {
  "kernelspec": {
   "display_name": "Python 3",
   "language": "python",
   "name": "python3"
  },
  "language_info": {
   "codemirror_mode": {
    "name": "ipython",
    "version": 3
   },
   "file_extension": ".py",
   "mimetype": "text/x-python",
   "name": "python",
   "nbconvert_exporter": "python",
   "pygments_lexer": "ipython3",
   "version": "3.7.6"
  }
 },
 "nbformat": 4,
 "nbformat_minor": 4
}
